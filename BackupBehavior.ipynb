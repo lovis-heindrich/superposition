{
 "cells": [
  {
   "attachments": {},
   "cell_type": "markdown",
   "metadata": {},
   "source": [
    "## Setup"
   ]
  },
  {
   "cell_type": "code",
   "execution_count": 85,
   "metadata": {},
   "outputs": [],
   "source": [
    "import torch\n",
    "import numpy as np\n",
    "from torch import einsum\n",
    "from tqdm.auto import tqdm\n",
    "import seaborn as sns\n",
    "from transformer_lens import HookedTransformer, ActivationCache\n",
    "from datasets import load_dataset\n",
    "from einops import einsum\n",
    "import pandas as pd\n",
    "from transformer_lens import utils\n",
    "from rich.table import Table, Column\n",
    "from rich import print as rprint\n",
    "from jaxtyping import Float, Int, Bool\n",
    "from torch import Tensor\n",
    "import einops\n",
    "import functools\n",
    "from transformer_lens.hook_points import HookPoint\n",
    "import circuitsvis\n",
    "from IPython.display import HTML\n",
    "from plotly.express import line\n",
    "import plotly.express as px\n",
    "\n",
    "# Plotly needs a different renderer for VSCode/Notebooks vs Colab argh\n",
    "import plotly.io as pio\n",
    "pio.renderers.default = \"notebook_connected\""
   ]
  },
  {
   "cell_type": "code",
   "execution_count": 86,
   "metadata": {},
   "outputs": [],
   "source": [
    "device = \"cuda\" if torch.cuda.is_available() else \"cpu\""
   ]
  },
  {
   "cell_type": "code",
   "execution_count": 87,
   "metadata": {},
   "outputs": [
    {
     "name": "stderr",
     "output_type": "stream",
     "text": [
      "Using pad_token, but it is not set yet.\n"
     ]
    },
    {
     "name": "stdout",
     "output_type": "stream",
     "text": [
      "Loaded pretrained model gpt2-small into HookedTransformer\n"
     ]
    }
   ],
   "source": [
    "model = HookedTransformer.from_pretrained(\n",
    "    \"gpt2-small\",\n",
    "    center_unembed=True,\n",
    "    center_writing_weights=True,\n",
    "    fold_ln=True,\n",
    ")"
   ]
  },
  {
   "cell_type": "code",
   "execution_count": 88,
   "metadata": {},
   "outputs": [
    {
     "name": "stdout",
     "output_type": "stream",
     "text": [
      "Tokenized prompt: ['<|endoftext|>', 'After', ' John', ' and', ' Mary', ' went', ' to', ' the', ' store', ',', ' John', ' gave', ' a', ' bottle', ' of', ' milk', ' to']\n",
      "Tokenized answer: [' Mary']\n"
     ]
    },
    {
     "data": {
      "text/html": [
       "<pre style=\"white-space:pre;overflow-x:auto;line-height:normal;font-family:Menlo,'DejaVu Sans Mono',consolas,'Courier New',monospace\">Performance on answer token:\n",
       "<span style=\"font-weight: bold\">Rank: </span><span style=\"color: #008080; text-decoration-color: #008080; font-weight: bold\">0</span><span style=\"font-weight: bold\">        Logit: </span><span style=\"color: #008080; text-decoration-color: #008080; font-weight: bold\">18.09</span><span style=\"font-weight: bold\"> Prob: </span><span style=\"color: #008080; text-decoration-color: #008080; font-weight: bold\">70.07</span><span style=\"font-weight: bold\">% Token: | Mary|</span>\n",
       "</pre>\n"
      ],
      "text/plain": [
       "Performance on answer token:\n",
       "\u001b[1mRank: \u001b[0m\u001b[1;36m0\u001b[0m\u001b[1m        Logit: \u001b[0m\u001b[1;36m18.09\u001b[0m\u001b[1m Prob: \u001b[0m\u001b[1;36m70.07\u001b[0m\u001b[1m% Token: | Mary|\u001b[0m\n"
      ]
     },
     "metadata": {},
     "output_type": "display_data"
    },
    {
     "name": "stdout",
     "output_type": "stream",
     "text": [
      "Top 0th token. Logit: 18.09 Prob: 70.07% Token: | Mary|\n",
      "Top 1th token. Logit: 15.38 Prob:  4.67% Token: | the|\n",
      "Top 2th token. Logit: 15.35 Prob:  4.54% Token: | John|\n",
      "Top 3th token. Logit: 15.25 Prob:  4.11% Token: | them|\n",
      "Top 4th token. Logit: 14.84 Prob:  2.73% Token: | his|\n",
      "Top 5th token. Logit: 14.06 Prob:  1.24% Token: | her|\n",
      "Top 6th token. Logit: 13.54 Prob:  0.74% Token: | a|\n",
      "Top 7th token. Logit: 13.52 Prob:  0.73% Token: | their|\n",
      "Top 8th token. Logit: 13.13 Prob:  0.49% Token: | Jesus|\n",
      "Top 9th token. Logit: 12.97 Prob:  0.42% Token: | him|\n"
     ]
    },
    {
     "data": {
      "text/html": [
       "<pre style=\"white-space:pre;overflow-x:auto;line-height:normal;font-family:Menlo,'DejaVu Sans Mono',consolas,'Courier New',monospace\"><span style=\"font-weight: bold\">Ranks of the answer tokens:</span> <span style=\"font-weight: bold\">[(</span><span style=\"color: #008000; text-decoration-color: #008000\">' Mary'</span>, <span style=\"color: #008080; text-decoration-color: #008080; font-weight: bold\">0</span><span style=\"font-weight: bold\">)]</span>\n",
       "</pre>\n"
      ],
      "text/plain": [
       "\u001b[1mRanks of the answer tokens:\u001b[0m \u001b[1m[\u001b[0m\u001b[1m(\u001b[0m\u001b[32m' Mary'\u001b[0m, \u001b[1;36m0\u001b[0m\u001b[1m)\u001b[0m\u001b[1m]\u001b[0m\n"
      ]
     },
     "metadata": {},
     "output_type": "display_data"
    }
   ],
   "source": [
    "# Initial task accuracy\n",
    "example_prompt = \"After John and Mary went to the store, John gave a bottle of milk to\"\n",
    "example_answer = \" Mary\"\n",
    "utils.test_prompt(example_prompt, example_answer, model, prepend_bos=True)"
   ]
  },
  {
   "attachments": {},
   "cell_type": "markdown",
   "metadata": {},
   "source": [
    "## Prompt Generation"
   ]
  },
  {
   "cell_type": "code",
   "execution_count": 89,
   "metadata": {},
   "outputs": [],
   "source": [
    "prompt_format = [\n",
    "    \"When John and Mary went to the shops,{} gave the bag to\",\n",
    "    \"When Tom and James went to the park,{} gave the ball to\",\n",
    "    \"When Dan and Sid went to the shops,{} gave an apple to\",\n",
    "    \"After Martin and Amy went to the park,{} gave a drink to\",\n",
    "    \"After Sam and Matt went to the park,{} gave a drink to\",\n",
    "    \"After Adam and Miles went to the park,{} gave a drink to\",\n",
    "    \"After Oscar and William went to the park,{} gave a drink to\",\n",
    "    \"After Sally and Kate went to the park,{} gave a drink to\",\n",
    "    \"After Karen and Lisa went to the park,{} gave a drink to\",\n",
    "    \"After Emily and Laura went to the park,{} gave a drink to\",\n",
    "    \"After Jacob and Cam went to the park,{} gave a drink to\",\n",
    "]\n",
    "name_pairs = [\n",
    "    (\" John\", \" Mary\"),\n",
    "    (\" Tom\", \" James\"),\n",
    "    (\" Dan\", \" Sid\"),\n",
    "    (\" Martin\", \" Amy\"),\n",
    "    (\" Sam\", \" Matt\"),\n",
    "    (\" Adam\", \" Miles\"),\n",
    "    (\" Oscar\", \" William\"),\n",
    "    (\" Sally\", \" Kate\"),\n",
    "    (\" Karen\", \" Lisa\"),\n",
    "    (\" Emily\", \" Laura\"),\n",
    "    (\" Jacob\", \" Cam\"),\n",
    "]\n",
    "\n",
    "# Define 8 prompts, in 4 groups of 2 (with adjacent prompts having answers swapped)\n",
    "prompts = [\n",
    "    prompt.format(name) \n",
    "    for (prompt, names) in zip(prompt_format, name_pairs) for name in names[::-1] \n",
    "]\n",
    "# Define the answers for each prompt, in the form (correct, incorrect)\n",
    "answers = [names[::i] for names in name_pairs for i in (1, -1)]\n",
    "# Define the answer tokens (same shape as the answers)\n",
    "answer_tokens = torch.concat([\n",
    "    model.to_tokens(names, prepend_bos=False).T for names in answers\n",
    "])\n",
    "\n",
    "# print(prompts)\n",
    "# print(answers)\n",
    "# print(answer_tokens)"
   ]
  },
  {
   "cell_type": "code",
   "execution_count": 90,
   "metadata": {},
   "outputs": [
    {
     "data": {
      "text/html": [
       "<pre style=\"white-space:pre;overflow-x:auto;line-height:normal;font-family:Menlo,'DejaVu Sans Mono',consolas,'Courier New',monospace\"><span style=\"font-style: italic\">                                                Prompts &amp; Answers:                                                 </span>\n",
       "┏━━━━━━━━━━━━━━━━━━━━━━━━━━━━━━━━━━━━━━━━━━━━━━━━━━━━━━━━━━━━━━━━━━━┳━━━━━━━━━━━━┳━━━━━━━━━━━━┳━━━━━━━━━┳━━━━━━━━━┓\n",
       "┃<span style=\"font-weight: bold\"> Prompt                                                            </span>┃<span style=\"font-weight: bold\"> Correct    </span>┃<span style=\"font-weight: bold\"> Incorrect  </span>┃<span style=\"font-weight: bold\"> Token 1 </span>┃<span style=\"font-weight: bold\"> Token 2 </span>┃\n",
       "┡━━━━━━━━━━━━━━━━━━━━━━━━━━━━━━━━━━━━━━━━━━━━━━━━━━━━━━━━━━━━━━━━━━━╇━━━━━━━━━━━━╇━━━━━━━━━━━━╇━━━━━━━━━╇━━━━━━━━━┩\n",
       "│ When John and Mary went to the shops, Mary gave the bag to        │ ' John'    │ ' Mary'    │ 1757    │ 5335    │\n",
       "│ When John and Mary went to the shops, John gave the bag to        │ ' Mary'    │ ' John'    │ 5335    │ 1757    │\n",
       "│ When Tom and James went to the park, James gave the ball to       │ ' Tom'     │ ' James'   │ 4186    │ 3700    │\n",
       "│ When Tom and James went to the park, Tom gave the ball to         │ ' James'   │ ' Tom'     │ 3700    │ 4186    │\n",
       "│ When Dan and Sid went to the shops, Sid gave an apple to          │ ' Dan'     │ ' Sid'     │ 6035    │ 15686   │\n",
       "│ When Dan and Sid went to the shops, Dan gave an apple to          │ ' Sid'     │ ' Dan'     │ 15686   │ 6035    │\n",
       "│ After Martin and Amy went to the park, Amy gave a drink to        │ ' Martin'  │ ' Amy'     │ 5780    │ 14235   │\n",
       "│ After Martin and Amy went to the park, Martin gave a drink to     │ ' Amy'     │ ' Martin'  │ 14235   │ 5780    │\n",
       "│ After Sam and Matt went to the park, Matt gave a drink to         │ ' Sam'     │ ' Matt'    │ 3409    │ 4705    │\n",
       "│ After Sam and Matt went to the park, Sam gave a drink to          │ ' Matt'    │ ' Sam'     │ 4705    │ 3409    │\n",
       "│ After Adam and Miles went to the park, Miles gave a drink to      │ ' Adam'    │ ' Miles'   │ 7244    │ 20404   │\n",
       "│ After Adam and Miles went to the park, Adam gave a drink to       │ ' Miles'   │ ' Adam'    │ 20404   │ 7244    │\n",
       "│ After Oscar and William went to the park, William gave a drink to │ ' Oscar'   │ ' William' │ 15694   │ 3977    │\n",
       "│ After Oscar and William went to the park, Oscar gave a drink to   │ ' William' │ ' Oscar'   │ 3977    │ 15694   │\n",
       "│ After Sally and Kate went to the park, Kate gave a drink to       │ ' Sally'   │ ' Kate'    │ 25737   │ 16693   │\n",
       "│ After Sally and Kate went to the park, Sally gave a drink to      │ ' Kate'    │ ' Sally'   │ 16693   │ 25737   │\n",
       "│ After Karen and Lisa went to the park, Lisa gave a drink to       │ ' Karen'   │ ' Lisa'    │ 18678   │ 15378   │\n",
       "│ After Karen and Lisa went to the park, Karen gave a drink to      │ ' Lisa'    │ ' Karen'   │ 15378   │ 18678   │\n",
       "│ After Emily and Laura went to the park, Laura gave a drink to     │ ' Emily'   │ ' Laura'   │ 17608   │ 16753   │\n",
       "│ After Emily and Laura went to the park, Emily gave a drink to     │ ' Laura'   │ ' Emily'   │ 16753   │ 17608   │\n",
       "│ After Jacob and Cam went to the park, Cam gave a drink to         │ ' Jacob'   │ ' Cam'     │ 12806   │ 7298    │\n",
       "│ After Jacob and Cam went to the park, Jacob gave a drink to       │ ' Cam'     │ ' Jacob'   │ 7298    │ 12806   │\n",
       "└───────────────────────────────────────────────────────────────────┴────────────┴────────────┴─────────┴─────────┘\n",
       "</pre>\n"
      ],
      "text/plain": [
       "\u001b[3m                                                Prompts & Answers:                                                 \u001b[0m\n",
       "┏━━━━━━━━━━━━━━━━━━━━━━━━━━━━━━━━━━━━━━━━━━━━━━━━━━━━━━━━━━━━━━━━━━━┳━━━━━━━━━━━━┳━━━━━━━━━━━━┳━━━━━━━━━┳━━━━━━━━━┓\n",
       "┃\u001b[1m \u001b[0m\u001b[1mPrompt                                                           \u001b[0m\u001b[1m \u001b[0m┃\u001b[1m \u001b[0m\u001b[1mCorrect   \u001b[0m\u001b[1m \u001b[0m┃\u001b[1m \u001b[0m\u001b[1mIncorrect \u001b[0m\u001b[1m \u001b[0m┃\u001b[1m \u001b[0m\u001b[1mToken 1\u001b[0m\u001b[1m \u001b[0m┃\u001b[1m \u001b[0m\u001b[1mToken 2\u001b[0m\u001b[1m \u001b[0m┃\n",
       "┡━━━━━━━━━━━━━━━━━━━━━━━━━━━━━━━━━━━━━━━━━━━━━━━━━━━━━━━━━━━━━━━━━━━╇━━━━━━━━━━━━╇━━━━━━━━━━━━╇━━━━━━━━━╇━━━━━━━━━┩\n",
       "│ When John and Mary went to the shops, Mary gave the bag to        │ ' John'    │ ' Mary'    │ 1757    │ 5335    │\n",
       "│ When John and Mary went to the shops, John gave the bag to        │ ' Mary'    │ ' John'    │ 5335    │ 1757    │\n",
       "│ When Tom and James went to the park, James gave the ball to       │ ' Tom'     │ ' James'   │ 4186    │ 3700    │\n",
       "│ When Tom and James went to the park, Tom gave the ball to         │ ' James'   │ ' Tom'     │ 3700    │ 4186    │\n",
       "│ When Dan and Sid went to the shops, Sid gave an apple to          │ ' Dan'     │ ' Sid'     │ 6035    │ 15686   │\n",
       "│ When Dan and Sid went to the shops, Dan gave an apple to          │ ' Sid'     │ ' Dan'     │ 15686   │ 6035    │\n",
       "│ After Martin and Amy went to the park, Amy gave a drink to        │ ' Martin'  │ ' Amy'     │ 5780    │ 14235   │\n",
       "│ After Martin and Amy went to the park, Martin gave a drink to     │ ' Amy'     │ ' Martin'  │ 14235   │ 5780    │\n",
       "│ After Sam and Matt went to the park, Matt gave a drink to         │ ' Sam'     │ ' Matt'    │ 3409    │ 4705    │\n",
       "│ After Sam and Matt went to the park, Sam gave a drink to          │ ' Matt'    │ ' Sam'     │ 4705    │ 3409    │\n",
       "│ After Adam and Miles went to the park, Miles gave a drink to      │ ' Adam'    │ ' Miles'   │ 7244    │ 20404   │\n",
       "│ After Adam and Miles went to the park, Adam gave a drink to       │ ' Miles'   │ ' Adam'    │ 20404   │ 7244    │\n",
       "│ After Oscar and William went to the park, William gave a drink to │ ' Oscar'   │ ' William' │ 15694   │ 3977    │\n",
       "│ After Oscar and William went to the park, Oscar gave a drink to   │ ' William' │ ' Oscar'   │ 3977    │ 15694   │\n",
       "│ After Sally and Kate went to the park, Kate gave a drink to       │ ' Sally'   │ ' Kate'    │ 25737   │ 16693   │\n",
       "│ After Sally and Kate went to the park, Sally gave a drink to      │ ' Kate'    │ ' Sally'   │ 16693   │ 25737   │\n",
       "│ After Karen and Lisa went to the park, Lisa gave a drink to       │ ' Karen'   │ ' Lisa'    │ 18678   │ 15378   │\n",
       "│ After Karen and Lisa went to the park, Karen gave a drink to      │ ' Lisa'    │ ' Karen'   │ 15378   │ 18678   │\n",
       "│ After Emily and Laura went to the park, Laura gave a drink to     │ ' Emily'   │ ' Laura'   │ 17608   │ 16753   │\n",
       "│ After Emily and Laura went to the park, Emily gave a drink to     │ ' Laura'   │ ' Emily'   │ 16753   │ 17608   │\n",
       "│ After Jacob and Cam went to the park, Cam gave a drink to         │ ' Jacob'   │ ' Cam'     │ 12806   │ 7298    │\n",
       "│ After Jacob and Cam went to the park, Jacob gave a drink to       │ ' Cam'     │ ' Jacob'   │ 7298    │ 12806   │\n",
       "└───────────────────────────────────────────────────────────────────┴────────────┴────────────┴─────────┴─────────┘\n"
      ]
     },
     "metadata": {},
     "output_type": "display_data"
    }
   ],
   "source": [
    "table = Table(\"Prompt\", \"Correct\", \"Incorrect\", \"Token 1\", \"Token 2\", title=\"Prompts & Answers:\")\n",
    "\n",
    "for prompt, answer, token in zip(prompts, answers, answer_tokens.tolist()):\n",
    "    table.add_row(prompt, repr(answer[0]), repr(answer[1]), str(token[0]), str(token[1]))\n",
    "\n",
    "rprint(table)"
   ]
  },
  {
   "attachments": {},
   "cell_type": "markdown",
   "metadata": {},
   "source": [
    "## Average Logit Differences"
   ]
  },
  {
   "cell_type": "code",
   "execution_count": 91,
   "metadata": {},
   "outputs": [],
   "source": [
    "tokens = model.to_tokens(prompts, prepend_bos=True)\n",
    "tokens = tokens.to(device)\n",
    "\n",
    "original_logits, cache = model.run_with_cache(tokens)\n",
    "original_cache = cache"
   ]
  },
  {
   "cell_type": "code",
   "execution_count": 158,
   "metadata": {},
   "outputs": [
    {
     "name": "stdout",
     "output_type": "stream",
     "text": [
      "Logit difference accuracy:  1.000\n",
      "Per prompt logit difference: tensor([3.2016, 3.3367, 2.7095, 3.7975, 1.7204, 5.2812, 2.6008, 5.7674, 3.0110,\n",
      "        2.4750, 1.9531, 2.2397, 2.2629, 3.5962, 2.1930, 3.0245, 1.5002, 2.1427,\n",
      "        2.8699, 2.3140, 3.8759, 3.6036], device='cuda:0',\n",
      "       grad_fn=<SubBackward0>)\n",
      "Logit difference accuracy:  1.000\n",
      "Average logit difference: tensor(2.9762, device='cuda:0', grad_fn=<MeanBackward0>)\n"
     ]
    },
    {
     "data": {
      "text/html": [
       "<pre style=\"white-space:pre;overflow-x:auto;line-height:normal;font-family:Menlo,'DejaVu Sans Mono',consolas,'Courier New',monospace\"><span style=\"font-style: italic\">                                                Logit differences                                                 </span>\n",
       "┏━━━━━━━━━━━━━━━━━━━━━━━━━━━━━━━━━━━━━━━━━━━━━━━━━━━━━━━━━━━━━━━━━━━┳━━━━━━━━━━━━┳━━━━━━━━━━━━┳━━━━━━━━━━━━━━━━━━┓\n",
       "┃<span style=\"font-weight: bold\"> Prompt                                                            </span>┃<span style=\"font-weight: bold\"> Correct    </span>┃<span style=\"font-weight: bold\"> Incorrect  </span>┃<span style=\"font-weight: bold\"> Logit Difference </span>┃\n",
       "┡━━━━━━━━━━━━━━━━━━━━━━━━━━━━━━━━━━━━━━━━━━━━━━━━━━━━━━━━━━━━━━━━━━━╇━━━━━━━━━━━━╇━━━━━━━━━━━━╇━━━━━━━━━━━━━━━━━━┩\n",
       "│ When John and Mary went to the shops, Mary gave the bag to        │<span style=\"color: #00c800; text-decoration-color: #00c800; font-weight: bold\"> ' John'    </span>│<span style=\"color: #ff0000; text-decoration-color: #ff0000; font-weight: bold\"> ' Mary'    </span>│<span style=\"font-weight: bold\"> 3.202            </span>│\n",
       "│ When John and Mary went to the shops, John gave the bag to        │<span style=\"color: #00c800; text-decoration-color: #00c800; font-weight: bold\"> ' Mary'    </span>│<span style=\"color: #ff0000; text-decoration-color: #ff0000; font-weight: bold\"> ' John'    </span>│<span style=\"font-weight: bold\"> 3.337            </span>│\n",
       "│ When Tom and James went to the park, James gave the ball to       │<span style=\"color: #00c800; text-decoration-color: #00c800; font-weight: bold\"> ' Tom'     </span>│<span style=\"color: #ff0000; text-decoration-color: #ff0000; font-weight: bold\"> ' James'   </span>│<span style=\"font-weight: bold\"> 2.709            </span>│\n",
       "│ When Tom and James went to the park, Tom gave the ball to         │<span style=\"color: #00c800; text-decoration-color: #00c800; font-weight: bold\"> ' James'   </span>│<span style=\"color: #ff0000; text-decoration-color: #ff0000; font-weight: bold\"> ' Tom'     </span>│<span style=\"font-weight: bold\"> 3.797            </span>│\n",
       "│ When Dan and Sid went to the shops, Sid gave an apple to          │<span style=\"color: #00c800; text-decoration-color: #00c800; font-weight: bold\"> ' Dan'     </span>│<span style=\"color: #ff0000; text-decoration-color: #ff0000; font-weight: bold\"> ' Sid'     </span>│<span style=\"font-weight: bold\"> 1.720            </span>│\n",
       "│ When Dan and Sid went to the shops, Dan gave an apple to          │<span style=\"color: #00c800; text-decoration-color: #00c800; font-weight: bold\"> ' Sid'     </span>│<span style=\"color: #ff0000; text-decoration-color: #ff0000; font-weight: bold\"> ' Dan'     </span>│<span style=\"font-weight: bold\"> 5.281            </span>│\n",
       "│ After Martin and Amy went to the park, Amy gave a drink to        │<span style=\"color: #00c800; text-decoration-color: #00c800; font-weight: bold\"> ' Martin'  </span>│<span style=\"color: #ff0000; text-decoration-color: #ff0000; font-weight: bold\"> ' Amy'     </span>│<span style=\"font-weight: bold\"> 2.601            </span>│\n",
       "│ After Martin and Amy went to the park, Martin gave a drink to     │<span style=\"color: #00c800; text-decoration-color: #00c800; font-weight: bold\"> ' Amy'     </span>│<span style=\"color: #ff0000; text-decoration-color: #ff0000; font-weight: bold\"> ' Martin'  </span>│<span style=\"font-weight: bold\"> 5.767            </span>│\n",
       "│ After Sam and Matt went to the park, Matt gave a drink to         │<span style=\"color: #00c800; text-decoration-color: #00c800; font-weight: bold\"> ' Sam'     </span>│<span style=\"color: #ff0000; text-decoration-color: #ff0000; font-weight: bold\"> ' Matt'    </span>│<span style=\"font-weight: bold\"> 3.011            </span>│\n",
       "│ After Sam and Matt went to the park, Sam gave a drink to          │<span style=\"color: #00c800; text-decoration-color: #00c800; font-weight: bold\"> ' Matt'    </span>│<span style=\"color: #ff0000; text-decoration-color: #ff0000; font-weight: bold\"> ' Sam'     </span>│<span style=\"font-weight: bold\"> 2.475            </span>│\n",
       "│ After Adam and Miles went to the park, Miles gave a drink to      │<span style=\"color: #00c800; text-decoration-color: #00c800; font-weight: bold\"> ' Adam'    </span>│<span style=\"color: #ff0000; text-decoration-color: #ff0000; font-weight: bold\"> ' Miles'   </span>│<span style=\"font-weight: bold\"> 1.953            </span>│\n",
       "│ After Adam and Miles went to the park, Adam gave a drink to       │<span style=\"color: #00c800; text-decoration-color: #00c800; font-weight: bold\"> ' Miles'   </span>│<span style=\"color: #ff0000; text-decoration-color: #ff0000; font-weight: bold\"> ' Adam'    </span>│<span style=\"font-weight: bold\"> 2.240            </span>│\n",
       "│ After Oscar and William went to the park, William gave a drink to │<span style=\"color: #00c800; text-decoration-color: #00c800; font-weight: bold\"> ' Oscar'   </span>│<span style=\"color: #ff0000; text-decoration-color: #ff0000; font-weight: bold\"> ' William' </span>│<span style=\"font-weight: bold\"> 2.263            </span>│\n",
       "│ After Oscar and William went to the park, Oscar gave a drink to   │<span style=\"color: #00c800; text-decoration-color: #00c800; font-weight: bold\"> ' William' </span>│<span style=\"color: #ff0000; text-decoration-color: #ff0000; font-weight: bold\"> ' Oscar'   </span>│<span style=\"font-weight: bold\"> 3.596            </span>│\n",
       "│ After Sally and Kate went to the park, Kate gave a drink to       │<span style=\"color: #00c800; text-decoration-color: #00c800; font-weight: bold\"> ' Sally'   </span>│<span style=\"color: #ff0000; text-decoration-color: #ff0000; font-weight: bold\"> ' Kate'    </span>│<span style=\"font-weight: bold\"> 2.193            </span>│\n",
       "│ After Sally and Kate went to the park, Sally gave a drink to      │<span style=\"color: #00c800; text-decoration-color: #00c800; font-weight: bold\"> ' Kate'    </span>│<span style=\"color: #ff0000; text-decoration-color: #ff0000; font-weight: bold\"> ' Sally'   </span>│<span style=\"font-weight: bold\"> 3.025            </span>│\n",
       "│ After Karen and Lisa went to the park, Lisa gave a drink to       │<span style=\"color: #00c800; text-decoration-color: #00c800; font-weight: bold\"> ' Karen'   </span>│<span style=\"color: #ff0000; text-decoration-color: #ff0000; font-weight: bold\"> ' Lisa'    </span>│<span style=\"font-weight: bold\"> 1.500            </span>│\n",
       "│ After Karen and Lisa went to the park, Karen gave a drink to      │<span style=\"color: #00c800; text-decoration-color: #00c800; font-weight: bold\"> ' Lisa'    </span>│<span style=\"color: #ff0000; text-decoration-color: #ff0000; font-weight: bold\"> ' Karen'   </span>│<span style=\"font-weight: bold\"> 2.143            </span>│\n",
       "│ After Emily and Laura went to the park, Laura gave a drink to     │<span style=\"color: #00c800; text-decoration-color: #00c800; font-weight: bold\"> ' Emily'   </span>│<span style=\"color: #ff0000; text-decoration-color: #ff0000; font-weight: bold\"> ' Laura'   </span>│<span style=\"font-weight: bold\"> 2.870            </span>│\n",
       "│ After Emily and Laura went to the park, Emily gave a drink to     │<span style=\"color: #00c800; text-decoration-color: #00c800; font-weight: bold\"> ' Laura'   </span>│<span style=\"color: #ff0000; text-decoration-color: #ff0000; font-weight: bold\"> ' Emily'   </span>│<span style=\"font-weight: bold\"> 2.314            </span>│\n",
       "│ After Jacob and Cam went to the park, Cam gave a drink to         │<span style=\"color: #00c800; text-decoration-color: #00c800; font-weight: bold\"> ' Jacob'   </span>│<span style=\"color: #ff0000; text-decoration-color: #ff0000; font-weight: bold\"> ' Cam'     </span>│<span style=\"font-weight: bold\"> 3.876            </span>│\n",
       "│ After Jacob and Cam went to the park, Jacob gave a drink to       │<span style=\"color: #00c800; text-decoration-color: #00c800; font-weight: bold\"> ' Cam'     </span>│<span style=\"color: #ff0000; text-decoration-color: #ff0000; font-weight: bold\"> ' Jacob'   </span>│<span style=\"font-weight: bold\"> 3.604            </span>│\n",
       "└───────────────────────────────────────────────────────────────────┴────────────┴────────────┴──────────────────┘\n",
       "</pre>\n"
      ],
      "text/plain": [
       "\u001b[3m                                                Logit differences                                                 \u001b[0m\n",
       "┏━━━━━━━━━━━━━━━━━━━━━━━━━━━━━━━━━━━━━━━━━━━━━━━━━━━━━━━━━━━━━━━━━━━┳━━━━━━━━━━━━┳━━━━━━━━━━━━┳━━━━━━━━━━━━━━━━━━┓\n",
       "┃\u001b[1m \u001b[0m\u001b[1mPrompt                                                           \u001b[0m\u001b[1m \u001b[0m┃\u001b[1m \u001b[0m\u001b[1mCorrect   \u001b[0m\u001b[1m \u001b[0m┃\u001b[1m \u001b[0m\u001b[1mIncorrect \u001b[0m\u001b[1m \u001b[0m┃\u001b[1m \u001b[0m\u001b[1mLogit Difference\u001b[0m\u001b[1m \u001b[0m┃\n",
       "┡━━━━━━━━━━━━━━━━━━━━━━━━━━━━━━━━━━━━━━━━━━━━━━━━━━━━━━━━━━━━━━━━━━━╇━━━━━━━━━━━━╇━━━━━━━━━━━━╇━━━━━━━━━━━━━━━━━━┩\n",
       "│ When John and Mary went to the shops, Mary gave the bag to        │\u001b[1;38;2;0;200;0m \u001b[0m\u001b[1;38;2;0;200;0m' John'   \u001b[0m\u001b[1;38;2;0;200;0m \u001b[0m│\u001b[1;38;2;255;0;0m \u001b[0m\u001b[1;38;2;255;0;0m' Mary'   \u001b[0m\u001b[1;38;2;255;0;0m \u001b[0m│\u001b[1m \u001b[0m\u001b[1m3.202           \u001b[0m\u001b[1m \u001b[0m│\n",
       "│ When John and Mary went to the shops, John gave the bag to        │\u001b[1;38;2;0;200;0m \u001b[0m\u001b[1;38;2;0;200;0m' Mary'   \u001b[0m\u001b[1;38;2;0;200;0m \u001b[0m│\u001b[1;38;2;255;0;0m \u001b[0m\u001b[1;38;2;255;0;0m' John'   \u001b[0m\u001b[1;38;2;255;0;0m \u001b[0m│\u001b[1m \u001b[0m\u001b[1m3.337           \u001b[0m\u001b[1m \u001b[0m│\n",
       "│ When Tom and James went to the park, James gave the ball to       │\u001b[1;38;2;0;200;0m \u001b[0m\u001b[1;38;2;0;200;0m' Tom'    \u001b[0m\u001b[1;38;2;0;200;0m \u001b[0m│\u001b[1;38;2;255;0;0m \u001b[0m\u001b[1;38;2;255;0;0m' James'  \u001b[0m\u001b[1;38;2;255;0;0m \u001b[0m│\u001b[1m \u001b[0m\u001b[1m2.709           \u001b[0m\u001b[1m \u001b[0m│\n",
       "│ When Tom and James went to the park, Tom gave the ball to         │\u001b[1;38;2;0;200;0m \u001b[0m\u001b[1;38;2;0;200;0m' James'  \u001b[0m\u001b[1;38;2;0;200;0m \u001b[0m│\u001b[1;38;2;255;0;0m \u001b[0m\u001b[1;38;2;255;0;0m' Tom'    \u001b[0m\u001b[1;38;2;255;0;0m \u001b[0m│\u001b[1m \u001b[0m\u001b[1m3.797           \u001b[0m\u001b[1m \u001b[0m│\n",
       "│ When Dan and Sid went to the shops, Sid gave an apple to          │\u001b[1;38;2;0;200;0m \u001b[0m\u001b[1;38;2;0;200;0m' Dan'    \u001b[0m\u001b[1;38;2;0;200;0m \u001b[0m│\u001b[1;38;2;255;0;0m \u001b[0m\u001b[1;38;2;255;0;0m' Sid'    \u001b[0m\u001b[1;38;2;255;0;0m \u001b[0m│\u001b[1m \u001b[0m\u001b[1m1.720           \u001b[0m\u001b[1m \u001b[0m│\n",
       "│ When Dan and Sid went to the shops, Dan gave an apple to          │\u001b[1;38;2;0;200;0m \u001b[0m\u001b[1;38;2;0;200;0m' Sid'    \u001b[0m\u001b[1;38;2;0;200;0m \u001b[0m│\u001b[1;38;2;255;0;0m \u001b[0m\u001b[1;38;2;255;0;0m' Dan'    \u001b[0m\u001b[1;38;2;255;0;0m \u001b[0m│\u001b[1m \u001b[0m\u001b[1m5.281           \u001b[0m\u001b[1m \u001b[0m│\n",
       "│ After Martin and Amy went to the park, Amy gave a drink to        │\u001b[1;38;2;0;200;0m \u001b[0m\u001b[1;38;2;0;200;0m' Martin' \u001b[0m\u001b[1;38;2;0;200;0m \u001b[0m│\u001b[1;38;2;255;0;0m \u001b[0m\u001b[1;38;2;255;0;0m' Amy'    \u001b[0m\u001b[1;38;2;255;0;0m \u001b[0m│\u001b[1m \u001b[0m\u001b[1m2.601           \u001b[0m\u001b[1m \u001b[0m│\n",
       "│ After Martin and Amy went to the park, Martin gave a drink to     │\u001b[1;38;2;0;200;0m \u001b[0m\u001b[1;38;2;0;200;0m' Amy'    \u001b[0m\u001b[1;38;2;0;200;0m \u001b[0m│\u001b[1;38;2;255;0;0m \u001b[0m\u001b[1;38;2;255;0;0m' Martin' \u001b[0m\u001b[1;38;2;255;0;0m \u001b[0m│\u001b[1m \u001b[0m\u001b[1m5.767           \u001b[0m\u001b[1m \u001b[0m│\n",
       "│ After Sam and Matt went to the park, Matt gave a drink to         │\u001b[1;38;2;0;200;0m \u001b[0m\u001b[1;38;2;0;200;0m' Sam'    \u001b[0m\u001b[1;38;2;0;200;0m \u001b[0m│\u001b[1;38;2;255;0;0m \u001b[0m\u001b[1;38;2;255;0;0m' Matt'   \u001b[0m\u001b[1;38;2;255;0;0m \u001b[0m│\u001b[1m \u001b[0m\u001b[1m3.011           \u001b[0m\u001b[1m \u001b[0m│\n",
       "│ After Sam and Matt went to the park, Sam gave a drink to          │\u001b[1;38;2;0;200;0m \u001b[0m\u001b[1;38;2;0;200;0m' Matt'   \u001b[0m\u001b[1;38;2;0;200;0m \u001b[0m│\u001b[1;38;2;255;0;0m \u001b[0m\u001b[1;38;2;255;0;0m' Sam'    \u001b[0m\u001b[1;38;2;255;0;0m \u001b[0m│\u001b[1m \u001b[0m\u001b[1m2.475           \u001b[0m\u001b[1m \u001b[0m│\n",
       "│ After Adam and Miles went to the park, Miles gave a drink to      │\u001b[1;38;2;0;200;0m \u001b[0m\u001b[1;38;2;0;200;0m' Adam'   \u001b[0m\u001b[1;38;2;0;200;0m \u001b[0m│\u001b[1;38;2;255;0;0m \u001b[0m\u001b[1;38;2;255;0;0m' Miles'  \u001b[0m\u001b[1;38;2;255;0;0m \u001b[0m│\u001b[1m \u001b[0m\u001b[1m1.953           \u001b[0m\u001b[1m \u001b[0m│\n",
       "│ After Adam and Miles went to the park, Adam gave a drink to       │\u001b[1;38;2;0;200;0m \u001b[0m\u001b[1;38;2;0;200;0m' Miles'  \u001b[0m\u001b[1;38;2;0;200;0m \u001b[0m│\u001b[1;38;2;255;0;0m \u001b[0m\u001b[1;38;2;255;0;0m' Adam'   \u001b[0m\u001b[1;38;2;255;0;0m \u001b[0m│\u001b[1m \u001b[0m\u001b[1m2.240           \u001b[0m\u001b[1m \u001b[0m│\n",
       "│ After Oscar and William went to the park, William gave a drink to │\u001b[1;38;2;0;200;0m \u001b[0m\u001b[1;38;2;0;200;0m' Oscar'  \u001b[0m\u001b[1;38;2;0;200;0m \u001b[0m│\u001b[1;38;2;255;0;0m \u001b[0m\u001b[1;38;2;255;0;0m' William'\u001b[0m\u001b[1;38;2;255;0;0m \u001b[0m│\u001b[1m \u001b[0m\u001b[1m2.263           \u001b[0m\u001b[1m \u001b[0m│\n",
       "│ After Oscar and William went to the park, Oscar gave a drink to   │\u001b[1;38;2;0;200;0m \u001b[0m\u001b[1;38;2;0;200;0m' William'\u001b[0m\u001b[1;38;2;0;200;0m \u001b[0m│\u001b[1;38;2;255;0;0m \u001b[0m\u001b[1;38;2;255;0;0m' Oscar'  \u001b[0m\u001b[1;38;2;255;0;0m \u001b[0m│\u001b[1m \u001b[0m\u001b[1m3.596           \u001b[0m\u001b[1m \u001b[0m│\n",
       "│ After Sally and Kate went to the park, Kate gave a drink to       │\u001b[1;38;2;0;200;0m \u001b[0m\u001b[1;38;2;0;200;0m' Sally'  \u001b[0m\u001b[1;38;2;0;200;0m \u001b[0m│\u001b[1;38;2;255;0;0m \u001b[0m\u001b[1;38;2;255;0;0m' Kate'   \u001b[0m\u001b[1;38;2;255;0;0m \u001b[0m│\u001b[1m \u001b[0m\u001b[1m2.193           \u001b[0m\u001b[1m \u001b[0m│\n",
       "│ After Sally and Kate went to the park, Sally gave a drink to      │\u001b[1;38;2;0;200;0m \u001b[0m\u001b[1;38;2;0;200;0m' Kate'   \u001b[0m\u001b[1;38;2;0;200;0m \u001b[0m│\u001b[1;38;2;255;0;0m \u001b[0m\u001b[1;38;2;255;0;0m' Sally'  \u001b[0m\u001b[1;38;2;255;0;0m \u001b[0m│\u001b[1m \u001b[0m\u001b[1m3.025           \u001b[0m\u001b[1m \u001b[0m│\n",
       "│ After Karen and Lisa went to the park, Lisa gave a drink to       │\u001b[1;38;2;0;200;0m \u001b[0m\u001b[1;38;2;0;200;0m' Karen'  \u001b[0m\u001b[1;38;2;0;200;0m \u001b[0m│\u001b[1;38;2;255;0;0m \u001b[0m\u001b[1;38;2;255;0;0m' Lisa'   \u001b[0m\u001b[1;38;2;255;0;0m \u001b[0m│\u001b[1m \u001b[0m\u001b[1m1.500           \u001b[0m\u001b[1m \u001b[0m│\n",
       "│ After Karen and Lisa went to the park, Karen gave a drink to      │\u001b[1;38;2;0;200;0m \u001b[0m\u001b[1;38;2;0;200;0m' Lisa'   \u001b[0m\u001b[1;38;2;0;200;0m \u001b[0m│\u001b[1;38;2;255;0;0m \u001b[0m\u001b[1;38;2;255;0;0m' Karen'  \u001b[0m\u001b[1;38;2;255;0;0m \u001b[0m│\u001b[1m \u001b[0m\u001b[1m2.143           \u001b[0m\u001b[1m \u001b[0m│\n",
       "│ After Emily and Laura went to the park, Laura gave a drink to     │\u001b[1;38;2;0;200;0m \u001b[0m\u001b[1;38;2;0;200;0m' Emily'  \u001b[0m\u001b[1;38;2;0;200;0m \u001b[0m│\u001b[1;38;2;255;0;0m \u001b[0m\u001b[1;38;2;255;0;0m' Laura'  \u001b[0m\u001b[1;38;2;255;0;0m \u001b[0m│\u001b[1m \u001b[0m\u001b[1m2.870           \u001b[0m\u001b[1m \u001b[0m│\n",
       "│ After Emily and Laura went to the park, Emily gave a drink to     │\u001b[1;38;2;0;200;0m \u001b[0m\u001b[1;38;2;0;200;0m' Laura'  \u001b[0m\u001b[1;38;2;0;200;0m \u001b[0m│\u001b[1;38;2;255;0;0m \u001b[0m\u001b[1;38;2;255;0;0m' Emily'  \u001b[0m\u001b[1;38;2;255;0;0m \u001b[0m│\u001b[1m \u001b[0m\u001b[1m2.314           \u001b[0m\u001b[1m \u001b[0m│\n",
       "│ After Jacob and Cam went to the park, Cam gave a drink to         │\u001b[1;38;2;0;200;0m \u001b[0m\u001b[1;38;2;0;200;0m' Jacob'  \u001b[0m\u001b[1;38;2;0;200;0m \u001b[0m│\u001b[1;38;2;255;0;0m \u001b[0m\u001b[1;38;2;255;0;0m' Cam'    \u001b[0m\u001b[1;38;2;255;0;0m \u001b[0m│\u001b[1m \u001b[0m\u001b[1m3.876           \u001b[0m\u001b[1m \u001b[0m│\n",
       "│ After Jacob and Cam went to the park, Jacob gave a drink to       │\u001b[1;38;2;0;200;0m \u001b[0m\u001b[1;38;2;0;200;0m' Cam'    \u001b[0m\u001b[1;38;2;0;200;0m \u001b[0m│\u001b[1;38;2;255;0;0m \u001b[0m\u001b[1;38;2;255;0;0m' Jacob'  \u001b[0m\u001b[1;38;2;255;0;0m \u001b[0m│\u001b[1m \u001b[0m\u001b[1m3.604           \u001b[0m\u001b[1m \u001b[0m│\n",
       "└───────────────────────────────────────────────────────────────────┴────────────┴────────────┴──────────────────┘\n"
      ]
     },
     "metadata": {},
     "output_type": "display_data"
    }
   ],
   "source": [
    "def logits_to_ave_logit_diff(\n",
    "    logits: Float[Tensor, \"batch seq d_vocab\"],\n",
    "    answer_tokens: Float[Tensor, \"batch 2\"] = answer_tokens,\n",
    "    per_prompt: bool = False,\n",
    "    print_accuracy = True\n",
    "):\n",
    "    '''\n",
    "    Returns logit difference between the correct and incorrect answer. The first token is assumed to be correct.\n",
    "\n",
    "    If per_prompt=True, return the array of differences rather than the average.\n",
    "    '''\n",
    "    # Only the final logits are relevant for the answer\n",
    "    final_logits: Float[Tensor, \"batch d_vocab\"] = logits[:, -1, :]\n",
    "    # Get the logits corresponding to the indirect object / subject tokens respectively\n",
    "    answer_logits: Float[Tensor, \"batch 2\"] = final_logits.gather(dim=-1, index=answer_tokens)\n",
    "    # Find logit difference\n",
    "    correct_logits, incorrect_logits = answer_logits.unbind(dim=-1)\n",
    "    answer_logit_diff = correct_logits - incorrect_logits\n",
    "\n",
    "    accuracy = (answer_logit_diff > 0).float().mean()\n",
    "    if print_accuracy:\n",
    "        print(\"Logit difference accuracy: \", f\"{accuracy.item():.3f}\")\n",
    "    \n",
    "    return answer_logit_diff if per_prompt else answer_logit_diff.mean()\n",
    "\n",
    "\n",
    "original_per_prompt_diff = logits_to_ave_logit_diff(original_logits, answer_tokens, per_prompt=True)\n",
    "print(\"Per prompt logit difference:\", original_per_prompt_diff)\n",
    "original_average_logit_diff = logits_to_ave_logit_diff(original_logits, answer_tokens)\n",
    "print(\"Average logit difference:\", original_average_logit_diff)\n",
    "\n",
    "cols = [\n",
    "    \"Prompt\", \n",
    "    Column(\"Correct\", style=\"rgb(0,200,0) bold\"), \n",
    "    Column(\"Incorrect\", style=\"rgb(255,0,0) bold\"), \n",
    "    Column(\"Logit Difference\", style=\"bold\")\n",
    "]\n",
    "table = Table(*cols, title=\"Logit differences\")\n",
    "\n",
    "for prompt, answer, logit_diff in zip(prompts, answers, original_per_prompt_diff):\n",
    "    table.add_row(prompt, repr(answer[0]), repr(answer[1]), f\"{logit_diff.item():.3f}\")\n",
    "\n",
    "rprint(table)"
   ]
  },
  {
   "attachments": {},
   "cell_type": "markdown",
   "metadata": {},
   "source": [
    "## Logit attribution"
   ]
  },
  {
   "cell_type": "code",
   "execution_count": 146,
   "metadata": {},
   "outputs": [],
   "source": [
    "def get_logit_diff_directions(model, answer_tokens) -> Float[Tensor, \"batch d_model\"]:\n",
    "    \"\"\"\n",
    "    The ideal logit difference direction in the unembed, formed by substracting the incorrect answer token's direction from the correct answer token's direction.\n",
    "    \"\"\"\n",
    "    \n",
    "    # Token unembed with layer norm handled\n",
    "    answer_residual_directions = model.tokens_to_residual_directions(answer_tokens)\n",
    "    correct_residual_directions, incorrect_residual_directions = answer_residual_directions.unbind(dim=1)\n",
    "    logit_diff_directions = correct_residual_directions - incorrect_residual_directions\n",
    "    # print(\"Answer residual directions shape:\", answer_residual_directions.shape)\n",
    "    # print(f\"Logit difference directions shape:\", logit_diff_directions.shape)\n",
    "    return logit_diff_directions\n",
    "\n",
    "\n",
    "logit_diff_directions = get_logit_diff_directions(model, answer_tokens)"
   ]
  },
  {
   "cell_type": "code",
   "execution_count": 147,
   "metadata": {},
   "outputs": [
    {
     "name": "stdout",
     "output_type": "stream",
     "text": [
      "Final residual stream shape: torch.Size([22, 15, 768])\n",
      "Calculated average logit diff: 2.9762184620\n",
      "Original logit difference:     2.976217269897461\n"
     ]
    }
   ],
   "source": [
    "# Cache syntax - resid_post is the residual stream at the end of the layer, -1 gets the final layer. The general syntax is [activation_name, layer_index, sub_layer_type]. \n",
    "final_residual_stream: Float[Tensor, \"batch seq d_model\"] = cache[\"resid_post\", -1]\n",
    "print(f\"Final residual stream shape: {final_residual_stream.shape}\")\n",
    "final_token_residual_stream: Float[Tensor, \"batch d_model\"] = final_residual_stream[:, -1, :]\n",
    "\n",
    "# Apply LayerNorm scaling (to just the final sequence position)\n",
    "# pos_slice is the subset of the positions we take - here the final token of each prompt\n",
    "scaled_final_token_residual_stream = cache.apply_ln_to_stack(final_token_residual_stream, layer=-1, pos_slice=-1)\n",
    "\n",
    "average_logit_diff = einops.einsum(\n",
    "    scaled_final_token_residual_stream, logit_diff_directions,\n",
    "    \"batch d_model, batch d_model ->\"\n",
    ") / len(prompts)\n",
    "\n",
    "print(f\"Calculated average logit diff: {average_logit_diff:.10f}\")\n",
    "print(f\"Original logit difference:     {original_average_logit_diff}\")\n"
   ]
  },
  {
   "cell_type": "code",
   "execution_count": 148,
   "metadata": {},
   "outputs": [],
   "source": [
    "def residual_stack_to_logit_diff(\n",
    "    residual_stack: Float[Tensor, \"... batch d_model\"], \n",
    "    cache: ActivationCache,\n",
    "    logit_diff_directions: Float[Tensor, \"batch d_model\"] = logit_diff_directions,\n",
    ") -> Float[Tensor, \"...\"]:\n",
    "    '''\n",
    "    Gets the avg logit difference between the correct and incorrect answer for a given \n",
    "    stack of components in the residual stream.\n",
    "    '''\n",
    "    batch_size = residual_stack.size(-2)\n",
    "    scaled_residual_stack = cache.apply_ln_to_stack(residual_stack, layer=-1, pos_slice=-1)\n",
    "    return einops.einsum(\n",
    "        scaled_residual_stack, logit_diff_directions,\n",
    "        \"... batch d_model, batch d_model -> ...\"\n",
    "    ) / batch_size\n",
    "\n",
    "# torch.testing.assert_close(\n",
    "#     residual_stack_to_logit_diff(final_token_residual_stream, cache),\n",
    "#     original_average_logit_diff\n",
    "# )"
   ]
  },
  {
   "cell_type": "code",
   "execution_count": 149,
   "metadata": {},
   "outputs": [
    {
     "data": {
      "text/html": [
       "<div>                            <div id=\"aaef961d-6fd8-44d7-a8df-9102539c05d3\" class=\"plotly-graph-div\" style=\"height:525px; width:800px;\"></div>            <script type=\"text/javascript\">                require([\"plotly\"], function(Plotly) {                    window.PLOTLYENV=window.PLOTLYENV || {};                                    if (document.getElementById(\"aaef961d-6fd8-44d7-a8df-9102539c05d3\")) {                    Plotly.newPlot(                        \"aaef961d-6fd8-44d7-a8df-9102539c05d3\",                        [{\"hovertemplate\":\"variable=0\\u003cbr\\u003eindex=%{x}\\u003cbr\\u003evalue=%{y}\\u003cextra\\u003e\\u003c\\u002fextra\\u003e\",\"legendgroup\":\"0\",\"line\":{\"color\":\"#636efa\",\"dash\":\"solid\"},\"marker\":{\"symbol\":\"circle\"},\"mode\":\"lines\",\"name\":\"0\",\"orientation\":\"v\",\"showlegend\":true,\"x\":[0,1,2,3,4,5,6,7,8,9,10,11,12,13,14,15,16,17,18,19,20,21,22,23,24],\"xaxis\":\"x\",\"y\":[-0.0002576204133220017,-0.014532993547618389,-0.01064187753945589,-0.012463473714888096,-0.00909052137285471,-0.008967389352619648,-0.005352159962058067,-0.009565004147589207,-0.008355958387255669,-0.012692098505795002,-0.011383311823010445,-0.01507837139070034,-0.007498874329030514,-0.019712094217538834,-0.021190112456679344,0.19762270152568817,0.18861053884029388,0.3196907937526703,0.3288211524486542,4.435199737548828,4.5473151206970215,4.202829360961914,4.3607177734375,2.927330732345581,2.9762184619903564],\"yaxis\":\"y\",\"type\":\"scatter\"}],                        {\"template\":{\"data\":{\"histogram2dcontour\":[{\"type\":\"histogram2dcontour\",\"colorbar\":{\"outlinewidth\":0,\"ticks\":\"\"},\"colorscale\":[[0.0,\"#0d0887\"],[0.1111111111111111,\"#46039f\"],[0.2222222222222222,\"#7201a8\"],[0.3333333333333333,\"#9c179e\"],[0.4444444444444444,\"#bd3786\"],[0.5555555555555556,\"#d8576b\"],[0.6666666666666666,\"#ed7953\"],[0.7777777777777778,\"#fb9f3a\"],[0.8888888888888888,\"#fdca26\"],[1.0,\"#f0f921\"]]}],\"choropleth\":[{\"type\":\"choropleth\",\"colorbar\":{\"outlinewidth\":0,\"ticks\":\"\"}}],\"histogram2d\":[{\"type\":\"histogram2d\",\"colorbar\":{\"outlinewidth\":0,\"ticks\":\"\"},\"colorscale\":[[0.0,\"#0d0887\"],[0.1111111111111111,\"#46039f\"],[0.2222222222222222,\"#7201a8\"],[0.3333333333333333,\"#9c179e\"],[0.4444444444444444,\"#bd3786\"],[0.5555555555555556,\"#d8576b\"],[0.6666666666666666,\"#ed7953\"],[0.7777777777777778,\"#fb9f3a\"],[0.8888888888888888,\"#fdca26\"],[1.0,\"#f0f921\"]]}],\"heatmap\":[{\"type\":\"heatmap\",\"colorbar\":{\"outlinewidth\":0,\"ticks\":\"\"},\"colorscale\":[[0.0,\"#0d0887\"],[0.1111111111111111,\"#46039f\"],[0.2222222222222222,\"#7201a8\"],[0.3333333333333333,\"#9c179e\"],[0.4444444444444444,\"#bd3786\"],[0.5555555555555556,\"#d8576b\"],[0.6666666666666666,\"#ed7953\"],[0.7777777777777778,\"#fb9f3a\"],[0.8888888888888888,\"#fdca26\"],[1.0,\"#f0f921\"]]}],\"heatmapgl\":[{\"type\":\"heatmapgl\",\"colorbar\":{\"outlinewidth\":0,\"ticks\":\"\"},\"colorscale\":[[0.0,\"#0d0887\"],[0.1111111111111111,\"#46039f\"],[0.2222222222222222,\"#7201a8\"],[0.3333333333333333,\"#9c179e\"],[0.4444444444444444,\"#bd3786\"],[0.5555555555555556,\"#d8576b\"],[0.6666666666666666,\"#ed7953\"],[0.7777777777777778,\"#fb9f3a\"],[0.8888888888888888,\"#fdca26\"],[1.0,\"#f0f921\"]]}],\"contourcarpet\":[{\"type\":\"contourcarpet\",\"colorbar\":{\"outlinewidth\":0,\"ticks\":\"\"}}],\"contour\":[{\"type\":\"contour\",\"colorbar\":{\"outlinewidth\":0,\"ticks\":\"\"},\"colorscale\":[[0.0,\"#0d0887\"],[0.1111111111111111,\"#46039f\"],[0.2222222222222222,\"#7201a8\"],[0.3333333333333333,\"#9c179e\"],[0.4444444444444444,\"#bd3786\"],[0.5555555555555556,\"#d8576b\"],[0.6666666666666666,\"#ed7953\"],[0.7777777777777778,\"#fb9f3a\"],[0.8888888888888888,\"#fdca26\"],[1.0,\"#f0f921\"]]}],\"surface\":[{\"type\":\"surface\",\"colorbar\":{\"outlinewidth\":0,\"ticks\":\"\"},\"colorscale\":[[0.0,\"#0d0887\"],[0.1111111111111111,\"#46039f\"],[0.2222222222222222,\"#7201a8\"],[0.3333333333333333,\"#9c179e\"],[0.4444444444444444,\"#bd3786\"],[0.5555555555555556,\"#d8576b\"],[0.6666666666666666,\"#ed7953\"],[0.7777777777777778,\"#fb9f3a\"],[0.8888888888888888,\"#fdca26\"],[1.0,\"#f0f921\"]]}],\"mesh3d\":[{\"type\":\"mesh3d\",\"colorbar\":{\"outlinewidth\":0,\"ticks\":\"\"}}],\"scatter\":[{\"fillpattern\":{\"fillmode\":\"overlay\",\"size\":10,\"solidity\":0.2},\"type\":\"scatter\"}],\"parcoords\":[{\"type\":\"parcoords\",\"line\":{\"colorbar\":{\"outlinewidth\":0,\"ticks\":\"\"}}}],\"scatterpolargl\":[{\"type\":\"scatterpolargl\",\"marker\":{\"colorbar\":{\"outlinewidth\":0,\"ticks\":\"\"}}}],\"bar\":[{\"error_x\":{\"color\":\"#2a3f5f\"},\"error_y\":{\"color\":\"#2a3f5f\"},\"marker\":{\"line\":{\"color\":\"#E5ECF6\",\"width\":0.5},\"pattern\":{\"fillmode\":\"overlay\",\"size\":10,\"solidity\":0.2}},\"type\":\"bar\"}],\"scattergeo\":[{\"type\":\"scattergeo\",\"marker\":{\"colorbar\":{\"outlinewidth\":0,\"ticks\":\"\"}}}],\"scatterpolar\":[{\"type\":\"scatterpolar\",\"marker\":{\"colorbar\":{\"outlinewidth\":0,\"ticks\":\"\"}}}],\"histogram\":[{\"marker\":{\"pattern\":{\"fillmode\":\"overlay\",\"size\":10,\"solidity\":0.2}},\"type\":\"histogram\"}],\"scattergl\":[{\"type\":\"scattergl\",\"marker\":{\"colorbar\":{\"outlinewidth\":0,\"ticks\":\"\"}}}],\"scatter3d\":[{\"type\":\"scatter3d\",\"line\":{\"colorbar\":{\"outlinewidth\":0,\"ticks\":\"\"}},\"marker\":{\"colorbar\":{\"outlinewidth\":0,\"ticks\":\"\"}}}],\"scattermapbox\":[{\"type\":\"scattermapbox\",\"marker\":{\"colorbar\":{\"outlinewidth\":0,\"ticks\":\"\"}}}],\"scatterternary\":[{\"type\":\"scatterternary\",\"marker\":{\"colorbar\":{\"outlinewidth\":0,\"ticks\":\"\"}}}],\"scattercarpet\":[{\"type\":\"scattercarpet\",\"marker\":{\"colorbar\":{\"outlinewidth\":0,\"ticks\":\"\"}}}],\"carpet\":[{\"aaxis\":{\"endlinecolor\":\"#2a3f5f\",\"gridcolor\":\"white\",\"linecolor\":\"white\",\"minorgridcolor\":\"white\",\"startlinecolor\":\"#2a3f5f\"},\"baxis\":{\"endlinecolor\":\"#2a3f5f\",\"gridcolor\":\"white\",\"linecolor\":\"white\",\"minorgridcolor\":\"white\",\"startlinecolor\":\"#2a3f5f\"},\"type\":\"carpet\"}],\"table\":[{\"cells\":{\"fill\":{\"color\":\"#EBF0F8\"},\"line\":{\"color\":\"white\"}},\"header\":{\"fill\":{\"color\":\"#C8D4E3\"},\"line\":{\"color\":\"white\"}},\"type\":\"table\"}],\"barpolar\":[{\"marker\":{\"line\":{\"color\":\"#E5ECF6\",\"width\":0.5},\"pattern\":{\"fillmode\":\"overlay\",\"size\":10,\"solidity\":0.2}},\"type\":\"barpolar\"}],\"pie\":[{\"automargin\":true,\"type\":\"pie\"}]},\"layout\":{\"autotypenumbers\":\"strict\",\"colorway\":[\"#636efa\",\"#EF553B\",\"#00cc96\",\"#ab63fa\",\"#FFA15A\",\"#19d3f3\",\"#FF6692\",\"#B6E880\",\"#FF97FF\",\"#FECB52\"],\"font\":{\"color\":\"#2a3f5f\"},\"hovermode\":\"closest\",\"hoverlabel\":{\"align\":\"left\"},\"paper_bgcolor\":\"white\",\"plot_bgcolor\":\"#E5ECF6\",\"polar\":{\"bgcolor\":\"#E5ECF6\",\"angularaxis\":{\"gridcolor\":\"white\",\"linecolor\":\"white\",\"ticks\":\"\"},\"radialaxis\":{\"gridcolor\":\"white\",\"linecolor\":\"white\",\"ticks\":\"\"}},\"ternary\":{\"bgcolor\":\"#E5ECF6\",\"aaxis\":{\"gridcolor\":\"white\",\"linecolor\":\"white\",\"ticks\":\"\"},\"baxis\":{\"gridcolor\":\"white\",\"linecolor\":\"white\",\"ticks\":\"\"},\"caxis\":{\"gridcolor\":\"white\",\"linecolor\":\"white\",\"ticks\":\"\"}},\"coloraxis\":{\"colorbar\":{\"outlinewidth\":0,\"ticks\":\"\"}},\"colorscale\":{\"sequential\":[[0.0,\"#0d0887\"],[0.1111111111111111,\"#46039f\"],[0.2222222222222222,\"#7201a8\"],[0.3333333333333333,\"#9c179e\"],[0.4444444444444444,\"#bd3786\"],[0.5555555555555556,\"#d8576b\"],[0.6666666666666666,\"#ed7953\"],[0.7777777777777778,\"#fb9f3a\"],[0.8888888888888888,\"#fdca26\"],[1.0,\"#f0f921\"]],\"sequentialminus\":[[0.0,\"#0d0887\"],[0.1111111111111111,\"#46039f\"],[0.2222222222222222,\"#7201a8\"],[0.3333333333333333,\"#9c179e\"],[0.4444444444444444,\"#bd3786\"],[0.5555555555555556,\"#d8576b\"],[0.6666666666666666,\"#ed7953\"],[0.7777777777777778,\"#fb9f3a\"],[0.8888888888888888,\"#fdca26\"],[1.0,\"#f0f921\"]],\"diverging\":[[0,\"#8e0152\"],[0.1,\"#c51b7d\"],[0.2,\"#de77ae\"],[0.3,\"#f1b6da\"],[0.4,\"#fde0ef\"],[0.5,\"#f7f7f7\"],[0.6,\"#e6f5d0\"],[0.7,\"#b8e186\"],[0.8,\"#7fbc41\"],[0.9,\"#4d9221\"],[1,\"#276419\"]]},\"xaxis\":{\"gridcolor\":\"white\",\"linecolor\":\"white\",\"ticks\":\"\",\"title\":{\"standoff\":15},\"zerolinecolor\":\"white\",\"automargin\":true,\"zerolinewidth\":2},\"yaxis\":{\"gridcolor\":\"white\",\"linecolor\":\"white\",\"ticks\":\"\",\"title\":{\"standoff\":15},\"zerolinecolor\":\"white\",\"automargin\":true,\"zerolinewidth\":2},\"scene\":{\"xaxis\":{\"backgroundcolor\":\"#E5ECF6\",\"gridcolor\":\"white\",\"linecolor\":\"white\",\"showbackground\":true,\"ticks\":\"\",\"zerolinecolor\":\"white\",\"gridwidth\":2},\"yaxis\":{\"backgroundcolor\":\"#E5ECF6\",\"gridcolor\":\"white\",\"linecolor\":\"white\",\"showbackground\":true,\"ticks\":\"\",\"zerolinecolor\":\"white\",\"gridwidth\":2},\"zaxis\":{\"backgroundcolor\":\"#E5ECF6\",\"gridcolor\":\"white\",\"linecolor\":\"white\",\"showbackground\":true,\"ticks\":\"\",\"zerolinecolor\":\"white\",\"gridwidth\":2}},\"shapedefaults\":{\"line\":{\"color\":\"#2a3f5f\"}},\"annotationdefaults\":{\"arrowcolor\":\"#2a3f5f\",\"arrowhead\":0,\"arrowwidth\":1},\"geo\":{\"bgcolor\":\"white\",\"landcolor\":\"#E5ECF6\",\"subunitcolor\":\"white\",\"showland\":true,\"showlakes\":true,\"lakecolor\":\"white\"},\"title\":{\"x\":0.05},\"mapbox\":{\"style\":\"light\"}}},\"xaxis\":{\"anchor\":\"y\",\"domain\":[0.0,1.0],\"title\":{\"text\":\"index\"}},\"yaxis\":{\"anchor\":\"x\",\"domain\":[0.0,1.0],\"title\":{\"text\":\"value\"}},\"legend\":{\"title\":{\"text\":\"variable\"},\"tracegroupgap\":0},\"title\":{\"text\":\"Logit Difference From Accumulated Residual Stream\"},\"width\":800},                        {\"responsive\": true}                    ).then(function(){\n",
       "                            \n",
       "var gd = document.getElementById('aaef961d-6fd8-44d7-a8df-9102539c05d3');\n",
       "var x = new MutationObserver(function (mutations, observer) {{\n",
       "        var display = window.getComputedStyle(gd).display;\n",
       "        if (!display || display === 'none') {{\n",
       "            console.log([gd, 'removed!']);\n",
       "            Plotly.purge(gd);\n",
       "            observer.disconnect();\n",
       "        }}\n",
       "}});\n",
       "\n",
       "// Listen for the removal of the full notebook cells\n",
       "var notebookContainer = gd.closest('#notebook-container');\n",
       "if (notebookContainer) {{\n",
       "    x.observe(notebookContainer, {childList: true});\n",
       "}}\n",
       "\n",
       "// Listen for the clearing of the current output cell\n",
       "var outputEl = gd.closest('.output');\n",
       "if (outputEl) {{\n",
       "    x.observe(outputEl, {childList: true});\n",
       "}}\n",
       "\n",
       "                        })                };                });            </script>        </div>"
      ]
     },
     "metadata": {},
     "output_type": "display_data"
    }
   ],
   "source": [
    "accumulated_residual, labels = cache.accumulated_resid(layer=-1, incl_mid=True, pos_slice=-1, return_labels=True)\n",
    "# accumulated_residual has shape (component, batch, d_model)\n",
    "\n",
    "logit_lens_logit_diffs: Float[Tensor, \"component\"] = residual_stack_to_logit_diff(accumulated_residual, cache)\n",
    "\n",
    "line(\n",
    "    logit_lens_logit_diffs.detach().cpu().numpy(), \n",
    "    #hovermode=\"x unified\",\n",
    "    title=\"Logit Difference From Accumulated Residual Stream\",\n",
    "    labels={\"x\": \"Layer\", \"y\": \"Logit Diff\"},\n",
    "    #xaxis_tickvals=labels,\n",
    "    width=800\n",
    ")"
   ]
  },
  {
   "cell_type": "code",
   "execution_count": 150,
   "metadata": {},
   "outputs": [
    {
     "data": {
      "text/html": [
       "<div>                            <div id=\"3f466c98-4465-41fa-8057-6470d94c7e87\" class=\"plotly-graph-div\" style=\"height:525px; width:800px;\"></div>            <script type=\"text/javascript\">                require([\"plotly\"], function(Plotly) {                    window.PLOTLYENV=window.PLOTLYENV || {};                                    if (document.getElementById(\"3f466c98-4465-41fa-8057-6470d94c7e87\")) {                    Plotly.newPlot(                        \"3f466c98-4465-41fa-8057-6470d94c7e87\",                        [{\"hovertemplate\":\"variable=0\\u003cbr\\u003eindex=%{x}\\u003cbr\\u003evalue=%{y}\\u003cextra\\u003e\\u003c\\u002fextra\\u003e\",\"legendgroup\":\"0\",\"line\":{\"color\":\"#636efa\",\"dash\":\"solid\"},\"marker\":{\"symbol\":\"circle\"},\"mode\":\"lines\",\"name\":\"0\",\"orientation\":\"v\",\"showlegend\":true,\"x\":[0,1,2,3,4,5,6,7,8,9,10,11,12,13,14,15,16,17,18,19,20,21,22,23,24,25],\"xaxis\":\"x\",\"y\":[-0.00020154545200057328,-5.607368439086713e-05,-0.014275376684963703,0.0038911192677915096,-0.0018216002499684691,0.0033729635179042816,0.00012312651961110532,0.003615219611674547,-0.0042128474451601505,0.001209055189974606,-0.004336135927587748,0.0013087802799418569,-0.003695060033351183,0.007579490076750517,-0.012213211506605148,-0.0014780245255678892,0.21881279349327087,-0.009012136608362198,0.1310802400112152,0.009130388498306274,4.10637903213501,0.11211441457271576,-0.3444852828979492,0.15788781642913818,-1.433385968208313,0.04888749122619629],\"yaxis\":\"y\",\"type\":\"scatter\"}],                        {\"template\":{\"data\":{\"histogram2dcontour\":[{\"type\":\"histogram2dcontour\",\"colorbar\":{\"outlinewidth\":0,\"ticks\":\"\"},\"colorscale\":[[0.0,\"#0d0887\"],[0.1111111111111111,\"#46039f\"],[0.2222222222222222,\"#7201a8\"],[0.3333333333333333,\"#9c179e\"],[0.4444444444444444,\"#bd3786\"],[0.5555555555555556,\"#d8576b\"],[0.6666666666666666,\"#ed7953\"],[0.7777777777777778,\"#fb9f3a\"],[0.8888888888888888,\"#fdca26\"],[1.0,\"#f0f921\"]]}],\"choropleth\":[{\"type\":\"choropleth\",\"colorbar\":{\"outlinewidth\":0,\"ticks\":\"\"}}],\"histogram2d\":[{\"type\":\"histogram2d\",\"colorbar\":{\"outlinewidth\":0,\"ticks\":\"\"},\"colorscale\":[[0.0,\"#0d0887\"],[0.1111111111111111,\"#46039f\"],[0.2222222222222222,\"#7201a8\"],[0.3333333333333333,\"#9c179e\"],[0.4444444444444444,\"#bd3786\"],[0.5555555555555556,\"#d8576b\"],[0.6666666666666666,\"#ed7953\"],[0.7777777777777778,\"#fb9f3a\"],[0.8888888888888888,\"#fdca26\"],[1.0,\"#f0f921\"]]}],\"heatmap\":[{\"type\":\"heatmap\",\"colorbar\":{\"outlinewidth\":0,\"ticks\":\"\"},\"colorscale\":[[0.0,\"#0d0887\"],[0.1111111111111111,\"#46039f\"],[0.2222222222222222,\"#7201a8\"],[0.3333333333333333,\"#9c179e\"],[0.4444444444444444,\"#bd3786\"],[0.5555555555555556,\"#d8576b\"],[0.6666666666666666,\"#ed7953\"],[0.7777777777777778,\"#fb9f3a\"],[0.8888888888888888,\"#fdca26\"],[1.0,\"#f0f921\"]]}],\"heatmapgl\":[{\"type\":\"heatmapgl\",\"colorbar\":{\"outlinewidth\":0,\"ticks\":\"\"},\"colorscale\":[[0.0,\"#0d0887\"],[0.1111111111111111,\"#46039f\"],[0.2222222222222222,\"#7201a8\"],[0.3333333333333333,\"#9c179e\"],[0.4444444444444444,\"#bd3786\"],[0.5555555555555556,\"#d8576b\"],[0.6666666666666666,\"#ed7953\"],[0.7777777777777778,\"#fb9f3a\"],[0.8888888888888888,\"#fdca26\"],[1.0,\"#f0f921\"]]}],\"contourcarpet\":[{\"type\":\"contourcarpet\",\"colorbar\":{\"outlinewidth\":0,\"ticks\":\"\"}}],\"contour\":[{\"type\":\"contour\",\"colorbar\":{\"outlinewidth\":0,\"ticks\":\"\"},\"colorscale\":[[0.0,\"#0d0887\"],[0.1111111111111111,\"#46039f\"],[0.2222222222222222,\"#7201a8\"],[0.3333333333333333,\"#9c179e\"],[0.4444444444444444,\"#bd3786\"],[0.5555555555555556,\"#d8576b\"],[0.6666666666666666,\"#ed7953\"],[0.7777777777777778,\"#fb9f3a\"],[0.8888888888888888,\"#fdca26\"],[1.0,\"#f0f921\"]]}],\"surface\":[{\"type\":\"surface\",\"colorbar\":{\"outlinewidth\":0,\"ticks\":\"\"},\"colorscale\":[[0.0,\"#0d0887\"],[0.1111111111111111,\"#46039f\"],[0.2222222222222222,\"#7201a8\"],[0.3333333333333333,\"#9c179e\"],[0.4444444444444444,\"#bd3786\"],[0.5555555555555556,\"#d8576b\"],[0.6666666666666666,\"#ed7953\"],[0.7777777777777778,\"#fb9f3a\"],[0.8888888888888888,\"#fdca26\"],[1.0,\"#f0f921\"]]}],\"mesh3d\":[{\"type\":\"mesh3d\",\"colorbar\":{\"outlinewidth\":0,\"ticks\":\"\"}}],\"scatter\":[{\"fillpattern\":{\"fillmode\":\"overlay\",\"size\":10,\"solidity\":0.2},\"type\":\"scatter\"}],\"parcoords\":[{\"type\":\"parcoords\",\"line\":{\"colorbar\":{\"outlinewidth\":0,\"ticks\":\"\"}}}],\"scatterpolargl\":[{\"type\":\"scatterpolargl\",\"marker\":{\"colorbar\":{\"outlinewidth\":0,\"ticks\":\"\"}}}],\"bar\":[{\"error_x\":{\"color\":\"#2a3f5f\"},\"error_y\":{\"color\":\"#2a3f5f\"},\"marker\":{\"line\":{\"color\":\"#E5ECF6\",\"width\":0.5},\"pattern\":{\"fillmode\":\"overlay\",\"size\":10,\"solidity\":0.2}},\"type\":\"bar\"}],\"scattergeo\":[{\"type\":\"scattergeo\",\"marker\":{\"colorbar\":{\"outlinewidth\":0,\"ticks\":\"\"}}}],\"scatterpolar\":[{\"type\":\"scatterpolar\",\"marker\":{\"colorbar\":{\"outlinewidth\":0,\"ticks\":\"\"}}}],\"histogram\":[{\"marker\":{\"pattern\":{\"fillmode\":\"overlay\",\"size\":10,\"solidity\":0.2}},\"type\":\"histogram\"}],\"scattergl\":[{\"type\":\"scattergl\",\"marker\":{\"colorbar\":{\"outlinewidth\":0,\"ticks\":\"\"}}}],\"scatter3d\":[{\"type\":\"scatter3d\",\"line\":{\"colorbar\":{\"outlinewidth\":0,\"ticks\":\"\"}},\"marker\":{\"colorbar\":{\"outlinewidth\":0,\"ticks\":\"\"}}}],\"scattermapbox\":[{\"type\":\"scattermapbox\",\"marker\":{\"colorbar\":{\"outlinewidth\":0,\"ticks\":\"\"}}}],\"scatterternary\":[{\"type\":\"scatterternary\",\"marker\":{\"colorbar\":{\"outlinewidth\":0,\"ticks\":\"\"}}}],\"scattercarpet\":[{\"type\":\"scattercarpet\",\"marker\":{\"colorbar\":{\"outlinewidth\":0,\"ticks\":\"\"}}}],\"carpet\":[{\"aaxis\":{\"endlinecolor\":\"#2a3f5f\",\"gridcolor\":\"white\",\"linecolor\":\"white\",\"minorgridcolor\":\"white\",\"startlinecolor\":\"#2a3f5f\"},\"baxis\":{\"endlinecolor\":\"#2a3f5f\",\"gridcolor\":\"white\",\"linecolor\":\"white\",\"minorgridcolor\":\"white\",\"startlinecolor\":\"#2a3f5f\"},\"type\":\"carpet\"}],\"table\":[{\"cells\":{\"fill\":{\"color\":\"#EBF0F8\"},\"line\":{\"color\":\"white\"}},\"header\":{\"fill\":{\"color\":\"#C8D4E3\"},\"line\":{\"color\":\"white\"}},\"type\":\"table\"}],\"barpolar\":[{\"marker\":{\"line\":{\"color\":\"#E5ECF6\",\"width\":0.5},\"pattern\":{\"fillmode\":\"overlay\",\"size\":10,\"solidity\":0.2}},\"type\":\"barpolar\"}],\"pie\":[{\"automargin\":true,\"type\":\"pie\"}]},\"layout\":{\"autotypenumbers\":\"strict\",\"colorway\":[\"#636efa\",\"#EF553B\",\"#00cc96\",\"#ab63fa\",\"#FFA15A\",\"#19d3f3\",\"#FF6692\",\"#B6E880\",\"#FF97FF\",\"#FECB52\"],\"font\":{\"color\":\"#2a3f5f\"},\"hovermode\":\"closest\",\"hoverlabel\":{\"align\":\"left\"},\"paper_bgcolor\":\"white\",\"plot_bgcolor\":\"#E5ECF6\",\"polar\":{\"bgcolor\":\"#E5ECF6\",\"angularaxis\":{\"gridcolor\":\"white\",\"linecolor\":\"white\",\"ticks\":\"\"},\"radialaxis\":{\"gridcolor\":\"white\",\"linecolor\":\"white\",\"ticks\":\"\"}},\"ternary\":{\"bgcolor\":\"#E5ECF6\",\"aaxis\":{\"gridcolor\":\"white\",\"linecolor\":\"white\",\"ticks\":\"\"},\"baxis\":{\"gridcolor\":\"white\",\"linecolor\":\"white\",\"ticks\":\"\"},\"caxis\":{\"gridcolor\":\"white\",\"linecolor\":\"white\",\"ticks\":\"\"}},\"coloraxis\":{\"colorbar\":{\"outlinewidth\":0,\"ticks\":\"\"}},\"colorscale\":{\"sequential\":[[0.0,\"#0d0887\"],[0.1111111111111111,\"#46039f\"],[0.2222222222222222,\"#7201a8\"],[0.3333333333333333,\"#9c179e\"],[0.4444444444444444,\"#bd3786\"],[0.5555555555555556,\"#d8576b\"],[0.6666666666666666,\"#ed7953\"],[0.7777777777777778,\"#fb9f3a\"],[0.8888888888888888,\"#fdca26\"],[1.0,\"#f0f921\"]],\"sequentialminus\":[[0.0,\"#0d0887\"],[0.1111111111111111,\"#46039f\"],[0.2222222222222222,\"#7201a8\"],[0.3333333333333333,\"#9c179e\"],[0.4444444444444444,\"#bd3786\"],[0.5555555555555556,\"#d8576b\"],[0.6666666666666666,\"#ed7953\"],[0.7777777777777778,\"#fb9f3a\"],[0.8888888888888888,\"#fdca26\"],[1.0,\"#f0f921\"]],\"diverging\":[[0,\"#8e0152\"],[0.1,\"#c51b7d\"],[0.2,\"#de77ae\"],[0.3,\"#f1b6da\"],[0.4,\"#fde0ef\"],[0.5,\"#f7f7f7\"],[0.6,\"#e6f5d0\"],[0.7,\"#b8e186\"],[0.8,\"#7fbc41\"],[0.9,\"#4d9221\"],[1,\"#276419\"]]},\"xaxis\":{\"gridcolor\":\"white\",\"linecolor\":\"white\",\"ticks\":\"\",\"title\":{\"standoff\":15},\"zerolinecolor\":\"white\",\"automargin\":true,\"zerolinewidth\":2},\"yaxis\":{\"gridcolor\":\"white\",\"linecolor\":\"white\",\"ticks\":\"\",\"title\":{\"standoff\":15},\"zerolinecolor\":\"white\",\"automargin\":true,\"zerolinewidth\":2},\"scene\":{\"xaxis\":{\"backgroundcolor\":\"#E5ECF6\",\"gridcolor\":\"white\",\"linecolor\":\"white\",\"showbackground\":true,\"ticks\":\"\",\"zerolinecolor\":\"white\",\"gridwidth\":2},\"yaxis\":{\"backgroundcolor\":\"#E5ECF6\",\"gridcolor\":\"white\",\"linecolor\":\"white\",\"showbackground\":true,\"ticks\":\"\",\"zerolinecolor\":\"white\",\"gridwidth\":2},\"zaxis\":{\"backgroundcolor\":\"#E5ECF6\",\"gridcolor\":\"white\",\"linecolor\":\"white\",\"showbackground\":true,\"ticks\":\"\",\"zerolinecolor\":\"white\",\"gridwidth\":2}},\"shapedefaults\":{\"line\":{\"color\":\"#2a3f5f\"}},\"annotationdefaults\":{\"arrowcolor\":\"#2a3f5f\",\"arrowhead\":0,\"arrowwidth\":1},\"geo\":{\"bgcolor\":\"white\",\"landcolor\":\"#E5ECF6\",\"subunitcolor\":\"white\",\"showland\":true,\"showlakes\":true,\"lakecolor\":\"white\"},\"title\":{\"x\":0.05},\"mapbox\":{\"style\":\"light\"}}},\"xaxis\":{\"anchor\":\"y\",\"domain\":[0.0,1.0],\"title\":{\"text\":\"index\"}},\"yaxis\":{\"anchor\":\"x\",\"domain\":[0.0,1.0],\"title\":{\"text\":\"value\"}},\"legend\":{\"title\":{\"text\":\"variable\"},\"tracegroupgap\":0},\"title\":{\"text\":\"Logit Difference From Each Layer\"},\"width\":800},                        {\"responsive\": true}                    ).then(function(){\n",
       "                            \n",
       "var gd = document.getElementById('3f466c98-4465-41fa-8057-6470d94c7e87');\n",
       "var x = new MutationObserver(function (mutations, observer) {{\n",
       "        var display = window.getComputedStyle(gd).display;\n",
       "        if (!display || display === 'none') {{\n",
       "            console.log([gd, 'removed!']);\n",
       "            Plotly.purge(gd);\n",
       "            observer.disconnect();\n",
       "        }}\n",
       "}});\n",
       "\n",
       "// Listen for the removal of the full notebook cells\n",
       "var notebookContainer = gd.closest('#notebook-container');\n",
       "if (notebookContainer) {{\n",
       "    x.observe(notebookContainer, {childList: true});\n",
       "}}\n",
       "\n",
       "// Listen for the clearing of the current output cell\n",
       "var outputEl = gd.closest('.output');\n",
       "if (outputEl) {{\n",
       "    x.observe(outputEl, {childList: true});\n",
       "}}\n",
       "\n",
       "                        })                };                });            </script>        </div>"
      ]
     },
     "metadata": {},
     "output_type": "display_data"
    }
   ],
   "source": [
    "per_layer_residual, labels = cache.decompose_resid(layer=-1, pos_slice=-1, return_labels=True)\n",
    "per_layer_logit_diffs = residual_stack_to_logit_diff(per_layer_residual, cache)\n",
    "\n",
    "line(\n",
    "    per_layer_logit_diffs.detach().cpu().numpy(), \n",
    "    #hovermode=\"x unified\",\n",
    "    title=\"Logit Difference From Each Layer\",\n",
    "    labels={\"x\": \"Layer\", \"y\": \"Logit Diff\"},\n",
    "    #xaxis_tickvals=labels,\n",
    "    width=800\n",
    ")"
   ]
  },
  {
   "cell_type": "code",
   "execution_count": 151,
   "metadata": {},
   "outputs": [],
   "source": [
    "def imshow(tensor, renderer=None, **kwargs):\n",
    "    preset_kwargs = {\n",
    "        \"color_continuous_midpoint\": 0.0,\n",
    "        \"color_continuous_scale\": \"RdBu\",\n",
    "        \"text_auto\":\".2f\"\n",
    "    }\n",
    "\n",
    "    fig = px.imshow(utils.to_numpy(tensor), **{**preset_kwargs, **kwargs})\n",
    "    fig.show(renderer=renderer)"
   ]
  },
  {
   "cell_type": "code",
   "execution_count": 152,
   "metadata": {},
   "outputs": [
    {
     "data": {
      "text/html": [
       "<div>                            <div id=\"9bcce48a-b2d2-45a2-9556-bd7a66e4b9cf\" class=\"plotly-graph-div\" style=\"height:525px; width:600px;\"></div>            <script type=\"text/javascript\">                require([\"plotly\"], function(Plotly) {                    window.PLOTLYENV=window.PLOTLYENV || {};                                    if (document.getElementById(\"9bcce48a-b2d2-45a2-9556-bd7a66e4b9cf\")) {                    Plotly.newPlot(                        \"9bcce48a-b2d2-45a2-9556-bd7a66e4b9cf\",                        [{\"coloraxis\":\"coloraxis\",\"name\":\"0\",\"texttemplate\":\"%{z:.2f}\",\"z\":[[-0.0031595274340361357,-0.0003580997290555388,-0.00012482611055020243,0.0002663123013917357,-0.0010370691306889057,0.00010961986845359206,-0.004518966656178236,-0.003987055737525225,-0.00019320566207170486,0.0012336467625573277,-0.0008111895294860005,-0.0009062876924872398],[-0.0004751030064653605,0.0002688775130081922,-0.000289782474283129,0.0003676184278447181,-0.002197079826146364,-0.0003535972791723907,-0.003064870834350586,-0.0035655866377055645,0.0027103747706860304,0.0017797237960621715,0.0016782531747594476,0.0018129902891814709],[-0.0007328311912715435,-0.0012303328840062022,-0.0010634857462719083,-0.0014776296447962523,-7.62540876166895e-05,0.0013618525117635727,0.001611646031960845,0.003918194677680731,0.00019575245096348226,-0.0019583955872803926,-0.0015271431766450405,0.0004129092558287084],[-0.00030431669438257813,-0.0002347454137634486,0.000301963445963338,0.00028840801678597927,0.0005939861875958741,-0.0012107186485081911,-0.0006194393499754369,-0.0015457704430446029,0.000647963781375438,-5.1791271289403085e-06,-0.001504753716289997,-0.001138723106123507],[-0.0013208122691139579,-9.861022408585995e-05,-0.0009165858500637114,-0.0017074367497116327,0.0012023387243971229,-0.00014184396422933787,-0.0010482469806447625,0.0008689658716320992,-0.001096135936677456,-0.0009697879431769252,0.0006216592737473547,-0.00011061113036703318],[0.00032164924778044224,0.0007316530682146549,-0.001257765688933432,-0.001409808755852282,-0.000407426618039608,-0.0002878925879485905,-9.63523707468994e-05,0.0007102375966496766,0.0007462641224265099,-0.0007527035777457058,-0.004409392364323139,0.002082629594951868],[-0.004515951965004206,-0.0053026312962174416,0.0022223598789423704,-0.00041165060247294605,-0.005578310694545507,0.0020197106059640646,0.003503133775666356,-0.002394147217273712,-0.0003202018269803375,-0.001157194608822465,-0.00038238687557168305,-6.012855737935752e-05],[7.149361772462726e-05,-0.002595399273559451,3.7700658140238374e-05,0.06936495006084442,-0.0011645673075690866,-0.009887118823826313,0.002173085929825902,-0.0013634018832817674,-0.0030499063432216644,0.16991408169269562,-0.0007771808304823935,-0.001770300674252212],[0.00027418052195571363,-0.0002269537653774023,-0.020482221618294716,0.001916531240567565,0.001217214623466134,0.004246656317263842,-0.10916900634765625,0.002841225592419505,-0.020128322765231133,0.0023335767909884453,0.2613958418369293,0.008303848095238209],[0.058860693126916885,-0.00031322072027251124,0.029541615396738052,0.008439061231911182,-0.015223510563373566,0.029796473681926727,1.3343991041183472,0.06493184715509415,-0.04660492762923241,2.6496798992156982,0.0007046316750347614,-0.006693875417113304],[0.6342725157737732,0.1909913867712021,-0.06046069785952568,0.05191725119948387,-0.002987808780744672,0.0018183166394010186,0.21957334876060486,-1.8274942636489868,-7.50432227505371e-05,-0.002218135865405202,0.4484112560749054,0.002508927369490266],[0.022872844710946083,-0.02105339802801609,-0.47041043639183044,0.02773803472518921,-0.0006921462481841445,-0.0024445862509310246,-0.10129362344741821,0.0057986644096672535,0.028215672820806503,-0.022495705634355545,-0.9197570085525513,0.021422425284981728]],\"type\":\"heatmap\",\"xaxis\":\"x\",\"yaxis\":\"y\",\"hovertemplate\":\"Head: %{x}\\u003cbr\\u003eLayer: %{y}\\u003cbr\\u003ecolor: %{z}\\u003cextra\\u003e\\u003c\\u002fextra\\u003e\"}],                        {\"template\":{\"data\":{\"histogram2dcontour\":[{\"type\":\"histogram2dcontour\",\"colorbar\":{\"outlinewidth\":0,\"ticks\":\"\"},\"colorscale\":[[0.0,\"#0d0887\"],[0.1111111111111111,\"#46039f\"],[0.2222222222222222,\"#7201a8\"],[0.3333333333333333,\"#9c179e\"],[0.4444444444444444,\"#bd3786\"],[0.5555555555555556,\"#d8576b\"],[0.6666666666666666,\"#ed7953\"],[0.7777777777777778,\"#fb9f3a\"],[0.8888888888888888,\"#fdca26\"],[1.0,\"#f0f921\"]]}],\"choropleth\":[{\"type\":\"choropleth\",\"colorbar\":{\"outlinewidth\":0,\"ticks\":\"\"}}],\"histogram2d\":[{\"type\":\"histogram2d\",\"colorbar\":{\"outlinewidth\":0,\"ticks\":\"\"},\"colorscale\":[[0.0,\"#0d0887\"],[0.1111111111111111,\"#46039f\"],[0.2222222222222222,\"#7201a8\"],[0.3333333333333333,\"#9c179e\"],[0.4444444444444444,\"#bd3786\"],[0.5555555555555556,\"#d8576b\"],[0.6666666666666666,\"#ed7953\"],[0.7777777777777778,\"#fb9f3a\"],[0.8888888888888888,\"#fdca26\"],[1.0,\"#f0f921\"]]}],\"heatmap\":[{\"type\":\"heatmap\",\"colorbar\":{\"outlinewidth\":0,\"ticks\":\"\"},\"colorscale\":[[0.0,\"#0d0887\"],[0.1111111111111111,\"#46039f\"],[0.2222222222222222,\"#7201a8\"],[0.3333333333333333,\"#9c179e\"],[0.4444444444444444,\"#bd3786\"],[0.5555555555555556,\"#d8576b\"],[0.6666666666666666,\"#ed7953\"],[0.7777777777777778,\"#fb9f3a\"],[0.8888888888888888,\"#fdca26\"],[1.0,\"#f0f921\"]]}],\"heatmapgl\":[{\"type\":\"heatmapgl\",\"colorbar\":{\"outlinewidth\":0,\"ticks\":\"\"},\"colorscale\":[[0.0,\"#0d0887\"],[0.1111111111111111,\"#46039f\"],[0.2222222222222222,\"#7201a8\"],[0.3333333333333333,\"#9c179e\"],[0.4444444444444444,\"#bd3786\"],[0.5555555555555556,\"#d8576b\"],[0.6666666666666666,\"#ed7953\"],[0.7777777777777778,\"#fb9f3a\"],[0.8888888888888888,\"#fdca26\"],[1.0,\"#f0f921\"]]}],\"contourcarpet\":[{\"type\":\"contourcarpet\",\"colorbar\":{\"outlinewidth\":0,\"ticks\":\"\"}}],\"contour\":[{\"type\":\"contour\",\"colorbar\":{\"outlinewidth\":0,\"ticks\":\"\"},\"colorscale\":[[0.0,\"#0d0887\"],[0.1111111111111111,\"#46039f\"],[0.2222222222222222,\"#7201a8\"],[0.3333333333333333,\"#9c179e\"],[0.4444444444444444,\"#bd3786\"],[0.5555555555555556,\"#d8576b\"],[0.6666666666666666,\"#ed7953\"],[0.7777777777777778,\"#fb9f3a\"],[0.8888888888888888,\"#fdca26\"],[1.0,\"#f0f921\"]]}],\"surface\":[{\"type\":\"surface\",\"colorbar\":{\"outlinewidth\":0,\"ticks\":\"\"},\"colorscale\":[[0.0,\"#0d0887\"],[0.1111111111111111,\"#46039f\"],[0.2222222222222222,\"#7201a8\"],[0.3333333333333333,\"#9c179e\"],[0.4444444444444444,\"#bd3786\"],[0.5555555555555556,\"#d8576b\"],[0.6666666666666666,\"#ed7953\"],[0.7777777777777778,\"#fb9f3a\"],[0.8888888888888888,\"#fdca26\"],[1.0,\"#f0f921\"]]}],\"mesh3d\":[{\"type\":\"mesh3d\",\"colorbar\":{\"outlinewidth\":0,\"ticks\":\"\"}}],\"scatter\":[{\"fillpattern\":{\"fillmode\":\"overlay\",\"size\":10,\"solidity\":0.2},\"type\":\"scatter\"}],\"parcoords\":[{\"type\":\"parcoords\",\"line\":{\"colorbar\":{\"outlinewidth\":0,\"ticks\":\"\"}}}],\"scatterpolargl\":[{\"type\":\"scatterpolargl\",\"marker\":{\"colorbar\":{\"outlinewidth\":0,\"ticks\":\"\"}}}],\"bar\":[{\"error_x\":{\"color\":\"#2a3f5f\"},\"error_y\":{\"color\":\"#2a3f5f\"},\"marker\":{\"line\":{\"color\":\"#E5ECF6\",\"width\":0.5},\"pattern\":{\"fillmode\":\"overlay\",\"size\":10,\"solidity\":0.2}},\"type\":\"bar\"}],\"scattergeo\":[{\"type\":\"scattergeo\",\"marker\":{\"colorbar\":{\"outlinewidth\":0,\"ticks\":\"\"}}}],\"scatterpolar\":[{\"type\":\"scatterpolar\",\"marker\":{\"colorbar\":{\"outlinewidth\":0,\"ticks\":\"\"}}}],\"histogram\":[{\"marker\":{\"pattern\":{\"fillmode\":\"overlay\",\"size\":10,\"solidity\":0.2}},\"type\":\"histogram\"}],\"scattergl\":[{\"type\":\"scattergl\",\"marker\":{\"colorbar\":{\"outlinewidth\":0,\"ticks\":\"\"}}}],\"scatter3d\":[{\"type\":\"scatter3d\",\"line\":{\"colorbar\":{\"outlinewidth\":0,\"ticks\":\"\"}},\"marker\":{\"colorbar\":{\"outlinewidth\":0,\"ticks\":\"\"}}}],\"scattermapbox\":[{\"type\":\"scattermapbox\",\"marker\":{\"colorbar\":{\"outlinewidth\":0,\"ticks\":\"\"}}}],\"scatterternary\":[{\"type\":\"scatterternary\",\"marker\":{\"colorbar\":{\"outlinewidth\":0,\"ticks\":\"\"}}}],\"scattercarpet\":[{\"type\":\"scattercarpet\",\"marker\":{\"colorbar\":{\"outlinewidth\":0,\"ticks\":\"\"}}}],\"carpet\":[{\"aaxis\":{\"endlinecolor\":\"#2a3f5f\",\"gridcolor\":\"white\",\"linecolor\":\"white\",\"minorgridcolor\":\"white\",\"startlinecolor\":\"#2a3f5f\"},\"baxis\":{\"endlinecolor\":\"#2a3f5f\",\"gridcolor\":\"white\",\"linecolor\":\"white\",\"minorgridcolor\":\"white\",\"startlinecolor\":\"#2a3f5f\"},\"type\":\"carpet\"}],\"table\":[{\"cells\":{\"fill\":{\"color\":\"#EBF0F8\"},\"line\":{\"color\":\"white\"}},\"header\":{\"fill\":{\"color\":\"#C8D4E3\"},\"line\":{\"color\":\"white\"}},\"type\":\"table\"}],\"barpolar\":[{\"marker\":{\"line\":{\"color\":\"#E5ECF6\",\"width\":0.5},\"pattern\":{\"fillmode\":\"overlay\",\"size\":10,\"solidity\":0.2}},\"type\":\"barpolar\"}],\"pie\":[{\"automargin\":true,\"type\":\"pie\"}]},\"layout\":{\"autotypenumbers\":\"strict\",\"colorway\":[\"#636efa\",\"#EF553B\",\"#00cc96\",\"#ab63fa\",\"#FFA15A\",\"#19d3f3\",\"#FF6692\",\"#B6E880\",\"#FF97FF\",\"#FECB52\"],\"font\":{\"color\":\"#2a3f5f\"},\"hovermode\":\"closest\",\"hoverlabel\":{\"align\":\"left\"},\"paper_bgcolor\":\"white\",\"plot_bgcolor\":\"#E5ECF6\",\"polar\":{\"bgcolor\":\"#E5ECF6\",\"angularaxis\":{\"gridcolor\":\"white\",\"linecolor\":\"white\",\"ticks\":\"\"},\"radialaxis\":{\"gridcolor\":\"white\",\"linecolor\":\"white\",\"ticks\":\"\"}},\"ternary\":{\"bgcolor\":\"#E5ECF6\",\"aaxis\":{\"gridcolor\":\"white\",\"linecolor\":\"white\",\"ticks\":\"\"},\"baxis\":{\"gridcolor\":\"white\",\"linecolor\":\"white\",\"ticks\":\"\"},\"caxis\":{\"gridcolor\":\"white\",\"linecolor\":\"white\",\"ticks\":\"\"}},\"coloraxis\":{\"colorbar\":{\"outlinewidth\":0,\"ticks\":\"\"}},\"colorscale\":{\"sequential\":[[0.0,\"#0d0887\"],[0.1111111111111111,\"#46039f\"],[0.2222222222222222,\"#7201a8\"],[0.3333333333333333,\"#9c179e\"],[0.4444444444444444,\"#bd3786\"],[0.5555555555555556,\"#d8576b\"],[0.6666666666666666,\"#ed7953\"],[0.7777777777777778,\"#fb9f3a\"],[0.8888888888888888,\"#fdca26\"],[1.0,\"#f0f921\"]],\"sequentialminus\":[[0.0,\"#0d0887\"],[0.1111111111111111,\"#46039f\"],[0.2222222222222222,\"#7201a8\"],[0.3333333333333333,\"#9c179e\"],[0.4444444444444444,\"#bd3786\"],[0.5555555555555556,\"#d8576b\"],[0.6666666666666666,\"#ed7953\"],[0.7777777777777778,\"#fb9f3a\"],[0.8888888888888888,\"#fdca26\"],[1.0,\"#f0f921\"]],\"diverging\":[[0,\"#8e0152\"],[0.1,\"#c51b7d\"],[0.2,\"#de77ae\"],[0.3,\"#f1b6da\"],[0.4,\"#fde0ef\"],[0.5,\"#f7f7f7\"],[0.6,\"#e6f5d0\"],[0.7,\"#b8e186\"],[0.8,\"#7fbc41\"],[0.9,\"#4d9221\"],[1,\"#276419\"]]},\"xaxis\":{\"gridcolor\":\"white\",\"linecolor\":\"white\",\"ticks\":\"\",\"title\":{\"standoff\":15},\"zerolinecolor\":\"white\",\"automargin\":true,\"zerolinewidth\":2},\"yaxis\":{\"gridcolor\":\"white\",\"linecolor\":\"white\",\"ticks\":\"\",\"title\":{\"standoff\":15},\"zerolinecolor\":\"white\",\"automargin\":true,\"zerolinewidth\":2},\"scene\":{\"xaxis\":{\"backgroundcolor\":\"#E5ECF6\",\"gridcolor\":\"white\",\"linecolor\":\"white\",\"showbackground\":true,\"ticks\":\"\",\"zerolinecolor\":\"white\",\"gridwidth\":2},\"yaxis\":{\"backgroundcolor\":\"#E5ECF6\",\"gridcolor\":\"white\",\"linecolor\":\"white\",\"showbackground\":true,\"ticks\":\"\",\"zerolinecolor\":\"white\",\"gridwidth\":2},\"zaxis\":{\"backgroundcolor\":\"#E5ECF6\",\"gridcolor\":\"white\",\"linecolor\":\"white\",\"showbackground\":true,\"ticks\":\"\",\"zerolinecolor\":\"white\",\"gridwidth\":2}},\"shapedefaults\":{\"line\":{\"color\":\"#2a3f5f\"}},\"annotationdefaults\":{\"arrowcolor\":\"#2a3f5f\",\"arrowhead\":0,\"arrowwidth\":1},\"geo\":{\"bgcolor\":\"white\",\"landcolor\":\"#E5ECF6\",\"subunitcolor\":\"white\",\"showland\":true,\"showlakes\":true,\"lakecolor\":\"white\"},\"title\":{\"x\":0.05},\"mapbox\":{\"style\":\"light\"}}},\"xaxis\":{\"anchor\":\"y\",\"domain\":[0.0,1.0],\"scaleanchor\":\"y\",\"constrain\":\"domain\",\"title\":{\"text\":\"Head\"}},\"yaxis\":{\"anchor\":\"x\",\"domain\":[0.0,1.0],\"autorange\":\"reversed\",\"constrain\":\"domain\",\"title\":{\"text\":\"Layer\"}},\"coloraxis\":{\"colorscale\":[[0.0,\"rgb(103,0,31)\"],[0.1,\"rgb(178,24,43)\"],[0.2,\"rgb(214,96,77)\"],[0.3,\"rgb(244,165,130)\"],[0.4,\"rgb(253,219,199)\"],[0.5,\"rgb(247,247,247)\"],[0.6,\"rgb(209,229,240)\"],[0.7,\"rgb(146,197,222)\"],[0.8,\"rgb(67,147,195)\"],[0.9,\"rgb(33,102,172)\"],[1.0,\"rgb(5,48,97)\"]],\"cmid\":0.0},\"title\":{\"text\":\"Logit Difference From Each Head\"},\"width\":600},                        {\"responsive\": true}                    ).then(function(){\n",
       "                            \n",
       "var gd = document.getElementById('9bcce48a-b2d2-45a2-9556-bd7a66e4b9cf');\n",
       "var x = new MutationObserver(function (mutations, observer) {{\n",
       "        var display = window.getComputedStyle(gd).display;\n",
       "        if (!display || display === 'none') {{\n",
       "            console.log([gd, 'removed!']);\n",
       "            Plotly.purge(gd);\n",
       "            observer.disconnect();\n",
       "        }}\n",
       "}});\n",
       "\n",
       "// Listen for the removal of the full notebook cells\n",
       "var notebookContainer = gd.closest('#notebook-container');\n",
       "if (notebookContainer) {{\n",
       "    x.observe(notebookContainer, {childList: true});\n",
       "}}\n",
       "\n",
       "// Listen for the clearing of the current output cell\n",
       "var outputEl = gd.closest('.output');\n",
       "if (outputEl) {{\n",
       "    x.observe(outputEl, {childList: true});\n",
       "}}\n",
       "\n",
       "                        })                };                });            </script>        </div>"
      ]
     },
     "metadata": {},
     "output_type": "display_data"
    }
   ],
   "source": [
    "per_head_residual, labels = cache.stack_head_results(layer=-1, pos_slice=-1, return_labels=True)\n",
    "per_head_residual = einops.rearrange(\n",
    "    per_head_residual, \n",
    "    \"(layer head) ... -> layer head ...\", \n",
    "    layer=model.cfg.n_layers\n",
    ")\n",
    "per_head_logit_diffs = residual_stack_to_logit_diff(per_head_residual, cache)\n",
    "\n",
    "imshow(\n",
    "    per_head_logit_diffs, \n",
    "    labels={\"x\":\"Head\", \"y\":\"Layer\"}, \n",
    "    title=\"Logit Difference From Each Head\",\n",
    "    width=600\n",
    ")"
   ]
  },
  {
   "attachments": {},
   "cell_type": "markdown",
   "metadata": {},
   "source": [
    "## Try to find backup name movers - mean ablations"
   ]
  },
  {
   "cell_type": "code",
   "execution_count": 153,
   "metadata": {},
   "outputs": [],
   "source": [
    "def plot_per_head_attribution(cache: ActivationCache, logit_diff_directions=logit_diff_directions, title=\"\"):\n",
    "    per_head_residual, _ = cache.stack_head_results(layer=-1, pos_slice=-1, return_labels=True)\n",
    "    per_head_residual = einops.rearrange(\n",
    "        per_head_residual, \n",
    "        \"(layer head) ... -> layer head ...\", \n",
    "        layer=model.cfg.n_layers\n",
    "    )\n",
    "    per_head_logit_diffs = residual_stack_to_logit_diff(per_head_residual, cache, logit_diff_directions)\n",
    "\n",
    "    imshow(\n",
    "        per_head_logit_diffs, \n",
    "        labels={\"x\":\"Head\", \"y\":\"Layer\"}, \n",
    "        title=title,\n",
    "        width=600\n",
    "    )"
   ]
  },
  {
   "cell_type": "code",
   "execution_count": 154,
   "metadata": {},
   "outputs": [
    {
     "name": "stderr",
     "output_type": "stream",
     "text": [
      "Found cached dataset parquet (/root/.cache/huggingface/datasets/NeelNanda___parquet/NeelNanda--c4-10k-dc1f5fce0477f6d0/0.0.0/14a00e99c0d15a23649d0db8944380ac81082d4b021f398733dd84f3a6c569a7)\n"
     ]
    }
   ],
   "source": [
    "dataset = load_dataset(\"NeelNanda/c4-10k\", split=\"train\")\n",
    "dataloader = torch.utils.data.DataLoader(dataset[\"text\"], batch_size=1)"
   ]
  },
  {
   "cell_type": "code",
   "execution_count": 155,
   "metadata": {},
   "outputs": [],
   "source": [
    "import gc\n",
    "gc.collect()\n",
    "torch.cuda.empty_cache()"
   ]
  },
  {
   "attachments": {},
   "cell_type": "markdown",
   "metadata": {},
   "source": [
    "### Store mean activations of interesting heads for use in mean ablations"
   ]
  },
  {
   "cell_type": "code",
   "execution_count": 103,
   "metadata": {},
   "outputs": [
    {
     "data": {
      "application/vnd.jupyter.widget-view+json": {
       "model_id": "10064d5f22d6463196fbbffdc6108608",
       "version_major": 2,
       "version_minor": 0
      },
      "text/plain": [
       "  0%|          | 0/11 [00:00<?, ?it/s]"
      ]
     },
     "metadata": {},
     "output_type": "display_data"
    }
   ],
   "source": [
    "def get_mean_activations(layer, head, n=50, sequence_length=15):\n",
    "    activations = []\n",
    "\n",
    "    for i, batch in enumerate(dataloader):\n",
    "        tokens = model.to_tokens(batch[0])[0, :sequence_length]\n",
    "        _, cache = model.run_with_cache(tokens)\n",
    "        attention_pattern = cache[f\"blocks.{layer}.attn.hook_pattern\"]\n",
    "        head_results = attention_pattern[0, head, :, :]\n",
    "        activations.append(head_results)\n",
    "        if i == n:\n",
    "            break\n",
    "\n",
    "    all_activations = torch.stack(activations, dim=0)\n",
    "    #print(\"Combined:\", all_activations.shape)\n",
    "    return torch.mean(all_activations, dim=(0))\n",
    "\n",
    "\n",
    "# Heads of interest we identified using direct logit attribution, tuple(layer, head_index). Slightly different to IOI paper.\n",
    "positive_dla_heads = [(7, 3), (7, 9), (8,10), (9, 6), (9, 9), (10, 0), (10, 6), (10, 10)] # I took another stab at this using ~0.2 as a cutoff and found [(11, 2), (11, 10), (10, 0), (10, 7), (10, 10), (9, 6), (9, 9)]\n",
    "\n",
    "# Heads of interest identified in IOI paper. \n",
    "s_inhibition_heads = [(7, 3), (7, 9), (8, 6), (8, 10)]\n",
    "positive_name_movers = [(9, 9), (9, 6), (10, 0)]\n",
    "negative_name_movers = [(10, 7), (11, 10)]\n",
    "name_movers = positive_name_movers + negative_name_movers\n",
    "# backup_name_movers = [(10, 10), (10, 6), (10, 2), (10, 1), (11, 2), (11, 9), (11, 3), (9, 7)]\n",
    "\n",
    "all_heads = set(s_inhibition_heads + name_movers + positive_dla_heads)\n",
    "\n",
    "# Store heads' mean activations in a dictionary for use in ablations.\n",
    "mean_activations_dict = {}\n",
    "for layer, head in tqdm(all_heads):\n",
    "    mean_activations = get_mean_activations(layer, head)\n",
    "    mean_activations_dict[(layer, head)] = mean_activations\n"
   ]
  },
  {
   "attachments": {},
   "cell_type": "markdown",
   "metadata": {},
   "source": [
    "### Utility function to ablate selected heads and show logit difference information"
   ]
  },
  {
   "cell_type": "code",
   "execution_count": 156,
   "metadata": {},
   "outputs": [],
   "source": [
    "def head_mean_ablation_logit_diff(heads: list[(int, int)], answer_tokens=answer_tokens, prompts=prompts, mean_activations_dict=mean_activations_dict):\n",
    "        def hook_all_attention_patterns(attn_pattern, hook: HookPoint, head_idx: int, layer_idx: int):\n",
    "            if hook.layer() == layer_idx:\n",
    "                attn_pattern[:, head_idx] = mean_activations_dict[(layer_idx, head_idx)]\n",
    "                return attn_pattern\n",
    "            \n",
    "        model.reset_hooks()\n",
    "        model.set_use_attn_result(True)\n",
    "        tokens = model.to_tokens(prompts)\n",
    "        logit_diff_directions = get_logit_diff_directions(model, answer_tokens)\n",
    "\n",
    "        # Original cache\n",
    "        original_logits, original_cache = model.run_with_cache(tokens)\n",
    "\n",
    "        # Ablated cache\n",
    "        name_filter = lambda name: name.endswith(\"pattern\")\n",
    "        hooks = []\n",
    "        for layer, head in heads:\n",
    "            hooks.append((name_filter, functools.partial(hook_all_attention_patterns, head_idx=head, layer_idx=layer)))\n",
    "\n",
    "        with model.hooks(fwd_hooks=hooks):\n",
    "            ablated_logits, ablated_cache = model.run_with_cache(tokens)\n",
    "\n",
    "        # Average logit differences\n",
    "        original_average_logit_diff = logits_to_ave_logit_diff(original_logits, answer_tokens)\n",
    "        print(\"Average logit difference:\", original_average_logit_diff)\n",
    "        ablated_average_logit_diff = logits_to_ave_logit_diff(ablated_logits, answer_tokens)\n",
    "        print(\"Average logit difference:\", ablated_average_logit_diff)\n",
    "\n",
    "        # Plot logit differences from each head\n",
    "        plot_per_head_attribution(ablated_cache, logit_diff_directions, title=f\"Ablated Average Logit Difference From Heads <br> {heads}\")\n",
    "        plot_per_head_attribution(original_cache, logit_diff_directions, title=\"Unablated Average Logit Difference From Each Head\", )"
   ]
  },
  {
   "attachments": {},
   "cell_type": "markdown",
   "metadata": {},
   "source": [
    "### Zoom in on L9H9 - get ablated average logit difference, compare L9H9 activations with L9H6 and other L9H"
   ]
  },
  {
   "cell_type": "code",
   "execution_count": 131,
   "metadata": {},
   "outputs": [
    {
     "name": "stdout",
     "output_type": "stream",
     "text": [
      "Logit difference accuracy:  1.000\n",
      "Average logit difference: 2.976\n",
      "Logit difference accuracy:  1.000\n",
      "Average logit difference: 2.718\n"
     ]
    },
    {
     "data": {
      "text/html": [
       "<div>                            <div id=\"49d7a1fb-1dc8-4817-9bb8-f39663ed3d46\" class=\"plotly-graph-div\" style=\"height:525px; width:600px;\"></div>            <script type=\"text/javascript\">                require([\"plotly\"], function(Plotly) {                    window.PLOTLYENV=window.PLOTLYENV || {};                                    if (document.getElementById(\"49d7a1fb-1dc8-4817-9bb8-f39663ed3d46\")) {                    Plotly.newPlot(                        \"49d7a1fb-1dc8-4817-9bb8-f39663ed3d46\",                        [{\"coloraxis\":\"coloraxis\",\"name\":\"0\",\"texttemplate\":\"%{z:.2f}\",\"z\":[[-0.0031773648224771023,-0.0002781235089059919,-0.0002334423188585788,0.0004407972446642816,-0.0010824339697137475,0.0001242091675521806,-0.00461643747985363,-0.00394953740760684,-2.0235100237186998e-05,0.0010303668677806854,-0.0009007995831780136,-0.0007366277277469635],[-0.00017972376372199506,0.0002997408155351877,1.983962647500448e-05,0.00012138363672420382,-0.001651465892791748,-9.176120511256158e-05,-0.0033507049083709717,-0.004020825028419495,0.002378516597673297,0.0015744729898869991,0.0019799419678747654,0.0013582820538431406],[-0.0005552487564273179,-0.0013734266394749284,-0.0007590837776660919,-0.0016667629824951291,2.020609099417925e-05,0.0009101736359298229,0.0013666554586961865,0.003955713007599115,-6.412922084564343e-05,-0.0018561877077445388,-0.0007040213095024228,0.00023964326828718185],[-0.00018013015505857766,-0.0003153288271278143,-0.00013406379730440676,0.0003468257200438529,0.0003925061319023371,-0.0012396868551149964,-0.0005424374830909073,-0.0012975619174540043,0.0001810627873055637,0.0001768232323229313,-0.0010357076535001397,-0.0007702162256464362],[-0.0012232481967657804,-0.00013452538405545056,-0.0011327117681503296,-0.0014783022925257683,0.0010610880563035607,8.440054807579145e-05,-0.000784686126280576,0.0011055606883019209,-0.0007471523131243885,-0.0008156544645316899,0.0005589251522906125,-0.0003790206101257354],[6.705671694362536e-05,0.0006447057239711285,-0.0012820103438571095,-0.0013501722132787108,-0.00012424525630194694,-0.0007677103276364505,-6.660625513177365e-05,0.0003787594323512167,0.0009744043345563114,0.00034199876245111227,-0.004660697188228369,0.002356637269258499],[-0.004521508235484362,-0.005339054856449366,0.002218244830146432,-5.132478690939024e-05,-0.005538175348192453,0.002085035899654031,0.0038000955246388912,-0.002498016692698002,-0.0007544754189439118,-0.0011409504804760218,-0.0005239763995632529,8.151400834321976e-05],[-4.1183928260579705e-05,-0.002592463279142976,-2.215108452219283e-06,0.07190127670764923,-0.0008854724001139402,-0.009970021434128284,0.0019261966226622462,-0.0012932880781590939,-0.003984954208135605,0.17530590295791626,-0.0008653615368530154,-0.0015029326314106584],[0.0004255894455127418,-0.0003093840496148914,-0.021212700754404068,0.0024636744055896997,0.0014201495796442032,0.0046275826171040535,-0.11016319692134857,0.0027232698630541563,-0.020994648337364197,0.0026723730843514204,0.2673327922821045,0.008512647822499275],[0.06015291064977646,-0.00038435039459727705,0.03068777732551098,0.008968595415353775,-0.015755638480186462,0.0308257844299078,1.369005799293518,0.06730800867080688,-0.044262152165174484,-0.009562119841575623,0.0007046749233268201,-0.006524269003421068],[0.9857396483421326,0.33082157373428345,0.2458353042602539,0.0792931467294693,-0.0043232636526227,0.0006129206740297377,0.3402518033981323,-0.5338045358657837,-0.00014824264508206397,-0.008319707587361336,1.015849232673645,0.0031598007772117853],[0.025164000689983368,-0.0026343532372266054,-0.48343637585639954,0.0616941899061203,-0.0031969978008419275,-0.003128740005195141,-0.10603480041027069,0.005117274355143309,0.027689289301633835,0.0015667433617636561,-1.1899572610855103,0.02761746011674404]],\"type\":\"heatmap\",\"xaxis\":\"x\",\"yaxis\":\"y\",\"hovertemplate\":\"Head: %{x}\\u003cbr\\u003eLayer: %{y}\\u003cbr\\u003ecolor: %{z}\\u003cextra\\u003e\\u003c\\u002fextra\\u003e\"}],                        {\"template\":{\"data\":{\"histogram2dcontour\":[{\"type\":\"histogram2dcontour\",\"colorbar\":{\"outlinewidth\":0,\"ticks\":\"\"},\"colorscale\":[[0.0,\"#0d0887\"],[0.1111111111111111,\"#46039f\"],[0.2222222222222222,\"#7201a8\"],[0.3333333333333333,\"#9c179e\"],[0.4444444444444444,\"#bd3786\"],[0.5555555555555556,\"#d8576b\"],[0.6666666666666666,\"#ed7953\"],[0.7777777777777778,\"#fb9f3a\"],[0.8888888888888888,\"#fdca26\"],[1.0,\"#f0f921\"]]}],\"choropleth\":[{\"type\":\"choropleth\",\"colorbar\":{\"outlinewidth\":0,\"ticks\":\"\"}}],\"histogram2d\":[{\"type\":\"histogram2d\",\"colorbar\":{\"outlinewidth\":0,\"ticks\":\"\"},\"colorscale\":[[0.0,\"#0d0887\"],[0.1111111111111111,\"#46039f\"],[0.2222222222222222,\"#7201a8\"],[0.3333333333333333,\"#9c179e\"],[0.4444444444444444,\"#bd3786\"],[0.5555555555555556,\"#d8576b\"],[0.6666666666666666,\"#ed7953\"],[0.7777777777777778,\"#fb9f3a\"],[0.8888888888888888,\"#fdca26\"],[1.0,\"#f0f921\"]]}],\"heatmap\":[{\"type\":\"heatmap\",\"colorbar\":{\"outlinewidth\":0,\"ticks\":\"\"},\"colorscale\":[[0.0,\"#0d0887\"],[0.1111111111111111,\"#46039f\"],[0.2222222222222222,\"#7201a8\"],[0.3333333333333333,\"#9c179e\"],[0.4444444444444444,\"#bd3786\"],[0.5555555555555556,\"#d8576b\"],[0.6666666666666666,\"#ed7953\"],[0.7777777777777778,\"#fb9f3a\"],[0.8888888888888888,\"#fdca26\"],[1.0,\"#f0f921\"]]}],\"heatmapgl\":[{\"type\":\"heatmapgl\",\"colorbar\":{\"outlinewidth\":0,\"ticks\":\"\"},\"colorscale\":[[0.0,\"#0d0887\"],[0.1111111111111111,\"#46039f\"],[0.2222222222222222,\"#7201a8\"],[0.3333333333333333,\"#9c179e\"],[0.4444444444444444,\"#bd3786\"],[0.5555555555555556,\"#d8576b\"],[0.6666666666666666,\"#ed7953\"],[0.7777777777777778,\"#fb9f3a\"],[0.8888888888888888,\"#fdca26\"],[1.0,\"#f0f921\"]]}],\"contourcarpet\":[{\"type\":\"contourcarpet\",\"colorbar\":{\"outlinewidth\":0,\"ticks\":\"\"}}],\"contour\":[{\"type\":\"contour\",\"colorbar\":{\"outlinewidth\":0,\"ticks\":\"\"},\"colorscale\":[[0.0,\"#0d0887\"],[0.1111111111111111,\"#46039f\"],[0.2222222222222222,\"#7201a8\"],[0.3333333333333333,\"#9c179e\"],[0.4444444444444444,\"#bd3786\"],[0.5555555555555556,\"#d8576b\"],[0.6666666666666666,\"#ed7953\"],[0.7777777777777778,\"#fb9f3a\"],[0.8888888888888888,\"#fdca26\"],[1.0,\"#f0f921\"]]}],\"surface\":[{\"type\":\"surface\",\"colorbar\":{\"outlinewidth\":0,\"ticks\":\"\"},\"colorscale\":[[0.0,\"#0d0887\"],[0.1111111111111111,\"#46039f\"],[0.2222222222222222,\"#7201a8\"],[0.3333333333333333,\"#9c179e\"],[0.4444444444444444,\"#bd3786\"],[0.5555555555555556,\"#d8576b\"],[0.6666666666666666,\"#ed7953\"],[0.7777777777777778,\"#fb9f3a\"],[0.8888888888888888,\"#fdca26\"],[1.0,\"#f0f921\"]]}],\"mesh3d\":[{\"type\":\"mesh3d\",\"colorbar\":{\"outlinewidth\":0,\"ticks\":\"\"}}],\"scatter\":[{\"fillpattern\":{\"fillmode\":\"overlay\",\"size\":10,\"solidity\":0.2},\"type\":\"scatter\"}],\"parcoords\":[{\"type\":\"parcoords\",\"line\":{\"colorbar\":{\"outlinewidth\":0,\"ticks\":\"\"}}}],\"scatterpolargl\":[{\"type\":\"scatterpolargl\",\"marker\":{\"colorbar\":{\"outlinewidth\":0,\"ticks\":\"\"}}}],\"bar\":[{\"error_x\":{\"color\":\"#2a3f5f\"},\"error_y\":{\"color\":\"#2a3f5f\"},\"marker\":{\"line\":{\"color\":\"#E5ECF6\",\"width\":0.5},\"pattern\":{\"fillmode\":\"overlay\",\"size\":10,\"solidity\":0.2}},\"type\":\"bar\"}],\"scattergeo\":[{\"type\":\"scattergeo\",\"marker\":{\"colorbar\":{\"outlinewidth\":0,\"ticks\":\"\"}}}],\"scatterpolar\":[{\"type\":\"scatterpolar\",\"marker\":{\"colorbar\":{\"outlinewidth\":0,\"ticks\":\"\"}}}],\"histogram\":[{\"marker\":{\"pattern\":{\"fillmode\":\"overlay\",\"size\":10,\"solidity\":0.2}},\"type\":\"histogram\"}],\"scattergl\":[{\"type\":\"scattergl\",\"marker\":{\"colorbar\":{\"outlinewidth\":0,\"ticks\":\"\"}}}],\"scatter3d\":[{\"type\":\"scatter3d\",\"line\":{\"colorbar\":{\"outlinewidth\":0,\"ticks\":\"\"}},\"marker\":{\"colorbar\":{\"outlinewidth\":0,\"ticks\":\"\"}}}],\"scattermapbox\":[{\"type\":\"scattermapbox\",\"marker\":{\"colorbar\":{\"outlinewidth\":0,\"ticks\":\"\"}}}],\"scatterternary\":[{\"type\":\"scatterternary\",\"marker\":{\"colorbar\":{\"outlinewidth\":0,\"ticks\":\"\"}}}],\"scattercarpet\":[{\"type\":\"scattercarpet\",\"marker\":{\"colorbar\":{\"outlinewidth\":0,\"ticks\":\"\"}}}],\"carpet\":[{\"aaxis\":{\"endlinecolor\":\"#2a3f5f\",\"gridcolor\":\"white\",\"linecolor\":\"white\",\"minorgridcolor\":\"white\",\"startlinecolor\":\"#2a3f5f\"},\"baxis\":{\"endlinecolor\":\"#2a3f5f\",\"gridcolor\":\"white\",\"linecolor\":\"white\",\"minorgridcolor\":\"white\",\"startlinecolor\":\"#2a3f5f\"},\"type\":\"carpet\"}],\"table\":[{\"cells\":{\"fill\":{\"color\":\"#EBF0F8\"},\"line\":{\"color\":\"white\"}},\"header\":{\"fill\":{\"color\":\"#C8D4E3\"},\"line\":{\"color\":\"white\"}},\"type\":\"table\"}],\"barpolar\":[{\"marker\":{\"line\":{\"color\":\"#E5ECF6\",\"width\":0.5},\"pattern\":{\"fillmode\":\"overlay\",\"size\":10,\"solidity\":0.2}},\"type\":\"barpolar\"}],\"pie\":[{\"automargin\":true,\"type\":\"pie\"}]},\"layout\":{\"autotypenumbers\":\"strict\",\"colorway\":[\"#636efa\",\"#EF553B\",\"#00cc96\",\"#ab63fa\",\"#FFA15A\",\"#19d3f3\",\"#FF6692\",\"#B6E880\",\"#FF97FF\",\"#FECB52\"],\"font\":{\"color\":\"#2a3f5f\"},\"hovermode\":\"closest\",\"hoverlabel\":{\"align\":\"left\"},\"paper_bgcolor\":\"white\",\"plot_bgcolor\":\"#E5ECF6\",\"polar\":{\"bgcolor\":\"#E5ECF6\",\"angularaxis\":{\"gridcolor\":\"white\",\"linecolor\":\"white\",\"ticks\":\"\"},\"radialaxis\":{\"gridcolor\":\"white\",\"linecolor\":\"white\",\"ticks\":\"\"}},\"ternary\":{\"bgcolor\":\"#E5ECF6\",\"aaxis\":{\"gridcolor\":\"white\",\"linecolor\":\"white\",\"ticks\":\"\"},\"baxis\":{\"gridcolor\":\"white\",\"linecolor\":\"white\",\"ticks\":\"\"},\"caxis\":{\"gridcolor\":\"white\",\"linecolor\":\"white\",\"ticks\":\"\"}},\"coloraxis\":{\"colorbar\":{\"outlinewidth\":0,\"ticks\":\"\"}},\"colorscale\":{\"sequential\":[[0.0,\"#0d0887\"],[0.1111111111111111,\"#46039f\"],[0.2222222222222222,\"#7201a8\"],[0.3333333333333333,\"#9c179e\"],[0.4444444444444444,\"#bd3786\"],[0.5555555555555556,\"#d8576b\"],[0.6666666666666666,\"#ed7953\"],[0.7777777777777778,\"#fb9f3a\"],[0.8888888888888888,\"#fdca26\"],[1.0,\"#f0f921\"]],\"sequentialminus\":[[0.0,\"#0d0887\"],[0.1111111111111111,\"#46039f\"],[0.2222222222222222,\"#7201a8\"],[0.3333333333333333,\"#9c179e\"],[0.4444444444444444,\"#bd3786\"],[0.5555555555555556,\"#d8576b\"],[0.6666666666666666,\"#ed7953\"],[0.7777777777777778,\"#fb9f3a\"],[0.8888888888888888,\"#fdca26\"],[1.0,\"#f0f921\"]],\"diverging\":[[0,\"#8e0152\"],[0.1,\"#c51b7d\"],[0.2,\"#de77ae\"],[0.3,\"#f1b6da\"],[0.4,\"#fde0ef\"],[0.5,\"#f7f7f7\"],[0.6,\"#e6f5d0\"],[0.7,\"#b8e186\"],[0.8,\"#7fbc41\"],[0.9,\"#4d9221\"],[1,\"#276419\"]]},\"xaxis\":{\"gridcolor\":\"white\",\"linecolor\":\"white\",\"ticks\":\"\",\"title\":{\"standoff\":15},\"zerolinecolor\":\"white\",\"automargin\":true,\"zerolinewidth\":2},\"yaxis\":{\"gridcolor\":\"white\",\"linecolor\":\"white\",\"ticks\":\"\",\"title\":{\"standoff\":15},\"zerolinecolor\":\"white\",\"automargin\":true,\"zerolinewidth\":2},\"scene\":{\"xaxis\":{\"backgroundcolor\":\"#E5ECF6\",\"gridcolor\":\"white\",\"linecolor\":\"white\",\"showbackground\":true,\"ticks\":\"\",\"zerolinecolor\":\"white\",\"gridwidth\":2},\"yaxis\":{\"backgroundcolor\":\"#E5ECF6\",\"gridcolor\":\"white\",\"linecolor\":\"white\",\"showbackground\":true,\"ticks\":\"\",\"zerolinecolor\":\"white\",\"gridwidth\":2},\"zaxis\":{\"backgroundcolor\":\"#E5ECF6\",\"gridcolor\":\"white\",\"linecolor\":\"white\",\"showbackground\":true,\"ticks\":\"\",\"zerolinecolor\":\"white\",\"gridwidth\":2}},\"shapedefaults\":{\"line\":{\"color\":\"#2a3f5f\"}},\"annotationdefaults\":{\"arrowcolor\":\"#2a3f5f\",\"arrowhead\":0,\"arrowwidth\":1},\"geo\":{\"bgcolor\":\"white\",\"landcolor\":\"#E5ECF6\",\"subunitcolor\":\"white\",\"showland\":true,\"showlakes\":true,\"lakecolor\":\"white\"},\"title\":{\"x\":0.05},\"mapbox\":{\"style\":\"light\"}}},\"xaxis\":{\"anchor\":\"y\",\"domain\":[0.0,1.0],\"scaleanchor\":\"y\",\"constrain\":\"domain\",\"title\":{\"text\":\"Head\"}},\"yaxis\":{\"anchor\":\"x\",\"domain\":[0.0,1.0],\"autorange\":\"reversed\",\"constrain\":\"domain\",\"title\":{\"text\":\"Layer\"}},\"coloraxis\":{\"colorscale\":[[0.0,\"rgb(103,0,31)\"],[0.1,\"rgb(178,24,43)\"],[0.2,\"rgb(214,96,77)\"],[0.3,\"rgb(244,165,130)\"],[0.4,\"rgb(253,219,199)\"],[0.5,\"rgb(247,247,247)\"],[0.6,\"rgb(209,229,240)\"],[0.7,\"rgb(146,197,222)\"],[0.8,\"rgb(67,147,195)\"],[0.9,\"rgb(33,102,172)\"],[1.0,\"rgb(5,48,97)\"]],\"cmid\":0.0},\"title\":{\"text\":\"Ablated Average Logit Difference From Heads \\u003cbr\\u003e [(9, 9)]\"},\"width\":600},                        {\"responsive\": true}                    ).then(function(){\n",
       "                            \n",
       "var gd = document.getElementById('49d7a1fb-1dc8-4817-9bb8-f39663ed3d46');\n",
       "var x = new MutationObserver(function (mutations, observer) {{\n",
       "        var display = window.getComputedStyle(gd).display;\n",
       "        if (!display || display === 'none') {{\n",
       "            console.log([gd, 'removed!']);\n",
       "            Plotly.purge(gd);\n",
       "            observer.disconnect();\n",
       "        }}\n",
       "}});\n",
       "\n",
       "// Listen for the removal of the full notebook cells\n",
       "var notebookContainer = gd.closest('#notebook-container');\n",
       "if (notebookContainer) {{\n",
       "    x.observe(notebookContainer, {childList: true});\n",
       "}}\n",
       "\n",
       "// Listen for the clearing of the current output cell\n",
       "var outputEl = gd.closest('.output');\n",
       "if (outputEl) {{\n",
       "    x.observe(outputEl, {childList: true});\n",
       "}}\n",
       "\n",
       "                        })                };                });            </script>        </div>"
      ]
     },
     "metadata": {},
     "output_type": "display_data"
    },
    {
     "data": {
      "text/html": [
       "<div>                            <div id=\"08a472a4-cb54-4c2d-a5aa-40944eb00edd\" class=\"plotly-graph-div\" style=\"height:525px; width:600px;\"></div>            <script type=\"text/javascript\">                require([\"plotly\"], function(Plotly) {                    window.PLOTLYENV=window.PLOTLYENV || {};                                    if (document.getElementById(\"08a472a4-cb54-4c2d-a5aa-40944eb00edd\")) {                    Plotly.newPlot(                        \"08a472a4-cb54-4c2d-a5aa-40944eb00edd\",                        [{\"coloraxis\":\"coloraxis\",\"name\":\"0\",\"texttemplate\":\"%{z:.2f}\",\"z\":[[-0.003159529296681285,-0.0003580997290555388,-0.0001248275366378948,0.0002663093328010291,-0.0010370697127655149,0.00010962012311210856,-0.004518964793533087,-0.003987057134509087,-0.0001932077866513282,0.0012336446670815349,-0.0008111884817481041,-0.0009062894387170672],[-0.000475098320748657,0.0002688769018277526,-0.0002897785743698478,0.00036761187948286533,-0.0021970763336867094,-0.0003535995492711663,-0.0030648750253021717,-0.003565587569028139,0.002710371743887663,0.001779722049832344,0.0016782516613602638,0.0018129905220121145],[-0.0007328320061787963,-0.0012303313706070185,-0.001063498668372631,-0.0014776329044252634,-7.62492636567913e-05,0.001361842849291861,0.0016116428887471557,0.003918197005987167,0.00019575415353756398,-0.0019583941902965307,-0.0015271432930603623,0.00041291466914117336],[-0.00030431951745413244,-0.0002347343397559598,0.00030198396416381,0.00028840501909144223,0.0005939893308095634,-0.0012107149232178926,-0.0006194327143020928,-0.001545785227790475,0.0006479478906840086,-5.1943670769105665e-06,-0.0015047382330521941,-0.001138723106123507],[-0.0013207733863964677,-9.862497972790152e-05,-0.0009165848605334759,-0.001707416377030313,0.0012023444287478924,-0.0001418435131199658,-0.0010482652578502893,0.0008689846727065742,-0.0010961415246129036,-0.0009697803179733455,0.0006216613692231476,-0.00011060935503337532],[0.00032164499862119555,0.0007316516130231321,-0.001257791998796165,-0.0014098166720941663,-0.0004074535972904414,-0.0002878904342651367,-9.63568891165778e-05,0.0007102107629179955,0.000746267382055521,-0.0007526991539634764,-0.00440936628729105,0.0020826300606131554],[-0.0045159487053751945,-0.0053026312962174416,0.002222371520474553,-0.0004116611380595714,-0.0055782971903681755,0.002019700827077031,0.0035031246952712536,-0.0023941693361848593,-0.00032022580853663385,-0.0011571940267458558,-0.0003823923470918089,-6.009393109707162e-05],[7.149574958020821e-05,-0.002595398807898164,3.7700934626627713e-05,0.06936490535736084,-0.001164577784948051,-0.009887101128697395,0.0021730861626565456,-0.0013634039787575603,-0.003049904014915228,0.16991423070430756,-0.0007771804230287671,-0.0017702998593449593],[0.0002741769712883979,-0.000226955657126382,-0.02048223465681076,0.0019165342673659325,0.0012172049609944224,0.004246674478054047,-0.10916899889707565,0.002841232344508171,-0.020128337666392326,0.002333579584956169,0.2613958418369293,0.008303876034915447],[0.05886068940162659,-0.0003132191486656666,0.029541609808802605,0.008439084514975548,-0.01522352546453476,0.029796471819281578,1.3343989849090576,0.06493186950683594,-0.046604953706264496,2.64967942237854,0.0007046263199299574,-0.0066938637755811214],[0.6342725157737732,0.1909913271665573,-0.060460906475782394,0.05191725119948387,-0.0029878176283091307,0.0018183044157922268,0.21957328915596008,-1.8274939060211182,-7.5034040492028e-05,-0.002218147972598672,0.44841161370277405,0.002508897101506591],[0.022872833535075188,-0.021053185686469078,-0.4704105854034424,0.02773805521428585,-0.0006921387976035476,-0.002444575307890773,-0.1012936607003212,0.005798657890409231,0.028215652331709862,-0.022495709359645844,-0.9197575449943542,0.02142239734530449]],\"type\":\"heatmap\",\"xaxis\":\"x\",\"yaxis\":\"y\",\"hovertemplate\":\"Head: %{x}\\u003cbr\\u003eLayer: %{y}\\u003cbr\\u003ecolor: %{z}\\u003cextra\\u003e\\u003c\\u002fextra\\u003e\"}],                        {\"template\":{\"data\":{\"histogram2dcontour\":[{\"type\":\"histogram2dcontour\",\"colorbar\":{\"outlinewidth\":0,\"ticks\":\"\"},\"colorscale\":[[0.0,\"#0d0887\"],[0.1111111111111111,\"#46039f\"],[0.2222222222222222,\"#7201a8\"],[0.3333333333333333,\"#9c179e\"],[0.4444444444444444,\"#bd3786\"],[0.5555555555555556,\"#d8576b\"],[0.6666666666666666,\"#ed7953\"],[0.7777777777777778,\"#fb9f3a\"],[0.8888888888888888,\"#fdca26\"],[1.0,\"#f0f921\"]]}],\"choropleth\":[{\"type\":\"choropleth\",\"colorbar\":{\"outlinewidth\":0,\"ticks\":\"\"}}],\"histogram2d\":[{\"type\":\"histogram2d\",\"colorbar\":{\"outlinewidth\":0,\"ticks\":\"\"},\"colorscale\":[[0.0,\"#0d0887\"],[0.1111111111111111,\"#46039f\"],[0.2222222222222222,\"#7201a8\"],[0.3333333333333333,\"#9c179e\"],[0.4444444444444444,\"#bd3786\"],[0.5555555555555556,\"#d8576b\"],[0.6666666666666666,\"#ed7953\"],[0.7777777777777778,\"#fb9f3a\"],[0.8888888888888888,\"#fdca26\"],[1.0,\"#f0f921\"]]}],\"heatmap\":[{\"type\":\"heatmap\",\"colorbar\":{\"outlinewidth\":0,\"ticks\":\"\"},\"colorscale\":[[0.0,\"#0d0887\"],[0.1111111111111111,\"#46039f\"],[0.2222222222222222,\"#7201a8\"],[0.3333333333333333,\"#9c179e\"],[0.4444444444444444,\"#bd3786\"],[0.5555555555555556,\"#d8576b\"],[0.6666666666666666,\"#ed7953\"],[0.7777777777777778,\"#fb9f3a\"],[0.8888888888888888,\"#fdca26\"],[1.0,\"#f0f921\"]]}],\"heatmapgl\":[{\"type\":\"heatmapgl\",\"colorbar\":{\"outlinewidth\":0,\"ticks\":\"\"},\"colorscale\":[[0.0,\"#0d0887\"],[0.1111111111111111,\"#46039f\"],[0.2222222222222222,\"#7201a8\"],[0.3333333333333333,\"#9c179e\"],[0.4444444444444444,\"#bd3786\"],[0.5555555555555556,\"#d8576b\"],[0.6666666666666666,\"#ed7953\"],[0.7777777777777778,\"#fb9f3a\"],[0.8888888888888888,\"#fdca26\"],[1.0,\"#f0f921\"]]}],\"contourcarpet\":[{\"type\":\"contourcarpet\",\"colorbar\":{\"outlinewidth\":0,\"ticks\":\"\"}}],\"contour\":[{\"type\":\"contour\",\"colorbar\":{\"outlinewidth\":0,\"ticks\":\"\"},\"colorscale\":[[0.0,\"#0d0887\"],[0.1111111111111111,\"#46039f\"],[0.2222222222222222,\"#7201a8\"],[0.3333333333333333,\"#9c179e\"],[0.4444444444444444,\"#bd3786\"],[0.5555555555555556,\"#d8576b\"],[0.6666666666666666,\"#ed7953\"],[0.7777777777777778,\"#fb9f3a\"],[0.8888888888888888,\"#fdca26\"],[1.0,\"#f0f921\"]]}],\"surface\":[{\"type\":\"surface\",\"colorbar\":{\"outlinewidth\":0,\"ticks\":\"\"},\"colorscale\":[[0.0,\"#0d0887\"],[0.1111111111111111,\"#46039f\"],[0.2222222222222222,\"#7201a8\"],[0.3333333333333333,\"#9c179e\"],[0.4444444444444444,\"#bd3786\"],[0.5555555555555556,\"#d8576b\"],[0.6666666666666666,\"#ed7953\"],[0.7777777777777778,\"#fb9f3a\"],[0.8888888888888888,\"#fdca26\"],[1.0,\"#f0f921\"]]}],\"mesh3d\":[{\"type\":\"mesh3d\",\"colorbar\":{\"outlinewidth\":0,\"ticks\":\"\"}}],\"scatter\":[{\"fillpattern\":{\"fillmode\":\"overlay\",\"size\":10,\"solidity\":0.2},\"type\":\"scatter\"}],\"parcoords\":[{\"type\":\"parcoords\",\"line\":{\"colorbar\":{\"outlinewidth\":0,\"ticks\":\"\"}}}],\"scatterpolargl\":[{\"type\":\"scatterpolargl\",\"marker\":{\"colorbar\":{\"outlinewidth\":0,\"ticks\":\"\"}}}],\"bar\":[{\"error_x\":{\"color\":\"#2a3f5f\"},\"error_y\":{\"color\":\"#2a3f5f\"},\"marker\":{\"line\":{\"color\":\"#E5ECF6\",\"width\":0.5},\"pattern\":{\"fillmode\":\"overlay\",\"size\":10,\"solidity\":0.2}},\"type\":\"bar\"}],\"scattergeo\":[{\"type\":\"scattergeo\",\"marker\":{\"colorbar\":{\"outlinewidth\":0,\"ticks\":\"\"}}}],\"scatterpolar\":[{\"type\":\"scatterpolar\",\"marker\":{\"colorbar\":{\"outlinewidth\":0,\"ticks\":\"\"}}}],\"histogram\":[{\"marker\":{\"pattern\":{\"fillmode\":\"overlay\",\"size\":10,\"solidity\":0.2}},\"type\":\"histogram\"}],\"scattergl\":[{\"type\":\"scattergl\",\"marker\":{\"colorbar\":{\"outlinewidth\":0,\"ticks\":\"\"}}}],\"scatter3d\":[{\"type\":\"scatter3d\",\"line\":{\"colorbar\":{\"outlinewidth\":0,\"ticks\":\"\"}},\"marker\":{\"colorbar\":{\"outlinewidth\":0,\"ticks\":\"\"}}}],\"scattermapbox\":[{\"type\":\"scattermapbox\",\"marker\":{\"colorbar\":{\"outlinewidth\":0,\"ticks\":\"\"}}}],\"scatterternary\":[{\"type\":\"scatterternary\",\"marker\":{\"colorbar\":{\"outlinewidth\":0,\"ticks\":\"\"}}}],\"scattercarpet\":[{\"type\":\"scattercarpet\",\"marker\":{\"colorbar\":{\"outlinewidth\":0,\"ticks\":\"\"}}}],\"carpet\":[{\"aaxis\":{\"endlinecolor\":\"#2a3f5f\",\"gridcolor\":\"white\",\"linecolor\":\"white\",\"minorgridcolor\":\"white\",\"startlinecolor\":\"#2a3f5f\"},\"baxis\":{\"endlinecolor\":\"#2a3f5f\",\"gridcolor\":\"white\",\"linecolor\":\"white\",\"minorgridcolor\":\"white\",\"startlinecolor\":\"#2a3f5f\"},\"type\":\"carpet\"}],\"table\":[{\"cells\":{\"fill\":{\"color\":\"#EBF0F8\"},\"line\":{\"color\":\"white\"}},\"header\":{\"fill\":{\"color\":\"#C8D4E3\"},\"line\":{\"color\":\"white\"}},\"type\":\"table\"}],\"barpolar\":[{\"marker\":{\"line\":{\"color\":\"#E5ECF6\",\"width\":0.5},\"pattern\":{\"fillmode\":\"overlay\",\"size\":10,\"solidity\":0.2}},\"type\":\"barpolar\"}],\"pie\":[{\"automargin\":true,\"type\":\"pie\"}]},\"layout\":{\"autotypenumbers\":\"strict\",\"colorway\":[\"#636efa\",\"#EF553B\",\"#00cc96\",\"#ab63fa\",\"#FFA15A\",\"#19d3f3\",\"#FF6692\",\"#B6E880\",\"#FF97FF\",\"#FECB52\"],\"font\":{\"color\":\"#2a3f5f\"},\"hovermode\":\"closest\",\"hoverlabel\":{\"align\":\"left\"},\"paper_bgcolor\":\"white\",\"plot_bgcolor\":\"#E5ECF6\",\"polar\":{\"bgcolor\":\"#E5ECF6\",\"angularaxis\":{\"gridcolor\":\"white\",\"linecolor\":\"white\",\"ticks\":\"\"},\"radialaxis\":{\"gridcolor\":\"white\",\"linecolor\":\"white\",\"ticks\":\"\"}},\"ternary\":{\"bgcolor\":\"#E5ECF6\",\"aaxis\":{\"gridcolor\":\"white\",\"linecolor\":\"white\",\"ticks\":\"\"},\"baxis\":{\"gridcolor\":\"white\",\"linecolor\":\"white\",\"ticks\":\"\"},\"caxis\":{\"gridcolor\":\"white\",\"linecolor\":\"white\",\"ticks\":\"\"}},\"coloraxis\":{\"colorbar\":{\"outlinewidth\":0,\"ticks\":\"\"}},\"colorscale\":{\"sequential\":[[0.0,\"#0d0887\"],[0.1111111111111111,\"#46039f\"],[0.2222222222222222,\"#7201a8\"],[0.3333333333333333,\"#9c179e\"],[0.4444444444444444,\"#bd3786\"],[0.5555555555555556,\"#d8576b\"],[0.6666666666666666,\"#ed7953\"],[0.7777777777777778,\"#fb9f3a\"],[0.8888888888888888,\"#fdca26\"],[1.0,\"#f0f921\"]],\"sequentialminus\":[[0.0,\"#0d0887\"],[0.1111111111111111,\"#46039f\"],[0.2222222222222222,\"#7201a8\"],[0.3333333333333333,\"#9c179e\"],[0.4444444444444444,\"#bd3786\"],[0.5555555555555556,\"#d8576b\"],[0.6666666666666666,\"#ed7953\"],[0.7777777777777778,\"#fb9f3a\"],[0.8888888888888888,\"#fdca26\"],[1.0,\"#f0f921\"]],\"diverging\":[[0,\"#8e0152\"],[0.1,\"#c51b7d\"],[0.2,\"#de77ae\"],[0.3,\"#f1b6da\"],[0.4,\"#fde0ef\"],[0.5,\"#f7f7f7\"],[0.6,\"#e6f5d0\"],[0.7,\"#b8e186\"],[0.8,\"#7fbc41\"],[0.9,\"#4d9221\"],[1,\"#276419\"]]},\"xaxis\":{\"gridcolor\":\"white\",\"linecolor\":\"white\",\"ticks\":\"\",\"title\":{\"standoff\":15},\"zerolinecolor\":\"white\",\"automargin\":true,\"zerolinewidth\":2},\"yaxis\":{\"gridcolor\":\"white\",\"linecolor\":\"white\",\"ticks\":\"\",\"title\":{\"standoff\":15},\"zerolinecolor\":\"white\",\"automargin\":true,\"zerolinewidth\":2},\"scene\":{\"xaxis\":{\"backgroundcolor\":\"#E5ECF6\",\"gridcolor\":\"white\",\"linecolor\":\"white\",\"showbackground\":true,\"ticks\":\"\",\"zerolinecolor\":\"white\",\"gridwidth\":2},\"yaxis\":{\"backgroundcolor\":\"#E5ECF6\",\"gridcolor\":\"white\",\"linecolor\":\"white\",\"showbackground\":true,\"ticks\":\"\",\"zerolinecolor\":\"white\",\"gridwidth\":2},\"zaxis\":{\"backgroundcolor\":\"#E5ECF6\",\"gridcolor\":\"white\",\"linecolor\":\"white\",\"showbackground\":true,\"ticks\":\"\",\"zerolinecolor\":\"white\",\"gridwidth\":2}},\"shapedefaults\":{\"line\":{\"color\":\"#2a3f5f\"}},\"annotationdefaults\":{\"arrowcolor\":\"#2a3f5f\",\"arrowhead\":0,\"arrowwidth\":1},\"geo\":{\"bgcolor\":\"white\",\"landcolor\":\"#E5ECF6\",\"subunitcolor\":\"white\",\"showland\":true,\"showlakes\":true,\"lakecolor\":\"white\"},\"title\":{\"x\":0.05},\"mapbox\":{\"style\":\"light\"}}},\"xaxis\":{\"anchor\":\"y\",\"domain\":[0.0,1.0],\"scaleanchor\":\"y\",\"constrain\":\"domain\",\"title\":{\"text\":\"Head\"}},\"yaxis\":{\"anchor\":\"x\",\"domain\":[0.0,1.0],\"autorange\":\"reversed\",\"constrain\":\"domain\",\"title\":{\"text\":\"Layer\"}},\"coloraxis\":{\"colorscale\":[[0.0,\"rgb(103,0,31)\"],[0.1,\"rgb(178,24,43)\"],[0.2,\"rgb(214,96,77)\"],[0.3,\"rgb(244,165,130)\"],[0.4,\"rgb(253,219,199)\"],[0.5,\"rgb(247,247,247)\"],[0.6,\"rgb(209,229,240)\"],[0.7,\"rgb(146,197,222)\"],[0.8,\"rgb(67,147,195)\"],[0.9,\"rgb(33,102,172)\"],[1.0,\"rgb(5,48,97)\"]],\"cmid\":0.0},\"title\":{\"text\":\"Unablated Average Logit Difference From Each Head\"},\"width\":600},                        {\"responsive\": true}                    ).then(function(){\n",
       "                            \n",
       "var gd = document.getElementById('08a472a4-cb54-4c2d-a5aa-40944eb00edd');\n",
       "var x = new MutationObserver(function (mutations, observer) {{\n",
       "        var display = window.getComputedStyle(gd).display;\n",
       "        if (!display || display === 'none') {{\n",
       "            console.log([gd, 'removed!']);\n",
       "            Plotly.purge(gd);\n",
       "            observer.disconnect();\n",
       "        }}\n",
       "}});\n",
       "\n",
       "// Listen for the removal of the full notebook cells\n",
       "var notebookContainer = gd.closest('#notebook-container');\n",
       "if (notebookContainer) {{\n",
       "    x.observe(notebookContainer, {childList: true});\n",
       "}}\n",
       "\n",
       "// Listen for the clearing of the current output cell\n",
       "var outputEl = gd.closest('.output');\n",
       "if (outputEl) {{\n",
       "    x.observe(outputEl, {childList: true});\n",
       "}}\n",
       "\n",
       "                        })                };                });            </script>        </div>"
      ]
     },
     "metadata": {},
     "output_type": "display_data"
    }
   ],
   "source": [
    "head_mean_ablation_logit_diff(heads=[(9, 9)], answer_tokens=answer_tokens, prompts=prompts, mean_activations_dict=mean_activations_dict)\n"
   ]
  },
  {
   "cell_type": "code",
   "execution_count": 132,
   "metadata": {},
   "outputs": [
    {
     "name": "stdout",
     "output_type": "stream",
     "text": [
      "(168960,)\n"
     ]
    }
   ],
   "source": [
    "# Get output of important head in layer 9 for last position\n",
    "layer_9 = cache.stack_head_results(layer=9, apply_ln=True)[model.cfg.n_heads*8:]\n",
    "layer_9_other = layer_9[[0, 1,2,3,4,5,7,8,10,11], :, -1].flatten().detach().cpu().numpy()\n",
    "layer_9_head_6 = layer_9[6, :, -1].flatten().detach().cpu().numpy()\n",
    "layer_9_head_9 = layer_9[9, :, -1].flatten().detach().cpu().numpy()\n",
    "print(layer_9_other.shape) # batch d_model"
   ]
  },
  {
   "cell_type": "code",
   "execution_count": 133,
   "metadata": {},
   "outputs": [
    {
     "data": {
      "text/html": [
       "<div>\n",
       "<style scoped>\n",
       "    .dataframe tbody tr th:only-of-type {\n",
       "        vertical-align: middle;\n",
       "    }\n",
       "\n",
       "    .dataframe tbody tr th {\n",
       "        vertical-align: top;\n",
       "    }\n",
       "\n",
       "    .dataframe thead tr th {\n",
       "        text-align: left;\n",
       "    }\n",
       "\n",
       "    .dataframe thead tr:last-of-type th {\n",
       "        text-align: right;\n",
       "    }\n",
       "</style>\n",
       "<table border=\"1\" class=\"dataframe\">\n",
       "  <thead>\n",
       "    <tr>\n",
       "      <th></th>\n",
       "      <th colspan=\"2\" halign=\"left\">activation</th>\n",
       "    </tr>\n",
       "    <tr>\n",
       "      <th></th>\n",
       "      <th>mean</th>\n",
       "      <th>std</th>\n",
       "    </tr>\n",
       "    <tr>\n",
       "      <th>name</th>\n",
       "      <th></th>\n",
       "      <th></th>\n",
       "    </tr>\n",
       "  </thead>\n",
       "  <tbody>\n",
       "    <tr>\n",
       "      <th>Head 6</th>\n",
       "      <td>-7.269343e-10</td>\n",
       "      <td>0.218672</td>\n",
       "    </tr>\n",
       "    <tr>\n",
       "      <th>Head 9</th>\n",
       "      <td>1.362588e-10</td>\n",
       "      <td>0.051043</td>\n",
       "    </tr>\n",
       "    <tr>\n",
       "      <th>Other heads</th>\n",
       "      <td>5.291054e-11</td>\n",
       "      <td>0.096656</td>\n",
       "    </tr>\n",
       "  </tbody>\n",
       "</table>\n",
       "</div>"
      ],
      "text/plain": [
       "               activation          \n",
       "                     mean       std\n",
       "name                               \n",
       "Head 6      -7.269343e-10  0.218672\n",
       "Head 9       1.362588e-10  0.051043\n",
       "Other heads  5.291054e-11  0.096656"
      ]
     },
     "execution_count": 133,
     "metadata": {},
     "output_type": "execute_result"
    }
   ],
   "source": [
    "dfs = [pd.DataFrame({\"activation\": layer_9_head_9, \"name\": \"Head 9\"}), \n",
    "        pd.DataFrame({\"activation\": layer_9_head_6, \"name\": \"Head 6\"}),\n",
    "        pd.DataFrame({\"activation\": layer_9_other, \"name\": \"Other heads\"})]\n",
    "df = pd.concat(dfs)\n",
    "df.groupby(\"name\").agg([\"mean\", \"std\"])"
   ]
  },
  {
   "cell_type": "code",
   "execution_count": 135,
   "metadata": {},
   "outputs": [
    {
     "name": "stdout",
     "output_type": "stream",
     "text": [
      "torch.Size([768]) torch.Size([768])\n",
      "0.13419874012470245\n",
      "[0.1889655739068985, -0.0439043864607811, -0.0717644989490509, 0.07560774683952332, -0.0708644837141037, 0.10396718978881836, -0.058510538190603256, -0.20690611004829407, -0.2218116819858551, 0.03350242227315903]\n"
     ]
    }
   ],
   "source": [
    "layer_9_head_6 = layer_9[6, 0, -1]\n",
    "layer_9_head_9 = layer_9[9, 0, -1]\n",
    "print(layer_9_head_6.shape, layer_9_head_9.shape)\n",
    "\n",
    "cos = torch.nn.CosineSimilarity(dim=-1)\n",
    "# Cosine similarities between head outputs and directions, shape=(d_head, pos)\n",
    "similarities = cos(layer_9_head_9, layer_9_head_6).item()\n",
    "print(similarities)\n",
    "\n",
    "other_similarities = []\n",
    "for i in range(12):\n",
    "    if i not in [6, 9]:\n",
    "        other_head = layer_9[i, 0, -1]\n",
    "        other_similarities.append(cos(layer_9_head_9, other_head).item())\n",
    "print(other_similarities)"
   ]
  },
  {
   "attachments": {},
   "cell_type": "markdown",
   "metadata": {},
   "source": [
    "### Ablate positive_dla_heads"
   ]
  },
  {
   "cell_type": "code",
   "execution_count": 125,
   "metadata": {},
   "outputs": [],
   "source": [
    "def hook_all_attention_patterns(attn_pattern, hook: HookPoint, head_idx: int, layer_idx: int):\n",
    "    if hook.layer() == layer_idx:\n",
    "        attn_pattern[:, head_idx] = mean_activations_dict[(layer_idx, head_idx)]\n",
    "        return attn_pattern\n",
    "\n",
    "name_filter = lambda name: name.endswith(\"pattern\")\n",
    "hooks = []\n",
    "for layer, head in positive_dla_heads:\n",
    "    hooks.append((name_filter, functools.partial(hook_all_attention_patterns, head_idx=head, layer_idx=layer)))\n",
    "\n",
    "with model.hooks(fwd_hooks=hooks):\n",
    "    ablated_logits, ablated_cache = model.run_with_cache(tokens)"
   ]
  },
  {
   "cell_type": "code",
   "execution_count": 126,
   "metadata": {},
   "outputs": [
    {
     "name": "stdout",
     "output_type": "stream",
     "text": [
      "Logit difference accuracy:  1.000\n",
      "Average logit difference: 2.976\n",
      "Logit difference accuracy:  0.955\n",
      "Average logit difference: 1.745\n"
     ]
    }
   ],
   "source": [
    "original_average_logit_diff = logits_to_ave_logit_diff(original_logits, answer_tokens)\n",
    "print(\"Average logit difference:\", original_average_logit_diff)\n",
    "\n",
    "ablated_average_logit_diff = logits_to_ave_logit_diff(ablated_logits, answer_tokens)\n",
    "print(\"Average logit difference:\", ablated_average_logit_diff)"
   ]
  },
  {
   "cell_type": "code",
   "execution_count": 127,
   "metadata": {},
   "outputs": [
    {
     "data": {
      "text/html": [
       "<div>                            <div id=\"cb0f36a4-664c-4c81-8b52-7f16e08e6197\" class=\"plotly-graph-div\" style=\"height:525px; width:600px;\"></div>            <script type=\"text/javascript\">                require([\"plotly\"], function(Plotly) {                    window.PLOTLYENV=window.PLOTLYENV || {};                                    if (document.getElementById(\"cb0f36a4-664c-4c81-8b52-7f16e08e6197\")) {                    Plotly.newPlot(                        \"cb0f36a4-664c-4c81-8b52-7f16e08e6197\",                        [{\"coloraxis\":\"coloraxis\",\"name\":\"0\",\"texttemplate\":\"%{z:.2f}\",\"z\":[[-0.003203551284968853,0.0003776353842113167,-0.0005282327765598893,-0.00019014252757187933,-0.0005665868520736694,-5.549810521188192e-05,-0.006324563641101122,-0.003687514690682292,6.46873886580579e-05,-0.00033671665005385876,-0.0007649499457329512,-0.0010052165016531944],[0.00032290766830556095,0.00015370349865406752,0.0006253054016269743,6.36965996818617e-05,-0.0021190685220062733,0.00036428606836125255,-0.0023806062527000904,-0.0050146691501140594,0.0029004353564232588,0.0015888041816651821,0.0008901373366825283,0.0009625275852158666],[-0.00019843045447487384,-0.001269237487576902,-0.0003772899217437953,-0.0002040219696937129,-0.0008899919339455664,0.000670338689815253,0.0016117531340569258,0.0038225590251386166,0.0009402194991707802,-0.0017217344138771296,-0.0008925888687372208,0.0004034931189380586],[-0.00010255150846205652,-0.0003770592447835952,0.0003659120702650398,-8.808443817542866e-05,0.00012035039253532887,-0.0011391862062737346,-0.000650475500151515,-0.0003747045702766627,0.00039163517067208886,0.0008991166250780225,-0.0011963065480813384,-0.0001536295167170465],[-0.0009000507998280227,-1.8588394596008584e-05,-0.0010493533918634057,-0.0008563592564314604,0.001063384348526597,0.00018633034778758883,-0.0004768118669744581,-0.0008484513964504004,-3.793840005528182e-05,-0.0005923651624470949,0.00014836850459687412,0.0004280289576854557],[0.00013974783360026777,-0.00016962632071226835,0.00042373701580800116,-0.0013054270530119538,1.6754132957430556e-05,-0.0010256061796098948,-3.445896800258197e-05,0.00046691184979863465,0.0010065154638141394,-5.2749994210898876e-05,-0.004250602796673775,0.0022437821608036757],[-0.004888627678155899,-0.005787850823253393,0.0025858941953629255,0.0005833124741911888,-0.004380126018077135,0.001923050731420517,0.002773862099274993,-0.002481375588104129,-0.0007591687026433647,-0.0019161105155944824,-0.00043573626317083836,0.0010146403219550848],[-0.00023913796758279204,-0.002816511318087578,-0.0005951959756202996,0.01245695911347866,-0.0010934807360172272,-0.009391607716679573,0.0015336914220824838,-0.0013644574210047722,-0.004237455781549215,0.013628184795379639,-0.0014204948674887419,-0.0024025365710258484],[0.001129432232119143,-0.0012635955354198813,-0.014854076318442822,-0.01639639213681221,5.528855763259344e-05,0.002992046996951103,-0.10771109908819199,0.0009005881729535758,-0.020440222695469856,0.003218615660443902,0.022242318838834763,-0.016775574535131454],[0.003641351591795683,-0.0002475860237609595,0.0014269973617047071,0.002650691894814372,-0.007171870209276676,0.05147472023963928,-0.008206047117710114,0.10561767965555191,-0.08483628183603287,-0.008350096642971039,-0.0004844050854444504,-0.012912898324429989],[-0.0358264334499836,0.19676955044269562,0.22510966658592224,0.015512350015342236,-0.006911132484674454,0.00012967968359589577,-0.010328883305191994,0.8506841063499451,-0.000307996291667223,-0.010720914229750633,-0.017419947311282158,-0.02260296791791916],[0.036830175668001175,0.09682612121105194,0.06093085929751396,0.019996002316474915,0.000485126452986151,-0.0010850625112652779,0.1464165449142456,0.009145413525402546,0.01638830080628395,0.047015950083732605,0.02233320288360119,0.007359801791608334]],\"type\":\"heatmap\",\"xaxis\":\"x\",\"yaxis\":\"y\",\"hovertemplate\":\"Head: %{x}\\u003cbr\\u003eLayer: %{y}\\u003cbr\\u003ecolor: %{z}\\u003cextra\\u003e\\u003c\\u002fextra\\u003e\"}],                        {\"template\":{\"data\":{\"histogram2dcontour\":[{\"type\":\"histogram2dcontour\",\"colorbar\":{\"outlinewidth\":0,\"ticks\":\"\"},\"colorscale\":[[0.0,\"#0d0887\"],[0.1111111111111111,\"#46039f\"],[0.2222222222222222,\"#7201a8\"],[0.3333333333333333,\"#9c179e\"],[0.4444444444444444,\"#bd3786\"],[0.5555555555555556,\"#d8576b\"],[0.6666666666666666,\"#ed7953\"],[0.7777777777777778,\"#fb9f3a\"],[0.8888888888888888,\"#fdca26\"],[1.0,\"#f0f921\"]]}],\"choropleth\":[{\"type\":\"choropleth\",\"colorbar\":{\"outlinewidth\":0,\"ticks\":\"\"}}],\"histogram2d\":[{\"type\":\"histogram2d\",\"colorbar\":{\"outlinewidth\":0,\"ticks\":\"\"},\"colorscale\":[[0.0,\"#0d0887\"],[0.1111111111111111,\"#46039f\"],[0.2222222222222222,\"#7201a8\"],[0.3333333333333333,\"#9c179e\"],[0.4444444444444444,\"#bd3786\"],[0.5555555555555556,\"#d8576b\"],[0.6666666666666666,\"#ed7953\"],[0.7777777777777778,\"#fb9f3a\"],[0.8888888888888888,\"#fdca26\"],[1.0,\"#f0f921\"]]}],\"heatmap\":[{\"type\":\"heatmap\",\"colorbar\":{\"outlinewidth\":0,\"ticks\":\"\"},\"colorscale\":[[0.0,\"#0d0887\"],[0.1111111111111111,\"#46039f\"],[0.2222222222222222,\"#7201a8\"],[0.3333333333333333,\"#9c179e\"],[0.4444444444444444,\"#bd3786\"],[0.5555555555555556,\"#d8576b\"],[0.6666666666666666,\"#ed7953\"],[0.7777777777777778,\"#fb9f3a\"],[0.8888888888888888,\"#fdca26\"],[1.0,\"#f0f921\"]]}],\"heatmapgl\":[{\"type\":\"heatmapgl\",\"colorbar\":{\"outlinewidth\":0,\"ticks\":\"\"},\"colorscale\":[[0.0,\"#0d0887\"],[0.1111111111111111,\"#46039f\"],[0.2222222222222222,\"#7201a8\"],[0.3333333333333333,\"#9c179e\"],[0.4444444444444444,\"#bd3786\"],[0.5555555555555556,\"#d8576b\"],[0.6666666666666666,\"#ed7953\"],[0.7777777777777778,\"#fb9f3a\"],[0.8888888888888888,\"#fdca26\"],[1.0,\"#f0f921\"]]}],\"contourcarpet\":[{\"type\":\"contourcarpet\",\"colorbar\":{\"outlinewidth\":0,\"ticks\":\"\"}}],\"contour\":[{\"type\":\"contour\",\"colorbar\":{\"outlinewidth\":0,\"ticks\":\"\"},\"colorscale\":[[0.0,\"#0d0887\"],[0.1111111111111111,\"#46039f\"],[0.2222222222222222,\"#7201a8\"],[0.3333333333333333,\"#9c179e\"],[0.4444444444444444,\"#bd3786\"],[0.5555555555555556,\"#d8576b\"],[0.6666666666666666,\"#ed7953\"],[0.7777777777777778,\"#fb9f3a\"],[0.8888888888888888,\"#fdca26\"],[1.0,\"#f0f921\"]]}],\"surface\":[{\"type\":\"surface\",\"colorbar\":{\"outlinewidth\":0,\"ticks\":\"\"},\"colorscale\":[[0.0,\"#0d0887\"],[0.1111111111111111,\"#46039f\"],[0.2222222222222222,\"#7201a8\"],[0.3333333333333333,\"#9c179e\"],[0.4444444444444444,\"#bd3786\"],[0.5555555555555556,\"#d8576b\"],[0.6666666666666666,\"#ed7953\"],[0.7777777777777778,\"#fb9f3a\"],[0.8888888888888888,\"#fdca26\"],[1.0,\"#f0f921\"]]}],\"mesh3d\":[{\"type\":\"mesh3d\",\"colorbar\":{\"outlinewidth\":0,\"ticks\":\"\"}}],\"scatter\":[{\"fillpattern\":{\"fillmode\":\"overlay\",\"size\":10,\"solidity\":0.2},\"type\":\"scatter\"}],\"parcoords\":[{\"type\":\"parcoords\",\"line\":{\"colorbar\":{\"outlinewidth\":0,\"ticks\":\"\"}}}],\"scatterpolargl\":[{\"type\":\"scatterpolargl\",\"marker\":{\"colorbar\":{\"outlinewidth\":0,\"ticks\":\"\"}}}],\"bar\":[{\"error_x\":{\"color\":\"#2a3f5f\"},\"error_y\":{\"color\":\"#2a3f5f\"},\"marker\":{\"line\":{\"color\":\"#E5ECF6\",\"width\":0.5},\"pattern\":{\"fillmode\":\"overlay\",\"size\":10,\"solidity\":0.2}},\"type\":\"bar\"}],\"scattergeo\":[{\"type\":\"scattergeo\",\"marker\":{\"colorbar\":{\"outlinewidth\":0,\"ticks\":\"\"}}}],\"scatterpolar\":[{\"type\":\"scatterpolar\",\"marker\":{\"colorbar\":{\"outlinewidth\":0,\"ticks\":\"\"}}}],\"histogram\":[{\"marker\":{\"pattern\":{\"fillmode\":\"overlay\",\"size\":10,\"solidity\":0.2}},\"type\":\"histogram\"}],\"scattergl\":[{\"type\":\"scattergl\",\"marker\":{\"colorbar\":{\"outlinewidth\":0,\"ticks\":\"\"}}}],\"scatter3d\":[{\"type\":\"scatter3d\",\"line\":{\"colorbar\":{\"outlinewidth\":0,\"ticks\":\"\"}},\"marker\":{\"colorbar\":{\"outlinewidth\":0,\"ticks\":\"\"}}}],\"scattermapbox\":[{\"type\":\"scattermapbox\",\"marker\":{\"colorbar\":{\"outlinewidth\":0,\"ticks\":\"\"}}}],\"scatterternary\":[{\"type\":\"scatterternary\",\"marker\":{\"colorbar\":{\"outlinewidth\":0,\"ticks\":\"\"}}}],\"scattercarpet\":[{\"type\":\"scattercarpet\",\"marker\":{\"colorbar\":{\"outlinewidth\":0,\"ticks\":\"\"}}}],\"carpet\":[{\"aaxis\":{\"endlinecolor\":\"#2a3f5f\",\"gridcolor\":\"white\",\"linecolor\":\"white\",\"minorgridcolor\":\"white\",\"startlinecolor\":\"#2a3f5f\"},\"baxis\":{\"endlinecolor\":\"#2a3f5f\",\"gridcolor\":\"white\",\"linecolor\":\"white\",\"minorgridcolor\":\"white\",\"startlinecolor\":\"#2a3f5f\"},\"type\":\"carpet\"}],\"table\":[{\"cells\":{\"fill\":{\"color\":\"#EBF0F8\"},\"line\":{\"color\":\"white\"}},\"header\":{\"fill\":{\"color\":\"#C8D4E3\"},\"line\":{\"color\":\"white\"}},\"type\":\"table\"}],\"barpolar\":[{\"marker\":{\"line\":{\"color\":\"#E5ECF6\",\"width\":0.5},\"pattern\":{\"fillmode\":\"overlay\",\"size\":10,\"solidity\":0.2}},\"type\":\"barpolar\"}],\"pie\":[{\"automargin\":true,\"type\":\"pie\"}]},\"layout\":{\"autotypenumbers\":\"strict\",\"colorway\":[\"#636efa\",\"#EF553B\",\"#00cc96\",\"#ab63fa\",\"#FFA15A\",\"#19d3f3\",\"#FF6692\",\"#B6E880\",\"#FF97FF\",\"#FECB52\"],\"font\":{\"color\":\"#2a3f5f\"},\"hovermode\":\"closest\",\"hoverlabel\":{\"align\":\"left\"},\"paper_bgcolor\":\"white\",\"plot_bgcolor\":\"#E5ECF6\",\"polar\":{\"bgcolor\":\"#E5ECF6\",\"angularaxis\":{\"gridcolor\":\"white\",\"linecolor\":\"white\",\"ticks\":\"\"},\"radialaxis\":{\"gridcolor\":\"white\",\"linecolor\":\"white\",\"ticks\":\"\"}},\"ternary\":{\"bgcolor\":\"#E5ECF6\",\"aaxis\":{\"gridcolor\":\"white\",\"linecolor\":\"white\",\"ticks\":\"\"},\"baxis\":{\"gridcolor\":\"white\",\"linecolor\":\"white\",\"ticks\":\"\"},\"caxis\":{\"gridcolor\":\"white\",\"linecolor\":\"white\",\"ticks\":\"\"}},\"coloraxis\":{\"colorbar\":{\"outlinewidth\":0,\"ticks\":\"\"}},\"colorscale\":{\"sequential\":[[0.0,\"#0d0887\"],[0.1111111111111111,\"#46039f\"],[0.2222222222222222,\"#7201a8\"],[0.3333333333333333,\"#9c179e\"],[0.4444444444444444,\"#bd3786\"],[0.5555555555555556,\"#d8576b\"],[0.6666666666666666,\"#ed7953\"],[0.7777777777777778,\"#fb9f3a\"],[0.8888888888888888,\"#fdca26\"],[1.0,\"#f0f921\"]],\"sequentialminus\":[[0.0,\"#0d0887\"],[0.1111111111111111,\"#46039f\"],[0.2222222222222222,\"#7201a8\"],[0.3333333333333333,\"#9c179e\"],[0.4444444444444444,\"#bd3786\"],[0.5555555555555556,\"#d8576b\"],[0.6666666666666666,\"#ed7953\"],[0.7777777777777778,\"#fb9f3a\"],[0.8888888888888888,\"#fdca26\"],[1.0,\"#f0f921\"]],\"diverging\":[[0,\"#8e0152\"],[0.1,\"#c51b7d\"],[0.2,\"#de77ae\"],[0.3,\"#f1b6da\"],[0.4,\"#fde0ef\"],[0.5,\"#f7f7f7\"],[0.6,\"#e6f5d0\"],[0.7,\"#b8e186\"],[0.8,\"#7fbc41\"],[0.9,\"#4d9221\"],[1,\"#276419\"]]},\"xaxis\":{\"gridcolor\":\"white\",\"linecolor\":\"white\",\"ticks\":\"\",\"title\":{\"standoff\":15},\"zerolinecolor\":\"white\",\"automargin\":true,\"zerolinewidth\":2},\"yaxis\":{\"gridcolor\":\"white\",\"linecolor\":\"white\",\"ticks\":\"\",\"title\":{\"standoff\":15},\"zerolinecolor\":\"white\",\"automargin\":true,\"zerolinewidth\":2},\"scene\":{\"xaxis\":{\"backgroundcolor\":\"#E5ECF6\",\"gridcolor\":\"white\",\"linecolor\":\"white\",\"showbackground\":true,\"ticks\":\"\",\"zerolinecolor\":\"white\",\"gridwidth\":2},\"yaxis\":{\"backgroundcolor\":\"#E5ECF6\",\"gridcolor\":\"white\",\"linecolor\":\"white\",\"showbackground\":true,\"ticks\":\"\",\"zerolinecolor\":\"white\",\"gridwidth\":2},\"zaxis\":{\"backgroundcolor\":\"#E5ECF6\",\"gridcolor\":\"white\",\"linecolor\":\"white\",\"showbackground\":true,\"ticks\":\"\",\"zerolinecolor\":\"white\",\"gridwidth\":2}},\"shapedefaults\":{\"line\":{\"color\":\"#2a3f5f\"}},\"annotationdefaults\":{\"arrowcolor\":\"#2a3f5f\",\"arrowhead\":0,\"arrowwidth\":1},\"geo\":{\"bgcolor\":\"white\",\"landcolor\":\"#E5ECF6\",\"subunitcolor\":\"white\",\"showland\":true,\"showlakes\":true,\"lakecolor\":\"white\"},\"title\":{\"x\":0.05},\"mapbox\":{\"style\":\"light\"}}},\"xaxis\":{\"anchor\":\"y\",\"domain\":[0.0,1.0],\"scaleanchor\":\"y\",\"constrain\":\"domain\",\"title\":{\"text\":\"Head\"}},\"yaxis\":{\"anchor\":\"x\",\"domain\":[0.0,1.0],\"autorange\":\"reversed\",\"constrain\":\"domain\",\"title\":{\"text\":\"Layer\"}},\"coloraxis\":{\"colorscale\":[[0.0,\"rgb(103,0,31)\"],[0.1,\"rgb(178,24,43)\"],[0.2,\"rgb(214,96,77)\"],[0.3,\"rgb(244,165,130)\"],[0.4,\"rgb(253,219,199)\"],[0.5,\"rgb(247,247,247)\"],[0.6,\"rgb(209,229,240)\"],[0.7,\"rgb(146,197,222)\"],[0.8,\"rgb(67,147,195)\"],[0.9,\"rgb(33,102,172)\"],[1.0,\"rgb(5,48,97)\"]],\"cmid\":0.0},\"title\":{\"text\":\"Ablated Logit Difference From Each Head\"},\"width\":600},                        {\"responsive\": true}                    ).then(function(){\n",
       "                            \n",
       "var gd = document.getElementById('cb0f36a4-664c-4c81-8b52-7f16e08e6197');\n",
       "var x = new MutationObserver(function (mutations, observer) {{\n",
       "        var display = window.getComputedStyle(gd).display;\n",
       "        if (!display || display === 'none') {{\n",
       "            console.log([gd, 'removed!']);\n",
       "            Plotly.purge(gd);\n",
       "            observer.disconnect();\n",
       "        }}\n",
       "}});\n",
       "\n",
       "// Listen for the removal of the full notebook cells\n",
       "var notebookContainer = gd.closest('#notebook-container');\n",
       "if (notebookContainer) {{\n",
       "    x.observe(notebookContainer, {childList: true});\n",
       "}}\n",
       "\n",
       "// Listen for the clearing of the current output cell\n",
       "var outputEl = gd.closest('.output');\n",
       "if (outputEl) {{\n",
       "    x.observe(outputEl, {childList: true});\n",
       "}}\n",
       "\n",
       "                        })                };                });            </script>        </div>"
      ]
     },
     "metadata": {},
     "output_type": "display_data"
    }
   ],
   "source": [
    "plot_per_head_attribution(ablated_cache, title=\"Ablated Logit Difference From Each Head\")"
   ]
  },
  {
   "cell_type": "code",
   "execution_count": 137,
   "metadata": {},
   "outputs": [
    {
     "data": {
      "text/html": [
       "<div id=\"circuits-vis-2ea7aae3-70da\" style=\"margin: 15px 0;\"/>\n",
       "    <script crossorigin type=\"module\">\n",
       "    import { render, AttentionPatterns } from \"https://unpkg.com/circuitsvis@1.39.1/dist/cdn/esm.js\";\n",
       "    render(\n",
       "      \"circuits-vis-2ea7aae3-70da\",\n",
       "      AttentionPatterns,\n",
       "      {\"tokens\": [\"<|endoftext|>\", \"When\", \" John\", \" and\", \" Mary\", \" went\", \" to\", \" the\", \" shops\", \",\", \" John\", \" gave\", \" the\", \" bag\", \" to\"], \"attention\": [[[1.0, 0.0, 0.0, 0.0, 0.0, 0.0, 0.0, 0.0, 0.0, 0.0, 0.0, 0.0, 0.0, 0.0, 0.0], [0.9875964522361755, 0.012403666041791439, 0.0, 0.0, 0.0, 0.0, 0.0, 0.0, 0.0, 0.0, 0.0, 0.0, 0.0, 0.0, 0.0], [0.9548473954200745, 0.018035857006907463, 0.027116797864437103, 0.0, 0.0, 0.0, 0.0, 0.0, 0.0, 0.0, 0.0, 0.0, 0.0, 0.0, 0.0], [0.9275382161140442, 0.014345548115670681, 0.023996321484446526, 0.03411991894245148, 0.0, 0.0, 0.0, 0.0, 0.0, 0.0, 0.0, 0.0, 0.0, 0.0, 0.0], [0.8925275206565857, 0.017074229195713997, 0.020137563347816467, 0.04428230598568916, 0.025978367775678635, 0.0, 0.0, 0.0, 0.0, 0.0, 0.0, 0.0, 0.0, 0.0, 0.0], [0.8467466831207275, 0.015873702242970467, 0.027899008244276047, 0.0368688590824604, 0.03932753577828407, 0.033284351229667664, 0.0, 0.0, 0.0, 0.0, 0.0, 0.0, 0.0, 0.0, 0.0], [0.8349108695983887, 0.012308724224567413, 0.03235243633389473, 0.030351141467690468, 0.027468573302030563, 0.03864661604166031, 0.02396172657608986, 0.0, 0.0, 0.0, 0.0, 0.0, 0.0, 0.0, 0.0], [0.8105593919754028, 0.012227359227836132, 0.02712843008339405, 0.027840377762913704, 0.025988224893808365, 0.03280382230877876, 0.029135996475815773, 0.03431644290685654, 0.0, 0.0, 0.0, 0.0, 0.0, 0.0, 0.0], [0.795641303062439, 0.01191963255405426, 0.02777497097849846, 0.021859951317310333, 0.025013146921992302, 0.03697402402758598, 0.03154400363564491, 0.025052931159734726, 0.02422007918357849, 0.0, 0.0, 0.0, 0.0, 0.0, 0.0], [0.7906053066253662, 0.012148587964475155, 0.01829005964100361, 0.02635062113404274, 0.019132288172841072, 0.022261064499616623, 0.02976737916469574, 0.020808564499020576, 0.03386249020695686, 0.02677375078201294, 0.0, 0.0, 0.0, 0.0, 0.0], [0.7151333093643188, 0.01765345223248005, 0.017476117238402367, 0.02333841286599636, 0.01685868389904499, 0.060018327087163925, 0.03105868212878704, 0.02730519510805607, 0.03150332346558571, 0.03733619675040245, 0.022318324074149132, 0.0, 0.0, 0.0, 0.0], [0.7066367864608765, 0.011642247438430786, 0.017863338813185692, 0.02300341986119747, 0.022489896044135094, 0.03990434855222702, 0.02027643471956253, 0.02863313816487789, 0.02792394906282425, 0.047413475811481476, 0.022232208400964737, 0.031980790197849274, 0.0, 0.0, 0.0], [0.7102282643318176, 0.008992207236588001, 0.015508200973272324, 0.03719993680715561, 0.01810004562139511, 0.03718015179038048, 0.02485808916389942, 0.020100951194763184, 0.02349371463060379, 0.02379271201789379, 0.020718738436698914, 0.03645554557442665, 0.023371445015072823, 0.0, 0.0], [0.73902827501297, 0.010728294961154461, 0.010241296142339706, 0.026408569887280464, 0.013288418762385845, 0.032030802220106125, 0.02321493625640869, 0.015232247300446033, 0.022233474999666214, 0.02825239859521389, 0.016423620283603668, 0.026871098205447197, 0.015895407646894455, 0.020151175558567047, 0.0], [0.7254263162612915, 0.009456148371100426, 0.013805776834487915, 0.021243415772914886, 0.021758422255516052, 0.03685283660888672, 0.02823614329099655, 0.015041561797261238, 0.013816405087709427, 0.013133065775036812, 0.012700567953288555, 0.015973631292581558, 0.013825919479131699, 0.039320457726716995, 0.01940937526524067]], [[1.0, 0.0, 0.0, 0.0, 0.0, 0.0, 0.0, 0.0, 0.0, 0.0, 0.0, 0.0, 0.0, 0.0, 0.0], [0.9938358664512634, 0.006164097227156162, 0.0, 0.0, 0.0, 0.0, 0.0, 0.0, 0.0, 0.0, 0.0, 0.0, 0.0, 0.0, 0.0], [0.9944925308227539, 0.0014013167237862945, 0.004106162115931511, 0.0, 0.0, 0.0, 0.0, 0.0, 0.0, 0.0, 0.0, 0.0, 0.0, 0.0, 0.0], [0.9016181826591492, 0.004599796608090401, 0.08071008324623108, 0.013071909546852112, 0.0, 0.0, 0.0, 0.0, 0.0, 0.0, 0.0, 0.0, 0.0, 0.0, 0.0], [0.9371689558029175, 0.0047939615324139595, 0.013604306615889072, 0.009766324423253536, 0.03466646000742912, 0.0, 0.0, 0.0, 0.0, 0.0, 0.0, 0.0, 0.0, 0.0, 0.0], [0.9848433136940002, 0.005181839223951101, 0.00044770148815587163, 0.0019348349887877703, 0.0002859697269741446, 0.007306281942874193, 0.0, 0.0, 0.0, 0.0, 0.0, 0.0, 0.0, 0.0, 0.0], [0.9757132530212402, 0.0006289661978371441, 0.006743383128196001, 0.0007075974717736244, 0.010802308097481728, 0.0019282547291368246, 0.003476211801171303, 0.0, 0.0, 0.0, 0.0, 0.0, 0.0, 0.0, 0.0], [0.9858129620552063, 0.0009997241431847215, 0.0010400484316051006, 0.0006064095650799572, 0.001652680104598403, 0.0005321036442182958, 0.0014193818205967546, 0.007936753332614899, 0.0, 0.0, 0.0, 0.0, 0.0, 0.0, 0.0], [0.9842036962509155, 0.003319305833429098, 0.0025549596175551414, 0.00033325227559544146, 0.001018617651425302, 0.001156739890575409, 0.0014238242292776704, 0.001821762416511774, 0.004167843610048294, 0.0, 0.0, 0.0, 0.0, 0.0, 0.0], [0.47420641779899597, 0.0074984170496463776, 0.19505681097507477, 0.006065955385565758, 0.30549323558807373, 0.00213840464130044, 0.0014968749601393938, 0.0005585516337305307, 0.0026706589851528406, 0.004814733285456896, 0.0, 0.0, 0.0, 0.0, 0.0], [0.8695662021636963, 0.0016171475872397423, 0.003409032942727208, 0.04214509204030037, 0.06277015805244446, 0.008420002646744251, 0.001826504827477038, 0.0004980046069249511, 0.003625547746196389, 0.000742821313906461, 0.0053794970735907555, 0.0, 0.0, 0.0, 0.0], [0.540540874004364, 0.004244341980665922, 0.10689832270145416, 0.004158148542046547, 0.22716224193572998, 0.00064375891815871, 0.0010237700771540403, 0.0004558997752610594, 0.0011323582148179412, 0.0027506824117153883, 0.09623407572507858, 0.014755595475435257, 0.0, 0.0, 0.0], [0.8923097848892212, 0.0019785065669566393, 0.012467287480831146, 0.005628175102174282, 0.022838614881038666, 0.0012151479022577405, 0.0013774619437754154, 0.001993244281038642, 0.01591172255575657, 0.0019615767523646355, 0.005610629450529814, 0.006979415658861399, 0.02972838655114174, 0.0, 0.0], [0.9830228686332703, 0.001813046634197235, 0.0016826201463118196, 0.00024404410214629024, 0.0010506691178306937, 8.908124436857179e-05, 0.00033111244556494057, 0.0002616503625176847, 0.0009252817835658789, 0.0014147700276225805, 0.0012274369364604354, 0.0008331198478117585, 0.0017340367194265127, 0.0053703272715210915, 0.0], [0.2976914942264557, 0.0023817934561520815, 0.1258668154478073, 0.013837266713380814, 0.5120784640312195, 0.0006236375193111598, 0.00037900780444033444, 0.0004285756731405854, 0.0007102243835106492, 0.0010823216289281845, 0.03778666630387306, 0.0011704304488375783, 0.002682696096599102, 0.0011820776853710413, 0.002098511205986142]], [[1.0, 0.0, 0.0, 0.0, 0.0, 0.0, 0.0, 0.0, 0.0, 0.0, 0.0, 0.0, 0.0, 0.0, 0.0], [0.9902681708335876, 0.00973189901560545, 0.0, 0.0, 0.0, 0.0, 0.0, 0.0, 0.0, 0.0, 0.0, 0.0, 0.0, 0.0, 0.0], [0.995358407497406, 0.001780005288310349, 0.002861637622117996, 0.0, 0.0, 0.0, 0.0, 0.0, 0.0, 0.0, 0.0, 0.0, 0.0, 0.0, 0.0], [0.8315930366516113, 0.007496870122849941, 0.11706710606813431, 0.04384300112724304, 0.0, 0.0, 0.0, 0.0, 0.0, 0.0, 0.0, 0.0, 0.0, 0.0, 0.0], [0.9119350910186768, 0.010353557765483856, 0.01917031593620777, 0.03314419835805893, 0.025396864861249924, 0.0, 0.0, 0.0, 0.0, 0.0, 0.0, 0.0, 0.0, 0.0, 0.0], [0.9872180819511414, 0.002489773090928793, 0.001062531489878893, 0.003618951654061675, 0.0015265299007296562, 0.004084161948412657, 0.0, 0.0, 0.0, 0.0, 0.0, 0.0, 0.0, 0.0, 0.0], [0.9156726598739624, 0.0017128639155998826, 0.030924057587981224, 0.002180711831897497, 0.03964759409427643, 0.0029929305892437696, 0.00686923461034894, 0.0, 0.0, 0.0, 0.0, 0.0, 0.0, 0.0, 0.0], [0.9746034741401672, 0.003129796590656042, 0.007753553334623575, 0.0015050815418362617, 0.0041670966893434525, 0.0009587261010892689, 0.0030519685242325068, 0.004830396734178066, 0.0, 0.0, 0.0, 0.0, 0.0, 0.0, 0.0], [0.9324526786804199, 0.019876955077052116, 0.023294392973184586, 0.003353261621668935, 0.006964425556361675, 0.003709450364112854, 0.005418518558144569, 0.0009175844606943429, 0.0040127127431333065, 0.0, 0.0, 0.0, 0.0, 0.0, 0.0], [0.3310394883155823, 0.007225170731544495, 0.22527343034744263, 0.01082890760153532, 0.40973687171936035, 0.002318762941285968, 0.001591097447089851, 0.0014292747946456075, 0.002075350610539317, 0.008481665514409542, 0.0, 0.0, 0.0, 0.0, 0.0], [0.7805948853492737, 0.012878495268523693, 0.006028811912983656, 0.04186459630727768, 0.0286704171448946, 0.043974705040454865, 0.007778096944093704, 0.001428270828910172, 0.004069727845489979, 0.027737310156226158, 0.04497462883591652, 0.0, 0.0, 0.0, 0.0], [0.2106296420097351, 0.005459113512188196, 0.0746336430311203, 0.017135391011834145, 0.5147976279258728, 0.002454538131132722, 0.0019337276462465525, 0.0013326340122148395, 0.0011478522792458534, 0.006411591544747353, 0.15697677433490753, 0.007087504956871271, 0.0, 0.0, 0.0], [0.6864352822303772, 0.0032970220781862736, 0.02641015313565731, 0.0177701935172081, 0.1508667916059494, 0.006444718688726425, 0.003694447921589017, 0.001476479577831924, 0.02982151135802269, 0.007464099675416946, 0.021368201822042465, 0.010557373985648155, 0.03439372032880783, 0.0, 0.0], [0.8625672459602356, 0.005624832585453987, 0.023090822622179985, 0.0032992581836879253, 0.035838544368743896, 0.0034061050973832607, 0.002186093246564269, 0.0007341238087974489, 0.00172221171669662, 0.006904704496264458, 0.025816498324275017, 0.006568645592778921, 0.00898779183626175, 0.013253101147711277, 0.0], [0.20636042952537537, 0.0030118597205728292, 0.11384139209985733, 0.0300601813942194, 0.5120474100112915, 0.0019837983418256044, 0.0010207250015810132, 0.0005700972978956997, 0.0006419949932023883, 0.004916864447295666, 0.10686501115560532, 0.002329083625227213, 0.0072973500937223434, 0.001579746720381081, 0.007474000100046396]], [[1.0, 0.0, 0.0, 0.0, 0.0, 0.0, 0.0, 0.0, 0.0, 0.0, 0.0, 0.0, 0.0, 0.0, 0.0], [0.9485035538673401, 0.05149640887975693, 0.0, 0.0, 0.0, 0.0, 0.0, 0.0, 0.0, 0.0, 0.0, 0.0, 0.0, 0.0, 0.0], [0.9769594669342041, 0.01350165531039238, 0.009538923390209675, 0.0, 0.0, 0.0, 0.0, 0.0, 0.0, 0.0, 0.0, 0.0, 0.0, 0.0, 0.0], [0.8130314946174622, 0.03388216719031334, 0.11294081062078476, 0.040145501494407654, 0.0, 0.0, 0.0, 0.0, 0.0, 0.0, 0.0, 0.0, 0.0, 0.0, 0.0], [0.8485767245292664, 0.030639661476016045, 0.032622337341308594, 0.017893962562084198, 0.07026734203100204, 0.0, 0.0, 0.0, 0.0, 0.0, 0.0, 0.0, 0.0, 0.0, 0.0], [0.9458999633789062, 0.01256314106285572, 0.0006133363349363208, 0.009275469928979874, 0.0011254396522417665, 0.030522696673870087, 0.0, 0.0, 0.0, 0.0, 0.0, 0.0, 0.0, 0.0, 0.0], [0.8578943610191345, 0.015939410775899887, 0.010767386294901371, 0.01776953414082527, 0.022001124918460846, 0.015165011398494244, 0.060463204979896545, 0.0, 0.0, 0.0, 0.0, 0.0, 0.0, 0.0, 0.0], [0.8506922125816345, 0.03263380378484726, 0.003776972647756338, 0.018634289503097534, 0.010904889553785324, 0.01641349494457245, 0.034166593104600906, 0.03277784585952759, 0.0, 0.0, 0.0, 0.0, 0.0, 0.0, 0.0], [0.8015938997268677, 0.07715296000242233, 0.005925755947828293, 0.011796974577009678, 0.008470705710351467, 0.012326790951192379, 0.027963947504758835, 0.017609000205993652, 0.0371600016951561, 0.0, 0.0, 0.0, 0.0, 0.0, 0.0], [0.5720418095588684, 0.032310862094163895, 0.04314988851547241, 0.012045076116919518, 0.30430567264556885, 0.0038731410168111324, 0.004017876926809549, 0.005405734293162823, 0.0062333266250789165, 0.016616569831967354, 0.0, 0.0, 0.0, 0.0, 0.0], [0.8418044447898865, 0.007321636658161879, 0.003651035251095891, 0.03165292367339134, 0.04547881335020065, 0.014920378103852272, 0.007199225015938282, 0.003638874040916562, 0.007552455645054579, 0.01730659231543541, 0.019473640248179436, 0.0, 0.0, 0.0, 0.0], [0.43964797258377075, 0.01303783804178238, 0.03726533427834511, 0.013602283783257008, 0.37877586483955383, 0.0033179023303091526, 0.004334179684519768, 0.00427454337477684, 0.0066235680133104324, 0.011424976401031017, 0.08207468688488007, 0.005620807874947786, 0.0, 0.0, 0.0], [0.6204242706298828, 0.01338864490389824, 0.01597275771200657, 0.05411341041326523, 0.12867943942546844, 0.018035029992461205, 0.011583494953811169, 0.005450098775327206, 0.04012487456202507, 0.014118901453912258, 0.020010683685541153, 0.011118264868855476, 0.04698019102215767, 0.0, 0.0], [0.8891645073890686, 0.006315859500318766, 0.005392407067120075, 0.00446350546553731, 0.007765195798128843, 0.002777478424832225, 0.006170111242681742, 0.002980312332510948, 0.009764117188751698, 0.020375093445181847, 0.011853971518576145, 0.004221565555781126, 0.022205671295523643, 0.006550250109285116, 0.0], [0.30653658509254456, 0.00977763719856739, 0.05448228120803833, 0.029639048501849174, 0.49988481402397156, 0.003869070438668132, 0.0018846777966246009, 0.0015443845186382532, 0.0019407541258260608, 0.002568895695731044, 0.06939159333705902, 0.00337044196203351, 0.010120652616024017, 0.0003391929785721004, 0.004649996757507324]], [[1.0, 0.0, 0.0, 0.0, 0.0, 0.0, 0.0, 0.0, 0.0, 0.0, 0.0, 0.0, 0.0, 0.0, 0.0], [0.9001586437225342, 0.0998414158821106, 0.0, 0.0, 0.0, 0.0, 0.0, 0.0, 0.0, 0.0, 0.0, 0.0, 0.0, 0.0, 0.0], [0.9506087303161621, 0.008690820075571537, 0.04070040211081505, 0.0, 0.0, 0.0, 0.0, 0.0, 0.0, 0.0, 0.0, 0.0, 0.0, 0.0, 0.0], [0.6312214732170105, 0.022323623299598694, 0.2398851066827774, 0.1065697893500328, 0.0, 0.0, 0.0, 0.0, 0.0, 0.0, 0.0, 0.0, 0.0, 0.0, 0.0], [0.8117886185646057, 0.07522580027580261, 0.01540687307715416, 0.07616817206144333, 0.02141045406460762, 0.0, 0.0, 0.0, 0.0, 0.0, 0.0, 0.0, 0.0, 0.0, 0.0], [0.8894230127334595, 0.028652383014559746, 0.004059796221554279, 0.020573478192090988, 0.008344111032783985, 0.04894717410206795, 0.0, 0.0, 0.0, 0.0, 0.0, 0.0, 0.0, 0.0, 0.0], [0.5690588355064392, 0.029064014554023743, 0.029601391404867172, 0.031919464468955994, 0.046254031360149384, 0.14671258628368378, 0.14738966524600983, 0.0, 0.0, 0.0, 0.0, 0.0, 0.0, 0.0, 0.0], [0.6899786591529846, 0.027882231399416924, 0.01617181859910488, 0.03609020262956619, 0.02722870372235775, 0.059894245117902756, 0.09913767129182816, 0.043616484850645065, 0.0, 0.0, 0.0, 0.0, 0.0, 0.0, 0.0], [0.6883638501167297, 0.11058226227760315, 0.004584079142659903, 0.017604053020477295, 0.0105018625035882, 0.015330322086811066, 0.05778820812702179, 0.060665395110845566, 0.03457997366786003, 0.0, 0.0, 0.0, 0.0, 0.0, 0.0], [0.6002275943756104, 0.08937681466341019, 0.037802521139383316, 0.03144232928752899, 0.056097470223903656, 0.029717473313212395, 0.039537131786346436, 0.01603413186967373, 0.036610495299100876, 0.06315397471189499, 0.0, 0.0, 0.0, 0.0, 0.0], [0.34826329350471497, 0.07798302918672562, 0.0015169112011790276, 0.06063980981707573, 0.005860951729118824, 0.0638008713722229, 0.04987835884094238, 0.01176532544195652, 0.062118981033563614, 0.30115222930908203, 0.017020205035805702, 0.0, 0.0, 0.0, 0.0], [0.6550449132919312, 0.03380828723311424, 0.029987916350364685, 0.04787648096680641, 0.023831095546483994, 0.011157123371958733, 0.028641227632761, 0.0153006911277771, 0.013321529142558575, 0.04461059346795082, 0.06462681293487549, 0.0317932665348053, 0.0, 0.0, 0.0], [0.5253959894180298, 0.03521211817860603, 0.003413711441680789, 0.05489170178771019, 0.0075082918629050255, 0.031911078840494156, 0.04348910599946976, 0.015193791128695011, 0.07564877718687057, 0.02866729535162449, 0.013162058778107166, 0.12097162008285522, 0.044534504413604736, 0.0, 0.0], [0.7222740650177002, 0.02897929772734642, 0.007663004565984011, 0.010267688892781734, 0.008462478406727314, 0.008139404468238354, 0.016213534399867058, 0.020785953849554062, 0.023196209222078323, 0.05620884895324707, 0.01305910013616085, 0.028314445167779922, 0.04028350114822388, 0.01615236885845661, 0.0], [0.5985460877418518, 0.016531474888324738, 0.083016537129879, 0.04652423411607742, 0.026633746922016144, 0.008867907337844372, 0.013476082123816013, 0.011668233200907707, 0.007795293349772692, 0.011851271614432335, 0.0964009091258049, 0.015897948294878006, 0.025785725563764572, 0.004893023986369371, 0.03211141377687454]], [[1.0, 0.0, 0.0, 0.0, 0.0, 0.0, 0.0, 0.0, 0.0, 0.0, 0.0, 0.0, 0.0, 0.0, 0.0], [0.978049099445343, 0.021950842812657356, 0.0, 0.0, 0.0, 0.0, 0.0, 0.0, 0.0, 0.0, 0.0, 0.0, 0.0, 0.0, 0.0], [0.9723108410835266, 0.0242072194814682, 0.0034819270949810743, 0.0, 0.0, 0.0, 0.0, 0.0, 0.0, 0.0, 0.0, 0.0, 0.0, 0.0, 0.0], [0.9600500464439392, 0.013838866725564003, 0.018550343811511993, 0.007560789119452238, 0.0, 0.0, 0.0, 0.0, 0.0, 0.0, 0.0, 0.0, 0.0, 0.0, 0.0], [0.5750492811203003, 0.26489710807800293, 0.015889214351773262, 0.09940051287412643, 0.04476385563611984, 0.0, 0.0, 0.0, 0.0, 0.0, 0.0, 0.0, 0.0, 0.0, 0.0], [0.958160400390625, 0.010857430286705494, 0.00307242083363235, 0.010353121906518936, 0.0067419628612697124, 0.010814659297466278, 0.0, 0.0, 0.0, 0.0, 0.0, 0.0, 0.0, 0.0, 0.0], [0.9703037738800049, 0.00936484057456255, 0.006264243740588427, 0.003138686763122678, 0.0043511902913451195, 0.0041946349665522575, 0.002382637234404683, 0.0, 0.0, 0.0, 0.0, 0.0, 0.0, 0.0, 0.0], [0.9721020460128784, 0.004554390907287598, 0.009322420693933964, 0.002622609958052635, 0.0020919551607221365, 0.0036594478879123926, 0.004792048595845699, 0.0008550822967663407, 0.0, 0.0, 0.0, 0.0, 0.0, 0.0, 0.0], [0.44838327169418335, 0.040335774421691895, 0.016850285232067108, 0.014791960828006268, 0.01534452848136425, 0.1932486891746521, 0.13978412747383118, 0.07655281573534012, 0.0547085739672184, 0.0, 0.0, 0.0, 0.0, 0.0, 0.0], [0.8267741799354553, 0.018545430153608322, 0.006128146778792143, 0.0031058955937623978, 0.010980924591422081, 0.03150505572557449, 0.018973028287291527, 0.013157200068235397, 0.05034499242901802, 0.020485062152147293, 0.0, 0.0, 0.0, 0.0, 0.0], [0.2650032341480255, 0.006562311202287674, 0.001698697917163372, 0.019503610208630562, 0.0034409360960125923, 0.006946896202862263, 0.011029860004782677, 0.008285663090646267, 0.02446206472814083, 0.6040998101234436, 0.04896700382232666, 0.0, 0.0, 0.0, 0.0], [0.8627162575721741, 0.0027783839032053947, 0.001881711883470416, 0.00280729029327631, 0.0033485149033367634, 0.0035661994479596615, 0.0034817915875464678, 0.009128882549703121, 0.011057335883378983, 0.028835510835051537, 0.03631078079342842, 0.034087348729372025, 0.0, 0.0, 0.0], [0.9633774161338806, 0.0010903880465775728, 0.0013830416137352586, 0.0013456741580739617, 0.0004791015526279807, 0.0009864207822829485, 0.0016852099215611815, 0.0006916137645021081, 0.0025601829402148724, 0.004969187080860138, 0.006007380783557892, 0.012755291536450386, 0.0026690990198403597, 0.0, 0.0], [0.7631107568740845, 0.002636473160237074, 0.0021032190416008234, 0.0029412852600216866, 0.0014823459787294269, 0.005845261737704277, 0.006026825867593288, 0.017946260049939156, 0.004339983221143484, 0.009637203067541122, 0.005332266446202993, 0.08887017518281937, 0.07535026967525482, 0.014377642422914505, 0.0], [0.8961455821990967, 0.0020873327739536762, 0.0024311915040016174, 0.0009072793764062226, 0.001943708979524672, 0.001920426613651216, 0.0015174217987805605, 0.004675702191889286, 0.0023426988627761602, 0.006169223226606846, 0.019645050168037415, 0.01640787534415722, 0.01784786768257618, 0.01922251284122467, 0.006736248265951872]], [[1.0, 0.0, 0.0, 0.0, 0.0, 0.0, 0.0, 0.0, 0.0, 0.0, 0.0, 0.0, 0.0, 0.0, 0.0], [0.9878327250480652, 0.012167306616902351, 0.0, 0.0, 0.0, 0.0, 0.0, 0.0, 0.0, 0.0, 0.0, 0.0, 0.0, 0.0, 0.0], [0.972752571105957, 0.013429665938019753, 0.01381776388734579, 0.0, 0.0, 0.0, 0.0, 0.0, 0.0, 0.0, 0.0, 0.0, 0.0, 0.0, 0.0], [0.9477062225341797, 0.014558135531842709, 0.011585542932152748, 0.0261501744389534, 0.0, 0.0, 0.0, 0.0, 0.0, 0.0, 0.0, 0.0, 0.0, 0.0, 0.0], [0.9285969734191895, 0.01356177031993866, 0.01022670790553093, 0.026146601885557175, 0.02146793156862259, 0.0, 0.0, 0.0, 0.0, 0.0, 0.0, 0.0, 0.0, 0.0, 0.0], [0.9139373302459717, 0.010799190029501915, 0.009555114433169365, 0.024203037843108177, 0.01766713336110115, 0.023838266730308533, 0.0, 0.0, 0.0, 0.0, 0.0, 0.0, 0.0, 0.0, 0.0], [0.9041995406150818, 0.008807159028947353, 0.012842650525271893, 0.014942869544029236, 0.013960089534521103, 0.01810337044298649, 0.027144407853484154, 0.0, 0.0, 0.0, 0.0, 0.0, 0.0, 0.0, 0.0], [0.8941275477409363, 0.007380845956504345, 0.007479510270059109, 0.01976553164422512, 0.016519349068403244, 0.017833998426795006, 0.020113784819841385, 0.016779566183686256, 0.0, 0.0, 0.0, 0.0, 0.0, 0.0, 0.0], [0.8701748847961426, 0.008485347032546997, 0.012409497983753681, 0.017478644847869873, 0.018737532198429108, 0.01697801984846592, 0.026481011882424355, 0.013683116994798183, 0.01557194348424673, 0.0, 0.0, 0.0, 0.0, 0.0, 0.0], [0.8494165539741516, 0.010715355165302753, 0.009976198896765709, 0.015848234295845032, 0.019265830516815186, 0.021971900016069412, 0.03160957247018814, 0.010240406729280949, 0.01594875380396843, 0.01500725094228983, 0.0, 0.0, 0.0, 0.0, 0.0], [0.8204129934310913, 0.017323995009064674, 0.010099153965711594, 0.02037307620048523, 0.01307478453963995, 0.025189761072397232, 0.020596088841557503, 0.015930363908410072, 0.020951585844159126, 0.017842747271060944, 0.01820550300180912, 0.0, 0.0, 0.0, 0.0], [0.8161895275115967, 0.011382036842405796, 0.008444962091743946, 0.01935953088104725, 0.014999511651694775, 0.02123546041548252, 0.017516838386654854, 0.018459884449839592, 0.023230556398630142, 0.015619824640452862, 0.016736993566155434, 0.01682484708726406, 0.0, 0.0, 0.0], [0.8332750201225281, 0.009140236303210258, 0.0077705783769488335, 0.01540167722851038, 0.010039076209068298, 0.01419906783849001, 0.016588810831308365, 0.013184388168156147, 0.025276262313127518, 0.010609198361635208, 0.012280981056392193, 0.016846664249897003, 0.01538808923214674, 0.0, 0.0], [0.8090006113052368, 0.014790982939302921, 0.005899683106690645, 0.026430321857333183, 0.015788739547133446, 0.014095975086092949, 0.01874092034995556, 0.012081518769264221, 0.013451710343360901, 0.015745099633932114, 0.011779792606830597, 0.01273752748966217, 0.014071904122829437, 0.01538531668484211, 0.0], [0.8091939091682434, 0.010192109271883965, 0.005938570015132427, 0.017941772937774658, 0.02011364884674549, 0.026534277945756912, 0.020332230255007744, 0.011789078824222088, 0.010511849075555801, 0.01248757541179657, 0.008621348068118095, 0.007082114461809397, 0.011494285427033901, 0.012334258295595646, 0.015433060936629772]], [[1.0, 0.0, 0.0, 0.0, 0.0, 0.0, 0.0, 0.0, 0.0, 0.0, 0.0, 0.0, 0.0, 0.0, 0.0], [0.9623446464538574, 0.037655383348464966, 0.0, 0.0, 0.0, 0.0, 0.0, 0.0, 0.0, 0.0, 0.0, 0.0, 0.0, 0.0, 0.0], [0.9789007902145386, 0.0033157197758555412, 0.017783423885703087, 0.0, 0.0, 0.0, 0.0, 0.0, 0.0, 0.0, 0.0, 0.0, 0.0, 0.0, 0.0], [0.8119339942932129, 0.00853295810520649, 0.13593259453773499, 0.04360050708055496, 0.0, 0.0, 0.0, 0.0, 0.0, 0.0, 0.0, 0.0, 0.0, 0.0, 0.0], [0.8685322999954224, 0.01742895133793354, 0.020325377583503723, 0.05312711000442505, 0.04058625549077988, 0.0, 0.0, 0.0, 0.0, 0.0, 0.0, 0.0, 0.0, 0.0, 0.0], [0.9694027900695801, 0.00364154065027833, 0.000307045120280236, 0.003771664574742317, 0.00035960052628070116, 0.022517338395118713, 0.0, 0.0, 0.0, 0.0, 0.0, 0.0, 0.0, 0.0, 0.0], [0.7764987349510193, 0.006799093913286924, 0.012143152765929699, 0.03607899695634842, 0.03287789225578308, 0.043970439583063126, 0.09163165837526321, 0.0, 0.0, 0.0, 0.0, 0.0, 0.0, 0.0, 0.0], [0.825903058052063, 0.009017879143357277, 0.004009217489510775, 0.030879508703947067, 0.011497154831886292, 0.007356354035437107, 0.07563550770282745, 0.03570130839943886, 0.0, 0.0, 0.0, 0.0, 0.0, 0.0, 0.0], [0.8397548198699951, 0.018041642382740974, 0.0028086660895496607, 0.016132228076457977, 0.003288175677880645, 0.011298050172626972, 0.03112306445837021, 0.010082527995109558, 0.06747087836265564, 0.0, 0.0, 0.0, 0.0, 0.0, 0.0], [0.3172636032104492, 0.0179913230240345, 0.14469681680202484, 0.08961202204227448, 0.3428885042667389, 0.008879468776285648, 0.0157066211104393, 0.014106917195022106, 0.011807088740170002, 0.03704758733510971, 0.0, 0.0, 0.0, 0.0, 0.0], [0.7157333493232727, 0.032137323170900345, 0.005704495124518871, 0.08529148250818253, 0.005078649614006281, 0.060157161206007004, 0.02607494778931141, 0.006994334515184164, 0.0031824279576539993, 0.0450051948428154, 0.01464074570685625, 0.0, 0.0, 0.0, 0.0], [0.21388374269008636, 0.019185813143849373, 0.14550617337226868, 0.0362229086458683, 0.18712936341762543, 0.007298997603356838, 0.009884721599519253, 0.010162640362977982, 0.0019261987181380391, 0.02787592262029648, 0.2973373830318451, 0.0435861237347126, 0.0, 0.0, 0.0], [0.42618533968925476, 0.010549908503890038, 0.03900380805134773, 0.08187830448150635, 0.04678025841712952, 0.009841115213930607, 0.03312946856021881, 0.028727607801556587, 0.11792594939470291, 0.027654465287923813, 0.04387226328253746, 0.02973272278904915, 0.10471870005130768, 0.0, 0.0], [0.8244057297706604, 0.005454807076603174, 0.00564297242090106, 0.006993471644818783, 0.008446958847343922, 0.0032270522788167, 0.006554185878485441, 0.0026135933585464954, 0.014678803272545338, 0.014116776175796986, 0.009422657079994678, 0.015553450211882591, 0.00739467004314065, 0.07549485564231873, 0.0], [0.06796886771917343, 0.0031501539051532745, 0.17561566829681396, 0.04504866898059845, 0.39558157324790955, 0.0012668693671002984, 0.0027035297825932503, 0.005905879661440849, 0.00030129190417937934, 0.005808758549392223, 0.2555263042449951, 0.0024381044786423445, 0.027513038367033005, 0.00017687526997178793, 0.010994446463882923]], [[1.0, 0.0, 0.0, 0.0, 0.0, 0.0, 0.0, 0.0, 0.0, 0.0, 0.0, 0.0, 0.0, 0.0, 0.0], [0.9878842234611511, 0.012115762569010258, 0.0, 0.0, 0.0, 0.0, 0.0, 0.0, 0.0, 0.0, 0.0, 0.0, 0.0, 0.0, 0.0], [0.9911373853683472, 0.004335836041718721, 0.004526759032160044, 0.0, 0.0, 0.0, 0.0, 0.0, 0.0, 0.0, 0.0, 0.0, 0.0, 0.0, 0.0], [0.951011061668396, 0.017295455560088158, 0.007421066984534264, 0.024272460490465164, 0.0, 0.0, 0.0, 0.0, 0.0, 0.0, 0.0, 0.0, 0.0, 0.0, 0.0], [0.9433212876319885, 0.002844165312126279, 0.0037197766359895468, 0.02493237517774105, 0.025182263925671577, 0.0, 0.0, 0.0, 0.0, 0.0, 0.0, 0.0, 0.0, 0.0, 0.0], [0.9342690110206604, 0.0006225118995644152, 0.00038664680323563516, 0.0018003328004851937, 0.00048473698552697897, 0.06243674084544182, 0.0, 0.0, 0.0, 0.0, 0.0, 0.0, 0.0, 0.0, 0.0], [0.9762978553771973, 0.0010847619269043207, 0.0016529274871572852, 0.0031630827579647303, 0.0040741837583482265, 0.00348456297069788, 0.010242633521556854, 0.0, 0.0, 0.0, 0.0, 0.0, 0.0, 0.0, 0.0], [0.9798663258552551, 0.004214159213006496, 0.0007267078617587686, 0.005087994504719973, 0.0020915628410875797, 0.0013217449886724353, 0.003708806587383151, 0.002982691628858447, 0.0, 0.0, 0.0, 0.0, 0.0, 0.0, 0.0], [0.9659473896026611, 0.0033565484918653965, 0.001604997320100665, 0.003102752147242427, 0.0018366549629718065, 0.0016013610875234008, 0.008236962370574474, 0.0026749803218990564, 0.011638345196843147, 0.0, 0.0, 0.0, 0.0, 0.0, 0.0], [0.9232838153839111, 0.012360193766653538, 0.006969375070184469, 0.009655996225774288, 0.013623594306409359, 0.0010585535783320665, 0.010612343437969685, 0.006842146161943674, 0.002495857421308756, 0.01309808436781168, 0.0, 0.0, 0.0, 0.0, 0.0], [0.8974441885948181, 0.0028040942270308733, 0.0037013215478509665, 0.0690823346376419, 0.004535153042525053, 0.0028720798436552286, 0.006142838858067989, 0.001322831609286368, 0.001429193653166294, 0.005032160319387913, 0.005633855238556862, 0.0, 0.0, 0.0, 0.0], [0.9358761310577393, 0.005400971509516239, 0.011183422990143299, 0.010731996968388557, 0.007174601312726736, 0.0006591688143089414, 0.003044811775907874, 0.0034905660431832075, 0.001781910890713334, 0.007396479602903128, 0.003796900389716029, 0.009462962858378887, 0.0, 0.0, 0.0], [0.9126903414726257, 0.004750427789986134, 0.0030465004965662956, 0.019505346193909645, 0.00453793304041028, 0.001969694159924984, 0.0025863712653517723, 0.0004931334406137466, 0.02997453138232231, 0.003170570358633995, 0.0010752534726634622, 0.007994703017175198, 0.008205227553844452, 0.0, 0.0], [0.9654520153999329, 0.0015739144291728735, 0.0007058249320834875, 0.0037301622796803713, 0.0003385739109944552, 0.0004204271826893091, 0.0022149980068206787, 0.0008666301146149635, 0.0013344669714570045, 0.007658632472157478, 0.00016173643234651536, 0.001713213394396007, 0.011722726747393608, 0.002106631174683571, 0.0], [0.8526759147644043, 0.007778909523040056, 0.008031187579035759, 0.02619345113635063, 0.017951689660549164, 0.0009615900344215333, 0.002338581020012498, 0.007911672815680504, 0.0012859737034887075, 0.005755090154707432, 0.00574159063398838, 0.00376880238763988, 0.04834369570016861, 0.0013448342215269804, 0.009916980750858784]], [[1.0, 0.0, 0.0, 0.0, 0.0, 0.0, 0.0, 0.0, 0.0, 0.0, 0.0, 0.0, 0.0, 0.0, 0.0], [0.9413923621177673, 0.05860758200287819, 0.0, 0.0, 0.0, 0.0, 0.0, 0.0, 0.0, 0.0, 0.0, 0.0, 0.0, 0.0, 0.0], [0.988315999507904, 0.009108058176934719, 0.0025759090203791857, 0.0, 0.0, 0.0, 0.0, 0.0, 0.0, 0.0, 0.0, 0.0, 0.0, 0.0, 0.0], [0.7704710960388184, 0.0772625133395195, 0.07769174128770828, 0.07457470148801804, 0.0, 0.0, 0.0, 0.0, 0.0, 0.0, 0.0, 0.0, 0.0, 0.0, 0.0], [0.8347309827804565, 0.016631677746772766, 0.05845332145690918, 0.052787695080041885, 0.0373963937163353, 0.0, 0.0, 0.0, 0.0, 0.0, 0.0, 0.0, 0.0, 0.0, 0.0], [0.9157564043998718, 0.009372886270284653, 0.008171658031642437, 0.004001203924417496, 0.026878945529460907, 0.03581893816590309, 0.0, 0.0, 0.0, 0.0, 0.0, 0.0, 0.0, 0.0, 0.0], [0.7515538930892944, 0.022703036665916443, 0.02772151492536068, 0.013122227974236012, 0.09177209436893463, 0.06232930347323418, 0.03079792857170105, 0.0, 0.0, 0.0, 0.0, 0.0, 0.0, 0.0, 0.0], [0.8618643283843994, 0.01274861115962267, 0.00918103102594614, 0.011580211110413074, 0.03372015804052353, 0.012491817586123943, 0.05023745819926262, 0.008176294155418873, 0.0, 0.0, 0.0, 0.0, 0.0, 0.0, 0.0], [0.2630082964897156, 0.01344240177422762, 0.01671985723078251, 0.01454730425029993, 0.028535297140479088, 0.2155276983976364, 0.18407489359378815, 0.17825156450271606, 0.08589264750480652, 0.0, 0.0, 0.0, 0.0, 0.0, 0.0], [0.30333325266838074, 0.015387827530503273, 0.03754531219601631, 0.009361132979393005, 0.12726934254169464, 0.25838151574134827, 0.1293649971485138, 0.017004631459712982, 0.04941997304558754, 0.052932009100914, 0.0, 0.0, 0.0, 0.0, 0.0], [0.835491955280304, 0.0036522794980555773, 0.0065744235180318356, 0.002758580259978771, 0.025074411183595657, 0.00845834705978632, 0.00834578461945057, 0.003422521986067295, 0.003458706894889474, 0.024917015805840492, 0.07784589380025864, 0.0, 0.0, 0.0, 0.0], [0.3951338529586792, 0.022346561774611473, 0.019022537395358086, 0.004632201977074146, 0.1593897044658661, 0.07454417645931244, 0.03580119088292122, 0.00945991463959217, 0.03271114453673363, 0.18115846812725067, 0.053446561098098755, 0.012353651225566864, 0.0, 0.0, 0.0], [0.7923089265823364, 0.00833449698984623, 0.006714529823511839, 0.007078355643898249, 0.040795087814331055, 0.015184717252850533, 0.012295780703425407, 0.0034955618903040886, 0.009850705973803997, 0.0403752401471138, 0.014388172887265682, 0.036839839071035385, 0.012338586151599884, 0.0, 0.0], [0.3327103853225708, 0.0012663777451962233, 0.004229217767715454, 0.0030329960864037275, 0.004993128590285778, 0.03794671222567558, 0.019216375425457954, 0.04143393784761429, 0.004441395401954651, 0.005754215642809868, 0.022450163960456848, 0.13173945248126984, 0.2791002094745636, 0.1116853579878807, 0.0], [0.451639860868454, 0.01572605036199093, 0.017390232533216476, 0.01401804480701685, 0.15508632361888885, 0.035584475845098495, 0.027665482833981514, 0.006362288724631071, 0.011822299100458622, 0.08315549790859222, 0.05539330467581749, 0.025674542412161827, 0.01645803079009056, 0.05000436678528786, 0.03401917219161987]], [[1.0, 0.0, 0.0, 0.0, 0.0, 0.0, 0.0, 0.0, 0.0, 0.0, 0.0, 0.0, 0.0, 0.0, 0.0], [0.9931365251541138, 0.006863469257950783, 0.0, 0.0, 0.0, 0.0, 0.0, 0.0, 0.0, 0.0, 0.0, 0.0, 0.0, 0.0, 0.0], [0.9760433435440063, 0.01321383286267519, 0.01074289157986641, 0.0, 0.0, 0.0, 0.0, 0.0, 0.0, 0.0, 0.0, 0.0, 0.0, 0.0, 0.0], [0.9569670557975769, 0.017091043293476105, 0.011013267561793327, 0.01492867711931467, 0.0, 0.0, 0.0, 0.0, 0.0, 0.0, 0.0, 0.0, 0.0, 0.0, 0.0], [0.9472073912620544, 0.01956360600888729, 0.00873142946511507, 0.012498173862695694, 0.011999394744634628, 0.0, 0.0, 0.0, 0.0, 0.0, 0.0, 0.0, 0.0, 0.0, 0.0], [0.9343607425689697, 0.015614408068358898, 0.009352313354611397, 0.010281729511916637, 0.01545096654444933, 0.014939839020371437, 0.0, 0.0, 0.0, 0.0, 0.0, 0.0, 0.0, 0.0, 0.0], [0.9248022437095642, 0.0157456137239933, 0.015457860194146633, 0.00982612743973732, 0.010060040280222893, 0.010760020464658737, 0.013348097912967205, 0.0, 0.0, 0.0, 0.0, 0.0, 0.0, 0.0, 0.0], [0.9121576547622681, 0.013874192722141743, 0.013039110228419304, 0.014661875553429127, 0.01324344240128994, 0.00908716395497322, 0.011007120832800865, 0.01292949728667736, 0.0, 0.0, 0.0, 0.0, 0.0, 0.0, 0.0], [0.9012439250946045, 0.014076752588152885, 0.019090531393885612, 0.011523071676492691, 0.013314498588442802, 0.007887992076575756, 0.012192165479063988, 0.00848526693880558, 0.012185825034976006, 0.0, 0.0, 0.0, 0.0, 0.0, 0.0], [0.8879624605178833, 0.015343012288212776, 0.013583580031991005, 0.009562437422573566, 0.013979088515043259, 0.009304756298661232, 0.018487371504306793, 0.008771762251853943, 0.00966021791100502, 0.013345371000468731, 0.0, 0.0, 0.0, 0.0, 0.0], [0.864284336566925, 0.017739102244377136, 0.008731807582080364, 0.009637848474085331, 0.011495651677250862, 0.01425434835255146, 0.013108168728649616, 0.012583945877850056, 0.017535202205181122, 0.01829272136092186, 0.01233693677932024, 0.0, 0.0, 0.0, 0.0], [0.8493600487709045, 0.020225845277309418, 0.010653632692992687, 0.011146662756800652, 0.011749649420380592, 0.013437685556709766, 0.013772809877991676, 0.020171843469142914, 0.012908310629427433, 0.015225213952362537, 0.008290763944387436, 0.013057579286396503, 0.0, 0.0, 0.0], [0.8628595471382141, 0.01254995446652174, 0.01069136243313551, 0.017834842205047607, 0.009791686199605465, 0.008897741325199604, 0.00939226895570755, 0.011624765582382679, 0.013505368493497372, 0.011442122980952263, 0.007315496914088726, 0.012667031027376652, 0.011427772231400013, 0.0, 0.0], [0.8551381230354309, 0.014553781598806381, 0.008783012628555298, 0.013121840544044971, 0.008974486030638218, 0.010426397435367107, 0.011103898286819458, 0.008389685302972794, 0.007462235167622566, 0.016487158834934235, 0.007318754214793444, 0.012395682744681835, 0.00867608655244112, 0.01716889999806881, 0.0], [0.8632894158363342, 0.01263728179037571, 0.006375130731612444, 0.011828956194221973, 0.014680984430015087, 0.016040736809372902, 0.009770384058356285, 0.006571134086698294, 0.005774294957518578, 0.006657791323959827, 0.00654103746637702, 0.007294174749404192, 0.008511776104569435, 0.011427754536271095, 0.012599158100783825]], [[1.0, 0.0, 0.0, 0.0, 0.0, 0.0, 0.0, 0.0, 0.0, 0.0, 0.0, 0.0, 0.0, 0.0, 0.0], [0.9748833775520325, 0.02511667087674141, 0.0, 0.0, 0.0, 0.0, 0.0, 0.0, 0.0, 0.0, 0.0, 0.0, 0.0, 0.0, 0.0], [0.9730046987533569, 0.020598674193024635, 0.006396729964762926, 0.0, 0.0, 0.0, 0.0, 0.0, 0.0, 0.0, 0.0, 0.0, 0.0, 0.0, 0.0], [0.927006721496582, 0.004115752410143614, 0.053212858736515045, 0.01566470041871071, 0.0, 0.0, 0.0, 0.0, 0.0, 0.0, 0.0, 0.0, 0.0, 0.0, 0.0], [0.8380241990089417, 0.10023622959852219, 0.03297226503491402, 0.019799647852778435, 0.008967617526650429, 0.0, 0.0, 0.0, 0.0, 0.0, 0.0, 0.0, 0.0, 0.0, 0.0], [0.9804918766021729, 0.005261522252112627, 0.003150349482893944, 0.004195873625576496, 0.0026959734968841076, 0.004204500000923872, 0.0, 0.0, 0.0, 0.0, 0.0, 0.0, 0.0, 0.0, 0.0], [0.9723528623580933, 0.0033841277472674847, 0.0013591876486316323, 0.00041358364978805184, 0.0003510983078740537, 0.000820788205601275, 0.021318338811397552, 0.0, 0.0, 0.0, 0.0, 0.0, 0.0, 0.0, 0.0], [0.39176085591316223, 0.006592907477170229, 0.00045350496657192707, 0.00034183464595116675, 8.553999214200303e-05, 0.00042702388600446284, 0.5616965293884277, 0.0386417880654335, 0.0, 0.0, 0.0, 0.0, 0.0, 0.0, 0.0], [0.9406604766845703, 0.006742549128830433, 0.0029028465505689383, 0.00028420143644325435, 0.0004708101332653314, 0.005029895808547735, 0.012367142364382744, 0.025125226005911827, 0.006416806019842625, 0.0, 0.0, 0.0, 0.0, 0.0, 0.0], [0.8716673254966736, 0.01274693850427866, 0.042626071721315384, 0.006070484407246113, 0.03732186183333397, 0.005524698179215193, 0.00548673328012228, 0.0008541658753529191, 0.004963970277458429, 0.01273778174072504, 0.0, 0.0, 0.0, 0.0, 0.0], [0.731174647808075, 0.00826788879930973, 0.0007908623083494604, 0.034862685948610306, 0.004082249943166971, 0.0024807711597532034, 0.0020654471591115, 0.0003554115246515721, 0.0041173528879880905, 0.1918368637561798, 0.019965892657637596, 0.0, 0.0, 0.0, 0.0], [0.7232311367988586, 0.004250670783221722, 0.018274016678333282, 0.002084180247038603, 0.03180627152323723, 0.0012403299333527684, 0.0011860388331115246, 0.00019738811533898115, 0.00223563308827579, 0.014152181334793568, 0.08382785320281982, 0.11751434206962585, 0.0, 0.0, 0.0], [0.37616345286369324, 0.008947603404521942, 0.002094245981425047, 0.0038861597422510386, 0.0046126386150717735, 0.002462200354784727, 0.000995081732980907, 5.153153688297607e-05, 0.0021282390225678682, 0.009726111777126789, 0.0031195662450045347, 0.5364931225776672, 0.04931998625397682, 0.0, 0.0], [0.8809241056442261, 0.006065942347049713, 0.0013471287675201893, 0.0003342142445035279, 0.000720871496014297, 0.0021625126246362925, 0.0029467244166880846, 0.005021276418119669, 0.0024501776788383722, 0.003381837159395218, 0.0009485288755968213, 0.04836399853229523, 0.03591901808977127, 0.009413582272827625, 0.0], [0.85994553565979, 0.0010155963245779276, 0.028098896145820618, 0.006266202311962843, 0.04823281988501549, 0.0001613416097825393, 0.0004030383424833417, 0.00014463919796980917, 0.0004953214665874839, 0.0007352337124757469, 0.04542933776974678, 0.0028510878328233957, 0.0004447436367627233, 0.0009499639272689819, 0.004826153162866831]]]}\n",
       "    )\n",
       "    </script>"
      ],
      "text/plain": [
       "<circuitsvis.utils.render.RenderedHTML at 0x7f23fc3e2aa0>"
      ]
     },
     "execution_count": 137,
     "metadata": {},
     "output_type": "execute_result"
    }
   ],
   "source": [
    "# mean ablation of all heads we identified with DLA\n",
    "with model.hooks(fwd_hooks=hooks):\n",
    "    ablated_logits, ablated_cache = model.run_with_cache(tokens[1])\n",
    "attention_pattern = ablated_cache[\"blocks.10.attn.hook_pattern\"].squeeze()\n",
    "str_tokens = model.to_str_tokens(prompts[1])\n",
    "circuitsvis.attention.attention_patterns(tokens=str_tokens, attention=attention_pattern)"
   ]
  },
  {
   "cell_type": "code",
   "execution_count": 139,
   "metadata": {},
   "outputs": [],
   "source": [
    "# attention_pattern = original_cache[\"blocks.10.attn.hook_pattern\"][0].squeeze()\n",
    "# print(attention_pattern.shape)\n",
    "# str_tokens = model.to_str_tokens(prompts[0])\n",
    "# print(len(str_tokens))\n",
    "# circuitsvis.attention.attention_patterns(tokens=str_tokens, attention=attention_pattern)"
   ]
  },
  {
   "cell_type": "code",
   "execution_count": 113,
   "metadata": {},
   "outputs": [],
   "source": [
    "#sns.histplot(df[df[\"activation\"]], x=\"activation\", hue=\"name\", stat=\"probability\")"
   ]
  },
  {
   "attachments": {},
   "cell_type": "markdown",
   "metadata": {},
   "source": [
    "- Layer 10 head 7 has negative logit difference on original prompts\n",
    "- Ablating ALL name movers causes L10H7 to have positive logit difference\n",
    "- On both original and ablated prompt, L10H7 has roughly the same attention pattern\n",
    "- On both prompts, it mostly attends to the Mary position\n",
    "- Since the logit differences are very much not the same, the value in the residual stream for \"mary\" must be different in both runs\n",
    "- The previous name mover heads must write something important to the mary position"
   ]
  },
  {
   "attachments": {},
   "cell_type": "markdown",
   "metadata": {},
   "source": [
    "## Try to investigate negative name mover heads\n",
    "\n",
    "- Introduce factors where it is ambiguous which head is correct \n",
    "- Add 3rd person to the prompt\n",
    "- See if the negative name mover activates more for the subject or one of the two possible objects\n"
   ]
  },
  {
   "cell_type": "code",
   "execution_count": 115,
   "metadata": {},
   "outputs": [],
   "source": [
    "# ablate the name mover heads\n",
    "# calculate logit difference using backup name mover head\n",
    "# ablate the S-Inhibition heads used in the original circuit\n",
    "# calculate logit difference again and see if the backup name mover head can recover the correct answer (+ve logit diff)\n",
    "    "
   ]
  },
  {
   "cell_type": "code",
   "execution_count": 169,
   "metadata": {},
   "outputs": [
    {
     "name": "stdout",
     "output_type": "stream",
     "text": [
      "Logit difference accuracy:  1.000\n",
      "Logit difference accuracy:  0.000\n"
     ]
    },
    {
     "data": {
      "application/vnd.jupyter.widget-view+json": {
       "model_id": "c08a8e1850b94eab871c49d3dd0b6d6d",
       "version_major": 2,
       "version_minor": 0
      },
      "text/plain": [
       "  0%|          | 0/144 [00:00<?, ?it/s]"
      ]
     },
     "metadata": {},
     "output_type": "display_data"
    },
    {
     "data": {
      "application/vnd.jupyter.widget-view+json": {
       "model_id": "7dbc17faaa844938ad8e174777a545ef",
       "version_major": 2,
       "version_minor": 0
      },
      "text/plain": [
       "  0%|          | 0/144 [00:00<?, ?it/s]"
      ]
     },
     "metadata": {},
     "output_type": "display_data"
    },
    {
     "data": {
      "application/vnd.jupyter.widget-view+json": {
       "model_id": "1440d477a4db414aa35fd5144e1cfb3b",
       "version_major": 2,
       "version_minor": 0
      },
      "text/plain": [
       "  0%|          | 0/144 [00:00<?, ?it/s]"
      ]
     },
     "metadata": {},
     "output_type": "display_data"
    },
    {
     "data": {
      "application/vnd.jupyter.widget-view+json": {
       "model_id": "4cbc784d4a9447e7948a15449c83ac99",
       "version_major": 2,
       "version_minor": 0
      },
      "text/plain": [
       "  0%|          | 0/144 [00:00<?, ?it/s]"
      ]
     },
     "metadata": {},
     "output_type": "display_data"
    }
   ],
   "source": [
    "from transformer_lens import patching\n",
    "\n",
    "\n",
    "def ioi_metric(\n",
    "            logits: Float[Tensor, \"batch seq d_vocab\"], \n",
    "            answer_tokens: Float[Tensor, \"batch 2\"],\n",
    "            corrupted_logit_diff: float,\n",
    "            clean_logit_diff: float,\n",
    "        ) -> Float[Tensor, \"\"]:\n",
    "            '''\n",
    "            Linear function of logit diff, calibrated so that it equals 0 when performance is \n",
    "            same as on corrupted input, and 1 when performance is same as on clean input.\n",
    "            '''\n",
    "            patched_logit_diff = logits_to_ave_logit_diff(logits, answer_tokens, print_accuracy=False)\n",
    "            return (patched_logit_diff - corrupted_logit_diff) / (clean_logit_diff  - corrupted_logit_diff)\n",
    "\n",
    "# Version of head_mean_ablation_logit_diff that patches in activations from a corrupted prompt rather than the mean activations of many random prompts\n",
    "def head_activation_patching_logit_diff(heads: list[(int, int)], answer_tokens, clean_prompts, corrupted_prompts):\n",
    "        model.reset_hooks()\n",
    "        model.set_use_attn_result(True)\n",
    "\n",
    "        clean_tokens = model.to_tokens(clean_prompts)\n",
    "        clean_logits, clean_cache = model.run_with_cache(clean_tokens)\n",
    "        clean_logit_diff = logits_to_ave_logit_diff(clean_logits, answer_tokens)\n",
    "        \n",
    "        corrupted_tokens = model.to_tokens(corrupted_prompts)\n",
    "        corrupted_logits, corrupted_cache = model.run_with_cache(corrupted_tokens)\n",
    "        corrupted_logit_diff = logits_to_ave_logit_diff(corrupted_logits, answer_tokens)\n",
    "\n",
    "        \n",
    "        ioi_metric_for_run = functools.partial(ioi_metric, answer_tokens=first_name_correct_answer_tokens, corrupted_logit_diff=corrupted_logit_diff, clean_logit_diff=clean_logit_diff)\n",
    "\n",
    "        # switched this to test out other patches\n",
    "        act_patch_resid_pre = patching.get_act_patch_attn_head_all_pos_every(\n",
    "            model = model,\n",
    "            corrupted_tokens = corrupted_tokens,\n",
    "            clean_cache = clean_cache,\n",
    "            metric = ioi_metric_for_run\n",
    "        )\n",
    "\n",
    "        labels = [f\"{tok} {i}\" for i, tok in enumerate(model.to_str_tokens(clean_tokens[0]))]\n",
    "\n",
    "        imshow(\n",
    "            act_patch_resid_pre, \n",
    "            labels={\"x\": \"Position\", \"y\": \"Layer\"},\n",
    "            x=labels,\n",
    "            title=\"resid_pre Activation Patching\",\n",
    "            width=600\n",
    "        )\n",
    "\n",
    "\n",
    "# Uses prompts with the indirect object and subject swapped around as the corrupted prompt but we could also use \n",
    "# a prompt with a previously unused name as the subject, making the indirect object ambiguous\n",
    "first_name_correct_prompts = prompts[0::2]\n",
    "second_name_correct_prompts = prompts[1::2]\n",
    "first_name_correct_answer_tokens = answer_tokens[0::2]\n",
    "# second_name_correct_answer_tokens = answer_tokens[1::2]\n",
    "\n",
    "head_activation_patching_logit_diff([head for head in all_heads if head != (10, 7)], answer_tokens=first_name_correct_answer_tokens, clean_prompts=first_name_correct_prompts, corrupted_prompts=second_name_correct_prompts)"
   ]
  },
  {
   "cell_type": "code",
   "execution_count": 117,
   "metadata": {},
   "outputs": [
    {
     "name": "stdout",
     "output_type": "stream",
     "text": [
      "Positive name mover heads\n",
      "Logit difference accuracy:  1.000\n",
      "Average logit difference: 2.976\n",
      "Logit difference accuracy:  1.000\n",
      "Average logit difference: 3.234\n"
     ]
    },
    {
     "data": {
      "text/html": [
       "<div>                            <div id=\"e85613cb-8d73-4f76-9045-32715f5f91fd\" class=\"plotly-graph-div\" style=\"height:525px; width:600px;\"></div>            <script type=\"text/javascript\">                require([\"plotly\"], function(Plotly) {                    window.PLOTLYENV=window.PLOTLYENV || {};                                    if (document.getElementById(\"e85613cb-8d73-4f76-9045-32715f5f91fd\")) {                    Plotly.newPlot(                        \"e85613cb-8d73-4f76-9045-32715f5f91fd\",                        [{\"coloraxis\":\"coloraxis\",\"name\":\"0\",\"texttemplate\":\"%{z:.2f}\",\"z\":[[-0.003170922165736556,-0.00031254813075065613,-0.00025059303152374923,0.0004588737792801112,-0.000932229682803154,-7.87105382187292e-05,-0.0050196051597595215,-0.004007697105407715,-0.0001303116587223485,0.0008541946881450713,-0.0008504075813107193,-0.0007169918972067535],[-4.8443307605339214e-05,0.0002951282076537609,5.880432217963971e-05,0.00012956121645402163,-0.0017435791669413447,-3.357625246280804e-05,-0.0031693524215370417,-0.0043744356371462345,0.0024714190512895584,0.0015692031010985374,0.0017749527469277382,0.0013929230626672506],[-0.00032312035909853876,-0.001334029366262257,-0.0006045304471626878,-0.0015055903932079673,-0.00012034901737933978,0.0009113084524869919,0.0013544500106945634,0.004013467580080032,0.00019537274783942848,-0.0018322146497666836,-0.0006917059072293341,0.0001689881319180131],[-3.7544006772805005e-05,-0.0003861506993416697,9.60472971200943e-06,0.00026395294116809964,0.00016689796757418662,-0.0011839648941531777,-0.0007222292479127645,-0.0011476274812594056,0.0002980070130433887,0.0003110047255177051,-0.0010319306747987866,-0.0005891696782782674],[-0.0011467024451121688,-8.844782860251144e-05,-0.0011432268656790257,-0.0015322897816076875,0.001019393908791244,0.00012053522368660197,-0.0007015287992544472,0.0007030235719867051,-0.0005716537125408649,-0.0007038546027615666,0.0004346282221376896,-0.00018596136942505836],[-2.9945873393444344e-05,0.0006445546168833971,-0.0009142586495727301,-0.0013129040598869324,-8.776690810918808e-05,-0.000696387782227248,-0.00011410926526878029,0.00046522924094460905,0.00095647934358567,4.794880442204885e-05,-0.004600177053362131,0.002335829194635153],[-0.004411592613905668,-0.005484156310558319,0.002192216459661722,0.00010233870125375688,-0.0053549534641206264,0.0021982379257678986,0.0033384039998054504,-0.0024660646449774504,-0.0008488736930303276,-0.00126675667706877,-0.0005113498191349208,0.00029610979254357517],[-5.9525289543671533e-05,-0.0026292067486792803,-2.5831799575826153e-05,0.07356808334589005,-0.0008359843050129712,-0.009748155251145363,0.0016667555319145322,-0.001189913833513856,-0.004227843135595322,0.17977233231067657,-0.000919609796255827,-0.0017227414064109325],[0.0006043173489160836,-0.00034320278791710734,-0.021287431940436363,0.0020247020293027163,0.0018215170130133629,0.004803651478141546,-0.11352953314781189,0.002669482259079814,-0.02117273584008217,0.002495563356205821,0.27270346879959106,0.009568671695888042],[0.062246840447187424,-0.0004371762042865157,0.03188995271921158,0.009637109935283661,-0.016426431015133858,0.03123275376856327,-0.008910920470952988,0.06898550689220428,-0.04255201295018196,-0.009468000382184982,0.0006062833126634359,-0.0066540297120809555],[-0.03393357992172241,0.49997374415397644,0.6019103527069092,0.11695019155740738,-0.004409191198647022,0.00046416770783253014,0.5572143197059631,0.37187543511390686,-0.0010691303759813309,-0.0047050900757312775,1.6455119848251343,0.008860671892762184],[0.027283208444714546,0.06130055710673332,-0.0018657917389646173,0.08982840925455093,-0.00449700653553009,-0.010208803229033947,-0.1153089851140976,0.006505733355879784,0.02632725052535534,0.06683599203824997,-1.3804346323013306,0.03440726920962334]],\"type\":\"heatmap\",\"xaxis\":\"x\",\"yaxis\":\"y\",\"hovertemplate\":\"Head: %{x}\\u003cbr\\u003eLayer: %{y}\\u003cbr\\u003ecolor: %{z}\\u003cextra\\u003e\\u003c\\u002fextra\\u003e\"}],                        {\"template\":{\"data\":{\"histogram2dcontour\":[{\"type\":\"histogram2dcontour\",\"colorbar\":{\"outlinewidth\":0,\"ticks\":\"\"},\"colorscale\":[[0.0,\"#0d0887\"],[0.1111111111111111,\"#46039f\"],[0.2222222222222222,\"#7201a8\"],[0.3333333333333333,\"#9c179e\"],[0.4444444444444444,\"#bd3786\"],[0.5555555555555556,\"#d8576b\"],[0.6666666666666666,\"#ed7953\"],[0.7777777777777778,\"#fb9f3a\"],[0.8888888888888888,\"#fdca26\"],[1.0,\"#f0f921\"]]}],\"choropleth\":[{\"type\":\"choropleth\",\"colorbar\":{\"outlinewidth\":0,\"ticks\":\"\"}}],\"histogram2d\":[{\"type\":\"histogram2d\",\"colorbar\":{\"outlinewidth\":0,\"ticks\":\"\"},\"colorscale\":[[0.0,\"#0d0887\"],[0.1111111111111111,\"#46039f\"],[0.2222222222222222,\"#7201a8\"],[0.3333333333333333,\"#9c179e\"],[0.4444444444444444,\"#bd3786\"],[0.5555555555555556,\"#d8576b\"],[0.6666666666666666,\"#ed7953\"],[0.7777777777777778,\"#fb9f3a\"],[0.8888888888888888,\"#fdca26\"],[1.0,\"#f0f921\"]]}],\"heatmap\":[{\"type\":\"heatmap\",\"colorbar\":{\"outlinewidth\":0,\"ticks\":\"\"},\"colorscale\":[[0.0,\"#0d0887\"],[0.1111111111111111,\"#46039f\"],[0.2222222222222222,\"#7201a8\"],[0.3333333333333333,\"#9c179e\"],[0.4444444444444444,\"#bd3786\"],[0.5555555555555556,\"#d8576b\"],[0.6666666666666666,\"#ed7953\"],[0.7777777777777778,\"#fb9f3a\"],[0.8888888888888888,\"#fdca26\"],[1.0,\"#f0f921\"]]}],\"heatmapgl\":[{\"type\":\"heatmapgl\",\"colorbar\":{\"outlinewidth\":0,\"ticks\":\"\"},\"colorscale\":[[0.0,\"#0d0887\"],[0.1111111111111111,\"#46039f\"],[0.2222222222222222,\"#7201a8\"],[0.3333333333333333,\"#9c179e\"],[0.4444444444444444,\"#bd3786\"],[0.5555555555555556,\"#d8576b\"],[0.6666666666666666,\"#ed7953\"],[0.7777777777777778,\"#fb9f3a\"],[0.8888888888888888,\"#fdca26\"],[1.0,\"#f0f921\"]]}],\"contourcarpet\":[{\"type\":\"contourcarpet\",\"colorbar\":{\"outlinewidth\":0,\"ticks\":\"\"}}],\"contour\":[{\"type\":\"contour\",\"colorbar\":{\"outlinewidth\":0,\"ticks\":\"\"},\"colorscale\":[[0.0,\"#0d0887\"],[0.1111111111111111,\"#46039f\"],[0.2222222222222222,\"#7201a8\"],[0.3333333333333333,\"#9c179e\"],[0.4444444444444444,\"#bd3786\"],[0.5555555555555556,\"#d8576b\"],[0.6666666666666666,\"#ed7953\"],[0.7777777777777778,\"#fb9f3a\"],[0.8888888888888888,\"#fdca26\"],[1.0,\"#f0f921\"]]}],\"surface\":[{\"type\":\"surface\",\"colorbar\":{\"outlinewidth\":0,\"ticks\":\"\"},\"colorscale\":[[0.0,\"#0d0887\"],[0.1111111111111111,\"#46039f\"],[0.2222222222222222,\"#7201a8\"],[0.3333333333333333,\"#9c179e\"],[0.4444444444444444,\"#bd3786\"],[0.5555555555555556,\"#d8576b\"],[0.6666666666666666,\"#ed7953\"],[0.7777777777777778,\"#fb9f3a\"],[0.8888888888888888,\"#fdca26\"],[1.0,\"#f0f921\"]]}],\"mesh3d\":[{\"type\":\"mesh3d\",\"colorbar\":{\"outlinewidth\":0,\"ticks\":\"\"}}],\"scatter\":[{\"fillpattern\":{\"fillmode\":\"overlay\",\"size\":10,\"solidity\":0.2},\"type\":\"scatter\"}],\"parcoords\":[{\"type\":\"parcoords\",\"line\":{\"colorbar\":{\"outlinewidth\":0,\"ticks\":\"\"}}}],\"scatterpolargl\":[{\"type\":\"scatterpolargl\",\"marker\":{\"colorbar\":{\"outlinewidth\":0,\"ticks\":\"\"}}}],\"bar\":[{\"error_x\":{\"color\":\"#2a3f5f\"},\"error_y\":{\"color\":\"#2a3f5f\"},\"marker\":{\"line\":{\"color\":\"#E5ECF6\",\"width\":0.5},\"pattern\":{\"fillmode\":\"overlay\",\"size\":10,\"solidity\":0.2}},\"type\":\"bar\"}],\"scattergeo\":[{\"type\":\"scattergeo\",\"marker\":{\"colorbar\":{\"outlinewidth\":0,\"ticks\":\"\"}}}],\"scatterpolar\":[{\"type\":\"scatterpolar\",\"marker\":{\"colorbar\":{\"outlinewidth\":0,\"ticks\":\"\"}}}],\"histogram\":[{\"marker\":{\"pattern\":{\"fillmode\":\"overlay\",\"size\":10,\"solidity\":0.2}},\"type\":\"histogram\"}],\"scattergl\":[{\"type\":\"scattergl\",\"marker\":{\"colorbar\":{\"outlinewidth\":0,\"ticks\":\"\"}}}],\"scatter3d\":[{\"type\":\"scatter3d\",\"line\":{\"colorbar\":{\"outlinewidth\":0,\"ticks\":\"\"}},\"marker\":{\"colorbar\":{\"outlinewidth\":0,\"ticks\":\"\"}}}],\"scattermapbox\":[{\"type\":\"scattermapbox\",\"marker\":{\"colorbar\":{\"outlinewidth\":0,\"ticks\":\"\"}}}],\"scatterternary\":[{\"type\":\"scatterternary\",\"marker\":{\"colorbar\":{\"outlinewidth\":0,\"ticks\":\"\"}}}],\"scattercarpet\":[{\"type\":\"scattercarpet\",\"marker\":{\"colorbar\":{\"outlinewidth\":0,\"ticks\":\"\"}}}],\"carpet\":[{\"aaxis\":{\"endlinecolor\":\"#2a3f5f\",\"gridcolor\":\"white\",\"linecolor\":\"white\",\"minorgridcolor\":\"white\",\"startlinecolor\":\"#2a3f5f\"},\"baxis\":{\"endlinecolor\":\"#2a3f5f\",\"gridcolor\":\"white\",\"linecolor\":\"white\",\"minorgridcolor\":\"white\",\"startlinecolor\":\"#2a3f5f\"},\"type\":\"carpet\"}],\"table\":[{\"cells\":{\"fill\":{\"color\":\"#EBF0F8\"},\"line\":{\"color\":\"white\"}},\"header\":{\"fill\":{\"color\":\"#C8D4E3\"},\"line\":{\"color\":\"white\"}},\"type\":\"table\"}],\"barpolar\":[{\"marker\":{\"line\":{\"color\":\"#E5ECF6\",\"width\":0.5},\"pattern\":{\"fillmode\":\"overlay\",\"size\":10,\"solidity\":0.2}},\"type\":\"barpolar\"}],\"pie\":[{\"automargin\":true,\"type\":\"pie\"}]},\"layout\":{\"autotypenumbers\":\"strict\",\"colorway\":[\"#636efa\",\"#EF553B\",\"#00cc96\",\"#ab63fa\",\"#FFA15A\",\"#19d3f3\",\"#FF6692\",\"#B6E880\",\"#FF97FF\",\"#FECB52\"],\"font\":{\"color\":\"#2a3f5f\"},\"hovermode\":\"closest\",\"hoverlabel\":{\"align\":\"left\"},\"paper_bgcolor\":\"white\",\"plot_bgcolor\":\"#E5ECF6\",\"polar\":{\"bgcolor\":\"#E5ECF6\",\"angularaxis\":{\"gridcolor\":\"white\",\"linecolor\":\"white\",\"ticks\":\"\"},\"radialaxis\":{\"gridcolor\":\"white\",\"linecolor\":\"white\",\"ticks\":\"\"}},\"ternary\":{\"bgcolor\":\"#E5ECF6\",\"aaxis\":{\"gridcolor\":\"white\",\"linecolor\":\"white\",\"ticks\":\"\"},\"baxis\":{\"gridcolor\":\"white\",\"linecolor\":\"white\",\"ticks\":\"\"},\"caxis\":{\"gridcolor\":\"white\",\"linecolor\":\"white\",\"ticks\":\"\"}},\"coloraxis\":{\"colorbar\":{\"outlinewidth\":0,\"ticks\":\"\"}},\"colorscale\":{\"sequential\":[[0.0,\"#0d0887\"],[0.1111111111111111,\"#46039f\"],[0.2222222222222222,\"#7201a8\"],[0.3333333333333333,\"#9c179e\"],[0.4444444444444444,\"#bd3786\"],[0.5555555555555556,\"#d8576b\"],[0.6666666666666666,\"#ed7953\"],[0.7777777777777778,\"#fb9f3a\"],[0.8888888888888888,\"#fdca26\"],[1.0,\"#f0f921\"]],\"sequentialminus\":[[0.0,\"#0d0887\"],[0.1111111111111111,\"#46039f\"],[0.2222222222222222,\"#7201a8\"],[0.3333333333333333,\"#9c179e\"],[0.4444444444444444,\"#bd3786\"],[0.5555555555555556,\"#d8576b\"],[0.6666666666666666,\"#ed7953\"],[0.7777777777777778,\"#fb9f3a\"],[0.8888888888888888,\"#fdca26\"],[1.0,\"#f0f921\"]],\"diverging\":[[0,\"#8e0152\"],[0.1,\"#c51b7d\"],[0.2,\"#de77ae\"],[0.3,\"#f1b6da\"],[0.4,\"#fde0ef\"],[0.5,\"#f7f7f7\"],[0.6,\"#e6f5d0\"],[0.7,\"#b8e186\"],[0.8,\"#7fbc41\"],[0.9,\"#4d9221\"],[1,\"#276419\"]]},\"xaxis\":{\"gridcolor\":\"white\",\"linecolor\":\"white\",\"ticks\":\"\",\"title\":{\"standoff\":15},\"zerolinecolor\":\"white\",\"automargin\":true,\"zerolinewidth\":2},\"yaxis\":{\"gridcolor\":\"white\",\"linecolor\":\"white\",\"ticks\":\"\",\"title\":{\"standoff\":15},\"zerolinecolor\":\"white\",\"automargin\":true,\"zerolinewidth\":2},\"scene\":{\"xaxis\":{\"backgroundcolor\":\"#E5ECF6\",\"gridcolor\":\"white\",\"linecolor\":\"white\",\"showbackground\":true,\"ticks\":\"\",\"zerolinecolor\":\"white\",\"gridwidth\":2},\"yaxis\":{\"backgroundcolor\":\"#E5ECF6\",\"gridcolor\":\"white\",\"linecolor\":\"white\",\"showbackground\":true,\"ticks\":\"\",\"zerolinecolor\":\"white\",\"gridwidth\":2},\"zaxis\":{\"backgroundcolor\":\"#E5ECF6\",\"gridcolor\":\"white\",\"linecolor\":\"white\",\"showbackground\":true,\"ticks\":\"\",\"zerolinecolor\":\"white\",\"gridwidth\":2}},\"shapedefaults\":{\"line\":{\"color\":\"#2a3f5f\"}},\"annotationdefaults\":{\"arrowcolor\":\"#2a3f5f\",\"arrowhead\":0,\"arrowwidth\":1},\"geo\":{\"bgcolor\":\"white\",\"landcolor\":\"#E5ECF6\",\"subunitcolor\":\"white\",\"showland\":true,\"showlakes\":true,\"lakecolor\":\"white\"},\"title\":{\"x\":0.05},\"mapbox\":{\"style\":\"light\"}}},\"xaxis\":{\"anchor\":\"y\",\"domain\":[0.0,1.0],\"scaleanchor\":\"y\",\"constrain\":\"domain\",\"title\":{\"text\":\"Head\"}},\"yaxis\":{\"anchor\":\"x\",\"domain\":[0.0,1.0],\"autorange\":\"reversed\",\"constrain\":\"domain\",\"title\":{\"text\":\"Layer\"}},\"coloraxis\":{\"colorscale\":[[0.0,\"rgb(103,0,31)\"],[0.1,\"rgb(178,24,43)\"],[0.2,\"rgb(214,96,77)\"],[0.3,\"rgb(244,165,130)\"],[0.4,\"rgb(253,219,199)\"],[0.5,\"rgb(247,247,247)\"],[0.6,\"rgb(209,229,240)\"],[0.7,\"rgb(146,197,222)\"],[0.8,\"rgb(67,147,195)\"],[0.9,\"rgb(33,102,172)\"],[1.0,\"rgb(5,48,97)\"]],\"cmid\":0.0},\"title\":{\"text\":\"Ablated Average Logit Difference From Heads \\u003cbr\\u003e [(9, 9), (9, 6), (10, 0)]\"},\"width\":600},                        {\"responsive\": true}                    ).then(function(){\n",
       "                            \n",
       "var gd = document.getElementById('e85613cb-8d73-4f76-9045-32715f5f91fd');\n",
       "var x = new MutationObserver(function (mutations, observer) {{\n",
       "        var display = window.getComputedStyle(gd).display;\n",
       "        if (!display || display === 'none') {{\n",
       "            console.log([gd, 'removed!']);\n",
       "            Plotly.purge(gd);\n",
       "            observer.disconnect();\n",
       "        }}\n",
       "}});\n",
       "\n",
       "// Listen for the removal of the full notebook cells\n",
       "var notebookContainer = gd.closest('#notebook-container');\n",
       "if (notebookContainer) {{\n",
       "    x.observe(notebookContainer, {childList: true});\n",
       "}}\n",
       "\n",
       "// Listen for the clearing of the current output cell\n",
       "var outputEl = gd.closest('.output');\n",
       "if (outputEl) {{\n",
       "    x.observe(outputEl, {childList: true});\n",
       "}}\n",
       "\n",
       "                        })                };                });            </script>        </div>"
      ]
     },
     "metadata": {},
     "output_type": "display_data"
    },
    {
     "data": {
      "text/html": [
       "<div>                            <div id=\"d49ed44e-6f96-45c8-9eff-547c7e4a1dca\" class=\"plotly-graph-div\" style=\"height:525px; width:600px;\"></div>            <script type=\"text/javascript\">                require([\"plotly\"], function(Plotly) {                    window.PLOTLYENV=window.PLOTLYENV || {};                                    if (document.getElementById(\"d49ed44e-6f96-45c8-9eff-547c7e4a1dca\")) {                    Plotly.newPlot(                        \"d49ed44e-6f96-45c8-9eff-547c7e4a1dca\",                        [{\"coloraxis\":\"coloraxis\",\"name\":\"0\",\"texttemplate\":\"%{z:.2f}\",\"z\":[[-0.003159529296681285,-0.0003580997290555388,-0.0001248275366378948,0.0002663093328010291,-0.0010370697127655149,0.00010962012311210856,-0.004518964793533087,-0.003987057134509087,-0.0001932077866513282,0.0012336446670815349,-0.0008111884817481041,-0.0009062894387170672],[-0.000475098320748657,0.0002688769018277526,-0.0002897785743698478,0.00036761187948286533,-0.0021970763336867094,-0.0003535995492711663,-0.0030648750253021717,-0.003565587569028139,0.002710371743887663,0.001779722049832344,0.0016782516613602638,0.0018129905220121145],[-0.0007328320061787963,-0.0012303313706070185,-0.001063498668372631,-0.0014776329044252634,-7.62492636567913e-05,0.001361842849291861,0.0016116428887471557,0.003918197005987167,0.00019575415353756398,-0.0019583941902965307,-0.0015271432930603623,0.00041291466914117336],[-0.00030431951745413244,-0.0002347343397559598,0.00030198396416381,0.00028840501909144223,0.0005939893308095634,-0.0012107149232178926,-0.0006194327143020928,-0.001545785227790475,0.0006479478906840086,-5.1943670769105665e-06,-0.0015047382330521941,-0.001138723106123507],[-0.0013207733863964677,-9.862497972790152e-05,-0.0009165848605334759,-0.001707416377030313,0.0012023444287478924,-0.0001418435131199658,-0.0010482652578502893,0.0008689846727065742,-0.0010961415246129036,-0.0009697803179733455,0.0006216613692231476,-0.00011060935503337532],[0.00032164499862119555,0.0007316516130231321,-0.001257791998796165,-0.0014098166720941663,-0.0004074535972904414,-0.0002878904342651367,-9.63568891165778e-05,0.0007102107629179955,0.000746267382055521,-0.0007526991539634764,-0.00440936628729105,0.0020826300606131554],[-0.0045159487053751945,-0.0053026312962174416,0.002222371520474553,-0.0004116611380595714,-0.0055782971903681755,0.002019700827077031,0.0035031246952712536,-0.0023941693361848593,-0.00032022580853663385,-0.0011571940267458558,-0.0003823923470918089,-6.009393109707162e-05],[7.149574958020821e-05,-0.002595398807898164,3.7700934626627713e-05,0.06936490535736084,-0.001164577784948051,-0.009887101128697395,0.0021730861626565456,-0.0013634039787575603,-0.003049904014915228,0.16991423070430756,-0.0007771804230287671,-0.0017702998593449593],[0.0002741769712883979,-0.000226955657126382,-0.02048223465681076,0.0019165342673659325,0.0012172049609944224,0.004246674478054047,-0.10916899889707565,0.002841232344508171,-0.020128337666392326,0.002333579584956169,0.2613958418369293,0.008303876034915447],[0.05886068940162659,-0.0003132191486656666,0.029541609808802605,0.008439084514975548,-0.01522352546453476,0.029796471819281578,1.3343989849090576,0.06493186950683594,-0.046604953706264496,2.64967942237854,0.0007046263199299574,-0.0066938637755811214],[0.6342725157737732,0.1909913271665573,-0.060460906475782394,0.05191725119948387,-0.0029878176283091307,0.0018183044157922268,0.21957328915596008,-1.8274939060211182,-7.5034040492028e-05,-0.002218147972598672,0.44841161370277405,0.002508897101506591],[0.022872833535075188,-0.021053185686469078,-0.4704105854034424,0.02773805521428585,-0.0006921387976035476,-0.002444575307890773,-0.1012936607003212,0.005798657890409231,0.028215652331709862,-0.022495709359645844,-0.9197575449943542,0.02142239734530449]],\"type\":\"heatmap\",\"xaxis\":\"x\",\"yaxis\":\"y\",\"hovertemplate\":\"Head: %{x}\\u003cbr\\u003eLayer: %{y}\\u003cbr\\u003ecolor: %{z}\\u003cextra\\u003e\\u003c\\u002fextra\\u003e\"}],                        {\"template\":{\"data\":{\"histogram2dcontour\":[{\"type\":\"histogram2dcontour\",\"colorbar\":{\"outlinewidth\":0,\"ticks\":\"\"},\"colorscale\":[[0.0,\"#0d0887\"],[0.1111111111111111,\"#46039f\"],[0.2222222222222222,\"#7201a8\"],[0.3333333333333333,\"#9c179e\"],[0.4444444444444444,\"#bd3786\"],[0.5555555555555556,\"#d8576b\"],[0.6666666666666666,\"#ed7953\"],[0.7777777777777778,\"#fb9f3a\"],[0.8888888888888888,\"#fdca26\"],[1.0,\"#f0f921\"]]}],\"choropleth\":[{\"type\":\"choropleth\",\"colorbar\":{\"outlinewidth\":0,\"ticks\":\"\"}}],\"histogram2d\":[{\"type\":\"histogram2d\",\"colorbar\":{\"outlinewidth\":0,\"ticks\":\"\"},\"colorscale\":[[0.0,\"#0d0887\"],[0.1111111111111111,\"#46039f\"],[0.2222222222222222,\"#7201a8\"],[0.3333333333333333,\"#9c179e\"],[0.4444444444444444,\"#bd3786\"],[0.5555555555555556,\"#d8576b\"],[0.6666666666666666,\"#ed7953\"],[0.7777777777777778,\"#fb9f3a\"],[0.8888888888888888,\"#fdca26\"],[1.0,\"#f0f921\"]]}],\"heatmap\":[{\"type\":\"heatmap\",\"colorbar\":{\"outlinewidth\":0,\"ticks\":\"\"},\"colorscale\":[[0.0,\"#0d0887\"],[0.1111111111111111,\"#46039f\"],[0.2222222222222222,\"#7201a8\"],[0.3333333333333333,\"#9c179e\"],[0.4444444444444444,\"#bd3786\"],[0.5555555555555556,\"#d8576b\"],[0.6666666666666666,\"#ed7953\"],[0.7777777777777778,\"#fb9f3a\"],[0.8888888888888888,\"#fdca26\"],[1.0,\"#f0f921\"]]}],\"heatmapgl\":[{\"type\":\"heatmapgl\",\"colorbar\":{\"outlinewidth\":0,\"ticks\":\"\"},\"colorscale\":[[0.0,\"#0d0887\"],[0.1111111111111111,\"#46039f\"],[0.2222222222222222,\"#7201a8\"],[0.3333333333333333,\"#9c179e\"],[0.4444444444444444,\"#bd3786\"],[0.5555555555555556,\"#d8576b\"],[0.6666666666666666,\"#ed7953\"],[0.7777777777777778,\"#fb9f3a\"],[0.8888888888888888,\"#fdca26\"],[1.0,\"#f0f921\"]]}],\"contourcarpet\":[{\"type\":\"contourcarpet\",\"colorbar\":{\"outlinewidth\":0,\"ticks\":\"\"}}],\"contour\":[{\"type\":\"contour\",\"colorbar\":{\"outlinewidth\":0,\"ticks\":\"\"},\"colorscale\":[[0.0,\"#0d0887\"],[0.1111111111111111,\"#46039f\"],[0.2222222222222222,\"#7201a8\"],[0.3333333333333333,\"#9c179e\"],[0.4444444444444444,\"#bd3786\"],[0.5555555555555556,\"#d8576b\"],[0.6666666666666666,\"#ed7953\"],[0.7777777777777778,\"#fb9f3a\"],[0.8888888888888888,\"#fdca26\"],[1.0,\"#f0f921\"]]}],\"surface\":[{\"type\":\"surface\",\"colorbar\":{\"outlinewidth\":0,\"ticks\":\"\"},\"colorscale\":[[0.0,\"#0d0887\"],[0.1111111111111111,\"#46039f\"],[0.2222222222222222,\"#7201a8\"],[0.3333333333333333,\"#9c179e\"],[0.4444444444444444,\"#bd3786\"],[0.5555555555555556,\"#d8576b\"],[0.6666666666666666,\"#ed7953\"],[0.7777777777777778,\"#fb9f3a\"],[0.8888888888888888,\"#fdca26\"],[1.0,\"#f0f921\"]]}],\"mesh3d\":[{\"type\":\"mesh3d\",\"colorbar\":{\"outlinewidth\":0,\"ticks\":\"\"}}],\"scatter\":[{\"fillpattern\":{\"fillmode\":\"overlay\",\"size\":10,\"solidity\":0.2},\"type\":\"scatter\"}],\"parcoords\":[{\"type\":\"parcoords\",\"line\":{\"colorbar\":{\"outlinewidth\":0,\"ticks\":\"\"}}}],\"scatterpolargl\":[{\"type\":\"scatterpolargl\",\"marker\":{\"colorbar\":{\"outlinewidth\":0,\"ticks\":\"\"}}}],\"bar\":[{\"error_x\":{\"color\":\"#2a3f5f\"},\"error_y\":{\"color\":\"#2a3f5f\"},\"marker\":{\"line\":{\"color\":\"#E5ECF6\",\"width\":0.5},\"pattern\":{\"fillmode\":\"overlay\",\"size\":10,\"solidity\":0.2}},\"type\":\"bar\"}],\"scattergeo\":[{\"type\":\"scattergeo\",\"marker\":{\"colorbar\":{\"outlinewidth\":0,\"ticks\":\"\"}}}],\"scatterpolar\":[{\"type\":\"scatterpolar\",\"marker\":{\"colorbar\":{\"outlinewidth\":0,\"ticks\":\"\"}}}],\"histogram\":[{\"marker\":{\"pattern\":{\"fillmode\":\"overlay\",\"size\":10,\"solidity\":0.2}},\"type\":\"histogram\"}],\"scattergl\":[{\"type\":\"scattergl\",\"marker\":{\"colorbar\":{\"outlinewidth\":0,\"ticks\":\"\"}}}],\"scatter3d\":[{\"type\":\"scatter3d\",\"line\":{\"colorbar\":{\"outlinewidth\":0,\"ticks\":\"\"}},\"marker\":{\"colorbar\":{\"outlinewidth\":0,\"ticks\":\"\"}}}],\"scattermapbox\":[{\"type\":\"scattermapbox\",\"marker\":{\"colorbar\":{\"outlinewidth\":0,\"ticks\":\"\"}}}],\"scatterternary\":[{\"type\":\"scatterternary\",\"marker\":{\"colorbar\":{\"outlinewidth\":0,\"ticks\":\"\"}}}],\"scattercarpet\":[{\"type\":\"scattercarpet\",\"marker\":{\"colorbar\":{\"outlinewidth\":0,\"ticks\":\"\"}}}],\"carpet\":[{\"aaxis\":{\"endlinecolor\":\"#2a3f5f\",\"gridcolor\":\"white\",\"linecolor\":\"white\",\"minorgridcolor\":\"white\",\"startlinecolor\":\"#2a3f5f\"},\"baxis\":{\"endlinecolor\":\"#2a3f5f\",\"gridcolor\":\"white\",\"linecolor\":\"white\",\"minorgridcolor\":\"white\",\"startlinecolor\":\"#2a3f5f\"},\"type\":\"carpet\"}],\"table\":[{\"cells\":{\"fill\":{\"color\":\"#EBF0F8\"},\"line\":{\"color\":\"white\"}},\"header\":{\"fill\":{\"color\":\"#C8D4E3\"},\"line\":{\"color\":\"white\"}},\"type\":\"table\"}],\"barpolar\":[{\"marker\":{\"line\":{\"color\":\"#E5ECF6\",\"width\":0.5},\"pattern\":{\"fillmode\":\"overlay\",\"size\":10,\"solidity\":0.2}},\"type\":\"barpolar\"}],\"pie\":[{\"automargin\":true,\"type\":\"pie\"}]},\"layout\":{\"autotypenumbers\":\"strict\",\"colorway\":[\"#636efa\",\"#EF553B\",\"#00cc96\",\"#ab63fa\",\"#FFA15A\",\"#19d3f3\",\"#FF6692\",\"#B6E880\",\"#FF97FF\",\"#FECB52\"],\"font\":{\"color\":\"#2a3f5f\"},\"hovermode\":\"closest\",\"hoverlabel\":{\"align\":\"left\"},\"paper_bgcolor\":\"white\",\"plot_bgcolor\":\"#E5ECF6\",\"polar\":{\"bgcolor\":\"#E5ECF6\",\"angularaxis\":{\"gridcolor\":\"white\",\"linecolor\":\"white\",\"ticks\":\"\"},\"radialaxis\":{\"gridcolor\":\"white\",\"linecolor\":\"white\",\"ticks\":\"\"}},\"ternary\":{\"bgcolor\":\"#E5ECF6\",\"aaxis\":{\"gridcolor\":\"white\",\"linecolor\":\"white\",\"ticks\":\"\"},\"baxis\":{\"gridcolor\":\"white\",\"linecolor\":\"white\",\"ticks\":\"\"},\"caxis\":{\"gridcolor\":\"white\",\"linecolor\":\"white\",\"ticks\":\"\"}},\"coloraxis\":{\"colorbar\":{\"outlinewidth\":0,\"ticks\":\"\"}},\"colorscale\":{\"sequential\":[[0.0,\"#0d0887\"],[0.1111111111111111,\"#46039f\"],[0.2222222222222222,\"#7201a8\"],[0.3333333333333333,\"#9c179e\"],[0.4444444444444444,\"#bd3786\"],[0.5555555555555556,\"#d8576b\"],[0.6666666666666666,\"#ed7953\"],[0.7777777777777778,\"#fb9f3a\"],[0.8888888888888888,\"#fdca26\"],[1.0,\"#f0f921\"]],\"sequentialminus\":[[0.0,\"#0d0887\"],[0.1111111111111111,\"#46039f\"],[0.2222222222222222,\"#7201a8\"],[0.3333333333333333,\"#9c179e\"],[0.4444444444444444,\"#bd3786\"],[0.5555555555555556,\"#d8576b\"],[0.6666666666666666,\"#ed7953\"],[0.7777777777777778,\"#fb9f3a\"],[0.8888888888888888,\"#fdca26\"],[1.0,\"#f0f921\"]],\"diverging\":[[0,\"#8e0152\"],[0.1,\"#c51b7d\"],[0.2,\"#de77ae\"],[0.3,\"#f1b6da\"],[0.4,\"#fde0ef\"],[0.5,\"#f7f7f7\"],[0.6,\"#e6f5d0\"],[0.7,\"#b8e186\"],[0.8,\"#7fbc41\"],[0.9,\"#4d9221\"],[1,\"#276419\"]]},\"xaxis\":{\"gridcolor\":\"white\",\"linecolor\":\"white\",\"ticks\":\"\",\"title\":{\"standoff\":15},\"zerolinecolor\":\"white\",\"automargin\":true,\"zerolinewidth\":2},\"yaxis\":{\"gridcolor\":\"white\",\"linecolor\":\"white\",\"ticks\":\"\",\"title\":{\"standoff\":15},\"zerolinecolor\":\"white\",\"automargin\":true,\"zerolinewidth\":2},\"scene\":{\"xaxis\":{\"backgroundcolor\":\"#E5ECF6\",\"gridcolor\":\"white\",\"linecolor\":\"white\",\"showbackground\":true,\"ticks\":\"\",\"zerolinecolor\":\"white\",\"gridwidth\":2},\"yaxis\":{\"backgroundcolor\":\"#E5ECF6\",\"gridcolor\":\"white\",\"linecolor\":\"white\",\"showbackground\":true,\"ticks\":\"\",\"zerolinecolor\":\"white\",\"gridwidth\":2},\"zaxis\":{\"backgroundcolor\":\"#E5ECF6\",\"gridcolor\":\"white\",\"linecolor\":\"white\",\"showbackground\":true,\"ticks\":\"\",\"zerolinecolor\":\"white\",\"gridwidth\":2}},\"shapedefaults\":{\"line\":{\"color\":\"#2a3f5f\"}},\"annotationdefaults\":{\"arrowcolor\":\"#2a3f5f\",\"arrowhead\":0,\"arrowwidth\":1},\"geo\":{\"bgcolor\":\"white\",\"landcolor\":\"#E5ECF6\",\"subunitcolor\":\"white\",\"showland\":true,\"showlakes\":true,\"lakecolor\":\"white\"},\"title\":{\"x\":0.05},\"mapbox\":{\"style\":\"light\"}}},\"xaxis\":{\"anchor\":\"y\",\"domain\":[0.0,1.0],\"scaleanchor\":\"y\",\"constrain\":\"domain\",\"title\":{\"text\":\"Head\"}},\"yaxis\":{\"anchor\":\"x\",\"domain\":[0.0,1.0],\"autorange\":\"reversed\",\"constrain\":\"domain\",\"title\":{\"text\":\"Layer\"}},\"coloraxis\":{\"colorscale\":[[0.0,\"rgb(103,0,31)\"],[0.1,\"rgb(178,24,43)\"],[0.2,\"rgb(214,96,77)\"],[0.3,\"rgb(244,165,130)\"],[0.4,\"rgb(253,219,199)\"],[0.5,\"rgb(247,247,247)\"],[0.6,\"rgb(209,229,240)\"],[0.7,\"rgb(146,197,222)\"],[0.8,\"rgb(67,147,195)\"],[0.9,\"rgb(33,102,172)\"],[1.0,\"rgb(5,48,97)\"]],\"cmid\":0.0},\"title\":{\"text\":\"Unablated Average Logit Difference From Each Head\"},\"width\":600},                        {\"responsive\": true}                    ).then(function(){\n",
       "                            \n",
       "var gd = document.getElementById('d49ed44e-6f96-45c8-9eff-547c7e4a1dca');\n",
       "var x = new MutationObserver(function (mutations, observer) {{\n",
       "        var display = window.getComputedStyle(gd).display;\n",
       "        if (!display || display === 'none') {{\n",
       "            console.log([gd, 'removed!']);\n",
       "            Plotly.purge(gd);\n",
       "            observer.disconnect();\n",
       "        }}\n",
       "}});\n",
       "\n",
       "// Listen for the removal of the full notebook cells\n",
       "var notebookContainer = gd.closest('#notebook-container');\n",
       "if (notebookContainer) {{\n",
       "    x.observe(notebookContainer, {childList: true});\n",
       "}}\n",
       "\n",
       "// Listen for the clearing of the current output cell\n",
       "var outputEl = gd.closest('.output');\n",
       "if (outputEl) {{\n",
       "    x.observe(outputEl, {childList: true});\n",
       "}}\n",
       "\n",
       "                        })                };                });            </script>        </div>"
      ]
     },
     "metadata": {},
     "output_type": "display_data"
    },
    {
     "name": "stdout",
     "output_type": "stream",
     "text": [
      "S-inhibition heads\n",
      "Logit difference accuracy:  1.000\n",
      "Average logit difference: 2.976\n",
      "Logit difference accuracy:  0.818\n",
      "Average logit difference: 0.588\n"
     ]
    },
    {
     "data": {
      "text/html": [
       "<div>                            <div id=\"dcc99626-3857-4c22-9b20-c69cf3b018dd\" class=\"plotly-graph-div\" style=\"height:525px; width:600px;\"></div>            <script type=\"text/javascript\">                require([\"plotly\"], function(Plotly) {                    window.PLOTLYENV=window.PLOTLYENV || {};                                    if (document.getElementById(\"dcc99626-3857-4c22-9b20-c69cf3b018dd\")) {                    Plotly.newPlot(                        \"dcc99626-3857-4c22-9b20-c69cf3b018dd\",                        [{\"coloraxis\":\"coloraxis\",\"name\":\"0\",\"texttemplate\":\"%{z:.2f}\",\"z\":[[-0.002934015356004238,-2.9151473427191377e-05,-0.0003302815312054008,-4.061992513015866e-06,-0.0007278434932231903,-5.9839414461748675e-05,-0.005308687686920166,-0.0034739545080810785,-0.00015313754556700587,-3.355852823005989e-05,-0.0006755410577170551,-0.0008281408809125423],[6.507812213385478e-05,0.00019722047727555037,0.0004704152815975249,0.0003223314124625176,-0.0018765967106446624,0.00023416231852024794,-0.0026497943326830864,-0.004501256160438061,0.002683135913684964,0.001460379222407937,0.0009805853478610516,0.001106693991459906],[-0.00024220830528065562,-0.001215714612044394,-0.00039930580533109605,-0.0006314718048088253,-0.000388374988688156,0.0005149951321072876,0.0013320321450009942,0.0037438932340592146,0.00017923435370903462,-0.0016307472251355648,-0.0007098002824932337,0.000395982206100598],[-2.477848101989366e-05,-0.00038782143383286893,0.00020428089192137122,0.00010278535773977637,9.474632679484785e-05,-0.0011784634552896023,-0.00059978396166116,-0.0005016206996515393,0.000131294596940279,0.0006643005181103945,-0.0009162716451101005,-0.0005416307831183076],[-0.0008970326744019985,3.8820489862700924e-06,-0.0009507968206889927,-0.0009133139392361045,0.0009004936437122524,8.645317575428635e-05,-0.0006291515310294926,-0.00035563920391723514,-0.0003562925267033279,-0.0006620705244131386,0.0003273636684753001,0.00021060844301246107],[0.00011360317876096815,7.158861262723804e-05,-0.00018064517644234002,-0.0011800362262874842,-4.463735967874527e-05,-0.0009654858149588108,-6.0497874073917046e-05,0.0004073937307111919,0.0008644917397759855,0.00023024322581477463,-0.004009357187896967,0.0020596524700522423],[-0.004530939739197493,-0.005321027245372534,0.0021684889215976,0.00022462659399025142,-0.004235418979078531,0.0018766868161037564,0.0028375459369271994,-0.0023147372994571924,-0.0008302549831569195,-0.0015820864355191588,-0.0005508727626875043,0.0006104452186264098],[-0.00019097747281193733,-0.002672298578545451,-0.0004544009279925376,0.011387432925403118,-0.001067258883267641,-0.009073227643966675,0.0015736970817670226,-0.0011929755564779043,-0.004150967113673687,0.012568727135658264,-0.0010597709333524108,-0.0018464321037754416],[0.0009030903456732631,-0.0010821318719536066,-0.014341850765049458,-0.014339902438223362,-0.0003140512853860855,0.0027966946363449097,-0.0009568707318976521,0.0007975010084919631,-0.019361192360520363,0.003215092932805419,0.02130664885044098,-0.016617417335510254],[-0.02846369706094265,-0.00027365575078874826,-0.014809809625148773,0.00026467806310392916,-0.009570511989295483,0.052681200206279755,-0.15792645514011383,0.1007421687245369,-0.08857715129852295,-0.17581762373447418,-0.0005086306482553482,-0.013396057300269604],[-0.0016461334889754653,-0.01676207222044468,-0.07463430613279343,-0.018926935270428658,-0.004592873156070709,-2.9806726161041297e-05,-0.02454245649278164,0.8394243121147156,6.124472565716133e-05,-0.013626085594296455,0.06949522346258163,-0.025572316721081734],[0.034541212022304535,0.02188238874077797,-0.042453695088624954,0.00039767916314303875,0.0024871171917766333,0.0013278262922540307,-0.027174264192581177,0.009863147512078285,0.013874799013137817,0.008729636669158936,0.11959847807884216,-0.004727531690150499]],\"type\":\"heatmap\",\"xaxis\":\"x\",\"yaxis\":\"y\",\"hovertemplate\":\"Head: %{x}\\u003cbr\\u003eLayer: %{y}\\u003cbr\\u003ecolor: %{z}\\u003cextra\\u003e\\u003c\\u002fextra\\u003e\"}],                        {\"template\":{\"data\":{\"histogram2dcontour\":[{\"type\":\"histogram2dcontour\",\"colorbar\":{\"outlinewidth\":0,\"ticks\":\"\"},\"colorscale\":[[0.0,\"#0d0887\"],[0.1111111111111111,\"#46039f\"],[0.2222222222222222,\"#7201a8\"],[0.3333333333333333,\"#9c179e\"],[0.4444444444444444,\"#bd3786\"],[0.5555555555555556,\"#d8576b\"],[0.6666666666666666,\"#ed7953\"],[0.7777777777777778,\"#fb9f3a\"],[0.8888888888888888,\"#fdca26\"],[1.0,\"#f0f921\"]]}],\"choropleth\":[{\"type\":\"choropleth\",\"colorbar\":{\"outlinewidth\":0,\"ticks\":\"\"}}],\"histogram2d\":[{\"type\":\"histogram2d\",\"colorbar\":{\"outlinewidth\":0,\"ticks\":\"\"},\"colorscale\":[[0.0,\"#0d0887\"],[0.1111111111111111,\"#46039f\"],[0.2222222222222222,\"#7201a8\"],[0.3333333333333333,\"#9c179e\"],[0.4444444444444444,\"#bd3786\"],[0.5555555555555556,\"#d8576b\"],[0.6666666666666666,\"#ed7953\"],[0.7777777777777778,\"#fb9f3a\"],[0.8888888888888888,\"#fdca26\"],[1.0,\"#f0f921\"]]}],\"heatmap\":[{\"type\":\"heatmap\",\"colorbar\":{\"outlinewidth\":0,\"ticks\":\"\"},\"colorscale\":[[0.0,\"#0d0887\"],[0.1111111111111111,\"#46039f\"],[0.2222222222222222,\"#7201a8\"],[0.3333333333333333,\"#9c179e\"],[0.4444444444444444,\"#bd3786\"],[0.5555555555555556,\"#d8576b\"],[0.6666666666666666,\"#ed7953\"],[0.7777777777777778,\"#fb9f3a\"],[0.8888888888888888,\"#fdca26\"],[1.0,\"#f0f921\"]]}],\"heatmapgl\":[{\"type\":\"heatmapgl\",\"colorbar\":{\"outlinewidth\":0,\"ticks\":\"\"},\"colorscale\":[[0.0,\"#0d0887\"],[0.1111111111111111,\"#46039f\"],[0.2222222222222222,\"#7201a8\"],[0.3333333333333333,\"#9c179e\"],[0.4444444444444444,\"#bd3786\"],[0.5555555555555556,\"#d8576b\"],[0.6666666666666666,\"#ed7953\"],[0.7777777777777778,\"#fb9f3a\"],[0.8888888888888888,\"#fdca26\"],[1.0,\"#f0f921\"]]}],\"contourcarpet\":[{\"type\":\"contourcarpet\",\"colorbar\":{\"outlinewidth\":0,\"ticks\":\"\"}}],\"contour\":[{\"type\":\"contour\",\"colorbar\":{\"outlinewidth\":0,\"ticks\":\"\"},\"colorscale\":[[0.0,\"#0d0887\"],[0.1111111111111111,\"#46039f\"],[0.2222222222222222,\"#7201a8\"],[0.3333333333333333,\"#9c179e\"],[0.4444444444444444,\"#bd3786\"],[0.5555555555555556,\"#d8576b\"],[0.6666666666666666,\"#ed7953\"],[0.7777777777777778,\"#fb9f3a\"],[0.8888888888888888,\"#fdca26\"],[1.0,\"#f0f921\"]]}],\"surface\":[{\"type\":\"surface\",\"colorbar\":{\"outlinewidth\":0,\"ticks\":\"\"},\"colorscale\":[[0.0,\"#0d0887\"],[0.1111111111111111,\"#46039f\"],[0.2222222222222222,\"#7201a8\"],[0.3333333333333333,\"#9c179e\"],[0.4444444444444444,\"#bd3786\"],[0.5555555555555556,\"#d8576b\"],[0.6666666666666666,\"#ed7953\"],[0.7777777777777778,\"#fb9f3a\"],[0.8888888888888888,\"#fdca26\"],[1.0,\"#f0f921\"]]}],\"mesh3d\":[{\"type\":\"mesh3d\",\"colorbar\":{\"outlinewidth\":0,\"ticks\":\"\"}}],\"scatter\":[{\"fillpattern\":{\"fillmode\":\"overlay\",\"size\":10,\"solidity\":0.2},\"type\":\"scatter\"}],\"parcoords\":[{\"type\":\"parcoords\",\"line\":{\"colorbar\":{\"outlinewidth\":0,\"ticks\":\"\"}}}],\"scatterpolargl\":[{\"type\":\"scatterpolargl\",\"marker\":{\"colorbar\":{\"outlinewidth\":0,\"ticks\":\"\"}}}],\"bar\":[{\"error_x\":{\"color\":\"#2a3f5f\"},\"error_y\":{\"color\":\"#2a3f5f\"},\"marker\":{\"line\":{\"color\":\"#E5ECF6\",\"width\":0.5},\"pattern\":{\"fillmode\":\"overlay\",\"size\":10,\"solidity\":0.2}},\"type\":\"bar\"}],\"scattergeo\":[{\"type\":\"scattergeo\",\"marker\":{\"colorbar\":{\"outlinewidth\":0,\"ticks\":\"\"}}}],\"scatterpolar\":[{\"type\":\"scatterpolar\",\"marker\":{\"colorbar\":{\"outlinewidth\":0,\"ticks\":\"\"}}}],\"histogram\":[{\"marker\":{\"pattern\":{\"fillmode\":\"overlay\",\"size\":10,\"solidity\":0.2}},\"type\":\"histogram\"}],\"scattergl\":[{\"type\":\"scattergl\",\"marker\":{\"colorbar\":{\"outlinewidth\":0,\"ticks\":\"\"}}}],\"scatter3d\":[{\"type\":\"scatter3d\",\"line\":{\"colorbar\":{\"outlinewidth\":0,\"ticks\":\"\"}},\"marker\":{\"colorbar\":{\"outlinewidth\":0,\"ticks\":\"\"}}}],\"scattermapbox\":[{\"type\":\"scattermapbox\",\"marker\":{\"colorbar\":{\"outlinewidth\":0,\"ticks\":\"\"}}}],\"scatterternary\":[{\"type\":\"scatterternary\",\"marker\":{\"colorbar\":{\"outlinewidth\":0,\"ticks\":\"\"}}}],\"scattercarpet\":[{\"type\":\"scattercarpet\",\"marker\":{\"colorbar\":{\"outlinewidth\":0,\"ticks\":\"\"}}}],\"carpet\":[{\"aaxis\":{\"endlinecolor\":\"#2a3f5f\",\"gridcolor\":\"white\",\"linecolor\":\"white\",\"minorgridcolor\":\"white\",\"startlinecolor\":\"#2a3f5f\"},\"baxis\":{\"endlinecolor\":\"#2a3f5f\",\"gridcolor\":\"white\",\"linecolor\":\"white\",\"minorgridcolor\":\"white\",\"startlinecolor\":\"#2a3f5f\"},\"type\":\"carpet\"}],\"table\":[{\"cells\":{\"fill\":{\"color\":\"#EBF0F8\"},\"line\":{\"color\":\"white\"}},\"header\":{\"fill\":{\"color\":\"#C8D4E3\"},\"line\":{\"color\":\"white\"}},\"type\":\"table\"}],\"barpolar\":[{\"marker\":{\"line\":{\"color\":\"#E5ECF6\",\"width\":0.5},\"pattern\":{\"fillmode\":\"overlay\",\"size\":10,\"solidity\":0.2}},\"type\":\"barpolar\"}],\"pie\":[{\"automargin\":true,\"type\":\"pie\"}]},\"layout\":{\"autotypenumbers\":\"strict\",\"colorway\":[\"#636efa\",\"#EF553B\",\"#00cc96\",\"#ab63fa\",\"#FFA15A\",\"#19d3f3\",\"#FF6692\",\"#B6E880\",\"#FF97FF\",\"#FECB52\"],\"font\":{\"color\":\"#2a3f5f\"},\"hovermode\":\"closest\",\"hoverlabel\":{\"align\":\"left\"},\"paper_bgcolor\":\"white\",\"plot_bgcolor\":\"#E5ECF6\",\"polar\":{\"bgcolor\":\"#E5ECF6\",\"angularaxis\":{\"gridcolor\":\"white\",\"linecolor\":\"white\",\"ticks\":\"\"},\"radialaxis\":{\"gridcolor\":\"white\",\"linecolor\":\"white\",\"ticks\":\"\"}},\"ternary\":{\"bgcolor\":\"#E5ECF6\",\"aaxis\":{\"gridcolor\":\"white\",\"linecolor\":\"white\",\"ticks\":\"\"},\"baxis\":{\"gridcolor\":\"white\",\"linecolor\":\"white\",\"ticks\":\"\"},\"caxis\":{\"gridcolor\":\"white\",\"linecolor\":\"white\",\"ticks\":\"\"}},\"coloraxis\":{\"colorbar\":{\"outlinewidth\":0,\"ticks\":\"\"}},\"colorscale\":{\"sequential\":[[0.0,\"#0d0887\"],[0.1111111111111111,\"#46039f\"],[0.2222222222222222,\"#7201a8\"],[0.3333333333333333,\"#9c179e\"],[0.4444444444444444,\"#bd3786\"],[0.5555555555555556,\"#d8576b\"],[0.6666666666666666,\"#ed7953\"],[0.7777777777777778,\"#fb9f3a\"],[0.8888888888888888,\"#fdca26\"],[1.0,\"#f0f921\"]],\"sequentialminus\":[[0.0,\"#0d0887\"],[0.1111111111111111,\"#46039f\"],[0.2222222222222222,\"#7201a8\"],[0.3333333333333333,\"#9c179e\"],[0.4444444444444444,\"#bd3786\"],[0.5555555555555556,\"#d8576b\"],[0.6666666666666666,\"#ed7953\"],[0.7777777777777778,\"#fb9f3a\"],[0.8888888888888888,\"#fdca26\"],[1.0,\"#f0f921\"]],\"diverging\":[[0,\"#8e0152\"],[0.1,\"#c51b7d\"],[0.2,\"#de77ae\"],[0.3,\"#f1b6da\"],[0.4,\"#fde0ef\"],[0.5,\"#f7f7f7\"],[0.6,\"#e6f5d0\"],[0.7,\"#b8e186\"],[0.8,\"#7fbc41\"],[0.9,\"#4d9221\"],[1,\"#276419\"]]},\"xaxis\":{\"gridcolor\":\"white\",\"linecolor\":\"white\",\"ticks\":\"\",\"title\":{\"standoff\":15},\"zerolinecolor\":\"white\",\"automargin\":true,\"zerolinewidth\":2},\"yaxis\":{\"gridcolor\":\"white\",\"linecolor\":\"white\",\"ticks\":\"\",\"title\":{\"standoff\":15},\"zerolinecolor\":\"white\",\"automargin\":true,\"zerolinewidth\":2},\"scene\":{\"xaxis\":{\"backgroundcolor\":\"#E5ECF6\",\"gridcolor\":\"white\",\"linecolor\":\"white\",\"showbackground\":true,\"ticks\":\"\",\"zerolinecolor\":\"white\",\"gridwidth\":2},\"yaxis\":{\"backgroundcolor\":\"#E5ECF6\",\"gridcolor\":\"white\",\"linecolor\":\"white\",\"showbackground\":true,\"ticks\":\"\",\"zerolinecolor\":\"white\",\"gridwidth\":2},\"zaxis\":{\"backgroundcolor\":\"#E5ECF6\",\"gridcolor\":\"white\",\"linecolor\":\"white\",\"showbackground\":true,\"ticks\":\"\",\"zerolinecolor\":\"white\",\"gridwidth\":2}},\"shapedefaults\":{\"line\":{\"color\":\"#2a3f5f\"}},\"annotationdefaults\":{\"arrowcolor\":\"#2a3f5f\",\"arrowhead\":0,\"arrowwidth\":1},\"geo\":{\"bgcolor\":\"white\",\"landcolor\":\"#E5ECF6\",\"subunitcolor\":\"white\",\"showland\":true,\"showlakes\":true,\"lakecolor\":\"white\"},\"title\":{\"x\":0.05},\"mapbox\":{\"style\":\"light\"}}},\"xaxis\":{\"anchor\":\"y\",\"domain\":[0.0,1.0],\"scaleanchor\":\"y\",\"constrain\":\"domain\",\"title\":{\"text\":\"Head\"}},\"yaxis\":{\"anchor\":\"x\",\"domain\":[0.0,1.0],\"autorange\":\"reversed\",\"constrain\":\"domain\",\"title\":{\"text\":\"Layer\"}},\"coloraxis\":{\"colorscale\":[[0.0,\"rgb(103,0,31)\"],[0.1,\"rgb(178,24,43)\"],[0.2,\"rgb(214,96,77)\"],[0.3,\"rgb(244,165,130)\"],[0.4,\"rgb(253,219,199)\"],[0.5,\"rgb(247,247,247)\"],[0.6,\"rgb(209,229,240)\"],[0.7,\"rgb(146,197,222)\"],[0.8,\"rgb(67,147,195)\"],[0.9,\"rgb(33,102,172)\"],[1.0,\"rgb(5,48,97)\"]],\"cmid\":0.0},\"title\":{\"text\":\"Ablated Average Logit Difference From Heads \\u003cbr\\u003e [(7, 3), (7, 9), (8, 6), (8, 10)]\"},\"width\":600},                        {\"responsive\": true}                    ).then(function(){\n",
       "                            \n",
       "var gd = document.getElementById('dcc99626-3857-4c22-9b20-c69cf3b018dd');\n",
       "var x = new MutationObserver(function (mutations, observer) {{\n",
       "        var display = window.getComputedStyle(gd).display;\n",
       "        if (!display || display === 'none') {{\n",
       "            console.log([gd, 'removed!']);\n",
       "            Plotly.purge(gd);\n",
       "            observer.disconnect();\n",
       "        }}\n",
       "}});\n",
       "\n",
       "// Listen for the removal of the full notebook cells\n",
       "var notebookContainer = gd.closest('#notebook-container');\n",
       "if (notebookContainer) {{\n",
       "    x.observe(notebookContainer, {childList: true});\n",
       "}}\n",
       "\n",
       "// Listen for the clearing of the current output cell\n",
       "var outputEl = gd.closest('.output');\n",
       "if (outputEl) {{\n",
       "    x.observe(outputEl, {childList: true});\n",
       "}}\n",
       "\n",
       "                        })                };                });            </script>        </div>"
      ]
     },
     "metadata": {},
     "output_type": "display_data"
    },
    {
     "data": {
      "text/html": [
       "<div>                            <div id=\"f7a97a8e-e76a-43c2-8ae5-8391decf89dd\" class=\"plotly-graph-div\" style=\"height:525px; width:600px;\"></div>            <script type=\"text/javascript\">                require([\"plotly\"], function(Plotly) {                    window.PLOTLYENV=window.PLOTLYENV || {};                                    if (document.getElementById(\"f7a97a8e-e76a-43c2-8ae5-8391decf89dd\")) {                    Plotly.newPlot(                        \"f7a97a8e-e76a-43c2-8ae5-8391decf89dd\",                        [{\"coloraxis\":\"coloraxis\",\"name\":\"0\",\"texttemplate\":\"%{z:.2f}\",\"z\":[[-0.003159529296681285,-0.0003580997290555388,-0.0001248275366378948,0.0002663093328010291,-0.0010370697127655149,0.00010962012311210856,-0.004518964793533087,-0.003987057134509087,-0.0001932077866513282,0.0012336446670815349,-0.0008111884817481041,-0.0009062894387170672],[-0.000475098320748657,0.0002688769018277526,-0.0002897785743698478,0.00036761187948286533,-0.0021970763336867094,-0.0003535995492711663,-0.0030648750253021717,-0.003565587569028139,0.002710371743887663,0.001779722049832344,0.0016782516613602638,0.0018129905220121145],[-0.0007328320061787963,-0.0012303313706070185,-0.001063498668372631,-0.0014776329044252634,-7.62492636567913e-05,0.001361842849291861,0.0016116428887471557,0.003918197005987167,0.00019575415353756398,-0.0019583941902965307,-0.0015271432930603623,0.00041291466914117336],[-0.00030431951745413244,-0.0002347343397559598,0.00030198396416381,0.00028840501909144223,0.0005939893308095634,-0.0012107149232178926,-0.0006194327143020928,-0.001545785227790475,0.0006479478906840086,-5.1943670769105665e-06,-0.0015047382330521941,-0.001138723106123507],[-0.0013207733863964677,-9.862497972790152e-05,-0.0009165848605334759,-0.001707416377030313,0.0012023444287478924,-0.0001418435131199658,-0.0010482652578502893,0.0008689846727065742,-0.0010961415246129036,-0.0009697803179733455,0.0006216613692231476,-0.00011060935503337532],[0.00032164499862119555,0.0007316516130231321,-0.001257791998796165,-0.0014098166720941663,-0.0004074535972904414,-0.0002878904342651367,-9.63568891165778e-05,0.0007102107629179955,0.000746267382055521,-0.0007526991539634764,-0.00440936628729105,0.0020826300606131554],[-0.0045159487053751945,-0.0053026312962174416,0.002222371520474553,-0.0004116611380595714,-0.0055782971903681755,0.002019700827077031,0.0035031246952712536,-0.0023941693361848593,-0.00032022580853663385,-0.0011571940267458558,-0.0003823923470918089,-6.009393109707162e-05],[7.149574958020821e-05,-0.002595398807898164,3.7700934626627713e-05,0.06936490535736084,-0.001164577784948051,-0.009887101128697395,0.0021730861626565456,-0.0013634039787575603,-0.003049904014915228,0.16991423070430756,-0.0007771804230287671,-0.0017702998593449593],[0.0002741769712883979,-0.000226955657126382,-0.02048223465681076,0.0019165342673659325,0.0012172049609944224,0.004246674478054047,-0.10916899889707565,0.002841232344508171,-0.020128337666392326,0.002333579584956169,0.2613958418369293,0.008303876034915447],[0.05886068940162659,-0.0003132191486656666,0.029541609808802605,0.008439084514975548,-0.01522352546453476,0.029796471819281578,1.3343989849090576,0.06493186950683594,-0.046604953706264496,2.64967942237854,0.0007046263199299574,-0.0066938637755811214],[0.6342725157737732,0.1909913271665573,-0.060460906475782394,0.05191725119948387,-0.0029878176283091307,0.0018183044157922268,0.21957328915596008,-1.8274939060211182,-7.5034040492028e-05,-0.002218147972598672,0.44841161370277405,0.002508897101506591],[0.022872833535075188,-0.021053185686469078,-0.4704105854034424,0.02773805521428585,-0.0006921387976035476,-0.002444575307890773,-0.1012936607003212,0.005798657890409231,0.028215652331709862,-0.022495709359645844,-0.9197575449943542,0.02142239734530449]],\"type\":\"heatmap\",\"xaxis\":\"x\",\"yaxis\":\"y\",\"hovertemplate\":\"Head: %{x}\\u003cbr\\u003eLayer: %{y}\\u003cbr\\u003ecolor: %{z}\\u003cextra\\u003e\\u003c\\u002fextra\\u003e\"}],                        {\"template\":{\"data\":{\"histogram2dcontour\":[{\"type\":\"histogram2dcontour\",\"colorbar\":{\"outlinewidth\":0,\"ticks\":\"\"},\"colorscale\":[[0.0,\"#0d0887\"],[0.1111111111111111,\"#46039f\"],[0.2222222222222222,\"#7201a8\"],[0.3333333333333333,\"#9c179e\"],[0.4444444444444444,\"#bd3786\"],[0.5555555555555556,\"#d8576b\"],[0.6666666666666666,\"#ed7953\"],[0.7777777777777778,\"#fb9f3a\"],[0.8888888888888888,\"#fdca26\"],[1.0,\"#f0f921\"]]}],\"choropleth\":[{\"type\":\"choropleth\",\"colorbar\":{\"outlinewidth\":0,\"ticks\":\"\"}}],\"histogram2d\":[{\"type\":\"histogram2d\",\"colorbar\":{\"outlinewidth\":0,\"ticks\":\"\"},\"colorscale\":[[0.0,\"#0d0887\"],[0.1111111111111111,\"#46039f\"],[0.2222222222222222,\"#7201a8\"],[0.3333333333333333,\"#9c179e\"],[0.4444444444444444,\"#bd3786\"],[0.5555555555555556,\"#d8576b\"],[0.6666666666666666,\"#ed7953\"],[0.7777777777777778,\"#fb9f3a\"],[0.8888888888888888,\"#fdca26\"],[1.0,\"#f0f921\"]]}],\"heatmap\":[{\"type\":\"heatmap\",\"colorbar\":{\"outlinewidth\":0,\"ticks\":\"\"},\"colorscale\":[[0.0,\"#0d0887\"],[0.1111111111111111,\"#46039f\"],[0.2222222222222222,\"#7201a8\"],[0.3333333333333333,\"#9c179e\"],[0.4444444444444444,\"#bd3786\"],[0.5555555555555556,\"#d8576b\"],[0.6666666666666666,\"#ed7953\"],[0.7777777777777778,\"#fb9f3a\"],[0.8888888888888888,\"#fdca26\"],[1.0,\"#f0f921\"]]}],\"heatmapgl\":[{\"type\":\"heatmapgl\",\"colorbar\":{\"outlinewidth\":0,\"ticks\":\"\"},\"colorscale\":[[0.0,\"#0d0887\"],[0.1111111111111111,\"#46039f\"],[0.2222222222222222,\"#7201a8\"],[0.3333333333333333,\"#9c179e\"],[0.4444444444444444,\"#bd3786\"],[0.5555555555555556,\"#d8576b\"],[0.6666666666666666,\"#ed7953\"],[0.7777777777777778,\"#fb9f3a\"],[0.8888888888888888,\"#fdca26\"],[1.0,\"#f0f921\"]]}],\"contourcarpet\":[{\"type\":\"contourcarpet\",\"colorbar\":{\"outlinewidth\":0,\"ticks\":\"\"}}],\"contour\":[{\"type\":\"contour\",\"colorbar\":{\"outlinewidth\":0,\"ticks\":\"\"},\"colorscale\":[[0.0,\"#0d0887\"],[0.1111111111111111,\"#46039f\"],[0.2222222222222222,\"#7201a8\"],[0.3333333333333333,\"#9c179e\"],[0.4444444444444444,\"#bd3786\"],[0.5555555555555556,\"#d8576b\"],[0.6666666666666666,\"#ed7953\"],[0.7777777777777778,\"#fb9f3a\"],[0.8888888888888888,\"#fdca26\"],[1.0,\"#f0f921\"]]}],\"surface\":[{\"type\":\"surface\",\"colorbar\":{\"outlinewidth\":0,\"ticks\":\"\"},\"colorscale\":[[0.0,\"#0d0887\"],[0.1111111111111111,\"#46039f\"],[0.2222222222222222,\"#7201a8\"],[0.3333333333333333,\"#9c179e\"],[0.4444444444444444,\"#bd3786\"],[0.5555555555555556,\"#d8576b\"],[0.6666666666666666,\"#ed7953\"],[0.7777777777777778,\"#fb9f3a\"],[0.8888888888888888,\"#fdca26\"],[1.0,\"#f0f921\"]]}],\"mesh3d\":[{\"type\":\"mesh3d\",\"colorbar\":{\"outlinewidth\":0,\"ticks\":\"\"}}],\"scatter\":[{\"fillpattern\":{\"fillmode\":\"overlay\",\"size\":10,\"solidity\":0.2},\"type\":\"scatter\"}],\"parcoords\":[{\"type\":\"parcoords\",\"line\":{\"colorbar\":{\"outlinewidth\":0,\"ticks\":\"\"}}}],\"scatterpolargl\":[{\"type\":\"scatterpolargl\",\"marker\":{\"colorbar\":{\"outlinewidth\":0,\"ticks\":\"\"}}}],\"bar\":[{\"error_x\":{\"color\":\"#2a3f5f\"},\"error_y\":{\"color\":\"#2a3f5f\"},\"marker\":{\"line\":{\"color\":\"#E5ECF6\",\"width\":0.5},\"pattern\":{\"fillmode\":\"overlay\",\"size\":10,\"solidity\":0.2}},\"type\":\"bar\"}],\"scattergeo\":[{\"type\":\"scattergeo\",\"marker\":{\"colorbar\":{\"outlinewidth\":0,\"ticks\":\"\"}}}],\"scatterpolar\":[{\"type\":\"scatterpolar\",\"marker\":{\"colorbar\":{\"outlinewidth\":0,\"ticks\":\"\"}}}],\"histogram\":[{\"marker\":{\"pattern\":{\"fillmode\":\"overlay\",\"size\":10,\"solidity\":0.2}},\"type\":\"histogram\"}],\"scattergl\":[{\"type\":\"scattergl\",\"marker\":{\"colorbar\":{\"outlinewidth\":0,\"ticks\":\"\"}}}],\"scatter3d\":[{\"type\":\"scatter3d\",\"line\":{\"colorbar\":{\"outlinewidth\":0,\"ticks\":\"\"}},\"marker\":{\"colorbar\":{\"outlinewidth\":0,\"ticks\":\"\"}}}],\"scattermapbox\":[{\"type\":\"scattermapbox\",\"marker\":{\"colorbar\":{\"outlinewidth\":0,\"ticks\":\"\"}}}],\"scatterternary\":[{\"type\":\"scatterternary\",\"marker\":{\"colorbar\":{\"outlinewidth\":0,\"ticks\":\"\"}}}],\"scattercarpet\":[{\"type\":\"scattercarpet\",\"marker\":{\"colorbar\":{\"outlinewidth\":0,\"ticks\":\"\"}}}],\"carpet\":[{\"aaxis\":{\"endlinecolor\":\"#2a3f5f\",\"gridcolor\":\"white\",\"linecolor\":\"white\",\"minorgridcolor\":\"white\",\"startlinecolor\":\"#2a3f5f\"},\"baxis\":{\"endlinecolor\":\"#2a3f5f\",\"gridcolor\":\"white\",\"linecolor\":\"white\",\"minorgridcolor\":\"white\",\"startlinecolor\":\"#2a3f5f\"},\"type\":\"carpet\"}],\"table\":[{\"cells\":{\"fill\":{\"color\":\"#EBF0F8\"},\"line\":{\"color\":\"white\"}},\"header\":{\"fill\":{\"color\":\"#C8D4E3\"},\"line\":{\"color\":\"white\"}},\"type\":\"table\"}],\"barpolar\":[{\"marker\":{\"line\":{\"color\":\"#E5ECF6\",\"width\":0.5},\"pattern\":{\"fillmode\":\"overlay\",\"size\":10,\"solidity\":0.2}},\"type\":\"barpolar\"}],\"pie\":[{\"automargin\":true,\"type\":\"pie\"}]},\"layout\":{\"autotypenumbers\":\"strict\",\"colorway\":[\"#636efa\",\"#EF553B\",\"#00cc96\",\"#ab63fa\",\"#FFA15A\",\"#19d3f3\",\"#FF6692\",\"#B6E880\",\"#FF97FF\",\"#FECB52\"],\"font\":{\"color\":\"#2a3f5f\"},\"hovermode\":\"closest\",\"hoverlabel\":{\"align\":\"left\"},\"paper_bgcolor\":\"white\",\"plot_bgcolor\":\"#E5ECF6\",\"polar\":{\"bgcolor\":\"#E5ECF6\",\"angularaxis\":{\"gridcolor\":\"white\",\"linecolor\":\"white\",\"ticks\":\"\"},\"radialaxis\":{\"gridcolor\":\"white\",\"linecolor\":\"white\",\"ticks\":\"\"}},\"ternary\":{\"bgcolor\":\"#E5ECF6\",\"aaxis\":{\"gridcolor\":\"white\",\"linecolor\":\"white\",\"ticks\":\"\"},\"baxis\":{\"gridcolor\":\"white\",\"linecolor\":\"white\",\"ticks\":\"\"},\"caxis\":{\"gridcolor\":\"white\",\"linecolor\":\"white\",\"ticks\":\"\"}},\"coloraxis\":{\"colorbar\":{\"outlinewidth\":0,\"ticks\":\"\"}},\"colorscale\":{\"sequential\":[[0.0,\"#0d0887\"],[0.1111111111111111,\"#46039f\"],[0.2222222222222222,\"#7201a8\"],[0.3333333333333333,\"#9c179e\"],[0.4444444444444444,\"#bd3786\"],[0.5555555555555556,\"#d8576b\"],[0.6666666666666666,\"#ed7953\"],[0.7777777777777778,\"#fb9f3a\"],[0.8888888888888888,\"#fdca26\"],[1.0,\"#f0f921\"]],\"sequentialminus\":[[0.0,\"#0d0887\"],[0.1111111111111111,\"#46039f\"],[0.2222222222222222,\"#7201a8\"],[0.3333333333333333,\"#9c179e\"],[0.4444444444444444,\"#bd3786\"],[0.5555555555555556,\"#d8576b\"],[0.6666666666666666,\"#ed7953\"],[0.7777777777777778,\"#fb9f3a\"],[0.8888888888888888,\"#fdca26\"],[1.0,\"#f0f921\"]],\"diverging\":[[0,\"#8e0152\"],[0.1,\"#c51b7d\"],[0.2,\"#de77ae\"],[0.3,\"#f1b6da\"],[0.4,\"#fde0ef\"],[0.5,\"#f7f7f7\"],[0.6,\"#e6f5d0\"],[0.7,\"#b8e186\"],[0.8,\"#7fbc41\"],[0.9,\"#4d9221\"],[1,\"#276419\"]]},\"xaxis\":{\"gridcolor\":\"white\",\"linecolor\":\"white\",\"ticks\":\"\",\"title\":{\"standoff\":15},\"zerolinecolor\":\"white\",\"automargin\":true,\"zerolinewidth\":2},\"yaxis\":{\"gridcolor\":\"white\",\"linecolor\":\"white\",\"ticks\":\"\",\"title\":{\"standoff\":15},\"zerolinecolor\":\"white\",\"automargin\":true,\"zerolinewidth\":2},\"scene\":{\"xaxis\":{\"backgroundcolor\":\"#E5ECF6\",\"gridcolor\":\"white\",\"linecolor\":\"white\",\"showbackground\":true,\"ticks\":\"\",\"zerolinecolor\":\"white\",\"gridwidth\":2},\"yaxis\":{\"backgroundcolor\":\"#E5ECF6\",\"gridcolor\":\"white\",\"linecolor\":\"white\",\"showbackground\":true,\"ticks\":\"\",\"zerolinecolor\":\"white\",\"gridwidth\":2},\"zaxis\":{\"backgroundcolor\":\"#E5ECF6\",\"gridcolor\":\"white\",\"linecolor\":\"white\",\"showbackground\":true,\"ticks\":\"\",\"zerolinecolor\":\"white\",\"gridwidth\":2}},\"shapedefaults\":{\"line\":{\"color\":\"#2a3f5f\"}},\"annotationdefaults\":{\"arrowcolor\":\"#2a3f5f\",\"arrowhead\":0,\"arrowwidth\":1},\"geo\":{\"bgcolor\":\"white\",\"landcolor\":\"#E5ECF6\",\"subunitcolor\":\"white\",\"showland\":true,\"showlakes\":true,\"lakecolor\":\"white\"},\"title\":{\"x\":0.05},\"mapbox\":{\"style\":\"light\"}}},\"xaxis\":{\"anchor\":\"y\",\"domain\":[0.0,1.0],\"scaleanchor\":\"y\",\"constrain\":\"domain\",\"title\":{\"text\":\"Head\"}},\"yaxis\":{\"anchor\":\"x\",\"domain\":[0.0,1.0],\"autorange\":\"reversed\",\"constrain\":\"domain\",\"title\":{\"text\":\"Layer\"}},\"coloraxis\":{\"colorscale\":[[0.0,\"rgb(103,0,31)\"],[0.1,\"rgb(178,24,43)\"],[0.2,\"rgb(214,96,77)\"],[0.3,\"rgb(244,165,130)\"],[0.4,\"rgb(253,219,199)\"],[0.5,\"rgb(247,247,247)\"],[0.6,\"rgb(209,229,240)\"],[0.7,\"rgb(146,197,222)\"],[0.8,\"rgb(67,147,195)\"],[0.9,\"rgb(33,102,172)\"],[1.0,\"rgb(5,48,97)\"]],\"cmid\":0.0},\"title\":{\"text\":\"Unablated Average Logit Difference From Each Head\"},\"width\":600},                        {\"responsive\": true}                    ).then(function(){\n",
       "                            \n",
       "var gd = document.getElementById('f7a97a8e-e76a-43c2-8ae5-8391decf89dd');\n",
       "var x = new MutationObserver(function (mutations, observer) {{\n",
       "        var display = window.getComputedStyle(gd).display;\n",
       "        if (!display || display === 'none') {{\n",
       "            console.log([gd, 'removed!']);\n",
       "            Plotly.purge(gd);\n",
       "            observer.disconnect();\n",
       "        }}\n",
       "}});\n",
       "\n",
       "// Listen for the removal of the full notebook cells\n",
       "var notebookContainer = gd.closest('#notebook-container');\n",
       "if (notebookContainer) {{\n",
       "    x.observe(notebookContainer, {childList: true});\n",
       "}}\n",
       "\n",
       "// Listen for the clearing of the current output cell\n",
       "var outputEl = gd.closest('.output');\n",
       "if (outputEl) {{\n",
       "    x.observe(outputEl, {childList: true});\n",
       "}}\n",
       "\n",
       "                        })                };                });            </script>        </div>"
      ]
     },
     "metadata": {},
     "output_type": "display_data"
    }
   ],
   "source": [
    "print(\"Positive name mover heads\")\n",
    "head_mean_ablation_logit_diff(positive_name_movers)\n",
    "print(\"S-inhibition heads\")\n",
    "head_mean_ablation_logit_diff(s_inhibition_heads)"
   ]
  },
  {
   "cell_type": "code",
   "execution_count": 118,
   "metadata": {},
   "outputs": [
    {
     "name": "stdout",
     "output_type": "stream",
     "text": [
      "torch.Size([12, 15, 15])\n",
      "Length of prompt 4: 15\n",
      "Logit difference accuracy:  1.000\n",
      "Per prompt logit difference: tensor([3.2016, 3.3367, 2.7095, 3.7975, 1.7204, 5.2812, 2.6008, 5.7674, 3.0110,\n",
      "        2.4750, 1.9531, 2.2397, 2.2629, 3.5962, 2.1930, 3.0245, 1.5002, 2.1427,\n",
      "        2.8699, 2.3140, 3.8759, 3.6036], device='cuda:0',\n",
      "       grad_fn=<SubBackward0>)\n",
      "Logit difference accuracy:  1.000\n",
      "Per prompt logit difference: tensor([2.3279, 1.9115, 1.1121, 1.6898, 0.1710, 3.4720, 1.7161, 1.6984, 2.3755,\n",
      "        0.6135, 0.6171, 2.5768, 1.7879, 2.0059, 1.1177, 1.6975, 1.3885, 1.4684,\n",
      "        2.9865, 0.6232, 2.2222, 2.2420], device='cuda:0',\n",
      "       grad_fn=<SubBackward0>)\n"
     ]
    }
   ],
   "source": [
    "attention_pattern = original_cache[\"blocks.9.attn.hook_pattern\"][4].squeeze()\n",
    "print(attention_pattern.shape)\n",
    "str_tokens = model.to_str_tokens(prompts[4])\n",
    "print(\"Length of prompt 4:\", len(str_tokens))\n",
    "circuitsvis.attention.attention_patterns(tokens=str_tokens, attention=attention_pattern)\n",
    "\n",
    "model.reset_hooks()\n",
    "def hook_all_attention_patterns(attn_pattern, hook: HookPoint, head_idx: int, layer_idx: int):\n",
    "    if hook.layer() == layer_idx:\n",
    "        attn_pattern[:, head_idx] = mean_activations_dict[(layer_idx, head_idx)]\n",
    "        return attn_pattern\n",
    "\n",
    "name_filter = lambda name: name.endswith(\"pattern\")\n",
    "hooks = []\n",
    "for layer, head in heads:\n",
    "    hooks.append((name_filter, functools.partial(hook_all_attention_patterns, head_idx=head, layer_idx=layer)))\n",
    "\n",
    "with model.hooks(fwd_hooks=hooks):\n",
    "    ablated_logits, ablated_cache = model.run_with_cache(tokens)\n",
    "\n",
    "\n",
    "original_per_prompt_diff = logits_to_ave_logit_diff(original_logits, answer_tokens, per_prompt=True)\n",
    "print(\"Per prompt logit difference:\", original_per_prompt_diff)\n",
    "\n",
    "ablated_per_prompt_diff = logits_to_ave_logit_diff(ablated_logits, answer_tokens, per_prompt=True)\n",
    "print(\"Per prompt logit difference:\", ablated_per_prompt_diff)"
   ]
  },
  {
   "cell_type": "code",
   "execution_count": 119,
   "metadata": {},
   "outputs": [
    {
     "name": "stdout",
     "output_type": "stream",
     "text": [
      "Logit difference accuracy:  1.000\n",
      "Average logit difference: 2.536\n",
      "Logit difference accuracy:  0.818\n",
      "Average logit difference: 0.593\n"
     ]
    },
    {
     "data": {
      "text/html": [
       "<div>                            <div id=\"3221ae5f-4425-4193-a8c5-454bb7b3ad1c\" class=\"plotly-graph-div\" style=\"height:525px; width:600px;\"></div>            <script type=\"text/javascript\">                require([\"plotly\"], function(Plotly) {                    window.PLOTLYENV=window.PLOTLYENV || {};                                    if (document.getElementById(\"3221ae5f-4425-4193-a8c5-454bb7b3ad1c\")) {                    Plotly.newPlot(                        \"3221ae5f-4425-4193-a8c5-454bb7b3ad1c\",                        [{\"coloraxis\":\"coloraxis\",\"name\":\"0\",\"texttemplate\":\"%{z:.2f}\",\"z\":[[-0.013348596170544624,-0.00889978464692831,0.005799899343401194,0.010134085081517696,-0.014843536540865898,0.008641117252409458,0.035125620663166046,-0.017732495442032814,-0.024432921782135963,0.01945813186466694,-0.004022128880023956,-0.013766133226454258],[-0.012200253084301949,0.006342151202261448,-0.016464751213788986,-0.0031655326019972563,-0.02591249719262123,-0.014052353799343109,-0.034174639731645584,0.028139054775238037,0.006595195736736059,0.011030125431716442,0.03885859251022339,0.029218699783086777],[-0.02236582152545452,-0.0028551598079502583,-0.00823136605322361,-0.022865762934088707,0.023845786228775978,0.0055527896620333195,0.011787183582782745,0.01806744933128357,-0.004970063455402851,-0.009474261663854122,-0.01817883923649788,-0.0031536128371953964],[-0.005582076963037252,0.0072004967369139194,0.0033716601319611073,0.009607476182281971,0.00941429752856493,-0.005864053964614868,-0.0012957407161593437,-0.015496741980314255,0.0004722911398857832,-0.0034988922998309135,-0.015478094108402729,-0.03572274371981621],[-0.0031107603572309017,-0.007203238550573587,0.005067889578640461,-0.022486085072159767,0.010997477918863297,-0.006783732678741217,-0.02440733276307583,0.026404526084661484,-0.020878231152892113,-0.008956202305853367,0.013934023678302765,-0.00022278574761003256],[0.002605783985927701,0.01930241286754608,-0.0469106063246727,-0.007336799520999193,-0.010565169155597687,0.0027438171673566103,0.0016515228198841214,0.011005296371877193,-0.007387618534266949,0.0050975303165614605,0.003131098346784711,-0.0019172508036717772],[0.006617411505430937,-0.008413306437432766,-0.007047401275485754,-0.026867717504501343,-0.03588705137372017,0.008306335657835007,0.021071115508675575,0.007935148663818836,0.007169830612838268,0.014553370885550976,0.005090558435767889,-0.02109364978969097],[0.008257768116891384,-0.0019218912348151207,0.013522621244192123,-0.003056348767131567,-0.008428400382399559,-0.04195990413427353,0.02995227836072445,-0.0013104785466566682,0.030517548322677612,0.012651332654058933,0.011830471456050873,0.014666806906461716],[-0.011615629307925701,0.005307888146489859,-0.06875979900360107,0.030568193644285202,-0.026336416602134705,-0.0026991856284439564,-0.00767197972163558,0.019270911812782288,-0.03651925176382065,0.011213374324142933,0.04068854823708534,-0.09908461570739746],[-0.02894636057317257,0.00024316494818776846,-0.011769862845540047,-0.003342326497659087,0.05834745988249779,0.027492735534906387,-0.03440919890999794,0.08196605741977692,-0.4132113456726074,-0.060829661786556244,0.007937941700220108,-0.01634538359940052],[-0.0696251168847084,0.0826336070895195,-0.6559500694274902,0.12401678413152695,-0.002664013532921672,0.007275085896253586,-0.03215406462550163,1.1396427154541016,-0.017160365357995033,-0.031289540231227875,-0.0033796553034335375,-0.04111555591225624],[0.04109545797109604,0.5471186637878418,-0.3052368760108948,0.006774000357836485,-0.011154030449688435,-0.05858415365219116,-0.0035513450857251883,0.002993830246850848,0.04762911796569824,0.023570649325847626,0.07891187071800232,0.04975311830639839]],\"type\":\"heatmap\",\"xaxis\":\"x\",\"yaxis\":\"y\",\"hovertemplate\":\"Head: %{x}\\u003cbr\\u003eLayer: %{y}\\u003cbr\\u003ecolor: %{z}\\u003cextra\\u003e\\u003c\\u002fextra\\u003e\"}],                        {\"template\":{\"data\":{\"histogram2dcontour\":[{\"type\":\"histogram2dcontour\",\"colorbar\":{\"outlinewidth\":0,\"ticks\":\"\"},\"colorscale\":[[0.0,\"#0d0887\"],[0.1111111111111111,\"#46039f\"],[0.2222222222222222,\"#7201a8\"],[0.3333333333333333,\"#9c179e\"],[0.4444444444444444,\"#bd3786\"],[0.5555555555555556,\"#d8576b\"],[0.6666666666666666,\"#ed7953\"],[0.7777777777777778,\"#fb9f3a\"],[0.8888888888888888,\"#fdca26\"],[1.0,\"#f0f921\"]]}],\"choropleth\":[{\"type\":\"choropleth\",\"colorbar\":{\"outlinewidth\":0,\"ticks\":\"\"}}],\"histogram2d\":[{\"type\":\"histogram2d\",\"colorbar\":{\"outlinewidth\":0,\"ticks\":\"\"},\"colorscale\":[[0.0,\"#0d0887\"],[0.1111111111111111,\"#46039f\"],[0.2222222222222222,\"#7201a8\"],[0.3333333333333333,\"#9c179e\"],[0.4444444444444444,\"#bd3786\"],[0.5555555555555556,\"#d8576b\"],[0.6666666666666666,\"#ed7953\"],[0.7777777777777778,\"#fb9f3a\"],[0.8888888888888888,\"#fdca26\"],[1.0,\"#f0f921\"]]}],\"heatmap\":[{\"type\":\"heatmap\",\"colorbar\":{\"outlinewidth\":0,\"ticks\":\"\"},\"colorscale\":[[0.0,\"#0d0887\"],[0.1111111111111111,\"#46039f\"],[0.2222222222222222,\"#7201a8\"],[0.3333333333333333,\"#9c179e\"],[0.4444444444444444,\"#bd3786\"],[0.5555555555555556,\"#d8576b\"],[0.6666666666666666,\"#ed7953\"],[0.7777777777777778,\"#fb9f3a\"],[0.8888888888888888,\"#fdca26\"],[1.0,\"#f0f921\"]]}],\"heatmapgl\":[{\"type\":\"heatmapgl\",\"colorbar\":{\"outlinewidth\":0,\"ticks\":\"\"},\"colorscale\":[[0.0,\"#0d0887\"],[0.1111111111111111,\"#46039f\"],[0.2222222222222222,\"#7201a8\"],[0.3333333333333333,\"#9c179e\"],[0.4444444444444444,\"#bd3786\"],[0.5555555555555556,\"#d8576b\"],[0.6666666666666666,\"#ed7953\"],[0.7777777777777778,\"#fb9f3a\"],[0.8888888888888888,\"#fdca26\"],[1.0,\"#f0f921\"]]}],\"contourcarpet\":[{\"type\":\"contourcarpet\",\"colorbar\":{\"outlinewidth\":0,\"ticks\":\"\"}}],\"contour\":[{\"type\":\"contour\",\"colorbar\":{\"outlinewidth\":0,\"ticks\":\"\"},\"colorscale\":[[0.0,\"#0d0887\"],[0.1111111111111111,\"#46039f\"],[0.2222222222222222,\"#7201a8\"],[0.3333333333333333,\"#9c179e\"],[0.4444444444444444,\"#bd3786\"],[0.5555555555555556,\"#d8576b\"],[0.6666666666666666,\"#ed7953\"],[0.7777777777777778,\"#fb9f3a\"],[0.8888888888888888,\"#fdca26\"],[1.0,\"#f0f921\"]]}],\"surface\":[{\"type\":\"surface\",\"colorbar\":{\"outlinewidth\":0,\"ticks\":\"\"},\"colorscale\":[[0.0,\"#0d0887\"],[0.1111111111111111,\"#46039f\"],[0.2222222222222222,\"#7201a8\"],[0.3333333333333333,\"#9c179e\"],[0.4444444444444444,\"#bd3786\"],[0.5555555555555556,\"#d8576b\"],[0.6666666666666666,\"#ed7953\"],[0.7777777777777778,\"#fb9f3a\"],[0.8888888888888888,\"#fdca26\"],[1.0,\"#f0f921\"]]}],\"mesh3d\":[{\"type\":\"mesh3d\",\"colorbar\":{\"outlinewidth\":0,\"ticks\":\"\"}}],\"scatter\":[{\"fillpattern\":{\"fillmode\":\"overlay\",\"size\":10,\"solidity\":0.2},\"type\":\"scatter\"}],\"parcoords\":[{\"type\":\"parcoords\",\"line\":{\"colorbar\":{\"outlinewidth\":0,\"ticks\":\"\"}}}],\"scatterpolargl\":[{\"type\":\"scatterpolargl\",\"marker\":{\"colorbar\":{\"outlinewidth\":0,\"ticks\":\"\"}}}],\"bar\":[{\"error_x\":{\"color\":\"#2a3f5f\"},\"error_y\":{\"color\":\"#2a3f5f\"},\"marker\":{\"line\":{\"color\":\"#E5ECF6\",\"width\":0.5},\"pattern\":{\"fillmode\":\"overlay\",\"size\":10,\"solidity\":0.2}},\"type\":\"bar\"}],\"scattergeo\":[{\"type\":\"scattergeo\",\"marker\":{\"colorbar\":{\"outlinewidth\":0,\"ticks\":\"\"}}}],\"scatterpolar\":[{\"type\":\"scatterpolar\",\"marker\":{\"colorbar\":{\"outlinewidth\":0,\"ticks\":\"\"}}}],\"histogram\":[{\"marker\":{\"pattern\":{\"fillmode\":\"overlay\",\"size\":10,\"solidity\":0.2}},\"type\":\"histogram\"}],\"scattergl\":[{\"type\":\"scattergl\",\"marker\":{\"colorbar\":{\"outlinewidth\":0,\"ticks\":\"\"}}}],\"scatter3d\":[{\"type\":\"scatter3d\",\"line\":{\"colorbar\":{\"outlinewidth\":0,\"ticks\":\"\"}},\"marker\":{\"colorbar\":{\"outlinewidth\":0,\"ticks\":\"\"}}}],\"scattermapbox\":[{\"type\":\"scattermapbox\",\"marker\":{\"colorbar\":{\"outlinewidth\":0,\"ticks\":\"\"}}}],\"scatterternary\":[{\"type\":\"scatterternary\",\"marker\":{\"colorbar\":{\"outlinewidth\":0,\"ticks\":\"\"}}}],\"scattercarpet\":[{\"type\":\"scattercarpet\",\"marker\":{\"colorbar\":{\"outlinewidth\":0,\"ticks\":\"\"}}}],\"carpet\":[{\"aaxis\":{\"endlinecolor\":\"#2a3f5f\",\"gridcolor\":\"white\",\"linecolor\":\"white\",\"minorgridcolor\":\"white\",\"startlinecolor\":\"#2a3f5f\"},\"baxis\":{\"endlinecolor\":\"#2a3f5f\",\"gridcolor\":\"white\",\"linecolor\":\"white\",\"minorgridcolor\":\"white\",\"startlinecolor\":\"#2a3f5f\"},\"type\":\"carpet\"}],\"table\":[{\"cells\":{\"fill\":{\"color\":\"#EBF0F8\"},\"line\":{\"color\":\"white\"}},\"header\":{\"fill\":{\"color\":\"#C8D4E3\"},\"line\":{\"color\":\"white\"}},\"type\":\"table\"}],\"barpolar\":[{\"marker\":{\"line\":{\"color\":\"#E5ECF6\",\"width\":0.5},\"pattern\":{\"fillmode\":\"overlay\",\"size\":10,\"solidity\":0.2}},\"type\":\"barpolar\"}],\"pie\":[{\"automargin\":true,\"type\":\"pie\"}]},\"layout\":{\"autotypenumbers\":\"strict\",\"colorway\":[\"#636efa\",\"#EF553B\",\"#00cc96\",\"#ab63fa\",\"#FFA15A\",\"#19d3f3\",\"#FF6692\",\"#B6E880\",\"#FF97FF\",\"#FECB52\"],\"font\":{\"color\":\"#2a3f5f\"},\"hovermode\":\"closest\",\"hoverlabel\":{\"align\":\"left\"},\"paper_bgcolor\":\"white\",\"plot_bgcolor\":\"#E5ECF6\",\"polar\":{\"bgcolor\":\"#E5ECF6\",\"angularaxis\":{\"gridcolor\":\"white\",\"linecolor\":\"white\",\"ticks\":\"\"},\"radialaxis\":{\"gridcolor\":\"white\",\"linecolor\":\"white\",\"ticks\":\"\"}},\"ternary\":{\"bgcolor\":\"#E5ECF6\",\"aaxis\":{\"gridcolor\":\"white\",\"linecolor\":\"white\",\"ticks\":\"\"},\"baxis\":{\"gridcolor\":\"white\",\"linecolor\":\"white\",\"ticks\":\"\"},\"caxis\":{\"gridcolor\":\"white\",\"linecolor\":\"white\",\"ticks\":\"\"}},\"coloraxis\":{\"colorbar\":{\"outlinewidth\":0,\"ticks\":\"\"}},\"colorscale\":{\"sequential\":[[0.0,\"#0d0887\"],[0.1111111111111111,\"#46039f\"],[0.2222222222222222,\"#7201a8\"],[0.3333333333333333,\"#9c179e\"],[0.4444444444444444,\"#bd3786\"],[0.5555555555555556,\"#d8576b\"],[0.6666666666666666,\"#ed7953\"],[0.7777777777777778,\"#fb9f3a\"],[0.8888888888888888,\"#fdca26\"],[1.0,\"#f0f921\"]],\"sequentialminus\":[[0.0,\"#0d0887\"],[0.1111111111111111,\"#46039f\"],[0.2222222222222222,\"#7201a8\"],[0.3333333333333333,\"#9c179e\"],[0.4444444444444444,\"#bd3786\"],[0.5555555555555556,\"#d8576b\"],[0.6666666666666666,\"#ed7953\"],[0.7777777777777778,\"#fb9f3a\"],[0.8888888888888888,\"#fdca26\"],[1.0,\"#f0f921\"]],\"diverging\":[[0,\"#8e0152\"],[0.1,\"#c51b7d\"],[0.2,\"#de77ae\"],[0.3,\"#f1b6da\"],[0.4,\"#fde0ef\"],[0.5,\"#f7f7f7\"],[0.6,\"#e6f5d0\"],[0.7,\"#b8e186\"],[0.8,\"#7fbc41\"],[0.9,\"#4d9221\"],[1,\"#276419\"]]},\"xaxis\":{\"gridcolor\":\"white\",\"linecolor\":\"white\",\"ticks\":\"\",\"title\":{\"standoff\":15},\"zerolinecolor\":\"white\",\"automargin\":true,\"zerolinewidth\":2},\"yaxis\":{\"gridcolor\":\"white\",\"linecolor\":\"white\",\"ticks\":\"\",\"title\":{\"standoff\":15},\"zerolinecolor\":\"white\",\"automargin\":true,\"zerolinewidth\":2},\"scene\":{\"xaxis\":{\"backgroundcolor\":\"#E5ECF6\",\"gridcolor\":\"white\",\"linecolor\":\"white\",\"showbackground\":true,\"ticks\":\"\",\"zerolinecolor\":\"white\",\"gridwidth\":2},\"yaxis\":{\"backgroundcolor\":\"#E5ECF6\",\"gridcolor\":\"white\",\"linecolor\":\"white\",\"showbackground\":true,\"ticks\":\"\",\"zerolinecolor\":\"white\",\"gridwidth\":2},\"zaxis\":{\"backgroundcolor\":\"#E5ECF6\",\"gridcolor\":\"white\",\"linecolor\":\"white\",\"showbackground\":true,\"ticks\":\"\",\"zerolinecolor\":\"white\",\"gridwidth\":2}},\"shapedefaults\":{\"line\":{\"color\":\"#2a3f5f\"}},\"annotationdefaults\":{\"arrowcolor\":\"#2a3f5f\",\"arrowhead\":0,\"arrowwidth\":1},\"geo\":{\"bgcolor\":\"white\",\"landcolor\":\"#E5ECF6\",\"subunitcolor\":\"white\",\"showland\":true,\"showlakes\":true,\"lakecolor\":\"white\"},\"title\":{\"x\":0.05},\"mapbox\":{\"style\":\"light\"}}},\"xaxis\":{\"anchor\":\"y\",\"domain\":[0.0,1.0],\"scaleanchor\":\"y\",\"constrain\":\"domain\",\"title\":{\"text\":\"Head\"}},\"yaxis\":{\"anchor\":\"x\",\"domain\":[0.0,1.0],\"autorange\":\"reversed\",\"constrain\":\"domain\",\"title\":{\"text\":\"Layer\"}},\"coloraxis\":{\"colorscale\":[[0.0,\"rgb(103,0,31)\"],[0.1,\"rgb(178,24,43)\"],[0.2,\"rgb(214,96,77)\"],[0.3,\"rgb(244,165,130)\"],[0.4,\"rgb(253,219,199)\"],[0.5,\"rgb(247,247,247)\"],[0.6,\"rgb(209,229,240)\"],[0.7,\"rgb(146,197,222)\"],[0.8,\"rgb(67,147,195)\"],[0.9,\"rgb(33,102,172)\"],[1.0,\"rgb(5,48,97)\"]],\"cmid\":0.0},\"title\":{\"text\":\"Ablated Average Logit Difference From Heads \\u003cbr\\u003e [(11, 10), (9, 9), (9, 6), (8, 10), (7, 3), (7, 9), (10, 10), (10, 0), (10, 6), (8, 6)]\"},\"width\":600},                        {\"responsive\": true}                    ).then(function(){\n",
       "                            \n",
       "var gd = document.getElementById('3221ae5f-4425-4193-a8c5-454bb7b3ad1c');\n",
       "var x = new MutationObserver(function (mutations, observer) {{\n",
       "        var display = window.getComputedStyle(gd).display;\n",
       "        if (!display || display === 'none') {{\n",
       "            console.log([gd, 'removed!']);\n",
       "            Plotly.purge(gd);\n",
       "            observer.disconnect();\n",
       "        }}\n",
       "}});\n",
       "\n",
       "// Listen for the removal of the full notebook cells\n",
       "var notebookContainer = gd.closest('#notebook-container');\n",
       "if (notebookContainer) {{\n",
       "    x.observe(notebookContainer, {childList: true});\n",
       "}}\n",
       "\n",
       "// Listen for the clearing of the current output cell\n",
       "var outputEl = gd.closest('.output');\n",
       "if (outputEl) {{\n",
       "    x.observe(outputEl, {childList: true});\n",
       "}}\n",
       "\n",
       "                        })                };                });            </script>        </div>"
      ]
     },
     "metadata": {},
     "output_type": "display_data"
    },
    {
     "data": {
      "text/html": [
       "<div>                            <div id=\"00acc79e-0fff-499e-b708-4bf32ba8d7e7\" class=\"plotly-graph-div\" style=\"height:525px; width:600px;\"></div>            <script type=\"text/javascript\">                require([\"plotly\"], function(Plotly) {                    window.PLOTLYENV=window.PLOTLYENV || {};                                    if (document.getElementById(\"00acc79e-0fff-499e-b708-4bf32ba8d7e7\")) {                    Plotly.newPlot(                        \"00acc79e-0fff-499e-b708-4bf32ba8d7e7\",                        [{\"coloraxis\":\"coloraxis\",\"name\":\"0\",\"texttemplate\":\"%{z:.2f}\",\"z\":[[-0.012587600387632847,-0.008707014843821526,0.005496960133314133,0.009066679514944553,-0.014161978848278522,0.007981040515005589,0.03276020288467407,-0.01725582592189312,-0.023238414898514748,0.019178831949830055,-0.0036493379157036543,-0.01283340621739626],[-0.012414127588272095,0.006029746029525995,-0.015622226521372795,-0.0019299971172586083,-0.02565990388393402,-0.013691000640392303,-0.03193823993206024,0.027271924540400505,0.007085433229804039,0.011028318665921688,0.03534867614507675,0.02832869067788124],[-0.022019295021891594,-0.002477796282619238,-0.008400780148804188,-0.021309224888682365,0.02243633382022381,0.0061962720938026905,0.011844797991216183,0.017091773450374603,-0.00444812560454011,-0.009611849673092365,-0.018890831619501114,-0.002561710076406598],[-0.0056066070683300495,0.006985671352595091,0.0039007198065519333,0.009049597196280956,0.00968656875193119,-0.005670417100191116,-0.0011112510692328215,-0.015285443514585495,0.0011934482026845217,-0.003832635236904025,-0.0157929640263319,-0.034368228167295456],[-0.003241018857806921,-0.0066642193123698235,0.004931232426315546,-0.021356722339987755,0.010720604099333286,-0.006931202951818705,-0.0235702246427536,0.02432810515165329,-0.020469915121793747,-0.009040586650371552,0.01349125150591135,6.487932114396244e-05],[0.0033155109267681837,0.018432343378663063,-0.04400107264518738,-0.00710219144821167,-0.010503290221095085,0.003782103070989251,0.0013763019815087318,0.010714801959693432,-0.006912779062986374,0.0018515668343752623,0.0024033691734075546,-0.0021265018731355667],[0.00505733722820878,-0.00812886655330658,-0.0066036502830684185,-0.026222657412290573,-0.034326162189245224,0.007707745768129826,0.02026611566543579,0.007494175340980291,0.007481186650693417,0.013482289388775826,0.004751341883093119,-0.020062237977981567],[0.007763172034174204,-0.0022502487991005182,0.01266175415366888,0.0507858470082283,-0.009018647484481335,-0.04066959396004677,0.02915167436003685,-0.0017908848822116852,0.030133727937936783,0.11138378828763962,0.011122949421405792,0.013020520098507404],[-0.012124534696340561,0.0053047542460262775,-0.07107118517160416,0.06783072650432587,-0.021657660603523254,-0.0036437755916267633,-0.12489873915910721,0.017562123015522957,-0.029328718781471252,0.013222884386777878,0.34192168712615967,-0.09777767211198807],[0.03323594108223915,0.00026675211847759783,0.012995777651667595,-0.0008244148921221495,0.03404053673148155,0.01652575097978115,0.8987456560134888,0.045334190130233765,-0.39637088775634766,2.583056688308716,0.008860527537763119,-0.010974754579365253],[0.5067570805549622,0.2601747512817383,-0.3756616413593292,0.15657371282577515,0.0017974419752135873,0.0053696222603321075,0.4362577795982361,-1.6440242528915405,-0.01422371156513691,-0.03218573331832886,0.41088053584098816,-0.01565108262002468],[0.02496120147407055,0.25108423829078674,-0.4863060414791107,0.0680047944188118,-0.008186056278645992,-0.04012352228164673,-0.08524330705404282,0.002349080052226782,0.051936667412519455,-0.005271407775580883,-0.7564656138420105,0.09994823485612869]],\"type\":\"heatmap\",\"xaxis\":\"x\",\"yaxis\":\"y\",\"hovertemplate\":\"Head: %{x}\\u003cbr\\u003eLayer: %{y}\\u003cbr\\u003ecolor: %{z}\\u003cextra\\u003e\\u003c\\u002fextra\\u003e\"}],                        {\"template\":{\"data\":{\"histogram2dcontour\":[{\"type\":\"histogram2dcontour\",\"colorbar\":{\"outlinewidth\":0,\"ticks\":\"\"},\"colorscale\":[[0.0,\"#0d0887\"],[0.1111111111111111,\"#46039f\"],[0.2222222222222222,\"#7201a8\"],[0.3333333333333333,\"#9c179e\"],[0.4444444444444444,\"#bd3786\"],[0.5555555555555556,\"#d8576b\"],[0.6666666666666666,\"#ed7953\"],[0.7777777777777778,\"#fb9f3a\"],[0.8888888888888888,\"#fdca26\"],[1.0,\"#f0f921\"]]}],\"choropleth\":[{\"type\":\"choropleth\",\"colorbar\":{\"outlinewidth\":0,\"ticks\":\"\"}}],\"histogram2d\":[{\"type\":\"histogram2d\",\"colorbar\":{\"outlinewidth\":0,\"ticks\":\"\"},\"colorscale\":[[0.0,\"#0d0887\"],[0.1111111111111111,\"#46039f\"],[0.2222222222222222,\"#7201a8\"],[0.3333333333333333,\"#9c179e\"],[0.4444444444444444,\"#bd3786\"],[0.5555555555555556,\"#d8576b\"],[0.6666666666666666,\"#ed7953\"],[0.7777777777777778,\"#fb9f3a\"],[0.8888888888888888,\"#fdca26\"],[1.0,\"#f0f921\"]]}],\"heatmap\":[{\"type\":\"heatmap\",\"colorbar\":{\"outlinewidth\":0,\"ticks\":\"\"},\"colorscale\":[[0.0,\"#0d0887\"],[0.1111111111111111,\"#46039f\"],[0.2222222222222222,\"#7201a8\"],[0.3333333333333333,\"#9c179e\"],[0.4444444444444444,\"#bd3786\"],[0.5555555555555556,\"#d8576b\"],[0.6666666666666666,\"#ed7953\"],[0.7777777777777778,\"#fb9f3a\"],[0.8888888888888888,\"#fdca26\"],[1.0,\"#f0f921\"]]}],\"heatmapgl\":[{\"type\":\"heatmapgl\",\"colorbar\":{\"outlinewidth\":0,\"ticks\":\"\"},\"colorscale\":[[0.0,\"#0d0887\"],[0.1111111111111111,\"#46039f\"],[0.2222222222222222,\"#7201a8\"],[0.3333333333333333,\"#9c179e\"],[0.4444444444444444,\"#bd3786\"],[0.5555555555555556,\"#d8576b\"],[0.6666666666666666,\"#ed7953\"],[0.7777777777777778,\"#fb9f3a\"],[0.8888888888888888,\"#fdca26\"],[1.0,\"#f0f921\"]]}],\"contourcarpet\":[{\"type\":\"contourcarpet\",\"colorbar\":{\"outlinewidth\":0,\"ticks\":\"\"}}],\"contour\":[{\"type\":\"contour\",\"colorbar\":{\"outlinewidth\":0,\"ticks\":\"\"},\"colorscale\":[[0.0,\"#0d0887\"],[0.1111111111111111,\"#46039f\"],[0.2222222222222222,\"#7201a8\"],[0.3333333333333333,\"#9c179e\"],[0.4444444444444444,\"#bd3786\"],[0.5555555555555556,\"#d8576b\"],[0.6666666666666666,\"#ed7953\"],[0.7777777777777778,\"#fb9f3a\"],[0.8888888888888888,\"#fdca26\"],[1.0,\"#f0f921\"]]}],\"surface\":[{\"type\":\"surface\",\"colorbar\":{\"outlinewidth\":0,\"ticks\":\"\"},\"colorscale\":[[0.0,\"#0d0887\"],[0.1111111111111111,\"#46039f\"],[0.2222222222222222,\"#7201a8\"],[0.3333333333333333,\"#9c179e\"],[0.4444444444444444,\"#bd3786\"],[0.5555555555555556,\"#d8576b\"],[0.6666666666666666,\"#ed7953\"],[0.7777777777777778,\"#fb9f3a\"],[0.8888888888888888,\"#fdca26\"],[1.0,\"#f0f921\"]]}],\"mesh3d\":[{\"type\":\"mesh3d\",\"colorbar\":{\"outlinewidth\":0,\"ticks\":\"\"}}],\"scatter\":[{\"fillpattern\":{\"fillmode\":\"overlay\",\"size\":10,\"solidity\":0.2},\"type\":\"scatter\"}],\"parcoords\":[{\"type\":\"parcoords\",\"line\":{\"colorbar\":{\"outlinewidth\":0,\"ticks\":\"\"}}}],\"scatterpolargl\":[{\"type\":\"scatterpolargl\",\"marker\":{\"colorbar\":{\"outlinewidth\":0,\"ticks\":\"\"}}}],\"bar\":[{\"error_x\":{\"color\":\"#2a3f5f\"},\"error_y\":{\"color\":\"#2a3f5f\"},\"marker\":{\"line\":{\"color\":\"#E5ECF6\",\"width\":0.5},\"pattern\":{\"fillmode\":\"overlay\",\"size\":10,\"solidity\":0.2}},\"type\":\"bar\"}],\"scattergeo\":[{\"type\":\"scattergeo\",\"marker\":{\"colorbar\":{\"outlinewidth\":0,\"ticks\":\"\"}}}],\"scatterpolar\":[{\"type\":\"scatterpolar\",\"marker\":{\"colorbar\":{\"outlinewidth\":0,\"ticks\":\"\"}}}],\"histogram\":[{\"marker\":{\"pattern\":{\"fillmode\":\"overlay\",\"size\":10,\"solidity\":0.2}},\"type\":\"histogram\"}],\"scattergl\":[{\"type\":\"scattergl\",\"marker\":{\"colorbar\":{\"outlinewidth\":0,\"ticks\":\"\"}}}],\"scatter3d\":[{\"type\":\"scatter3d\",\"line\":{\"colorbar\":{\"outlinewidth\":0,\"ticks\":\"\"}},\"marker\":{\"colorbar\":{\"outlinewidth\":0,\"ticks\":\"\"}}}],\"scattermapbox\":[{\"type\":\"scattermapbox\",\"marker\":{\"colorbar\":{\"outlinewidth\":0,\"ticks\":\"\"}}}],\"scatterternary\":[{\"type\":\"scatterternary\",\"marker\":{\"colorbar\":{\"outlinewidth\":0,\"ticks\":\"\"}}}],\"scattercarpet\":[{\"type\":\"scattercarpet\",\"marker\":{\"colorbar\":{\"outlinewidth\":0,\"ticks\":\"\"}}}],\"carpet\":[{\"aaxis\":{\"endlinecolor\":\"#2a3f5f\",\"gridcolor\":\"white\",\"linecolor\":\"white\",\"minorgridcolor\":\"white\",\"startlinecolor\":\"#2a3f5f\"},\"baxis\":{\"endlinecolor\":\"#2a3f5f\",\"gridcolor\":\"white\",\"linecolor\":\"white\",\"minorgridcolor\":\"white\",\"startlinecolor\":\"#2a3f5f\"},\"type\":\"carpet\"}],\"table\":[{\"cells\":{\"fill\":{\"color\":\"#EBF0F8\"},\"line\":{\"color\":\"white\"}},\"header\":{\"fill\":{\"color\":\"#C8D4E3\"},\"line\":{\"color\":\"white\"}},\"type\":\"table\"}],\"barpolar\":[{\"marker\":{\"line\":{\"color\":\"#E5ECF6\",\"width\":0.5},\"pattern\":{\"fillmode\":\"overlay\",\"size\":10,\"solidity\":0.2}},\"type\":\"barpolar\"}],\"pie\":[{\"automargin\":true,\"type\":\"pie\"}]},\"layout\":{\"autotypenumbers\":\"strict\",\"colorway\":[\"#636efa\",\"#EF553B\",\"#00cc96\",\"#ab63fa\",\"#FFA15A\",\"#19d3f3\",\"#FF6692\",\"#B6E880\",\"#FF97FF\",\"#FECB52\"],\"font\":{\"color\":\"#2a3f5f\"},\"hovermode\":\"closest\",\"hoverlabel\":{\"align\":\"left\"},\"paper_bgcolor\":\"white\",\"plot_bgcolor\":\"#E5ECF6\",\"polar\":{\"bgcolor\":\"#E5ECF6\",\"angularaxis\":{\"gridcolor\":\"white\",\"linecolor\":\"white\",\"ticks\":\"\"},\"radialaxis\":{\"gridcolor\":\"white\",\"linecolor\":\"white\",\"ticks\":\"\"}},\"ternary\":{\"bgcolor\":\"#E5ECF6\",\"aaxis\":{\"gridcolor\":\"white\",\"linecolor\":\"white\",\"ticks\":\"\"},\"baxis\":{\"gridcolor\":\"white\",\"linecolor\":\"white\",\"ticks\":\"\"},\"caxis\":{\"gridcolor\":\"white\",\"linecolor\":\"white\",\"ticks\":\"\"}},\"coloraxis\":{\"colorbar\":{\"outlinewidth\":0,\"ticks\":\"\"}},\"colorscale\":{\"sequential\":[[0.0,\"#0d0887\"],[0.1111111111111111,\"#46039f\"],[0.2222222222222222,\"#7201a8\"],[0.3333333333333333,\"#9c179e\"],[0.4444444444444444,\"#bd3786\"],[0.5555555555555556,\"#d8576b\"],[0.6666666666666666,\"#ed7953\"],[0.7777777777777778,\"#fb9f3a\"],[0.8888888888888888,\"#fdca26\"],[1.0,\"#f0f921\"]],\"sequentialminus\":[[0.0,\"#0d0887\"],[0.1111111111111111,\"#46039f\"],[0.2222222222222222,\"#7201a8\"],[0.3333333333333333,\"#9c179e\"],[0.4444444444444444,\"#bd3786\"],[0.5555555555555556,\"#d8576b\"],[0.6666666666666666,\"#ed7953\"],[0.7777777777777778,\"#fb9f3a\"],[0.8888888888888888,\"#fdca26\"],[1.0,\"#f0f921\"]],\"diverging\":[[0,\"#8e0152\"],[0.1,\"#c51b7d\"],[0.2,\"#de77ae\"],[0.3,\"#f1b6da\"],[0.4,\"#fde0ef\"],[0.5,\"#f7f7f7\"],[0.6,\"#e6f5d0\"],[0.7,\"#b8e186\"],[0.8,\"#7fbc41\"],[0.9,\"#4d9221\"],[1,\"#276419\"]]},\"xaxis\":{\"gridcolor\":\"white\",\"linecolor\":\"white\",\"ticks\":\"\",\"title\":{\"standoff\":15},\"zerolinecolor\":\"white\",\"automargin\":true,\"zerolinewidth\":2},\"yaxis\":{\"gridcolor\":\"white\",\"linecolor\":\"white\",\"ticks\":\"\",\"title\":{\"standoff\":15},\"zerolinecolor\":\"white\",\"automargin\":true,\"zerolinewidth\":2},\"scene\":{\"xaxis\":{\"backgroundcolor\":\"#E5ECF6\",\"gridcolor\":\"white\",\"linecolor\":\"white\",\"showbackground\":true,\"ticks\":\"\",\"zerolinecolor\":\"white\",\"gridwidth\":2},\"yaxis\":{\"backgroundcolor\":\"#E5ECF6\",\"gridcolor\":\"white\",\"linecolor\":\"white\",\"showbackground\":true,\"ticks\":\"\",\"zerolinecolor\":\"white\",\"gridwidth\":2},\"zaxis\":{\"backgroundcolor\":\"#E5ECF6\",\"gridcolor\":\"white\",\"linecolor\":\"white\",\"showbackground\":true,\"ticks\":\"\",\"zerolinecolor\":\"white\",\"gridwidth\":2}},\"shapedefaults\":{\"line\":{\"color\":\"#2a3f5f\"}},\"annotationdefaults\":{\"arrowcolor\":\"#2a3f5f\",\"arrowhead\":0,\"arrowwidth\":1},\"geo\":{\"bgcolor\":\"white\",\"landcolor\":\"#E5ECF6\",\"subunitcolor\":\"white\",\"showland\":true,\"showlakes\":true,\"lakecolor\":\"white\"},\"title\":{\"x\":0.05},\"mapbox\":{\"style\":\"light\"}}},\"xaxis\":{\"anchor\":\"y\",\"domain\":[0.0,1.0],\"scaleanchor\":\"y\",\"constrain\":\"domain\",\"title\":{\"text\":\"Head\"}},\"yaxis\":{\"anchor\":\"x\",\"domain\":[0.0,1.0],\"autorange\":\"reversed\",\"constrain\":\"domain\",\"title\":{\"text\":\"Layer\"}},\"coloraxis\":{\"colorscale\":[[0.0,\"rgb(103,0,31)\"],[0.1,\"rgb(178,24,43)\"],[0.2,\"rgb(214,96,77)\"],[0.3,\"rgb(244,165,130)\"],[0.4,\"rgb(253,219,199)\"],[0.5,\"rgb(247,247,247)\"],[0.6,\"rgb(209,229,240)\"],[0.7,\"rgb(146,197,222)\"],[0.8,\"rgb(67,147,195)\"],[0.9,\"rgb(33,102,172)\"],[1.0,\"rgb(5,48,97)\"]],\"cmid\":0.0},\"title\":{\"text\":\"Unablated Average Logit Difference From Each Head\"},\"width\":600},                        {\"responsive\": true}                    ).then(function(){\n",
       "                            \n",
       "var gd = document.getElementById('00acc79e-0fff-499e-b708-4bf32ba8d7e7');\n",
       "var x = new MutationObserver(function (mutations, observer) {{\n",
       "        var display = window.getComputedStyle(gd).display;\n",
       "        if (!display || display === 'none') {{\n",
       "            console.log([gd, 'removed!']);\n",
       "            Plotly.purge(gd);\n",
       "            observer.disconnect();\n",
       "        }}\n",
       "}});\n",
       "\n",
       "// Listen for the removal of the full notebook cells\n",
       "var notebookContainer = gd.closest('#notebook-container');\n",
       "if (notebookContainer) {{\n",
       "    x.observe(notebookContainer, {childList: true});\n",
       "}}\n",
       "\n",
       "// Listen for the clearing of the current output cell\n",
       "var outputEl = gd.closest('.output');\n",
       "if (outputEl) {{\n",
       "    x.observe(outputEl, {childList: true});\n",
       "}}\n",
       "\n",
       "                        })                };                });            </script>        </div>"
      ]
     },
     "metadata": {},
     "output_type": "display_data"
    },
    {
     "name": "stdout",
     "output_type": "stream",
     "text": [
      "Logit difference accuracy:  1.000\n",
      "Average logit difference: 3.416\n",
      "Logit difference accuracy:  0.545\n",
      "Average logit difference: 0.732\n"
     ]
    },
    {
     "data": {
      "text/html": [
       "<div>                            <div id=\"44c75997-eb9b-40c3-a9aa-7bb80636fd19\" class=\"plotly-graph-div\" style=\"height:525px; width:600px;\"></div>            <script type=\"text/javascript\">                require([\"plotly\"], function(Plotly) {                    window.PLOTLYENV=window.PLOTLYENV || {};                                    if (document.getElementById(\"44c75997-eb9b-40c3-a9aa-7bb80636fd19\")) {                    Plotly.newPlot(                        \"44c75997-eb9b-40c3-a9aa-7bb80636fd19\",                        [{\"coloraxis\":\"coloraxis\",\"name\":\"0\",\"texttemplate\":\"%{z:.2f}\",\"z\":[[0.0070024337619543076,0.009112967178225517,-0.006557908374816179,-0.010323863476514816,0.013393139466643333,-0.008607201278209686,-0.046242326498031616,0.010361209511756897,0.023921290412545204,-0.01988041400909424,0.0027907812036573887,0.011568444781005383],[0.012395394034683704,-0.0058858031406998634,0.017422586679458618,0.0035731021780520678,0.021758053451776505,0.014419500716030598,0.028863584622740746,-0.03764443099498749,-0.0009209825657308102,-0.00800996646285057,-0.0366985909640789,-0.026690542697906494],[0.021784916520118713,0.00037883088225498796,0.007368552498519421,0.021819189190864563,-0.02484077773988247,-0.004428484011441469,-0.008859606459736824,-0.01021664310246706,0.0055915056727826595,0.006093787960708141,0.016536572948098183,0.004058240447193384],[0.005528657231479883,-0.00789042841643095,-0.0028197821229696274,-0.009512055665254593,-0.009343035519123077,0.0034098755568265915,-3.893470420734957e-05,0.014578349888324738,-5.838021024828777e-05,0.005021756514906883,0.013521247543394566,0.034474194049835205],[0.001161778112873435,0.007108427584171295,-0.006974565330892801,0.020482590422034264,-0.008936071768403053,0.006946826819330454,0.02307467721402645,-0.027232907712459564,0.02016843482851982,0.0075403847731649876,-0.013336732052266598,0.0008580386638641357],[-0.0024340953677892685,-0.01934218965470791,0.04639960080385208,0.004725922830402851,0.010392831638455391,-0.004722534213215113,-0.0017077814554795623,-0.01003283727914095,0.009173610247671604,-0.004568961448967457,-0.01118320319801569,0.006269487552344799],[-0.015765469521284103,-0.002839900553226471,0.011643716134130955,0.027406033128499985,0.027052143588662148,-0.00436480762436986,-0.01527346484363079,-0.012644452042877674,-0.008884747512638569,-0.017947355285286903,-0.006067703478038311,0.022314151749014854],[-0.008607687428593636,-0.003540638368576765,-0.014483454637229443,0.026743214577436447,0.006222710944712162,0.023020831868052483,-0.026701709255576134,-0.0011772244470193982,-0.0387844555079937,0.013722111470997334,-0.014127489179372787,-0.01856987550854683],[0.013436974957585335,-0.0075965337455272675,0.03903994709253311,-0.06056838855147362,0.025794148445129395,0.008677785284817219,0.005688689183443785,-0.01750694215297699,-0.003943321295082569,-0.004608552902936935,0.003461291315034032,0.06449790298938751],[-0.03054020181298256,-0.0008062149863690138,-0.019220367074012756,0.004127589054405689,-0.07823196798563004,0.08228311687707901,0.017455745488405228,0.13012878596782684,0.2267819344997406,0.043569449335336685,-0.009038503281772137,-0.011925136670470238],[-0.0018375845393165946,-0.1316368281841278,0.468192994594574,-0.18219202756881714,-0.012073674239218235,-0.007134448736906052,0.011678129434585571,0.48858878016471863,0.017443552613258362,0.012067803181707859,-0.030884578824043274,-0.02949623204767704],[0.042194660753011703,-0.4465789198875427,0.05387372523546219,0.00011042031837860122,0.018651435151696205,0.062403604388237,0.02911614440381527,0.02372913993895054,-0.018317485228180885,-0.010560231283307076,0.017715055495500565,-0.0556257963180542]],\"type\":\"heatmap\",\"xaxis\":\"x\",\"yaxis\":\"y\",\"hovertemplate\":\"Head: %{x}\\u003cbr\\u003eLayer: %{y}\\u003cbr\\u003ecolor: %{z}\\u003cextra\\u003e\\u003c\\u002fextra\\u003e\"}],                        {\"template\":{\"data\":{\"histogram2dcontour\":[{\"type\":\"histogram2dcontour\",\"colorbar\":{\"outlinewidth\":0,\"ticks\":\"\"},\"colorscale\":[[0.0,\"#0d0887\"],[0.1111111111111111,\"#46039f\"],[0.2222222222222222,\"#7201a8\"],[0.3333333333333333,\"#9c179e\"],[0.4444444444444444,\"#bd3786\"],[0.5555555555555556,\"#d8576b\"],[0.6666666666666666,\"#ed7953\"],[0.7777777777777778,\"#fb9f3a\"],[0.8888888888888888,\"#fdca26\"],[1.0,\"#f0f921\"]]}],\"choropleth\":[{\"type\":\"choropleth\",\"colorbar\":{\"outlinewidth\":0,\"ticks\":\"\"}}],\"histogram2d\":[{\"type\":\"histogram2d\",\"colorbar\":{\"outlinewidth\":0,\"ticks\":\"\"},\"colorscale\":[[0.0,\"#0d0887\"],[0.1111111111111111,\"#46039f\"],[0.2222222222222222,\"#7201a8\"],[0.3333333333333333,\"#9c179e\"],[0.4444444444444444,\"#bd3786\"],[0.5555555555555556,\"#d8576b\"],[0.6666666666666666,\"#ed7953\"],[0.7777777777777778,\"#fb9f3a\"],[0.8888888888888888,\"#fdca26\"],[1.0,\"#f0f921\"]]}],\"heatmap\":[{\"type\":\"heatmap\",\"colorbar\":{\"outlinewidth\":0,\"ticks\":\"\"},\"colorscale\":[[0.0,\"#0d0887\"],[0.1111111111111111,\"#46039f\"],[0.2222222222222222,\"#7201a8\"],[0.3333333333333333,\"#9c179e\"],[0.4444444444444444,\"#bd3786\"],[0.5555555555555556,\"#d8576b\"],[0.6666666666666666,\"#ed7953\"],[0.7777777777777778,\"#fb9f3a\"],[0.8888888888888888,\"#fdca26\"],[1.0,\"#f0f921\"]]}],\"heatmapgl\":[{\"type\":\"heatmapgl\",\"colorbar\":{\"outlinewidth\":0,\"ticks\":\"\"},\"colorscale\":[[0.0,\"#0d0887\"],[0.1111111111111111,\"#46039f\"],[0.2222222222222222,\"#7201a8\"],[0.3333333333333333,\"#9c179e\"],[0.4444444444444444,\"#bd3786\"],[0.5555555555555556,\"#d8576b\"],[0.6666666666666666,\"#ed7953\"],[0.7777777777777778,\"#fb9f3a\"],[0.8888888888888888,\"#fdca26\"],[1.0,\"#f0f921\"]]}],\"contourcarpet\":[{\"type\":\"contourcarpet\",\"colorbar\":{\"outlinewidth\":0,\"ticks\":\"\"}}],\"contour\":[{\"type\":\"contour\",\"colorbar\":{\"outlinewidth\":0,\"ticks\":\"\"},\"colorscale\":[[0.0,\"#0d0887\"],[0.1111111111111111,\"#46039f\"],[0.2222222222222222,\"#7201a8\"],[0.3333333333333333,\"#9c179e\"],[0.4444444444444444,\"#bd3786\"],[0.5555555555555556,\"#d8576b\"],[0.6666666666666666,\"#ed7953\"],[0.7777777777777778,\"#fb9f3a\"],[0.8888888888888888,\"#fdca26\"],[1.0,\"#f0f921\"]]}],\"surface\":[{\"type\":\"surface\",\"colorbar\":{\"outlinewidth\":0,\"ticks\":\"\"},\"colorscale\":[[0.0,\"#0d0887\"],[0.1111111111111111,\"#46039f\"],[0.2222222222222222,\"#7201a8\"],[0.3333333333333333,\"#9c179e\"],[0.4444444444444444,\"#bd3786\"],[0.5555555555555556,\"#d8576b\"],[0.6666666666666666,\"#ed7953\"],[0.7777777777777778,\"#fb9f3a\"],[0.8888888888888888,\"#fdca26\"],[1.0,\"#f0f921\"]]}],\"mesh3d\":[{\"type\":\"mesh3d\",\"colorbar\":{\"outlinewidth\":0,\"ticks\":\"\"}}],\"scatter\":[{\"fillpattern\":{\"fillmode\":\"overlay\",\"size\":10,\"solidity\":0.2},\"type\":\"scatter\"}],\"parcoords\":[{\"type\":\"parcoords\",\"line\":{\"colorbar\":{\"outlinewidth\":0,\"ticks\":\"\"}}}],\"scatterpolargl\":[{\"type\":\"scatterpolargl\",\"marker\":{\"colorbar\":{\"outlinewidth\":0,\"ticks\":\"\"}}}],\"bar\":[{\"error_x\":{\"color\":\"#2a3f5f\"},\"error_y\":{\"color\":\"#2a3f5f\"},\"marker\":{\"line\":{\"color\":\"#E5ECF6\",\"width\":0.5},\"pattern\":{\"fillmode\":\"overlay\",\"size\":10,\"solidity\":0.2}},\"type\":\"bar\"}],\"scattergeo\":[{\"type\":\"scattergeo\",\"marker\":{\"colorbar\":{\"outlinewidth\":0,\"ticks\":\"\"}}}],\"scatterpolar\":[{\"type\":\"scatterpolar\",\"marker\":{\"colorbar\":{\"outlinewidth\":0,\"ticks\":\"\"}}}],\"histogram\":[{\"marker\":{\"pattern\":{\"fillmode\":\"overlay\",\"size\":10,\"solidity\":0.2}},\"type\":\"histogram\"}],\"scattergl\":[{\"type\":\"scattergl\",\"marker\":{\"colorbar\":{\"outlinewidth\":0,\"ticks\":\"\"}}}],\"scatter3d\":[{\"type\":\"scatter3d\",\"line\":{\"colorbar\":{\"outlinewidth\":0,\"ticks\":\"\"}},\"marker\":{\"colorbar\":{\"outlinewidth\":0,\"ticks\":\"\"}}}],\"scattermapbox\":[{\"type\":\"scattermapbox\",\"marker\":{\"colorbar\":{\"outlinewidth\":0,\"ticks\":\"\"}}}],\"scatterternary\":[{\"type\":\"scatterternary\",\"marker\":{\"colorbar\":{\"outlinewidth\":0,\"ticks\":\"\"}}}],\"scattercarpet\":[{\"type\":\"scattercarpet\",\"marker\":{\"colorbar\":{\"outlinewidth\":0,\"ticks\":\"\"}}}],\"carpet\":[{\"aaxis\":{\"endlinecolor\":\"#2a3f5f\",\"gridcolor\":\"white\",\"linecolor\":\"white\",\"minorgridcolor\":\"white\",\"startlinecolor\":\"#2a3f5f\"},\"baxis\":{\"endlinecolor\":\"#2a3f5f\",\"gridcolor\":\"white\",\"linecolor\":\"white\",\"minorgridcolor\":\"white\",\"startlinecolor\":\"#2a3f5f\"},\"type\":\"carpet\"}],\"table\":[{\"cells\":{\"fill\":{\"color\":\"#EBF0F8\"},\"line\":{\"color\":\"white\"}},\"header\":{\"fill\":{\"color\":\"#C8D4E3\"},\"line\":{\"color\":\"white\"}},\"type\":\"table\"}],\"barpolar\":[{\"marker\":{\"line\":{\"color\":\"#E5ECF6\",\"width\":0.5},\"pattern\":{\"fillmode\":\"overlay\",\"size\":10,\"solidity\":0.2}},\"type\":\"barpolar\"}],\"pie\":[{\"automargin\":true,\"type\":\"pie\"}]},\"layout\":{\"autotypenumbers\":\"strict\",\"colorway\":[\"#636efa\",\"#EF553B\",\"#00cc96\",\"#ab63fa\",\"#FFA15A\",\"#19d3f3\",\"#FF6692\",\"#B6E880\",\"#FF97FF\",\"#FECB52\"],\"font\":{\"color\":\"#2a3f5f\"},\"hovermode\":\"closest\",\"hoverlabel\":{\"align\":\"left\"},\"paper_bgcolor\":\"white\",\"plot_bgcolor\":\"#E5ECF6\",\"polar\":{\"bgcolor\":\"#E5ECF6\",\"angularaxis\":{\"gridcolor\":\"white\",\"linecolor\":\"white\",\"ticks\":\"\"},\"radialaxis\":{\"gridcolor\":\"white\",\"linecolor\":\"white\",\"ticks\":\"\"}},\"ternary\":{\"bgcolor\":\"#E5ECF6\",\"aaxis\":{\"gridcolor\":\"white\",\"linecolor\":\"white\",\"ticks\":\"\"},\"baxis\":{\"gridcolor\":\"white\",\"linecolor\":\"white\",\"ticks\":\"\"},\"caxis\":{\"gridcolor\":\"white\",\"linecolor\":\"white\",\"ticks\":\"\"}},\"coloraxis\":{\"colorbar\":{\"outlinewidth\":0,\"ticks\":\"\"}},\"colorscale\":{\"sequential\":[[0.0,\"#0d0887\"],[0.1111111111111111,\"#46039f\"],[0.2222222222222222,\"#7201a8\"],[0.3333333333333333,\"#9c179e\"],[0.4444444444444444,\"#bd3786\"],[0.5555555555555556,\"#d8576b\"],[0.6666666666666666,\"#ed7953\"],[0.7777777777777778,\"#fb9f3a\"],[0.8888888888888888,\"#fdca26\"],[1.0,\"#f0f921\"]],\"sequentialminus\":[[0.0,\"#0d0887\"],[0.1111111111111111,\"#46039f\"],[0.2222222222222222,\"#7201a8\"],[0.3333333333333333,\"#9c179e\"],[0.4444444444444444,\"#bd3786\"],[0.5555555555555556,\"#d8576b\"],[0.6666666666666666,\"#ed7953\"],[0.7777777777777778,\"#fb9f3a\"],[0.8888888888888888,\"#fdca26\"],[1.0,\"#f0f921\"]],\"diverging\":[[0,\"#8e0152\"],[0.1,\"#c51b7d\"],[0.2,\"#de77ae\"],[0.3,\"#f1b6da\"],[0.4,\"#fde0ef\"],[0.5,\"#f7f7f7\"],[0.6,\"#e6f5d0\"],[0.7,\"#b8e186\"],[0.8,\"#7fbc41\"],[0.9,\"#4d9221\"],[1,\"#276419\"]]},\"xaxis\":{\"gridcolor\":\"white\",\"linecolor\":\"white\",\"ticks\":\"\",\"title\":{\"standoff\":15},\"zerolinecolor\":\"white\",\"automargin\":true,\"zerolinewidth\":2},\"yaxis\":{\"gridcolor\":\"white\",\"linecolor\":\"white\",\"ticks\":\"\",\"title\":{\"standoff\":15},\"zerolinecolor\":\"white\",\"automargin\":true,\"zerolinewidth\":2},\"scene\":{\"xaxis\":{\"backgroundcolor\":\"#E5ECF6\",\"gridcolor\":\"white\",\"linecolor\":\"white\",\"showbackground\":true,\"ticks\":\"\",\"zerolinecolor\":\"white\",\"gridwidth\":2},\"yaxis\":{\"backgroundcolor\":\"#E5ECF6\",\"gridcolor\":\"white\",\"linecolor\":\"white\",\"showbackground\":true,\"ticks\":\"\",\"zerolinecolor\":\"white\",\"gridwidth\":2},\"zaxis\":{\"backgroundcolor\":\"#E5ECF6\",\"gridcolor\":\"white\",\"linecolor\":\"white\",\"showbackground\":true,\"ticks\":\"\",\"zerolinecolor\":\"white\",\"gridwidth\":2}},\"shapedefaults\":{\"line\":{\"color\":\"#2a3f5f\"}},\"annotationdefaults\":{\"arrowcolor\":\"#2a3f5f\",\"arrowhead\":0,\"arrowwidth\":1},\"geo\":{\"bgcolor\":\"white\",\"landcolor\":\"#E5ECF6\",\"subunitcolor\":\"white\",\"showland\":true,\"showlakes\":true,\"lakecolor\":\"white\"},\"title\":{\"x\":0.05},\"mapbox\":{\"style\":\"light\"}}},\"xaxis\":{\"anchor\":\"y\",\"domain\":[0.0,1.0],\"scaleanchor\":\"y\",\"constrain\":\"domain\",\"title\":{\"text\":\"Head\"}},\"yaxis\":{\"anchor\":\"x\",\"domain\":[0.0,1.0],\"autorange\":\"reversed\",\"constrain\":\"domain\",\"title\":{\"text\":\"Layer\"}},\"coloraxis\":{\"colorscale\":[[0.0,\"rgb(103,0,31)\"],[0.1,\"rgb(178,24,43)\"],[0.2,\"rgb(214,96,77)\"],[0.3,\"rgb(244,165,130)\"],[0.4,\"rgb(253,219,199)\"],[0.5,\"rgb(247,247,247)\"],[0.6,\"rgb(209,229,240)\"],[0.7,\"rgb(146,197,222)\"],[0.8,\"rgb(67,147,195)\"],[0.9,\"rgb(33,102,172)\"],[1.0,\"rgb(5,48,97)\"]],\"cmid\":0.0},\"title\":{\"text\":\"Ablated Average Logit Difference From Heads \\u003cbr\\u003e [(11, 10), (9, 9), (9, 6), (8, 10), (7, 3), (7, 9), (10, 10), (10, 0), (10, 6), (8, 6)]\"},\"width\":600},                        {\"responsive\": true}                    ).then(function(){\n",
       "                            \n",
       "var gd = document.getElementById('44c75997-eb9b-40c3-a9aa-7bb80636fd19');\n",
       "var x = new MutationObserver(function (mutations, observer) {{\n",
       "        var display = window.getComputedStyle(gd).display;\n",
       "        if (!display || display === 'none') {{\n",
       "            console.log([gd, 'removed!']);\n",
       "            Plotly.purge(gd);\n",
       "            observer.disconnect();\n",
       "        }}\n",
       "}});\n",
       "\n",
       "// Listen for the removal of the full notebook cells\n",
       "var notebookContainer = gd.closest('#notebook-container');\n",
       "if (notebookContainer) {{\n",
       "    x.observe(notebookContainer, {childList: true});\n",
       "}}\n",
       "\n",
       "// Listen for the clearing of the current output cell\n",
       "var outputEl = gd.closest('.output');\n",
       "if (outputEl) {{\n",
       "    x.observe(outputEl, {childList: true});\n",
       "}}\n",
       "\n",
       "                        })                };                });            </script>        </div>"
      ]
     },
     "metadata": {},
     "output_type": "display_data"
    },
    {
     "data": {
      "text/html": [
       "<div>                            <div id=\"0c61ee5a-b4fe-4553-8575-e158cde4880f\" class=\"plotly-graph-div\" style=\"height:525px; width:600px;\"></div>            <script type=\"text/javascript\">                require([\"plotly\"], function(Plotly) {                    window.PLOTLYENV=window.PLOTLYENV || {};                                    if (document.getElementById(\"0c61ee5a-b4fe-4553-8575-e158cde4880f\")) {                    Plotly.newPlot(                        \"0c61ee5a-b4fe-4553-8575-e158cde4880f\",                        [{\"coloraxis\":\"coloraxis\",\"name\":\"0\",\"texttemplate\":\"%{z:.2f}\",\"z\":[[0.0062685394659638405,0.007990817539393902,-0.005746606737375259,-0.008534068241715431,0.012087841518223286,-0.007761800196021795,-0.04179813340306282,0.009281700477004051,0.022851988673210144,-0.01671154983341694,0.002026953035965562,0.011020819656550884],[0.01146392710506916,-0.005491993390023708,0.015042662620544434,0.0026652191299945116,0.021265748888254166,0.012983801774680614,0.025808487087488174,-0.03440309688448906,-0.0016646890435367823,-0.007468871772289276,-0.03199218213558197,-0.02470269799232483],[0.02055361680686474,1.7135658708866686e-05,0.006273786071687937,0.018353955820202827,-0.022588852792978287,-0.003472559154033661,-0.008621515706181526,-0.009255379438400269,0.004839626140892506,0.005695051979273558,0.01583653688430786,0.003387535223737359],[0.004997970070689917,-0.007455163635313511,-0.0032968069426715374,-0.008472764864563942,-0.008498584851622581,0.0032489649020135403,-0.00012758917000610381,0.012193933129310608,0.00010246343299513683,0.0038223054725676775,0.0127834752202034,0.03209076449275017],[0.0005994462408125401,0.006466970779001713,-0.006764402613043785,0.017941853031516075,-0.008315930142998695,0.006647511851042509,0.0214737169444561,-0.022590113803744316,0.01827763020992279,0.007101026829332113,-0.012247917242348194,-0.0002861121320165694],[-0.002672216622158885,-0.016969043761491776,0.04148547723889351,0.004282597918063402,0.009688368067145348,-0.0043578785844147205,-0.001569002284668386,-0.009294349700212479,0.008405322209000587,-0.0033569796942174435,-0.01122213900089264,0.0062917484901845455],[-0.01408923789858818,-0.002476404421031475,0.011048402637243271,0.02539931982755661,0.02316955104470253,-0.003668266348540783,-0.013259869068861008,-0.012282505631446838,-0.008121651597321033,-0.015796681866049767,-0.0055161514319479465,0.019942032173275948],[-0.0076202224008738995,-0.0029405460227280855,-0.01258635800331831,0.08794394880533218,0.0066895256750285625,0.02089536003768444,-0.024805497378110886,-0.0009359250543639064,-0.036233533173799515,0.22844457626342773,-0.012677311897277832,-0.01656113564968109],[0.012672889046370983,-0.0057586622424423695,0.030106691643595695,-0.06399764120578766,0.02409212291240692,0.012137156911194324,-0.09343934059143066,-0.01187971979379654,-0.010927890427410603,-0.008555727079510689,0.18087010085582733,0.1143854558467865],[0.08448537439107895,-0.0008931942284107208,0.04608752578496933,0.017702674493193626,-0.06448760628700256,0.043067269027233124,1.7700526714324951,0.08452937006950378,0.3031611144542694,2.716301679611206,-0.007451280951499939,-0.002412947127595544],[0.7617877721786499,0.1218075379729271,0.25474053621292114,-0.05273908004164696,-0.007773051504045725,-0.0017330193659290671,0.0028890427201986313,-2.0109634399414062,0.014073630794882774,0.02774950861930847,0.48594197630882263,0.020668843761086464],[0.02078447863459587,-0.29319077730178833,-0.45451468229293823,-0.012528621591627598,0.006801744922995567,0.03523433953523636,-0.1173437088727951,0.009248262271285057,0.004494665190577507,-0.03971991688013077,-1.0830485820770264,-0.057103417813777924]],\"type\":\"heatmap\",\"xaxis\":\"x\",\"yaxis\":\"y\",\"hovertemplate\":\"Head: %{x}\\u003cbr\\u003eLayer: %{y}\\u003cbr\\u003ecolor: %{z}\\u003cextra\\u003e\\u003c\\u002fextra\\u003e\"}],                        {\"template\":{\"data\":{\"histogram2dcontour\":[{\"type\":\"histogram2dcontour\",\"colorbar\":{\"outlinewidth\":0,\"ticks\":\"\"},\"colorscale\":[[0.0,\"#0d0887\"],[0.1111111111111111,\"#46039f\"],[0.2222222222222222,\"#7201a8\"],[0.3333333333333333,\"#9c179e\"],[0.4444444444444444,\"#bd3786\"],[0.5555555555555556,\"#d8576b\"],[0.6666666666666666,\"#ed7953\"],[0.7777777777777778,\"#fb9f3a\"],[0.8888888888888888,\"#fdca26\"],[1.0,\"#f0f921\"]]}],\"choropleth\":[{\"type\":\"choropleth\",\"colorbar\":{\"outlinewidth\":0,\"ticks\":\"\"}}],\"histogram2d\":[{\"type\":\"histogram2d\",\"colorbar\":{\"outlinewidth\":0,\"ticks\":\"\"},\"colorscale\":[[0.0,\"#0d0887\"],[0.1111111111111111,\"#46039f\"],[0.2222222222222222,\"#7201a8\"],[0.3333333333333333,\"#9c179e\"],[0.4444444444444444,\"#bd3786\"],[0.5555555555555556,\"#d8576b\"],[0.6666666666666666,\"#ed7953\"],[0.7777777777777778,\"#fb9f3a\"],[0.8888888888888888,\"#fdca26\"],[1.0,\"#f0f921\"]]}],\"heatmap\":[{\"type\":\"heatmap\",\"colorbar\":{\"outlinewidth\":0,\"ticks\":\"\"},\"colorscale\":[[0.0,\"#0d0887\"],[0.1111111111111111,\"#46039f\"],[0.2222222222222222,\"#7201a8\"],[0.3333333333333333,\"#9c179e\"],[0.4444444444444444,\"#bd3786\"],[0.5555555555555556,\"#d8576b\"],[0.6666666666666666,\"#ed7953\"],[0.7777777777777778,\"#fb9f3a\"],[0.8888888888888888,\"#fdca26\"],[1.0,\"#f0f921\"]]}],\"heatmapgl\":[{\"type\":\"heatmapgl\",\"colorbar\":{\"outlinewidth\":0,\"ticks\":\"\"},\"colorscale\":[[0.0,\"#0d0887\"],[0.1111111111111111,\"#46039f\"],[0.2222222222222222,\"#7201a8\"],[0.3333333333333333,\"#9c179e\"],[0.4444444444444444,\"#bd3786\"],[0.5555555555555556,\"#d8576b\"],[0.6666666666666666,\"#ed7953\"],[0.7777777777777778,\"#fb9f3a\"],[0.8888888888888888,\"#fdca26\"],[1.0,\"#f0f921\"]]}],\"contourcarpet\":[{\"type\":\"contourcarpet\",\"colorbar\":{\"outlinewidth\":0,\"ticks\":\"\"}}],\"contour\":[{\"type\":\"contour\",\"colorbar\":{\"outlinewidth\":0,\"ticks\":\"\"},\"colorscale\":[[0.0,\"#0d0887\"],[0.1111111111111111,\"#46039f\"],[0.2222222222222222,\"#7201a8\"],[0.3333333333333333,\"#9c179e\"],[0.4444444444444444,\"#bd3786\"],[0.5555555555555556,\"#d8576b\"],[0.6666666666666666,\"#ed7953\"],[0.7777777777777778,\"#fb9f3a\"],[0.8888888888888888,\"#fdca26\"],[1.0,\"#f0f921\"]]}],\"surface\":[{\"type\":\"surface\",\"colorbar\":{\"outlinewidth\":0,\"ticks\":\"\"},\"colorscale\":[[0.0,\"#0d0887\"],[0.1111111111111111,\"#46039f\"],[0.2222222222222222,\"#7201a8\"],[0.3333333333333333,\"#9c179e\"],[0.4444444444444444,\"#bd3786\"],[0.5555555555555556,\"#d8576b\"],[0.6666666666666666,\"#ed7953\"],[0.7777777777777778,\"#fb9f3a\"],[0.8888888888888888,\"#fdca26\"],[1.0,\"#f0f921\"]]}],\"mesh3d\":[{\"type\":\"mesh3d\",\"colorbar\":{\"outlinewidth\":0,\"ticks\":\"\"}}],\"scatter\":[{\"fillpattern\":{\"fillmode\":\"overlay\",\"size\":10,\"solidity\":0.2},\"type\":\"scatter\"}],\"parcoords\":[{\"type\":\"parcoords\",\"line\":{\"colorbar\":{\"outlinewidth\":0,\"ticks\":\"\"}}}],\"scatterpolargl\":[{\"type\":\"scatterpolargl\",\"marker\":{\"colorbar\":{\"outlinewidth\":0,\"ticks\":\"\"}}}],\"bar\":[{\"error_x\":{\"color\":\"#2a3f5f\"},\"error_y\":{\"color\":\"#2a3f5f\"},\"marker\":{\"line\":{\"color\":\"#E5ECF6\",\"width\":0.5},\"pattern\":{\"fillmode\":\"overlay\",\"size\":10,\"solidity\":0.2}},\"type\":\"bar\"}],\"scattergeo\":[{\"type\":\"scattergeo\",\"marker\":{\"colorbar\":{\"outlinewidth\":0,\"ticks\":\"\"}}}],\"scatterpolar\":[{\"type\":\"scatterpolar\",\"marker\":{\"colorbar\":{\"outlinewidth\":0,\"ticks\":\"\"}}}],\"histogram\":[{\"marker\":{\"pattern\":{\"fillmode\":\"overlay\",\"size\":10,\"solidity\":0.2}},\"type\":\"histogram\"}],\"scattergl\":[{\"type\":\"scattergl\",\"marker\":{\"colorbar\":{\"outlinewidth\":0,\"ticks\":\"\"}}}],\"scatter3d\":[{\"type\":\"scatter3d\",\"line\":{\"colorbar\":{\"outlinewidth\":0,\"ticks\":\"\"}},\"marker\":{\"colorbar\":{\"outlinewidth\":0,\"ticks\":\"\"}}}],\"scattermapbox\":[{\"type\":\"scattermapbox\",\"marker\":{\"colorbar\":{\"outlinewidth\":0,\"ticks\":\"\"}}}],\"scatterternary\":[{\"type\":\"scatterternary\",\"marker\":{\"colorbar\":{\"outlinewidth\":0,\"ticks\":\"\"}}}],\"scattercarpet\":[{\"type\":\"scattercarpet\",\"marker\":{\"colorbar\":{\"outlinewidth\":0,\"ticks\":\"\"}}}],\"carpet\":[{\"aaxis\":{\"endlinecolor\":\"#2a3f5f\",\"gridcolor\":\"white\",\"linecolor\":\"white\",\"minorgridcolor\":\"white\",\"startlinecolor\":\"#2a3f5f\"},\"baxis\":{\"endlinecolor\":\"#2a3f5f\",\"gridcolor\":\"white\",\"linecolor\":\"white\",\"minorgridcolor\":\"white\",\"startlinecolor\":\"#2a3f5f\"},\"type\":\"carpet\"}],\"table\":[{\"cells\":{\"fill\":{\"color\":\"#EBF0F8\"},\"line\":{\"color\":\"white\"}},\"header\":{\"fill\":{\"color\":\"#C8D4E3\"},\"line\":{\"color\":\"white\"}},\"type\":\"table\"}],\"barpolar\":[{\"marker\":{\"line\":{\"color\":\"#E5ECF6\",\"width\":0.5},\"pattern\":{\"fillmode\":\"overlay\",\"size\":10,\"solidity\":0.2}},\"type\":\"barpolar\"}],\"pie\":[{\"automargin\":true,\"type\":\"pie\"}]},\"layout\":{\"autotypenumbers\":\"strict\",\"colorway\":[\"#636efa\",\"#EF553B\",\"#00cc96\",\"#ab63fa\",\"#FFA15A\",\"#19d3f3\",\"#FF6692\",\"#B6E880\",\"#FF97FF\",\"#FECB52\"],\"font\":{\"color\":\"#2a3f5f\"},\"hovermode\":\"closest\",\"hoverlabel\":{\"align\":\"left\"},\"paper_bgcolor\":\"white\",\"plot_bgcolor\":\"#E5ECF6\",\"polar\":{\"bgcolor\":\"#E5ECF6\",\"angularaxis\":{\"gridcolor\":\"white\",\"linecolor\":\"white\",\"ticks\":\"\"},\"radialaxis\":{\"gridcolor\":\"white\",\"linecolor\":\"white\",\"ticks\":\"\"}},\"ternary\":{\"bgcolor\":\"#E5ECF6\",\"aaxis\":{\"gridcolor\":\"white\",\"linecolor\":\"white\",\"ticks\":\"\"},\"baxis\":{\"gridcolor\":\"white\",\"linecolor\":\"white\",\"ticks\":\"\"},\"caxis\":{\"gridcolor\":\"white\",\"linecolor\":\"white\",\"ticks\":\"\"}},\"coloraxis\":{\"colorbar\":{\"outlinewidth\":0,\"ticks\":\"\"}},\"colorscale\":{\"sequential\":[[0.0,\"#0d0887\"],[0.1111111111111111,\"#46039f\"],[0.2222222222222222,\"#7201a8\"],[0.3333333333333333,\"#9c179e\"],[0.4444444444444444,\"#bd3786\"],[0.5555555555555556,\"#d8576b\"],[0.6666666666666666,\"#ed7953\"],[0.7777777777777778,\"#fb9f3a\"],[0.8888888888888888,\"#fdca26\"],[1.0,\"#f0f921\"]],\"sequentialminus\":[[0.0,\"#0d0887\"],[0.1111111111111111,\"#46039f\"],[0.2222222222222222,\"#7201a8\"],[0.3333333333333333,\"#9c179e\"],[0.4444444444444444,\"#bd3786\"],[0.5555555555555556,\"#d8576b\"],[0.6666666666666666,\"#ed7953\"],[0.7777777777777778,\"#fb9f3a\"],[0.8888888888888888,\"#fdca26\"],[1.0,\"#f0f921\"]],\"diverging\":[[0,\"#8e0152\"],[0.1,\"#c51b7d\"],[0.2,\"#de77ae\"],[0.3,\"#f1b6da\"],[0.4,\"#fde0ef\"],[0.5,\"#f7f7f7\"],[0.6,\"#e6f5d0\"],[0.7,\"#b8e186\"],[0.8,\"#7fbc41\"],[0.9,\"#4d9221\"],[1,\"#276419\"]]},\"xaxis\":{\"gridcolor\":\"white\",\"linecolor\":\"white\",\"ticks\":\"\",\"title\":{\"standoff\":15},\"zerolinecolor\":\"white\",\"automargin\":true,\"zerolinewidth\":2},\"yaxis\":{\"gridcolor\":\"white\",\"linecolor\":\"white\",\"ticks\":\"\",\"title\":{\"standoff\":15},\"zerolinecolor\":\"white\",\"automargin\":true,\"zerolinewidth\":2},\"scene\":{\"xaxis\":{\"backgroundcolor\":\"#E5ECF6\",\"gridcolor\":\"white\",\"linecolor\":\"white\",\"showbackground\":true,\"ticks\":\"\",\"zerolinecolor\":\"white\",\"gridwidth\":2},\"yaxis\":{\"backgroundcolor\":\"#E5ECF6\",\"gridcolor\":\"white\",\"linecolor\":\"white\",\"showbackground\":true,\"ticks\":\"\",\"zerolinecolor\":\"white\",\"gridwidth\":2},\"zaxis\":{\"backgroundcolor\":\"#E5ECF6\",\"gridcolor\":\"white\",\"linecolor\":\"white\",\"showbackground\":true,\"ticks\":\"\",\"zerolinecolor\":\"white\",\"gridwidth\":2}},\"shapedefaults\":{\"line\":{\"color\":\"#2a3f5f\"}},\"annotationdefaults\":{\"arrowcolor\":\"#2a3f5f\",\"arrowhead\":0,\"arrowwidth\":1},\"geo\":{\"bgcolor\":\"white\",\"landcolor\":\"#E5ECF6\",\"subunitcolor\":\"white\",\"showland\":true,\"showlakes\":true,\"lakecolor\":\"white\"},\"title\":{\"x\":0.05},\"mapbox\":{\"style\":\"light\"}}},\"xaxis\":{\"anchor\":\"y\",\"domain\":[0.0,1.0],\"scaleanchor\":\"y\",\"constrain\":\"domain\",\"title\":{\"text\":\"Head\"}},\"yaxis\":{\"anchor\":\"x\",\"domain\":[0.0,1.0],\"autorange\":\"reversed\",\"constrain\":\"domain\",\"title\":{\"text\":\"Layer\"}},\"coloraxis\":{\"colorscale\":[[0.0,\"rgb(103,0,31)\"],[0.1,\"rgb(178,24,43)\"],[0.2,\"rgb(214,96,77)\"],[0.3,\"rgb(244,165,130)\"],[0.4,\"rgb(253,219,199)\"],[0.5,\"rgb(247,247,247)\"],[0.6,\"rgb(209,229,240)\"],[0.7,\"rgb(146,197,222)\"],[0.8,\"rgb(67,147,195)\"],[0.9,\"rgb(33,102,172)\"],[1.0,\"rgb(5,48,97)\"]],\"cmid\":0.0},\"title\":{\"text\":\"Unablated Average Logit Difference From Each Head\"},\"width\":600},                        {\"responsive\": true}                    ).then(function(){\n",
       "                            \n",
       "var gd = document.getElementById('0c61ee5a-b4fe-4553-8575-e158cde4880f');\n",
       "var x = new MutationObserver(function (mutations, observer) {{\n",
       "        var display = window.getComputedStyle(gd).display;\n",
       "        if (!display || display === 'none') {{\n",
       "            console.log([gd, 'removed!']);\n",
       "            Plotly.purge(gd);\n",
       "            observer.disconnect();\n",
       "        }}\n",
       "}});\n",
       "\n",
       "// Listen for the removal of the full notebook cells\n",
       "var notebookContainer = gd.closest('#notebook-container');\n",
       "if (notebookContainer) {{\n",
       "    x.observe(notebookContainer, {childList: true});\n",
       "}}\n",
       "\n",
       "// Listen for the clearing of the current output cell\n",
       "var outputEl = gd.closest('.output');\n",
       "if (outputEl) {{\n",
       "    x.observe(outputEl, {childList: true});\n",
       "}}\n",
       "\n",
       "                        })                };                });            </script>        </div>"
      ]
     },
     "metadata": {},
     "output_type": "display_data"
    }
   ],
   "source": [
    "first_name_correct_prompts = prompts[0::2]\n",
    "second_name_correct_prompts = prompts[1::2]\n",
    "\n",
    "first_name_correct_answer_tokens = answer_tokens[0::2]\n",
    "second_name_correct_answer_tokens = answer_tokens[1::2]\n",
    "\n",
    "head_mean_ablation_logit_diff([head for head in all_heads if head != (10, 7)], answer_tokens=first_name_correct_answer_tokens, prompts=first_name_correct_prompts, mean_activations_dict=mean_activations_dict)\n",
    "head_mean_ablation_logit_diff([head for head in all_heads if head != (10, 7)], answer_tokens=second_name_correct_answer_tokens, prompts=second_name_correct_prompts, mean_activations_dict=mean_activations_dict)"
   ]
  },
  {
   "attachments": {},
   "cell_type": "markdown",
   "metadata": {},
   "source": [
    "## Non-Dropout Model Replication"
   ]
  },
  {
   "cell_type": "code",
   "execution_count": null,
   "metadata": {},
   "outputs": [],
   "source": []
  },
  {
   "attachments": {},
   "cell_type": "markdown",
   "metadata": {},
   "source": []
  }
 ],
 "metadata": {
  "kernelspec": {
   "display_name": "Python 3",
   "language": "python",
   "name": "python3"
  },
  "language_info": {
   "codemirror_mode": {
    "name": "ipython",
    "version": 3
   },
   "file_extension": ".py",
   "mimetype": "text/x-python",
   "name": "python",
   "nbconvert_exporter": "python",
   "pygments_lexer": "ipython3",
   "version": "3.10.11"
  },
  "orig_nbformat": 4
 },
 "nbformat": 4,
 "nbformat_minor": 2
}
