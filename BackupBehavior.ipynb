{
 "cells": [
  {
   "cell_type": "code",
   "execution_count": 757,
   "metadata": {},
   "outputs": [],
   "source": [
    "import torch\n",
    "import numpy as np\n",
    "from torch import einsum\n",
    "from tqdm.auto import tqdm\n",
    "import seaborn as sns\n",
    "from transformer_lens import HookedTransformer, ActivationCache\n",
    "from datasets import load_dataset\n",
    "from einops import einsum\n",
    "import pandas as pd\n",
    "from transformer_lens import utils\n",
    "from rich.table import Table, Column\n",
    "from rich import print as rprint\n",
    "from jaxtyping import Float, Int, Bool\n",
    "from torch import Tensor\n",
    "import einops\n",
    "import functools\n",
    "from transformer_lens.hook_points import HookPoint\n",
    "import circuitsvis\n",
    "from IPython.display import HTML\n",
    "from plotly.express import line\n",
    "import plotly.express as px\n",
    "\n",
    "# Plotly needs a different renderer for VSCode/Notebooks vs Colab argh\n",
    "import plotly.io as pio\n",
    "pio.renderers.default = \"notebook_connected\""
   ]
  },
  {
   "cell_type": "code",
   "execution_count": 758,
   "metadata": {},
   "outputs": [],
   "source": [
    "device = \"cuda\" if torch.cuda.is_available() else \"cpu\""
   ]
  },
  {
   "cell_type": "code",
   "execution_count": 759,
   "metadata": {},
   "outputs": [
    {
     "name": "stderr",
     "output_type": "stream",
     "text": [
      "Using pad_token, but it is not set yet.\n"
     ]
    },
    {
     "name": "stdout",
     "output_type": "stream",
     "text": [
      "Loaded pretrained model gpt2-small into HookedTransformer\n"
     ]
    }
   ],
   "source": [
    "model = HookedTransformer.from_pretrained(\n",
    "    \"gpt2-small\",\n",
    "    center_unembed=True,\n",
    "    center_writing_weights=True,\n",
    "    fold_ln=True,\n",
    ")"
   ]
  },
  {
   "cell_type": "code",
   "execution_count": 760,
   "metadata": {},
   "outputs": [
    {
     "name": "stdout",
     "output_type": "stream",
     "text": [
      "Tokenized prompt: ['<|endoftext|>', 'After', ' John', ' and', ' Mary', ' went', ' to', ' the', ' store', ',', ' John', ' gave', ' a', ' bottle', ' of', ' milk', ' to']\n",
      "Tokenized answer: [' Mary']\n"
     ]
    },
    {
     "data": {
      "text/html": [
       "<pre style=\"white-space:pre;overflow-x:auto;line-height:normal;font-family:Menlo,'DejaVu Sans Mono',consolas,'Courier New',monospace\">Performance on answer token:\n",
       "<span style=\"font-weight: bold\">Rank: </span><span style=\"color: #008080; text-decoration-color: #008080; font-weight: bold\">0</span><span style=\"font-weight: bold\">        Logit: </span><span style=\"color: #008080; text-decoration-color: #008080; font-weight: bold\">18.09</span><span style=\"font-weight: bold\"> Prob: </span><span style=\"color: #008080; text-decoration-color: #008080; font-weight: bold\">70.07</span><span style=\"font-weight: bold\">% Token: | Mary|</span>\n",
       "</pre>\n"
      ],
      "text/plain": [
       "Performance on answer token:\n",
       "\u001b[1mRank: \u001b[0m\u001b[1;36m0\u001b[0m\u001b[1m        Logit: \u001b[0m\u001b[1;36m18.09\u001b[0m\u001b[1m Prob: \u001b[0m\u001b[1;36m70.07\u001b[0m\u001b[1m% Token: | Mary|\u001b[0m\n"
      ]
     },
     "metadata": {},
     "output_type": "display_data"
    },
    {
     "name": "stdout",
     "output_type": "stream",
     "text": [
      "Top 0th token. Logit: 18.09 Prob: 70.07% Token: | Mary|\n",
      "Top 1th token. Logit: 15.38 Prob:  4.67% Token: | the|\n",
      "Top 2th token. Logit: 15.35 Prob:  4.54% Token: | John|\n",
      "Top 3th token. Logit: 15.25 Prob:  4.11% Token: | them|\n",
      "Top 4th token. Logit: 14.84 Prob:  2.73% Token: | his|\n",
      "Top 5th token. Logit: 14.06 Prob:  1.24% Token: | her|\n",
      "Top 6th token. Logit: 13.54 Prob:  0.74% Token: | a|\n",
      "Top 7th token. Logit: 13.52 Prob:  0.73% Token: | their|\n",
      "Top 8th token. Logit: 13.13 Prob:  0.49% Token: | Jesus|\n",
      "Top 9th token. Logit: 12.97 Prob:  0.42% Token: | him|\n"
     ]
    },
    {
     "data": {
      "text/html": [
       "<pre style=\"white-space:pre;overflow-x:auto;line-height:normal;font-family:Menlo,'DejaVu Sans Mono',consolas,'Courier New',monospace\"><span style=\"font-weight: bold\">Ranks of the answer tokens:</span> <span style=\"font-weight: bold\">[(</span><span style=\"color: #008000; text-decoration-color: #008000\">' Mary'</span>, <span style=\"color: #008080; text-decoration-color: #008080; font-weight: bold\">0</span><span style=\"font-weight: bold\">)]</span>\n",
       "</pre>\n"
      ],
      "text/plain": [
       "\u001b[1mRanks of the answer tokens:\u001b[0m \u001b[1m[\u001b[0m\u001b[1m(\u001b[0m\u001b[32m' Mary'\u001b[0m, \u001b[1;36m0\u001b[0m\u001b[1m)\u001b[0m\u001b[1m]\u001b[0m\n"
      ]
     },
     "metadata": {},
     "output_type": "display_data"
    }
   ],
   "source": [
    "# Initial task accuracy\n",
    "example_prompt = \"After John and Mary went to the store, John gave a bottle of milk to\"\n",
    "example_answer = \" Mary\"\n",
    "utils.test_prompt(example_prompt, example_answer, model, prepend_bos=True)"
   ]
  },
  {
   "attachments": {},
   "cell_type": "markdown",
   "metadata": {},
   "source": [
    "## Prompt Generation"
   ]
  },
  {
   "cell_type": "code",
   "execution_count": 761,
   "metadata": {},
   "outputs": [],
   "source": [
    "prompt_format = [\n",
    "    \"When John and Mary went to the shops,{} gave the bag to\",\n",
    "    \"When Tom and James went to the park,{} gave the ball to\",\n",
    "    \"When Dan and Sid went to the shops,{} gave an apple to\",\n",
    "    \"After Martin and Amy went to the park,{} gave a drink to\",\n",
    "    \"After Sam and Matt went to the park,{} gave a drink to\",\n",
    "    \"After Adam and Miles went to the park,{} gave a drink to\",\n",
    "    \"After Oscar and William went to the park,{} gave a drink to\",\n",
    "    \"After Sally and Kate went to the park,{} gave a drink to\",\n",
    "    \"After Karen and Lisa went to the park,{} gave a drink to\",\n",
    "    \"After Emily and Laura went to the park,{} gave a drink to\",\n",
    "    \"After Jacob and Cam went to the park,{} gave a drink to\",\n",
    "]\n",
    "name_pairs = [\n",
    "    (\" John\", \" Mary\"),\n",
    "    (\" Tom\", \" James\"),\n",
    "    (\" Dan\", \" Sid\"),\n",
    "    (\" Martin\", \" Amy\"),\n",
    "    (\" Sam\", \" Matt\"),\n",
    "    (\" Adam\", \" Miles\"),\n",
    "    (\" Oscar\", \" William\"),\n",
    "    (\" Sally\", \" Kate\"),\n",
    "    (\" Karen\", \" Lisa\"),\n",
    "    (\" Emily\", \" Laura\"),\n",
    "    (\" Jacob\", \" Cam\"),\n",
    "]\n",
    "\n",
    "# Define 8 prompts, in 4 groups of 2 (with adjacent prompts having answers swapped)\n",
    "prompts = [\n",
    "    prompt.format(name) \n",
    "    for (prompt, names) in zip(prompt_format, name_pairs) for name in names[::-1] \n",
    "]\n",
    "# Define the answers for each prompt, in the form (correct, incorrect)\n",
    "answers = [names[::i] for names in name_pairs for i in (1, -1)]\n",
    "# Define the answer tokens (same shape as the answers)\n",
    "answer_tokens = torch.concat([\n",
    "    model.to_tokens(names, prepend_bos=False).T for names in answers\n",
    "])\n",
    "\n",
    "# print(prompts)\n",
    "# print(answers)\n",
    "# print(answer_tokens)"
   ]
  },
  {
   "cell_type": "code",
   "execution_count": 762,
   "metadata": {},
   "outputs": [
    {
     "data": {
      "text/html": [
       "<pre style=\"white-space:pre;overflow-x:auto;line-height:normal;font-family:Menlo,'DejaVu Sans Mono',consolas,'Courier New',monospace\"><span style=\"font-style: italic\">                                                Prompts &amp; Answers:                                                 </span>\n",
       "┏━━━━━━━━━━━━━━━━━━━━━━━━━━━━━━━━━━━━━━━━━━━━━━━━━━━━━━━━━━━━━━━━━━━┳━━━━━━━━━━━━┳━━━━━━━━━━━━┳━━━━━━━━━┳━━━━━━━━━┓\n",
       "┃<span style=\"font-weight: bold\"> Prompt                                                            </span>┃<span style=\"font-weight: bold\"> Correct    </span>┃<span style=\"font-weight: bold\"> Incorrect  </span>┃<span style=\"font-weight: bold\"> Token 1 </span>┃<span style=\"font-weight: bold\"> Token 2 </span>┃\n",
       "┡━━━━━━━━━━━━━━━━━━━━━━━━━━━━━━━━━━━━━━━━━━━━━━━━━━━━━━━━━━━━━━━━━━━╇━━━━━━━━━━━━╇━━━━━━━━━━━━╇━━━━━━━━━╇━━━━━━━━━┩\n",
       "│ When John and Mary went to the shops, Mary gave the bag to        │ ' John'    │ ' Mary'    │ 1757    │ 5335    │\n",
       "│ When John and Mary went to the shops, John gave the bag to        │ ' Mary'    │ ' John'    │ 5335    │ 1757    │\n",
       "│ When Tom and James went to the park, James gave the ball to       │ ' Tom'     │ ' James'   │ 4186    │ 3700    │\n",
       "│ When Tom and James went to the park, Tom gave the ball to         │ ' James'   │ ' Tom'     │ 3700    │ 4186    │\n",
       "│ When Dan and Sid went to the shops, Sid gave an apple to          │ ' Dan'     │ ' Sid'     │ 6035    │ 15686   │\n",
       "│ When Dan and Sid went to the shops, Dan gave an apple to          │ ' Sid'     │ ' Dan'     │ 15686   │ 6035    │\n",
       "│ After Martin and Amy went to the park, Amy gave a drink to        │ ' Martin'  │ ' Amy'     │ 5780    │ 14235   │\n",
       "│ After Martin and Amy went to the park, Martin gave a drink to     │ ' Amy'     │ ' Martin'  │ 14235   │ 5780    │\n",
       "│ After Sam and Matt went to the park, Matt gave a drink to         │ ' Sam'     │ ' Matt'    │ 3409    │ 4705    │\n",
       "│ After Sam and Matt went to the park, Sam gave a drink to          │ ' Matt'    │ ' Sam'     │ 4705    │ 3409    │\n",
       "│ After Adam and Miles went to the park, Miles gave a drink to      │ ' Adam'    │ ' Miles'   │ 7244    │ 20404   │\n",
       "│ After Adam and Miles went to the park, Adam gave a drink to       │ ' Miles'   │ ' Adam'    │ 20404   │ 7244    │\n",
       "│ After Oscar and William went to the park, William gave a drink to │ ' Oscar'   │ ' William' │ 15694   │ 3977    │\n",
       "│ After Oscar and William went to the park, Oscar gave a drink to   │ ' William' │ ' Oscar'   │ 3977    │ 15694   │\n",
       "│ After Sally and Kate went to the park, Kate gave a drink to       │ ' Sally'   │ ' Kate'    │ 25737   │ 16693   │\n",
       "│ After Sally and Kate went to the park, Sally gave a drink to      │ ' Kate'    │ ' Sally'   │ 16693   │ 25737   │\n",
       "│ After Karen and Lisa went to the park, Lisa gave a drink to       │ ' Karen'   │ ' Lisa'    │ 18678   │ 15378   │\n",
       "│ After Karen and Lisa went to the park, Karen gave a drink to      │ ' Lisa'    │ ' Karen'   │ 15378   │ 18678   │\n",
       "│ After Emily and Laura went to the park, Laura gave a drink to     │ ' Emily'   │ ' Laura'   │ 17608   │ 16753   │\n",
       "│ After Emily and Laura went to the park, Emily gave a drink to     │ ' Laura'   │ ' Emily'   │ 16753   │ 17608   │\n",
       "│ After Jacob and Cam went to the park, Cam gave a drink to         │ ' Jacob'   │ ' Cam'     │ 12806   │ 7298    │\n",
       "│ After Jacob and Cam went to the park, Jacob gave a drink to       │ ' Cam'     │ ' Jacob'   │ 7298    │ 12806   │\n",
       "└───────────────────────────────────────────────────────────────────┴────────────┴────────────┴─────────┴─────────┘\n",
       "</pre>\n"
      ],
      "text/plain": [
       "\u001b[3m                                                Prompts & Answers:                                                 \u001b[0m\n",
       "┏━━━━━━━━━━━━━━━━━━━━━━━━━━━━━━━━━━━━━━━━━━━━━━━━━━━━━━━━━━━━━━━━━━━┳━━━━━━━━━━━━┳━━━━━━━━━━━━┳━━━━━━━━━┳━━━━━━━━━┓\n",
       "┃\u001b[1m \u001b[0m\u001b[1mPrompt                                                           \u001b[0m\u001b[1m \u001b[0m┃\u001b[1m \u001b[0m\u001b[1mCorrect   \u001b[0m\u001b[1m \u001b[0m┃\u001b[1m \u001b[0m\u001b[1mIncorrect \u001b[0m\u001b[1m \u001b[0m┃\u001b[1m \u001b[0m\u001b[1mToken 1\u001b[0m\u001b[1m \u001b[0m┃\u001b[1m \u001b[0m\u001b[1mToken 2\u001b[0m\u001b[1m \u001b[0m┃\n",
       "┡━━━━━━━━━━━━━━━━━━━━━━━━━━━━━━━━━━━━━━━━━━━━━━━━━━━━━━━━━━━━━━━━━━━╇━━━━━━━━━━━━╇━━━━━━━━━━━━╇━━━━━━━━━╇━━━━━━━━━┩\n",
       "│ When John and Mary went to the shops, Mary gave the bag to        │ ' John'    │ ' Mary'    │ 1757    │ 5335    │\n",
       "│ When John and Mary went to the shops, John gave the bag to        │ ' Mary'    │ ' John'    │ 5335    │ 1757    │\n",
       "│ When Tom and James went to the park, James gave the ball to       │ ' Tom'     │ ' James'   │ 4186    │ 3700    │\n",
       "│ When Tom and James went to the park, Tom gave the ball to         │ ' James'   │ ' Tom'     │ 3700    │ 4186    │\n",
       "│ When Dan and Sid went to the shops, Sid gave an apple to          │ ' Dan'     │ ' Sid'     │ 6035    │ 15686   │\n",
       "│ When Dan and Sid went to the shops, Dan gave an apple to          │ ' Sid'     │ ' Dan'     │ 15686   │ 6035    │\n",
       "│ After Martin and Amy went to the park, Amy gave a drink to        │ ' Martin'  │ ' Amy'     │ 5780    │ 14235   │\n",
       "│ After Martin and Amy went to the park, Martin gave a drink to     │ ' Amy'     │ ' Martin'  │ 14235   │ 5780    │\n",
       "│ After Sam and Matt went to the park, Matt gave a drink to         │ ' Sam'     │ ' Matt'    │ 3409    │ 4705    │\n",
       "│ After Sam and Matt went to the park, Sam gave a drink to          │ ' Matt'    │ ' Sam'     │ 4705    │ 3409    │\n",
       "│ After Adam and Miles went to the park, Miles gave a drink to      │ ' Adam'    │ ' Miles'   │ 7244    │ 20404   │\n",
       "│ After Adam and Miles went to the park, Adam gave a drink to       │ ' Miles'   │ ' Adam'    │ 20404   │ 7244    │\n",
       "│ After Oscar and William went to the park, William gave a drink to │ ' Oscar'   │ ' William' │ 15694   │ 3977    │\n",
       "│ After Oscar and William went to the park, Oscar gave a drink to   │ ' William' │ ' Oscar'   │ 3977    │ 15694   │\n",
       "│ After Sally and Kate went to the park, Kate gave a drink to       │ ' Sally'   │ ' Kate'    │ 25737   │ 16693   │\n",
       "│ After Sally and Kate went to the park, Sally gave a drink to      │ ' Kate'    │ ' Sally'   │ 16693   │ 25737   │\n",
       "│ After Karen and Lisa went to the park, Lisa gave a drink to       │ ' Karen'   │ ' Lisa'    │ 18678   │ 15378   │\n",
       "│ After Karen and Lisa went to the park, Karen gave a drink to      │ ' Lisa'    │ ' Karen'   │ 15378   │ 18678   │\n",
       "│ After Emily and Laura went to the park, Laura gave a drink to     │ ' Emily'   │ ' Laura'   │ 17608   │ 16753   │\n",
       "│ After Emily and Laura went to the park, Emily gave a drink to     │ ' Laura'   │ ' Emily'   │ 16753   │ 17608   │\n",
       "│ After Jacob and Cam went to the park, Cam gave a drink to         │ ' Jacob'   │ ' Cam'     │ 12806   │ 7298    │\n",
       "│ After Jacob and Cam went to the park, Jacob gave a drink to       │ ' Cam'     │ ' Jacob'   │ 7298    │ 12806   │\n",
       "└───────────────────────────────────────────────────────────────────┴────────────┴────────────┴─────────┴─────────┘\n"
      ]
     },
     "metadata": {},
     "output_type": "display_data"
    }
   ],
   "source": [
    "table = Table(\"Prompt\", \"Correct\", \"Incorrect\", \"Token 1\", \"Token 2\", title=\"Prompts & Answers:\")\n",
    "\n",
    "for prompt, answer, token in zip(prompts, answers, answer_tokens.tolist()):\n",
    "    table.add_row(prompt, repr(answer[0]), repr(answer[1]), str(token[0]), str(token[1]))\n",
    "\n",
    "rprint(table)"
   ]
  },
  {
   "attachments": {},
   "cell_type": "markdown",
   "metadata": {},
   "source": [
    "## Average Logit Differences"
   ]
  },
  {
   "cell_type": "code",
   "execution_count": 763,
   "metadata": {},
   "outputs": [],
   "source": [
    "tokens = model.to_tokens(prompts, prepend_bos=True)\n",
    "tokens = tokens.to(device)\n",
    "\n",
    "original_logits, cache = model.run_with_cache(tokens)\n",
    "original_cache = cache"
   ]
  },
  {
   "cell_type": "code",
   "execution_count": 764,
   "metadata": {},
   "outputs": [
    {
     "name": "stdout",
     "output_type": "stream",
     "text": [
      "Logit difference accuracy:  1.000\n",
      "Per prompt logit difference: tensor([3.2016, 3.3367, 2.7095, 3.7975, 1.7204, 5.2812, 2.6008, 5.7674, 3.0110,\n",
      "        2.4750, 1.9531, 2.2397, 2.2629, 3.5962, 2.1930, 3.0245, 1.5002, 2.1427,\n",
      "        2.8699, 2.3140, 3.8759, 3.6036], device='cuda:0',\n",
      "       grad_fn=<SubBackward0>)\n",
      "Logit difference accuracy:  1.000\n",
      "Average logit difference: 2.976\n"
     ]
    },
    {
     "data": {
      "text/html": [
       "<pre style=\"white-space:pre;overflow-x:auto;line-height:normal;font-family:Menlo,'DejaVu Sans Mono',consolas,'Courier New',monospace\"><span style=\"font-style: italic\">                                                Logit differences                                                 </span>\n",
       "┏━━━━━━━━━━━━━━━━━━━━━━━━━━━━━━━━━━━━━━━━━━━━━━━━━━━━━━━━━━━━━━━━━━━┳━━━━━━━━━━━━┳━━━━━━━━━━━━┳━━━━━━━━━━━━━━━━━━┓\n",
       "┃<span style=\"font-weight: bold\"> Prompt                                                            </span>┃<span style=\"font-weight: bold\"> Correct    </span>┃<span style=\"font-weight: bold\"> Incorrect  </span>┃<span style=\"font-weight: bold\"> Logit Difference </span>┃\n",
       "┡━━━━━━━━━━━━━━━━━━━━━━━━━━━━━━━━━━━━━━━━━━━━━━━━━━━━━━━━━━━━━━━━━━━╇━━━━━━━━━━━━╇━━━━━━━━━━━━╇━━━━━━━━━━━━━━━━━━┩\n",
       "│ When John and Mary went to the shops, Mary gave the bag to        │<span style=\"color: #00c800; text-decoration-color: #00c800; font-weight: bold\"> ' John'    </span>│<span style=\"color: #ff0000; text-decoration-color: #ff0000; font-weight: bold\"> ' Mary'    </span>│<span style=\"font-weight: bold\"> 3.202            </span>│\n",
       "│ When John and Mary went to the shops, John gave the bag to        │<span style=\"color: #00c800; text-decoration-color: #00c800; font-weight: bold\"> ' Mary'    </span>│<span style=\"color: #ff0000; text-decoration-color: #ff0000; font-weight: bold\"> ' John'    </span>│<span style=\"font-weight: bold\"> 3.337            </span>│\n",
       "│ When Tom and James went to the park, James gave the ball to       │<span style=\"color: #00c800; text-decoration-color: #00c800; font-weight: bold\"> ' Tom'     </span>│<span style=\"color: #ff0000; text-decoration-color: #ff0000; font-weight: bold\"> ' James'   </span>│<span style=\"font-weight: bold\"> 2.709            </span>│\n",
       "│ When Tom and James went to the park, Tom gave the ball to         │<span style=\"color: #00c800; text-decoration-color: #00c800; font-weight: bold\"> ' James'   </span>│<span style=\"color: #ff0000; text-decoration-color: #ff0000; font-weight: bold\"> ' Tom'     </span>│<span style=\"font-weight: bold\"> 3.797            </span>│\n",
       "│ When Dan and Sid went to the shops, Sid gave an apple to          │<span style=\"color: #00c800; text-decoration-color: #00c800; font-weight: bold\"> ' Dan'     </span>│<span style=\"color: #ff0000; text-decoration-color: #ff0000; font-weight: bold\"> ' Sid'     </span>│<span style=\"font-weight: bold\"> 1.720            </span>│\n",
       "│ When Dan and Sid went to the shops, Dan gave an apple to          │<span style=\"color: #00c800; text-decoration-color: #00c800; font-weight: bold\"> ' Sid'     </span>│<span style=\"color: #ff0000; text-decoration-color: #ff0000; font-weight: bold\"> ' Dan'     </span>│<span style=\"font-weight: bold\"> 5.281            </span>│\n",
       "│ After Martin and Amy went to the park, Amy gave a drink to        │<span style=\"color: #00c800; text-decoration-color: #00c800; font-weight: bold\"> ' Martin'  </span>│<span style=\"color: #ff0000; text-decoration-color: #ff0000; font-weight: bold\"> ' Amy'     </span>│<span style=\"font-weight: bold\"> 2.601            </span>│\n",
       "│ After Martin and Amy went to the park, Martin gave a drink to     │<span style=\"color: #00c800; text-decoration-color: #00c800; font-weight: bold\"> ' Amy'     </span>│<span style=\"color: #ff0000; text-decoration-color: #ff0000; font-weight: bold\"> ' Martin'  </span>│<span style=\"font-weight: bold\"> 5.767            </span>│\n",
       "│ After Sam and Matt went to the park, Matt gave a drink to         │<span style=\"color: #00c800; text-decoration-color: #00c800; font-weight: bold\"> ' Sam'     </span>│<span style=\"color: #ff0000; text-decoration-color: #ff0000; font-weight: bold\"> ' Matt'    </span>│<span style=\"font-weight: bold\"> 3.011            </span>│\n",
       "│ After Sam and Matt went to the park, Sam gave a drink to          │<span style=\"color: #00c800; text-decoration-color: #00c800; font-weight: bold\"> ' Matt'    </span>│<span style=\"color: #ff0000; text-decoration-color: #ff0000; font-weight: bold\"> ' Sam'     </span>│<span style=\"font-weight: bold\"> 2.475            </span>│\n",
       "│ After Adam and Miles went to the park, Miles gave a drink to      │<span style=\"color: #00c800; text-decoration-color: #00c800; font-weight: bold\"> ' Adam'    </span>│<span style=\"color: #ff0000; text-decoration-color: #ff0000; font-weight: bold\"> ' Miles'   </span>│<span style=\"font-weight: bold\"> 1.953            </span>│\n",
       "│ After Adam and Miles went to the park, Adam gave a drink to       │<span style=\"color: #00c800; text-decoration-color: #00c800; font-weight: bold\"> ' Miles'   </span>│<span style=\"color: #ff0000; text-decoration-color: #ff0000; font-weight: bold\"> ' Adam'    </span>│<span style=\"font-weight: bold\"> 2.240            </span>│\n",
       "│ After Oscar and William went to the park, William gave a drink to │<span style=\"color: #00c800; text-decoration-color: #00c800; font-weight: bold\"> ' Oscar'   </span>│<span style=\"color: #ff0000; text-decoration-color: #ff0000; font-weight: bold\"> ' William' </span>│<span style=\"font-weight: bold\"> 2.263            </span>│\n",
       "│ After Oscar and William went to the park, Oscar gave a drink to   │<span style=\"color: #00c800; text-decoration-color: #00c800; font-weight: bold\"> ' William' </span>│<span style=\"color: #ff0000; text-decoration-color: #ff0000; font-weight: bold\"> ' Oscar'   </span>│<span style=\"font-weight: bold\"> 3.596            </span>│\n",
       "│ After Sally and Kate went to the park, Kate gave a drink to       │<span style=\"color: #00c800; text-decoration-color: #00c800; font-weight: bold\"> ' Sally'   </span>│<span style=\"color: #ff0000; text-decoration-color: #ff0000; font-weight: bold\"> ' Kate'    </span>│<span style=\"font-weight: bold\"> 2.193            </span>│\n",
       "│ After Sally and Kate went to the park, Sally gave a drink to      │<span style=\"color: #00c800; text-decoration-color: #00c800; font-weight: bold\"> ' Kate'    </span>│<span style=\"color: #ff0000; text-decoration-color: #ff0000; font-weight: bold\"> ' Sally'   </span>│<span style=\"font-weight: bold\"> 3.025            </span>│\n",
       "│ After Karen and Lisa went to the park, Lisa gave a drink to       │<span style=\"color: #00c800; text-decoration-color: #00c800; font-weight: bold\"> ' Karen'   </span>│<span style=\"color: #ff0000; text-decoration-color: #ff0000; font-weight: bold\"> ' Lisa'    </span>│<span style=\"font-weight: bold\"> 1.500            </span>│\n",
       "│ After Karen and Lisa went to the park, Karen gave a drink to      │<span style=\"color: #00c800; text-decoration-color: #00c800; font-weight: bold\"> ' Lisa'    </span>│<span style=\"color: #ff0000; text-decoration-color: #ff0000; font-weight: bold\"> ' Karen'   </span>│<span style=\"font-weight: bold\"> 2.143            </span>│\n",
       "│ After Emily and Laura went to the park, Laura gave a drink to     │<span style=\"color: #00c800; text-decoration-color: #00c800; font-weight: bold\"> ' Emily'   </span>│<span style=\"color: #ff0000; text-decoration-color: #ff0000; font-weight: bold\"> ' Laura'   </span>│<span style=\"font-weight: bold\"> 2.870            </span>│\n",
       "│ After Emily and Laura went to the park, Emily gave a drink to     │<span style=\"color: #00c800; text-decoration-color: #00c800; font-weight: bold\"> ' Laura'   </span>│<span style=\"color: #ff0000; text-decoration-color: #ff0000; font-weight: bold\"> ' Emily'   </span>│<span style=\"font-weight: bold\"> 2.314            </span>│\n",
       "│ After Jacob and Cam went to the park, Cam gave a drink to         │<span style=\"color: #00c800; text-decoration-color: #00c800; font-weight: bold\"> ' Jacob'   </span>│<span style=\"color: #ff0000; text-decoration-color: #ff0000; font-weight: bold\"> ' Cam'     </span>│<span style=\"font-weight: bold\"> 3.876            </span>│\n",
       "│ After Jacob and Cam went to the park, Jacob gave a drink to       │<span style=\"color: #00c800; text-decoration-color: #00c800; font-weight: bold\"> ' Cam'     </span>│<span style=\"color: #ff0000; text-decoration-color: #ff0000; font-weight: bold\"> ' Jacob'   </span>│<span style=\"font-weight: bold\"> 3.604            </span>│\n",
       "└───────────────────────────────────────────────────────────────────┴────────────┴────────────┴──────────────────┘\n",
       "</pre>\n"
      ],
      "text/plain": [
       "\u001b[3m                                                Logit differences                                                 \u001b[0m\n",
       "┏━━━━━━━━━━━━━━━━━━━━━━━━━━━━━━━━━━━━━━━━━━━━━━━━━━━━━━━━━━━━━━━━━━━┳━━━━━━━━━━━━┳━━━━━━━━━━━━┳━━━━━━━━━━━━━━━━━━┓\n",
       "┃\u001b[1m \u001b[0m\u001b[1mPrompt                                                           \u001b[0m\u001b[1m \u001b[0m┃\u001b[1m \u001b[0m\u001b[1mCorrect   \u001b[0m\u001b[1m \u001b[0m┃\u001b[1m \u001b[0m\u001b[1mIncorrect \u001b[0m\u001b[1m \u001b[0m┃\u001b[1m \u001b[0m\u001b[1mLogit Difference\u001b[0m\u001b[1m \u001b[0m┃\n",
       "┡━━━━━━━━━━━━━━━━━━━━━━━━━━━━━━━━━━━━━━━━━━━━━━━━━━━━━━━━━━━━━━━━━━━╇━━━━━━━━━━━━╇━━━━━━━━━━━━╇━━━━━━━━━━━━━━━━━━┩\n",
       "│ When John and Mary went to the shops, Mary gave the bag to        │\u001b[1;38;2;0;200;0m \u001b[0m\u001b[1;38;2;0;200;0m' John'   \u001b[0m\u001b[1;38;2;0;200;0m \u001b[0m│\u001b[1;38;2;255;0;0m \u001b[0m\u001b[1;38;2;255;0;0m' Mary'   \u001b[0m\u001b[1;38;2;255;0;0m \u001b[0m│\u001b[1m \u001b[0m\u001b[1m3.202           \u001b[0m\u001b[1m \u001b[0m│\n",
       "│ When John and Mary went to the shops, John gave the bag to        │\u001b[1;38;2;0;200;0m \u001b[0m\u001b[1;38;2;0;200;0m' Mary'   \u001b[0m\u001b[1;38;2;0;200;0m \u001b[0m│\u001b[1;38;2;255;0;0m \u001b[0m\u001b[1;38;2;255;0;0m' John'   \u001b[0m\u001b[1;38;2;255;0;0m \u001b[0m│\u001b[1m \u001b[0m\u001b[1m3.337           \u001b[0m\u001b[1m \u001b[0m│\n",
       "│ When Tom and James went to the park, James gave the ball to       │\u001b[1;38;2;0;200;0m \u001b[0m\u001b[1;38;2;0;200;0m' Tom'    \u001b[0m\u001b[1;38;2;0;200;0m \u001b[0m│\u001b[1;38;2;255;0;0m \u001b[0m\u001b[1;38;2;255;0;0m' James'  \u001b[0m\u001b[1;38;2;255;0;0m \u001b[0m│\u001b[1m \u001b[0m\u001b[1m2.709           \u001b[0m\u001b[1m \u001b[0m│\n",
       "│ When Tom and James went to the park, Tom gave the ball to         │\u001b[1;38;2;0;200;0m \u001b[0m\u001b[1;38;2;0;200;0m' James'  \u001b[0m\u001b[1;38;2;0;200;0m \u001b[0m│\u001b[1;38;2;255;0;0m \u001b[0m\u001b[1;38;2;255;0;0m' Tom'    \u001b[0m\u001b[1;38;2;255;0;0m \u001b[0m│\u001b[1m \u001b[0m\u001b[1m3.797           \u001b[0m\u001b[1m \u001b[0m│\n",
       "│ When Dan and Sid went to the shops, Sid gave an apple to          │\u001b[1;38;2;0;200;0m \u001b[0m\u001b[1;38;2;0;200;0m' Dan'    \u001b[0m\u001b[1;38;2;0;200;0m \u001b[0m│\u001b[1;38;2;255;0;0m \u001b[0m\u001b[1;38;2;255;0;0m' Sid'    \u001b[0m\u001b[1;38;2;255;0;0m \u001b[0m│\u001b[1m \u001b[0m\u001b[1m1.720           \u001b[0m\u001b[1m \u001b[0m│\n",
       "│ When Dan and Sid went to the shops, Dan gave an apple to          │\u001b[1;38;2;0;200;0m \u001b[0m\u001b[1;38;2;0;200;0m' Sid'    \u001b[0m\u001b[1;38;2;0;200;0m \u001b[0m│\u001b[1;38;2;255;0;0m \u001b[0m\u001b[1;38;2;255;0;0m' Dan'    \u001b[0m\u001b[1;38;2;255;0;0m \u001b[0m│\u001b[1m \u001b[0m\u001b[1m5.281           \u001b[0m\u001b[1m \u001b[0m│\n",
       "│ After Martin and Amy went to the park, Amy gave a drink to        │\u001b[1;38;2;0;200;0m \u001b[0m\u001b[1;38;2;0;200;0m' Martin' \u001b[0m\u001b[1;38;2;0;200;0m \u001b[0m│\u001b[1;38;2;255;0;0m \u001b[0m\u001b[1;38;2;255;0;0m' Amy'    \u001b[0m\u001b[1;38;2;255;0;0m \u001b[0m│\u001b[1m \u001b[0m\u001b[1m2.601           \u001b[0m\u001b[1m \u001b[0m│\n",
       "│ After Martin and Amy went to the park, Martin gave a drink to     │\u001b[1;38;2;0;200;0m \u001b[0m\u001b[1;38;2;0;200;0m' Amy'    \u001b[0m\u001b[1;38;2;0;200;0m \u001b[0m│\u001b[1;38;2;255;0;0m \u001b[0m\u001b[1;38;2;255;0;0m' Martin' \u001b[0m\u001b[1;38;2;255;0;0m \u001b[0m│\u001b[1m \u001b[0m\u001b[1m5.767           \u001b[0m\u001b[1m \u001b[0m│\n",
       "│ After Sam and Matt went to the park, Matt gave a drink to         │\u001b[1;38;2;0;200;0m \u001b[0m\u001b[1;38;2;0;200;0m' Sam'    \u001b[0m\u001b[1;38;2;0;200;0m \u001b[0m│\u001b[1;38;2;255;0;0m \u001b[0m\u001b[1;38;2;255;0;0m' Matt'   \u001b[0m\u001b[1;38;2;255;0;0m \u001b[0m│\u001b[1m \u001b[0m\u001b[1m3.011           \u001b[0m\u001b[1m \u001b[0m│\n",
       "│ After Sam and Matt went to the park, Sam gave a drink to          │\u001b[1;38;2;0;200;0m \u001b[0m\u001b[1;38;2;0;200;0m' Matt'   \u001b[0m\u001b[1;38;2;0;200;0m \u001b[0m│\u001b[1;38;2;255;0;0m \u001b[0m\u001b[1;38;2;255;0;0m' Sam'    \u001b[0m\u001b[1;38;2;255;0;0m \u001b[0m│\u001b[1m \u001b[0m\u001b[1m2.475           \u001b[0m\u001b[1m \u001b[0m│\n",
       "│ After Adam and Miles went to the park, Miles gave a drink to      │\u001b[1;38;2;0;200;0m \u001b[0m\u001b[1;38;2;0;200;0m' Adam'   \u001b[0m\u001b[1;38;2;0;200;0m \u001b[0m│\u001b[1;38;2;255;0;0m \u001b[0m\u001b[1;38;2;255;0;0m' Miles'  \u001b[0m\u001b[1;38;2;255;0;0m \u001b[0m│\u001b[1m \u001b[0m\u001b[1m1.953           \u001b[0m\u001b[1m \u001b[0m│\n",
       "│ After Adam and Miles went to the park, Adam gave a drink to       │\u001b[1;38;2;0;200;0m \u001b[0m\u001b[1;38;2;0;200;0m' Miles'  \u001b[0m\u001b[1;38;2;0;200;0m \u001b[0m│\u001b[1;38;2;255;0;0m \u001b[0m\u001b[1;38;2;255;0;0m' Adam'   \u001b[0m\u001b[1;38;2;255;0;0m \u001b[0m│\u001b[1m \u001b[0m\u001b[1m2.240           \u001b[0m\u001b[1m \u001b[0m│\n",
       "│ After Oscar and William went to the park, William gave a drink to │\u001b[1;38;2;0;200;0m \u001b[0m\u001b[1;38;2;0;200;0m' Oscar'  \u001b[0m\u001b[1;38;2;0;200;0m \u001b[0m│\u001b[1;38;2;255;0;0m \u001b[0m\u001b[1;38;2;255;0;0m' William'\u001b[0m\u001b[1;38;2;255;0;0m \u001b[0m│\u001b[1m \u001b[0m\u001b[1m2.263           \u001b[0m\u001b[1m \u001b[0m│\n",
       "│ After Oscar and William went to the park, Oscar gave a drink to   │\u001b[1;38;2;0;200;0m \u001b[0m\u001b[1;38;2;0;200;0m' William'\u001b[0m\u001b[1;38;2;0;200;0m \u001b[0m│\u001b[1;38;2;255;0;0m \u001b[0m\u001b[1;38;2;255;0;0m' Oscar'  \u001b[0m\u001b[1;38;2;255;0;0m \u001b[0m│\u001b[1m \u001b[0m\u001b[1m3.596           \u001b[0m\u001b[1m \u001b[0m│\n",
       "│ After Sally and Kate went to the park, Kate gave a drink to       │\u001b[1;38;2;0;200;0m \u001b[0m\u001b[1;38;2;0;200;0m' Sally'  \u001b[0m\u001b[1;38;2;0;200;0m \u001b[0m│\u001b[1;38;2;255;0;0m \u001b[0m\u001b[1;38;2;255;0;0m' Kate'   \u001b[0m\u001b[1;38;2;255;0;0m \u001b[0m│\u001b[1m \u001b[0m\u001b[1m2.193           \u001b[0m\u001b[1m \u001b[0m│\n",
       "│ After Sally and Kate went to the park, Sally gave a drink to      │\u001b[1;38;2;0;200;0m \u001b[0m\u001b[1;38;2;0;200;0m' Kate'   \u001b[0m\u001b[1;38;2;0;200;0m \u001b[0m│\u001b[1;38;2;255;0;0m \u001b[0m\u001b[1;38;2;255;0;0m' Sally'  \u001b[0m\u001b[1;38;2;255;0;0m \u001b[0m│\u001b[1m \u001b[0m\u001b[1m3.025           \u001b[0m\u001b[1m \u001b[0m│\n",
       "│ After Karen and Lisa went to the park, Lisa gave a drink to       │\u001b[1;38;2;0;200;0m \u001b[0m\u001b[1;38;2;0;200;0m' Karen'  \u001b[0m\u001b[1;38;2;0;200;0m \u001b[0m│\u001b[1;38;2;255;0;0m \u001b[0m\u001b[1;38;2;255;0;0m' Lisa'   \u001b[0m\u001b[1;38;2;255;0;0m \u001b[0m│\u001b[1m \u001b[0m\u001b[1m1.500           \u001b[0m\u001b[1m \u001b[0m│\n",
       "│ After Karen and Lisa went to the park, Karen gave a drink to      │\u001b[1;38;2;0;200;0m \u001b[0m\u001b[1;38;2;0;200;0m' Lisa'   \u001b[0m\u001b[1;38;2;0;200;0m \u001b[0m│\u001b[1;38;2;255;0;0m \u001b[0m\u001b[1;38;2;255;0;0m' Karen'  \u001b[0m\u001b[1;38;2;255;0;0m \u001b[0m│\u001b[1m \u001b[0m\u001b[1m2.143           \u001b[0m\u001b[1m \u001b[0m│\n",
       "│ After Emily and Laura went to the park, Laura gave a drink to     │\u001b[1;38;2;0;200;0m \u001b[0m\u001b[1;38;2;0;200;0m' Emily'  \u001b[0m\u001b[1;38;2;0;200;0m \u001b[0m│\u001b[1;38;2;255;0;0m \u001b[0m\u001b[1;38;2;255;0;0m' Laura'  \u001b[0m\u001b[1;38;2;255;0;0m \u001b[0m│\u001b[1m \u001b[0m\u001b[1m2.870           \u001b[0m\u001b[1m \u001b[0m│\n",
       "│ After Emily and Laura went to the park, Emily gave a drink to     │\u001b[1;38;2;0;200;0m \u001b[0m\u001b[1;38;2;0;200;0m' Laura'  \u001b[0m\u001b[1;38;2;0;200;0m \u001b[0m│\u001b[1;38;2;255;0;0m \u001b[0m\u001b[1;38;2;255;0;0m' Emily'  \u001b[0m\u001b[1;38;2;255;0;0m \u001b[0m│\u001b[1m \u001b[0m\u001b[1m2.314           \u001b[0m\u001b[1m \u001b[0m│\n",
       "│ After Jacob and Cam went to the park, Cam gave a drink to         │\u001b[1;38;2;0;200;0m \u001b[0m\u001b[1;38;2;0;200;0m' Jacob'  \u001b[0m\u001b[1;38;2;0;200;0m \u001b[0m│\u001b[1;38;2;255;0;0m \u001b[0m\u001b[1;38;2;255;0;0m' Cam'    \u001b[0m\u001b[1;38;2;255;0;0m \u001b[0m│\u001b[1m \u001b[0m\u001b[1m3.876           \u001b[0m\u001b[1m \u001b[0m│\n",
       "│ After Jacob and Cam went to the park, Jacob gave a drink to       │\u001b[1;38;2;0;200;0m \u001b[0m\u001b[1;38;2;0;200;0m' Cam'    \u001b[0m\u001b[1;38;2;0;200;0m \u001b[0m│\u001b[1;38;2;255;0;0m \u001b[0m\u001b[1;38;2;255;0;0m' Jacob'  \u001b[0m\u001b[1;38;2;255;0;0m \u001b[0m│\u001b[1m \u001b[0m\u001b[1m3.604           \u001b[0m\u001b[1m \u001b[0m│\n",
       "└───────────────────────────────────────────────────────────────────┴────────────┴────────────┴──────────────────┘\n"
      ]
     },
     "metadata": {},
     "output_type": "display_data"
    }
   ],
   "source": [
    "def logits_to_ave_logit_diff(\n",
    "    logits: Float[Tensor, \"batch seq d_vocab\"],\n",
    "    answer_tokens: Float[Tensor, \"batch 2\"] = answer_tokens,\n",
    "    per_prompt: bool = False\n",
    "):\n",
    "    '''\n",
    "    Returns logit difference between the correct and incorrect answer. The first token is assumed to be correct.\n",
    "\n",
    "    If per_prompt=True, return the array of differences rather than the average.\n",
    "    '''\n",
    "    # Only the final logits are relevant for the answer\n",
    "    final_logits: Float[Tensor, \"batch d_vocab\"] = logits[:, -1, :]\n",
    "    # Get the logits corresponding to the indirect object / subject tokens respectively\n",
    "    answer_logits: Float[Tensor, \"batch 2\"] = final_logits.gather(dim=-1, index=answer_tokens)\n",
    "    # Find logit difference\n",
    "    correct_logits, incorrect_logits = answer_logits.unbind(dim=-1)\n",
    "    answer_logit_diff = correct_logits - incorrect_logits\n",
    "\n",
    "    accuracy = (answer_logit_diff > 0).float().mean()\n",
    "    print(\"Logit difference accuracy: \", f\"{accuracy.item():.3f}\")\n",
    "    \n",
    "    return answer_logit_diff if per_prompt else f\"{answer_logit_diff.mean():.3f}\"\n",
    "\n",
    "\n",
    "original_per_prompt_diff = logits_to_ave_logit_diff(original_logits, answer_tokens, per_prompt=True)\n",
    "print(\"Per prompt logit difference:\", original_per_prompt_diff)\n",
    "original_average_logit_diff = logits_to_ave_logit_diff(original_logits, answer_tokens)\n",
    "print(\"Average logit difference:\", original_average_logit_diff)\n",
    "\n",
    "cols = [\n",
    "    \"Prompt\", \n",
    "    Column(\"Correct\", style=\"rgb(0,200,0) bold\"), \n",
    "    Column(\"Incorrect\", style=\"rgb(255,0,0) bold\"), \n",
    "    Column(\"Logit Difference\", style=\"bold\")\n",
    "]\n",
    "table = Table(*cols, title=\"Logit differences\")\n",
    "\n",
    "for prompt, answer, logit_diff in zip(prompts, answers, original_per_prompt_diff):\n",
    "    table.add_row(prompt, repr(answer[0]), repr(answer[1]), f\"{logit_diff.item():.3f}\")\n",
    "\n",
    "rprint(table)"
   ]
  },
  {
   "attachments": {},
   "cell_type": "markdown",
   "metadata": {},
   "source": [
    "## Logit attribution"
   ]
  },
  {
   "cell_type": "code",
   "execution_count": 765,
   "metadata": {},
   "outputs": [],
   "source": [
    "def get_logit_diff_directions(model, answer_tokens) -> Float[Tensor, \"batch d_model\"]:\n",
    "    \"\"\"\n",
    "    The ideal logit difference direction in the unembed, formed by substracting the incorrect answer token's direction from the correct answer token's direction.\n",
    "    \"\"\"\n",
    "    \n",
    "    # Token unembed with layer norm handled\n",
    "    answer_residual_directions = model.tokens_to_residual_directions(answer_tokens)\n",
    "    correct_residual_directions, incorrect_residual_directions = answer_residual_directions.unbind(dim=1)\n",
    "    logit_diff_directions = correct_residual_directions - incorrect_residual_directions\n",
    "    # print(\"Answer residual directions shape:\", answer_residual_directions.shape)\n",
    "    # print(f\"Logit difference directions shape:\", logit_diff_directions.shape)\n",
    "    return logit_diff_directions\n",
    "\n",
    "\n",
    "logit_diff_directions = get_logit_diff_directions(model, answer_tokens)"
   ]
  },
  {
   "cell_type": "code",
   "execution_count": 766,
   "metadata": {},
   "outputs": [
    {
     "name": "stdout",
     "output_type": "stream",
     "text": [
      "Final residual stream shape: torch.Size([22, 15, 768])\n",
      "Calculated average logit diff: 2.9762179852\n",
      "Original logit difference:     2.976\n"
     ]
    }
   ],
   "source": [
    "# Cache syntax - resid_post is the residual stream at the end of the layer, -1 gets the final layer. The general syntax is [activation_name, layer_index, sub_layer_type]. \n",
    "final_residual_stream: Float[Tensor, \"batch seq d_model\"] = cache[\"resid_post\", -1]\n",
    "print(f\"Final residual stream shape: {final_residual_stream.shape}\")\n",
    "final_token_residual_stream: Float[Tensor, \"batch d_model\"] = final_residual_stream[:, -1, :]\n",
    "\n",
    "# Apply LayerNorm scaling (to just the final sequence position)\n",
    "# pos_slice is the subset of the positions we take - here the final token of each prompt\n",
    "scaled_final_token_residual_stream = cache.apply_ln_to_stack(final_token_residual_stream, layer=-1, pos_slice=-1)\n",
    "\n",
    "average_logit_diff = einops.einsum(\n",
    "    scaled_final_token_residual_stream, logit_diff_directions,\n",
    "    \"batch d_model, batch d_model ->\"\n",
    ") / len(prompts)\n",
    "\n",
    "print(f\"Calculated average logit diff: {average_logit_diff:.10f}\")\n",
    "print(f\"Original logit difference:     {original_average_logit_diff}\")\n"
   ]
  },
  {
   "cell_type": "code",
   "execution_count": 767,
   "metadata": {},
   "outputs": [],
   "source": [
    "def residual_stack_to_logit_diff(\n",
    "    residual_stack: Float[Tensor, \"... batch d_model\"], \n",
    "    cache: ActivationCache,\n",
    "    logit_diff_directions: Float[Tensor, \"batch d_model\"] = logit_diff_directions,\n",
    ") -> Float[Tensor, \"...\"]:\n",
    "    '''\n",
    "    Gets the avg logit difference between the correct and incorrect answer for a given \n",
    "    stack of components in the residual stream.\n",
    "    '''\n",
    "    batch_size = residual_stack.size(-2)\n",
    "    scaled_residual_stack = cache.apply_ln_to_stack(residual_stack, layer=-1, pos_slice=-1)\n",
    "    return einops.einsum(\n",
    "        scaled_residual_stack, logit_diff_directions,\n",
    "        \"... batch d_model, batch d_model -> ...\"\n",
    "    ) / batch_size\n",
    "\n",
    "# torch.testing.assert_close(\n",
    "#     residual_stack_to_logit_diff(final_token_residual_stream, cache),\n",
    "#     original_average_logit_diff\n",
    "# )"
   ]
  },
  {
   "cell_type": "code",
   "execution_count": 768,
   "metadata": {},
   "outputs": [
    {
     "data": {
      "text/html": [
       "        <script type=\"text/javascript\">\n",
       "        window.PlotlyConfig = {MathJaxConfig: 'local'};\n",
       "        if (window.MathJax && window.MathJax.Hub && window.MathJax.Hub.Config) {window.MathJax.Hub.Config({SVG: {font: \"STIX-Web\"}});}\n",
       "        if (typeof require !== 'undefined') {\n",
       "        require.undef(\"plotly\");\n",
       "        requirejs.config({\n",
       "            paths: {\n",
       "                'plotly': ['https://cdn.plot.ly/plotly-2.24.1.min']\n",
       "            }\n",
       "        });\n",
       "        require(['plotly'], function(Plotly) {\n",
       "            window._Plotly = Plotly;\n",
       "        });\n",
       "        }\n",
       "        </script>\n",
       "        "
      ]
     },
     "metadata": {},
     "output_type": "display_data"
    },
    {
     "data": {
      "text/html": [
       "<div>                            <div id=\"bee74efa-c4c0-4a5e-9723-6d6ae3bb2cf9\" class=\"plotly-graph-div\" style=\"height:525px; width:800px;\"></div>            <script type=\"text/javascript\">                require([\"plotly\"], function(Plotly) {                    window.PLOTLYENV=window.PLOTLYENV || {};                                    if (document.getElementById(\"bee74efa-c4c0-4a5e-9723-6d6ae3bb2cf9\")) {                    Plotly.newPlot(                        \"bee74efa-c4c0-4a5e-9723-6d6ae3bb2cf9\",                        [{\"hovertemplate\":\"variable=0\\u003cbr\\u003eindex=%{x}\\u003cbr\\u003evalue=%{y}\\u003cextra\\u003e\\u003c\\u002fextra\\u003e\",\"legendgroup\":\"0\",\"line\":{\"color\":\"#636efa\",\"dash\":\"solid\"},\"marker\":{\"symbol\":\"circle\"},\"mode\":\"lines\",\"name\":\"0\",\"orientation\":\"v\",\"showlegend\":true,\"x\":[0,1,2,3,4,5,6,7,8,9,10,11,12,13,14,15,16,17,18,19,20,21,22,23,24],\"xaxis\":\"x\",\"y\":[-0.0002576214901637286,-0.014532994478940964,-0.010641876608133316,-0.012463469989597797,-0.009090506471693516,-0.008967372588813305,-0.005352178122848272,-0.009565065614879131,-0.00835601706057787,-0.012692120857536793,-0.011383320204913616,-0.015078417956829071,-0.00749881099909544,-0.01971203088760376,-0.021190041676163673,0.19762271642684937,0.1886105090379715,0.31969085335731506,0.3288213312625885,4.435200214385986,4.547314643859863,4.202828407287598,4.360716342926025,2.927330732345581,2.9762179851531982],\"yaxis\":\"y\",\"type\":\"scatter\"}],                        {\"template\":{\"data\":{\"histogram2dcontour\":[{\"type\":\"histogram2dcontour\",\"colorbar\":{\"outlinewidth\":0,\"ticks\":\"\"},\"colorscale\":[[0.0,\"#0d0887\"],[0.1111111111111111,\"#46039f\"],[0.2222222222222222,\"#7201a8\"],[0.3333333333333333,\"#9c179e\"],[0.4444444444444444,\"#bd3786\"],[0.5555555555555556,\"#d8576b\"],[0.6666666666666666,\"#ed7953\"],[0.7777777777777778,\"#fb9f3a\"],[0.8888888888888888,\"#fdca26\"],[1.0,\"#f0f921\"]]}],\"choropleth\":[{\"type\":\"choropleth\",\"colorbar\":{\"outlinewidth\":0,\"ticks\":\"\"}}],\"histogram2d\":[{\"type\":\"histogram2d\",\"colorbar\":{\"outlinewidth\":0,\"ticks\":\"\"},\"colorscale\":[[0.0,\"#0d0887\"],[0.1111111111111111,\"#46039f\"],[0.2222222222222222,\"#7201a8\"],[0.3333333333333333,\"#9c179e\"],[0.4444444444444444,\"#bd3786\"],[0.5555555555555556,\"#d8576b\"],[0.6666666666666666,\"#ed7953\"],[0.7777777777777778,\"#fb9f3a\"],[0.8888888888888888,\"#fdca26\"],[1.0,\"#f0f921\"]]}],\"heatmap\":[{\"type\":\"heatmap\",\"colorbar\":{\"outlinewidth\":0,\"ticks\":\"\"},\"colorscale\":[[0.0,\"#0d0887\"],[0.1111111111111111,\"#46039f\"],[0.2222222222222222,\"#7201a8\"],[0.3333333333333333,\"#9c179e\"],[0.4444444444444444,\"#bd3786\"],[0.5555555555555556,\"#d8576b\"],[0.6666666666666666,\"#ed7953\"],[0.7777777777777778,\"#fb9f3a\"],[0.8888888888888888,\"#fdca26\"],[1.0,\"#f0f921\"]]}],\"heatmapgl\":[{\"type\":\"heatmapgl\",\"colorbar\":{\"outlinewidth\":0,\"ticks\":\"\"},\"colorscale\":[[0.0,\"#0d0887\"],[0.1111111111111111,\"#46039f\"],[0.2222222222222222,\"#7201a8\"],[0.3333333333333333,\"#9c179e\"],[0.4444444444444444,\"#bd3786\"],[0.5555555555555556,\"#d8576b\"],[0.6666666666666666,\"#ed7953\"],[0.7777777777777778,\"#fb9f3a\"],[0.8888888888888888,\"#fdca26\"],[1.0,\"#f0f921\"]]}],\"contourcarpet\":[{\"type\":\"contourcarpet\",\"colorbar\":{\"outlinewidth\":0,\"ticks\":\"\"}}],\"contour\":[{\"type\":\"contour\",\"colorbar\":{\"outlinewidth\":0,\"ticks\":\"\"},\"colorscale\":[[0.0,\"#0d0887\"],[0.1111111111111111,\"#46039f\"],[0.2222222222222222,\"#7201a8\"],[0.3333333333333333,\"#9c179e\"],[0.4444444444444444,\"#bd3786\"],[0.5555555555555556,\"#d8576b\"],[0.6666666666666666,\"#ed7953\"],[0.7777777777777778,\"#fb9f3a\"],[0.8888888888888888,\"#fdca26\"],[1.0,\"#f0f921\"]]}],\"surface\":[{\"type\":\"surface\",\"colorbar\":{\"outlinewidth\":0,\"ticks\":\"\"},\"colorscale\":[[0.0,\"#0d0887\"],[0.1111111111111111,\"#46039f\"],[0.2222222222222222,\"#7201a8\"],[0.3333333333333333,\"#9c179e\"],[0.4444444444444444,\"#bd3786\"],[0.5555555555555556,\"#d8576b\"],[0.6666666666666666,\"#ed7953\"],[0.7777777777777778,\"#fb9f3a\"],[0.8888888888888888,\"#fdca26\"],[1.0,\"#f0f921\"]]}],\"mesh3d\":[{\"type\":\"mesh3d\",\"colorbar\":{\"outlinewidth\":0,\"ticks\":\"\"}}],\"scatter\":[{\"fillpattern\":{\"fillmode\":\"overlay\",\"size\":10,\"solidity\":0.2},\"type\":\"scatter\"}],\"parcoords\":[{\"type\":\"parcoords\",\"line\":{\"colorbar\":{\"outlinewidth\":0,\"ticks\":\"\"}}}],\"scatterpolargl\":[{\"type\":\"scatterpolargl\",\"marker\":{\"colorbar\":{\"outlinewidth\":0,\"ticks\":\"\"}}}],\"bar\":[{\"error_x\":{\"color\":\"#2a3f5f\"},\"error_y\":{\"color\":\"#2a3f5f\"},\"marker\":{\"line\":{\"color\":\"#E5ECF6\",\"width\":0.5},\"pattern\":{\"fillmode\":\"overlay\",\"size\":10,\"solidity\":0.2}},\"type\":\"bar\"}],\"scattergeo\":[{\"type\":\"scattergeo\",\"marker\":{\"colorbar\":{\"outlinewidth\":0,\"ticks\":\"\"}}}],\"scatterpolar\":[{\"type\":\"scatterpolar\",\"marker\":{\"colorbar\":{\"outlinewidth\":0,\"ticks\":\"\"}}}],\"histogram\":[{\"marker\":{\"pattern\":{\"fillmode\":\"overlay\",\"size\":10,\"solidity\":0.2}},\"type\":\"histogram\"}],\"scattergl\":[{\"type\":\"scattergl\",\"marker\":{\"colorbar\":{\"outlinewidth\":0,\"ticks\":\"\"}}}],\"scatter3d\":[{\"type\":\"scatter3d\",\"line\":{\"colorbar\":{\"outlinewidth\":0,\"ticks\":\"\"}},\"marker\":{\"colorbar\":{\"outlinewidth\":0,\"ticks\":\"\"}}}],\"scattermapbox\":[{\"type\":\"scattermapbox\",\"marker\":{\"colorbar\":{\"outlinewidth\":0,\"ticks\":\"\"}}}],\"scatterternary\":[{\"type\":\"scatterternary\",\"marker\":{\"colorbar\":{\"outlinewidth\":0,\"ticks\":\"\"}}}],\"scattercarpet\":[{\"type\":\"scattercarpet\",\"marker\":{\"colorbar\":{\"outlinewidth\":0,\"ticks\":\"\"}}}],\"carpet\":[{\"aaxis\":{\"endlinecolor\":\"#2a3f5f\",\"gridcolor\":\"white\",\"linecolor\":\"white\",\"minorgridcolor\":\"white\",\"startlinecolor\":\"#2a3f5f\"},\"baxis\":{\"endlinecolor\":\"#2a3f5f\",\"gridcolor\":\"white\",\"linecolor\":\"white\",\"minorgridcolor\":\"white\",\"startlinecolor\":\"#2a3f5f\"},\"type\":\"carpet\"}],\"table\":[{\"cells\":{\"fill\":{\"color\":\"#EBF0F8\"},\"line\":{\"color\":\"white\"}},\"header\":{\"fill\":{\"color\":\"#C8D4E3\"},\"line\":{\"color\":\"white\"}},\"type\":\"table\"}],\"barpolar\":[{\"marker\":{\"line\":{\"color\":\"#E5ECF6\",\"width\":0.5},\"pattern\":{\"fillmode\":\"overlay\",\"size\":10,\"solidity\":0.2}},\"type\":\"barpolar\"}],\"pie\":[{\"automargin\":true,\"type\":\"pie\"}]},\"layout\":{\"autotypenumbers\":\"strict\",\"colorway\":[\"#636efa\",\"#EF553B\",\"#00cc96\",\"#ab63fa\",\"#FFA15A\",\"#19d3f3\",\"#FF6692\",\"#B6E880\",\"#FF97FF\",\"#FECB52\"],\"font\":{\"color\":\"#2a3f5f\"},\"hovermode\":\"closest\",\"hoverlabel\":{\"align\":\"left\"},\"paper_bgcolor\":\"white\",\"plot_bgcolor\":\"#E5ECF6\",\"polar\":{\"bgcolor\":\"#E5ECF6\",\"angularaxis\":{\"gridcolor\":\"white\",\"linecolor\":\"white\",\"ticks\":\"\"},\"radialaxis\":{\"gridcolor\":\"white\",\"linecolor\":\"white\",\"ticks\":\"\"}},\"ternary\":{\"bgcolor\":\"#E5ECF6\",\"aaxis\":{\"gridcolor\":\"white\",\"linecolor\":\"white\",\"ticks\":\"\"},\"baxis\":{\"gridcolor\":\"white\",\"linecolor\":\"white\",\"ticks\":\"\"},\"caxis\":{\"gridcolor\":\"white\",\"linecolor\":\"white\",\"ticks\":\"\"}},\"coloraxis\":{\"colorbar\":{\"outlinewidth\":0,\"ticks\":\"\"}},\"colorscale\":{\"sequential\":[[0.0,\"#0d0887\"],[0.1111111111111111,\"#46039f\"],[0.2222222222222222,\"#7201a8\"],[0.3333333333333333,\"#9c179e\"],[0.4444444444444444,\"#bd3786\"],[0.5555555555555556,\"#d8576b\"],[0.6666666666666666,\"#ed7953\"],[0.7777777777777778,\"#fb9f3a\"],[0.8888888888888888,\"#fdca26\"],[1.0,\"#f0f921\"]],\"sequentialminus\":[[0.0,\"#0d0887\"],[0.1111111111111111,\"#46039f\"],[0.2222222222222222,\"#7201a8\"],[0.3333333333333333,\"#9c179e\"],[0.4444444444444444,\"#bd3786\"],[0.5555555555555556,\"#d8576b\"],[0.6666666666666666,\"#ed7953\"],[0.7777777777777778,\"#fb9f3a\"],[0.8888888888888888,\"#fdca26\"],[1.0,\"#f0f921\"]],\"diverging\":[[0,\"#8e0152\"],[0.1,\"#c51b7d\"],[0.2,\"#de77ae\"],[0.3,\"#f1b6da\"],[0.4,\"#fde0ef\"],[0.5,\"#f7f7f7\"],[0.6,\"#e6f5d0\"],[0.7,\"#b8e186\"],[0.8,\"#7fbc41\"],[0.9,\"#4d9221\"],[1,\"#276419\"]]},\"xaxis\":{\"gridcolor\":\"white\",\"linecolor\":\"white\",\"ticks\":\"\",\"title\":{\"standoff\":15},\"zerolinecolor\":\"white\",\"automargin\":true,\"zerolinewidth\":2},\"yaxis\":{\"gridcolor\":\"white\",\"linecolor\":\"white\",\"ticks\":\"\",\"title\":{\"standoff\":15},\"zerolinecolor\":\"white\",\"automargin\":true,\"zerolinewidth\":2},\"scene\":{\"xaxis\":{\"backgroundcolor\":\"#E5ECF6\",\"gridcolor\":\"white\",\"linecolor\":\"white\",\"showbackground\":true,\"ticks\":\"\",\"zerolinecolor\":\"white\",\"gridwidth\":2},\"yaxis\":{\"backgroundcolor\":\"#E5ECF6\",\"gridcolor\":\"white\",\"linecolor\":\"white\",\"showbackground\":true,\"ticks\":\"\",\"zerolinecolor\":\"white\",\"gridwidth\":2},\"zaxis\":{\"backgroundcolor\":\"#E5ECF6\",\"gridcolor\":\"white\",\"linecolor\":\"white\",\"showbackground\":true,\"ticks\":\"\",\"zerolinecolor\":\"white\",\"gridwidth\":2}},\"shapedefaults\":{\"line\":{\"color\":\"#2a3f5f\"}},\"annotationdefaults\":{\"arrowcolor\":\"#2a3f5f\",\"arrowhead\":0,\"arrowwidth\":1},\"geo\":{\"bgcolor\":\"white\",\"landcolor\":\"#E5ECF6\",\"subunitcolor\":\"white\",\"showland\":true,\"showlakes\":true,\"lakecolor\":\"white\"},\"title\":{\"x\":0.05},\"mapbox\":{\"style\":\"light\"}}},\"xaxis\":{\"anchor\":\"y\",\"domain\":[0.0,1.0],\"title\":{\"text\":\"index\"}},\"yaxis\":{\"anchor\":\"x\",\"domain\":[0.0,1.0],\"title\":{\"text\":\"value\"}},\"legend\":{\"title\":{\"text\":\"variable\"},\"tracegroupgap\":0},\"title\":{\"text\":\"Logit Difference From Accumulated Residual Stream\"},\"width\":800},                        {\"responsive\": true}                    ).then(function(){\n",
       "                            \n",
       "var gd = document.getElementById('bee74efa-c4c0-4a5e-9723-6d6ae3bb2cf9');\n",
       "var x = new MutationObserver(function (mutations, observer) {{\n",
       "        var display = window.getComputedStyle(gd).display;\n",
       "        if (!display || display === 'none') {{\n",
       "            console.log([gd, 'removed!']);\n",
       "            Plotly.purge(gd);\n",
       "            observer.disconnect();\n",
       "        }}\n",
       "}});\n",
       "\n",
       "// Listen for the removal of the full notebook cells\n",
       "var notebookContainer = gd.closest('#notebook-container');\n",
       "if (notebookContainer) {{\n",
       "    x.observe(notebookContainer, {childList: true});\n",
       "}}\n",
       "\n",
       "// Listen for the clearing of the current output cell\n",
       "var outputEl = gd.closest('.output');\n",
       "if (outputEl) {{\n",
       "    x.observe(outputEl, {childList: true});\n",
       "}}\n",
       "\n",
       "                        })                };                });            </script>        </div>"
      ]
     },
     "metadata": {},
     "output_type": "display_data"
    }
   ],
   "source": [
    "accumulated_residual, labels = cache.accumulated_resid(layer=-1, incl_mid=True, pos_slice=-1, return_labels=True)\n",
    "# accumulated_residual has shape (component, batch, d_model)\n",
    "\n",
    "logit_lens_logit_diffs: Float[Tensor, \"component\"] = residual_stack_to_logit_diff(accumulated_residual, cache)\n",
    "\n",
    "line(\n",
    "    logit_lens_logit_diffs.detach().cpu().numpy(), \n",
    "    #hovermode=\"x unified\",\n",
    "    title=\"Logit Difference From Accumulated Residual Stream\",\n",
    "    labels={\"x\": \"Layer\", \"y\": \"Logit Diff\"},\n",
    "    #xaxis_tickvals=labels,\n",
    "    width=800\n",
    ")"
   ]
  },
  {
   "cell_type": "code",
   "execution_count": 769,
   "metadata": {},
   "outputs": [
    {
     "data": {
      "text/html": [
       "<div>                            <div id=\"f7e3a193-8dec-439d-9811-4b2678053a6c\" class=\"plotly-graph-div\" style=\"height:525px; width:800px;\"></div>            <script type=\"text/javascript\">                require([\"plotly\"], function(Plotly) {                    window.PLOTLYENV=window.PLOTLYENV || {};                                    if (document.getElementById(\"f7e3a193-8dec-439d-9811-4b2678053a6c\")) {                    Plotly.newPlot(                        \"f7e3a193-8dec-439d-9811-4b2678053a6c\",                        [{\"hovertemplate\":\"variable=0\\u003cbr\\u003eindex=%{x}\\u003cbr\\u003evalue=%{y}\\u003cextra\\u003e\\u003c\\u002fextra\\u003e\",\"legendgroup\":\"0\",\"line\":{\"color\":\"#636efa\",\"dash\":\"solid\"},\"marker\":{\"symbol\":\"circle\"},\"mode\":\"lines\",\"name\":\"0\",\"orientation\":\"v\",\"showlegend\":true,\"x\":[0,1,2,3,4,5,6,7,8,9,10,11,12,13,14,15,16,17,18,19,20,21,22,23,24,25],\"xaxis\":\"x\",\"y\":[-0.00020154545200057328,-5.6074815802276134e-05,-0.014275379478931427,0.003891118336468935,-0.001821598969399929,0.003372969338670373,0.0001231345668202266,0.0036152005195617676,-0.004212883301079273,0.0012090471573174,-0.004336107522249222,0.0013088034465909004,-0.003695095656439662,0.007579597178846598,-0.012213200330734253,-0.0014780279016122222,0.21881277859210968,-0.009012219496071339,0.1310802847146988,0.009130442515015602,4.10637903213501,0.1121143251657486,-0.3444856107234955,0.1578877717256546,-1.433385968208313,0.048887405544519424],\"yaxis\":\"y\",\"type\":\"scatter\"}],                        {\"template\":{\"data\":{\"histogram2dcontour\":[{\"type\":\"histogram2dcontour\",\"colorbar\":{\"outlinewidth\":0,\"ticks\":\"\"},\"colorscale\":[[0.0,\"#0d0887\"],[0.1111111111111111,\"#46039f\"],[0.2222222222222222,\"#7201a8\"],[0.3333333333333333,\"#9c179e\"],[0.4444444444444444,\"#bd3786\"],[0.5555555555555556,\"#d8576b\"],[0.6666666666666666,\"#ed7953\"],[0.7777777777777778,\"#fb9f3a\"],[0.8888888888888888,\"#fdca26\"],[1.0,\"#f0f921\"]]}],\"choropleth\":[{\"type\":\"choropleth\",\"colorbar\":{\"outlinewidth\":0,\"ticks\":\"\"}}],\"histogram2d\":[{\"type\":\"histogram2d\",\"colorbar\":{\"outlinewidth\":0,\"ticks\":\"\"},\"colorscale\":[[0.0,\"#0d0887\"],[0.1111111111111111,\"#46039f\"],[0.2222222222222222,\"#7201a8\"],[0.3333333333333333,\"#9c179e\"],[0.4444444444444444,\"#bd3786\"],[0.5555555555555556,\"#d8576b\"],[0.6666666666666666,\"#ed7953\"],[0.7777777777777778,\"#fb9f3a\"],[0.8888888888888888,\"#fdca26\"],[1.0,\"#f0f921\"]]}],\"heatmap\":[{\"type\":\"heatmap\",\"colorbar\":{\"outlinewidth\":0,\"ticks\":\"\"},\"colorscale\":[[0.0,\"#0d0887\"],[0.1111111111111111,\"#46039f\"],[0.2222222222222222,\"#7201a8\"],[0.3333333333333333,\"#9c179e\"],[0.4444444444444444,\"#bd3786\"],[0.5555555555555556,\"#d8576b\"],[0.6666666666666666,\"#ed7953\"],[0.7777777777777778,\"#fb9f3a\"],[0.8888888888888888,\"#fdca26\"],[1.0,\"#f0f921\"]]}],\"heatmapgl\":[{\"type\":\"heatmapgl\",\"colorbar\":{\"outlinewidth\":0,\"ticks\":\"\"},\"colorscale\":[[0.0,\"#0d0887\"],[0.1111111111111111,\"#46039f\"],[0.2222222222222222,\"#7201a8\"],[0.3333333333333333,\"#9c179e\"],[0.4444444444444444,\"#bd3786\"],[0.5555555555555556,\"#d8576b\"],[0.6666666666666666,\"#ed7953\"],[0.7777777777777778,\"#fb9f3a\"],[0.8888888888888888,\"#fdca26\"],[1.0,\"#f0f921\"]]}],\"contourcarpet\":[{\"type\":\"contourcarpet\",\"colorbar\":{\"outlinewidth\":0,\"ticks\":\"\"}}],\"contour\":[{\"type\":\"contour\",\"colorbar\":{\"outlinewidth\":0,\"ticks\":\"\"},\"colorscale\":[[0.0,\"#0d0887\"],[0.1111111111111111,\"#46039f\"],[0.2222222222222222,\"#7201a8\"],[0.3333333333333333,\"#9c179e\"],[0.4444444444444444,\"#bd3786\"],[0.5555555555555556,\"#d8576b\"],[0.6666666666666666,\"#ed7953\"],[0.7777777777777778,\"#fb9f3a\"],[0.8888888888888888,\"#fdca26\"],[1.0,\"#f0f921\"]]}],\"surface\":[{\"type\":\"surface\",\"colorbar\":{\"outlinewidth\":0,\"ticks\":\"\"},\"colorscale\":[[0.0,\"#0d0887\"],[0.1111111111111111,\"#46039f\"],[0.2222222222222222,\"#7201a8\"],[0.3333333333333333,\"#9c179e\"],[0.4444444444444444,\"#bd3786\"],[0.5555555555555556,\"#d8576b\"],[0.6666666666666666,\"#ed7953\"],[0.7777777777777778,\"#fb9f3a\"],[0.8888888888888888,\"#fdca26\"],[1.0,\"#f0f921\"]]}],\"mesh3d\":[{\"type\":\"mesh3d\",\"colorbar\":{\"outlinewidth\":0,\"ticks\":\"\"}}],\"scatter\":[{\"fillpattern\":{\"fillmode\":\"overlay\",\"size\":10,\"solidity\":0.2},\"type\":\"scatter\"}],\"parcoords\":[{\"type\":\"parcoords\",\"line\":{\"colorbar\":{\"outlinewidth\":0,\"ticks\":\"\"}}}],\"scatterpolargl\":[{\"type\":\"scatterpolargl\",\"marker\":{\"colorbar\":{\"outlinewidth\":0,\"ticks\":\"\"}}}],\"bar\":[{\"error_x\":{\"color\":\"#2a3f5f\"},\"error_y\":{\"color\":\"#2a3f5f\"},\"marker\":{\"line\":{\"color\":\"#E5ECF6\",\"width\":0.5},\"pattern\":{\"fillmode\":\"overlay\",\"size\":10,\"solidity\":0.2}},\"type\":\"bar\"}],\"scattergeo\":[{\"type\":\"scattergeo\",\"marker\":{\"colorbar\":{\"outlinewidth\":0,\"ticks\":\"\"}}}],\"scatterpolar\":[{\"type\":\"scatterpolar\",\"marker\":{\"colorbar\":{\"outlinewidth\":0,\"ticks\":\"\"}}}],\"histogram\":[{\"marker\":{\"pattern\":{\"fillmode\":\"overlay\",\"size\":10,\"solidity\":0.2}},\"type\":\"histogram\"}],\"scattergl\":[{\"type\":\"scattergl\",\"marker\":{\"colorbar\":{\"outlinewidth\":0,\"ticks\":\"\"}}}],\"scatter3d\":[{\"type\":\"scatter3d\",\"line\":{\"colorbar\":{\"outlinewidth\":0,\"ticks\":\"\"}},\"marker\":{\"colorbar\":{\"outlinewidth\":0,\"ticks\":\"\"}}}],\"scattermapbox\":[{\"type\":\"scattermapbox\",\"marker\":{\"colorbar\":{\"outlinewidth\":0,\"ticks\":\"\"}}}],\"scatterternary\":[{\"type\":\"scatterternary\",\"marker\":{\"colorbar\":{\"outlinewidth\":0,\"ticks\":\"\"}}}],\"scattercarpet\":[{\"type\":\"scattercarpet\",\"marker\":{\"colorbar\":{\"outlinewidth\":0,\"ticks\":\"\"}}}],\"carpet\":[{\"aaxis\":{\"endlinecolor\":\"#2a3f5f\",\"gridcolor\":\"white\",\"linecolor\":\"white\",\"minorgridcolor\":\"white\",\"startlinecolor\":\"#2a3f5f\"},\"baxis\":{\"endlinecolor\":\"#2a3f5f\",\"gridcolor\":\"white\",\"linecolor\":\"white\",\"minorgridcolor\":\"white\",\"startlinecolor\":\"#2a3f5f\"},\"type\":\"carpet\"}],\"table\":[{\"cells\":{\"fill\":{\"color\":\"#EBF0F8\"},\"line\":{\"color\":\"white\"}},\"header\":{\"fill\":{\"color\":\"#C8D4E3\"},\"line\":{\"color\":\"white\"}},\"type\":\"table\"}],\"barpolar\":[{\"marker\":{\"line\":{\"color\":\"#E5ECF6\",\"width\":0.5},\"pattern\":{\"fillmode\":\"overlay\",\"size\":10,\"solidity\":0.2}},\"type\":\"barpolar\"}],\"pie\":[{\"automargin\":true,\"type\":\"pie\"}]},\"layout\":{\"autotypenumbers\":\"strict\",\"colorway\":[\"#636efa\",\"#EF553B\",\"#00cc96\",\"#ab63fa\",\"#FFA15A\",\"#19d3f3\",\"#FF6692\",\"#B6E880\",\"#FF97FF\",\"#FECB52\"],\"font\":{\"color\":\"#2a3f5f\"},\"hovermode\":\"closest\",\"hoverlabel\":{\"align\":\"left\"},\"paper_bgcolor\":\"white\",\"plot_bgcolor\":\"#E5ECF6\",\"polar\":{\"bgcolor\":\"#E5ECF6\",\"angularaxis\":{\"gridcolor\":\"white\",\"linecolor\":\"white\",\"ticks\":\"\"},\"radialaxis\":{\"gridcolor\":\"white\",\"linecolor\":\"white\",\"ticks\":\"\"}},\"ternary\":{\"bgcolor\":\"#E5ECF6\",\"aaxis\":{\"gridcolor\":\"white\",\"linecolor\":\"white\",\"ticks\":\"\"},\"baxis\":{\"gridcolor\":\"white\",\"linecolor\":\"white\",\"ticks\":\"\"},\"caxis\":{\"gridcolor\":\"white\",\"linecolor\":\"white\",\"ticks\":\"\"}},\"coloraxis\":{\"colorbar\":{\"outlinewidth\":0,\"ticks\":\"\"}},\"colorscale\":{\"sequential\":[[0.0,\"#0d0887\"],[0.1111111111111111,\"#46039f\"],[0.2222222222222222,\"#7201a8\"],[0.3333333333333333,\"#9c179e\"],[0.4444444444444444,\"#bd3786\"],[0.5555555555555556,\"#d8576b\"],[0.6666666666666666,\"#ed7953\"],[0.7777777777777778,\"#fb9f3a\"],[0.8888888888888888,\"#fdca26\"],[1.0,\"#f0f921\"]],\"sequentialminus\":[[0.0,\"#0d0887\"],[0.1111111111111111,\"#46039f\"],[0.2222222222222222,\"#7201a8\"],[0.3333333333333333,\"#9c179e\"],[0.4444444444444444,\"#bd3786\"],[0.5555555555555556,\"#d8576b\"],[0.6666666666666666,\"#ed7953\"],[0.7777777777777778,\"#fb9f3a\"],[0.8888888888888888,\"#fdca26\"],[1.0,\"#f0f921\"]],\"diverging\":[[0,\"#8e0152\"],[0.1,\"#c51b7d\"],[0.2,\"#de77ae\"],[0.3,\"#f1b6da\"],[0.4,\"#fde0ef\"],[0.5,\"#f7f7f7\"],[0.6,\"#e6f5d0\"],[0.7,\"#b8e186\"],[0.8,\"#7fbc41\"],[0.9,\"#4d9221\"],[1,\"#276419\"]]},\"xaxis\":{\"gridcolor\":\"white\",\"linecolor\":\"white\",\"ticks\":\"\",\"title\":{\"standoff\":15},\"zerolinecolor\":\"white\",\"automargin\":true,\"zerolinewidth\":2},\"yaxis\":{\"gridcolor\":\"white\",\"linecolor\":\"white\",\"ticks\":\"\",\"title\":{\"standoff\":15},\"zerolinecolor\":\"white\",\"automargin\":true,\"zerolinewidth\":2},\"scene\":{\"xaxis\":{\"backgroundcolor\":\"#E5ECF6\",\"gridcolor\":\"white\",\"linecolor\":\"white\",\"showbackground\":true,\"ticks\":\"\",\"zerolinecolor\":\"white\",\"gridwidth\":2},\"yaxis\":{\"backgroundcolor\":\"#E5ECF6\",\"gridcolor\":\"white\",\"linecolor\":\"white\",\"showbackground\":true,\"ticks\":\"\",\"zerolinecolor\":\"white\",\"gridwidth\":2},\"zaxis\":{\"backgroundcolor\":\"#E5ECF6\",\"gridcolor\":\"white\",\"linecolor\":\"white\",\"showbackground\":true,\"ticks\":\"\",\"zerolinecolor\":\"white\",\"gridwidth\":2}},\"shapedefaults\":{\"line\":{\"color\":\"#2a3f5f\"}},\"annotationdefaults\":{\"arrowcolor\":\"#2a3f5f\",\"arrowhead\":0,\"arrowwidth\":1},\"geo\":{\"bgcolor\":\"white\",\"landcolor\":\"#E5ECF6\",\"subunitcolor\":\"white\",\"showland\":true,\"showlakes\":true,\"lakecolor\":\"white\"},\"title\":{\"x\":0.05},\"mapbox\":{\"style\":\"light\"}}},\"xaxis\":{\"anchor\":\"y\",\"domain\":[0.0,1.0],\"title\":{\"text\":\"index\"}},\"yaxis\":{\"anchor\":\"x\",\"domain\":[0.0,1.0],\"title\":{\"text\":\"value\"}},\"legend\":{\"title\":{\"text\":\"variable\"},\"tracegroupgap\":0},\"title\":{\"text\":\"Logit Difference From Each Layer\"},\"width\":800},                        {\"responsive\": true}                    ).then(function(){\n",
       "                            \n",
       "var gd = document.getElementById('f7e3a193-8dec-439d-9811-4b2678053a6c');\n",
       "var x = new MutationObserver(function (mutations, observer) {{\n",
       "        var display = window.getComputedStyle(gd).display;\n",
       "        if (!display || display === 'none') {{\n",
       "            console.log([gd, 'removed!']);\n",
       "            Plotly.purge(gd);\n",
       "            observer.disconnect();\n",
       "        }}\n",
       "}});\n",
       "\n",
       "// Listen for the removal of the full notebook cells\n",
       "var notebookContainer = gd.closest('#notebook-container');\n",
       "if (notebookContainer) {{\n",
       "    x.observe(notebookContainer, {childList: true});\n",
       "}}\n",
       "\n",
       "// Listen for the clearing of the current output cell\n",
       "var outputEl = gd.closest('.output');\n",
       "if (outputEl) {{\n",
       "    x.observe(outputEl, {childList: true});\n",
       "}}\n",
       "\n",
       "                        })                };                });            </script>        </div>"
      ]
     },
     "metadata": {},
     "output_type": "display_data"
    }
   ],
   "source": [
    "per_layer_residual, labels = cache.decompose_resid(layer=-1, pos_slice=-1, return_labels=True)\n",
    "per_layer_logit_diffs = residual_stack_to_logit_diff(per_layer_residual, cache)\n",
    "\n",
    "line(\n",
    "    per_layer_logit_diffs.detach().cpu().numpy(), \n",
    "    #hovermode=\"x unified\",\n",
    "    title=\"Logit Difference From Each Layer\",\n",
    "    labels={\"x\": \"Layer\", \"y\": \"Logit Diff\"},\n",
    "    #xaxis_tickvals=labels,\n",
    "    width=800\n",
    ")"
   ]
  },
  {
   "cell_type": "code",
   "execution_count": 770,
   "metadata": {},
   "outputs": [],
   "source": [
    "def imshow(tensor, renderer=None, **kwargs):\n",
    "    preset_kwargs = {\n",
    "        \"color_continuous_midpoint\": 0.0,\n",
    "        \"color_continuous_scale\": \"RdBu\",\n",
    "        \"text_auto\":\".2f\"\n",
    "    }\n",
    "\n",
    "    fig = px.imshow(utils.to_numpy(tensor), **{**preset_kwargs, **kwargs})\n",
    "    fig.show(renderer=renderer)\n",
    "\n"
   ]
  },
  {
   "cell_type": "code",
   "execution_count": 771,
   "metadata": {},
   "outputs": [
    {
     "name": "stdout",
     "output_type": "stream",
     "text": [
      "Tried to stack head results when they weren't cached. Computing head results now\n"
     ]
    },
    {
     "data": {
      "text/html": [
       "<div>                            <div id=\"baa43599-aeca-445d-9c6a-c009d8194a28\" class=\"plotly-graph-div\" style=\"height:525px; width:600px;\"></div>            <script type=\"text/javascript\">                require([\"plotly\"], function(Plotly) {                    window.PLOTLYENV=window.PLOTLYENV || {};                                    if (document.getElementById(\"baa43599-aeca-445d-9c6a-c009d8194a28\")) {                    Plotly.newPlot(                        \"baa43599-aeca-445d-9c6a-c009d8194a28\",                        [{\"coloraxis\":\"coloraxis\",\"name\":\"0\",\"texttemplate\":\"%{z:.2f}\",\"z\":[[-0.003159529296681285,-0.0003580990305636078,-0.00012482663441915065,0.0002663100021891296,-0.0010370700620114803,0.00010962020314764231,-0.0045189643278717995,-0.003987055737525225,-0.0001932103041326627,0.001233641873113811,-0.0008111901115626097,-0.0009062900207936764],[-0.0004751027445308864,0.0002688776876311749,-0.00028978101909160614,0.00036761618684977293,-0.002197081223130226,-0.0003535978321451694,-0.0030648692045360804,-0.003565587103366852,0.002710375003516674,0.0017797233304008842,0.0016782486345618963,0.0018129914533346891],[-0.0007328284555114806,-0.0012303321855142713,-0.001063489355146885,-0.0014776262687519193,-7.625162834301591e-05,0.001361861010082066,0.0016116476617753506,0.003918197005987167,0.00019575584155973047,-0.0019583937246352434,-0.0015271513257175684,0.00041291123488917947],[-0.00030432152561843395,-0.00023473621695302427,0.0003019692376255989,0.00028839835431426764,0.000593989621847868,-0.0012107202783226967,-0.0006194451125338674,-0.0015457868576049805,0.0006479534204117954,-5.1937745411123615e-06,-0.0015047494089230895,-0.001138729858212173],[-0.0013207974843680859,-9.86129671218805e-05,-0.0009165826486423612,-0.0017074259230867028,0.0012023348826915026,-0.00014186318730935454,-0.0010482362704351544,0.0008689754758961499,-0.0010961387306451797,-0.0009697781642898917,0.0006216621841304004,-0.00011062109842896461],[0.00032164857839234173,0.0007316505652852356,-0.0012577725574374199,-0.001409816206432879,-0.00040742705459706485,-0.0002878940140362829,-9.635247988626361e-05,0.0007102225790731609,0.0007462537032552063,-0.0007527000270783901,-0.004409395158290863,0.0020826358813792467],[-0.004515938926488161,-0.0053026401437819,0.0022223663982003927,-0.00041165610309690237,-0.005578293465077877,0.002019701525568962,0.0035031107254326344,-0.0023941495455801487,-0.00032019446371123195,-0.0011571933282539248,-0.00038238527486100793,-6.011602818034589e-05],[7.148845179472119e-05,-0.0025954004377126694,3.7698267988162115e-05,0.06936486810445786,-0.0011645874474197626,-0.009887116961181164,0.002173091284930706,-0.001363402814604342,-0.003049911931157112,0.1699141263961792,-0.0007771772216074169,-0.0017703043995425105],[0.00027419280377216637,-0.00022695510415360332,-0.020482227206230164,0.0019165783887729049,0.0012172217248007655,0.004246647469699383,-0.10916896909475327,0.0028412186075001955,-0.020128345116972923,0.002333576325327158,0.26139581203460693,0.008303900249302387],[0.058860693126916885,-0.00031321970163844526,0.02954166941344738,0.008439071476459503,-0.015223520807921886,0.029796486720442772,1.3343992233276367,0.06493186950683594,-0.04660489037632942,2.64967942237854,0.0007046327809803188,-0.00669386051595211],[0.6342721581459045,0.19099116325378418,-0.06046075373888016,0.05191724747419357,-0.0029878083150833845,0.0018183081410825253,0.21957328915596008,-1.8274939060211182,-7.503513916162774e-05,-0.0022181235253810883,0.44841113686561584,0.0025088752154260874],[0.02287282794713974,-0.02105335332453251,-0.4704103469848633,0.02773803472518921,-0.0006921501480974257,-0.0024445841554552317,-0.10129358619451523,0.005798660218715668,0.02821568213403225,-0.022495757788419724,-0.9197571873664856,0.021422410383820534]],\"type\":\"heatmap\",\"xaxis\":\"x\",\"yaxis\":\"y\",\"hovertemplate\":\"Head: %{x}\\u003cbr\\u003eLayer: %{y}\\u003cbr\\u003ecolor: %{z}\\u003cextra\\u003e\\u003c\\u002fextra\\u003e\"}],                        {\"template\":{\"data\":{\"histogram2dcontour\":[{\"type\":\"histogram2dcontour\",\"colorbar\":{\"outlinewidth\":0,\"ticks\":\"\"},\"colorscale\":[[0.0,\"#0d0887\"],[0.1111111111111111,\"#46039f\"],[0.2222222222222222,\"#7201a8\"],[0.3333333333333333,\"#9c179e\"],[0.4444444444444444,\"#bd3786\"],[0.5555555555555556,\"#d8576b\"],[0.6666666666666666,\"#ed7953\"],[0.7777777777777778,\"#fb9f3a\"],[0.8888888888888888,\"#fdca26\"],[1.0,\"#f0f921\"]]}],\"choropleth\":[{\"type\":\"choropleth\",\"colorbar\":{\"outlinewidth\":0,\"ticks\":\"\"}}],\"histogram2d\":[{\"type\":\"histogram2d\",\"colorbar\":{\"outlinewidth\":0,\"ticks\":\"\"},\"colorscale\":[[0.0,\"#0d0887\"],[0.1111111111111111,\"#46039f\"],[0.2222222222222222,\"#7201a8\"],[0.3333333333333333,\"#9c179e\"],[0.4444444444444444,\"#bd3786\"],[0.5555555555555556,\"#d8576b\"],[0.6666666666666666,\"#ed7953\"],[0.7777777777777778,\"#fb9f3a\"],[0.8888888888888888,\"#fdca26\"],[1.0,\"#f0f921\"]]}],\"heatmap\":[{\"type\":\"heatmap\",\"colorbar\":{\"outlinewidth\":0,\"ticks\":\"\"},\"colorscale\":[[0.0,\"#0d0887\"],[0.1111111111111111,\"#46039f\"],[0.2222222222222222,\"#7201a8\"],[0.3333333333333333,\"#9c179e\"],[0.4444444444444444,\"#bd3786\"],[0.5555555555555556,\"#d8576b\"],[0.6666666666666666,\"#ed7953\"],[0.7777777777777778,\"#fb9f3a\"],[0.8888888888888888,\"#fdca26\"],[1.0,\"#f0f921\"]]}],\"heatmapgl\":[{\"type\":\"heatmapgl\",\"colorbar\":{\"outlinewidth\":0,\"ticks\":\"\"},\"colorscale\":[[0.0,\"#0d0887\"],[0.1111111111111111,\"#46039f\"],[0.2222222222222222,\"#7201a8\"],[0.3333333333333333,\"#9c179e\"],[0.4444444444444444,\"#bd3786\"],[0.5555555555555556,\"#d8576b\"],[0.6666666666666666,\"#ed7953\"],[0.7777777777777778,\"#fb9f3a\"],[0.8888888888888888,\"#fdca26\"],[1.0,\"#f0f921\"]]}],\"contourcarpet\":[{\"type\":\"contourcarpet\",\"colorbar\":{\"outlinewidth\":0,\"ticks\":\"\"}}],\"contour\":[{\"type\":\"contour\",\"colorbar\":{\"outlinewidth\":0,\"ticks\":\"\"},\"colorscale\":[[0.0,\"#0d0887\"],[0.1111111111111111,\"#46039f\"],[0.2222222222222222,\"#7201a8\"],[0.3333333333333333,\"#9c179e\"],[0.4444444444444444,\"#bd3786\"],[0.5555555555555556,\"#d8576b\"],[0.6666666666666666,\"#ed7953\"],[0.7777777777777778,\"#fb9f3a\"],[0.8888888888888888,\"#fdca26\"],[1.0,\"#f0f921\"]]}],\"surface\":[{\"type\":\"surface\",\"colorbar\":{\"outlinewidth\":0,\"ticks\":\"\"},\"colorscale\":[[0.0,\"#0d0887\"],[0.1111111111111111,\"#46039f\"],[0.2222222222222222,\"#7201a8\"],[0.3333333333333333,\"#9c179e\"],[0.4444444444444444,\"#bd3786\"],[0.5555555555555556,\"#d8576b\"],[0.6666666666666666,\"#ed7953\"],[0.7777777777777778,\"#fb9f3a\"],[0.8888888888888888,\"#fdca26\"],[1.0,\"#f0f921\"]]}],\"mesh3d\":[{\"type\":\"mesh3d\",\"colorbar\":{\"outlinewidth\":0,\"ticks\":\"\"}}],\"scatter\":[{\"fillpattern\":{\"fillmode\":\"overlay\",\"size\":10,\"solidity\":0.2},\"type\":\"scatter\"}],\"parcoords\":[{\"type\":\"parcoords\",\"line\":{\"colorbar\":{\"outlinewidth\":0,\"ticks\":\"\"}}}],\"scatterpolargl\":[{\"type\":\"scatterpolargl\",\"marker\":{\"colorbar\":{\"outlinewidth\":0,\"ticks\":\"\"}}}],\"bar\":[{\"error_x\":{\"color\":\"#2a3f5f\"},\"error_y\":{\"color\":\"#2a3f5f\"},\"marker\":{\"line\":{\"color\":\"#E5ECF6\",\"width\":0.5},\"pattern\":{\"fillmode\":\"overlay\",\"size\":10,\"solidity\":0.2}},\"type\":\"bar\"}],\"scattergeo\":[{\"type\":\"scattergeo\",\"marker\":{\"colorbar\":{\"outlinewidth\":0,\"ticks\":\"\"}}}],\"scatterpolar\":[{\"type\":\"scatterpolar\",\"marker\":{\"colorbar\":{\"outlinewidth\":0,\"ticks\":\"\"}}}],\"histogram\":[{\"marker\":{\"pattern\":{\"fillmode\":\"overlay\",\"size\":10,\"solidity\":0.2}},\"type\":\"histogram\"}],\"scattergl\":[{\"type\":\"scattergl\",\"marker\":{\"colorbar\":{\"outlinewidth\":0,\"ticks\":\"\"}}}],\"scatter3d\":[{\"type\":\"scatter3d\",\"line\":{\"colorbar\":{\"outlinewidth\":0,\"ticks\":\"\"}},\"marker\":{\"colorbar\":{\"outlinewidth\":0,\"ticks\":\"\"}}}],\"scattermapbox\":[{\"type\":\"scattermapbox\",\"marker\":{\"colorbar\":{\"outlinewidth\":0,\"ticks\":\"\"}}}],\"scatterternary\":[{\"type\":\"scatterternary\",\"marker\":{\"colorbar\":{\"outlinewidth\":0,\"ticks\":\"\"}}}],\"scattercarpet\":[{\"type\":\"scattercarpet\",\"marker\":{\"colorbar\":{\"outlinewidth\":0,\"ticks\":\"\"}}}],\"carpet\":[{\"aaxis\":{\"endlinecolor\":\"#2a3f5f\",\"gridcolor\":\"white\",\"linecolor\":\"white\",\"minorgridcolor\":\"white\",\"startlinecolor\":\"#2a3f5f\"},\"baxis\":{\"endlinecolor\":\"#2a3f5f\",\"gridcolor\":\"white\",\"linecolor\":\"white\",\"minorgridcolor\":\"white\",\"startlinecolor\":\"#2a3f5f\"},\"type\":\"carpet\"}],\"table\":[{\"cells\":{\"fill\":{\"color\":\"#EBF0F8\"},\"line\":{\"color\":\"white\"}},\"header\":{\"fill\":{\"color\":\"#C8D4E3\"},\"line\":{\"color\":\"white\"}},\"type\":\"table\"}],\"barpolar\":[{\"marker\":{\"line\":{\"color\":\"#E5ECF6\",\"width\":0.5},\"pattern\":{\"fillmode\":\"overlay\",\"size\":10,\"solidity\":0.2}},\"type\":\"barpolar\"}],\"pie\":[{\"automargin\":true,\"type\":\"pie\"}]},\"layout\":{\"autotypenumbers\":\"strict\",\"colorway\":[\"#636efa\",\"#EF553B\",\"#00cc96\",\"#ab63fa\",\"#FFA15A\",\"#19d3f3\",\"#FF6692\",\"#B6E880\",\"#FF97FF\",\"#FECB52\"],\"font\":{\"color\":\"#2a3f5f\"},\"hovermode\":\"closest\",\"hoverlabel\":{\"align\":\"left\"},\"paper_bgcolor\":\"white\",\"plot_bgcolor\":\"#E5ECF6\",\"polar\":{\"bgcolor\":\"#E5ECF6\",\"angularaxis\":{\"gridcolor\":\"white\",\"linecolor\":\"white\",\"ticks\":\"\"},\"radialaxis\":{\"gridcolor\":\"white\",\"linecolor\":\"white\",\"ticks\":\"\"}},\"ternary\":{\"bgcolor\":\"#E5ECF6\",\"aaxis\":{\"gridcolor\":\"white\",\"linecolor\":\"white\",\"ticks\":\"\"},\"baxis\":{\"gridcolor\":\"white\",\"linecolor\":\"white\",\"ticks\":\"\"},\"caxis\":{\"gridcolor\":\"white\",\"linecolor\":\"white\",\"ticks\":\"\"}},\"coloraxis\":{\"colorbar\":{\"outlinewidth\":0,\"ticks\":\"\"}},\"colorscale\":{\"sequential\":[[0.0,\"#0d0887\"],[0.1111111111111111,\"#46039f\"],[0.2222222222222222,\"#7201a8\"],[0.3333333333333333,\"#9c179e\"],[0.4444444444444444,\"#bd3786\"],[0.5555555555555556,\"#d8576b\"],[0.6666666666666666,\"#ed7953\"],[0.7777777777777778,\"#fb9f3a\"],[0.8888888888888888,\"#fdca26\"],[1.0,\"#f0f921\"]],\"sequentialminus\":[[0.0,\"#0d0887\"],[0.1111111111111111,\"#46039f\"],[0.2222222222222222,\"#7201a8\"],[0.3333333333333333,\"#9c179e\"],[0.4444444444444444,\"#bd3786\"],[0.5555555555555556,\"#d8576b\"],[0.6666666666666666,\"#ed7953\"],[0.7777777777777778,\"#fb9f3a\"],[0.8888888888888888,\"#fdca26\"],[1.0,\"#f0f921\"]],\"diverging\":[[0,\"#8e0152\"],[0.1,\"#c51b7d\"],[0.2,\"#de77ae\"],[0.3,\"#f1b6da\"],[0.4,\"#fde0ef\"],[0.5,\"#f7f7f7\"],[0.6,\"#e6f5d0\"],[0.7,\"#b8e186\"],[0.8,\"#7fbc41\"],[0.9,\"#4d9221\"],[1,\"#276419\"]]},\"xaxis\":{\"gridcolor\":\"white\",\"linecolor\":\"white\",\"ticks\":\"\",\"title\":{\"standoff\":15},\"zerolinecolor\":\"white\",\"automargin\":true,\"zerolinewidth\":2},\"yaxis\":{\"gridcolor\":\"white\",\"linecolor\":\"white\",\"ticks\":\"\",\"title\":{\"standoff\":15},\"zerolinecolor\":\"white\",\"automargin\":true,\"zerolinewidth\":2},\"scene\":{\"xaxis\":{\"backgroundcolor\":\"#E5ECF6\",\"gridcolor\":\"white\",\"linecolor\":\"white\",\"showbackground\":true,\"ticks\":\"\",\"zerolinecolor\":\"white\",\"gridwidth\":2},\"yaxis\":{\"backgroundcolor\":\"#E5ECF6\",\"gridcolor\":\"white\",\"linecolor\":\"white\",\"showbackground\":true,\"ticks\":\"\",\"zerolinecolor\":\"white\",\"gridwidth\":2},\"zaxis\":{\"backgroundcolor\":\"#E5ECF6\",\"gridcolor\":\"white\",\"linecolor\":\"white\",\"showbackground\":true,\"ticks\":\"\",\"zerolinecolor\":\"white\",\"gridwidth\":2}},\"shapedefaults\":{\"line\":{\"color\":\"#2a3f5f\"}},\"annotationdefaults\":{\"arrowcolor\":\"#2a3f5f\",\"arrowhead\":0,\"arrowwidth\":1},\"geo\":{\"bgcolor\":\"white\",\"landcolor\":\"#E5ECF6\",\"subunitcolor\":\"white\",\"showland\":true,\"showlakes\":true,\"lakecolor\":\"white\"},\"title\":{\"x\":0.05},\"mapbox\":{\"style\":\"light\"}}},\"xaxis\":{\"anchor\":\"y\",\"domain\":[0.0,1.0],\"scaleanchor\":\"y\",\"constrain\":\"domain\",\"title\":{\"text\":\"Head\"}},\"yaxis\":{\"anchor\":\"x\",\"domain\":[0.0,1.0],\"autorange\":\"reversed\",\"constrain\":\"domain\",\"title\":{\"text\":\"Layer\"}},\"coloraxis\":{\"colorscale\":[[0.0,\"rgb(103,0,31)\"],[0.1,\"rgb(178,24,43)\"],[0.2,\"rgb(214,96,77)\"],[0.3,\"rgb(244,165,130)\"],[0.4,\"rgb(253,219,199)\"],[0.5,\"rgb(247,247,247)\"],[0.6,\"rgb(209,229,240)\"],[0.7,\"rgb(146,197,222)\"],[0.8,\"rgb(67,147,195)\"],[0.9,\"rgb(33,102,172)\"],[1.0,\"rgb(5,48,97)\"]],\"cmid\":0.0},\"title\":{\"text\":\"Logit Difference From Each Head\"},\"width\":600},                        {\"responsive\": true}                    ).then(function(){\n",
       "                            \n",
       "var gd = document.getElementById('baa43599-aeca-445d-9c6a-c009d8194a28');\n",
       "var x = new MutationObserver(function (mutations, observer) {{\n",
       "        var display = window.getComputedStyle(gd).display;\n",
       "        if (!display || display === 'none') {{\n",
       "            console.log([gd, 'removed!']);\n",
       "            Plotly.purge(gd);\n",
       "            observer.disconnect();\n",
       "        }}\n",
       "}});\n",
       "\n",
       "// Listen for the removal of the full notebook cells\n",
       "var notebookContainer = gd.closest('#notebook-container');\n",
       "if (notebookContainer) {{\n",
       "    x.observe(notebookContainer, {childList: true});\n",
       "}}\n",
       "\n",
       "// Listen for the clearing of the current output cell\n",
       "var outputEl = gd.closest('.output');\n",
       "if (outputEl) {{\n",
       "    x.observe(outputEl, {childList: true});\n",
       "}}\n",
       "\n",
       "                        })                };                });            </script>        </div>"
      ]
     },
     "metadata": {},
     "output_type": "display_data"
    }
   ],
   "source": [
    "per_head_residual, labels = cache.stack_head_results(layer=-1, pos_slice=-1, return_labels=True)\n",
    "per_head_residual = einops.rearrange(\n",
    "    per_head_residual, \n",
    "    \"(layer head) ... -> layer head ...\", \n",
    "    layer=model.cfg.n_layers\n",
    ")\n",
    "per_head_logit_diffs = residual_stack_to_logit_diff(per_head_residual, cache)\n",
    "\n",
    "imshow(\n",
    "    per_head_logit_diffs, \n",
    "    labels={\"x\":\"Head\", \"y\":\"Layer\"}, \n",
    "    title=\"Logit Difference From Each Head\",\n",
    "    width=600\n",
    ")"
   ]
  },
  {
   "attachments": {},
   "cell_type": "markdown",
   "metadata": {},
   "source": [
    "## Try to find backup name movers - mean ablations"
   ]
  },
  {
   "cell_type": "code",
   "execution_count": 772,
   "metadata": {},
   "outputs": [
    {
     "name": "stderr",
     "output_type": "stream",
     "text": [
      "Found cached dataset parquet (/root/.cache/huggingface/datasets/NeelNanda___parquet/NeelNanda--c4-10k-dc1f5fce0477f6d0/0.0.0/14a00e99c0d15a23649d0db8944380ac81082d4b021f398733dd84f3a6c569a7)\n"
     ]
    }
   ],
   "source": [
    "dataset = load_dataset(\"NeelNanda/c4-10k\", split=\"train\")\n",
    "dataloader = torch.utils.data.DataLoader(dataset[\"text\"], batch_size=1)"
   ]
  },
  {
   "cell_type": "code",
   "execution_count": 773,
   "metadata": {},
   "outputs": [],
   "source": [
    "import gc\n",
    "gc.collect()\n",
    "torch.cuda.empty_cache()"
   ]
  },
  {
   "cell_type": "code",
   "execution_count": 774,
   "metadata": {},
   "outputs": [
    {
     "name": "stdout",
     "output_type": "stream",
     "text": [
      "Combined: torch.Size([11, 15, 15])\n",
      "torch.Size([15, 15])\n"
     ]
    }
   ],
   "source": [
    "model.set_use_attn_result(True)\n",
    "activations = []\n",
    "\n",
    "for i, batch in enumerate(dataloader):\n",
    "    batch_tokens = model.to_tokens(batch[0])[0, :15]\n",
    "    logits, cache = model.run_with_cache(batch_tokens, return_type=\"logits\")\n",
    "    head_results = cache.stack_head_results(layer=9)\n",
    "    attention_pattern = cache[\"blocks.9.attn.hook_pattern\"]\n",
    "    head_results_layer_9 = attention_pattern[0, 9, :, :]\n",
    "    activations.append(head_results_layer_9)\n",
    "    if i == 10:\n",
    "        break\n",
    "\n",
    "all_activations = torch.stack(activations, dim=0)\n",
    "print(\"Combined:\", all_activations.shape)\n",
    "\n",
    "mean_activation = torch.mean(all_activations, dim=(0))\n",
    "print(mean_activation.shape)\n",
    "\n",
    "model.set_use_attn_result(False)\n"
   ]
  },
  {
   "cell_type": "code",
   "execution_count": 775,
   "metadata": {},
   "outputs": [],
   "source": [
    "pattern_name = \"blocks.9.attn.hook_pattern\"\n",
    "def hook_all_attention_patterns(attn_pattern, hook, head_idx: int):\n",
    "    attn_pattern[:, head_idx] = mean_activation\n",
    "    return attn_pattern\n",
    "\n",
    "temp_hook_fn = functools.partial(hook_all_attention_patterns, head_idx=9)\n",
    "\n",
    "with model.hooks(fwd_hooks=[(pattern_name, temp_hook_fn)]):\n",
    "    ablated_logits, ablated_cache = model.run_with_cache(tokens)\n"
   ]
  },
  {
   "cell_type": "code",
   "execution_count": 776,
   "metadata": {},
   "outputs": [
    {
     "name": "stdout",
     "output_type": "stream",
     "text": [
      "Logit difference accuracy:  1.000\n",
      "Average logit difference: 2.976\n",
      "Logit difference accuracy:  1.000\n",
      "Average logit difference: 2.701\n"
     ]
    }
   ],
   "source": [
    "original_average_logit_diff = logits_to_ave_logit_diff(original_logits, answer_tokens)\n",
    "print(\"Average logit difference:\", original_average_logit_diff)\n",
    "\n",
    "ablated_average_logit_diff = logits_to_ave_logit_diff(ablated_logits, answer_tokens)\n",
    "print(\"Average logit difference:\", ablated_average_logit_diff)"
   ]
  },
  {
   "cell_type": "code",
   "execution_count": 777,
   "metadata": {},
   "outputs": [],
   "source": [
    "def plot_per_head_attribution(cache: ActivationCache, logit_diff_directions=logit_diff_directions, title=\"\"):\n",
    "    per_head_residual, labels = cache.stack_head_results(layer=-1, pos_slice=-1, return_labels=True)\n",
    "    per_head_residual = einops.rearrange(\n",
    "        per_head_residual, \n",
    "        \"(layer head) ... -> layer head ...\", \n",
    "        layer=model.cfg.n_layers\n",
    "    )\n",
    "    per_head_logit_diffs = residual_stack_to_logit_diff(per_head_residual, cache, logit_diff_directions)\n",
    "\n",
    "    imshow(\n",
    "        per_head_logit_diffs, \n",
    "        labels={\"x\":\"Head\", \"y\":\"Layer\"}, \n",
    "        title=title,\n",
    "        width=600\n",
    "    )"
   ]
  },
  {
   "cell_type": "code",
   "execution_count": 778,
   "metadata": {},
   "outputs": [
    {
     "data": {
      "text/html": [
       "<div>                            <div id=\"b787f3c7-e5d7-4361-9453-56a663775fa7\" class=\"plotly-graph-div\" style=\"height:525px; width:600px;\"></div>            <script type=\"text/javascript\">                require([\"plotly\"], function(Plotly) {                    window.PLOTLYENV=window.PLOTLYENV || {};                                    if (document.getElementById(\"b787f3c7-e5d7-4361-9453-56a663775fa7\")) {                    Plotly.newPlot(                        \"b787f3c7-e5d7-4361-9453-56a663775fa7\",                        [{\"coloraxis\":\"coloraxis\",\"name\":\"0\",\"texttemplate\":\"%{z:.2f}\",\"z\":[[-0.003159529296681285,-0.0003580990305636078,-0.00012482663441915065,0.0002663100021891296,-0.0010370700620114803,0.00010962020314764231,-0.0045189643278717995,-0.003987055737525225,-0.0001932103041326627,0.001233641873113811,-0.0008111901115626097,-0.0009062900207936764],[-0.0004751027445308864,0.0002688776876311749,-0.00028978101909160614,0.00036761618684977293,-0.002197081223130226,-0.0003535978321451694,-0.0030648692045360804,-0.003565587103366852,0.002710375003516674,0.0017797233304008842,0.0016782486345618963,0.0018129914533346891],[-0.0007328284555114806,-0.0012303321855142713,-0.001063489355146885,-0.0014776262687519193,-7.625162834301591e-05,0.001361861010082066,0.0016116476617753506,0.003918197005987167,0.00019575584155973047,-0.0019583937246352434,-0.0015271513257175684,0.00041291123488917947],[-0.00030432152561843395,-0.00023473621695302427,0.0003019692376255989,0.00028839835431426764,0.000593989621847868,-0.0012107202783226967,-0.0006194451125338674,-0.0015457868576049805,0.0006479534204117954,-5.1937745411123615e-06,-0.0015047494089230895,-0.001138729858212173],[-0.0013207974843680859,-9.86129671218805e-05,-0.0009165826486423612,-0.0017074259230867028,0.0012023348826915026,-0.00014186318730935454,-0.0010482362704351544,0.0008689754758961499,-0.0010961387306451797,-0.0009697781642898917,0.0006216621841304004,-0.00011062109842896461],[0.00032164857839234173,0.0007316505652852356,-0.0012577725574374199,-0.001409816206432879,-0.00040742705459706485,-0.0002878940140362829,-9.635247988626361e-05,0.0007102225790731609,0.0007462537032552063,-0.0007527000270783901,-0.004409395158290863,0.0020826358813792467],[-0.004515938926488161,-0.0053026401437819,0.0022223663982003927,-0.00041165610309690237,-0.005578293465077877,0.002019701525568962,0.0035031107254326344,-0.0023941495455801487,-0.00032019446371123195,-0.0011571933282539248,-0.00038238527486100793,-6.011602818034589e-05],[7.148845179472119e-05,-0.0025954004377126694,3.7698267988162115e-05,0.06936486810445786,-0.0011645874474197626,-0.009887116961181164,0.002173091284930706,-0.001363402814604342,-0.003049911931157112,0.1699141263961792,-0.0007771772216074169,-0.0017703043995425105],[0.00027419280377216637,-0.00022695510415360332,-0.020482227206230164,0.0019165783887729049,0.0012172217248007655,0.004246647469699383,-0.10916896909475327,0.0028412186075001955,-0.020128345116972923,0.002333576325327158,0.26139581203460693,0.008303900249302387],[0.058860693126916885,-0.00031321970163844526,0.02954166941344738,0.008439071476459503,-0.015223520807921886,0.029796486720442772,1.3343992233276367,0.06493186950683594,-0.04660489037632942,2.64967942237854,0.0007046327809803188,-0.00669386051595211],[0.6342721581459045,0.19099116325378418,-0.06046075373888016,0.05191724747419357,-0.0029878083150833845,0.0018183081410825253,0.21957328915596008,-1.8274939060211182,-7.503513916162774e-05,-0.0022181235253810883,0.44841113686561584,0.0025088752154260874],[0.02287282794713974,-0.02105335332453251,-0.4704103469848633,0.02773803472518921,-0.0006921501480974257,-0.0024445841554552317,-0.10129358619451523,0.005798660218715668,0.02821568213403225,-0.022495757788419724,-0.9197571873664856,0.021422410383820534]],\"type\":\"heatmap\",\"xaxis\":\"x\",\"yaxis\":\"y\",\"hovertemplate\":\"Head: %{x}\\u003cbr\\u003eLayer: %{y}\\u003cbr\\u003ecolor: %{z}\\u003cextra\\u003e\\u003c\\u002fextra\\u003e\"}],                        {\"template\":{\"data\":{\"histogram2dcontour\":[{\"type\":\"histogram2dcontour\",\"colorbar\":{\"outlinewidth\":0,\"ticks\":\"\"},\"colorscale\":[[0.0,\"#0d0887\"],[0.1111111111111111,\"#46039f\"],[0.2222222222222222,\"#7201a8\"],[0.3333333333333333,\"#9c179e\"],[0.4444444444444444,\"#bd3786\"],[0.5555555555555556,\"#d8576b\"],[0.6666666666666666,\"#ed7953\"],[0.7777777777777778,\"#fb9f3a\"],[0.8888888888888888,\"#fdca26\"],[1.0,\"#f0f921\"]]}],\"choropleth\":[{\"type\":\"choropleth\",\"colorbar\":{\"outlinewidth\":0,\"ticks\":\"\"}}],\"histogram2d\":[{\"type\":\"histogram2d\",\"colorbar\":{\"outlinewidth\":0,\"ticks\":\"\"},\"colorscale\":[[0.0,\"#0d0887\"],[0.1111111111111111,\"#46039f\"],[0.2222222222222222,\"#7201a8\"],[0.3333333333333333,\"#9c179e\"],[0.4444444444444444,\"#bd3786\"],[0.5555555555555556,\"#d8576b\"],[0.6666666666666666,\"#ed7953\"],[0.7777777777777778,\"#fb9f3a\"],[0.8888888888888888,\"#fdca26\"],[1.0,\"#f0f921\"]]}],\"heatmap\":[{\"type\":\"heatmap\",\"colorbar\":{\"outlinewidth\":0,\"ticks\":\"\"},\"colorscale\":[[0.0,\"#0d0887\"],[0.1111111111111111,\"#46039f\"],[0.2222222222222222,\"#7201a8\"],[0.3333333333333333,\"#9c179e\"],[0.4444444444444444,\"#bd3786\"],[0.5555555555555556,\"#d8576b\"],[0.6666666666666666,\"#ed7953\"],[0.7777777777777778,\"#fb9f3a\"],[0.8888888888888888,\"#fdca26\"],[1.0,\"#f0f921\"]]}],\"heatmapgl\":[{\"type\":\"heatmapgl\",\"colorbar\":{\"outlinewidth\":0,\"ticks\":\"\"},\"colorscale\":[[0.0,\"#0d0887\"],[0.1111111111111111,\"#46039f\"],[0.2222222222222222,\"#7201a8\"],[0.3333333333333333,\"#9c179e\"],[0.4444444444444444,\"#bd3786\"],[0.5555555555555556,\"#d8576b\"],[0.6666666666666666,\"#ed7953\"],[0.7777777777777778,\"#fb9f3a\"],[0.8888888888888888,\"#fdca26\"],[1.0,\"#f0f921\"]]}],\"contourcarpet\":[{\"type\":\"contourcarpet\",\"colorbar\":{\"outlinewidth\":0,\"ticks\":\"\"}}],\"contour\":[{\"type\":\"contour\",\"colorbar\":{\"outlinewidth\":0,\"ticks\":\"\"},\"colorscale\":[[0.0,\"#0d0887\"],[0.1111111111111111,\"#46039f\"],[0.2222222222222222,\"#7201a8\"],[0.3333333333333333,\"#9c179e\"],[0.4444444444444444,\"#bd3786\"],[0.5555555555555556,\"#d8576b\"],[0.6666666666666666,\"#ed7953\"],[0.7777777777777778,\"#fb9f3a\"],[0.8888888888888888,\"#fdca26\"],[1.0,\"#f0f921\"]]}],\"surface\":[{\"type\":\"surface\",\"colorbar\":{\"outlinewidth\":0,\"ticks\":\"\"},\"colorscale\":[[0.0,\"#0d0887\"],[0.1111111111111111,\"#46039f\"],[0.2222222222222222,\"#7201a8\"],[0.3333333333333333,\"#9c179e\"],[0.4444444444444444,\"#bd3786\"],[0.5555555555555556,\"#d8576b\"],[0.6666666666666666,\"#ed7953\"],[0.7777777777777778,\"#fb9f3a\"],[0.8888888888888888,\"#fdca26\"],[1.0,\"#f0f921\"]]}],\"mesh3d\":[{\"type\":\"mesh3d\",\"colorbar\":{\"outlinewidth\":0,\"ticks\":\"\"}}],\"scatter\":[{\"fillpattern\":{\"fillmode\":\"overlay\",\"size\":10,\"solidity\":0.2},\"type\":\"scatter\"}],\"parcoords\":[{\"type\":\"parcoords\",\"line\":{\"colorbar\":{\"outlinewidth\":0,\"ticks\":\"\"}}}],\"scatterpolargl\":[{\"type\":\"scatterpolargl\",\"marker\":{\"colorbar\":{\"outlinewidth\":0,\"ticks\":\"\"}}}],\"bar\":[{\"error_x\":{\"color\":\"#2a3f5f\"},\"error_y\":{\"color\":\"#2a3f5f\"},\"marker\":{\"line\":{\"color\":\"#E5ECF6\",\"width\":0.5},\"pattern\":{\"fillmode\":\"overlay\",\"size\":10,\"solidity\":0.2}},\"type\":\"bar\"}],\"scattergeo\":[{\"type\":\"scattergeo\",\"marker\":{\"colorbar\":{\"outlinewidth\":0,\"ticks\":\"\"}}}],\"scatterpolar\":[{\"type\":\"scatterpolar\",\"marker\":{\"colorbar\":{\"outlinewidth\":0,\"ticks\":\"\"}}}],\"histogram\":[{\"marker\":{\"pattern\":{\"fillmode\":\"overlay\",\"size\":10,\"solidity\":0.2}},\"type\":\"histogram\"}],\"scattergl\":[{\"type\":\"scattergl\",\"marker\":{\"colorbar\":{\"outlinewidth\":0,\"ticks\":\"\"}}}],\"scatter3d\":[{\"type\":\"scatter3d\",\"line\":{\"colorbar\":{\"outlinewidth\":0,\"ticks\":\"\"}},\"marker\":{\"colorbar\":{\"outlinewidth\":0,\"ticks\":\"\"}}}],\"scattermapbox\":[{\"type\":\"scattermapbox\",\"marker\":{\"colorbar\":{\"outlinewidth\":0,\"ticks\":\"\"}}}],\"scatterternary\":[{\"type\":\"scatterternary\",\"marker\":{\"colorbar\":{\"outlinewidth\":0,\"ticks\":\"\"}}}],\"scattercarpet\":[{\"type\":\"scattercarpet\",\"marker\":{\"colorbar\":{\"outlinewidth\":0,\"ticks\":\"\"}}}],\"carpet\":[{\"aaxis\":{\"endlinecolor\":\"#2a3f5f\",\"gridcolor\":\"white\",\"linecolor\":\"white\",\"minorgridcolor\":\"white\",\"startlinecolor\":\"#2a3f5f\"},\"baxis\":{\"endlinecolor\":\"#2a3f5f\",\"gridcolor\":\"white\",\"linecolor\":\"white\",\"minorgridcolor\":\"white\",\"startlinecolor\":\"#2a3f5f\"},\"type\":\"carpet\"}],\"table\":[{\"cells\":{\"fill\":{\"color\":\"#EBF0F8\"},\"line\":{\"color\":\"white\"}},\"header\":{\"fill\":{\"color\":\"#C8D4E3\"},\"line\":{\"color\":\"white\"}},\"type\":\"table\"}],\"barpolar\":[{\"marker\":{\"line\":{\"color\":\"#E5ECF6\",\"width\":0.5},\"pattern\":{\"fillmode\":\"overlay\",\"size\":10,\"solidity\":0.2}},\"type\":\"barpolar\"}],\"pie\":[{\"automargin\":true,\"type\":\"pie\"}]},\"layout\":{\"autotypenumbers\":\"strict\",\"colorway\":[\"#636efa\",\"#EF553B\",\"#00cc96\",\"#ab63fa\",\"#FFA15A\",\"#19d3f3\",\"#FF6692\",\"#B6E880\",\"#FF97FF\",\"#FECB52\"],\"font\":{\"color\":\"#2a3f5f\"},\"hovermode\":\"closest\",\"hoverlabel\":{\"align\":\"left\"},\"paper_bgcolor\":\"white\",\"plot_bgcolor\":\"#E5ECF6\",\"polar\":{\"bgcolor\":\"#E5ECF6\",\"angularaxis\":{\"gridcolor\":\"white\",\"linecolor\":\"white\",\"ticks\":\"\"},\"radialaxis\":{\"gridcolor\":\"white\",\"linecolor\":\"white\",\"ticks\":\"\"}},\"ternary\":{\"bgcolor\":\"#E5ECF6\",\"aaxis\":{\"gridcolor\":\"white\",\"linecolor\":\"white\",\"ticks\":\"\"},\"baxis\":{\"gridcolor\":\"white\",\"linecolor\":\"white\",\"ticks\":\"\"},\"caxis\":{\"gridcolor\":\"white\",\"linecolor\":\"white\",\"ticks\":\"\"}},\"coloraxis\":{\"colorbar\":{\"outlinewidth\":0,\"ticks\":\"\"}},\"colorscale\":{\"sequential\":[[0.0,\"#0d0887\"],[0.1111111111111111,\"#46039f\"],[0.2222222222222222,\"#7201a8\"],[0.3333333333333333,\"#9c179e\"],[0.4444444444444444,\"#bd3786\"],[0.5555555555555556,\"#d8576b\"],[0.6666666666666666,\"#ed7953\"],[0.7777777777777778,\"#fb9f3a\"],[0.8888888888888888,\"#fdca26\"],[1.0,\"#f0f921\"]],\"sequentialminus\":[[0.0,\"#0d0887\"],[0.1111111111111111,\"#46039f\"],[0.2222222222222222,\"#7201a8\"],[0.3333333333333333,\"#9c179e\"],[0.4444444444444444,\"#bd3786\"],[0.5555555555555556,\"#d8576b\"],[0.6666666666666666,\"#ed7953\"],[0.7777777777777778,\"#fb9f3a\"],[0.8888888888888888,\"#fdca26\"],[1.0,\"#f0f921\"]],\"diverging\":[[0,\"#8e0152\"],[0.1,\"#c51b7d\"],[0.2,\"#de77ae\"],[0.3,\"#f1b6da\"],[0.4,\"#fde0ef\"],[0.5,\"#f7f7f7\"],[0.6,\"#e6f5d0\"],[0.7,\"#b8e186\"],[0.8,\"#7fbc41\"],[0.9,\"#4d9221\"],[1,\"#276419\"]]},\"xaxis\":{\"gridcolor\":\"white\",\"linecolor\":\"white\",\"ticks\":\"\",\"title\":{\"standoff\":15},\"zerolinecolor\":\"white\",\"automargin\":true,\"zerolinewidth\":2},\"yaxis\":{\"gridcolor\":\"white\",\"linecolor\":\"white\",\"ticks\":\"\",\"title\":{\"standoff\":15},\"zerolinecolor\":\"white\",\"automargin\":true,\"zerolinewidth\":2},\"scene\":{\"xaxis\":{\"backgroundcolor\":\"#E5ECF6\",\"gridcolor\":\"white\",\"linecolor\":\"white\",\"showbackground\":true,\"ticks\":\"\",\"zerolinecolor\":\"white\",\"gridwidth\":2},\"yaxis\":{\"backgroundcolor\":\"#E5ECF6\",\"gridcolor\":\"white\",\"linecolor\":\"white\",\"showbackground\":true,\"ticks\":\"\",\"zerolinecolor\":\"white\",\"gridwidth\":2},\"zaxis\":{\"backgroundcolor\":\"#E5ECF6\",\"gridcolor\":\"white\",\"linecolor\":\"white\",\"showbackground\":true,\"ticks\":\"\",\"zerolinecolor\":\"white\",\"gridwidth\":2}},\"shapedefaults\":{\"line\":{\"color\":\"#2a3f5f\"}},\"annotationdefaults\":{\"arrowcolor\":\"#2a3f5f\",\"arrowhead\":0,\"arrowwidth\":1},\"geo\":{\"bgcolor\":\"white\",\"landcolor\":\"#E5ECF6\",\"subunitcolor\":\"white\",\"showland\":true,\"showlakes\":true,\"lakecolor\":\"white\"},\"title\":{\"x\":0.05},\"mapbox\":{\"style\":\"light\"}}},\"xaxis\":{\"anchor\":\"y\",\"domain\":[0.0,1.0],\"scaleanchor\":\"y\",\"constrain\":\"domain\",\"title\":{\"text\":\"Head\"}},\"yaxis\":{\"anchor\":\"x\",\"domain\":[0.0,1.0],\"autorange\":\"reversed\",\"constrain\":\"domain\",\"title\":{\"text\":\"Layer\"}},\"coloraxis\":{\"colorscale\":[[0.0,\"rgb(103,0,31)\"],[0.1,\"rgb(178,24,43)\"],[0.2,\"rgb(214,96,77)\"],[0.3,\"rgb(244,165,130)\"],[0.4,\"rgb(253,219,199)\"],[0.5,\"rgb(247,247,247)\"],[0.6,\"rgb(209,229,240)\"],[0.7,\"rgb(146,197,222)\"],[0.8,\"rgb(67,147,195)\"],[0.9,\"rgb(33,102,172)\"],[1.0,\"rgb(5,48,97)\"]],\"cmid\":0.0},\"title\":{\"text\":\"Unablated Logit Difference From Each Head\"},\"width\":600},                        {\"responsive\": true}                    ).then(function(){\n",
       "                            \n",
       "var gd = document.getElementById('b787f3c7-e5d7-4361-9453-56a663775fa7');\n",
       "var x = new MutationObserver(function (mutations, observer) {{\n",
       "        var display = window.getComputedStyle(gd).display;\n",
       "        if (!display || display === 'none') {{\n",
       "            console.log([gd, 'removed!']);\n",
       "            Plotly.purge(gd);\n",
       "            observer.disconnect();\n",
       "        }}\n",
       "}});\n",
       "\n",
       "// Listen for the removal of the full notebook cells\n",
       "var notebookContainer = gd.closest('#notebook-container');\n",
       "if (notebookContainer) {{\n",
       "    x.observe(notebookContainer, {childList: true});\n",
       "}}\n",
       "\n",
       "// Listen for the clearing of the current output cell\n",
       "var outputEl = gd.closest('.output');\n",
       "if (outputEl) {{\n",
       "    x.observe(outputEl, {childList: true});\n",
       "}}\n",
       "\n",
       "                        })                };                });            </script>        </div>"
      ]
     },
     "metadata": {},
     "output_type": "display_data"
    }
   ],
   "source": [
    "plot_per_head_attribution(original_cache, title=\"Unablated Logit Difference From Each Head\")"
   ]
  },
  {
   "cell_type": "code",
   "execution_count": 779,
   "metadata": {},
   "outputs": [
    {
     "name": "stdout",
     "output_type": "stream",
     "text": [
      "Tried to stack head results when they weren't cached. Computing head results now\n"
     ]
    },
    {
     "data": {
      "text/html": [
       "<div>                            <div id=\"71a0e824-6620-4115-9511-31adea8d007d\" class=\"plotly-graph-div\" style=\"height:525px; width:600px;\"></div>            <script type=\"text/javascript\">                require([\"plotly\"], function(Plotly) {                    window.PLOTLYENV=window.PLOTLYENV || {};                                    if (document.getElementById(\"71a0e824-6620-4115-9511-31adea8d007d\")) {                    Plotly.newPlot(                        \"71a0e824-6620-4115-9511-31adea8d007d\",                        [{\"coloraxis\":\"coloraxis\",\"name\":\"0\",\"texttemplate\":\"%{z:.2f}\",\"z\":[[-0.003171502845361829,-0.0002781366929411888,-0.00023581128334626555,0.0004349969094619155,-0.0010785246267914772,0.00012253182649146765,-0.004617790691554546,-0.0039438530802726746,-1.7544403817737475e-05,0.001027350896038115,-0.0008985564927570522,-0.0007312187226489186],[-0.00017999026749748737,0.00029889069264754653,2.5313263904536143e-05,0.0001227267348440364,-0.0016511145513504744,-9.040272561833262e-05,-0.0033385376445949078,-0.0040180194191634655,0.0023772544227540493,0.0015736250206828117,0.001967277145013213,0.0013525317190214992],[-0.0005539038684219122,-0.0013693218352273107,-0.0007568934233859181,-0.001656867447309196,1.3658184798259754e-05,0.0009113355772569776,0.0013668870087713003,0.003948362078517675,-5.692315608030185e-05,-0.0018553605768829584,-0.0007089527789503336,0.00024074979592114687],[-0.00018284910765942186,-0.0003147695679217577,-0.00012980042083654553,0.00034376801340840757,0.00039589617517776787,-0.0012375740334391594,-0.0005406837444752455,-0.0012939093867316842,0.00018403427384328097,0.00017730164108797908,-0.0010373096447438002,-0.0007658628164790571],[-0.001221481361426413,-0.0001336836430709809,-0.0011298221070319414,-0.0014724970096722245,0.0010602474212646484,8.26863688416779e-05,-0.0007845208165235817,0.00109478912781924,-0.00074155064066872,-0.0008146255277097225,0.0005563456797972322,-0.00037387298652902246],[6.883872993057594e-05,0.0006401282735168934,-0.001270447508431971,-0.0013465981464833021,-0.00012408083421178162,-0.0007637967937625945,-6.56473494018428e-05,0.0003780620754696429,0.0009739436209201813,0.00033082233858294785,-0.004654456861317158,0.0023530744947493076],[-0.004519850481301546,-0.005332311615347862,0.002216071356087923,-5.0183745770482346e-05,-0.005521588958799839,0.002080033766105771,0.003789865877479315,-0.002493217820301652,-0.0007531700539402664,-0.0011435705237090588,-0.0005210878443904221,8.746820822125301e-05],[-4.2196119466098025e-05,-0.0025900769978761673,-4.863631147600245e-06,0.07180645316839218,-0.0008883634000085294,-0.009951499290764332,0.0019251264166086912,-0.0012933916877955198,-0.003975284285843372,0.17508330941200256,-0.0008686031796969473,-0.0015080670127645135],[0.0004285831528250128,-0.00030888026230968535,-0.021174779161810875,0.002434907713904977,0.00142031314317137,0.004619556944817305,-0.11004256457090378,0.0027194309514015913,-0.020956795662641525,0.0026667772326618433,0.26698827743530273,0.00852474756538868],[0.060079045593738556,-0.00038364497595466673,0.030647143721580505,0.008959116414189339,-0.015746520832180977,0.03078245185315609,1.367354154586792,0.06721557676792145,-0.044143687933683395,-0.013249008916318417,0.0007022888748906553,-0.006516657769680023],[0.9793649315834045,0.3282994329929352,0.24380458891391754,0.07856044918298721,-0.004409662447869778,0.00061748584266752,0.3376845419406891,-0.5344849228858948,-0.00015255366452038288,-0.00836179219186306,1.0057778358459473,0.003105150768533349],[0.025240646675229073,-0.0021307666320353746,-0.47738951444625854,0.06137460097670555,-0.0031910925172269344,-0.003037966089323163,-0.10327019542455673,0.005066018085926771,0.027518723160028458,0.0015218901680782437,-1.1752293109893799,0.027102211490273476]],\"type\":\"heatmap\",\"xaxis\":\"x\",\"yaxis\":\"y\",\"hovertemplate\":\"Head: %{x}\\u003cbr\\u003eLayer: %{y}\\u003cbr\\u003ecolor: %{z}\\u003cextra\\u003e\\u003c\\u002fextra\\u003e\"}],                        {\"template\":{\"data\":{\"histogram2dcontour\":[{\"type\":\"histogram2dcontour\",\"colorbar\":{\"outlinewidth\":0,\"ticks\":\"\"},\"colorscale\":[[0.0,\"#0d0887\"],[0.1111111111111111,\"#46039f\"],[0.2222222222222222,\"#7201a8\"],[0.3333333333333333,\"#9c179e\"],[0.4444444444444444,\"#bd3786\"],[0.5555555555555556,\"#d8576b\"],[0.6666666666666666,\"#ed7953\"],[0.7777777777777778,\"#fb9f3a\"],[0.8888888888888888,\"#fdca26\"],[1.0,\"#f0f921\"]]}],\"choropleth\":[{\"type\":\"choropleth\",\"colorbar\":{\"outlinewidth\":0,\"ticks\":\"\"}}],\"histogram2d\":[{\"type\":\"histogram2d\",\"colorbar\":{\"outlinewidth\":0,\"ticks\":\"\"},\"colorscale\":[[0.0,\"#0d0887\"],[0.1111111111111111,\"#46039f\"],[0.2222222222222222,\"#7201a8\"],[0.3333333333333333,\"#9c179e\"],[0.4444444444444444,\"#bd3786\"],[0.5555555555555556,\"#d8576b\"],[0.6666666666666666,\"#ed7953\"],[0.7777777777777778,\"#fb9f3a\"],[0.8888888888888888,\"#fdca26\"],[1.0,\"#f0f921\"]]}],\"heatmap\":[{\"type\":\"heatmap\",\"colorbar\":{\"outlinewidth\":0,\"ticks\":\"\"},\"colorscale\":[[0.0,\"#0d0887\"],[0.1111111111111111,\"#46039f\"],[0.2222222222222222,\"#7201a8\"],[0.3333333333333333,\"#9c179e\"],[0.4444444444444444,\"#bd3786\"],[0.5555555555555556,\"#d8576b\"],[0.6666666666666666,\"#ed7953\"],[0.7777777777777778,\"#fb9f3a\"],[0.8888888888888888,\"#fdca26\"],[1.0,\"#f0f921\"]]}],\"heatmapgl\":[{\"type\":\"heatmapgl\",\"colorbar\":{\"outlinewidth\":0,\"ticks\":\"\"},\"colorscale\":[[0.0,\"#0d0887\"],[0.1111111111111111,\"#46039f\"],[0.2222222222222222,\"#7201a8\"],[0.3333333333333333,\"#9c179e\"],[0.4444444444444444,\"#bd3786\"],[0.5555555555555556,\"#d8576b\"],[0.6666666666666666,\"#ed7953\"],[0.7777777777777778,\"#fb9f3a\"],[0.8888888888888888,\"#fdca26\"],[1.0,\"#f0f921\"]]}],\"contourcarpet\":[{\"type\":\"contourcarpet\",\"colorbar\":{\"outlinewidth\":0,\"ticks\":\"\"}}],\"contour\":[{\"type\":\"contour\",\"colorbar\":{\"outlinewidth\":0,\"ticks\":\"\"},\"colorscale\":[[0.0,\"#0d0887\"],[0.1111111111111111,\"#46039f\"],[0.2222222222222222,\"#7201a8\"],[0.3333333333333333,\"#9c179e\"],[0.4444444444444444,\"#bd3786\"],[0.5555555555555556,\"#d8576b\"],[0.6666666666666666,\"#ed7953\"],[0.7777777777777778,\"#fb9f3a\"],[0.8888888888888888,\"#fdca26\"],[1.0,\"#f0f921\"]]}],\"surface\":[{\"type\":\"surface\",\"colorbar\":{\"outlinewidth\":0,\"ticks\":\"\"},\"colorscale\":[[0.0,\"#0d0887\"],[0.1111111111111111,\"#46039f\"],[0.2222222222222222,\"#7201a8\"],[0.3333333333333333,\"#9c179e\"],[0.4444444444444444,\"#bd3786\"],[0.5555555555555556,\"#d8576b\"],[0.6666666666666666,\"#ed7953\"],[0.7777777777777778,\"#fb9f3a\"],[0.8888888888888888,\"#fdca26\"],[1.0,\"#f0f921\"]]}],\"mesh3d\":[{\"type\":\"mesh3d\",\"colorbar\":{\"outlinewidth\":0,\"ticks\":\"\"}}],\"scatter\":[{\"fillpattern\":{\"fillmode\":\"overlay\",\"size\":10,\"solidity\":0.2},\"type\":\"scatter\"}],\"parcoords\":[{\"type\":\"parcoords\",\"line\":{\"colorbar\":{\"outlinewidth\":0,\"ticks\":\"\"}}}],\"scatterpolargl\":[{\"type\":\"scatterpolargl\",\"marker\":{\"colorbar\":{\"outlinewidth\":0,\"ticks\":\"\"}}}],\"bar\":[{\"error_x\":{\"color\":\"#2a3f5f\"},\"error_y\":{\"color\":\"#2a3f5f\"},\"marker\":{\"line\":{\"color\":\"#E5ECF6\",\"width\":0.5},\"pattern\":{\"fillmode\":\"overlay\",\"size\":10,\"solidity\":0.2}},\"type\":\"bar\"}],\"scattergeo\":[{\"type\":\"scattergeo\",\"marker\":{\"colorbar\":{\"outlinewidth\":0,\"ticks\":\"\"}}}],\"scatterpolar\":[{\"type\":\"scatterpolar\",\"marker\":{\"colorbar\":{\"outlinewidth\":0,\"ticks\":\"\"}}}],\"histogram\":[{\"marker\":{\"pattern\":{\"fillmode\":\"overlay\",\"size\":10,\"solidity\":0.2}},\"type\":\"histogram\"}],\"scattergl\":[{\"type\":\"scattergl\",\"marker\":{\"colorbar\":{\"outlinewidth\":0,\"ticks\":\"\"}}}],\"scatter3d\":[{\"type\":\"scatter3d\",\"line\":{\"colorbar\":{\"outlinewidth\":0,\"ticks\":\"\"}},\"marker\":{\"colorbar\":{\"outlinewidth\":0,\"ticks\":\"\"}}}],\"scattermapbox\":[{\"type\":\"scattermapbox\",\"marker\":{\"colorbar\":{\"outlinewidth\":0,\"ticks\":\"\"}}}],\"scatterternary\":[{\"type\":\"scatterternary\",\"marker\":{\"colorbar\":{\"outlinewidth\":0,\"ticks\":\"\"}}}],\"scattercarpet\":[{\"type\":\"scattercarpet\",\"marker\":{\"colorbar\":{\"outlinewidth\":0,\"ticks\":\"\"}}}],\"carpet\":[{\"aaxis\":{\"endlinecolor\":\"#2a3f5f\",\"gridcolor\":\"white\",\"linecolor\":\"white\",\"minorgridcolor\":\"white\",\"startlinecolor\":\"#2a3f5f\"},\"baxis\":{\"endlinecolor\":\"#2a3f5f\",\"gridcolor\":\"white\",\"linecolor\":\"white\",\"minorgridcolor\":\"white\",\"startlinecolor\":\"#2a3f5f\"},\"type\":\"carpet\"}],\"table\":[{\"cells\":{\"fill\":{\"color\":\"#EBF0F8\"},\"line\":{\"color\":\"white\"}},\"header\":{\"fill\":{\"color\":\"#C8D4E3\"},\"line\":{\"color\":\"white\"}},\"type\":\"table\"}],\"barpolar\":[{\"marker\":{\"line\":{\"color\":\"#E5ECF6\",\"width\":0.5},\"pattern\":{\"fillmode\":\"overlay\",\"size\":10,\"solidity\":0.2}},\"type\":\"barpolar\"}],\"pie\":[{\"automargin\":true,\"type\":\"pie\"}]},\"layout\":{\"autotypenumbers\":\"strict\",\"colorway\":[\"#636efa\",\"#EF553B\",\"#00cc96\",\"#ab63fa\",\"#FFA15A\",\"#19d3f3\",\"#FF6692\",\"#B6E880\",\"#FF97FF\",\"#FECB52\"],\"font\":{\"color\":\"#2a3f5f\"},\"hovermode\":\"closest\",\"hoverlabel\":{\"align\":\"left\"},\"paper_bgcolor\":\"white\",\"plot_bgcolor\":\"#E5ECF6\",\"polar\":{\"bgcolor\":\"#E5ECF6\",\"angularaxis\":{\"gridcolor\":\"white\",\"linecolor\":\"white\",\"ticks\":\"\"},\"radialaxis\":{\"gridcolor\":\"white\",\"linecolor\":\"white\",\"ticks\":\"\"}},\"ternary\":{\"bgcolor\":\"#E5ECF6\",\"aaxis\":{\"gridcolor\":\"white\",\"linecolor\":\"white\",\"ticks\":\"\"},\"baxis\":{\"gridcolor\":\"white\",\"linecolor\":\"white\",\"ticks\":\"\"},\"caxis\":{\"gridcolor\":\"white\",\"linecolor\":\"white\",\"ticks\":\"\"}},\"coloraxis\":{\"colorbar\":{\"outlinewidth\":0,\"ticks\":\"\"}},\"colorscale\":{\"sequential\":[[0.0,\"#0d0887\"],[0.1111111111111111,\"#46039f\"],[0.2222222222222222,\"#7201a8\"],[0.3333333333333333,\"#9c179e\"],[0.4444444444444444,\"#bd3786\"],[0.5555555555555556,\"#d8576b\"],[0.6666666666666666,\"#ed7953\"],[0.7777777777777778,\"#fb9f3a\"],[0.8888888888888888,\"#fdca26\"],[1.0,\"#f0f921\"]],\"sequentialminus\":[[0.0,\"#0d0887\"],[0.1111111111111111,\"#46039f\"],[0.2222222222222222,\"#7201a8\"],[0.3333333333333333,\"#9c179e\"],[0.4444444444444444,\"#bd3786\"],[0.5555555555555556,\"#d8576b\"],[0.6666666666666666,\"#ed7953\"],[0.7777777777777778,\"#fb9f3a\"],[0.8888888888888888,\"#fdca26\"],[1.0,\"#f0f921\"]],\"diverging\":[[0,\"#8e0152\"],[0.1,\"#c51b7d\"],[0.2,\"#de77ae\"],[0.3,\"#f1b6da\"],[0.4,\"#fde0ef\"],[0.5,\"#f7f7f7\"],[0.6,\"#e6f5d0\"],[0.7,\"#b8e186\"],[0.8,\"#7fbc41\"],[0.9,\"#4d9221\"],[1,\"#276419\"]]},\"xaxis\":{\"gridcolor\":\"white\",\"linecolor\":\"white\",\"ticks\":\"\",\"title\":{\"standoff\":15},\"zerolinecolor\":\"white\",\"automargin\":true,\"zerolinewidth\":2},\"yaxis\":{\"gridcolor\":\"white\",\"linecolor\":\"white\",\"ticks\":\"\",\"title\":{\"standoff\":15},\"zerolinecolor\":\"white\",\"automargin\":true,\"zerolinewidth\":2},\"scene\":{\"xaxis\":{\"backgroundcolor\":\"#E5ECF6\",\"gridcolor\":\"white\",\"linecolor\":\"white\",\"showbackground\":true,\"ticks\":\"\",\"zerolinecolor\":\"white\",\"gridwidth\":2},\"yaxis\":{\"backgroundcolor\":\"#E5ECF6\",\"gridcolor\":\"white\",\"linecolor\":\"white\",\"showbackground\":true,\"ticks\":\"\",\"zerolinecolor\":\"white\",\"gridwidth\":2},\"zaxis\":{\"backgroundcolor\":\"#E5ECF6\",\"gridcolor\":\"white\",\"linecolor\":\"white\",\"showbackground\":true,\"ticks\":\"\",\"zerolinecolor\":\"white\",\"gridwidth\":2}},\"shapedefaults\":{\"line\":{\"color\":\"#2a3f5f\"}},\"annotationdefaults\":{\"arrowcolor\":\"#2a3f5f\",\"arrowhead\":0,\"arrowwidth\":1},\"geo\":{\"bgcolor\":\"white\",\"landcolor\":\"#E5ECF6\",\"subunitcolor\":\"white\",\"showland\":true,\"showlakes\":true,\"lakecolor\":\"white\"},\"title\":{\"x\":0.05},\"mapbox\":{\"style\":\"light\"}}},\"xaxis\":{\"anchor\":\"y\",\"domain\":[0.0,1.0],\"scaleanchor\":\"y\",\"constrain\":\"domain\",\"title\":{\"text\":\"Head\"}},\"yaxis\":{\"anchor\":\"x\",\"domain\":[0.0,1.0],\"autorange\":\"reversed\",\"constrain\":\"domain\",\"title\":{\"text\":\"Layer\"}},\"coloraxis\":{\"colorscale\":[[0.0,\"rgb(103,0,31)\"],[0.1,\"rgb(178,24,43)\"],[0.2,\"rgb(214,96,77)\"],[0.3,\"rgb(244,165,130)\"],[0.4,\"rgb(253,219,199)\"],[0.5,\"rgb(247,247,247)\"],[0.6,\"rgb(209,229,240)\"],[0.7,\"rgb(146,197,222)\"],[0.8,\"rgb(67,147,195)\"],[0.9,\"rgb(33,102,172)\"],[1.0,\"rgb(5,48,97)\"]],\"cmid\":0.0},\"title\":{\"text\":\"Ablated Logit Difference From Each Head\"},\"width\":600},                        {\"responsive\": true}                    ).then(function(){\n",
       "                            \n",
       "var gd = document.getElementById('71a0e824-6620-4115-9511-31adea8d007d');\n",
       "var x = new MutationObserver(function (mutations, observer) {{\n",
       "        var display = window.getComputedStyle(gd).display;\n",
       "        if (!display || display === 'none') {{\n",
       "            console.log([gd, 'removed!']);\n",
       "            Plotly.purge(gd);\n",
       "            observer.disconnect();\n",
       "        }}\n",
       "}});\n",
       "\n",
       "// Listen for the removal of the full notebook cells\n",
       "var notebookContainer = gd.closest('#notebook-container');\n",
       "if (notebookContainer) {{\n",
       "    x.observe(notebookContainer, {childList: true});\n",
       "}}\n",
       "\n",
       "// Listen for the clearing of the current output cell\n",
       "var outputEl = gd.closest('.output');\n",
       "if (outputEl) {{\n",
       "    x.observe(outputEl, {childList: true});\n",
       "}}\n",
       "\n",
       "                        })                };                });            </script>        </div>"
      ]
     },
     "metadata": {},
     "output_type": "display_data"
    }
   ],
   "source": [
    "plot_per_head_attribution(ablated_cache, title=\"Ablated Logit Difference From Each Head\")"
   ]
  },
  {
   "attachments": {},
   "cell_type": "markdown",
   "metadata": {},
   "source": [
    "### Ablate all relevant heads"
   ]
  },
  {
   "cell_type": "code",
   "execution_count": 780,
   "metadata": {},
   "outputs": [],
   "source": [
    "# (layer, head)\n",
    "#all_name_movers = [(7, 3), (7, 9), (8,10), (9, 6), (9, 9), (10, 0), (10, 6), (10, 10)]\n",
    "heads = [(7, 3), (7, 9), (8,10), (9, 6), (9, 9)] # all name movers before layer 10\n",
    "#heads = [(7, 3), (7, 9), (8,10)] # all name movers before layer 9"
   ]
  },
  {
   "cell_type": "code",
   "execution_count": 781,
   "metadata": {},
   "outputs": [
    {
     "data": {
      "application/vnd.jupyter.widget-view+json": {
       "model_id": "dd41cef5bbe7438ea097b4b08d5efc66",
       "version_major": 2,
       "version_minor": 0
      },
      "text/plain": [
       "  0%|          | 0/5 [00:00<?, ?it/s]"
      ]
     },
     "metadata": {},
     "output_type": "display_data"
    }
   ],
   "source": [
    "def get_mean_activations(layer, head, n=50, sequence_length=15):\n",
    "    activations = []\n",
    "\n",
    "    for i, batch in enumerate(dataloader):\n",
    "        tokens = model.to_tokens(batch[0])[0, :sequence_length]\n",
    "        logits, cache = model.run_with_cache(tokens, return_type=\"logits\")\n",
    "        attention_pattern = cache[f\"blocks.{layer}.attn.hook_pattern\"]\n",
    "        head_results = attention_pattern[0, head, :, :]\n",
    "        activations.append(head_results)\n",
    "        if i == n:\n",
    "            break\n",
    "\n",
    "    all_activations = torch.stack(activations, dim=0)\n",
    "    #print(\"Combined:\", all_activations.shape)\n",
    "\n",
    "    mean_activation = torch.mean(all_activations, dim=(0))\n",
    "    #print(mean_activation.shape)\n",
    "    return mean_activation\n",
    "\n",
    "mean_activations_dict = {}\n",
    "for layer, head in tqdm(heads):\n",
    "    mean_activations = get_mean_activations(layer, head)\n",
    "    mean_activations_dict[(layer, head)] = mean_activations\n"
   ]
  },
  {
   "cell_type": "code",
   "execution_count": 782,
   "metadata": {},
   "outputs": [],
   "source": [
    "def hook_all_attention_patterns(attn_pattern, hook: HookPoint, head_idx: int, layer_idx: int):\n",
    "    if hook.layer() == layer_idx:\n",
    "        attn_pattern[:, head_idx] = mean_activations_dict[(layer_idx, head_idx)]\n",
    "        return attn_pattern\n",
    "\n",
    "name_filter = lambda name: name.endswith(\"pattern\")\n",
    "hooks = []\n",
    "for layer, head in heads:\n",
    "    hooks.append((name_filter, functools.partial(hook_all_attention_patterns, head_idx=head, layer_idx=layer)))\n",
    "\n",
    "with model.hooks(fwd_hooks=hooks):\n",
    "    ablated_logits, ablated_cache = model.run_with_cache(tokens)"
   ]
  },
  {
   "cell_type": "code",
   "execution_count": 783,
   "metadata": {},
   "outputs": [
    {
     "name": "stdout",
     "output_type": "stream",
     "text": [
      "Logit difference accuracy:  1.000\n",
      "Average logit difference: 2.976\n",
      "Logit difference accuracy:  1.000\n",
      "Average logit difference: 1.719\n"
     ]
    }
   ],
   "source": [
    "original_average_logit_diff = logits_to_ave_logit_diff(original_logits, answer_tokens)\n",
    "print(\"Average logit difference:\", original_average_logit_diff)\n",
    "\n",
    "ablated_average_logit_diff = logits_to_ave_logit_diff(ablated_logits, answer_tokens)\n",
    "print(\"Average logit difference:\", ablated_average_logit_diff)"
   ]
  },
  {
   "cell_type": "code",
   "execution_count": 784,
   "metadata": {},
   "outputs": [
    {
     "name": "stdout",
     "output_type": "stream",
     "text": [
      "Tried to stack head results when they weren't cached. Computing head results now\n"
     ]
    },
    {
     "data": {
      "text/html": [
       "<div>                            <div id=\"06f68c07-f26d-47de-a9ae-a87c84409be7\" class=\"plotly-graph-div\" style=\"height:525px; width:600px;\"></div>            <script type=\"text/javascript\">                require([\"plotly\"], function(Plotly) {                    window.PLOTLYENV=window.PLOTLYENV || {};                                    if (document.getElementById(\"06f68c07-f26d-47de-a9ae-a87c84409be7\")) {                    Plotly.newPlot(                        \"06f68c07-f26d-47de-a9ae-a87c84409be7\",                        [{\"coloraxis\":\"coloraxis\",\"name\":\"0\",\"texttemplate\":\"%{z:.2f}\",\"z\":[[-0.0031321002170443535,4.923744927509688e-05,-0.0004377327859401703,6.191437569214031e-05,-0.0007283046143129468,-3.5610464692581445e-05,-0.005616992712020874,-0.00370201887562871,-1.2571701518027112e-05,4.441558485268615e-05,-0.0007665482698939741,-0.0007952417945489287],[0.00020087989105377346,0.00021270307479426265,0.0005391471786424518,4.8526777391089126e-05,-0.0018250355497002602,0.00030132406391203403,-0.0027674308512359858,-0.0047886245884001255,0.0026230185758322477,0.001523132435977459,0.0012880205176770687,0.0009687651763670146],[-0.0001955569750862196,-0.001289725536480546,-0.0003578652685973793,-0.0007317486451938748,-0.0005451462930068374,0.0005902208504267037,0.0014152053045108914,0.003871982917189598,0.0005195429548621178,-0.001717710285447538,-0.0006323763518594205,0.0002872385666705668],[-0.00010466859384905547,-0.00039430762990377843,0.00013547067646868527,8.50198557600379e-05,0.00015953945694491267,-0.0011739047477021813,-0.000623181986156851,-0.0005387470009736717,0.00017189906793646514,0.000712367647793144,-0.0009539604070596397,-0.00033036750392057],[-0.0009507763315923512,-5.827285349369049e-05,-0.001062425086274743,-0.000996407470665872,0.0010003386996686459,0.00015960937889758497,-0.0006123688071966171,-0.00020943502022419125,-0.00014974846271798015,-0.0006149737164378166,0.00026331900153309107,0.00018746097339317203],[2.6525405701249838e-05,8.64427856868133e-05,-0.00018032950174529105,-0.0012163836508989334,1.2638598491321318e-05,-0.0010682092979550362,-1.0307147931598593e-05,0.0004134992486797273,0.0009752779151313007,0.0003770144539885223,-0.0043045575730502605,0.0023024228867143393],[-0.004644752945750952,-0.005590158514678478,0.002324446104466915,0.0003884326433762908,-0.0044993809424340725,0.0019764460157603025,0.0030035085510462523,-0.0024069887585937977,-0.0009289446752518415,-0.0016350594814866781,-0.00045978842535987496,0.0007834620773792267],[-0.00018744709086604416,-0.002721283584833145,-0.0003903150209225714,0.011973855085670948,-0.0009879032149910927,-0.009404908865690231,0.0015956449788063765,-0.0012450931826606393,-0.004331858363002539,0.013224317692220211,-0.0012365859001874924,-0.001973174512386322],[0.0010147279826924205,-0.0011891818139702082,-0.015227209776639938,-0.015565268695354462,-0.00027397897792980075,0.0030619283206760883,-0.10351066291332245,0.0009132573031820357,-0.020242249593138695,0.0034702597185969353,0.02202385663986206,-0.01731998659670353],[0.0029983941931277514,-0.0003074718115385622,0.0014047063887119293,0.002664233325049281,-0.00649257842451334,0.049783967435359955,-0.008336731232702732,0.10244002193212509,-0.08438949286937714,-0.008383678272366524,-0.00034472704282961786,-0.012300100177526474],[0.7003753185272217,0.18759144842624664,0.21705792844295502,0.017490843310952187,-0.006631635129451752,0.00019173107284586877,0.1853743940591812,0.8291266560554504,-0.0003339522227179259,-0.01005281787365675,0.831112802028656,-0.022534573450684547],[0.03494755178689957,0.03133492171764374,-0.4020974040031433,0.06938502937555313,-0.000807710865046829,-0.0015295266639441252,-0.13189589977264404,0.009173812344670296,0.022676700726151466,0.011578663252294064,-0.946736216545105,0.018916063010692596]],\"type\":\"heatmap\",\"xaxis\":\"x\",\"yaxis\":\"y\",\"hovertemplate\":\"Head: %{x}\\u003cbr\\u003eLayer: %{y}\\u003cbr\\u003ecolor: %{z}\\u003cextra\\u003e\\u003c\\u002fextra\\u003e\"}],                        {\"template\":{\"data\":{\"histogram2dcontour\":[{\"type\":\"histogram2dcontour\",\"colorbar\":{\"outlinewidth\":0,\"ticks\":\"\"},\"colorscale\":[[0.0,\"#0d0887\"],[0.1111111111111111,\"#46039f\"],[0.2222222222222222,\"#7201a8\"],[0.3333333333333333,\"#9c179e\"],[0.4444444444444444,\"#bd3786\"],[0.5555555555555556,\"#d8576b\"],[0.6666666666666666,\"#ed7953\"],[0.7777777777777778,\"#fb9f3a\"],[0.8888888888888888,\"#fdca26\"],[1.0,\"#f0f921\"]]}],\"choropleth\":[{\"type\":\"choropleth\",\"colorbar\":{\"outlinewidth\":0,\"ticks\":\"\"}}],\"histogram2d\":[{\"type\":\"histogram2d\",\"colorbar\":{\"outlinewidth\":0,\"ticks\":\"\"},\"colorscale\":[[0.0,\"#0d0887\"],[0.1111111111111111,\"#46039f\"],[0.2222222222222222,\"#7201a8\"],[0.3333333333333333,\"#9c179e\"],[0.4444444444444444,\"#bd3786\"],[0.5555555555555556,\"#d8576b\"],[0.6666666666666666,\"#ed7953\"],[0.7777777777777778,\"#fb9f3a\"],[0.8888888888888888,\"#fdca26\"],[1.0,\"#f0f921\"]]}],\"heatmap\":[{\"type\":\"heatmap\",\"colorbar\":{\"outlinewidth\":0,\"ticks\":\"\"},\"colorscale\":[[0.0,\"#0d0887\"],[0.1111111111111111,\"#46039f\"],[0.2222222222222222,\"#7201a8\"],[0.3333333333333333,\"#9c179e\"],[0.4444444444444444,\"#bd3786\"],[0.5555555555555556,\"#d8576b\"],[0.6666666666666666,\"#ed7953\"],[0.7777777777777778,\"#fb9f3a\"],[0.8888888888888888,\"#fdca26\"],[1.0,\"#f0f921\"]]}],\"heatmapgl\":[{\"type\":\"heatmapgl\",\"colorbar\":{\"outlinewidth\":0,\"ticks\":\"\"},\"colorscale\":[[0.0,\"#0d0887\"],[0.1111111111111111,\"#46039f\"],[0.2222222222222222,\"#7201a8\"],[0.3333333333333333,\"#9c179e\"],[0.4444444444444444,\"#bd3786\"],[0.5555555555555556,\"#d8576b\"],[0.6666666666666666,\"#ed7953\"],[0.7777777777777778,\"#fb9f3a\"],[0.8888888888888888,\"#fdca26\"],[1.0,\"#f0f921\"]]}],\"contourcarpet\":[{\"type\":\"contourcarpet\",\"colorbar\":{\"outlinewidth\":0,\"ticks\":\"\"}}],\"contour\":[{\"type\":\"contour\",\"colorbar\":{\"outlinewidth\":0,\"ticks\":\"\"},\"colorscale\":[[0.0,\"#0d0887\"],[0.1111111111111111,\"#46039f\"],[0.2222222222222222,\"#7201a8\"],[0.3333333333333333,\"#9c179e\"],[0.4444444444444444,\"#bd3786\"],[0.5555555555555556,\"#d8576b\"],[0.6666666666666666,\"#ed7953\"],[0.7777777777777778,\"#fb9f3a\"],[0.8888888888888888,\"#fdca26\"],[1.0,\"#f0f921\"]]}],\"surface\":[{\"type\":\"surface\",\"colorbar\":{\"outlinewidth\":0,\"ticks\":\"\"},\"colorscale\":[[0.0,\"#0d0887\"],[0.1111111111111111,\"#46039f\"],[0.2222222222222222,\"#7201a8\"],[0.3333333333333333,\"#9c179e\"],[0.4444444444444444,\"#bd3786\"],[0.5555555555555556,\"#d8576b\"],[0.6666666666666666,\"#ed7953\"],[0.7777777777777778,\"#fb9f3a\"],[0.8888888888888888,\"#fdca26\"],[1.0,\"#f0f921\"]]}],\"mesh3d\":[{\"type\":\"mesh3d\",\"colorbar\":{\"outlinewidth\":0,\"ticks\":\"\"}}],\"scatter\":[{\"fillpattern\":{\"fillmode\":\"overlay\",\"size\":10,\"solidity\":0.2},\"type\":\"scatter\"}],\"parcoords\":[{\"type\":\"parcoords\",\"line\":{\"colorbar\":{\"outlinewidth\":0,\"ticks\":\"\"}}}],\"scatterpolargl\":[{\"type\":\"scatterpolargl\",\"marker\":{\"colorbar\":{\"outlinewidth\":0,\"ticks\":\"\"}}}],\"bar\":[{\"error_x\":{\"color\":\"#2a3f5f\"},\"error_y\":{\"color\":\"#2a3f5f\"},\"marker\":{\"line\":{\"color\":\"#E5ECF6\",\"width\":0.5},\"pattern\":{\"fillmode\":\"overlay\",\"size\":10,\"solidity\":0.2}},\"type\":\"bar\"}],\"scattergeo\":[{\"type\":\"scattergeo\",\"marker\":{\"colorbar\":{\"outlinewidth\":0,\"ticks\":\"\"}}}],\"scatterpolar\":[{\"type\":\"scatterpolar\",\"marker\":{\"colorbar\":{\"outlinewidth\":0,\"ticks\":\"\"}}}],\"histogram\":[{\"marker\":{\"pattern\":{\"fillmode\":\"overlay\",\"size\":10,\"solidity\":0.2}},\"type\":\"histogram\"}],\"scattergl\":[{\"type\":\"scattergl\",\"marker\":{\"colorbar\":{\"outlinewidth\":0,\"ticks\":\"\"}}}],\"scatter3d\":[{\"type\":\"scatter3d\",\"line\":{\"colorbar\":{\"outlinewidth\":0,\"ticks\":\"\"}},\"marker\":{\"colorbar\":{\"outlinewidth\":0,\"ticks\":\"\"}}}],\"scattermapbox\":[{\"type\":\"scattermapbox\",\"marker\":{\"colorbar\":{\"outlinewidth\":0,\"ticks\":\"\"}}}],\"scatterternary\":[{\"type\":\"scatterternary\",\"marker\":{\"colorbar\":{\"outlinewidth\":0,\"ticks\":\"\"}}}],\"scattercarpet\":[{\"type\":\"scattercarpet\",\"marker\":{\"colorbar\":{\"outlinewidth\":0,\"ticks\":\"\"}}}],\"carpet\":[{\"aaxis\":{\"endlinecolor\":\"#2a3f5f\",\"gridcolor\":\"white\",\"linecolor\":\"white\",\"minorgridcolor\":\"white\",\"startlinecolor\":\"#2a3f5f\"},\"baxis\":{\"endlinecolor\":\"#2a3f5f\",\"gridcolor\":\"white\",\"linecolor\":\"white\",\"minorgridcolor\":\"white\",\"startlinecolor\":\"#2a3f5f\"},\"type\":\"carpet\"}],\"table\":[{\"cells\":{\"fill\":{\"color\":\"#EBF0F8\"},\"line\":{\"color\":\"white\"}},\"header\":{\"fill\":{\"color\":\"#C8D4E3\"},\"line\":{\"color\":\"white\"}},\"type\":\"table\"}],\"barpolar\":[{\"marker\":{\"line\":{\"color\":\"#E5ECF6\",\"width\":0.5},\"pattern\":{\"fillmode\":\"overlay\",\"size\":10,\"solidity\":0.2}},\"type\":\"barpolar\"}],\"pie\":[{\"automargin\":true,\"type\":\"pie\"}]},\"layout\":{\"autotypenumbers\":\"strict\",\"colorway\":[\"#636efa\",\"#EF553B\",\"#00cc96\",\"#ab63fa\",\"#FFA15A\",\"#19d3f3\",\"#FF6692\",\"#B6E880\",\"#FF97FF\",\"#FECB52\"],\"font\":{\"color\":\"#2a3f5f\"},\"hovermode\":\"closest\",\"hoverlabel\":{\"align\":\"left\"},\"paper_bgcolor\":\"white\",\"plot_bgcolor\":\"#E5ECF6\",\"polar\":{\"bgcolor\":\"#E5ECF6\",\"angularaxis\":{\"gridcolor\":\"white\",\"linecolor\":\"white\",\"ticks\":\"\"},\"radialaxis\":{\"gridcolor\":\"white\",\"linecolor\":\"white\",\"ticks\":\"\"}},\"ternary\":{\"bgcolor\":\"#E5ECF6\",\"aaxis\":{\"gridcolor\":\"white\",\"linecolor\":\"white\",\"ticks\":\"\"},\"baxis\":{\"gridcolor\":\"white\",\"linecolor\":\"white\",\"ticks\":\"\"},\"caxis\":{\"gridcolor\":\"white\",\"linecolor\":\"white\",\"ticks\":\"\"}},\"coloraxis\":{\"colorbar\":{\"outlinewidth\":0,\"ticks\":\"\"}},\"colorscale\":{\"sequential\":[[0.0,\"#0d0887\"],[0.1111111111111111,\"#46039f\"],[0.2222222222222222,\"#7201a8\"],[0.3333333333333333,\"#9c179e\"],[0.4444444444444444,\"#bd3786\"],[0.5555555555555556,\"#d8576b\"],[0.6666666666666666,\"#ed7953\"],[0.7777777777777778,\"#fb9f3a\"],[0.8888888888888888,\"#fdca26\"],[1.0,\"#f0f921\"]],\"sequentialminus\":[[0.0,\"#0d0887\"],[0.1111111111111111,\"#46039f\"],[0.2222222222222222,\"#7201a8\"],[0.3333333333333333,\"#9c179e\"],[0.4444444444444444,\"#bd3786\"],[0.5555555555555556,\"#d8576b\"],[0.6666666666666666,\"#ed7953\"],[0.7777777777777778,\"#fb9f3a\"],[0.8888888888888888,\"#fdca26\"],[1.0,\"#f0f921\"]],\"diverging\":[[0,\"#8e0152\"],[0.1,\"#c51b7d\"],[0.2,\"#de77ae\"],[0.3,\"#f1b6da\"],[0.4,\"#fde0ef\"],[0.5,\"#f7f7f7\"],[0.6,\"#e6f5d0\"],[0.7,\"#b8e186\"],[0.8,\"#7fbc41\"],[0.9,\"#4d9221\"],[1,\"#276419\"]]},\"xaxis\":{\"gridcolor\":\"white\",\"linecolor\":\"white\",\"ticks\":\"\",\"title\":{\"standoff\":15},\"zerolinecolor\":\"white\",\"automargin\":true,\"zerolinewidth\":2},\"yaxis\":{\"gridcolor\":\"white\",\"linecolor\":\"white\",\"ticks\":\"\",\"title\":{\"standoff\":15},\"zerolinecolor\":\"white\",\"automargin\":true,\"zerolinewidth\":2},\"scene\":{\"xaxis\":{\"backgroundcolor\":\"#E5ECF6\",\"gridcolor\":\"white\",\"linecolor\":\"white\",\"showbackground\":true,\"ticks\":\"\",\"zerolinecolor\":\"white\",\"gridwidth\":2},\"yaxis\":{\"backgroundcolor\":\"#E5ECF6\",\"gridcolor\":\"white\",\"linecolor\":\"white\",\"showbackground\":true,\"ticks\":\"\",\"zerolinecolor\":\"white\",\"gridwidth\":2},\"zaxis\":{\"backgroundcolor\":\"#E5ECF6\",\"gridcolor\":\"white\",\"linecolor\":\"white\",\"showbackground\":true,\"ticks\":\"\",\"zerolinecolor\":\"white\",\"gridwidth\":2}},\"shapedefaults\":{\"line\":{\"color\":\"#2a3f5f\"}},\"annotationdefaults\":{\"arrowcolor\":\"#2a3f5f\",\"arrowhead\":0,\"arrowwidth\":1},\"geo\":{\"bgcolor\":\"white\",\"landcolor\":\"#E5ECF6\",\"subunitcolor\":\"white\",\"showland\":true,\"showlakes\":true,\"lakecolor\":\"white\"},\"title\":{\"x\":0.05},\"mapbox\":{\"style\":\"light\"}}},\"xaxis\":{\"anchor\":\"y\",\"domain\":[0.0,1.0],\"scaleanchor\":\"y\",\"constrain\":\"domain\",\"title\":{\"text\":\"Head\"}},\"yaxis\":{\"anchor\":\"x\",\"domain\":[0.0,1.0],\"autorange\":\"reversed\",\"constrain\":\"domain\",\"title\":{\"text\":\"Layer\"}},\"coloraxis\":{\"colorscale\":[[0.0,\"rgb(103,0,31)\"],[0.1,\"rgb(178,24,43)\"],[0.2,\"rgb(214,96,77)\"],[0.3,\"rgb(244,165,130)\"],[0.4,\"rgb(253,219,199)\"],[0.5,\"rgb(247,247,247)\"],[0.6,\"rgb(209,229,240)\"],[0.7,\"rgb(146,197,222)\"],[0.8,\"rgb(67,147,195)\"],[0.9,\"rgb(33,102,172)\"],[1.0,\"rgb(5,48,97)\"]],\"cmid\":0.0},\"title\":{\"text\":\"Ablated Logit Difference From Each Head\"},\"width\":600},                        {\"responsive\": true}                    ).then(function(){\n",
       "                            \n",
       "var gd = document.getElementById('06f68c07-f26d-47de-a9ae-a87c84409be7');\n",
       "var x = new MutationObserver(function (mutations, observer) {{\n",
       "        var display = window.getComputedStyle(gd).display;\n",
       "        if (!display || display === 'none') {{\n",
       "            console.log([gd, 'removed!']);\n",
       "            Plotly.purge(gd);\n",
       "            observer.disconnect();\n",
       "        }}\n",
       "}});\n",
       "\n",
       "// Listen for the removal of the full notebook cells\n",
       "var notebookContainer = gd.closest('#notebook-container');\n",
       "if (notebookContainer) {{\n",
       "    x.observe(notebookContainer, {childList: true});\n",
       "}}\n",
       "\n",
       "// Listen for the clearing of the current output cell\n",
       "var outputEl = gd.closest('.output');\n",
       "if (outputEl) {{\n",
       "    x.observe(outputEl, {childList: true});\n",
       "}}\n",
       "\n",
       "                        })                };                });            </script>        </div>"
      ]
     },
     "metadata": {},
     "output_type": "display_data"
    }
   ],
   "source": [
    "plot_per_head_attribution(ablated_cache, title=\"Ablated Logit Difference From Each Head\")"
   ]
  },
  {
   "cell_type": "code",
   "execution_count": 785,
   "metadata": {},
   "outputs": [
    {
     "data": {
      "text/plain": [
       "torch.Size([22, 12, 15, 15])"
      ]
     },
     "execution_count": 785,
     "metadata": {},
     "output_type": "execute_result"
    }
   ],
   "source": [
    "ablated_attention_pattern = ablated_cache[\"blocks.10.attn.hook_pattern\"]\n",
    "ablated_attention_pattern.shape"
   ]
  },
  {
   "cell_type": "code",
   "execution_count": 786,
   "metadata": {},
   "outputs": [
    {
     "data": {
      "text/html": [
       "<div id=\"circuits-vis-71c6f736-b426\" style=\"margin: 15px 0;\"/>\n",
       "    <script crossorigin type=\"module\">\n",
       "    import { render, AttentionPatterns } from \"https://unpkg.com/circuitsvis@1.39.1/dist/cdn/esm.js\";\n",
       "    render(\n",
       "      \"circuits-vis-71c6f736-b426\",\n",
       "      AttentionPatterns,\n",
       "      {\"tokens\": [\"<|endoftext|>\", \"When\", \" John\", \" and\", \" Mary\", \" went\", \" to\", \" the\", \" shops\", \",\", \" John\", \" gave\", \" the\", \" bag\", \" to\"], \"attention\": [[[1.0, 0.0, 0.0, 0.0, 0.0, 0.0, 0.0, 0.0, 0.0, 0.0, 0.0, 0.0, 0.0, 0.0, 0.0], [0.9773443341255188, 0.022655686363577843, 0.0, 0.0, 0.0, 0.0, 0.0, 0.0, 0.0, 0.0, 0.0, 0.0, 0.0, 0.0, 0.0], [0.9462201595306396, 0.018218938261270523, 0.03556086868047714, 0.0, 0.0, 0.0, 0.0, 0.0, 0.0, 0.0, 0.0, 0.0, 0.0, 0.0, 0.0], [0.7876777648925781, 0.007451972924172878, 0.18307450413703918, 0.02179580368101597, 0.0, 0.0, 0.0, 0.0, 0.0, 0.0, 0.0, 0.0, 0.0, 0.0, 0.0], [0.8403417468070984, 0.01724708452820778, 0.05548067390918732, 0.015580601058900356, 0.07134989649057388, 0.0, 0.0, 0.0, 0.0, 0.0, 0.0, 0.0, 0.0, 0.0, 0.0], [0.9685310125350952, 0.003949017729610205, 0.0018599126487970352, 0.007635669782757759, 0.006274488754570484, 0.01174994558095932, 0.0, 0.0, 0.0, 0.0, 0.0, 0.0, 0.0, 0.0, 0.0], [0.7734276056289673, 0.017955344170331955, 0.04292440414428711, 0.013631985522806644, 0.1041116937994957, 0.017263511195778847, 0.03068545274436474, 0.0, 0.0, 0.0, 0.0, 0.0, 0.0, 0.0, 0.0], [0.899893581867218, 0.009709530510008335, 0.011422394774854183, 0.011366528458893299, 0.025763006880879402, 0.006049186456948519, 0.020234014838933945, 0.015561789274215698, 0.0, 0.0, 0.0, 0.0, 0.0, 0.0, 0.0], [0.9539462327957153, 0.004391524009406567, 0.010823221877217293, 0.0013661428820341825, 0.011565685272216797, 0.0010015486041083932, 0.0006990759866312146, 0.0007051934953778982, 0.015501360408961773, 0.0, 0.0, 0.0, 0.0, 0.0, 0.0], [0.27934807538986206, 0.005712441168725491, 0.19326481223106384, 0.00896940752863884, 0.48115044832229614, 0.002821991452947259, 0.0020804251544177532, 0.0021653182338923216, 0.017470037564635277, 0.007017013616859913, 0.0, 0.0, 0.0, 0.0, 0.0], [0.8286198973655701, 0.009016603231430054, 0.014487242326140404, 0.01503134984523058, 0.035103585571050644, 0.016160709783434868, 0.0037560281343758106, 0.001986374147236347, 0.038203854113817215, 0.011258401907980442, 0.02637600339949131, 0.0, 0.0, 0.0, 0.0], [0.15336541831493378, 0.0038364261854439974, 0.20055422186851501, 0.013102819211781025, 0.48888713121414185, 0.0017410075524821877, 0.0026390792336314917, 0.0025463271886110306, 0.00972780492156744, 0.004208891652524471, 0.11634021252393723, 0.003050577361136675, 0.0, 0.0, 0.0], [0.5817368626594543, 0.004712602589279413, 0.04164118319749832, 0.03032488189637661, 0.07810665667057037, 0.007891668938100338, 0.012039807625114918, 0.003215417033061385, 0.18170204758644104, 0.01067601703107357, 0.023433879017829895, 0.014476790092885494, 0.010042197071015835, 0.0, 0.0], [0.8890080451965332, 0.006879634223878384, 0.009931022301316261, 0.0026448965072631836, 0.01677645742893219, 0.001563729252666235, 0.0018327356083318591, 0.0016641825204715133, 0.026716522872447968, 0.00760600995272398, 0.009532526135444641, 0.0025817384012043476, 0.0024512691888958216, 0.02081119455397129, 0.0], [0.13232818245887756, 0.003300357609987259, 0.17072385549545288, 0.006995915435254574, 0.6139388084411621, 0.0010513876331970096, 0.0008843821124173701, 0.0007677825633436441, 0.0043076626025140285, 0.001997485989704728, 0.05723829194903374, 0.0005265250219963491, 0.001279171439819038, 0.0013162032701075077, 0.0033439681865274906]], [[1.0, 0.0, 0.0, 0.0, 0.0, 0.0, 0.0, 0.0, 0.0, 0.0, 0.0, 0.0, 0.0, 0.0, 0.0], [0.9938358664512634, 0.006164103280752897, 0.0, 0.0, 0.0, 0.0, 0.0, 0.0, 0.0, 0.0, 0.0, 0.0, 0.0, 0.0, 0.0], [0.9944925308227539, 0.0014013180043548346, 0.004106160718947649, 0.0, 0.0, 0.0, 0.0, 0.0, 0.0, 0.0, 0.0, 0.0, 0.0, 0.0, 0.0], [0.9016184210777283, 0.004599797539412975, 0.08070986717939377, 0.013071905821561813, 0.0, 0.0, 0.0, 0.0, 0.0, 0.0, 0.0, 0.0, 0.0, 0.0, 0.0], [0.937169075012207, 0.004793964326381683, 0.013604282401502132, 0.009766316041350365, 0.03466641157865524, 0.0, 0.0, 0.0, 0.0, 0.0, 0.0, 0.0, 0.0, 0.0, 0.0], [0.9848434329032898, 0.005181840155273676, 0.0004477013135328889, 0.001934834523126483, 0.00028596946503967047, 0.007306275423616171, 0.0, 0.0, 0.0, 0.0, 0.0, 0.0, 0.0, 0.0, 0.0], [0.9757132530212402, 0.0006289664306677878, 0.006743376608937979, 0.0007075974717736244, 0.010802303440868855, 0.0019282519351691008, 0.0034762085415422916, 0.0, 0.0, 0.0, 0.0, 0.0, 0.0, 0.0, 0.0], [0.9858129620552063, 0.000999725074507296, 0.0010400479659438133, 0.0006064102053642273, 0.0016526791732758284, 0.0005321032367646694, 0.0014193811221048236, 0.007936753332614899, 0.0, 0.0, 0.0, 0.0, 0.0, 0.0, 0.0], [0.9842036962509155, 0.003319310722872615, 0.0025549582205712795, 0.0003332524502184242, 0.0010186171857640147, 0.0011567388428375125, 0.0014238249277696013, 0.0018217632314190269, 0.004167845472693443, 0.0, 0.0, 0.0, 0.0, 0.0, 0.0], [0.4742065668106079, 0.007498426362872124, 0.19505667686462402, 0.006065960507839918, 0.3054930865764618, 0.002138401148840785, 0.0014968740288168192, 0.0005585512262769043, 0.002670658752322197, 0.004814732354134321, 0.0, 0.0, 0.0, 0.0, 0.0], [0.869566023349762, 0.0016171495663002133, 0.0034090355038642883, 0.042145173996686935, 0.06277032941579819, 0.008420009166002274, 0.0018265044782310724, 0.0004980043158866465, 0.003625543788075447, 0.0007428211392834783, 0.005379501264542341, 0.0, 0.0, 0.0, 0.0], [0.5405411720275879, 0.004244344774633646, 0.10689832270145416, 0.004158145282417536, 0.22716179490089417, 0.0006437583942897618, 0.0010237707756459713, 0.0004558996297419071, 0.0011323568178340793, 0.002750682644546032, 0.09623412042856216, 0.014755591750144958, 0.0, 0.0, 0.0], [0.8923097848892212, 0.001978508196771145, 0.012467287480831146, 0.005628177896142006, 0.02283860370516777, 0.001215146854519844, 0.0013774632243439555, 0.0019932426512241364, 0.015911707654595375, 0.0019615779165178537, 0.005610632244497538, 0.00697941891849041, 0.029728436842560768, 0.0, 0.0], [0.9830228686332703, 0.0018130483804270625, 0.0016826193314045668, 0.00024404410214629024, 0.0010506671387702227, 8.908116433303803e-05, 0.00033111305674538016, 0.00026164986775256693, 0.0009252809104509652, 0.0014147694455459714, 0.0012274357723072171, 0.0008331198478117585, 0.0017340374179184437, 0.005370324943214655, 0.0], [0.2976919412612915, 0.002381795784458518, 0.1258668452501297, 0.013837284408509731, 0.5120779871940613, 0.0006236372864805162, 0.00037900745519436896, 0.00042857526568695903, 0.0007102229865267873, 0.001082321279682219, 0.037786684930324554, 0.0011704294010996819, 0.002682697493582964, 0.0011820778017863631, 0.002098512602970004]], [[1.0, 0.0, 0.0, 0.0, 0.0, 0.0, 0.0, 0.0, 0.0, 0.0, 0.0, 0.0, 0.0, 0.0, 0.0], [0.9902681708335876, 0.009731908328831196, 0.0, 0.0, 0.0, 0.0, 0.0, 0.0, 0.0, 0.0, 0.0, 0.0, 0.0, 0.0, 0.0], [0.995358407497406, 0.0017800069181248546, 0.0028616362251341343, 0.0, 0.0, 0.0, 0.0, 0.0, 0.0, 0.0, 0.0, 0.0, 0.0, 0.0, 0.0], [0.8315931558609009, 0.007496875710785389, 0.11706701666116714, 0.04384295642375946, 0.0, 0.0, 0.0, 0.0, 0.0, 0.0, 0.0, 0.0, 0.0, 0.0, 0.0], [0.9119350910186768, 0.010353567078709602, 0.019170310348272324, 0.033144183456897736, 0.02539685182273388, 0.0, 0.0, 0.0, 0.0, 0.0, 0.0, 0.0, 0.0, 0.0, 0.0], [0.9872180819511414, 0.002489774487912655, 0.0010625305585563183, 0.003618951654061675, 0.001526530715636909, 0.004084158223122358, 0.0, 0.0, 0.0, 0.0, 0.0, 0.0, 0.0, 0.0, 0.0], [0.9156726598739624, 0.0017128662439063191, 0.030924074351787567, 0.002180711831897497, 0.03964759409427643, 0.0029929294250905514, 0.006869237404316664, 0.0, 0.0, 0.0, 0.0, 0.0, 0.0, 0.0, 0.0], [0.9746033549308777, 0.003129799384623766, 0.007753552403301001, 0.001505081309005618, 0.004167094361037016, 0.0009587265667505562, 0.003051972482353449, 0.004830398131161928, 0.0, 0.0, 0.0, 0.0, 0.0, 0.0, 0.0], [0.9324526786804199, 0.019876960664987564, 0.02329438179731369, 0.0033532569650560617, 0.0069644092582166195, 0.0037094433791935444, 0.005418518558144569, 0.0009175835875794291, 0.0040127127431333065, 0.0, 0.0, 0.0, 0.0, 0.0, 0.0], [0.33103975653648376, 0.007225180044770241, 0.22527329623699188, 0.010828916914761066, 0.40973663330078125, 0.002318762708455324, 0.0015910965157672763, 0.0014292759587988257, 0.0020753515418618917, 0.00848167110234499, 0.0, 0.0, 0.0, 0.0, 0.0], [0.7805947661399841, 0.012878518551588058, 0.006028817500919104, 0.04186461120843887, 0.02867046371102333, 0.043974749743938446, 0.007778091821819544, 0.001428268733434379, 0.004069723188877106, 0.027737319469451904, 0.044974613934755325, 0.0, 0.0, 0.0, 0.0], [0.21063002943992615, 0.005459118168801069, 0.07463368773460388, 0.017135391011834145, 0.514797031879425, 0.002454538829624653, 0.0019337261328473687, 0.0013326337793841958, 0.001147852628491819, 0.006411596667021513, 0.15697690844535828, 0.007087514270097017, 0.0, 0.0, 0.0], [0.6864352226257324, 0.003297026501968503, 0.026410158723592758, 0.01777019537985325, 0.15086665749549866, 0.006444724276661873, 0.0036944474559277296, 0.0014764779480174184, 0.02982150763273239, 0.007464109919965267, 0.02136821672320366, 0.010557393543422222, 0.03439374268054962, 0.0, 0.0], [0.8625675439834595, 0.005624831188470125, 0.023090790957212448, 0.0032992542255669832, 0.03583845496177673, 0.0034060992766171694, 0.0021860930137336254, 0.0007341226446442306, 0.001722209621220827, 0.006904697045683861, 0.025816449895501137, 0.0065686446614563465, 0.008987782523036003, 0.013253086246550083, 0.0], [0.2063605934381485, 0.0030118622817099094, 0.1138414666056633, 0.0300601776689291, 0.5120471119880676, 0.0019837990403175354, 0.001020723837427795, 0.0005700969486497343, 0.0006419942947104573, 0.004916865844279528, 0.1068650558590889, 0.002329084323719144, 0.00729734543710947, 0.0015797457890585065, 0.007473999168723822]], [[1.0, 0.0, 0.0, 0.0, 0.0, 0.0, 0.0, 0.0, 0.0, 0.0, 0.0, 0.0, 0.0, 0.0, 0.0], [0.9485035538673401, 0.05149642005562782, 0.0, 0.0, 0.0, 0.0, 0.0, 0.0, 0.0, 0.0, 0.0, 0.0, 0.0, 0.0, 0.0], [0.9769594669342041, 0.013501649722456932, 0.009538914076983929, 0.0, 0.0, 0.0, 0.0, 0.0, 0.0, 0.0, 0.0, 0.0, 0.0, 0.0, 0.0], [0.8130314946174622, 0.03388219326734543, 0.11294078826904297, 0.04014551639556885, 0.0, 0.0, 0.0, 0.0, 0.0, 0.0, 0.0, 0.0, 0.0, 0.0, 0.0], [0.8485768437385559, 0.0306396484375, 0.032622329890728, 0.017893942072987556, 0.07026728242635727, 0.0, 0.0, 0.0, 0.0, 0.0, 0.0, 0.0, 0.0, 0.0, 0.0], [0.9458999633789062, 0.012563146650791168, 0.0006133357528597116, 0.009275475516915321, 0.0011254387209191918, 0.03052269108593464, 0.0, 0.0, 0.0, 0.0, 0.0, 0.0, 0.0, 0.0, 0.0], [0.8578944802284241, 0.01593940146267414, 0.010767391882836819, 0.01776950992643833, 0.0220011156052351, 0.015164999291300774, 0.060463108122348785, 0.0, 0.0, 0.0, 0.0, 0.0, 0.0, 0.0, 0.0], [0.8506920337677002, 0.03263380005955696, 0.0037769735790789127, 0.018634293228387833, 0.010904882103204727, 0.016413511708378792, 0.0341666117310524, 0.03277786821126938, 0.0, 0.0, 0.0, 0.0, 0.0, 0.0, 0.0], [0.8015941977500916, 0.07715287059545517, 0.005925749894231558, 0.011796951293945312, 0.008470688946545124, 0.012326765805482864, 0.027963900938630104, 0.017608974128961563, 0.037159934639930725, 0.0, 0.0, 0.0, 0.0, 0.0, 0.0], [0.5720422863960266, 0.03231086581945419, 0.04314988851547241, 0.012045078910887241, 0.3043052852153778, 0.0038731384556740522, 0.0040178741328418255, 0.005405733361840248, 0.006233325228095055, 0.016616562381386757, 0.0, 0.0, 0.0, 0.0, 0.0], [0.8418043255805969, 0.007321643177419901, 0.0036510401405394077, 0.03165297955274582, 0.045478854328393936, 0.014920382760465145, 0.007199231535196304, 0.0036388735752552748, 0.007552450988441706, 0.017306586727499962, 0.01947362907230854, 0.0, 0.0, 0.0, 0.0], [0.4396485984325409, 0.013037859462201595, 0.03726537898182869, 0.01360228843986988, 0.3787752091884613, 0.0033179072197526693, 0.0043341838754713535, 0.004274549428373575, 0.006623571272939444, 0.011424981988966465, 0.08207469433546066, 0.005620816256850958, 0.0, 0.0, 0.0], [0.6204245686531067, 0.013388643972575665, 0.01597275398671627, 0.05411340668797493, 0.12867917120456696, 0.01803504303097725, 0.011583487503230572, 0.005450096447020769, 0.04012489318847656, 0.014118892140686512, 0.020010653883218765, 0.011118259280920029, 0.04698009043931961, 0.0, 0.0], [0.8891646862030029, 0.006315857172012329, 0.0053924028761684895, 0.004463500343263149, 0.007765178102999926, 0.0027774765621870756, 0.00617010984569788, 0.0029803086072206497, 0.0097641097381711, 0.020375048741698265, 0.011853951029479504, 0.004221562296152115, 0.022205639630556107, 0.006550236139446497, 0.0], [0.30653703212738037, 0.009777653031051159, 0.05448233336210251, 0.029639076441526413, 0.49988433718681335, 0.003869070205837488, 0.001884676981717348, 0.0015443859156221151, 0.0019407543586567044, 0.0025688954629004, 0.06939148902893066, 0.003370443359017372, 0.010120649822056293, 0.0003391925129108131, 0.004649992100894451]], [[1.0, 0.0, 0.0, 0.0, 0.0, 0.0, 0.0, 0.0, 0.0, 0.0, 0.0, 0.0, 0.0, 0.0, 0.0], [0.9001586437225342, 0.09984134137630463, 0.0, 0.0, 0.0, 0.0, 0.0, 0.0, 0.0, 0.0, 0.0, 0.0, 0.0, 0.0, 0.0], [0.9506087303161621, 0.008690829388797283, 0.040700413286685944, 0.0, 0.0, 0.0, 0.0, 0.0, 0.0, 0.0, 0.0, 0.0, 0.0, 0.0, 0.0], [0.6312212347984314, 0.022323623299598694, 0.2398853600025177, 0.10656977444887161, 0.0, 0.0, 0.0, 0.0, 0.0, 0.0, 0.0, 0.0, 0.0, 0.0, 0.0], [0.8117888569831848, 0.07522569596767426, 0.015406869351863861, 0.07616815716028214, 0.021410420536994934, 0.0, 0.0, 0.0, 0.0, 0.0, 0.0, 0.0, 0.0, 0.0, 0.0], [0.8894230127334595, 0.028652373701334, 0.00405979435890913, 0.02057350054383278, 0.008344111032783985, 0.04894719645380974, 0.0, 0.0, 0.0, 0.0, 0.0, 0.0, 0.0, 0.0, 0.0], [0.5690590143203735, 0.029063982889056206, 0.029601408168673515, 0.0319194532930851, 0.04625402390956879, 0.14671257138252258, 0.14738959074020386, 0.0, 0.0, 0.0, 0.0, 0.0, 0.0, 0.0, 0.0], [0.6899787187576294, 0.02788221836090088, 0.016171807423233986, 0.036090172827243805, 0.027228668332099915, 0.05989423021674156, 0.09913774579763412, 0.04361646622419357, 0.0, 0.0, 0.0, 0.0, 0.0, 0.0, 0.0], [0.6883640885353088, 0.11058210581541061, 0.004584078676998615, 0.0176040381193161, 0.010501845739781857, 0.015330302529036999, 0.057788170874118805, 0.06066540256142616, 0.03457992523908615, 0.0, 0.0, 0.0, 0.0, 0.0, 0.0], [0.6002276539802551, 0.08937670290470123, 0.037802573293447495, 0.0314423143863678, 0.05609746277332306, 0.029717490077018738, 0.039537154138088226, 0.016034124419093132, 0.03661048412322998, 0.0631539523601532, 0.0, 0.0, 0.0, 0.0, 0.0], [0.3482634723186493, 0.07798293977975845, 0.0015169118996709585, 0.06063977628946304, 0.005860946606844664, 0.0638008713722229, 0.04987833648920059, 0.011765314266085625, 0.062118928879499435, 0.3011523187160492, 0.01702018640935421, 0.0, 0.0, 0.0, 0.0], [0.6550451517105103, 0.03380826115608215, 0.029987921938300133, 0.047876421362161636, 0.023831071332097054, 0.011157132685184479, 0.028641227632761, 0.015300688333809376, 0.013321534730494022, 0.04461057484149933, 0.06462671607732773, 0.03179328888654709, 0.0, 0.0, 0.0], [0.5253960490226746, 0.03521212562918663, 0.003413708647713065, 0.05489165708422661, 0.007508283015340567, 0.03191110119223595, 0.04348907992243767, 0.015193771570920944, 0.07564874738454819, 0.028667286038398743, 0.013162040151655674, 0.12097162753343582, 0.04453445225954056, 0.0, 0.0], [0.7222742438316345, 0.028979290276765823, 0.007663002237677574, 0.010267682373523712, 0.008462460711598396, 0.008139397948980331, 0.01621353067457676, 0.020785950124263763, 0.02319617196917534, 0.05620887875556946, 0.013059073127806187, 0.028314461931586266, 0.04028348997235298, 0.016152353957295418, 0.0], [0.598546028137207, 0.01653147302567959, 0.08301664143800735, 0.04652426391839981, 0.026633739471435547, 0.008867906406521797, 0.013476083986461163, 0.01166823785752058, 0.007795289158821106, 0.011851263232529163, 0.09640085697174072, 0.015897957608103752, 0.025785744190216064, 0.004893023520708084, 0.032111432403326035]], [[1.0, 0.0, 0.0, 0.0, 0.0, 0.0, 0.0, 0.0, 0.0, 0.0, 0.0, 0.0, 0.0, 0.0, 0.0], [0.978049099445343, 0.02195083163678646, 0.0, 0.0, 0.0, 0.0, 0.0, 0.0, 0.0, 0.0, 0.0, 0.0, 0.0, 0.0, 0.0], [0.9723108410835266, 0.02420724928379059, 0.0034819303546100855, 0.0, 0.0, 0.0, 0.0, 0.0, 0.0, 0.0, 0.0, 0.0, 0.0, 0.0, 0.0], [0.9600500464439392, 0.013838854618370533, 0.018550364300608635, 0.007560785859823227, 0.0, 0.0, 0.0, 0.0, 0.0, 0.0, 0.0, 0.0, 0.0, 0.0, 0.0], [0.5750495195388794, 0.2648969888687134, 0.015889238566160202, 0.09940032660961151, 0.04476397484540939, 0.0, 0.0, 0.0, 0.0, 0.0, 0.0, 0.0, 0.0, 0.0, 0.0], [0.958160400390625, 0.01085742563009262, 0.0030724224634468555, 0.010353111661970615, 0.006741975899785757, 0.010814659297466278, 0.0, 0.0, 0.0, 0.0, 0.0, 0.0, 0.0, 0.0, 0.0], [0.9703038930892944, 0.009364832192659378, 0.006264244671911001, 0.00313868117518723, 0.004351186566054821, 0.004194633569568396, 0.0023826374672353268, 0.0, 0.0, 0.0, 0.0, 0.0, 0.0, 0.0, 0.0], [0.972102165222168, 0.004554380662739277, 0.009322404861450195, 0.0026226001791656017, 0.0020919505041092634, 0.0036594446282833815, 0.0047920444048941135, 0.000855080783367157, 0.0, 0.0, 0.0, 0.0, 0.0, 0.0, 0.0], [0.4483833312988281, 0.040335673838853836, 0.0168503038585186, 0.014791915193200111, 0.015344523824751377, 0.19324861466884613, 0.13978411257266998, 0.07655289769172668, 0.0547085776925087, 0.0, 0.0, 0.0, 0.0, 0.0, 0.0], [0.8267744183540344, 0.01854538358747959, 0.006128148641437292, 0.003105890704318881, 0.010980917140841484, 0.0315050333738327, 0.01897302083671093, 0.013157196342945099, 0.05034499615430832, 0.02048504911363125, 0.0, 0.0, 0.0, 0.0, 0.0], [0.2650028467178345, 0.006562304683029652, 0.0016986968694254756, 0.01950354129076004, 0.0034409374929964542, 0.006946902256458998, 0.01102987490594387, 0.008285663090646267, 0.024462074041366577, 0.6041001081466675, 0.04896708205342293, 0.0, 0.0, 0.0, 0.0], [0.8627163767814636, 0.002778377616778016, 0.0018817102536559105, 0.0028072826098650694, 0.003348511876538396, 0.003566197818145156, 0.0034817883279174566, 0.009128883481025696, 0.011057333089411259, 0.028835466131567955, 0.03631075471639633, 0.034087300300598145, 0.0, 0.0, 0.0], [0.9633772969245911, 0.001090387930162251, 0.0013830420793965459, 0.001345671247690916, 0.0004791014944203198, 0.0009864219464361668, 0.00168521236628294, 0.0006916149868629873, 0.002560185268521309, 0.004969195928424597, 0.006007388234138489, 0.012755301780998707, 0.0026691013481467962, 0.0, 0.0], [0.7631104588508606, 0.002636469667777419, 0.002103218110278249, 0.002941281069070101, 0.0014823453966528177, 0.005845270585268736, 0.006026840768754482, 0.017946287989616394, 0.004339985549449921, 0.009637203998863697, 0.005332274828106165, 0.08887027204036713, 0.07535038888454437, 0.014377626590430737, 0.0], [0.8961456418037415, 0.0020873311441391706, 0.002431189175695181, 0.0009072772809304297, 0.00194370630197227, 0.001920428709127009, 0.0015174219151958823, 0.00467570498585701, 0.0023426967673003674, 0.006169226951897144, 0.01964505761861801, 0.016407877206802368, 0.017847886309027672, 0.019222456961870193, 0.0067362491972744465]], [[1.0, 0.0, 0.0, 0.0, 0.0, 0.0, 0.0, 0.0, 0.0, 0.0, 0.0, 0.0, 0.0, 0.0, 0.0], [0.9871467351913452, 0.012853331863880157, 0.0, 0.0, 0.0, 0.0, 0.0, 0.0, 0.0, 0.0, 0.0, 0.0, 0.0, 0.0, 0.0], [0.9576869606971741, 0.008951188065111637, 0.03336178883910179, 0.0, 0.0, 0.0, 0.0, 0.0, 0.0, 0.0, 0.0, 0.0, 0.0, 0.0, 0.0], [0.7558101415634155, 0.002427551196888089, 0.23305213451385498, 0.008710213005542755, 0.0, 0.0, 0.0, 0.0, 0.0, 0.0, 0.0, 0.0, 0.0, 0.0, 0.0], [0.8877266049385071, 0.010165908373892307, 0.0716916173696518, 0.011721237562596798, 0.018694691359996796, 0.0, 0.0, 0.0, 0.0, 0.0, 0.0, 0.0, 0.0, 0.0, 0.0], [0.9857264757156372, 0.0022782483138144016, 0.0030193503480404615, 0.0038315446581691504, 0.001560022123157978, 0.003584375372156501, 0.0, 0.0, 0.0, 0.0, 0.0, 0.0, 0.0, 0.0, 0.0], [0.9129320979118347, 0.0034685509745031595, 0.048141010105609894, 0.004547458607703447, 0.014837426133453846, 0.00441588694229722, 0.011657596565783024, 0.0, 0.0, 0.0, 0.0, 0.0, 0.0, 0.0, 0.0], [0.9537535905838013, 0.0038033658638596535, 0.01724560745060444, 0.002837832784280181, 0.004741330165416002, 0.0026298128068447113, 0.006138200871646404, 0.008850257843732834, 0.0, 0.0, 0.0, 0.0, 0.0, 0.0, 0.0], [0.9662856459617615, 0.002662384184077382, 0.01718730852007866, 0.00034871857496909797, 0.0015807654708623886, 0.000816263142041862, 0.0016798734432086349, 0.0008947280584834516, 0.008544216863811016, 0.0, 0.0, 0.0, 0.0, 0.0, 0.0], [0.31711652874946594, 0.0027338063810020685, 0.5038632750511169, 0.0028375627007335424, 0.15035323798656464, 0.0011670461390167475, 0.0013272655196487904, 0.0008404823020100594, 0.01669171452522278, 0.0030691202264279127, 0.0, 0.0, 0.0, 0.0, 0.0], [0.818249523639679, 0.015113472938537598, 0.027628611773252487, 0.015170588158071041, 0.01640544831752777, 0.008113380521535873, 0.006669500842690468, 0.0071835508570075035, 0.04619476571679115, 0.011378907598555088, 0.027892297133803368, 0.0, 0.0, 0.0, 0.0], [0.26440396904945374, 0.0023605397436767817, 0.3512246608734131, 0.003237796714529395, 0.2006298005580902, 0.0011810148134827614, 0.0008649094961583614, 0.0007530555594712496, 0.012388902716338634, 0.0029123323038220406, 0.1565755158662796, 0.0034674780908972025, 0.0, 0.0, 0.0], [0.500369668006897, 0.006431469693779945, 0.10116498172283173, 0.020839069038629532, 0.028173573315143585, 0.007726327981799841, 0.017798662185668945, 0.006667889654636383, 0.16861732304096222, 0.01645485684275627, 0.05226409435272217, 0.025355057790875435, 0.048137061297893524, 0.0, 0.0], [0.9209950566291809, 0.00338785070925951, 0.008369759656488895, 0.0005314149311743677, 0.0018783468985930085, 0.000778505636844784, 0.001373547944240272, 0.00036614580312743783, 0.010631222277879715, 0.006356550380587578, 0.00556009728461504, 0.003929674159735441, 0.0012249037390574813, 0.03461698442697525, 0.0], [0.2012970745563507, 0.000963071477599442, 0.4985112249851227, 0.002739872317761183, 0.1555333286523819, 0.0008559036068618298, 0.0003508215304464102, 0.00019351417722646147, 0.00646362965926528, 0.0007076837937347591, 0.12781652808189392, 0.0006529223173856735, 0.00047805916983634233, 0.0028601002413779497, 0.000576319289393723]], [[1.0, 0.0, 0.0, 0.0, 0.0, 0.0, 0.0, 0.0, 0.0, 0.0, 0.0, 0.0, 0.0, 0.0, 0.0], [0.9623446464538574, 0.037655383348464966, 0.0, 0.0, 0.0, 0.0, 0.0, 0.0, 0.0, 0.0, 0.0, 0.0, 0.0, 0.0, 0.0], [0.9789007902145386, 0.0033157230354845524, 0.017783423885703087, 0.0, 0.0, 0.0, 0.0, 0.0, 0.0, 0.0, 0.0, 0.0, 0.0, 0.0, 0.0], [0.8119339942932129, 0.00853295810520649, 0.13593250513076782, 0.04360048472881317, 0.0, 0.0, 0.0, 0.0, 0.0, 0.0, 0.0, 0.0, 0.0, 0.0, 0.0], [0.8685322999954224, 0.01742895506322384, 0.020325392484664917, 0.05312708392739296, 0.04058627784252167, 0.0, 0.0, 0.0, 0.0, 0.0, 0.0, 0.0, 0.0, 0.0, 0.0], [0.9694027900695801, 0.0036415390204638243, 0.000307045120280236, 0.0037716662045568228, 0.00035960052628070116, 0.022517310455441475, 0.0, 0.0, 0.0, 0.0, 0.0, 0.0, 0.0, 0.0, 0.0], [0.7764989137649536, 0.006799099501222372, 0.012143155559897423, 0.036079004406929016, 0.03287791088223457, 0.04397040233016014, 0.09163154661655426, 0.0, 0.0, 0.0, 0.0, 0.0, 0.0, 0.0, 0.0], [0.825903058052063, 0.009017887525260448, 0.004009219352155924, 0.03087955340743065, 0.011497166007757187, 0.007356368005275726, 0.07563550770282745, 0.03570131957530975, 0.0, 0.0, 0.0, 0.0, 0.0, 0.0, 0.0], [0.8397547006607056, 0.018041644245386124, 0.0028086628299206495, 0.016132228076457977, 0.003288173582404852, 0.011298042722046375, 0.03112306259572506, 0.010082516819238663, 0.06747089326381683, 0.0, 0.0, 0.0, 0.0, 0.0, 0.0], [0.3172638416290283, 0.017991334199905396, 0.14469681680202484, 0.08961201459169388, 0.34288838505744934, 0.008879469707608223, 0.015706615522503853, 0.014106912538409233, 0.011807084083557129, 0.03704759478569031, 0.0, 0.0, 0.0, 0.0, 0.0], [0.7157332301139832, 0.03213733434677124, 0.005704504903405905, 0.08529146760702133, 0.005078661255538464, 0.06015722081065178, 0.02607494406402111, 0.006994333583861589, 0.003182421438395977, 0.0450051985681057, 0.014640750363469124, 0.0, 0.0, 0.0, 0.0], [0.21388378739356995, 0.019185824319720268, 0.14550624787807465, 0.03622287139296532, 0.18712934851646423, 0.007299002259969711, 0.009884716011583805, 0.010162632912397385, 0.001926196040585637, 0.027875909581780434, 0.29733729362487793, 0.04358619824051857, 0.0, 0.0, 0.0], [0.42618560791015625, 0.01054991502314806, 0.039003822952508926, 0.08187829703092575, 0.046780265867710114, 0.009841117076575756, 0.03312943875789642, 0.028727583587169647, 0.11792569607496262, 0.027654459699988365, 0.04387224093079567, 0.029732786118984222, 0.10471876710653305, 0.0, 0.0], [0.8244059085845947, 0.005454803351312876, 0.005642964970320463, 0.0069934600032866, 0.008446944877505302, 0.003227048320695758, 0.006554177030920982, 0.002613586373627186, 0.014678764156997204, 0.014116745442152023, 0.009422637522220612, 0.015553439036011696, 0.0073946500197052956, 0.07549481838941574, 0.0], [0.06796881556510925, 0.0031501534394919872, 0.17561569809913635, 0.04504862427711487, 0.39558154344558716, 0.0012668685521930456, 0.0027035269886255264, 0.005905879195779562, 0.0003012910019606352, 0.005808750167489052, 0.2555263638496399, 0.002438105409964919, 0.02751304768025875, 0.00017687476065475494, 0.010994445532560349]], [[1.0, 0.0, 0.0, 0.0, 0.0, 0.0, 0.0, 0.0, 0.0, 0.0, 0.0, 0.0, 0.0, 0.0, 0.0], [0.9878842234611511, 0.012115773744881153, 0.0, 0.0, 0.0, 0.0, 0.0, 0.0, 0.0, 0.0, 0.0, 0.0, 0.0, 0.0, 0.0], [0.9911373853683472, 0.004335836041718721, 0.0045267632231116295, 0.0, 0.0, 0.0, 0.0, 0.0, 0.0, 0.0, 0.0, 0.0, 0.0, 0.0, 0.0], [0.951011061668396, 0.017295455560088158, 0.007421066984534264, 0.02427244745194912, 0.0, 0.0, 0.0, 0.0, 0.0, 0.0, 0.0, 0.0, 0.0, 0.0, 0.0], [0.9433214664459229, 0.00284416601061821, 0.003719775704666972, 0.02493235655128956, 0.025182247161865234, 0.0, 0.0, 0.0, 0.0, 0.0, 0.0, 0.0, 0.0, 0.0, 0.0], [0.9342690110206604, 0.0006225125398486853, 0.0003866469778586179, 0.0018003344302996993, 0.00048473698552697897, 0.0624367818236351, 0.0, 0.0, 0.0, 0.0, 0.0, 0.0, 0.0, 0.0, 0.0], [0.9762978553771973, 0.0010847628582268953, 0.0016529281856492162, 0.0031630857847630978, 0.004074175842106342, 0.0034845578484237194, 0.010242627933621407, 0.0, 0.0, 0.0, 0.0, 0.0, 0.0, 0.0, 0.0], [0.9798663258552551, 0.004214162938296795, 0.0007267078617587686, 0.005087996833026409, 0.002091558650135994, 0.0013217449886724353, 0.003708806587383151, 0.002982693025842309, 0.0, 0.0, 0.0, 0.0, 0.0, 0.0, 0.0], [0.9659473896026611, 0.003356550121679902, 0.001604997320100665, 0.003102752147242427, 0.0018366514705121517, 0.0016013586428016424, 0.008236967027187347, 0.002674979390576482, 0.011638361029326916, 0.0, 0.0, 0.0, 0.0, 0.0, 0.0], [0.9232838153839111, 0.012360193766653538, 0.006969371344894171, 0.00965599250048399, 0.013623574748635292, 0.0010585515992715955, 0.01061233226209879, 0.006842140108346939, 0.0024958562571555376, 0.013098077848553658, 0.0, 0.0, 0.0, 0.0, 0.0], [0.8974440693855286, 0.0028041007462888956, 0.0037013243418186903, 0.06908246874809265, 0.004535157233476639, 0.002872082171961665, 0.006142835132777691, 0.001322830212302506, 0.0014291935367509723, 0.0050321598537266254, 0.005633862689137459, 0.0, 0.0, 0.0, 0.0], [0.9358761310577393, 0.005400976166129112, 0.011183422990143299, 0.01073199138045311, 0.007174587342888117, 0.0006591681740246713, 0.003044810378924012, 0.0034905627835541964, 0.0017819092608988285, 0.007396472617983818, 0.003796899225562811, 0.009462949819862843, 0.0, 0.0, 0.0], [0.9126903414726257, 0.004750429652631283, 0.0030465004965662956, 0.019505353644490242, 0.004537924192845821, 0.001969693461433053, 0.0025863724295049906, 0.0004931327421218157, 0.029974523931741714, 0.003170570358633995, 0.0010752545204013586, 0.007994710467755795, 0.008205227553844452, 0.0, 0.0], [0.9654520153999329, 0.0015739129157736897, 0.0007058235933072865, 0.0037301548290997744, 0.0003385735908523202, 0.0004204266006127, 0.0022149980068206787, 0.000866628484800458, 0.0013344649923965335, 0.007658625487238169, 0.00016173611220438033, 0.0017132109496742487, 0.011722715571522713, 0.002106628380715847, 0.0], [0.8526760339736938, 0.007778918370604515, 0.008031192235648632, 0.026193466037511826, 0.017951665446162224, 0.000961589626967907, 0.002338581485673785, 0.007911672815680504, 0.001285972655750811, 0.005755090620368719, 0.005741591099649668, 0.003768799128010869, 0.04834368824958801, 0.001344833755865693, 0.00991697609424591]], [[1.0, 0.0, 0.0, 0.0, 0.0, 0.0, 0.0, 0.0, 0.0, 0.0, 0.0, 0.0, 0.0, 0.0, 0.0], [0.9413926005363464, 0.05860748514533043, 0.0, 0.0, 0.0, 0.0, 0.0, 0.0, 0.0, 0.0, 0.0, 0.0, 0.0, 0.0, 0.0], [0.988315999507904, 0.009108023717999458, 0.0025759004056453705, 0.0, 0.0, 0.0, 0.0, 0.0, 0.0, 0.0, 0.0, 0.0, 0.0, 0.0, 0.0], [0.7704712748527527, 0.07726234942674637, 0.07769173383712769, 0.07457457482814789, 0.0, 0.0, 0.0, 0.0, 0.0, 0.0, 0.0, 0.0, 0.0, 0.0, 0.0], [0.8347309827804565, 0.016631608828902245, 0.058453310281038284, 0.05278763175010681, 0.037396445870399475, 0.0, 0.0, 0.0, 0.0, 0.0, 0.0, 0.0, 0.0, 0.0, 0.0], [0.9157565236091614, 0.009372861124575138, 0.008171639405190945, 0.004001196939498186, 0.02687896229326725, 0.03581885248422623, 0.0, 0.0, 0.0, 0.0, 0.0, 0.0, 0.0, 0.0, 0.0], [0.7515538930892944, 0.022702965885400772, 0.027721481397747993, 0.01312219724059105, 0.09177222102880478, 0.062329210340976715, 0.030797960236668587, 0.0, 0.0, 0.0, 0.0, 0.0, 0.0, 0.0, 0.0], [0.8618645071983337, 0.01274855900555849, 0.009181005880236626, 0.011580169200897217, 0.03372018039226532, 0.012491789646446705, 0.05023752897977829, 0.00817628763616085, 0.0, 0.0, 0.0, 0.0, 0.0, 0.0, 0.0], [0.26300883293151855, 0.013442332856357098, 0.016719799488782883, 0.014547253958880901, 0.028535278514027596, 0.21552728116512299, 0.1840750128030777, 0.17825141549110413, 0.08589273691177368, 0.0, 0.0, 0.0, 0.0, 0.0, 0.0], [0.30333372950553894, 0.015387785620987415, 0.03754527494311333, 0.00936111994087696, 0.12726935744285583, 0.258381187915802, 0.1293649822473526, 0.017004629597067833, 0.04941998049616814, 0.05293191969394684, 0.0, 0.0, 0.0, 0.0, 0.0], [0.835491955280304, 0.0036522673908621073, 0.006574414204806089, 0.002758573740720749, 0.02507442981004715, 0.008458343334496021, 0.00834580883383751, 0.0034225236158818007, 0.003458706894889474, 0.024917040020227432, 0.07784587144851685, 0.0, 0.0, 0.0, 0.0], [0.3951343297958374, 0.022346461191773415, 0.019022492691874504, 0.004632181022316217, 0.1593897044658661, 0.07454407960176468, 0.035801250487565994, 0.00945991463959217, 0.03271112218499184, 0.18115819990634918, 0.053446635603904724, 0.012353669852018356, 0.0, 0.0, 0.0], [0.7923089861869812, 0.008334457874298096, 0.006714517716318369, 0.007078329101204872, 0.040795132517814636, 0.015184675343334675, 0.012295781634747982, 0.003495554206892848, 0.009850683622062206, 0.04037521779537201, 0.014388173818588257, 0.03683982416987419, 0.012338574975728989, 0.0, 0.0], [0.3327103853225708, 0.0012663736706599593, 0.004229203797876835, 0.0030329832807183266, 0.004993116948753595, 0.037946611642837524, 0.019216377288103104, 0.04143388941884041, 0.004441395867615938, 0.005754207726567984, 0.022450147196650505, 0.1317395120859146, 0.2791003882884979, 0.1116853877902031, 0.0], [0.4516400694847107, 0.015726011246442795, 0.01739022694528103, 0.01401803083717823, 0.15508630871772766, 0.03558444231748581, 0.027665480971336365, 0.006362282671034336, 0.011822270229458809, 0.08315533399581909, 0.05539337918162346, 0.025674590840935707, 0.016458043828606606, 0.05000431090593338, 0.03401922434568405]], [[1.0, 0.0, 0.0, 0.0, 0.0, 0.0, 0.0, 0.0, 0.0, 0.0, 0.0, 0.0, 0.0, 0.0, 0.0], [0.9948452711105347, 0.005154752638190985, 0.0, 0.0, 0.0, 0.0, 0.0, 0.0, 0.0, 0.0, 0.0, 0.0, 0.0, 0.0, 0.0], [0.9881861209869385, 0.007430964149534702, 0.0043828669004142284, 0.0, 0.0, 0.0, 0.0, 0.0, 0.0, 0.0, 0.0, 0.0, 0.0, 0.0, 0.0], [0.9281898736953735, 0.006717294920235872, 0.04485664144158363, 0.02023622952401638, 0.0, 0.0, 0.0, 0.0, 0.0, 0.0, 0.0, 0.0, 0.0, 0.0, 0.0], [0.9545795321464539, 0.00624501658603549, 0.008417364209890366, 0.015896622091531754, 0.014861442148685455, 0.0, 0.0, 0.0, 0.0, 0.0, 0.0, 0.0, 0.0, 0.0, 0.0], [0.9820181131362915, 0.006674022879451513, 0.0006498967995867133, 0.003241344355046749, 0.0024972406681627035, 0.004919293336570263, 0.0, 0.0, 0.0, 0.0, 0.0, 0.0, 0.0, 0.0, 0.0], [0.9491156935691833, 0.0029402945656329393, 0.012090957723557949, 0.00258475705049932, 0.027878601104021072, 0.0012954827398061752, 0.0040942030027508736, 0.0, 0.0, 0.0, 0.0, 0.0, 0.0, 0.0, 0.0], [0.9756253361701965, 0.0033020845148712397, 0.002627211157232523, 0.0019584354013204575, 0.00436733802780509, 0.0010546273551881313, 0.004480259492993355, 0.0065848082304000854, 0.0, 0.0, 0.0, 0.0, 0.0, 0.0, 0.0], [0.9822942018508911, 0.004279716406017542, 0.004850812256336212, 0.0005917060771025717, 0.0017226232448592782, 0.0008609662181697786, 0.001131043303757906, 0.0013051158748567104, 0.0029637590050697327, 0.0, 0.0, 0.0, 0.0, 0.0, 0.0], [0.47013992071151733, 0.006500943098217249, 0.2286175787448883, 0.005976277869194746, 0.2802790105342865, 0.001301547046750784, 0.0007897346513345838, 0.0009986262302845716, 0.0031702846754342318, 0.002226148499175906, 0.0, 0.0, 0.0, 0.0, 0.0], [0.9184101819992065, 0.002479849150404334, 0.006413688883185387, 0.022741371765732765, 0.03358754143118858, 0.003610759973526001, 0.0010220856638625264, 0.0004345846245996654, 0.004051624331623316, 0.0013891953276470304, 0.005859025754034519, 0.0, 0.0, 0.0, 0.0], [0.1843622326850891, 0.0041154539212584496, 0.09800426661968231, 0.01222087349742651, 0.6541149020195007, 0.00071300397394225, 0.0006256888154894114, 0.0007391420658677816, 0.0011277796002104878, 0.002137974835932255, 0.039741359651088715, 0.0020973626524209976, 0.0, 0.0, 0.0], [0.80591881275177, 0.003683652263134718, 0.020806094631552696, 0.01059463806450367, 0.07484187185764313, 0.002801979659125209, 0.00374282686971128, 0.0016252076020464301, 0.04639673978090286, 0.005423387978225946, 0.006323575507849455, 0.004016466438770294, 0.013824786990880966, 0.0, 0.0], [0.9177459478378296, 0.007708648219704628, 0.010203388519585133, 0.0023626377806067467, 0.016218390315771103, 0.0010427498491480947, 0.0025701536796987057, 0.0018517576390877366, 0.003509884001687169, 0.007780085783451796, 0.008260433562099934, 0.001425074297003448, 0.00654261652380228, 0.012778238393366337, 0.0], [0.2829892337322235, 0.0031050466932356358, 0.0763750970363617, 0.01586729846894741, 0.5942367315292358, 0.001444801688194275, 0.0004571796453092247, 0.0005176682025194168, 0.0007093992317095399, 0.0011670907260850072, 0.017630916088819504, 0.0007445686496794224, 0.0022502581123262644, 0.0009183933143503964, 0.0015863050939515233]], [[1.0, 0.0, 0.0, 0.0, 0.0, 0.0, 0.0, 0.0, 0.0, 0.0, 0.0, 0.0, 0.0, 0.0, 0.0], [0.9748833775520325, 0.025116687640547752, 0.0, 0.0, 0.0, 0.0, 0.0, 0.0, 0.0, 0.0, 0.0, 0.0, 0.0, 0.0, 0.0], [0.9730046987533569, 0.020598674193024635, 0.006396729964762926, 0.0, 0.0, 0.0, 0.0, 0.0, 0.0, 0.0, 0.0, 0.0, 0.0, 0.0, 0.0], [0.927006721496582, 0.004115749150514603, 0.05321279168128967, 0.015664683654904366, 0.0, 0.0, 0.0, 0.0, 0.0, 0.0, 0.0, 0.0, 0.0, 0.0, 0.0], [0.8380242586135864, 0.10023616254329681, 0.03297225758433342, 0.01979963108897209, 0.008967618457973003, 0.0, 0.0, 0.0, 0.0, 0.0, 0.0, 0.0, 0.0, 0.0, 0.0], [0.9804917573928833, 0.005261529237031937, 0.0031503536738455296, 0.004195876885205507, 0.0026959767565131187, 0.004204505123198032, 0.0, 0.0, 0.0, 0.0, 0.0, 0.0, 0.0, 0.0, 0.0], [0.9723528623580933, 0.0033841195981949568, 0.0013591856695711613, 0.0004135822819080204, 0.00035109795862808824, 0.0008207858772948384, 0.021318314597010612, 0.0, 0.0, 0.0, 0.0, 0.0, 0.0, 0.0, 0.0], [0.3917608857154846, 0.006592901423573494, 0.00045350499567575753, 0.0003418340056668967, 8.553991938242689e-05, 0.00042702347855083644, 0.5616965889930725, 0.038641758263111115, 0.0, 0.0, 0.0, 0.0, 0.0, 0.0, 0.0], [0.9406605958938599, 0.006742537021636963, 0.002902841428294778, 0.000284200650639832, 0.0004708088526967913, 0.005029881838709116, 0.012367132119834423, 0.025125203654170036, 0.006416803691536188, 0.0, 0.0, 0.0, 0.0, 0.0, 0.0], [0.8716675043106079, 0.012746934778988361, 0.04262604936957359, 0.0060704792849719524, 0.03732181340456009, 0.0055246916599571705, 0.005486724432557821, 0.0008541637216694653, 0.004963959567248821, 0.012737772427499294, 0.0, 0.0, 0.0, 0.0, 0.0], [0.7311749458312988, 0.008267892524600029, 0.0007908626575954258, 0.0348627008497715, 0.004082254134118557, 0.0024807711597532034, 0.0020654459949582815, 0.00035541117540560663, 0.004117352422326803, 0.19183653593063354, 0.01996586285531521, 0.0, 0.0, 0.0, 0.0], [0.7232312560081482, 0.004250671714544296, 0.018274003639817238, 0.002084177453070879, 0.03180620074272156, 0.001240330166183412, 0.0011860380182042718, 0.00019738776609301567, 0.0022356281988322735, 0.014152170158922672, 0.0838276669383049, 0.117514468729496, 0.0, 0.0, 0.0], [0.37616339325904846, 0.00894759502261877, 0.0020942434202879667, 0.0038861462380737066, 0.004612624645233154, 0.002462194999679923, 0.0009950787061825395, 5.153126039658673e-05, 0.0021282313391566277, 0.009726091288030148, 0.003119558095932007, 0.5364933013916016, 0.049319956451654434, 0.0, 0.0], [0.8809243440628052, 0.006065932102501392, 0.0013471257407218218, 0.0003342133713886142, 0.0007208689348772168, 0.0021625065710395575, 0.002946719527244568, 0.00502125546336174, 0.002450172323733568, 0.003381829708814621, 0.0009485263144597411, 0.04836396872997284, 0.03591897338628769, 0.009413562715053558, 0.0], [0.85994553565979, 0.0010155963245779276, 0.02809891104698181, 0.006266208365559578, 0.04823284596204758, 0.0001613419153727591, 0.00040303889545612037, 0.00014463960542343557, 0.0004953212337568402, 0.0007352333632297814, 0.045429300516843796, 0.0028510931879281998, 0.0004447449464350939, 0.0009499642765149474, 0.004826155491173267]]]}\n",
       "    )\n",
       "    </script>"
      ],
      "text/plain": [
       "<circuitsvis.utils.render.RenderedHTML at 0x7fb11474ad10>"
      ]
     },
     "execution_count": 786,
     "metadata": {},
     "output_type": "execute_result"
    }
   ],
   "source": [
    "with model.hooks(fwd_hooks=hooks):\n",
    "    ablated_logits, ablated_cache = model.run_with_cache(tokens[1])\n",
    "attention_pattern = ablated_cache[\"blocks.10.attn.hook_pattern\"].squeeze()\n",
    "str_tokens = model.to_str_tokens(prompts[1])\n",
    "circuitsvis.attention.attention_patterns(tokens=str_tokens, attention=attention_pattern)"
   ]
  },
  {
   "cell_type": "code",
   "execution_count": 787,
   "metadata": {},
   "outputs": [],
   "source": [
    "# attention_pattern = original_cache[\"blocks.10.attn.hook_pattern\"][0].squeeze()\n",
    "# print(attention_pattern.shape)\n",
    "# str_tokens = model.to_str_tokens(prompts[0])\n",
    "# print(len(str_tokens))\n",
    "# circuitsvis.attention.attention_patterns(tokens=str_tokens, attention=attention_pattern)"
   ]
  },
  {
   "cell_type": "code",
   "execution_count": 788,
   "metadata": {},
   "outputs": [
    {
     "name": "stdout",
     "output_type": "stream",
     "text": [
      "(7680,)\n"
     ]
    }
   ],
   "source": [
    "# Get output of important head in layer 9 for last position\n",
    "layer_9 = cache.stack_head_results(layer=9, apply_ln=True)[model.cfg.n_heads*8:]\n",
    "layer_9_other = layer_9[[0, 1,2,3,4,5,7,8,10,11], :, -1].flatten().detach().cpu().numpy()\n",
    "layer_9_head_6 = layer_9[6, :, -1].flatten().detach().cpu().numpy()\n",
    "layer_9_head_9 = layer_9[9, :, -1].flatten().detach().cpu().numpy()\n",
    "print(layer_9_other.shape) # batch d_model"
   ]
  },
  {
   "cell_type": "code",
   "execution_count": 789,
   "metadata": {},
   "outputs": [
    {
     "data": {
      "text/html": [
       "<div>\n",
       "<style scoped>\n",
       "    .dataframe tbody tr th:only-of-type {\n",
       "        vertical-align: middle;\n",
       "    }\n",
       "\n",
       "    .dataframe tbody tr th {\n",
       "        vertical-align: top;\n",
       "    }\n",
       "\n",
       "    .dataframe thead tr th {\n",
       "        text-align: left;\n",
       "    }\n",
       "\n",
       "    .dataframe thead tr:last-of-type th {\n",
       "        text-align: right;\n",
       "    }\n",
       "</style>\n",
       "<table border=\"1\" class=\"dataframe\">\n",
       "  <thead>\n",
       "    <tr>\n",
       "      <th></th>\n",
       "      <th colspan=\"2\" halign=\"left\">activation</th>\n",
       "    </tr>\n",
       "    <tr>\n",
       "      <th></th>\n",
       "      <th>mean</th>\n",
       "      <th>std</th>\n",
       "    </tr>\n",
       "    <tr>\n",
       "      <th>name</th>\n",
       "      <th></th>\n",
       "      <th></th>\n",
       "    </tr>\n",
       "  </thead>\n",
       "  <tbody>\n",
       "    <tr>\n",
       "      <th>Head 6</th>\n",
       "      <td>-3.213548e-11</td>\n",
       "      <td>0.017216</td>\n",
       "    </tr>\n",
       "    <tr>\n",
       "      <th>Head 9</th>\n",
       "      <td>-3.880511e-11</td>\n",
       "      <td>0.065536</td>\n",
       "    </tr>\n",
       "    <tr>\n",
       "      <th>Other heads</th>\n",
       "      <td>6.354337e-11</td>\n",
       "      <td>0.040181</td>\n",
       "    </tr>\n",
       "  </tbody>\n",
       "</table>\n",
       "</div>"
      ],
      "text/plain": [
       "               activation          \n",
       "                     mean       std\n",
       "name                               \n",
       "Head 6      -3.213548e-11  0.017216\n",
       "Head 9      -3.880511e-11  0.065536\n",
       "Other heads  6.354337e-11  0.040181"
      ]
     },
     "execution_count": 789,
     "metadata": {},
     "output_type": "execute_result"
    }
   ],
   "source": [
    "dfs = [pd.DataFrame({\"activation\": layer_9_head_9, \"name\": \"Head 9\"}), \n",
    "        pd.DataFrame({\"activation\": layer_9_head_6, \"name\": \"Head 6\"}),\n",
    "        pd.DataFrame({\"activation\": layer_9_other, \"name\": \"Other heads\"})]\n",
    "df = pd.concat(dfs)\n",
    "df.groupby(\"name\").agg([\"mean\", \"std\"])"
   ]
  },
  {
   "cell_type": "code",
   "execution_count": 790,
   "metadata": {},
   "outputs": [],
   "source": [
    "#sns.histplot(df[df[\"activation\"]], x=\"activation\", hue=\"name\", stat=\"probability\")"
   ]
  },
  {
   "cell_type": "code",
   "execution_count": 791,
   "metadata": {},
   "outputs": [
    {
     "name": "stdout",
     "output_type": "stream",
     "text": [
      "torch.Size([768]) torch.Size([768])\n",
      "-0.022161927074193954\n",
      "[-0.08773721754550934, 0.04935803264379501, 0.02137601748108864, -0.1547696888446808, -0.0830916240811348, -0.15777108073234558, -0.04000090807676315, -0.13978365063667297, 0.09069468826055527, 0.07802887260913849]\n"
     ]
    }
   ],
   "source": [
    "layer_9_head_6 = layer_9[6, 0, -1]\n",
    "layer_9_head_9 = layer_9[9, 0, -1]\n",
    "print(layer_9_head_6.shape, layer_9_head_9.shape)\n",
    "\n",
    "cos = torch.nn.CosineSimilarity(dim=-1)\n",
    "# Cosine similarities between head outputs and directions, shape=(d_head, pos)\n",
    "similarities = cos(layer_9_head_9, layer_9_head_6).item()\n",
    "print(similarities)\n",
    "\n",
    "other_similarities = []\n",
    "for i in range(12):\n",
    "    if i not in [6, 9]:\n",
    "        other_head = layer_9[i, 0, -1]\n",
    "        other_similarities.append(cos(layer_9_head_9, other_head).item())\n",
    "print(other_similarities)"
   ]
  },
  {
   "attachments": {},
   "cell_type": "markdown",
   "metadata": {},
   "source": [
    "- Layer 10 head 7 has negative logit difference on original prompts\n",
    "- Ablating ALL name movers causes L10H7 to have positive logit difference\n",
    "- On both original and ablated prompt, L10H7 has roughly the same attention pattern\n",
    "- On both prompts, it mostly attends to the Mary position\n",
    "- Since the logit differences are very much not the same, the value in the residual stream for \"mary\" must be different in both runs\n",
    "- The previous name mover heads must write something important to the mary position"
   ]
  },
  {
   "attachments": {},
   "cell_type": "markdown",
   "metadata": {},
   "source": [
    "## Try to investigate negative name mover heads\n",
    "\n",
    "- Introduce factors where it is ambiguous which head is correct \n",
    "- Add 3rd person to the prompt\n",
    "- See if the negative name mover activates more for the subject or one of the two possible objects\n"
   ]
  },
  {
   "cell_type": "code",
   "execution_count": 792,
   "metadata": {},
   "outputs": [],
   "source": [
    "# ablate the name mover heads\n",
    "# calculate logit difference using backup name mover head\n",
    "# ablate the S-Inhibition heads used in the original circuit\n",
    "# calculate logit difference again and see if the backup name mover head can recover the correct answer (+ve logit diff)\n",
    "    "
   ]
  },
  {
   "cell_type": "code",
   "execution_count": 793,
   "metadata": {},
   "outputs": [
    {
     "data": {
      "application/vnd.jupyter.widget-view+json": {
       "model_id": "c6d76e1b4c1c46cbb62ed73a69556801",
       "version_major": 2,
       "version_minor": 0
      },
      "text/plain": [
       "  0%|          | 0/11 [00:00<?, ?it/s]"
      ]
     },
     "metadata": {},
     "output_type": "display_data"
    }
   ],
   "source": [
    "s_inhibition_heads = [(7, 3), (7, 9), (8, 6), (8, 10)]\n",
    "\n",
    "positive_name_movers = [(9, 9), (9, 6), (10, 0)]\n",
    "negative_name_movers = [(10, 7), (11, 10)]\n",
    "name_movers = positive_name_movers + negative_name_movers\n",
    "\n",
    "# backup_name_movers = [(10, 10), (10, 6), (10, 2), (10, 1), (11, 2), (11, 9), (11, 3), (9, 7)]\n",
    "\n",
    "# We identified these via direct logit attribution, [(10, 6) (10, 10)] aren't in the IOI paper\n",
    "positive_dla_heads = [(7, 3), (7, 9), (8,10), (9, 6), (9, 9), (10, 0), (10, 6), (10, 10)]\n",
    "\n",
    "all_heads = set(s_inhibition_heads + name_movers + positive_dla_heads)\n",
    "head_mean_activations = {}\n",
    "for layer, head in tqdm(all_heads):\n",
    "    mean_activations = get_mean_activations(layer, head)\n",
    "    head_mean_activations[(layer, head)] = mean_activations\n"
   ]
  },
  {
   "cell_type": "code",
   "execution_count": 794,
   "metadata": {},
   "outputs": [],
   "source": [
    "\n",
    "def head_ablation_logit_diff(heads: list[(int, int)], answer_tokens=answer_tokens, prompts=prompts, head_mean_activations=head_mean_activations):\n",
    "        def hook_all_attention_patterns(attn_pattern, hook: HookPoint, head_idx: int, layer_idx: int):\n",
    "            if hook.layer() == layer_idx:\n",
    "                attn_pattern[:, head_idx] = head_mean_activations[(layer_idx, head_idx)]\n",
    "                return attn_pattern\n",
    "            \n",
    "        model.reset_hooks()\n",
    "        model.set_use_attn_result(True)\n",
    "        tokens = model.to_tokens(prompts)\n",
    "        logit_diff_directions = get_logit_diff_directions(model, answer_tokens)\n",
    "\n",
    "        # Original cache\n",
    "        original_logits, original_cache = model.run_with_cache(tokens)\n",
    "\n",
    "        # Ablated cache\n",
    "        name_filter = lambda name: name.endswith(\"pattern\")\n",
    "        hooks = []\n",
    "        for layer, head in heads:\n",
    "            hooks.append((name_filter, functools.partial(hook_all_attention_patterns, head_idx=head, layer_idx=layer)))\n",
    "\n",
    "        with model.hooks(fwd_hooks=hooks):\n",
    "            ablated_logits, ablated_cache = model.run_with_cache(tokens)\n",
    "\n",
    "        # Average logit differences\n",
    "        original_average_logit_diff = logits_to_ave_logit_diff(original_logits, answer_tokens)\n",
    "        print(\"Average logit difference:\", original_average_logit_diff)\n",
    "        ablated_average_logit_diff = logits_to_ave_logit_diff(ablated_logits, answer_tokens)\n",
    "        print(\"Average logit difference:\", ablated_average_logit_diff)\n",
    "\n",
    "        # Plot logit differences from each head\n",
    "        plot_per_head_attribution(ablated_cache, logit_diff_directions, title=f\"Ablated Average Logit Difference From Heads <br> {heads}\")\n",
    "        plot_per_head_attribution(original_cache, logit_diff_directions, title=\"Unablated Average Logit Difference From Each Head\", )"
   ]
  },
  {
   "cell_type": "code",
   "execution_count": 795,
   "metadata": {},
   "outputs": [
    {
     "name": "stdout",
     "output_type": "stream",
     "text": [
      "Positive name mover heads\n",
      "Logit difference accuracy:  1.000\n",
      "Average logit difference: 2.976\n",
      "Logit difference accuracy:  1.000\n",
      "Average logit difference: 3.234\n"
     ]
    },
    {
     "data": {
      "text/html": [
       "<div>                            <div id=\"53bb0754-c066-445f-9893-e4f2a5a2aa1b\" class=\"plotly-graph-div\" style=\"height:525px; width:600px;\"></div>            <script type=\"text/javascript\">                require([\"plotly\"], function(Plotly) {                    window.PLOTLYENV=window.PLOTLYENV || {};                                    if (document.getElementById(\"53bb0754-c066-445f-9893-e4f2a5a2aa1b\")) {                    Plotly.newPlot(                        \"53bb0754-c066-445f-9893-e4f2a5a2aa1b\",                        [{\"coloraxis\":\"coloraxis\",\"name\":\"0\",\"texttemplate\":\"%{z:.2f}\",\"z\":[[-0.0031709217000752687,-0.000312549207592383,-0.00025059370091184974,0.00045887407031841576,-0.0009322309051640332,-7.87099270382896e-05,-0.0050196051597595215,-0.004007698502391577,-0.00013031459820922464,0.0008541978895664215,-0.000850408454425633,-0.0007169914315454662],[-4.844379145652056e-05,0.0002951282658614218,5.880209937458858e-05,0.00012956079444848,-0.0017435832414776087,-3.3579977753106505e-05,-0.0031693552155047655,-0.004374430514872074,0.002471419284120202,0.0015692036831751466,0.001774953561834991,0.0013929238775745034],[-0.0003231292066629976,-0.001334028085693717,-0.0006045204936526716,-0.0015055924886837602,-0.00012035192048642784,0.000911315088160336,0.0013544531539082527,0.004013467580080032,0.00019538271590135992,-0.0018322136020287871,-0.0006917110295034945,0.00016898401372600347],[-3.754422505153343e-05,-0.0003861614968627691,9.629833584767766e-06,0.0002639525046106428,0.0001668953336775303,-0.0011839648941531777,-0.0007222288404591382,-0.001147611765190959,0.00029799656476825476,0.0003110271936748177,-0.0010319348657503724,-0.0005891611217521131],[-0.0011467236327007413,-8.844942931318656e-05,-0.0011432233732193708,-0.0015322784893214703,0.0010193827329203486,0.00012052011152263731,-0.0007015085429884493,0.0007030009874142706,-0.0005716561572626233,-0.0007038587355054915,0.0004346296191215515,-0.0001859707263065502],[-2.9945786081952974e-05,0.0006445556064136326,-0.0009142186027020216,-0.0013129160506650805,-8.772783621679991e-05,-0.0006963862106204033,-0.00011410293518565595,0.0004652672214433551,0.0009564866777509451,4.793957850779407e-05,-0.00460016867145896,0.0023358215112239122],[-0.004411594942212105,-0.005484157241880894,0.002192205050960183,0.0001023406584863551,-0.005354944616556168,0.0021982386242598295,0.0033383953850716352,-0.0024660718627274036,-0.0008488514577038586,-0.0012667514383792877,-0.000511336256749928,0.0002961198624689132],[-5.953278741799295e-05,-0.0026292067486792803,-2.5831317543634214e-05,0.07356808334589005,-0.0008359977509826422,-0.009748152457177639,0.0016667539021000266,-0.0011899119708687067,-0.004227860365062952,0.1797723025083542,-0.0009196096216328442,-0.001722746528685093],[0.0006043296889401972,-0.0003432010707911104,-0.021287431940436363,0.002024710178375244,0.0018214925657957792,0.004803645424544811,-0.11352952569723129,0.002669472945854068,-0.021172713488340378,0.0024955663830041885,0.2727034389972687,0.009568670764565468],[0.06224685534834862,-0.0004371778923086822,0.031889982521533966,0.009637098759412766,-0.0164264477789402,0.031232764944434166,-0.00891092699021101,0.0689854696393013,-0.04255201295018196,-0.00946800410747528,0.0006062808679416776,-0.006654022261500359],[-0.03393358364701271,0.49997392296791077,0.6019103527069092,0.11695019900798798,-0.004409184679389,0.00046416925033554435,0.5572142601013184,0.37187525629997253,-0.0010691365459933877,-0.004705045837908983,1.645512342453003,0.008860682137310505],[0.027283236384391785,0.06130050867795944,-0.0018657083855941892,0.08982840925455093,-0.004497000016272068,-0.0102087939158082,-0.11530905961990356,0.006505755707621574,0.02632725238800049,0.06683588027954102,-1.3804346323013306,0.03440728783607483]],\"type\":\"heatmap\",\"xaxis\":\"x\",\"yaxis\":\"y\",\"hovertemplate\":\"Head: %{x}\\u003cbr\\u003eLayer: %{y}\\u003cbr\\u003ecolor: %{z}\\u003cextra\\u003e\\u003c\\u002fextra\\u003e\"}],                        {\"template\":{\"data\":{\"histogram2dcontour\":[{\"type\":\"histogram2dcontour\",\"colorbar\":{\"outlinewidth\":0,\"ticks\":\"\"},\"colorscale\":[[0.0,\"#0d0887\"],[0.1111111111111111,\"#46039f\"],[0.2222222222222222,\"#7201a8\"],[0.3333333333333333,\"#9c179e\"],[0.4444444444444444,\"#bd3786\"],[0.5555555555555556,\"#d8576b\"],[0.6666666666666666,\"#ed7953\"],[0.7777777777777778,\"#fb9f3a\"],[0.8888888888888888,\"#fdca26\"],[1.0,\"#f0f921\"]]}],\"choropleth\":[{\"type\":\"choropleth\",\"colorbar\":{\"outlinewidth\":0,\"ticks\":\"\"}}],\"histogram2d\":[{\"type\":\"histogram2d\",\"colorbar\":{\"outlinewidth\":0,\"ticks\":\"\"},\"colorscale\":[[0.0,\"#0d0887\"],[0.1111111111111111,\"#46039f\"],[0.2222222222222222,\"#7201a8\"],[0.3333333333333333,\"#9c179e\"],[0.4444444444444444,\"#bd3786\"],[0.5555555555555556,\"#d8576b\"],[0.6666666666666666,\"#ed7953\"],[0.7777777777777778,\"#fb9f3a\"],[0.8888888888888888,\"#fdca26\"],[1.0,\"#f0f921\"]]}],\"heatmap\":[{\"type\":\"heatmap\",\"colorbar\":{\"outlinewidth\":0,\"ticks\":\"\"},\"colorscale\":[[0.0,\"#0d0887\"],[0.1111111111111111,\"#46039f\"],[0.2222222222222222,\"#7201a8\"],[0.3333333333333333,\"#9c179e\"],[0.4444444444444444,\"#bd3786\"],[0.5555555555555556,\"#d8576b\"],[0.6666666666666666,\"#ed7953\"],[0.7777777777777778,\"#fb9f3a\"],[0.8888888888888888,\"#fdca26\"],[1.0,\"#f0f921\"]]}],\"heatmapgl\":[{\"type\":\"heatmapgl\",\"colorbar\":{\"outlinewidth\":0,\"ticks\":\"\"},\"colorscale\":[[0.0,\"#0d0887\"],[0.1111111111111111,\"#46039f\"],[0.2222222222222222,\"#7201a8\"],[0.3333333333333333,\"#9c179e\"],[0.4444444444444444,\"#bd3786\"],[0.5555555555555556,\"#d8576b\"],[0.6666666666666666,\"#ed7953\"],[0.7777777777777778,\"#fb9f3a\"],[0.8888888888888888,\"#fdca26\"],[1.0,\"#f0f921\"]]}],\"contourcarpet\":[{\"type\":\"contourcarpet\",\"colorbar\":{\"outlinewidth\":0,\"ticks\":\"\"}}],\"contour\":[{\"type\":\"contour\",\"colorbar\":{\"outlinewidth\":0,\"ticks\":\"\"},\"colorscale\":[[0.0,\"#0d0887\"],[0.1111111111111111,\"#46039f\"],[0.2222222222222222,\"#7201a8\"],[0.3333333333333333,\"#9c179e\"],[0.4444444444444444,\"#bd3786\"],[0.5555555555555556,\"#d8576b\"],[0.6666666666666666,\"#ed7953\"],[0.7777777777777778,\"#fb9f3a\"],[0.8888888888888888,\"#fdca26\"],[1.0,\"#f0f921\"]]}],\"surface\":[{\"type\":\"surface\",\"colorbar\":{\"outlinewidth\":0,\"ticks\":\"\"},\"colorscale\":[[0.0,\"#0d0887\"],[0.1111111111111111,\"#46039f\"],[0.2222222222222222,\"#7201a8\"],[0.3333333333333333,\"#9c179e\"],[0.4444444444444444,\"#bd3786\"],[0.5555555555555556,\"#d8576b\"],[0.6666666666666666,\"#ed7953\"],[0.7777777777777778,\"#fb9f3a\"],[0.8888888888888888,\"#fdca26\"],[1.0,\"#f0f921\"]]}],\"mesh3d\":[{\"type\":\"mesh3d\",\"colorbar\":{\"outlinewidth\":0,\"ticks\":\"\"}}],\"scatter\":[{\"fillpattern\":{\"fillmode\":\"overlay\",\"size\":10,\"solidity\":0.2},\"type\":\"scatter\"}],\"parcoords\":[{\"type\":\"parcoords\",\"line\":{\"colorbar\":{\"outlinewidth\":0,\"ticks\":\"\"}}}],\"scatterpolargl\":[{\"type\":\"scatterpolargl\",\"marker\":{\"colorbar\":{\"outlinewidth\":0,\"ticks\":\"\"}}}],\"bar\":[{\"error_x\":{\"color\":\"#2a3f5f\"},\"error_y\":{\"color\":\"#2a3f5f\"},\"marker\":{\"line\":{\"color\":\"#E5ECF6\",\"width\":0.5},\"pattern\":{\"fillmode\":\"overlay\",\"size\":10,\"solidity\":0.2}},\"type\":\"bar\"}],\"scattergeo\":[{\"type\":\"scattergeo\",\"marker\":{\"colorbar\":{\"outlinewidth\":0,\"ticks\":\"\"}}}],\"scatterpolar\":[{\"type\":\"scatterpolar\",\"marker\":{\"colorbar\":{\"outlinewidth\":0,\"ticks\":\"\"}}}],\"histogram\":[{\"marker\":{\"pattern\":{\"fillmode\":\"overlay\",\"size\":10,\"solidity\":0.2}},\"type\":\"histogram\"}],\"scattergl\":[{\"type\":\"scattergl\",\"marker\":{\"colorbar\":{\"outlinewidth\":0,\"ticks\":\"\"}}}],\"scatter3d\":[{\"type\":\"scatter3d\",\"line\":{\"colorbar\":{\"outlinewidth\":0,\"ticks\":\"\"}},\"marker\":{\"colorbar\":{\"outlinewidth\":0,\"ticks\":\"\"}}}],\"scattermapbox\":[{\"type\":\"scattermapbox\",\"marker\":{\"colorbar\":{\"outlinewidth\":0,\"ticks\":\"\"}}}],\"scatterternary\":[{\"type\":\"scatterternary\",\"marker\":{\"colorbar\":{\"outlinewidth\":0,\"ticks\":\"\"}}}],\"scattercarpet\":[{\"type\":\"scattercarpet\",\"marker\":{\"colorbar\":{\"outlinewidth\":0,\"ticks\":\"\"}}}],\"carpet\":[{\"aaxis\":{\"endlinecolor\":\"#2a3f5f\",\"gridcolor\":\"white\",\"linecolor\":\"white\",\"minorgridcolor\":\"white\",\"startlinecolor\":\"#2a3f5f\"},\"baxis\":{\"endlinecolor\":\"#2a3f5f\",\"gridcolor\":\"white\",\"linecolor\":\"white\",\"minorgridcolor\":\"white\",\"startlinecolor\":\"#2a3f5f\"},\"type\":\"carpet\"}],\"table\":[{\"cells\":{\"fill\":{\"color\":\"#EBF0F8\"},\"line\":{\"color\":\"white\"}},\"header\":{\"fill\":{\"color\":\"#C8D4E3\"},\"line\":{\"color\":\"white\"}},\"type\":\"table\"}],\"barpolar\":[{\"marker\":{\"line\":{\"color\":\"#E5ECF6\",\"width\":0.5},\"pattern\":{\"fillmode\":\"overlay\",\"size\":10,\"solidity\":0.2}},\"type\":\"barpolar\"}],\"pie\":[{\"automargin\":true,\"type\":\"pie\"}]},\"layout\":{\"autotypenumbers\":\"strict\",\"colorway\":[\"#636efa\",\"#EF553B\",\"#00cc96\",\"#ab63fa\",\"#FFA15A\",\"#19d3f3\",\"#FF6692\",\"#B6E880\",\"#FF97FF\",\"#FECB52\"],\"font\":{\"color\":\"#2a3f5f\"},\"hovermode\":\"closest\",\"hoverlabel\":{\"align\":\"left\"},\"paper_bgcolor\":\"white\",\"plot_bgcolor\":\"#E5ECF6\",\"polar\":{\"bgcolor\":\"#E5ECF6\",\"angularaxis\":{\"gridcolor\":\"white\",\"linecolor\":\"white\",\"ticks\":\"\"},\"radialaxis\":{\"gridcolor\":\"white\",\"linecolor\":\"white\",\"ticks\":\"\"}},\"ternary\":{\"bgcolor\":\"#E5ECF6\",\"aaxis\":{\"gridcolor\":\"white\",\"linecolor\":\"white\",\"ticks\":\"\"},\"baxis\":{\"gridcolor\":\"white\",\"linecolor\":\"white\",\"ticks\":\"\"},\"caxis\":{\"gridcolor\":\"white\",\"linecolor\":\"white\",\"ticks\":\"\"}},\"coloraxis\":{\"colorbar\":{\"outlinewidth\":0,\"ticks\":\"\"}},\"colorscale\":{\"sequential\":[[0.0,\"#0d0887\"],[0.1111111111111111,\"#46039f\"],[0.2222222222222222,\"#7201a8\"],[0.3333333333333333,\"#9c179e\"],[0.4444444444444444,\"#bd3786\"],[0.5555555555555556,\"#d8576b\"],[0.6666666666666666,\"#ed7953\"],[0.7777777777777778,\"#fb9f3a\"],[0.8888888888888888,\"#fdca26\"],[1.0,\"#f0f921\"]],\"sequentialminus\":[[0.0,\"#0d0887\"],[0.1111111111111111,\"#46039f\"],[0.2222222222222222,\"#7201a8\"],[0.3333333333333333,\"#9c179e\"],[0.4444444444444444,\"#bd3786\"],[0.5555555555555556,\"#d8576b\"],[0.6666666666666666,\"#ed7953\"],[0.7777777777777778,\"#fb9f3a\"],[0.8888888888888888,\"#fdca26\"],[1.0,\"#f0f921\"]],\"diverging\":[[0,\"#8e0152\"],[0.1,\"#c51b7d\"],[0.2,\"#de77ae\"],[0.3,\"#f1b6da\"],[0.4,\"#fde0ef\"],[0.5,\"#f7f7f7\"],[0.6,\"#e6f5d0\"],[0.7,\"#b8e186\"],[0.8,\"#7fbc41\"],[0.9,\"#4d9221\"],[1,\"#276419\"]]},\"xaxis\":{\"gridcolor\":\"white\",\"linecolor\":\"white\",\"ticks\":\"\",\"title\":{\"standoff\":15},\"zerolinecolor\":\"white\",\"automargin\":true,\"zerolinewidth\":2},\"yaxis\":{\"gridcolor\":\"white\",\"linecolor\":\"white\",\"ticks\":\"\",\"title\":{\"standoff\":15},\"zerolinecolor\":\"white\",\"automargin\":true,\"zerolinewidth\":2},\"scene\":{\"xaxis\":{\"backgroundcolor\":\"#E5ECF6\",\"gridcolor\":\"white\",\"linecolor\":\"white\",\"showbackground\":true,\"ticks\":\"\",\"zerolinecolor\":\"white\",\"gridwidth\":2},\"yaxis\":{\"backgroundcolor\":\"#E5ECF6\",\"gridcolor\":\"white\",\"linecolor\":\"white\",\"showbackground\":true,\"ticks\":\"\",\"zerolinecolor\":\"white\",\"gridwidth\":2},\"zaxis\":{\"backgroundcolor\":\"#E5ECF6\",\"gridcolor\":\"white\",\"linecolor\":\"white\",\"showbackground\":true,\"ticks\":\"\",\"zerolinecolor\":\"white\",\"gridwidth\":2}},\"shapedefaults\":{\"line\":{\"color\":\"#2a3f5f\"}},\"annotationdefaults\":{\"arrowcolor\":\"#2a3f5f\",\"arrowhead\":0,\"arrowwidth\":1},\"geo\":{\"bgcolor\":\"white\",\"landcolor\":\"#E5ECF6\",\"subunitcolor\":\"white\",\"showland\":true,\"showlakes\":true,\"lakecolor\":\"white\"},\"title\":{\"x\":0.05},\"mapbox\":{\"style\":\"light\"}}},\"xaxis\":{\"anchor\":\"y\",\"domain\":[0.0,1.0],\"scaleanchor\":\"y\",\"constrain\":\"domain\",\"title\":{\"text\":\"Head\"}},\"yaxis\":{\"anchor\":\"x\",\"domain\":[0.0,1.0],\"autorange\":\"reversed\",\"constrain\":\"domain\",\"title\":{\"text\":\"Layer\"}},\"coloraxis\":{\"colorscale\":[[0.0,\"rgb(103,0,31)\"],[0.1,\"rgb(178,24,43)\"],[0.2,\"rgb(214,96,77)\"],[0.3,\"rgb(244,165,130)\"],[0.4,\"rgb(253,219,199)\"],[0.5,\"rgb(247,247,247)\"],[0.6,\"rgb(209,229,240)\"],[0.7,\"rgb(146,197,222)\"],[0.8,\"rgb(67,147,195)\"],[0.9,\"rgb(33,102,172)\"],[1.0,\"rgb(5,48,97)\"]],\"cmid\":0.0},\"title\":{\"text\":\"Ablated Average Logit Difference From Heads \\u003cbr\\u003e [(9, 9), (9, 6), (10, 0)]\"},\"width\":600},                        {\"responsive\": true}                    ).then(function(){\n",
       "                            \n",
       "var gd = document.getElementById('53bb0754-c066-445f-9893-e4f2a5a2aa1b');\n",
       "var x = new MutationObserver(function (mutations, observer) {{\n",
       "        var display = window.getComputedStyle(gd).display;\n",
       "        if (!display || display === 'none') {{\n",
       "            console.log([gd, 'removed!']);\n",
       "            Plotly.purge(gd);\n",
       "            observer.disconnect();\n",
       "        }}\n",
       "}});\n",
       "\n",
       "// Listen for the removal of the full notebook cells\n",
       "var notebookContainer = gd.closest('#notebook-container');\n",
       "if (notebookContainer) {{\n",
       "    x.observe(notebookContainer, {childList: true});\n",
       "}}\n",
       "\n",
       "// Listen for the clearing of the current output cell\n",
       "var outputEl = gd.closest('.output');\n",
       "if (outputEl) {{\n",
       "    x.observe(outputEl, {childList: true});\n",
       "}}\n",
       "\n",
       "                        })                };                });            </script>        </div>"
      ]
     },
     "metadata": {},
     "output_type": "display_data"
    },
    {
     "data": {
      "text/html": [
       "<div>                            <div id=\"d705a69d-4682-4bf5-a257-0d4bbe116aa5\" class=\"plotly-graph-div\" style=\"height:525px; width:600px;\"></div>            <script type=\"text/javascript\">                require([\"plotly\"], function(Plotly) {                    window.PLOTLYENV=window.PLOTLYENV || {};                                    if (document.getElementById(\"d705a69d-4682-4bf5-a257-0d4bbe116aa5\")) {                    Plotly.newPlot(                        \"d705a69d-4682-4bf5-a257-0d4bbe116aa5\",                        [{\"coloraxis\":\"coloraxis\",\"name\":\"0\",\"texttemplate\":\"%{z:.2f}\",\"z\":[[-0.0031595295295119286,-0.00035809955443255603,-0.00012482616875786334,0.00026631291257217526,-0.0010370711097493768,0.00010962098895106465,-0.0045189643278717995,-0.003987056203186512,-0.0001932068553287536,0.001233646646142006,-0.0008111889474093914,-0.0009062887984327972],[-0.0004750989901367575,0.0002688774839043617,-0.0002897826489061117,0.00036761723458766937,-0.002197077265009284,-0.0003536006261128932,-0.003064879681915045,-0.0035655817482620478,0.0027103712782263756,0.0017797229811549187,0.0016782538732513785,0.001812993548810482],[-0.0007328410865738988,-0.0012303307885304093,-0.0010634895879775286,-0.001477639190852642,-7.624982390552759e-05,0.0013618484372273088,0.0016116423066705465,0.003918197005987167,0.00019575664191506803,-0.001958389999344945,-0.0015271438751369715,0.0004129128938075155],[-0.00030431727645918727,-0.00023474625777453184,0.0003020071017090231,0.00028840627055615187,0.000593983568251133,-0.0012107163202017546,-0.0006194320158101618,-0.001545770326629281,0.0006479369476437569,-5.173962563276291e-06,-0.001504741609096527,-0.0011387155391275883],[-0.0013207959709689021,-9.862594015430659e-05,-0.0009165838127955794,-0.0017074046190828085,0.0012023329036310315,-0.00014185692998580635,-0.0010482413927093148,0.0008689699461683631,-0.0010961467633023858,-0.0009697854402475059,0.0006216629408299923,-0.00011062292469432577],[0.00032164575532078743,0.0007316533010452986,-0.0012577592860907316,-0.0014098271494731307,-0.00040741710108704865,-0.00028788490453734994,-9.63512939051725e-05,0.0007102438830770552,0.0007462737266905606,-0.0007527110865339637,-0.004409363958984613,0.002082619583234191],[-0.004515954293310642,-0.0053026326932013035,0.0022223638370633125,-0.0004116583149880171,-0.005578290671110153,0.002019701525568962,0.003503113752231002,-0.0023941793479025364,-0.0003202054649591446,-0.0011571862269192934,-0.00038238285924308,-6.0088255850132555e-05],[7.148952136049047e-05,-0.00259539857506752,3.77014403056819e-05,0.06936490535736084,-0.0011645862832665443,-0.009887099266052246,0.002173083135858178,-0.0013634013012051582,-0.0030499238055199385,0.16991420090198517,-0.0007771776290610433,-0.0017702992772683501],[0.00027419428806751966,-0.0002269535616505891,-0.02048223651945591,0.0019165391568094492,0.001217182376421988,0.004246664233505726,-0.10916900634765625,0.0028412218671292067,-0.02012832649052143,0.0023335814476013184,0.26139578223228455,0.008303876966238022],[0.05886070430278778,-0.00031322191352955997,0.029541628435254097,0.00843906681984663,-0.01522353570908308,0.029796486720442772,1.3343992233276367,0.06493181735277176,-0.046604979783296585,2.6496803760528564,0.0007046271348372102,-0.0066938563250005245],[0.6342720985412598,0.19099125266075134,-0.06046070531010628,0.051917195320129395,-0.0029878250788897276,0.0018183102365583181,0.21957319974899292,-1.8274942636489868,-7.504000677727163e-05,-0.0022181342355906963,0.4484112560749054,0.0025089001283049583],[0.02287282794713974,-0.021053293719887733,-0.47041043639183044,0.027738014236092567,-0.000692148634698242,-0.0024445762392133474,-0.10129363089799881,0.005798655562102795,0.02821565791964531,-0.022495750337839127,-0.9197571873664856,0.021422382444143295]],\"type\":\"heatmap\",\"xaxis\":\"x\",\"yaxis\":\"y\",\"hovertemplate\":\"Head: %{x}\\u003cbr\\u003eLayer: %{y}\\u003cbr\\u003ecolor: %{z}\\u003cextra\\u003e\\u003c\\u002fextra\\u003e\"}],                        {\"template\":{\"data\":{\"histogram2dcontour\":[{\"type\":\"histogram2dcontour\",\"colorbar\":{\"outlinewidth\":0,\"ticks\":\"\"},\"colorscale\":[[0.0,\"#0d0887\"],[0.1111111111111111,\"#46039f\"],[0.2222222222222222,\"#7201a8\"],[0.3333333333333333,\"#9c179e\"],[0.4444444444444444,\"#bd3786\"],[0.5555555555555556,\"#d8576b\"],[0.6666666666666666,\"#ed7953\"],[0.7777777777777778,\"#fb9f3a\"],[0.8888888888888888,\"#fdca26\"],[1.0,\"#f0f921\"]]}],\"choropleth\":[{\"type\":\"choropleth\",\"colorbar\":{\"outlinewidth\":0,\"ticks\":\"\"}}],\"histogram2d\":[{\"type\":\"histogram2d\",\"colorbar\":{\"outlinewidth\":0,\"ticks\":\"\"},\"colorscale\":[[0.0,\"#0d0887\"],[0.1111111111111111,\"#46039f\"],[0.2222222222222222,\"#7201a8\"],[0.3333333333333333,\"#9c179e\"],[0.4444444444444444,\"#bd3786\"],[0.5555555555555556,\"#d8576b\"],[0.6666666666666666,\"#ed7953\"],[0.7777777777777778,\"#fb9f3a\"],[0.8888888888888888,\"#fdca26\"],[1.0,\"#f0f921\"]]}],\"heatmap\":[{\"type\":\"heatmap\",\"colorbar\":{\"outlinewidth\":0,\"ticks\":\"\"},\"colorscale\":[[0.0,\"#0d0887\"],[0.1111111111111111,\"#46039f\"],[0.2222222222222222,\"#7201a8\"],[0.3333333333333333,\"#9c179e\"],[0.4444444444444444,\"#bd3786\"],[0.5555555555555556,\"#d8576b\"],[0.6666666666666666,\"#ed7953\"],[0.7777777777777778,\"#fb9f3a\"],[0.8888888888888888,\"#fdca26\"],[1.0,\"#f0f921\"]]}],\"heatmapgl\":[{\"type\":\"heatmapgl\",\"colorbar\":{\"outlinewidth\":0,\"ticks\":\"\"},\"colorscale\":[[0.0,\"#0d0887\"],[0.1111111111111111,\"#46039f\"],[0.2222222222222222,\"#7201a8\"],[0.3333333333333333,\"#9c179e\"],[0.4444444444444444,\"#bd3786\"],[0.5555555555555556,\"#d8576b\"],[0.6666666666666666,\"#ed7953\"],[0.7777777777777778,\"#fb9f3a\"],[0.8888888888888888,\"#fdca26\"],[1.0,\"#f0f921\"]]}],\"contourcarpet\":[{\"type\":\"contourcarpet\",\"colorbar\":{\"outlinewidth\":0,\"ticks\":\"\"}}],\"contour\":[{\"type\":\"contour\",\"colorbar\":{\"outlinewidth\":0,\"ticks\":\"\"},\"colorscale\":[[0.0,\"#0d0887\"],[0.1111111111111111,\"#46039f\"],[0.2222222222222222,\"#7201a8\"],[0.3333333333333333,\"#9c179e\"],[0.4444444444444444,\"#bd3786\"],[0.5555555555555556,\"#d8576b\"],[0.6666666666666666,\"#ed7953\"],[0.7777777777777778,\"#fb9f3a\"],[0.8888888888888888,\"#fdca26\"],[1.0,\"#f0f921\"]]}],\"surface\":[{\"type\":\"surface\",\"colorbar\":{\"outlinewidth\":0,\"ticks\":\"\"},\"colorscale\":[[0.0,\"#0d0887\"],[0.1111111111111111,\"#46039f\"],[0.2222222222222222,\"#7201a8\"],[0.3333333333333333,\"#9c179e\"],[0.4444444444444444,\"#bd3786\"],[0.5555555555555556,\"#d8576b\"],[0.6666666666666666,\"#ed7953\"],[0.7777777777777778,\"#fb9f3a\"],[0.8888888888888888,\"#fdca26\"],[1.0,\"#f0f921\"]]}],\"mesh3d\":[{\"type\":\"mesh3d\",\"colorbar\":{\"outlinewidth\":0,\"ticks\":\"\"}}],\"scatter\":[{\"fillpattern\":{\"fillmode\":\"overlay\",\"size\":10,\"solidity\":0.2},\"type\":\"scatter\"}],\"parcoords\":[{\"type\":\"parcoords\",\"line\":{\"colorbar\":{\"outlinewidth\":0,\"ticks\":\"\"}}}],\"scatterpolargl\":[{\"type\":\"scatterpolargl\",\"marker\":{\"colorbar\":{\"outlinewidth\":0,\"ticks\":\"\"}}}],\"bar\":[{\"error_x\":{\"color\":\"#2a3f5f\"},\"error_y\":{\"color\":\"#2a3f5f\"},\"marker\":{\"line\":{\"color\":\"#E5ECF6\",\"width\":0.5},\"pattern\":{\"fillmode\":\"overlay\",\"size\":10,\"solidity\":0.2}},\"type\":\"bar\"}],\"scattergeo\":[{\"type\":\"scattergeo\",\"marker\":{\"colorbar\":{\"outlinewidth\":0,\"ticks\":\"\"}}}],\"scatterpolar\":[{\"type\":\"scatterpolar\",\"marker\":{\"colorbar\":{\"outlinewidth\":0,\"ticks\":\"\"}}}],\"histogram\":[{\"marker\":{\"pattern\":{\"fillmode\":\"overlay\",\"size\":10,\"solidity\":0.2}},\"type\":\"histogram\"}],\"scattergl\":[{\"type\":\"scattergl\",\"marker\":{\"colorbar\":{\"outlinewidth\":0,\"ticks\":\"\"}}}],\"scatter3d\":[{\"type\":\"scatter3d\",\"line\":{\"colorbar\":{\"outlinewidth\":0,\"ticks\":\"\"}},\"marker\":{\"colorbar\":{\"outlinewidth\":0,\"ticks\":\"\"}}}],\"scattermapbox\":[{\"type\":\"scattermapbox\",\"marker\":{\"colorbar\":{\"outlinewidth\":0,\"ticks\":\"\"}}}],\"scatterternary\":[{\"type\":\"scatterternary\",\"marker\":{\"colorbar\":{\"outlinewidth\":0,\"ticks\":\"\"}}}],\"scattercarpet\":[{\"type\":\"scattercarpet\",\"marker\":{\"colorbar\":{\"outlinewidth\":0,\"ticks\":\"\"}}}],\"carpet\":[{\"aaxis\":{\"endlinecolor\":\"#2a3f5f\",\"gridcolor\":\"white\",\"linecolor\":\"white\",\"minorgridcolor\":\"white\",\"startlinecolor\":\"#2a3f5f\"},\"baxis\":{\"endlinecolor\":\"#2a3f5f\",\"gridcolor\":\"white\",\"linecolor\":\"white\",\"minorgridcolor\":\"white\",\"startlinecolor\":\"#2a3f5f\"},\"type\":\"carpet\"}],\"table\":[{\"cells\":{\"fill\":{\"color\":\"#EBF0F8\"},\"line\":{\"color\":\"white\"}},\"header\":{\"fill\":{\"color\":\"#C8D4E3\"},\"line\":{\"color\":\"white\"}},\"type\":\"table\"}],\"barpolar\":[{\"marker\":{\"line\":{\"color\":\"#E5ECF6\",\"width\":0.5},\"pattern\":{\"fillmode\":\"overlay\",\"size\":10,\"solidity\":0.2}},\"type\":\"barpolar\"}],\"pie\":[{\"automargin\":true,\"type\":\"pie\"}]},\"layout\":{\"autotypenumbers\":\"strict\",\"colorway\":[\"#636efa\",\"#EF553B\",\"#00cc96\",\"#ab63fa\",\"#FFA15A\",\"#19d3f3\",\"#FF6692\",\"#B6E880\",\"#FF97FF\",\"#FECB52\"],\"font\":{\"color\":\"#2a3f5f\"},\"hovermode\":\"closest\",\"hoverlabel\":{\"align\":\"left\"},\"paper_bgcolor\":\"white\",\"plot_bgcolor\":\"#E5ECF6\",\"polar\":{\"bgcolor\":\"#E5ECF6\",\"angularaxis\":{\"gridcolor\":\"white\",\"linecolor\":\"white\",\"ticks\":\"\"},\"radialaxis\":{\"gridcolor\":\"white\",\"linecolor\":\"white\",\"ticks\":\"\"}},\"ternary\":{\"bgcolor\":\"#E5ECF6\",\"aaxis\":{\"gridcolor\":\"white\",\"linecolor\":\"white\",\"ticks\":\"\"},\"baxis\":{\"gridcolor\":\"white\",\"linecolor\":\"white\",\"ticks\":\"\"},\"caxis\":{\"gridcolor\":\"white\",\"linecolor\":\"white\",\"ticks\":\"\"}},\"coloraxis\":{\"colorbar\":{\"outlinewidth\":0,\"ticks\":\"\"}},\"colorscale\":{\"sequential\":[[0.0,\"#0d0887\"],[0.1111111111111111,\"#46039f\"],[0.2222222222222222,\"#7201a8\"],[0.3333333333333333,\"#9c179e\"],[0.4444444444444444,\"#bd3786\"],[0.5555555555555556,\"#d8576b\"],[0.6666666666666666,\"#ed7953\"],[0.7777777777777778,\"#fb9f3a\"],[0.8888888888888888,\"#fdca26\"],[1.0,\"#f0f921\"]],\"sequentialminus\":[[0.0,\"#0d0887\"],[0.1111111111111111,\"#46039f\"],[0.2222222222222222,\"#7201a8\"],[0.3333333333333333,\"#9c179e\"],[0.4444444444444444,\"#bd3786\"],[0.5555555555555556,\"#d8576b\"],[0.6666666666666666,\"#ed7953\"],[0.7777777777777778,\"#fb9f3a\"],[0.8888888888888888,\"#fdca26\"],[1.0,\"#f0f921\"]],\"diverging\":[[0,\"#8e0152\"],[0.1,\"#c51b7d\"],[0.2,\"#de77ae\"],[0.3,\"#f1b6da\"],[0.4,\"#fde0ef\"],[0.5,\"#f7f7f7\"],[0.6,\"#e6f5d0\"],[0.7,\"#b8e186\"],[0.8,\"#7fbc41\"],[0.9,\"#4d9221\"],[1,\"#276419\"]]},\"xaxis\":{\"gridcolor\":\"white\",\"linecolor\":\"white\",\"ticks\":\"\",\"title\":{\"standoff\":15},\"zerolinecolor\":\"white\",\"automargin\":true,\"zerolinewidth\":2},\"yaxis\":{\"gridcolor\":\"white\",\"linecolor\":\"white\",\"ticks\":\"\",\"title\":{\"standoff\":15},\"zerolinecolor\":\"white\",\"automargin\":true,\"zerolinewidth\":2},\"scene\":{\"xaxis\":{\"backgroundcolor\":\"#E5ECF6\",\"gridcolor\":\"white\",\"linecolor\":\"white\",\"showbackground\":true,\"ticks\":\"\",\"zerolinecolor\":\"white\",\"gridwidth\":2},\"yaxis\":{\"backgroundcolor\":\"#E5ECF6\",\"gridcolor\":\"white\",\"linecolor\":\"white\",\"showbackground\":true,\"ticks\":\"\",\"zerolinecolor\":\"white\",\"gridwidth\":2},\"zaxis\":{\"backgroundcolor\":\"#E5ECF6\",\"gridcolor\":\"white\",\"linecolor\":\"white\",\"showbackground\":true,\"ticks\":\"\",\"zerolinecolor\":\"white\",\"gridwidth\":2}},\"shapedefaults\":{\"line\":{\"color\":\"#2a3f5f\"}},\"annotationdefaults\":{\"arrowcolor\":\"#2a3f5f\",\"arrowhead\":0,\"arrowwidth\":1},\"geo\":{\"bgcolor\":\"white\",\"landcolor\":\"#E5ECF6\",\"subunitcolor\":\"white\",\"showland\":true,\"showlakes\":true,\"lakecolor\":\"white\"},\"title\":{\"x\":0.05},\"mapbox\":{\"style\":\"light\"}}},\"xaxis\":{\"anchor\":\"y\",\"domain\":[0.0,1.0],\"scaleanchor\":\"y\",\"constrain\":\"domain\",\"title\":{\"text\":\"Head\"}},\"yaxis\":{\"anchor\":\"x\",\"domain\":[0.0,1.0],\"autorange\":\"reversed\",\"constrain\":\"domain\",\"title\":{\"text\":\"Layer\"}},\"coloraxis\":{\"colorscale\":[[0.0,\"rgb(103,0,31)\"],[0.1,\"rgb(178,24,43)\"],[0.2,\"rgb(214,96,77)\"],[0.3,\"rgb(244,165,130)\"],[0.4,\"rgb(253,219,199)\"],[0.5,\"rgb(247,247,247)\"],[0.6,\"rgb(209,229,240)\"],[0.7,\"rgb(146,197,222)\"],[0.8,\"rgb(67,147,195)\"],[0.9,\"rgb(33,102,172)\"],[1.0,\"rgb(5,48,97)\"]],\"cmid\":0.0},\"title\":{\"text\":\"Unablated Average Logit Difference From Each Head\"},\"width\":600},                        {\"responsive\": true}                    ).then(function(){\n",
       "                            \n",
       "var gd = document.getElementById('d705a69d-4682-4bf5-a257-0d4bbe116aa5');\n",
       "var x = new MutationObserver(function (mutations, observer) {{\n",
       "        var display = window.getComputedStyle(gd).display;\n",
       "        if (!display || display === 'none') {{\n",
       "            console.log([gd, 'removed!']);\n",
       "            Plotly.purge(gd);\n",
       "            observer.disconnect();\n",
       "        }}\n",
       "}});\n",
       "\n",
       "// Listen for the removal of the full notebook cells\n",
       "var notebookContainer = gd.closest('#notebook-container');\n",
       "if (notebookContainer) {{\n",
       "    x.observe(notebookContainer, {childList: true});\n",
       "}}\n",
       "\n",
       "// Listen for the clearing of the current output cell\n",
       "var outputEl = gd.closest('.output');\n",
       "if (outputEl) {{\n",
       "    x.observe(outputEl, {childList: true});\n",
       "}}\n",
       "\n",
       "                        })                };                });            </script>        </div>"
      ]
     },
     "metadata": {},
     "output_type": "display_data"
    },
    {
     "name": "stdout",
     "output_type": "stream",
     "text": [
      "S-inhibition heads\n",
      "Logit difference accuracy:  1.000\n",
      "Average logit difference: 2.976\n",
      "Logit difference accuracy:  0.818\n",
      "Average logit difference: 0.588\n"
     ]
    },
    {
     "data": {
      "text/html": [
       "<div>                            <div id=\"9de7517a-b2b6-425d-a7c4-3e04ce10d6d6\" class=\"plotly-graph-div\" style=\"height:525px; width:600px;\"></div>            <script type=\"text/javascript\">                require([\"plotly\"], function(Plotly) {                    window.PLOTLYENV=window.PLOTLYENV || {};                                    if (document.getElementById(\"9de7517a-b2b6-425d-a7c4-3e04ce10d6d6\")) {                    Plotly.newPlot(                        \"9de7517a-b2b6-425d-a7c4-3e04ce10d6d6\",                        [{\"coloraxis\":\"coloraxis\",\"name\":\"0\",\"texttemplate\":\"%{z:.2f}\",\"z\":[[-0.0029340151231735945,-2.9153974537621252e-05,-0.00033028118195943534,-4.059143066115212e-06,-0.0007278453558683395,-5.9838865126948804e-05,-0.005308687686920166,-0.003473956836387515,-0.00015313681797124445,-3.355683293193579e-05,-0.0006755433860234916,-0.0008281384943984449],[6.507895886898041e-05,0.0001972214668057859,0.0004704140010289848,0.0003223334497306496,-0.0018765972927212715,0.00023415795294567943,-0.0026497971266508102,-0.0045012556947767735,0.0026831356808543205,0.0014603781746700406,0.0009805882582440972,0.0011066952720284462],[-0.00024221058993134648,-0.0012157140299677849,-0.0003992938145529479,-0.0006314761121757329,-0.0003883758035954088,0.0005149997305124998,0.0013320321450009942,0.0037438925355672836,0.00017924001440405846,-0.0016307409387081861,-0.000709802785422653,0.0003959791501984],[-2.4777773433015682e-05,-0.00038783354102633893,0.0002043058630079031,0.00010278612899128348,9.47413282119669e-05,-0.0011784639209508896,-0.0005997815751470625,-0.0005016076611354947,0.0001312833628617227,0.0006643205415457487,-0.0009162725182250142,-0.000541620422154665],[-0.0008970540948212147,3.880567419400904e-06,-0.0009507949580438435,-0.000913299503736198,0.0009004810126498342,8.643751061754301e-05,-0.000629125686828047,-0.0003556618466973305,-0.000356295466190204,-0.0006620741332881153,0.0003273651236668229,0.00021059851860627532],[0.00011360174539731815,7.158971857279539e-05,-0.00018061234732158482,-0.0011800460051745176,-4.4595937652047724e-05,-0.0009654815075919032,-6.049325020285323e-05,0.0004074251919519156,0.0008644986664876342,0.0002302328939549625,-0.0040093534626066685,0.002059647813439369],[-0.00453094532713294,-0.00532102957367897,0.002168479608371854,0.00022463354980573058,-0.00423541059717536,0.0018766866996884346,0.0028375324327498674,-0.002314747544005513,-0.00083023717161268,-0.0015820796834304929,-0.0005508621106855571,0.0006104527274146676],[-0.00019098598568234593,-0.0026722971815615892,-0.00045440043322741985,0.011387436650693417,-0.0010672684293240309,-0.0090732267126441,0.0015736906789243221,-0.0011929728789255023,-0.004150986671447754,0.012568734586238861,-0.0010597697691991925,-0.0018464315216988325],[0.0009030943620018661,-0.0010821301257237792,-0.014341863803565502,-0.014339916408061981,-0.00031407366623170674,0.0027966892812401056,-0.000956869451329112,0.0007975018816068769,-0.019361192360520363,0.003215078031644225,0.021306660026311874,-0.016617409884929657],[-0.0284636951982975,-0.0002736595051828772,-0.014809834770858288,0.0002646420616656542,-0.009570513851940632,0.05268123000860214,-0.15792639553546906,0.1007421687245369,-0.08857721835374832,-0.17581765353679657,-0.0005086286109872162,-0.013396044261753559],[-0.0016462552594020963,-0.01676195114850998,-0.0746343582868576,-0.018926847726106644,-0.004592866636812687,-2.980681529152207e-05,-0.024542421102523804,0.8394243121147156,6.124174251453951e-05,-0.0136260986328125,0.0694953128695488,-0.025572266429662704],[0.034541208297014236,0.021882427856326103,-0.04245372489094734,0.0003977006708737463,0.0024871204514056444,0.0013278241967782378,-0.027174334973096848,0.009863164275884628,0.013874774798750877,0.008729598484933376,0.11959805339574814,-0.004727527033537626]],\"type\":\"heatmap\",\"xaxis\":\"x\",\"yaxis\":\"y\",\"hovertemplate\":\"Head: %{x}\\u003cbr\\u003eLayer: %{y}\\u003cbr\\u003ecolor: %{z}\\u003cextra\\u003e\\u003c\\u002fextra\\u003e\"}],                        {\"template\":{\"data\":{\"histogram2dcontour\":[{\"type\":\"histogram2dcontour\",\"colorbar\":{\"outlinewidth\":0,\"ticks\":\"\"},\"colorscale\":[[0.0,\"#0d0887\"],[0.1111111111111111,\"#46039f\"],[0.2222222222222222,\"#7201a8\"],[0.3333333333333333,\"#9c179e\"],[0.4444444444444444,\"#bd3786\"],[0.5555555555555556,\"#d8576b\"],[0.6666666666666666,\"#ed7953\"],[0.7777777777777778,\"#fb9f3a\"],[0.8888888888888888,\"#fdca26\"],[1.0,\"#f0f921\"]]}],\"choropleth\":[{\"type\":\"choropleth\",\"colorbar\":{\"outlinewidth\":0,\"ticks\":\"\"}}],\"histogram2d\":[{\"type\":\"histogram2d\",\"colorbar\":{\"outlinewidth\":0,\"ticks\":\"\"},\"colorscale\":[[0.0,\"#0d0887\"],[0.1111111111111111,\"#46039f\"],[0.2222222222222222,\"#7201a8\"],[0.3333333333333333,\"#9c179e\"],[0.4444444444444444,\"#bd3786\"],[0.5555555555555556,\"#d8576b\"],[0.6666666666666666,\"#ed7953\"],[0.7777777777777778,\"#fb9f3a\"],[0.8888888888888888,\"#fdca26\"],[1.0,\"#f0f921\"]]}],\"heatmap\":[{\"type\":\"heatmap\",\"colorbar\":{\"outlinewidth\":0,\"ticks\":\"\"},\"colorscale\":[[0.0,\"#0d0887\"],[0.1111111111111111,\"#46039f\"],[0.2222222222222222,\"#7201a8\"],[0.3333333333333333,\"#9c179e\"],[0.4444444444444444,\"#bd3786\"],[0.5555555555555556,\"#d8576b\"],[0.6666666666666666,\"#ed7953\"],[0.7777777777777778,\"#fb9f3a\"],[0.8888888888888888,\"#fdca26\"],[1.0,\"#f0f921\"]]}],\"heatmapgl\":[{\"type\":\"heatmapgl\",\"colorbar\":{\"outlinewidth\":0,\"ticks\":\"\"},\"colorscale\":[[0.0,\"#0d0887\"],[0.1111111111111111,\"#46039f\"],[0.2222222222222222,\"#7201a8\"],[0.3333333333333333,\"#9c179e\"],[0.4444444444444444,\"#bd3786\"],[0.5555555555555556,\"#d8576b\"],[0.6666666666666666,\"#ed7953\"],[0.7777777777777778,\"#fb9f3a\"],[0.8888888888888888,\"#fdca26\"],[1.0,\"#f0f921\"]]}],\"contourcarpet\":[{\"type\":\"contourcarpet\",\"colorbar\":{\"outlinewidth\":0,\"ticks\":\"\"}}],\"contour\":[{\"type\":\"contour\",\"colorbar\":{\"outlinewidth\":0,\"ticks\":\"\"},\"colorscale\":[[0.0,\"#0d0887\"],[0.1111111111111111,\"#46039f\"],[0.2222222222222222,\"#7201a8\"],[0.3333333333333333,\"#9c179e\"],[0.4444444444444444,\"#bd3786\"],[0.5555555555555556,\"#d8576b\"],[0.6666666666666666,\"#ed7953\"],[0.7777777777777778,\"#fb9f3a\"],[0.8888888888888888,\"#fdca26\"],[1.0,\"#f0f921\"]]}],\"surface\":[{\"type\":\"surface\",\"colorbar\":{\"outlinewidth\":0,\"ticks\":\"\"},\"colorscale\":[[0.0,\"#0d0887\"],[0.1111111111111111,\"#46039f\"],[0.2222222222222222,\"#7201a8\"],[0.3333333333333333,\"#9c179e\"],[0.4444444444444444,\"#bd3786\"],[0.5555555555555556,\"#d8576b\"],[0.6666666666666666,\"#ed7953\"],[0.7777777777777778,\"#fb9f3a\"],[0.8888888888888888,\"#fdca26\"],[1.0,\"#f0f921\"]]}],\"mesh3d\":[{\"type\":\"mesh3d\",\"colorbar\":{\"outlinewidth\":0,\"ticks\":\"\"}}],\"scatter\":[{\"fillpattern\":{\"fillmode\":\"overlay\",\"size\":10,\"solidity\":0.2},\"type\":\"scatter\"}],\"parcoords\":[{\"type\":\"parcoords\",\"line\":{\"colorbar\":{\"outlinewidth\":0,\"ticks\":\"\"}}}],\"scatterpolargl\":[{\"type\":\"scatterpolargl\",\"marker\":{\"colorbar\":{\"outlinewidth\":0,\"ticks\":\"\"}}}],\"bar\":[{\"error_x\":{\"color\":\"#2a3f5f\"},\"error_y\":{\"color\":\"#2a3f5f\"},\"marker\":{\"line\":{\"color\":\"#E5ECF6\",\"width\":0.5},\"pattern\":{\"fillmode\":\"overlay\",\"size\":10,\"solidity\":0.2}},\"type\":\"bar\"}],\"scattergeo\":[{\"type\":\"scattergeo\",\"marker\":{\"colorbar\":{\"outlinewidth\":0,\"ticks\":\"\"}}}],\"scatterpolar\":[{\"type\":\"scatterpolar\",\"marker\":{\"colorbar\":{\"outlinewidth\":0,\"ticks\":\"\"}}}],\"histogram\":[{\"marker\":{\"pattern\":{\"fillmode\":\"overlay\",\"size\":10,\"solidity\":0.2}},\"type\":\"histogram\"}],\"scattergl\":[{\"type\":\"scattergl\",\"marker\":{\"colorbar\":{\"outlinewidth\":0,\"ticks\":\"\"}}}],\"scatter3d\":[{\"type\":\"scatter3d\",\"line\":{\"colorbar\":{\"outlinewidth\":0,\"ticks\":\"\"}},\"marker\":{\"colorbar\":{\"outlinewidth\":0,\"ticks\":\"\"}}}],\"scattermapbox\":[{\"type\":\"scattermapbox\",\"marker\":{\"colorbar\":{\"outlinewidth\":0,\"ticks\":\"\"}}}],\"scatterternary\":[{\"type\":\"scatterternary\",\"marker\":{\"colorbar\":{\"outlinewidth\":0,\"ticks\":\"\"}}}],\"scattercarpet\":[{\"type\":\"scattercarpet\",\"marker\":{\"colorbar\":{\"outlinewidth\":0,\"ticks\":\"\"}}}],\"carpet\":[{\"aaxis\":{\"endlinecolor\":\"#2a3f5f\",\"gridcolor\":\"white\",\"linecolor\":\"white\",\"minorgridcolor\":\"white\",\"startlinecolor\":\"#2a3f5f\"},\"baxis\":{\"endlinecolor\":\"#2a3f5f\",\"gridcolor\":\"white\",\"linecolor\":\"white\",\"minorgridcolor\":\"white\",\"startlinecolor\":\"#2a3f5f\"},\"type\":\"carpet\"}],\"table\":[{\"cells\":{\"fill\":{\"color\":\"#EBF0F8\"},\"line\":{\"color\":\"white\"}},\"header\":{\"fill\":{\"color\":\"#C8D4E3\"},\"line\":{\"color\":\"white\"}},\"type\":\"table\"}],\"barpolar\":[{\"marker\":{\"line\":{\"color\":\"#E5ECF6\",\"width\":0.5},\"pattern\":{\"fillmode\":\"overlay\",\"size\":10,\"solidity\":0.2}},\"type\":\"barpolar\"}],\"pie\":[{\"automargin\":true,\"type\":\"pie\"}]},\"layout\":{\"autotypenumbers\":\"strict\",\"colorway\":[\"#636efa\",\"#EF553B\",\"#00cc96\",\"#ab63fa\",\"#FFA15A\",\"#19d3f3\",\"#FF6692\",\"#B6E880\",\"#FF97FF\",\"#FECB52\"],\"font\":{\"color\":\"#2a3f5f\"},\"hovermode\":\"closest\",\"hoverlabel\":{\"align\":\"left\"},\"paper_bgcolor\":\"white\",\"plot_bgcolor\":\"#E5ECF6\",\"polar\":{\"bgcolor\":\"#E5ECF6\",\"angularaxis\":{\"gridcolor\":\"white\",\"linecolor\":\"white\",\"ticks\":\"\"},\"radialaxis\":{\"gridcolor\":\"white\",\"linecolor\":\"white\",\"ticks\":\"\"}},\"ternary\":{\"bgcolor\":\"#E5ECF6\",\"aaxis\":{\"gridcolor\":\"white\",\"linecolor\":\"white\",\"ticks\":\"\"},\"baxis\":{\"gridcolor\":\"white\",\"linecolor\":\"white\",\"ticks\":\"\"},\"caxis\":{\"gridcolor\":\"white\",\"linecolor\":\"white\",\"ticks\":\"\"}},\"coloraxis\":{\"colorbar\":{\"outlinewidth\":0,\"ticks\":\"\"}},\"colorscale\":{\"sequential\":[[0.0,\"#0d0887\"],[0.1111111111111111,\"#46039f\"],[0.2222222222222222,\"#7201a8\"],[0.3333333333333333,\"#9c179e\"],[0.4444444444444444,\"#bd3786\"],[0.5555555555555556,\"#d8576b\"],[0.6666666666666666,\"#ed7953\"],[0.7777777777777778,\"#fb9f3a\"],[0.8888888888888888,\"#fdca26\"],[1.0,\"#f0f921\"]],\"sequentialminus\":[[0.0,\"#0d0887\"],[0.1111111111111111,\"#46039f\"],[0.2222222222222222,\"#7201a8\"],[0.3333333333333333,\"#9c179e\"],[0.4444444444444444,\"#bd3786\"],[0.5555555555555556,\"#d8576b\"],[0.6666666666666666,\"#ed7953\"],[0.7777777777777778,\"#fb9f3a\"],[0.8888888888888888,\"#fdca26\"],[1.0,\"#f0f921\"]],\"diverging\":[[0,\"#8e0152\"],[0.1,\"#c51b7d\"],[0.2,\"#de77ae\"],[0.3,\"#f1b6da\"],[0.4,\"#fde0ef\"],[0.5,\"#f7f7f7\"],[0.6,\"#e6f5d0\"],[0.7,\"#b8e186\"],[0.8,\"#7fbc41\"],[0.9,\"#4d9221\"],[1,\"#276419\"]]},\"xaxis\":{\"gridcolor\":\"white\",\"linecolor\":\"white\",\"ticks\":\"\",\"title\":{\"standoff\":15},\"zerolinecolor\":\"white\",\"automargin\":true,\"zerolinewidth\":2},\"yaxis\":{\"gridcolor\":\"white\",\"linecolor\":\"white\",\"ticks\":\"\",\"title\":{\"standoff\":15},\"zerolinecolor\":\"white\",\"automargin\":true,\"zerolinewidth\":2},\"scene\":{\"xaxis\":{\"backgroundcolor\":\"#E5ECF6\",\"gridcolor\":\"white\",\"linecolor\":\"white\",\"showbackground\":true,\"ticks\":\"\",\"zerolinecolor\":\"white\",\"gridwidth\":2},\"yaxis\":{\"backgroundcolor\":\"#E5ECF6\",\"gridcolor\":\"white\",\"linecolor\":\"white\",\"showbackground\":true,\"ticks\":\"\",\"zerolinecolor\":\"white\",\"gridwidth\":2},\"zaxis\":{\"backgroundcolor\":\"#E5ECF6\",\"gridcolor\":\"white\",\"linecolor\":\"white\",\"showbackground\":true,\"ticks\":\"\",\"zerolinecolor\":\"white\",\"gridwidth\":2}},\"shapedefaults\":{\"line\":{\"color\":\"#2a3f5f\"}},\"annotationdefaults\":{\"arrowcolor\":\"#2a3f5f\",\"arrowhead\":0,\"arrowwidth\":1},\"geo\":{\"bgcolor\":\"white\",\"landcolor\":\"#E5ECF6\",\"subunitcolor\":\"white\",\"showland\":true,\"showlakes\":true,\"lakecolor\":\"white\"},\"title\":{\"x\":0.05},\"mapbox\":{\"style\":\"light\"}}},\"xaxis\":{\"anchor\":\"y\",\"domain\":[0.0,1.0],\"scaleanchor\":\"y\",\"constrain\":\"domain\",\"title\":{\"text\":\"Head\"}},\"yaxis\":{\"anchor\":\"x\",\"domain\":[0.0,1.0],\"autorange\":\"reversed\",\"constrain\":\"domain\",\"title\":{\"text\":\"Layer\"}},\"coloraxis\":{\"colorscale\":[[0.0,\"rgb(103,0,31)\"],[0.1,\"rgb(178,24,43)\"],[0.2,\"rgb(214,96,77)\"],[0.3,\"rgb(244,165,130)\"],[0.4,\"rgb(253,219,199)\"],[0.5,\"rgb(247,247,247)\"],[0.6,\"rgb(209,229,240)\"],[0.7,\"rgb(146,197,222)\"],[0.8,\"rgb(67,147,195)\"],[0.9,\"rgb(33,102,172)\"],[1.0,\"rgb(5,48,97)\"]],\"cmid\":0.0},\"title\":{\"text\":\"Ablated Average Logit Difference From Heads \\u003cbr\\u003e [(7, 3), (7, 9), (8, 6), (8, 10)]\"},\"width\":600},                        {\"responsive\": true}                    ).then(function(){\n",
       "                            \n",
       "var gd = document.getElementById('9de7517a-b2b6-425d-a7c4-3e04ce10d6d6');\n",
       "var x = new MutationObserver(function (mutations, observer) {{\n",
       "        var display = window.getComputedStyle(gd).display;\n",
       "        if (!display || display === 'none') {{\n",
       "            console.log([gd, 'removed!']);\n",
       "            Plotly.purge(gd);\n",
       "            observer.disconnect();\n",
       "        }}\n",
       "}});\n",
       "\n",
       "// Listen for the removal of the full notebook cells\n",
       "var notebookContainer = gd.closest('#notebook-container');\n",
       "if (notebookContainer) {{\n",
       "    x.observe(notebookContainer, {childList: true});\n",
       "}}\n",
       "\n",
       "// Listen for the clearing of the current output cell\n",
       "var outputEl = gd.closest('.output');\n",
       "if (outputEl) {{\n",
       "    x.observe(outputEl, {childList: true});\n",
       "}}\n",
       "\n",
       "                        })                };                });            </script>        </div>"
      ]
     },
     "metadata": {},
     "output_type": "display_data"
    },
    {
     "data": {
      "text/html": [
       "<div>                            <div id=\"3a554c8d-60de-463e-a4e5-d3081ae342d8\" class=\"plotly-graph-div\" style=\"height:525px; width:600px;\"></div>            <script type=\"text/javascript\">                require([\"plotly\"], function(Plotly) {                    window.PLOTLYENV=window.PLOTLYENV || {};                                    if (document.getElementById(\"3a554c8d-60de-463e-a4e5-d3081ae342d8\")) {                    Plotly.newPlot(                        \"3a554c8d-60de-463e-a4e5-d3081ae342d8\",                        [{\"coloraxis\":\"coloraxis\",\"name\":\"0\",\"texttemplate\":\"%{z:.2f}\",\"z\":[[-0.0031595295295119286,-0.00035809955443255603,-0.00012482616875786334,0.00026631291257217526,-0.0010370711097493768,0.00010962098895106465,-0.0045189643278717995,-0.003987056203186512,-0.0001932068553287536,0.001233646646142006,-0.0008111889474093914,-0.0009062887984327972],[-0.0004750989901367575,0.0002688774839043617,-0.0002897826489061117,0.00036761723458766937,-0.002197077265009284,-0.0003536006261128932,-0.003064879681915045,-0.0035655817482620478,0.0027103712782263756,0.0017797229811549187,0.0016782538732513785,0.001812993548810482],[-0.0007328410865738988,-0.0012303307885304093,-0.0010634895879775286,-0.001477639190852642,-7.624982390552759e-05,0.0013618484372273088,0.0016116423066705465,0.003918197005987167,0.00019575664191506803,-0.001958389999344945,-0.0015271438751369715,0.0004129128938075155],[-0.00030431727645918727,-0.00023474625777453184,0.0003020071017090231,0.00028840627055615187,0.000593983568251133,-0.0012107163202017546,-0.0006194320158101618,-0.001545770326629281,0.0006479369476437569,-5.173962563276291e-06,-0.001504741609096527,-0.0011387155391275883],[-0.0013207959709689021,-9.862594015430659e-05,-0.0009165838127955794,-0.0017074046190828085,0.0012023329036310315,-0.00014185692998580635,-0.0010482413927093148,0.0008689699461683631,-0.0010961467633023858,-0.0009697854402475059,0.0006216629408299923,-0.00011062292469432577],[0.00032164575532078743,0.0007316533010452986,-0.0012577592860907316,-0.0014098271494731307,-0.00040741710108704865,-0.00028788490453734994,-9.63512939051725e-05,0.0007102438830770552,0.0007462737266905606,-0.0007527110865339637,-0.004409363958984613,0.002082619583234191],[-0.004515954293310642,-0.0053026326932013035,0.0022223638370633125,-0.0004116583149880171,-0.005578290671110153,0.002019701525568962,0.003503113752231002,-0.0023941793479025364,-0.0003202054649591446,-0.0011571862269192934,-0.00038238285924308,-6.0088255850132555e-05],[7.148952136049047e-05,-0.00259539857506752,3.77014403056819e-05,0.06936490535736084,-0.0011645862832665443,-0.009887099266052246,0.002173083135858178,-0.0013634013012051582,-0.0030499238055199385,0.16991420090198517,-0.0007771776290610433,-0.0017702992772683501],[0.00027419428806751966,-0.0002269535616505891,-0.02048223651945591,0.0019165391568094492,0.001217182376421988,0.004246664233505726,-0.10916900634765625,0.0028412218671292067,-0.02012832649052143,0.0023335814476013184,0.26139578223228455,0.008303876966238022],[0.05886070430278778,-0.00031322191352955997,0.029541628435254097,0.00843906681984663,-0.01522353570908308,0.029796486720442772,1.3343992233276367,0.06493181735277176,-0.046604979783296585,2.6496803760528564,0.0007046271348372102,-0.0066938563250005245],[0.6342720985412598,0.19099125266075134,-0.06046070531010628,0.051917195320129395,-0.0029878250788897276,0.0018183102365583181,0.21957319974899292,-1.8274942636489868,-7.504000677727163e-05,-0.0022181342355906963,0.4484112560749054,0.0025089001283049583],[0.02287282794713974,-0.021053293719887733,-0.47041043639183044,0.027738014236092567,-0.000692148634698242,-0.0024445762392133474,-0.10129363089799881,0.005798655562102795,0.02821565791964531,-0.022495750337839127,-0.9197571873664856,0.021422382444143295]],\"type\":\"heatmap\",\"xaxis\":\"x\",\"yaxis\":\"y\",\"hovertemplate\":\"Head: %{x}\\u003cbr\\u003eLayer: %{y}\\u003cbr\\u003ecolor: %{z}\\u003cextra\\u003e\\u003c\\u002fextra\\u003e\"}],                        {\"template\":{\"data\":{\"histogram2dcontour\":[{\"type\":\"histogram2dcontour\",\"colorbar\":{\"outlinewidth\":0,\"ticks\":\"\"},\"colorscale\":[[0.0,\"#0d0887\"],[0.1111111111111111,\"#46039f\"],[0.2222222222222222,\"#7201a8\"],[0.3333333333333333,\"#9c179e\"],[0.4444444444444444,\"#bd3786\"],[0.5555555555555556,\"#d8576b\"],[0.6666666666666666,\"#ed7953\"],[0.7777777777777778,\"#fb9f3a\"],[0.8888888888888888,\"#fdca26\"],[1.0,\"#f0f921\"]]}],\"choropleth\":[{\"type\":\"choropleth\",\"colorbar\":{\"outlinewidth\":0,\"ticks\":\"\"}}],\"histogram2d\":[{\"type\":\"histogram2d\",\"colorbar\":{\"outlinewidth\":0,\"ticks\":\"\"},\"colorscale\":[[0.0,\"#0d0887\"],[0.1111111111111111,\"#46039f\"],[0.2222222222222222,\"#7201a8\"],[0.3333333333333333,\"#9c179e\"],[0.4444444444444444,\"#bd3786\"],[0.5555555555555556,\"#d8576b\"],[0.6666666666666666,\"#ed7953\"],[0.7777777777777778,\"#fb9f3a\"],[0.8888888888888888,\"#fdca26\"],[1.0,\"#f0f921\"]]}],\"heatmap\":[{\"type\":\"heatmap\",\"colorbar\":{\"outlinewidth\":0,\"ticks\":\"\"},\"colorscale\":[[0.0,\"#0d0887\"],[0.1111111111111111,\"#46039f\"],[0.2222222222222222,\"#7201a8\"],[0.3333333333333333,\"#9c179e\"],[0.4444444444444444,\"#bd3786\"],[0.5555555555555556,\"#d8576b\"],[0.6666666666666666,\"#ed7953\"],[0.7777777777777778,\"#fb9f3a\"],[0.8888888888888888,\"#fdca26\"],[1.0,\"#f0f921\"]]}],\"heatmapgl\":[{\"type\":\"heatmapgl\",\"colorbar\":{\"outlinewidth\":0,\"ticks\":\"\"},\"colorscale\":[[0.0,\"#0d0887\"],[0.1111111111111111,\"#46039f\"],[0.2222222222222222,\"#7201a8\"],[0.3333333333333333,\"#9c179e\"],[0.4444444444444444,\"#bd3786\"],[0.5555555555555556,\"#d8576b\"],[0.6666666666666666,\"#ed7953\"],[0.7777777777777778,\"#fb9f3a\"],[0.8888888888888888,\"#fdca26\"],[1.0,\"#f0f921\"]]}],\"contourcarpet\":[{\"type\":\"contourcarpet\",\"colorbar\":{\"outlinewidth\":0,\"ticks\":\"\"}}],\"contour\":[{\"type\":\"contour\",\"colorbar\":{\"outlinewidth\":0,\"ticks\":\"\"},\"colorscale\":[[0.0,\"#0d0887\"],[0.1111111111111111,\"#46039f\"],[0.2222222222222222,\"#7201a8\"],[0.3333333333333333,\"#9c179e\"],[0.4444444444444444,\"#bd3786\"],[0.5555555555555556,\"#d8576b\"],[0.6666666666666666,\"#ed7953\"],[0.7777777777777778,\"#fb9f3a\"],[0.8888888888888888,\"#fdca26\"],[1.0,\"#f0f921\"]]}],\"surface\":[{\"type\":\"surface\",\"colorbar\":{\"outlinewidth\":0,\"ticks\":\"\"},\"colorscale\":[[0.0,\"#0d0887\"],[0.1111111111111111,\"#46039f\"],[0.2222222222222222,\"#7201a8\"],[0.3333333333333333,\"#9c179e\"],[0.4444444444444444,\"#bd3786\"],[0.5555555555555556,\"#d8576b\"],[0.6666666666666666,\"#ed7953\"],[0.7777777777777778,\"#fb9f3a\"],[0.8888888888888888,\"#fdca26\"],[1.0,\"#f0f921\"]]}],\"mesh3d\":[{\"type\":\"mesh3d\",\"colorbar\":{\"outlinewidth\":0,\"ticks\":\"\"}}],\"scatter\":[{\"fillpattern\":{\"fillmode\":\"overlay\",\"size\":10,\"solidity\":0.2},\"type\":\"scatter\"}],\"parcoords\":[{\"type\":\"parcoords\",\"line\":{\"colorbar\":{\"outlinewidth\":0,\"ticks\":\"\"}}}],\"scatterpolargl\":[{\"type\":\"scatterpolargl\",\"marker\":{\"colorbar\":{\"outlinewidth\":0,\"ticks\":\"\"}}}],\"bar\":[{\"error_x\":{\"color\":\"#2a3f5f\"},\"error_y\":{\"color\":\"#2a3f5f\"},\"marker\":{\"line\":{\"color\":\"#E5ECF6\",\"width\":0.5},\"pattern\":{\"fillmode\":\"overlay\",\"size\":10,\"solidity\":0.2}},\"type\":\"bar\"}],\"scattergeo\":[{\"type\":\"scattergeo\",\"marker\":{\"colorbar\":{\"outlinewidth\":0,\"ticks\":\"\"}}}],\"scatterpolar\":[{\"type\":\"scatterpolar\",\"marker\":{\"colorbar\":{\"outlinewidth\":0,\"ticks\":\"\"}}}],\"histogram\":[{\"marker\":{\"pattern\":{\"fillmode\":\"overlay\",\"size\":10,\"solidity\":0.2}},\"type\":\"histogram\"}],\"scattergl\":[{\"type\":\"scattergl\",\"marker\":{\"colorbar\":{\"outlinewidth\":0,\"ticks\":\"\"}}}],\"scatter3d\":[{\"type\":\"scatter3d\",\"line\":{\"colorbar\":{\"outlinewidth\":0,\"ticks\":\"\"}},\"marker\":{\"colorbar\":{\"outlinewidth\":0,\"ticks\":\"\"}}}],\"scattermapbox\":[{\"type\":\"scattermapbox\",\"marker\":{\"colorbar\":{\"outlinewidth\":0,\"ticks\":\"\"}}}],\"scatterternary\":[{\"type\":\"scatterternary\",\"marker\":{\"colorbar\":{\"outlinewidth\":0,\"ticks\":\"\"}}}],\"scattercarpet\":[{\"type\":\"scattercarpet\",\"marker\":{\"colorbar\":{\"outlinewidth\":0,\"ticks\":\"\"}}}],\"carpet\":[{\"aaxis\":{\"endlinecolor\":\"#2a3f5f\",\"gridcolor\":\"white\",\"linecolor\":\"white\",\"minorgridcolor\":\"white\",\"startlinecolor\":\"#2a3f5f\"},\"baxis\":{\"endlinecolor\":\"#2a3f5f\",\"gridcolor\":\"white\",\"linecolor\":\"white\",\"minorgridcolor\":\"white\",\"startlinecolor\":\"#2a3f5f\"},\"type\":\"carpet\"}],\"table\":[{\"cells\":{\"fill\":{\"color\":\"#EBF0F8\"},\"line\":{\"color\":\"white\"}},\"header\":{\"fill\":{\"color\":\"#C8D4E3\"},\"line\":{\"color\":\"white\"}},\"type\":\"table\"}],\"barpolar\":[{\"marker\":{\"line\":{\"color\":\"#E5ECF6\",\"width\":0.5},\"pattern\":{\"fillmode\":\"overlay\",\"size\":10,\"solidity\":0.2}},\"type\":\"barpolar\"}],\"pie\":[{\"automargin\":true,\"type\":\"pie\"}]},\"layout\":{\"autotypenumbers\":\"strict\",\"colorway\":[\"#636efa\",\"#EF553B\",\"#00cc96\",\"#ab63fa\",\"#FFA15A\",\"#19d3f3\",\"#FF6692\",\"#B6E880\",\"#FF97FF\",\"#FECB52\"],\"font\":{\"color\":\"#2a3f5f\"},\"hovermode\":\"closest\",\"hoverlabel\":{\"align\":\"left\"},\"paper_bgcolor\":\"white\",\"plot_bgcolor\":\"#E5ECF6\",\"polar\":{\"bgcolor\":\"#E5ECF6\",\"angularaxis\":{\"gridcolor\":\"white\",\"linecolor\":\"white\",\"ticks\":\"\"},\"radialaxis\":{\"gridcolor\":\"white\",\"linecolor\":\"white\",\"ticks\":\"\"}},\"ternary\":{\"bgcolor\":\"#E5ECF6\",\"aaxis\":{\"gridcolor\":\"white\",\"linecolor\":\"white\",\"ticks\":\"\"},\"baxis\":{\"gridcolor\":\"white\",\"linecolor\":\"white\",\"ticks\":\"\"},\"caxis\":{\"gridcolor\":\"white\",\"linecolor\":\"white\",\"ticks\":\"\"}},\"coloraxis\":{\"colorbar\":{\"outlinewidth\":0,\"ticks\":\"\"}},\"colorscale\":{\"sequential\":[[0.0,\"#0d0887\"],[0.1111111111111111,\"#46039f\"],[0.2222222222222222,\"#7201a8\"],[0.3333333333333333,\"#9c179e\"],[0.4444444444444444,\"#bd3786\"],[0.5555555555555556,\"#d8576b\"],[0.6666666666666666,\"#ed7953\"],[0.7777777777777778,\"#fb9f3a\"],[0.8888888888888888,\"#fdca26\"],[1.0,\"#f0f921\"]],\"sequentialminus\":[[0.0,\"#0d0887\"],[0.1111111111111111,\"#46039f\"],[0.2222222222222222,\"#7201a8\"],[0.3333333333333333,\"#9c179e\"],[0.4444444444444444,\"#bd3786\"],[0.5555555555555556,\"#d8576b\"],[0.6666666666666666,\"#ed7953\"],[0.7777777777777778,\"#fb9f3a\"],[0.8888888888888888,\"#fdca26\"],[1.0,\"#f0f921\"]],\"diverging\":[[0,\"#8e0152\"],[0.1,\"#c51b7d\"],[0.2,\"#de77ae\"],[0.3,\"#f1b6da\"],[0.4,\"#fde0ef\"],[0.5,\"#f7f7f7\"],[0.6,\"#e6f5d0\"],[0.7,\"#b8e186\"],[0.8,\"#7fbc41\"],[0.9,\"#4d9221\"],[1,\"#276419\"]]},\"xaxis\":{\"gridcolor\":\"white\",\"linecolor\":\"white\",\"ticks\":\"\",\"title\":{\"standoff\":15},\"zerolinecolor\":\"white\",\"automargin\":true,\"zerolinewidth\":2},\"yaxis\":{\"gridcolor\":\"white\",\"linecolor\":\"white\",\"ticks\":\"\",\"title\":{\"standoff\":15},\"zerolinecolor\":\"white\",\"automargin\":true,\"zerolinewidth\":2},\"scene\":{\"xaxis\":{\"backgroundcolor\":\"#E5ECF6\",\"gridcolor\":\"white\",\"linecolor\":\"white\",\"showbackground\":true,\"ticks\":\"\",\"zerolinecolor\":\"white\",\"gridwidth\":2},\"yaxis\":{\"backgroundcolor\":\"#E5ECF6\",\"gridcolor\":\"white\",\"linecolor\":\"white\",\"showbackground\":true,\"ticks\":\"\",\"zerolinecolor\":\"white\",\"gridwidth\":2},\"zaxis\":{\"backgroundcolor\":\"#E5ECF6\",\"gridcolor\":\"white\",\"linecolor\":\"white\",\"showbackground\":true,\"ticks\":\"\",\"zerolinecolor\":\"white\",\"gridwidth\":2}},\"shapedefaults\":{\"line\":{\"color\":\"#2a3f5f\"}},\"annotationdefaults\":{\"arrowcolor\":\"#2a3f5f\",\"arrowhead\":0,\"arrowwidth\":1},\"geo\":{\"bgcolor\":\"white\",\"landcolor\":\"#E5ECF6\",\"subunitcolor\":\"white\",\"showland\":true,\"showlakes\":true,\"lakecolor\":\"white\"},\"title\":{\"x\":0.05},\"mapbox\":{\"style\":\"light\"}}},\"xaxis\":{\"anchor\":\"y\",\"domain\":[0.0,1.0],\"scaleanchor\":\"y\",\"constrain\":\"domain\",\"title\":{\"text\":\"Head\"}},\"yaxis\":{\"anchor\":\"x\",\"domain\":[0.0,1.0],\"autorange\":\"reversed\",\"constrain\":\"domain\",\"title\":{\"text\":\"Layer\"}},\"coloraxis\":{\"colorscale\":[[0.0,\"rgb(103,0,31)\"],[0.1,\"rgb(178,24,43)\"],[0.2,\"rgb(214,96,77)\"],[0.3,\"rgb(244,165,130)\"],[0.4,\"rgb(253,219,199)\"],[0.5,\"rgb(247,247,247)\"],[0.6,\"rgb(209,229,240)\"],[0.7,\"rgb(146,197,222)\"],[0.8,\"rgb(67,147,195)\"],[0.9,\"rgb(33,102,172)\"],[1.0,\"rgb(5,48,97)\"]],\"cmid\":0.0},\"title\":{\"text\":\"Unablated Average Logit Difference From Each Head\"},\"width\":600},                        {\"responsive\": true}                    ).then(function(){\n",
       "                            \n",
       "var gd = document.getElementById('3a554c8d-60de-463e-a4e5-d3081ae342d8');\n",
       "var x = new MutationObserver(function (mutations, observer) {{\n",
       "        var display = window.getComputedStyle(gd).display;\n",
       "        if (!display || display === 'none') {{\n",
       "            console.log([gd, 'removed!']);\n",
       "            Plotly.purge(gd);\n",
       "            observer.disconnect();\n",
       "        }}\n",
       "}});\n",
       "\n",
       "// Listen for the removal of the full notebook cells\n",
       "var notebookContainer = gd.closest('#notebook-container');\n",
       "if (notebookContainer) {{\n",
       "    x.observe(notebookContainer, {childList: true});\n",
       "}}\n",
       "\n",
       "// Listen for the clearing of the current output cell\n",
       "var outputEl = gd.closest('.output');\n",
       "if (outputEl) {{\n",
       "    x.observe(outputEl, {childList: true});\n",
       "}}\n",
       "\n",
       "                        })                };                });            </script>        </div>"
      ]
     },
     "metadata": {},
     "output_type": "display_data"
    }
   ],
   "source": [
    "print(\"Positive name mover heads\")\n",
    "head_ablation_logit_diff(positive_name_movers)\n",
    "print(\"S-inhibition heads\")\n",
    "head_ablation_logit_diff(s_inhibition_heads)"
   ]
  },
  {
   "cell_type": "code",
   "execution_count": 796,
   "metadata": {},
   "outputs": [
    {
     "name": "stdout",
     "output_type": "stream",
     "text": [
      "torch.Size([12, 15, 15])\n",
      "Length of prompt 4: 15\n",
      "Logit difference accuracy:  1.000\n",
      "Per prompt logit difference: tensor([3.2016, 3.3367, 2.7095, 3.7975, 1.7204, 5.2812, 2.6008, 5.7674, 3.0110,\n",
      "        2.4750, 1.9531, 2.2397, 2.2629, 3.5962, 2.1930, 3.0245, 1.5002, 2.1427,\n",
      "        2.8699, 2.3140, 3.8759, 3.6036], device='cuda:0',\n",
      "       grad_fn=<SubBackward0>)\n",
      "Logit difference accuracy:  1.000\n",
      "Per prompt logit difference: tensor([2.3279, 1.9115, 1.1121, 1.6898, 0.1710, 3.4720, 1.7161, 1.6984, 2.3755,\n",
      "        0.6135, 0.6171, 2.5768, 1.7879, 2.0059, 1.1177, 1.6975, 1.3885, 1.4684,\n",
      "        2.9865, 0.6232, 2.2222, 2.2420], device='cuda:0',\n",
      "       grad_fn=<SubBackward0>)\n"
     ]
    }
   ],
   "source": [
    "attention_pattern = original_cache[\"blocks.9.attn.hook_pattern\"][4].squeeze()\n",
    "print(attention_pattern.shape)\n",
    "str_tokens = model.to_str_tokens(prompts[4])\n",
    "print(\"Length of prompt 4:\", len(str_tokens))\n",
    "circuitsvis.attention.attention_patterns(tokens=str_tokens, attention=attention_pattern)\n",
    "\n",
    "model.reset_hooks()\n",
    "def hook_all_attention_patterns(attn_pattern, hook: HookPoint, head_idx: int, layer_idx: int):\n",
    "    if hook.layer() == layer_idx:\n",
    "        attn_pattern[:, head_idx] = head_mean_activations[(layer_idx, head_idx)]\n",
    "        return attn_pattern\n",
    "\n",
    "name_filter = lambda name: name.endswith(\"pattern\")\n",
    "hooks = []\n",
    "for layer, head in heads:\n",
    "    hooks.append((name_filter, functools.partial(hook_all_attention_patterns, head_idx=head, layer_idx=layer)))\n",
    "\n",
    "with model.hooks(fwd_hooks=hooks):\n",
    "    ablated_logits, ablated_cache = model.run_with_cache(tokens)\n",
    "\n",
    "\n",
    "original_per_prompt_diff = logits_to_ave_logit_diff(original_logits, answer_tokens, per_prompt=True)\n",
    "print(\"Per prompt logit difference:\", original_per_prompt_diff)\n",
    "\n",
    "ablated_per_prompt_diff = logits_to_ave_logit_diff(ablated_logits, answer_tokens, per_prompt=True)\n",
    "print(\"Per prompt logit difference:\", ablated_per_prompt_diff)"
   ]
  },
  {
   "cell_type": "code",
   "execution_count": 797,
   "metadata": {},
   "outputs": [
    {
     "name": "stdout",
     "output_type": "stream",
     "text": [
      "Logit difference accuracy:  1.000\n",
      "Average logit difference: 2.536\n",
      "Logit difference accuracy:  0.818\n",
      "Average logit difference: 0.593\n"
     ]
    },
    {
     "data": {
      "text/html": [
       "<div>                            <div id=\"ad433891-db6d-4e1d-ab43-08cee5e83c8c\" class=\"plotly-graph-div\" style=\"height:525px; width:600px;\"></div>            <script type=\"text/javascript\">                require([\"plotly\"], function(Plotly) {                    window.PLOTLYENV=window.PLOTLYENV || {};                                    if (document.getElementById(\"ad433891-db6d-4e1d-ab43-08cee5e83c8c\")) {                    Plotly.newPlot(                        \"ad433891-db6d-4e1d-ab43-08cee5e83c8c\",                        [{\"coloraxis\":\"coloraxis\",\"name\":\"0\",\"texttemplate\":\"%{z:.2f}\",\"z\":[[-0.0133485933765769,-0.008899779990315437,0.005799897946417332,0.010134090669453144,-0.014843536540865898,0.00864112377166748,0.035125602036714554,-0.017732489854097366,-0.02443292737007141,0.01945812813937664,-0.004022133070975542,-0.013766135089099407],[-0.012200250290334225,0.006342148873955011,-0.01646474003791809,-0.0031655391212552786,-0.02591250278055668,-0.01405235193669796,-0.034174639731645584,0.028139054775238037,0.006595201324671507,0.011030127294361591,0.038858603686094284,0.02921869605779648],[-0.022365828976035118,-0.00285515864379704,-0.008231379091739655,-0.022865762934088707,0.023845786228775978,0.0055527836084365845,0.011787181720137596,0.01806744933128357,-0.004970052279531956,-0.009474260732531548,-0.01817880943417549,-0.0031536140013486147],[-0.005582079291343689,0.007200498133897781,0.003371666884049773,0.0096074678003788,0.009414302185177803,-0.005864039994776249,-0.0012957348953932524,-0.015496747568249702,0.00047228028415702283,-0.0034988780971616507,-0.015478115528821945,-0.03572273626923561],[-0.003110735910013318,-0.007203227840363979,0.00506789842620492,-0.022486060857772827,0.010997466742992401,-0.006783745717257261,-0.024407366290688515,0.02640449069440365,-0.02087821625173092,-0.008956203237175941,0.01393402460962534,-0.0002227735531050712],[0.0026057858485728502,0.01930241659283638,-0.04691063240170479,-0.007336817681789398,-0.010565164498984814,0.0027438185643404722,0.0016515235183760524,0.011005323380231857,-0.007387622259557247,0.005097521003335714,0.0031310550402849913,-0.0019172372994944453],[0.006617407314479351,-0.008413312025368214,-0.00704741757363081,-0.026867704465985298,-0.03588708117604256,0.008306339383125305,0.02107115089893341,0.007935159839689732,0.007169853895902634,0.014553363434970379,0.005090541671961546,-0.021093616262078285],[0.00825777929276228,-0.0019218891393393278,0.0135226184502244,-0.003056338056921959,-0.00842838454991579,-0.041959915310144424,0.029952272772789,-0.0013104754034429789,0.030517524108290672,0.012651343829929829,0.011830471456050873,0.014666791073977947],[-0.011615629307925701,0.005307893268764019,-0.06875975430011749,0.03056826815009117,-0.026336491107940674,-0.0026991909835487604,-0.00767197972163558,0.01927088387310505,-0.03651922941207886,0.011213366873562336,0.04068854823708534,-0.09908457845449448],[-0.028946273028850555,0.00024316782946698368,-0.011769873090088367,-0.0033423129934817553,0.05834741145372391,0.027492741122841835,-0.03440919518470764,0.08196613937616348,-0.41321104764938354,-0.060829631984233856,0.007937931455671787,-0.016345366835594177],[-0.0696251168847084,0.08263363689184189,-0.6559504866600037,0.12401680648326874,-0.002664018189534545,0.00727506959810853,-0.03215406835079193,1.139642596244812,-0.017160365357995033,-0.031289488077163696,-0.00337963760830462,-0.041115522384643555],[0.04109548404812813,0.5471183061599731,-0.30523690581321716,0.006774038076400757,-0.01115400716662407,-0.05858412757515907,-0.0035517066717147827,0.0029938004445284605,0.047629185020923615,0.023570625111460686,0.07891187816858292,0.04975312575697899]],\"type\":\"heatmap\",\"xaxis\":\"x\",\"yaxis\":\"y\",\"hovertemplate\":\"Head: %{x}\\u003cbr\\u003eLayer: %{y}\\u003cbr\\u003ecolor: %{z}\\u003cextra\\u003e\\u003c\\u002fextra\\u003e\"}],                        {\"template\":{\"data\":{\"histogram2dcontour\":[{\"type\":\"histogram2dcontour\",\"colorbar\":{\"outlinewidth\":0,\"ticks\":\"\"},\"colorscale\":[[0.0,\"#0d0887\"],[0.1111111111111111,\"#46039f\"],[0.2222222222222222,\"#7201a8\"],[0.3333333333333333,\"#9c179e\"],[0.4444444444444444,\"#bd3786\"],[0.5555555555555556,\"#d8576b\"],[0.6666666666666666,\"#ed7953\"],[0.7777777777777778,\"#fb9f3a\"],[0.8888888888888888,\"#fdca26\"],[1.0,\"#f0f921\"]]}],\"choropleth\":[{\"type\":\"choropleth\",\"colorbar\":{\"outlinewidth\":0,\"ticks\":\"\"}}],\"histogram2d\":[{\"type\":\"histogram2d\",\"colorbar\":{\"outlinewidth\":0,\"ticks\":\"\"},\"colorscale\":[[0.0,\"#0d0887\"],[0.1111111111111111,\"#46039f\"],[0.2222222222222222,\"#7201a8\"],[0.3333333333333333,\"#9c179e\"],[0.4444444444444444,\"#bd3786\"],[0.5555555555555556,\"#d8576b\"],[0.6666666666666666,\"#ed7953\"],[0.7777777777777778,\"#fb9f3a\"],[0.8888888888888888,\"#fdca26\"],[1.0,\"#f0f921\"]]}],\"heatmap\":[{\"type\":\"heatmap\",\"colorbar\":{\"outlinewidth\":0,\"ticks\":\"\"},\"colorscale\":[[0.0,\"#0d0887\"],[0.1111111111111111,\"#46039f\"],[0.2222222222222222,\"#7201a8\"],[0.3333333333333333,\"#9c179e\"],[0.4444444444444444,\"#bd3786\"],[0.5555555555555556,\"#d8576b\"],[0.6666666666666666,\"#ed7953\"],[0.7777777777777778,\"#fb9f3a\"],[0.8888888888888888,\"#fdca26\"],[1.0,\"#f0f921\"]]}],\"heatmapgl\":[{\"type\":\"heatmapgl\",\"colorbar\":{\"outlinewidth\":0,\"ticks\":\"\"},\"colorscale\":[[0.0,\"#0d0887\"],[0.1111111111111111,\"#46039f\"],[0.2222222222222222,\"#7201a8\"],[0.3333333333333333,\"#9c179e\"],[0.4444444444444444,\"#bd3786\"],[0.5555555555555556,\"#d8576b\"],[0.6666666666666666,\"#ed7953\"],[0.7777777777777778,\"#fb9f3a\"],[0.8888888888888888,\"#fdca26\"],[1.0,\"#f0f921\"]]}],\"contourcarpet\":[{\"type\":\"contourcarpet\",\"colorbar\":{\"outlinewidth\":0,\"ticks\":\"\"}}],\"contour\":[{\"type\":\"contour\",\"colorbar\":{\"outlinewidth\":0,\"ticks\":\"\"},\"colorscale\":[[0.0,\"#0d0887\"],[0.1111111111111111,\"#46039f\"],[0.2222222222222222,\"#7201a8\"],[0.3333333333333333,\"#9c179e\"],[0.4444444444444444,\"#bd3786\"],[0.5555555555555556,\"#d8576b\"],[0.6666666666666666,\"#ed7953\"],[0.7777777777777778,\"#fb9f3a\"],[0.8888888888888888,\"#fdca26\"],[1.0,\"#f0f921\"]]}],\"surface\":[{\"type\":\"surface\",\"colorbar\":{\"outlinewidth\":0,\"ticks\":\"\"},\"colorscale\":[[0.0,\"#0d0887\"],[0.1111111111111111,\"#46039f\"],[0.2222222222222222,\"#7201a8\"],[0.3333333333333333,\"#9c179e\"],[0.4444444444444444,\"#bd3786\"],[0.5555555555555556,\"#d8576b\"],[0.6666666666666666,\"#ed7953\"],[0.7777777777777778,\"#fb9f3a\"],[0.8888888888888888,\"#fdca26\"],[1.0,\"#f0f921\"]]}],\"mesh3d\":[{\"type\":\"mesh3d\",\"colorbar\":{\"outlinewidth\":0,\"ticks\":\"\"}}],\"scatter\":[{\"fillpattern\":{\"fillmode\":\"overlay\",\"size\":10,\"solidity\":0.2},\"type\":\"scatter\"}],\"parcoords\":[{\"type\":\"parcoords\",\"line\":{\"colorbar\":{\"outlinewidth\":0,\"ticks\":\"\"}}}],\"scatterpolargl\":[{\"type\":\"scatterpolargl\",\"marker\":{\"colorbar\":{\"outlinewidth\":0,\"ticks\":\"\"}}}],\"bar\":[{\"error_x\":{\"color\":\"#2a3f5f\"},\"error_y\":{\"color\":\"#2a3f5f\"},\"marker\":{\"line\":{\"color\":\"#E5ECF6\",\"width\":0.5},\"pattern\":{\"fillmode\":\"overlay\",\"size\":10,\"solidity\":0.2}},\"type\":\"bar\"}],\"scattergeo\":[{\"type\":\"scattergeo\",\"marker\":{\"colorbar\":{\"outlinewidth\":0,\"ticks\":\"\"}}}],\"scatterpolar\":[{\"type\":\"scatterpolar\",\"marker\":{\"colorbar\":{\"outlinewidth\":0,\"ticks\":\"\"}}}],\"histogram\":[{\"marker\":{\"pattern\":{\"fillmode\":\"overlay\",\"size\":10,\"solidity\":0.2}},\"type\":\"histogram\"}],\"scattergl\":[{\"type\":\"scattergl\",\"marker\":{\"colorbar\":{\"outlinewidth\":0,\"ticks\":\"\"}}}],\"scatter3d\":[{\"type\":\"scatter3d\",\"line\":{\"colorbar\":{\"outlinewidth\":0,\"ticks\":\"\"}},\"marker\":{\"colorbar\":{\"outlinewidth\":0,\"ticks\":\"\"}}}],\"scattermapbox\":[{\"type\":\"scattermapbox\",\"marker\":{\"colorbar\":{\"outlinewidth\":0,\"ticks\":\"\"}}}],\"scatterternary\":[{\"type\":\"scatterternary\",\"marker\":{\"colorbar\":{\"outlinewidth\":0,\"ticks\":\"\"}}}],\"scattercarpet\":[{\"type\":\"scattercarpet\",\"marker\":{\"colorbar\":{\"outlinewidth\":0,\"ticks\":\"\"}}}],\"carpet\":[{\"aaxis\":{\"endlinecolor\":\"#2a3f5f\",\"gridcolor\":\"white\",\"linecolor\":\"white\",\"minorgridcolor\":\"white\",\"startlinecolor\":\"#2a3f5f\"},\"baxis\":{\"endlinecolor\":\"#2a3f5f\",\"gridcolor\":\"white\",\"linecolor\":\"white\",\"minorgridcolor\":\"white\",\"startlinecolor\":\"#2a3f5f\"},\"type\":\"carpet\"}],\"table\":[{\"cells\":{\"fill\":{\"color\":\"#EBF0F8\"},\"line\":{\"color\":\"white\"}},\"header\":{\"fill\":{\"color\":\"#C8D4E3\"},\"line\":{\"color\":\"white\"}},\"type\":\"table\"}],\"barpolar\":[{\"marker\":{\"line\":{\"color\":\"#E5ECF6\",\"width\":0.5},\"pattern\":{\"fillmode\":\"overlay\",\"size\":10,\"solidity\":0.2}},\"type\":\"barpolar\"}],\"pie\":[{\"automargin\":true,\"type\":\"pie\"}]},\"layout\":{\"autotypenumbers\":\"strict\",\"colorway\":[\"#636efa\",\"#EF553B\",\"#00cc96\",\"#ab63fa\",\"#FFA15A\",\"#19d3f3\",\"#FF6692\",\"#B6E880\",\"#FF97FF\",\"#FECB52\"],\"font\":{\"color\":\"#2a3f5f\"},\"hovermode\":\"closest\",\"hoverlabel\":{\"align\":\"left\"},\"paper_bgcolor\":\"white\",\"plot_bgcolor\":\"#E5ECF6\",\"polar\":{\"bgcolor\":\"#E5ECF6\",\"angularaxis\":{\"gridcolor\":\"white\",\"linecolor\":\"white\",\"ticks\":\"\"},\"radialaxis\":{\"gridcolor\":\"white\",\"linecolor\":\"white\",\"ticks\":\"\"}},\"ternary\":{\"bgcolor\":\"#E5ECF6\",\"aaxis\":{\"gridcolor\":\"white\",\"linecolor\":\"white\",\"ticks\":\"\"},\"baxis\":{\"gridcolor\":\"white\",\"linecolor\":\"white\",\"ticks\":\"\"},\"caxis\":{\"gridcolor\":\"white\",\"linecolor\":\"white\",\"ticks\":\"\"}},\"coloraxis\":{\"colorbar\":{\"outlinewidth\":0,\"ticks\":\"\"}},\"colorscale\":{\"sequential\":[[0.0,\"#0d0887\"],[0.1111111111111111,\"#46039f\"],[0.2222222222222222,\"#7201a8\"],[0.3333333333333333,\"#9c179e\"],[0.4444444444444444,\"#bd3786\"],[0.5555555555555556,\"#d8576b\"],[0.6666666666666666,\"#ed7953\"],[0.7777777777777778,\"#fb9f3a\"],[0.8888888888888888,\"#fdca26\"],[1.0,\"#f0f921\"]],\"sequentialminus\":[[0.0,\"#0d0887\"],[0.1111111111111111,\"#46039f\"],[0.2222222222222222,\"#7201a8\"],[0.3333333333333333,\"#9c179e\"],[0.4444444444444444,\"#bd3786\"],[0.5555555555555556,\"#d8576b\"],[0.6666666666666666,\"#ed7953\"],[0.7777777777777778,\"#fb9f3a\"],[0.8888888888888888,\"#fdca26\"],[1.0,\"#f0f921\"]],\"diverging\":[[0,\"#8e0152\"],[0.1,\"#c51b7d\"],[0.2,\"#de77ae\"],[0.3,\"#f1b6da\"],[0.4,\"#fde0ef\"],[0.5,\"#f7f7f7\"],[0.6,\"#e6f5d0\"],[0.7,\"#b8e186\"],[0.8,\"#7fbc41\"],[0.9,\"#4d9221\"],[1,\"#276419\"]]},\"xaxis\":{\"gridcolor\":\"white\",\"linecolor\":\"white\",\"ticks\":\"\",\"title\":{\"standoff\":15},\"zerolinecolor\":\"white\",\"automargin\":true,\"zerolinewidth\":2},\"yaxis\":{\"gridcolor\":\"white\",\"linecolor\":\"white\",\"ticks\":\"\",\"title\":{\"standoff\":15},\"zerolinecolor\":\"white\",\"automargin\":true,\"zerolinewidth\":2},\"scene\":{\"xaxis\":{\"backgroundcolor\":\"#E5ECF6\",\"gridcolor\":\"white\",\"linecolor\":\"white\",\"showbackground\":true,\"ticks\":\"\",\"zerolinecolor\":\"white\",\"gridwidth\":2},\"yaxis\":{\"backgroundcolor\":\"#E5ECF6\",\"gridcolor\":\"white\",\"linecolor\":\"white\",\"showbackground\":true,\"ticks\":\"\",\"zerolinecolor\":\"white\",\"gridwidth\":2},\"zaxis\":{\"backgroundcolor\":\"#E5ECF6\",\"gridcolor\":\"white\",\"linecolor\":\"white\",\"showbackground\":true,\"ticks\":\"\",\"zerolinecolor\":\"white\",\"gridwidth\":2}},\"shapedefaults\":{\"line\":{\"color\":\"#2a3f5f\"}},\"annotationdefaults\":{\"arrowcolor\":\"#2a3f5f\",\"arrowhead\":0,\"arrowwidth\":1},\"geo\":{\"bgcolor\":\"white\",\"landcolor\":\"#E5ECF6\",\"subunitcolor\":\"white\",\"showland\":true,\"showlakes\":true,\"lakecolor\":\"white\"},\"title\":{\"x\":0.05},\"mapbox\":{\"style\":\"light\"}}},\"xaxis\":{\"anchor\":\"y\",\"domain\":[0.0,1.0],\"scaleanchor\":\"y\",\"constrain\":\"domain\",\"title\":{\"text\":\"Head\"}},\"yaxis\":{\"anchor\":\"x\",\"domain\":[0.0,1.0],\"autorange\":\"reversed\",\"constrain\":\"domain\",\"title\":{\"text\":\"Layer\"}},\"coloraxis\":{\"colorscale\":[[0.0,\"rgb(103,0,31)\"],[0.1,\"rgb(178,24,43)\"],[0.2,\"rgb(214,96,77)\"],[0.3,\"rgb(244,165,130)\"],[0.4,\"rgb(253,219,199)\"],[0.5,\"rgb(247,247,247)\"],[0.6,\"rgb(209,229,240)\"],[0.7,\"rgb(146,197,222)\"],[0.8,\"rgb(67,147,195)\"],[0.9,\"rgb(33,102,172)\"],[1.0,\"rgb(5,48,97)\"]],\"cmid\":0.0},\"title\":{\"text\":\"Ablated Average Logit Difference From Heads \\u003cbr\\u003e [(11, 10), (9, 9), (9, 6), (8, 10), (7, 3), (7, 9), (10, 10), (10, 0), (10, 6), (8, 6)]\"},\"width\":600},                        {\"responsive\": true}                    ).then(function(){\n",
       "                            \n",
       "var gd = document.getElementById('ad433891-db6d-4e1d-ab43-08cee5e83c8c');\n",
       "var x = new MutationObserver(function (mutations, observer) {{\n",
       "        var display = window.getComputedStyle(gd).display;\n",
       "        if (!display || display === 'none') {{\n",
       "            console.log([gd, 'removed!']);\n",
       "            Plotly.purge(gd);\n",
       "            observer.disconnect();\n",
       "        }}\n",
       "}});\n",
       "\n",
       "// Listen for the removal of the full notebook cells\n",
       "var notebookContainer = gd.closest('#notebook-container');\n",
       "if (notebookContainer) {{\n",
       "    x.observe(notebookContainer, {childList: true});\n",
       "}}\n",
       "\n",
       "// Listen for the clearing of the current output cell\n",
       "var outputEl = gd.closest('.output');\n",
       "if (outputEl) {{\n",
       "    x.observe(outputEl, {childList: true});\n",
       "}}\n",
       "\n",
       "                        })                };                });            </script>        </div>"
      ]
     },
     "metadata": {},
     "output_type": "display_data"
    },
    {
     "data": {
      "text/html": [
       "<div>                            <div id=\"e67338d2-4554-42e8-85c0-7919270e89af\" class=\"plotly-graph-div\" style=\"height:525px; width:600px;\"></div>            <script type=\"text/javascript\">                require([\"plotly\"], function(Plotly) {                    window.PLOTLYENV=window.PLOTLYENV || {};                                    if (document.getElementById(\"e67338d2-4554-42e8-85c0-7919270e89af\")) {                    Plotly.newPlot(                        \"e67338d2-4554-42e8-85c0-7919270e89af\",                        [{\"coloraxis\":\"coloraxis\",\"name\":\"0\",\"texttemplate\":\"%{z:.2f}\",\"z\":[[-0.012587599456310272,-0.008707022294402122,0.005496960133314133,0.009066679514944553,-0.014161981642246246,0.007981041446328163,0.032760195434093475,-0.01725582405924797,-0.023238414898514748,0.0191788412630558,-0.0036493323277682066,-0.01283339224755764],[-0.012414129450917244,0.006029749754816294,-0.015622218139469624,-0.0019299930427223444,-0.02565990388393402,-0.01369099784642458,-0.03193824365735054,0.027271931990981102,0.007085434626787901,0.011028319597244263,0.03534867614507675,0.02832869254052639],[-0.022019311785697937,-0.002477796282619238,-0.00840079877525568,-0.021309226751327515,0.022436337545514107,0.006196265574544668,0.011844795197248459,0.01709177903831005,-0.004448120482265949,-0.009611861780285835,-0.01889081299304962,-0.00256171147339046],[-0.005606607533991337,0.0069856783375144005,0.00390072725713253,0.00904958974570036,0.009686567820608616,-0.005670401733368635,-0.0011112551437690854,-0.015285458415746689,0.001193434582091868,-0.0038326370995491743,-0.015792975202202797,-0.03436822071671486],[-0.003241002094000578,-0.006664209999144077,0.004931238014250994,-0.02135671116411686,0.010720598511397839,-0.006931228097528219,-0.023570239543914795,0.024328073486685753,-0.020469905808568,-0.009040585719048977,0.01349125150591135,6.487355858553201e-05],[0.00331550813280046,0.018432343378663063,-0.044001102447509766,-0.007102218922227621,-0.010503294877707958,0.003782103769481182,0.0013763024471700191,0.01071483176201582,-0.006912781856954098,0.0018515478586778045,0.0024033216759562492,-0.002126488834619522],[0.005057328846305609,-0.008128868415951729,-0.006603659596294165,-0.02622266300022602,-0.034326184540987015,0.007707747630774975,0.020266154780983925,0.007494191639125347,0.007481206674128771,0.013482281006872654,0.004751324187964201,-0.020062211900949478],[0.007763173431158066,-0.0022502539213746786,0.01266175415366888,0.05078582838177681,-0.009018638171255589,-0.04066961258649826,0.02915167436003685,-0.0017908820882439613,0.030133703723549843,0.1113838329911232,0.011122954078018665,0.013020511716604233],[-0.012124530971050262,0.005304756108671427,-0.07107114791870117,0.06783074885606766,-0.021657679229974747,-0.0036437511444091797,-0.12489873915910721,0.017562109977006912,-0.029328731819987297,0.013222883455455303,0.34192168712615967,-0.09777762740850449],[0.033235933631658554,0.00026674705441109836,0.012995784170925617,-0.0008244135533459485,0.03404054418206215,0.01652575097978115,0.8987456560134888,0.04533424228429794,-0.39637088775634766,2.583056688308716,0.008860526606440544,-0.010974772274494171],[0.5067569613456726,0.2601747512817383,-0.3756621181964874,0.15657362341880798,0.0017974417423829436,0.005369622725993395,0.43625780940055847,-1.644024133682251,-0.014223705977201462,-0.03218573331832886,0.41088083386421204,-0.01565106213092804],[0.024961218237876892,0.2510843276977539,-0.4863058030605316,0.0680048018693924,-0.008186054416000843,-0.04012351110577583,-0.08524344116449356,0.002349080052226782,0.05193667113780975,-0.00527143245562911,-0.7564656734466553,0.0999482050538063]],\"type\":\"heatmap\",\"xaxis\":\"x\",\"yaxis\":\"y\",\"hovertemplate\":\"Head: %{x}\\u003cbr\\u003eLayer: %{y}\\u003cbr\\u003ecolor: %{z}\\u003cextra\\u003e\\u003c\\u002fextra\\u003e\"}],                        {\"template\":{\"data\":{\"histogram2dcontour\":[{\"type\":\"histogram2dcontour\",\"colorbar\":{\"outlinewidth\":0,\"ticks\":\"\"},\"colorscale\":[[0.0,\"#0d0887\"],[0.1111111111111111,\"#46039f\"],[0.2222222222222222,\"#7201a8\"],[0.3333333333333333,\"#9c179e\"],[0.4444444444444444,\"#bd3786\"],[0.5555555555555556,\"#d8576b\"],[0.6666666666666666,\"#ed7953\"],[0.7777777777777778,\"#fb9f3a\"],[0.8888888888888888,\"#fdca26\"],[1.0,\"#f0f921\"]]}],\"choropleth\":[{\"type\":\"choropleth\",\"colorbar\":{\"outlinewidth\":0,\"ticks\":\"\"}}],\"histogram2d\":[{\"type\":\"histogram2d\",\"colorbar\":{\"outlinewidth\":0,\"ticks\":\"\"},\"colorscale\":[[0.0,\"#0d0887\"],[0.1111111111111111,\"#46039f\"],[0.2222222222222222,\"#7201a8\"],[0.3333333333333333,\"#9c179e\"],[0.4444444444444444,\"#bd3786\"],[0.5555555555555556,\"#d8576b\"],[0.6666666666666666,\"#ed7953\"],[0.7777777777777778,\"#fb9f3a\"],[0.8888888888888888,\"#fdca26\"],[1.0,\"#f0f921\"]]}],\"heatmap\":[{\"type\":\"heatmap\",\"colorbar\":{\"outlinewidth\":0,\"ticks\":\"\"},\"colorscale\":[[0.0,\"#0d0887\"],[0.1111111111111111,\"#46039f\"],[0.2222222222222222,\"#7201a8\"],[0.3333333333333333,\"#9c179e\"],[0.4444444444444444,\"#bd3786\"],[0.5555555555555556,\"#d8576b\"],[0.6666666666666666,\"#ed7953\"],[0.7777777777777778,\"#fb9f3a\"],[0.8888888888888888,\"#fdca26\"],[1.0,\"#f0f921\"]]}],\"heatmapgl\":[{\"type\":\"heatmapgl\",\"colorbar\":{\"outlinewidth\":0,\"ticks\":\"\"},\"colorscale\":[[0.0,\"#0d0887\"],[0.1111111111111111,\"#46039f\"],[0.2222222222222222,\"#7201a8\"],[0.3333333333333333,\"#9c179e\"],[0.4444444444444444,\"#bd3786\"],[0.5555555555555556,\"#d8576b\"],[0.6666666666666666,\"#ed7953\"],[0.7777777777777778,\"#fb9f3a\"],[0.8888888888888888,\"#fdca26\"],[1.0,\"#f0f921\"]]}],\"contourcarpet\":[{\"type\":\"contourcarpet\",\"colorbar\":{\"outlinewidth\":0,\"ticks\":\"\"}}],\"contour\":[{\"type\":\"contour\",\"colorbar\":{\"outlinewidth\":0,\"ticks\":\"\"},\"colorscale\":[[0.0,\"#0d0887\"],[0.1111111111111111,\"#46039f\"],[0.2222222222222222,\"#7201a8\"],[0.3333333333333333,\"#9c179e\"],[0.4444444444444444,\"#bd3786\"],[0.5555555555555556,\"#d8576b\"],[0.6666666666666666,\"#ed7953\"],[0.7777777777777778,\"#fb9f3a\"],[0.8888888888888888,\"#fdca26\"],[1.0,\"#f0f921\"]]}],\"surface\":[{\"type\":\"surface\",\"colorbar\":{\"outlinewidth\":0,\"ticks\":\"\"},\"colorscale\":[[0.0,\"#0d0887\"],[0.1111111111111111,\"#46039f\"],[0.2222222222222222,\"#7201a8\"],[0.3333333333333333,\"#9c179e\"],[0.4444444444444444,\"#bd3786\"],[0.5555555555555556,\"#d8576b\"],[0.6666666666666666,\"#ed7953\"],[0.7777777777777778,\"#fb9f3a\"],[0.8888888888888888,\"#fdca26\"],[1.0,\"#f0f921\"]]}],\"mesh3d\":[{\"type\":\"mesh3d\",\"colorbar\":{\"outlinewidth\":0,\"ticks\":\"\"}}],\"scatter\":[{\"fillpattern\":{\"fillmode\":\"overlay\",\"size\":10,\"solidity\":0.2},\"type\":\"scatter\"}],\"parcoords\":[{\"type\":\"parcoords\",\"line\":{\"colorbar\":{\"outlinewidth\":0,\"ticks\":\"\"}}}],\"scatterpolargl\":[{\"type\":\"scatterpolargl\",\"marker\":{\"colorbar\":{\"outlinewidth\":0,\"ticks\":\"\"}}}],\"bar\":[{\"error_x\":{\"color\":\"#2a3f5f\"},\"error_y\":{\"color\":\"#2a3f5f\"},\"marker\":{\"line\":{\"color\":\"#E5ECF6\",\"width\":0.5},\"pattern\":{\"fillmode\":\"overlay\",\"size\":10,\"solidity\":0.2}},\"type\":\"bar\"}],\"scattergeo\":[{\"type\":\"scattergeo\",\"marker\":{\"colorbar\":{\"outlinewidth\":0,\"ticks\":\"\"}}}],\"scatterpolar\":[{\"type\":\"scatterpolar\",\"marker\":{\"colorbar\":{\"outlinewidth\":0,\"ticks\":\"\"}}}],\"histogram\":[{\"marker\":{\"pattern\":{\"fillmode\":\"overlay\",\"size\":10,\"solidity\":0.2}},\"type\":\"histogram\"}],\"scattergl\":[{\"type\":\"scattergl\",\"marker\":{\"colorbar\":{\"outlinewidth\":0,\"ticks\":\"\"}}}],\"scatter3d\":[{\"type\":\"scatter3d\",\"line\":{\"colorbar\":{\"outlinewidth\":0,\"ticks\":\"\"}},\"marker\":{\"colorbar\":{\"outlinewidth\":0,\"ticks\":\"\"}}}],\"scattermapbox\":[{\"type\":\"scattermapbox\",\"marker\":{\"colorbar\":{\"outlinewidth\":0,\"ticks\":\"\"}}}],\"scatterternary\":[{\"type\":\"scatterternary\",\"marker\":{\"colorbar\":{\"outlinewidth\":0,\"ticks\":\"\"}}}],\"scattercarpet\":[{\"type\":\"scattercarpet\",\"marker\":{\"colorbar\":{\"outlinewidth\":0,\"ticks\":\"\"}}}],\"carpet\":[{\"aaxis\":{\"endlinecolor\":\"#2a3f5f\",\"gridcolor\":\"white\",\"linecolor\":\"white\",\"minorgridcolor\":\"white\",\"startlinecolor\":\"#2a3f5f\"},\"baxis\":{\"endlinecolor\":\"#2a3f5f\",\"gridcolor\":\"white\",\"linecolor\":\"white\",\"minorgridcolor\":\"white\",\"startlinecolor\":\"#2a3f5f\"},\"type\":\"carpet\"}],\"table\":[{\"cells\":{\"fill\":{\"color\":\"#EBF0F8\"},\"line\":{\"color\":\"white\"}},\"header\":{\"fill\":{\"color\":\"#C8D4E3\"},\"line\":{\"color\":\"white\"}},\"type\":\"table\"}],\"barpolar\":[{\"marker\":{\"line\":{\"color\":\"#E5ECF6\",\"width\":0.5},\"pattern\":{\"fillmode\":\"overlay\",\"size\":10,\"solidity\":0.2}},\"type\":\"barpolar\"}],\"pie\":[{\"automargin\":true,\"type\":\"pie\"}]},\"layout\":{\"autotypenumbers\":\"strict\",\"colorway\":[\"#636efa\",\"#EF553B\",\"#00cc96\",\"#ab63fa\",\"#FFA15A\",\"#19d3f3\",\"#FF6692\",\"#B6E880\",\"#FF97FF\",\"#FECB52\"],\"font\":{\"color\":\"#2a3f5f\"},\"hovermode\":\"closest\",\"hoverlabel\":{\"align\":\"left\"},\"paper_bgcolor\":\"white\",\"plot_bgcolor\":\"#E5ECF6\",\"polar\":{\"bgcolor\":\"#E5ECF6\",\"angularaxis\":{\"gridcolor\":\"white\",\"linecolor\":\"white\",\"ticks\":\"\"},\"radialaxis\":{\"gridcolor\":\"white\",\"linecolor\":\"white\",\"ticks\":\"\"}},\"ternary\":{\"bgcolor\":\"#E5ECF6\",\"aaxis\":{\"gridcolor\":\"white\",\"linecolor\":\"white\",\"ticks\":\"\"},\"baxis\":{\"gridcolor\":\"white\",\"linecolor\":\"white\",\"ticks\":\"\"},\"caxis\":{\"gridcolor\":\"white\",\"linecolor\":\"white\",\"ticks\":\"\"}},\"coloraxis\":{\"colorbar\":{\"outlinewidth\":0,\"ticks\":\"\"}},\"colorscale\":{\"sequential\":[[0.0,\"#0d0887\"],[0.1111111111111111,\"#46039f\"],[0.2222222222222222,\"#7201a8\"],[0.3333333333333333,\"#9c179e\"],[0.4444444444444444,\"#bd3786\"],[0.5555555555555556,\"#d8576b\"],[0.6666666666666666,\"#ed7953\"],[0.7777777777777778,\"#fb9f3a\"],[0.8888888888888888,\"#fdca26\"],[1.0,\"#f0f921\"]],\"sequentialminus\":[[0.0,\"#0d0887\"],[0.1111111111111111,\"#46039f\"],[0.2222222222222222,\"#7201a8\"],[0.3333333333333333,\"#9c179e\"],[0.4444444444444444,\"#bd3786\"],[0.5555555555555556,\"#d8576b\"],[0.6666666666666666,\"#ed7953\"],[0.7777777777777778,\"#fb9f3a\"],[0.8888888888888888,\"#fdca26\"],[1.0,\"#f0f921\"]],\"diverging\":[[0,\"#8e0152\"],[0.1,\"#c51b7d\"],[0.2,\"#de77ae\"],[0.3,\"#f1b6da\"],[0.4,\"#fde0ef\"],[0.5,\"#f7f7f7\"],[0.6,\"#e6f5d0\"],[0.7,\"#b8e186\"],[0.8,\"#7fbc41\"],[0.9,\"#4d9221\"],[1,\"#276419\"]]},\"xaxis\":{\"gridcolor\":\"white\",\"linecolor\":\"white\",\"ticks\":\"\",\"title\":{\"standoff\":15},\"zerolinecolor\":\"white\",\"automargin\":true,\"zerolinewidth\":2},\"yaxis\":{\"gridcolor\":\"white\",\"linecolor\":\"white\",\"ticks\":\"\",\"title\":{\"standoff\":15},\"zerolinecolor\":\"white\",\"automargin\":true,\"zerolinewidth\":2},\"scene\":{\"xaxis\":{\"backgroundcolor\":\"#E5ECF6\",\"gridcolor\":\"white\",\"linecolor\":\"white\",\"showbackground\":true,\"ticks\":\"\",\"zerolinecolor\":\"white\",\"gridwidth\":2},\"yaxis\":{\"backgroundcolor\":\"#E5ECF6\",\"gridcolor\":\"white\",\"linecolor\":\"white\",\"showbackground\":true,\"ticks\":\"\",\"zerolinecolor\":\"white\",\"gridwidth\":2},\"zaxis\":{\"backgroundcolor\":\"#E5ECF6\",\"gridcolor\":\"white\",\"linecolor\":\"white\",\"showbackground\":true,\"ticks\":\"\",\"zerolinecolor\":\"white\",\"gridwidth\":2}},\"shapedefaults\":{\"line\":{\"color\":\"#2a3f5f\"}},\"annotationdefaults\":{\"arrowcolor\":\"#2a3f5f\",\"arrowhead\":0,\"arrowwidth\":1},\"geo\":{\"bgcolor\":\"white\",\"landcolor\":\"#E5ECF6\",\"subunitcolor\":\"white\",\"showland\":true,\"showlakes\":true,\"lakecolor\":\"white\"},\"title\":{\"x\":0.05},\"mapbox\":{\"style\":\"light\"}}},\"xaxis\":{\"anchor\":\"y\",\"domain\":[0.0,1.0],\"scaleanchor\":\"y\",\"constrain\":\"domain\",\"title\":{\"text\":\"Head\"}},\"yaxis\":{\"anchor\":\"x\",\"domain\":[0.0,1.0],\"autorange\":\"reversed\",\"constrain\":\"domain\",\"title\":{\"text\":\"Layer\"}},\"coloraxis\":{\"colorscale\":[[0.0,\"rgb(103,0,31)\"],[0.1,\"rgb(178,24,43)\"],[0.2,\"rgb(214,96,77)\"],[0.3,\"rgb(244,165,130)\"],[0.4,\"rgb(253,219,199)\"],[0.5,\"rgb(247,247,247)\"],[0.6,\"rgb(209,229,240)\"],[0.7,\"rgb(146,197,222)\"],[0.8,\"rgb(67,147,195)\"],[0.9,\"rgb(33,102,172)\"],[1.0,\"rgb(5,48,97)\"]],\"cmid\":0.0},\"title\":{\"text\":\"Unablated Average Logit Difference From Each Head\"},\"width\":600},                        {\"responsive\": true}                    ).then(function(){\n",
       "                            \n",
       "var gd = document.getElementById('e67338d2-4554-42e8-85c0-7919270e89af');\n",
       "var x = new MutationObserver(function (mutations, observer) {{\n",
       "        var display = window.getComputedStyle(gd).display;\n",
       "        if (!display || display === 'none') {{\n",
       "            console.log([gd, 'removed!']);\n",
       "            Plotly.purge(gd);\n",
       "            observer.disconnect();\n",
       "        }}\n",
       "}});\n",
       "\n",
       "// Listen for the removal of the full notebook cells\n",
       "var notebookContainer = gd.closest('#notebook-container');\n",
       "if (notebookContainer) {{\n",
       "    x.observe(notebookContainer, {childList: true});\n",
       "}}\n",
       "\n",
       "// Listen for the clearing of the current output cell\n",
       "var outputEl = gd.closest('.output');\n",
       "if (outputEl) {{\n",
       "    x.observe(outputEl, {childList: true});\n",
       "}}\n",
       "\n",
       "                        })                };                });            </script>        </div>"
      ]
     },
     "metadata": {},
     "output_type": "display_data"
    },
    {
     "name": "stdout",
     "output_type": "stream",
     "text": [
      "Logit difference accuracy:  1.000\n",
      "Average logit difference: 3.416\n",
      "Logit difference accuracy:  0.545\n",
      "Average logit difference: 0.732\n"
     ]
    },
    {
     "data": {
      "text/html": [
       "<div>                            <div id=\"a758a7e8-5abb-4e96-b866-712b3217ac37\" class=\"plotly-graph-div\" style=\"height:525px; width:600px;\"></div>            <script type=\"text/javascript\">                require([\"plotly\"], function(Plotly) {                    window.PLOTLYENV=window.PLOTLYENV || {};                                    if (document.getElementById(\"a758a7e8-5abb-4e96-b866-712b3217ac37\")) {                    Plotly.newPlot(                        \"a758a7e8-5abb-4e96-b866-712b3217ac37\",                        [{\"coloraxis\":\"coloraxis\",\"name\":\"0\",\"texttemplate\":\"%{z:.2f}\",\"z\":[[0.00700243329629302,0.009112963452935219,-0.006557907909154892,-0.010323862545192242,0.013393138535320759,-0.008607198484241962,-0.046242326498031616,0.010361215099692345,0.023921296000480652,-0.01988041214644909,0.0027907826006412506,0.011568447574973106],[0.01239539310336113,-0.005885798949748278,0.01742258109152317,0.003573097987100482,0.021758055314421654,0.014419510029256344,0.028863584622740746,-0.03764443099498749,-0.0009209811687469482,-0.008009967394173145,-0.0366985909640789,-0.026690535247325897],[0.021784916520118713,0.00037883222103118896,0.007368560880422592,0.021819191053509712,-0.024840766564011574,-0.004428479820489883,-0.008859601803123951,-0.01021664123982191,0.0055915070697665215,0.006093805655837059,0.01653658039867878,0.004058241844177246],[0.005528650246560574,-0.007890420034527779,-0.0028198091313242912,-0.009512070566415787,-0.009343021549284458,0.0034098688047379255,-3.892843960784376e-05,0.014578370377421379,-5.8347701269667596e-05,0.0050217267125844955,0.013521235436201096,0.0344742052257061],[0.001161777414381504,0.007108420133590698,-0.006974569987505674,0.020482609048485756,-0.00893607921898365,0.006946822628378868,0.02307463251054287,-0.027232937514781952,0.020168427377939224,0.007540389895439148,-0.01333672646433115,0.000858053273987025],[-0.0024340939708054066,-0.01934218779206276,0.04639960080385208,0.004725935403257608,0.010392810218036175,-0.0047225370071828365,-0.0017077869269996881,-0.010032841004431248,0.009173600934445858,-0.004568977747112513,-0.011183163151144981,0.006269483361393213],[-0.015765447169542313,-0.0028399042785167694,0.011643732897937298,0.027406053617596626,0.02705216407775879,-0.0043648346327245235,-0.015273511409759521,-0.012644450180232525,-0.008884690701961517,-0.01794734224677086,-0.00606768112629652,0.022314123809337616],[-0.008607670664787292,-0.0035406402312219143,-0.014483451843261719,0.026743225753307343,0.006222712807357311,0.023020854219794273,-0.026701686903834343,-0.0011772200232371688,-0.0387844555079937,0.01372210867702961,-0.014127485454082489,-0.018569856882095337],[0.01343697588890791,-0.007596532814204693,0.039039917290210724,-0.06056836619973183,0.025794094428420067,0.008677855134010315,0.005688682198524475,-0.017506912350654602,-0.003943286836147308,-0.004608533810824156,0.003461298765614629,0.0644979253411293],[-0.03054024837911129,-0.0008062149863690138,-0.019220363348722458,0.0041276016272604465,-0.07823197543621063,0.08228310942649841,0.01745573803782463,0.13012880086898804,0.2267816960811615,0.043569423258304596,-0.009038508869707584,-0.011925148777663708],[-0.0018375704530626535,-0.13163697719573975,0.468192458152771,-0.18219201266765594,-0.012073682621121407,-0.007134443148970604,0.011678113602101803,0.4885896146297455,0.017443550750613213,0.012067788280546665,-0.030884593725204468,-0.029496215283870697],[0.04219459742307663,-0.4465787410736084,0.05387348681688309,0.00011040677054552361,0.018651440739631653,0.06240358203649521,0.029116377234458923,0.02372913993895054,-0.01831747591495514,-0.010560247115790844,0.017715049907565117,-0.05562581494450569]],\"type\":\"heatmap\",\"xaxis\":\"x\",\"yaxis\":\"y\",\"hovertemplate\":\"Head: %{x}\\u003cbr\\u003eLayer: %{y}\\u003cbr\\u003ecolor: %{z}\\u003cextra\\u003e\\u003c\\u002fextra\\u003e\"}],                        {\"template\":{\"data\":{\"histogram2dcontour\":[{\"type\":\"histogram2dcontour\",\"colorbar\":{\"outlinewidth\":0,\"ticks\":\"\"},\"colorscale\":[[0.0,\"#0d0887\"],[0.1111111111111111,\"#46039f\"],[0.2222222222222222,\"#7201a8\"],[0.3333333333333333,\"#9c179e\"],[0.4444444444444444,\"#bd3786\"],[0.5555555555555556,\"#d8576b\"],[0.6666666666666666,\"#ed7953\"],[0.7777777777777778,\"#fb9f3a\"],[0.8888888888888888,\"#fdca26\"],[1.0,\"#f0f921\"]]}],\"choropleth\":[{\"type\":\"choropleth\",\"colorbar\":{\"outlinewidth\":0,\"ticks\":\"\"}}],\"histogram2d\":[{\"type\":\"histogram2d\",\"colorbar\":{\"outlinewidth\":0,\"ticks\":\"\"},\"colorscale\":[[0.0,\"#0d0887\"],[0.1111111111111111,\"#46039f\"],[0.2222222222222222,\"#7201a8\"],[0.3333333333333333,\"#9c179e\"],[0.4444444444444444,\"#bd3786\"],[0.5555555555555556,\"#d8576b\"],[0.6666666666666666,\"#ed7953\"],[0.7777777777777778,\"#fb9f3a\"],[0.8888888888888888,\"#fdca26\"],[1.0,\"#f0f921\"]]}],\"heatmap\":[{\"type\":\"heatmap\",\"colorbar\":{\"outlinewidth\":0,\"ticks\":\"\"},\"colorscale\":[[0.0,\"#0d0887\"],[0.1111111111111111,\"#46039f\"],[0.2222222222222222,\"#7201a8\"],[0.3333333333333333,\"#9c179e\"],[0.4444444444444444,\"#bd3786\"],[0.5555555555555556,\"#d8576b\"],[0.6666666666666666,\"#ed7953\"],[0.7777777777777778,\"#fb9f3a\"],[0.8888888888888888,\"#fdca26\"],[1.0,\"#f0f921\"]]}],\"heatmapgl\":[{\"type\":\"heatmapgl\",\"colorbar\":{\"outlinewidth\":0,\"ticks\":\"\"},\"colorscale\":[[0.0,\"#0d0887\"],[0.1111111111111111,\"#46039f\"],[0.2222222222222222,\"#7201a8\"],[0.3333333333333333,\"#9c179e\"],[0.4444444444444444,\"#bd3786\"],[0.5555555555555556,\"#d8576b\"],[0.6666666666666666,\"#ed7953\"],[0.7777777777777778,\"#fb9f3a\"],[0.8888888888888888,\"#fdca26\"],[1.0,\"#f0f921\"]]}],\"contourcarpet\":[{\"type\":\"contourcarpet\",\"colorbar\":{\"outlinewidth\":0,\"ticks\":\"\"}}],\"contour\":[{\"type\":\"contour\",\"colorbar\":{\"outlinewidth\":0,\"ticks\":\"\"},\"colorscale\":[[0.0,\"#0d0887\"],[0.1111111111111111,\"#46039f\"],[0.2222222222222222,\"#7201a8\"],[0.3333333333333333,\"#9c179e\"],[0.4444444444444444,\"#bd3786\"],[0.5555555555555556,\"#d8576b\"],[0.6666666666666666,\"#ed7953\"],[0.7777777777777778,\"#fb9f3a\"],[0.8888888888888888,\"#fdca26\"],[1.0,\"#f0f921\"]]}],\"surface\":[{\"type\":\"surface\",\"colorbar\":{\"outlinewidth\":0,\"ticks\":\"\"},\"colorscale\":[[0.0,\"#0d0887\"],[0.1111111111111111,\"#46039f\"],[0.2222222222222222,\"#7201a8\"],[0.3333333333333333,\"#9c179e\"],[0.4444444444444444,\"#bd3786\"],[0.5555555555555556,\"#d8576b\"],[0.6666666666666666,\"#ed7953\"],[0.7777777777777778,\"#fb9f3a\"],[0.8888888888888888,\"#fdca26\"],[1.0,\"#f0f921\"]]}],\"mesh3d\":[{\"type\":\"mesh3d\",\"colorbar\":{\"outlinewidth\":0,\"ticks\":\"\"}}],\"scatter\":[{\"fillpattern\":{\"fillmode\":\"overlay\",\"size\":10,\"solidity\":0.2},\"type\":\"scatter\"}],\"parcoords\":[{\"type\":\"parcoords\",\"line\":{\"colorbar\":{\"outlinewidth\":0,\"ticks\":\"\"}}}],\"scatterpolargl\":[{\"type\":\"scatterpolargl\",\"marker\":{\"colorbar\":{\"outlinewidth\":0,\"ticks\":\"\"}}}],\"bar\":[{\"error_x\":{\"color\":\"#2a3f5f\"},\"error_y\":{\"color\":\"#2a3f5f\"},\"marker\":{\"line\":{\"color\":\"#E5ECF6\",\"width\":0.5},\"pattern\":{\"fillmode\":\"overlay\",\"size\":10,\"solidity\":0.2}},\"type\":\"bar\"}],\"scattergeo\":[{\"type\":\"scattergeo\",\"marker\":{\"colorbar\":{\"outlinewidth\":0,\"ticks\":\"\"}}}],\"scatterpolar\":[{\"type\":\"scatterpolar\",\"marker\":{\"colorbar\":{\"outlinewidth\":0,\"ticks\":\"\"}}}],\"histogram\":[{\"marker\":{\"pattern\":{\"fillmode\":\"overlay\",\"size\":10,\"solidity\":0.2}},\"type\":\"histogram\"}],\"scattergl\":[{\"type\":\"scattergl\",\"marker\":{\"colorbar\":{\"outlinewidth\":0,\"ticks\":\"\"}}}],\"scatter3d\":[{\"type\":\"scatter3d\",\"line\":{\"colorbar\":{\"outlinewidth\":0,\"ticks\":\"\"}},\"marker\":{\"colorbar\":{\"outlinewidth\":0,\"ticks\":\"\"}}}],\"scattermapbox\":[{\"type\":\"scattermapbox\",\"marker\":{\"colorbar\":{\"outlinewidth\":0,\"ticks\":\"\"}}}],\"scatterternary\":[{\"type\":\"scatterternary\",\"marker\":{\"colorbar\":{\"outlinewidth\":0,\"ticks\":\"\"}}}],\"scattercarpet\":[{\"type\":\"scattercarpet\",\"marker\":{\"colorbar\":{\"outlinewidth\":0,\"ticks\":\"\"}}}],\"carpet\":[{\"aaxis\":{\"endlinecolor\":\"#2a3f5f\",\"gridcolor\":\"white\",\"linecolor\":\"white\",\"minorgridcolor\":\"white\",\"startlinecolor\":\"#2a3f5f\"},\"baxis\":{\"endlinecolor\":\"#2a3f5f\",\"gridcolor\":\"white\",\"linecolor\":\"white\",\"minorgridcolor\":\"white\",\"startlinecolor\":\"#2a3f5f\"},\"type\":\"carpet\"}],\"table\":[{\"cells\":{\"fill\":{\"color\":\"#EBF0F8\"},\"line\":{\"color\":\"white\"}},\"header\":{\"fill\":{\"color\":\"#C8D4E3\"},\"line\":{\"color\":\"white\"}},\"type\":\"table\"}],\"barpolar\":[{\"marker\":{\"line\":{\"color\":\"#E5ECF6\",\"width\":0.5},\"pattern\":{\"fillmode\":\"overlay\",\"size\":10,\"solidity\":0.2}},\"type\":\"barpolar\"}],\"pie\":[{\"automargin\":true,\"type\":\"pie\"}]},\"layout\":{\"autotypenumbers\":\"strict\",\"colorway\":[\"#636efa\",\"#EF553B\",\"#00cc96\",\"#ab63fa\",\"#FFA15A\",\"#19d3f3\",\"#FF6692\",\"#B6E880\",\"#FF97FF\",\"#FECB52\"],\"font\":{\"color\":\"#2a3f5f\"},\"hovermode\":\"closest\",\"hoverlabel\":{\"align\":\"left\"},\"paper_bgcolor\":\"white\",\"plot_bgcolor\":\"#E5ECF6\",\"polar\":{\"bgcolor\":\"#E5ECF6\",\"angularaxis\":{\"gridcolor\":\"white\",\"linecolor\":\"white\",\"ticks\":\"\"},\"radialaxis\":{\"gridcolor\":\"white\",\"linecolor\":\"white\",\"ticks\":\"\"}},\"ternary\":{\"bgcolor\":\"#E5ECF6\",\"aaxis\":{\"gridcolor\":\"white\",\"linecolor\":\"white\",\"ticks\":\"\"},\"baxis\":{\"gridcolor\":\"white\",\"linecolor\":\"white\",\"ticks\":\"\"},\"caxis\":{\"gridcolor\":\"white\",\"linecolor\":\"white\",\"ticks\":\"\"}},\"coloraxis\":{\"colorbar\":{\"outlinewidth\":0,\"ticks\":\"\"}},\"colorscale\":{\"sequential\":[[0.0,\"#0d0887\"],[0.1111111111111111,\"#46039f\"],[0.2222222222222222,\"#7201a8\"],[0.3333333333333333,\"#9c179e\"],[0.4444444444444444,\"#bd3786\"],[0.5555555555555556,\"#d8576b\"],[0.6666666666666666,\"#ed7953\"],[0.7777777777777778,\"#fb9f3a\"],[0.8888888888888888,\"#fdca26\"],[1.0,\"#f0f921\"]],\"sequentialminus\":[[0.0,\"#0d0887\"],[0.1111111111111111,\"#46039f\"],[0.2222222222222222,\"#7201a8\"],[0.3333333333333333,\"#9c179e\"],[0.4444444444444444,\"#bd3786\"],[0.5555555555555556,\"#d8576b\"],[0.6666666666666666,\"#ed7953\"],[0.7777777777777778,\"#fb9f3a\"],[0.8888888888888888,\"#fdca26\"],[1.0,\"#f0f921\"]],\"diverging\":[[0,\"#8e0152\"],[0.1,\"#c51b7d\"],[0.2,\"#de77ae\"],[0.3,\"#f1b6da\"],[0.4,\"#fde0ef\"],[0.5,\"#f7f7f7\"],[0.6,\"#e6f5d0\"],[0.7,\"#b8e186\"],[0.8,\"#7fbc41\"],[0.9,\"#4d9221\"],[1,\"#276419\"]]},\"xaxis\":{\"gridcolor\":\"white\",\"linecolor\":\"white\",\"ticks\":\"\",\"title\":{\"standoff\":15},\"zerolinecolor\":\"white\",\"automargin\":true,\"zerolinewidth\":2},\"yaxis\":{\"gridcolor\":\"white\",\"linecolor\":\"white\",\"ticks\":\"\",\"title\":{\"standoff\":15},\"zerolinecolor\":\"white\",\"automargin\":true,\"zerolinewidth\":2},\"scene\":{\"xaxis\":{\"backgroundcolor\":\"#E5ECF6\",\"gridcolor\":\"white\",\"linecolor\":\"white\",\"showbackground\":true,\"ticks\":\"\",\"zerolinecolor\":\"white\",\"gridwidth\":2},\"yaxis\":{\"backgroundcolor\":\"#E5ECF6\",\"gridcolor\":\"white\",\"linecolor\":\"white\",\"showbackground\":true,\"ticks\":\"\",\"zerolinecolor\":\"white\",\"gridwidth\":2},\"zaxis\":{\"backgroundcolor\":\"#E5ECF6\",\"gridcolor\":\"white\",\"linecolor\":\"white\",\"showbackground\":true,\"ticks\":\"\",\"zerolinecolor\":\"white\",\"gridwidth\":2}},\"shapedefaults\":{\"line\":{\"color\":\"#2a3f5f\"}},\"annotationdefaults\":{\"arrowcolor\":\"#2a3f5f\",\"arrowhead\":0,\"arrowwidth\":1},\"geo\":{\"bgcolor\":\"white\",\"landcolor\":\"#E5ECF6\",\"subunitcolor\":\"white\",\"showland\":true,\"showlakes\":true,\"lakecolor\":\"white\"},\"title\":{\"x\":0.05},\"mapbox\":{\"style\":\"light\"}}},\"xaxis\":{\"anchor\":\"y\",\"domain\":[0.0,1.0],\"scaleanchor\":\"y\",\"constrain\":\"domain\",\"title\":{\"text\":\"Head\"}},\"yaxis\":{\"anchor\":\"x\",\"domain\":[0.0,1.0],\"autorange\":\"reversed\",\"constrain\":\"domain\",\"title\":{\"text\":\"Layer\"}},\"coloraxis\":{\"colorscale\":[[0.0,\"rgb(103,0,31)\"],[0.1,\"rgb(178,24,43)\"],[0.2,\"rgb(214,96,77)\"],[0.3,\"rgb(244,165,130)\"],[0.4,\"rgb(253,219,199)\"],[0.5,\"rgb(247,247,247)\"],[0.6,\"rgb(209,229,240)\"],[0.7,\"rgb(146,197,222)\"],[0.8,\"rgb(67,147,195)\"],[0.9,\"rgb(33,102,172)\"],[1.0,\"rgb(5,48,97)\"]],\"cmid\":0.0},\"title\":{\"text\":\"Ablated Average Logit Difference From Heads \\u003cbr\\u003e [(11, 10), (9, 9), (9, 6), (8, 10), (7, 3), (7, 9), (10, 10), (10, 0), (10, 6), (8, 6)]\"},\"width\":600},                        {\"responsive\": true}                    ).then(function(){\n",
       "                            \n",
       "var gd = document.getElementById('a758a7e8-5abb-4e96-b866-712b3217ac37');\n",
       "var x = new MutationObserver(function (mutations, observer) {{\n",
       "        var display = window.getComputedStyle(gd).display;\n",
       "        if (!display || display === 'none') {{\n",
       "            console.log([gd, 'removed!']);\n",
       "            Plotly.purge(gd);\n",
       "            observer.disconnect();\n",
       "        }}\n",
       "}});\n",
       "\n",
       "// Listen for the removal of the full notebook cells\n",
       "var notebookContainer = gd.closest('#notebook-container');\n",
       "if (notebookContainer) {{\n",
       "    x.observe(notebookContainer, {childList: true});\n",
       "}}\n",
       "\n",
       "// Listen for the clearing of the current output cell\n",
       "var outputEl = gd.closest('.output');\n",
       "if (outputEl) {{\n",
       "    x.observe(outputEl, {childList: true});\n",
       "}}\n",
       "\n",
       "                        })                };                });            </script>        </div>"
      ]
     },
     "metadata": {},
     "output_type": "display_data"
    },
    {
     "data": {
      "text/html": [
       "<div>                            <div id=\"acf0f559-35fc-4a00-ae68-b9a84901e312\" class=\"plotly-graph-div\" style=\"height:525px; width:600px;\"></div>            <script type=\"text/javascript\">                require([\"plotly\"], function(Plotly) {                    window.PLOTLYENV=window.PLOTLYENV || {};                                    if (document.getElementById(\"acf0f559-35fc-4a00-ae68-b9a84901e312\")) {                    Plotly.newPlot(                        \"acf0f559-35fc-4a00-ae68-b9a84901e312\",                        [{\"coloraxis\":\"coloraxis\",\"name\":\"0\",\"texttemplate\":\"%{z:.2f}\",\"z\":[[0.006268537137657404,0.007990816608071327,-0.0057466039434075356,-0.008534068241715431,0.01208784244954586,-0.007761799730360508,-0.04179813340306282,0.0092817023396492,0.022851983085274696,-0.01671154983341694,0.002026949543505907,0.011020819656550884],[0.011463924311101437,-0.005491993390023708,0.01504265796393156,0.002665214240550995,0.021265750750899315,0.012983804568648338,0.025808488950133324,-0.034403104335069656,-0.0016646829899400473,-0.00746886944398284,-0.03199218586087227,-0.02470269612967968],[0.020553629845380783,1.7134303561761044e-05,0.006273792590945959,0.018353959545493126,-0.022588854655623436,-0.0034725619480013847,-0.00862151850014925,-0.00925537757575512,0.004839627537876368,0.005695049185305834,0.015836531296372414,0.003387538017705083],[0.004997969605028629,-0.007455161772668362,-0.0032968304585665464,-0.008472779765725136,-0.00849857833236456,0.0032489593140780926,-0.00012757527292706072,0.012193938717246056,0.00010249620390823111,0.003822278929874301,0.012783458456397057,0.032090768218040466],[0.0005994467064738274,0.006466960534453392,-0.006764408200979233,0.017941860482096672,-0.008315936662256718,0.006647507194429636,0.02147369086742401,-0.02259013056755066,0.01827763207256794,0.007101031951606274,-0.012247915379703045,-0.00028609723085537553],[-0.0026722121983766556,-0.016969041898846626,0.04148547723889351,0.004282605368643999,0.009688355959951878,-0.004357879050076008,-0.0015690053114667535,-0.009294357150793076,0.00840531662106514,-0.0033569959923624992,-0.01122210267931223,0.006291757337749004],[-0.014089222066104412,-0.002476407214999199,0.011048405431210995,0.025399349629878998,0.02316957712173462,-0.0036682840436697006,-0.01325992587953806,-0.012282498180866241,-0.00812158826738596,-0.01579667441546917,-0.005516133736819029,0.01994200609624386],[-0.007620207034051418,-0.0029405485838651657,-0.012586355209350586,0.08794393390417099,0.006689525209367275,0.020895371213555336,-0.02480548992753029,-0.000935918593313545,-0.036233533173799515,0.2284444123506546,-0.012677308171987534,-0.016561120748519897],[0.012672863900661469,-0.005758670624345541,0.030106663703918457,-0.06399766355752945,0.024092094972729683,0.012137144804000854,-0.09343930333852768,-0.011879699304699898,-0.010927895084023476,-0.008555703796446323,0.18087011575698853,0.1143854558467865],[0.08448541164398193,-0.000893198128324002,0.046087510883808136,0.017702654004096985,-0.06448759138584137,0.043067287653684616,1.7700525522232056,0.08452945947647095,0.30316105484962463,2.716301918029785,-0.007451285142451525,-0.002412938978523016],[0.7617879509925842,0.12180756777524948,0.25474047660827637,-0.05273904278874397,-0.007773043122142553,-0.0017330074915662408,0.002889015479013324,-2.0109639167785645,0.014073632657527924,0.027749478816986084,0.4859415888786316,0.020668884739279747],[0.020784469321370125,-0.2931908369064331,-0.45451486110687256,-0.012528613209724426,0.006801755633205175,0.03523435443639755,-0.11734356731176376,0.009248249232769012,0.00449468195438385,-0.03972000628709793,-1.0830484628677368,-0.05710340663790703]],\"type\":\"heatmap\",\"xaxis\":\"x\",\"yaxis\":\"y\",\"hovertemplate\":\"Head: %{x}\\u003cbr\\u003eLayer: %{y}\\u003cbr\\u003ecolor: %{z}\\u003cextra\\u003e\\u003c\\u002fextra\\u003e\"}],                        {\"template\":{\"data\":{\"histogram2dcontour\":[{\"type\":\"histogram2dcontour\",\"colorbar\":{\"outlinewidth\":0,\"ticks\":\"\"},\"colorscale\":[[0.0,\"#0d0887\"],[0.1111111111111111,\"#46039f\"],[0.2222222222222222,\"#7201a8\"],[0.3333333333333333,\"#9c179e\"],[0.4444444444444444,\"#bd3786\"],[0.5555555555555556,\"#d8576b\"],[0.6666666666666666,\"#ed7953\"],[0.7777777777777778,\"#fb9f3a\"],[0.8888888888888888,\"#fdca26\"],[1.0,\"#f0f921\"]]}],\"choropleth\":[{\"type\":\"choropleth\",\"colorbar\":{\"outlinewidth\":0,\"ticks\":\"\"}}],\"histogram2d\":[{\"type\":\"histogram2d\",\"colorbar\":{\"outlinewidth\":0,\"ticks\":\"\"},\"colorscale\":[[0.0,\"#0d0887\"],[0.1111111111111111,\"#46039f\"],[0.2222222222222222,\"#7201a8\"],[0.3333333333333333,\"#9c179e\"],[0.4444444444444444,\"#bd3786\"],[0.5555555555555556,\"#d8576b\"],[0.6666666666666666,\"#ed7953\"],[0.7777777777777778,\"#fb9f3a\"],[0.8888888888888888,\"#fdca26\"],[1.0,\"#f0f921\"]]}],\"heatmap\":[{\"type\":\"heatmap\",\"colorbar\":{\"outlinewidth\":0,\"ticks\":\"\"},\"colorscale\":[[0.0,\"#0d0887\"],[0.1111111111111111,\"#46039f\"],[0.2222222222222222,\"#7201a8\"],[0.3333333333333333,\"#9c179e\"],[0.4444444444444444,\"#bd3786\"],[0.5555555555555556,\"#d8576b\"],[0.6666666666666666,\"#ed7953\"],[0.7777777777777778,\"#fb9f3a\"],[0.8888888888888888,\"#fdca26\"],[1.0,\"#f0f921\"]]}],\"heatmapgl\":[{\"type\":\"heatmapgl\",\"colorbar\":{\"outlinewidth\":0,\"ticks\":\"\"},\"colorscale\":[[0.0,\"#0d0887\"],[0.1111111111111111,\"#46039f\"],[0.2222222222222222,\"#7201a8\"],[0.3333333333333333,\"#9c179e\"],[0.4444444444444444,\"#bd3786\"],[0.5555555555555556,\"#d8576b\"],[0.6666666666666666,\"#ed7953\"],[0.7777777777777778,\"#fb9f3a\"],[0.8888888888888888,\"#fdca26\"],[1.0,\"#f0f921\"]]}],\"contourcarpet\":[{\"type\":\"contourcarpet\",\"colorbar\":{\"outlinewidth\":0,\"ticks\":\"\"}}],\"contour\":[{\"type\":\"contour\",\"colorbar\":{\"outlinewidth\":0,\"ticks\":\"\"},\"colorscale\":[[0.0,\"#0d0887\"],[0.1111111111111111,\"#46039f\"],[0.2222222222222222,\"#7201a8\"],[0.3333333333333333,\"#9c179e\"],[0.4444444444444444,\"#bd3786\"],[0.5555555555555556,\"#d8576b\"],[0.6666666666666666,\"#ed7953\"],[0.7777777777777778,\"#fb9f3a\"],[0.8888888888888888,\"#fdca26\"],[1.0,\"#f0f921\"]]}],\"surface\":[{\"type\":\"surface\",\"colorbar\":{\"outlinewidth\":0,\"ticks\":\"\"},\"colorscale\":[[0.0,\"#0d0887\"],[0.1111111111111111,\"#46039f\"],[0.2222222222222222,\"#7201a8\"],[0.3333333333333333,\"#9c179e\"],[0.4444444444444444,\"#bd3786\"],[0.5555555555555556,\"#d8576b\"],[0.6666666666666666,\"#ed7953\"],[0.7777777777777778,\"#fb9f3a\"],[0.8888888888888888,\"#fdca26\"],[1.0,\"#f0f921\"]]}],\"mesh3d\":[{\"type\":\"mesh3d\",\"colorbar\":{\"outlinewidth\":0,\"ticks\":\"\"}}],\"scatter\":[{\"fillpattern\":{\"fillmode\":\"overlay\",\"size\":10,\"solidity\":0.2},\"type\":\"scatter\"}],\"parcoords\":[{\"type\":\"parcoords\",\"line\":{\"colorbar\":{\"outlinewidth\":0,\"ticks\":\"\"}}}],\"scatterpolargl\":[{\"type\":\"scatterpolargl\",\"marker\":{\"colorbar\":{\"outlinewidth\":0,\"ticks\":\"\"}}}],\"bar\":[{\"error_x\":{\"color\":\"#2a3f5f\"},\"error_y\":{\"color\":\"#2a3f5f\"},\"marker\":{\"line\":{\"color\":\"#E5ECF6\",\"width\":0.5},\"pattern\":{\"fillmode\":\"overlay\",\"size\":10,\"solidity\":0.2}},\"type\":\"bar\"}],\"scattergeo\":[{\"type\":\"scattergeo\",\"marker\":{\"colorbar\":{\"outlinewidth\":0,\"ticks\":\"\"}}}],\"scatterpolar\":[{\"type\":\"scatterpolar\",\"marker\":{\"colorbar\":{\"outlinewidth\":0,\"ticks\":\"\"}}}],\"histogram\":[{\"marker\":{\"pattern\":{\"fillmode\":\"overlay\",\"size\":10,\"solidity\":0.2}},\"type\":\"histogram\"}],\"scattergl\":[{\"type\":\"scattergl\",\"marker\":{\"colorbar\":{\"outlinewidth\":0,\"ticks\":\"\"}}}],\"scatter3d\":[{\"type\":\"scatter3d\",\"line\":{\"colorbar\":{\"outlinewidth\":0,\"ticks\":\"\"}},\"marker\":{\"colorbar\":{\"outlinewidth\":0,\"ticks\":\"\"}}}],\"scattermapbox\":[{\"type\":\"scattermapbox\",\"marker\":{\"colorbar\":{\"outlinewidth\":0,\"ticks\":\"\"}}}],\"scatterternary\":[{\"type\":\"scatterternary\",\"marker\":{\"colorbar\":{\"outlinewidth\":0,\"ticks\":\"\"}}}],\"scattercarpet\":[{\"type\":\"scattercarpet\",\"marker\":{\"colorbar\":{\"outlinewidth\":0,\"ticks\":\"\"}}}],\"carpet\":[{\"aaxis\":{\"endlinecolor\":\"#2a3f5f\",\"gridcolor\":\"white\",\"linecolor\":\"white\",\"minorgridcolor\":\"white\",\"startlinecolor\":\"#2a3f5f\"},\"baxis\":{\"endlinecolor\":\"#2a3f5f\",\"gridcolor\":\"white\",\"linecolor\":\"white\",\"minorgridcolor\":\"white\",\"startlinecolor\":\"#2a3f5f\"},\"type\":\"carpet\"}],\"table\":[{\"cells\":{\"fill\":{\"color\":\"#EBF0F8\"},\"line\":{\"color\":\"white\"}},\"header\":{\"fill\":{\"color\":\"#C8D4E3\"},\"line\":{\"color\":\"white\"}},\"type\":\"table\"}],\"barpolar\":[{\"marker\":{\"line\":{\"color\":\"#E5ECF6\",\"width\":0.5},\"pattern\":{\"fillmode\":\"overlay\",\"size\":10,\"solidity\":0.2}},\"type\":\"barpolar\"}],\"pie\":[{\"automargin\":true,\"type\":\"pie\"}]},\"layout\":{\"autotypenumbers\":\"strict\",\"colorway\":[\"#636efa\",\"#EF553B\",\"#00cc96\",\"#ab63fa\",\"#FFA15A\",\"#19d3f3\",\"#FF6692\",\"#B6E880\",\"#FF97FF\",\"#FECB52\"],\"font\":{\"color\":\"#2a3f5f\"},\"hovermode\":\"closest\",\"hoverlabel\":{\"align\":\"left\"},\"paper_bgcolor\":\"white\",\"plot_bgcolor\":\"#E5ECF6\",\"polar\":{\"bgcolor\":\"#E5ECF6\",\"angularaxis\":{\"gridcolor\":\"white\",\"linecolor\":\"white\",\"ticks\":\"\"},\"radialaxis\":{\"gridcolor\":\"white\",\"linecolor\":\"white\",\"ticks\":\"\"}},\"ternary\":{\"bgcolor\":\"#E5ECF6\",\"aaxis\":{\"gridcolor\":\"white\",\"linecolor\":\"white\",\"ticks\":\"\"},\"baxis\":{\"gridcolor\":\"white\",\"linecolor\":\"white\",\"ticks\":\"\"},\"caxis\":{\"gridcolor\":\"white\",\"linecolor\":\"white\",\"ticks\":\"\"}},\"coloraxis\":{\"colorbar\":{\"outlinewidth\":0,\"ticks\":\"\"}},\"colorscale\":{\"sequential\":[[0.0,\"#0d0887\"],[0.1111111111111111,\"#46039f\"],[0.2222222222222222,\"#7201a8\"],[0.3333333333333333,\"#9c179e\"],[0.4444444444444444,\"#bd3786\"],[0.5555555555555556,\"#d8576b\"],[0.6666666666666666,\"#ed7953\"],[0.7777777777777778,\"#fb9f3a\"],[0.8888888888888888,\"#fdca26\"],[1.0,\"#f0f921\"]],\"sequentialminus\":[[0.0,\"#0d0887\"],[0.1111111111111111,\"#46039f\"],[0.2222222222222222,\"#7201a8\"],[0.3333333333333333,\"#9c179e\"],[0.4444444444444444,\"#bd3786\"],[0.5555555555555556,\"#d8576b\"],[0.6666666666666666,\"#ed7953\"],[0.7777777777777778,\"#fb9f3a\"],[0.8888888888888888,\"#fdca26\"],[1.0,\"#f0f921\"]],\"diverging\":[[0,\"#8e0152\"],[0.1,\"#c51b7d\"],[0.2,\"#de77ae\"],[0.3,\"#f1b6da\"],[0.4,\"#fde0ef\"],[0.5,\"#f7f7f7\"],[0.6,\"#e6f5d0\"],[0.7,\"#b8e186\"],[0.8,\"#7fbc41\"],[0.9,\"#4d9221\"],[1,\"#276419\"]]},\"xaxis\":{\"gridcolor\":\"white\",\"linecolor\":\"white\",\"ticks\":\"\",\"title\":{\"standoff\":15},\"zerolinecolor\":\"white\",\"automargin\":true,\"zerolinewidth\":2},\"yaxis\":{\"gridcolor\":\"white\",\"linecolor\":\"white\",\"ticks\":\"\",\"title\":{\"standoff\":15},\"zerolinecolor\":\"white\",\"automargin\":true,\"zerolinewidth\":2},\"scene\":{\"xaxis\":{\"backgroundcolor\":\"#E5ECF6\",\"gridcolor\":\"white\",\"linecolor\":\"white\",\"showbackground\":true,\"ticks\":\"\",\"zerolinecolor\":\"white\",\"gridwidth\":2},\"yaxis\":{\"backgroundcolor\":\"#E5ECF6\",\"gridcolor\":\"white\",\"linecolor\":\"white\",\"showbackground\":true,\"ticks\":\"\",\"zerolinecolor\":\"white\",\"gridwidth\":2},\"zaxis\":{\"backgroundcolor\":\"#E5ECF6\",\"gridcolor\":\"white\",\"linecolor\":\"white\",\"showbackground\":true,\"ticks\":\"\",\"zerolinecolor\":\"white\",\"gridwidth\":2}},\"shapedefaults\":{\"line\":{\"color\":\"#2a3f5f\"}},\"annotationdefaults\":{\"arrowcolor\":\"#2a3f5f\",\"arrowhead\":0,\"arrowwidth\":1},\"geo\":{\"bgcolor\":\"white\",\"landcolor\":\"#E5ECF6\",\"subunitcolor\":\"white\",\"showland\":true,\"showlakes\":true,\"lakecolor\":\"white\"},\"title\":{\"x\":0.05},\"mapbox\":{\"style\":\"light\"}}},\"xaxis\":{\"anchor\":\"y\",\"domain\":[0.0,1.0],\"scaleanchor\":\"y\",\"constrain\":\"domain\",\"title\":{\"text\":\"Head\"}},\"yaxis\":{\"anchor\":\"x\",\"domain\":[0.0,1.0],\"autorange\":\"reversed\",\"constrain\":\"domain\",\"title\":{\"text\":\"Layer\"}},\"coloraxis\":{\"colorscale\":[[0.0,\"rgb(103,0,31)\"],[0.1,\"rgb(178,24,43)\"],[0.2,\"rgb(214,96,77)\"],[0.3,\"rgb(244,165,130)\"],[0.4,\"rgb(253,219,199)\"],[0.5,\"rgb(247,247,247)\"],[0.6,\"rgb(209,229,240)\"],[0.7,\"rgb(146,197,222)\"],[0.8,\"rgb(67,147,195)\"],[0.9,\"rgb(33,102,172)\"],[1.0,\"rgb(5,48,97)\"]],\"cmid\":0.0},\"title\":{\"text\":\"Unablated Average Logit Difference From Each Head\"},\"width\":600},                        {\"responsive\": true}                    ).then(function(){\n",
       "                            \n",
       "var gd = document.getElementById('acf0f559-35fc-4a00-ae68-b9a84901e312');\n",
       "var x = new MutationObserver(function (mutations, observer) {{\n",
       "        var display = window.getComputedStyle(gd).display;\n",
       "        if (!display || display === 'none') {{\n",
       "            console.log([gd, 'removed!']);\n",
       "            Plotly.purge(gd);\n",
       "            observer.disconnect();\n",
       "        }}\n",
       "}});\n",
       "\n",
       "// Listen for the removal of the full notebook cells\n",
       "var notebookContainer = gd.closest('#notebook-container');\n",
       "if (notebookContainer) {{\n",
       "    x.observe(notebookContainer, {childList: true});\n",
       "}}\n",
       "\n",
       "// Listen for the clearing of the current output cell\n",
       "var outputEl = gd.closest('.output');\n",
       "if (outputEl) {{\n",
       "    x.observe(outputEl, {childList: true});\n",
       "}}\n",
       "\n",
       "                        })                };                });            </script>        </div>"
      ]
     },
     "metadata": {},
     "output_type": "display_data"
    }
   ],
   "source": [
    "first_name_correct_prompts = prompts[0::2]\n",
    "second_name_correct_prompts = prompts[1::2]\n",
    "\n",
    "first_name_correct_answer_tokens = answer_tokens[0::2]\n",
    "second_name_correct_answer_tokens = answer_tokens[1::2]\n",
    "\n",
    "head_ablation_logit_diff([head for head in all_heads if head != (10, 7)], answer_tokens=first_name_correct_answer_tokens, prompts=first_name_correct_prompts, head_mean_activations=head_mean_activations)\n",
    "head_ablation_logit_diff([head for head in all_heads if head != (10, 7)], answer_tokens=second_name_correct_answer_tokens, prompts=second_name_correct_prompts, head_mean_activations=head_mean_activations)"
   ]
  },
  {
   "attachments": {},
   "cell_type": "markdown",
   "metadata": {},
   "source": [
    "## Non-Dropout Model Replication"
   ]
  },
  {
   "cell_type": "code",
   "execution_count": null,
   "metadata": {},
   "outputs": [],
   "source": []
  },
  {
   "attachments": {},
   "cell_type": "markdown",
   "metadata": {},
   "source": []
  }
 ],
 "metadata": {
  "kernelspec": {
   "display_name": "Python 3",
   "language": "python",
   "name": "python3"
  },
  "language_info": {
   "codemirror_mode": {
    "name": "ipython",
    "version": 3
   },
   "file_extension": ".py",
   "mimetype": "text/x-python",
   "name": "python",
   "nbconvert_exporter": "python",
   "pygments_lexer": "ipython3",
   "version": "3.10.11"
  },
  "orig_nbformat": 4
 },
 "nbformat": 4,
 "nbformat_minor": 2
}
