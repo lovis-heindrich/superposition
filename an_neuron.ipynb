{
 "cells": [
  {
   "cell_type": "code",
   "execution_count": 1,
   "metadata": {},
   "outputs": [],
   "source": [
    "import torch\n",
    "from tqdm.auto import tqdm\n",
    "from transformer_lens import HookedTransformer\n",
    "from jaxtyping import Float, Int, Bool\n",
    "from torch import Tensor\n",
    "from tqdm.auto import tqdm\n",
    "import plotly.io as pio\n",
    "import ipywidgets as widgets\n",
    "from IPython.display import display, clear_output\n",
    "import pandas as pd\n",
    "import numpy as np\n",
    "import plotly.express as px \n",
    "from collections import defaultdict\n",
    "import matplotlib.pyplot as plt\n",
    "import re\n",
    "from IPython.display import display, HTML\n",
    "from datasets import load_dataset\n",
    "from collections import Counter\n",
    "import pickle\n",
    "import os\n",
    "import haystack_utils\n",
    "from transformer_lens import utils\n",
    "from fancy_einsum import einsum\n",
    "import einops\n",
    "import json\n",
    "import ipywidgets as widgets\n",
    "from IPython.display import display\n",
    "from datasets import load_dataset\n",
    "import random\n",
    "import math\n",
    "import random\n",
    "import neel.utils as nutils\n",
    "from neel_plotly import *\n",
    "\n",
    "SEED = 42\n",
    "torch.manual_seed(SEED)\n",
    "np.random.seed(SEED)\n",
    "random.seed(SEED)\n",
    "\n",
    "pio.renderers.default = \"notebook_connected+notebook\"\n",
    "device = \"cuda\" if torch.cuda.is_available() else \"cpu\"\n",
    "torch.autograd.set_grad_enabled(False)\n",
    "torch.set_grad_enabled(False)\n",
    "\n",
    "%reload_ext autoreload\n",
    "%autoreload 2"
   ]
  },
  {
   "cell_type": "code",
   "execution_count": 2,
   "metadata": {},
   "outputs": [
    {
     "name": "stderr",
     "output_type": "stream",
     "text": [
      "Using pad_token, but it is not set yet.\n"
     ]
    },
    {
     "name": "stdout",
     "output_type": "stream",
     "text": [
      "Loaded pretrained model gpt2-large into HookedTransformer\n"
     ]
    },
    {
     "name": "stderr",
     "output_type": "stream",
     "text": [
      "Repo card metadata block was not found. Setting CardData to empty.\n"
     ]
    },
    {
     "data": {
      "text/plain": [
       "7083"
      ]
     },
     "execution_count": 2,
     "metadata": {},
     "output_type": "execute_result"
    }
   ],
   "source": [
    "model: HookedTransformer = HookedTransformer.from_pretrained(\"gpt2-large\")\n",
    "\n",
    "data = load_dataset(\"stas/openwebtext-10k\", split=\"train\")\n",
    "strings = [i for i in data[\"text\"] if len(i)>2000]\n",
    "len(strings)"
   ]
  },
  {
   "cell_type": "code",
   "execution_count": 3,
   "metadata": {},
   "outputs": [
    {
     "ename": "OutOfMemoryError",
     "evalue": "CUDA out of memory. Tried to allocate 3.07 GiB (GPU 0; 47.54 GiB total capacity; 3.47 GiB already allocated; 3.03 GiB free; 3.56 GiB reserved in total by PyTorch) If reserved memory is >> allocated memory try setting max_split_size_mb to avoid fragmentation.  See documentation for Memory Management and PYTORCH_CUDA_ALLOC_CONF",
     "output_type": "error",
     "traceback": [
      "\u001b[0;31m---------------------------------------------------------------------------\u001b[0m",
      "\u001b[0;31mOutOfMemoryError\u001b[0m                          Traceback (most recent call last)",
      "Cell \u001b[0;32mIn[3], line 6\u001b[0m\n\u001b[1;32m      3\u001b[0m tokens \u001b[39m=\u001b[39m model\u001b[39m.\u001b[39mto_tokens(strings[num_prompts:\u001b[39m2\u001b[39m\u001b[39m*\u001b[39mnum_prompts])[:, :n_ctx]\n\u001b[1;32m      4\u001b[0m tokens\u001b[39m.\u001b[39mshape\n\u001b[0;32m----> 6\u001b[0m logits \u001b[39m=\u001b[39m model(tokens)\n\u001b[1;32m      7\u001b[0m A \u001b[39m=\u001b[39m model\u001b[39m.\u001b[39mto_single_token(\u001b[39m\"\u001b[39m\u001b[39m a\u001b[39m\u001b[39m\"\u001b[39m)\n\u001b[1;32m      8\u001b[0m AN \u001b[39m=\u001b[39m model\u001b[39m.\u001b[39mto_single_token(\u001b[39m\"\u001b[39m\u001b[39m an\u001b[39m\u001b[39m\"\u001b[39m)\n",
      "File \u001b[0;32m/opt/conda/lib/python3.10/site-packages/torch/nn/modules/module.py:1501\u001b[0m, in \u001b[0;36mModule._call_impl\u001b[0;34m(self, *args, **kwargs)\u001b[0m\n\u001b[1;32m   1496\u001b[0m \u001b[39m# If we don't have any hooks, we want to skip the rest of the logic in\u001b[39;00m\n\u001b[1;32m   1497\u001b[0m \u001b[39m# this function, and just call forward.\u001b[39;00m\n\u001b[1;32m   1498\u001b[0m \u001b[39mif\u001b[39;00m \u001b[39mnot\u001b[39;00m (\u001b[39mself\u001b[39m\u001b[39m.\u001b[39m_backward_hooks \u001b[39mor\u001b[39;00m \u001b[39mself\u001b[39m\u001b[39m.\u001b[39m_backward_pre_hooks \u001b[39mor\u001b[39;00m \u001b[39mself\u001b[39m\u001b[39m.\u001b[39m_forward_hooks \u001b[39mor\u001b[39;00m \u001b[39mself\u001b[39m\u001b[39m.\u001b[39m_forward_pre_hooks\n\u001b[1;32m   1499\u001b[0m         \u001b[39mor\u001b[39;00m _global_backward_pre_hooks \u001b[39mor\u001b[39;00m _global_backward_hooks\n\u001b[1;32m   1500\u001b[0m         \u001b[39mor\u001b[39;00m _global_forward_hooks \u001b[39mor\u001b[39;00m _global_forward_pre_hooks):\n\u001b[0;32m-> 1501\u001b[0m     \u001b[39mreturn\u001b[39;00m forward_call(\u001b[39m*\u001b[39;49margs, \u001b[39m*\u001b[39;49m\u001b[39m*\u001b[39;49mkwargs)\n\u001b[1;32m   1502\u001b[0m \u001b[39m# Do not call functions when jit is used\u001b[39;00m\n\u001b[1;32m   1503\u001b[0m full_backward_hooks, non_full_backward_hooks \u001b[39m=\u001b[39m [], []\n",
      "File \u001b[0;32m/opt/conda/lib/python3.10/site-packages/transformer_lens/HookedTransformer.py:382\u001b[0m, in \u001b[0;36mHookedTransformer.forward\u001b[0;34m(self, input, return_type, loss_per_token, prepend_bos, stop_at_layer, past_kv_cache)\u001b[0m\n\u001b[1;32m    380\u001b[0m     \u001b[39mreturn\u001b[39;00m \u001b[39mNone\u001b[39;00m\n\u001b[1;32m    381\u001b[0m \u001b[39melse\u001b[39;00m:\n\u001b[0;32m--> 382\u001b[0m     logits \u001b[39m=\u001b[39m \u001b[39mself\u001b[39;49m\u001b[39m.\u001b[39;49munembed(residual)  \u001b[39m# [batch, pos, d_vocab]\u001b[39;00m\n\u001b[1;32m    383\u001b[0m     \u001b[39mif\u001b[39;00m return_type \u001b[39m==\u001b[39m \u001b[39m\"\u001b[39m\u001b[39mlogits\u001b[39m\u001b[39m\"\u001b[39m:\n\u001b[1;32m    384\u001b[0m         \u001b[39mreturn\u001b[39;00m logits\n",
      "File \u001b[0;32m/opt/conda/lib/python3.10/site-packages/torch/nn/modules/module.py:1501\u001b[0m, in \u001b[0;36mModule._call_impl\u001b[0;34m(self, *args, **kwargs)\u001b[0m\n\u001b[1;32m   1496\u001b[0m \u001b[39m# If we don't have any hooks, we want to skip the rest of the logic in\u001b[39;00m\n\u001b[1;32m   1497\u001b[0m \u001b[39m# this function, and just call forward.\u001b[39;00m\n\u001b[1;32m   1498\u001b[0m \u001b[39mif\u001b[39;00m \u001b[39mnot\u001b[39;00m (\u001b[39mself\u001b[39m\u001b[39m.\u001b[39m_backward_hooks \u001b[39mor\u001b[39;00m \u001b[39mself\u001b[39m\u001b[39m.\u001b[39m_backward_pre_hooks \u001b[39mor\u001b[39;00m \u001b[39mself\u001b[39m\u001b[39m.\u001b[39m_forward_hooks \u001b[39mor\u001b[39;00m \u001b[39mself\u001b[39m\u001b[39m.\u001b[39m_forward_pre_hooks\n\u001b[1;32m   1499\u001b[0m         \u001b[39mor\u001b[39;00m _global_backward_pre_hooks \u001b[39mor\u001b[39;00m _global_backward_hooks\n\u001b[1;32m   1500\u001b[0m         \u001b[39mor\u001b[39;00m _global_forward_hooks \u001b[39mor\u001b[39;00m _global_forward_pre_hooks):\n\u001b[0;32m-> 1501\u001b[0m     \u001b[39mreturn\u001b[39;00m forward_call(\u001b[39m*\u001b[39;49margs, \u001b[39m*\u001b[39;49m\u001b[39m*\u001b[39;49mkwargs)\n\u001b[1;32m   1502\u001b[0m \u001b[39m# Do not call functions when jit is used\u001b[39;00m\n\u001b[1;32m   1503\u001b[0m full_backward_hooks, non_full_backward_hooks \u001b[39m=\u001b[39m [], []\n",
      "File \u001b[0;32m/opt/conda/lib/python3.10/site-packages/transformer_lens/components.py:57\u001b[0m, in \u001b[0;36mUnembed.forward\u001b[0;34m(self, residual)\u001b[0m\n\u001b[1;32m     53\u001b[0m \u001b[39mdef\u001b[39;00m \u001b[39mforward\u001b[39m(\n\u001b[1;32m     54\u001b[0m     \u001b[39mself\u001b[39m, residual: Float[torch\u001b[39m.\u001b[39mTensor, \u001b[39m\"\u001b[39m\u001b[39mbatch pos d_model\u001b[39m\u001b[39m\"\u001b[39m]\n\u001b[1;32m     55\u001b[0m ) \u001b[39m-\u001b[39m\u001b[39m>\u001b[39m Float[torch\u001b[39m.\u001b[39mTensor, \u001b[39m\"\u001b[39m\u001b[39mbatch pos d_vocab_out\u001b[39m\u001b[39m\"\u001b[39m]:\n\u001b[1;32m     56\u001b[0m     \u001b[39mreturn\u001b[39;00m (\n\u001b[0;32m---> 57\u001b[0m         einsum(\n\u001b[1;32m     58\u001b[0m             \u001b[39m\"\u001b[39;49m\u001b[39mbatch pos d_model, d_model vocab -> batch pos vocab\u001b[39;49m\u001b[39m\"\u001b[39;49m,\n\u001b[1;32m     59\u001b[0m             residual,\n\u001b[1;32m     60\u001b[0m             \u001b[39mself\u001b[39;49m\u001b[39m.\u001b[39;49mW_U,\n\u001b[1;32m     61\u001b[0m         )\n\u001b[1;32m     62\u001b[0m         \u001b[39m+\u001b[39m \u001b[39mself\u001b[39m\u001b[39m.\u001b[39mb_U\n\u001b[1;32m     63\u001b[0m     )\n",
      "File \u001b[0;32m/opt/conda/lib/python3.10/site-packages/fancy_einsum/__init__.py:136\u001b[0m, in \u001b[0;36meinsum\u001b[0;34m(equation, *operands)\u001b[0m\n\u001b[1;32m    134\u001b[0m backend \u001b[39m=\u001b[39m get_backend(operands[\u001b[39m0\u001b[39m])\n\u001b[1;32m    135\u001b[0m new_equation \u001b[39m=\u001b[39m convert_equation(equation)\n\u001b[0;32m--> 136\u001b[0m \u001b[39mreturn\u001b[39;00m backend\u001b[39m.\u001b[39;49meinsum(new_equation, \u001b[39m*\u001b[39;49moperands)\n",
      "File \u001b[0;32m/opt/conda/lib/python3.10/site-packages/fancy_einsum/__init__.py:54\u001b[0m, in \u001b[0;36mTorchBackend.einsum\u001b[0;34m(self, equation, *operands)\u001b[0m\n\u001b[1;32m     53\u001b[0m \u001b[39mdef\u001b[39;00m \u001b[39meinsum\u001b[39m(\u001b[39mself\u001b[39m, equation, \u001b[39m*\u001b[39moperands):\n\u001b[0;32m---> 54\u001b[0m     \u001b[39mreturn\u001b[39;00m \u001b[39mself\u001b[39;49m\u001b[39m.\u001b[39;49mtorch\u001b[39m.\u001b[39;49meinsum(equation, \u001b[39m*\u001b[39;49moperands)\n",
      "File \u001b[0;32m/opt/conda/lib/python3.10/site-packages/torch/functional.py:378\u001b[0m, in \u001b[0;36meinsum\u001b[0;34m(*args)\u001b[0m\n\u001b[1;32m    373\u001b[0m     \u001b[39mreturn\u001b[39;00m einsum(equation, \u001b[39m*\u001b[39m_operands)\n\u001b[1;32m    375\u001b[0m \u001b[39mif\u001b[39;00m \u001b[39mlen\u001b[39m(operands) \u001b[39m<\u001b[39m\u001b[39m=\u001b[39m \u001b[39m2\u001b[39m \u001b[39mor\u001b[39;00m \u001b[39mnot\u001b[39;00m opt_einsum\u001b[39m.\u001b[39menabled:\n\u001b[1;32m    376\u001b[0m     \u001b[39m# the path for contracting 0 or 1 time(s) is already optimized\u001b[39;00m\n\u001b[1;32m    377\u001b[0m     \u001b[39m# or the user has disabled using opt_einsum\u001b[39;00m\n\u001b[0;32m--> 378\u001b[0m     \u001b[39mreturn\u001b[39;00m _VF\u001b[39m.\u001b[39;49meinsum(equation, operands)  \u001b[39m# type: ignore[attr-defined]\u001b[39;00m\n\u001b[1;32m    380\u001b[0m path \u001b[39m=\u001b[39m \u001b[39mNone\u001b[39;00m\n\u001b[1;32m    381\u001b[0m \u001b[39mif\u001b[39;00m opt_einsum\u001b[39m.\u001b[39mis_available():\n",
      "\u001b[0;31mOutOfMemoryError\u001b[0m: CUDA out of memory. Tried to allocate 3.07 GiB (GPU 0; 47.54 GiB total capacity; 3.47 GiB already allocated; 3.03 GiB free; 3.56 GiB reserved in total by PyTorch) If reserved memory is >> allocated memory try setting max_split_size_mb to avoid fragmentation.  See documentation for Memory Management and PYTORCH_CUDA_ALLOC_CONF"
     ]
    }
   ],
   "source": [
    "num_prompts = 64\n",
    "n_ctx = 256\n",
    "tokens = model.to_tokens(strings[num_prompts:2*num_prompts])[:, :n_ctx]\n",
    "tokens.shape\n",
    "\n",
    "logits = model(tokens)\n",
    "A = model.to_single_token(\" a\")\n",
    "AN = model.to_single_token(\" an\")\n",
    "logit_diff = logits[:, :, AN] - logits[:, :, A]\n",
    "# -5 where token is \"an\", diff otherwise\n",
    "logit_diff = torch.where(tokens==AN, torch.zeros_like(logit_diff)-5, logit_diff)"
   ]
  },
  {
   "cell_type": "code",
   "execution_count": null,
   "metadata": {},
   "outputs": [
    {
     "data": {
      "text/html": [
       "<style type=\"text/css\">\n",
       "#T_a6f28_row0_col0, #T_a6f28_row7_col2, #T_a6f28_row8_col1, #T_a6f28_row20_col1, #T_a6f28_row83_col1, #T_a6f28_row84_col1, #T_a6f28_row95_col2 {\n",
       "  background-color: #b40426;\n",
       "  color: #f1f1f1;\n",
       "}\n",
       "#T_a6f28_row0_col1, #T_a6f28_row13_col1, #T_a6f28_row15_col1, #T_a6f28_row44_col2, #T_a6f28_row56_col2, #T_a6f28_row68_col0, #T_a6f28_row69_col0, #T_a6f28_row70_col0, #T_a6f28_row71_col0, #T_a6f28_row72_col0, #T_a6f28_row73_col0 {\n",
       "  background-color: #3f53c6;\n",
       "  color: #f1f1f1;\n",
       "}\n",
       "#T_a6f28_row0_col2 {\n",
       "  background-color: #f7aa8c;\n",
       "  color: #000000;\n",
       "}\n",
       "#T_a6f28_row1_col0 {\n",
       "  background-color: #e8d6cc;\n",
       "  color: #000000;\n",
       "}\n",
       "#T_a6f28_row1_col1, #T_a6f28_row2_col1, #T_a6f28_row3_col1, #T_a6f28_row4_col1, #T_a6f28_row5_col1, #T_a6f28_row6_col1, #T_a6f28_row38_col1, #T_a6f28_row78_col1 {\n",
       "  background-color: #f39475;\n",
       "  color: #000000;\n",
       "}\n",
       "#T_a6f28_row1_col2 {\n",
       "  background-color: #abc8fd;\n",
       "  color: #000000;\n",
       "}\n",
       "#T_a6f28_row2_col0 {\n",
       "  background-color: #e4d9d2;\n",
       "  color: #000000;\n",
       "}\n",
       "#T_a6f28_row2_col2 {\n",
       "  background-color: #a9c6fd;\n",
       "  color: #000000;\n",
       "}\n",
       "#T_a6f28_row3_col0 {\n",
       "  background-color: #d1dae9;\n",
       "  color: #000000;\n",
       "}\n",
       "#T_a6f28_row3_col2 {\n",
       "  background-color: #c0d4f5;\n",
       "  color: #000000;\n",
       "}\n",
       "#T_a6f28_row4_col0 {\n",
       "  background-color: #c4d5f3;\n",
       "  color: #000000;\n",
       "}\n",
       "#T_a6f28_row4_col2 {\n",
       "  background-color: #f1cdba;\n",
       "  color: #000000;\n",
       "}\n",
       "#T_a6f28_row5_col0 {\n",
       "  background-color: #bcd2f7;\n",
       "  color: #000000;\n",
       "}\n",
       "#T_a6f28_row5_col2 {\n",
       "  background-color: #bed2f6;\n",
       "  color: #000000;\n",
       "}\n",
       "#T_a6f28_row6_col0, #T_a6f28_row19_col1, #T_a6f28_row21_col1 {\n",
       "  background-color: #bad0f8;\n",
       "  color: #000000;\n",
       "}\n",
       "#T_a6f28_row6_col2 {\n",
       "  background-color: #efcebd;\n",
       "  color: #000000;\n",
       "}\n",
       "#T_a6f28_row7_col0 {\n",
       "  background-color: #aac7fd;\n",
       "  color: #000000;\n",
       "}\n",
       "#T_a6f28_row7_col1, #T_a6f28_row41_col1, #T_a6f28_row62_col1 {\n",
       "  background-color: #bfd3f6;\n",
       "  color: #000000;\n",
       "}\n",
       "#T_a6f28_row8_col0 {\n",
       "  background-color: #9dbdff;\n",
       "  color: #000000;\n",
       "}\n",
       "#T_a6f28_row8_col2, #T_a6f28_row19_col0 {\n",
       "  background-color: #5d7ce6;\n",
       "  color: #f1f1f1;\n",
       "}\n",
       "#T_a6f28_row9_col0, #T_a6f28_row14_col1, #T_a6f28_row39_col1, #T_a6f28_row99_col2 {\n",
       "  background-color: #88abfd;\n",
       "  color: #000000;\n",
       "}\n",
       "#T_a6f28_row9_col1, #T_a6f28_row48_col1, #T_a6f28_row51_col1, #T_a6f28_row75_col1 {\n",
       "  background-color: #f18d6f;\n",
       "  color: #f1f1f1;\n",
       "}\n",
       "#T_a6f28_row9_col2 {\n",
       "  background-color: #d6dce4;\n",
       "  color: #000000;\n",
       "}\n",
       "#T_a6f28_row10_col0 {\n",
       "  background-color: #81a4fb;\n",
       "  color: #f1f1f1;\n",
       "}\n",
       "#T_a6f28_row10_col1, #T_a6f28_row28_col1, #T_a6f28_row52_col1, #T_a6f28_row60_col2 {\n",
       "  background-color: #b5cdfa;\n",
       "  color: #000000;\n",
       "}\n",
       "#T_a6f28_row10_col2, #T_a6f28_row17_col1, #T_a6f28_row22_col0, #T_a6f28_row23_col0, #T_a6f28_row49_col1, #T_a6f28_row95_col1, #T_a6f28_row96_col1 {\n",
       "  background-color: #5875e1;\n",
       "  color: #f1f1f1;\n",
       "}\n",
       "#T_a6f28_row11_col0 {\n",
       "  background-color: #7a9df8;\n",
       "  color: #f1f1f1;\n",
       "}\n",
       "#T_a6f28_row11_col1, #T_a6f28_row65_col1, #T_a6f28_row76_col2, #T_a6f28_row93_col0, #T_a6f28_row94_col0, #T_a6f28_row95_col0, #T_a6f28_row96_col0, #T_a6f28_row97_col0, #T_a6f28_row98_col0, #T_a6f28_row99_col0 {\n",
       "  background-color: #3b4cc0;\n",
       "  color: #f1f1f1;\n",
       "}\n",
       "#T_a6f28_row11_col2, #T_a6f28_row24_col0 {\n",
       "  background-color: #5673e0;\n",
       "  color: #f1f1f1;\n",
       "}\n",
       "#T_a6f28_row12_col0 {\n",
       "  background-color: #799cf8;\n",
       "  color: #f1f1f1;\n",
       "}\n",
       "#T_a6f28_row12_col1, #T_a6f28_row83_col2 {\n",
       "  background-color: #f2cab5;\n",
       "  color: #000000;\n",
       "}\n",
       "#T_a6f28_row12_col2, #T_a6f28_row56_col1 {\n",
       "  background-color: #d95847;\n",
       "  color: #f1f1f1;\n",
       "}\n",
       "#T_a6f28_row13_col0, #T_a6f28_row14_col0 {\n",
       "  background-color: #7597f6;\n",
       "  color: #f1f1f1;\n",
       "}\n",
       "#T_a6f28_row13_col2 {\n",
       "  background-color: #b6cefa;\n",
       "  color: #000000;\n",
       "}\n",
       "#T_a6f28_row14_col2 {\n",
       "  background-color: #edd2c3;\n",
       "  color: #000000;\n",
       "}\n",
       "#T_a6f28_row15_col0 {\n",
       "  background-color: #688aef;\n",
       "  color: #f1f1f1;\n",
       "}\n",
       "#T_a6f28_row15_col2 {\n",
       "  background-color: #dadce0;\n",
       "  color: #000000;\n",
       "}\n",
       "#T_a6f28_row16_col0 {\n",
       "  background-color: #6788ee;\n",
       "  color: #f1f1f1;\n",
       "}\n",
       "#T_a6f28_row16_col1, #T_a6f28_row18_col0, #T_a6f28_row97_col1 {\n",
       "  background-color: #6282ea;\n",
       "  color: #f1f1f1;\n",
       "}\n",
       "#T_a6f28_row16_col2, #T_a6f28_row34_col1, #T_a6f28_row38_col0, #T_a6f28_row39_col0, #T_a6f28_row43_col1, #T_a6f28_row57_col1, #T_a6f28_row69_col1, #T_a6f28_row72_col1 {\n",
       "  background-color: #4961d2;\n",
       "  color: #f1f1f1;\n",
       "}\n",
       "#T_a6f28_row17_col0, #T_a6f28_row96_col2 {\n",
       "  background-color: #6687ed;\n",
       "  color: #f1f1f1;\n",
       "}\n",
       "#T_a6f28_row17_col2 {\n",
       "  background-color: #8caffe;\n",
       "  color: #000000;\n",
       "}\n",
       "#T_a6f28_row18_col1, #T_a6f28_row70_col2, #T_a6f28_row71_col1 {\n",
       "  background-color: #4e68d8;\n",
       "  color: #f1f1f1;\n",
       "}\n",
       "#T_a6f28_row18_col2, #T_a6f28_row20_col2, #T_a6f28_row54_col0, #T_a6f28_row55_col0 {\n",
       "  background-color: #4358cb;\n",
       "  color: #f1f1f1;\n",
       "}\n",
       "#T_a6f28_row19_col2, #T_a6f28_row31_col1 {\n",
       "  background-color: #a5c3fe;\n",
       "  color: #000000;\n",
       "}\n",
       "#T_a6f28_row20_col0 {\n",
       "  background-color: #5b7ae5;\n",
       "  color: #f1f1f1;\n",
       "}\n",
       "#T_a6f28_row21_col0 {\n",
       "  background-color: #5a78e4;\n",
       "  color: #f1f1f1;\n",
       "}\n",
       "#T_a6f28_row21_col2, #T_a6f28_row71_col2 {\n",
       "  background-color: #ee8468;\n",
       "  color: #f1f1f1;\n",
       "}\n",
       "#T_a6f28_row22_col1, #T_a6f28_row28_col2, #T_a6f28_row82_col1 {\n",
       "  background-color: #ec7f63;\n",
       "  color: #f1f1f1;\n",
       "}\n",
       "#T_a6f28_row22_col2, #T_a6f28_row24_col1 {\n",
       "  background-color: #e9785d;\n",
       "  color: #f1f1f1;\n",
       "}\n",
       "#T_a6f28_row23_col1, #T_a6f28_row46_col1 {\n",
       "  background-color: #7295f4;\n",
       "  color: #f1f1f1;\n",
       "}\n",
       "#T_a6f28_row23_col2 {\n",
       "  background-color: #85a8fc;\n",
       "  color: #f1f1f1;\n",
       "}\n",
       "#T_a6f28_row24_col2 {\n",
       "  background-color: #ca3b37;\n",
       "  color: #f1f1f1;\n",
       "}\n",
       "#T_a6f28_row25_col0, #T_a6f28_row26_col0, #T_a6f28_row27_col0, #T_a6f28_row52_col2 {\n",
       "  background-color: #5470de;\n",
       "  color: #f1f1f1;\n",
       "}\n",
       "#T_a6f28_row25_col1, #T_a6f28_row28_col0, #T_a6f28_row47_col1, #T_a6f28_row55_col1, #T_a6f28_row73_col1, #T_a6f28_row86_col2 {\n",
       "  background-color: #536edd;\n",
       "  color: #f1f1f1;\n",
       "}\n",
       "#T_a6f28_row25_col2 {\n",
       "  background-color: #7093f3;\n",
       "  color: #f1f1f1;\n",
       "}\n",
       "#T_a6f28_row26_col1, #T_a6f28_row27_col1 {\n",
       "  background-color: #e7d7ce;\n",
       "  color: #000000;\n",
       "}\n",
       "#T_a6f28_row26_col2, #T_a6f28_row74_col2 {\n",
       "  background-color: #c43032;\n",
       "  color: #f1f1f1;\n",
       "}\n",
       "#T_a6f28_row27_col2, #T_a6f28_row56_col0, #T_a6f28_row57_col0, #T_a6f28_row58_col0, #T_a6f28_row59_col0, #T_a6f28_row60_col0, #T_a6f28_row61_col0, #T_a6f28_row62_col0 {\n",
       "  background-color: #4257c9;\n",
       "  color: #f1f1f1;\n",
       "}\n",
       "#T_a6f28_row29_col0, #T_a6f28_row30_col0 {\n",
       "  background-color: #506bda;\n",
       "  color: #f1f1f1;\n",
       "}\n",
       "#T_a6f28_row29_col1, #T_a6f28_row33_col1, #T_a6f28_row77_col1 {\n",
       "  background-color: #94b6ff;\n",
       "  color: #000000;\n",
       "}\n",
       "#T_a6f28_row29_col2 {\n",
       "  background-color: #dc5d4a;\n",
       "  color: #f1f1f1;\n",
       "}\n",
       "#T_a6f28_row30_col1, #T_a6f28_row45_col1, #T_a6f28_row53_col1, #T_a6f28_row67_col1, #T_a6f28_row94_col1, #T_a6f28_row98_col1, #T_a6f28_row99_col1 {\n",
       "  background-color: #f7b89c;\n",
       "  color: #000000;\n",
       "}\n",
       "#T_a6f28_row30_col2 {\n",
       "  background-color: #adc9fd;\n",
       "  color: #000000;\n",
       "}\n",
       "#T_a6f28_row31_col0, #T_a6f28_row32_col0, #T_a6f28_row33_col0, #T_a6f28_row73_col2 {\n",
       "  background-color: #4f69d9;\n",
       "  color: #f1f1f1;\n",
       "}\n",
       "#T_a6f28_row31_col2 {\n",
       "  background-color: #f7bca1;\n",
       "  color: #000000;\n",
       "}\n",
       "#T_a6f28_row32_col1, #T_a6f28_row50_col2, #T_a6f28_row64_col1, #T_a6f28_row86_col1 {\n",
       "  background-color: #6c8ff1;\n",
       "  color: #f1f1f1;\n",
       "}\n",
       "#T_a6f28_row32_col2 {\n",
       "  background-color: #516ddb;\n",
       "  color: #f1f1f1;\n",
       "}\n",
       "#T_a6f28_row33_col2, #T_a6f28_row59_col2 {\n",
       "  background-color: #bd1f2d;\n",
       "  color: #f1f1f1;\n",
       "}\n",
       "#T_a6f28_row34_col0 {\n",
       "  background-color: #4c66d6;\n",
       "  color: #f1f1f1;\n",
       "}\n",
       "#T_a6f28_row34_col2 {\n",
       "  background-color: #f7b497;\n",
       "  color: #000000;\n",
       "}\n",
       "#T_a6f28_row35_col0, #T_a6f28_row36_col0 {\n",
       "  background-color: #4b64d5;\n",
       "  color: #f1f1f1;\n",
       "}\n",
       "#T_a6f28_row35_col1, #T_a6f28_row36_col1, #T_a6f28_row87_col1 {\n",
       "  background-color: #f7a889;\n",
       "  color: #000000;\n",
       "}\n",
       "#T_a6f28_row35_col2 {\n",
       "  background-color: #f29274;\n",
       "  color: #f1f1f1;\n",
       "}\n",
       "#T_a6f28_row36_col2 {\n",
       "  background-color: #f7b194;\n",
       "  color: #000000;\n",
       "}\n",
       "#T_a6f28_row37_col0 {\n",
       "  background-color: #4a63d3;\n",
       "  color: #f1f1f1;\n",
       "}\n",
       "#T_a6f28_row37_col1, #T_a6f28_row74_col1, #T_a6f28_row89_col1 {\n",
       "  background-color: #d55042;\n",
       "  color: #f1f1f1;\n",
       "}\n",
       "#T_a6f28_row37_col2 {\n",
       "  background-color: #90b2fe;\n",
       "  color: #000000;\n",
       "}\n",
       "#T_a6f28_row38_col2 {\n",
       "  background-color: #a6c4fe;\n",
       "  color: #000000;\n",
       "}\n",
       "#T_a6f28_row39_col2, #T_a6f28_row68_col2 {\n",
       "  background-color: #ecd3c5;\n",
       "  color: #000000;\n",
       "}\n",
       "#T_a6f28_row40_col0, #T_a6f28_row41_col0, #T_a6f28_row42_col0 {\n",
       "  background-color: #485fd1;\n",
       "  color: #f1f1f1;\n",
       "}\n",
       "#T_a6f28_row40_col1, #T_a6f28_row47_col2, #T_a6f28_row50_col1 {\n",
       "  background-color: #9abbff;\n",
       "  color: #000000;\n",
       "}\n",
       "#T_a6f28_row40_col2, #T_a6f28_row58_col1, #T_a6f28_row85_col1, #T_a6f28_row88_col1 {\n",
       "  background-color: #7da0f9;\n",
       "  color: #f1f1f1;\n",
       "}\n",
       "#T_a6f28_row41_col2 {\n",
       "  background-color: #cd423b;\n",
       "  color: #f1f1f1;\n",
       "}\n",
       "#T_a6f28_row42_col1, #T_a6f28_row91_col1 {\n",
       "  background-color: #ee8669;\n",
       "  color: #f1f1f1;\n",
       "}\n",
       "#T_a6f28_row42_col2 {\n",
       "  background-color: #f1ccb8;\n",
       "  color: #000000;\n",
       "}\n",
       "#T_a6f28_row43_col0, #T_a6f28_row44_col0, #T_a6f28_row45_col0, #T_a6f28_row46_col0 {\n",
       "  background-color: #465ecf;\n",
       "  color: #f1f1f1;\n",
       "}\n",
       "#T_a6f28_row43_col2 {\n",
       "  background-color: #e57058;\n",
       "  color: #f1f1f1;\n",
       "}\n",
       "#T_a6f28_row44_col1, #T_a6f28_row59_col1, #T_a6f28_row87_col2, #T_a6f28_row90_col1, #T_a6f28_row94_col2 {\n",
       "  background-color: #f6bda2;\n",
       "  color: #000000;\n",
       "}\n",
       "#T_a6f28_row45_col2 {\n",
       "  background-color: #f5c0a7;\n",
       "  color: #000000;\n",
       "}\n",
       "#T_a6f28_row46_col2 {\n",
       "  background-color: #5977e3;\n",
       "  color: #f1f1f1;\n",
       "}\n",
       "#T_a6f28_row47_col0, #T_a6f28_row48_col0 {\n",
       "  background-color: #455cce;\n",
       "  color: #f1f1f1;\n",
       "}\n",
       "#T_a6f28_row48_col2, #T_a6f28_row90_col2 {\n",
       "  background-color: #779af7;\n",
       "  color: #f1f1f1;\n",
       "}\n",
       "#T_a6f28_row49_col0, #T_a6f28_row50_col0, #T_a6f28_row51_col0, #T_a6f28_row52_col0, #T_a6f28_row53_col0, #T_a6f28_row68_col1, #T_a6f28_row77_col2, #T_a6f28_row92_col1 {\n",
       "  background-color: #445acc;\n",
       "  color: #f1f1f1;\n",
       "}\n",
       "#T_a6f28_row49_col2 {\n",
       "  background-color: #8db0fe;\n",
       "  color: #000000;\n",
       "}\n",
       "#T_a6f28_row51_col2 {\n",
       "  background-color: #7b9ff9;\n",
       "  color: #f1f1f1;\n",
       "}\n",
       "#T_a6f28_row53_col2 {\n",
       "  background-color: #6485ec;\n",
       "  color: #f1f1f1;\n",
       "}\n",
       "#T_a6f28_row54_col1, #T_a6f28_row79_col1 {\n",
       "  background-color: #f7b396;\n",
       "  color: #000000;\n",
       "}\n",
       "#T_a6f28_row54_col2 {\n",
       "  background-color: #a2c1ff;\n",
       "  color: #000000;\n",
       "}\n",
       "#T_a6f28_row55_col2 {\n",
       "  background-color: #b50927;\n",
       "  color: #f1f1f1;\n",
       "}\n",
       "#T_a6f28_row57_col2 {\n",
       "  background-color: #f7b093;\n",
       "  color: #000000;\n",
       "}\n",
       "#T_a6f28_row58_col2 {\n",
       "  background-color: #eb7d62;\n",
       "  color: #f1f1f1;\n",
       "}\n",
       "#T_a6f28_row60_col1 {\n",
       "  background-color: #82a6fb;\n",
       "  color: #f1f1f1;\n",
       "}\n",
       "#T_a6f28_row61_col1, #T_a6f28_row62_col2, #T_a6f28_row75_col2 {\n",
       "  background-color: #f5c1a9;\n",
       "  color: #000000;\n",
       "}\n",
       "#T_a6f28_row61_col2 {\n",
       "  background-color: #dbdcde;\n",
       "  color: #000000;\n",
       "}\n",
       "#T_a6f28_row63_col0, #T_a6f28_row64_col0, #T_a6f28_row65_col0, #T_a6f28_row66_col0, #T_a6f28_row67_col0 {\n",
       "  background-color: #4055c8;\n",
       "  color: #f1f1f1;\n",
       "}\n",
       "#T_a6f28_row63_col1 {\n",
       "  background-color: #afcafc;\n",
       "  color: #000000;\n",
       "}\n",
       "#T_a6f28_row63_col2 {\n",
       "  background-color: #f6bea4;\n",
       "  color: #000000;\n",
       "}\n",
       "#T_a6f28_row64_col2 {\n",
       "  background-color: #f7ba9f;\n",
       "  color: #000000;\n",
       "}\n",
       "#T_a6f28_row65_col2 {\n",
       "  background-color: #e97a5f;\n",
       "  color: #f1f1f1;\n",
       "}\n",
       "#T_a6f28_row66_col1, #T_a6f28_row92_col2 {\n",
       "  background-color: #ba162b;\n",
       "  color: #f1f1f1;\n",
       "}\n",
       "#T_a6f28_row66_col2, #T_a6f28_row79_col2, #T_a6f28_row85_col2 {\n",
       "  background-color: #dedcdb;\n",
       "  color: #000000;\n",
       "}\n",
       "#T_a6f28_row67_col2 {\n",
       "  background-color: #d0473d;\n",
       "  color: #f1f1f1;\n",
       "}\n",
       "#T_a6f28_row69_col2 {\n",
       "  background-color: #f7af91;\n",
       "  color: #000000;\n",
       "}\n",
       "#T_a6f28_row70_col1 {\n",
       "  background-color: #d2dbe8;\n",
       "  color: #000000;\n",
       "}\n",
       "#T_a6f28_row72_col2, #T_a6f28_row78_col2 {\n",
       "  background-color: #eed0c0;\n",
       "  color: #000000;\n",
       "}\n",
       "#T_a6f28_row74_col0, #T_a6f28_row75_col0, #T_a6f28_row76_col0, #T_a6f28_row77_col0, #T_a6f28_row78_col0 {\n",
       "  background-color: #3e51c5;\n",
       "  color: #f1f1f1;\n",
       "}\n",
       "#T_a6f28_row76_col1, #T_a6f28_row80_col1, #T_a6f28_row81_col1 {\n",
       "  background-color: #e3d9d3;\n",
       "  color: #000000;\n",
       "}\n",
       "#T_a6f28_row79_col0, #T_a6f28_row80_col0, #T_a6f28_row81_col0, #T_a6f28_row82_col0, #T_a6f28_row83_col0 {\n",
       "  background-color: #3d50c3;\n",
       "  color: #f1f1f1;\n",
       "}\n",
       "#T_a6f28_row80_col2 {\n",
       "  background-color: #bb1b2c;\n",
       "  color: #f1f1f1;\n",
       "}\n",
       "#T_a6f28_row81_col2 {\n",
       "  background-color: #c12b30;\n",
       "  color: #f1f1f1;\n",
       "}\n",
       "#T_a6f28_row82_col2 {\n",
       "  background-color: #efcfbf;\n",
       "  color: #000000;\n",
       "}\n",
       "#T_a6f28_row84_col0, #T_a6f28_row85_col0, #T_a6f28_row86_col0, #T_a6f28_row87_col0, #T_a6f28_row88_col0, #T_a6f28_row89_col0, #T_a6f28_row90_col0, #T_a6f28_row91_col0, #T_a6f28_row92_col0 {\n",
       "  background-color: #3c4ec2;\n",
       "  color: #f1f1f1;\n",
       "}\n",
       "#T_a6f28_row84_col2, #T_a6f28_row97_col2 {\n",
       "  background-color: #dfdbd9;\n",
       "  color: #000000;\n",
       "}\n",
       "#T_a6f28_row88_col2 {\n",
       "  background-color: #e0dbd8;\n",
       "  color: #000000;\n",
       "}\n",
       "#T_a6f28_row89_col2 {\n",
       "  background-color: #7396f5;\n",
       "  color: #f1f1f1;\n",
       "}\n",
       "#T_a6f28_row91_col2 {\n",
       "  background-color: #ead5c9;\n",
       "  color: #000000;\n",
       "}\n",
       "#T_a6f28_row93_col1 {\n",
       "  background-color: #c53334;\n",
       "  color: #f1f1f1;\n",
       "}\n",
       "#T_a6f28_row93_col2 {\n",
       "  background-color: #e5d8d1;\n",
       "  color: #000000;\n",
       "}\n",
       "#T_a6f28_row98_col2 {\n",
       "  background-color: #df634e;\n",
       "  color: #f1f1f1;\n",
       "}\n",
       "</style>\n",
       "<table id=\"T_a6f28\">\n",
       "  <thead>\n",
       "    <tr>\n",
       "      <th class=\"blank level0\" >&nbsp;</th>\n",
       "      <th id=\"T_a6f28_level0_col0\" class=\"col_heading level0 col0\" >logit_diff</th>\n",
       "      <th id=\"T_a6f28_level0_col1\" class=\"col_heading level0 col1\" >batch</th>\n",
       "      <th id=\"T_a6f28_level0_col2\" class=\"col_heading level0 col2\" >pos</th>\n",
       "    </tr>\n",
       "  </thead>\n",
       "  <tbody>\n",
       "    <tr>\n",
       "      <th id=\"T_a6f28_level0_row0\" class=\"row_heading level0 row0\" >436</th>\n",
       "      <td id=\"T_a6f28_row0_col0\" class=\"data row0 col0\" >7.321955</td>\n",
       "      <td id=\"T_a6f28_row0_col1\" class=\"data row0 col1\" >1</td>\n",
       "      <td id=\"T_a6f28_row0_col2\" class=\"data row0 col2\" >180</td>\n",
       "    </tr>\n",
       "    <tr>\n",
       "      <th id=\"T_a6f28_level0_row1\" class=\"row_heading level0 row1\" >12375</th>\n",
       "      <td id=\"T_a6f28_row1_col0\" class=\"data row1 col0\" >3.947590</td>\n",
       "      <td id=\"T_a6f28_row1_col1\" class=\"data row1 col1\" >48</td>\n",
       "      <td id=\"T_a6f28_row1_col2\" class=\"data row1 col2\" >87</td>\n",
       "    </tr>\n",
       "    <tr>\n",
       "      <th id=\"T_a6f28_level0_row2\" class=\"row_heading level0 row2\" >12373</th>\n",
       "      <td id=\"T_a6f28_row2_col0\" class=\"data row2 col0\" >3.835551</td>\n",
       "      <td id=\"T_a6f28_row2_col1\" class=\"data row2 col1\" >48</td>\n",
       "      <td id=\"T_a6f28_row2_col2\" class=\"data row2 col2\" >85</td>\n",
       "    </tr>\n",
       "    <tr>\n",
       "      <th id=\"T_a6f28_level0_row3\" class=\"row_heading level0 row3\" >12391</th>\n",
       "      <td id=\"T_a6f28_row3_col0\" class=\"data row3 col0\" >3.288544</td>\n",
       "      <td id=\"T_a6f28_row3_col1\" class=\"data row3 col1\" >48</td>\n",
       "      <td id=\"T_a6f28_row3_col2\" class=\"data row3 col2\" >103</td>\n",
       "    </tr>\n",
       "    <tr>\n",
       "      <th id=\"T_a6f28_level0_row4\" class=\"row_heading level0 row4\" >12439</th>\n",
       "      <td id=\"T_a6f28_row4_col0\" class=\"data row4 col0\" >2.976463</td>\n",
       "      <td id=\"T_a6f28_row4_col1\" class=\"data row4 col1\" >48</td>\n",
       "      <td id=\"T_a6f28_row4_col2\" class=\"data row4 col2\" >151</td>\n",
       "    </tr>\n",
       "    <tr>\n",
       "      <th id=\"T_a6f28_level0_row5\" class=\"row_heading level0 row5\" >12389</th>\n",
       "      <td id=\"T_a6f28_row5_col0\" class=\"data row5 col0\" >2.804193</td>\n",
       "      <td id=\"T_a6f28_row5_col1\" class=\"data row5 col1\" >48</td>\n",
       "      <td id=\"T_a6f28_row5_col2\" class=\"data row5 col2\" >101</td>\n",
       "    </tr>\n",
       "    <tr>\n",
       "      <th id=\"T_a6f28_level0_row6\" class=\"row_heading level0 row6\" >12437</th>\n",
       "      <td id=\"T_a6f28_row6_col0\" class=\"data row6 col0\" >2.747065</td>\n",
       "      <td id=\"T_a6f28_row6_col1\" class=\"data row6 col1\" >48</td>\n",
       "      <td id=\"T_a6f28_row6_col2\" class=\"data row6 col2\" >149</td>\n",
       "    </tr>\n",
       "    <tr>\n",
       "      <th id=\"T_a6f28_level0_row7\" class=\"row_heading level0 row7\" >6655</th>\n",
       "      <td id=\"T_a6f28_row7_col0\" class=\"data row7 col0\" >2.399273</td>\n",
       "      <td id=\"T_a6f28_row7_col1\" class=\"data row7 col1\" >25</td>\n",
       "      <td id=\"T_a6f28_row7_col2\" class=\"data row7 col2\" >255</td>\n",
       "    </tr>\n",
       "    <tr>\n",
       "      <th id=\"T_a6f28_level0_row8\" class=\"row_heading level0 row8\" >16157</th>\n",
       "      <td id=\"T_a6f28_row8_col0\" class=\"data row8 col0\" >2.126307</td>\n",
       "      <td id=\"T_a6f28_row8_col1\" class=\"data row8 col1\" >63</td>\n",
       "      <td id=\"T_a6f28_row8_col2\" class=\"data row8 col2\" >29</td>\n",
       "    </tr>\n",
       "    <tr>\n",
       "      <th id=\"T_a6f28_level0_row9\" class=\"row_heading level0 row9\" >12666</th>\n",
       "      <td id=\"T_a6f28_row9_col0\" class=\"data row9 col0\" >1.691870</td>\n",
       "      <td id=\"T_a6f28_row9_col1\" class=\"data row9 col1\" >49</td>\n",
       "      <td id=\"T_a6f28_row9_col2\" class=\"data row9 col2\" >122</td>\n",
       "    </tr>\n",
       "    <tr>\n",
       "      <th id=\"T_a6f28_level0_row10\" class=\"row_heading level0 row10\" >5913</th>\n",
       "      <td id=\"T_a6f28_row10_col0\" class=\"data row10 col0\" >1.545777</td>\n",
       "      <td id=\"T_a6f28_row10_col1\" class=\"data row10 col1\" >23</td>\n",
       "      <td id=\"T_a6f28_row10_col2\" class=\"data row10 col2\" >25</td>\n",
       "    </tr>\n",
       "    <tr>\n",
       "      <th id=\"T_a6f28_level0_row11\" class=\"row_heading level0 row11\" >24</th>\n",
       "      <td id=\"T_a6f28_row11_col0\" class=\"data row11 col0\" >1.406985</td>\n",
       "      <td id=\"T_a6f28_row11_col1\" class=\"data row11 col1\" >0</td>\n",
       "      <td id=\"T_a6f28_row11_col2\" class=\"data row11 col2\" >24</td>\n",
       "    </tr>\n",
       "    <tr>\n",
       "      <th id=\"T_a6f28_level0_row12\" class=\"row_heading level0 row12\" >9955</th>\n",
       "      <td id=\"T_a6f28_row12_col0\" class=\"data row12 col0\" >1.358422</td>\n",
       "      <td id=\"T_a6f28_row12_col1\" class=\"data row12 col1\" >38</td>\n",
       "      <td id=\"T_a6f28_row12_col2\" class=\"data row12 col2\" >227</td>\n",
       "    </tr>\n",
       "    <tr>\n",
       "      <th id=\"T_a6f28_level0_row13\" class=\"row_heading level0 row13\" >351</th>\n",
       "      <td id=\"T_a6f28_row13_col0\" class=\"data row13 col0\" >1.292376</td>\n",
       "      <td id=\"T_a6f28_row13_col1\" class=\"data row13 col1\" >1</td>\n",
       "      <td id=\"T_a6f28_row13_col2\" class=\"data row13 col2\" >95</td>\n",
       "    </tr>\n",
       "    <tr>\n",
       "      <th id=\"T_a6f28_level0_row14\" class=\"row_heading level0 row14\" >3985</th>\n",
       "      <td id=\"T_a6f28_row14_col0\" class=\"data row14 col0\" >1.270596</td>\n",
       "      <td id=\"T_a6f28_row14_col1\" class=\"data row14 col1\" >15</td>\n",
       "      <td id=\"T_a6f28_row14_col2\" class=\"data row14 col2\" >145</td>\n",
       "    </tr>\n",
       "    <tr>\n",
       "      <th id=\"T_a6f28_level0_row15\" class=\"row_heading level0 row15\" >382</th>\n",
       "      <td id=\"T_a6f28_row15_col0\" class=\"data row15 col0\" >1.032470</td>\n",
       "      <td id=\"T_a6f28_row15_col1\" class=\"data row15 col1\" >1</td>\n",
       "      <td id=\"T_a6f28_row15_col2\" class=\"data row15 col2\" >126</td>\n",
       "    </tr>\n",
       "    <tr>\n",
       "      <th id=\"T_a6f28_level0_row16\" class=\"row_heading level0 row16\" >2061</th>\n",
       "      <td id=\"T_a6f28_row16_col0\" class=\"data row16 col0\" >0.981686</td>\n",
       "      <td id=\"T_a6f28_row16_col1\" class=\"data row16 col1\" >8</td>\n",
       "      <td id=\"T_a6f28_row16_col2\" class=\"data row16 col2\" >13</td>\n",
       "    </tr>\n",
       "    <tr>\n",
       "      <th id=\"T_a6f28_level0_row17\" class=\"row_heading level0 row17\" >1600</th>\n",
       "      <td id=\"T_a6f28_row17_col0\" class=\"data row17 col0\" >0.948408</td>\n",
       "      <td id=\"T_a6f28_row17_col1\" class=\"data row17 col1\" >6</td>\n",
       "      <td id=\"T_a6f28_row17_col2\" class=\"data row17 col2\" >64</td>\n",
       "    </tr>\n",
       "    <tr>\n",
       "      <th id=\"T_a6f28_level0_row18\" class=\"row_heading level0 row18\" >1032</th>\n",
       "      <td id=\"T_a6f28_row18_col0\" class=\"data row18 col0\" >0.863544</td>\n",
       "      <td id=\"T_a6f28_row18_col1\" class=\"data row18 col1\" >4</td>\n",
       "      <td id=\"T_a6f28_row18_col2\" class=\"data row18 col2\" >8</td>\n",
       "    </tr>\n",
       "    <tr>\n",
       "      <th id=\"T_a6f28_level0_row19\" class=\"row_heading level0 row19\" >6226</th>\n",
       "      <td id=\"T_a6f28_row19_col0\" class=\"data row19 col0\" >0.772561</td>\n",
       "      <td id=\"T_a6f28_row19_col1\" class=\"data row19 col1\" >24</td>\n",
       "      <td id=\"T_a6f28_row19_col2\" class=\"data row19 col2\" >82</td>\n",
       "    </tr>\n",
       "    <tr>\n",
       "      <th id=\"T_a6f28_level0_row20\" class=\"row_heading level0 row20\" >16136</th>\n",
       "      <td id=\"T_a6f28_row20_col0\" class=\"data row20 col0\" >0.743419</td>\n",
       "      <td id=\"T_a6f28_row20_col1\" class=\"data row20 col1\" >63</td>\n",
       "      <td id=\"T_a6f28_row20_col2\" class=\"data row20 col2\" >8</td>\n",
       "    </tr>\n",
       "    <tr>\n",
       "      <th id=\"T_a6f28_level0_row21\" class=\"row_heading level0 row21\" >6348</th>\n",
       "      <td id=\"T_a6f28_row21_col0\" class=\"data row21 col0\" >0.709158</td>\n",
       "      <td id=\"T_a6f28_row21_col1\" class=\"data row21 col1\" >24</td>\n",
       "      <td id=\"T_a6f28_row21_col2\" class=\"data row21 col2\" >204</td>\n",
       "    </tr>\n",
       "    <tr>\n",
       "      <th id=\"T_a6f28_level0_row22\" class=\"row_heading level0 row22\" >13267</th>\n",
       "      <td id=\"T_a6f28_row22_col0\" class=\"data row22 col0\" >0.641938</td>\n",
       "      <td id=\"T_a6f28_row22_col1\" class=\"data row22 col1\" >51</td>\n",
       "      <td id=\"T_a6f28_row22_col2\" class=\"data row22 col2\" >211</td>\n",
       "    </tr>\n",
       "    <tr>\n",
       "      <th id=\"T_a6f28_level0_row23\" class=\"row_heading level0 row23\" >2875</th>\n",
       "      <td id=\"T_a6f28_row23_col0\" class=\"data row23 col0\" >0.630559</td>\n",
       "      <td id=\"T_a6f28_row23_col1\" class=\"data row23 col1\" >11</td>\n",
       "      <td id=\"T_a6f28_row23_col2\" class=\"data row23 col2\" >59</td>\n",
       "    </tr>\n",
       "    <tr>\n",
       "      <th id=\"T_a6f28_level0_row24\" class=\"row_heading level0 row24\" >13552</th>\n",
       "      <td id=\"T_a6f28_row24_col0\" class=\"data row24 col0\" >0.624167</td>\n",
       "      <td id=\"T_a6f28_row24_col1\" class=\"data row24 col1\" >52</td>\n",
       "      <td id=\"T_a6f28_row24_col2\" class=\"data row24 col2\" >240</td>\n",
       "    </tr>\n",
       "    <tr>\n",
       "      <th id=\"T_a6f28_level0_row25\" class=\"row_heading level0 row25\" >1324</th>\n",
       "      <td id=\"T_a6f28_row25_col0\" class=\"data row25 col0\" >0.553127</td>\n",
       "      <td id=\"T_a6f28_row25_col1\" class=\"data row25 col1\" >5</td>\n",
       "      <td id=\"T_a6f28_row25_col2\" class=\"data row25 col2\" >44</td>\n",
       "    </tr>\n",
       "    <tr>\n",
       "      <th id=\"T_a6f28_level0_row26\" class=\"row_heading level0 row26\" >8948</th>\n",
       "      <td id=\"T_a6f28_row26_col0\" class=\"data row26 col0\" >0.549250</td>\n",
       "      <td id=\"T_a6f28_row26_col1\" class=\"data row26 col1\" >34</td>\n",
       "      <td id=\"T_a6f28_row26_col2\" class=\"data row26 col2\" >244</td>\n",
       "    </tr>\n",
       "    <tr>\n",
       "      <th id=\"T_a6f28_level0_row27\" class=\"row_heading level0 row27\" >8711</th>\n",
       "      <td id=\"T_a6f28_row27_col0\" class=\"data row27 col0\" >0.545498</td>\n",
       "      <td id=\"T_a6f28_row27_col1\" class=\"data row27 col1\" >34</td>\n",
       "      <td id=\"T_a6f28_row27_col2\" class=\"data row27 col2\" >7</td>\n",
       "    </tr>\n",
       "    <tr>\n",
       "      <th id=\"T_a6f28_level0_row28\" class=\"row_heading level0 row28\" >6095</th>\n",
       "      <td id=\"T_a6f28_row28_col0\" class=\"data row28 col0\" >0.529099</td>\n",
       "      <td id=\"T_a6f28_row28_col1\" class=\"data row28 col1\" >23</td>\n",
       "      <td id=\"T_a6f28_row28_col2\" class=\"data row28 col2\" >207</td>\n",
       "    </tr>\n",
       "    <tr>\n",
       "      <th id=\"T_a6f28_level0_row29\" class=\"row_heading level0 row29\" >4577</th>\n",
       "      <td id=\"T_a6f28_row29_col0\" class=\"data row29 col0\" >0.475231</td>\n",
       "      <td id=\"T_a6f28_row29_col1\" class=\"data row29 col1\" >17</td>\n",
       "      <td id=\"T_a6f28_row29_col2\" class=\"data row29 col2\" >225</td>\n",
       "    </tr>\n",
       "    <tr>\n",
       "      <th id=\"T_a6f28_level0_row30\" class=\"row_heading level0 row30\" >10840</th>\n",
       "      <td id=\"T_a6f28_row30_col0\" class=\"data row30 col0\" >0.457138</td>\n",
       "      <td id=\"T_a6f28_row30_col1\" class=\"data row30 col1\" >42</td>\n",
       "      <td id=\"T_a6f28_row30_col2\" class=\"data row30 col2\" >88</td>\n",
       "    </tr>\n",
       "    <tr>\n",
       "      <th id=\"T_a6f28_level0_row31\" class=\"row_heading level0 row31\" >5287</th>\n",
       "      <td id=\"T_a6f28_row31_col0\" class=\"data row31 col0\" >0.445925</td>\n",
       "      <td id=\"T_a6f28_row31_col1\" class=\"data row31 col1\" >20</td>\n",
       "      <td id=\"T_a6f28_row31_col2\" class=\"data row31 col2\" >167</td>\n",
       "    </tr>\n",
       "    <tr>\n",
       "      <th id=\"T_a6f28_level0_row32\" class=\"row_heading level0 row32\" >2580</th>\n",
       "      <td id=\"T_a6f28_row32_col0\" class=\"data row32 col0\" >0.443489</td>\n",
       "      <td id=\"T_a6f28_row32_col1\" class=\"data row32 col1\" >10</td>\n",
       "      <td id=\"T_a6f28_row32_col2\" class=\"data row32 col2\" >20</td>\n",
       "    </tr>\n",
       "    <tr>\n",
       "      <th id=\"T_a6f28_level0_row33\" class=\"row_heading level0 row33\" >4601</th>\n",
       "      <td id=\"T_a6f28_row33_col0\" class=\"data row33 col0\" >0.431916</td>\n",
       "      <td id=\"T_a6f28_row33_col1\" class=\"data row33 col1\" >17</td>\n",
       "      <td id=\"T_a6f28_row33_col2\" class=\"data row33 col2\" >249</td>\n",
       "    </tr>\n",
       "    <tr>\n",
       "      <th id=\"T_a6f28_level0_row34\" class=\"row_heading level0 row34\" >941</th>\n",
       "      <td id=\"T_a6f28_row34_col0\" class=\"data row34 col0\" >0.380904</td>\n",
       "      <td id=\"T_a6f28_row34_col1\" class=\"data row34 col1\" >3</td>\n",
       "      <td id=\"T_a6f28_row34_col2\" class=\"data row34 col2\" >173</td>\n",
       "    </tr>\n",
       "    <tr>\n",
       "      <th id=\"T_a6f28_level0_row35\" class=\"row_heading level0 row35\" >11716</th>\n",
       "      <td id=\"T_a6f28_row35_col0\" class=\"data row35 col0\" >0.359829</td>\n",
       "      <td id=\"T_a6f28_row35_col1\" class=\"data row35 col1\" >45</td>\n",
       "      <td id=\"T_a6f28_row35_col2\" class=\"data row35 col2\" >196</td>\n",
       "    </tr>\n",
       "    <tr>\n",
       "      <th id=\"T_a6f28_level0_row36\" class=\"row_heading level0 row36\" >11695</th>\n",
       "      <td id=\"T_a6f28_row36_col0\" class=\"data row36 col0\" >0.355770</td>\n",
       "      <td id=\"T_a6f28_row36_col1\" class=\"data row36 col1\" >45</td>\n",
       "      <td id=\"T_a6f28_row36_col2\" class=\"data row36 col2\" >175</td>\n",
       "    </tr>\n",
       "    <tr>\n",
       "      <th id=\"T_a6f28_level0_row37\" class=\"row_heading level0 row37\" >14659</th>\n",
       "      <td id=\"T_a6f28_row37_col0\" class=\"data row37 col0\" >0.320036</td>\n",
       "      <td id=\"T_a6f28_row37_col1\" class=\"data row37 col1\" >57</td>\n",
       "      <td id=\"T_a6f28_row37_col2\" class=\"data row37 col2\" >67</td>\n",
       "    </tr>\n",
       "    <tr>\n",
       "      <th id=\"T_a6f28_level0_row38\" class=\"row_heading level0 row38\" >12371</th>\n",
       "      <td id=\"T_a6f28_row38_col0\" class=\"data row38 col0\" >0.300339</td>\n",
       "      <td id=\"T_a6f28_row38_col1\" class=\"data row38 col1\" >48</td>\n",
       "      <td id=\"T_a6f28_row38_col2\" class=\"data row38 col2\" >83</td>\n",
       "    </tr>\n",
       "    <tr>\n",
       "      <th id=\"T_a6f28_level0_row39\" class=\"row_heading level0 row39\" >3984</th>\n",
       "      <td id=\"T_a6f28_row39_col0\" class=\"data row39 col0\" >0.288355</td>\n",
       "      <td id=\"T_a6f28_row39_col1\" class=\"data row39 col1\" >15</td>\n",
       "      <td id=\"T_a6f28_row39_col2\" class=\"data row39 col2\" >144</td>\n",
       "    </tr>\n",
       "    <tr>\n",
       "      <th id=\"T_a6f28_level0_row40\" class=\"row_heading level0 row40\" >4661</th>\n",
       "      <td id=\"T_a6f28_row40_col0\" class=\"data row40 col0\" >0.283202</td>\n",
       "      <td id=\"T_a6f28_row40_col1\" class=\"data row40 col1\" >18</td>\n",
       "      <td id=\"T_a6f28_row40_col2\" class=\"data row40 col2\" >53</td>\n",
       "    </tr>\n",
       "    <tr>\n",
       "      <th id=\"T_a6f28_level0_row41\" class=\"row_heading level0 row41\" >6637</th>\n",
       "      <td id=\"T_a6f28_row41_col0\" class=\"data row41 col0\" >0.271791</td>\n",
       "      <td id=\"T_a6f28_row41_col1\" class=\"data row41 col1\" >25</td>\n",
       "      <td id=\"T_a6f28_row41_col2\" class=\"data row41 col2\" >237</td>\n",
       "    </tr>\n",
       "    <tr>\n",
       "      <th id=\"T_a6f28_level0_row42\" class=\"row_heading level0 row42\" >12952</th>\n",
       "      <td id=\"T_a6f28_row42_col0\" class=\"data row42 col0\" >0.270803</td>\n",
       "      <td id=\"T_a6f28_row42_col1\" class=\"data row42 col1\" >50</td>\n",
       "      <td id=\"T_a6f28_row42_col2\" class=\"data row42 col2\" >152</td>\n",
       "    </tr>\n",
       "    <tr>\n",
       "      <th id=\"T_a6f28_level0_row43\" class=\"row_heading level0 row43\" >983</th>\n",
       "      <td id=\"T_a6f28_row43_col0\" class=\"data row43 col0\" >0.252758</td>\n",
       "      <td id=\"T_a6f28_row43_col1\" class=\"data row43 col1\" >3</td>\n",
       "      <td id=\"T_a6f28_row43_col2\" class=\"data row43 col2\" >215</td>\n",
       "    </tr>\n",
       "    <tr>\n",
       "      <th id=\"T_a6f28_level0_row44\" class=\"row_heading level0 row44\" >10501</th>\n",
       "      <td id=\"T_a6f28_row44_col0\" class=\"data row44 col0\" >0.244047</td>\n",
       "      <td id=\"T_a6f28_row44_col1\" class=\"data row44 col1\" >41</td>\n",
       "      <td id=\"T_a6f28_row44_col2\" class=\"data row44 col2\" >5</td>\n",
       "    </tr>\n",
       "    <tr>\n",
       "      <th id=\"T_a6f28_level0_row45\" class=\"row_heading level0 row45\" >10915</th>\n",
       "      <td id=\"T_a6f28_row45_col0\" class=\"data row45 col0\" >0.233108</td>\n",
       "      <td id=\"T_a6f28_row45_col1\" class=\"data row45 col1\" >42</td>\n",
       "      <td id=\"T_a6f28_row45_col2\" class=\"data row45 col2\" >163</td>\n",
       "    </tr>\n",
       "    <tr>\n",
       "      <th id=\"T_a6f28_level0_row46\" class=\"row_heading level0 row46\" >2842</th>\n",
       "      <td id=\"T_a6f28_row46_col0\" class=\"data row46 col0\" >0.231016</td>\n",
       "      <td id=\"T_a6f28_row46_col1\" class=\"data row46 col1\" >11</td>\n",
       "      <td id=\"T_a6f28_row46_col2\" class=\"data row46 col2\" >26</td>\n",
       "    </tr>\n",
       "    <tr>\n",
       "      <th id=\"T_a6f28_level0_row47\" class=\"row_heading level0 row47\" >1354</th>\n",
       "      <td id=\"T_a6f28_row47_col0\" class=\"data row47 col0\" >0.208718</td>\n",
       "      <td id=\"T_a6f28_row47_col1\" class=\"data row47 col1\" >5</td>\n",
       "      <td id=\"T_a6f28_row47_col2\" class=\"data row47 col2\" >74</td>\n",
       "    </tr>\n",
       "    <tr>\n",
       "      <th id=\"T_a6f28_level0_row48\" class=\"row_heading level0 row48\" >12593</th>\n",
       "      <td id=\"T_a6f28_row48_col0\" class=\"data row48 col0\" >0.203429</td>\n",
       "      <td id=\"T_a6f28_row48_col1\" class=\"data row48 col1\" >49</td>\n",
       "      <td id=\"T_a6f28_row48_col2\" class=\"data row48 col2\" >49</td>\n",
       "    </tr>\n",
       "    <tr>\n",
       "      <th id=\"T_a6f28_level0_row49\" class=\"row_heading level0 row49\" >1601</th>\n",
       "      <td id=\"T_a6f28_row49_col0\" class=\"data row49 col0\" >0.196592</td>\n",
       "      <td id=\"T_a6f28_row49_col1\" class=\"data row49 col1\" >6</td>\n",
       "      <td id=\"T_a6f28_row49_col2\" class=\"data row49 col2\" >65</td>\n",
       "    </tr>\n",
       "    <tr>\n",
       "      <th id=\"T_a6f28_level0_row50\" class=\"row_heading level0 row50\" >4649</th>\n",
       "      <td id=\"T_a6f28_row50_col0\" class=\"data row50 col0\" >0.191348</td>\n",
       "      <td id=\"T_a6f28_row50_col1\" class=\"data row50 col1\" >18</td>\n",
       "      <td id=\"T_a6f28_row50_col2\" class=\"data row50 col2\" >41</td>\n",
       "    </tr>\n",
       "    <tr>\n",
       "      <th id=\"T_a6f28_level0_row51\" class=\"row_heading level0 row51\" >12596</th>\n",
       "      <td id=\"T_a6f28_row51_col0\" class=\"data row51 col0\" >0.189874</td>\n",
       "      <td id=\"T_a6f28_row51_col1\" class=\"data row51 col1\" >49</td>\n",
       "      <td id=\"T_a6f28_row51_col2\" class=\"data row51 col2\" >52</td>\n",
       "    </tr>\n",
       "    <tr>\n",
       "      <th id=\"T_a6f28_level0_row52\" class=\"row_heading level0 row52\" >5910</th>\n",
       "      <td id=\"T_a6f28_row52_col0\" class=\"data row52 col0\" >0.184601</td>\n",
       "      <td id=\"T_a6f28_row52_col1\" class=\"data row52 col1\" >23</td>\n",
       "      <td id=\"T_a6f28_row52_col2\" class=\"data row52 col2\" >22</td>\n",
       "    </tr>\n",
       "    <tr>\n",
       "      <th id=\"T_a6f28_level0_row53\" class=\"row_heading level0 row53\" >10787</th>\n",
       "      <td id=\"T_a6f28_row53_col0\" class=\"data row53 col0\" >0.172678</td>\n",
       "      <td id=\"T_a6f28_row53_col1\" class=\"data row53 col1\" >42</td>\n",
       "      <td id=\"T_a6f28_row53_col2\" class=\"data row53 col2\" >35</td>\n",
       "    </tr>\n",
       "    <tr>\n",
       "      <th id=\"T_a6f28_level0_row54\" class=\"row_heading level0 row54\" >11088</th>\n",
       "      <td id=\"T_a6f28_row54_col0\" class=\"data row54 col0\" >0.163222</td>\n",
       "      <td id=\"T_a6f28_row54_col1\" class=\"data row54 col1\" >43</td>\n",
       "      <td id=\"T_a6f28_row54_col2\" class=\"data row54 col2\" >80</td>\n",
       "    </tr>\n",
       "    <tr>\n",
       "      <th id=\"T_a6f28_level0_row55\" class=\"row_heading level0 row55\" >1534</th>\n",
       "      <td id=\"T_a6f28_row55_col0\" class=\"data row55 col0\" >0.156579</td>\n",
       "      <td id=\"T_a6f28_row55_col1\" class=\"data row55 col1\" >5</td>\n",
       "      <td id=\"T_a6f28_row55_col2\" class=\"data row55 col2\" >254</td>\n",
       "    </tr>\n",
       "    <tr>\n",
       "      <th id=\"T_a6f28_level0_row56\" class=\"row_heading level0 row56\" >14341</th>\n",
       "      <td id=\"T_a6f28_row56_col0\" class=\"data row56 col0\" >0.137374</td>\n",
       "      <td id=\"T_a6f28_row56_col1\" class=\"data row56 col1\" >56</td>\n",
       "      <td id=\"T_a6f28_row56_col2\" class=\"data row56 col2\" >5</td>\n",
       "    </tr>\n",
       "    <tr>\n",
       "      <th id=\"T_a6f28_level0_row57\" class=\"row_heading level0 row57\" >944</th>\n",
       "      <td id=\"T_a6f28_row57_col0\" class=\"data row57 col0\" >0.131025</td>\n",
       "      <td id=\"T_a6f28_row57_col1\" class=\"data row57 col1\" >3</td>\n",
       "      <td id=\"T_a6f28_row57_col2\" class=\"data row57 col2\" >176</td>\n",
       "    </tr>\n",
       "    <tr>\n",
       "      <th id=\"T_a6f28_level0_row58\" class=\"row_heading level0 row58\" >3536</th>\n",
       "      <td id=\"T_a6f28_row58_col0\" class=\"data row58 col0\" >0.118965</td>\n",
       "      <td id=\"T_a6f28_row58_col1\" class=\"data row58 col1\" >13</td>\n",
       "      <td id=\"T_a6f28_row58_col2\" class=\"data row58 col2\" >208</td>\n",
       "    </tr>\n",
       "    <tr>\n",
       "      <th id=\"T_a6f28_level0_row59\" class=\"row_heading level0 row59\" >10745</th>\n",
       "      <td id=\"T_a6f28_row59_col0\" class=\"data row59 col0\" >0.113563</td>\n",
       "      <td id=\"T_a6f28_row59_col1\" class=\"data row59 col1\" >41</td>\n",
       "      <td id=\"T_a6f28_row59_col2\" class=\"data row59 col2\" >249</td>\n",
       "    </tr>\n",
       "    <tr>\n",
       "      <th id=\"T_a6f28_level0_row60\" class=\"row_heading level0 row60\" >3678</th>\n",
       "      <td id=\"T_a6f28_row60_col0\" class=\"data row60 col0\" >0.113272</td>\n",
       "      <td id=\"T_a6f28_row60_col1\" class=\"data row60 col1\" >14</td>\n",
       "      <td id=\"T_a6f28_row60_col2\" class=\"data row60 col2\" >94</td>\n",
       "    </tr>\n",
       "    <tr>\n",
       "      <th id=\"T_a6f28_level0_row61\" class=\"row_heading level0 row61\" >10367</th>\n",
       "      <td id=\"T_a6f28_row61_col0\" class=\"data row61 col0\" >0.112443</td>\n",
       "      <td id=\"T_a6f28_row61_col1\" class=\"data row61 col1\" >40</td>\n",
       "      <td id=\"T_a6f28_row61_col2\" class=\"data row61 col2\" >127</td>\n",
       "    </tr>\n",
       "    <tr>\n",
       "      <th id=\"T_a6f28_level0_row62\" class=\"row_heading level0 row62\" >6562</th>\n",
       "      <td id=\"T_a6f28_row62_col0\" class=\"data row62 col0\" >0.111357</td>\n",
       "      <td id=\"T_a6f28_row62_col1\" class=\"data row62 col1\" >25</td>\n",
       "      <td id=\"T_a6f28_row62_col2\" class=\"data row62 col2\" >162</td>\n",
       "    </tr>\n",
       "    <tr>\n",
       "      <th id=\"T_a6f28_level0_row63\" class=\"row_heading level0 row63\" >5797</th>\n",
       "      <td id=\"T_a6f28_row63_col0\" class=\"data row63 col0\" >0.101937</td>\n",
       "      <td id=\"T_a6f28_row63_col1\" class=\"data row63 col1\" >22</td>\n",
       "      <td id=\"T_a6f28_row63_col2\" class=\"data row63 col2\" >165</td>\n",
       "    </tr>\n",
       "    <tr>\n",
       "      <th id=\"T_a6f28_level0_row64\" class=\"row_heading level0 row64\" >2728</th>\n",
       "      <td id=\"T_a6f28_row64_col0\" class=\"data row64 col0\" >0.101766</td>\n",
       "      <td id=\"T_a6f28_row64_col1\" class=\"data row64 col1\" >10</td>\n",
       "      <td id=\"T_a6f28_row64_col2\" class=\"data row64 col2\" >168</td>\n",
       "    </tr>\n",
       "    <tr>\n",
       "      <th id=\"T_a6f28_level0_row65\" class=\"row_heading level0 row65\" >210</th>\n",
       "      <td id=\"T_a6f28_row65_col0\" class=\"data row65 col0\" >0.091495</td>\n",
       "      <td id=\"T_a6f28_row65_col1\" class=\"data row65 col1\" >0</td>\n",
       "      <td id=\"T_a6f28_row65_col2\" class=\"data row65 col2\" >210</td>\n",
       "    </tr>\n",
       "    <tr>\n",
       "      <th id=\"T_a6f28_level0_row66\" class=\"row_heading level0 row66\" >16001</th>\n",
       "      <td id=\"T_a6f28_row66_col0\" class=\"data row66 col0\" >0.090351</td>\n",
       "      <td id=\"T_a6f28_row66_col1\" class=\"data row66 col1\" >62</td>\n",
       "      <td id=\"T_a6f28_row66_col2\" class=\"data row66 col2\" >129</td>\n",
       "    </tr>\n",
       "    <tr>\n",
       "      <th id=\"T_a6f28_level0_row67\" class=\"row_heading level0 row67\" >10987</th>\n",
       "      <td id=\"T_a6f28_row67_col0\" class=\"data row67 col0\" >0.082273</td>\n",
       "      <td id=\"T_a6f28_row67_col1\" class=\"data row67 col1\" >42</td>\n",
       "      <td id=\"T_a6f28_row67_col2\" class=\"data row67 col2\" >235</td>\n",
       "    </tr>\n",
       "    <tr>\n",
       "      <th id=\"T_a6f28_level0_row68\" class=\"row_heading level0 row68\" >656</th>\n",
       "      <td id=\"T_a6f28_row68_col0\" class=\"data row68 col0\" >0.080490</td>\n",
       "      <td id=\"T_a6f28_row68_col1\" class=\"data row68 col1\" >2</td>\n",
       "      <td id=\"T_a6f28_row68_col2\" class=\"data row68 col2\" >144</td>\n",
       "    </tr>\n",
       "    <tr>\n",
       "      <th id=\"T_a6f28_level0_row69\" class=\"row_heading level0 row69\" >945</th>\n",
       "      <td id=\"T_a6f28_row69_col0\" class=\"data row69 col0\" >0.074588</td>\n",
       "      <td id=\"T_a6f28_row69_col1\" class=\"data row69 col1\" >3</td>\n",
       "      <td id=\"T_a6f28_row69_col2\" class=\"data row69 col2\" >177</td>\n",
       "    </tr>\n",
       "    <tr>\n",
       "      <th id=\"T_a6f28_level0_row70\" class=\"row_heading level0 row70\" >7441</th>\n",
       "      <td id=\"T_a6f28_row70_col0\" class=\"data row70 col0\" >0.067589</td>\n",
       "      <td id=\"T_a6f28_row70_col1\" class=\"data row70 col1\" >29</td>\n",
       "      <td id=\"T_a6f28_row70_col2\" class=\"data row70 col2\" >17</td>\n",
       "    </tr>\n",
       "    <tr>\n",
       "      <th id=\"T_a6f28_level0_row71\" class=\"row_heading level0 row71\" >1228</th>\n",
       "      <td id=\"T_a6f28_row71_col0\" class=\"data row71 col0\" >0.065435</td>\n",
       "      <td id=\"T_a6f28_row71_col1\" class=\"data row71 col1\" >4</td>\n",
       "      <td id=\"T_a6f28_row71_col2\" class=\"data row71 col2\" >204</td>\n",
       "    </tr>\n",
       "    <tr>\n",
       "      <th id=\"T_a6f28_level0_row72\" class=\"row_heading level0 row72\" >915</th>\n",
       "      <td id=\"T_a6f28_row72_col0\" class=\"data row72 col0\" >0.061123</td>\n",
       "      <td id=\"T_a6f28_row72_col1\" class=\"data row72 col1\" >3</td>\n",
       "      <td id=\"T_a6f28_row72_col2\" class=\"data row72 col2\" >147</td>\n",
       "    </tr>\n",
       "    <tr>\n",
       "      <th id=\"T_a6f28_level0_row73\" class=\"row_heading level0 row73\" >1298</th>\n",
       "      <td id=\"T_a6f28_row73_col0\" class=\"data row73 col0\" >0.054635</td>\n",
       "      <td id=\"T_a6f28_row73_col1\" class=\"data row73 col1\" >5</td>\n",
       "      <td id=\"T_a6f28_row73_col2\" class=\"data row73 col2\" >18</td>\n",
       "    </tr>\n",
       "    <tr>\n",
       "      <th id=\"T_a6f28_level0_row74\" class=\"row_heading level0 row74\" >14836</th>\n",
       "      <td id=\"T_a6f28_row74_col0\" class=\"data row74 col0\" >0.043716</td>\n",
       "      <td id=\"T_a6f28_row74_col1\" class=\"data row74 col1\" >57</td>\n",
       "      <td id=\"T_a6f28_row74_col2\" class=\"data row74 col2\" >244</td>\n",
       "    </tr>\n",
       "    <tr>\n",
       "      <th id=\"T_a6f28_level0_row75\" class=\"row_heading level0 row75\" >12706</th>\n",
       "      <td id=\"T_a6f28_row75_col0\" class=\"data row75 col0\" >0.035278</td>\n",
       "      <td id=\"T_a6f28_row75_col1\" class=\"data row75 col1\" >49</td>\n",
       "      <td id=\"T_a6f28_row75_col2\" class=\"data row75 col2\" >162</td>\n",
       "    </tr>\n",
       "    <tr>\n",
       "      <th id=\"T_a6f28_level0_row76\" class=\"row_heading level0 row76\" >8449</th>\n",
       "      <td id=\"T_a6f28_row76_col0\" class=\"data row76 col0\" >0.032831</td>\n",
       "      <td id=\"T_a6f28_row76_col1\" class=\"data row76 col1\" >33</td>\n",
       "      <td id=\"T_a6f28_row76_col2\" class=\"data row76 col2\" >1</td>\n",
       "    </tr>\n",
       "    <tr>\n",
       "      <th id=\"T_a6f28_level0_row77\" class=\"row_heading level0 row77\" >4361</th>\n",
       "      <td id=\"T_a6f28_row77_col0\" class=\"data row77 col0\" >0.030225</td>\n",
       "      <td id=\"T_a6f28_row77_col1\" class=\"data row77 col1\" >17</td>\n",
       "      <td id=\"T_a6f28_row77_col2\" class=\"data row77 col2\" >9</td>\n",
       "    </tr>\n",
       "    <tr>\n",
       "      <th id=\"T_a6f28_level0_row78\" class=\"row_heading level0 row78\" >12435</th>\n",
       "      <td id=\"T_a6f28_row78_col0\" class=\"data row78 col0\" >0.028378</td>\n",
       "      <td id=\"T_a6f28_row78_col1\" class=\"data row78 col1\" >48</td>\n",
       "      <td id=\"T_a6f28_row78_col2\" class=\"data row78 col2\" >147</td>\n",
       "    </tr>\n",
       "    <tr>\n",
       "      <th id=\"T_a6f28_level0_row79\" class=\"row_heading level0 row79\" >11137</th>\n",
       "      <td id=\"T_a6f28_row79_col0\" class=\"data row79 col0\" >0.012282</td>\n",
       "      <td id=\"T_a6f28_row79_col1\" class=\"data row79 col1\" >43</td>\n",
       "      <td id=\"T_a6f28_row79_col2\" class=\"data row79 col2\" >129</td>\n",
       "    </tr>\n",
       "    <tr>\n",
       "      <th id=\"T_a6f28_level0_row80\" class=\"row_heading level0 row80\" >8698</th>\n",
       "      <td id=\"T_a6f28_row80_col0\" class=\"data row80 col0\" >0.010820</td>\n",
       "      <td id=\"T_a6f28_row80_col1\" class=\"data row80 col1\" >33</td>\n",
       "      <td id=\"T_a6f28_row80_col2\" class=\"data row80 col2\" >250</td>\n",
       "    </tr>\n",
       "    <tr>\n",
       "      <th id=\"T_a6f28_level0_row81\" class=\"row_heading level0 row81\" >8694</th>\n",
       "      <td id=\"T_a6f28_row81_col0\" class=\"data row81 col0\" >0.007830</td>\n",
       "      <td id=\"T_a6f28_row81_col1\" class=\"data row81 col1\" >33</td>\n",
       "      <td id=\"T_a6f28_row81_col2\" class=\"data row81 col2\" >246</td>\n",
       "    </tr>\n",
       "    <tr>\n",
       "      <th id=\"T_a6f28_level0_row82\" class=\"row_heading level0 row82\" >13204</th>\n",
       "      <td id=\"T_a6f28_row82_col0\" class=\"data row82 col0\" >-0.001306</td>\n",
       "      <td id=\"T_a6f28_row82_col1\" class=\"data row82 col1\" >51</td>\n",
       "      <td id=\"T_a6f28_row82_col2\" class=\"data row82 col2\" >148</td>\n",
       "    </tr>\n",
       "    <tr>\n",
       "      <th id=\"T_a6f28_level0_row83\" class=\"row_heading level0 row83\" >16282</th>\n",
       "      <td id=\"T_a6f28_row83_col0\" class=\"data row83 col0\" >-0.002052</td>\n",
       "      <td id=\"T_a6f28_row83_col1\" class=\"data row83 col1\" >63</td>\n",
       "      <td id=\"T_a6f28_row83_col2\" class=\"data row83 col2\" >154</td>\n",
       "    </tr>\n",
       "    <tr>\n",
       "      <th id=\"T_a6f28_level0_row84\" class=\"row_heading level0 row84\" >16258</th>\n",
       "      <td id=\"T_a6f28_row84_col0\" class=\"data row84 col0\" >-0.008881</td>\n",
       "      <td id=\"T_a6f28_row84_col1\" class=\"data row84 col1\" >63</td>\n",
       "      <td id=\"T_a6f28_row84_col2\" class=\"data row84 col2\" >130</td>\n",
       "    </tr>\n",
       "    <tr>\n",
       "      <th id=\"T_a6f28_level0_row85\" class=\"row_heading level0 row85\" >3457</th>\n",
       "      <td id=\"T_a6f28_row85_col0\" class=\"data row85 col0\" >-0.013357</td>\n",
       "      <td id=\"T_a6f28_row85_col1\" class=\"data row85 col1\" >13</td>\n",
       "      <td id=\"T_a6f28_row85_col2\" class=\"data row85 col2\" >129</td>\n",
       "    </tr>\n",
       "    <tr>\n",
       "      <th id=\"T_a6f28_level0_row86\" class=\"row_heading level0 row86\" >2581</th>\n",
       "      <td id=\"T_a6f28_row86_col0\" class=\"data row86 col0\" >-0.015331</td>\n",
       "      <td id=\"T_a6f28_row86_col1\" class=\"data row86 col1\" >10</td>\n",
       "      <td id=\"T_a6f28_row86_col2\" class=\"data row86 col2\" >21</td>\n",
       "    </tr>\n",
       "    <tr>\n",
       "      <th id=\"T_a6f28_level0_row87\" class=\"row_heading level0 row87\" >11686</th>\n",
       "      <td id=\"T_a6f28_row87_col0\" class=\"data row87 col0\" >-0.017232</td>\n",
       "      <td id=\"T_a6f28_row87_col1\" class=\"data row87 col1\" >45</td>\n",
       "      <td id=\"T_a6f28_row87_col2\" class=\"data row87 col2\" >166</td>\n",
       "    </tr>\n",
       "    <tr>\n",
       "      <th id=\"T_a6f28_level0_row88\" class=\"row_heading level0 row88\" >3459</th>\n",
       "      <td id=\"T_a6f28_row88_col0\" class=\"data row88 col0\" >-0.021374</td>\n",
       "      <td id=\"T_a6f28_row88_col1\" class=\"data row88 col1\" >13</td>\n",
       "      <td id=\"T_a6f28_row88_col2\" class=\"data row88 col2\" >131</td>\n",
       "    </tr>\n",
       "    <tr>\n",
       "      <th id=\"T_a6f28_level0_row89\" class=\"row_heading level0 row89\" >14638</th>\n",
       "      <td id=\"T_a6f28_row89_col0\" class=\"data row89 col0\" >-0.021547</td>\n",
       "      <td id=\"T_a6f28_row89_col1\" class=\"data row89 col1\" >57</td>\n",
       "      <td id=\"T_a6f28_row89_col2\" class=\"data row89 col2\" >46</td>\n",
       "    </tr>\n",
       "    <tr>\n",
       "      <th id=\"T_a6f28_level0_row90\" class=\"row_heading level0 row90\" >10545</th>\n",
       "      <td id=\"T_a6f28_row90_col0\" class=\"data row90 col0\" >-0.028377</td>\n",
       "      <td id=\"T_a6f28_row90_col1\" class=\"data row90 col1\" >41</td>\n",
       "      <td id=\"T_a6f28_row90_col2\" class=\"data row90 col2\" >49</td>\n",
       "    </tr>\n",
       "    <tr>\n",
       "      <th id=\"T_a6f28_level0_row91\" class=\"row_heading level0 row91\" >12941</th>\n",
       "      <td id=\"T_a6f28_row91_col0\" class=\"data row91 col0\" >-0.029060</td>\n",
       "      <td id=\"T_a6f28_row91_col1\" class=\"data row91 col1\" >50</td>\n",
       "      <td id=\"T_a6f28_row91_col2\" class=\"data row91 col2\" >141</td>\n",
       "    </tr>\n",
       "    <tr>\n",
       "      <th id=\"T_a6f28_level0_row92\" class=\"row_heading level0 row92\" >763</th>\n",
       "      <td id=\"T_a6f28_row92_col0\" class=\"data row92 col0\" >-0.032201</td>\n",
       "      <td id=\"T_a6f28_row92_col1\" class=\"data row92 col1\" >2</td>\n",
       "      <td id=\"T_a6f28_row92_col2\" class=\"data row92 col2\" >251</td>\n",
       "    </tr>\n",
       "    <tr>\n",
       "      <th id=\"T_a6f28_level0_row93\" class=\"row_heading level0 row93\" >15496</th>\n",
       "      <td id=\"T_a6f28_row93_col0\" class=\"data row93 col0\" >-0.034291</td>\n",
       "      <td id=\"T_a6f28_row93_col1\" class=\"data row93 col1\" >60</td>\n",
       "      <td id=\"T_a6f28_row93_col2\" class=\"data row93 col2\" >136</td>\n",
       "    </tr>\n",
       "    <tr>\n",
       "      <th id=\"T_a6f28_level0_row94\" class=\"row_heading level0 row94\" >10918</th>\n",
       "      <td id=\"T_a6f28_row94_col0\" class=\"data row94 col0\" >-0.039089</td>\n",
       "      <td id=\"T_a6f28_row94_col1\" class=\"data row94 col1\" >42</td>\n",
       "      <td id=\"T_a6f28_row94_col2\" class=\"data row94 col2\" >166</td>\n",
       "    </tr>\n",
       "    <tr>\n",
       "      <th id=\"T_a6f28_level0_row95\" class=\"row_heading level0 row95\" >1791</th>\n",
       "      <td id=\"T_a6f28_row95_col0\" class=\"data row95 col0\" >-0.045228</td>\n",
       "      <td id=\"T_a6f28_row95_col1\" class=\"data row95 col1\" >6</td>\n",
       "      <td id=\"T_a6f28_row95_col2\" class=\"data row95 col2\" >255</td>\n",
       "    </tr>\n",
       "    <tr>\n",
       "      <th id=\"T_a6f28_level0_row96\" class=\"row_heading level0 row96\" >1572</th>\n",
       "      <td id=\"T_a6f28_row96_col0\" class=\"data row96 col0\" >-0.058677</td>\n",
       "      <td id=\"T_a6f28_row96_col1\" class=\"data row96 col1\" >6</td>\n",
       "      <td id=\"T_a6f28_row96_col2\" class=\"data row96 col2\" >36</td>\n",
       "    </tr>\n",
       "    <tr>\n",
       "      <th id=\"T_a6f28_level0_row97\" class=\"row_heading level0 row97\" >2178</th>\n",
       "      <td id=\"T_a6f28_row97_col0\" class=\"data row97 col0\" >-0.060531</td>\n",
       "      <td id=\"T_a6f28_row97_col1\" class=\"data row97 col1\" >8</td>\n",
       "      <td id=\"T_a6f28_row97_col2\" class=\"data row97 col2\" >130</td>\n",
       "    </tr>\n",
       "    <tr>\n",
       "      <th id=\"T_a6f28_level0_row98\" class=\"row_heading level0 row98\" >10974</th>\n",
       "      <td id=\"T_a6f28_row98_col0\" class=\"data row98 col0\" >-0.062417</td>\n",
       "      <td id=\"T_a6f28_row98_col1\" class=\"data row98 col1\" >42</td>\n",
       "      <td id=\"T_a6f28_row98_col2\" class=\"data row98 col2\" >222</td>\n",
       "    </tr>\n",
       "    <tr>\n",
       "      <th id=\"T_a6f28_level0_row99\" class=\"row_heading level0 row99\" >10813</th>\n",
       "      <td id=\"T_a6f28_row99_col0\" class=\"data row99 col0\" >-0.062555</td>\n",
       "      <td id=\"T_a6f28_row99_col1\" class=\"data row99 col1\" >42</td>\n",
       "      <td id=\"T_a6f28_row99_col2\" class=\"data row99 col2\" >61</td>\n",
       "    </tr>\n",
       "  </tbody>\n",
       "</table>\n"
      ],
      "text/plain": [
       "<pandas.io.formats.style.Styler at 0x7f3af87102e0>"
      ]
     },
     "metadata": {},
     "output_type": "display_data"
    }
   ],
   "source": [
    "token_df = pd.DataFrame({\"logit_diff\": logit_diff.flatten().cpu().numpy(), \"batch\": [b for b in range(num_prompts) for p in range(n_ctx)], \"pos\": [p for b in range(num_prompts) for p in range(n_ctx)]})\n",
    "nutils.show_df(token_df.sort_values(\"logit_diff\", ascending=False).head(100))"
   ]
  },
  {
   "cell_type": "code",
   "execution_count": null,
   "metadata": {},
   "outputs": [
    {
     "data": {
      "text/html": [
       "<div><span style=\"background-color: rgb(192, 192, 255); color: black; padding: 2px;\" title=\"-1.2302\"><|endoftext|></span> <span style=\"background-color: rgb(217, 217, 255); color: black; padding: 2px;\" title=\"-0.7325\">Media</span> <span style=\"background-color: rgb(202, 202, 255); color: black; padding: 2px;\" title=\"-1.0334\">_playback</span> <span style=\"background-color: rgb(200, 200, 255); color: black; padding: 2px;\" title=\"-1.0623\">_is</span> <span style=\"background-color: rgb(184, 184, 255); color: black; padding: 2px;\" title=\"-1.3887\">_unsupported</span> <span style=\"background-color: rgb(175, 175, 255); color: black; padding: 2px;\" title=\"-1.5622\">_on</span> <span style=\"background-color: rgb(149, 149, 255); color: black; padding: 2px;\" title=\"-2.0737\">_your</span> <span style=\"background-color: rgb(157, 157, 255); color: black; padding: 2px;\" title=\"-1.9057\">_device</span> <span style=\"background-color: rgb(208, 208, 255); color: black; padding: 2px;\" title=\"-0.9089\">_Media</span> <span style=\"background-color: rgb(188, 188, 255); color: black; padding: 2px;\" title=\"-1.2970\">_caption</span> <span style=\"background-color: rgb(189, 189, 255); color: black; padding: 2px;\" title=\"-1.2752\">_Jose</span> <span style=\"background-color: rgb(146, 146, 255); color: black; padding: 2px;\" title=\"-2.1330\">_Manuel</span> <span style=\"background-color: rgb(164, 164, 255); color: black; padding: 2px;\" title=\"-1.7752\">_Bar</span> <span style=\"background-color: rgb(132, 132, 255); color: black; padding: 2px;\" title=\"-2.4047\">ro</span> <span style=\"background-color: rgb(157, 157, 255); color: black; padding: 2px;\" title=\"-1.9179\">so</span> <span style=\"background-color: rgb(164, 164, 255); color: black; padding: 2px;\" title=\"-1.7836\">:</span> <span style=\"background-color: rgb(182, 182, 255); color: black; padding: 2px;\" title=\"-1.4213\">_\"</span> <span style=\"background-color: rgb(155, 155, 255); color: black; padding: 2px;\" title=\"-1.9595\">Without</span> <span style=\"background-color: rgb(223, 223, 255); color: black; padding: 2px;\" title=\"-0.6119\">_the</span> <span style=\"background-color: rgb(176, 176, 255); color: black; padding: 2px;\" title=\"-1.5337\">_EU</span> <span style=\"background-color: rgb(141, 141, 255); color: black; padding: 2px;\" title=\"-2.2232\">_Britain</span> <span style=\"background-color: rgb(139, 139, 255); color: black; padding: 2px;\" title=\"-2.2734\">_will</span> <span style=\"background-color: rgb(140, 140, 255); color: black; padding: 2px;\" title=\"-2.2449\">_have</span> <span style=\"background-color: rgb(171, 171, 255); color: black; padding: 2px;\" title=\"-1.6338\">_less</span> <span style=\"background-color: rgb(167, 167, 255); color: black; padding: 2px;\" title=\"-1.7089\">_influence</span> <span style=\"background-color: rgb(133, 133, 255); color: black; padding: 2px;\" title=\"-2.3898\">\"</span> <span style=\"background-color: rgb(140, 140, 255); color: black; padding: 2px;\" title=\"-2.2538\">_</span> <span style=\"background-color: rgb(189, 189, 255); color: black; padding: 2px;\" title=\"-1.2809\">_</span> <span style=\"background-color: rgb(195, 195, 255); color: black; padding: 2px;\" title=\"-1.1756\">The</span> <span style=\"background-color: rgb(172, 172, 255); color: black; padding: 2px;\" title=\"-1.6266\">_UK</span> <span style=\"background-color: rgb(147, 147, 255); color: black; padding: 2px;\" title=\"-2.1067\">_would</span> <span style=\"background-color: rgb(142, 142, 255); color: black; padding: 2px;\" title=\"-2.1982\">_have</span> <span style=\"background-color: rgb(164, 164, 255); color: black; padding: 2px;\" title=\"-1.7838\">_\"</span> <span style=\"background-color: rgb(197, 197, 255); color: black; padding: 2px;\" title=\"-1.1247\">zero</span> <span style=\"background-color: rgb(216, 216, 255); color: black; padding: 2px;\" title=\"-0.7612\">\"</span> <span style=\"background-color: rgb(156, 156, 255); color: black; padding: 2px;\" title=\"-1.9246\">_influence</span> <span style=\"background-color: rgb(190, 190, 255); color: black; padding: 2px;\" title=\"-1.2735\">_if</span> <span style=\"background-color: rgb(160, 160, 255); color: black; padding: 2px;\" title=\"-1.8601\">_it</span> <span style=\"background-color: rgb(120, 120, 255); color: black; padding: 2px;\" title=\"-2.6343\">_voted</span> <span style=\"background-color: rgb(155, 155, 255); color: black; padding: 2px;\" title=\"-1.9527\">_to</span> <span style=\"background-color: rgb(136, 136, 255); color: black; padding: 2px;\" title=\"-2.3140\">_leave</span> <span style=\"background-color: rgb(191, 191, 255); color: black; padding: 2px;\" title=\"-1.2506\">_the</span> <span style=\"background-color: rgb(121, 121, 255); color: black; padding: 2px;\" title=\"-2.6161\">_EU</span> <span style=\"background-color: rgb(160, 160, 255); color: black; padding: 2px;\" title=\"-1.8465\">,</span> <span style=\"background-color: rgb(185, 185, 255); color: black; padding: 2px;\" title=\"-1.3702\">_the</span> <span style=\"background-color: rgb(171, 171, 255); color: black; padding: 2px;\" title=\"-1.6297\">_outgoing</span> <span style=\"background-color: rgb(155, 155, 255); color: black; padding: 2px;\" title=\"-1.9574\">_president</span> <span style=\"background-color: rgb(153, 153, 255); color: black; padding: 2px;\" title=\"-1.9882\">_of</span> <span style=\"background-color: rgb(194, 194, 255); color: black; padding: 2px;\" title=\"-1.1876\">_the</span> <span style=\"background-color: rgb(176, 176, 255); color: black; padding: 2px;\" title=\"-1.5340\">_European</span> <span style=\"background-color: rgb(162, 162, 255); color: black; padding: 2px;\" title=\"-1.8228\">_Commission</span> <span style=\"background-color: rgb(169, 169, 255); color: black; padding: 2px;\" title=\"-1.6744\">_has</span> <span style=\"background-color: rgb(143, 143, 255); color: black; padding: 2px;\" title=\"-2.1848\">_said</span> <span style=\"background-color: rgb(166, 166, 255); color: black; padding: 2px;\" title=\"-1.7422\">.</span> <span style=\"background-color: rgb(156, 156, 255); color: black; padding: 2px;\" title=\"-1.9342\">_</span> <span style=\"background-color: rgb(201, 201, 255); color: black; padding: 2px;\" title=\"-1.0569\">_</span> <span style=\"background-color: rgb(212, 212, 255); color: black; padding: 2px;\" title=\"-0.8398\">Jose</span> <span style=\"background-color: rgb(135, 135, 255); color: black; padding: 2px;\" title=\"-2.3360\">_Manuel</span> <span style=\"background-color: rgb(145, 145, 255); color: black; padding: 2px;\" title=\"-2.1461\">_Bar</span> <span style=\"background-color: rgb(137, 137, 255); color: black; padding: 2px;\" title=\"-2.3007\">ro</span> <span style=\"background-color: rgb(175, 175, 255); color: black; padding: 2px;\" title=\"-1.5649\">so</span> <span style=\"background-color: rgb(165, 165, 255); color: black; padding: 2px;\" title=\"-1.7476\">_said</span> <span style=\"background-color: rgb(174, 174, 255); color: black; padding: 2px;\" title=\"-1.5761\">_Britain</span> <span style=\"background-color: rgb(145, 145, 255); color: black; padding: 2px;\" title=\"-2.1506\">_could</span> <span style=\"background-color: rgb(148, 148, 255); color: black; padding: 2px;\" title=\"-2.0791\">_not</span> <span style=\"background-color: rgb(144, 144, 255); color: black; padding: 2px;\" title=\"-2.1627\">_negotiate</span> <span style=\"background-color: rgb(178, 178, 255); color: black; padding: 2px;\" title=\"-1.4965\">_with</span> <span style=\"background-color: rgb(223, 223, 255); color: black; padding: 2px;\" title=\"-0.6180\">_the</span> <span style=\"background-color: rgb(156, 156, 255); color: black; padding: 2px;\" title=\"-1.9391\">_US</span> <span style=\"background-color: rgb(164, 164, 255); color: black; padding: 2px;\" title=\"-1.7660\">_and</span> <span style=\"background-color: rgb(154, 154, 255); color: black; padding: 2px;\" title=\"-1.9631\">_China</span> <span style=\"background-color: rgb(164, 164, 255); color: black; padding: 2px;\" title=\"-1.7750\">_\"</span> <span style=\"background-color: rgb(183, 183, 255); color: black; padding: 2px;\" title=\"-1.4045\">on</span> <span style=\"background-color: rgb(0, 0, 255); color: white; padding: 2px;\" title=\"-5.0000\">_an</span> <span style=\"background-color: rgb(214, 214, 255); color: black; padding: 2px;\" title=\"-0.8032\">_equal</span> <span style=\"background-color: rgb(152, 152, 255); color: black; padding: 2px;\" title=\"-2.0105\">_footing</span> <span style=\"background-color: rgb(134, 134, 255); color: black; padding: 2px;\" title=\"-2.3719\">\"</span> <span style=\"background-color: rgb(158, 158, 255); color: black; padding: 2px;\" title=\"-1.9004\">_on</span> <span style=\"background-color: rgb(225, 225, 255); color: black; padding: 2px;\" title=\"-0.5826\">_its</span> <span style=\"background-color: rgb(177, 177, 255); color: black; padding: 2px;\" title=\"-1.5139\">_own</span> <span style=\"background-color: rgb(168, 168, 255); color: black; padding: 2px;\" title=\"-1.7016\">.</span> <span style=\"background-color: rgb(158, 158, 255); color: black; padding: 2px;\" title=\"-1.8891\">_</span> <span style=\"background-color: rgb(198, 198, 255); color: black; padding: 2px;\" title=\"-1.1012\">_</span> <span style=\"background-color: rgb(183, 183, 255); color: black; padding: 2px;\" title=\"-1.4088\">He</span> <span style=\"background-color: rgb(177, 177, 255); color: black; padding: 2px;\" title=\"-1.5219\">_also</span> <span style=\"background-color: rgb(172, 172, 255); color: black; padding: 2px;\" title=\"-1.6232\">_said</span> <span style=\"background-color: rgb(190, 190, 255); color: black; padding: 2px;\" title=\"-1.2636\">_free</span> <span style=\"background-color: rgb(156, 156, 255); color: black; padding: 2px;\" title=\"-1.9225\">_movement</span> <span style=\"background-color: rgb(142, 142, 255); color: black; padding: 2px;\" title=\"-2.2156\">_of</span> <span style=\"background-color: rgb(165, 165, 255); color: black; padding: 2px;\" title=\"-1.7597\">_people</span> <span style=\"background-color: rgb(226, 226, 255); color: black; padding: 2px;\" title=\"-0.5573\">_within</span> <span style=\"background-color: rgb(218, 218, 255); color: black; padding: 2px;\" title=\"-0.7156\">_the</span> <span style=\"background-color: rgb(189, 189, 255); color: black; padding: 2px;\" title=\"-1.2898\">_EU</span> <span style=\"background-color: rgb(179, 179, 255); color: black; padding: 2px;\" title=\"-1.4822\">_was</span> <span style=\"background-color: rgb(0, 0, 255); color: white; padding: 2px;\" title=\"-5.0000\">_an</span> <span style=\"background-color: rgb(255, 189, 189); color: black; padding: 2px;\" title=\"1.2924\">_\"</span> <span style=\"background-color: rgb(211, 211, 255); color: black; padding: 2px;\" title=\"-0.8462\">essential</span> <span style=\"background-color: rgb(211, 211, 255); color: black; padding: 2px;\" title=\"-0.8600\">\"</span> <span style=\"background-color: rgb(177, 177, 255); color: black; padding: 2px;\" title=\"-1.5203\">_principle</span> <span style=\"background-color: rgb(178, 178, 255); color: black; padding: 2px;\" title=\"-1.4938\">_that</span> <span style=\"background-color: rgb(158, 158, 255); color: black; padding: 2px;\" title=\"-1.8936\">_could</span> <span style=\"background-color: rgb(151, 151, 255); color: black; padding: 2px;\" title=\"-2.0216\">_not</span> <span style=\"background-color: rgb(174, 174, 255); color: black; padding: 2px;\" title=\"-1.5801\">_be</span> <span style=\"background-color: rgb(133, 133, 255); color: black; padding: 2px;\" title=\"-2.3755\">_changed</span> <span style=\"background-color: rgb(173, 173, 255); color: black; padding: 2px;\" title=\"-1.5984\">.</span> <span style=\"background-color: rgb(158, 158, 255); color: black; padding: 2px;\" title=\"-1.8906\">_</span> <span style=\"background-color: rgb(201, 201, 255); color: black; padding: 2px;\" title=\"-1.0577\">_</span> <span style=\"background-color: rgb(154, 154, 255); color: black; padding: 2px;\" title=\"-1.9768\">Conservative</span> <span style=\"background-color: rgb(170, 170, 255); color: black; padding: 2px;\" title=\"-1.6605\">_Party</span> <span style=\"background-color: rgb(185, 185, 255); color: black; padding: 2px;\" title=\"-1.3686\">_chairman</span> <span style=\"background-color: rgb(225, 225, 255); color: black; padding: 2px;\" title=\"-0.5845\">_Grant</span> <span style=\"background-color: rgb(205, 205, 255); color: black; padding: 2px;\" title=\"-0.9613\">_Sh</span> <span style=\"background-color: rgb(151, 151, 255); color: black; padding: 2px;\" title=\"-2.0357\">apps</span> <span style=\"background-color: rgb(175, 175, 255); color: black; padding: 2px;\" title=\"-1.5623\">_said</span> <span style=\"background-color: rgb(182, 182, 255); color: black; padding: 2px;\" title=\"-1.4265\">_Mr</span> <span style=\"background-color: rgb(132, 132, 255); color: black; padding: 2px;\" title=\"-2.3970\">_Bar</span> <span style=\"background-color: rgb(174, 174, 255); color: black; padding: 2px;\" title=\"-1.5731\">ro</span> <span style=\"background-color: rgb(183, 183, 255); color: black; padding: 2px;\" title=\"-1.3943\">so</span> <span style=\"background-color: rgb(183, 183, 255); color: black; padding: 2px;\" title=\"-1.4052\">_was</span> <span style=\"background-color: rgb(201, 201, 255); color: black; padding: 2px;\" title=\"-1.0475\">_\"</span> <span style=\"background-color: rgb(140, 140, 255); color: black; padding: 2px;\" title=\"-2.2519\">out</span> <span style=\"background-color: rgb(127, 127, 255); color: black; padding: 2px;\" title=\"-2.4999\">_of</span> <span style=\"background-color: rgb(167, 167, 255); color: black; padding: 2px;\" title=\"-1.7177\">_touch</span> <span style=\"background-color: rgb(167, 167, 255); color: black; padding: 2px;\" title=\"-1.7228\">\"</span> <span style=\"background-color: rgb(175, 175, 255); color: black; padding: 2px;\" title=\"-1.5602\">_and</span> <span style=\"background-color: rgb(0, 0, 255); color: white; padding: 2px;\" title=\"-5.0000\">_an</span> <span style=\"background-color: rgb(255, 202, 202); color: black; padding: 2px;\" title=\"1.0325\">_\"</span> <span style=\"background-color: rgb(238, 238, 255); color: black; padding: 2px;\" title=\"-0.3332\">une</span> <span style=\"background-color: rgb(245, 245, 255); color: black; padding: 2px;\" title=\"-0.1873\">lected</span> <span style=\"background-color: rgb(191, 191, 255); color: black; padding: 2px;\" title=\"-1.2422\">_bureaucr</span> <span style=\"background-color: rgb(185, 185, 255); color: black; padding: 2px;\" title=\"-1.3710\">at</span> <span style=\"background-color: rgb(153, 153, 255); color: black; padding: 2px;\" title=\"-1.9917\">\".</span> <span style=\"background-color: rgb(164, 164, 255); color: black; padding: 2px;\" title=\"-1.7757\">_</span> <span style=\"background-color: rgb(207, 207, 255); color: black; padding: 2px;\" title=\"-0.9240\">_</span> <span style=\"background-color: rgb(197, 197, 255); color: black; padding: 2px;\" title=\"-1.1205\">Mr</span> <span style=\"background-color: rgb(130, 130, 255); color: black; padding: 2px;\" title=\"-2.4380\">_Bar</span> <span style=\"background-color: rgb(154, 154, 255); color: black; padding: 2px;\" title=\"-1.9667\">ro</span> <span style=\"background-color: rgb(179, 179, 255); color: black; padding: 2px;\" title=\"-1.4803\">so</span> <span style=\"background-color: rgb(206, 206, 255); color: black; padding: 2px;\" title=\"-0.9425\">_was</span> <span style=\"background-color: rgb(127, 127, 255); color: black; padding: 2px;\" title=\"-2.4911\">_asked</span> <span style=\"background-color: rgb(143, 143, 255); color: black; padding: 2px;\" title=\"-2.1825\">_about</span> <span style=\"background-color: rgb(151, 151, 255); color: black; padding: 2px;\" title=\"-2.0231\">_Prime</span> <span style=\"background-color: rgb(142, 142, 255); color: black; padding: 2px;\" title=\"-2.2015\">_Minister</span> <span style=\"background-color: rgb(158, 158, 255); color: black; padding: 2px;\" title=\"-1.8848\">_David</span> <span style=\"background-color: rgb(131, 131, 255); color: black; padding: 2px;\" title=\"-2.4260\">_Cameron</span> <span style=\"background-color: rgb(212, 212, 255); color: black; padding: 2px;\" title=\"-0.8305\">'s</span> <span style=\"background-color: rgb(210, 210, 255); color: black; padding: 2px;\" title=\"-0.8782\">_stated</span> <span style=\"background-color: rgb(128, 128, 255); color: black; padding: 2px;\" title=\"-2.4780\">_intention</span> <span style=\"background-color: rgb(149, 149, 255); color: black; padding: 2px;\" title=\"-2.0604\">_to</span> <span style=\"background-color: rgb(170, 170, 255); color: black; padding: 2px;\" title=\"-1.6625\">_negotiate</span> <span style=\"background-color: rgb(150, 150, 255); color: black; padding: 2px;\" title=\"-2.0486\">_a</span> <span style=\"background-color: rgb(220, 220, 255); color: black; padding: 2px;\" title=\"-0.6769\">_better</span> <span style=\"background-color: rgb(146, 146, 255); color: black; padding: 2px;\" title=\"-2.1355\">_deal</span> <span style=\"background-color: rgb(191, 191, 255); color: black; padding: 2px;\" title=\"-1.2361\">_for</span> <span style=\"background-color: rgb(205, 205, 255); color: black; padding: 2px;\" title=\"-0.9615\">_the</span> <span style=\"background-color: rgb(137, 137, 255); color: black; padding: 2px;\" title=\"-2.2992\">_UK</span> <span style=\"background-color: rgb(162, 162, 255); color: black; padding: 2px;\" title=\"-1.8199\">_in</span> <span style=\"background-color: rgb(138, 138, 255); color: black; padding: 2px;\" title=\"-2.2793\">_Europe</span> <span style=\"background-color: rgb(167, 167, 255); color: black; padding: 2px;\" title=\"-1.7069\">,</span> <span style=\"background-color: rgb(160, 160, 255); color: black; padding: 2px;\" title=\"-1.8570\">_ahead</span> <span style=\"background-color: rgb(146, 146, 255); color: black; padding: 2px;\" title=\"-2.1204\">_of</span> <span style=\"background-color: rgb(0, 0, 255); color: white; padding: 2px;\" title=\"-5.0000\">_an</span> <span style=\"background-color: rgb(143, 143, 255); color: black; padding: 2px;\" title=\"-2.1871\">_in</span> <span style=\"background-color: rgb(224, 224, 255); color: black; padding: 2px;\" title=\"-0.5884\">/</span> <span style=\"background-color: rgb(170, 170, 255); color: black; padding: 2px;\" title=\"-1.6533\">out</span> <span style=\"background-color: rgb(106, 106, 255); color: white; padding: 2px;\" title=\"-2.9073\">_referendum</span> <span style=\"background-color: rgb(169, 169, 255); color: black; padding: 2px;\" title=\"-1.6819\">.</span> <span style=\"background-color: rgb(161, 161, 255); color: black; padding: 2px;\" title=\"-1.8388\">_</span> <span style=\"background-color: rgb(208, 208, 255); color: black; padding: 2px;\" title=\"-0.9036\">_</span> <span style=\"background-color: rgb(224, 224, 255); color: black; padding: 2px;\" title=\"-0.5905\">The</span> <span style=\"background-color: rgb(169, 169, 255); color: black; padding: 2px;\" title=\"-1.6767\">_prime</span> <span style=\"background-color: rgb(158, 158, 255); color: black; padding: 2px;\" title=\"-1.8919\">_minister</span> <span style=\"background-color: rgb(140, 140, 255); color: black; padding: 2px;\" title=\"-2.2508\">_has</span> <span style=\"background-color: rgb(181, 181, 255); color: black; padding: 2px;\" title=\"-1.4470\">_said</span> <span style=\"background-color: rgb(159, 159, 255); color: black; padding: 2px;\" title=\"-1.8670\">_he</span> <span style=\"background-color: rgb(129, 129, 255); color: black; padding: 2px;\" title=\"-2.4563\">_will</span> <span style=\"background-color: rgb(167, 167, 255); color: black; padding: 2px;\" title=\"-1.7116\">_\"</span> <span style=\"background-color: rgb(135, 135, 255); color: black; padding: 2px;\" title=\"-2.3443\">not</span> <span style=\"background-color: rgb(121, 121, 255); color: black; padding: 2px;\" title=\"-2.6272\">_take</span> <span style=\"background-color: rgb(176, 176, 255); color: black; padding: 2px;\" title=\"-1.5347\">_no</span> <span style=\"background-color: rgb(255, 0, 0); color: white; padding: 2px;\" title=\"7.3220\">_for</span> <span style=\"background-color: rgb(0, 0, 255); color: white; padding: 2px;\" title=\"-5.0000\">_an</span> <span style=\"background-color: rgb(141, 141, 255); color: black; padding: 2px;\" title=\"-2.2280\">_answer</span> </div>"
      ],
      "text/plain": [
       "<IPython.core.display.HTML object>"
      ]
     },
     "metadata": {},
     "output_type": "display_data"
    },
    {
     "data": {
      "text/html": [
       "<div><span style=\"background-color: rgb(192, 192, 255); color: black; padding: 2px;\" title=\"-1.2302\"><|endoftext|></span> <span style=\"background-color: rgb(199, 199, 255); color: black; padding: 2px;\" title=\"-1.0787\">L</span> <span style=\"background-color: rgb(179, 179, 255); color: black; padding: 2px;\" title=\"-1.4845\">ONDON</span> <span style=\"background-color: rgb(202, 202, 255); color: black; padding: 2px;\" title=\"-1.0318\">_(</span> <span style=\"background-color: rgb(105, 105, 255); color: white; padding: 2px;\" title=\"-2.9242\">Reuters</span> <span style=\"background-color: rgb(212, 212, 255); color: black; padding: 2px;\" title=\"-0.8283\">)</span> <span style=\"background-color: rgb(184, 184, 255); color: black; padding: 2px;\" title=\"-1.3729\">_-</span> <span style=\"background-color: rgb(181, 181, 255); color: black; padding: 2px;\" title=\"-1.4334\">_Gold</span> <span style=\"background-color: rgb(168, 168, 255); color: black; padding: 2px;\" title=\"-1.6895\">_rose</span> <span style=\"background-color: rgb(143, 143, 255); color: black; padding: 2px;\" title=\"-2.1924\">_on</span> <span style=\"background-color: rgb(102, 102, 255); color: white; padding: 2px;\" title=\"-2.9923\">_Wednesday</span> <span style=\"background-color: rgb(128, 128, 255); color: black; padding: 2px;\" title=\"-2.4820\">,</span> <span style=\"background-color: rgb(117, 117, 255); color: black; padding: 2px;\" title=\"-2.6866\">_recovering</span> <span style=\"background-color: rgb(99, 99, 255); color: white; padding: 2px;\" title=\"-3.0571\">_from</span> <span style=\"background-color: rgb(166, 166, 255); color: black; padding: 2px;\" title=\"-1.7322\">_its</span> <span style=\"background-color: rgb(120, 120, 255); color: black; padding: 2px;\" title=\"-2.6452\">_lowest</span> <span style=\"background-color: rgb(9, 9, 255); color: white; padding: 2px;\" title=\"-4.8186\">_in</span> <span style=\"background-color: rgb(0, 0, 255); color: white; padding: 2px;\" title=\"-6.0389\">_nearly</span> <span style=\"background-color: rgb(92, 92, 255); color: white; padding: 2px;\" title=\"-3.1788\">_two</span> <span style=\"background-color: rgb(108, 108, 255); color: white; padding: 2px;\" title=\"-2.8717\">_weeks</span> <span style=\"background-color: rgb(129, 129, 255); color: black; padding: 2px;\" title=\"-2.4515\">,</span> <span style=\"background-color: rgb(143, 143, 255); color: black; padding: 2px;\" title=\"-2.1930\">_as</span> <span style=\"background-color: rgb(161, 161, 255); color: black; padding: 2px;\" title=\"-1.8398\">_prospects</span> <span style=\"background-color: rgb(153, 153, 255); color: black; padding: 2px;\" title=\"-1.9992\">_for</span> <span style=\"background-color: rgb(201, 201, 255); color: black; padding: 2px;\" title=\"-1.0561\">_further</span> <span style=\"background-color: rgb(150, 150, 255); color: black; padding: 2px;\" title=\"-2.0511\">_economic</span> <span style=\"background-color: rgb(172, 172, 255); color: black; padding: 2px;\" title=\"-1.6149\">_stimulus</span> <span style=\"background-color: rgb(171, 171, 255); color: black; padding: 2px;\" title=\"-1.6350\">_helped</span> <span style=\"background-color: rgb(157, 157, 255); color: black; padding: 2px;\" title=\"-1.9161\">_to</span> <span style=\"background-color: rgb(168, 168, 255); color: black; padding: 2px;\" title=\"-1.6982\">_bolster</span> <span style=\"background-color: rgb(164, 164, 255); color: black; padding: 2px;\" title=\"-1.7761\">_investor</span> <span style=\"background-color: rgb(109, 109, 255); color: white; padding: 2px;\" title=\"-2.8477\">_appetite</span> <span style=\"background-color: rgb(200, 200, 255); color: black; padding: 2px;\" title=\"-1.0772\">_wh</span> <span style=\"background-color: rgb(135, 135, 255); color: black; padding: 2px;\" title=\"-2.3457\">il</span> <span style=\"background-color: rgb(199, 199, 255); color: black; padding: 2px;\" title=\"-1.0929\">_the</span> <span style=\"background-color: rgb(176, 176, 255); color: black; padding: 2px;\" title=\"-1.5341\">_dollar</span> <span style=\"background-color: rgb(112, 112, 255); color: black; padding: 2px;\" title=\"-2.8012\">_remained</span> <span style=\"background-color: rgb(82, 82, 255); color: white; padding: 2px;\" title=\"-3.3767\">_flat</span> <span style=\"background-color: rgb(138, 138, 255); color: black; padding: 2px;\" title=\"-2.2875\">.</span> <span style=\"background-color: rgb(166, 166, 255); color: black; padding: 2px;\" title=\"-1.7415\">_</span> <span style=\"background-color: rgb(216, 216, 255); color: black; padding: 2px;\" title=\"-0.7568\">_</span> <span style=\"background-color: rgb(209, 209, 255); color: black; padding: 2px;\" title=\"-0.9002\">Acc</span> <span style=\"background-color: rgb(169, 169, 255); color: black; padding: 2px;\" title=\"-1.6826\">ommod</span> <span style=\"background-color: rgb(166, 166, 255); color: black; padding: 2px;\" title=\"-1.7284\">ative</span> <span style=\"background-color: rgb(154, 154, 255); color: black; padding: 2px;\" title=\"-1.9775\">_monetary</span> <span style=\"background-color: rgb(143, 143, 255); color: black; padding: 2px;\" title=\"-2.1837\">_policies</span> <span style=\"background-color: rgb(165, 165, 255); color: black; padding: 2px;\" title=\"-1.7453\">_favour</span> <span style=\"background-color: rgb(184, 184, 255); color: black; padding: 2px;\" title=\"-1.3817\">_gold</span> <span style=\"background-color: rgb(170, 170, 255); color: black; padding: 2px;\" title=\"-1.6589\">_as</span> <span style=\"background-color: rgb(155, 155, 255); color: black; padding: 2px;\" title=\"-1.9416\">_well</span> <span style=\"background-color: rgb(152, 152, 255); color: black; padding: 2px;\" title=\"-2.0102\">_as</span> <span style=\"background-color: rgb(227, 227, 255); color: black; padding: 2px;\" title=\"-0.5395\">_equ</span> <span style=\"background-color: rgb(178, 178, 255); color: black; padding: 2px;\" title=\"-1.5055\">ities</span> <span style=\"background-color: rgb(147, 147, 255); color: black; padding: 2px;\" title=\"-2.1116\">_because</span> <span style=\"background-color: rgb(178, 178, 255); color: black; padding: 2px;\" title=\"-1.5038\">_low</span> <span style=\"background-color: rgb(151, 151, 255); color: black; padding: 2px;\" title=\"-2.0286\">_interest</span> <span style=\"background-color: rgb(177, 177, 255); color: black; padding: 2px;\" title=\"-1.5179\">_rates</span> <span style=\"background-color: rgb(174, 174, 255); color: black; padding: 2px;\" title=\"-1.5731\">_encourage</span> <span style=\"background-color: rgb(169, 169, 255); color: black; padding: 2px;\" title=\"-1.6858\">_investors</span> <span style=\"background-color: rgb(180, 180, 255); color: black; padding: 2px;\" title=\"-1.4587\">_to</span> <span style=\"background-color: rgb(145, 145, 255); color: black; padding: 2px;\" title=\"-2.1517\">_opt</span> <span style=\"background-color: rgb(163, 163, 255); color: black; padding: 2px;\" title=\"-1.7915\">_for</span> <span style=\"background-color: rgb(171, 171, 255); color: black; padding: 2px;\" title=\"-1.6288\">_assets</span> <span style=\"background-color: rgb(170, 170, 255); color: black; padding: 2px;\" title=\"-1.6604\">_that</span> <span style=\"background-color: rgb(139, 139, 255); color: black; padding: 2px;\" title=\"-2.2739\">_do</span> <span style=\"background-color: rgb(141, 141, 255); color: black; padding: 2px;\" title=\"-2.2201\">_not</span> <span style=\"background-color: rgb(130, 130, 255); color: black; padding: 2px;\" title=\"-2.4366\">_rely</span> <span style=\"background-color: rgb(148, 148, 255); color: black; padding: 2px;\" title=\"-2.0858\">_on</span> <span style=\"background-color: rgb(148, 148, 255); color: black; padding: 2px;\" title=\"-2.0960\">_interest</span> <span style=\"background-color: rgb(164, 164, 255); color: black; padding: 2px;\" title=\"-1.7809\">_yields</span> <span style=\"background-color: rgb(157, 157, 255); color: black; padding: 2px;\" title=\"-1.9081\">.</span> <span style=\"background-color: rgb(170, 170, 255); color: black; padding: 2px;\" title=\"-1.6624\">_</span> <span style=\"background-color: rgb(170, 170, 255); color: black; padding: 2px;\" title=\"-1.6651\">_</span> <span style=\"background-color: rgb(164, 164, 255); color: black; padding: 2px;\" title=\"-1.7808\">Spot</span> <span style=\"background-color: rgb(150, 150, 255); color: black; padding: 2px;\" title=\"-2.0408\">_gold</span> <span style=\"background-color: rgb(126, 126, 255); color: black; padding: 2px;\" title=\"-2.5146\">_was</span> <span style=\"background-color: rgb(170, 170, 255); color: black; padding: 2px;\" title=\"-1.6574\">_up</span> <span style=\"background-color: rgb(152, 152, 255); color: black; padding: 2px;\" title=\"-2.0073\">_0</span> <span style=\"background-color: rgb(190, 190, 255); color: black; padding: 2px;\" title=\"-1.2649\">.</span> <span style=\"background-color: rgb(154, 154, 255); color: black; padding: 2px;\" title=\"-1.9711\">7</span> <span style=\"background-color: rgb(122, 122, 255); color: black; padding: 2px;\" title=\"-2.5969\">_percent</span> <span style=\"background-color: rgb(235, 235, 255); color: black; padding: 2px;\" title=\"-0.3733\">_at</span> <span style=\"background-color: rgb(214, 214, 255); color: black; padding: 2px;\" title=\"-0.8009\">_$</span> <span style=\"background-color: rgb(255, 239, 239); color: black; padding: 2px;\" title=\"0.3003\">1</span> <span style=\"background-color: rgb(231, 231, 255); color: black; padding: 2px;\" title=\"-0.4562\">,</span> <span style=\"background-color: rgb(255, 59, 59); color: white; padding: 2px;\" title=\"3.8356\">340</span> <span style=\"background-color: rgb(176, 176, 255); color: black; padding: 2px;\" title=\"-1.5407\">.</span> <span style=\"background-color: rgb(255, 53, 53); color: white; padding: 2px;\" title=\"3.9476\">90</span> <span style=\"background-color: rgb(0, 0, 255); color: white; padding: 2px;\" title=\"-5.0000\">_an</span> <span style=\"background-color: rgb(148, 148, 255); color: black; padding: 2px;\" title=\"-2.0844\">_ounce</span> </div>"
      ],
      "text/plain": [
       "<IPython.core.display.HTML object>"
      ]
     },
     "metadata": {},
     "output_type": "display_data"
    },
    {
     "data": {
      "text/html": [
       "<div><span style=\"background-color: rgb(192, 192, 255); color: black; padding: 2px;\" title=\"-1.2302\"><|endoftext|></span> <span style=\"background-color: rgb(199, 199, 255); color: black; padding: 2px;\" title=\"-1.0787\">L</span> <span style=\"background-color: rgb(179, 179, 255); color: black; padding: 2px;\" title=\"-1.4845\">ONDON</span> <span style=\"background-color: rgb(202, 202, 255); color: black; padding: 2px;\" title=\"-1.0318\">_(</span> <span style=\"background-color: rgb(105, 105, 255); color: white; padding: 2px;\" title=\"-2.9242\">Reuters</span> <span style=\"background-color: rgb(212, 212, 255); color: black; padding: 2px;\" title=\"-0.8283\">)</span> <span style=\"background-color: rgb(184, 184, 255); color: black; padding: 2px;\" title=\"-1.3729\">_-</span> <span style=\"background-color: rgb(181, 181, 255); color: black; padding: 2px;\" title=\"-1.4334\">_Gold</span> <span style=\"background-color: rgb(168, 168, 255); color: black; padding: 2px;\" title=\"-1.6895\">_rose</span> <span style=\"background-color: rgb(143, 143, 255); color: black; padding: 2px;\" title=\"-2.1924\">_on</span> <span style=\"background-color: rgb(102, 102, 255); color: white; padding: 2px;\" title=\"-2.9923\">_Wednesday</span> <span style=\"background-color: rgb(128, 128, 255); color: black; padding: 2px;\" title=\"-2.4820\">,</span> <span style=\"background-color: rgb(117, 117, 255); color: black; padding: 2px;\" title=\"-2.6866\">_recovering</span> <span style=\"background-color: rgb(99, 99, 255); color: white; padding: 2px;\" title=\"-3.0571\">_from</span> <span style=\"background-color: rgb(166, 166, 255); color: black; padding: 2px;\" title=\"-1.7322\">_its</span> <span style=\"background-color: rgb(120, 120, 255); color: black; padding: 2px;\" title=\"-2.6452\">_lowest</span> <span style=\"background-color: rgb(9, 9, 255); color: white; padding: 2px;\" title=\"-4.8186\">_in</span> <span style=\"background-color: rgb(0, 0, 255); color: white; padding: 2px;\" title=\"-6.0389\">_nearly</span> <span style=\"background-color: rgb(92, 92, 255); color: white; padding: 2px;\" title=\"-3.1788\">_two</span> <span style=\"background-color: rgb(108, 108, 255); color: white; padding: 2px;\" title=\"-2.8717\">_weeks</span> <span style=\"background-color: rgb(129, 129, 255); color: black; padding: 2px;\" title=\"-2.4515\">,</span> <span style=\"background-color: rgb(143, 143, 255); color: black; padding: 2px;\" title=\"-2.1930\">_as</span> <span style=\"background-color: rgb(161, 161, 255); color: black; padding: 2px;\" title=\"-1.8398\">_prospects</span> <span style=\"background-color: rgb(153, 153, 255); color: black; padding: 2px;\" title=\"-1.9992\">_for</span> <span style=\"background-color: rgb(201, 201, 255); color: black; padding: 2px;\" title=\"-1.0561\">_further</span> <span style=\"background-color: rgb(150, 150, 255); color: black; padding: 2px;\" title=\"-2.0511\">_economic</span> <span style=\"background-color: rgb(172, 172, 255); color: black; padding: 2px;\" title=\"-1.6149\">_stimulus</span> <span style=\"background-color: rgb(171, 171, 255); color: black; padding: 2px;\" title=\"-1.6350\">_helped</span> <span style=\"background-color: rgb(157, 157, 255); color: black; padding: 2px;\" title=\"-1.9161\">_to</span> <span style=\"background-color: rgb(168, 168, 255); color: black; padding: 2px;\" title=\"-1.6982\">_bolster</span> <span style=\"background-color: rgb(164, 164, 255); color: black; padding: 2px;\" title=\"-1.7761\">_investor</span> <span style=\"background-color: rgb(109, 109, 255); color: white; padding: 2px;\" title=\"-2.8477\">_appetite</span> <span style=\"background-color: rgb(200, 200, 255); color: black; padding: 2px;\" title=\"-1.0772\">_wh</span> <span style=\"background-color: rgb(135, 135, 255); color: black; padding: 2px;\" title=\"-2.3457\">il</span> <span style=\"background-color: rgb(199, 199, 255); color: black; padding: 2px;\" title=\"-1.0929\">_the</span> <span style=\"background-color: rgb(176, 176, 255); color: black; padding: 2px;\" title=\"-1.5341\">_dollar</span> <span style=\"background-color: rgb(112, 112, 255); color: black; padding: 2px;\" title=\"-2.8012\">_remained</span> <span style=\"background-color: rgb(82, 82, 255); color: white; padding: 2px;\" title=\"-3.3767\">_flat</span> <span style=\"background-color: rgb(138, 138, 255); color: black; padding: 2px;\" title=\"-2.2875\">.</span> <span style=\"background-color: rgb(166, 166, 255); color: black; padding: 2px;\" title=\"-1.7415\">_</span> <span style=\"background-color: rgb(216, 216, 255); color: black; padding: 2px;\" title=\"-0.7568\">_</span> <span style=\"background-color: rgb(209, 209, 255); color: black; padding: 2px;\" title=\"-0.9002\">Acc</span> <span style=\"background-color: rgb(169, 169, 255); color: black; padding: 2px;\" title=\"-1.6826\">ommod</span> <span style=\"background-color: rgb(166, 166, 255); color: black; padding: 2px;\" title=\"-1.7284\">ative</span> <span style=\"background-color: rgb(154, 154, 255); color: black; padding: 2px;\" title=\"-1.9775\">_monetary</span> <span style=\"background-color: rgb(143, 143, 255); color: black; padding: 2px;\" title=\"-2.1837\">_policies</span> <span style=\"background-color: rgb(165, 165, 255); color: black; padding: 2px;\" title=\"-1.7453\">_favour</span> <span style=\"background-color: rgb(184, 184, 255); color: black; padding: 2px;\" title=\"-1.3817\">_gold</span> <span style=\"background-color: rgb(170, 170, 255); color: black; padding: 2px;\" title=\"-1.6589\">_as</span> <span style=\"background-color: rgb(155, 155, 255); color: black; padding: 2px;\" title=\"-1.9416\">_well</span> <span style=\"background-color: rgb(152, 152, 255); color: black; padding: 2px;\" title=\"-2.0102\">_as</span> <span style=\"background-color: rgb(227, 227, 255); color: black; padding: 2px;\" title=\"-0.5395\">_equ</span> <span style=\"background-color: rgb(178, 178, 255); color: black; padding: 2px;\" title=\"-1.5055\">ities</span> <span style=\"background-color: rgb(147, 147, 255); color: black; padding: 2px;\" title=\"-2.1116\">_because</span> <span style=\"background-color: rgb(178, 178, 255); color: black; padding: 2px;\" title=\"-1.5038\">_low</span> <span style=\"background-color: rgb(151, 151, 255); color: black; padding: 2px;\" title=\"-2.0286\">_interest</span> <span style=\"background-color: rgb(177, 177, 255); color: black; padding: 2px;\" title=\"-1.5179\">_rates</span> <span style=\"background-color: rgb(174, 174, 255); color: black; padding: 2px;\" title=\"-1.5731\">_encourage</span> <span style=\"background-color: rgb(169, 169, 255); color: black; padding: 2px;\" title=\"-1.6858\">_investors</span> <span style=\"background-color: rgb(180, 180, 255); color: black; padding: 2px;\" title=\"-1.4587\">_to</span> <span style=\"background-color: rgb(145, 145, 255); color: black; padding: 2px;\" title=\"-2.1517\">_opt</span> <span style=\"background-color: rgb(163, 163, 255); color: black; padding: 2px;\" title=\"-1.7915\">_for</span> <span style=\"background-color: rgb(171, 171, 255); color: black; padding: 2px;\" title=\"-1.6288\">_assets</span> <span style=\"background-color: rgb(170, 170, 255); color: black; padding: 2px;\" title=\"-1.6604\">_that</span> <span style=\"background-color: rgb(139, 139, 255); color: black; padding: 2px;\" title=\"-2.2739\">_do</span> <span style=\"background-color: rgb(141, 141, 255); color: black; padding: 2px;\" title=\"-2.2201\">_not</span> <span style=\"background-color: rgb(130, 130, 255); color: black; padding: 2px;\" title=\"-2.4366\">_rely</span> <span style=\"background-color: rgb(148, 148, 255); color: black; padding: 2px;\" title=\"-2.0858\">_on</span> <span style=\"background-color: rgb(148, 148, 255); color: black; padding: 2px;\" title=\"-2.0960\">_interest</span> <span style=\"background-color: rgb(164, 164, 255); color: black; padding: 2px;\" title=\"-1.7809\">_yields</span> <span style=\"background-color: rgb(157, 157, 255); color: black; padding: 2px;\" title=\"-1.9081\">.</span> <span style=\"background-color: rgb(170, 170, 255); color: black; padding: 2px;\" title=\"-1.6624\">_</span> <span style=\"background-color: rgb(170, 170, 255); color: black; padding: 2px;\" title=\"-1.6651\">_</span> <span style=\"background-color: rgb(164, 164, 255); color: black; padding: 2px;\" title=\"-1.7808\">Spot</span> <span style=\"background-color: rgb(150, 150, 255); color: black; padding: 2px;\" title=\"-2.0408\">_gold</span> <span style=\"background-color: rgb(126, 126, 255); color: black; padding: 2px;\" title=\"-2.5146\">_was</span> <span style=\"background-color: rgb(170, 170, 255); color: black; padding: 2px;\" title=\"-1.6574\">_up</span> <span style=\"background-color: rgb(152, 152, 255); color: black; padding: 2px;\" title=\"-2.0073\">_0</span> <span style=\"background-color: rgb(190, 190, 255); color: black; padding: 2px;\" title=\"-1.2649\">.</span> <span style=\"background-color: rgb(154, 154, 255); color: black; padding: 2px;\" title=\"-1.9711\">7</span> <span style=\"background-color: rgb(122, 122, 255); color: black; padding: 2px;\" title=\"-2.5969\">_percent</span> <span style=\"background-color: rgb(235, 235, 255); color: black; padding: 2px;\" title=\"-0.3733\">_at</span> <span style=\"background-color: rgb(214, 214, 255); color: black; padding: 2px;\" title=\"-0.8009\">_$</span> <span style=\"background-color: rgb(255, 239, 239); color: black; padding: 2px;\" title=\"0.3003\">1</span> <span style=\"background-color: rgb(231, 231, 255); color: black; padding: 2px;\" title=\"-0.4562\">,</span> <span style=\"background-color: rgb(255, 59, 59); color: white; padding: 2px;\" title=\"3.8356\">340</span> <span style=\"background-color: rgb(176, 176, 255); color: black; padding: 2px;\" title=\"-1.5407\">.</span> <span style=\"background-color: rgb(255, 53, 53); color: white; padding: 2px;\" title=\"3.9476\">90</span> </div>"
      ],
      "text/plain": [
       "<IPython.core.display.HTML object>"
      ]
     },
     "metadata": {},
     "output_type": "display_data"
    },
    {
     "data": {
      "text/html": [
       "<div><span style=\"background-color: rgb(192, 192, 255); color: black; padding: 2px;\" title=\"-1.2302\"><|endoftext|></span> <span style=\"background-color: rgb(199, 199, 255); color: black; padding: 2px;\" title=\"-1.0787\">L</span> <span style=\"background-color: rgb(179, 179, 255); color: black; padding: 2px;\" title=\"-1.4845\">ONDON</span> <span style=\"background-color: rgb(202, 202, 255); color: black; padding: 2px;\" title=\"-1.0318\">_(</span> <span style=\"background-color: rgb(105, 105, 255); color: white; padding: 2px;\" title=\"-2.9242\">Reuters</span> <span style=\"background-color: rgb(212, 212, 255); color: black; padding: 2px;\" title=\"-0.8283\">)</span> <span style=\"background-color: rgb(184, 184, 255); color: black; padding: 2px;\" title=\"-1.3729\">_-</span> <span style=\"background-color: rgb(181, 181, 255); color: black; padding: 2px;\" title=\"-1.4334\">_Gold</span> <span style=\"background-color: rgb(168, 168, 255); color: black; padding: 2px;\" title=\"-1.6895\">_rose</span> <span style=\"background-color: rgb(143, 143, 255); color: black; padding: 2px;\" title=\"-2.1924\">_on</span> <span style=\"background-color: rgb(102, 102, 255); color: white; padding: 2px;\" title=\"-2.9923\">_Wednesday</span> <span style=\"background-color: rgb(128, 128, 255); color: black; padding: 2px;\" title=\"-2.4820\">,</span> <span style=\"background-color: rgb(117, 117, 255); color: black; padding: 2px;\" title=\"-2.6866\">_recovering</span> <span style=\"background-color: rgb(99, 99, 255); color: white; padding: 2px;\" title=\"-3.0571\">_from</span> <span style=\"background-color: rgb(166, 166, 255); color: black; padding: 2px;\" title=\"-1.7322\">_its</span> <span style=\"background-color: rgb(120, 120, 255); color: black; padding: 2px;\" title=\"-2.6452\">_lowest</span> <span style=\"background-color: rgb(9, 9, 255); color: white; padding: 2px;\" title=\"-4.8186\">_in</span> <span style=\"background-color: rgb(0, 0, 255); color: white; padding: 2px;\" title=\"-6.0389\">_nearly</span> <span style=\"background-color: rgb(92, 92, 255); color: white; padding: 2px;\" title=\"-3.1788\">_two</span> <span style=\"background-color: rgb(108, 108, 255); color: white; padding: 2px;\" title=\"-2.8717\">_weeks</span> <span style=\"background-color: rgb(129, 129, 255); color: black; padding: 2px;\" title=\"-2.4515\">,</span> <span style=\"background-color: rgb(143, 143, 255); color: black; padding: 2px;\" title=\"-2.1930\">_as</span> <span style=\"background-color: rgb(161, 161, 255); color: black; padding: 2px;\" title=\"-1.8398\">_prospects</span> <span style=\"background-color: rgb(153, 153, 255); color: black; padding: 2px;\" title=\"-1.9992\">_for</span> <span style=\"background-color: rgb(201, 201, 255); color: black; padding: 2px;\" title=\"-1.0561\">_further</span> <span style=\"background-color: rgb(150, 150, 255); color: black; padding: 2px;\" title=\"-2.0511\">_economic</span> <span style=\"background-color: rgb(172, 172, 255); color: black; padding: 2px;\" title=\"-1.6149\">_stimulus</span> <span style=\"background-color: rgb(171, 171, 255); color: black; padding: 2px;\" title=\"-1.6350\">_helped</span> <span style=\"background-color: rgb(157, 157, 255); color: black; padding: 2px;\" title=\"-1.9161\">_to</span> <span style=\"background-color: rgb(168, 168, 255); color: black; padding: 2px;\" title=\"-1.6982\">_bolster</span> <span style=\"background-color: rgb(164, 164, 255); color: black; padding: 2px;\" title=\"-1.7761\">_investor</span> <span style=\"background-color: rgb(109, 109, 255); color: white; padding: 2px;\" title=\"-2.8477\">_appetite</span> <span style=\"background-color: rgb(200, 200, 255); color: black; padding: 2px;\" title=\"-1.0772\">_wh</span> <span style=\"background-color: rgb(135, 135, 255); color: black; padding: 2px;\" title=\"-2.3457\">il</span> <span style=\"background-color: rgb(199, 199, 255); color: black; padding: 2px;\" title=\"-1.0929\">_the</span> <span style=\"background-color: rgb(176, 176, 255); color: black; padding: 2px;\" title=\"-1.5341\">_dollar</span> <span style=\"background-color: rgb(112, 112, 255); color: black; padding: 2px;\" title=\"-2.8012\">_remained</span> <span style=\"background-color: rgb(82, 82, 255); color: white; padding: 2px;\" title=\"-3.3767\">_flat</span> <span style=\"background-color: rgb(138, 138, 255); color: black; padding: 2px;\" title=\"-2.2875\">.</span> <span style=\"background-color: rgb(166, 166, 255); color: black; padding: 2px;\" title=\"-1.7415\">_</span> <span style=\"background-color: rgb(216, 216, 255); color: black; padding: 2px;\" title=\"-0.7568\">_</span> <span style=\"background-color: rgb(209, 209, 255); color: black; padding: 2px;\" title=\"-0.9002\">Acc</span> <span style=\"background-color: rgb(169, 169, 255); color: black; padding: 2px;\" title=\"-1.6826\">ommod</span> <span style=\"background-color: rgb(166, 166, 255); color: black; padding: 2px;\" title=\"-1.7284\">ative</span> <span style=\"background-color: rgb(154, 154, 255); color: black; padding: 2px;\" title=\"-1.9775\">_monetary</span> <span style=\"background-color: rgb(143, 143, 255); color: black; padding: 2px;\" title=\"-2.1837\">_policies</span> <span style=\"background-color: rgb(165, 165, 255); color: black; padding: 2px;\" title=\"-1.7453\">_favour</span> <span style=\"background-color: rgb(184, 184, 255); color: black; padding: 2px;\" title=\"-1.3817\">_gold</span> <span style=\"background-color: rgb(170, 170, 255); color: black; padding: 2px;\" title=\"-1.6589\">_as</span> <span style=\"background-color: rgb(155, 155, 255); color: black; padding: 2px;\" title=\"-1.9416\">_well</span> <span style=\"background-color: rgb(152, 152, 255); color: black; padding: 2px;\" title=\"-2.0102\">_as</span> <span style=\"background-color: rgb(227, 227, 255); color: black; padding: 2px;\" title=\"-0.5395\">_equ</span> <span style=\"background-color: rgb(178, 178, 255); color: black; padding: 2px;\" title=\"-1.5055\">ities</span> <span style=\"background-color: rgb(147, 147, 255); color: black; padding: 2px;\" title=\"-2.1116\">_because</span> <span style=\"background-color: rgb(178, 178, 255); color: black; padding: 2px;\" title=\"-1.5038\">_low</span> <span style=\"background-color: rgb(151, 151, 255); color: black; padding: 2px;\" title=\"-2.0286\">_interest</span> <span style=\"background-color: rgb(177, 177, 255); color: black; padding: 2px;\" title=\"-1.5179\">_rates</span> <span style=\"background-color: rgb(174, 174, 255); color: black; padding: 2px;\" title=\"-1.5731\">_encourage</span> <span style=\"background-color: rgb(169, 169, 255); color: black; padding: 2px;\" title=\"-1.6858\">_investors</span> <span style=\"background-color: rgb(180, 180, 255); color: black; padding: 2px;\" title=\"-1.4587\">_to</span> <span style=\"background-color: rgb(145, 145, 255); color: black; padding: 2px;\" title=\"-2.1517\">_opt</span> <span style=\"background-color: rgb(163, 163, 255); color: black; padding: 2px;\" title=\"-1.7915\">_for</span> <span style=\"background-color: rgb(171, 171, 255); color: black; padding: 2px;\" title=\"-1.6288\">_assets</span> <span style=\"background-color: rgb(170, 170, 255); color: black; padding: 2px;\" title=\"-1.6604\">_that</span> <span style=\"background-color: rgb(139, 139, 255); color: black; padding: 2px;\" title=\"-2.2739\">_do</span> <span style=\"background-color: rgb(141, 141, 255); color: black; padding: 2px;\" title=\"-2.2201\">_not</span> <span style=\"background-color: rgb(130, 130, 255); color: black; padding: 2px;\" title=\"-2.4366\">_rely</span> <span style=\"background-color: rgb(148, 148, 255); color: black; padding: 2px;\" title=\"-2.0858\">_on</span> <span style=\"background-color: rgb(148, 148, 255); color: black; padding: 2px;\" title=\"-2.0960\">_interest</span> <span style=\"background-color: rgb(164, 164, 255); color: black; padding: 2px;\" title=\"-1.7809\">_yields</span> <span style=\"background-color: rgb(157, 157, 255); color: black; padding: 2px;\" title=\"-1.9081\">.</span> <span style=\"background-color: rgb(170, 170, 255); color: black; padding: 2px;\" title=\"-1.6624\">_</span> <span style=\"background-color: rgb(170, 170, 255); color: black; padding: 2px;\" title=\"-1.6651\">_</span> <span style=\"background-color: rgb(164, 164, 255); color: black; padding: 2px;\" title=\"-1.7808\">Spot</span> <span style=\"background-color: rgb(150, 150, 255); color: black; padding: 2px;\" title=\"-2.0408\">_gold</span> <span style=\"background-color: rgb(126, 126, 255); color: black; padding: 2px;\" title=\"-2.5146\">_was</span> <span style=\"background-color: rgb(170, 170, 255); color: black; padding: 2px;\" title=\"-1.6574\">_up</span> <span style=\"background-color: rgb(152, 152, 255); color: black; padding: 2px;\" title=\"-2.0073\">_0</span> <span style=\"background-color: rgb(190, 190, 255); color: black; padding: 2px;\" title=\"-1.2649\">.</span> <span style=\"background-color: rgb(154, 154, 255); color: black; padding: 2px;\" title=\"-1.9711\">7</span> <span style=\"background-color: rgb(122, 122, 255); color: black; padding: 2px;\" title=\"-2.5969\">_percent</span> <span style=\"background-color: rgb(235, 235, 255); color: black; padding: 2px;\" title=\"-0.3733\">_at</span> <span style=\"background-color: rgb(214, 214, 255); color: black; padding: 2px;\" title=\"-0.8009\">_$</span> <span style=\"background-color: rgb(255, 239, 239); color: black; padding: 2px;\" title=\"0.3003\">1</span> <span style=\"background-color: rgb(231, 231, 255); color: black; padding: 2px;\" title=\"-0.4562\">,</span> <span style=\"background-color: rgb(255, 59, 59); color: white; padding: 2px;\" title=\"3.8356\">340</span> <span style=\"background-color: rgb(176, 176, 255); color: black; padding: 2px;\" title=\"-1.5407\">.</span> <span style=\"background-color: rgb(255, 53, 53); color: white; padding: 2px;\" title=\"3.9476\">90</span> <span style=\"background-color: rgb(0, 0, 255); color: white; padding: 2px;\" title=\"-5.0000\">_an</span> <span style=\"background-color: rgb(148, 148, 255); color: black; padding: 2px;\" title=\"-2.0844\">_ounce</span> <span style=\"background-color: rgb(163, 163, 255); color: black; padding: 2px;\" title=\"-1.8005\">_by</span> <span style=\"background-color: rgb(130, 130, 255); color: black; padding: 2px;\" title=\"-2.4445\">_14</span> <span style=\"background-color: rgb(134, 134, 255); color: black; padding: 2px;\" title=\"-2.3531\">17</span> <span style=\"background-color: rgb(115, 115, 255); color: black; padding: 2px;\" title=\"-2.7348\">_GMT</span> <span style=\"background-color: rgb(142, 142, 255); color: black; padding: 2px;\" title=\"-2.1969\">,</span> <span style=\"background-color: rgb(134, 134, 255); color: black; padding: 2px;\" title=\"-2.3577\">_having</span> <span style=\"background-color: rgb(122, 122, 255); color: black; padding: 2px;\" title=\"-2.6068\">_earlier</span> <span style=\"background-color: rgb(125, 125, 255); color: black; padding: 2px;\" title=\"-2.5433\">_touched</span> <span style=\"background-color: rgb(158, 158, 255); color: black; padding: 2px;\" title=\"-1.8875\">_$</span> <span style=\"background-color: rgb(155, 155, 255); color: black; padding: 2px;\" title=\"-1.9568\">1</span> <span style=\"background-color: rgb(218, 218, 255); color: black; padding: 2px;\" title=\"-0.7236\">,</span> <span style=\"background-color: rgb(255, 111, 111); color: black; padding: 2px;\" title=\"2.8042\">327</span> <span style=\"background-color: rgb(174, 174, 255); color: black; padding: 2px;\" title=\"-1.5790\">.</span> <span style=\"background-color: rgb(255, 87, 87); color: black; padding: 2px;\" title=\"3.2885\">30</span> <span style=\"background-color: rgb(148, 148, 255); color: black; padding: 2px;\" title=\"-2.0841\">,</span> <span style=\"background-color: rgb(188, 188, 255); color: black; padding: 2px;\" title=\"-1.3088\">_its</span> </div>"
      ],
      "text/plain": [
       "<IPython.core.display.HTML object>"
      ]
     },
     "metadata": {},
     "output_type": "display_data"
    },
    {
     "data": {
      "text/html": [
       "<div><span style=\"background-color: rgb(192, 192, 255); color: black; padding: 2px;\" title=\"-1.2302\"><|endoftext|></span> <span style=\"background-color: rgb(199, 199, 255); color: black; padding: 2px;\" title=\"-1.0787\">L</span> <span style=\"background-color: rgb(179, 179, 255); color: black; padding: 2px;\" title=\"-1.4845\">ONDON</span> <span style=\"background-color: rgb(202, 202, 255); color: black; padding: 2px;\" title=\"-1.0318\">_(</span> <span style=\"background-color: rgb(105, 105, 255); color: white; padding: 2px;\" title=\"-2.9242\">Reuters</span> <span style=\"background-color: rgb(212, 212, 255); color: black; padding: 2px;\" title=\"-0.8283\">)</span> <span style=\"background-color: rgb(184, 184, 255); color: black; padding: 2px;\" title=\"-1.3729\">_-</span> <span style=\"background-color: rgb(181, 181, 255); color: black; padding: 2px;\" title=\"-1.4334\">_Gold</span> <span style=\"background-color: rgb(168, 168, 255); color: black; padding: 2px;\" title=\"-1.6895\">_rose</span> <span style=\"background-color: rgb(143, 143, 255); color: black; padding: 2px;\" title=\"-2.1924\">_on</span> <span style=\"background-color: rgb(102, 102, 255); color: white; padding: 2px;\" title=\"-2.9923\">_Wednesday</span> <span style=\"background-color: rgb(128, 128, 255); color: black; padding: 2px;\" title=\"-2.4820\">,</span> <span style=\"background-color: rgb(117, 117, 255); color: black; padding: 2px;\" title=\"-2.6866\">_recovering</span> <span style=\"background-color: rgb(99, 99, 255); color: white; padding: 2px;\" title=\"-3.0571\">_from</span> <span style=\"background-color: rgb(166, 166, 255); color: black; padding: 2px;\" title=\"-1.7322\">_its</span> <span style=\"background-color: rgb(120, 120, 255); color: black; padding: 2px;\" title=\"-2.6452\">_lowest</span> <span style=\"background-color: rgb(9, 9, 255); color: white; padding: 2px;\" title=\"-4.8186\">_in</span> <span style=\"background-color: rgb(0, 0, 255); color: white; padding: 2px;\" title=\"-6.0389\">_nearly</span> <span style=\"background-color: rgb(92, 92, 255); color: white; padding: 2px;\" title=\"-3.1788\">_two</span> <span style=\"background-color: rgb(108, 108, 255); color: white; padding: 2px;\" title=\"-2.8717\">_weeks</span> <span style=\"background-color: rgb(129, 129, 255); color: black; padding: 2px;\" title=\"-2.4515\">,</span> <span style=\"background-color: rgb(143, 143, 255); color: black; padding: 2px;\" title=\"-2.1930\">_as</span> <span style=\"background-color: rgb(161, 161, 255); color: black; padding: 2px;\" title=\"-1.8398\">_prospects</span> <span style=\"background-color: rgb(153, 153, 255); color: black; padding: 2px;\" title=\"-1.9992\">_for</span> <span style=\"background-color: rgb(201, 201, 255); color: black; padding: 2px;\" title=\"-1.0561\">_further</span> <span style=\"background-color: rgb(150, 150, 255); color: black; padding: 2px;\" title=\"-2.0511\">_economic</span> <span style=\"background-color: rgb(172, 172, 255); color: black; padding: 2px;\" title=\"-1.6149\">_stimulus</span> <span style=\"background-color: rgb(171, 171, 255); color: black; padding: 2px;\" title=\"-1.6350\">_helped</span> <span style=\"background-color: rgb(157, 157, 255); color: black; padding: 2px;\" title=\"-1.9161\">_to</span> <span style=\"background-color: rgb(168, 168, 255); color: black; padding: 2px;\" title=\"-1.6982\">_bolster</span> <span style=\"background-color: rgb(164, 164, 255); color: black; padding: 2px;\" title=\"-1.7761\">_investor</span> <span style=\"background-color: rgb(109, 109, 255); color: white; padding: 2px;\" title=\"-2.8477\">_appetite</span> <span style=\"background-color: rgb(200, 200, 255); color: black; padding: 2px;\" title=\"-1.0772\">_wh</span> <span style=\"background-color: rgb(135, 135, 255); color: black; padding: 2px;\" title=\"-2.3457\">il</span> <span style=\"background-color: rgb(199, 199, 255); color: black; padding: 2px;\" title=\"-1.0929\">_the</span> <span style=\"background-color: rgb(176, 176, 255); color: black; padding: 2px;\" title=\"-1.5341\">_dollar</span> <span style=\"background-color: rgb(112, 112, 255); color: black; padding: 2px;\" title=\"-2.8012\">_remained</span> <span style=\"background-color: rgb(82, 82, 255); color: white; padding: 2px;\" title=\"-3.3767\">_flat</span> <span style=\"background-color: rgb(138, 138, 255); color: black; padding: 2px;\" title=\"-2.2875\">.</span> <span style=\"background-color: rgb(166, 166, 255); color: black; padding: 2px;\" title=\"-1.7415\">_</span> <span style=\"background-color: rgb(216, 216, 255); color: black; padding: 2px;\" title=\"-0.7568\">_</span> <span style=\"background-color: rgb(209, 209, 255); color: black; padding: 2px;\" title=\"-0.9002\">Acc</span> <span style=\"background-color: rgb(169, 169, 255); color: black; padding: 2px;\" title=\"-1.6826\">ommod</span> <span style=\"background-color: rgb(166, 166, 255); color: black; padding: 2px;\" title=\"-1.7284\">ative</span> <span style=\"background-color: rgb(154, 154, 255); color: black; padding: 2px;\" title=\"-1.9775\">_monetary</span> <span style=\"background-color: rgb(143, 143, 255); color: black; padding: 2px;\" title=\"-2.1837\">_policies</span> <span style=\"background-color: rgb(165, 165, 255); color: black; padding: 2px;\" title=\"-1.7453\">_favour</span> <span style=\"background-color: rgb(184, 184, 255); color: black; padding: 2px;\" title=\"-1.3817\">_gold</span> <span style=\"background-color: rgb(170, 170, 255); color: black; padding: 2px;\" title=\"-1.6589\">_as</span> <span style=\"background-color: rgb(155, 155, 255); color: black; padding: 2px;\" title=\"-1.9416\">_well</span> <span style=\"background-color: rgb(152, 152, 255); color: black; padding: 2px;\" title=\"-2.0102\">_as</span> <span style=\"background-color: rgb(227, 227, 255); color: black; padding: 2px;\" title=\"-0.5395\">_equ</span> <span style=\"background-color: rgb(178, 178, 255); color: black; padding: 2px;\" title=\"-1.5055\">ities</span> <span style=\"background-color: rgb(147, 147, 255); color: black; padding: 2px;\" title=\"-2.1116\">_because</span> <span style=\"background-color: rgb(178, 178, 255); color: black; padding: 2px;\" title=\"-1.5038\">_low</span> <span style=\"background-color: rgb(151, 151, 255); color: black; padding: 2px;\" title=\"-2.0286\">_interest</span> <span style=\"background-color: rgb(177, 177, 255); color: black; padding: 2px;\" title=\"-1.5179\">_rates</span> <span style=\"background-color: rgb(174, 174, 255); color: black; padding: 2px;\" title=\"-1.5731\">_encourage</span> <span style=\"background-color: rgb(169, 169, 255); color: black; padding: 2px;\" title=\"-1.6858\">_investors</span> <span style=\"background-color: rgb(180, 180, 255); color: black; padding: 2px;\" title=\"-1.4587\">_to</span> <span style=\"background-color: rgb(145, 145, 255); color: black; padding: 2px;\" title=\"-2.1517\">_opt</span> <span style=\"background-color: rgb(163, 163, 255); color: black; padding: 2px;\" title=\"-1.7915\">_for</span> <span style=\"background-color: rgb(171, 171, 255); color: black; padding: 2px;\" title=\"-1.6288\">_assets</span> <span style=\"background-color: rgb(170, 170, 255); color: black; padding: 2px;\" title=\"-1.6604\">_that</span> <span style=\"background-color: rgb(139, 139, 255); color: black; padding: 2px;\" title=\"-2.2739\">_do</span> <span style=\"background-color: rgb(141, 141, 255); color: black; padding: 2px;\" title=\"-2.2201\">_not</span> <span style=\"background-color: rgb(130, 130, 255); color: black; padding: 2px;\" title=\"-2.4366\">_rely</span> <span style=\"background-color: rgb(148, 148, 255); color: black; padding: 2px;\" title=\"-2.0858\">_on</span> <span style=\"background-color: rgb(148, 148, 255); color: black; padding: 2px;\" title=\"-2.0960\">_interest</span> <span style=\"background-color: rgb(164, 164, 255); color: black; padding: 2px;\" title=\"-1.7809\">_yields</span> <span style=\"background-color: rgb(157, 157, 255); color: black; padding: 2px;\" title=\"-1.9081\">.</span> <span style=\"background-color: rgb(170, 170, 255); color: black; padding: 2px;\" title=\"-1.6624\">_</span> <span style=\"background-color: rgb(170, 170, 255); color: black; padding: 2px;\" title=\"-1.6651\">_</span> <span style=\"background-color: rgb(164, 164, 255); color: black; padding: 2px;\" title=\"-1.7808\">Spot</span> <span style=\"background-color: rgb(150, 150, 255); color: black; padding: 2px;\" title=\"-2.0408\">_gold</span> <span style=\"background-color: rgb(126, 126, 255); color: black; padding: 2px;\" title=\"-2.5146\">_was</span> <span style=\"background-color: rgb(170, 170, 255); color: black; padding: 2px;\" title=\"-1.6574\">_up</span> <span style=\"background-color: rgb(152, 152, 255); color: black; padding: 2px;\" title=\"-2.0073\">_0</span> <span style=\"background-color: rgb(190, 190, 255); color: black; padding: 2px;\" title=\"-1.2649\">.</span> <span style=\"background-color: rgb(154, 154, 255); color: black; padding: 2px;\" title=\"-1.9711\">7</span> <span style=\"background-color: rgb(122, 122, 255); color: black; padding: 2px;\" title=\"-2.5969\">_percent</span> <span style=\"background-color: rgb(235, 235, 255); color: black; padding: 2px;\" title=\"-0.3733\">_at</span> <span style=\"background-color: rgb(214, 214, 255); color: black; padding: 2px;\" title=\"-0.8009\">_$</span> <span style=\"background-color: rgb(255, 239, 239); color: black; padding: 2px;\" title=\"0.3003\">1</span> <span style=\"background-color: rgb(231, 231, 255); color: black; padding: 2px;\" title=\"-0.4562\">,</span> <span style=\"background-color: rgb(255, 59, 59); color: white; padding: 2px;\" title=\"3.8356\">340</span> <span style=\"background-color: rgb(176, 176, 255); color: black; padding: 2px;\" title=\"-1.5407\">.</span> <span style=\"background-color: rgb(255, 53, 53); color: white; padding: 2px;\" title=\"3.9476\">90</span> <span style=\"background-color: rgb(0, 0, 255); color: white; padding: 2px;\" title=\"-5.0000\">_an</span> <span style=\"background-color: rgb(148, 148, 255); color: black; padding: 2px;\" title=\"-2.0844\">_ounce</span> <span style=\"background-color: rgb(163, 163, 255); color: black; padding: 2px;\" title=\"-1.8005\">_by</span> <span style=\"background-color: rgb(130, 130, 255); color: black; padding: 2px;\" title=\"-2.4445\">_14</span> <span style=\"background-color: rgb(134, 134, 255); color: black; padding: 2px;\" title=\"-2.3531\">17</span> <span style=\"background-color: rgb(115, 115, 255); color: black; padding: 2px;\" title=\"-2.7348\">_GMT</span> <span style=\"background-color: rgb(142, 142, 255); color: black; padding: 2px;\" title=\"-2.1969\">,</span> <span style=\"background-color: rgb(134, 134, 255); color: black; padding: 2px;\" title=\"-2.3577\">_having</span> <span style=\"background-color: rgb(122, 122, 255); color: black; padding: 2px;\" title=\"-2.6068\">_earlier</span> <span style=\"background-color: rgb(125, 125, 255); color: black; padding: 2px;\" title=\"-2.5433\">_touched</span> <span style=\"background-color: rgb(158, 158, 255); color: black; padding: 2px;\" title=\"-1.8875\">_$</span> <span style=\"background-color: rgb(155, 155, 255); color: black; padding: 2px;\" title=\"-1.9568\">1</span> <span style=\"background-color: rgb(218, 218, 255); color: black; padding: 2px;\" title=\"-0.7236\">,</span> <span style=\"background-color: rgb(255, 111, 111); color: black; padding: 2px;\" title=\"2.8042\">327</span> <span style=\"background-color: rgb(174, 174, 255); color: black; padding: 2px;\" title=\"-1.5790\">.</span> <span style=\"background-color: rgb(255, 87, 87); color: black; padding: 2px;\" title=\"3.2885\">30</span> <span style=\"background-color: rgb(148, 148, 255); color: black; padding: 2px;\" title=\"-2.0841\">,</span> <span style=\"background-color: rgb(188, 188, 255); color: black; padding: 2px;\" title=\"-1.3088\">_its</span> <span style=\"background-color: rgb(126, 126, 255); color: black; padding: 2px;\" title=\"-2.5279\">_lowest</span> <span style=\"background-color: rgb(146, 146, 255); color: black; padding: 2px;\" title=\"-2.1253\">_since</span> <span style=\"background-color: rgb(144, 144, 255); color: black; padding: 2px;\" title=\"-2.1745\">_July</span> <span style=\"background-color: rgb(124, 124, 255); color: black; padding: 2px;\" title=\"-2.5646\">_1</span> <span style=\"background-color: rgb(147, 147, 255); color: black; padding: 2px;\" title=\"-2.1033\">.</span> <span style=\"background-color: rgb(153, 153, 255); color: black; padding: 2px;\" title=\"-1.9911\">_Bull</span> <span style=\"background-color: rgb(171, 171, 255); color: black; padding: 2px;\" title=\"-1.6394\">ion</span> <span style=\"background-color: rgb(141, 141, 255); color: black; padding: 2px;\" title=\"-2.2343\">_had</span> <span style=\"background-color: rgb(155, 155, 255); color: black; padding: 2px;\" title=\"-1.9600\">_fallen</span> <span style=\"background-color: rgb(169, 169, 255); color: black; padding: 2px;\" title=\"-1.6772\">_by</span> <span style=\"background-color: rgb(137, 137, 255); color: black; padding: 2px;\" title=\"-2.3038\">_1</span> <span style=\"background-color: rgb(187, 187, 255); color: black; padding: 2px;\" title=\"-1.3307\">.</span> <span style=\"background-color: rgb(114, 114, 255); color: black; padding: 2px;\" title=\"-2.7594\">7</span> <span style=\"background-color: rgb(86, 86, 255); color: white; padding: 2px;\" title=\"-3.2962\">_percent</span> <span style=\"background-color: rgb(165, 165, 255); color: black; padding: 2px;\" title=\"-1.7476\">_on</span> <span style=\"background-color: rgb(124, 124, 255); color: black; padding: 2px;\" title=\"-2.5550\">_Tuesday</span> <span style=\"background-color: rgb(135, 135, 255); color: black; padding: 2px;\" title=\"-2.3341\">,</span> <span style=\"background-color: rgb(176, 176, 255); color: black; padding: 2px;\" title=\"-1.5386\">_its</span> <span style=\"background-color: rgb(98, 98, 255); color: white; padding: 2px;\" title=\"-3.0667\">_biggest</span> <span style=\"background-color: rgb(126, 126, 255); color: black; padding: 2px;\" title=\"-2.5210\">_one</span> <span style=\"background-color: rgb(161, 161, 255); color: black; padding: 2px;\" title=\"-1.8251\">-</span> <span style=\"background-color: rgb(130, 130, 255); color: black; padding: 2px;\" title=\"-2.4441\">day</span> <span style=\"background-color: rgb(104, 104, 255); color: white; padding: 2px;\" title=\"-2.9483\">_drop</span> <span style=\"background-color: rgb(139, 139, 255); color: black; padding: 2px;\" title=\"-2.2559\">_since</span> <span style=\"background-color: rgb(151, 151, 255); color: black; padding: 2px;\" title=\"-2.0386\">_May</span> <span style=\"background-color: rgb(136, 136, 255); color: black; padding: 2px;\" title=\"-2.3181\">_24</span> <span style=\"background-color: rgb(146, 146, 255); color: black; padding: 2px;\" title=\"-2.1371\">.</span> <span style=\"background-color: rgb(167, 167, 255); color: black; padding: 2px;\" title=\"-1.7113\">_</span> <span style=\"background-color: rgb(166, 166, 255); color: black; padding: 2px;\" title=\"-1.7281\">_</span> <span style=\"background-color: rgb(156, 156, 255); color: black; padding: 2px;\" title=\"-1.9257\">U</span> <span style=\"background-color: rgb(182, 182, 255); color: black; padding: 2px;\" title=\"-1.4222\">.</span> <span style=\"background-color: rgb(174, 174, 255); color: black; padding: 2px;\" title=\"-1.5854\">S</span> <span style=\"background-color: rgb(177, 177, 255); color: black; padding: 2px;\" title=\"-1.5145\">.</span> <span style=\"background-color: rgb(171, 171, 255); color: black; padding: 2px;\" title=\"-1.6373\">_gold</span> <span style=\"background-color: rgb(153, 153, 255); color: black; padding: 2px;\" title=\"-1.9805\">_rose</span> <span style=\"background-color: rgb(155, 155, 255); color: black; padding: 2px;\" title=\"-1.9435\">_0</span> <span style=\"background-color: rgb(190, 190, 255); color: black; padding: 2px;\" title=\"-1.2550\">.</span> <span style=\"background-color: rgb(133, 133, 255); color: black; padding: 2px;\" title=\"-2.3917\">5</span> <span style=\"background-color: rgb(126, 126, 255); color: black; padding: 2px;\" title=\"-2.5282\">_percent</span> <span style=\"background-color: rgb(220, 220, 255); color: black; padding: 2px;\" title=\"-0.6744\">_to</span> <span style=\"background-color: rgb(216, 216, 255); color: black; padding: 2px;\" title=\"-0.7557\">_$</span> <span style=\"background-color: rgb(255, 253, 253); color: black; padding: 2px;\" title=\"0.0284\">1</span> <span style=\"background-color: rgb(247, 247, 255); color: black; padding: 2px;\" title=\"-0.1448\">,</span> <span style=\"background-color: rgb(255, 114, 114); color: black; padding: 2px;\" title=\"2.7471\">341</span> <span style=\"background-color: rgb(184, 184, 255); color: black; padding: 2px;\" title=\"-1.3827\">.</span> <span style=\"background-color: rgb(255, 103, 103); color: black; padding: 2px;\" title=\"2.9765\">50</span> <span style=\"background-color: rgb(161, 161, 255); color: black; padding: 2px;\" title=\"-1.8349\">.</span> <span style=\"background-color: rgb(171, 171, 255); color: black; padding: 2px;\" title=\"-1.6379\">_</span> </div>"
      ],
      "text/plain": [
       "<IPython.core.display.HTML object>"
      ]
     },
     "metadata": {},
     "output_type": "display_data"
    },
    {
     "data": {
      "text/html": [
       "<div><span style=\"background-color: rgb(192, 192, 255); color: black; padding: 2px;\" title=\"-1.2302\"><|endoftext|></span> <span style=\"background-color: rgb(199, 199, 255); color: black; padding: 2px;\" title=\"-1.0787\">L</span> <span style=\"background-color: rgb(179, 179, 255); color: black; padding: 2px;\" title=\"-1.4845\">ONDON</span> <span style=\"background-color: rgb(202, 202, 255); color: black; padding: 2px;\" title=\"-1.0318\">_(</span> <span style=\"background-color: rgb(105, 105, 255); color: white; padding: 2px;\" title=\"-2.9242\">Reuters</span> <span style=\"background-color: rgb(212, 212, 255); color: black; padding: 2px;\" title=\"-0.8283\">)</span> <span style=\"background-color: rgb(184, 184, 255); color: black; padding: 2px;\" title=\"-1.3729\">_-</span> <span style=\"background-color: rgb(181, 181, 255); color: black; padding: 2px;\" title=\"-1.4334\">_Gold</span> <span style=\"background-color: rgb(168, 168, 255); color: black; padding: 2px;\" title=\"-1.6895\">_rose</span> <span style=\"background-color: rgb(143, 143, 255); color: black; padding: 2px;\" title=\"-2.1924\">_on</span> <span style=\"background-color: rgb(102, 102, 255); color: white; padding: 2px;\" title=\"-2.9923\">_Wednesday</span> <span style=\"background-color: rgb(128, 128, 255); color: black; padding: 2px;\" title=\"-2.4820\">,</span> <span style=\"background-color: rgb(117, 117, 255); color: black; padding: 2px;\" title=\"-2.6866\">_recovering</span> <span style=\"background-color: rgb(99, 99, 255); color: white; padding: 2px;\" title=\"-3.0571\">_from</span> <span style=\"background-color: rgb(166, 166, 255); color: black; padding: 2px;\" title=\"-1.7322\">_its</span> <span style=\"background-color: rgb(120, 120, 255); color: black; padding: 2px;\" title=\"-2.6452\">_lowest</span> <span style=\"background-color: rgb(9, 9, 255); color: white; padding: 2px;\" title=\"-4.8186\">_in</span> <span style=\"background-color: rgb(0, 0, 255); color: white; padding: 2px;\" title=\"-6.0389\">_nearly</span> <span style=\"background-color: rgb(92, 92, 255); color: white; padding: 2px;\" title=\"-3.1788\">_two</span> <span style=\"background-color: rgb(108, 108, 255); color: white; padding: 2px;\" title=\"-2.8717\">_weeks</span> <span style=\"background-color: rgb(129, 129, 255); color: black; padding: 2px;\" title=\"-2.4515\">,</span> <span style=\"background-color: rgb(143, 143, 255); color: black; padding: 2px;\" title=\"-2.1930\">_as</span> <span style=\"background-color: rgb(161, 161, 255); color: black; padding: 2px;\" title=\"-1.8398\">_prospects</span> <span style=\"background-color: rgb(153, 153, 255); color: black; padding: 2px;\" title=\"-1.9992\">_for</span> <span style=\"background-color: rgb(201, 201, 255); color: black; padding: 2px;\" title=\"-1.0561\">_further</span> <span style=\"background-color: rgb(150, 150, 255); color: black; padding: 2px;\" title=\"-2.0511\">_economic</span> <span style=\"background-color: rgb(172, 172, 255); color: black; padding: 2px;\" title=\"-1.6149\">_stimulus</span> <span style=\"background-color: rgb(171, 171, 255); color: black; padding: 2px;\" title=\"-1.6350\">_helped</span> <span style=\"background-color: rgb(157, 157, 255); color: black; padding: 2px;\" title=\"-1.9161\">_to</span> <span style=\"background-color: rgb(168, 168, 255); color: black; padding: 2px;\" title=\"-1.6982\">_bolster</span> <span style=\"background-color: rgb(164, 164, 255); color: black; padding: 2px;\" title=\"-1.7761\">_investor</span> <span style=\"background-color: rgb(109, 109, 255); color: white; padding: 2px;\" title=\"-2.8477\">_appetite</span> <span style=\"background-color: rgb(200, 200, 255); color: black; padding: 2px;\" title=\"-1.0772\">_wh</span> <span style=\"background-color: rgb(135, 135, 255); color: black; padding: 2px;\" title=\"-2.3457\">il</span> <span style=\"background-color: rgb(199, 199, 255); color: black; padding: 2px;\" title=\"-1.0929\">_the</span> <span style=\"background-color: rgb(176, 176, 255); color: black; padding: 2px;\" title=\"-1.5341\">_dollar</span> <span style=\"background-color: rgb(112, 112, 255); color: black; padding: 2px;\" title=\"-2.8012\">_remained</span> <span style=\"background-color: rgb(82, 82, 255); color: white; padding: 2px;\" title=\"-3.3767\">_flat</span> <span style=\"background-color: rgb(138, 138, 255); color: black; padding: 2px;\" title=\"-2.2875\">.</span> <span style=\"background-color: rgb(166, 166, 255); color: black; padding: 2px;\" title=\"-1.7415\">_</span> <span style=\"background-color: rgb(216, 216, 255); color: black; padding: 2px;\" title=\"-0.7568\">_</span> <span style=\"background-color: rgb(209, 209, 255); color: black; padding: 2px;\" title=\"-0.9002\">Acc</span> <span style=\"background-color: rgb(169, 169, 255); color: black; padding: 2px;\" title=\"-1.6826\">ommod</span> <span style=\"background-color: rgb(166, 166, 255); color: black; padding: 2px;\" title=\"-1.7284\">ative</span> <span style=\"background-color: rgb(154, 154, 255); color: black; padding: 2px;\" title=\"-1.9775\">_monetary</span> <span style=\"background-color: rgb(143, 143, 255); color: black; padding: 2px;\" title=\"-2.1837\">_policies</span> <span style=\"background-color: rgb(165, 165, 255); color: black; padding: 2px;\" title=\"-1.7453\">_favour</span> <span style=\"background-color: rgb(184, 184, 255); color: black; padding: 2px;\" title=\"-1.3817\">_gold</span> <span style=\"background-color: rgb(170, 170, 255); color: black; padding: 2px;\" title=\"-1.6589\">_as</span> <span style=\"background-color: rgb(155, 155, 255); color: black; padding: 2px;\" title=\"-1.9416\">_well</span> <span style=\"background-color: rgb(152, 152, 255); color: black; padding: 2px;\" title=\"-2.0102\">_as</span> <span style=\"background-color: rgb(227, 227, 255); color: black; padding: 2px;\" title=\"-0.5395\">_equ</span> <span style=\"background-color: rgb(178, 178, 255); color: black; padding: 2px;\" title=\"-1.5055\">ities</span> <span style=\"background-color: rgb(147, 147, 255); color: black; padding: 2px;\" title=\"-2.1116\">_because</span> <span style=\"background-color: rgb(178, 178, 255); color: black; padding: 2px;\" title=\"-1.5038\">_low</span> <span style=\"background-color: rgb(151, 151, 255); color: black; padding: 2px;\" title=\"-2.0286\">_interest</span> <span style=\"background-color: rgb(177, 177, 255); color: black; padding: 2px;\" title=\"-1.5179\">_rates</span> <span style=\"background-color: rgb(174, 174, 255); color: black; padding: 2px;\" title=\"-1.5731\">_encourage</span> <span style=\"background-color: rgb(169, 169, 255); color: black; padding: 2px;\" title=\"-1.6858\">_investors</span> <span style=\"background-color: rgb(180, 180, 255); color: black; padding: 2px;\" title=\"-1.4587\">_to</span> <span style=\"background-color: rgb(145, 145, 255); color: black; padding: 2px;\" title=\"-2.1517\">_opt</span> <span style=\"background-color: rgb(163, 163, 255); color: black; padding: 2px;\" title=\"-1.7915\">_for</span> <span style=\"background-color: rgb(171, 171, 255); color: black; padding: 2px;\" title=\"-1.6288\">_assets</span> <span style=\"background-color: rgb(170, 170, 255); color: black; padding: 2px;\" title=\"-1.6604\">_that</span> <span style=\"background-color: rgb(139, 139, 255); color: black; padding: 2px;\" title=\"-2.2739\">_do</span> <span style=\"background-color: rgb(141, 141, 255); color: black; padding: 2px;\" title=\"-2.2201\">_not</span> <span style=\"background-color: rgb(130, 130, 255); color: black; padding: 2px;\" title=\"-2.4366\">_rely</span> <span style=\"background-color: rgb(148, 148, 255); color: black; padding: 2px;\" title=\"-2.0858\">_on</span> <span style=\"background-color: rgb(148, 148, 255); color: black; padding: 2px;\" title=\"-2.0960\">_interest</span> <span style=\"background-color: rgb(164, 164, 255); color: black; padding: 2px;\" title=\"-1.7809\">_yields</span> <span style=\"background-color: rgb(157, 157, 255); color: black; padding: 2px;\" title=\"-1.9081\">.</span> <span style=\"background-color: rgb(170, 170, 255); color: black; padding: 2px;\" title=\"-1.6624\">_</span> <span style=\"background-color: rgb(170, 170, 255); color: black; padding: 2px;\" title=\"-1.6651\">_</span> <span style=\"background-color: rgb(164, 164, 255); color: black; padding: 2px;\" title=\"-1.7808\">Spot</span> <span style=\"background-color: rgb(150, 150, 255); color: black; padding: 2px;\" title=\"-2.0408\">_gold</span> <span style=\"background-color: rgb(126, 126, 255); color: black; padding: 2px;\" title=\"-2.5146\">_was</span> <span style=\"background-color: rgb(170, 170, 255); color: black; padding: 2px;\" title=\"-1.6574\">_up</span> <span style=\"background-color: rgb(152, 152, 255); color: black; padding: 2px;\" title=\"-2.0073\">_0</span> <span style=\"background-color: rgb(190, 190, 255); color: black; padding: 2px;\" title=\"-1.2649\">.</span> <span style=\"background-color: rgb(154, 154, 255); color: black; padding: 2px;\" title=\"-1.9711\">7</span> <span style=\"background-color: rgb(122, 122, 255); color: black; padding: 2px;\" title=\"-2.5969\">_percent</span> <span style=\"background-color: rgb(235, 235, 255); color: black; padding: 2px;\" title=\"-0.3733\">_at</span> <span style=\"background-color: rgb(214, 214, 255); color: black; padding: 2px;\" title=\"-0.8009\">_$</span> <span style=\"background-color: rgb(255, 239, 239); color: black; padding: 2px;\" title=\"0.3003\">1</span> <span style=\"background-color: rgb(231, 231, 255); color: black; padding: 2px;\" title=\"-0.4562\">,</span> <span style=\"background-color: rgb(255, 59, 59); color: white; padding: 2px;\" title=\"3.8356\">340</span> <span style=\"background-color: rgb(176, 176, 255); color: black; padding: 2px;\" title=\"-1.5407\">.</span> <span style=\"background-color: rgb(255, 53, 53); color: white; padding: 2px;\" title=\"3.9476\">90</span> <span style=\"background-color: rgb(0, 0, 255); color: white; padding: 2px;\" title=\"-5.0000\">_an</span> <span style=\"background-color: rgb(148, 148, 255); color: black; padding: 2px;\" title=\"-2.0844\">_ounce</span> <span style=\"background-color: rgb(163, 163, 255); color: black; padding: 2px;\" title=\"-1.8005\">_by</span> <span style=\"background-color: rgb(130, 130, 255); color: black; padding: 2px;\" title=\"-2.4445\">_14</span> <span style=\"background-color: rgb(134, 134, 255); color: black; padding: 2px;\" title=\"-2.3531\">17</span> <span style=\"background-color: rgb(115, 115, 255); color: black; padding: 2px;\" title=\"-2.7348\">_GMT</span> <span style=\"background-color: rgb(142, 142, 255); color: black; padding: 2px;\" title=\"-2.1969\">,</span> <span style=\"background-color: rgb(134, 134, 255); color: black; padding: 2px;\" title=\"-2.3577\">_having</span> <span style=\"background-color: rgb(122, 122, 255); color: black; padding: 2px;\" title=\"-2.6068\">_earlier</span> <span style=\"background-color: rgb(125, 125, 255); color: black; padding: 2px;\" title=\"-2.5433\">_touched</span> <span style=\"background-color: rgb(158, 158, 255); color: black; padding: 2px;\" title=\"-1.8875\">_$</span> <span style=\"background-color: rgb(155, 155, 255); color: black; padding: 2px;\" title=\"-1.9568\">1</span> <span style=\"background-color: rgb(218, 218, 255); color: black; padding: 2px;\" title=\"-0.7236\">,</span> <span style=\"background-color: rgb(255, 111, 111); color: black; padding: 2px;\" title=\"2.8042\">327</span> <span style=\"background-color: rgb(174, 174, 255); color: black; padding: 2px;\" title=\"-1.5790\">.</span> <span style=\"background-color: rgb(255, 87, 87); color: black; padding: 2px;\" title=\"3.2885\">30</span> </div>"
      ],
      "text/plain": [
       "<IPython.core.display.HTML object>"
      ]
     },
     "metadata": {},
     "output_type": "display_data"
    },
    {
     "data": {
      "text/html": [
       "<div><span style=\"background-color: rgb(192, 192, 255); color: black; padding: 2px;\" title=\"-1.2302\"><|endoftext|></span> <span style=\"background-color: rgb(199, 199, 255); color: black; padding: 2px;\" title=\"-1.0787\">L</span> <span style=\"background-color: rgb(179, 179, 255); color: black; padding: 2px;\" title=\"-1.4845\">ONDON</span> <span style=\"background-color: rgb(202, 202, 255); color: black; padding: 2px;\" title=\"-1.0318\">_(</span> <span style=\"background-color: rgb(105, 105, 255); color: white; padding: 2px;\" title=\"-2.9242\">Reuters</span> <span style=\"background-color: rgb(212, 212, 255); color: black; padding: 2px;\" title=\"-0.8283\">)</span> <span style=\"background-color: rgb(184, 184, 255); color: black; padding: 2px;\" title=\"-1.3729\">_-</span> <span style=\"background-color: rgb(181, 181, 255); color: black; padding: 2px;\" title=\"-1.4334\">_Gold</span> <span style=\"background-color: rgb(168, 168, 255); color: black; padding: 2px;\" title=\"-1.6895\">_rose</span> <span style=\"background-color: rgb(143, 143, 255); color: black; padding: 2px;\" title=\"-2.1924\">_on</span> <span style=\"background-color: rgb(102, 102, 255); color: white; padding: 2px;\" title=\"-2.9923\">_Wednesday</span> <span style=\"background-color: rgb(128, 128, 255); color: black; padding: 2px;\" title=\"-2.4820\">,</span> <span style=\"background-color: rgb(117, 117, 255); color: black; padding: 2px;\" title=\"-2.6866\">_recovering</span> <span style=\"background-color: rgb(99, 99, 255); color: white; padding: 2px;\" title=\"-3.0571\">_from</span> <span style=\"background-color: rgb(166, 166, 255); color: black; padding: 2px;\" title=\"-1.7322\">_its</span> <span style=\"background-color: rgb(120, 120, 255); color: black; padding: 2px;\" title=\"-2.6452\">_lowest</span> <span style=\"background-color: rgb(9, 9, 255); color: white; padding: 2px;\" title=\"-4.8186\">_in</span> <span style=\"background-color: rgb(0, 0, 255); color: white; padding: 2px;\" title=\"-6.0389\">_nearly</span> <span style=\"background-color: rgb(92, 92, 255); color: white; padding: 2px;\" title=\"-3.1788\">_two</span> <span style=\"background-color: rgb(108, 108, 255); color: white; padding: 2px;\" title=\"-2.8717\">_weeks</span> <span style=\"background-color: rgb(129, 129, 255); color: black; padding: 2px;\" title=\"-2.4515\">,</span> <span style=\"background-color: rgb(143, 143, 255); color: black; padding: 2px;\" title=\"-2.1930\">_as</span> <span style=\"background-color: rgb(161, 161, 255); color: black; padding: 2px;\" title=\"-1.8398\">_prospects</span> <span style=\"background-color: rgb(153, 153, 255); color: black; padding: 2px;\" title=\"-1.9992\">_for</span> <span style=\"background-color: rgb(201, 201, 255); color: black; padding: 2px;\" title=\"-1.0561\">_further</span> <span style=\"background-color: rgb(150, 150, 255); color: black; padding: 2px;\" title=\"-2.0511\">_economic</span> <span style=\"background-color: rgb(172, 172, 255); color: black; padding: 2px;\" title=\"-1.6149\">_stimulus</span> <span style=\"background-color: rgb(171, 171, 255); color: black; padding: 2px;\" title=\"-1.6350\">_helped</span> <span style=\"background-color: rgb(157, 157, 255); color: black; padding: 2px;\" title=\"-1.9161\">_to</span> <span style=\"background-color: rgb(168, 168, 255); color: black; padding: 2px;\" title=\"-1.6982\">_bolster</span> <span style=\"background-color: rgb(164, 164, 255); color: black; padding: 2px;\" title=\"-1.7761\">_investor</span> <span style=\"background-color: rgb(109, 109, 255); color: white; padding: 2px;\" title=\"-2.8477\">_appetite</span> <span style=\"background-color: rgb(200, 200, 255); color: black; padding: 2px;\" title=\"-1.0772\">_wh</span> <span style=\"background-color: rgb(135, 135, 255); color: black; padding: 2px;\" title=\"-2.3457\">il</span> <span style=\"background-color: rgb(199, 199, 255); color: black; padding: 2px;\" title=\"-1.0929\">_the</span> <span style=\"background-color: rgb(176, 176, 255); color: black; padding: 2px;\" title=\"-1.5341\">_dollar</span> <span style=\"background-color: rgb(112, 112, 255); color: black; padding: 2px;\" title=\"-2.8012\">_remained</span> <span style=\"background-color: rgb(82, 82, 255); color: white; padding: 2px;\" title=\"-3.3767\">_flat</span> <span style=\"background-color: rgb(138, 138, 255); color: black; padding: 2px;\" title=\"-2.2875\">.</span> <span style=\"background-color: rgb(166, 166, 255); color: black; padding: 2px;\" title=\"-1.7415\">_</span> <span style=\"background-color: rgb(216, 216, 255); color: black; padding: 2px;\" title=\"-0.7568\">_</span> <span style=\"background-color: rgb(209, 209, 255); color: black; padding: 2px;\" title=\"-0.9002\">Acc</span> <span style=\"background-color: rgb(169, 169, 255); color: black; padding: 2px;\" title=\"-1.6826\">ommod</span> <span style=\"background-color: rgb(166, 166, 255); color: black; padding: 2px;\" title=\"-1.7284\">ative</span> <span style=\"background-color: rgb(154, 154, 255); color: black; padding: 2px;\" title=\"-1.9775\">_monetary</span> <span style=\"background-color: rgb(143, 143, 255); color: black; padding: 2px;\" title=\"-2.1837\">_policies</span> <span style=\"background-color: rgb(165, 165, 255); color: black; padding: 2px;\" title=\"-1.7453\">_favour</span> <span style=\"background-color: rgb(184, 184, 255); color: black; padding: 2px;\" title=\"-1.3817\">_gold</span> <span style=\"background-color: rgb(170, 170, 255); color: black; padding: 2px;\" title=\"-1.6589\">_as</span> <span style=\"background-color: rgb(155, 155, 255); color: black; padding: 2px;\" title=\"-1.9416\">_well</span> <span style=\"background-color: rgb(152, 152, 255); color: black; padding: 2px;\" title=\"-2.0102\">_as</span> <span style=\"background-color: rgb(227, 227, 255); color: black; padding: 2px;\" title=\"-0.5395\">_equ</span> <span style=\"background-color: rgb(178, 178, 255); color: black; padding: 2px;\" title=\"-1.5055\">ities</span> <span style=\"background-color: rgb(147, 147, 255); color: black; padding: 2px;\" title=\"-2.1116\">_because</span> <span style=\"background-color: rgb(178, 178, 255); color: black; padding: 2px;\" title=\"-1.5038\">_low</span> <span style=\"background-color: rgb(151, 151, 255); color: black; padding: 2px;\" title=\"-2.0286\">_interest</span> <span style=\"background-color: rgb(177, 177, 255); color: black; padding: 2px;\" title=\"-1.5179\">_rates</span> <span style=\"background-color: rgb(174, 174, 255); color: black; padding: 2px;\" title=\"-1.5731\">_encourage</span> <span style=\"background-color: rgb(169, 169, 255); color: black; padding: 2px;\" title=\"-1.6858\">_investors</span> <span style=\"background-color: rgb(180, 180, 255); color: black; padding: 2px;\" title=\"-1.4587\">_to</span> <span style=\"background-color: rgb(145, 145, 255); color: black; padding: 2px;\" title=\"-2.1517\">_opt</span> <span style=\"background-color: rgb(163, 163, 255); color: black; padding: 2px;\" title=\"-1.7915\">_for</span> <span style=\"background-color: rgb(171, 171, 255); color: black; padding: 2px;\" title=\"-1.6288\">_assets</span> <span style=\"background-color: rgb(170, 170, 255); color: black; padding: 2px;\" title=\"-1.6604\">_that</span> <span style=\"background-color: rgb(139, 139, 255); color: black; padding: 2px;\" title=\"-2.2739\">_do</span> <span style=\"background-color: rgb(141, 141, 255); color: black; padding: 2px;\" title=\"-2.2201\">_not</span> <span style=\"background-color: rgb(130, 130, 255); color: black; padding: 2px;\" title=\"-2.4366\">_rely</span> <span style=\"background-color: rgb(148, 148, 255); color: black; padding: 2px;\" title=\"-2.0858\">_on</span> <span style=\"background-color: rgb(148, 148, 255); color: black; padding: 2px;\" title=\"-2.0960\">_interest</span> <span style=\"background-color: rgb(164, 164, 255); color: black; padding: 2px;\" title=\"-1.7809\">_yields</span> <span style=\"background-color: rgb(157, 157, 255); color: black; padding: 2px;\" title=\"-1.9081\">.</span> <span style=\"background-color: rgb(170, 170, 255); color: black; padding: 2px;\" title=\"-1.6624\">_</span> <span style=\"background-color: rgb(170, 170, 255); color: black; padding: 2px;\" title=\"-1.6651\">_</span> <span style=\"background-color: rgb(164, 164, 255); color: black; padding: 2px;\" title=\"-1.7808\">Spot</span> <span style=\"background-color: rgb(150, 150, 255); color: black; padding: 2px;\" title=\"-2.0408\">_gold</span> <span style=\"background-color: rgb(126, 126, 255); color: black; padding: 2px;\" title=\"-2.5146\">_was</span> <span style=\"background-color: rgb(170, 170, 255); color: black; padding: 2px;\" title=\"-1.6574\">_up</span> <span style=\"background-color: rgb(152, 152, 255); color: black; padding: 2px;\" title=\"-2.0073\">_0</span> <span style=\"background-color: rgb(190, 190, 255); color: black; padding: 2px;\" title=\"-1.2649\">.</span> <span style=\"background-color: rgb(154, 154, 255); color: black; padding: 2px;\" title=\"-1.9711\">7</span> <span style=\"background-color: rgb(122, 122, 255); color: black; padding: 2px;\" title=\"-2.5969\">_percent</span> <span style=\"background-color: rgb(235, 235, 255); color: black; padding: 2px;\" title=\"-0.3733\">_at</span> <span style=\"background-color: rgb(214, 214, 255); color: black; padding: 2px;\" title=\"-0.8009\">_$</span> <span style=\"background-color: rgb(255, 239, 239); color: black; padding: 2px;\" title=\"0.3003\">1</span> <span style=\"background-color: rgb(231, 231, 255); color: black; padding: 2px;\" title=\"-0.4562\">,</span> <span style=\"background-color: rgb(255, 59, 59); color: white; padding: 2px;\" title=\"3.8356\">340</span> <span style=\"background-color: rgb(176, 176, 255); color: black; padding: 2px;\" title=\"-1.5407\">.</span> <span style=\"background-color: rgb(255, 53, 53); color: white; padding: 2px;\" title=\"3.9476\">90</span> <span style=\"background-color: rgb(0, 0, 255); color: white; padding: 2px;\" title=\"-5.0000\">_an</span> <span style=\"background-color: rgb(148, 148, 255); color: black; padding: 2px;\" title=\"-2.0844\">_ounce</span> <span style=\"background-color: rgb(163, 163, 255); color: black; padding: 2px;\" title=\"-1.8005\">_by</span> <span style=\"background-color: rgb(130, 130, 255); color: black; padding: 2px;\" title=\"-2.4445\">_14</span> <span style=\"background-color: rgb(134, 134, 255); color: black; padding: 2px;\" title=\"-2.3531\">17</span> <span style=\"background-color: rgb(115, 115, 255); color: black; padding: 2px;\" title=\"-2.7348\">_GMT</span> <span style=\"background-color: rgb(142, 142, 255); color: black; padding: 2px;\" title=\"-2.1969\">,</span> <span style=\"background-color: rgb(134, 134, 255); color: black; padding: 2px;\" title=\"-2.3577\">_having</span> <span style=\"background-color: rgb(122, 122, 255); color: black; padding: 2px;\" title=\"-2.6068\">_earlier</span> <span style=\"background-color: rgb(125, 125, 255); color: black; padding: 2px;\" title=\"-2.5433\">_touched</span> <span style=\"background-color: rgb(158, 158, 255); color: black; padding: 2px;\" title=\"-1.8875\">_$</span> <span style=\"background-color: rgb(155, 155, 255); color: black; padding: 2px;\" title=\"-1.9568\">1</span> <span style=\"background-color: rgb(218, 218, 255); color: black; padding: 2px;\" title=\"-0.7236\">,</span> <span style=\"background-color: rgb(255, 111, 111); color: black; padding: 2px;\" title=\"2.8042\">327</span> <span style=\"background-color: rgb(174, 174, 255); color: black; padding: 2px;\" title=\"-1.5790\">.</span> <span style=\"background-color: rgb(255, 87, 87); color: black; padding: 2px;\" title=\"3.2885\">30</span> <span style=\"background-color: rgb(148, 148, 255); color: black; padding: 2px;\" title=\"-2.0841\">,</span> <span style=\"background-color: rgb(188, 188, 255); color: black; padding: 2px;\" title=\"-1.3088\">_its</span> <span style=\"background-color: rgb(126, 126, 255); color: black; padding: 2px;\" title=\"-2.5279\">_lowest</span> <span style=\"background-color: rgb(146, 146, 255); color: black; padding: 2px;\" title=\"-2.1253\">_since</span> <span style=\"background-color: rgb(144, 144, 255); color: black; padding: 2px;\" title=\"-2.1745\">_July</span> <span style=\"background-color: rgb(124, 124, 255); color: black; padding: 2px;\" title=\"-2.5646\">_1</span> <span style=\"background-color: rgb(147, 147, 255); color: black; padding: 2px;\" title=\"-2.1033\">.</span> <span style=\"background-color: rgb(153, 153, 255); color: black; padding: 2px;\" title=\"-1.9911\">_Bull</span> <span style=\"background-color: rgb(171, 171, 255); color: black; padding: 2px;\" title=\"-1.6394\">ion</span> <span style=\"background-color: rgb(141, 141, 255); color: black; padding: 2px;\" title=\"-2.2343\">_had</span> <span style=\"background-color: rgb(155, 155, 255); color: black; padding: 2px;\" title=\"-1.9600\">_fallen</span> <span style=\"background-color: rgb(169, 169, 255); color: black; padding: 2px;\" title=\"-1.6772\">_by</span> <span style=\"background-color: rgb(137, 137, 255); color: black; padding: 2px;\" title=\"-2.3038\">_1</span> <span style=\"background-color: rgb(187, 187, 255); color: black; padding: 2px;\" title=\"-1.3307\">.</span> <span style=\"background-color: rgb(114, 114, 255); color: black; padding: 2px;\" title=\"-2.7594\">7</span> <span style=\"background-color: rgb(86, 86, 255); color: white; padding: 2px;\" title=\"-3.2962\">_percent</span> <span style=\"background-color: rgb(165, 165, 255); color: black; padding: 2px;\" title=\"-1.7476\">_on</span> <span style=\"background-color: rgb(124, 124, 255); color: black; padding: 2px;\" title=\"-2.5550\">_Tuesday</span> <span style=\"background-color: rgb(135, 135, 255); color: black; padding: 2px;\" title=\"-2.3341\">,</span> <span style=\"background-color: rgb(176, 176, 255); color: black; padding: 2px;\" title=\"-1.5386\">_its</span> <span style=\"background-color: rgb(98, 98, 255); color: white; padding: 2px;\" title=\"-3.0667\">_biggest</span> <span style=\"background-color: rgb(126, 126, 255); color: black; padding: 2px;\" title=\"-2.5210\">_one</span> <span style=\"background-color: rgb(161, 161, 255); color: black; padding: 2px;\" title=\"-1.8251\">-</span> <span style=\"background-color: rgb(130, 130, 255); color: black; padding: 2px;\" title=\"-2.4441\">day</span> <span style=\"background-color: rgb(104, 104, 255); color: white; padding: 2px;\" title=\"-2.9483\">_drop</span> <span style=\"background-color: rgb(139, 139, 255); color: black; padding: 2px;\" title=\"-2.2559\">_since</span> <span style=\"background-color: rgb(151, 151, 255); color: black; padding: 2px;\" title=\"-2.0386\">_May</span> <span style=\"background-color: rgb(136, 136, 255); color: black; padding: 2px;\" title=\"-2.3181\">_24</span> <span style=\"background-color: rgb(146, 146, 255); color: black; padding: 2px;\" title=\"-2.1371\">.</span> <span style=\"background-color: rgb(167, 167, 255); color: black; padding: 2px;\" title=\"-1.7113\">_</span> <span style=\"background-color: rgb(166, 166, 255); color: black; padding: 2px;\" title=\"-1.7281\">_</span> <span style=\"background-color: rgb(156, 156, 255); color: black; padding: 2px;\" title=\"-1.9257\">U</span> <span style=\"background-color: rgb(182, 182, 255); color: black; padding: 2px;\" title=\"-1.4222\">.</span> <span style=\"background-color: rgb(174, 174, 255); color: black; padding: 2px;\" title=\"-1.5854\">S</span> <span style=\"background-color: rgb(177, 177, 255); color: black; padding: 2px;\" title=\"-1.5145\">.</span> <span style=\"background-color: rgb(171, 171, 255); color: black; padding: 2px;\" title=\"-1.6373\">_gold</span> <span style=\"background-color: rgb(153, 153, 255); color: black; padding: 2px;\" title=\"-1.9805\">_rose</span> <span style=\"background-color: rgb(155, 155, 255); color: black; padding: 2px;\" title=\"-1.9435\">_0</span> <span style=\"background-color: rgb(190, 190, 255); color: black; padding: 2px;\" title=\"-1.2550\">.</span> <span style=\"background-color: rgb(133, 133, 255); color: black; padding: 2px;\" title=\"-2.3917\">5</span> <span style=\"background-color: rgb(126, 126, 255); color: black; padding: 2px;\" title=\"-2.5282\">_percent</span> <span style=\"background-color: rgb(220, 220, 255); color: black; padding: 2px;\" title=\"-0.6744\">_to</span> <span style=\"background-color: rgb(216, 216, 255); color: black; padding: 2px;\" title=\"-0.7557\">_$</span> <span style=\"background-color: rgb(255, 253, 253); color: black; padding: 2px;\" title=\"0.0284\">1</span> <span style=\"background-color: rgb(247, 247, 255); color: black; padding: 2px;\" title=\"-0.1448\">,</span> <span style=\"background-color: rgb(255, 114, 114); color: black; padding: 2px;\" title=\"2.7471\">341</span> <span style=\"background-color: rgb(184, 184, 255); color: black; padding: 2px;\" title=\"-1.3827\">.</span> <span style=\"background-color: rgb(255, 103, 103); color: black; padding: 2px;\" title=\"2.9765\">50</span> </div>"
      ],
      "text/plain": [
       "<IPython.core.display.HTML object>"
      ]
     },
     "metadata": {},
     "output_type": "display_data"
    },
    {
     "data": {
      "text/html": [
       "<div><span style=\"background-color: rgb(192, 192, 255); color: black; padding: 2px;\" title=\"-1.2302\"><|endoftext|></span> <span style=\"background-color: rgb(180, 180, 255); color: black; padding: 2px;\" title=\"-1.4604\">PROV</span> <span style=\"background-color: rgb(190, 190, 255); color: black; padding: 2px;\" title=\"-1.2572\">ID</span> <span style=\"background-color: rgb(150, 150, 255); color: black; padding: 2px;\" title=\"-2.0429\">ENCE</span> <span style=\"background-color: rgb(166, 166, 255); color: black; padding: 2px;\" title=\"-1.7416\">,</span> <span style=\"background-color: rgb(138, 138, 255); color: black; padding: 2px;\" title=\"-2.2935\">_R</span> <span style=\"background-color: rgb(165, 165, 255); color: black; padding: 2px;\" title=\"-1.7482\">.</span> <span style=\"background-color: rgb(214, 214, 255); color: black; padding: 2px;\" title=\"-0.7980\">I</span> <span style=\"background-color: rgb(160, 160, 255); color: black; padding: 2px;\" title=\"-1.8445\">.</span> <span style=\"background-color: rgb(185, 185, 255); color: black; padding: 2px;\" title=\"-1.3706\">_—</span> <span style=\"background-color: rgb(167, 167, 255); color: black; padding: 2px;\" title=\"-1.7134\">_Four</span> <span style=\"background-color: rgb(161, 161, 255); color: black; padding: 2px;\" title=\"-1.8366\">_men</span> <span style=\"background-color: rgb(136, 136, 255); color: black; padding: 2px;\" title=\"-2.3212\">_are</span> <span style=\"background-color: rgb(136, 136, 255); color: black; padding: 2px;\" title=\"-2.3199\">_in</span> <span style=\"background-color: rgb(113, 113, 255); color: black; padding: 2px;\" title=\"-2.7741\">_custody</span> <span style=\"background-color: rgb(166, 166, 255); color: black; padding: 2px;\" title=\"-1.7437\">_after</span> <span style=\"background-color: rgb(162, 162, 255); color: black; padding: 2px;\" title=\"-1.8174\">_a</span> <span style=\"background-color: rgb(157, 157, 255); color: black; padding: 2px;\" title=\"-1.9074\">_shooting</span> <span style=\"background-color: rgb(162, 162, 255); color: black; padding: 2px;\" title=\"-1.8119\">_Thursday</span> <span style=\"background-color: rgb(135, 135, 255); color: black; padding: 2px;\" title=\"-2.3350\">_morning</span> <span style=\"background-color: rgb(12, 12, 255); color: white; padding: 2px;\" title=\"-4.7471\">_just</span> <span style=\"background-color: rgb(72, 72, 255); color: white; padding: 2px;\" title=\"-3.5853\">_a</span> <span style=\"background-color: rgb(128, 128, 255); color: black; padding: 2px;\" title=\"-2.4732\">_block</span> <span style=\"background-color: rgb(132, 132, 255); color: black; padding: 2px;\" title=\"-2.3965\">_away</span> <span style=\"background-color: rgb(128, 128, 255); color: black; padding: 2px;\" title=\"-2.4836\">_from</span> <span style=\"background-color: rgb(175, 175, 255); color: black; padding: 2px;\" title=\"-1.5559\">_the</span> <span style=\"background-color: rgb(191, 191, 255); color: black; padding: 2px;\" title=\"-1.2437\">_Gar</span> <span style=\"background-color: rgb(213, 213, 255); color: black; padding: 2px;\" title=\"-0.8057\">rah</span> <span style=\"background-color: rgb(156, 156, 255); color: black; padding: 2px;\" title=\"-1.9389\">y</span> <span style=\"background-color: rgb(164, 164, 255); color: black; padding: 2px;\" title=\"-1.7779\">_Judicial</span> <span style=\"background-color: rgb(116, 116, 255); color: black; padding: 2px;\" title=\"-2.7066\">_Complex</span> <span style=\"background-color: rgb(181, 181, 255); color: black; padding: 2px;\" title=\"-1.4367\">_in</span> <span style=\"background-color: rgb(175, 175, 255); color: black; padding: 2px;\" title=\"-1.5681\">_downtown</span> <span style=\"background-color: rgb(128, 128, 255); color: black; padding: 2px;\" title=\"-2.4820\">_Providence</span> <span style=\"background-color: rgb(177, 177, 255); color: black; padding: 2px;\" title=\"-1.5214\">.</span> <span style=\"background-color: rgb(159, 159, 255); color: black; padding: 2px;\" title=\"-1.8703\">_</span> <span style=\"background-color: rgb(183, 183, 255); color: black; padding: 2px;\" title=\"-1.4016\">_</span> <span style=\"background-color: rgb(146, 146, 255); color: black; padding: 2px;\" title=\"-2.1179\">A</span> <span style=\"background-color: rgb(165, 165, 255); color: black; padding: 2px;\" title=\"-1.7592\">_report</span> <span style=\"background-color: rgb(171, 171, 255); color: black; padding: 2px;\" title=\"-1.6334\">_of</span> <span style=\"background-color: rgb(138, 138, 255); color: black; padding: 2px;\" title=\"-2.2756\">_shots</span> <span style=\"background-color: rgb(164, 164, 255); color: black; padding: 2px;\" title=\"-1.7694\">_fired</span> <span style=\"background-color: rgb(189, 189, 255); color: black; padding: 2px;\" title=\"-1.2925\">_came</span> <span style=\"background-color: rgb(180, 180, 255); color: black; padding: 2px;\" title=\"-1.4638\">_in</span> <span style=\"background-color: rgb(180, 180, 255); color: black; padding: 2px;\" title=\"-1.4680\">_to</span> <span style=\"background-color: rgb(204, 204, 255); color: black; padding: 2px;\" title=\"-0.9920\">_Providence</span> <span style=\"background-color: rgb(135, 135, 255); color: black; padding: 2px;\" title=\"-2.3393\">_police</span> <span style=\"background-color: rgb(163, 163, 255); color: black; padding: 2px;\" title=\"-1.7982\">_at</span> <span style=\"background-color: rgb(0, 0, 255); color: white; padding: 2px;\" title=\"-5.6843\">_10</span> <span style=\"background-color: rgb(198, 198, 255); color: black; padding: 2px;\" title=\"-1.1015\">:</span> <span style=\"background-color: rgb(0, 0, 255); color: white; padding: 2px;\" title=\"-6.8434\">48</span> <span style=\"background-color: rgb(130, 130, 255); color: black; padding: 2px;\" title=\"-2.4350\">_a</span> <span style=\"background-color: rgb(206, 206, 255); color: black; padding: 2px;\" title=\"-0.9542\">.</span> <span style=\"background-color: rgb(159, 159, 255); color: black; padding: 2px;\" title=\"-1.8801\">m</span> <span style=\"background-color: rgb(151, 151, 255); color: black; padding: 2px;\" title=\"-2.0316\">.,</span> <span style=\"background-color: rgb(154, 154, 255); color: black; padding: 2px;\" title=\"-1.9761\">_after</span> <span style=\"background-color: rgb(144, 144, 255); color: black; padding: 2px;\" title=\"-2.1596\">_a</span> <span style=\"background-color: rgb(174, 174, 255); color: black; padding: 2px;\" title=\"-1.5810\">_possibly</span> <span style=\"background-color: rgb(215, 215, 255); color: black; padding: 2px;\" title=\"-0.7678\">_gang</span> <span style=\"background-color: rgb(200, 200, 255); color: black; padding: 2px;\" title=\"-1.0658\">-</span> <span style=\"background-color: rgb(221, 221, 255); color: black; padding: 2px;\" title=\"-0.6567\">related</span> <span style=\"background-color: rgb(158, 158, 255); color: black; padding: 2px;\" title=\"-1.8992\">_dispute</span> <span style=\"background-color: rgb(164, 164, 255); color: black; padding: 2px;\" title=\"-1.7806\">_broke</span> <span style=\"background-color: rgb(113, 113, 255); color: black; padding: 2px;\" title=\"-2.7680\">_out</span> <span style=\"background-color: rgb(156, 156, 255); color: black; padding: 2px;\" title=\"-1.9222\">_inside</span> <span style=\"background-color: rgb(172, 172, 255); color: black; padding: 2px;\" title=\"-1.6170\">_the</span> <span style=\"background-color: rgb(113, 113, 255); color: black; padding: 2px;\" title=\"-2.7806\">_courthouse</span> <span style=\"background-color: rgb(160, 160, 255); color: black; padding: 2px;\" title=\"-1.8582\">_and</span> <span style=\"background-color: rgb(117, 117, 255); color: black; padding: 2px;\" title=\"-2.7015\">_moved</span> <span style=\"background-color: rgb(131, 131, 255); color: black; padding: 2px;\" title=\"-2.4151\">_outside</span> <span style=\"background-color: rgb(173, 173, 255); color: black; padding: 2px;\" title=\"-1.6015\">_after</span> <span style=\"background-color: rgb(192, 192, 255); color: black; padding: 2px;\" title=\"-1.2200\">_deputy</span> <span style=\"background-color: rgb(192, 192, 255); color: black; padding: 2px;\" title=\"-1.2211\">_sher</span> <span style=\"background-color: rgb(172, 172, 255); color: black; padding: 2px;\" title=\"-1.6134\">iffs</span> <span style=\"background-color: rgb(109, 109, 255); color: white; padding: 2px;\" title=\"-2.8457\">_ejected</span> <span style=\"background-color: rgb(197, 197, 255); color: black; padding: 2px;\" title=\"-1.1217\">_the</span> <span style=\"background-color: rgb(112, 112, 255); color: black; padding: 2px;\" title=\"-2.7956\">_participants</span> <span style=\"background-color: rgb(148, 148, 255); color: black; padding: 2px;\" title=\"-2.0839\">,</span> <span style=\"background-color: rgb(195, 195, 255); color: black; padding: 2px;\" title=\"-1.1680\">_Providence</span> <span style=\"background-color: rgb(179, 179, 255); color: black; padding: 2px;\" title=\"-1.4900\">_Police</span> <span style=\"background-color: rgb(201, 201, 255); color: black; padding: 2px;\" title=\"-1.0496\">_Chief</span> <span style=\"background-color: rgb(170, 170, 255); color: black; padding: 2px;\" title=\"-1.6577\">_Hugh</span> <span style=\"background-color: rgb(196, 196, 255); color: black; padding: 2px;\" title=\"-1.1517\">_C</span> <span style=\"background-color: rgb(163, 163, 255); color: black; padding: 2px;\" title=\"-1.7938\">lements</span> <span style=\"background-color: rgb(182, 182, 255); color: black; padding: 2px;\" title=\"-1.4236\">_Jr</span> <span style=\"background-color: rgb(163, 163, 255); color: black; padding: 2px;\" title=\"-1.7913\">.</span> <span style=\"background-color: rgb(155, 155, 255); color: black; padding: 2px;\" title=\"-1.9525\">_said</span> <span style=\"background-color: rgb(193, 193, 255); color: black; padding: 2px;\" title=\"-1.2134\">.</span> <span style=\"background-color: rgb(157, 157, 255); color: black; padding: 2px;\" title=\"-1.9067\">_</span> <span style=\"background-color: rgb(189, 189, 255); color: black; padding: 2px;\" title=\"-1.2880\">_</span> <span style=\"background-color: rgb(168, 168, 255); color: black; padding: 2px;\" title=\"-1.6918\">Detect</span> <span style=\"background-color: rgb(180, 180, 255); color: black; padding: 2px;\" title=\"-1.4684\">ives</span> <span style=\"background-color: rgb(229, 229, 255); color: black; padding: 2px;\" title=\"-0.4916\">_conver</span> <span style=\"background-color: rgb(133, 133, 255); color: black; padding: 2px;\" title=\"-2.3786\">ged</span> <span style=\"background-color: rgb(145, 145, 255); color: black; padding: 2px;\" title=\"-2.1483\">_on</span> <span style=\"background-color: rgb(188, 188, 255); color: black; padding: 2px;\" title=\"-1.3061\">_the</span> <span style=\"background-color: rgb(174, 174, 255); color: black; padding: 2px;\" title=\"-1.5697\">_downtown</span> <span style=\"background-color: rgb(102, 102, 255); color: white; padding: 2px;\" title=\"-2.9935\">_area</span> <span style=\"background-color: rgb(159, 159, 255); color: black; padding: 2px;\" title=\"-1.8802\">_and</span> <span style=\"background-color: rgb(162, 162, 255); color: black; padding: 2px;\" title=\"-1.8099\">_quickly</span> <span style=\"background-color: rgb(112, 112, 255); color: black; padding: 2px;\" title=\"-2.7869\">_took</span> <span style=\"background-color: rgb(159, 159, 255); color: black; padding: 2px;\" title=\"-1.8794\">_four</span> <span style=\"background-color: rgb(181, 181, 255); color: black; padding: 2px;\" title=\"-1.4389\">_young</span> <span style=\"background-color: rgb(149, 149, 255); color: black; padding: 2px;\" title=\"-2.0773\">_males</span> <span style=\"background-color: rgb(184, 184, 255); color: black; padding: 2px;\" title=\"-1.3891\">_into</span> <span style=\"background-color: rgb(116, 116, 255); color: black; padding: 2px;\" title=\"-2.7109\">_custody</span> <span style=\"background-color: rgb(189, 189, 255); color: black; padding: 2px;\" title=\"-1.2903\">.</span> <span style=\"background-color: rgb(211, 211, 255); color: black; padding: 2px;\" title=\"-0.8598\">_The</span> <span style=\"background-color: rgb(161, 161, 255); color: black; padding: 2px;\" title=\"-1.8350\">_suspect</span> <span style=\"background-color: rgb(162, 162, 255); color: black; padding: 2px;\" title=\"-1.8129\">_who</span> <span style=\"background-color: rgb(166, 166, 255); color: black; padding: 2px;\" title=\"-1.7418\">_was</span> <span style=\"background-color: rgb(130, 130, 255); color: black; padding: 2px;\" title=\"-2.4318\">_believed</span> <span style=\"background-color: rgb(104, 104, 255); color: white; padding: 2px;\" title=\"-2.9578\">_to</span> <span style=\"background-color: rgb(145, 145, 255); color: black; padding: 2px;\" title=\"-2.1417\">_have</span> <span style=\"background-color: rgb(75, 75, 255); color: white; padding: 2px;\" title=\"-3.5252\">_fired</span> <span style=\"background-color: rgb(170, 170, 255); color: black; padding: 2px;\" title=\"-1.6492\">_the</span> <span style=\"background-color: rgb(150, 150, 255); color: black; padding: 2px;\" title=\"-2.0572\">_gun</span> <span style=\"background-color: rgb(174, 174, 255); color: black; padding: 2px;\" title=\"-1.5727\">_was</span> <span style=\"background-color: rgb(165, 165, 255); color: black; padding: 2px;\" title=\"-1.7507\">_picked</span> <span style=\"background-color: rgb(86, 86, 255); color: white; padding: 2px;\" title=\"-3.3024\">_up</span> <span style=\"background-color: rgb(139, 139, 255); color: black; padding: 2px;\" title=\"-2.2715\">_behind</span> <span style=\"background-color: rgb(162, 162, 255); color: black; padding: 2px;\" title=\"-1.8087\">_the</span> <span style=\"background-color: rgb(207, 207, 255); color: black; padding: 2px;\" title=\"-0.9309\">_Cor</span> <span style=\"background-color: rgb(157, 157, 255); color: black; padding: 2px;\" title=\"-1.9082\">o</span> <span style=\"background-color: rgb(136, 136, 255); color: black; padding: 2px;\" title=\"-2.3255\">_Center</span> <span style=\"background-color: rgb(154, 154, 255); color: black; padding: 2px;\" title=\"-1.9639\">,</span> <span style=\"background-color: rgb(189, 189, 255); color: black; padding: 2px;\" title=\"-1.2825\">_C</span> <span style=\"background-color: rgb(166, 166, 255); color: black; padding: 2px;\" title=\"-1.7291\">lements</span> <span style=\"background-color: rgb(160, 160, 255); color: black; padding: 2px;\" title=\"-1.8532\">_said</span> <span style=\"background-color: rgb(187, 187, 255); color: black; padding: 2px;\" title=\"-1.3312\">.</span> <span style=\"background-color: rgb(157, 157, 255); color: black; padding: 2px;\" title=\"-1.9032\">_</span> <span style=\"background-color: rgb(179, 179, 255); color: black; padding: 2px;\" title=\"-1.4711\">_</span> <span style=\"background-color: rgb(173, 173, 255); color: black; padding: 2px;\" title=\"-1.5936\">There</span> <span style=\"background-color: rgb(139, 139, 255); color: black; padding: 2px;\" title=\"-2.2556\">_were</span> <span style=\"background-color: rgb(192, 192, 255); color: black; padding: 2px;\" title=\"-1.2188\">_no</span> <span style=\"background-color: rgb(197, 197, 255); color: black; padding: 2px;\" title=\"-1.1278\">_reported</span> <span style=\"background-color: rgb(150, 150, 255); color: black; padding: 2px;\" title=\"-2.0554\">_victims</span> <span style=\"background-color: rgb(164, 164, 255); color: black; padding: 2px;\" title=\"-1.7750\">,</span> <span style=\"background-color: rgb(147, 147, 255); color: black; padding: 2px;\" title=\"-2.1143\">_but</span> <span style=\"background-color: rgb(168, 168, 255); color: black; padding: 2px;\" title=\"-1.6911\">_detectives</span> <span style=\"background-color: rgb(138, 138, 255); color: black; padding: 2px;\" title=\"-2.2875\">_will</span> <span style=\"background-color: rgb(152, 152, 255); color: black; padding: 2px;\" title=\"-2.0107\">_check</span> <span style=\"background-color: rgb(138, 138, 255); color: black; padding: 2px;\" title=\"-2.2776\">_with</span> <span style=\"background-color: rgb(185, 185, 255); color: black; padding: 2px;\" title=\"-1.3571\">_the</span> <span style=\"background-color: rgb(121, 121, 255); color: black; padding: 2px;\" title=\"-2.6122\">_hospitals</span> <span style=\"background-color: rgb(163, 163, 255); color: black; padding: 2px;\" title=\"-1.7885\">,</span> <span style=\"background-color: rgb(187, 187, 255); color: black; padding: 2px;\" title=\"-1.3158\">_C</span> <span style=\"background-color: rgb(169, 169, 255); color: black; padding: 2px;\" title=\"-1.6798\">lements</span> <span style=\"background-color: rgb(156, 156, 255); color: black; padding: 2px;\" title=\"-1.9348\">_said</span> <span style=\"background-color: rgb(190, 190, 255); color: black; padding: 2px;\" title=\"-1.2661\">.</span> <span style=\"background-color: rgb(161, 161, 255); color: black; padding: 2px;\" title=\"-1.8389\">_</span> <span style=\"background-color: rgb(184, 184, 255); color: black; padding: 2px;\" title=\"-1.3870\">_</span> <span style=\"background-color: rgb(182, 182, 255); color: black; padding: 2px;\" title=\"-1.4268\">Detect</span> <span style=\"background-color: rgb(167, 167, 255); color: black; padding: 2px;\" title=\"-1.7240\">ives</span> <span style=\"background-color: rgb(126, 126, 255); color: black; padding: 2px;\" title=\"-2.5155\">_recovered</span> <span style=\"background-color: rgb(133, 133, 255); color: black; padding: 2px;\" title=\"-2.3749\">_a</span> <span style=\"background-color: rgb(138, 138, 255); color: black; padding: 2px;\" title=\"-2.2834\">_handgun</span> <span style=\"background-color: rgb(141, 141, 255); color: black; padding: 2px;\" title=\"-2.2291\">,</span> <span style=\"background-color: rgb(156, 156, 255); color: black; padding: 2px;\" title=\"-1.9296\">_according</span> <span style=\"background-color: rgb(147, 147, 255); color: black; padding: 2px;\" title=\"-2.1062\">_to</span> <span style=\"background-color: rgb(162, 162, 255); color: black; padding: 2px;\" title=\"-1.8099\">_Commander</span> <span style=\"background-color: rgb(196, 196, 255); color: black; padding: 2px;\" title=\"-1.1469\">_Thomas</span> <span style=\"background-color: rgb(255, 249, 249); color: black; padding: 2px;\" title=\"0.1114\">_Ver</span> <span style=\"background-color: rgb(172, 172, 255); color: black; padding: 2px;\" title=\"-1.6085\">di</span> <span style=\"background-color: rgb(186, 186, 255); color: black; padding: 2px;\" title=\"-1.3512\">.</span> <span style=\"background-color: rgb(163, 163, 255); color: black; padding: 2px;\" title=\"-1.8003\">_</span> <span style=\"background-color: rgb(181, 181, 255); color: black; padding: 2px;\" title=\"-1.4453\">_</span> <span style=\"background-color: rgb(201, 201, 255); color: black; padding: 2px;\" title=\"-1.0529\">\"</span> <span style=\"background-color: rgb(158, 158, 255); color: black; padding: 2px;\" title=\"-1.8864\">Everyone</span> <span style=\"background-color: rgb(112, 112, 255); color: black; padding: 2px;\" title=\"-2.7992\">_is</span> <span style=\"background-color: rgb(143, 143, 255); color: black; padding: 2px;\" title=\"-2.1888\">_safe</span> <span style=\"background-color: rgb(156, 156, 255); color: black; padding: 2px;\" title=\"-1.9248\">,\"</span> <span style=\"background-color: rgb(191, 191, 255); color: black; padding: 2px;\" title=\"-1.2454\">_C</span> <span style=\"background-color: rgb(149, 149, 255); color: black; padding: 2px;\" title=\"-2.0604\">lements</span> <span style=\"background-color: rgb(141, 141, 255); color: black; padding: 2px;\" title=\"-2.2177\">_said</span> <span style=\"background-color: rgb(195, 195, 255); color: black; padding: 2px;\" title=\"-1.1606\">.</span> <span style=\"background-color: rgb(211, 211, 255); color: black; padding: 2px;\" title=\"-0.8545\">_The</span> <span style=\"background-color: rgb(179, 179, 255); color: black; padding: 2px;\" title=\"-1.4735\">_suspect</span> <span style=\"background-color: rgb(168, 168, 255); color: black; padding: 2px;\" title=\"-1.6923\">_\"</span> <span style=\"background-color: rgb(208, 208, 255); color: black; padding: 2px;\" title=\"-0.9183\">clear</span> <span style=\"background-color: rgb(135, 135, 255); color: black; padding: 2px;\" title=\"-2.3350\">ly</span> <span style=\"background-color: rgb(157, 157, 255); color: black; padding: 2px;\" title=\"-1.9177\">_had</span> <span style=\"background-color: rgb(0, 0, 255); color: white; padding: 2px;\" title=\"-5.0000\">_an</span> <span style=\"background-color: rgb(186, 186, 255); color: black; padding: 2px;\" title=\"-1.3386\">_intended</span> <span style=\"background-color: rgb(154, 154, 255); color: black; padding: 2px;\" title=\"-1.9710\">_target</span> <span style=\"background-color: rgb(179, 179, 255); color: black; padding: 2px;\" title=\"-1.4872\">.\"</span> <span style=\"background-color: rgb(158, 158, 255); color: black; padding: 2px;\" title=\"-1.8846\">_</span> <span style=\"background-color: rgb(181, 181, 255); color: black; padding: 2px;\" title=\"-1.4463\">_</span> <span style=\"background-color: rgb(231, 231, 255); color: black; padding: 2px;\" title=\"-0.4674\">Law</span> <span style=\"background-color: rgb(180, 180, 255); color: black; padding: 2px;\" title=\"-1.4533\">yer</span> <span style=\"background-color: rgb(186, 186, 255); color: black; padding: 2px;\" title=\"-1.3492\">_Nick</span> <span style=\"background-color: rgb(234, 234, 255); color: black; padding: 2px;\" title=\"-0.4051\">_Ob</span> <span style=\"background-color: rgb(204, 204, 255); color: black; padding: 2px;\" title=\"-0.9966\">ol</span> <span style=\"background-color: rgb(173, 173, 255); color: black; padding: 2px;\" title=\"-1.5967\">ens</span> <span style=\"background-color: rgb(178, 178, 255); color: black; padding: 2px;\" title=\"-1.5002\">ky</span> <span style=\"background-color: rgb(167, 167, 255); color: black; padding: 2px;\" title=\"-1.7103\">_was</span> <span style=\"background-color: rgb(129, 129, 255); color: black; padding: 2px;\" title=\"-2.4675\">_inside</span> <span style=\"background-color: rgb(170, 170, 255); color: black; padding: 2px;\" title=\"-1.6514\">_the</span> <span style=\"background-color: rgb(176, 176, 255); color: black; padding: 2px;\" title=\"-1.5308\">_fourth</span> <span style=\"background-color: rgb(187, 187, 255); color: black; padding: 2px;\" title=\"-1.3164\">-</span> <span style=\"background-color: rgb(174, 174, 255); color: black; padding: 2px;\" title=\"-1.5755\">floor</span> <span style=\"background-color: rgb(133, 133, 255); color: black; padding: 2px;\" title=\"-2.3797\">_court</span> <span style=\"background-color: rgb(125, 125, 255); color: black; padding: 2px;\" title=\"-2.5415\">_hallway</span> <span style=\"background-color: rgb(128, 128, 255); color: black; padding: 2px;\" title=\"-2.4831\">_when</span> <span style=\"background-color: rgb(169, 169, 255); color: black; padding: 2px;\" title=\"-1.6814\">_he</span> <span style=\"background-color: rgb(113, 113, 255); color: black; padding: 2px;\" title=\"-2.7718\">_saw</span> <span style=\"background-color: rgb(168, 168, 255); color: black; padding: 2px;\" title=\"-1.6990\">_several</span> <span style=\"background-color: rgb(166, 166, 255); color: black; padding: 2px;\" title=\"-1.7301\">_young</span> <span style=\"background-color: rgb(146, 146, 255); color: black; padding: 2px;\" title=\"-2.1180\">_men</span> <span style=\"background-color: rgb(156, 156, 255); color: black; padding: 2px;\" title=\"-1.9365\">_get</span> <span style=\"background-color: rgb(159, 159, 255); color: black; padding: 2px;\" title=\"-1.8691\">_into</span> <span style=\"background-color: rgb(148, 148, 255); color: black; padding: 2px;\" title=\"-2.0930\">_a</span> <span style=\"background-color: rgb(127, 127, 255); color: black; padding: 2px;\" title=\"-2.5090\">_fight</span> <span style=\"background-color: rgb(145, 145, 255); color: black; padding: 2px;\" title=\"-2.1443\">_and</span> <span style=\"background-color: rgb(179, 179, 255); color: black; padding: 2px;\" title=\"-1.4902\">_the</span> <span style=\"background-color: rgb(179, 179, 255); color: black; padding: 2px;\" title=\"-1.4719\">_deputy</span> <span style=\"background-color: rgb(178, 178, 255); color: black; padding: 2px;\" title=\"-1.4966\">_sher</span> <span style=\"background-color: rgb(186, 186, 255); color: black; padding: 2px;\" title=\"-1.3456\">iffs</span> <span style=\"background-color: rgb(90, 90, 255); color: white; padding: 2px;\" title=\"-3.2220\">_eject</span> <span style=\"background-color: rgb(85, 85, 255); color: white; padding: 2px;\" title=\"-3.3299\">_them</span> <span style=\"background-color: rgb(167, 167, 255); color: black; padding: 2px;\" title=\"-1.7208\">,</span> <span style=\"background-color: rgb(164, 164, 255); color: black; padding: 2px;\" title=\"-1.7778\">_he</span> <span style=\"background-color: rgb(147, 147, 255); color: black; padding: 2px;\" title=\"-2.1013\">_said</span> <span style=\"background-color: rgb(168, 168, 255); color: black; padding: 2px;\" title=\"-1.6955\">.</span> <span style=\"background-color: rgb(159, 159, 255); color: black; padding: 2px;\" title=\"-1.8737\">_</span> <span style=\"background-color: rgb(193, 193, 255); color: black; padding: 2px;\" title=\"-1.2121\">_</span> <span style=\"background-color: rgb(193, 193, 255); color: black; padding: 2px;\" title=\"-1.2020\">The</span> <span style=\"background-color: rgb(173, 173, 255); color: black; padding: 2px;\" title=\"-1.5910\">_young</span> <span style=\"background-color: rgb(147, 147, 255); color: black; padding: 2px;\" title=\"-2.1020\">_men</span> <span style=\"background-color: rgb(111, 111, 255); color: white; padding: 2px;\" title=\"-2.8162\">_went</span> <span style=\"background-color: rgb(124, 124, 255); color: black; padding: 2px;\" title=\"-2.5535\">_outside</span> <span style=\"background-color: rgb(156, 156, 255); color: black; padding: 2px;\" title=\"-1.9243\">,</span> <span style=\"background-color: rgb(144, 144, 255); color: black; padding: 2px;\" title=\"-2.1569\">_where</span> <span style=\"background-color: rgb(189, 189, 255); color: black; padding: 2px;\" title=\"-1.2863\">_the</span> <span style=\"background-color: rgb(163, 163, 255); color: black; padding: 2px;\" title=\"-1.7998\">_fight</span> <span style=\"background-color: rgb(117, 117, 255); color: black; padding: 2px;\" title=\"-2.7043\">_continued</span> <span style=\"background-color: rgb(149, 149, 255); color: black; padding: 2px;\" title=\"-2.0616\">_and</span> <span style=\"background-color: rgb(255, 241, 241); color: black; padding: 2px;\" title=\"0.2718\">_grav</span> <span style=\"background-color: rgb(111, 111, 255); color: white; padding: 2px;\" title=\"-2.8208\">itated</span> <span style=\"background-color: rgb(133, 133, 255); color: black; padding: 2px;\" title=\"-2.3913\">_on</span> <span style=\"background-color: rgb(135, 135, 255); color: black; padding: 2px;\" title=\"-2.3518\">_to</span> <span style=\"background-color: rgb(143, 143, 255); color: black; padding: 2px;\" title=\"-2.1916\">_Pine</span> <span style=\"background-color: rgb(96, 96, 255); color: white; padding: 2px;\" title=\"-3.1113\">_Street</span> <span style=\"background-color: rgb(173, 173, 255); color: black; padding: 2px;\" title=\"-1.5924\">.</span> <span style=\"background-color: rgb(160, 160, 255); color: black; padding: 2px;\" title=\"-1.8431\">_</span> <span style=\"background-color: rgb(194, 194, 255); color: black; padding: 2px;\" title=\"-1.1897\">_</span> <span style=\"background-color: rgb(198, 198, 255); color: black; padding: 2px;\" title=\"-1.1043\">Gar</span> <span style=\"background-color: rgb(175, 175, 255); color: black; padding: 2px;\" title=\"-1.5671\">rah</span> <span style=\"background-color: rgb(164, 164, 255); color: black; padding: 2px;\" title=\"-1.7750\">y</span> <span style=\"background-color: rgb(150, 150, 255); color: black; padding: 2px;\" title=\"-2.0534\">_courthouse</span> <span style=\"background-color: rgb(130, 130, 255); color: black; padding: 2px;\" title=\"-2.4479\">_was</span> <span style=\"background-color: rgb(148, 148, 255); color: black; padding: 2px;\" title=\"-2.0818\">_placed</span> <span style=\"background-color: rgb(147, 147, 255); color: black; padding: 2px;\" title=\"-2.0998\">_on</span> <span style=\"background-color: rgb(113, 113, 255); color: black; padding: 2px;\" title=\"-2.7703\">_lockdown</span> <span style=\"background-color: rgb(194, 194, 255); color: black; padding: 2px;\" title=\"-1.1856\">_for</span> <span style=\"background-color: rgb(255, 132, 132); color: black; padding: 2px;\" title=\"2.3993\">_about</span> </div>"
      ],
      "text/plain": [
       "<IPython.core.display.HTML object>"
      ]
     },
     "metadata": {},
     "output_type": "display_data"
    },
    {
     "data": {
      "text/html": [
       "<div><span style=\"background-color: rgb(192, 192, 255); color: black; padding: 2px;\" title=\"-1.2302\"><|endoftext|></span> <span style=\"background-color: rgb(190, 190, 255); color: black; padding: 2px;\" title=\"-1.2715\">Turn</span> <span style=\"background-color: rgb(161, 161, 255); color: black; padding: 2px;\" title=\"-1.8328\">_to</span> <span style=\"background-color: rgb(218, 218, 255); color: black; padding: 2px;\" title=\"-0.7229\">_the</span> <span style=\"background-color: rgb(149, 149, 255); color: black; padding: 2px;\" title=\"-2.0592\">_nation</span> <span style=\"background-color: rgb(200, 200, 255); color: black; padding: 2px;\" title=\"-1.0742\">'s</span> <span style=\"background-color: rgb(231, 231, 255); color: black; padding: 2px;\" title=\"-0.4672\">_most</span> <span style=\"background-color: rgb(207, 207, 255); color: black; padding: 2px;\" title=\"-0.9357\">_objective</span> <span style=\"background-color: rgb(255, 217, 217); color: black; padding: 2px;\" title=\"0.7434\">_and</span> <span style=\"background-color: rgb(155, 155, 255); color: black; padding: 2px;\" title=\"-1.9601\">_informative</span> <span style=\"background-color: rgb(224, 224, 255); color: black; padding: 2px;\" title=\"-0.5921\">_daily</span> <span style=\"background-color: rgb(117, 117, 255); color: black; padding: 2px;\" title=\"-2.7052\">_environmental</span> <span style=\"background-color: rgb(146, 146, 255); color: black; padding: 2px;\" title=\"-2.1279\">_news</span> <span style=\"background-color: rgb(83, 83, 255); color: white; padding: 2px;\" title=\"-3.3723\">_resource</span> <span style=\"background-color: rgb(167, 167, 255); color: black; padding: 2px;\" title=\"-1.7196\">_to</span> <span style=\"background-color: rgb(87, 87, 255); color: white; padding: 2px;\" title=\"-3.2814\">_learn</span> <span style=\"background-color: rgb(126, 126, 255); color: black; padding: 2px;\" title=\"-2.5183\">_how</span> <span style=\"background-color: rgb(203, 203, 255); color: black; padding: 2px;\" title=\"-1.0085\">_the</span> <span style=\"background-color: rgb(173, 173, 255); color: black; padding: 2px;\" title=\"-1.6060\">_United</span> <span style=\"background-color: rgb(229, 229, 255); color: black; padding: 2px;\" title=\"-0.5005\">_States</span> <span style=\"background-color: rgb(99, 99, 255); color: white; padding: 2px;\" title=\"-3.0468\">_and</span> <span style=\"background-color: rgb(206, 206, 255); color: black; padding: 2px;\" title=\"-0.9466\">_key</span> <span style=\"background-color: rgb(204, 204, 255); color: black; padding: 2px;\" title=\"-0.9832\">_players</span> <span style=\"background-color: rgb(119, 119, 255); color: black; padding: 2px;\" title=\"-2.6569\">_around</span> <span style=\"background-color: rgb(205, 205, 255); color: black; padding: 2px;\" title=\"-0.9649\">_the</span> <span style=\"background-color: rgb(186, 186, 255); color: black; padding: 2px;\" title=\"-1.3474\">_world</span> <span style=\"background-color: rgb(201, 201, 255); color: black; padding: 2px;\" title=\"-1.0554\">_are</span> <span style=\"background-color: rgb(190, 190, 255); color: black; padding: 2px;\" title=\"-1.2673\">_responding</span> <span style=\"background-color: rgb(134, 134, 255); color: black; padding: 2px;\" title=\"-2.3663\">_to</span> <span style=\"background-color: rgb(255, 146, 146); color: black; padding: 2px;\" title=\"2.1263\">_the</span> <span style=\"background-color: rgb(151, 151, 255); color: black; padding: 2px;\" title=\"-2.0327\">_environmental</span> <span style=\"background-color: rgb(211, 211, 255); color: black; padding: 2px;\" title=\"-0.8540\">...</span> </div>"
      ],
      "text/plain": [
       "<IPython.core.display.HTML object>"
      ]
     },
     "metadata": {},
     "output_type": "display_data"
    },
    {
     "data": {
      "text/html": [
       "<div><span style=\"background-color: rgb(192, 192, 255); color: black; padding: 2px;\" title=\"-1.2302\"><|endoftext|></span> <span style=\"background-color: rgb(147, 147, 255); color: black; padding: 2px;\" title=\"-2.1114\">Breaking</span> <span style=\"background-color: rgb(181, 181, 255); color: black; padding: 2px;\" title=\"-1.4399\">_News</span> <span style=\"background-color: rgb(120, 120, 255); color: black; padding: 2px;\" title=\"-2.6370\">_Emails</span> <span style=\"background-color: rgb(147, 147, 255); color: black; padding: 2px;\" title=\"-2.1100\">_Get</span> <span style=\"background-color: rgb(128, 128, 255); color: black; padding: 2px;\" title=\"-2.4785\">_breaking</span> <span style=\"background-color: rgb(190, 190, 255); color: black; padding: 2px;\" title=\"-1.2663\">_news</span> <span style=\"background-color: rgb(210, 210, 255); color: black; padding: 2px;\" title=\"-0.8682\">_alerts</span> <span style=\"background-color: rgb(238, 238, 255); color: black; padding: 2px;\" title=\"-0.3310\">_and</span> <span style=\"background-color: rgb(198, 198, 255); color: black; padding: 2px;\" title=\"-1.1151\">_special</span> <span style=\"background-color: rgb(169, 169, 255); color: black; padding: 2px;\" title=\"-1.6717\">_reports</span> <span style=\"background-color: rgb(164, 164, 255); color: black; padding: 2px;\" title=\"-1.7648\">.</span> <span style=\"background-color: rgb(172, 172, 255); color: black; padding: 2px;\" title=\"-1.6232\">_The</span> <span style=\"background-color: rgb(137, 137, 255); color: black; padding: 2px;\" title=\"-2.3034\">_news</span> <span style=\"background-color: rgb(168, 168, 255); color: black; padding: 2px;\" title=\"-1.6993\">_and</span> <span style=\"background-color: rgb(123, 123, 255); color: black; padding: 2px;\" title=\"-2.5735\">_stories</span> <span style=\"background-color: rgb(99, 99, 255); color: white; padding: 2px;\" title=\"-3.0459\">_that</span> <span style=\"background-color: rgb(164, 164, 255); color: black; padding: 2px;\" title=\"-1.7751\">_matter</span> <span style=\"background-color: rgb(160, 160, 255); color: black; padding: 2px;\" title=\"-1.8490\">,</span> <span style=\"background-color: rgb(222, 222, 255); color: black; padding: 2px;\" title=\"-0.6427\">_delivered</span> <span style=\"background-color: rgb(193, 193, 255); color: black; padding: 2px;\" title=\"-1.2076\">_weekday</span> <span style=\"background-color: rgb(154, 154, 255); color: black; padding: 2px;\" title=\"-1.9773\">_mornings</span> <span style=\"background-color: rgb(184, 184, 255); color: black; padding: 2px;\" title=\"-1.3831\">.</span> <span style=\"background-color: rgb(163, 163, 255); color: black; padding: 2px;\" title=\"-1.7942\">_</span> <span style=\"background-color: rgb(216, 216, 255); color: black; padding: 2px;\" title=\"-0.7604\">_</span> <span style=\"background-color: rgb(175, 175, 255); color: black; padding: 2px;\" title=\"-1.5581\">June</span> <span style=\"background-color: rgb(172, 172, 255); color: black; padding: 2px;\" title=\"-1.6263\">_21</span> <span style=\"background-color: rgb(181, 181, 255); color: black; padding: 2px;\" title=\"-1.4413\">,</span> <span style=\"background-color: rgb(157, 157, 255); color: black; padding: 2px;\" title=\"-1.9202\">_2017</span> <span style=\"background-color: rgb(145, 145, 255); color: black; padding: 2px;\" title=\"-2.1433\">,</span> <span style=\"background-color: rgb(0, 0, 255); color: white; padding: 2px;\" title=\"-6.1501\">_2</span> <span style=\"background-color: rgb(204, 204, 255); color: black; padding: 2px;\" title=\"-0.9990\">:</span> <span style=\"background-color: rgb(0, 0, 255); color: white; padding: 2px;\" title=\"-5.7207\">48</span> <span style=\"background-color: rgb(125, 125, 255); color: black; padding: 2px;\" title=\"-2.5449\">_PM</span> <span style=\"background-color: rgb(184, 184, 255); color: black; padding: 2px;\" title=\"-1.3867\">_GMT</span> <span style=\"background-color: rgb(169, 169, 255); color: black; padding: 2px;\" title=\"-1.6697\">_/</span> <span style=\"background-color: rgb(176, 176, 255); color: black; padding: 2px;\" title=\"-1.5363\">_Updated</span> <span style=\"background-color: rgb(176, 176, 255); color: black; padding: 2px;\" title=\"-1.5440\">_June</span> <span style=\"background-color: rgb(188, 188, 255); color: black; padding: 2px;\" title=\"-1.2976\">_21</span> <span style=\"background-color: rgb(172, 172, 255); color: black; padding: 2px;\" title=\"-1.6197\">,</span> <span style=\"background-color: rgb(151, 151, 255); color: black; padding: 2px;\" title=\"-2.0267\">_2017</span> <span style=\"background-color: rgb(175, 175, 255); color: black; padding: 2px;\" title=\"-1.5508\">,</span> <span style=\"background-color: rgb(86, 86, 255); color: white; padding: 2px;\" title=\"-3.2967\">_3</span> <span style=\"background-color: rgb(209, 209, 255); color: black; padding: 2px;\" title=\"-0.8979\">:</span> <span style=\"background-color: rgb(99, 99, 255); color: white; padding: 2px;\" title=\"-3.0421\">21</span> <span style=\"background-color: rgb(126, 126, 255); color: black; padding: 2px;\" title=\"-2.5274\">_PM</span> <span style=\"background-color: rgb(179, 179, 255); color: black; padding: 2px;\" title=\"-1.4813\">_GMT</span> <span style=\"background-color: rgb(180, 180, 255); color: black; padding: 2px;\" title=\"-1.4526\">_By</span> <span style=\"background-color: rgb(160, 160, 255); color: black; padding: 2px;\" title=\"-1.8575\">_Alex</span> <span style=\"background-color: rgb(255, 244, 244); color: black; padding: 2px;\" title=\"0.2034\">_Se</span> <span style=\"background-color: rgb(177, 177, 255); color: black; padding: 2px;\" title=\"-1.5197\">itz</span> <span style=\"background-color: rgb(214, 214, 255); color: black; padding: 2px;\" title=\"-0.8013\">-</span> <span style=\"background-color: rgb(255, 245, 245); color: black; padding: 2px;\" title=\"0.1899\">W</span> <span style=\"background-color: rgb(201, 201, 255); color: black; padding: 2px;\" title=\"-1.0399\">ald</span> <span style=\"background-color: rgb(169, 169, 255); color: black; padding: 2px;\" title=\"-1.6792\">_</span> <span style=\"background-color: rgb(213, 213, 255); color: black; padding: 2px;\" title=\"-0.8124\">_</span> <span style=\"background-color: rgb(213, 213, 255); color: black; padding: 2px;\" title=\"-0.8216\">S</span> <span style=\"background-color: rgb(156, 156, 255); color: black; padding: 2px;\" title=\"-1.9228\">AND</span> <span style=\"background-color: rgb(213, 213, 255); color: black; padding: 2px;\" title=\"-0.8193\">Y</span> <span style=\"background-color: rgb(201, 201, 255); color: black; padding: 2px;\" title=\"-1.0548\">_SPR</span> <span style=\"background-color: rgb(134, 134, 255); color: black; padding: 2px;\" title=\"-2.3568\">INGS</span> <span style=\"background-color: rgb(154, 154, 255); color: black; padding: 2px;\" title=\"-1.9634\">,</span> <span style=\"background-color: rgb(156, 156, 255); color: black; padding: 2px;\" title=\"-1.9267\">_Georgia</span> <span style=\"background-color: rgb(182, 182, 255); color: black; padding: 2px;\" title=\"-1.4190\">_—</span> <span style=\"background-color: rgb(150, 150, 255); color: black; padding: 2px;\" title=\"-2.0564\">_Democrats</span> <span style=\"background-color: rgb(140, 140, 255); color: black; padding: 2px;\" title=\"-2.2417\">_are</span> <span style=\"background-color: rgb(144, 144, 255); color: black; padding: 2px;\" title=\"-2.1667\">_tired</span> <span style=\"background-color: rgb(157, 157, 255); color: black; padding: 2px;\" title=\"-1.9195\">_of</span> <span style=\"background-color: rgb(231, 231, 255); color: black; padding: 2px;\" title=\"-0.4679\">_losing</span> <span style=\"background-color: rgb(147, 147, 255); color: black; padding: 2px;\" title=\"-2.1037\">_and</span> <span style=\"background-color: rgb(197, 197, 255); color: black; padding: 2px;\" title=\"-1.1231\">_the</span> <span style=\"background-color: rgb(123, 123, 255); color: black; padding: 2px;\" title=\"-2.5800\">_accusations</span> <span style=\"background-color: rgb(128, 128, 255); color: black; padding: 2px;\" title=\"-2.4727\">_are</span> <span style=\"background-color: rgb(135, 135, 255); color: black; padding: 2px;\" title=\"-2.3347\">_flying</span> <span style=\"background-color: rgb(173, 173, 255); color: black; padding: 2px;\" title=\"-1.6032\">.</span> <span style=\"background-color: rgb(160, 160, 255); color: black; padding: 2px;\" title=\"-1.8578\">_</span> <span style=\"background-color: rgb(182, 182, 255); color: black; padding: 2px;\" title=\"-1.4197\">_</span> <span style=\"background-color: rgb(130, 130, 255); color: black; padding: 2px;\" title=\"-2.4485\">After</span> <span style=\"background-color: rgb(112, 112, 255); color: black; padding: 2px;\" title=\"-2.8021\">_going</span> <span style=\"background-color: rgb(158, 158, 255); color: black; padding: 2px;\" title=\"-1.8957\">_all</span> <span style=\"background-color: rgb(116, 116, 255); color: black; padding: 2px;\" title=\"-2.7065\">_in</span> <span style=\"background-color: rgb(151, 151, 255); color: black; padding: 2px;\" title=\"-2.0225\">_and</span> <span style=\"background-color: rgb(124, 124, 255); color: black; padding: 2px;\" title=\"-2.5515\">_coming</span> <span style=\"background-color: rgb(48, 48, 255); color: white; padding: 2px;\" title=\"-4.0476\">_up</span> <span style=\"background-color: rgb(102, 102, 255); color: white; padding: 2px;\" title=\"-2.9819\">_short</span> <span style=\"background-color: rgb(178, 178, 255); color: black; padding: 2px;\" title=\"-1.4973\">_in</span> <span style=\"background-color: rgb(107, 107, 255); color: white; padding: 2px;\" title=\"-2.8835\">_Georgia</span> <span style=\"background-color: rgb(146, 146, 255); color: black; padding: 2px;\" title=\"-2.1319\">'s</span> <span style=\"background-color: rgb(173, 173, 255); color: black; padding: 2px;\" title=\"-1.6067\">_special</span> <span style=\"background-color: rgb(99, 99, 255); color: white; padding: 2px;\" title=\"-3.0448\">_election</span> <span style=\"background-color: rgb(126, 126, 255); color: black; padding: 2px;\" title=\"-2.5254\">_Tuesday</span> <span style=\"background-color: rgb(131, 131, 255); color: black; padding: 2px;\" title=\"-2.4194\">,</span> <span style=\"background-color: rgb(185, 185, 255); color: black; padding: 2px;\" title=\"-1.3674\">_Democratic</span> <span style=\"background-color: rgb(141, 141, 255); color: black; padding: 2px;\" title=\"-2.2270\">_lawmakers</span> <span style=\"background-color: rgb(155, 155, 255); color: black; padding: 2px;\" title=\"-1.9551\">_and</span> <span style=\"background-color: rgb(187, 187, 255); color: black; padding: 2px;\" title=\"-1.3166\">_political</span> <span style=\"background-color: rgb(152, 152, 255); color: black; padding: 2px;\" title=\"-2.0022\">_operatives</span> <span style=\"background-color: rgb(140, 140, 255); color: black; padding: 2px;\" title=\"-2.2518\">_are</span> <span style=\"background-color: rgb(164, 164, 255); color: black; padding: 2px;\" title=\"-1.7647\">_vent</span> <span style=\"background-color: rgb(151, 151, 255); color: black; padding: 2px;\" title=\"-2.0290\">ing</span> <span style=\"background-color: rgb(205, 205, 255); color: black; padding: 2px;\" title=\"-0.9772\">_their</span> <span style=\"background-color: rgb(123, 123, 255); color: black; padding: 2px;\" title=\"-2.5821\">_frustration</span> <span style=\"background-color: rgb(155, 155, 255); color: black; padding: 2px;\" title=\"-1.9502\">_at</span> <span style=\"background-color: rgb(177, 177, 255); color: black; padding: 2px;\" title=\"-1.5240\">_losing</span> <span style=\"background-color: rgb(180, 180, 255); color: black; padding: 2px;\" title=\"-1.4547\">_every</span> <span style=\"background-color: rgb(157, 157, 255); color: black; padding: 2px;\" title=\"-1.9123\">_competitive</span> <span style=\"background-color: rgb(191, 191, 255); color: black; padding: 2px;\" title=\"-1.2445\">_special</span> <span style=\"background-color: rgb(161, 161, 255); color: black; padding: 2px;\" title=\"-1.8420\">_congressional</span> <span style=\"background-color: rgb(110, 110, 255); color: white; padding: 2px;\" title=\"-2.8279\">_election</span> <span style=\"background-color: rgb(157, 157, 255); color: black; padding: 2px;\" title=\"-1.9192\">_so</span> <span style=\"background-color: rgb(88, 88, 255); color: white; padding: 2px;\" title=\"-3.2700\">_far</span> <span style=\"background-color: rgb(151, 151, 255); color: black; padding: 2px;\" title=\"-2.0390\">_this</span> <span style=\"background-color: rgb(121, 121, 255); color: black; padding: 2px;\" title=\"-2.6265\">_year</span> <span style=\"background-color: rgb(175, 175, 255); color: black; padding: 2px;\" title=\"-1.5592\">.</span> <span style=\"background-color: rgb(163, 163, 255); color: black; padding: 2px;\" title=\"-1.7948\">_</span> <span style=\"background-color: rgb(181, 181, 255); color: black; padding: 2px;\" title=\"-1.4431\">_</span> <span style=\"background-color: rgb(167, 167, 255); color: black; padding: 2px;\" title=\"-1.7176\">Many</span> <span style=\"background-color: rgb(133, 133, 255); color: black; padding: 2px;\" title=\"-2.3905\">_were</span> <span style=\"background-color: rgb(136, 136, 255); color: black; padding: 2px;\" title=\"-2.3300\">_upset</span> <span style=\"background-color: rgb(142, 142, 255); color: black; padding: 2px;\" title=\"-2.2152\">_that</span> <span style=\"background-color: rgb(190, 190, 255); color: black; padding: 2px;\" title=\"-1.2671\">_Democrat</span> <span style=\"background-color: rgb(231, 231, 255); color: black; padding: 2px;\" title=\"-0.4612\">_Jon</span> <span style=\"background-color: rgb(255, 168, 168); color: black; padding: 2px;\" title=\"1.6919\">_Os</span> <span style=\"background-color: rgb(202, 202, 255); color: black; padding: 2px;\" title=\"-1.0269\">so</span> <span style=\"background-color: rgb(157, 157, 255); color: black; padding: 2px;\" title=\"-1.9091\">ff</span> </div>"
      ],
      "text/plain": [
       "<IPython.core.display.HTML object>"
      ]
     },
     "metadata": {},
     "output_type": "display_data"
    },
    {
     "data": {
      "text/html": [
       "<div><span style=\"background-color: rgb(192, 192, 255); color: black; padding: 2px;\" title=\"-1.2302\"><|endoftext|></span> <span style=\"background-color: rgb(187, 187, 255); color: black; padding: 2px;\" title=\"-1.3196\">Image</span> <span style=\"background-color: rgb(185, 185, 255); color: black; padding: 2px;\" title=\"-1.3620\">_copyright</span> <span style=\"background-color: rgb(157, 157, 255); color: black; padding: 2px;\" title=\"-1.9073\">_Reuters</span> <span style=\"background-color: rgb(149, 149, 255); color: black; padding: 2px;\" title=\"-2.0710\">_Image</span> <span style=\"background-color: rgb(180, 180, 255); color: black; padding: 2px;\" title=\"-1.4531\">_caption</span> <span style=\"background-color: rgb(208, 208, 255); color: black; padding: 2px;\" title=\"-0.9030\">_Northern</span> <span style=\"background-color: rgb(187, 187, 255); color: black; padding: 2px;\" title=\"-1.3189\">_Ireland</span> <span style=\"background-color: rgb(136, 136, 255); color: black; padding: 2px;\" title=\"-2.3278\">_has</span> <span style=\"background-color: rgb(159, 159, 255); color: black; padding: 2px;\" title=\"-1.8718\">_effectively</span> <span style=\"background-color: rgb(135, 135, 255); color: black; padding: 2px;\" title=\"-2.3521\">_been</span> <span style=\"background-color: rgb(147, 147, 255); color: black; padding: 2px;\" title=\"-2.1067\">_without</span> <span style=\"background-color: rgb(160, 160, 255); color: black; padding: 2px;\" title=\"-1.8464\">_a</span> <span style=\"background-color: rgb(204, 204, 255); color: black; padding: 2px;\" title=\"-0.9917\">_dev</span> <span style=\"background-color: rgb(212, 212, 255); color: black; padding: 2px;\" title=\"-0.8349\">olved</span> <span style=\"background-color: rgb(87, 87, 255); color: white; padding: 2px;\" title=\"-3.2842\">_government</span> <span style=\"background-color: rgb(61, 61, 255); color: white; padding: 2px;\" title=\"-3.7954\">_for</span> <span style=\"background-color: rgb(0, 0, 255); color: white; padding: 2px;\" title=\"-6.4702\">_almost</span> <span style=\"background-color: rgb(120, 120, 255); color: black; padding: 2px;\" title=\"-2.6285\">_six</span> <span style=\"background-color: rgb(106, 106, 255); color: white; padding: 2px;\" title=\"-2.9046\">_months</span> <span style=\"background-color: rgb(145, 145, 255); color: black; padding: 2px;\" title=\"-2.1546\">_</span> <span style=\"background-color: rgb(202, 202, 255); color: black; padding: 2px;\" title=\"-1.0262\">_</span> <span style=\"background-color: rgb(255, 245, 245); color: black; padding: 2px;\" title=\"0.1846\">S</span> <span style=\"background-color: rgb(193, 193, 255); color: black; padding: 2px;\" title=\"-1.2044\">inn</span> <span style=\"background-color: rgb(168, 168, 255); color: black; padding: 2px;\" title=\"-1.7051\">_F</span> <span style=\"background-color: rgb(255, 176, 176); color: black; padding: 2px;\" title=\"1.5458\">é</span> <span style=\"background-color: rgb(177, 177, 255); color: black; padding: 2px;\" title=\"-1.5176\">in</span> <span style=\"background-color: rgb(157, 157, 255); color: black; padding: 2px;\" title=\"-1.9095\">_has</span> </div>"
      ],
      "text/plain": [
       "<IPython.core.display.HTML object>"
      ]
     },
     "metadata": {},
     "output_type": "display_data"
    },
    {
     "data": {
      "text/html": [
       "<div><span style=\"background-color: rgb(192, 192, 255); color: black; padding: 2px;\" title=\"-1.2302\"><|endoftext|></span> <span style=\"background-color: rgb(193, 193, 255); color: black; padding: 2px;\" title=\"-1.2132\">M</span> <span style=\"background-color: rgb(196, 196, 255); color: black; padding: 2px;\" title=\"-1.1432\">ueller</span> <span style=\"background-color: rgb(142, 142, 255); color: black; padding: 2px;\" title=\"-2.2053\">_Turns</span> <span style=\"background-color: rgb(135, 135, 255); color: black; padding: 2px;\" title=\"-2.3351\">_Up</span> <span style=\"background-color: rgb(140, 140, 255); color: black; padding: 2px;\" title=\"-2.2433\">_The</span> <span style=\"background-color: rgb(146, 146, 255); color: black; padding: 2px;\" title=\"-2.1232\">_Heat</span> <span style=\"background-color: rgb(166, 166, 255); color: black; padding: 2px;\" title=\"-1.7310\">_With</span> <span style=\"background-color: rgb(203, 203, 255); color: black; padding: 2px;\" title=\"-1.0025\">_Un</span> <span style=\"background-color: rgb(190, 190, 255); color: black; padding: 2px;\" title=\"-1.2724\">usual</span> <span style=\"background-color: rgb(143, 143, 255); color: black; padding: 2px;\" title=\"-2.1786\">_Search</span> <span style=\"background-color: rgb(153, 153, 255); color: black; padding: 2px;\" title=\"-1.9944\">_Warrant</span> <span style=\"background-color: rgb(187, 187, 255); color: black; padding: 2px;\" title=\"-1.3322\">_In</span> <span style=\"background-color: rgb(205, 205, 255); color: black; padding: 2px;\" title=\"-0.9625\">_Russia</span> <span style=\"background-color: rgb(143, 143, 255); color: black; padding: 2px;\" title=\"-2.1817\">_Probe</span> <span style=\"background-color: rgb(173, 173, 255); color: black; padding: 2px;\" title=\"-1.5945\">_</span> <span style=\"background-color: rgb(200, 200, 255); color: black; padding: 2px;\" title=\"-1.0672\">_</span> <span style=\"background-color: rgb(108, 108, 255); color: white; padding: 2px;\" title=\"-2.8678\">Enlarge</span> <span style=\"background-color: rgb(149, 149, 255); color: black; padding: 2px;\" title=\"-2.0596\">_this</span> <span style=\"background-color: rgb(166, 166, 255); color: black; padding: 2px;\" title=\"-1.7430\">_image</span> <span style=\"background-color: rgb(137, 137, 255); color: black; padding: 2px;\" title=\"-2.2987\">_toggle</span> <span style=\"background-color: rgb(187, 187, 255); color: black; padding: 2px;\" title=\"-1.3261\">_caption</span> <span style=\"background-color: rgb(148, 148, 255); color: black; padding: 2px;\" title=\"-2.0879\">_Alex</span> <span style=\"background-color: rgb(216, 216, 255); color: black; padding: 2px;\" title=\"-0.7593\">_Wong</span> <span style=\"background-color: rgb(255, 183, 183); color: black; padding: 2px;\" title=\"1.4070\">/</span> <span style=\"background-color: rgb(229, 229, 255); color: black; padding: 2px;\" title=\"-0.4957\">Getty</span> <span style=\"background-color: rgb(201, 201, 255); color: black; padding: 2px;\" title=\"-1.0471\">_Images</span> </div>"
      ],
      "text/plain": [
       "<IPython.core.display.HTML object>"
      ]
     },
     "metadata": {},
     "output_type": "display_data"
    },
    {
     "data": {
      "text/html": [
       "<div><span style=\"background-color: rgb(192, 192, 255); color: black; padding: 2px;\" title=\"-1.2302\"><|endoftext|></span> <span style=\"background-color: rgb(224, 224, 255); color: black; padding: 2px;\" title=\"-0.5957\">The</span> <span style=\"background-color: rgb(208, 208, 255); color: black; padding: 2px;\" title=\"-0.9064\">_wide</span> <span style=\"background-color: rgb(171, 171, 255); color: black; padding: 2px;\" title=\"-1.6328\">_scar</span> <span style=\"background-color: rgb(155, 155, 255); color: black; padding: 2px;\" title=\"-1.9583\">_that</span> <span style=\"background-color: rgb(138, 138, 255); color: black; padding: 2px;\" title=\"-2.2901\">_runs</span> <span style=\"background-color: rgb(188, 188, 255); color: black; padding: 2px;\" title=\"-1.3005\">_the</span> <span style=\"background-color: rgb(139, 139, 255); color: black; padding: 2px;\" title=\"-2.2742\">_length</span> <span style=\"background-color: rgb(157, 157, 255); color: black; padding: 2px;\" title=\"-1.9175\">_of</span> <span style=\"background-color: rgb(191, 191, 255); color: black; padding: 2px;\" title=\"-1.2487\">_Viv</span> <span style=\"background-color: rgb(163, 163, 255); color: black; padding: 2px;\" title=\"-1.7932\">i</span> <span style=\"background-color: rgb(175, 175, 255); color: black; padding: 2px;\" title=\"-1.5492\">_Lo</span> <span style=\"background-color: rgb(249, 249, 255); color: black; padding: 2px;\" title=\"-0.1056\">z</span> <span style=\"background-color: rgb(152, 152, 255); color: black; padding: 2px;\" title=\"-2.0028\">oya</span> <span style=\"background-color: rgb(194, 194, 255); color: black; padding: 2px;\" title=\"-1.1881\">�</span> <span style=\"background-color: rgb(189, 189, 255); color: black; padding: 2px;\" title=\"-1.2770\">�</span> <span style=\"background-color: rgb(181, 181, 255); color: black; padding: 2px;\" title=\"-1.4448\">s</span> <span style=\"background-color: rgb(125, 125, 255); color: black; padding: 2px;\" title=\"-2.5334\">_abdomen</span> <span style=\"background-color: rgb(146, 146, 255); color: black; padding: 2px;\" title=\"-2.1226\">_is</span> <span style=\"background-color: rgb(157, 157, 255); color: black; padding: 2px;\" title=\"-1.9042\">_a</span> <span style=\"background-color: rgb(200, 200, 255); color: black; padding: 2px;\" title=\"-1.0761\">_daily</span> <span style=\"background-color: rgb(150, 150, 255); color: black; padding: 2px;\" title=\"-2.0553\">_reminder</span> <span style=\"background-color: rgb(176, 176, 255); color: black; padding: 2px;\" title=\"-1.5350\">_of</span> <span style=\"background-color: rgb(221, 221, 255); color: black; padding: 2px;\" title=\"-0.6499\">_the</span> <span style=\"background-color: rgb(237, 237, 255); color: black; padding: 2px;\" title=\"-0.3405\">_brutal</span> <span style=\"background-color: rgb(128, 128, 255); color: black; padding: 2px;\" title=\"-2.4840\">_attack</span> <span style=\"background-color: rgb(143, 143, 255); color: black; padding: 2px;\" title=\"-2.1916\">_that</span> <span style=\"background-color: rgb(96, 96, 255); color: white; padding: 2px;\" title=\"-3.1076\">_almost</span> <span style=\"background-color: rgb(151, 151, 255); color: black; padding: 2px;\" title=\"-2.0318\">_took</span> <span style=\"background-color: rgb(140, 140, 255); color: black; padding: 2px;\" title=\"-2.2466\">_her</span> <span style=\"background-color: rgb(72, 72, 255); color: white; padding: 2px;\" title=\"-3.5781\">_life</span> <span style=\"background-color: rgb(165, 165, 255); color: black; padding: 2px;\" title=\"-1.7525\">.</span> <span style=\"background-color: rgb(160, 160, 255); color: black; padding: 2px;\" title=\"-1.8572\">_</span> <span style=\"background-color: rgb(174, 174, 255); color: black; padding: 2px;\" title=\"-1.5749\">_</span> <span style=\"background-color: rgb(149, 149, 255); color: black; padding: 2px;\" title=\"-2.0682\">She</span> <span style=\"background-color: rgb(155, 155, 255); color: black; padding: 2px;\" title=\"-1.9544\">_constantly</span> <span style=\"background-color: rgb(239, 239, 255); color: black; padding: 2px;\" title=\"-0.3051\">_repl</span> <span style=\"background-color: rgb(161, 161, 255); color: black; padding: 2px;\" title=\"-1.8238\">ays</span> <span style=\"background-color: rgb(224, 224, 255); color: black; padding: 2px;\" title=\"-0.5909\">_the</span> <span style=\"background-color: rgb(115, 115, 255); color: black; padding: 2px;\" title=\"-2.7334\">_incident</span> <span style=\"background-color: rgb(152, 152, 255); color: black; padding: 2px;\" title=\"-2.0150\">_in</span> <span style=\"background-color: rgb(186, 186, 255); color: black; padding: 2px;\" title=\"-1.3511\">_her</span> <span style=\"background-color: rgb(106, 106, 255); color: white; padding: 2px;\" title=\"-2.9024\">_mind</span> <span style=\"background-color: rgb(174, 174, 255); color: black; padding: 2px;\" title=\"-1.5788\">.</span> <span style=\"background-color: rgb(159, 159, 255); color: black; padding: 2px;\" title=\"-1.8803\">_</span> <span style=\"background-color: rgb(177, 177, 255); color: black; padding: 2px;\" title=\"-1.5141\">_</span> <span style=\"background-color: rgb(149, 149, 255); color: black; padding: 2px;\" title=\"-2.0772\">It</span> <span style=\"background-color: rgb(141, 141, 255); color: black; padding: 2px;\" title=\"-2.2169\">_was</span> <span style=\"background-color: rgb(167, 167, 255); color: black; padding: 2px;\" title=\"-1.7074\">_May</span> <span style=\"background-color: rgb(134, 134, 255); color: black; padding: 2px;\" title=\"-2.3681\">_2011</span> <span style=\"background-color: rgb(120, 120, 255); color: black; padding: 2px;\" title=\"-2.6377\">,</span> <span style=\"background-color: rgb(143, 143, 255); color: black; padding: 2px;\" title=\"-2.1840\">_and</span> <span style=\"background-color: rgb(139, 139, 255); color: black; padding: 2px;\" title=\"-2.2597\">_Lo</span> <span style=\"background-color: rgb(177, 177, 255); color: black; padding: 2px;\" title=\"-1.5187\">z</span> <span style=\"background-color: rgb(167, 167, 255); color: black; padding: 2px;\" title=\"-1.7153\">oya</span> <span style=\"background-color: rgb(146, 146, 255); color: black; padding: 2px;\" title=\"-2.1208\">,</span> <span style=\"background-color: rgb(164, 164, 255); color: black; padding: 2px;\" title=\"-1.7672\">_a</span> <span style=\"background-color: rgb(166, 166, 255); color: black; padding: 2px;\" title=\"-1.7441\">_transgender</span> <span style=\"background-color: rgb(142, 142, 255); color: black; padding: 2px;\" title=\"-2.1968\">_prostitute</span> <span style=\"background-color: rgb(179, 179, 255); color: black; padding: 2px;\" title=\"-1.4829\">,</span> <span style=\"background-color: rgb(179, 179, 255); color: black; padding: 2px;\" title=\"-1.4829\">_had</span> <span style=\"background-color: rgb(169, 169, 255); color: black; padding: 2px;\" title=\"-1.6828\">_recently</span> <span style=\"background-color: rgb(165, 165, 255); color: black; padding: 2px;\" title=\"-1.7572\">_run</span> <span style=\"background-color: rgb(132, 132, 255); color: black; padding: 2px;\" title=\"-2.3951\">_away</span> <span style=\"background-color: rgb(171, 171, 255); color: black; padding: 2px;\" title=\"-1.6301\">_from</span> <span style=\"background-color: rgb(197, 197, 255); color: black; padding: 2px;\" title=\"-1.1295\">_the</span> <span style=\"background-color: rgb(222, 222, 255); color: black; padding: 2px;\" title=\"-0.6327\">_p</span> <span style=\"background-color: rgb(138, 138, 255); color: black; padding: 2px;\" title=\"-2.2886\">imp</span> <span style=\"background-color: rgb(178, 178, 255); color: black; padding: 2px;\" title=\"-1.5040\">_she</span> <span style=\"background-color: rgb(164, 164, 255); color: black; padding: 2px;\" title=\"-1.7822\">_says</span> <span style=\"background-color: rgb(177, 177, 255); color: black; padding: 2px;\" title=\"-1.5183\">_had</span> <span style=\"background-color: rgb(149, 149, 255); color: black; padding: 2px;\" title=\"-2.0600\">_abused</span> <span style=\"background-color: rgb(103, 103, 255); color: white; padding: 2px;\" title=\"-2.9712\">_her</span> <span style=\"background-color: rgb(157, 157, 255); color: black; padding: 2px;\" title=\"-1.9204\">_and</span> <span style=\"background-color: rgb(89, 89, 255); color: white; padding: 2px;\" title=\"-3.2360\">_held</span> <span style=\"background-color: rgb(133, 133, 255); color: black; padding: 2px;\" title=\"-2.3808\">_her</span> <span style=\"background-color: rgb(100, 100, 255); color: white; padding: 2px;\" title=\"-3.0385\">_captive</span> <span style=\"background-color: rgb(95, 95, 255); color: white; padding: 2px;\" title=\"-3.1236\">_for</span> <span style=\"background-color: rgb(147, 147, 255); color: black; padding: 2px;\" title=\"-2.1030\">_two</span> <span style=\"background-color: rgb(129, 129, 255); color: black; padding: 2px;\" title=\"-2.4551\">_years</span> <span style=\"background-color: rgb(174, 174, 255); color: black; padding: 2px;\" title=\"-1.5831\">.</span> <span style=\"background-color: rgb(156, 156, 255); color: black; padding: 2px;\" title=\"-1.9366\">_</span> <span style=\"background-color: rgb(186, 186, 255); color: black; padding: 2px;\" title=\"-1.3390\">_</span> <span style=\"background-color: rgb(202, 202, 255); color: black; padding: 2px;\" title=\"-1.0339\">One</span> <span style=\"background-color: rgb(128, 128, 255); color: black; padding: 2px;\" title=\"-2.4751\">_day</span> <span style=\"background-color: rgb(147, 147, 255); color: black; padding: 2px;\" title=\"-2.1145\">_while</span> <span style=\"background-color: rgb(189, 189, 255); color: black; padding: 2px;\" title=\"-1.2839\">_she</span> <span style=\"background-color: rgb(146, 146, 255); color: black; padding: 2px;\" title=\"-2.1303\">_was</span> <span style=\"background-color: rgb(121, 121, 255); color: black; padding: 2px;\" title=\"-2.6178\">_out</span> <span style=\"background-color: rgb(71, 71, 255); color: white; padding: 2px;\" title=\"-3.5945\">_with</span> <span style=\"background-color: rgb(122, 122, 255); color: black; padding: 2px;\" title=\"-2.5892\">_friends</span> <span style=\"background-color: rgb(147, 147, 255); color: black; padding: 2px;\" title=\"-2.1101\">,</span> <span style=\"background-color: rgb(153, 153, 255); color: black; padding: 2px;\" title=\"-1.9909\">_Lo</span> <span style=\"background-color: rgb(171, 171, 255); color: black; padding: 2px;\" title=\"-1.6320\">z</span> <span style=\"background-color: rgb(205, 205, 255); color: black; padding: 2px;\" title=\"-0.9781\">oya</span> <span style=\"background-color: rgb(143, 143, 255); color: black; padding: 2px;\" title=\"-2.1785\">_says</span> <span style=\"background-color: rgb(137, 137, 255); color: black; padding: 2px;\" title=\"-2.2990\">_a</span> <span style=\"background-color: rgb(172, 172, 255); color: black; padding: 2px;\" title=\"-1.6177\">_man</span> <span style=\"background-color: rgb(142, 142, 255); color: black; padding: 2px;\" title=\"-2.2123\">_working</span> <span style=\"background-color: rgb(149, 149, 255); color: black; padding: 2px;\" title=\"-2.0604\">_for</span> <span style=\"background-color: rgb(176, 176, 255); color: black; padding: 2px;\" title=\"-1.5485\">_her</span> <span style=\"background-color: rgb(203, 203, 255); color: black; padding: 2px;\" title=\"-1.0117\">_p</span> <span style=\"background-color: rgb(171, 171, 255); color: black; padding: 2px;\" title=\"-1.6447\">imp</span> <span style=\"background-color: rgb(142, 142, 255); color: black; padding: 2px;\" title=\"-2.2149\">_and</span> <span style=\"background-color: rgb(177, 177, 255); color: black; padding: 2px;\" title=\"-1.5181\">_his</span> <span style=\"background-color: rgb(176, 176, 255); color: black; padding: 2px;\" title=\"-1.5478\">_associates</span> <span style=\"background-color: rgb(146, 146, 255); color: black; padding: 2px;\" title=\"-2.1194\">_came</span> <span style=\"background-color: rgb(150, 150, 255); color: black; padding: 2px;\" title=\"-2.0399\">_up</span> <span style=\"background-color: rgb(157, 157, 255); color: black; padding: 2px;\" title=\"-1.9152\">_to</span> <span style=\"background-color: rgb(170, 170, 255); color: black; padding: 2px;\" title=\"-1.6472\">_her</span> <span style=\"background-color: rgb(120, 120, 255); color: black; padding: 2px;\" title=\"-2.6302\">_on</span> <span style=\"background-color: rgb(159, 159, 255); color: black; padding: 2px;\" title=\"-1.8740\">_the</span> <span style=\"background-color: rgb(145, 145, 255); color: black; padding: 2px;\" title=\"-2.1456\">_street</span> <span style=\"background-color: rgb(185, 185, 255); color: black; padding: 2px;\" title=\"-1.3600\">,</span> <span style=\"background-color: rgb(133, 133, 255); color: black; padding: 2px;\" title=\"-2.3765\">_tapped</span> <span style=\"background-color: rgb(138, 138, 255); color: black; padding: 2px;\" title=\"-2.2915\">_her</span> <span style=\"background-color: rgb(173, 173, 255); color: black; padding: 2px;\" title=\"-1.6047\">_on</span> <span style=\"background-color: rgb(188, 188, 255); color: black; padding: 2px;\" title=\"-1.3060\">_the</span> <span style=\"background-color: rgb(118, 118, 255); color: black; padding: 2px;\" title=\"-2.6692\">_shoulder</span> <span style=\"background-color: rgb(172, 172, 255); color: black; padding: 2px;\" title=\"-1.6194\">,</span> <span style=\"background-color: rgb(165, 165, 255); color: black; padding: 2px;\" title=\"-1.7634\">_and</span> <span style=\"background-color: rgb(119, 119, 255); color: black; padding: 2px;\" title=\"-2.6576\">_stabbed</span> <span style=\"background-color: rgb(140, 140, 255); color: black; padding: 2px;\" title=\"-2.2548\">_her</span> <span style=\"background-color: rgb(242, 242, 255); color: black; padding: 2px;\" title=\"-0.2477\">_in</span> <span style=\"background-color: rgb(225, 225, 255); color: black; padding: 2px;\" title=\"-0.5768\">_the</span> <span style=\"background-color: rgb(117, 117, 255); color: black; padding: 2px;\" title=\"-2.7038\">_stomach</span> <span style=\"background-color: rgb(182, 182, 255); color: black; padding: 2px;\" title=\"-1.4239\">_-</span> <span style=\"background-color: rgb(143, 143, 255); color: black; padding: 2px;\" title=\"-2.1953\">_she</span> <span style=\"background-color: rgb(187, 187, 255); color: black; padding: 2px;\" title=\"-1.3206\">_can</span> <span style=\"background-color: rgb(152, 152, 255); color: black; padding: 2px;\" title=\"-2.0171\">'t</span> <span style=\"background-color: rgb(111, 111, 255); color: white; padding: 2px;\" title=\"-2.8162\">_remember</span> <span style=\"background-color: rgb(155, 155, 255); color: black; padding: 2px;\" title=\"-1.9451\">_if</span> <span style=\"background-color: rgb(134, 134, 255); color: black; padding: 2px;\" title=\"-2.3608\">_it</span> <span style=\"background-color: rgb(157, 157, 255); color: black; padding: 2px;\" title=\"-1.9179\">_was</span> <span style=\"background-color: rgb(133, 133, 255); color: black; padding: 2px;\" title=\"-2.3758\">_three</span> <span style=\"background-color: rgb(121, 121, 255); color: black; padding: 2px;\" title=\"-2.6196\">_or</span> <span style=\"background-color: rgb(126, 126, 255); color: black; padding: 2px;\" title=\"-2.5261\">_four</span> <span style=\"background-color: rgb(116, 116, 255); color: black; padding: 2px;\" title=\"-2.7243\">_times</span> <span style=\"background-color: rgb(161, 161, 255); color: black; padding: 2px;\" title=\"-1.8253\">.</span> <span style=\"background-color: rgb(140, 140, 255); color: black; padding: 2px;\" title=\"-2.2460\">_She</span> <span style=\"background-color: rgb(113, 113, 255); color: black; padding: 2px;\" title=\"-2.7672\">_does</span> <span style=\"background-color: rgb(126, 126, 255); color: black; padding: 2px;\" title=\"-2.5122\">_remember</span> <span style=\"background-color: rgb(162, 162, 255); color: black; padding: 2px;\" title=\"-1.8213\">_what</span> <span style=\"background-color: rgb(238, 238, 255); color: black; padding: 2px;\" title=\"-0.3303\">_the</span> <span style=\"background-color: rgb(160, 160, 255); color: black; padding: 2px;\" title=\"-1.8614\">_man</span> <span style=\"background-color: rgb(99, 99, 255); color: white; padding: 2px;\" title=\"-3.0456\">_said</span> <span style=\"background-color: rgb(180, 180, 255); color: black; padding: 2px;\" title=\"-1.4585\">_before</span> <span style=\"background-color: rgb(64, 64, 255); color: white; padding: 2px;\" title=\"-3.7281\">_sticking</span> <span style=\"background-color: rgb(142, 142, 255); color: black; padding: 2px;\" title=\"-2.1981\">_the</span> <span style=\"background-color: rgb(113, 113, 255); color: black; padding: 2px;\" title=\"-2.7757\">_knife</span> <span style=\"background-color: rgb(132, 132, 255); color: black; padding: 2px;\" title=\"-2.3983\">_in</span> <span style=\"background-color: rgb(140, 140, 255); color: black; padding: 2px;\" title=\"-2.2497\">:</span> <span style=\"background-color: rgb(162, 162, 255); color: black; padding: 2px;\" title=\"-1.8045\">_\"</span> <span style=\"background-color: rgb(147, 147, 255); color: black; padding: 2px;\" title=\"-2.1018\">They</span> <span style=\"background-color: rgb(97, 97, 255); color: white; padding: 2px;\" title=\"-3.0838\">_sent</span> <span style=\"background-color: rgb(107, 107, 255); color: white; padding: 2px;\" title=\"-2.9006\">_me</span> <span style=\"background-color: rgb(133, 133, 255); color: black; padding: 2px;\" title=\"-2.3738\">_to</span> <span style=\"background-color: rgb(99, 99, 255); color: white; padding: 2px;\" title=\"-3.0505\">_wish</span> <span style=\"background-color: rgb(3, 3, 255); color: white; padding: 2px;\" title=\"-4.9227\">_you</span> <span style=\"background-color: rgb(134, 134, 255); color: black; padding: 2px;\" title=\"-2.3635\">_sweet</span> <span style=\"background-color: rgb(87, 87, 255); color: white; padding: 2px;\" title=\"-3.2806\">_dreams</span> <span style=\"background-color: rgb(148, 148, 255); color: black; padding: 2px;\" title=\"-2.0865\">.\"</span> <span style=\"background-color: rgb(156, 156, 255); color: black; padding: 2px;\" title=\"-1.9299\">_</span> <span style=\"background-color: rgb(179, 179, 255); color: black; padding: 2px;\" title=\"-1.4747\">_</span> <span style=\"background-color: rgb(233, 233, 255); color: black; padding: 2px;\" title=\"-0.4285\">The</span> <span style=\"background-color: rgb(135, 135, 255); color: black; padding: 2px;\" title=\"-2.3511\">_recovery</span> <span style=\"background-color: rgb(143, 143, 255); color: black; padding: 2px;\" title=\"-2.1909\">_was</span> <span style=\"background-color: rgb(238, 238, 255); color: black; padding: 2px;\" title=\"-0.3211\">_gru</span> <span style=\"background-color: rgb(170, 170, 255); color: black; padding: 2px;\" title=\"-1.6596\">eling</span> <span style=\"background-color: rgb(169, 169, 255); color: black; padding: 2px;\" title=\"-1.6759\">.</span> <span style=\"background-color: rgb(158, 158, 255); color: black; padding: 2px;\" title=\"-1.8834\">_To</span> <span style=\"background-color: rgb(178, 178, 255); color: black; padding: 2px;\" title=\"-1.4927\">_this</span> <span style=\"background-color: rgb(128, 128, 255); color: black; padding: 2px;\" title=\"-2.4737\">_day</span> <span style=\"background-color: rgb(138, 138, 255); color: black; padding: 2px;\" title=\"-2.2906\">,</span> <span style=\"background-color: rgb(158, 158, 255); color: black; padding: 2px;\" title=\"-1.8915\">_Lo</span> <span style=\"background-color: rgb(168, 168, 255); color: black; padding: 2px;\" title=\"-1.7017\">z</span> <span style=\"background-color: rgb(142, 142, 255); color: black; padding: 2px;\" title=\"-2.2087\">oya</span> <span style=\"background-color: rgb(137, 137, 255); color: black; padding: 2px;\" title=\"-2.3000\">_says</span> <span style=\"background-color: rgb(132, 132, 255); color: black; padding: 2px;\" title=\"-2.4105\">,</span> <span style=\"background-color: rgb(115, 115, 255); color: black; padding: 2px;\" title=\"-2.7261\">_when</span> <span style=\"background-color: rgb(141, 141, 255); color: black; padding: 2px;\" title=\"-2.2307\">_she</span> <span style=\"background-color: rgb(105, 105, 255); color: white; padding: 2px;\" title=\"-2.9242\">_drinks</span> <span style=\"background-color: rgb(142, 142, 255); color: black; padding: 2px;\" title=\"-2.2074\">_water</span> <span style=\"background-color: rgb(131, 131, 255); color: black; padding: 2px;\" title=\"-2.4165\">,</span> <span style=\"background-color: rgb(127, 127, 255); color: black; padding: 2px;\" title=\"-2.5096\">_it</span> <span style=\"background-color: rgb(124, 124, 255); color: black; padding: 2px;\" title=\"-2.5530\">_sometimes</span> <span style=\"background-color: rgb(92, 92, 255); color: white; padding: 2px;\" title=\"-3.1848\">_feels</span> <span style=\"background-color: rgb(132, 132, 255); color: black; padding: 2px;\" title=\"-2.4114\">_as</span> <span style=\"background-color: rgb(108, 108, 255); color: white; padding: 2px;\" title=\"-2.8657\">_if</span> <span style=\"background-color: rgb(126, 126, 255); color: black; padding: 2px;\" title=\"-2.5105\">_it</span> <span style=\"background-color: rgb(161, 161, 255); color: black; padding: 2px;\" title=\"-1.8353\">�</span> <span style=\"background-color: rgb(185, 185, 255); color: black; padding: 2px;\" title=\"-1.3561\">�</span> <span style=\"background-color: rgb(138, 138, 255); color: black; padding: 2px;\" title=\"-2.2913\">s</span> <span style=\"background-color: rgb(206, 206, 255); color: black; padding: 2px;\" title=\"-0.9555\">_se</span> <span style=\"background-color: rgb(125, 125, 255); color: black; padding: 2px;\" title=\"-2.5368\">eping</span> <span style=\"background-color: rgb(129, 129, 255); color: black; padding: 2px;\" title=\"-2.4647\">_out</span> <span style=\"background-color: rgb(139, 139, 255); color: black; padding: 2px;\" title=\"-2.2741\">_of</span> <span style=\"background-color: rgb(163, 163, 255); color: black; padding: 2px;\" title=\"-1.7976\">_her</span> <span style=\"background-color: rgb(159, 159, 255); color: black; padding: 2px;\" title=\"-1.8803\">_digestive</span> <span style=\"background-color: rgb(135, 135, 255); color: black; padding: 2px;\" title=\"-2.3432\">_tract</span> <span style=\"background-color: rgb(172, 172, 255); color: black; padding: 2px;\" title=\"-1.6233\">.</span> <span style=\"background-color: rgb(163, 163, 255); color: black; padding: 2px;\" title=\"-1.8038\">_</span> <span style=\"background-color: rgb(182, 182, 255); color: black; padding: 2px;\" title=\"-1.4152\">_</span> <span style=\"background-color: rgb(157, 157, 255); color: black; padding: 2px;\" title=\"-1.9123\">\"</span> <span style=\"background-color: rgb(96, 96, 255); color: white; padding: 2px;\" title=\"-3.1171\">And</span> <span style=\"background-color: rgb(144, 144, 255); color: black; padding: 2px;\" title=\"-2.1588\">_I</span> <span style=\"background-color: rgb(121, 121, 255); color: black; padding: 2px;\" title=\"-2.6194\">_still</span> <span style=\"background-color: rgb(40, 40, 255); color: white; padding: 2px;\" title=\"-4.2154\">_dream</span> <span style=\"background-color: rgb(133, 133, 255); color: black; padding: 2px;\" title=\"-2.3920\">_about</span> <span style=\"background-color: rgb(121, 121, 255); color: black; padding: 2px;\" title=\"-2.6090\">_being</span> <span style=\"background-color: rgb(115, 115, 255); color: black; padding: 2px;\" title=\"-2.7404\">_chased</span> <span style=\"background-color: rgb(158, 158, 255); color: black; padding: 2px;\" title=\"-1.8862\">,\"</span> <span style=\"background-color: rgb(169, 169, 255); color: black; padding: 2px;\" title=\"-1.6704\">_she</span> <span style=\"background-color: rgb(137, 137, 255); color: black; padding: 2px;\" title=\"-2.3106\">_recounts</span> <span style=\"background-color: rgb(188, 188, 255); color: black; padding: 2px;\" title=\"-1.3036\">_one</span> <span style=\"background-color: rgb(190, 190, 255); color: black; padding: 2px;\" title=\"-1.2582\">_recent</span> <span style=\"background-color: rgb(113, 113, 255); color: black; padding: 2px;\" title=\"-2.7657\">_afternoon</span> <span style=\"background-color: rgb(124, 124, 255); color: black; padding: 2px;\" title=\"-2.5553\">,</span> <span style=\"background-color: rgb(123, 123, 255); color: black; padding: 2px;\" title=\"-2.5724\">_sitting</span> <span style=\"background-color: rgb(139, 139, 255); color: black; padding: 2px;\" title=\"-2.2561\">_in</span> <span style=\"background-color: rgb(181, 181, 255); color: black; padding: 2px;\" title=\"-1.4453\">_her</span> <span style=\"background-color: rgb(135, 135, 255); color: black; padding: 2px;\" title=\"-2.3385\">_apartment</span> <span style=\"background-color: rgb(175, 175, 255); color: black; padding: 2px;\" title=\"-1.5597\">_in</span> <span style=\"background-color: rgb(148, 148, 255); color: black; padding: 2px;\" title=\"-2.0903\">_a</span> <span style=\"background-color: rgb(135, 135, 255); color: black; padding: 2px;\" title=\"-2.3401\">_working</span> <span style=\"background-color: rgb(182, 182, 255); color: black; padding: 2px;\" title=\"-1.4166\">-</span> <span style=\"background-color: rgb(176, 176, 255); color: black; padding: 2px;\" title=\"-1.5354\">class</span> <span style=\"background-color: rgb(255, 185, 185); color: black; padding: 2px;\" title=\"1.3584\">_Los</span> <span style=\"background-color: rgb(208, 208, 255); color: black; padding: 2px;\" title=\"-0.9211\">_Angeles</span> <span style=\"background-color: rgb(146, 146, 255); color: black; padding: 2px;\" title=\"-2.1350\">_neighborhood</span> </div>"
      ],
      "text/plain": [
       "<IPython.core.display.HTML object>"
      ]
     },
     "metadata": {},
     "output_type": "display_data"
    },
    {
     "data": {
      "text/html": [
       "<div><span style=\"background-color: rgb(192, 192, 255); color: black; padding: 2px;\" title=\"-1.2302\"><|endoftext|></span> <span style=\"background-color: rgb(217, 217, 255); color: black; padding: 2px;\" title=\"-0.7325\">Media</span> <span style=\"background-color: rgb(202, 202, 255); color: black; padding: 2px;\" title=\"-1.0334\">_playback</span> <span style=\"background-color: rgb(200, 200, 255); color: black; padding: 2px;\" title=\"-1.0623\">_is</span> <span style=\"background-color: rgb(184, 184, 255); color: black; padding: 2px;\" title=\"-1.3887\">_unsupported</span> <span style=\"background-color: rgb(175, 175, 255); color: black; padding: 2px;\" title=\"-1.5622\">_on</span> <span style=\"background-color: rgb(149, 149, 255); color: black; padding: 2px;\" title=\"-2.0737\">_your</span> <span style=\"background-color: rgb(157, 157, 255); color: black; padding: 2px;\" title=\"-1.9057\">_device</span> <span style=\"background-color: rgb(208, 208, 255); color: black; padding: 2px;\" title=\"-0.9089\">_Media</span> <span style=\"background-color: rgb(188, 188, 255); color: black; padding: 2px;\" title=\"-1.2970\">_caption</span> <span style=\"background-color: rgb(189, 189, 255); color: black; padding: 2px;\" title=\"-1.2752\">_Jose</span> <span style=\"background-color: rgb(146, 146, 255); color: black; padding: 2px;\" title=\"-2.1330\">_Manuel</span> <span style=\"background-color: rgb(164, 164, 255); color: black; padding: 2px;\" title=\"-1.7752\">_Bar</span> <span style=\"background-color: rgb(132, 132, 255); color: black; padding: 2px;\" title=\"-2.4047\">ro</span> <span style=\"background-color: rgb(157, 157, 255); color: black; padding: 2px;\" title=\"-1.9179\">so</span> <span style=\"background-color: rgb(164, 164, 255); color: black; padding: 2px;\" title=\"-1.7836\">:</span> <span style=\"background-color: rgb(182, 182, 255); color: black; padding: 2px;\" title=\"-1.4213\">_\"</span> <span style=\"background-color: rgb(155, 155, 255); color: black; padding: 2px;\" title=\"-1.9595\">Without</span> <span style=\"background-color: rgb(223, 223, 255); color: black; padding: 2px;\" title=\"-0.6119\">_the</span> <span style=\"background-color: rgb(176, 176, 255); color: black; padding: 2px;\" title=\"-1.5337\">_EU</span> <span style=\"background-color: rgb(141, 141, 255); color: black; padding: 2px;\" title=\"-2.2232\">_Britain</span> <span style=\"background-color: rgb(139, 139, 255); color: black; padding: 2px;\" title=\"-2.2734\">_will</span> <span style=\"background-color: rgb(140, 140, 255); color: black; padding: 2px;\" title=\"-2.2449\">_have</span> <span style=\"background-color: rgb(171, 171, 255); color: black; padding: 2px;\" title=\"-1.6338\">_less</span> <span style=\"background-color: rgb(167, 167, 255); color: black; padding: 2px;\" title=\"-1.7089\">_influence</span> <span style=\"background-color: rgb(133, 133, 255); color: black; padding: 2px;\" title=\"-2.3898\">\"</span> <span style=\"background-color: rgb(140, 140, 255); color: black; padding: 2px;\" title=\"-2.2538\">_</span> <span style=\"background-color: rgb(189, 189, 255); color: black; padding: 2px;\" title=\"-1.2809\">_</span> <span style=\"background-color: rgb(195, 195, 255); color: black; padding: 2px;\" title=\"-1.1756\">The</span> <span style=\"background-color: rgb(172, 172, 255); color: black; padding: 2px;\" title=\"-1.6266\">_UK</span> <span style=\"background-color: rgb(147, 147, 255); color: black; padding: 2px;\" title=\"-2.1067\">_would</span> <span style=\"background-color: rgb(142, 142, 255); color: black; padding: 2px;\" title=\"-2.1982\">_have</span> <span style=\"background-color: rgb(164, 164, 255); color: black; padding: 2px;\" title=\"-1.7838\">_\"</span> <span style=\"background-color: rgb(197, 197, 255); color: black; padding: 2px;\" title=\"-1.1247\">zero</span> <span style=\"background-color: rgb(216, 216, 255); color: black; padding: 2px;\" title=\"-0.7612\">\"</span> <span style=\"background-color: rgb(156, 156, 255); color: black; padding: 2px;\" title=\"-1.9246\">_influence</span> <span style=\"background-color: rgb(190, 190, 255); color: black; padding: 2px;\" title=\"-1.2735\">_if</span> <span style=\"background-color: rgb(160, 160, 255); color: black; padding: 2px;\" title=\"-1.8601\">_it</span> <span style=\"background-color: rgb(120, 120, 255); color: black; padding: 2px;\" title=\"-2.6343\">_voted</span> <span style=\"background-color: rgb(155, 155, 255); color: black; padding: 2px;\" title=\"-1.9527\">_to</span> <span style=\"background-color: rgb(136, 136, 255); color: black; padding: 2px;\" title=\"-2.3140\">_leave</span> <span style=\"background-color: rgb(191, 191, 255); color: black; padding: 2px;\" title=\"-1.2506\">_the</span> <span style=\"background-color: rgb(121, 121, 255); color: black; padding: 2px;\" title=\"-2.6161\">_EU</span> <span style=\"background-color: rgb(160, 160, 255); color: black; padding: 2px;\" title=\"-1.8465\">,</span> <span style=\"background-color: rgb(185, 185, 255); color: black; padding: 2px;\" title=\"-1.3702\">_the</span> <span style=\"background-color: rgb(171, 171, 255); color: black; padding: 2px;\" title=\"-1.6297\">_outgoing</span> <span style=\"background-color: rgb(155, 155, 255); color: black; padding: 2px;\" title=\"-1.9574\">_president</span> <span style=\"background-color: rgb(153, 153, 255); color: black; padding: 2px;\" title=\"-1.9882\">_of</span> <span style=\"background-color: rgb(194, 194, 255); color: black; padding: 2px;\" title=\"-1.1876\">_the</span> <span style=\"background-color: rgb(176, 176, 255); color: black; padding: 2px;\" title=\"-1.5340\">_European</span> <span style=\"background-color: rgb(162, 162, 255); color: black; padding: 2px;\" title=\"-1.8228\">_Commission</span> <span style=\"background-color: rgb(169, 169, 255); color: black; padding: 2px;\" title=\"-1.6744\">_has</span> <span style=\"background-color: rgb(143, 143, 255); color: black; padding: 2px;\" title=\"-2.1848\">_said</span> <span style=\"background-color: rgb(166, 166, 255); color: black; padding: 2px;\" title=\"-1.7422\">.</span> <span style=\"background-color: rgb(156, 156, 255); color: black; padding: 2px;\" title=\"-1.9342\">_</span> <span style=\"background-color: rgb(201, 201, 255); color: black; padding: 2px;\" title=\"-1.0569\">_</span> <span style=\"background-color: rgb(212, 212, 255); color: black; padding: 2px;\" title=\"-0.8398\">Jose</span> <span style=\"background-color: rgb(135, 135, 255); color: black; padding: 2px;\" title=\"-2.3360\">_Manuel</span> <span style=\"background-color: rgb(145, 145, 255); color: black; padding: 2px;\" title=\"-2.1461\">_Bar</span> <span style=\"background-color: rgb(137, 137, 255); color: black; padding: 2px;\" title=\"-2.3007\">ro</span> <span style=\"background-color: rgb(175, 175, 255); color: black; padding: 2px;\" title=\"-1.5649\">so</span> <span style=\"background-color: rgb(165, 165, 255); color: black; padding: 2px;\" title=\"-1.7476\">_said</span> <span style=\"background-color: rgb(174, 174, 255); color: black; padding: 2px;\" title=\"-1.5761\">_Britain</span> <span style=\"background-color: rgb(145, 145, 255); color: black; padding: 2px;\" title=\"-2.1506\">_could</span> <span style=\"background-color: rgb(148, 148, 255); color: black; padding: 2px;\" title=\"-2.0791\">_not</span> <span style=\"background-color: rgb(144, 144, 255); color: black; padding: 2px;\" title=\"-2.1627\">_negotiate</span> <span style=\"background-color: rgb(178, 178, 255); color: black; padding: 2px;\" title=\"-1.4965\">_with</span> <span style=\"background-color: rgb(223, 223, 255); color: black; padding: 2px;\" title=\"-0.6180\">_the</span> <span style=\"background-color: rgb(156, 156, 255); color: black; padding: 2px;\" title=\"-1.9391\">_US</span> <span style=\"background-color: rgb(164, 164, 255); color: black; padding: 2px;\" title=\"-1.7660\">_and</span> <span style=\"background-color: rgb(154, 154, 255); color: black; padding: 2px;\" title=\"-1.9631\">_China</span> <span style=\"background-color: rgb(164, 164, 255); color: black; padding: 2px;\" title=\"-1.7750\">_\"</span> <span style=\"background-color: rgb(183, 183, 255); color: black; padding: 2px;\" title=\"-1.4045\">on</span> <span style=\"background-color: rgb(0, 0, 255); color: white; padding: 2px;\" title=\"-5.0000\">_an</span> <span style=\"background-color: rgb(214, 214, 255); color: black; padding: 2px;\" title=\"-0.8032\">_equal</span> <span style=\"background-color: rgb(152, 152, 255); color: black; padding: 2px;\" title=\"-2.0105\">_footing</span> <span style=\"background-color: rgb(134, 134, 255); color: black; padding: 2px;\" title=\"-2.3719\">\"</span> <span style=\"background-color: rgb(158, 158, 255); color: black; padding: 2px;\" title=\"-1.9004\">_on</span> <span style=\"background-color: rgb(225, 225, 255); color: black; padding: 2px;\" title=\"-0.5826\">_its</span> <span style=\"background-color: rgb(177, 177, 255); color: black; padding: 2px;\" title=\"-1.5139\">_own</span> <span style=\"background-color: rgb(168, 168, 255); color: black; padding: 2px;\" title=\"-1.7016\">.</span> <span style=\"background-color: rgb(158, 158, 255); color: black; padding: 2px;\" title=\"-1.8891\">_</span> <span style=\"background-color: rgb(198, 198, 255); color: black; padding: 2px;\" title=\"-1.1012\">_</span> <span style=\"background-color: rgb(183, 183, 255); color: black; padding: 2px;\" title=\"-1.4088\">He</span> <span style=\"background-color: rgb(177, 177, 255); color: black; padding: 2px;\" title=\"-1.5219\">_also</span> <span style=\"background-color: rgb(172, 172, 255); color: black; padding: 2px;\" title=\"-1.6232\">_said</span> <span style=\"background-color: rgb(190, 190, 255); color: black; padding: 2px;\" title=\"-1.2636\">_free</span> <span style=\"background-color: rgb(156, 156, 255); color: black; padding: 2px;\" title=\"-1.9225\">_movement</span> <span style=\"background-color: rgb(142, 142, 255); color: black; padding: 2px;\" title=\"-2.2156\">_of</span> <span style=\"background-color: rgb(165, 165, 255); color: black; padding: 2px;\" title=\"-1.7597\">_people</span> <span style=\"background-color: rgb(226, 226, 255); color: black; padding: 2px;\" title=\"-0.5573\">_within</span> <span style=\"background-color: rgb(218, 218, 255); color: black; padding: 2px;\" title=\"-0.7156\">_the</span> <span style=\"background-color: rgb(189, 189, 255); color: black; padding: 2px;\" title=\"-1.2898\">_EU</span> <span style=\"background-color: rgb(179, 179, 255); color: black; padding: 2px;\" title=\"-1.4822\">_was</span> <span style=\"background-color: rgb(0, 0, 255); color: white; padding: 2px;\" title=\"-5.0000\">_an</span> <span style=\"background-color: rgb(255, 189, 189); color: black; padding: 2px;\" title=\"1.2924\">_\"</span> <span style=\"background-color: rgb(211, 211, 255); color: black; padding: 2px;\" title=\"-0.8462\">essential</span> <span style=\"background-color: rgb(211, 211, 255); color: black; padding: 2px;\" title=\"-0.8600\">\"</span> </div>"
      ],
      "text/plain": [
       "<IPython.core.display.HTML object>"
      ]
     },
     "metadata": {},
     "output_type": "display_data"
    },
    {
     "data": {
      "text/html": [
       "<div><span style=\"background-color: rgb(192, 192, 255); color: black; padding: 2px;\" title=\"-1.2302\"><|endoftext|></span> <span style=\"background-color: rgb(140, 140, 255); color: black; padding: 2px;\" title=\"-2.2418\">At</span> <span style=\"background-color: rgb(29, 29, 255); color: white; padding: 2px;\" title=\"-4.4125\">_2</span> <span style=\"background-color: rgb(115, 115, 255); color: black; padding: 2px;\" title=\"-2.7381\">am</span> <span style=\"background-color: rgb(67, 67, 255); color: white; padding: 2px;\" title=\"-3.6707\">_on</span> <span style=\"background-color: rgb(123, 123, 255); color: black; padding: 2px;\" title=\"-2.5758\">_a</span> <span style=\"background-color: rgb(152, 152, 255); color: black; padding: 2px;\" title=\"-2.0167\">_cold</span> <span style=\"background-color: rgb(146, 146, 255); color: black; padding: 2px;\" title=\"-2.1267\">_winter</span> <span style=\"background-color: rgb(197, 197, 255); color: black; padding: 2px;\" title=\"-1.1304\">�</span> <span style=\"background-color: rgb(166, 166, 255); color: black; padding: 2px;\" title=\"-1.7373\">�</span> <span style=\"background-color: rgb(182, 182, 255); color: black; padding: 2px;\" title=\"-1.4239\">s</span> <span style=\"background-color: rgb(117, 117, 255); color: black; padding: 2px;\" title=\"-2.6974\">_night</span> <span style=\"background-color: rgb(153, 153, 255); color: black; padding: 2px;\" title=\"-1.9946\">_in</span> <span style=\"background-color: rgb(161, 161, 255); color: black; padding: 2px;\" title=\"-1.8386\">_London</span> <span style=\"background-color: rgb(154, 154, 255); color: black; padding: 2px;\" title=\"-1.9772\">_last</span> <span style=\"background-color: rgb(166, 166, 255); color: black; padding: 2px;\" title=\"-1.7369\">_year</span> <span style=\"background-color: rgb(177, 177, 255); color: black; padding: 2px;\" title=\"-1.5116\">_I</span> <span style=\"background-color: rgb(163, 163, 255); color: black; padding: 2px;\" title=\"-1.7895\">_was</span> <span style=\"background-color: rgb(199, 199, 255); color: black; padding: 2px;\" title=\"-1.0870\">_lo</span> <span style=\"background-color: rgb(173, 173, 255); color: black; padding: 2px;\" title=\"-1.5902\">it</span> <span style=\"background-color: rgb(129, 129, 255); color: black; padding: 2px;\" title=\"-2.4631\">ering</span> <span style=\"background-color: rgb(164, 164, 255); color: black; padding: 2px;\" title=\"-1.7774\">_in</span> <span style=\"background-color: rgb(190, 190, 255); color: black; padding: 2px;\" title=\"-1.2580\">_the</span> <span style=\"background-color: rgb(144, 144, 255); color: black; padding: 2px;\" title=\"-2.1642\">_shadows</span> <span style=\"background-color: rgb(124, 124, 255); color: black; padding: 2px;\" title=\"-2.5557\">_on</span> <span style=\"background-color: rgb(201, 201, 255); color: black; padding: 2px;\" title=\"-1.0561\">_Furn</span> <span style=\"background-color: rgb(145, 145, 255); color: black; padding: 2px;\" title=\"-2.1380\">ival</span> <span style=\"background-color: rgb(143, 143, 255); color: black; padding: 2px;\" title=\"-2.1884\">_Street</span> <span style=\"background-color: rgb(146, 146, 255); color: black; padding: 2px;\" title=\"-2.1197\">_near</span> <span style=\"background-color: rgb(221, 221, 255); color: black; padding: 2px;\" title=\"-0.6552\">_Ch</span> <span style=\"background-color: rgb(170, 170, 255); color: black; padding: 2px;\" title=\"-1.6546\">anc</span> <span style=\"background-color: rgb(118, 118, 255); color: black; padding: 2px;\" title=\"-2.6692\">ery</span> <span style=\"background-color: rgb(157, 157, 255); color: black; padding: 2px;\" title=\"-1.9136\">_Lane</span> <span style=\"background-color: rgb(177, 177, 255); color: black; padding: 2px;\" title=\"-1.5131\">_tube</span> <span style=\"background-color: rgb(152, 152, 255); color: black; padding: 2px;\" title=\"-2.0017\">_station</span> <span style=\"background-color: rgb(122, 122, 255); color: black; padding: 2px;\" title=\"-2.5966\">_with</span> <span style=\"background-color: rgb(134, 134, 255); color: black; padding: 2px;\" title=\"-2.3536\">_a</span> <span style=\"background-color: rgb(190, 190, 255); color: black; padding: 2px;\" title=\"-1.2726\">_veteran</span> <span style=\"background-color: rgb(194, 194, 255); color: black; padding: 2px;\" title=\"-1.1900\">_urban</span> <span style=\"background-color: rgb(158, 158, 255); color: black; padding: 2px;\" title=\"-1.9015\">_explorer</span> <span style=\"background-color: rgb(172, 172, 255); color: black; padding: 2px;\" title=\"-1.6245\">_called</span> <span style=\"background-color: rgb(141, 141, 255); color: black; padding: 2px;\" title=\"-2.2313\">_Lucy</span> <span style=\"background-color: rgb(173, 173, 255); color: black; padding: 2px;\" title=\"-1.6008\">_Sparrow</span> <span style=\"background-color: rgb(183, 183, 255); color: black; padding: 2px;\" title=\"-1.4012\">.</span> <span style=\"background-color: rgb(107, 107, 255); color: white; padding: 2px;\" title=\"-2.8985\">_Across</span> <span style=\"background-color: rgb(153, 153, 255); color: black; padding: 2px;\" title=\"-1.9813\">_the</span> <span style=\"background-color: rgb(133, 133, 255); color: black; padding: 2px;\" title=\"-2.3884\">_street</span> <span style=\"background-color: rgb(163, 163, 255); color: black; padding: 2px;\" title=\"-1.8028\">_was</span> <span style=\"background-color: rgb(152, 152, 255); color: black; padding: 2px;\" title=\"-2.0011\">_a</span> <span style=\"background-color: rgb(175, 175, 255); color: black; padding: 2px;\" title=\"-1.5619\">_six</span> <span style=\"background-color: rgb(180, 180, 255); color: black; padding: 2px;\" title=\"-1.4589\">-</span> <span style=\"background-color: rgb(153, 153, 255); color: black; padding: 2px;\" title=\"-1.9998\">store</span> <span style=\"background-color: rgb(195, 195, 255); color: black; padding: 2px;\" title=\"-1.1739\">y</span> <span style=\"background-color: rgb(137, 137, 255); color: black; padding: 2px;\" title=\"-2.3106\">_building</span> <span style=\"background-color: rgb(169, 169, 255); color: black; padding: 2px;\" title=\"-1.6674\">_with</span> <span style=\"background-color: rgb(216, 216, 255); color: black; padding: 2px;\" title=\"-0.7576\">_scaff</span> <span style=\"background-color: rgb(115, 115, 255); color: black; padding: 2px;\" title=\"-2.7444\">olding</span> <span style=\"background-color: rgb(190, 190, 255); color: black; padding: 2px;\" title=\"-1.2721\">_ha</span> <span style=\"background-color: rgb(192, 192, 255); color: black; padding: 2px;\" title=\"-1.2173\">ph</span> <span style=\"background-color: rgb(153, 153, 255); color: black; padding: 2px;\" title=\"-1.9834\">azard</span> <span style=\"background-color: rgb(147, 147, 255); color: black; padding: 2px;\" title=\"-2.0990\">ly</span> <span style=\"background-color: rgb(122, 122, 255); color: black; padding: 2px;\" title=\"-2.6014\">_arranged</span> <span style=\"background-color: rgb(132, 132, 255); color: black; padding: 2px;\" title=\"-2.3987\">_on</span> <span style=\"background-color: rgb(210, 210, 255); color: black; padding: 2px;\" title=\"-0.8653\">_its</span> <span style=\"background-color: rgb(144, 144, 255); color: black; padding: 2px;\" title=\"-2.1745\">_facade</span> <span style=\"background-color: rgb(155, 155, 255); color: black; padding: 2px;\" title=\"-1.9499\">,</span> <span style=\"background-color: rgb(157, 157, 255); color: black; padding: 2px;\" title=\"-1.9181\">_pin</span> <span style=\"background-color: rgb(159, 159, 255); color: black; padding: 2px;\" title=\"-1.8709\">ioned</span> <span style=\"background-color: rgb(141, 141, 255); color: black; padding: 2px;\" title=\"-2.2260\">_by</span> <span style=\"background-color: rgb(143, 143, 255); color: black; padding: 2px;\" title=\"-2.1960\">_a</span> <span style=\"background-color: rgb(183, 183, 255); color: black; padding: 2px;\" title=\"-1.4083\">_large</span> <span style=\"background-color: rgb(184, 184, 255); color: black; padding: 2px;\" title=\"-1.3730\">_blue</span> <span style=\"background-color: rgb(171, 171, 255); color: black; padding: 2px;\" title=\"-1.6397\">_wooden</span> <span style=\"background-color: rgb(167, 167, 255); color: black; padding: 2px;\" title=\"-1.7210\">_ho</span> <span style=\"background-color: rgb(148, 148, 255); color: black; padding: 2px;\" title=\"-2.0883\">arding</span> <span style=\"background-color: rgb(143, 143, 255); color: black; padding: 2px;\" title=\"-2.1865\">_and</span> <span style=\"background-color: rgb(0, 0, 255); color: white; padding: 2px;\" title=\"-5.0000\">_an</span> <span style=\"background-color: rgb(161, 161, 255); color: black; padding: 2px;\" title=\"-1.8391\">_aluminium</span> <span style=\"background-color: rgb(146, 146, 255); color: black; padding: 2px;\" title=\"-2.1335\">_sign</span> <span style=\"background-color: rgb(177, 177, 255); color: black; padding: 2px;\" title=\"-1.5126\">_reading</span> <span style=\"background-color: rgb(181, 181, 255); color: black; padding: 2px;\" title=\"-1.4369\">:</span> <span style=\"background-color: rgb(181, 181, 255); color: black; padding: 2px;\" title=\"-1.4404\">_�</span> <span style=\"background-color: rgb(211, 211, 255); color: black; padding: 2px;\" title=\"-0.8619\">�</span> <span style=\"background-color: rgb(197, 197, 255); color: black; padding: 2px;\" title=\"-1.1333\">Ca</span> <span style=\"background-color: rgb(175, 175, 255); color: black; padding: 2px;\" title=\"-1.5534\">ution</span> <span style=\"background-color: rgb(178, 178, 255); color: black; padding: 2px;\" title=\"-1.4948\">_-</span> <span style=\"background-color: rgb(176, 176, 255); color: black; padding: 2px;\" title=\"-1.5395\">_deep</span> <span style=\"background-color: rgb(170, 170, 255); color: black; padding: 2px;\" title=\"-1.6606\">_man</span> <span style=\"background-color: rgb(174, 174, 255); color: black; padding: 2px;\" title=\"-1.5755\">hole</span> <span style=\"background-color: rgb(178, 178, 255); color: black; padding: 2px;\" title=\"-1.5059\">.</span> <span style=\"background-color: rgb(145, 145, 255); color: black; padding: 2px;\" title=\"-2.1464\">_Do</span> <span style=\"background-color: rgb(171, 171, 255); color: black; padding: 2px;\" title=\"-1.6410\">_not</span> <span style=\"background-color: rgb(172, 172, 255); color: black; padding: 2px;\" title=\"-1.6079\">_enter</span> <span style=\"background-color: rgb(182, 182, 255); color: black; padding: 2px;\" title=\"-1.4198\">.</span> <span style=\"background-color: rgb(176, 176, 255); color: black; padding: 2px;\" title=\"-1.5429\">�</span> <span style=\"background-color: rgb(181, 181, 255); color: black; padding: 2px;\" title=\"-1.4427\">�</span> <span style=\"background-color: rgb(167, 167, 255); color: black; padding: 2px;\" title=\"-1.7174\">_</span> <span style=\"background-color: rgb(192, 192, 255); color: black; padding: 2px;\" title=\"-1.2184\">_</span> <span style=\"background-color: rgb(208, 208, 255); color: black; padding: 2px;\" title=\"-0.9173\">Our</span> <span style=\"background-color: rgb(163, 163, 255); color: black; padding: 2px;\" title=\"-1.8029\">_fingers</span> <span style=\"background-color: rgb(136, 136, 255); color: black; padding: 2px;\" title=\"-2.3277\">_were</span> <span style=\"background-color: rgb(54, 54, 255); color: white; padding: 2px;\" title=\"-3.9367\">_going</span> <span style=\"background-color: rgb(122, 122, 255); color: black; padding: 2px;\" title=\"-2.5999\">_numb</span> <span style=\"background-color: rgb(206, 206, 255); color: black; padding: 2px;\" title=\"-0.9514\">_in</span> <span style=\"background-color: rgb(217, 217, 255); color: black; padding: 2px;\" title=\"-0.7287\">_the</span> <span style=\"background-color: rgb(166, 166, 255); color: black; padding: 2px;\" title=\"-1.7450\">_cold</span> <span style=\"background-color: rgb(148, 148, 255); color: black; padding: 2px;\" title=\"-2.0789\">_as</span> <span style=\"background-color: rgb(162, 162, 255); color: black; padding: 2px;\" title=\"-1.8159\">_we</span> <span style=\"background-color: rgb(157, 157, 255); color: black; padding: 2px;\" title=\"-1.9083\">_waited</span> <span style=\"background-color: rgb(167, 167, 255); color: black; padding: 2px;\" title=\"-1.7103\">_for</span> <span style=\"background-color: rgb(143, 143, 255); color: black; padding: 2px;\" title=\"-2.1833\">_a</span> <span style=\"background-color: rgb(181, 181, 255); color: black; padding: 2px;\" title=\"-1.4467\">_black</span> <span style=\"background-color: rgb(160, 160, 255); color: black; padding: 2px;\" title=\"-1.8556\">_cab</span> <span style=\"background-color: rgb(61, 61, 255); color: white; padding: 2px;\" title=\"-3.7876\">_parked</span> <span style=\"background-color: rgb(142, 142, 255); color: black; padding: 2px;\" title=\"-2.2154\">_at</span> <span style=\"background-color: rgb(198, 198, 255); color: black; padding: 2px;\" title=\"-1.1140\">_the</span> <span style=\"background-color: rgb(119, 119, 255); color: black; padding: 2px;\" title=\"-2.6567\">_end</span> <span style=\"background-color: rgb(127, 127, 255); color: black; padding: 2px;\" title=\"-2.4995\">_of</span> <span style=\"background-color: rgb(155, 155, 255); color: black; padding: 2px;\" title=\"-1.9596\">_the</span> <span style=\"background-color: rgb(121, 121, 255); color: black; padding: 2px;\" title=\"-2.6127\">_street</span> <span style=\"background-color: rgb(160, 160, 255); color: black; padding: 2px;\" title=\"-1.8569\">_to</span> <span style=\"background-color: rgb(133, 133, 255); color: black; padding: 2px;\" title=\"-2.3850\">_leave</span> <span style=\"background-color: rgb(190, 190, 255); color: black; padding: 2px;\" title=\"-1.2668\">.</span> <span style=\"background-color: rgb(165, 165, 255); color: black; padding: 2px;\" title=\"-1.7473\">_It</span> <span style=\"background-color: rgb(121, 121, 255); color: black; padding: 2px;\" title=\"-2.6238\">_looked</span> <span style=\"background-color: rgb(145, 145, 255); color: black; padding: 2px;\" title=\"-2.1510\">_like</span> <span style=\"background-color: rgb(169, 169, 255); color: black; padding: 2px;\" title=\"-1.6826\">_he</span> <span style=\"background-color: rgb(159, 159, 255); color: black; padding: 2px;\" title=\"-1.8798\">_was</span> <span style=\"background-color: rgb(116, 116, 255); color: black; padding: 2px;\" title=\"-2.7185\">_taking</span> <span style=\"background-color: rgb(118, 118, 255); color: black; padding: 2px;\" title=\"-2.6844\">_a</span> <span style=\"background-color: rgb(132, 132, 255); color: black; padding: 2px;\" title=\"-2.4068\">_break</span> <span style=\"background-color: rgb(147, 147, 255); color: black; padding: 2px;\" title=\"-2.1112\">,</span> <span style=\"background-color: rgb(105, 105, 255); color: white; padding: 2px;\" title=\"-2.9379\">_listening</span> <span style=\"background-color: rgb(151, 151, 255); color: black; padding: 2px;\" title=\"-2.0384\">_to</span> <span style=\"background-color: rgb(129, 129, 255); color: black; padding: 2px;\" title=\"-2.4522\">_a</span> <span style=\"background-color: rgb(170, 170, 255); color: black; padding: 2px;\" title=\"-1.6623\">_late</span> <span style=\"background-color: rgb(201, 201, 255); color: black; padding: 2px;\" title=\"-1.0554\">-</span> <span style=\"background-color: rgb(177, 177, 255); color: black; padding: 2px;\" title=\"-1.5290\">night</span> <span style=\"background-color: rgb(157, 157, 255); color: black; padding: 2px;\" title=\"-1.9116\">_radio</span> <span style=\"background-color: rgb(133, 133, 255); color: black; padding: 2px;\" title=\"-2.3830\">_show</span> <span style=\"background-color: rgb(157, 157, 255); color: black; padding: 2px;\" title=\"-1.9062\">,</span> <span style=\"background-color: rgb(147, 147, 255); color: black; padding: 2px;\" title=\"-2.1022\">_but</span> <span style=\"background-color: rgb(81, 81, 255); color: white; padding: 2px;\" title=\"-3.4069\">_after</span> <span style=\"background-color: rgb(216, 216, 255); color: black; padding: 2px;\" title=\"-0.7493\">_what</span> <span style=\"background-color: rgb(255, 240, 240); color: black; padding: 2px;\" title=\"0.2884\">_felt</span> <span style=\"background-color: rgb(255, 190, 190); color: black; padding: 2px;\" title=\"1.2706\">_like</span> <span style=\"background-color: rgb(151, 151, 255); color: black; padding: 2px;\" title=\"-2.0244\">_hours</span> <span style=\"background-color: rgb(167, 167, 255); color: black; padding: 2px;\" title=\"-1.7171\">_he</span> </div>"
      ],
      "text/plain": [
       "<IPython.core.display.HTML object>"
      ]
     },
     "metadata": {},
     "output_type": "display_data"
    },
    {
     "data": {
      "text/html": [
       "<div><span style=\"background-color: rgb(192, 192, 255); color: black; padding: 2px;\" title=\"-1.2302\"><|endoftext|></span> <span style=\"background-color: rgb(217, 217, 255); color: black; padding: 2px;\" title=\"-0.7325\">Media</span> <span style=\"background-color: rgb(202, 202, 255); color: black; padding: 2px;\" title=\"-1.0334\">_playback</span> <span style=\"background-color: rgb(200, 200, 255); color: black; padding: 2px;\" title=\"-1.0623\">_is</span> <span style=\"background-color: rgb(184, 184, 255); color: black; padding: 2px;\" title=\"-1.3887\">_unsupported</span> <span style=\"background-color: rgb(175, 175, 255); color: black; padding: 2px;\" title=\"-1.5622\">_on</span> <span style=\"background-color: rgb(149, 149, 255); color: black; padding: 2px;\" title=\"-2.0737\">_your</span> <span style=\"background-color: rgb(157, 157, 255); color: black; padding: 2px;\" title=\"-1.9057\">_device</span> <span style=\"background-color: rgb(208, 208, 255); color: black; padding: 2px;\" title=\"-0.9089\">_Media</span> <span style=\"background-color: rgb(188, 188, 255); color: black; padding: 2px;\" title=\"-1.2970\">_caption</span> <span style=\"background-color: rgb(189, 189, 255); color: black; padding: 2px;\" title=\"-1.2752\">_Jose</span> <span style=\"background-color: rgb(146, 146, 255); color: black; padding: 2px;\" title=\"-2.1330\">_Manuel</span> <span style=\"background-color: rgb(164, 164, 255); color: black; padding: 2px;\" title=\"-1.7752\">_Bar</span> <span style=\"background-color: rgb(132, 132, 255); color: black; padding: 2px;\" title=\"-2.4047\">ro</span> <span style=\"background-color: rgb(157, 157, 255); color: black; padding: 2px;\" title=\"-1.9179\">so</span> <span style=\"background-color: rgb(164, 164, 255); color: black; padding: 2px;\" title=\"-1.7836\">:</span> <span style=\"background-color: rgb(182, 182, 255); color: black; padding: 2px;\" title=\"-1.4213\">_\"</span> <span style=\"background-color: rgb(155, 155, 255); color: black; padding: 2px;\" title=\"-1.9595\">Without</span> <span style=\"background-color: rgb(223, 223, 255); color: black; padding: 2px;\" title=\"-0.6119\">_the</span> <span style=\"background-color: rgb(176, 176, 255); color: black; padding: 2px;\" title=\"-1.5337\">_EU</span> <span style=\"background-color: rgb(141, 141, 255); color: black; padding: 2px;\" title=\"-2.2232\">_Britain</span> <span style=\"background-color: rgb(139, 139, 255); color: black; padding: 2px;\" title=\"-2.2734\">_will</span> <span style=\"background-color: rgb(140, 140, 255); color: black; padding: 2px;\" title=\"-2.2449\">_have</span> <span style=\"background-color: rgb(171, 171, 255); color: black; padding: 2px;\" title=\"-1.6338\">_less</span> <span style=\"background-color: rgb(167, 167, 255); color: black; padding: 2px;\" title=\"-1.7089\">_influence</span> <span style=\"background-color: rgb(133, 133, 255); color: black; padding: 2px;\" title=\"-2.3898\">\"</span> <span style=\"background-color: rgb(140, 140, 255); color: black; padding: 2px;\" title=\"-2.2538\">_</span> <span style=\"background-color: rgb(189, 189, 255); color: black; padding: 2px;\" title=\"-1.2809\">_</span> <span style=\"background-color: rgb(195, 195, 255); color: black; padding: 2px;\" title=\"-1.1756\">The</span> <span style=\"background-color: rgb(172, 172, 255); color: black; padding: 2px;\" title=\"-1.6266\">_UK</span> <span style=\"background-color: rgb(147, 147, 255); color: black; padding: 2px;\" title=\"-2.1067\">_would</span> <span style=\"background-color: rgb(142, 142, 255); color: black; padding: 2px;\" title=\"-2.1982\">_have</span> <span style=\"background-color: rgb(164, 164, 255); color: black; padding: 2px;\" title=\"-1.7838\">_\"</span> <span style=\"background-color: rgb(197, 197, 255); color: black; padding: 2px;\" title=\"-1.1247\">zero</span> <span style=\"background-color: rgb(216, 216, 255); color: black; padding: 2px;\" title=\"-0.7612\">\"</span> <span style=\"background-color: rgb(156, 156, 255); color: black; padding: 2px;\" title=\"-1.9246\">_influence</span> <span style=\"background-color: rgb(190, 190, 255); color: black; padding: 2px;\" title=\"-1.2735\">_if</span> <span style=\"background-color: rgb(160, 160, 255); color: black; padding: 2px;\" title=\"-1.8601\">_it</span> <span style=\"background-color: rgb(120, 120, 255); color: black; padding: 2px;\" title=\"-2.6343\">_voted</span> <span style=\"background-color: rgb(155, 155, 255); color: black; padding: 2px;\" title=\"-1.9527\">_to</span> <span style=\"background-color: rgb(136, 136, 255); color: black; padding: 2px;\" title=\"-2.3140\">_leave</span> <span style=\"background-color: rgb(191, 191, 255); color: black; padding: 2px;\" title=\"-1.2506\">_the</span> <span style=\"background-color: rgb(121, 121, 255); color: black; padding: 2px;\" title=\"-2.6161\">_EU</span> <span style=\"background-color: rgb(160, 160, 255); color: black; padding: 2px;\" title=\"-1.8465\">,</span> <span style=\"background-color: rgb(185, 185, 255); color: black; padding: 2px;\" title=\"-1.3702\">_the</span> <span style=\"background-color: rgb(171, 171, 255); color: black; padding: 2px;\" title=\"-1.6297\">_outgoing</span> <span style=\"background-color: rgb(155, 155, 255); color: black; padding: 2px;\" title=\"-1.9574\">_president</span> <span style=\"background-color: rgb(153, 153, 255); color: black; padding: 2px;\" title=\"-1.9882\">_of</span> <span style=\"background-color: rgb(194, 194, 255); color: black; padding: 2px;\" title=\"-1.1876\">_the</span> <span style=\"background-color: rgb(176, 176, 255); color: black; padding: 2px;\" title=\"-1.5340\">_European</span> <span style=\"background-color: rgb(162, 162, 255); color: black; padding: 2px;\" title=\"-1.8228\">_Commission</span> <span style=\"background-color: rgb(169, 169, 255); color: black; padding: 2px;\" title=\"-1.6744\">_has</span> <span style=\"background-color: rgb(143, 143, 255); color: black; padding: 2px;\" title=\"-2.1848\">_said</span> <span style=\"background-color: rgb(166, 166, 255); color: black; padding: 2px;\" title=\"-1.7422\">.</span> <span style=\"background-color: rgb(156, 156, 255); color: black; padding: 2px;\" title=\"-1.9342\">_</span> <span style=\"background-color: rgb(201, 201, 255); color: black; padding: 2px;\" title=\"-1.0569\">_</span> <span style=\"background-color: rgb(212, 212, 255); color: black; padding: 2px;\" title=\"-0.8398\">Jose</span> <span style=\"background-color: rgb(135, 135, 255); color: black; padding: 2px;\" title=\"-2.3360\">_Manuel</span> <span style=\"background-color: rgb(145, 145, 255); color: black; padding: 2px;\" title=\"-2.1461\">_Bar</span> <span style=\"background-color: rgb(137, 137, 255); color: black; padding: 2px;\" title=\"-2.3007\">ro</span> <span style=\"background-color: rgb(175, 175, 255); color: black; padding: 2px;\" title=\"-1.5649\">so</span> <span style=\"background-color: rgb(165, 165, 255); color: black; padding: 2px;\" title=\"-1.7476\">_said</span> <span style=\"background-color: rgb(174, 174, 255); color: black; padding: 2px;\" title=\"-1.5761\">_Britain</span> <span style=\"background-color: rgb(145, 145, 255); color: black; padding: 2px;\" title=\"-2.1506\">_could</span> <span style=\"background-color: rgb(148, 148, 255); color: black; padding: 2px;\" title=\"-2.0791\">_not</span> <span style=\"background-color: rgb(144, 144, 255); color: black; padding: 2px;\" title=\"-2.1627\">_negotiate</span> <span style=\"background-color: rgb(178, 178, 255); color: black; padding: 2px;\" title=\"-1.4965\">_with</span> <span style=\"background-color: rgb(223, 223, 255); color: black; padding: 2px;\" title=\"-0.6180\">_the</span> <span style=\"background-color: rgb(156, 156, 255); color: black; padding: 2px;\" title=\"-1.9391\">_US</span> <span style=\"background-color: rgb(164, 164, 255); color: black; padding: 2px;\" title=\"-1.7660\">_and</span> <span style=\"background-color: rgb(154, 154, 255); color: black; padding: 2px;\" title=\"-1.9631\">_China</span> <span style=\"background-color: rgb(164, 164, 255); color: black; padding: 2px;\" title=\"-1.7750\">_\"</span> <span style=\"background-color: rgb(183, 183, 255); color: black; padding: 2px;\" title=\"-1.4045\">on</span> <span style=\"background-color: rgb(0, 0, 255); color: white; padding: 2px;\" title=\"-5.0000\">_an</span> <span style=\"background-color: rgb(214, 214, 255); color: black; padding: 2px;\" title=\"-0.8032\">_equal</span> <span style=\"background-color: rgb(152, 152, 255); color: black; padding: 2px;\" title=\"-2.0105\">_footing</span> <span style=\"background-color: rgb(134, 134, 255); color: black; padding: 2px;\" title=\"-2.3719\">\"</span> <span style=\"background-color: rgb(158, 158, 255); color: black; padding: 2px;\" title=\"-1.9004\">_on</span> <span style=\"background-color: rgb(225, 225, 255); color: black; padding: 2px;\" title=\"-0.5826\">_its</span> <span style=\"background-color: rgb(177, 177, 255); color: black; padding: 2px;\" title=\"-1.5139\">_own</span> <span style=\"background-color: rgb(168, 168, 255); color: black; padding: 2px;\" title=\"-1.7016\">.</span> <span style=\"background-color: rgb(158, 158, 255); color: black; padding: 2px;\" title=\"-1.8891\">_</span> <span style=\"background-color: rgb(198, 198, 255); color: black; padding: 2px;\" title=\"-1.1012\">_</span> <span style=\"background-color: rgb(183, 183, 255); color: black; padding: 2px;\" title=\"-1.4088\">He</span> <span style=\"background-color: rgb(177, 177, 255); color: black; padding: 2px;\" title=\"-1.5219\">_also</span> <span style=\"background-color: rgb(172, 172, 255); color: black; padding: 2px;\" title=\"-1.6232\">_said</span> <span style=\"background-color: rgb(190, 190, 255); color: black; padding: 2px;\" title=\"-1.2636\">_free</span> <span style=\"background-color: rgb(156, 156, 255); color: black; padding: 2px;\" title=\"-1.9225\">_movement</span> <span style=\"background-color: rgb(142, 142, 255); color: black; padding: 2px;\" title=\"-2.2156\">_of</span> <span style=\"background-color: rgb(165, 165, 255); color: black; padding: 2px;\" title=\"-1.7597\">_people</span> <span style=\"background-color: rgb(226, 226, 255); color: black; padding: 2px;\" title=\"-0.5573\">_within</span> <span style=\"background-color: rgb(218, 218, 255); color: black; padding: 2px;\" title=\"-0.7156\">_the</span> <span style=\"background-color: rgb(189, 189, 255); color: black; padding: 2px;\" title=\"-1.2898\">_EU</span> <span style=\"background-color: rgb(179, 179, 255); color: black; padding: 2px;\" title=\"-1.4822\">_was</span> <span style=\"background-color: rgb(0, 0, 255); color: white; padding: 2px;\" title=\"-5.0000\">_an</span> <span style=\"background-color: rgb(255, 189, 189); color: black; padding: 2px;\" title=\"1.2924\">_\"</span> <span style=\"background-color: rgb(211, 211, 255); color: black; padding: 2px;\" title=\"-0.8462\">essential</span> <span style=\"background-color: rgb(211, 211, 255); color: black; padding: 2px;\" title=\"-0.8600\">\"</span> <span style=\"background-color: rgb(177, 177, 255); color: black; padding: 2px;\" title=\"-1.5203\">_principle</span> <span style=\"background-color: rgb(178, 178, 255); color: black; padding: 2px;\" title=\"-1.4938\">_that</span> <span style=\"background-color: rgb(158, 158, 255); color: black; padding: 2px;\" title=\"-1.8936\">_could</span> <span style=\"background-color: rgb(151, 151, 255); color: black; padding: 2px;\" title=\"-2.0216\">_not</span> <span style=\"background-color: rgb(174, 174, 255); color: black; padding: 2px;\" title=\"-1.5801\">_be</span> <span style=\"background-color: rgb(133, 133, 255); color: black; padding: 2px;\" title=\"-2.3755\">_changed</span> <span style=\"background-color: rgb(173, 173, 255); color: black; padding: 2px;\" title=\"-1.5984\">.</span> <span style=\"background-color: rgb(158, 158, 255); color: black; padding: 2px;\" title=\"-1.8906\">_</span> <span style=\"background-color: rgb(201, 201, 255); color: black; padding: 2px;\" title=\"-1.0577\">_</span> <span style=\"background-color: rgb(154, 154, 255); color: black; padding: 2px;\" title=\"-1.9768\">Conservative</span> <span style=\"background-color: rgb(170, 170, 255); color: black; padding: 2px;\" title=\"-1.6605\">_Party</span> <span style=\"background-color: rgb(185, 185, 255); color: black; padding: 2px;\" title=\"-1.3686\">_chairman</span> <span style=\"background-color: rgb(225, 225, 255); color: black; padding: 2px;\" title=\"-0.5845\">_Grant</span> <span style=\"background-color: rgb(205, 205, 255); color: black; padding: 2px;\" title=\"-0.9613\">_Sh</span> <span style=\"background-color: rgb(151, 151, 255); color: black; padding: 2px;\" title=\"-2.0357\">apps</span> <span style=\"background-color: rgb(175, 175, 255); color: black; padding: 2px;\" title=\"-1.5623\">_said</span> <span style=\"background-color: rgb(182, 182, 255); color: black; padding: 2px;\" title=\"-1.4265\">_Mr</span> <span style=\"background-color: rgb(132, 132, 255); color: black; padding: 2px;\" title=\"-2.3970\">_Bar</span> <span style=\"background-color: rgb(174, 174, 255); color: black; padding: 2px;\" title=\"-1.5731\">ro</span> <span style=\"background-color: rgb(183, 183, 255); color: black; padding: 2px;\" title=\"-1.3943\">so</span> <span style=\"background-color: rgb(183, 183, 255); color: black; padding: 2px;\" title=\"-1.4052\">_was</span> <span style=\"background-color: rgb(201, 201, 255); color: black; padding: 2px;\" title=\"-1.0475\">_\"</span> <span style=\"background-color: rgb(140, 140, 255); color: black; padding: 2px;\" title=\"-2.2519\">out</span> <span style=\"background-color: rgb(127, 127, 255); color: black; padding: 2px;\" title=\"-2.4999\">_of</span> <span style=\"background-color: rgb(167, 167, 255); color: black; padding: 2px;\" title=\"-1.7177\">_touch</span> <span style=\"background-color: rgb(167, 167, 255); color: black; padding: 2px;\" title=\"-1.7228\">\"</span> <span style=\"background-color: rgb(175, 175, 255); color: black; padding: 2px;\" title=\"-1.5602\">_and</span> <span style=\"background-color: rgb(0, 0, 255); color: white; padding: 2px;\" title=\"-5.0000\">_an</span> <span style=\"background-color: rgb(255, 202, 202); color: black; padding: 2px;\" title=\"1.0325\">_\"</span> <span style=\"background-color: rgb(238, 238, 255); color: black; padding: 2px;\" title=\"-0.3332\">une</span> <span style=\"background-color: rgb(245, 245, 255); color: black; padding: 2px;\" title=\"-0.1873\">lected</span> </div>"
      ],
      "text/plain": [
       "<IPython.core.display.HTML object>"
      ]
     },
     "metadata": {},
     "output_type": "display_data"
    },
    {
     "data": {
      "text/html": [
       "<div><span style=\"background-color: rgb(192, 192, 255); color: black; padding: 2px;\" title=\"-1.2302\"><|endoftext|></span> <span style=\"background-color: rgb(225, 225, 255); color: black; padding: 2px;\" title=\"-0.5835\">Cl</span> <span style=\"background-color: rgb(168, 168, 255); color: black; padding: 2px;\" title=\"-1.7051\">arity</span> <span style=\"background-color: rgb(179, 179, 255); color: black; padding: 2px;\" title=\"-1.4830\">_is</span> <span style=\"background-color: rgb(175, 175, 255); color: black; padding: 2px;\" title=\"-1.5593\">_a</span> <span style=\"background-color: rgb(213, 213, 255); color: black; padding: 2px;\" title=\"-0.8055\">_short</span> <span style=\"background-color: rgb(168, 168, 255); color: black; padding: 2px;\" title=\"-1.6937\">_film</span> <span style=\"background-color: rgb(181, 181, 255); color: black; padding: 2px;\" title=\"-1.4319\">_project</span> <span style=\"background-color: rgb(178, 178, 255); color: black; padding: 2px;\" title=\"-1.5003\">,</span> <span style=\"background-color: rgb(133, 133, 255); color: black; padding: 2px;\" title=\"-2.3773\">_estimated</span> <span style=\"background-color: rgb(143, 143, 255); color: black; padding: 2px;\" title=\"-2.1896\">_at</span> <span style=\"background-color: rgb(193, 193, 255); color: black; padding: 2px;\" title=\"-1.2062\">_under</span> <span style=\"background-color: rgb(155, 155, 255); color: black; padding: 2px;\" title=\"-1.9518\">_a</span> <span style=\"background-color: rgb(255, 204, 204); color: black; padding: 2px;\" title=\"0.9817\">_half</span> <span style=\"background-color: rgb(186, 186, 255); color: black; padding: 2px;\" title=\"-1.3378\">_hour</span> <span style=\"background-color: rgb(161, 161, 255); color: black; padding: 2px;\" title=\"-1.8343\">_run</span> </div>"
      ],
      "text/plain": [
       "<IPython.core.display.HTML object>"
      ]
     },
     "metadata": {},
     "output_type": "display_data"
    },
    {
     "data": {
      "text/html": [
       "<div><span style=\"background-color: rgb(192, 192, 255); color: black; padding: 2px;\" title=\"-1.2302\"><|endoftext|></span> <span style=\"background-color: rgb(192, 192, 255); color: black; padding: 2px;\" title=\"-1.2282\">K</span> <span style=\"background-color: rgb(85, 85, 255); color: white; padding: 2px;\" title=\"-3.3246\">UAL</span> <span style=\"background-color: rgb(164, 164, 255); color: black; padding: 2px;\" title=\"-1.7815\">A</span> <span style=\"background-color: rgb(166, 166, 255); color: black; padding: 2px;\" title=\"-1.7297\">_L</span> <span style=\"background-color: rgb(66, 66, 255); color: white; padding: 2px;\" title=\"-3.7048\">UMP</span> <span style=\"background-color: rgb(162, 162, 255); color: black; padding: 2px;\" title=\"-1.8050\">UR</span> <span style=\"background-color: rgb(199, 199, 255); color: black; padding: 2px;\" title=\"-1.0786\">_(</span> <span style=\"background-color: rgb(108, 108, 255); color: white; padding: 2px;\" title=\"-2.8719\">Reuters</span> <span style=\"background-color: rgb(203, 203, 255); color: black; padding: 2px;\" title=\"-1.0055\">)</span> <span style=\"background-color: rgb(182, 182, 255); color: black; padding: 2px;\" title=\"-1.4125\">_-</span> <span style=\"background-color: rgb(152, 152, 255); color: black; padding: 2px;\" title=\"-2.0003\">_A</span> <span style=\"background-color: rgb(190, 190, 255); color: black; padding: 2px;\" title=\"-1.2668\">_missing</span> <span style=\"background-color: rgb(205, 205, 255); color: black; padding: 2px;\" title=\"-0.9673\">_Malaysian</span> <span style=\"background-color: rgb(213, 213, 255); color: black; padding: 2px;\" title=\"-0.8127\">_airliner</span> <span style=\"background-color: rgb(138, 138, 255); color: black; padding: 2px;\" title=\"-2.2939\">_appears</span> <span style=\"background-color: rgb(149, 149, 255); color: black; padding: 2px;\" title=\"-2.0764\">_to</span> <span style=\"background-color: rgb(189, 189, 255); color: black; padding: 2px;\" title=\"-1.2757\">_have</span> <span style=\"background-color: rgb(172, 172, 255); color: black; padding: 2px;\" title=\"-1.6219\">_been</span> <span style=\"background-color: rgb(194, 194, 255); color: black; padding: 2px;\" title=\"-1.1888\">_deliberately</span> <span style=\"background-color: rgb(142, 142, 255); color: black; padding: 2px;\" title=\"-2.2012\">_steered</span> <span style=\"background-color: rgb(162, 162, 255); color: black; padding: 2px;\" title=\"-1.8158\">_off</span> <span style=\"background-color: rgb(139, 139, 255); color: black; padding: 2px;\" title=\"-2.2735\">_course</span> <span style=\"background-color: rgb(183, 183, 255); color: black; padding: 2px;\" title=\"-1.3993\">_after</span> <span style=\"background-color: rgb(186, 186, 255); color: black; padding: 2px;\" title=\"-1.3528\">_someone</span> <span style=\"background-color: rgb(172, 172, 255); color: black; padding: 2px;\" title=\"-1.6149\">_on</span> <span style=\"background-color: rgb(187, 187, 255); color: black; padding: 2px;\" title=\"-1.3249\">_board</span> <span style=\"background-color: rgb(158, 158, 255); color: black; padding: 2px;\" title=\"-1.8888\">_shut</span> <span style=\"background-color: rgb(213, 213, 255); color: black; padding: 2px;\" title=\"-0.8071\">_down</span> <span style=\"background-color: rgb(223, 223, 255); color: black; padding: 2px;\" title=\"-0.6239\">_its</span> <span style=\"background-color: rgb(137, 137, 255); color: black; padding: 2px;\" title=\"-2.3107\">_communications</span> <span style=\"background-color: rgb(190, 190, 255); color: black; padding: 2px;\" title=\"-1.2674\">,</span> <span style=\"background-color: rgb(157, 157, 255); color: black; padding: 2px;\" title=\"-1.9069\">_Prime</span> <span style=\"background-color: rgb(180, 180, 255); color: black; padding: 2px;\" title=\"-1.4556\">_Minister</span> <span style=\"background-color: rgb(209, 209, 255); color: black; padding: 2px;\" title=\"-0.8983\">_Naj</span> <span style=\"background-color: rgb(205, 205, 255); color: black; padding: 2px;\" title=\"-0.9687\">ib</span> <span style=\"background-color: rgb(252, 252, 255); color: black; padding: 2px;\" title=\"-0.0587\">_Raz</span> <span style=\"background-color: rgb(163, 163, 255); color: black; padding: 2px;\" title=\"-1.7967\">ak</span> <span style=\"background-color: rgb(157, 157, 255); color: black; padding: 2px;\" title=\"-1.9189\">_said</span> <span style=\"background-color: rgb(146, 146, 255); color: black; padding: 2px;\" title=\"-2.1182\">_on</span> <span style=\"background-color: rgb(142, 142, 255); color: black; padding: 2px;\" title=\"-2.1998\">_Saturday</span> <span style=\"background-color: rgb(179, 179, 255); color: black; padding: 2px;\" title=\"-1.4857\">.</span> <span style=\"background-color: rgb(159, 159, 255); color: black; padding: 2px;\" title=\"-1.8790\">_</span> <span style=\"background-color: rgb(202, 202, 255); color: black; padding: 2px;\" title=\"-1.0343\">_</span> <span style=\"background-color: rgb(174, 174, 255); color: black; padding: 2px;\" title=\"-1.5704\">A</span> <span style=\"background-color: rgb(143, 143, 255); color: black; padding: 2px;\" title=\"-2.1909\">_week</span> <span style=\"background-color: rgb(195, 195, 255); color: black; padding: 2px;\" title=\"-1.1570\">_after</span> <span style=\"background-color: rgb(192, 192, 255); color: black; padding: 2px;\" title=\"-1.2293\">_the</span> <span style=\"background-color: rgb(175, 175, 255); color: black; padding: 2px;\" title=\"-1.5591\">_disappearance</span> <span style=\"background-color: rgb(172, 172, 255); color: black; padding: 2px;\" title=\"-1.6208\">_of</span> <span style=\"background-color: rgb(175, 175, 255); color: black; padding: 2px;\" title=\"-1.5534\">_flight</span> <span style=\"background-color: rgb(185, 185, 255); color: black; padding: 2px;\" title=\"-1.3600\">_MH</span> <span style=\"background-color: rgb(168, 168, 255); color: black; padding: 2px;\" title=\"-1.6983\">370</span> <span style=\"background-color: rgb(173, 173, 255); color: black; padding: 2px;\" title=\"-1.5933\">,</span> <span style=\"background-color: rgb(186, 186, 255); color: black; padding: 2px;\" title=\"-1.3341\">_Naj</span> <span style=\"background-color: rgb(158, 158, 255); color: black; padding: 2px;\" title=\"-1.8837\">ib</span> <span style=\"background-color: rgb(200, 200, 255); color: black; padding: 2px;\" title=\"-1.0747\">_said</span> <span style=\"background-color: rgb(221, 221, 255); color: black; padding: 2px;\" title=\"-0.6482\">_its</span> <span style=\"background-color: rgb(187, 187, 255); color: black; padding: 2px;\" title=\"-1.3329\">_last</span> <span style=\"background-color: rgb(183, 183, 255); color: black; padding: 2px;\" title=\"-1.4108\">_transmission</span> <span style=\"background-color: rgb(206, 206, 255); color: black; padding: 2px;\" title=\"-0.9511\">_of</span> <span style=\"background-color: rgb(199, 199, 255); color: black; padding: 2px;\" title=\"-1.0829\">_satellite</span> <span style=\"background-color: rgb(170, 170, 255); color: black; padding: 2px;\" title=\"-1.6485\">_data</span> <span style=\"background-color: rgb(123, 123, 255); color: black; padding: 2px;\" title=\"-2.5838\">_came</span> <span style=\"background-color: rgb(255, 206, 206); color: black; padding: 2px;\" title=\"0.9484\">_nearly</span> <span style=\"background-color: rgb(255, 244, 244); color: black; padding: 2px;\" title=\"0.1966\">_seven</span> <span style=\"background-color: rgb(150, 150, 255); color: black; padding: 2px;\" title=\"-2.0458\">_hours</span> </div>"
      ],
      "text/plain": [
       "<IPython.core.display.HTML object>"
      ]
     },
     "metadata": {},
     "output_type": "display_data"
    },
    {
     "data": {
      "text/html": [
       "<div><span style=\"background-color: rgb(192, 192, 255); color: black; padding: 2px;\" title=\"-1.2302\"><|endoftext|></span> <span style=\"background-color: rgb(182, 182, 255); color: black; padding: 2px;\" title=\"-1.4236\">White</span> <span style=\"background-color: rgb(196, 196, 255); color: black; padding: 2px;\" title=\"-1.1469\">_House</span> <span style=\"background-color: rgb(171, 171, 255); color: black; padding: 2px;\" title=\"-1.6386\">_Office</span> <span style=\"background-color: rgb(196, 196, 255); color: black; padding: 2px;\" title=\"-1.1472\">_of</span> <span style=\"background-color: rgb(227, 227, 255); color: black; padding: 2px;\" title=\"-0.5375\">_Management</span> <span style=\"background-color: rgb(186, 186, 255); color: black; padding: 2px;\" title=\"-1.3485\">_and</span> <span style=\"background-color: rgb(211, 211, 255); color: black; padding: 2px;\" title=\"-0.8434\">_Budget</span> <span style=\"background-color: rgb(255, 210, 210); color: black; padding: 2px;\" title=\"0.8635\">_Director</span> <span style=\"background-color: rgb(223, 223, 255); color: black; padding: 2px;\" title=\"-0.6157\">_Mick</span> <span style=\"background-color: rgb(193, 193, 255); color: black; padding: 2px;\" title=\"-1.2149\">_Mul</span> </div>"
      ],
      "text/plain": [
       "<IPython.core.display.HTML object>"
      ]
     },
     "metadata": {},
     "output_type": "display_data"
    },
    {
     "data": {
      "text/html": [
       "<div><span style=\"background-color: rgb(192, 192, 255); color: black; padding: 2px;\" title=\"-1.2302\"><|endoftext|></span> <span style=\"background-color: rgb(168, 168, 255); color: black; padding: 2px;\" title=\"-1.6973\">David</span> <span style=\"background-color: rgb(154, 154, 255); color: black; padding: 2px;\" title=\"-1.9649\">_Cameron</span> <span style=\"background-color: rgb(145, 145, 255); color: black; padding: 2px;\" title=\"-2.1530\">_is</span> <span style=\"background-color: rgb(166, 166, 255); color: black; padding: 2px;\" title=\"-1.7307\">_�</span> <span style=\"background-color: rgb(175, 175, 255); color: black; padding: 2px;\" title=\"-1.5529\">�</span> <span style=\"background-color: rgb(159, 159, 255); color: black; padding: 2px;\" title=\"-1.8702\">living</span> <span style=\"background-color: rgb(129, 129, 255); color: black; padding: 2px;\" title=\"-2.4625\">_in</span> <span style=\"background-color: rgb(143, 143, 255); color: black; padding: 2px;\" title=\"-2.1856\">_cloud</span> <span style=\"background-color: rgb(166, 166, 255); color: black; padding: 2px;\" title=\"-1.7282\">_c</span> <span style=\"background-color: rgb(161, 161, 255); color: black; padding: 2px;\" title=\"-1.8308\">uck</span> <span style=\"background-color: rgb(134, 134, 255); color: black; padding: 2px;\" title=\"-2.3705\">oo</span> <span style=\"background-color: rgb(144, 144, 255); color: black; padding: 2px;\" title=\"-2.1648\">_land</span> <span style=\"background-color: rgb(184, 184, 255); color: black; padding: 2px;\" title=\"-1.3766\">�</span> <span style=\"background-color: rgb(146, 146, 255); color: black; padding: 2px;\" title=\"-2.1254\">�</span> <span style=\"background-color: rgb(162, 162, 255); color: black; padding: 2px;\" title=\"-1.8202\">_when</span> <span style=\"background-color: rgb(193, 193, 255); color: black; padding: 2px;\" title=\"-1.2002\">_he</span> <span style=\"background-color: rgb(166, 166, 255); color: black; padding: 2px;\" title=\"-1.7422\">_suggests</span> <span style=\"background-color: rgb(145, 145, 255); color: black; padding: 2px;\" title=\"-2.1501\">_a</span> <span style=\"background-color: rgb(207, 207, 255); color: black; padding: 2px;\" title=\"-0.9286\">_new</span> <span style=\"background-color: rgb(203, 203, 255); color: black; padding: 2px;\" title=\"-1.0031\">_Tory</span> <span style=\"background-color: rgb(163, 163, 255); color: black; padding: 2px;\" title=\"-1.7892\">_government</span> <span style=\"background-color: rgb(136, 136, 255); color: black; padding: 2px;\" title=\"-2.3220\">_would</span> <span style=\"background-color: rgb(173, 173, 255); color: black; padding: 2px;\" title=\"-1.5933\">_ban</span> <span style=\"background-color: rgb(182, 182, 255); color: black; padding: 2px;\" title=\"-1.4131\">_messaging</span> <span style=\"background-color: rgb(184, 184, 255); color: black; padding: 2px;\" title=\"-1.3895\">_apps</span> <span style=\"background-color: rgb(173, 173, 255); color: black; padding: 2px;\" title=\"-1.5937\">_that</span> <span style=\"background-color: rgb(188, 188, 255); color: black; padding: 2px;\" title=\"-1.2977\">_use</span> <span style=\"background-color: rgb(155, 155, 255); color: black; padding: 2px;\" title=\"-1.9444\">_encryption</span> <span style=\"background-color: rgb(166, 166, 255); color: black; padding: 2px;\" title=\"-1.7382\">,</span> <span style=\"background-color: rgb(187, 187, 255); color: black; padding: 2px;\" title=\"-1.3222\">_security</span> <span style=\"background-color: rgb(186, 186, 255); color: black; padding: 2px;\" title=\"-1.3457\">_experts</span> <span style=\"background-color: rgb(181, 181, 255); color: black; padding: 2px;\" title=\"-1.4391\">_have</span> <span style=\"background-color: rgb(141, 141, 255); color: black; padding: 2px;\" title=\"-2.2309\">_told</span> <span style=\"background-color: rgb(220, 220, 255); color: black; padding: 2px;\" title=\"-0.6676\">_the</span> <span style=\"background-color: rgb(143, 143, 255); color: black; padding: 2px;\" title=\"-2.1939\">_Guardian</span> <span style=\"background-color: rgb(194, 194, 255); color: black; padding: 2px;\" title=\"-1.1955\">.</span> <span style=\"background-color: rgb(163, 163, 255); color: black; padding: 2px;\" title=\"-1.7944\">_</span> <span style=\"background-color: rgb(204, 204, 255); color: black; padding: 2px;\" title=\"-0.9853\">_</span> <span style=\"background-color: rgb(227, 227, 255); color: black; padding: 2px;\" title=\"-0.5338\">The</span> <span style=\"background-color: rgb(177, 177, 255); color: black; padding: 2px;\" title=\"-1.5208\">_prime</span> <span style=\"background-color: rgb(177, 177, 255); color: black; padding: 2px;\" title=\"-1.5168\">_minister</span> <span style=\"background-color: rgb(158, 158, 255); color: black; padding: 2px;\" title=\"-1.8889\">_has</span> <span style=\"background-color: rgb(157, 157, 255); color: black; padding: 2px;\" title=\"-1.9089\">_pledged</span> <span style=\"background-color: rgb(166, 166, 255); color: black; padding: 2px;\" title=\"-1.7305\">_anti</span> <span style=\"background-color: rgb(205, 205, 255); color: black; padding: 2px;\" title=\"-0.9733\">-</span> <span style=\"background-color: rgb(187, 187, 255); color: black; padding: 2px;\" title=\"-1.3314\">terror</span> <span style=\"background-color: rgb(164, 164, 255); color: black; padding: 2px;\" title=\"-1.7710\">_laws</span> <span style=\"background-color: rgb(159, 159, 255); color: black; padding: 2px;\" title=\"-1.8671\">_to</span> <span style=\"background-color: rgb(180, 180, 255); color: black; padding: 2px;\" title=\"-1.4530\">_give</span> <span style=\"background-color: rgb(207, 207, 255); color: black; padding: 2px;\" title=\"-0.9229\">_the</span> <span style=\"background-color: rgb(192, 192, 255); color: black; padding: 2px;\" title=\"-1.2283\">_security</span> <span style=\"background-color: rgb(166, 166, 255); color: black; padding: 2px;\" title=\"-1.7350\">_services</span> <span style=\"background-color: rgb(201, 201, 255); color: black; padding: 2px;\" title=\"-1.0585\">_the</span> <span style=\"background-color: rgb(171, 171, 255); color: black; padding: 2px;\" title=\"-1.6396\">_ability</span> <span style=\"background-color: rgb(164, 164, 255); color: black; padding: 2px;\" title=\"-1.7755\">_to</span> <span style=\"background-color: rgb(212, 212, 255); color: black; padding: 2px;\" title=\"-0.8237\">_read</span> <span style=\"background-color: rgb(195, 195, 255); color: black; padding: 2px;\" title=\"-1.1574\">_encrypted</span> <span style=\"background-color: rgb(149, 149, 255); color: black; padding: 2px;\" title=\"-2.0720\">_communications</span> <span style=\"background-color: rgb(251, 251, 255); color: black; padding: 2px;\" title=\"-0.0783\">_in</span> <span style=\"background-color: rgb(226, 226, 255); color: black; padding: 2px;\" title=\"-0.5650\">_extreme</span> <span style=\"background-color: rgb(159, 159, 255); color: black; padding: 2px;\" title=\"-1.8812\">_circumstances</span> <span style=\"background-color: rgb(181, 181, 255); color: black; padding: 2px;\" title=\"-1.4397\">.</span> <span style=\"background-color: rgb(157, 157, 255); color: black; padding: 2px;\" title=\"-1.9053\">_But</span> <span style=\"background-color: rgb(175, 175, 255); color: black; padding: 2px;\" title=\"-1.5526\">_experts</span> <span style=\"background-color: rgb(149, 149, 255); color: black; padding: 2px;\" title=\"-2.0671\">_say</span> <span style=\"background-color: rgb(154, 154, 255); color: black; padding: 2px;\" title=\"-1.9785\">_such</span> <span style=\"background-color: rgb(171, 171, 255); color: black; padding: 2px;\" title=\"-1.6401\">_access</span> <span style=\"background-color: rgb(156, 156, 255); color: black; padding: 2px;\" title=\"-1.9279\">_would</span> <span style=\"background-color: rgb(167, 167, 255); color: black; padding: 2px;\" title=\"-1.7096\">_mean</span> <span style=\"background-color: rgb(185, 185, 255); color: black; padding: 2px;\" title=\"-1.3628\">_changing</span> <span style=\"background-color: rgb(200, 200, 255); color: black; padding: 2px;\" title=\"-1.0679\">_the</span> <span style=\"background-color: rgb(182, 182, 255); color: black; padding: 2px;\" title=\"-1.4146\">_way</span> <span style=\"background-color: rgb(170, 170, 255); color: black; padding: 2px;\" title=\"-1.6483\">_internet</span> <span style=\"background-color: rgb(144, 144, 255); color: black; padding: 2px;\" title=\"-2.1756\">-</span> <span style=\"background-color: rgb(193, 193, 255); color: black; padding: 2px;\" title=\"-1.2062\">based</span> <span style=\"background-color: rgb(186, 186, 255); color: black; padding: 2px;\" title=\"-1.3499\">_messaging</span> <span style=\"background-color: rgb(172, 172, 255); color: black; padding: 2px;\" title=\"-1.6223\">_services</span> <span style=\"background-color: rgb(177, 177, 255); color: black; padding: 2px;\" title=\"-1.5198\">_such</span> <span style=\"background-color: rgb(174, 174, 255); color: black; padding: 2px;\" title=\"-1.5756\">_as</span> <span style=\"background-color: rgb(229, 229, 255); color: black; padding: 2px;\" title=\"-0.4962\">_Apple</span> <span style=\"background-color: rgb(198, 198, 255); color: black; padding: 2px;\" title=\"-1.1027\">�</span> <span style=\"background-color: rgb(255, 215, 215); color: black; padding: 2px;\" title=\"0.7726\">�</span> <span style=\"background-color: rgb(238, 238, 255); color: black; padding: 2px;\" title=\"-0.3191\">s</span> <span style=\"background-color: rgb(199, 199, 255); color: black; padding: 2px;\" title=\"-1.0864\">_i</span> </div>"
      ],
      "text/plain": [
       "<IPython.core.display.HTML object>"
      ]
     },
     "metadata": {},
     "output_type": "display_data"
    }
   ],
   "source": [
    "temp_df = token_df.sort_values(\"logit_diff\", ascending=False).head(20)\n",
    "import circuitsvis as cv\n",
    "for row in temp_df.iterrows():\n",
    "    b = int(row[1][\"batch\"])\n",
    "    p = int(row[1][\"pos\"])\n",
    "    #print(b, p)\n",
    "    str_toks = model.to_str_tokens(tokens[b, :p+3])\n",
    "    vals = logit_diff[b, :p+3]\n",
    "    haystack_utils.print_strings_as_html(str_toks, vals.tolist(), max_value=5)\n",
    "    #nutils.create_html(str_toks, vals)\n",
    "    #display(cv.tokens.colored_tokens(str_toks, vals))\n"
   ]
  },
  {
   "cell_type": "code",
   "execution_count": 14,
   "metadata": {},
   "outputs": [
    {
     "name": "stdout",
     "output_type": "stream",
     "text": [
      "Tokenized prompt: ['<|endoftext|>', 'Ross', ' Per', 'ot', ',', ' who', ' ran', ' as']\n",
      "Tokenized answer: [' an']\n"
     ]
    },
    {
     "data": {
      "text/html": [
       "<pre style=\"white-space:pre;overflow-x:auto;line-height:normal;font-family:Menlo,'DejaVu Sans Mono',consolas,'Courier New',monospace\">Performance on answer token:\n",
       "<span style=\"font-weight: bold\">Rank: </span><span style=\"color: #008080; text-decoration-color: #008080; font-weight: bold\">0</span><span style=\"font-weight: bold\">        Logit: </span><span style=\"color: #008080; text-decoration-color: #008080; font-weight: bold\">19.55</span><span style=\"font-weight: bold\"> Prob: </span><span style=\"color: #008080; text-decoration-color: #008080; font-weight: bold\">40.33</span><span style=\"font-weight: bold\">% Token: | an|</span>\n",
       "</pre>\n"
      ],
      "text/plain": [
       "Performance on answer token:\n",
       "\u001b[1mRank: \u001b[0m\u001b[1;36m0\u001b[0m\u001b[1m        Logit: \u001b[0m\u001b[1;36m19.55\u001b[0m\u001b[1m Prob: \u001b[0m\u001b[1;36m40.33\u001b[0m\u001b[1m% Token: | an|\u001b[0m\n"
      ]
     },
     "metadata": {},
     "output_type": "display_data"
    },
    {
     "name": "stdout",
     "output_type": "stream",
     "text": [
      "Top 0th token. Logit: 19.55 Prob: 40.33% Token: | an|\n",
      "Top 1th token. Logit: 19.40 Prob: 34.84% Token: | a|\n",
      "Top 2th token. Logit: 18.92 Prob: 21.50% Token: | the|\n",
      "Top 3th token. Logit: 14.48 Prob:  0.25% Token: | \"|\n",
      "Top 4th token. Logit: 14.37 Prob:  0.23% Token: | independent|\n",
      "Top 5th token. Logit: 14.29 Prob:  0.21% Token: | one|\n",
      "Top 6th token. Logit: 14.24 Prob:  0.20% Token: | Republican|\n",
      "Top 7th token. Logit: 13.91 Prob:  0.14% Token: | part|\n",
      "Top 8th token. Logit: 13.74 Prob:  0.12% Token: | president|\n",
      "Top 9th token. Logit: 13.63 Prob:  0.11% Token: | governor|\n"
     ]
    },
    {
     "data": {
      "text/html": [
       "<pre style=\"white-space:pre;overflow-x:auto;line-height:normal;font-family:Menlo,'DejaVu Sans Mono',consolas,'Courier New',monospace\"><span style=\"font-weight: bold\">Ranks of the answer tokens:</span> <span style=\"font-weight: bold\">[(</span><span style=\"color: #008000; text-decoration-color: #008000\">' an'</span>, <span style=\"color: #008080; text-decoration-color: #008080; font-weight: bold\">0</span><span style=\"font-weight: bold\">)]</span>\n",
       "</pre>\n"
      ],
      "text/plain": [
       "\u001b[1mRanks of the answer tokens:\u001b[0m \u001b[1m[\u001b[0m\u001b[1m(\u001b[0m\u001b[32m' an'\u001b[0m, \u001b[1;36m0\u001b[0m\u001b[1m)\u001b[0m\u001b[1m]\u001b[0m\n"
      ]
     },
     "metadata": {},
     "output_type": "display_data"
    },
    {
     "name": "stdout",
     "output_type": "stream",
     "text": [
      "Tokenized prompt: ['<|endoftext|>', 'Van', ' der', ' Bell', 'en', ',', ' who', ' ran', ' as']\n",
      "Tokenized answer: [' an']\n"
     ]
    },
    {
     "data": {
      "text/html": [
       "<pre style=\"white-space:pre;overflow-x:auto;line-height:normal;font-family:Menlo,'DejaVu Sans Mono',consolas,'Courier New',monospace\">Performance on answer token:\n",
       "<span style=\"font-weight: bold\">Rank: </span><span style=\"color: #008080; text-decoration-color: #008080; font-weight: bold\">0</span><span style=\"font-weight: bold\">        Logit: </span><span style=\"color: #008080; text-decoration-color: #008080; font-weight: bold\">19.88</span><span style=\"font-weight: bold\"> Prob: </span><span style=\"color: #008080; text-decoration-color: #008080; font-weight: bold\">56.12</span><span style=\"font-weight: bold\">% Token: | an|</span>\n",
       "</pre>\n"
      ],
      "text/plain": [
       "Performance on answer token:\n",
       "\u001b[1mRank: \u001b[0m\u001b[1;36m0\u001b[0m\u001b[1m        Logit: \u001b[0m\u001b[1;36m19.88\u001b[0m\u001b[1m Prob: \u001b[0m\u001b[1;36m56.12\u001b[0m\u001b[1m% Token: | an|\u001b[0m\n"
      ]
     },
     "metadata": {},
     "output_type": "display_data"
    },
    {
     "name": "stdout",
     "output_type": "stream",
     "text": [
      "Top 0th token. Logit: 19.88 Prob: 56.12% Token: | an|\n",
      "Top 1th token. Logit: 19.32 Prob: 32.06% Token: | a|\n",
      "Top 2th token. Logit: 17.98 Prob:  8.44% Token: | the|\n",
      "Top 3th token. Logit: 14.90 Prob:  0.39% Token: | part|\n",
      "Top 4th token. Logit: 14.38 Prob:  0.23% Token: | far|\n",
      "Top 5th token. Logit: 14.03 Prob:  0.16% Token: | one|\n",
      "Top 6th token. Logit: 13.68 Prob:  0.11% Token: | France|\n",
      "Top 7th token. Logit: 13.52 Prob:  0.10% Token: | Green|\n",
      "Top 8th token. Logit: 13.38 Prob:  0.08% Token: | independent|\n",
      "Top 9th token. Logit: 13.37 Prob:  0.08% Token: | first|\n"
     ]
    },
    {
     "data": {
      "text/html": [
       "<pre style=\"white-space:pre;overflow-x:auto;line-height:normal;font-family:Menlo,'DejaVu Sans Mono',consolas,'Courier New',monospace\"><span style=\"font-weight: bold\">Ranks of the answer tokens:</span> <span style=\"font-weight: bold\">[(</span><span style=\"color: #008000; text-decoration-color: #008000\">' an'</span>, <span style=\"color: #008080; text-decoration-color: #008080; font-weight: bold\">0</span><span style=\"font-weight: bold\">)]</span>\n",
       "</pre>\n"
      ],
      "text/plain": [
       "\u001b[1mRanks of the answer tokens:\u001b[0m \u001b[1m[\u001b[0m\u001b[1m(\u001b[0m\u001b[32m' an'\u001b[0m, \u001b[1;36m0\u001b[0m\u001b[1m)\u001b[0m\u001b[1m]\u001b[0m\n"
      ]
     },
     "metadata": {},
     "output_type": "display_data"
    },
    {
     "name": "stdout",
     "output_type": "stream",
     "text": [
      "Tokenized prompt: ['<|endoftext|>', 'Senator', ' Angus', ' King', ',', ' who', ' ran', ' as']\n",
      "Tokenized answer: [' an']\n"
     ]
    },
    {
     "data": {
      "text/html": [
       "<pre style=\"white-space:pre;overflow-x:auto;line-height:normal;font-family:Menlo,'DejaVu Sans Mono',consolas,'Courier New',monospace\">Performance on answer token:\n",
       "<span style=\"font-weight: bold\">Rank: </span><span style=\"color: #008080; text-decoration-color: #008080; font-weight: bold\">0</span><span style=\"font-weight: bold\">        Logit: </span><span style=\"color: #008080; text-decoration-color: #008080; font-weight: bold\">20.19</span><span style=\"font-weight: bold\"> Prob: </span><span style=\"color: #008080; text-decoration-color: #008080; font-weight: bold\">51.02</span><span style=\"font-weight: bold\">% Token: | an|</span>\n",
       "</pre>\n"
      ],
      "text/plain": [
       "Performance on answer token:\n",
       "\u001b[1mRank: \u001b[0m\u001b[1;36m0\u001b[0m\u001b[1m        Logit: \u001b[0m\u001b[1;36m20.19\u001b[0m\u001b[1m Prob: \u001b[0m\u001b[1;36m51.02\u001b[0m\u001b[1m% Token: | an|\u001b[0m\n"
      ]
     },
     "metadata": {},
     "output_type": "display_data"
    },
    {
     "name": "stdout",
     "output_type": "stream",
     "text": [
      "Top 0th token. Logit: 20.19 Prob: 51.02% Token: | an|\n",
      "Top 1th token. Logit: 19.81 Prob: 34.86% Token: | a|\n",
      "Top 2th token. Logit: 18.67 Prob: 11.22% Token: | the|\n",
      "Top 3th token. Logit: 15.71 Prob:  0.58% Token: | independent|\n",
      "Top 4th token. Logit: 15.49 Prob:  0.47% Token: | one|\n",
      "Top 5th token. Logit: 14.38 Prob:  0.15% Token: | part|\n",
      "Top 6th token. Logit: 14.37 Prob:  0.15% Token: | \"|\n",
      "Top 7th token. Logit: 13.50 Prob:  0.06% Token: | Maine|\n",
      "Top 8th token. Logit: 13.44 Prob:  0.06% Token: | Independent|\n",
      "Top 9th token. Logit: 13.38 Prob:  0.06% Token: | independence|\n"
     ]
    },
    {
     "data": {
      "text/html": [
       "<pre style=\"white-space:pre;overflow-x:auto;line-height:normal;font-family:Menlo,'DejaVu Sans Mono',consolas,'Courier New',monospace\"><span style=\"font-weight: bold\">Ranks of the answer tokens:</span> <span style=\"font-weight: bold\">[(</span><span style=\"color: #008000; text-decoration-color: #008000\">' an'</span>, <span style=\"color: #008080; text-decoration-color: #008080; font-weight: bold\">0</span><span style=\"font-weight: bold\">)]</span>\n",
       "</pre>\n"
      ],
      "text/plain": [
       "\u001b[1mRanks of the answer tokens:\u001b[0m \u001b[1m[\u001b[0m\u001b[1m(\u001b[0m\u001b[32m' an'\u001b[0m, \u001b[1;36m0\u001b[0m\u001b[1m)\u001b[0m\u001b[1m]\u001b[0m\n"
      ]
     },
     "metadata": {},
     "output_type": "display_data"
    },
    {
     "name": "stdout",
     "output_type": "stream",
     "text": [
      "Tokenized prompt: ['<|endoftext|>', 'Spot', ' gold', ' was', ' up', ' 0', '.', '7', ' percent', ' at', ' $', '1', ',', '340', '.', '90']\n",
      "Tokenized answer: [' an']\n"
     ]
    },
    {
     "data": {
      "text/html": [
       "<pre style=\"white-space:pre;overflow-x:auto;line-height:normal;font-family:Menlo,'DejaVu Sans Mono',consolas,'Courier New',monospace\">Performance on answer token:\n",
       "<span style=\"font-weight: bold\">Rank: </span><span style=\"color: #008080; text-decoration-color: #008080; font-weight: bold\">0</span><span style=\"font-weight: bold\">        Logit: </span><span style=\"color: #008080; text-decoration-color: #008080; font-weight: bold\">20.36</span><span style=\"font-weight: bold\"> Prob: </span><span style=\"color: #008080; text-decoration-color: #008080; font-weight: bold\">73.39</span><span style=\"font-weight: bold\">% Token: | an|</span>\n",
       "</pre>\n"
      ],
      "text/plain": [
       "Performance on answer token:\n",
       "\u001b[1mRank: \u001b[0m\u001b[1;36m0\u001b[0m\u001b[1m        Logit: \u001b[0m\u001b[1;36m20.36\u001b[0m\u001b[1m Prob: \u001b[0m\u001b[1;36m73.39\u001b[0m\u001b[1m% Token: | an|\u001b[0m\n"
      ]
     },
     "metadata": {},
     "output_type": "display_data"
    },
    {
     "name": "stdout",
     "output_type": "stream",
     "text": [
      "Top 0th token. Logit: 20.36 Prob: 73.39% Token: | an|\n",
      "Top 1th token. Logit: 17.82 Prob:  5.79% Token: | in|\n",
      "Top 2th token. Logit: 17.74 Prob:  5.37% Token: | a|\n",
      "Top 3th token. Logit: 17.44 Prob:  3.98% Token: |,|\n",
      "Top 4th token. Logit: 16.73 Prob:  1.96% Token: |.|\n",
      "Top 5th token. Logit: 16.71 Prob:  1.91% Token: | on|\n",
      "Top 6th token. Logit: 16.46 Prob:  1.49% Token: | per|\n",
      "Top 7th token. Logit: 16.39 Prob:  1.39% Token: | at|\n",
      "Top 8th token. Logit: 16.26 Prob:  1.21% Token: | and|\n",
      "Top 9th token. Logit: 15.06 Prob:  0.37% Token: | as|\n"
     ]
    },
    {
     "data": {
      "text/html": [
       "<pre style=\"white-space:pre;overflow-x:auto;line-height:normal;font-family:Menlo,'DejaVu Sans Mono',consolas,'Courier New',monospace\"><span style=\"font-weight: bold\">Ranks of the answer tokens:</span> <span style=\"font-weight: bold\">[(</span><span style=\"color: #008000; text-decoration-color: #008000\">' an'</span>, <span style=\"color: #008080; text-decoration-color: #008080; font-weight: bold\">0</span><span style=\"font-weight: bold\">)]</span>\n",
       "</pre>\n"
      ],
      "text/plain": [
       "\u001b[1mRanks of the answer tokens:\u001b[0m \u001b[1m[\u001b[0m\u001b[1m(\u001b[0m\u001b[32m' an'\u001b[0m, \u001b[1;36m0\u001b[0m\u001b[1m)\u001b[0m\u001b[1m]\u001b[0m\n"
      ]
     },
     "metadata": {},
     "output_type": "display_data"
    },
    {
     "name": "stdout",
     "output_type": "stream",
     "text": [
      "Tokenized prompt: ['<|endoftext|>', 'An', ' eye', ' for']\n",
      "Tokenized answer: [' an']\n"
     ]
    },
    {
     "data": {
      "text/html": [
       "<pre style=\"white-space:pre;overflow-x:auto;line-height:normal;font-family:Menlo,'DejaVu Sans Mono',consolas,'Courier New',monospace\">Performance on answer token:\n",
       "<span style=\"font-weight: bold\">Rank: </span><span style=\"color: #008080; text-decoration-color: #008080; font-weight: bold\">0</span><span style=\"font-weight: bold\">        Logit: </span><span style=\"color: #008080; text-decoration-color: #008080; font-weight: bold\">17.03</span><span style=\"font-weight: bold\"> Prob: </span><span style=\"color: #008080; text-decoration-color: #008080; font-weight: bold\">83.44</span><span style=\"font-weight: bold\">% Token: | an|</span>\n",
       "</pre>\n"
      ],
      "text/plain": [
       "Performance on answer token:\n",
       "\u001b[1mRank: \u001b[0m\u001b[1;36m0\u001b[0m\u001b[1m        Logit: \u001b[0m\u001b[1;36m17.03\u001b[0m\u001b[1m Prob: \u001b[0m\u001b[1;36m83.44\u001b[0m\u001b[1m% Token: | an|\u001b[0m\n"
      ]
     },
     "metadata": {},
     "output_type": "display_data"
    },
    {
     "name": "stdout",
     "output_type": "stream",
     "text": [
      "Top 0th token. Logit: 17.03 Prob: 83.44% Token: | an|\n",
      "Top 1th token. Logit: 14.21 Prob:  4.99% Token: | a|\n",
      "Top 2th token. Logit: 13.28 Prob:  1.98% Token: | detail|\n",
      "Top 3th token. Logit: 12.65 Prob:  1.05% Token: | the|\n",
      "Top 4th token. Logit: 11.68 Prob:  0.40% Token: | eye|\n",
      "Top 5th token. Logit: 10.85 Prob:  0.17% Token: | beauty|\n",
      "Top 6th token. Logit: 10.81 Prob:  0.17% Token: | color|\n",
      "Top 7th token. Logit: 10.69 Prob:  0.15% Token: | colour|\n",
      "Top 8th token. Logit: 10.58 Prob:  0.13% Token: | improvement|\n",
      "Top 9th token. Logit: 10.14 Prob:  0.09% Token: | art|\n"
     ]
    },
    {
     "data": {
      "text/html": [
       "<pre style=\"white-space:pre;overflow-x:auto;line-height:normal;font-family:Menlo,'DejaVu Sans Mono',consolas,'Courier New',monospace\"><span style=\"font-weight: bold\">Ranks of the answer tokens:</span> <span style=\"font-weight: bold\">[(</span><span style=\"color: #008000; text-decoration-color: #008000\">' an'</span>, <span style=\"color: #008080; text-decoration-color: #008080; font-weight: bold\">0</span><span style=\"font-weight: bold\">)]</span>\n",
       "</pre>\n"
      ],
      "text/plain": [
       "\u001b[1mRanks of the answer tokens:\u001b[0m \u001b[1m[\u001b[0m\u001b[1m(\u001b[0m\u001b[32m' an'\u001b[0m, \u001b[1;36m0\u001b[0m\u001b[1m)\u001b[0m\u001b[1m]\u001b[0m\n"
      ]
     },
     "metadata": {},
     "output_type": "display_data"
    },
    {
     "name": "stdout",
     "output_type": "stream",
     "text": [
      "Tokenized prompt: ['<|endoftext|>', 'Every', ' action', ' has']\n",
      "Tokenized answer: [' an']\n"
     ]
    },
    {
     "data": {
      "text/html": [
       "<pre style=\"white-space:pre;overflow-x:auto;line-height:normal;font-family:Menlo,'DejaVu Sans Mono',consolas,'Courier New',monospace\">Performance on answer token:\n",
       "<span style=\"font-weight: bold\">Rank: </span><span style=\"color: #008080; text-decoration-color: #008080; font-weight: bold\">0</span><span style=\"font-weight: bold\">        Logit: </span><span style=\"color: #008080; text-decoration-color: #008080; font-weight: bold\">18.27</span><span style=\"font-weight: bold\"> Prob: </span><span style=\"color: #008080; text-decoration-color: #008080; font-weight: bold\">46.81</span><span style=\"font-weight: bold\">% Token: | an|</span>\n",
       "</pre>\n"
      ],
      "text/plain": [
       "Performance on answer token:\n",
       "\u001b[1mRank: \u001b[0m\u001b[1;36m0\u001b[0m\u001b[1m        Logit: \u001b[0m\u001b[1;36m18.27\u001b[0m\u001b[1m Prob: \u001b[0m\u001b[1;36m46.81\u001b[0m\u001b[1m% Token: | an|\u001b[0m\n"
      ]
     },
     "metadata": {},
     "output_type": "display_data"
    },
    {
     "name": "stdout",
     "output_type": "stream",
     "text": [
      "Top 0th token. Logit: 18.27 Prob: 46.81% Token: | an|\n",
      "Top 1th token. Logit: 17.88 Prob: 31.71% Token: | a|\n",
      "Top 2th token. Logit: 16.30 Prob:  6.49% Token: | its|\n",
      "Top 3th token. Logit: 16.28 Prob:  6.36% Token: | consequences|\n",
      "Top 4th token. Logit: 14.14 Prob:  0.75% Token: | the|\n",
      "Top 5th token. Logit: 14.08 Prob:  0.71% Token: | two|\n",
      "Top 6th token. Logit: 13.67 Prob:  0.47% Token: | some|\n",
      "Top 7th token. Logit: 13.62 Prob:  0.45% Token: | costs|\n",
      "Top 8th token. Logit: 13.59 Prob:  0.43% Token: | consequence|\n",
      "Top 9th token. Logit: 13.46 Prob:  0.38% Token: | repercussions|\n"
     ]
    },
    {
     "data": {
      "text/html": [
       "<pre style=\"white-space:pre;overflow-x:auto;line-height:normal;font-family:Menlo,'DejaVu Sans Mono',consolas,'Courier New',monospace\"><span style=\"font-weight: bold\">Ranks of the answer tokens:</span> <span style=\"font-weight: bold\">[(</span><span style=\"color: #008000; text-decoration-color: #008000\">' an'</span>, <span style=\"color: #008080; text-decoration-color: #008080; font-weight: bold\">0</span><span style=\"font-weight: bold\">)]</span>\n",
       "</pre>\n"
      ],
      "text/plain": [
       "\u001b[1mRanks of the answer tokens:\u001b[0m \u001b[1m[\u001b[0m\u001b[1m(\u001b[0m\u001b[32m' an'\u001b[0m, \u001b[1;36m0\u001b[0m\u001b[1m)\u001b[0m\u001b[1m]\u001b[0m\n"
      ]
     },
     "metadata": {},
     "output_type": "display_data"
    },
    {
     "name": "stdout",
     "output_type": "stream",
     "text": [
      "Tokenized prompt: ['<|endoftext|>', 'I', \"'ll\", ' be', ' there', ' in', ' under', ' half']\n",
      "Tokenized answer: [' an']\n"
     ]
    },
    {
     "data": {
      "text/html": [
       "<pre style=\"white-space:pre;overflow-x:auto;line-height:normal;font-family:Menlo,'DejaVu Sans Mono',consolas,'Courier New',monospace\">Performance on answer token:\n",
       "<span style=\"font-weight: bold\">Rank: </span><span style=\"color: #008080; text-decoration-color: #008080; font-weight: bold\">0</span><span style=\"font-weight: bold\">        Logit: </span><span style=\"color: #008080; text-decoration-color: #008080; font-weight: bold\">20.76</span><span style=\"font-weight: bold\"> Prob: </span><span style=\"color: #008080; text-decoration-color: #008080; font-weight: bold\">87.34</span><span style=\"font-weight: bold\">% Token: | an|</span>\n",
       "</pre>\n"
      ],
      "text/plain": [
       "Performance on answer token:\n",
       "\u001b[1mRank: \u001b[0m\u001b[1;36m0\u001b[0m\u001b[1m        Logit: \u001b[0m\u001b[1;36m20.76\u001b[0m\u001b[1m Prob: \u001b[0m\u001b[1;36m87.34\u001b[0m\u001b[1m% Token: | an|\u001b[0m\n"
      ]
     },
     "metadata": {},
     "output_type": "display_data"
    },
    {
     "name": "stdout",
     "output_type": "stream",
     "text": [
      "Top 0th token. Logit: 20.76 Prob: 87.34% Token: | an|\n",
      "Top 1th token. Logit: 18.33 Prob:  7.64% Token: | a|\n",
      "Top 2th token. Logit: 16.77 Prob:  1.61% Token: | hour|\n",
      "Top 3th token. Logit: 16.66 Prob:  1.44% Token: | the|\n",
      "Top 4th token. Logit: 16.44 Prob:  1.16% Token: |-|\n",
      "Top 5th token. Logit: 14.67 Prob:  0.20% Token: | of|\n",
      "Top 6th token. Logit: 13.19 Prob:  0.04% Token: | hours|\n",
      "Top 7th token. Logit: 12.85 Prob:  0.03% Token: | that|\n",
      "Top 8th token. Logit: 12.84 Prob:  0.03% Token: |.|\n",
      "Top 9th token. Logit: 12.83 Prob:  0.03% Token: |an|\n"
     ]
    },
    {
     "data": {
      "text/html": [
       "<pre style=\"white-space:pre;overflow-x:auto;line-height:normal;font-family:Menlo,'DejaVu Sans Mono',consolas,'Courier New',monospace\"><span style=\"font-weight: bold\">Ranks of the answer tokens:</span> <span style=\"font-weight: bold\">[(</span><span style=\"color: #008000; text-decoration-color: #008000\">' an'</span>, <span style=\"color: #008080; text-decoration-color: #008080; font-weight: bold\">0</span><span style=\"font-weight: bold\">)]</span>\n",
       "</pre>\n"
      ],
      "text/plain": [
       "\u001b[1mRanks of the answer tokens:\u001b[0m \u001b[1m[\u001b[0m\u001b[1m(\u001b[0m\u001b[32m' an'\u001b[0m, \u001b[1;36m0\u001b[0m\u001b[1m)\u001b[0m\u001b[1m]\u001b[0m\n"
      ]
     },
     "metadata": {},
     "output_type": "display_data"
    },
    {
     "name": "stdout",
     "output_type": "stream",
     "text": [
      "Tokenized prompt: ['<|endoftext|>', 'I', ' climbed', ' up', ' the', ' pear', ' tree', ' and', ' picked', ' a', ' pear', '.', ' I', ' climbed', ' up', ' the', ' apple', ' tree', ' and', ' picked']\n",
      "Tokenized answer: [' an']\n"
     ]
    },
    {
     "data": {
      "text/html": [
       "<pre style=\"white-space:pre;overflow-x:auto;line-height:normal;font-family:Menlo,'DejaVu Sans Mono',consolas,'Courier New',monospace\">Performance on answer token:\n",
       "<span style=\"font-weight: bold\">Rank: </span><span style=\"color: #008080; text-decoration-color: #008080; font-weight: bold\">0</span><span style=\"font-weight: bold\">        Logit: </span><span style=\"color: #008080; text-decoration-color: #008080; font-weight: bold\">20.52</span><span style=\"font-weight: bold\"> Prob: </span><span style=\"color: #008080; text-decoration-color: #008080; font-weight: bold\">64.92</span><span style=\"font-weight: bold\">% Token: | an|</span>\n",
       "</pre>\n"
      ],
      "text/plain": [
       "Performance on answer token:\n",
       "\u001b[1mRank: \u001b[0m\u001b[1;36m0\u001b[0m\u001b[1m        Logit: \u001b[0m\u001b[1;36m20.52\u001b[0m\u001b[1m Prob: \u001b[0m\u001b[1;36m64.92\u001b[0m\u001b[1m% Token: | an|\u001b[0m\n"
      ]
     },
     "metadata": {},
     "output_type": "display_data"
    },
    {
     "name": "stdout",
     "output_type": "stream",
     "text": [
      "Top 0th token. Logit: 20.52 Prob: 64.92% Token: | an|\n",
      "Top 1th token. Logit: 19.53 Prob: 24.22% Token: | a|\n",
      "Top 2th token. Logit: 17.37 Prob:  2.78% Token: | apples|\n",
      "Top 3th token. Logit: 17.23 Prob:  2.43% Token: | two|\n",
      "Top 4th token. Logit: 17.07 Prob:  2.07% Token: | another|\n",
      "Top 5th token. Logit: 16.00 Prob:  0.71% Token: | some|\n",
      "Top 6th token. Logit: 15.44 Prob:  0.40% Token: | three|\n",
      "Top 7th token. Logit: 15.17 Prob:  0.31% Token: | up|\n",
      "Top 8th token. Logit: 14.97 Prob:  0.25% Token: | the|\n",
      "Top 9th token. Logit: 14.91 Prob:  0.24% Token: | one|\n"
     ]
    },
    {
     "data": {
      "text/html": [
       "<pre style=\"white-space:pre;overflow-x:auto;line-height:normal;font-family:Menlo,'DejaVu Sans Mono',consolas,'Courier New',monospace\"><span style=\"font-weight: bold\">Ranks of the answer tokens:</span> <span style=\"font-weight: bold\">[(</span><span style=\"color: #008000; text-decoration-color: #008000\">' an'</span>, <span style=\"color: #008080; text-decoration-color: #008080; font-weight: bold\">0</span><span style=\"font-weight: bold\">)]</span>\n",
       "</pre>\n"
      ],
      "text/plain": [
       "\u001b[1mRanks of the answer tokens:\u001b[0m \u001b[1m[\u001b[0m\u001b[1m(\u001b[0m\u001b[32m' an'\u001b[0m, \u001b[1;36m0\u001b[0m\u001b[1m)\u001b[0m\u001b[1m]\u001b[0m\n"
      ]
     },
     "metadata": {},
     "output_type": "display_data"
    }
   ],
   "source": [
    "utils.test_prompt(\"Ross Perot, who ran as\", \"an\", model)\n",
    "utils.test_prompt(\"Van der Bellen, who ran as\", \"an\", model)\n",
    "utils.test_prompt(\"Senator Angus King, who ran as\", \"an\", model)\n",
    "utils.test_prompt(\"Spot gold was up 0.7 percent at $1,340.90\", \"an\", model)\n",
    "utils.test_prompt(\"An eye for\", \"an\", model)\n",
    "utils.test_prompt(\"Every action has\", \"an\", model)\n",
    "utils.test_prompt(\"I'll be there in under half\", \"an\", model)\n",
    "utils.test_prompt(\"I climbed up the pear tree and picked a pear. I climbed up the apple tree and picked\", \"an\", model)"
   ]
  },
  {
   "cell_type": "code",
   "execution_count": 6,
   "metadata": {},
   "outputs": [
    {
     "data": {
      "text/plain": [
       "tensor([6497, 6497, 6497, 6497, 6497], device='cuda:0')"
      ]
     },
     "execution_count": 6,
     "metadata": {},
     "output_type": "execute_result"
    }
   ],
   "source": [
    "prompts = [\n",
    "\"Ross Perot, who ran as\",\n",
    "\"Van der Bellen, who ran as\",\n",
    "\"Senator Angus King, who ran as\",\n",
    "\"Spot gold was up 0.7 percent at $1,340.90\",\n",
    "\"An eye for\",\n",
    "\"Every action has\",\n",
    "\"I'll be there in under half\",\n",
    "\"I climbed up the pear tree and picked a pear. I climbed up the apple tree and picked\",\n",
    "\"I climbed up the apple tree and picked an apple. I climbed up the pear tree and picked\",\n",
    "]\n",
    "\n",
    "prompts = [\n",
    "    \"I climbed up the pear tree and picked a pear. I climbed up the apple tree and picked\",\n",
    "    \"I climbed up the pear tree and picked a pear. I climbed up the orange tree and picked\",\n",
    "    \"I climbed up the apple tree and picked an apple. I climbed up the pear tree and picked\",\n",
    "    \"I climbed up the apple tree and picked an apple. I climbed up the banana tree and picked\",\n",
    "    \"I climbed up the apple tree and picked an apple. I climbed up the cherry tree and picked\",\n",
    "]\n",
    "\n",
    "tokens = model.to_tokens(prompts)\n",
    "final_index = (tokens!=model.tokenizer.pad_token_id).sum(-1)\n",
    "tokens[np.arange(len(prompts)), final_index]\n",
    "# tokens[np.arange(len(prompts)), final_index+1]"
   ]
  },
  {
   "cell_type": "code",
   "execution_count": 7,
   "metadata": {},
   "outputs": [
    {
     "name": "stdout",
     "output_type": "stream",
     "text": [
      "Tokenized prompt: ['<|endoftext|>', 'I', ' climbed', ' up', ' the', ' pear', ' tree', ' and', ' picked', ' a', ' pear', '.', ' I', ' climbed', ' up', ' the', ' apple', ' tree', ' and', ' picked']\n",
      "Tokenized answer: [' an']\n"
     ]
    },
    {
     "data": {
      "text/html": [
       "<pre style=\"white-space:pre;overflow-x:auto;line-height:normal;font-family:Menlo,'DejaVu Sans Mono',consolas,'Courier New',monospace\">Performance on answer token:\n",
       "<span style=\"font-weight: bold\">Rank: </span><span style=\"color: #008080; text-decoration-color: #008080; font-weight: bold\">0</span><span style=\"font-weight: bold\">        Logit: </span><span style=\"color: #008080; text-decoration-color: #008080; font-weight: bold\">20.52</span><span style=\"font-weight: bold\"> Prob: </span><span style=\"color: #008080; text-decoration-color: #008080; font-weight: bold\">64.92</span><span style=\"font-weight: bold\">% Token: | an|</span>\n",
       "</pre>\n"
      ],
      "text/plain": [
       "Performance on answer token:\n",
       "\u001b[1mRank: \u001b[0m\u001b[1;36m0\u001b[0m\u001b[1m        Logit: \u001b[0m\u001b[1;36m20.52\u001b[0m\u001b[1m Prob: \u001b[0m\u001b[1;36m64.92\u001b[0m\u001b[1m% Token: | an|\u001b[0m\n"
      ]
     },
     "metadata": {},
     "output_type": "display_data"
    },
    {
     "name": "stdout",
     "output_type": "stream",
     "text": [
      "Top 0th token. Logit: 20.52 Prob: 64.92% Token: | an|\n",
      "Top 1th token. Logit: 19.53 Prob: 24.22% Token: | a|\n",
      "Top 2th token. Logit: 17.37 Prob:  2.78% Token: | apples|\n",
      "Top 3th token. Logit: 17.23 Prob:  2.43% Token: | two|\n",
      "Top 4th token. Logit: 17.07 Prob:  2.07% Token: | another|\n",
      "Top 5th token. Logit: 16.00 Prob:  0.71% Token: | some|\n",
      "Top 6th token. Logit: 15.44 Prob:  0.40% Token: | three|\n",
      "Top 7th token. Logit: 15.17 Prob:  0.31% Token: | up|\n",
      "Top 8th token. Logit: 14.97 Prob:  0.25% Token: | the|\n",
      "Top 9th token. Logit: 14.91 Prob:  0.24% Token: | one|\n"
     ]
    },
    {
     "data": {
      "text/html": [
       "<pre style=\"white-space:pre;overflow-x:auto;line-height:normal;font-family:Menlo,'DejaVu Sans Mono',consolas,'Courier New',monospace\"><span style=\"font-weight: bold\">Ranks of the answer tokens:</span> <span style=\"font-weight: bold\">[(</span><span style=\"color: #008000; text-decoration-color: #008000\">' an'</span>, <span style=\"color: #008080; text-decoration-color: #008080; font-weight: bold\">0</span><span style=\"font-weight: bold\">)]</span>\n",
       "</pre>\n"
      ],
      "text/plain": [
       "\u001b[1mRanks of the answer tokens:\u001b[0m \u001b[1m[\u001b[0m\u001b[1m(\u001b[0m\u001b[32m' an'\u001b[0m, \u001b[1;36m0\u001b[0m\u001b[1m)\u001b[0m\u001b[1m]\u001b[0m\n"
      ]
     },
     "metadata": {},
     "output_type": "display_data"
    },
    {
     "name": "stdout",
     "output_type": "stream",
     "text": [
      "Tokenized prompt: ['<|endoftext|>', 'I', ' climbed', ' up', ' the', ' pear', ' tree', ' and', ' picked', ' a', ' pear', '.', ' I', ' climbed', ' up', ' the', ' orange', ' tree', ' and', ' picked']\n",
      "Tokenized answer: [' an']\n"
     ]
    },
    {
     "data": {
      "text/html": [
       "<pre style=\"white-space:pre;overflow-x:auto;line-height:normal;font-family:Menlo,'DejaVu Sans Mono',consolas,'Courier New',monospace\">Performance on answer token:\n",
       "<span style=\"font-weight: bold\">Rank: </span><span style=\"color: #008080; text-decoration-color: #008080; font-weight: bold\">0</span><span style=\"font-weight: bold\">        Logit: </span><span style=\"color: #008080; text-decoration-color: #008080; font-weight: bold\">19.39</span><span style=\"font-weight: bold\"> Prob: </span><span style=\"color: #008080; text-decoration-color: #008080; font-weight: bold\">44.79</span><span style=\"font-weight: bold\">% Token: | an|</span>\n",
       "</pre>\n"
      ],
      "text/plain": [
       "Performance on answer token:\n",
       "\u001b[1mRank: \u001b[0m\u001b[1;36m0\u001b[0m\u001b[1m        Logit: \u001b[0m\u001b[1;36m19.39\u001b[0m\u001b[1m Prob: \u001b[0m\u001b[1;36m44.79\u001b[0m\u001b[1m% Token: | an|\u001b[0m\n"
      ]
     },
     "metadata": {},
     "output_type": "display_data"
    },
    {
     "name": "stdout",
     "output_type": "stream",
     "text": [
      "Top 0th token. Logit: 19.39 Prob: 44.79% Token: | an|\n",
      "Top 1th token. Logit: 19.29 Prob: 40.17% Token: | a|\n",
      "Top 2th token. Logit: 16.94 Prob:  3.86% Token: | another|\n",
      "Top 3th token. Logit: 16.88 Prob:  3.63% Token: | two|\n",
      "Top 4th token. Logit: 16.14 Prob:  1.72% Token: | some|\n",
      "Top 5th token. Logit: 15.32 Prob:  0.76% Token: | oranges|\n",
      "Top 6th token. Logit: 15.23 Prob:  0.70% Token: | three|\n",
      "Top 7th token. Logit: 15.09 Prob:  0.60% Token: | up|\n",
      "Top 8th token. Logit: 14.63 Prob:  0.38% Token: | the|\n",
      "Top 9th token. Logit: 14.47 Prob:  0.33% Token: | orange|\n"
     ]
    },
    {
     "data": {
      "text/html": [
       "<pre style=\"white-space:pre;overflow-x:auto;line-height:normal;font-family:Menlo,'DejaVu Sans Mono',consolas,'Courier New',monospace\"><span style=\"font-weight: bold\">Ranks of the answer tokens:</span> <span style=\"font-weight: bold\">[(</span><span style=\"color: #008000; text-decoration-color: #008000\">' an'</span>, <span style=\"color: #008080; text-decoration-color: #008080; font-weight: bold\">0</span><span style=\"font-weight: bold\">)]</span>\n",
       "</pre>\n"
      ],
      "text/plain": [
       "\u001b[1mRanks of the answer tokens:\u001b[0m \u001b[1m[\u001b[0m\u001b[1m(\u001b[0m\u001b[32m' an'\u001b[0m, \u001b[1;36m0\u001b[0m\u001b[1m)\u001b[0m\u001b[1m]\u001b[0m\n"
      ]
     },
     "metadata": {},
     "output_type": "display_data"
    },
    {
     "name": "stdout",
     "output_type": "stream",
     "text": [
      "Tokenized prompt: ['<|endoftext|>', 'I', ' climbed', ' up', ' the', ' apple', ' tree', ' and', ' picked', ' an', ' apple', '.', ' I', ' climbed', ' up', ' the', ' pear', ' tree', ' and', ' picked']\n",
      "Tokenized answer: [' an']\n"
     ]
    },
    {
     "data": {
      "text/html": [
       "<pre style=\"white-space:pre;overflow-x:auto;line-height:normal;font-family:Menlo,'DejaVu Sans Mono',consolas,'Courier New',monospace\">Performance on answer token:\n",
       "<span style=\"font-weight: bold\">Rank: </span><span style=\"color: #008080; text-decoration-color: #008080; font-weight: bold\">0</span><span style=\"font-weight: bold\">        Logit: </span><span style=\"color: #008080; text-decoration-color: #008080; font-weight: bold\">20.08</span><span style=\"font-weight: bold\"> Prob: </span><span style=\"color: #008080; text-decoration-color: #008080; font-weight: bold\">55.05</span><span style=\"font-weight: bold\">% Token: | an|</span>\n",
       "</pre>\n"
      ],
      "text/plain": [
       "Performance on answer token:\n",
       "\u001b[1mRank: \u001b[0m\u001b[1;36m0\u001b[0m\u001b[1m        Logit: \u001b[0m\u001b[1;36m20.08\u001b[0m\u001b[1m Prob: \u001b[0m\u001b[1;36m55.05\u001b[0m\u001b[1m% Token: | an|\u001b[0m\n"
      ]
     },
     "metadata": {},
     "output_type": "display_data"
    },
    {
     "name": "stdout",
     "output_type": "stream",
     "text": [
      "Top 0th token. Logit: 20.08 Prob: 55.05% Token: | an|\n",
      "Top 1th token. Logit: 19.54 Prob: 32.06% Token: | a|\n",
      "Top 2th token. Logit: 17.37 Prob:  3.65% Token: | another|\n",
      "Top 3th token. Logit: 16.97 Prob:  2.43% Token: | two|\n",
      "Top 4th token. Logit: 16.78 Prob:  2.02% Token: | some|\n",
      "Top 5th token. Logit: 15.67 Prob:  0.67% Token: | up|\n",
      "Top 6th token. Logit: 15.34 Prob:  0.48% Token: | three|\n",
      "Top 7th token. Logit: 15.05 Prob:  0.36% Token: | pear|\n",
      "Top 8th token. Logit: 15.02 Prob:  0.35% Token: | the|\n",
      "Top 9th token. Logit: 14.63 Prob:  0.24% Token: | one|\n"
     ]
    },
    {
     "data": {
      "text/html": [
       "<pre style=\"white-space:pre;overflow-x:auto;line-height:normal;font-family:Menlo,'DejaVu Sans Mono',consolas,'Courier New',monospace\"><span style=\"font-weight: bold\">Ranks of the answer tokens:</span> <span style=\"font-weight: bold\">[(</span><span style=\"color: #008000; text-decoration-color: #008000\">' an'</span>, <span style=\"color: #008080; text-decoration-color: #008080; font-weight: bold\">0</span><span style=\"font-weight: bold\">)]</span>\n",
       "</pre>\n"
      ],
      "text/plain": [
       "\u001b[1mRanks of the answer tokens:\u001b[0m \u001b[1m[\u001b[0m\u001b[1m(\u001b[0m\u001b[32m' an'\u001b[0m, \u001b[1;36m0\u001b[0m\u001b[1m)\u001b[0m\u001b[1m]\u001b[0m\n"
      ]
     },
     "metadata": {},
     "output_type": "display_data"
    },
    {
     "name": "stdout",
     "output_type": "stream",
     "text": [
      "Tokenized prompt: ['<|endoftext|>', 'I', ' climbed', ' up', ' the', ' apple', ' tree', ' and', ' picked', ' an', ' apple', '.', ' I', ' climbed', ' up', ' the', ' banana', ' tree', ' and', ' picked']\n",
      "Tokenized answer: [' an']\n"
     ]
    },
    {
     "data": {
      "text/html": [
       "<pre style=\"white-space:pre;overflow-x:auto;line-height:normal;font-family:Menlo,'DejaVu Sans Mono',consolas,'Courier New',monospace\">Performance on answer token:\n",
       "<span style=\"font-weight: bold\">Rank: </span><span style=\"color: #008080; text-decoration-color: #008080; font-weight: bold\">0</span><span style=\"font-weight: bold\">        Logit: </span><span style=\"color: #008080; text-decoration-color: #008080; font-weight: bold\">19.42</span><span style=\"font-weight: bold\"> Prob: </span><span style=\"color: #008080; text-decoration-color: #008080; font-weight: bold\">44.18</span><span style=\"font-weight: bold\">% Token: | an|</span>\n",
       "</pre>\n"
      ],
      "text/plain": [
       "Performance on answer token:\n",
       "\u001b[1mRank: \u001b[0m\u001b[1;36m0\u001b[0m\u001b[1m        Logit: \u001b[0m\u001b[1;36m19.42\u001b[0m\u001b[1m Prob: \u001b[0m\u001b[1;36m44.18\u001b[0m\u001b[1m% Token: | an|\u001b[0m\n"
      ]
     },
     "metadata": {},
     "output_type": "display_data"
    },
    {
     "name": "stdout",
     "output_type": "stream",
     "text": [
      "Top 0th token. Logit: 19.42 Prob: 44.18% Token: | an|\n",
      "Top 1th token. Logit: 19.13 Prob: 33.04% Token: | a|\n",
      "Top 2th token. Logit: 17.22 Prob:  4.90% Token: | some|\n",
      "Top 3th token. Logit: 17.08 Prob:  4.29% Token: | another|\n",
      "Top 4th token. Logit: 17.00 Prob:  3.96% Token: | two|\n",
      "Top 5th token. Logit: 16.61 Prob:  2.66% Token: | bananas|\n",
      "Top 6th token. Logit: 15.64 Prob:  1.01% Token: | three|\n",
      "Top 7th token. Logit: 15.58 Prob:  0.96% Token: | banana|\n",
      "Top 8th token. Logit: 15.17 Prob:  0.63% Token: | one|\n",
      "Top 9th token. Logit: 14.96 Prob:  0.51% Token: | up|\n"
     ]
    },
    {
     "data": {
      "text/html": [
       "<pre style=\"white-space:pre;overflow-x:auto;line-height:normal;font-family:Menlo,'DejaVu Sans Mono',consolas,'Courier New',monospace\"><span style=\"font-weight: bold\">Ranks of the answer tokens:</span> <span style=\"font-weight: bold\">[(</span><span style=\"color: #008000; text-decoration-color: #008000\">' an'</span>, <span style=\"color: #008080; text-decoration-color: #008080; font-weight: bold\">0</span><span style=\"font-weight: bold\">)]</span>\n",
       "</pre>\n"
      ],
      "text/plain": [
       "\u001b[1mRanks of the answer tokens:\u001b[0m \u001b[1m[\u001b[0m\u001b[1m(\u001b[0m\u001b[32m' an'\u001b[0m, \u001b[1;36m0\u001b[0m\u001b[1m)\u001b[0m\u001b[1m]\u001b[0m\n"
      ]
     },
     "metadata": {},
     "output_type": "display_data"
    },
    {
     "name": "stdout",
     "output_type": "stream",
     "text": [
      "Tokenized prompt: ['<|endoftext|>', 'I', ' climbed', ' up', ' the', ' apple', ' tree', ' and', ' picked', ' an', ' apple', '.', ' I', ' climbed', ' up', ' the', ' cherry', ' tree', ' and', ' picked']\n",
      "Tokenized answer: [' an']\n"
     ]
    },
    {
     "data": {
      "text/html": [
       "<pre style=\"white-space:pre;overflow-x:auto;line-height:normal;font-family:Menlo,'DejaVu Sans Mono',consolas,'Courier New',monospace\">Performance on answer token:\n",
       "<span style=\"font-weight: bold\">Rank: </span><span style=\"color: #008080; text-decoration-color: #008080; font-weight: bold\">1</span><span style=\"font-weight: bold\">        Logit: </span><span style=\"color: #008080; text-decoration-color: #008080; font-weight: bold\">19.46</span><span style=\"font-weight: bold\"> Prob: </span><span style=\"color: #008080; text-decoration-color: #008080; font-weight: bold\">29.83</span><span style=\"font-weight: bold\">% Token: | an|</span>\n",
       "</pre>\n"
      ],
      "text/plain": [
       "Performance on answer token:\n",
       "\u001b[1mRank: \u001b[0m\u001b[1;36m1\u001b[0m\u001b[1m        Logit: \u001b[0m\u001b[1;36m19.46\u001b[0m\u001b[1m Prob: \u001b[0m\u001b[1;36m29.83\u001b[0m\u001b[1m% Token: | an|\u001b[0m\n"
      ]
     },
     "metadata": {},
     "output_type": "display_data"
    },
    {
     "name": "stdout",
     "output_type": "stream",
     "text": [
      "Top 0th token. Logit: 20.02 Prob: 52.23% Token: | a|\n",
      "Top 1th token. Logit: 19.46 Prob: 29.83% Token: | an|\n",
      "Top 2th token. Logit: 18.08 Prob:  7.54% Token: | another|\n",
      "Top 3th token. Logit: 16.89 Prob:  2.29% Token: | two|\n",
      "Top 4th token. Logit: 16.87 Prob:  2.24% Token: | some|\n",
      "Top 5th token. Logit: 15.62 Prob:  0.64% Token: | cher|\n",
      "Top 6th token. Logit: 15.56 Prob:  0.61% Token: | three|\n",
      "Top 7th token. Logit: 15.32 Prob:  0.47% Token: | cherry|\n",
      "Top 8th token. Logit: 15.01 Prob:  0.35% Token: | apples|\n",
      "Top 9th token. Logit: 14.98 Prob:  0.34% Token: | the|\n"
     ]
    },
    {
     "data": {
      "text/html": [
       "<pre style=\"white-space:pre;overflow-x:auto;line-height:normal;font-family:Menlo,'DejaVu Sans Mono',consolas,'Courier New',monospace\"><span style=\"font-weight: bold\">Ranks of the answer tokens:</span> <span style=\"font-weight: bold\">[(</span><span style=\"color: #008000; text-decoration-color: #008000\">' an'</span>, <span style=\"color: #008080; text-decoration-color: #008080; font-weight: bold\">1</span><span style=\"font-weight: bold\">)]</span>\n",
       "</pre>\n"
      ],
      "text/plain": [
       "\u001b[1mRanks of the answer tokens:\u001b[0m \u001b[1m[\u001b[0m\u001b[1m(\u001b[0m\u001b[32m' an'\u001b[0m, \u001b[1;36m1\u001b[0m\u001b[1m)\u001b[0m\u001b[1m]\u001b[0m\n"
      ]
     },
     "metadata": {},
     "output_type": "display_data"
    }
   ],
   "source": [
    "for prompt in prompts:\n",
    "    utils.test_prompt(prompt, \"an\", model)"
   ]
  },
  {
   "cell_type": "code",
   "execution_count": 8,
   "metadata": {},
   "outputs": [
    {
     "ename": "NameError",
     "evalue": "name 'AN' is not defined",
     "output_type": "error",
     "traceback": [
      "\u001b[0;31m---------------------------------------------------------------------------\u001b[0m",
      "\u001b[0;31mNameError\u001b[0m                                 Traceback (most recent call last)",
      "Cell \u001b[0;32mIn[8], line 1\u001b[0m\n\u001b[0;32m----> 1\u001b[0m unembed_dir \u001b[39m=\u001b[39m model\u001b[39m.\u001b[39mW_U[:, AN] \u001b[39m-\u001b[39m model\u001b[39m.\u001b[39mW_U[:, A]\n\u001b[1;32m      2\u001b[0m logits, cache \u001b[39m=\u001b[39m model\u001b[39m.\u001b[39mrun_with_cache(model\u001b[39m.\u001b[39mto_tokens(prompts))\n\u001b[1;32m      3\u001b[0m resid_stack, resid_labels \u001b[39m=\u001b[39m cache\u001b[39m.\u001b[39mget_full_resid_decomposition(expand_neurons\u001b[39m=\u001b[39m\u001b[39mFalse\u001b[39;00m, apply_ln\u001b[39m=\u001b[39m\u001b[39mTrue\u001b[39;00m, return_labels\u001b[39m=\u001b[39m\u001b[39mTrue\u001b[39;00m)\n",
      "\u001b[0;31mNameError\u001b[0m: name 'AN' is not defined"
     ]
    }
   ],
   "source": [
    "unembed_dir = model.W_U[:, AN] - model.W_U[:, A]\n",
    "logits, cache = model.run_with_cache(model.to_tokens(prompts))\n",
    "resid_stack, resid_labels = cache.get_full_resid_decomposition(expand_neurons=False, apply_ln=True, return_labels=True)\n",
    "final_resid_stack = resid_stack[:, np.arange(len(prompts)), final_index, :]\n",
    "(final_resid_stack @ unembed_dir).shape"
   ]
  },
  {
   "cell_type": "code",
   "execution_count": 9,
   "metadata": {},
   "outputs": [
    {
     "ename": "NameError",
     "evalue": "name 'final_resid_stack' is not defined",
     "output_type": "error",
     "traceback": [
      "\u001b[0;31m---------------------------------------------------------------------------\u001b[0m",
      "\u001b[0;31mNameError\u001b[0m                                 Traceback (most recent call last)",
      "Cell \u001b[0;32mIn[9], line 1\u001b[0m\n\u001b[0;32m----> 1\u001b[0m line((final_resid_stack \u001b[39m@\u001b[39m unembed_dir)\u001b[39m.\u001b[39mT, line_labels\u001b[39m=\u001b[39m[p[:\u001b[39m10\u001b[39m] \u001b[39mfor\u001b[39;00m p \u001b[39min\u001b[39;00m prompts], x\u001b[39m=\u001b[39mresid_labels, title\u001b[39m=\u001b[39m\u001b[39m\"\u001b[39m\u001b[39mDirect Logit Diff Attribution\u001b[39m\u001b[39m\"\u001b[39m)\n",
      "\u001b[0;31mNameError\u001b[0m: name 'final_resid_stack' is not defined"
     ]
    }
   ],
   "source": [
    "line((final_resid_stack @ unembed_dir).T, line_labels=[p[:10] for p in prompts], x=resid_labels, title=\"Direct Logit Diff Attribution\")\n"
   ]
  },
  {
   "cell_type": "code",
   "execution_count": null,
   "metadata": {},
   "outputs": [],
   "source": []
  }
 ],
 "metadata": {
  "kernelspec": {
   "display_name": "base",
   "language": "python",
   "name": "python3"
  },
  "language_info": {
   "codemirror_mode": {
    "name": "ipython",
    "version": 3
   },
   "file_extension": ".py",
   "mimetype": "text/x-python",
   "name": "python",
   "nbconvert_exporter": "python",
   "pygments_lexer": "ipython3",
   "version": "3.10.11"
  },
  "orig_nbformat": 4
 },
 "nbformat": 4,
 "nbformat_minor": 2
}
