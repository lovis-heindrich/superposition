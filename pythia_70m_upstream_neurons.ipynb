{
 "cells": [
  {
   "cell_type": "markdown",
   "metadata": {},
   "source": [
    "### Setup"
   ]
  },
  {
   "cell_type": "code",
   "execution_count": 1,
   "metadata": {},
   "outputs": [],
   "source": [
    "import torch\n",
    "from transformer_lens import HookedTransformer\n",
    "from jaxtyping import Float\n",
    "from torch import Tensor\n",
    "import plotly.io as pio\n",
    "import numpy as np\n",
    "import pandas as pd\n",
    "from tqdm import trange\n",
    "from collections import defaultdict, Counter\n",
    "from torchmetrics.regression import SpearmanCorrCoef\n",
    "import plotly_express as px\n",
    "\n",
    "pio.renderers.default = \"notebook_connected+notebook\"\n",
    "device = \"cuda\" if torch.cuda.is_available() else \"cpu\"\n",
    "torch.autograd.set_grad_enabled(False)\n",
    "torch.set_grad_enabled(False)\n",
    "\n",
    "import haystack_utils\n",
    "import hook_utils\n",
    "\n",
    "%reload_ext autoreload\n",
    "%autoreload 2"
   ]
  },
  {
   "cell_type": "code",
   "execution_count": 2,
   "metadata": {},
   "outputs": [
    {
     "data": {
      "application/vnd.jupyter.widget-view+json": {
       "model_id": "fd540c0535f5414cb5071b4f0c75cccb",
       "version_major": 2,
       "version_minor": 0
      },
      "text/plain": [
       "Downloading (…)lve/main/config.json:   0%|          | 0.00/567 [00:00<?, ?B/s]"
      ]
     },
     "metadata": {},
     "output_type": "display_data"
    },
    {
     "data": {
      "application/vnd.jupyter.widget-view+json": {
       "model_id": "2683cacbd5a34198b7c8701861d7a723",
       "version_major": 2,
       "version_minor": 0
      },
      "text/plain": [
       "Downloading model.safetensors:   0%|          | 0.00/166M [00:00<?, ?B/s]"
      ]
     },
     "metadata": {},
     "output_type": "display_data"
    },
    {
     "data": {
      "application/vnd.jupyter.widget-view+json": {
       "model_id": "4714734c766646efa520b1fd28592617",
       "version_major": 2,
       "version_minor": 0
      },
      "text/plain": [
       "Downloading (…)okenizer_config.json:   0%|          | 0.00/396 [00:00<?, ?B/s]"
      ]
     },
     "metadata": {},
     "output_type": "display_data"
    },
    {
     "data": {
      "application/vnd.jupyter.widget-view+json": {
       "model_id": "6ffc7ad9e2e04238a6baf57e9f8f7fe6",
       "version_major": 2,
       "version_minor": 0
      },
      "text/plain": [
       "Downloading (…)/main/tokenizer.json:   0%|          | 0.00/2.11M [00:00<?, ?B/s]"
      ]
     },
     "metadata": {},
     "output_type": "display_data"
    },
    {
     "data": {
      "application/vnd.jupyter.widget-view+json": {
       "model_id": "f10f9e0edc824312b14dcbae981a64e2",
       "version_major": 2,
       "version_minor": 0
      },
      "text/plain": [
       "Downloading (…)cial_tokens_map.json:   0%|          | 0.00/99.0 [00:00<?, ?B/s]"
      ]
     },
     "metadata": {},
     "output_type": "display_data"
    },
    {
     "name": "stderr",
     "output_type": "stream",
     "text": [
      "Using pad_token, but it is not set yet.\n"
     ]
    },
    {
     "name": "stdout",
     "output_type": "stream",
     "text": [
      "Loaded pretrained model EleutherAI/pythia-70m into HookedTransformer\n",
      "data/german_europarl.json: Loaded 2000 examples with 152 to 2000 characters each.\n",
      "data/english_europarl.json: Loaded 2000 examples with 165 to 2000 characters each.\n"
     ]
    }
   ],
   "source": [
    "model = HookedTransformer.from_pretrained(\"EleutherAI/pythia-70m\",\n",
    "    center_unembed=True,\n",
    "    center_writing_weights=True,\n",
    "    fold_ln=True,\n",
    "    device=device)\n",
    "\n",
    "german_data = haystack_utils.load_json_data(\"data/german_europarl.json\")[:200]\n",
    "english_data = haystack_utils.load_json_data(\"data/english_europarl.json\")[:200]\n",
    "\n",
    "LAYER, NEURON = 3, 669"
   ]
  },
  {
   "cell_type": "markdown",
   "metadata": {},
   "source": [
    "### Utils"
   ]
  },
  {
   "cell_type": "code",
   "execution_count": 5,
   "metadata": {},
   "outputs": [
    {
     "name": "stdout",
     "output_type": "stream",
     "text": [
      "Tried to stack head results when they weren't cached. Computing head results now\n",
      "torch.Size([4114, 2, 512])\n",
      "torch.Size([512, 64])\n",
      "torch.Size([2, 4114, 64])\n"
     ]
    }
   ],
   "source": [
    "def batched_dot_product(x: torch.Tensor, y: torch.Tensor):\n",
    "    return torch.vmap(torch.dot)(x, y)\n",
    "    \n",
    "def neuron_to_context_neuron_DLA(\n",
    "        model: HookedTransformer, \n",
    "        prompt: str | list[str], \n",
    "        pos=np.s_[-1:], \n",
    "        context_neuron=tuple[int, int]\n",
    ") -> tuple[Float[Tensor, \"component\"], list[str]]:\n",
    "    '''Gets full resid decomposition including all neurons. Unbatched.'''\n",
    "    tokens = model.to_tokens(prompt)\n",
    "    _, cache = model.run_with_cache(prompt)\n",
    "    layer, neuron = context_neuron\n",
    "    neuron_attrs, neuron_labels = cache.stack_neuron_results(layer, apply_ln=True, return_labels=True, pos_slice=pos)\n",
    "    neuron_attrs = neuron_attrs.squeeze(1)\n",
    "    \n",
    "    answer_residual_direction = model.W_in[layer, :, neuron].unsqueeze(0)  # [1 d_model]\n",
    "\n",
    "    results = []\n",
    "    for i in range(neuron_attrs.shape[1]):\n",
    "        results.append(batched_dot_product(neuron_attrs[:, i], answer_residual_direction.repeat(neuron_attrs.shape[0], 1)))\n",
    "    return torch.stack(results), neuron_labels\n",
    "\n",
    "def resid_to_context_neuron_DLA(\n",
    "        model: HookedTransformer, \n",
    "        prompt: str | list[str], \n",
    "        pos=np.s_[-1:], \n",
    "        context_neuron:tuple[int, int]=(0,0)\n",
    ") -> tuple[Float[Tensor, \"component\"], list[str]]:\n",
    "    '''Gets full resid decomposition including all neurons. Unbatched.'''\n",
    "    tokens = model.to_tokens(prompt)\n",
    "    _, cache = model.run_with_cache(prompt)\n",
    "    layer, neuron = context_neuron\n",
    "    all_attrs, labels = cache.get_full_resid_decomposition(layer, apply_ln=True, return_labels=True, pos_slice=pos)\n",
    "    all_attrs = all_attrs.squeeze(1)\n",
    "    \n",
    "    answer_residual_direction = model.W_in[layer, :, neuron].unsqueeze(0)  # [1 d_model]\n",
    "\n",
    "    results = []\n",
    "    for i in range(all_attrs.shape[1]):\n",
    "        results.append(batched_dot_product(all_attrs[:, i], answer_residual_direction.repeat(all_attrs.shape[0], 1)))\n",
    "    return torch.stack(results), labels\n",
    "\n",
    "def get_neuron_mean_acts(model: HookedTransformer, data: list[str], layer_neuron_dict: dict[int, list[int]]) -> tuple[torch.Tensor, torch.Tensor]:\n",
    "    sorted_layer_neuron_tuples = []\n",
    "    sorted_acts = []\n",
    "\n",
    "    for layer, neurons in layer_neuron_dict.items():\n",
    "        mean_acts = haystack_utils.get_mlp_activations(data, layer, model, context_crop_start=0, hook_pre=False, neurons=neurons, disable_tqdm=True)\n",
    "        sorted_layer_neuron_tuples.extend([(layer, neuron) for neuron in neurons])\n",
    "        sorted_acts.extend(mean_acts)\n",
    "        assert len(sorted_layer_neuron_tuples) == len(sorted_acts)\n",
    "\n",
    "    return sorted_layer_neuron_tuples, sorted_acts\n",
    "\n",
    "def get_unspecified_neurons(model: HookedTransformer, layer_neuron_dict: dict[int, list[int]]):\n",
    "    unspecified = []\n",
    "    for layer in range(model.cfg.n_layers):\n",
    "        for neuron in range(model.cfg.d_mlp):\n",
    "            if not neuron in layer_neuron_dict[layer]:\n",
    "                unspecified.append((layer, neuron))\n",
    "    return unspecified\n",
    "\n",
    "def get_neuron_loss_increases(model: HookedTransformer, data: list[str], prompt: str, positionwise: bool=False) -> torch.Tensor:\n",
    "    n_tokens = model.to_tokens(prompt).shape[1] - 1\n",
    "    original_loss = model([prompt], return_type='loss', loss_per_token=positionwise)\n",
    "    \n",
    "    losses = []\n",
    "    for layer in trange(model.cfg.n_layers):\n",
    "        mean_acts = haystack_utils.get_mlp_activations(data[:200], layer, model, disable_tqdm=True, context_crop_start=0)\n",
    "        for neuron in range(model.cfg.d_mlp):\n",
    "            hook = hook_utils.get_ablate_neuron_hook(layer, neuron, mean_acts[neuron])\n",
    "            with model.hooks([hook]):\n",
    "                ablated_loss = model([prompt], return_type='loss', loss_per_token=positionwise)\n",
    "                losses.append((ablated_loss - original_loss)[0])\n",
    "    return torch.stack(losses).reshape(n_tokens, model.cfg.n_layers * model.cfg.d_mlp)\n",
    "\n",
    "def compare_dla_and_ablation(model: HookedTransformer, dla_attrs_by_neuron: torch.Tensor, ablation_losses_by_neuron: torch.Tensor, num_neurons=20):\n",
    "    print(\"DLA:\")\n",
    "    values, indices = torch.topk(dla_attrs_by_neuron, num_neurons, dim=-1)\n",
    "    layer_indices, neuron_indices = np.unravel_index(indices.cpu().numpy(), (model.cfg.n_layers, model.cfg.d_mlp))\n",
    "    print(list(zip(layer_indices.tolist(), neuron_indices.tolist())))\n",
    "    print(dla_attrs_by_neuron[indices.tolist()])\n",
    "\n",
    "    print(\"Ablation:\")\n",
    "    loss_increases_by_neuron = ablation_losses_by_neuron\n",
    "    values, indices = torch.topk(loss_increases_by_neuron, num_neurons)\n",
    "    layer_indices, neuron_indices = np.unravel_index(indices.cpu().numpy()[:num_neurons], (model.cfg.n_layers, model.cfg.d_mlp))\n",
    "    print(list(zip(layer_indices.tolist(), neuron_indices.tolist())))\n",
    "    print(dla_attrs_by_neuron[indices.tolist()])\n",
    "\n",
    "def get_hook_inputs_for_token_index(model: HookedTransformer, data: list[str], loss_increases_by_neuron: torch.Tensor, k=40):\n",
    "    values, indices = torch.topk(loss_increases_by_neuron, k)\n",
    "\n",
    "    layer_indices, neuron_indices = np.unravel_index(indices.cpu().numpy(), (model.cfg.n_layers, model.cfg.d_mlp))\n",
    "    layer_neuron_dict = defaultdict(list)\n",
    "    for layer, neuron in zip(layer_indices, neuron_indices):\n",
    "        layer_neuron_dict[layer].append(neuron)\n",
    "\n",
    "    sorted_dla_layer_neuron_tuples = []\n",
    "    sorted_acts = []\n",
    "    for layer, neurons in layer_neuron_dict.items():\n",
    "        mean_acts = haystack_utils.get_mlp_activations(data, layer, model, context_crop_start=0, neurons=neurons, disable_tqdm=True)\n",
    "        sorted_dla_layer_neuron_tuples.extend([(layer, neuron) for neuron in neurons])\n",
    "        sorted_acts.extend(mean_acts)\n",
    "        assert len(sorted_dla_layer_neuron_tuples) == len(sorted_acts)\n",
    "\n",
    "    return sorted_dla_layer_neuron_tuples, sorted_acts\n",
    "\n",
    "def unravel_top_k(neuron_attrs: torch.Tensor, k: int=10):\n",
    "    values, indices = torch.topk(neuron_attrs, k)\n",
    "    layer_indices, neuron_indices = np.unravel_index(indices.cpu().numpy(), (model.cfg.n_layers, model.cfg.d_mlp))\n",
    "    return list(zip(layer_indices.tolist(), neuron_indices.tolist()))\n",
    "\n",
    "def resid_to_head_DLA(\n",
    "        model: HookedTransformer, \n",
    "        prompt: str | list[str], \n",
    "        head: tuple[int, int],\n",
    "        pos=np.s_[-1:], \n",
    "        \n",
    ") -> tuple[Float[Tensor, \"component\"], list[str]]:\n",
    "    '''Gets full resid decomposition and return the composition of each element of the given K matrix. Unbatched.'''\n",
    "    tokens = model.to_tokens(prompt)\n",
    "    _, cache = model.run_with_cache(prompt)\n",
    "    layer, head_index = head\n",
    "    all_attrs, labels = cache.get_full_resid_decomposition(layer, apply_ln=True, return_labels=True, pos_slice=pos)\n",
    "    all_attrs = all_attrs.squeeze(1)\n",
    "    answer_residual_direction = model.W_K[layer, head_index, :]\n",
    "    results = torch.zeros(all_attrs.shape[1], all_attrs.shape[0], answer_residual_direction.shape[1])\n",
    "    for i in range(all_attrs.shape[1]):\n",
    "        for j in range(answer_residual_direction.shape[1]):\n",
    "            answer = answer_residual_direction[:, j].repeat(all_attrs.shape[0], 1).permute(1, 0)\n",
    "            token_attrs = all_attrs[:, i].permute(1, 0)\n",
    "            print(answer.shape, token_attrs.shape)\n",
    "            # print(batched_dot_product(all_attrs[:, i], answer_residual_direction[:, j].repeat(all_attrs.shape[0], 1)).shape)\n",
    "            results[i] = batched_dot_product(token_attrs, answer)\n",
    "            break\n",
    "    return results, labels\n",
    "\n",
    "results, labels = resid_to_head_DLA(model, \"Once upon a time\", (2, 5), pos=np.s_[-2:])\n",
    "# print(results.shape)"
   ]
  },
  {
   "cell_type": "markdown",
   "metadata": {},
   "source": [
    "### Investigate"
   ]
  },
  {
   "cell_type": "code",
   "execution_count": null,
   "metadata": {},
   "outputs": [
    {
     "name": "stdout",
     "output_type": "stream",
     "text": [
      " ä [((1, 1911), 346), ((1, 835), 333), ((2, 1449), 320), ((2, 181), 309), ((2, 1236), 309), ((2, 983), 308), ((2, 1166), 296), ((2, 1149), 289), ((2, 1003), 249), ((2, 1747), 223), ((0, 751), 139), ((0, 191), 83), ((0, 1452), 59), ((2, 230), 39), ((0, 777), 37), ((2, 621), 30), ((0, 596), 27), ((2, 1299), 14), ((0, 146), 9), ((2, 720), 9), ((1, 1034), 8), ((1, 961), 8), ((1, 309), 7), ((1, 1690), 6), ((2, 1489), 6), ((1, 1388), 4), ((2, 145), 4), ((1, 1109), 3), ((1, 1308), 3), ((1, 70), 2), ((2, 467), 2), ((0, 1987), 1), ((0, 563), 1), ((2, 1888), 1), ((0, 336), 1), ((0, 1874), 1), ((1, 1414), 1), ((1, 1032), 1), ((0, 1435), 1), ((2, 1188), 1)]\n",
      " ö [((2, 1449), 335), ((1, 707), 330), ((2, 181), 329), ((2, 1236), 329), ((2, 1931), 326), ((2, 1149), 324), ((2, 1003), 324), ((2, 1166), 322), ((1, 29), 320), ((2, 983), 273), ((2, 863), 73), ((1, 703), 26), ((1, 1966), 23), ((2, 1575), 22), ((0, 736), 20), ((0, 1849), 19), ((0, 645), 19), ((1, 1610), 18), ((1, 1911), 10), ((2, 315), 7), ((2, 819), 6), ((0, 637), 5), ((2, 691), 4), ((2, 230), 4), ((1, 347), 4), ((1, 1118), 3), ((1, 47), 2), ((1, 1028), 2), ((2, 1658), 2), ((0, 1987), 1), ((0, 563), 1), ((2, 1888), 1), ((0, 336), 1), ((0, 1874), 1), ((1, 835), 1), ((1, 1129), 1), ((1, 961), 1), ((2, 689), 1)]\n",
      " ü [((0, 1259), 348), ((2, 983), 343), ((2, 306), 343), ((1, 347), 340), ((2, 1449), 334), ((2, 1236), 328), ((2, 181), 327), ((2, 237), 296), ((2, 1166), 286), ((2, 1149), 277), ((1, 13), 59), ((0, 264), 51), ((2, 819), 40), ((0, 1186), 19), ((2, 950), 18), ((2, 1658), 17), ((1, 1911), 15), ((2, 743), 12), ((0, 637), 10), ((0, 1715), 6), ((0, 1758), 5), ((1, 1765), 2), ((0, 1987), 1), ((0, 563), 1), ((2, 1888), 1), ((0, 336), 1), ((0, 1874), 1), ((1, 835), 1), ((1, 1388), 1), ((1, 1109), 1), ((2, 1287), 1), ((2, 770), 1), ((2, 1191), 1), ((2, 1337), 1), ((2, 689), 1), ((1, 509), 1)]\n",
      " ß [((1, 773), 575), ((2, 467), 361), ((0, 621), 348), ((0, 878), 348), ((0, 736), 348), ((2, 1182), 348), ((1, 85), 348), ((2, 1926), 347), ((2, 1363), 345), ((2, 1485), 338), ((1, 57), 334), ((0, 1006), 332), ((1, 497), 329), ((1, 175), 323), ((2, 660), 309), ((1, 369), 294), ((1, 1273), 258), ((2, 1505), 256), ((2, 228), 181), ((1, 195), 171), ((0, 1887), 92), ((0, 1209), 82), ((1, 1667), 60), ((1, 184), 53), ((2, 1280), 36), ((1, 315), 33), ((2, 1087), 27), ((2, 597), 23), ((1, 864), 16), ((2, 279), 14), ((0, 1279), 8), ((2, 167), 7), ((1, 2040), 4), ((2, 909), 3), ((1, 1308), 2), ((2, 1449), 1), ((2, 181), 1), ((2, 1236), 1), ((2, 1149), 1), ((0, 1987), 1), ((0, 563), 1), ((2, 1888), 1), ((0, 336), 1), ((0, 1874), 1), ((1, 835), 1), ((2, 1287), 1), ((2, 1078), 1), ((2, 1064), 1), ((1, 1028), 1), ((2, 1805), 1), ((1, 671), 1), ((0, 1452), 1)]\n"
     ]
    }
   ],
   "source": [
    "def upstream_for_prompt(prompt):\n",
    "    n_tokens = model.to_tokens(prompt).shape[1]\n",
    "    neuron_attrs_by_token, labels = neuron_to_context_neuron_DLA(model, prompt, np.s_[-n_tokens:], (3, 669))\n",
    "\n",
    "    counter = Counter()\n",
    "    for i in range(n_tokens):\n",
    "        counter.update(unravel_top_k(neuron_attrs_by_token[i], k=10))\n",
    "    return counter\n",
    "\n",
    "german_prompt = \"beraten. H\\u00f6here Investitionen in Forschung und Entwicklung sowie die Erfassung und \\\n",
    "    Verarbeitung von zuverl\\u00e4ssigen Daten w\\u00fcrde zu einer solideren und nachhaltigen Gemeinsamen \\\n",
    "    Fischereipolitik f\\u00fchren.\\nAber obwohl der Satz, den ich von einem Wissenschaftler geh\\u00f6rt \\\n",
    "    habe (\\\"Das Problem ist nicht Geld, sondern Personal\\\") die Lage gut darstellt, werde ich nicht \\\n",
    "    diejenige sein, die sagt, dass die Fischereiforschung gut mit finanziellen Mitteln ausgestattet \\\n",
    "    ist. Ich werde vielmehr sagen, dass wir ein doppeltes Problem haben.\\nAn erster Stelle, Herr \\\n",
    "    Kommissar, die im Siebten Rahmenprogramm f\\u00fcr Meeresforschung festgelegten Betr\\u00e4ge, \\\n",
    "    die ein horizontales Thema h\\u00e4tten sein sollen, scheinen f\\u00fcr den integrierten Ansatz, \\\n",
    "    der bei dieser Angelegenheit gegenw\\u00e4rtig gew\\u00fcnscht wird, unzureichend zu sein.\\nAu\\u00dferdem, \\\n",
    "    Herr Kommissar, haben Wissenschaftler - und ich kann Ihnen versichern, dass ich vor und w\\u00e4hrend \\\n",
    "    der Ausarbeitung dieses Berichts mit vielen gesprochen habe - Probleme bei der Einreichung von Projekten \\\n",
    "    unter dem Siebten Forschungsrahmenprogramm. Diese Probleme sind\"\n",
    "\n",
    "english_prompt = \"given the generally greater adeptness of children at using audio-visual resources, in some \\\n",
    "    areas there are dangers of their obtaining access to unsuitable or harmful material. This is most obvious \\\n",
    "    in the fields of overt sexual material and gratuitous violence.\\nThe principles which have guided this \\\n",
    "    report are to encourage greater public awareness of these issues and to support parental responsibility \\\n",
    "    and to develop co-operation between the content providers, consumer organisations and the \\\n",
    "    respective authorities, both national and European. Self-regulation is considered to be the \\\n",
    "    main instrument, underpinned by legal requirements where necessary.\\nThe report, which \\\n",
    "    analyses the Commission's evaluation report, is primarily concerned with the Internet \\\n",
    "    and with video games, as it was felt important not to anticipate a possible future \\\n",
    "    review of the Television without Frontiers directive. The report calls for user-friendly content filter systems\""
   ]
  },
  {
   "cell_type": "code",
   "execution_count": null,
   "metadata": {},
   "outputs": [],
   "source": [
    "# 2, 1449 reoccurs\n",
    "# print(\"sample prompt:\", upstream_for_prompt(german_prompt).most_common())\n",
    "n_tokens = model.to_tokens(german_prompt).shape[1]\n",
    "\n",
    "prompts = [] # german_prompt, english_prompt\n",
    "for token in [\" ä\", \" ö\", \" ü\", \" ß\"]:\n",
    "    prompts.append(\"\".join([token for _ in range(n_tokens)]))\n",
    "    print(token, upstream_for_prompt(prompts[-1]).most_common())\n",
    "\n",
    "neuron_attrs_by_token, labels = neuron_to_context_neuron_DLA(model, german_prompt, np.s_[-n_tokens:], (3, 669))\n",
    "\n",
    "fig = px.histogram(neuron_attrs_by_token[3].cpu())\n",
    "fig.show()\n",
    "\n",
    "neuron_attrs_by_token, labels = neuron_to_context_neuron_DLA(model, english_prompt, np.s_[-n_tokens:], (3, 669))\n",
    "\n",
    "fig = px.histogram(neuron_attrs_by_token[3].cpu())\n",
    "fig.show()"
   ]
  },
  {
   "cell_type": "code",
   "execution_count": null,
   "metadata": {},
   "outputs": [
    {
     "name": "stdout",
     "output_type": "stream",
     "text": [
      "tensor([0.9277, 0.9443, 0.9657, 0.7451])\n",
      "['0.467906', '0.456237', '0.246673', '0.520210', '0.170303', '0.207521']\n"
     ]
    }
   ],
   "source": [
    "# Get the rank correlation within long prompts of different types\n",
    "# Hopefully it's highly correlated\n",
    "# Get the rank correlation between samples or average of prompts of different types\n",
    "spearman = SpearmanCorrCoef()\n",
    "\n",
    "prompt_mean_rhos = torch.zeros(len(prompts))\n",
    "for prompt_n, prompt in enumerate(prompts):\n",
    "    n_tokens = model.to_tokens(prompt).shape[1]\n",
    "    neuron_attrs_by_token, _ = neuron_to_context_neuron_DLA(model, prompt, np.s_[-n_tokens:], (3, 669)) # tokens d_mlp\n",
    "    average_neuron_attrs = neuron_attrs_by_token.mean(dim=0) # d_mlp\n",
    "\n",
    "    rhos = torch.zeros(n_tokens)\n",
    "    for i in range(n_tokens):\n",
    "        rhos[i] = spearman(neuron_attrs_by_token[i], average_neuron_attrs)\n",
    "    prompt_mean_rhos[prompt_n] = rhos.mean()\n",
    "\n",
    "print(prompt_mean_rhos)\n",
    "\n",
    "average_neuron_attrs = []\n",
    "for prompt_n, prompt in enumerate(prompts):\n",
    "    n_tokens = model.to_tokens(prompt).shape[1]\n",
    "    neuron_attrs_by_token, _ = neuron_to_context_neuron_DLA(model, prompt, np.s_[-n_tokens:], (3, 669))\n",
    "    average_neuron_attrs.append(neuron_attrs_by_token.mean(dim=0))\n",
    "    \n",
    "rhos = []\n",
    "for i in range(len(average_neuron_attrs)):\n",
    "    for j in range(i + 1, len(average_neuron_attrs)):\n",
    "        if i == j:\n",
    "            continue\n",
    "        rhos.append(f'{spearman(average_neuron_attrs[i], average_neuron_attrs[j]).item():2f}')\n",
    "\n",
    "print(rhos)"
   ]
  },
  {
   "cell_type": "markdown",
   "metadata": {},
   "source": [
    "### First run\n",
    "\n",
    "\n",
    "# Ablate each neuron in turn and look at how it affects the context neuron value (meaned over all prompts)\n",
    "\n",
    "# Check whether it activates for German words in an English context, both single common german chars and a full word\n",
    "# Ablate each neuron in turn and look at how it affects the context neuron value (meaned over a German token position within an English)\n",
    "\n",
    "# Collect a list\n",
    "\n",
    "# Look for head that moves German tokens\n",
    "# Look for head that moves German n-grams\n",
    "# Look for n-gram detector and see if it moves from there\n",
    "\n"
   ]
  },
  {
   "cell_type": "code",
   "execution_count": null,
   "metadata": {},
   "outputs": [
    {
     "name": "stdout",
     "output_type": "stream",
     "text": [
      "tensor([-0.1671, -0.1619, -0.0637, -0.0139, -0.0676, -0.1653, -0.1330, -0.0700,\n",
      "        -0.1339, -0.1104,  0.2194,  2.8279], device='cuda:0')\n"
     ]
    }
   ],
   "source": [
    "# Measure context neuron activation for many German tokens that never coalesce into German words\n",
    "# Measure context neuron activation for English words with a single German token mixed in\n",
    "# Measure above but make it semantically clear in the English that a German token is about to appear\n",
    "# Measure above but with a full German word\n",
    "# Measure above but semantically clear in English\n",
    "\n",
    "# Optional (if time permits):\n",
    "# Measure above but with common German unigrams\n",
    "\n",
    "# Need a way to measure at position\n",
    "\n",
    "test_prompt = \" given the generally greater adeptness of children ich\"\n",
    "test_prompt = \" given the generally greater adeptness of children ich bin\"\n",
    "# test_prompt = \" given the generally greater adeptness of children ich bin heute\"\n",
    "_, cache = model.run_with_cache(test_prompt)\n",
    "print(cache['blocks.3.mlp.hook_post'][0, :, 669])\n",
    "\n",
    "\n",
    "# check English tokenization, use ' und ' ' ich'"
   ]
  },
  {
   "cell_type": "code",
   "execution_count": null,
   "metadata": {},
   "outputs": [
    {
     "name": "stdout",
     "output_type": "stream",
     "text": [
      "Tried to stack head results when they weren't cached. Computing head results now\n"
     ]
    }
   ],
   "source": [
    "# items, labels = haystack_utils.DLA([test_prompt], model)\n",
    "\n",
    "items, labels = resid_to_context_neuron_DLA(model, test_prompt, context_neuron=(3, 669))\n",
    "# haystack_utils.line(items[0].cpu(), xticks=labels)"
   ]
  },
  {
   "cell_type": "code",
   "execution_count": null,
   "metadata": {},
   "outputs": [
    {
     "data": {
      "text/html": [
       "<div>                            <div id=\"2045daf1-7616-41a0-b51a-eeeb9b7dfeda\" class=\"plotly-graph-div\" style=\"height:525px; width:800px;\"></div>            <script type=\"text/javascript\">                require([\"plotly\"], function(Plotly) {                    window.PLOTLYENV=window.PLOTLYENV || {};                                    if (document.getElementById(\"2045daf1-7616-41a0-b51a-eeeb9b7dfeda\")) {                    Plotly.newPlot(                        \"2045daf1-7616-41a0-b51a-eeeb9b7dfeda\",                        [{\"hovertemplate\":\"variable=0\\u003cbr\\u003eindex=%{x}\\u003cbr\\u003evalue=%{y}\\u003cextra\\u003e\\u003c\\u002fextra\\u003e\",\"legendgroup\":\"0\",\"line\":{\"color\":\"#636efa\",\"dash\":\"solid\"},\"marker\":{\"symbol\":\"circle\"},\"mode\":\"lines\",\"name\":\"0\",\"orientation\":\"v\",\"showlegend\":true,\"x\":[0,1,2,3,4,5,6,7,8,9,10,11,12,13,14,15,16,17,18,19,20,21,22,23,24,25,26,27,28,29,30,31,32,33,34,35,36,37,38,39],\"xaxis\":\"x\",\"y\":[0.002088308334350586,0.1444474458694458,0.3546367585659027,-0.06780257821083069,0.08851706981658936,0.0889049619436264,0.0941934883594513,0.22725149989128113,-0.09667462855577469,0.056362710893154144,0.1906663328409195,-0.06949122995138168,0.25177568197250366,0.09449432790279388,-0.024621164426207542,0.025522436946630478,0.04925411194562912,0.0683869943022728,-0.028935719281435013,0.02602200210094452,0.18807007372379303,3.6586594581604004,-0.0034448131918907166,0.06468778848648071,-0.0005175511469133198,0.0035867118276655674,-0.0029818161856383085,-0.0074820430018007755,-0.0015235834289342165,0.00226035644300282,-0.0009205900132656097,0.0019801906310021877,-0.005774284712970257,0.001626266399398446,0.016917165368795395,-0.002980566117912531,-0.00269389059394598,-0.0011445090640336275,0.003015659749507904,-0.013643576763570309],\"yaxis\":\"y\",\"type\":\"scatter\"}],                        {\"template\":{\"data\":{\"histogram2dcontour\":[{\"type\":\"histogram2dcontour\",\"colorbar\":{\"outlinewidth\":0,\"ticks\":\"\"},\"colorscale\":[[0.0,\"#0d0887\"],[0.1111111111111111,\"#46039f\"],[0.2222222222222222,\"#7201a8\"],[0.3333333333333333,\"#9c179e\"],[0.4444444444444444,\"#bd3786\"],[0.5555555555555556,\"#d8576b\"],[0.6666666666666666,\"#ed7953\"],[0.7777777777777778,\"#fb9f3a\"],[0.8888888888888888,\"#fdca26\"],[1.0,\"#f0f921\"]]}],\"choropleth\":[{\"type\":\"choropleth\",\"colorbar\":{\"outlinewidth\":0,\"ticks\":\"\"}}],\"histogram2d\":[{\"type\":\"histogram2d\",\"colorbar\":{\"outlinewidth\":0,\"ticks\":\"\"},\"colorscale\":[[0.0,\"#0d0887\"],[0.1111111111111111,\"#46039f\"],[0.2222222222222222,\"#7201a8\"],[0.3333333333333333,\"#9c179e\"],[0.4444444444444444,\"#bd3786\"],[0.5555555555555556,\"#d8576b\"],[0.6666666666666666,\"#ed7953\"],[0.7777777777777778,\"#fb9f3a\"],[0.8888888888888888,\"#fdca26\"],[1.0,\"#f0f921\"]]}],\"heatmap\":[{\"type\":\"heatmap\",\"colorbar\":{\"outlinewidth\":0,\"ticks\":\"\"},\"colorscale\":[[0.0,\"#0d0887\"],[0.1111111111111111,\"#46039f\"],[0.2222222222222222,\"#7201a8\"],[0.3333333333333333,\"#9c179e\"],[0.4444444444444444,\"#bd3786\"],[0.5555555555555556,\"#d8576b\"],[0.6666666666666666,\"#ed7953\"],[0.7777777777777778,\"#fb9f3a\"],[0.8888888888888888,\"#fdca26\"],[1.0,\"#f0f921\"]]}],\"heatmapgl\":[{\"type\":\"heatmapgl\",\"colorbar\":{\"outlinewidth\":0,\"ticks\":\"\"},\"colorscale\":[[0.0,\"#0d0887\"],[0.1111111111111111,\"#46039f\"],[0.2222222222222222,\"#7201a8\"],[0.3333333333333333,\"#9c179e\"],[0.4444444444444444,\"#bd3786\"],[0.5555555555555556,\"#d8576b\"],[0.6666666666666666,\"#ed7953\"],[0.7777777777777778,\"#fb9f3a\"],[0.8888888888888888,\"#fdca26\"],[1.0,\"#f0f921\"]]}],\"contourcarpet\":[{\"type\":\"contourcarpet\",\"colorbar\":{\"outlinewidth\":0,\"ticks\":\"\"}}],\"contour\":[{\"type\":\"contour\",\"colorbar\":{\"outlinewidth\":0,\"ticks\":\"\"},\"colorscale\":[[0.0,\"#0d0887\"],[0.1111111111111111,\"#46039f\"],[0.2222222222222222,\"#7201a8\"],[0.3333333333333333,\"#9c179e\"],[0.4444444444444444,\"#bd3786\"],[0.5555555555555556,\"#d8576b\"],[0.6666666666666666,\"#ed7953\"],[0.7777777777777778,\"#fb9f3a\"],[0.8888888888888888,\"#fdca26\"],[1.0,\"#f0f921\"]]}],\"surface\":[{\"type\":\"surface\",\"colorbar\":{\"outlinewidth\":0,\"ticks\":\"\"},\"colorscale\":[[0.0,\"#0d0887\"],[0.1111111111111111,\"#46039f\"],[0.2222222222222222,\"#7201a8\"],[0.3333333333333333,\"#9c179e\"],[0.4444444444444444,\"#bd3786\"],[0.5555555555555556,\"#d8576b\"],[0.6666666666666666,\"#ed7953\"],[0.7777777777777778,\"#fb9f3a\"],[0.8888888888888888,\"#fdca26\"],[1.0,\"#f0f921\"]]}],\"mesh3d\":[{\"type\":\"mesh3d\",\"colorbar\":{\"outlinewidth\":0,\"ticks\":\"\"}}],\"scatter\":[{\"fillpattern\":{\"fillmode\":\"overlay\",\"size\":10,\"solidity\":0.2},\"type\":\"scatter\"}],\"parcoords\":[{\"type\":\"parcoords\",\"line\":{\"colorbar\":{\"outlinewidth\":0,\"ticks\":\"\"}}}],\"scatterpolargl\":[{\"type\":\"scatterpolargl\",\"marker\":{\"colorbar\":{\"outlinewidth\":0,\"ticks\":\"\"}}}],\"bar\":[{\"error_x\":{\"color\":\"#2a3f5f\"},\"error_y\":{\"color\":\"#2a3f5f\"},\"marker\":{\"line\":{\"color\":\"#E5ECF6\",\"width\":0.5},\"pattern\":{\"fillmode\":\"overlay\",\"size\":10,\"solidity\":0.2}},\"type\":\"bar\"}],\"scattergeo\":[{\"type\":\"scattergeo\",\"marker\":{\"colorbar\":{\"outlinewidth\":0,\"ticks\":\"\"}}}],\"scatterpolar\":[{\"type\":\"scatterpolar\",\"marker\":{\"colorbar\":{\"outlinewidth\":0,\"ticks\":\"\"}}}],\"histogram\":[{\"marker\":{\"pattern\":{\"fillmode\":\"overlay\",\"size\":10,\"solidity\":0.2}},\"type\":\"histogram\"}],\"scattergl\":[{\"type\":\"scattergl\",\"marker\":{\"colorbar\":{\"outlinewidth\":0,\"ticks\":\"\"}}}],\"scatter3d\":[{\"type\":\"scatter3d\",\"line\":{\"colorbar\":{\"outlinewidth\":0,\"ticks\":\"\"}},\"marker\":{\"colorbar\":{\"outlinewidth\":0,\"ticks\":\"\"}}}],\"scattermapbox\":[{\"type\":\"scattermapbox\",\"marker\":{\"colorbar\":{\"outlinewidth\":0,\"ticks\":\"\"}}}],\"scatterternary\":[{\"type\":\"scatterternary\",\"marker\":{\"colorbar\":{\"outlinewidth\":0,\"ticks\":\"\"}}}],\"scattercarpet\":[{\"type\":\"scattercarpet\",\"marker\":{\"colorbar\":{\"outlinewidth\":0,\"ticks\":\"\"}}}],\"carpet\":[{\"aaxis\":{\"endlinecolor\":\"#2a3f5f\",\"gridcolor\":\"white\",\"linecolor\":\"white\",\"minorgridcolor\":\"white\",\"startlinecolor\":\"#2a3f5f\"},\"baxis\":{\"endlinecolor\":\"#2a3f5f\",\"gridcolor\":\"white\",\"linecolor\":\"white\",\"minorgridcolor\":\"white\",\"startlinecolor\":\"#2a3f5f\"},\"type\":\"carpet\"}],\"table\":[{\"cells\":{\"fill\":{\"color\":\"#EBF0F8\"},\"line\":{\"color\":\"white\"}},\"header\":{\"fill\":{\"color\":\"#C8D4E3\"},\"line\":{\"color\":\"white\"}},\"type\":\"table\"}],\"barpolar\":[{\"marker\":{\"line\":{\"color\":\"#E5ECF6\",\"width\":0.5},\"pattern\":{\"fillmode\":\"overlay\",\"size\":10,\"solidity\":0.2}},\"type\":\"barpolar\"}],\"pie\":[{\"automargin\":true,\"type\":\"pie\"}]},\"layout\":{\"autotypenumbers\":\"strict\",\"colorway\":[\"#636efa\",\"#EF553B\",\"#00cc96\",\"#ab63fa\",\"#FFA15A\",\"#19d3f3\",\"#FF6692\",\"#B6E880\",\"#FF97FF\",\"#FECB52\"],\"font\":{\"color\":\"#2a3f5f\"},\"hovermode\":\"closest\",\"hoverlabel\":{\"align\":\"left\"},\"paper_bgcolor\":\"white\",\"plot_bgcolor\":\"#E5ECF6\",\"polar\":{\"bgcolor\":\"#E5ECF6\",\"angularaxis\":{\"gridcolor\":\"white\",\"linecolor\":\"white\",\"ticks\":\"\"},\"radialaxis\":{\"gridcolor\":\"white\",\"linecolor\":\"white\",\"ticks\":\"\"}},\"ternary\":{\"bgcolor\":\"#E5ECF6\",\"aaxis\":{\"gridcolor\":\"white\",\"linecolor\":\"white\",\"ticks\":\"\"},\"baxis\":{\"gridcolor\":\"white\",\"linecolor\":\"white\",\"ticks\":\"\"},\"caxis\":{\"gridcolor\":\"white\",\"linecolor\":\"white\",\"ticks\":\"\"}},\"coloraxis\":{\"colorbar\":{\"outlinewidth\":0,\"ticks\":\"\"}},\"colorscale\":{\"sequential\":[[0.0,\"#0d0887\"],[0.1111111111111111,\"#46039f\"],[0.2222222222222222,\"#7201a8\"],[0.3333333333333333,\"#9c179e\"],[0.4444444444444444,\"#bd3786\"],[0.5555555555555556,\"#d8576b\"],[0.6666666666666666,\"#ed7953\"],[0.7777777777777778,\"#fb9f3a\"],[0.8888888888888888,\"#fdca26\"],[1.0,\"#f0f921\"]],\"sequentialminus\":[[0.0,\"#0d0887\"],[0.1111111111111111,\"#46039f\"],[0.2222222222222222,\"#7201a8\"],[0.3333333333333333,\"#9c179e\"],[0.4444444444444444,\"#bd3786\"],[0.5555555555555556,\"#d8576b\"],[0.6666666666666666,\"#ed7953\"],[0.7777777777777778,\"#fb9f3a\"],[0.8888888888888888,\"#fdca26\"],[1.0,\"#f0f921\"]],\"diverging\":[[0,\"#8e0152\"],[0.1,\"#c51b7d\"],[0.2,\"#de77ae\"],[0.3,\"#f1b6da\"],[0.4,\"#fde0ef\"],[0.5,\"#f7f7f7\"],[0.6,\"#e6f5d0\"],[0.7,\"#b8e186\"],[0.8,\"#7fbc41\"],[0.9,\"#4d9221\"],[1,\"#276419\"]]},\"xaxis\":{\"gridcolor\":\"white\",\"linecolor\":\"white\",\"ticks\":\"\",\"title\":{\"standoff\":15},\"zerolinecolor\":\"white\",\"automargin\":true,\"zerolinewidth\":2},\"yaxis\":{\"gridcolor\":\"white\",\"linecolor\":\"white\",\"ticks\":\"\",\"title\":{\"standoff\":15},\"zerolinecolor\":\"white\",\"automargin\":true,\"zerolinewidth\":2},\"scene\":{\"xaxis\":{\"backgroundcolor\":\"#E5ECF6\",\"gridcolor\":\"white\",\"linecolor\":\"white\",\"showbackground\":true,\"ticks\":\"\",\"zerolinecolor\":\"white\",\"gridwidth\":2},\"yaxis\":{\"backgroundcolor\":\"#E5ECF6\",\"gridcolor\":\"white\",\"linecolor\":\"white\",\"showbackground\":true,\"ticks\":\"\",\"zerolinecolor\":\"white\",\"gridwidth\":2},\"zaxis\":{\"backgroundcolor\":\"#E5ECF6\",\"gridcolor\":\"white\",\"linecolor\":\"white\",\"showbackground\":true,\"ticks\":\"\",\"zerolinecolor\":\"white\",\"gridwidth\":2}},\"shapedefaults\":{\"line\":{\"color\":\"#2a3f5f\"}},\"annotationdefaults\":{\"arrowcolor\":\"#2a3f5f\",\"arrowhead\":0,\"arrowwidth\":1},\"geo\":{\"bgcolor\":\"white\",\"landcolor\":\"#E5ECF6\",\"subunitcolor\":\"white\",\"showland\":true,\"showlakes\":true,\"lakecolor\":\"white\"},\"title\":{\"x\":0.05},\"mapbox\":{\"style\":\"light\"}}},\"xaxis\":{\"anchor\":\"y\",\"domain\":[0.0,1.0],\"title\":{\"text\":\"\"},\"tickmode\":\"array\",\"tickvals\":[0,1,2,3,4,5,6,7,8,9,10,11,12,13,14,15,16,17,18,19,20,21,22,23,24,25,26,27,28,29,30,31,32,33,34,35,36,37,38,39],\"ticktext\":[\"L0H0\",\"L0H1\",\"L0H2\",\"L0H3\",\"L0H4\",\"L0H5\",\"L0H6\",\"L0H7\",\"L1H0\",\"L1H1\",\"L1H2\",\"L1H3\",\"L1H4\",\"L1H5\",\"L1H6\",\"L1H7\",\"L2H0\",\"L2H1\",\"L2H2\",\"L2H3\",\"L2H4\",\"L2H5\",\"L2H6\",\"L2H7\",\"L0N0\",\"L0N1\",\"L0N2\",\"L0N3\",\"L0N4\",\"L0N5\",\"L0N6\",\"L0N7\",\"L0N8\",\"L0N9\",\"L0N10\",\"L0N11\",\"L0N12\",\"L0N13\",\"L0N14\",\"L0N15\"],\"range\":[-0.2,39.2]},\"yaxis\":{\"anchor\":\"x\",\"domain\":[0.0,1.0],\"title\":{\"text\":\"\"}},\"legend\":{\"title\":{\"text\":\"variable\"},\"tracegroupgap\":0},\"margin\":{\"t\":60},\"width\":800,\"showlegend\":true},                        {\"responsive\": true}                    ).then(function(){\n",
       "                            \n",
       "var gd = document.getElementById('2045daf1-7616-41a0-b51a-eeeb9b7dfeda');\n",
       "var x = new MutationObserver(function (mutations, observer) {{\n",
       "        var display = window.getComputedStyle(gd).display;\n",
       "        if (!display || display === 'none') {{\n",
       "            console.log([gd, 'removed!']);\n",
       "            Plotly.purge(gd);\n",
       "            observer.disconnect();\n",
       "        }}\n",
       "}});\n",
       "\n",
       "// Listen for the removal of the full notebook cells\n",
       "var notebookContainer = gd.closest('#notebook-container');\n",
       "if (notebookContainer) {{\n",
       "    x.observe(notebookContainer, {childList: true});\n",
       "}}\n",
       "\n",
       "// Listen for the clearing of the current output cell\n",
       "var outputEl = gd.closest('.output');\n",
       "if (outputEl) {{\n",
       "    x.observe(outputEl, {childList: true});\n",
       "}}\n",
       "\n",
       "                        })                };                });            </script>        </div>"
      ]
     },
     "metadata": {},
     "output_type": "display_data"
    }
   ],
   "source": [
    "haystack_utils.line(items[0, :40].cpu(), xticks=labels[:40])"
   ]
  },
  {
   "cell_type": "code",
   "execution_count": null,
   "metadata": {},
   "outputs": [
    {
     "name": "stdout",
     "output_type": "stream",
     "text": [
      "['<|endoftext|>', ' given', ' the', ' generally', ' greater', ' ad', 'ept', 'ness', ' of', ' children', ' ich', ' bin']\n"
     ]
    },
    {
     "data": {
      "text/html": [
       "\n",
       "        <div style='max-width: 300px; max-height: 300px; padding: 20px;'>\n",
       "            <div id=\"circuits-vis-94888b8f-7db8\" style=\"margin: 15px 0;\"/>\n",
       "    <script crossorigin type=\"module\">\n",
       "    import { render, AttentionPattern } from \"https://unpkg.com/circuitsvis@1.40.1/dist/cdn/esm.js\";\n",
       "    render(\n",
       "      \"circuits-vis-94888b8f-7db8\",\n",
       "      AttentionPattern,\n",
       "      {\"tokens\": [\"<|endoftext|>\", \" given\", \" the\", \" generally\", \" greater\", \" ad\", \"ept\", \"ness\", \" of\", \" children\", \" ich\", \" bin\"], \"attention\": [[1.0, 0.0, 0.0, 0.0, 0.0, 0.0, 0.0, 0.0, 0.0, 0.0, 0.0, 0.0], [0.38292038440704346, 0.6170796155929565, 0.0, 0.0, 0.0, 0.0, 0.0, 0.0, 0.0, 0.0, 0.0, 0.0], [0.40418052673339844, 0.4641099274158478, 0.1317095309495926, 0.0, 0.0, 0.0, 0.0, 0.0, 0.0, 0.0, 0.0, 0.0], [0.4077094495296478, 0.19677691161632538, 0.09123349189758301, 0.304280161857605, 0.0, 0.0, 0.0, 0.0, 0.0, 0.0, 0.0, 0.0], [0.48844972252845764, 0.1777666062116623, 0.09431897103786469, 0.1402750313282013, 0.09918973594903946, 0.0, 0.0, 0.0, 0.0, 0.0, 0.0, 0.0], [0.4338633418083191, 0.12468212842941284, 0.1798505336046219, 0.08391767740249634, 0.06682445108890533, 0.1108618825674057, 0.0, 0.0, 0.0, 0.0, 0.0, 0.0], [0.4228573739528656, 0.05857255309820175, 0.09684813767671585, 0.05881066992878914, 0.06868778169155121, 0.06309432536363602, 0.2311292141675949, 0.0, 0.0, 0.0, 0.0, 0.0], [0.5150706768035889, 0.0532209649682045, 0.028896857053041458, 0.0740375965833664, 0.063443623483181, 0.023601267486810684, 0.14908982813358307, 0.09263919293880463, 0.0, 0.0, 0.0, 0.0], [0.46110039949417114, 0.09533107280731201, 0.07822700589895248, 0.06142660230398178, 0.047260284423828125, 0.019056295976042747, 0.07927367091178894, 0.07156116515398026, 0.0867634266614914, 0.0, 0.0, 0.0], [0.39768874645233154, 0.09206660836935043, 0.0344347208738327, 0.058102332055568695, 0.06029237061738968, 0.042695749551057816, 0.07656775414943695, 0.05073842406272888, 0.06254489719867706, 0.12486841529607773, 0.0, 0.0], [0.4473658502101898, 0.05303807184100151, 0.14109167456626892, 0.006907439325004816, 0.01274929940700531, 0.021584615111351013, 0.05789531394839287, 0.027820883318781853, 0.018371785059571266, 0.026769859716296196, 0.18640519678592682, 0.0], [0.1565985083580017, 0.05220329761505127, 0.04348326474428177, 0.008560513146221638, 0.015288634225726128, 0.017784113064408302, 0.03905823454260826, 0.017686011269688606, 0.017141982913017273, 0.02947787195444107, 0.5415358543395996, 0.0611816942691803]]}\n",
       "    )\n",
       "    </script>\n",
       "        </div>\n",
       "        "
      ],
      "text/plain": [
       "<__main__.SizeLimitedObject at 0x7fb1b4571f00>"
      ]
     },
     "execution_count": 13,
     "metadata": {},
     "output_type": "execute_result"
    }
   ],
   "source": [
    "import circuitsvis\n",
    "\n",
    "class SizeLimitedObject:\n",
    "    def __init__(self, obj, max_width='500px', max_height='500px'):\n",
    "        self.obj = obj\n",
    "        self.max_width = max_width\n",
    "        self.max_height = max_height\n",
    "\n",
    "    def _repr_html_(self):\n",
    "        return f\"\"\"\n",
    "        <div style='max-width: {self.max_width}; max-height: {self.max_height}; padding: 20px;'>\n",
    "            {self.obj._repr_html_()}\n",
    "        </div>\n",
    "        \"\"\"\n",
    "\n",
    "tokens = model.to_str_tokens(model.to_tokens(test_prompt)[0])\n",
    "print(tokens)\n",
    "\n",
    "head_attention = circuitsvis.attention.attention_pattern(tokens=tokens, attention=cache['blocks.2.attn.hook_pattern'][0, 5, :, :])\n",
    "sized_viz = SizeLimitedObject(head_attention, max_height='300px', max_width='300px')\n",
    "sized_viz"
   ]
  },
  {
   "cell_type": "code",
   "execution_count": null,
   "metadata": {},
   "outputs": [
    {
     "data": {
      "text/html": [
       "\n",
       "        <div style='max-width: 500px; max-height: 500px; padding: 20px;'>\n",
       "            <div id=\"circuits-vis-315a828b-f61f\" style=\"margin: 15px 0;\"/>\n",
       "    <script crossorigin type=\"module\">\n",
       "    import { render, AttentionPattern } from \"https://unpkg.com/circuitsvis@1.40.1/dist/cdn/esm.js\";\n",
       "    render(\n",
       "      \"circuits-vis-315a828b-f61f\",\n",
       "      AttentionPattern,\n",
       "      {\"tokens\": [\"<|endoftext|>\", \"given\", \" the\", \" generally\", \" greater\", \" ad\", \"ept\", \"ness\", \" of\", \" children\", \" at\", \" using\", \" audio\", \"-\", \"visual\", \" resources\", \",\", \" in\", \" some\", \"     \", \"are\", \"as\", \" there\", \" are\", \" dangers\", \" of\", \" their\", \" obtaining\", \" access\", \" to\", \" unsuitable\", \" or\", \" harmful\", \" material\", \".\", \" This\", \" is\", \" most\", \" obvious\", \"     \", \"in\", \" the\", \" fields\", \" of\", \" overt\", \" sexual\", \" material\", \" and\", \" grat\", \"uit\", \"ous\", \" violence\", \".\", \"\\n\", \"The\", \" principles\", \" which\", \" have\", \" guide\", \" ich\", \" bin\", \" ha\", \"ute\"], \"attention\": [[1.0, 0.0, 0.0, 0.0, 0.0, 0.0, 0.0, 0.0, 0.0, 0.0, 0.0, 0.0, 0.0, 0.0, 0.0, 0.0, 0.0, 0.0, 0.0, 0.0, 0.0, 0.0, 0.0, 0.0, 0.0, 0.0, 0.0, 0.0, 0.0, 0.0, 0.0, 0.0, 0.0, 0.0, 0.0, 0.0, 0.0, 0.0, 0.0, 0.0, 0.0, 0.0, 0.0, 0.0, 0.0, 0.0, 0.0, 0.0, 0.0, 0.0, 0.0, 0.0, 0.0, 0.0, 0.0, 0.0, 0.0, 0.0, 0.0, 0.0, 0.0, 0.0, 0.0], [0.5840084552764893, 0.41599154472351074, 0.0, 0.0, 0.0, 0.0, 0.0, 0.0, 0.0, 0.0, 0.0, 0.0, 0.0, 0.0, 0.0, 0.0, 0.0, 0.0, 0.0, 0.0, 0.0, 0.0, 0.0, 0.0, 0.0, 0.0, 0.0, 0.0, 0.0, 0.0, 0.0, 0.0, 0.0, 0.0, 0.0, 0.0, 0.0, 0.0, 0.0, 0.0, 0.0, 0.0, 0.0, 0.0, 0.0, 0.0, 0.0, 0.0, 0.0, 0.0, 0.0, 0.0, 0.0, 0.0, 0.0, 0.0, 0.0, 0.0, 0.0, 0.0, 0.0, 0.0, 0.0], [0.5153542160987854, 0.33451101183891296, 0.15013475716114044, 0.0, 0.0, 0.0, 0.0, 0.0, 0.0, 0.0, 0.0, 0.0, 0.0, 0.0, 0.0, 0.0, 0.0, 0.0, 0.0, 0.0, 0.0, 0.0, 0.0, 0.0, 0.0, 0.0, 0.0, 0.0, 0.0, 0.0, 0.0, 0.0, 0.0, 0.0, 0.0, 0.0, 0.0, 0.0, 0.0, 0.0, 0.0, 0.0, 0.0, 0.0, 0.0, 0.0, 0.0, 0.0, 0.0, 0.0, 0.0, 0.0, 0.0, 0.0, 0.0, 0.0, 0.0, 0.0, 0.0, 0.0, 0.0, 0.0, 0.0], [0.49539729952812195, 0.15866294503211975, 0.09130707383155823, 0.25463274121284485, 0.0, 0.0, 0.0, 0.0, 0.0, 0.0, 0.0, 0.0, 0.0, 0.0, 0.0, 0.0, 0.0, 0.0, 0.0, 0.0, 0.0, 0.0, 0.0, 0.0, 0.0, 0.0, 0.0, 0.0, 0.0, 0.0, 0.0, 0.0, 0.0, 0.0, 0.0, 0.0, 0.0, 0.0, 0.0, 0.0, 0.0, 0.0, 0.0, 0.0, 0.0, 0.0, 0.0, 0.0, 0.0, 0.0, 0.0, 0.0, 0.0, 0.0, 0.0, 0.0, 0.0, 0.0, 0.0, 0.0, 0.0, 0.0, 0.0], [0.5660716891288757, 0.12895144522190094, 0.08846414089202881, 0.12859585881233215, 0.08791690319776535, 0.0, 0.0, 0.0, 0.0, 0.0, 0.0, 0.0, 0.0, 0.0, 0.0, 0.0, 0.0, 0.0, 0.0, 0.0, 0.0, 0.0, 0.0, 0.0, 0.0, 0.0, 0.0, 0.0, 0.0, 0.0, 0.0, 0.0, 0.0, 0.0, 0.0, 0.0, 0.0, 0.0, 0.0, 0.0, 0.0, 0.0, 0.0, 0.0, 0.0, 0.0, 0.0, 0.0, 0.0, 0.0, 0.0, 0.0, 0.0, 0.0, 0.0, 0.0, 0.0, 0.0, 0.0, 0.0, 0.0, 0.0, 0.0], [0.4234921634197235, 0.13027286529541016, 0.1890886276960373, 0.08310792595148087, 0.05896127223968506, 0.11507722735404968, 0.0, 0.0, 0.0, 0.0, 0.0, 0.0, 0.0, 0.0, 0.0, 0.0, 0.0, 0.0, 0.0, 0.0, 0.0, 0.0, 0.0, 0.0, 0.0, 0.0, 0.0, 0.0, 0.0, 0.0, 0.0, 0.0, 0.0, 0.0, 0.0, 0.0, 0.0, 0.0, 0.0, 0.0, 0.0, 0.0, 0.0, 0.0, 0.0, 0.0, 0.0, 0.0, 0.0, 0.0, 0.0, 0.0, 0.0, 0.0, 0.0, 0.0, 0.0, 0.0, 0.0, 0.0, 0.0, 0.0, 0.0], [0.419528990983963, 0.063906729221344, 0.11706967651844025, 0.06462874263525009, 0.06430644541978836, 0.06555411219596863, 0.2050052434206009, 0.0, 0.0, 0.0, 0.0, 0.0, 0.0, 0.0, 0.0, 0.0, 0.0, 0.0, 0.0, 0.0, 0.0, 0.0, 0.0, 0.0, 0.0, 0.0, 0.0, 0.0, 0.0, 0.0, 0.0, 0.0, 0.0, 0.0, 0.0, 0.0, 0.0, 0.0, 0.0, 0.0, 0.0, 0.0, 0.0, 0.0, 0.0, 0.0, 0.0, 0.0, 0.0, 0.0, 0.0, 0.0, 0.0, 0.0, 0.0, 0.0, 0.0, 0.0, 0.0, 0.0, 0.0, 0.0, 0.0], [0.575361430644989, 0.031204888597130775, 0.03500399738550186, 0.07012487202882767, 0.05844936892390251, 0.022910337895154953, 0.11804582923650742, 0.08889932185411453, 0.0, 0.0, 0.0, 0.0, 0.0, 0.0, 0.0, 0.0, 0.0, 0.0, 0.0, 0.0, 0.0, 0.0, 0.0, 0.0, 0.0, 0.0, 0.0, 0.0, 0.0, 0.0, 0.0, 0.0, 0.0, 0.0, 0.0, 0.0, 0.0, 0.0, 0.0, 0.0, 0.0, 0.0, 0.0, 0.0, 0.0, 0.0, 0.0, 0.0, 0.0, 0.0, 0.0, 0.0, 0.0, 0.0, 0.0, 0.0, 0.0, 0.0, 0.0, 0.0, 0.0, 0.0, 0.0], [0.5146810412406921, 0.06269677728414536, 0.06989231705665588, 0.07168015092611313, 0.043611302971839905, 0.02113110013306141, 0.07105062156915665, 0.0698479637503624, 0.0754086971282959, 0.0, 0.0, 0.0, 0.0, 0.0, 0.0, 0.0, 0.0, 0.0, 0.0, 0.0, 0.0, 0.0, 0.0, 0.0, 0.0, 0.0, 0.0, 0.0, 0.0, 0.0, 0.0, 0.0, 0.0, 0.0, 0.0, 0.0, 0.0, 0.0, 0.0, 0.0, 0.0, 0.0, 0.0, 0.0, 0.0, 0.0, 0.0, 0.0, 0.0, 0.0, 0.0, 0.0, 0.0, 0.0, 0.0, 0.0, 0.0, 0.0, 0.0, 0.0, 0.0, 0.0, 0.0], [0.4305495023727417, 0.09216881543397903, 0.034310538321733475, 0.05696863308548927, 0.052244555205106735, 0.04249817132949829, 0.061398472636938095, 0.047951582819223404, 0.052895497530698776, 0.129014253616333, 0.0, 0.0, 0.0, 0.0, 0.0, 0.0, 0.0, 0.0, 0.0, 0.0, 0.0, 0.0, 0.0, 0.0, 0.0, 0.0, 0.0, 0.0, 0.0, 0.0, 0.0, 0.0, 0.0, 0.0, 0.0, 0.0, 0.0, 0.0, 0.0, 0.0, 0.0, 0.0, 0.0, 0.0, 0.0, 0.0, 0.0, 0.0, 0.0, 0.0, 0.0, 0.0, 0.0, 0.0, 0.0, 0.0, 0.0, 0.0, 0.0, 0.0, 0.0, 0.0, 0.0], [0.3826802372932434, 0.11938074976205826, 0.0575624518096447, 0.06892267614603043, 0.07357977330684662, 0.024255067110061646, 0.05788254365324974, 0.059693843126297, 0.045912303030490875, 0.07583680003881454, 0.0342935211956501, 0.0, 0.0, 0.0, 0.0, 0.0, 0.0, 0.0, 0.0, 0.0, 0.0, 0.0, 0.0, 0.0, 0.0, 0.0, 0.0, 0.0, 0.0, 0.0, 0.0, 0.0, 0.0, 0.0, 0.0, 0.0, 0.0, 0.0, 0.0, 0.0, 0.0, 0.0, 0.0, 0.0, 0.0, 0.0, 0.0, 0.0, 0.0, 0.0, 0.0, 0.0, 0.0, 0.0, 0.0, 0.0, 0.0, 0.0, 0.0, 0.0, 0.0, 0.0, 0.0], [0.28682175278663635, 0.1178760975599289, 0.05149616673588753, 0.09688273817300797, 0.07233291864395142, 0.01968344673514366, 0.047962263226509094, 0.04616127535700798, 0.04604990780353546, 0.08954524993896484, 0.0408787801861763, 0.08430943638086319, 0.0, 0.0, 0.0, 0.0, 0.0, 0.0, 0.0, 0.0, 0.0, 0.0, 0.0, 0.0, 0.0, 0.0, 0.0, 0.0, 0.0, 0.0, 0.0, 0.0, 0.0, 0.0, 0.0, 0.0, 0.0, 0.0, 0.0, 0.0, 0.0, 0.0, 0.0, 0.0, 0.0, 0.0, 0.0, 0.0, 0.0, 0.0, 0.0, 0.0, 0.0, 0.0, 0.0, 0.0, 0.0, 0.0, 0.0, 0.0, 0.0, 0.0, 0.0], [0.337664395570755, 0.08014807105064392, 0.03163207694888115, 0.08643606305122375, 0.05160610005259514, 0.039942897856235504, 0.04891660436987877, 0.03613106533885002, 0.030374128371477127, 0.07702594995498657, 0.022136585786938667, 0.03805585950613022, 0.11993023008108139, 0.0, 0.0, 0.0, 0.0, 0.0, 0.0, 0.0, 0.0, 0.0, 0.0, 0.0, 0.0, 0.0, 0.0, 0.0, 0.0, 0.0, 0.0, 0.0, 0.0, 0.0, 0.0, 0.0, 0.0, 0.0, 0.0, 0.0, 0.0, 0.0, 0.0, 0.0, 0.0, 0.0, 0.0, 0.0, 0.0, 0.0, 0.0, 0.0, 0.0, 0.0, 0.0, 0.0, 0.0, 0.0, 0.0, 0.0, 0.0, 0.0, 0.0], [0.44848236441612244, 0.05567952245473862, 0.06944607943296432, 0.019385766237974167, 0.038669854402542114, 0.020513730123639107, 0.06912679970264435, 0.08008699119091034, 0.030204759910702705, 0.041839826852083206, 0.012798492796719074, 0.026403656229376793, 0.05040377005934715, 0.03695842996239662, 0.0, 0.0, 0.0, 0.0, 0.0, 0.0, 0.0, 0.0, 0.0, 0.0, 0.0, 0.0, 0.0, 0.0, 0.0, 0.0, 0.0, 0.0, 0.0, 0.0, 0.0, 0.0, 0.0, 0.0, 0.0, 0.0, 0.0, 0.0, 0.0, 0.0, 0.0, 0.0, 0.0, 0.0, 0.0, 0.0, 0.0, 0.0, 0.0, 0.0, 0.0, 0.0, 0.0, 0.0, 0.0, 0.0, 0.0, 0.0, 0.0], [0.4081985652446747, 0.023887408897280693, 0.02324872836470604, 0.02394956164062023, 0.028576727956533432, 0.024637704715132713, 0.04407162591814995, 0.06781504303216934, 0.06148163229227066, 0.04443354159593582, 0.023822946473956108, 0.039620522409677505, 0.06850499659776688, 0.06535205990076065, 0.05239885300397873, 0.0, 0.0, 0.0, 0.0, 0.0, 0.0, 0.0, 0.0, 0.0, 0.0, 0.0, 0.0, 0.0, 0.0, 0.0, 0.0, 0.0, 0.0, 0.0, 0.0, 0.0, 0.0, 0.0, 0.0, 0.0, 0.0, 0.0, 0.0, 0.0, 0.0, 0.0, 0.0, 0.0, 0.0, 0.0, 0.0, 0.0, 0.0, 0.0, 0.0, 0.0, 0.0, 0.0, 0.0, 0.0, 0.0, 0.0, 0.0], [0.31737828254699707, 0.0418100543320179, 0.005274923052638769, 0.04251592233777046, 0.04342962056398392, 0.01365467719733715, 0.053229205310344696, 0.016686828806996346, 0.05206869915127754, 0.03967128321528435, 0.03488270565867424, 0.030625229701399803, 0.03827569633722305, 0.04955142363905907, 0.052433405071496964, 0.1685120314359665, 0.0, 0.0, 0.0, 0.0, 0.0, 0.0, 0.0, 0.0, 0.0, 0.0, 0.0, 0.0, 0.0, 0.0, 0.0, 0.0, 0.0, 0.0, 0.0, 0.0, 0.0, 0.0, 0.0, 0.0, 0.0, 0.0, 0.0, 0.0, 0.0, 0.0, 0.0, 0.0, 0.0, 0.0, 0.0, 0.0, 0.0, 0.0, 0.0, 0.0, 0.0, 0.0, 0.0, 0.0, 0.0, 0.0, 0.0], [0.3301287889480591, 0.05892990902066231, 0.009658911265432835, 0.04789789393544197, 0.061471737921237946, 0.010259848088026047, 0.07978937029838562, 0.029828758910298347, 0.05114771053195, 0.026461314409971237, 0.0294985119253397, 0.023321539163589478, 0.031313203275203705, 0.028896527364850044, 0.036984074860811234, 0.11778470873832703, 0.026627177372574806, 0.0, 0.0, 0.0, 0.0, 0.0, 0.0, 0.0, 0.0, 0.0, 0.0, 0.0, 0.0, 0.0, 0.0, 0.0, 0.0, 0.0, 0.0, 0.0, 0.0, 0.0, 0.0, 0.0, 0.0, 0.0, 0.0, 0.0, 0.0, 0.0, 0.0, 0.0, 0.0, 0.0, 0.0, 0.0, 0.0, 0.0, 0.0, 0.0, 0.0, 0.0, 0.0, 0.0, 0.0, 0.0, 0.0], [0.1709897518157959, 0.15281955897808075, 0.0345478430390358, 0.06600715965032578, 0.05663925036787987, 0.020498359575867653, 0.06944114714860916, 0.034912604838609695, 0.04449424147605896, 0.0344594269990921, 0.03885889798402786, 0.03238371014595032, 0.0413493812084198, 0.020646151155233383, 0.032033298164606094, 0.08119863271713257, 0.023450708016753197, 0.045269813388586044, 0.0, 0.0, 0.0, 0.0, 0.0, 0.0, 0.0, 0.0, 0.0, 0.0, 0.0, 0.0, 0.0, 0.0, 0.0, 0.0, 0.0, 0.0, 0.0, 0.0, 0.0, 0.0, 0.0, 0.0, 0.0, 0.0, 0.0, 0.0, 0.0, 0.0, 0.0, 0.0, 0.0, 0.0, 0.0, 0.0, 0.0, 0.0, 0.0, 0.0, 0.0, 0.0, 0.0, 0.0, 0.0], [0.213077113032341, 0.08076950907707214, 0.04723948612809181, 0.08623407781124115, 0.05937976762652397, 0.02051968313753605, 0.05337056890130043, 0.02530050277709961, 0.03854181617498398, 0.03351602703332901, 0.029862213879823685, 0.03119485266506672, 0.03827570378780365, 0.02442031353712082, 0.02452159859240055, 0.0799422562122345, 0.026242956519126892, 0.02846093475818634, 0.059130627661943436, 0.0, 0.0, 0.0, 0.0, 0.0, 0.0, 0.0, 0.0, 0.0, 0.0, 0.0, 0.0, 0.0, 0.0, 0.0, 0.0, 0.0, 0.0, 0.0, 0.0, 0.0, 0.0, 0.0, 0.0, 0.0, 0.0, 0.0, 0.0, 0.0, 0.0, 0.0, 0.0, 0.0, 0.0, 0.0, 0.0, 0.0, 0.0, 0.0, 0.0, 0.0, 0.0, 0.0, 0.0], [0.18461406230926514, 0.2008458971977234, 0.042658306658267975, 0.01206381618976593, 0.058572083711624146, 0.019954601302742958, 0.066421739757061, 0.030096011236310005, 0.017834264785051346, 0.016792764887213707, 0.008002503775060177, 0.008628306910395622, 0.04652521759271622, 0.008444387465715408, 0.015450668521225452, 0.021243790164589882, 0.009318051859736443, 0.011896084062755108, 0.0033924616873264313, 0.21724490821361542, 0.0, 0.0, 0.0, 0.0, 0.0, 0.0, 0.0, 0.0, 0.0, 0.0, 0.0, 0.0, 0.0, 0.0, 0.0, 0.0, 0.0, 0.0, 0.0, 0.0, 0.0, 0.0, 0.0, 0.0, 0.0, 0.0, 0.0, 0.0, 0.0, 0.0, 0.0, 0.0, 0.0, 0.0, 0.0, 0.0, 0.0, 0.0, 0.0, 0.0, 0.0, 0.0, 0.0], [0.241057351231575, 0.03656192123889923, 0.02842702530324459, 0.02276398055255413, 0.05277802795171738, 0.020228317007422447, 0.09810871630907059, 0.045422956347465515, 0.03203263878822327, 0.03012222796678543, 0.021836107596755028, 0.02124420553445816, 0.03111196495592594, 0.008710877038538456, 0.022268375381827354, 0.07410876452922821, 0.029902132228016853, 0.024452686309814453, 0.03157489374279976, 0.0936523899435997, 0.033634476363658905, 0.0, 0.0, 0.0, 0.0, 0.0, 0.0, 0.0, 0.0, 0.0, 0.0, 0.0, 0.0, 0.0, 0.0, 0.0, 0.0, 0.0, 0.0, 0.0, 0.0, 0.0, 0.0, 0.0, 0.0, 0.0, 0.0, 0.0, 0.0, 0.0, 0.0, 0.0, 0.0, 0.0, 0.0, 0.0, 0.0, 0.0, 0.0, 0.0, 0.0, 0.0, 0.0], [0.3073130249977112, 0.030221721157431602, 0.012207355350255966, 0.026391247287392616, 0.023463236168026924, 0.025070462375879288, 0.07445824891328812, 0.035017479211091995, 0.036849647760391235, 0.02242019772529602, 0.028517132624983788, 0.026221303269267082, 0.044746074825525284, 0.021754585206508636, 0.0271160751581192, 0.07779988646507263, 0.03183785080909729, 0.0329790860414505, 0.03370632603764534, 0.05505293980240822, 0.013042480684816837, 0.013813631609082222, 0.0, 0.0, 0.0, 0.0, 0.0, 0.0, 0.0, 0.0, 0.0, 0.0, 0.0, 0.0, 0.0, 0.0, 0.0, 0.0, 0.0, 0.0, 0.0, 0.0, 0.0, 0.0, 0.0, 0.0, 0.0, 0.0, 0.0, 0.0, 0.0, 0.0, 0.0, 0.0, 0.0, 0.0, 0.0, 0.0, 0.0, 0.0, 0.0, 0.0, 0.0], [0.2837890386581421, 0.06707024574279785, 0.022774141281843185, 0.018621182069182396, 0.04265784099698067, 0.018749698996543884, 0.0664290338754654, 0.021156802773475647, 0.018088530749082565, 0.026989268139004707, 0.022306188941001892, 0.02040400169789791, 0.026874087750911713, 0.020546555519104004, 0.021467091515660286, 0.043498821556568146, 0.026902655139565468, 0.01986149698495865, 0.013897350989282131, 0.14441487193107605, 0.03191990405321121, 0.009899175725877285, 0.011682058684527874, 0.0, 0.0, 0.0, 0.0, 0.0, 0.0, 0.0, 0.0, 0.0, 0.0, 0.0, 0.0, 0.0, 0.0, 0.0, 0.0, 0.0, 0.0, 0.0, 0.0, 0.0, 0.0, 0.0, 0.0, 0.0, 0.0, 0.0, 0.0, 0.0, 0.0, 0.0, 0.0, 0.0, 0.0, 0.0, 0.0, 0.0, 0.0, 0.0, 0.0], [0.13023032248020172, 0.022786064073443413, 0.007302049547433853, 0.041064560413360596, 0.0452098473906517, 0.01858484372496605, 0.07225298881530762, 0.03630933165550232, 0.03481724113225937, 0.04254525527358055, 0.016762658953666687, 0.0300250593572855, 0.040868908166885376, 0.024465128779411316, 0.024882417172193527, 0.14080126583576202, 0.014795437455177307, 0.021383604034781456, 0.043132856488227844, 0.12579593062400818, 0.01190128643065691, 0.013726217672228813, 0.009313207119703293, 0.031043529510498047, 0.0, 0.0, 0.0, 0.0, 0.0, 0.0, 0.0, 0.0, 0.0, 0.0, 0.0, 0.0, 0.0, 0.0, 0.0, 0.0, 0.0, 0.0, 0.0, 0.0, 0.0, 0.0, 0.0, 0.0, 0.0, 0.0, 0.0, 0.0, 0.0, 0.0, 0.0, 0.0, 0.0, 0.0, 0.0, 0.0, 0.0, 0.0, 0.0], [0.24098117649555206, 0.037100233137607574, 0.008746974170207977, 0.013281415216624737, 0.029043840244412422, 0.013334650546312332, 0.08600246161222458, 0.027192024514079094, 0.05053302273154259, 0.021973488852381706, 0.026883892714977264, 0.03391436114907265, 0.04119051247835159, 0.024424243718385696, 0.019908515736460686, 0.05418693646788597, 0.01969444565474987, 0.0372290313243866, 0.016343222931027412, 0.07684216648340225, 0.008100908249616623, 0.008535216562449932, 0.012302991934120655, 0.008975966833531857, 0.08327825367450714, 0.0, 0.0, 0.0, 0.0, 0.0, 0.0, 0.0, 0.0, 0.0, 0.0, 0.0, 0.0, 0.0, 0.0, 0.0, 0.0, 0.0, 0.0, 0.0, 0.0, 0.0, 0.0, 0.0, 0.0, 0.0, 0.0, 0.0, 0.0, 0.0, 0.0, 0.0, 0.0, 0.0, 0.0, 0.0, 0.0, 0.0, 0.0], [0.13318157196044922, 0.02618684247136116, 0.007447064388543367, 0.03450629487633705, 0.02552579715847969, 0.009578699246048927, 0.06283161044120789, 0.046563223004341125, 0.04294881597161293, 0.03161735087633133, 0.02303086593747139, 0.03514502942562103, 0.05841077119112015, 0.015812302008271217, 0.03423570841550827, 0.13871625065803528, 0.016446536406874657, 0.032133862376213074, 0.029238184913992882, 0.07652432471513748, 0.007906120270490646, 0.01654660888016224, 0.008586961776018143, 0.00825959537178278, 0.0708296075463295, 0.007790049072355032, 0.0, 0.0, 0.0, 0.0, 0.0, 0.0, 0.0, 0.0, 0.0, 0.0, 0.0, 0.0, 0.0, 0.0, 0.0, 0.0, 0.0, 0.0, 0.0, 0.0, 0.0, 0.0, 0.0, 0.0, 0.0, 0.0, 0.0, 0.0, 0.0, 0.0, 0.0, 0.0, 0.0, 0.0, 0.0, 0.0, 0.0], [0.16416239738464355, 0.02681538090109825, 0.015517382882535458, 0.02204279974102974, 0.025328218936920166, 0.011410413309931755, 0.05091366171836853, 0.041143447160720825, 0.02807803265750408, 0.0518200509250164, 0.029403602704405785, 0.03575322777032852, 0.05593806505203247, 0.011537980288267136, 0.028480757027864456, 0.11231090128421783, 0.016115164384245872, 0.018671361729502678, 0.008263294585049152, 0.12483363598585129, 0.004337097518146038, 0.013198387809097767, 0.005946441553533077, 0.006849989760667086, 0.07019618898630142, 0.008626055903732777, 0.012306034564971924, 0.0, 0.0, 0.0, 0.0, 0.0, 0.0, 0.0, 0.0, 0.0, 0.0, 0.0, 0.0, 0.0, 0.0, 0.0, 0.0, 0.0, 0.0, 0.0, 0.0, 0.0, 0.0, 0.0, 0.0, 0.0, 0.0, 0.0, 0.0, 0.0, 0.0, 0.0, 0.0, 0.0, 0.0, 0.0, 0.0], [0.15871167182922363, 0.026643535122275352, 0.011129739694297314, 0.022577134892344475, 0.023087553679943085, 0.011868886649608612, 0.05661753937602043, 0.036940015852451324, 0.03441855311393738, 0.03407618775963783, 0.018625596538186073, 0.031556569039821625, 0.04281601682305336, 0.024480819702148438, 0.030954059213399887, 0.1604362428188324, 0.01497805304825306, 0.02029871754348278, 0.006038042716681957, 0.036740124225616455, 0.0022849934175610542, 0.01355657447129488, 0.002707138191908598, 0.0037357190158218145, 0.05940108746290207, 0.0070720394141972065, 0.0043944986537098885, 0.10385294258594513, 0.0, 0.0, 0.0, 0.0, 0.0, 0.0, 0.0, 0.0, 0.0, 0.0, 0.0, 0.0, 0.0, 0.0, 0.0, 0.0, 0.0, 0.0, 0.0, 0.0, 0.0, 0.0, 0.0, 0.0, 0.0, 0.0, 0.0, 0.0, 0.0, 0.0, 0.0, 0.0, 0.0, 0.0, 0.0], [0.2719500958919525, 0.025598768144845963, 0.010010989382863045, 0.015482626855373383, 0.025267789140343666, 0.007544392719864845, 0.027270546182990074, 0.018877338618040085, 0.029154609888792038, 0.030701829120516777, 0.029005739837884903, 0.03354404494166374, 0.0423770509660244, 0.043533679097890854, 0.024112394079566002, 0.10751666128635406, 0.019510403275489807, 0.0197908952832222, 0.00635566608980298, 0.036418039351701736, 0.002546274568885565, 0.006777143571525812, 0.004077985417097807, 0.00398693373426795, 0.01998152770102024, 0.005720430053770542, 0.005113712977617979, 0.082231804728508, 0.04554066061973572, 0.0, 0.0, 0.0, 0.0, 0.0, 0.0, 0.0, 0.0, 0.0, 0.0, 0.0, 0.0, 0.0, 0.0, 0.0, 0.0, 0.0, 0.0, 0.0, 0.0, 0.0, 0.0, 0.0, 0.0, 0.0, 0.0, 0.0, 0.0, 0.0, 0.0, 0.0, 0.0, 0.0, 0.0], [0.1313212811946869, 0.022179367020726204, 0.007194542326033115, 0.020429598167538643, 0.02009725198149681, 0.009660189971327782, 0.018699435517191887, 0.019942631945014, 0.025569399818778038, 0.05960322916507721, 0.01587699167430401, 0.03388303145766258, 0.06977024674415588, 0.04244580119848251, 0.04003419354557991, 0.19723963737487793, 0.01941082999110222, 0.028839120641350746, 0.00888555683195591, 0.04747721552848816, 0.0018195484299212694, 0.005546867847442627, 0.005534970201551914, 0.0045504700392484665, 0.022299591451883316, 0.003976621199399233, 0.006939372979104519, 0.057996366173028946, 0.04005527123808861, 0.012721316888928413, 0.0, 0.0, 0.0, 0.0, 0.0, 0.0, 0.0, 0.0, 0.0, 0.0, 0.0, 0.0, 0.0, 0.0, 0.0, 0.0, 0.0, 0.0, 0.0, 0.0, 0.0, 0.0, 0.0, 0.0, 0.0, 0.0, 0.0, 0.0, 0.0, 0.0, 0.0, 0.0, 0.0], [0.16586948931217194, 0.02340606413781643, 0.007482360117137432, 0.014053967781364918, 0.013853945769369602, 0.011596902273595333, 0.049169931560754776, 0.034294698387384415, 0.030509158968925476, 0.021173827350139618, 0.018140191212296486, 0.025288639590144157, 0.051727134734392166, 0.03607279062271118, 0.043457720428705215, 0.13212424516677856, 0.022028975188732147, 0.027887389063835144, 0.00514034042134881, 0.04426891729235649, 0.002705838531255722, 0.012753471732139587, 0.0025548513513058424, 0.001971485558897257, 0.029218068346381187, 0.003821285907179117, 0.0029684428591281176, 0.06610107421875, 0.02846594713628292, 0.011699500493705273, 0.060193318873643875, 0.0, 0.0, 0.0, 0.0, 0.0, 0.0, 0.0, 0.0, 0.0, 0.0, 0.0, 0.0, 0.0, 0.0, 0.0, 0.0, 0.0, 0.0, 0.0, 0.0, 0.0, 0.0, 0.0, 0.0, 0.0, 0.0, 0.0, 0.0, 0.0, 0.0, 0.0, 0.0], [0.23712913691997528, 0.024840539321303368, 0.008547060191631317, 0.018139798194169998, 0.02197449840605259, 0.004239174537360668, 0.06313200294971466, 0.03287674859166145, 0.020543482154607773, 0.008348943665623665, 0.01467373687773943, 0.026459164917469025, 0.01912838965654373, 0.013929098844528198, 0.013302569277584553, 0.05148427188396454, 0.02717590518295765, 0.0449354313313961, 0.02402590773999691, 0.057752322405576706, 0.004476054105907679, 0.01068962924182415, 0.007800397928804159, 0.0033430473413318396, 0.06492757052183151, 0.01106855645775795, 0.009259553626179695, 0.05293690785765648, 0.025231780484318733, 0.010862015187740326, 0.04095438867807388, 0.02581186592578888, 0.0, 0.0, 0.0, 0.0, 0.0, 0.0, 0.0, 0.0, 0.0, 0.0, 0.0, 0.0, 0.0, 0.0, 0.0, 0.0, 0.0, 0.0, 0.0, 0.0, 0.0, 0.0, 0.0, 0.0, 0.0, 0.0, 0.0, 0.0, 0.0, 0.0, 0.0], [0.19093173742294312, 0.012586469762027264, 0.005602063611149788, 0.010099372826516628, 0.013756600208580494, 0.00971316173672676, 0.05827821046113968, 0.03552447259426117, 0.031028684228658676, 0.02184508740901947, 0.022699113935232162, 0.022202182561159134, 0.031569335609674454, 0.041218314319849014, 0.03270425647497177, 0.08980017900466919, 0.018720613792538643, 0.021646274253726006, 0.004590734373778105, 0.049349505454301834, 0.002223268384113908, 0.012772993184626102, 0.0026769954711198807, 0.002722550882026553, 0.03520679473876953, 0.00744208600372076, 0.004572962410748005, 0.064119853079319, 0.034212902188301086, 0.01296396553516388, 0.04551663622260094, 0.02237287163734436, 0.029329722747206688, 0.0, 0.0, 0.0, 0.0, 0.0, 0.0, 0.0, 0.0, 0.0, 0.0, 0.0, 0.0, 0.0, 0.0, 0.0, 0.0, 0.0, 0.0, 0.0, 0.0, 0.0, 0.0, 0.0, 0.0, 0.0, 0.0, 0.0, 0.0, 0.0, 0.0], [0.21103276312351227, 0.01578344963490963, 0.0033608239609748125, 0.009480943903326988, 0.015863653272390366, 0.009836406446993351, 0.04110844433307648, 0.01974492147564888, 0.02759634144604206, 0.019979974254965782, 0.023114051669836044, 0.013922877609729767, 0.025755107402801514, 0.026568090543150902, 0.026405800133943558, 0.09244558960199356, 0.02241412177681923, 0.02212946116924286, 0.004444267600774765, 0.02609783224761486, 0.005084482952952385, 0.013946129009127617, 0.0032218648120760918, 0.0037908887024968863, 0.03810383006930351, 0.006649404764175415, 0.0052629876881837845, 0.043495383113622665, 0.03465227037668228, 0.014124610461294651, 0.044012896716594696, 0.021952077746391296, 0.026883462443947792, 0.08173472434282303, 0.0, 0.0, 0.0, 0.0, 0.0, 0.0, 0.0, 0.0, 0.0, 0.0, 0.0, 0.0, 0.0, 0.0, 0.0, 0.0, 0.0, 0.0, 0.0, 0.0, 0.0, 0.0, 0.0, 0.0, 0.0, 0.0, 0.0, 0.0, 0.0], [0.3834623098373413, 0.027839312329888344, 0.013731828890740871, 0.02055484615266323, 0.020524680614471436, 0.009772955439984798, 0.013267903588712215, 0.011450383812189102, 0.016322307288646698, 0.023936541751027107, 0.007141896057873964, 0.00926264002919197, 0.0233562421053648, 0.008032308891415596, 0.015212408266961575, 0.02853374183177948, 0.005476509220898151, 0.01154470443725586, 0.0072576310485601425, 0.026285210624337196, 0.002733243629336357, 0.0039796954952180386, 0.008664760738611221, 0.003096172586083412, 0.037361666560173035, 0.007638191804289818, 0.011190502904355526, 0.02369409240782261, 0.031231015920639038, 0.010615729726850986, 0.026039330288767815, 0.008502762764692307, 0.013813038356602192, 0.02036466635763645, 0.10810874402523041, 0.0, 0.0, 0.0, 0.0, 0.0, 0.0, 0.0, 0.0, 0.0, 0.0, 0.0, 0.0, 0.0, 0.0, 0.0, 0.0, 0.0, 0.0, 0.0, 0.0, 0.0, 0.0, 0.0, 0.0, 0.0, 0.0, 0.0, 0.0], [0.12777180969715118, 0.07880806922912598, 0.0027383987326174974, 0.03241972252726555, 0.033183783292770386, 0.007330711465328932, 0.0684855654835701, 0.016154510900378227, 0.014042914845049381, 0.017330896109342575, 0.01006436999887228, 0.012510936707258224, 0.017003728076815605, 0.00861910916864872, 0.0075242905877530575, 0.06260959804058075, 0.006857676897197962, 0.048552513122558594, 0.026305317878723145, 0.06044026091694832, 0.01261062454432249, 0.0038349402602761984, 0.008837888948619366, 0.016192547976970673, 0.15109972655773163, 0.0055779325775802135, 0.0054134889505803585, 0.02561052143573761, 0.018574338406324387, 0.0032686442136764526, 0.030521802604198456, 0.009747710078954697, 0.008653024211525917, 0.016131265088915825, 0.004956140648573637, 0.020215239375829697, 0.0, 0.0, 0.0, 0.0, 0.0, 0.0, 0.0, 0.0, 0.0, 0.0, 0.0, 0.0, 0.0, 0.0, 0.0, 0.0, 0.0, 0.0, 0.0, 0.0, 0.0, 0.0, 0.0, 0.0, 0.0, 0.0, 0.0], [0.12514671683311462, 0.07644610106945038, 0.0032579333055764437, 0.02464919537305832, 0.023293672129511833, 0.0057237111032009125, 0.06364606320858002, 0.015134919434785843, 0.019324103370308876, 0.009672095999121666, 0.00602682726457715, 0.008675950579345226, 0.01245898101478815, 0.007584261707961559, 0.006347981747239828, 0.05040890350937843, 0.0051398989744484425, 0.030448203906416893, 0.021740643307566643, 0.09031137824058533, 0.013507983647286892, 0.004206232260912657, 0.013574904762208462, 0.01476053986698389, 0.15880945324897766, 0.0099970493465662, 0.007549608591943979, 0.03337269276380539, 0.015692295506596565, 0.00648091733455658, 0.02867395617067814, 0.011988610960543156, 0.012735671363770962, 0.01567007414996624, 0.009268411435186863, 0.023228365927934647, 0.015045694075524807, 0.0, 0.0, 0.0, 0.0, 0.0, 0.0, 0.0, 0.0, 0.0, 0.0, 0.0, 0.0, 0.0, 0.0, 0.0, 0.0, 0.0, 0.0, 0.0, 0.0, 0.0, 0.0, 0.0, 0.0, 0.0, 0.0], [0.13717617094516754, 0.03179933503270149, 0.009164376184344292, 0.023806972429156303, 0.019495127722620964, 0.005784222390502691, 0.04100668057799339, 0.02032073773443699, 0.02111358381807804, 0.01634262688457966, 0.006786863319575787, 0.012449758127331734, 0.011423211544752121, 0.011872552335262299, 0.00884915515780449, 0.06704356521368027, 0.005446204449981451, 0.01691022329032421, 0.0073671406134963036, 0.11577042937278748, 0.0038512861356139183, 0.004009060095995665, 0.007346359081566334, 0.005360613577067852, 0.15383584797382355, 0.01114644668996334, 0.005684345960617065, 0.06894072890281677, 0.022945435717701912, 0.007967647165060043, 0.0417252741754055, 0.010602795518934727, 0.008863884955644608, 0.026422828435897827, 0.011401857249438763, 0.0096098268404603, 0.0041688899509608746, 0.006187953986227512, 0.0, 0.0, 0.0, 0.0, 0.0, 0.0, 0.0, 0.0, 0.0, 0.0, 0.0, 0.0, 0.0, 0.0, 0.0, 0.0, 0.0, 0.0, 0.0, 0.0, 0.0, 0.0, 0.0, 0.0, 0.0], [0.164109468460083, 0.01797846518456936, 0.005006992258131504, 0.022250231355428696, 0.017376255244016647, 0.008975197561085224, 0.04376208782196045, 0.018843552097678185, 0.05170191824436188, 0.023298390209674835, 0.0313388891518116, 0.025629283860325813, 0.017254240810871124, 0.026505406945943832, 0.016067450866103172, 0.07212520390748978, 0.009805383160710335, 0.03097330592572689, 0.007505597546696663, 0.021090859547257423, 0.004828581586480141, 0.006263731978833675, 0.00786544568836689, 0.007864329032599926, 0.0873369425535202, 0.009148377925157547, 0.0074844760820269585, 0.03751900792121887, 0.023257987573742867, 0.013458353467285633, 0.030492063611745834, 0.02319912612438202, 0.007204507477581501, 0.024502908810973167, 0.01644984632730484, 0.008240574970841408, 0.0043462770991027355, 0.003222918836399913, 0.04571641981601715, 0.0, 0.0, 0.0, 0.0, 0.0, 0.0, 0.0, 0.0, 0.0, 0.0, 0.0, 0.0, 0.0, 0.0, 0.0, 0.0, 0.0, 0.0, 0.0, 0.0, 0.0, 0.0, 0.0, 0.0], [0.17269495129585266, 0.11720514297485352, 0.011326349340379238, 0.006889993324875832, 0.029007015749812126, 0.02273154817521572, 0.06918243318796158, 0.02433098666369915, 0.010265227407217026, 0.009501401335000992, 0.004059896804392338, 0.0075715952552855015, 0.04522705078125, 0.007074193563312292, 0.012987557798624039, 0.02058846317231655, 0.005689362064003944, 0.009695390239357948, 0.0017043881816789508, 0.19135431945323944, 0.028154406696558, 0.004065247252583504, 0.004001454450190067, 0.010028984397649765, 0.013993019238114357, 0.002267323201522231, 0.002425519283860922, 0.008975651115179062, 0.0050383759662508965, 0.0038860917557030916, 0.006007679738104343, 0.006206416059285402, 0.007135521154850721, 0.009716133587062359, 0.031132927164435387, 0.011995958164334297, 0.008694290183484554, 0.0012498280266299844, 0.010803021490573883, 0.04513484239578247, 0.0, 0.0, 0.0, 0.0, 0.0, 0.0, 0.0, 0.0, 0.0, 0.0, 0.0, 0.0, 0.0, 0.0, 0.0, 0.0, 0.0, 0.0, 0.0, 0.0, 0.0, 0.0, 0.0], [0.11113417148590088, 0.026523001492023468, 0.004784917458891869, 0.011463488452136517, 0.02168591506779194, 0.013760194182395935, 0.03426656872034073, 0.018833093345165253, 0.018169952556490898, 0.019685018807649612, 0.019380182027816772, 0.03084714710712433, 0.03486819937825203, 0.008730589412152767, 0.010438838973641396, 0.06064477190375328, 0.01947285234928131, 0.029704509302973747, 0.02409396879374981, 0.043107613921165466, 0.009856096468865871, 0.010503623634576797, 0.013967132195830345, 0.009614513255655766, 0.10604684054851532, 0.008437948301434517, 0.0146072031930089, 0.04356975108385086, 0.01754014939069748, 0.014253973960876465, 0.04662720486521721, 0.01068422943353653, 0.01281097810715437, 0.01923982985317707, 0.015018259175121784, 0.010120145045220852, 0.005800768733024597, 0.006655838806182146, 0.04635925963521004, 0.009289078414440155, 0.007402185816317797, 0.0, 0.0, 0.0, 0.0, 0.0, 0.0, 0.0, 0.0, 0.0, 0.0, 0.0, 0.0, 0.0, 0.0, 0.0, 0.0, 0.0, 0.0, 0.0, 0.0, 0.0, 0.0], [0.10547883808612823, 0.02944054827094078, 0.004249427001923323, 0.019485747441649437, 0.015564050525426865, 0.036866795271635056, 0.06880655884742737, 0.02171875536441803, 0.024920787662267685, 0.03452590852975845, 0.010164809413254261, 0.01908983290195465, 0.03740004077553749, 0.006658902391791344, 0.011660248972475529, 0.050639137625694275, 0.003801200073212385, 0.016381749883294106, 0.005728113930672407, 0.07134418189525604, 0.005336047150194645, 0.01146659068763256, 0.00787618663161993, 0.004806403070688248, 0.07993515580892563, 0.010117603465914726, 0.006908165756613016, 0.04900599643588066, 0.02398279868066311, 0.009239831939339638, 0.04000643640756607, 0.008699411526322365, 0.014406375586986542, 0.035366080701351166, 0.012121438980102539, 0.004846995696425438, 0.0023630240466445684, 0.003956759348511696, 0.03618168458342552, 0.0273441169410944, 0.005317983217537403, 0.0067892600782215595, 0.0, 0.0, 0.0, 0.0, 0.0, 0.0, 0.0, 0.0, 0.0, 0.0, 0.0, 0.0, 0.0, 0.0, 0.0, 0.0, 0.0, 0.0, 0.0, 0.0, 0.0], [0.1634162962436676, 0.03665489703416824, 0.003147618845105171, 0.014265952631831169, 0.0195660088211298, 0.01802716590464115, 0.05008706822991371, 0.006916198879480362, 0.023180320858955383, 0.012752247042953968, 0.020998910069465637, 0.018445061519742012, 0.027351880446076393, 0.007244078908115625, 0.009162308648228645, 0.022655442357063293, 0.014642865397036076, 0.01959153264760971, 0.008515584282577038, 0.022633826360106468, 0.011360746808350086, 0.008330237120389938, 0.016040712594985962, 0.011742712929844856, 0.03198828920722008, 0.010208308696746826, 0.01097043976187706, 0.08262782543897629, 0.02333395928144455, 0.02075885608792305, 0.03960120677947998, 0.014813645742833614, 0.009427807293832302, 0.01665589027106762, 0.019791265949606895, 0.015453162603080273, 0.0052057853899896145, 0.0050663272850215435, 0.04446232318878174, 0.019859444350004196, 0.006785746198147535, 0.004757867194712162, 0.05150219798088074, 0.0, 0.0, 0.0, 0.0, 0.0, 0.0, 0.0, 0.0, 0.0, 0.0, 0.0, 0.0, 0.0, 0.0, 0.0, 0.0, 0.0, 0.0, 0.0, 0.0], [0.06649404764175415, 0.016304565593600273, 0.0017212062375620008, 0.02358972653746605, 0.01167229562997818, 0.017368240281939507, 0.04946111515164375, 0.014208920300006866, 0.021949931979179382, 0.020284440368413925, 0.012838268652558327, 0.020786378532648087, 0.058687929064035416, 0.008601444773375988, 0.02787817269563675, 0.07248017936944962, 0.011824122630059719, 0.015206166543066502, 0.009553215466439724, 0.035255953669548035, 0.010135877877473831, 0.02224709466099739, 0.011543197557330132, 0.009432854130864143, 0.04866757616400719, 0.0048400722444057465, 0.008536209352314472, 0.06825871765613556, 0.030335165560245514, 0.012355783954262733, 0.04733394831418991, 0.007916763424873352, 0.014805102720856667, 0.048693131655454636, 0.005246341228485107, 0.014448260888457298, 0.0020986904855817556, 0.004618987441062927, 0.031298570334911346, 0.024881109595298767, 0.003714458318427205, 0.003750046482309699, 0.039387766271829605, 0.009287997148931026, 0.0, 0.0, 0.0, 0.0, 0.0, 0.0, 0.0, 0.0, 0.0, 0.0, 0.0, 0.0, 0.0, 0.0, 0.0, 0.0, 0.0, 0.0, 0.0], [0.2451033741235733, 0.010298055596649647, 0.012242922559380531, 0.005256693344563246, 0.007334782741963863, 0.020159171894192696, 0.0453038364648819, 0.03321537375450134, 0.030431656166911125, 0.01619664765894413, 0.011354479007422924, 0.01686600223183632, 0.0424373485147953, 0.008413328789174557, 0.029070833697915077, 0.032228562980890274, 0.011733371764421463, 0.01674850471317768, 0.001659081899560988, 0.016488129273056984, 0.003491886891424656, 0.02806037850677967, 0.0029977497179061174, 0.0009513141703791916, 0.019663214683532715, 0.005410866811871529, 0.004789646714925766, 0.0444922037422657, 0.01977963000535965, 0.012983785942196846, 0.038299694657325745, 0.006677296012639999, 0.01586848311126232, 0.06879933178424835, 0.02649388648569584, 0.003015922848135233, 0.0007494920864701271, 0.0013140669325366616, 0.010952943004667759, 0.01456867903470993, 0.00704530393704772, 0.01256654690951109, 0.015721771866083145, 0.005834303330630064, 0.016929341480135918, 0.0, 0.0, 0.0, 0.0, 0.0, 0.0, 0.0, 0.0, 0.0, 0.0, 0.0, 0.0, 0.0, 0.0, 0.0, 0.0, 0.0, 0.0], [0.2008257359266281, 0.009321778081357479, 0.004526329226791859, 0.005655686371028423, 0.007718189619481564, 0.023224717006087303, 0.02321108989417553, 0.01952005736529827, 0.013472248800098896, 0.0267027597874403, 0.007684352807700634, 0.013808191753923893, 0.05089309439063072, 0.012429920956492424, 0.022578302770853043, 0.09083925932645798, 0.005752707831561565, 0.010293029248714447, 0.0009238532511517406, 0.015354027040302753, 0.0013287726324051619, 0.012321856804192066, 0.001661278773099184, 0.0010675913654267788, 0.020906133577227592, 0.002549893455579877, 0.001292788190767169, 0.03306293115019798, 0.03806286305189133, 0.01103727612644434, 0.051843710243701935, 0.007010188419371843, 0.03226784989237785, 0.08041268587112427, 0.019955594092607498, 0.0017594934906810522, 0.0008277163724415004, 0.0005216916906647384, 0.0076528070494532585, 0.009793976321816444, 0.002005139598622918, 0.002656331518664956, 0.023643439635634422, 0.003253573551774025, 0.011190797202289104, 0.057178232818841934, 0.0, 0.0, 0.0, 0.0, 0.0, 0.0, 0.0, 0.0, 0.0, 0.0, 0.0, 0.0, 0.0, 0.0, 0.0, 0.0, 0.0], [0.14437168836593628, 0.008195237256586552, 0.001024453667923808, 0.008741102181375027, 0.011445781216025352, 0.012872092425823212, 0.03146159648895264, 0.012067736126482487, 0.03272353112697601, 0.018302898854017258, 0.021902021020650864, 0.01365277823060751, 0.02076992392539978, 0.016595128923654556, 0.02136729657649994, 0.09326934814453125, 0.018895775079727173, 0.021591143682599068, 0.003725240705534816, 0.018773164600133896, 0.009963901713490486, 0.012338346801698208, 0.003872230416163802, 0.005759203806519508, 0.025376277044415474, 0.0045161074958741665, 0.004946446977555752, 0.038235362619161606, 0.024866441264748573, 0.009024093858897686, 0.047898098826408386, 0.00996960885822773, 0.01585090160369873, 0.029715273529291153, 0.015335779637098312, 0.004877613857388496, 0.002704107668250799, 0.001637576031498611, 0.012504301965236664, 0.01855234056711197, 0.004465795587748289, 0.0008983351872302592, 0.024119213223457336, 0.011432146653532982, 0.024447022005915642, 0.0792495384812355, 0.025695979595184326, 0.0, 0.0, 0.0, 0.0, 0.0, 0.0, 0.0, 0.0, 0.0, 0.0, 0.0, 0.0, 0.0, 0.0, 0.0, 0.0], [0.26231715083122253, 0.01659758761525154, 0.0014424292603507638, 0.018660634756088257, 0.009429588913917542, 0.0072578610852360725, 0.03278850018978119, 0.009800631552934647, 0.011052340269088745, 0.008383788168430328, 0.009870455600321293, 0.017616087570786476, 0.023767581209540367, 0.005791373550891876, 0.010970032773911953, 0.040248434990644455, 0.015310055576264858, 0.04290769621729851, 0.007918058894574642, 0.04005903750658035, 0.008089303970336914, 0.006974779535084963, 0.007443898357450962, 0.004110974259674549, 0.03136572614312172, 0.008185720071196556, 0.005779803730547428, 0.02755126729607582, 0.024741705507040024, 0.007721761241555214, 0.025637438520789146, 0.0119851715862751, 0.017381174489855766, 0.031068112701177597, 0.017838329076766968, 0.011169149540364742, 0.00449382234364748, 0.005013087298721075, 0.014584720134735107, 0.018737155944108963, 0.0035504489205777645, 0.0016805868363007903, 0.016232630237936974, 0.004988354630768299, 0.013095309026539326, 0.04411577805876732, 0.01844659447669983, 0.01582786627113819, 0.0, 0.0, 0.0, 0.0, 0.0, 0.0, 0.0, 0.0, 0.0, 0.0, 0.0, 0.0, 0.0, 0.0, 0.0], [0.20050093531608582, 0.011645883321762085, 0.01360853761434555, 0.003112695412710309, 0.004849760793149471, 0.015003334730863571, 0.029494842514395714, 0.01588953472673893, 0.011337495408952236, 0.010763770900666714, 0.007660841569304466, 0.007684776559472084, 0.04117478057742119, 0.013423427008092403, 0.043743133544921875, 0.025296563282608986, 0.014274387620389462, 0.01417058426886797, 0.001372785191051662, 0.01919429749250412, 0.005566916428506374, 0.018554653972387314, 0.004309691954404116, 0.0012494202237576246, 0.005925357807427645, 0.002775835571810603, 0.003282038262113929, 0.03541869297623634, 0.00915305782109499, 0.013823644258081913, 0.029876377433538437, 0.004409937188029289, 0.010836859233677387, 0.05681411921977997, 0.027472494170069695, 0.004784965422004461, 0.0012447854969650507, 0.0007743951864540577, 0.007262649480253458, 0.010815084911882877, 0.005859911907464266, 0.02138056419789791, 0.009695706889033318, 0.0037673460319638252, 0.011238724924623966, 0.13543136417865753, 0.03643544018268585, 0.008864098228514194, 0.008773461915552616, 0.0, 0.0, 0.0, 0.0, 0.0, 0.0, 0.0, 0.0, 0.0, 0.0, 0.0, 0.0, 0.0, 0.0], [0.19603486359119415, 0.02219194546341896, 0.05899614840745926, 0.005643859971314669, 0.00677815405651927, 0.012396225705742836, 0.0279061421751976, 0.022162389010190964, 0.022217536345124245, 0.010964260436594486, 0.014052706770598888, 0.007127754855901003, 0.012057038955390453, 0.0157804936170578, 0.043360207229852676, 0.021467039361596107, 0.008587437681853771, 0.006627528462558985, 0.0009062813478522003, 0.012395876459777355, 0.0021639822516590357, 0.0203689131885767, 0.002297973958775401, 0.0014547629980370402, 0.012500816024839878, 0.003164044115692377, 0.0019144988618791103, 0.019290627911686897, 0.007545839995145798, 0.021532384678721428, 0.018659889698028564, 0.006027407478541136, 0.0052690161392092705, 0.0392848439514637, 0.029815059155225754, 0.0023749214597046375, 0.0011360259959474206, 0.0007131014717742801, 0.013960245996713638, 0.013479242101311684, 0.012042210437357426, 0.02098733000457287, 0.01007622480392456, 0.005486274603754282, 0.015677928924560547, 0.09506691992282867, 0.028638511896133423, 0.003300981828942895, 0.01597948931157589, 0.04213665798306465, 0.0, 0.0, 0.0, 0.0, 0.0, 0.0, 0.0, 0.0, 0.0, 0.0, 0.0, 0.0, 0.0], [0.13721588253974915, 0.004603277891874313, 0.006301663350313902, 0.007538191508501768, 0.003395616775378585, 0.008073034696280956, 0.016186965629458427, 0.013260480016469955, 0.014792444184422493, 0.014221264980733395, 0.010478435084223747, 0.010196858085691929, 0.015664441511034966, 0.006108684465289116, 0.02900255285203457, 0.03712836652994156, 0.01063747052103281, 0.008785061538219452, 0.0013937936164438725, 0.008048059418797493, 0.0016802373575046659, 0.015430575236678123, 0.002197832567617297, 0.003440702799707651, 0.01797369495034218, 0.00633104657754302, 0.003961101174354553, 0.037411075085401535, 0.024497104808688164, 0.03085024654865265, 0.03401760756969452, 0.008525336161255836, 0.02299455925822258, 0.09358443319797516, 0.032438725233078, 0.0026355960872024298, 0.001850185333751142, 0.0008363060187548399, 0.005855601746588945, 0.00819360837340355, 0.0031388243660330772, 0.006601378321647644, 0.021326404064893723, 0.006509640719741583, 0.015638483688235283, 0.08506332337856293, 0.06101624667644501, 0.004066355060786009, 0.01500222459435463, 0.0054944478906691074, 0.05840451270341873, 0.0, 0.0, 0.0, 0.0, 0.0, 0.0, 0.0, 0.0, 0.0, 0.0, 0.0, 0.0], [0.20256099104881287, 0.006531437858939171, 0.000738280126824975, 0.005839319434016943, 0.005323340184986591, 0.009897052310407162, 0.02719840593636036, 0.0057801902294158936, 0.02092978172004223, 0.01289124321192503, 0.014125555753707886, 0.008712844923138618, 0.014095607213675976, 0.010724241845309734, 0.013458597473800182, 0.04165038466453552, 0.012427880428731441, 0.017760900780558586, 0.003417100291699171, 0.01796569488942623, 0.005079232156276703, 0.0039456551894545555, 0.0048216283321380615, 0.005249421577900648, 0.021851159632205963, 0.007527184206992388, 0.0065243965946137905, 0.025257118046283722, 0.022507376968860626, 0.008161230012774467, 0.03242397680878639, 0.007772338576614857, 0.011058717034757137, 0.021247856318950653, 0.030242322012782097, 0.009157118387520313, 0.0033116640988737345, 0.0024164847563952208, 0.014009349048137665, 0.02492319792509079, 0.004202271346002817, 0.0018948258366435766, 0.03108941577374935, 0.01941767707467079, 0.028133776038885117, 0.06207410991191864, 0.017528479918837547, 0.010195075534284115, 0.020198429003357887, 0.003592301160097122, 0.03338269889354706, 0.048774685710668564, 0.0, 0.0, 0.0, 0.0, 0.0, 0.0, 0.0, 0.0, 0.0, 0.0, 0.0], [0.13400842249393463, 0.0626511499285698, 0.0030921639408916235, 0.02600737474858761, 0.015680767595767975, 0.0063164415769279, 0.024954913184046745, 0.009646443650126457, 0.015514702536165714, 0.011369562707841396, 0.01300015952438116, 0.008083214052021503, 0.014846223406493664, 0.015080161392688751, 0.007463242392987013, 0.04923711344599724, 0.005665738135576248, 0.021342096850275993, 0.007465947885066271, 0.058875855058431625, 0.003808304900303483, 0.0015940673183649778, 0.00692321639508009, 0.005598266609013081, 0.04701993986964226, 0.004624576307833195, 0.006224827840924263, 0.024892590939998627, 0.02157905511558056, 0.006296078208833933, 0.023610351607203484, 0.011907157488167286, 0.008030274882912636, 0.018164802342653275, 0.009008056484162807, 0.05404143035411835, 0.007821649312973022, 0.005374187603592873, 0.027612825855612755, 0.0531366690993309, 0.005419417284429073, 0.0009504985646344721, 0.01623193733394146, 0.004277123138308525, 0.00799434632062912, 0.026049822568893433, 0.008479785174131393, 0.00470896577462554, 0.009624904952943325, 0.000938409473747015, 0.006303311791270971, 0.023724060505628586, 0.027727404609322548, 0.0, 0.0, 0.0, 0.0, 0.0, 0.0, 0.0, 0.0, 0.0, 0.0], [0.1003056988120079, 0.11711568385362625, 0.006001542322337627, 0.027863983064889908, 0.029382558539509773, 0.006636478938162327, 0.017410116270184517, 0.00542867835611105, 0.006195714697241783, 0.017773456871509552, 0.004370126873254776, 0.004747131373733282, 0.00893209595233202, 0.004504354204982519, 0.004513556137681007, 0.01582888700067997, 0.006753522902727127, 0.012475266121327877, 0.007947113364934921, 0.057081546634435654, 0.0027162437327206135, 0.0006128260865807533, 0.0064737494103610516, 0.0028853886760771275, 0.05263575538992882, 0.00487917335703969, 0.004833619110286236, 0.015667108818888664, 0.01033033337444067, 0.0033996240235865116, 0.020665207877755165, 0.0056254565715789795, 0.00553892832249403, 0.007776950020343065, 0.0082724429666996, 0.014829869382083416, 0.0038614373188465834, 0.004575165454298258, 0.04186511039733887, 0.0511796660721302, 0.00728627247735858, 0.0011733535211533308, 0.013306092470884323, 0.0015764822019264102, 0.005173781421035528, 0.014599369838833809, 0.004467468708753586, 0.001308606006205082, 0.008417055942118168, 0.0007493251468986273, 0.004535882268100977, 0.01380180474370718, 0.029746435582637787, 0.16396653652191162, 0.0, 0.0, 0.0, 0.0, 0.0, 0.0, 0.0, 0.0, 0.0], [0.06459391117095947, 0.040431711822748184, 0.0021641813218593597, 0.033877454698085785, 0.01342278067022562, 0.009858394041657448, 0.03395210579037666, 0.008962859399616718, 0.009218032471835613, 0.014166900888085365, 0.0034782106522470713, 0.006414501927793026, 0.012277046218514442, 0.0011845374247059226, 0.0034671295434236526, 0.033573515713214874, 0.0018821856938302517, 0.011807462200522423, 0.005175149533897638, 0.016557004302740097, 0.0022293562069535255, 0.0027711151633411646, 0.0032107261940836906, 0.0034064759965986013, 0.0577467679977417, 0.0035161313135176897, 0.002212842693552375, 0.01251797191798687, 0.013078946620225906, 0.001741291955113411, 0.015722211450338364, 0.005358862690627575, 0.00780625082552433, 0.014519382268190384, 0.002765713492408395, 0.00979203637689352, 0.004812604282051325, 0.002903527347370982, 0.04318355396389961, 0.012857156805694103, 0.0019500389462336898, 0.00037828044150955975, 0.030714794993400574, 0.006998386234045029, 0.007071688771247864, 0.014079433865845203, 0.0071126362308859825, 0.0015836447710171342, 0.00542421406134963, 0.000438383431173861, 0.002655461896210909, 0.022382834926247597, 0.01187741570174694, 0.3336338400840759, 0.005080922972410917, 0.0, 0.0, 0.0, 0.0, 0.0, 0.0, 0.0, 0.0], [0.1632230430841446, 0.034167565405368805, 0.0020822046790271997, 0.02052435651421547, 0.016836440190672874, 0.003413289552554488, 0.019488228484988213, 0.005480136722326279, 0.015636399388313293, 0.007014859467744827, 0.0112855713814497, 0.008033177815377712, 0.007225465960800648, 0.003459411673247814, 0.0037139705382287502, 0.02315564639866352, 0.005326962098479271, 0.027637511491775513, 0.007418033201247454, 0.012772430665791035, 0.004147685132920742, 0.0031857865396887064, 0.007969234138727188, 0.004041739739477634, 0.037619397044181824, 0.006231212057173252, 0.004153488203883171, 0.020003952085971832, 0.012417135760188103, 0.007389184087514877, 0.021494533866643906, 0.008363976143300533, 0.003283517900854349, 0.005128735676407814, 0.009462887421250343, 0.014671565964818, 0.007822894491255283, 0.0033854159992188215, 0.04568394646048546, 0.01789507456123829, 0.004427483305335045, 0.0006573903374373913, 0.02235504426062107, 0.013625334948301315, 0.01143647450953722, 0.011406868696212769, 0.0033119102008640766, 0.008479064330458641, 0.007627131417393684, 0.0007868502871133387, 0.004999152384698391, 0.01201725471764803, 0.01540340669453144, 0.18472221493721008, 0.008629510179162025, 0.04786878451704979, 0.0, 0.0, 0.0, 0.0, 0.0, 0.0, 0.0], [0.11662214994430542, 0.03185208886861801, 0.007840471342206001, 0.023815467953681946, 0.016545366495847702, 0.0019019197206944227, 0.01901659555733204, 0.007972953841090202, 0.012991263531148434, 0.008566711097955704, 0.010391435585916042, 0.011851104907691479, 0.007330501917749643, 0.004116378258913755, 0.004045076668262482, 0.022939177230000496, 0.008415482006967068, 0.027646930888295174, 0.00798685010522604, 0.029649343341588974, 0.008494388312101364, 0.004642508924007416, 0.009498794563114643, 0.010677195154130459, 0.046126168221235275, 0.009606858715415001, 0.007051988039165735, 0.033497098833322525, 0.009932063519954681, 0.0076006511226296425, 0.01808732934296131, 0.007933739572763443, 0.004310835152864456, 0.008218578062951565, 0.007453968748450279, 0.012886968441307545, 0.01659783534705639, 0.0040322355926036835, 0.047675590962171555, 0.025903960689902306, 0.0059656607918441296, 0.0022806718479841948, 0.014596139080822468, 0.005867561791092157, 0.008803064003586769, 0.01292870007455349, 0.004775956738740206, 0.007891693152487278, 0.003327230690047145, 0.0003995531296823174, 0.005385527852922678, 0.012168114073574543, 0.017107175663113594, 0.15707659721374512, 0.013765339739620686, 0.03336046263575554, 0.01257452555000782, 0.0, 0.0, 0.0, 0.0, 0.0, 0.0], [0.09903397411108017, 0.020415114238858223, 0.0037610011640936136, 0.023297367617487907, 0.016374792903661728, 0.0035445140674710274, 0.031513761729002, 0.006503561045974493, 0.006755677983164787, 0.007254001218825579, 0.005184492561966181, 0.00893335323780775, 0.00904528796672821, 0.002201711991801858, 0.003927241545170546, 0.02916053496301174, 0.0032524489797651768, 0.014206098392605782, 0.006893187295645475, 0.028877977281808853, 0.004767086822539568, 0.004416838753968477, 0.005193618126213551, 0.007371004670858383, 0.06530806422233582, 0.005181116983294487, 0.0032491690944880247, 0.037839461117982864, 0.012492643669247627, 0.005338567774742842, 0.023291058838367462, 0.010275648906826973, 0.009316302835941315, 0.012416994199156761, 0.010346408933401108, 0.009345276281237602, 0.00855926051735878, 0.0026607506442815065, 0.037523869425058365, 0.018728192895650864, 0.003435742575675249, 0.0011848101858049631, 0.0290480125695467, 0.007944170385599136, 0.01603262685239315, 0.013348577544093132, 0.006670174654573202, 0.003084867959842086, 0.006599138956516981, 0.0010072907898575068, 0.005962314549833536, 0.021815000101923943, 0.015001069754362106, 0.18455246090888977, 0.0058420258574187756, 0.032439474016427994, 0.007669991347938776, 0.014604725874960423, 0.0, 0.0, 0.0, 0.0, 0.0], [0.17941658198833466, 0.015248328447341919, 0.003592908149585128, 0.00884080771356821, 0.013063562102615833, 0.007592271082103252, 0.02191002480685711, 0.007226324174553156, 0.009510218165814877, 0.009360168129205704, 0.00567623833194375, 0.007252559531480074, 0.016812479123473167, 0.003633183892816305, 0.006873517297208309, 0.0263938270509243, 0.003873210633173585, 0.009877251461148262, 0.002474381122738123, 0.02554827369749546, 0.0029992912895977497, 0.0027894999366253614, 0.0031343488954007626, 0.002015596255660057, 0.017395131289958954, 0.0031015011481940746, 0.0033163907937705517, 0.02153305895626545, 0.009481809101998806, 0.004901134874671698, 0.020152803510427475, 0.005036547780036926, 0.005724391900002956, 0.010385235771536827, 0.011935381218791008, 0.00404545571655035, 0.002235559979453683, 0.0012751291505992413, 0.015141918323934078, 0.01731528900563717, 0.0022561210207641125, 0.0016780400183051825, 0.016782009974122047, 0.0033240439370274544, 0.008393073454499245, 0.022061176598072052, 0.007341739255934954, 0.003806723514571786, 0.007308285217732191, 0.0023985819425433874, 0.012316715903580189, 0.016808966174721718, 0.02298711985349655, 0.2636508345603943, 0.007421016227453947, 0.014466291293501854, 0.010961182415485382, 0.004419124219566584, 0.023527352139353752, 0.0, 0.0, 0.0, 0.0], [0.25670915842056274, 0.03358155116438866, 0.02016441337764263, 0.002097615972161293, 0.002090970054268837, 0.022334706038236618, 0.019438374787569046, 0.008911650627851486, 0.005362056661397219, 0.0069475662894546986, 0.0032213453669101, 0.0074924286454916, 0.07139694690704346, 0.00755408126860857, 0.01879589818418026, 0.009339387528598309, 0.0045547825284302235, 0.004158360883593559, 0.0007354836561717093, 0.010435010306537151, 0.0030920193530619144, 0.004399944096803665, 0.002017240272834897, 0.0005558333359658718, 0.003985926043242216, 0.0008972397772595286, 0.0014643342001363635, 0.009719166904687881, 0.00465409317985177, 0.004775167442858219, 0.007056386210024357, 0.0016467690002173185, 0.003920213785022497, 0.011364752426743507, 0.03424582630395889, 0.003389253979548812, 0.0006963743944652379, 0.0004637219535652548, 0.0023510942701250315, 0.00828896276652813, 0.003176051890477538, 0.00566268851980567, 0.0031715738587081432, 0.0004945671535097063, 0.007537916302680969, 0.05341092869639397, 0.008378616534173489, 0.002046582754701376, 0.0046636988408863544, 0.007982778362929821, 0.02390965260565281, 0.015323931351304054, 0.0399642214179039, 0.10716121643781662, 0.018583614379167557, 0.004054531920701265, 0.0014290243852883577, 0.0011720031034201384, 0.006268205586820841, 0.06130203232169151, 0.0, 0.0, 0.0], [0.09531569480895996, 0.037603434175252914, 0.011371948756277561, 0.005341606214642525, 0.002981540048494935, 0.006404622923582792, 0.008611378259956837, 0.004398992285132408, 0.006392540875822306, 0.0046909102238714695, 0.004120334051549435, 0.00647785933688283, 0.007732718251645565, 0.002179312752559781, 0.017684565857052803, 0.012209910899400711, 0.006268688943237066, 0.007632239256054163, 0.0015626351814717054, 0.02201751060783863, 0.004380367696285248, 0.004478305112570524, 0.0031893053092062473, 0.002506439108401537, 0.010237768292427063, 0.0010475770104676485, 0.0009571699192747474, 0.00905644055455923, 0.0052069504745304585, 0.006787386257201433, 0.006612837314605713, 0.004129733890295029, 0.003901305142790079, 0.008014805614948273, 0.012205877341330051, 0.0037718976382166147, 0.0007687684264965355, 0.001136812032200396, 0.006970602087676525, 0.022723810747265816, 0.00929909385740757, 0.0018692229641601443, 0.006175723392516375, 0.0009586497326381505, 0.006619867868721485, 0.01511881873011589, 0.00873536430299282, 0.002167691243812442, 0.0033208613749593496, 0.004189541097730398, 0.016054967418313026, 0.013142004609107971, 0.02218496985733509, 0.1556241810321808, 0.010678846389055252, 0.0080105597153306, 0.007016570772975683, 0.0018913137027993798, 0.006712027359753847, 0.21999722719192505, 0.09114984422922134, 0.0, 0.0], [0.11592976748943329, 0.025534892454743385, 0.014506029896438122, 0.001776494667865336, 0.002787716221064329, 0.010641079396009445, 0.024696601554751396, 0.003161644795909524, 0.002216775668784976, 0.004968087188899517, 0.000870490213856101, 0.001581994816660881, 0.008899997919797897, 0.0012894257670268416, 0.009893861599266529, 0.005091832019388676, 0.0020098225213587284, 0.002566971816122532, 0.00036911890492774546, 0.014203302562236786, 0.003594371723011136, 0.003739686915650964, 0.0011303172213956714, 0.0006249030702747405, 0.002569653792306781, 0.0006354094948619604, 0.0003689365985337645, 0.004784747958183289, 0.00138935970608145, 0.0008797229384072125, 0.0029736019205302, 0.0012250524014234543, 0.002583711873739958, 0.00566195510327816, 0.009353229776024818, 0.001525111380033195, 0.0005520475097000599, 0.0003442171146161854, 0.0038400578778237104, 0.011393043212592602, 0.00392147246748209, 0.0030174292623996735, 0.0032598727848380804, 0.0007030243868939579, 0.005448664538562298, 0.029904162511229515, 0.008555424399673939, 0.000796122127212584, 0.0029155642259866, 0.008537598885595798, 0.015418771654367447, 0.013989469036459923, 0.01341339759528637, 0.04865294322371483, 0.012005748227238655, 0.00454317033290863, 0.0011154240928590298, 0.0009285375126637518, 0.009270871058106422, 0.39531683921813965, 0.08911756426095963, 0.017002927139401436, 0.0], [0.13964037597179413, 0.021256372332572937, 0.006956570316106081, 0.005577370524406433, 0.0038994767237454653, 0.009482309222221375, 0.018966197967529297, 0.006780792027711868, 0.009453019127249718, 0.005990728735923767, 0.004291506018489599, 0.004229692276567221, 0.012068611569702625, 0.003164823865517974, 0.009515993297100067, 0.014609342440962791, 0.0058448780328035355, 0.005616390146315098, 0.0012266280828043818, 0.011147167533636093, 0.0028718106914311647, 0.006188839208334684, 0.0029717034194618464, 0.0012425065506249666, 0.00625197310000658, 0.0018289076397195458, 0.0012933282414451241, 0.007917131297290325, 0.0035180423874408007, 0.0028497977182269096, 0.008336279541254044, 0.003954149782657623, 0.0036206948570907116, 0.012131418101489544, 0.02086053043603897, 0.0027165317442268133, 0.0007413341081701219, 0.001106934156268835, 0.00998156238347292, 0.01327279768884182, 0.0050551812164485455, 0.003352330531924963, 0.004729354754090309, 0.0020356071181595325, 0.010309193283319473, 0.037071239203214645, 0.0225153136998415, 0.004813659004867077, 0.006789373699575663, 0.00772889843210578, 0.024635380133986473, 0.0180496983230114, 0.02227478101849556, 0.0544620044529438, 0.015303073450922966, 0.013011327013373375, 0.010755157098174095, 0.0012702848762273788, 0.00985755305737257, 0.20794472098350525, 0.05211391672492027, 0.013017051853239536, 0.03953033313155174]]}\n",
       "    )\n",
       "    </script>\n",
       "        </div>\n",
       "        "
      ],
      "text/plain": [
       "<__main__.SizeLimitedObject at 0x7fb30c548f40>"
      ]
     },
     "execution_count": 21,
     "metadata": {},
     "output_type": "execute_result"
    }
   ],
   "source": [
    "# tokens = model.to_tokens(english_prompt[:300] + ' ich bin haute')[0]\n",
    "# str_tokens = model.to_str_tokens(tokens)\n",
    "# _, cache = model.run_with_cache(tokens)\n",
    "# head_attention = circuitsvis.attention.attention_pattern(tokens=str_tokens, attention=cache['blocks.2.attn.hook_pattern'][0, 5, :, :])\n",
    "# sized_viz = SizeLimitedObject(head_attention)\n",
    "# sized_viz"
   ]
  },
  {
   "cell_type": "code",
   "execution_count": null,
   "metadata": {},
   "outputs": [],
   "source": []
  }
 ],
 "metadata": {
  "kernelspec": {
   "display_name": "base",
   "language": "python",
   "name": "python3"
  },
  "language_info": {
   "codemirror_mode": {
    "name": "ipython",
    "version": 3
   },
   "file_extension": ".py",
   "mimetype": "text/x-python",
   "name": "python",
   "nbconvert_exporter": "python",
   "pygments_lexer": "ipython3",
   "version": "3.10.11"
  },
  "orig_nbformat": 4
 },
 "nbformat": 4,
 "nbformat_minor": 2
}
