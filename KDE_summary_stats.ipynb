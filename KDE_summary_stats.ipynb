{
  "cells": [
    {
      "attachments": {},
      "cell_type": "markdown",
      "metadata": {},
      "source": [
        "- French -> English hook\n",
        "- English -> German hook\n",
        "- High loss German bigrams when German neurons are ablated\n",
        "- KDE summary statistics\n",
        "- Effects of French neuron ablations/activations on loss of French and English datasets"
      ]
    },
    {
      "attachments": {},
      "cell_type": "markdown",
      "metadata": {
        "id": "Y3kX9bJxK2iv"
      },
      "source": [
        "## Setup"
      ]
    },
    {
      "cell_type": "code",
      "execution_count": 45,
      "metadata": {
        "colab": {
          "base_uri": "https://localhost:8080/",
          "height": 651
        },
        "id": "p4J9csWHKTcM",
        "outputId": "1d63fb26-2856-463a-f53d-a46ac165c9d9"
      },
      "outputs": [],
      "source": [
        "import haystack_utils\n",
        "import math\n",
        "import torch\n",
        "import numpy as np\n",
        "import seaborn as sns\n",
        "from transformer_lens import HookedTransformer\n",
        "from sklearn.model_selection import train_test_split\n",
        "from sklearn.linear_model import LogisticRegression\n",
        "\n",
        "# Plotly needs a different renderer for VSCode/Notebooks vs Colab\n",
        "import plotly.io as pio\n",
        "pio.renderers.default = \"colab\"  # \"notebook_connected\"\n",
        "device = \"cuda\" if torch.cuda.is_available() else \"cpu\""
      ]
    },
    {
      "attachments": {},
      "cell_type": "markdown",
      "metadata": {
        "id": "WlD1pPxwK5D2"
      },
      "source": [
        "## Model and data loading"
      ]
    },
    {
      "cell_type": "code",
      "execution_count": 46,
      "metadata": {
        "colab": {
          "base_uri": "https://localhost:8080/"
        },
        "id": "rgdnHeogXdVO",
        "outputId": "6730013b-e68a-442a-f60d-a3f2467aab24"
      },
      "outputs": [
        {
          "name": "stderr",
          "output_type": "stream",
          "text": [
            "Using pad_token, but it is not set yet.\n"
          ]
        },
        {
          "name": "stdout",
          "output_type": "stream",
          "text": [
            "Loaded pretrained model pythia-70m-v0 into HookedTransformer\n"
          ]
        }
      ],
      "source": [
        "torch.autograd.set_grad_enabled(False)\n",
        "torch.set_grad_enabled(False)\n",
        "model = HookedTransformer.from_pretrained(\"pythia-70m-v0\", fold_ln=True, device=device)"
      ]
    },
    {
      "cell_type": "code",
      "execution_count": 47,
      "metadata": {
        "colab": {
          "base_uri": "https://localhost:8080/",
          "height": 212,
          "referenced_widgets": [
            "f9e16c5ffd9a400a82a500ad75aa10c1",
            "6a8510e60f6a42ccb9b28eb3cdb213a3",
            "7eb155a619904aa282444c8142cae0d9",
            "f3d1bf5ac3b742baaa2a3db08f3347da",
            "235344e7e74c44f39021b544dbf5c03d",
            "c4043f0bde0040b69489b2c28d084a19",
            "d87d2ba790df4d27bf8a5206650375b7",
            "8bd80460fee146eaacc3d74c739e0486",
            "a141f757f56440b08fdf63687130e369",
            "f70ac5d612574d4fa8bdf654cac710e5",
            "f74eb74cbdb54073846f1452895f8345",
            "b6c605a6bbe24f018fd4083ef81e1c84",
            "1e1e008f496548e9b79b4bdf868927d8",
            "c087a8e05c0048c1ba0dd9a9d9958ad4",
            "c407ce69974649578d34d0b63f16aeb2",
            "75d59b65b29749298ecec1241380a5fa",
            "1d2120f18137477dbe37c44d91e22462",
            "7d277bd5adbf40a29a0b6ca1eb32c1d7",
            "24c561e352e7457eafefc2869316fd1a",
            "899cbb189b3f49f785bc4ea30f9ed728",
            "8fd1e37efade46b1abc1a8524d3f3493",
            "8b72c7f1b1d54cee855b76dbc9eea2ef",
            "a788ff351e87412594b50ef13adddc2e",
            "15de438672ee4e6799f3584814896c94",
            "657ffa2b97f14cb8a932651b2817bb85",
            "870108f3dfca43d493e7ca8050dc23e0",
            "28b474f979a14f18a58f1774b6d36dc5",
            "95746cf5fbc5435795b4edce0a680ac7",
            "e823f1b13e404b2da50eef8bff1f0787",
            "134b8c6c0518410dace3a62cbbda02b1",
            "85901db32cbb4d1ab638a8f4957df50d",
            "3e117101c1ef438aa0e51e985e4b6334",
            "b2370feee46e4625888887c4a941346c",
            "a3faeef1b00e45658da16c39f8b42019",
            "486a05db96d54dce94d9093232b092c2",
            "90bc7cf5b6434a8e87dd1eb0e5fa9995",
            "5eae987c2e274d0dad1fef587498bee6",
            "69e5c363fe1e43b3ad0d9dbbbc7ea1b2",
            "df5bd50307694607b0985c1aa20fc6aa",
            "d2a837ae13ce45ecab40d6f8893323df",
            "12ad8931e84f4a72a44d37fc33908964",
            "43ced0e2afe842adb76917e866efad5a",
            "de8d565a0b54464fb91d2f7e821c4389",
            "4c7c8602891e4ec0a1bace6af85fcb8d",
            "6c9871bb7f174107b71a923d8cbcec62",
            "5fc0f4ad749e4aa59d6f7d6b1cc1c084",
            "8cd0001481a84f86940302bce343e64f",
            "f54bc35e7464486c9a60d02e628f3fe4",
            "5bd9d50732aa4f53b4030678954fc398",
            "c78a4107880543b6a9ce617264baa63e",
            "ae373bd04ac046208e2dcaec820a0b1f",
            "c9a4bcb6ab1a4aafb87674b80d1630da",
            "76955885ee314bff9dcfd6f4ccac222c",
            "91daf31f42124f41b9c9128cd4bd2af3",
            "b5a7daa4c2474186b91f740dc0a49527"
          ]
        },
        "id": "0ddTGCOiKpsx",
        "outputId": "34a6f4c5-e185-4ce5-ea36-eb0fd39ae002"
      },
      "outputs": [
        {
          "name": "stdout",
          "output_type": "stream",
          "text": [
            "kde4_french.txt: Loaded 1007 examples with 505 to 5345 characters each.\n",
            "kde4_english.txt: Loaded 1007 examples with 501 to 5295 characters each.\n"
          ]
        }
      ],
      "source": [
        "french = haystack_utils.load_txt_data(\"kde4_french.txt\")\n",
        "non_french = haystack_utils.load_txt_data(\"kde4_english.txt\")"
      ]
    },
    {
      "attachments": {},
      "cell_type": "markdown",
      "metadata": {
        "id": "YhONedZ3UXVn"
      },
      "source": [
        "## Sparse probing to rediscover the french neuron"
      ]
    },
    {
      "cell_type": "code",
      "execution_count": 48,
      "metadata": {
        "colab": {
          "base_uri": "https://localhost:8080/"
        },
        "id": "qx086Wx-XD6m",
        "outputId": "e7f5bd89-a5d1-4f31-fa6f-0fd1a76594ee"
      },
      "outputs": [
        {
          "data": {
            "application/vnd.jupyter.widget-view+json": {
              "model_id": "35f16ccd04994c6cbda8764bc3c9767e",
              "version_major": 2,
              "version_minor": 0
            },
            "text/plain": [
              "  0%|          | 0/1007 [00:00<?, ?it/s]"
            ]
          },
          "metadata": {},
          "output_type": "display_data"
        },
        {
          "data": {
            "application/vnd.jupyter.widget-view+json": {
              "model_id": "65b1c84e4b774592bfe5f9a01cc37df0",
              "version_major": 2,
              "version_minor": 0
            },
            "text/plain": [
              "  0%|          | 0/1007 [00:00<?, ?it/s]"
            ]
          },
          "metadata": {},
          "output_type": "display_data"
        },
        {
          "name": "stdout",
          "output_type": "stream",
          "text": [
            "(2014, 2048) (2014,)\n"
          ]
        }
      ],
      "source": [
        "french_acts = haystack_utils.get_mlp_activations(french, 3, model, -1, context_crop_start=20, context_crop_end=21, mean=False)\n",
        "non_french_acts = haystack_utils.get_mlp_activations(non_french, 3, model, -1, context_crop_start=20, context_crop_end=21, mean=False)\n",
        "\n",
        "# Balanced dataset of activations on french and non-french data\n",
        "smaller_size = min(len(french_acts), len(non_french_acts))\n",
        "A = torch.concat((french_acts[:smaller_size], non_french_acts[:smaller_size]), dim=0).cpu().numpy()\n",
        "y = np.array([1]*smaller_size + [0]*smaller_size)\n",
        "\n",
        "print(A.shape, y.shape)"
      ]
    },
    {
      "cell_type": "code",
      "execution_count": 49,
      "metadata": {
        "id": "IePeWNNvZKqR"
      },
      "outputs": [],
      "source": [
        "def get_important_neurons(A_train: np.ndarray, y_train: np.ndarray, k: int):\n",
        "    # score each activation dimension by the difference between the means of\n",
        "    # the classes 0 and 1\n",
        "    A_train, y_train = torch.Tensor(A_train), torch.Tensor(y_train)\n",
        "    class_0_mean = A_train[y_train == 0].mean(dim=0)\n",
        "    class_1_mean = A_train[y_train == 1].mean(dim=0)\n",
        "    scores = (class_1_mean - class_0_mean).abs()\n",
        "    top_k_scores, top_k_indices = torch.topk(scores, k)\n",
        "    return top_k_indices, top_k_scores"
      ]
    },
    {
      "cell_type": "code",
      "execution_count": 50,
      "metadata": {
        "id": "LX4GuJqoYbfl"
      },
      "outputs": [
        {
          "name": "stdout",
          "output_type": "stream",
          "text": [
            "[609, 705, 1361, 588, 902, 102, 37, 1715, 1847, 1932]\n",
            "[609, 705, 1361, 588, 902, 102, 37, 1715, 1847, 1932]\n",
            "0.6087196467991169\n"
          ]
        }
      ],
      "source": [
        "# Get top classification neurons in A using class labels y\n",
        "k = 10\n",
        "test_accs = []\n",
        "train_accs = []\n",
        "for i in range(1):\n",
        "    A_train, A_test, y_train, y_test = train_test_split(A, y, test_size=0.1)\n",
        "    top_k_indices, top_k_scores = get_important_neurons(A_train, y_train, k)\n",
        "    lr_model = LogisticRegression()\n",
        "    topk = top_k_indices.cpu().numpy().tolist()\n",
        "    print(topk)\n",
        "    A_train = A_train[:, [730, 1856, 1600]]\n",
        "    A_test = A_test[:, [730, 1856, 1600]]\n",
        "    lr_model.fit(A_train, y_train)\n",
        "    test_acc = lr_model.score(A_test, y_test)\n",
        "    train_acc = lr_model.score(A_train, y_train)\n",
        "    test_accs.append(test_acc)\n",
        "    train_accs.append(train_acc)\n",
        "\n",
        "print(topk)\n",
        "print(np.mean(train_accs))"
      ]
    },
    {
      "cell_type": "code",
      "execution_count": 51,
      "metadata": {
        "id": "UtF0mvoRka3d"
      },
      "outputs": [],
      "source": [
        "def get_top_individual_neuron_accuracy(k=10, n=5):\n",
        "  test_accs = np.zeros((n, k))\n",
        "  train_accs = np.zeros((n, k))\n",
        "  for i in range(n):\n",
        "      A_train, A_test, y_train, y_test = train_test_split(A, y, test_size=0.1)\n",
        "      top_k_indices, top_k_scores = get_important_neurons(A_train, y_train, k)\n",
        "      lr_model = LogisticRegression()\n",
        "      topk = top_k_indices.cpu().numpy().tolist()\n",
        "      for k_index, neuron in enumerate(topk):\n",
        "          A_train_tmp = A_train[:, [neuron]]\n",
        "          A_test_tmp = A_test[:, [neuron]]\n",
        "          lr_model.fit(A_train_tmp, y_train)\n",
        "          test_acc = lr_model.score(A_test_tmp, y_test)\n",
        "          train_acc = lr_model.score(A_train_tmp, y_train)\n",
        "          test_accs[i, k_index] = test_acc\n",
        "          train_accs[i, k_index] = train_acc\n",
        "  return train_accs, test_accs, topk\n",
        "\n",
        "\n",
        "train_accs, test_accs, topk = get_top_individual_neuron_accuracy(n=20, k=50)"
      ]
    },
    {
      "cell_type": "code",
      "execution_count": 52,
      "metadata": {
        "id": "D1wqEl8doDAZ"
      },
      "outputs": [
        {
          "name": "stdout",
          "output_type": "stream",
          "text": [
            "[609, 705, 902, 1361, 102, 588, 37, 1715, 1847, 907]\n",
            "[0.93104305 0.6785872  0.75292494 0.68421634 0.86548013 0.67121965\n",
            " 0.64815121 0.72789735 0.64232892 0.64048013]\n"
          ]
        }
      ],
      "source": [
        "print(topk[:10])\n",
        "print(train_accs.mean(0)[:10])"
      ]
    },
    {
      "cell_type": "code",
      "execution_count": 53,
      "metadata": {
        "id": "fVclELDFaM6Q"
      },
      "outputs": [
        {
          "name": "stderr",
          "output_type": "stream",
          "text": [
            "/tmp/ipykernel_2416/1142124930.py:2: UserWarning:\n",
            "\n",
            "FixedFormatter should only be used together with FixedLocator\n",
            "\n"
          ]
        },
        {
          "data": {
            "text/plain": [
              "Text(0.5, 1.0, 'Individual neuron probe accuracy in MLP layer 3')"
            ]
          },
          "execution_count": 53,
          "metadata": {},
          "output_type": "execute_result"
        },
        {
          "data": {
            "image/png": "[encoded data removed]",
            "text/plain": [
              "<Figure size 640x480 with 1 Axes>"
            ]
          },
          "metadata": {},
          "output_type": "display_data"
        }
      ],
      "source": [
        "g = sns.lineplot(train_accs.mean(0))\n",
        "g.set_xticklabels(topk)\n",
        "g.set_title(\"Individual neuron probe accuracy in MLP layer 3\")"
      ]
    },
    {
      "cell_type": "code",
      "execution_count": 54,
      "metadata": {
        "id": "k6NauTpTaRqN"
      },
      "outputs": [
        {
          "data": {
            "text/plain": [
              "(tensor([ 609,  705, 1361,  588,  902,  102,   37, 1715, 1847, 1932]),\n",
              " tensor([2.3957, 0.7343, 0.6351, 0.6067, 0.6059, 0.5978, 0.5614, 0.4795, 0.4678,\n",
              "         0.4551]))"
            ]
          },
          "execution_count": 54,
          "metadata": {},
          "output_type": "execute_result"
        }
      ],
      "source": [
        "top_k_indices, top_k_scores"
      ]
    },
    {
      "attachments": {},
      "cell_type": "markdown",
      "metadata": {
        "id": "tEg3un8DduWU"
      },
      "source": [
        "## Test ablation performance"
      ]
    },
    {
      "cell_type": "code",
      "execution_count": 55,
      "metadata": {
        "id": "bPHumqY3aX1C"
      },
      "outputs": [
        {
          "name": "stdout",
          "output_type": "stream",
          "text": [
            "French activation: 2.3420767784118652\n",
            "Non french activation: -0.06485679000616074\n"
          ]
        }
      ],
      "source": [
        "french_activation_L3N609 = french_acts[:, 609]\n",
        "non_french_activation_L3N609 = non_french_acts[:, 609]\n",
        "mean_french_activation_L3N609 = french_acts[:, 609].mean(0)\n",
        "mean_non_french_activation_L3N609 = non_french_acts[:, 609].mean(0)\n",
        "print(\"French activation:\", mean_french_activation_L3N609.mean(0).item())\n",
        "print(\"Non french activation:\", mean_non_french_activation_L3N609.mean(0).item())"
      ]
    },
    {
      "cell_type": "code",
      "execution_count": 56,
      "metadata": {
        "id": "T8ZpMPYad3qP"
      },
      "outputs": [
        {
          "data": {
            "text/plain": [
              "<Axes: ylabel='Count'>"
            ]
          },
          "execution_count": 56,
          "metadata": {},
          "output_type": "execute_result"
        },
        {
          "data": {
            "image/png": "[encoded data removed]",
            "text/plain": [
              "<Figure size 640x480 with 1 Axes>"
            ]
          },
          "metadata": {},
          "output_type": "display_data"
        }
      ],
      "source": [
        "sns.histplot(french_activation_L3N609.cpu().numpy())\n",
        "sns.histplot(non_french_activation_L3N609.cpu().numpy())"
      ]
    },
    {
      "cell_type": "code",
      "execution_count": 57,
      "metadata": {},
      "outputs": [],
      "source": [
        "act_label_l3 = f'blocks.3.mlp.hook_post'"
      ]
    },
    {
      "cell_type": "code",
      "execution_count": 58,
      "metadata": {
        "id": "T5jpxSYaeRL8"
      },
      "outputs": [
        {
          "name": "stdout",
          "output_type": "stream",
          "text": [
            "torch.Size([32, 521])\n",
            "Full model loss: 6.603084\n",
            "Ablated MLP layer loss: 6.703305\n"
          ]
        }
      ],
      "source": [
        "def ablate_neuron_hook(value, hook):\n",
        "  # Shape [batch pos d_mlp]\n",
        "  #if hook.layer() == 3:\n",
        "  value[:, :, 609] = mean_non_french_activation_L3N609\n",
        "  return value\n",
        "\n",
        "tokens = model.to_tokens(french[500:532])\n",
        "print(tokens.shape)\n",
        "original_loss = model(tokens, return_type=\"loss\")\n",
        "ablated_loss = model.run_with_hooks(tokens, return_type=\"loss\", fwd_hooks=[(act_label_l3, ablate_neuron_hook)])\n",
        "\n",
        "print(f\"Full model loss: {original_loss:.6f}\")\n",
        "print(f\"Ablated MLP layer loss: {ablated_loss:.6f}\")"
      ]
    },
    {
      "cell_type": "code",
      "execution_count": 59,
      "metadata": {},
      "outputs": [
        {
          "name": "stdout",
          "output_type": "stream",
          "text": [
            "Full model loss: 3.583874\n",
            "Ablated MLP layer loss: 3.808673\n",
            "% increase: 6.272504\n",
            "min_original_loss=tensor(0.8048, device='cuda:0')\n",
            "paired_ablated_loss=tensor(0.8037, device='cuda:0')\n"
          ]
        }
      ],
      "source": [
        "# Summary Statistics for KDE dataset on Pythia\n",
        "# average loss around 3\n",
        "# loss increase from ablating french neuron around 6%\n",
        "\n",
        "average_original_loss = 0\n",
        "average_ablated_loss = 0\n",
        "\n",
        "min_original_loss = math.inf\n",
        "paired_ablated_loss = math.inf\n",
        "\n",
        "for sample in french:\n",
        "  tokens = model.to_tokens(sample)\n",
        "  original_loss = model(tokens, return_type=\"loss\")\n",
        "  ablated_loss = model.run_with_hooks(tokens, return_type=\"loss\", fwd_hooks=[(act_label_l3, ablate_neuron_hook)])\n",
        "\n",
        "  if (original_loss < min_original_loss):\n",
        "    min_original_loss = original_loss\n",
        "    paired_ablated_loss = ablated_loss\n",
        "    min_original_loss = original_loss\n",
        "\n",
        "  average_original_loss += original_loss\n",
        "  average_ablated_loss += ablated_loss\n",
        "\n",
        "average_original_loss /= len(french)\n",
        "average_ablated_loss /= len(french)\n",
        "\n",
        "print(f\"Full model loss: {average_original_loss:.6f}\")\n",
        "print(f\"Ablated MLP layer loss: {average_ablated_loss:.6f}\")\n",
        "print(f\"% increase: {((average_ablated_loss - average_original_loss) / average_original_loss).item() * 100:.6f}\")\n",
        "\n",
        "print(f'{min_original_loss=}')\n",
        "print(f'{paired_ablated_loss=}')"
      ]
    },
    {
      "attachments": {},
      "cell_type": "markdown",
      "metadata": {},
      "source": [
        "## Loss from disabling/enabling the neuron on non-French text"
      ]
    },
    {
      "cell_type": "code",
      "execution_count": 60,
      "metadata": {},
      "outputs": [
        {
          "name": "stdout",
          "output_type": "stream",
          "text": [
            "Full model loss: 3.876772\n",
            "Ablated MLP layer loss: 3.876870\n",
            "% increase: 0.002521\n",
            "Full model loss: 3.876772\n",
            "Ablated MLP layer loss: 3.955415\n",
            "% increase: 2.028571\n"
          ]
        }
      ],
      "source": [
        "def enable_neuron_hook(value, hook):\n",
        "  # value shape is [batch pos d_mlp]\n",
        "  value[:, :, 609] = mean_french_activation_L3N609\n",
        "  return value\n",
        "\n",
        "\n",
        "def compare_loss_with_ablated(data, ablate_hook):\n",
        "  average_original_loss = 0\n",
        "  average_ablated_loss = 0\n",
        "\n",
        "  for sample in data:\n",
        "    tokens = model.to_tokens(sample)\n",
        "    average_original_loss += model(tokens, return_type=\"loss\")\n",
        "    average_ablated_loss +=  model.run_with_hooks(tokens, return_type=\"loss\", fwd_hooks=[(act_label_l3, ablate_hook)])\n",
        "\n",
        "  average_original_loss /= len(data)\n",
        "  average_ablated_loss /= len(data)\n",
        "\n",
        "  print(f\"Full model loss: {average_original_loss:.6f}\")\n",
        "  print(f\"Ablated MLP layer loss: {average_ablated_loss:.6f}\")\n",
        "  print(f\"% increase: {((average_ablated_loss - average_original_loss) / average_original_loss).item() * 100:.6f}\")\n",
        "\n",
        "\n",
        "# Loss from disabling French neuron on non-French text - if this is high it disproves that the neuron is only relevant to non-French text (although it could be \n",
        "# due to French loanwords)\n",
        "# It's very low\n",
        "compare_loss_with_ablated(non_french, ablate_neuron_hook)\n",
        "# Loss from enabling French neuron on non-French text - if this is high it shows that the neuron is influential on its own, not just as part of a circuit\n",
        "# which we can discover. E.g., there's an unembedding direction which \"translates\" words and this neuron triggers it.\n",
        "compare_loss_with_ablated(non_french, enable_neuron_hook)"
      ]
    },
    {
      "attachments": {},
      "cell_type": "markdown",
      "metadata": {},
      "source": [
        "## Modify pythia-70M-v1 language neurons in a failed attempt to get the model to predict German text"
      ]
    },
    {
      "cell_type": "code",
      "execution_count": 61,
      "metadata": {},
      "outputs": [
        {
          "name": "stderr",
          "output_type": "stream",
          "text": [
            "Using pad_token, but it is not set yet.\n"
          ]
        },
        {
          "name": "stdout",
          "output_type": "stream",
          "text": [
            "Loaded pretrained model EleutherAI/pythia-70m into HookedTransformer\n",
            "german_stories.txt: Loaded 20 examples with 243 to 312 characters each.\n",
            "kde4_english.txt: Loaded 1007 examples with 501 to 5295 characters each.\n",
            "kde4_french.txt: Loaded 1007 examples with 505 to 5345 characters each.\n"
          ]
        },
        {
          "data": {
            "application/vnd.jupyter.widget-view+json": {
              "model_id": "cea316a734e4437c810fb5ddd0f1b861",
              "version_major": 2,
              "version_minor": 0
            },
            "text/plain": [
              "  0%|          | 0/20 [00:00<?, ?it/s]"
            ]
          },
          "metadata": {},
          "output_type": "display_data"
        },
        {
          "data": {
            "application/vnd.jupyter.widget-view+json": {
              "model_id": "1244443db0664f9d8742d130d998b2b1",
              "version_major": 2,
              "version_minor": 0
            },
            "text/plain": [
              "  0%|          | 0/20 [00:00<?, ?it/s]"
            ]
          },
          "metadata": {},
          "output_type": "display_data"
        },
        {
          "data": {
            "application/vnd.jupyter.widget-view+json": {
              "model_id": "850e1540c47c4e84af0a3e0767779bcd",
              "version_major": 2,
              "version_minor": 0
            },
            "text/plain": [
              "  0%|          | 0/20 [00:00<?, ?it/s]"
            ]
          },
          "metadata": {},
          "output_type": "display_data"
        },
        {
          "data": {
            "application/vnd.jupyter.widget-view+json": {
              "model_id": "a10fc410251945159f31d55f038aa83c",
              "version_major": 2,
              "version_minor": 0
            },
            "text/plain": [
              "  0%|          | 0/1007 [00:00<?, ?it/s]"
            ]
          },
          "metadata": {},
          "output_type": "display_data"
        },
        {
          "data": {
            "application/vnd.jupyter.widget-view+json": {
              "model_id": "c46526e80d8046bda8a68421329a6325",
              "version_major": 2,
              "version_minor": 0
            },
            "text/plain": [
              "  0%|          | 0/1007 [00:00<?, ?it/s]"
            ]
          },
          "metadata": {},
          "output_type": "display_data"
        },
        {
          "data": {
            "application/vnd.jupyter.widget-view+json": {
              "model_id": "df08b0dfa9124431af47116b1754e26f",
              "version_major": 2,
              "version_minor": 0
            },
            "text/plain": [
              "  0%|          | 0/1007 [00:00<?, ?it/s]"
            ]
          },
          "metadata": {},
          "output_type": "display_data"
        },
        {
          "data": {
            "application/vnd.jupyter.widget-view+json": {
              "model_id": "044ed99a62b04920a656edf63cd6c3a1",
              "version_major": 2,
              "version_minor": 0
            },
            "text/plain": [
              "  0%|          | 0/1007 [00:00<?, ?it/s]"
            ]
          },
          "metadata": {},
          "output_type": "display_data"
        },
        {
          "data": {
            "application/vnd.jupyter.widget-view+json": {
              "model_id": "1796eecf52444a61a210a41130d4510c",
              "version_major": 2,
              "version_minor": 0
            },
            "text/plain": [
              "  0%|          | 0/1007 [00:00<?, ?it/s]"
            ]
          },
          "metadata": {},
          "output_type": "display_data"
        },
        {
          "data": {
            "application/vnd.jupyter.widget-view+json": {
              "model_id": "f64eb7c6749a428e9059f662d5de71eb",
              "version_major": 2,
              "version_minor": 0
            },
            "text/plain": [
              "  0%|          | 0/1007 [00:00<?, ?it/s]"
            ]
          },
          "metadata": {},
          "output_type": "display_data"
        },
        {
          "data": {
            "application/vnd.jupyter.widget-view+json": {
              "model_id": "1ad82528c62d45dfb87e557d1e126050",
              "version_major": 2,
              "version_minor": 0
            },
            "text/plain": [
              "  0%|          | 0/20 [00:00<?, ?it/s]"
            ]
          },
          "metadata": {},
          "output_type": "display_data"
        },
        {
          "data": {
            "application/vnd.jupyter.widget-view+json": {
              "model_id": "cfaf8306b668470dafb023794ed09f8d",
              "version_major": 2,
              "version_minor": 0
            },
            "text/plain": [
              "  0%|          | 0/20 [00:00<?, ?it/s]"
            ]
          },
          "metadata": {},
          "output_type": "display_data"
        },
        {
          "data": {
            "application/vnd.jupyter.widget-view+json": {
              "model_id": "69577791ca3a4576b5daec6628084925",
              "version_major": 2,
              "version_minor": 0
            },
            "text/plain": [
              "  0%|          | 0/20 [00:00<?, ?it/s]"
            ]
          },
          "metadata": {},
          "output_type": "display_data"
        },
        {
          "data": {
            "application/vnd.jupyter.widget-view+json": {
              "model_id": "65dff1e409f34c25a6b6507614b4c54a",
              "version_major": 2,
              "version_minor": 0
            },
            "text/plain": [
              "  0%|          | 0/1007 [00:00<?, ?it/s]"
            ]
          },
          "metadata": {},
          "output_type": "display_data"
        },
        {
          "data": {
            "application/vnd.jupyter.widget-view+json": {
              "model_id": "10d8a00b5c6046b0a0b1e6daf01bb085",
              "version_major": 2,
              "version_minor": 0
            },
            "text/plain": [
              "  0%|          | 0/1007 [00:00<?, ?it/s]"
            ]
          },
          "metadata": {},
          "output_type": "display_data"
        },
        {
          "data": {
            "application/vnd.jupyter.widget-view+json": {
              "model_id": "3b37587233e644899d0284787d079a7d",
              "version_major": 2,
              "version_minor": 0
            },
            "text/plain": [
              "  0%|          | 0/1007 [00:00<?, ?it/s]"
            ]
          },
          "metadata": {},
          "output_type": "display_data"
        },
        {
          "data": {
            "application/vnd.jupyter.widget-view+json": {
              "model_id": "918b1ffd52f74782bfdde203cf3effdb",
              "version_major": 2,
              "version_minor": 0
            },
            "text/plain": [
              "  0%|          | 0/1007 [00:00<?, ?it/s]"
            ]
          },
          "metadata": {},
          "output_type": "display_data"
        }
      ],
      "source": [
        "from collections import defaultdict\n",
        "from haystack_utils import load_txt_data, get_mlp_activations\n",
        "\n",
        "model = HookedTransformer.from_pretrained(\"EleutherAI/pythia-70m\", fold_ln=True, device=device)\n",
        "\n",
        "# Interesting neurons in Pythia V1, taken from Wes' CSV\n",
        "english_neurons = [(5, 395), (5, 166), (5, 908), (5, 285), (3, 862), (5, 73), (4, 896), (5, 348), (5, 297), (3, 1204)]\n",
        "german_neurons = [(4, 482), (5, 1039), (5, 407), (5, 1516), (5, 1336), (4, 326), (5, 250), (3, 669)]\n",
        "french_neurons = [(5, 112), (4, 1080), (5, 1293), (5, 455), (5, 5), (5, 1901), (5, 486), (4, 975)]\n",
        "# German neurons that still score highly on our dataset\n",
        "german_neurons_our_score = [(3, 669), (5, 1336), (4, 482), (5, 1039), (4, 326)]\n",
        "\n",
        "# Get German data and mean neuron activations\n",
        "german_data = load_txt_data(\"german_stories.txt\")\n",
        "english_data = load_txt_data(\"kde4_english.txt\")\n",
        "french_data = load_txt_data(\"kde4_french.txt\")\n",
        "\n",
        "german_mean_high_activations = defaultdict(torch.Tensor, {\n",
        "    3: get_mlp_activations(german_data, 3, model, mean=True),  # [2048]\n",
        "    4: get_mlp_activations(german_data, 4, model, mean=True),\n",
        "    5: get_mlp_activations(german_data, 5, model, mean=True)\n",
        "})\n",
        "german_mean_low_activations = defaultdict(torch.Tensor, {\n",
        "    3: get_mlp_activations(english_data, 3, model, mean=True),  # [2048]\n",
        "    4: get_mlp_activations(english_data, 4, model, mean=True),\n",
        "    5: get_mlp_activations(english_data, 5, model, mean=True)\n",
        "})\n",
        "english_mean_high_activations = defaultdict(torch.Tensor, {\n",
        "    3: get_mlp_activations(english_data, 3, model, mean=True),  # [2048]\n",
        "    4: get_mlp_activations(english_data, 4, model, mean=True),\n",
        "    5: get_mlp_activations(english_data, 5, model, mean=True)\n",
        "})\n",
        "english_mean_low_activations = defaultdict(torch.Tensor, {\n",
        "    3: get_mlp_activations(german_data, 3, model, mean=True),  # [2048]\n",
        "    4: get_mlp_activations(german_data, 4, model, mean=True),\n",
        "    5: get_mlp_activations(german_data, 5, model, mean=True)\n",
        "})\n",
        "french_mean_high_activations = defaultdict(torch.Tensor, {\n",
        "    4: get_mlp_activations(french_data, 4, model, mean=True),\n",
        "    5: get_mlp_activations(french_data, 5, model, mean=True)\n",
        "})\n",
        "french_mean_low_activations = defaultdict(torch.Tensor, {\n",
        "    4: get_mlp_activations(english_data, 4, model, mean=True),\n",
        "    5: get_mlp_activations(english_data, 5, model, mean=True)\n",
        "})\n",
        "\n",
        "english_neurons_by_layer = defaultdict(list)\n",
        "for item in english_neurons:\n",
        "    english_neurons_by_layer[item[0]].append(item[1])\n",
        "german_neurons_by_layer = defaultdict(list)\n",
        "for item in german_neurons:\n",
        "    german_neurons_by_layer[item[0]].append(item[1])\n",
        "french_neurons_by_layer = defaultdict(list)\n",
        "for item in french_neurons:\n",
        "    french_neurons_by_layer[item[0]].append(item[1])"
      ]
    },
    {
      "cell_type": "code",
      "execution_count": 81,
      "metadata": {},
      "outputs": [
        {
          "name": "stdout",
          "output_type": "stream",
          "text": [
            "Though this detail has absolutely no bearing on the die-off, der die-off, der die-off, der die-off, der die-off, der die-off, der die-off, der die-off, der die-off, der die-off\n",
            "Though this detail has absolutely no bearingde der Ande der Ande der Ande der Ande der Ande der Ande der Ande der Ande der Ande der Ande der Ande der Ande der Ande der Ande der Ande der Ande der\n"
          ]
        }
      ],
      "source": [
        "def get_activate_german_multiple_hook(multiple: int):\n",
        "    def activate_german_hook(value, hook):\n",
        "        layer = hook.layer()\n",
        "        german_neurons_for_layer = german_neurons_by_layer[layer]\n",
        "        english_neurons_for_layer = english_neurons_by_layer[layer]\n",
        "\n",
        "        value[:, :, german_neurons_for_layer] = german_mean_high_activations[layer][german_neurons_for_layer].cuda() * multiple\n",
        "        value[:, :, english_neurons_for_layer] = english_mean_low_activations[layer][english_neurons_for_layer].cuda()\n",
        "        return value\n",
        "    return activate_german_hook\n",
        "\n",
        "\n",
        "# our_german_neurons_by_layer = defaultdict(list)\n",
        "# for item in german_neurons:\n",
        "#     our_german_neurons_by_layer[item[0]].append(item[1])\n",
        "# def activate_german_hook_our_neurons(value, hook):\n",
        "#     layer = hook.layer()\n",
        "#     german_neurons_for_layer = our_german_neurons_by_layer[layer]\n",
        "#     english_neurons_for_layer = english_neurons_by_layer[layer]\n",
        "\n",
        "#     value[:, :, german_neurons_for_layer] = german_mean_high_activations[layer][german_neurons_for_layer].cuda() * 3\n",
        "#     value[:, :, english_neurons_for_layer] = english_mean_low_activations[layer][english_neurons_for_layer].cuda()\n",
        "#     return value\n",
        "\n",
        "\n",
        "def activate_german_hook(value, hook):\n",
        "    layer = hook.layer()\n",
        "    german_neurons_for_layer = german_neurons_by_layer[layer]\n",
        "    english_neurons_for_layer = english_neurons_by_layer[layer]\n",
        "\n",
        "    value[:, :, german_neurons_for_layer] = german_mean_high_activations[layer][german_neurons_for_layer].cuda() * 2.2\n",
        "    value[:, :, english_neurons_for_layer] = english_mean_low_activations[layer][english_neurons_for_layer].cuda()\n",
        "    return value\n",
        "\n",
        "def activate_english_hook(value, hook):\n",
        "    layer = hook.layer()\n",
        "    german_neurons_for_layer = german_neurons_by_layer[layer]\n",
        "    english_neurons_for_layer = english_neurons_by_layer[layer]\n",
        "\n",
        "    value[:, :, german_neurons_for_layer] = german_mean_low_activations[layer][german_neurons_for_layer].cuda()\n",
        "    value[:, :, english_neurons_for_layer] = english_mean_high_activations[layer][english_neurons_for_layer].cuda()\n",
        "    return value\n",
        "\n",
        "# Uses words present in both German and English\n",
        "german_english_prompt = \"Gift. Definition:\"\n",
        "german_english_prompt_2 = \"Bank\"\n",
        "english_prompt = \"Though this detail has absolutely no bearing\"\n",
        "\n",
        "name_filter = lambda name: name.endswith(\"mlp.hook_post\")\n",
        "print(haystack_utils.generate_text(english_prompt, model, fwd_hooks=[(name_filter, activate_german_hook)], k=50))\n",
        "# print(haystack_utils.generate_text(english_prompt, model, fwd_hooks=[(name_filter, activate_german_hook_our_neurons)], k=50))\n"
      ]
    },
    {
      "attachments": {},
      "cell_type": "markdown",
      "metadata": {},
      "source": [
        "## Clean French to English hook"
      ]
    },
    {
      "cell_type": "code",
      "execution_count": 63,
      "metadata": {},
      "outputs": [
        {
          "name": "stdout",
          "output_type": "stream",
          "text": [
            "Baseline prediction on French prompt:\n",
            "Je suis un chat. Bonjour, je suis un chatte, je suis un chatte, je suis un chatte,\n",
            "\n",
            "With English neurons activated:\n"
          ]
        },
        {
          "name": "stdout",
          "output_type": "stream",
          "text": [
            "Je suis un chat. Bonus: I’m not going to be a chatty chatty chatty chatty chatty\n",
            "\n",
            "Baseline prediction on French prompt:\n",
            "Quoique ce détail ne touche en aucune manière au fond même de ce que nous avons à raconter les trois ans de la première fois.\n",
            "\n",
            "Le détail de la première fois,\n",
            "\n",
            "With English neurons activated:\n",
            "Quoique ce détail ne touche en aucune manière au fond même de ce que nous avons à raconter les questions about the nature of the human race.\n",
            "\n",
            "On a question about the nature of the\n"
          ]
        }
      ],
      "source": [
        "def activate_english_hook(value, hook):\n",
        "    layer = hook.layer()\n",
        "    # german_neurons_for_layer = german_neurons_by_layer[layer]\n",
        "    english_neurons_for_layer = english_neurons_by_layer[layer]\n",
        "\n",
        "    # value[:, :, german_neurons_for_layer] = german_mean_low_activations[layer][german_neurons_for_layer].cuda()\n",
        "    value[:, :, english_neurons_for_layer] = english_mean_high_activations[layer][english_neurons_for_layer].cuda()\n",
        "\n",
        "    if layer == 3:\n",
        "        value[:, :, 609] = mean_french_activation_L3N609\n",
        "    return value\n",
        "\n",
        "french_prompt = \"Je suis un chat. Bonjour\"\n",
        "tokens = model.to_tokens(french_prompt).cuda()\n",
        "tokens = tokens[:, :-1] # remove the jour token\n",
        "\n",
        "print(\"Baseline prediction on French prompt:\")\n",
        "print(haystack_utils.generate_text(french_prompt, model, truncate_index=-1))\n",
        "print(\"\\nWith English neurons activated:\")\n",
        "print(haystack_utils.generate_text(french_prompt, model, fwd_hooks=[(lambda name: name.endswith(\"mlp.hook_post\"), activate_english_hook)], truncate_index=-1))\n",
        "\n",
        "\n",
        "french_prompt = \"Quoique ce détail ne touche en aucune manière au fond même de ce que nous avons à raconter\"\n",
        "# tokens = model.to_tokens(french_prompt).cuda()\n",
        "\n",
        "print(\"\\nBaseline prediction on French prompt:\")\n",
        "print(haystack_utils.generate_text(french_prompt, model))\n",
        "print(\"\\nWith English neurons activated:\")\n",
        "print(haystack_utils.generate_text(french_prompt, model, fwd_hooks=[(lambda name: name.endswith(\"mlp.hook_post\"), activate_english_hook)]))"
      ]
    },
    {
      "attachments": {},
      "cell_type": "markdown",
      "metadata": {},
      "source": [
        "## High Loss Difference German Prompts"
      ]
    },
    {
      "cell_type": "code",
      "execution_count": 64,
      "metadata": {},
      "outputs": [
        {
          "name": "stderr",
          "output_type": "stream",
          "text": [
            "Found cached dataset wmt16 (/root/.cache/huggingface/datasets/wmt16/de-en/1.0.0/746749a11d25c02058042da7502d973ff410e73457f3d305fc1177dc0e8c4227)\n"
          ]
        },
        {
          "name": "stdout",
          "output_type": "stream",
          "text": [
            "['Aus diesem Grund ist es eines der wichtigsten und weitreichendsten Ziele, die wir uns in der Europäischen Union stellen sollten, Anstrengungen zur Schaffung neuer Arbeitsplätze in den ländlichen Gebieten außerhalb des Agrarsektors zu unternehmen, unter anderem in den Bereichen ländlicher Tourismus, Sport, Kultur, Sanierung der Ressourcen, Umstellung von Unternehmen, neue Technologien, Dienstleistungen usw. Doch obwohl die Landwirtschaft keine ausschließliche Rolle mehr spielt, ist sie weiterhin wichtig, nicht nur, um den wirtschaftlichen und sozialen Niedergang der ländlichen Gebiete und das Entstehen von weiteren Geisterstädten zu verhindern, sondern auch, weil den Landwirten eine grundlegende Rolle bei der Bewirtschaftung des Territoriums, dem Erhalt der Artenvielfalt und dem Umweltschutz zukommt.', 'Angesichts dieser Situation muß aus dem Bericht, den das Parlament annimmt, klar hervorgehen, daß Maßnahmen notwendig sind, die eindeutig auf die Bekämpfung der relativen Armut und der Arbeitslosigkeit gerichtet sind. Maßnahmen wie die für diese Zwecke angemessene Verwendung der Strukturfonds, die häufig unsachgemäß eingesetzt werden, und zwar mit zentralen staatlichen Politiken, die Modernisierung der Bereiche Telekommunikation und Kommunikation, indem man vor allem die am wenigsten entwickelten Regionen bis voraussichtlich 2007 in die transeuropäischen Eisenbahnnetze einbindet, die Berücksichtigung und Entwicklung der Agrar- und Fischereiressourcen und -kapazitäten dieser Länder, die oft gerade von den Politiken einer gleichgültigen Europäischen Union benachteiligt werden, die Förderung aktiver beschäftigungspolitischer Konzepte, hauptsächlich für Frauen und Jugendliche.', 'Was wir nicht tun dürfen, Herr Kommissar - und mit diesem Gedanken möchte ich schließen -, ist, denjenigen Gründe oder Waffen zu liefern, die die europäischen Institutionen als eine Angelegenheit für die Großen, für die Wichtigen, für die Reichen, nicht für den Bürger, nicht für die kleinen und mittelständischen Unternehmen darstellen, was zu der schlimmsten Vision führen würde - die nicht Realität werden wird, weil ausreichende Maßnahmen zu ihrer Vermeidung getroffen werden -, daß es nämlich Gerichte gibt, die abweichende Urteile sprechen, zu spät und ohne wirkliche Möglichkeit, dies zu kontrollieren, es sei denn mit dem, was die Franzosen als \"le parcours du combatant \" bezeichnen, das heißt, nach ich weiß nicht wieviel Jahren, wenn der Luxemburger Gerichtshof entscheidet, von dem wir wissen, daß er gegenwärtig sehr stark belastet ist.', 'Die Kommission will in bezug auf Einwanderung und Asyl Vorschläge zur Gestaltung eines Gemeinschaftsinstruments für den befristeten Flüchtlingsschutz unterbreiten; sie will die Prüfung der Kriterien und Voraussetzungen einleiten, mit denen sich die Einführung des Dubliner Übereinkommens optimaler gestalten läßt, und im Einklang mit dem Vertrag von Amsterdam eine mögliche Änderung der Rechtsgrundlage erwägen, ausgehend von der bereits bekanntgegebenen Mitteilung die Aussprache über Normen fortsetzen, die zu einem der ganzen Union gemeinsamen Asylverfahren führen sollen, sowie Vorschläge zur Ausarbeitung von Rechtsvorschriften unterbreiten, die die Erteilung von Aufenthaltserlaubnissen für Opfer des Menschenhandels vorsehen, wenn sie bei den Gerichtsverfahren gegen die Menschenhändlernetze mitarbeiten.', 'Herr Präsident, Herr Kommissar, meine Damen und Herren, nachdem ich die Mitteilung der Kommission über die Gemeinschaftsinitiative INTERREG III zur Kenntnis genommen habe und daran erinnere, daß ich mich auf Ebene des Ausschusses für Regionalpolitik, Verkehr und Fremdenverkehr an der Abstimmung über den Bericht von Herrn Decourrière beteiligt habe, liegt es mir nicht nur am Herzen, nochmals ausdrücklich unser prinzipielles Einverständnis mit der Initiative in ihrer jetzigen Form zu unterstreichen, sondern auch ganz besonders im Zusammenhang mit INTERREG III B auf die Anerkennung von Aktivitäten durch die Kommission zu drängen, die zu einer Erneuerung der durch die Agrarpreise geschädigten Landschaften führen und an denen sich in meinem Land zahlreiche Vereinigungen und vor allem Jagdverbände mit großem Einsatz beteiligen.']\n"
          ]
        }
      ],
      "source": [
        "# Create a maximally sized German dataset\n",
        "\n",
        "from datasets import load_dataset\n",
        "\n",
        "wmt_german = load_dataset('wmt16', 'de-en', split='train')\n",
        "\n",
        "# german_data = load_txt_data(\"german_stories.txt\")\n",
        "wmt_german_large = []\n",
        "for item in wmt_german:\n",
        "    # print(item)\n",
        "    german_item = item['translation']['de']\n",
        "    if len(german_item) < 800:\n",
        "        continue\n",
        "    else:\n",
        "        wmt_german_large.append(german_item[:2000])\n",
        "\n",
        "print(wmt_german_large[:5])\n",
        "\n",
        "with (open(\"wmt_german_large.txt\", \"w\")) as f:\n",
        "    for item in wmt_german_large:\n",
        "        f.write(item + '\\n')\n"
      ]
    },
    {
      "cell_type": "code",
      "execution_count": null,
      "metadata": {},
      "outputs": [],
      "source": [
        "with open(\"wmt_german_large.txt\", \"r\") as f:\n",
        "  wmt_german = f.readlines()\n",
        "\n",
        "def deactivate_german_hook(value, hook):\n",
        "    layer = hook.layer()\n",
        "    german_neurons_for_layer = german_neurons_by_layer[layer]\n",
        "    value[:, :, german_neurons_for_layer] = german_mean_low_activations[layer][german_neurons_for_layer].cuda()\n",
        "    return value\n",
        "\n",
        "def get_high_loss_difference_prompts(data, fwd_hooks=[], k=10):\n",
        "  top_k_indices = torch.zeros((k, 2), dtype=int)\n",
        "  top_k_loss_diffs = torch.zeros(k)\n",
        "\n",
        "  for i, sample in enumerate(data):\n",
        "    tokens = model.to_tokens(sample)\n",
        "    original_loss = model(tokens, return_type=\"loss\", loss_per_token=True)\n",
        "    ablated_loss =  model.run_with_hooks(tokens, return_type=\"loss\", loss_per_token=True, fwd_hooks=fwd_hooks)\n",
        "    difference = ablated_loss - original_loss\n",
        "\n",
        "    top_k_index_min = torch.argmin(top_k_loss_diffs)\n",
        "    current_index_max = torch.argmax(difference)\n",
        "    # print(top_k_index_min, current_index_max)\n",
        "\n",
        "    while top_k_loss_diffs[top_k_index_min] < difference[0, current_index_max]:\n",
        "      top_k_loss_diffs[top_k_index_min] = difference[0, current_index_max]\n",
        "      # print(top_k_indices[top_k_index_min, :])\n",
        "      top_k_indices[top_k_index_min, 0] = i\n",
        "      top_k_indices[top_k_index_min, 1] = current_index_max\n",
        "\n",
        "      difference[0, current_index_max] = 0\n",
        "      top_k_index_min = torch.argmin(top_k_loss_diffs)\n",
        "      current_index_max = torch.argmax(difference)\n",
        "  \n",
        "  # tuple of [prompt index, token index] and list of loss differences\n",
        "  return top_k_indices, top_k_loss_diffs\n",
        "\n",
        "mlp_pattern = lambda name: name.endswith(\"mlp.hook_post\")\n",
        "top_k_indices, top_k_loss_diffs = get_high_loss_difference_prompts(wmt_german, [(mlp_pattern, deactivate_german_hook)])"
      ]
    },
    {
      "cell_type": "code",
      "execution_count": null,
      "metadata": {},
      "outputs": [
        {
          "name": "stdout",
          "output_type": "stream",
          "text": [
            "tensor([8.0178, 8.8304, 8.6936, 8.8011, 9.8167, 7.8172, 9.8167, 9.8170, 9.5294,\n",
            "        8.5362])\n",
            "tensor([[1123,   26],\n",
            "        [1112,   31],\n",
            "        [  13,   38],\n",
            "        [1404,   97],\n",
            "        [ 716,    3],\n",
            "        [ 251,  107],\n",
            "        [ 478,    3],\n",
            "        [ 516,    3],\n",
            "        [ 919,   82],\n",
            "        [1094,  102]])\n"
          ]
        }
      ],
      "source": [
        "print(top_k_loss_diffs)\n",
        "print(top_k_indices)\n",
        "\n",
        "with (open(\"high_loss_diff_german_tokens.txt\", \"w\")) as f:\n",
        "    for prompt_index, token_index in top_k_indices.tolist():\n",
        "        prompt = wmt_german[prompt_index]\n",
        "        tokens = model.to_tokens(prompt)\n",
        "        token = model.to_single_str_token(tokens[0, token_index].item())\n",
        "        next_token = model.to_single_str_token(tokens[0, token_index + 1].item())\n",
        "\n",
        "        f.write(str({\"token\": token, \"next_token\": next_token, \"token_index\": token_index, \"prompt\": prompt, \"prompt_index\": prompt_index}) + '\\n')"
      ]
    },
    {
      "attachments": {},
      "cell_type": "markdown",
      "metadata": {},
      "source": [
        "## Get ~100 high loss tokens and cluster by problematic bigram"
      ]
    },
    {
      "cell_type": "code",
      "execution_count": 83,
      "metadata": {},
      "outputs": [
        {
          "name": "stdout",
          "output_type": "stream",
          "text": [
            "(('ät', 'ig'), [{'token_index': 136, 'prompt_index': 723, 'prompt': 'Ich stimme für diesen Vorschlag angesichts der Tatsache, dass die Krise Millionen von Arbeitsplätzen zunichte gemacht sowie Beschäftigungsunsicherheit und Armut verschärft hat; dass 17 % der EU-Bevölkerung von Armut bedroht sind; dass 23 Millionen Einwohner der EU arbeitslos sind; dass ein großer Teil der Hausarbeit in der Schattenwirtschaft in unsicheren Beschäftigungsverhältnissen und/oder als nicht angemeldete Erwerbstätigkeit geleistet wird und dass zudem in den Industrieländern zwischen 5 und 9 % aller Arbeitsplätze auf die Hausarbeit entfallen; dass die meisten Erwerbstätigen in diesem Bereich Frauen sind; dass diese Arbeit unterbewertet wird, unterbezahlt ist und dass es sich dabei um Schwarzarbeit handelt; und dass die Schutzlosigkeit der Hausangestellten bedeutet, dass sie oft diskriminiert werden sowie leicht ungleich und unfair behandelt und missbraucht werden können.\\n'}, {'token_index': 177, 'prompt_index': 705, 'prompt': 'schriftlich. - Ich habe für diesen Bericht gestimmt, der dem Ausschuss der Regionen (AdR) Entlastung erteilt, und ich freue mich, dass das Parlament in unserer Entschließung \"seinen Standpunkt bekräftigt, dass im Interesse der Transparenz die Erklärungen der finanziellen Interessen der Mitglieder aller Organe der Union im Internet über ein öffentliches Register zugänglich sein müssen; den AdR an seine Forderung erinnert, dass die Mitglieder des AdR eine Erklärung ihrer finanziellen Interessen abgeben sollten, in der relevante Informationen über erklärungspflichtige Berufstätigkeiten und bezahlte Stellen oder Tätigkeiten offengelegt werden; mit Genugtuung Kenntnis von der Antwort des AdR in dieser Angelegenheit nimmt, insbesondere dem Schreiben seines Präsidenten vom 11. Februar 2011; [und] den AdR auffordert, dieser Frage in seinem jährlichen Tätigkeitsbericht weiter nachzugehen\".\\n'}, {'token_index': 261, 'prompt_index': 731, 'prompt': 'In Anbetracht dieser Anforderungen haben wir als Politiker die Pflicht, Strategien einzuführen, die Folgendes gewährleisten: • Ergebnisorientiertes Lernen; • Unternehmergeist vermitteln; • Menschen ohne Qualifikationen, die einen Arbeitsplatz finden möchten, insbesondere durch eine maßgeschneiderte Ausbildung Hilfestellung bieten; Vereinfachung der Verfahren zur Anerkennung ausländischer Berufsabschlüsse, um die Mobilität der Arbeitnehmer zu fördern; • Schaffung eines europäischen Rahmens, der qualitativ hochwertige Praktika in der gesamten EU bietet; • Lebenslanges Lernen, um es den Arbeitnehmern zu ermöglichen, sich an die Bedingungen des Marktes und an die Bedürfnisse der Unternehmen anzupassen. • Förderung von Kreativität und Informations- und Kommunikationstechnologien. • Die Erwerbstätigkeit von Frauen fördern, indem man sie dabei unterstützt, Arbeit und Familienleben miteinander zu vereinbaren.\\n'}, {'token_index': 225, 'prompt_index': 949, 'prompt': 'Wollte man im Falle Kubas ein Kriterium der rückwirkenden Geltung anwenden und sich in der Frage der Verstaatlichungen dem Konzept der Vereinigten Staaten anschließen, so könnten angesichts der Tatsache, daß in diesem Land ein Großteil des Besitzes vor über 36 Jahren verstaatlicht wurde, da dieser Ausländern oder in die Vereinigten Staaten ausgewanderten kubanischen Bürgern gehörte, sowie in Anbetracht dessen, daß im Unterschied zu dem, was fast sämtliche Staaten seit geraumer Zeit geplant haben, die Vereinigten Staaten hinsichtlich des verstaatlichten Besitzes bislang zu keiner Kompromißlösung bereit waren, die zur Diskussion stehenden neuen Regelungen zu einem Ende jeglicher Handelstätigkeit und jeglicher Investitionen auf dieser Insel führen, was, wie ich nochmals sagen möchte, im Widerspruch zu den von der Europäischen Union getroffenen Entscheidungen stünde.\\n'}])\n",
            "(('nd', 'liche'), [{'token_index': 28, 'prompt_index': 1133, 'prompt': 'A4-0444/98 von Herrn Mulder im Namen des Ausschusses für Landwirtschaft und ländliche Entwicklung über den Vorschlag für eine Verordnung des Rates über die Finanzierung der Gemeinsamen Agrarpolitik (KOM(98)0158 - C4-0298/98-98/0112(CNS)), -A4-0494/98 von Herrn Garot im Namen des Ausschusses für Landwirtschaft und ländliche Entwicklung über den Vorschlag für eine Verordnung des Rates über die gemeinsame Marktorganisation für Rindfleisch (KOM(98)0158 - C4-0294/98-98/0109/CNS)), -A4-0446/98 von Herrn Goepel im Namen des Ausschusses für Landwirtschaft und ländliche EntwicklungI.über den Vorschlag für eine Verordnung des Rates über die gemeinsame Marktorganisation für Milch und Milcherzeugnisse (KOM(98)0158 - C4-0295/98-98/110(CNS)) undII.über den Vorschlag für eine Verordnung des Rates zur Änderung der Verordnung (EWG) Nr. 3950/92 über die Erhebung einer Zusatzabgabe im Milchsektor (KOM(98)0158 - C4-0296/98-98/111(CNS)), -A4-0496/98 von Herrn Fantuzzi im Namen des Ausschusses für Landwirtschaft und ländliche EntwicklungI.über den Vorschlag für eine Verordnung des Rates zur Änderung der Verordnung (EWG) Nr. 1766/92 über die gemeinsame Marktordnung für Getreide und zur Aufhebung der Verordnung (EWG) Nr. 2731/75 über die Standardqualitäten für Weichweizen, Roggen, Gerste, Mais und Hartweizen (KOM(98)0158 - C4-0292/98-98/0107/CNS))II.über den Vorschlag für eine Verordnung des Rates zur Einführung einer Stützungsregelung für Erzeuger bestimmter landwirtschaftlicher Kulturpflanzen (KOM(98)0158 - C4-0293/98-98/0108(CNS)), -A4-0480/98 von Herrn Graefe zu Baringdorf im Namen des Ausschusses für Landwirtschaft und ländliche Entwicklung zu dem Vorschlag für eine Verordnung des Rates zur Festlegung von Gemeinschaftsregeln für Direktzahlungen im Rahmen der Gemeinsamen Agrarpolitik (KOM(98)0158 - C4-0299/98-98/0113/CNS)).\\n'}, {'token_index': 21, 'prompt_index': 82, 'prompt': 'Die von dem Berichterstatter des Ausschusses für Landwirtschaft und ländliche Entwicklung vorgeschlagenen Änderungen bedeuten eine Verbesserung gegenüber dem Vorschlag der Kommission, bleiben jedoch dem Grundgedanken der Verordnung verhaftet und gehen nicht auf die Schlüsselfragen ein, die die Olivenölerzeuger und den Olivenölmarkt gegenwärtig beschäftigen, nämlich die Abschaffung der Produktionsbeihilfe, das Profitstreben sowie der Wucher der Großhändler und multinationalen Konzerne, die niedrigen Höchstmengen und die vernichtenden Mitverantwortungsabgaben, mithin die katastrophalen Folgen der Verordnung (EG) Nr. 1638/98, die dazu geführt haben, dass der Olivenölmarkt zusammenbricht, die Preise auf einen Tiefstand fallen und die Olivenölerzeuger, die sämtlich kleine und mittlere Landwirte in unfruchtbaren Gebieten und Inselregionen sind, fast kein Einkommen mehr erzielen.\\n'}, {'token_index': 28, 'prompt_index': 1169, 'prompt': 'A4-0168/99 von Herrn Happart im Namen des Ausschusses für Landwirtschaft und ländliche Entwicklung über die Vorschläge für 16 Verordnungen des Rates betreffend die Festsetzung der Preise für landwirtschaftliche Erzeugnisse 1999/2000 (KOM(99)0038 - C4-0077/99 bis C4-0091/99 und C4-0093/99-99/0025(CNS) bis 99/0039(CNS) und 99/0801(CNS)), -A4-0164/99 von Herrn Jové Peres im Namen des Ausschusses für Landwirtschaft und ländliche EntwicklungI.über den Vorschlag für eine Verordnung (EG) des Rates zur Änderung und Berichtigung der Verordnung (EG) Nr. 2200/96 über die gemeinsame Marktorganisation für Obst und Gemüse (KOM(98)0647 - C4-0709(98-98/0309(CNS))II.über den Vorschlag für eine Verordnung (EG) des Rates zur Änderung und Berichtigung der Verordnung (EG) Nr. 2202/96 zur Einführung einer Beihilferegelung für Erzeuger bestimmter Zitrusfrüchte (KOM(98)0647 - C4-0710/98-98/0310(CNS)), -A4-0173/99 von Herrn Fantuzzi im Namen des Ausschusses für Landwirtschaft und ländliche Entwicklung über den Vorschlag für eine Verordnung des Rates über Informations- und Absatzförderungsmaßnahmen für Agrarerzeugnisse in Drittländern (KOM(98)0683 - C4-0158/99-98/0330(CNS)), -sowie die mündliche Anfrage von Herrn Juan Colina Salamanca an die Kommission (B4-0159/99) zu den Knoblaucheinfuhren aus Drittländern.\\n'}, {'token_index': 29, 'prompt_index': 1105, 'prompt': 'A4-0345/98 von Herrn Iversen im Namen des Ausschusses für Landwirtschaft und ländliche Entwicklung der Kommission an den Rat (KOM(97)0620 - C4-0075/98) und das Europäische Parlament über die Anwendung der Verordnung (EWG) Nr. 2078/92 für umweltgerechte und den natürlichen Lebensraum schützende landwirtschaftliche Produktionsverfahren; -A4-0346/98 von Herrn Otila im Namen des Ausschusses für Landwirtschaft und ländliche Entwicklung der Kommission an den Rat (KOM(97)0630 - C4-0076/98 und das Europäische Parlament über die Anwendung der Verordnung (EWG) Nr. 2080/92 zur Einführung einer gemeinschaftlichen Beihilferegelung für Aufforstungsmaßnahmen in der Landwirtschaft; -A4-0368/98 von Herrn Santini im Namen des Ausschusses für Landwirtschaft und ländliche Entwicklung über neue Strategien für die Bergregionen.\\n'}])\n",
            "(('ass', 'enden'), [{'token_index': 128, 'prompt_index': 545, 'prompt': 'Wenn Herr Kommissar Verheugen allerdings sagt, dass General Motors keine Beggar-my-Neighbour-Politik verfolgen darf, kann er sich mir anschließen und dem Unternehmen die folgenden vier Anforderungen auferlegen: Erstens, dass sie ihre Restrukturierungspläne vollständig offenlegen, und zwar nicht nur für die deutsche, sondern auch für die britische Regierung sowie die der anderen Mitgliedstaaten; dass sie einen umfassenden Umweltverträglichkeitsbericht zu Kohlenstoff-Auswirkungen des von ihnen vorgeschlagenen Pakets über 3,3 Milliarden Euro anfertigen; dass sie Klarheit schaffen bezüglich der Zukunft ihres Joint Ventures mit dem französischen Unternehmen Renault, insbesondere im Hinblick auf eine Transporterfertigung in Luton; dass sie Ihnen und uns darlegen, welche Garantien dafür vorhanden sind, dass kurzfristige Zuwendungen eine Produktion und Beschäftigung sicherstellen, die wirklich nachhaltig sind.\\n'}])\n",
            "(('id', 'ig'), [{'token_index': 17, 'prompt_index': 1606, 'prompt': 'Nach der vorhergehenden Konferenz, \" Die Verteidigung von Land und Territorium vor der kapitalistischen Plünderung ,\" am 19. Juli, in San Cristobal de las Casas, mit Ehrengäste wie die brasilianische Bewegung der Landlosen (MST), die koreanische Landarbeiterbewegung, die Landarbeiterbewegung von Madagaskar, die Landarbeiterbewegung der Vereinigten Staaten und aus Europa, Asien, Afrika und Amerika; bringt auch dieses Ereignis weiteres Mal Beobachter, Sympathisanten, Angehörige der Anderen Kampagne und Anhänger der Sechsten Erklärung aus dem Lakandonischen Urwald aus mehr als 80 Ländern zusammen. Eröffnet wurde es mit einer Diskussion zu Themen über Autonomie (die im Rahmen des ersten Encuentros ausführlich behandelt wurde), die Volksbewegung von Oaxaca und das nächste Indigene Encuentro, das im kommenden Oktober auf dem Stammesgebiet der Yaqui stattfinden wird.\\n'}, {'token_index': 527, 'prompt_index': 1104, 'prompt': 'die Übernahme einer entscheidenden politischen Rolle durch die EU, die weit über den gemeinsamen Binnenmarkt und die einheitliche Währung hinausgeht und auf ihr Eingreifen in die Außenpolitik ausgerichtet ist, um den Menschenrechten und dem Frieden zu dienen; in die internationalen Wirtschafts- und Finanzregelungen, um dem wirtschaftlichen Fortschritt und der sozialen Gerechtigkeit zu dienen (man denke an den Vorschlag, den António Guterres im Namen des in Porto am vergangenen Wochenende zusammengetretenen Gipfels der Iberoamerikanischen Staats- und Regierungschefs vorgetragen hat, daß sich der EU-Gipfel vom 24. und 25. Oktober mit der internationalen Finanzkrise beschäftigen sollte), und in die Schaffung eines Raums der Freiheit, Sicherheit und Gerechtigkeit; -die auf Gleichheit und Wahrung des Zusammenhalts zwischen alten und neuen Mitgliedstaaten beruhende Erweiterung; -die Subsidiarität, nicht als Vorwand für eine Renationalisierung und auch nicht als eine Zentralisierungsspirale, wohl aber als \"ein dynamisches Kriterium\" , um zu entscheiden, wer, die Mitgliedstaaten oder die EU, die Befugnisse ausüben muß, um zu gewährleisten, daß die Vertragsziele tatsächlich erreicht werden; -eine institutionelle Reform, die mehr Demokratie, Transparenz, Beteiligung der Bürger und mehr Effizienz garantiert - diese Aspekte werden in der Entschließung diesmal vernünftigerweise und ausdrücklich so berücksichtigt, daß sie sich nicht mit der Frage der Stimmengewichtung oder mit anderen Fragen identifizieren lassen, die mit der Machtstellung der großen Mitgliedstaaten verbunden sind.Es handelt sich um eine Entschließung, die - durch ihre Betonung der Subsidiarität, durch die Verteidigung der unerläßlichen Beteiligung der nationalen Parlamente, durch ihre realistische Bewertung der entscheidenden Rolle des Rats in einer Union souveräner Staaten - beweist, daß sie das vulgäre föderalistische Theoretisieren überwunden hat, das vollkommen unwirksam ist, aber stets Phantome heraufbeschw\\n'}, {'token_index': 82, 'prompt_index': 919, 'prompt': 'Aufgrund dieser auch weiterhin bei den Mitgliedstaaten verbleibenden Zuständigkeit sind sie nach dem Völkerrecht befugt, im Bereich ihrer jeweiligen anerkannten Zuständigkeiten eigene Rechtspositionen zu vertreten und vor Gericht selber für ihre Verteidigung zu sorgen, womit, wie es in der vernünftigen Zusammenarbeit zwischen Kommission und Staaten nur logisch ist, in Übereinstimmung mit der jeweiligen Zuständigkeit ein doppelter rechtlicher Schutz durch Staat und Kommission gegeben ist, weshalb auch Artikel 3.2 des Kommissionsvorschlags völlig übertrieben und ohne jede Rechtsgrundlage ist, den deshalb der Ausschuß für Fischerei einstimmig abgelehnt hat, denn völlig unangemessen und unklar wird dort gefordert, daß die Staaten praktisch zugunsten der Kommission auf ihre Verteidigungsbefugnisse, ihre ureigensten Befugnisse verzichten, ohne daß die Kommission, wie es der Rechtsausschuß des Europäischen Parlaments in seiner unserem Bericht beigefügten Stellungnahme sagt, diese ihre Position mit Argumenten untermauern kann.\\n'}, {'token_index': 59, 'prompt_index': 713, 'prompt': 'Ich unterstütze den Standpunkt, dass die aktuellen wirtschaftlichen Sparmaßnahmen und die Bestimmungen des Vertrags von Lissabon den Mitgliedstaaten dabei helfen könnten, intelligenter in die Verteidigung zu investieren, indem ein größerer Anteil ihrer Verteidigungsfähigkeiten, ihrer Haushaltsmittel und ihrer Anforderungen gebündelt und allen Beteiligten zur Verfügung gestellt wird und die Bürgerinnen und Bürger gleichzeitig besser geschützt werden; die Realität ist jedoch, dass die Wirtschafts- und Finanzkrise die nationalen EU-Verteidigungshaushalte, Programme und Truppenstrukturen beeinträchtigt und daher mehr als ein Jahr nach Inkrafttreten des Vertrags von Lissabon noch immer keine klaren Anzeichen für einen umfassenden Ansatz der EU für die Zeit nach Lissabon erkennbar sind, durch den traditionelle verfahrenstechnische und institutionelle Hindernisse überwunden werden können.\\n'}, {'token_index': 41, 'prompt_index': 774, 'prompt': 'A4-0174/96 von Herrn Alavanos im Namen des Ausschusses für auswärtige Angelegenheiten, Sicherheit und Verteidigungspolitik über die Mitteilung der Kommission zur humanitären Hilfe im ehemaligen Jugoslawien: Perspektiven und Schwerpunkte (KOM(95)0564 - C4-0535/95); -A4-0184/96 von Herrn Mendiluce Pereiro im Namen des Ausschusses für auswärtige Angelegenheiten, Sicherheit und Verteidigungspolitik über die Mitteilung der Kommission an den Rat zum Wiederaufbau im ehemaligen Jugoslawien (SEK(95)1597 - C4-0595/95); -A4-0204/96 von Herrn Giansily im Namen des Haushaltsausschusses über die Mitteilung der Kommission zum finanziellen Beitrag der Europäischen Union zum Wiederaufbau im ehemaligen Jugoslawien (KOM(95)0581 - C4-0608/95); -A4-0178/96 von Herrn Titley im Namen des Ausschusses für Außenwirtschaftsbeziehungen über die Mitteilung der Kommission zum Wiederaufbau im Gebiet des ehemaligen Jugoslawien: Verwaltung der Hilfe der Europäischen Union und Koordinierung der internationalen Hilfe (KOM(95)0582 - C4-0519/95).\\n'}, {'token_index': 303, 'prompt_index': 1147, 'prompt': 'zu garantieren, daß China das Verbot der Todesstrafe achten wird; -zu gewährleisten, daß China seine Verpflichtung einhalten wird, keine Truppen im Territorium zu stationieren; -zu garantieren, daß China, wie dies seine Pflicht ist, seine Grenze kontrollieren wird, um den Übertritt von Straftätern zu verhindern, die in Macau zu Unsicherheit führen; -die Grundfreiheiten, insbesondere die Religionsfreiheit, die Vereinigungsfreiheit und die Freiheit der politischen Parteien, die Gewerkschaftsfreiheit und das Streikrecht, zu regeln und zu garantieren; -den Gebrauch der beiden offiziellen Sprachen des Territoriums - des Chinesischen und des Portugiesischen - zu regeln; -die Nationalitätsfrage gerecht und menschlich zu regeln; -ein unabhängiges Rechtssystem mit einem lokalen letztinstanzlichen Gericht zu schaffen.Die EU müßte bereits jetzt und in Zukunft die Entwicklung der Zivilgesellschaft unterstützen; die Vereinigungen, einschließlich der zur Verteidigung der Menschenrechte, unterstützen; die kulturellen Tätigkeiten und die akademische Zusammenarbeit mit China unterstützen; die Tätigkeit des Instituts für Europäische Studien unterstützen; den Juristenaustausch fördern, um das Bekanntwerden des kontinentalen europäischen Rechts in China zu ermöglichen, insbesondere durch die Aktivitäten des Juristischen Übersetzungszentrums und des Ausbildungszentrums für Richter.\\n'}, {'token_index': 97, 'prompt_index': 1404, 'prompt': 'Die Auswahl der UH-145 belegt, wie vorteilhaft gleichberechtigte, offene Ausschreibungen unter kompetenten Lösungsanbietern sind, und dass die Anpassung ziviler Lösungen an den Bedarf des Militärs einen hohen Mehrwert abwirft. Ferner beweist sie, dass die USA und Europa im Verteidigungsbereich als echte Partner kooperieren.“ Das von der EADS North America geleitete UH-145-Anbieterteam umfasst die vier Hauptpartner American Eurocopter (ein gemeinsames Tochterunternehmen von Eurocopter und EADS North America , das den Hubschrauber produzieren, montieren und ausliefern wird), Sikorsky Aircraft (zuständig für den Zuliefererlogistik-Support), WestWind Technologies (Systemintegration, Engineering-Support und Programmmanagement-Beratung) sowie CAE USA aus Tampa, Florida (Bereitstellung der Cockpittrainer für die UH-145).\\n'}, {'token_index': 94, 'prompt_index': 1471, 'prompt': \"Im Laufe ihrer Dienstzeit wurden an der USS ''Enterprise'' mehrfache Verbesserungen vorgenommen: * die besondere Wandverkleidung in der [[Aussichtslounge]], in der die Vorläufer der ''Enterprise'' als goldene Modelle dargestellt werden, wird gegen eine einfach gehaltene Version ausgetauscht * die Verteidigungssysteme wurden verbessert ({{TNG|Genesis}}) * im [[Maschinenraum]] wurden nachträglich neue Arbeitsstationen integriert * die [[Brücke]] wird später durch neue Arbeitskonsolen erheblich erweitert ({{Film|7}}) * später erhält die ''Enterprise'' eine neue Räumlichkeit für die [[Stellarkartographie (Station)|Stellarkartographie]] * das Modul der [[Kampfbrücke]] wurde gegen eine modernere Version ausgetauscht ({{TNG|Angriffsziel Erde}}) === Missionen === {{Siehe auch|Logbuch der USS Enterprise (NCC-1701-D)}} Bereits bei ihrer ersten Mission im Jahr 2364, bei der es darum geht zu überprüfen, ob die neue [[Farpoint-Station]] als [[Raumhafen]] für die Schiffe der Sternenflotte genutzt werden kann, etabliert sich ein erster Kontakt zu den allmächtigen [[Q]] ({{TNG|Der Mächtige|Mission Farpoint}}). Kurze Zeit später erhält die ''Enterprise'' den Auftrag, einem Schiff der [[Ferengi]] zu folgen, die vor kurzer Zeit einen [[T-9-Energiekonverter]] von der Abhörstation [[Gamma Tauri IV]] gestohlen haben.\\n\"}, {'token_index': 42, 'prompt_index': 1117, 'prompt': 'A4-0430/98 von Herrn Caccavale im Namen des Ausschusses für auswärtige Angelegenheiten, Sicherheit und Verteidigungspolitik zum Antrag Lettlands auf Beitritt zur Europäischen Union im Hinblick auf den Europäischen Rat in Wien (11./12. Dezember 1998) (KOM(97)2005 - C4-0377/97); -A4-0428/98 von Herrn Bernard-Reymond im Namen des Ausschusses für auswärtige Angelegenheiten, Sicherheit und Verteidigungspolitik zum Antrag Rumäniens auf Beitritt zur Europäischen Union im Hinblick auf den Europäischen Rat in Wien (11./12. Dezember 1998) (KOM(97)2003 - C4-0375/97); -A4-0427/98 von Herrn Wiersma im Namen des Ausschusses für auswärtige Angelegenheiten, Sicherheit und Verteidigungspolitik zum Antrag der Slowakei auf Beitritt zur Europäischen Union im Hinblick auf den Europäischen Rat in Wien (11./12. Dezember 1998) (KOM(97)2004 - C4-0376/97); -A4-0431/98 von Herrn Kristoffersen im Namen des Ausschusses für auswärtige Angelegenheiten, Sicherheit und Verteidigungspolitik zum Antrag Litauens auf Beitritt zur Europäischen Union im Hinblick auf den Europäischen Rat in Wien (11./12. Dezember 1998) (KOM(97)2007 - C4-0379/97); -A4-0429/98 von Frau Aelvoet im Namen des Ausschusses für auswärtige Angelegenheiten, Sicherheit und Verteidigungspolitik zum Antrag Bulgariens auf Beitritt zur Europäischen Union im Hinblick auf den Europäischen Rat in Wien (11./12. Dezember 1998) (KOM(97)2008 - C4-0380/97).\\n'}, {'token_index': 92, 'prompt_index': 237, 'prompt': 'Ich möchte lediglich drei Tatsachen anführen: Erstens, die NATO hat Munition mit abgereichertem Uran nicht verboten, was uns befürchten und vermuten lässt, dass sie eingesetzt wurde und später wieder zum Einsatz kommen kann; zweitens, eine Erklärung des US-amerikanischen Verteidigungsministers, der im Januar letzten Jahres eine Erhöhung der Strahlenemissionen der in Afghanistan verwendeten Waffen, die abgereichertes Uran enthalten, bekannt gab; und drittens, einige medizinische Analysen, die - mit all den Schwierigkeiten, welche die gegebenen Umstände naturgemäß mit sich bringen - in Afghanistan von einer kanadischen NRO durchgeführt wurden, die einhundert Mal über den Normalwerten liegende Uranwerte infolge - das ist zumindest zu vermuten - des Einsatzes von abgereichertes Uran enthaltenden Waffen festgestellt hat.\\n'}, {'token_index': 225, 'prompt_index': 146, 'prompt': 'Die Ereignisse der letzten Tage zwingen uns jedoch, den Rat um eine weitere Initiative zu ersuchen, denn wie Ihnen sicherlich bekannt sein wird, wurde nicht nur in Nigeria neben Safiya noch eine andere Frau zum Tode durch Steinigung verurteilt - es handelt sich um Aishatu Abubakar, gegen die vor wenigen Wochen dasselbe Gericht in derselben Region Nigerias aus ähnlichem Grund ein analoges Urteil verhängte -, sondern heute erreichte uns die Nachricht, dass im Sudan eine 18-jährige junge Frau namens Abok Alfa Akok, die christlichen Glaubens ist und die arabische Sprache nicht beherrscht, ebenfalls zum Tode durch Steinigung verurteilt wurde, allerdings nicht von einem kirchlichen, sondern von einem Zivilgericht, das ihr keine Verteidigung ermöglichte und nicht einmal eine Übersetzung zur Verfügung stellte.\\n'}, {'token_index': 41, 'prompt_index': 1123, 'prompt': 'A4-0409/98 von Herrn Roubatis im Namen des Ausschusses für auswärtige Angelegenheiten, Sicherheit und Verteidigungspolitik über die Mitteilung der Kommission an das Europäische Parlament und den Rat \"Die Menschenrechte in den Außenbeziehungen der Europäischen Union: Von Rom zu Maastricht und danach\" (KOM(95)0567 - C4-0568/95), -A4-0410/98 von Herrn Barros Moura im Namen des Ausschusses für auswärtige Angelegenheiten, Sicherheit und Verteidigungspolitik über die Menschenrechte in der Welt für die Jahre 1997-1998 und über die Menschenrechtspolitik der Europäischen Union, -A4-0466/98 von Herrn Torres Couto im Namen des Ausschusses für Entwicklung und Zusammenarbeit über den Entwurf einer Verordnung (EG) des Rates mit den Bedingungen für die Durchführung von Maßnahmen auf dem Gebiet der Entwicklungszusammenarbeit, die zu dem allgemeinen Ziel der Fortentwicklung und Festigung der Demokratie und des Rechtsstaates sowie zur Wahrung der Menschenrechte und Grundfreiheiten beitragen (KOM(97)357-9581/98 - C4-0507/98-98/0191(SYN)).\\n'}, {'token_index': 40, 'prompt_index': 1178, 'prompt': 'A4-0149/99 von Herrn Donner im Namen des Ausschusses für auswärtige Angelegenheiten, Sicherheit und Verteidigungspolitik über den regelmäßigen Bericht der Kommission über Estlands Fortschritte auf dem Weg zum Beitritt (KOM(98)0705 - C4-0110/99)-A4-0154/99 von Herrn von Habsburg im Namen des Ausschusses für auswärtige Angelegenheiten, Sicherheit und Verteidigungspolitik über den regelmäßigen Bericht der Kommission über Ungarns Fortschritte auf dem Weg zum Beitritt (KOM(98)0700 - C4-0113/99)-A4-0151/99 von Herrn Speciale im Namen des Ausschusses für auswärtige Angelegenheiten, Sicherheit und Verteidigungspolitik über den regelmäßigen Bericht über Sloweniens Fortschritte auf dem Weg zum Beitritt (KOM(98)0709 - C4-0112/99)-A4-0157/99 von Herrn Carnero González im Namen des Ausschusses für auswärtige Angelegenheiten, Sicherheit und Verteidigungspolitik über den regelmäßigen Bericht der Kommission über die Fortschritte der Tschechischen Republik auf dem Weg zum Beitritt (KOM(98)0708 - C4-0111/99)-A4-0148/99 von Frau Hoff im Namen des Ausschusses für auswärtige Angelegenheiten, Sicherheit und Verteidigungspolitik über den regelmäßigen Bericht der Kommission über Polens Fortschritte auf dem Weg zum Beitritt (KOM(98)0701 - C4-0109/99)-A4-0159/99 von Herrn Bertens im Namen des Ausschusses für auswärtige Angelegenheiten, Sicherheit und Verteidigungspolitik über den regelmäßigen Bericht über Zyperns Fortschritte auf dem Weg zum Beitritt (KOM(98)0710 - C4-0108/99)-A4-0165/99 von Frau Malone im Namen des Ausschusses für auswärtige Angelegenheiten, Sicherheit und Verteidigungspolitik über den Bericht zur Aktualisierung der Stellungnahme der Kommission zum Beitrittsantrag von Malta (KOM(99)0069 - C4-0163/99)-A4-0123/99 von Frau Myller im Namen des Ausschusses für Umweltfragen, Volksgesundheit und Verbraucherschutz über die Mitteilung der Kommission an den Rat, das Europäische Parlament, den Wirtschafts- und Sozialausschuß und den Ausschuß der Regionen über Beitrittsstrategien für d\\n'}, {'token_index': 73, 'prompt_index': 939, 'prompt': '1.für das Sozialkapitel gibt es weder eine angemessene Rechtsgrundlage noch die erforderlichen Finanzmittel; 2. die Union erhält nicht die für sie erforderliche Rechtspersönlichkeit; 3. die Aussicht auf eine europäische Verteidigung rückt in etwas weitere Ferne; 4. für gemeinsame Außenpolitiken fehlen die erforderlichen Instrumente; 5. die verstärkte Zusammenarbeit wird durch die für ihre Durchführung geltenden Bestimmungen gleichsam von vorneherein blockiert; die Mitgliedstaaten, die weitervoranschreiten möchten, werden dazu nicht die Möglichkeit haben; 6. die Bürger werden einmal mehr vergessen: die Texte werden noch unverständlicher, die geführten Beratungen undurchsichtiger und die Rechte der Bürger sind nach wie vor nicht eindeutig verankert. Wie können die Bürger in ihrem Alltagsleben zu dem Bewußtsein gelangen, daß dieses Europa, dessen Vorzüge ihnen gepriesen wurden, wirklich einen Vorteil bedeutet?Last but not least , 7. die institutionelle Reform wird im wesentlichen auf das dritte Jahrtausend verschoben.Da ich seit dem 18. Juni dieses Jahres an den Sitzungen des Institutionellen Ausschusses teilgenommen habe, sei mir gestattet, auf diesen entscheidend wichtigen Punkt kurz einzugehen.\\n'}, {'token_index': 84, 'prompt_index': 60, 'prompt': 'Meines Erachtens muss die Mittelmeerpolitik unter politischen, kulturellen und sozialen Gesichtspunkten wiederbelebt werden: weil es gilt, die Demokratie und den Parlamentarismus nachhaltiger zu stärken, die Rechtsstaatlichkeit weiterzuentwickeln und sich die Bedeutung der Verteidigung der Menschenrechte bewusst zu machen; weil der Kulturaustausch zum gegenseitigen Kennenlernen der Gesellschaft und speziell der islamischen Gemeinschaften für uns hilfreich ist; weil es gilt, multiethnische, Rassen-, Glaubens- und Kulturgemeinschaften zu entwickeln und dabei den Grundsatz der Achtung der Minderheiten als Element der Durchsetzung der Demokratie zu bekräftigen, die Bedeutung des Friedens als Faktor des täglichen Lebens der Menschen am südlichen Ufer des Mittelmeers stärker hervorzuheben und somit Krieg, Gewalt und Tod bringenden Radikalismus, Fundamentalismus und Hass jedweder Form zu unterbinden.\\n'}, {'token_index': 43, 'prompt_index': 2298, 'prompt': 'Diese neueste Ausgabe der ‚Gripen News’ enthält Berichte über Thailands Entscheidung, zur Erfüllung seiner nationalen Verteidigungsbedürfnisse den Gripen auszuwählendie Art und Weise, wie das Saab/Gripen-Team die Anforderung des MMRCA der indischen Luftstreitkräfte von 126 Mehrzweck-Kampfflugzeugen erfüllen willdas Gripen-Demonstrationsprogrammdie Vergabe von Verträgen durch die schwedische Regierung an Saabdie Schaffung eines aufgerüsteten und allgemeinen Standards für Gripen-Kampfflugzeuge für die Flotte der Schwedischen Luftstreitkräfte und das am Helm befestigte Display-System Cobraden historischen, sehr erfolgreichen Einsatz der Gripen der ungarischen Luftstreitkräfte an der Übung ‚Spring Flag 2007’ in Italiendie Einsätze der Gripen der Schwedischen Luftstreitkräfte an Gefechtsübungen in Grossbritannien sowie die Teilnahme am jährlichen Nordic Air Meet in Schweden.Diese Superausgabe beschäftigt sich überdies mit dem reichen Luftfahrterbe von Saab, die 70 Jahre führende Spitzentechnologie in der militärischen Luftfahrt feierte, sowie mit Neuigkeiten über die expandierenden Online-Dienstleistungen und -Features des Gripen-Teams.\\n'}, {'token_index': 75, 'prompt_index': 441, 'prompt': 'Wenn es stimmt, dass Menschenrechte nicht gegen Wirtschaftsinteressen eingetauscht werden dürfen, und davon bin ich vollkommen überzeugt, so ist es gleichermaßen zutreffend, dass unsere Aufmerksamkeit und unsere entschlossene Verteidigung der Werte, auf die sich Europa gründet und die heute in Russland oft mit Füßen getreten werden, aber nicht nur dort - das gleiche Pathos wünschte ich mir übrigens, wenn über Menschenrechtsverletzungen beispielsweise in der Türkei gesprochen wird, einem Land, das manch einer mit Begeisterung, sogar auf der Stelle, in die Europäische Union aufnehmen würde -, uns nicht die Augen vor einer offenkundigen Tatsache verschließen dürfen, nämlich dass ebenso wie Russland auf uns zur Zusammenarbeit im Energiebereich angewiesen ist, wir ein wirtschaftliches Partnerschaftsabkommen mit Russland brauchen.\\n'}, {'token_index': 154, 'prompt_index': 714, 'prompt': 'schriftlich. - Ich habe entschieden, mich bei der Schlussabstimmung zu enthalten, weil es uns zwar gelungen ist, Änderungsantrag 2 über die ständige Arbeitsstruktur des Europäischen Auswärtigen Dienstes / der Kommission und Änderungsantrag 1 über ein \"Nein\" zur Entwicklung ziviler Fähigkeiten durch die NATO durchzusetzen, wir Änderungsantrag 1 über den Verweis auf die NATO, Änderungsantrag 3 gegen eine nukleare Dimension in der gemeinsamen Sicherheits- und Verteidigungspolitik, Änderungsantrag 4 gegen einen flexiblen Einsatz der Gefechtsverbände, Änderungsantrag 5 gegen einen Einsatz von Gefechtsverbänden für gemischte zivil-militärische Aufgaben, Änderungsantrag 6 zur Streichung einer Bestimmung über Forschung im Bereich Verteidigung, Änderungsantrag 7 zur Streichung einer Bestimmung über Forschung im Bereich Verteidigung, Änderungsantrag 8 zur Streichung des Verweises auf das US-Heimatschutzministerium, Änderungsantrag 9 zur Streichung des Verweises auf die Zusammenarbeit zwischen GSVP mit Frontex im Mittelmeerraum jedoch nicht durchsetzen konnten.\\n'}, {'token_index': 38, 'prompt_index': 13, 'prompt': 'Fragt man nach den Gründen für diese etwas eigenartige Koinzidenz der Integration und des abhanden gekommenen instinktiven Verteidigungswillens, so möchte ich drei nennen: 1) Mit ihrem Wunsch nach Supranationalität isolieren sich die europäischen Institutionen von den Völkern, und durch ihre Isolation von den Völkern werden sie ausländischen Interessen gegenüber willfährig; 2) die in diesen Institutionen tätigen Personen gewöhnen sich, sobald sie von den Völkern isoliert sind, daran, nicht als ausschließliche Verteidiger dieser Völker, sondern als internationale Beamte zu denken, die mit der Regulierung eines globalen Systems beauftragt sind; 3) die Integration mag auf der einen Seite zu Kosteneinsparungen und Produktivitätssteigerungen führen, auf der anderen Seite bedeutet sie jedoch einen weitaus höheren Verlust, denn ein Ende der Nationen bedeutet, sich nicht mehr zusammengehörig zu fühlen und somit sich nicht mehr gemeinsam verteidigen zu wollen.\\n'}, {'token_index': 55, 'prompt_index': 585, 'prompt': 'In dem Bericht des Europäischen Parlaments über die Gemeinsame Außen- und Sicherheitspolitik der EU in Verbindung mit dem entsprechenden Bericht über die Gemeinsame Außen- und Verteidigungspolitik, der von der Anti-Basispolitik-Allianz der Konservativen, Sozialdemokratischen und Liberalen im Europäischen Parlament erstellt wurde, wird die dauerhafte Unterstützung politischer Kapital-Sprachrohre zur Förderung einer noch größeren Militarisierung der EU, insbesondere in Folge des Inkrafttretens des reaktionären Vertrags von Lissabon, sowie ihre aktive Rolle bei der Förderung der imperialistischen Politik der EU und die Interventionen und Kriege, die sie gegen Drittländer und Völker in jedem Winkel dieses Planeten ergreift und führt, um den Interessen und der Herrschaft des Monopolkapitals unter den Bedingungen eines eskalierenden imperialistischen Nahkampfs zu dienen, dargestellt.\\n'}])\n",
            "(('in', 'we'), [{'token_index': 89, 'prompt_index': 419, 'prompt': 'In der einen Minute, die ich zur Verfügung habe, um etwas zu dem Bericht über die Lage der Frau in bewaffneten Konflikten und ihre Rolle beim Wiederaufbau und beim Demokratisierungsprozess in diesen Ländern nach Beilegung des Konflikts zu sagen, möchte ich darauf hinweisen, dass eine Voraussetzung dafür, bei der Lösung von Konflikten eine positive Rolle zu spielen – und das gilt nicht nur für Frauen\\xa0–, eine stark entwickelte Persönlichkeit ist, die es den Betreffenden ermöglicht, ihren Einfluss in der Familie geltend zu machen und ihre Entwicklung zu unterstützen wie auch Kinder großzuziehen, sich aber ebenso für Gerechtigkeit, Sicherheit und die Achtung der menschlichen Würde in anderen Gemeinschaften einzusetzen. All das ist für die jüngere Generation, die dem Trauma bewaffneter Konflikte am stärksten ausgesetzt ist, von allergrößter Wichtigkeit.\\n'}, {'token_index': 31, 'prompt_index': 263, 'prompt': 'Es wurden bereits zwei Koordinierungskonferenzen zu diesem Thema organisiert, und ich möchte darauf hinweisen, dass die Kommission, die sich an alle Anlieger des Mittelmeerraums, aber auch an Russland und Norwegen gewandt hatte, auch schon Gespräche geführt hat (sie hat alle diese Länder nicht nur schriftlich kontaktiert), um die Bedeutung der Kontrolle der Öltanker durch die Hafenbehörden für die Sicherheit der Seeschifffahrt hervorzuheben. Darüber hinaus haben wir diese Angelegenheiten konkret mit Russland, Norwegen, Algerien und Marokko auf bilateralen Treffen mit den zuständigen Ministern erörtert, und im speziellen Fall von Russland und Norwegen prüfen wir zurzeit die Möglichkeit der Errichtung eines Systems zur Überwachung des Seeverkehrs in der Ost- und Nordsee, durch welches die Sicherheit erhöht und derartige Probleme verhindert werden können.\\n'}, {'token_index': 46, 'prompt_index': 150, 'prompt': 'Ausgehend von der allgemein anerkannten Einschätzung, dass die Region des Südkaukasus für Europa von besonderer Bedeutung ist und unter Hinweis darauf, dass die Europäische Union verschiedentlich auf politischer und ökonomischer Ebene ihren Willen zum Ausdruck gebracht hat, den Prozess der Sicherung von Fortschritt, politischer Stabilität und der Konsolidierung rechtsstaatlicher Strukturen in diesen Ländern zu fördern, möchte ich nachdrücklich darauf hinweisen, wie wichtig es ist, die Rolle der Europäischen Union bei der Entwicklung einer Strategie zur Lösung der Konflikte in dieser Region weiter zu stärken, wobei die Besonderheiten und die nationalen und historischen Empfindlichkeiten der jeweiligen Völker zu berücksichtigen sind und die Nachbarstaaten, insbesondere Russland, Iran und die Türkei dazu aufgerufen werden müssen, ihrerseits einen konstruktiven Beitrag zum Frieden in Südkaukasien zu leisten.\\n'}])\n",
            "(('lt', 'ig'), [{'token_index': 65, 'prompt_index': 577, 'prompt': 'Dies ist der Geist mit dem wir an diese Aussprache herangehen, die zur Benennung der neuen Kommission führen muss: Eine Kommission, die unter der Führung von Herrn Barroso und mit erfahrenen Kommissaren gut für die Bewältigung der Probleme der Europäer ausgerüstet ist, eine Kommission, mit der wir sowohl die wichtigsten politischen Ziele als auch die Prognosen bezüglich der Probleme oder der zur Bewältigung dieser Probleme anzuwendenden Lösungen teilen, mit denen wir uns befassen müssen, eine Kommission, die die Ergebnisse der Europawahl 2009 widerspiegelt und innerhalb derer meine politische Familie, die Fraktion der Europäischen Volkspartei (Christdemokraten) die einflussreichste Kraft ist, eine Kommission, deren wichtigste Priorität nicht zuletzt die Erfüllung der Erwartungen der Europäer ist, die von der Krise betroffen sind, Europäer, die darüber hinaus oftmals pessimistisch sind und die sich Sorgen über die Fähigkeiten ihrer Regierungschefs machen, das europäische Modell in der Welt zu verteidigen und zu fördern.\\n'}, {'token_index': 210, 'prompt_index': 1877, 'prompt': 'Avaaz ist es gelungen, talentierte und erfahrene junge Menschen zu rekrutieren, die bis zu den Bundestagswahlen pausenlos arbeiten, um den Druck auf die politischen Parteien und ihre Führungen massiv zu erhöhen. Wenn jetzt jeder von uns mit einer kleinen Spende von 20 oder 50 Euro diese Bemühungen unterstützt, dann können die Action Factories diese Bundestagswahl zur Klimawahl machen und bis zu den entscheidenden Kopenhagener Klimaverhandlungen weiterzuarbeiten: https://secure.avaaz.org/de/climate_action_factories/98.php?CLICK_TF_TRACK Hier ist die ursprüngliche E-Mail von Avaaz: Liebe Freundinnnen und Freunde - Die Verhandlungen zur Bewältigung der Klimakrise sind im Vorfeld des Kopenhagener Klimagipfels festgefahren, und Deutschland scheut sich, die dringend geforderte Führungrolle zu übernehmen.\\n'}])\n",
            "((' Vert', 'rag'), [{'token_index': 76, 'prompt_index': 688, 'prompt': 'Nach der Annahme des Berichts des Generalsekretärs über Parteienfinanzierung und seines Vorschlags zur Schaffung eines Statuts und des Vorschlags in dem früheren Bericht des Europäischen Parlaments von 2003 über die Notwendigkeit eines solchen Statuts - nur dass der Vertrag von Lissabon noch nicht angenommen war - und schließlich nach der Entscheidung des Präsidiums vom 10. Januar hat der Ausschuss für konstitutionelle Fragen im Anschluss an eine Anhörung mit allen politischen Parteien, Vorsitzenden und Sekretären auf europäischer Ebene und renommierten Professoren in Wirtschaft- und Verfassungsrecht und nach einer Anhörung von Transparency International und des Europäischen Rechnungshofes diesen Bericht angenommen, der die Europäische Kommission auffordert, einen entsprechenden Vorschlag vorzulegen, sodass wir ein echtes Statut für die europäischen politischen Parteien erlangen.\\n'}, {'token_index': 32, 'prompt_index': 795, 'prompt': 'B4-0890/96 von Herrn Bertens im Namen der Fraktion der Liberalen und Demokratischen Partei Europas über den Vertrag über das völlige Verbot von Atomversuchen; -B4-0900/96 von Herrn Macartney u.a. im Namen der Fraktion der Radikalen Europäischen Allianz über den Vertrag über das völlige Verbot von Atomversuchen; -B4-0908/96 von Herrn Piquet u.a. im Namen der Konföderalen Fraktion der vereinigten Europäischen Linken - Nordische Grüne Linke zum Stand der Verhandlungen über den Vertrag über das Verbot von Atomversuchen; -B4-0935/96 von Frau McKenna u.a. im Namen der Fraktion Die Grünen im Europäischen Parlament zum Vertrag über das Verbot von Atomversuchen; -B4-0945/96 von Herrn Wiersma u.a. im Namen der Fraktion der Sozialdemokratischen Partei Europas zum Vertrag über das völlige Verbot von Atomversuchen; -B4-0950/96 von Herrn Oostlander und Frau Oomen-Ruijten im Namen der Fraktion der Europäischen Volkspartei zum Vertrag über das völlige Verbot von Atomversuchen.Meine Damen und Herren, gerade eben habe ich einen der großen Mißerfolge meiner Tätigkeit als Vizepräsident erleben müssen, denn als ich gerade Herrn Bertens das Wort erteilen wollte, haben Sie selber sehen können, wie er fluchtartig den Saal verließ.\\n'}, {'token_index': 61, 'prompt_index': 1212, 'prompt': 'Das Bewußtsein um die kanarische Problematik, das wir hatten, als wir in Spanien den Beitritt unseres Landes zu den Europäischen Gemeinschaften und die nachfolgenden Verträge bis hin zum Vertrag von Amsterdam verhandelten, und die ständige Sorge darum, daß jene spezifische Situation dauerhafte Berücksichtigung finden müsse, spiegelten sich bereits 1985 in dem speziellen Protokoll Nr. 2 der Akte über den Beitritt Spaniens und Portugals, in der Verordnung (EWG) Nr. 1911/91 des Rates, der dieses Protokoll billigte, und im Absatz 2 des Artikels 299 des EG-Vertrags wider, der die Randregionen der Union mit besonderer Erwähnung der Kanaren verzeichnet und die notwendige Flexibilität für die Anwendung der allgemeinen Normen für so bestimmte und verletzliche Fälle wie den hier vorliegenden vorschreibt.\\n'}, {'token_index': 77, 'prompt_index': 743, 'prompt': 'Mehrere wichtige Punkte werden einen echten Mehrwert für den europäischen Verbraucher bedeuten; die Richtlinie gilt jetzt für digitale Produkte und (teilweise) für den Personenverkehr; der Gewerbetreibende muss dem Verbraucher vor der Vertragsschließung spezielle Informationen zur Verfügung stellen, sowohl bei einem in Geschäftsräumen geschlossenen Vertrag, bei einem Fernabsatzvertrag als auch bei einem außerhalb von Geschäftsräumen geschlossenen Vertrag; unmittelbar bevor ein Verbraucher eine Bestellung aufgibt, muss er oder sie (noch einmal) über den vollen Preis und die wichtigsten Eigenschaften des Produkts informiert werden und er oder sie muss ausdrücklich bestätigen, dass er oder sie die Geschäftsbedingungen und die Zahlungsverpflichtung anerkennt; darüber hinaus wird das Widerrufsrecht jetzt in allen Mitgliedstaaten harmonisiert und eine vierzehntägige Widerrufsfrist festgelegt.\\n'}, {'token_index': 22, 'prompt_index': 12, 'prompt': 'Der Vorschlag zur Änderung dieser Verordnung über die Anwendung des dem Vertrag zur Gründung der Europäischen Gemeinschaft beigefügten Protokolls über das Verfahren bei einem übermäßigen Defizit wirft eine begründete Frage hinsichtlich der Anpassung des Systems Volkswirtschaftlicher Gesamtrechnungen ESVG 95 auf, das, wie Sie wissen, das vorherige, 1979 eingeführte Rechnungssystem ersetzt. Vor allem wirft er eine Frage auf zum Auftreten neuer Kategorien von Finanzprodukten, zur Kohärenz bei der Berechnung von Proportionen zwischen dem öffentlichen Defizit und dem Bruttoinlandsprodukt im Rahmen dieses Systems Volkswirtschaftlicher Gesamtrechnungen von 1995 und schließlich zur Berücksichtigung der Bedeutung der Berechnung der \"Zinszahlungen \" und ihrer Kohärenz entsprechend dieser neuen Methodik.\\n'}])\n",
            "(('rt', 'ige'), [{'token_index': 25, 'prompt_index': 1178, 'prompt': 'A4-0149/99 von Herrn Donner im Namen des Ausschusses für auswärtige Angelegenheiten, Sicherheit und Verteidigungspolitik über den regelmäßigen Bericht der Kommission über Estlands Fortschritte auf dem Weg zum Beitritt (KOM(98)0705 - C4-0110/99)-A4-0154/99 von Herrn von Habsburg im Namen des Ausschusses für auswärtige Angelegenheiten, Sicherheit und Verteidigungspolitik über den regelmäßigen Bericht der Kommission über Ungarns Fortschritte auf dem Weg zum Beitritt (KOM(98)0700 - C4-0113/99)-A4-0151/99 von Herrn Speciale im Namen des Ausschusses für auswärtige Angelegenheiten, Sicherheit und Verteidigungspolitik über den regelmäßigen Bericht über Sloweniens Fortschritte auf dem Weg zum Beitritt (KOM(98)0709 - C4-0112/99)-A4-0157/99 von Herrn Carnero González im Namen des Ausschusses für auswärtige Angelegenheiten, Sicherheit und Verteidigungspolitik über den regelmäßigen Bericht der Kommission über die Fortschritte der Tschechischen Republik auf dem Weg zum Beitritt (KOM(98)0708 - C4-0111/99)-A4-0148/99 von Frau Hoff im Namen des Ausschusses für auswärtige Angelegenheiten, Sicherheit und Verteidigungspolitik über den regelmäßigen Bericht der Kommission über Polens Fortschritte auf dem Weg zum Beitritt (KOM(98)0701 - C4-0109/99)-A4-0159/99 von Herrn Bertens im Namen des Ausschusses für auswärtige Angelegenheiten, Sicherheit und Verteidigungspolitik über den regelmäßigen Bericht über Zyperns Fortschritte auf dem Weg zum Beitritt (KOM(98)0710 - C4-0108/99)-A4-0165/99 von Frau Malone im Namen des Ausschusses für auswärtige Angelegenheiten, Sicherheit und Verteidigungspolitik über den Bericht zur Aktualisierung der Stellungnahme der Kommission zum Beitrittsantrag von Malta (KOM(99)0069 - C4-0163/99)-A4-0123/99 von Frau Myller im Namen des Ausschusses für Umweltfragen, Volksgesundheit und Verbraucherschutz über die Mitteilung der Kommission an den Rat, das Europäische Parlament, den Wirtschafts- und Sozialausschuß und den Ausschuß der Regionen über Beitrittsstrategien für d\\n'}, {'token_index': 27, 'prompt_index': 1117, 'prompt': 'A4-0430/98 von Herrn Caccavale im Namen des Ausschusses für auswärtige Angelegenheiten, Sicherheit und Verteidigungspolitik zum Antrag Lettlands auf Beitritt zur Europäischen Union im Hinblick auf den Europäischen Rat in Wien (11./12. Dezember 1998) (KOM(97)2005 - C4-0377/97); -A4-0428/98 von Herrn Bernard-Reymond im Namen des Ausschusses für auswärtige Angelegenheiten, Sicherheit und Verteidigungspolitik zum Antrag Rumäniens auf Beitritt zur Europäischen Union im Hinblick auf den Europäischen Rat in Wien (11./12. Dezember 1998) (KOM(97)2003 - C4-0375/97); -A4-0427/98 von Herrn Wiersma im Namen des Ausschusses für auswärtige Angelegenheiten, Sicherheit und Verteidigungspolitik zum Antrag der Slowakei auf Beitritt zur Europäischen Union im Hinblick auf den Europäischen Rat in Wien (11./12. Dezember 1998) (KOM(97)2004 - C4-0376/97); -A4-0431/98 von Herrn Kristoffersen im Namen des Ausschusses für auswärtige Angelegenheiten, Sicherheit und Verteidigungspolitik zum Antrag Litauens auf Beitritt zur Europäischen Union im Hinblick auf den Europäischen Rat in Wien (11./12. Dezember 1998) (KOM(97)2007 - C4-0379/97); -A4-0429/98 von Frau Aelvoet im Namen des Ausschusses für auswärtige Angelegenheiten, Sicherheit und Verteidigungspolitik zum Antrag Bulgariens auf Beitritt zur Europäischen Union im Hinblick auf den Europäischen Rat in Wien (11./12. Dezember 1998) (KOM(97)2008 - C4-0380/97).\\n'}, {'token_index': 31, 'prompt_index': 1112, 'prompt': '(A4-0397/98) von Herrn Báron Crespo im Namen des Ausschusses für auswärtige Angelegenheiten, Sicherheit und Verteidigungspolitik über den Vorschlag für eine Verordnung des Rates zur Koordinierung der Hilfe für die beitrittswilligen Länder im Rahmen der Heranführungsstrategie (KOM(98)0150 - C4-0606/98-98/0094(CNS)); -(A4-0382/98) von Herrn Walter im Namen des Ausschusses für Regionalpolitik über den Vorschlag für eine Verordnung (EG) des Rates über ein strukturpolitisches Instrument zur Vorbereitung auf den Beitritt (KOM(98)0138 - C4-0301/98) - 98/0091(CNS)); -(A4-0388/98) von Herrn Tomlinson im Namen des Haushaltsausschusses über einen Vorschlag für eine Verordnung (EG, Euratom) des Rates zur Änderung der Verordnung (EG, Euratom) Nr. 2728/94 zur Einrichtung eines Garantiefonds für Maßnahmen im Zusammenhang mit den Außenbeziehungen (KOM(98)0168 - C4-0302/98/0117(CNS)); -(A4-0383/98) von Herrn Sonneveld im Namen des Ausschusses für Landwirtschaft und ländliche Entwicklung über den Vorschlag für eine Verordnung (EG) des Rates über eine gemeinschaftliche Förderung für Maßnahmen in den Bereichen Landwirtschaft und Entwicklung des ländlichen Raumes zur Vorbereitung des Beitritts der Bewerberländer in Mittel- und Osteuropa während des Heranführungszeitraums (KOM(98)0153 - C4-0244/98-98/0100(CNS)).\\n'}, {'token_index': 32, 'prompt_index': 1165, 'prompt': 'den Bericht (A4-0104/99) von Herrn Tindemans im Namen des Ausschusses für auswärtige Angelegenheiten, Sicherheit und Verteidigungspolitik über das Abkommen über die Bedingungen für den Beitritt der Europäischen Atomgemeinschaft zu der Organisation für die Entwicklung der Energiewirtschaft auf der Koreanischen Halbinsel (KEDO) (C4-0483/97); -die mündlichen Anfragen von Herrn Spencer im Namen des Ausschusses für auswärtige Angelegenheiten, Sicherheit und Verteidigungspolitik an den Rat (B4-0147/99) und an die Kommission (B4-0148/99) über die Beziehungen der Europäischen Union zur Demokratischen Volksrepublik Korea.Wie schon zu Beginn der Sitzung vom Präsidenten mitgeteilt wurde, weist der Rat darauf hin, daß er aufgrund der Vorbereitungsarbeiten für die Tagung des Europäischen Rates in Berlin nicht anwesend sein kann.\\n'}, {'token_index': 26, 'prompt_index': 1123, 'prompt': 'A4-0409/98 von Herrn Roubatis im Namen des Ausschusses für auswärtige Angelegenheiten, Sicherheit und Verteidigungspolitik über die Mitteilung der Kommission an das Europäische Parlament und den Rat \"Die Menschenrechte in den Außenbeziehungen der Europäischen Union: Von Rom zu Maastricht und danach\" (KOM(95)0567 - C4-0568/95), -A4-0410/98 von Herrn Barros Moura im Namen des Ausschusses für auswärtige Angelegenheiten, Sicherheit und Verteidigungspolitik über die Menschenrechte in der Welt für die Jahre 1997-1998 und über die Menschenrechtspolitik der Europäischen Union, -A4-0466/98 von Herrn Torres Couto im Namen des Ausschusses für Entwicklung und Zusammenarbeit über den Entwurf einer Verordnung (EG) des Rates mit den Bedingungen für die Durchführung von Maßnahmen auf dem Gebiet der Entwicklungszusammenarbeit, die zu dem allgemeinen Ziel der Fortentwicklung und Festigung der Demokratie und des Rechtsstaates sowie zur Wahrung der Menschenrechte und Grundfreiheiten beitragen (KOM(97)357-9581/98 - C4-0507/98-98/0191(SYN)).\\n'}, {'token_index': 26, 'prompt_index': 774, 'prompt': 'A4-0174/96 von Herrn Alavanos im Namen des Ausschusses für auswärtige Angelegenheiten, Sicherheit und Verteidigungspolitik über die Mitteilung der Kommission zur humanitären Hilfe im ehemaligen Jugoslawien: Perspektiven und Schwerpunkte (KOM(95)0564 - C4-0535/95); -A4-0184/96 von Herrn Mendiluce Pereiro im Namen des Ausschusses für auswärtige Angelegenheiten, Sicherheit und Verteidigungspolitik über die Mitteilung der Kommission an den Rat zum Wiederaufbau im ehemaligen Jugoslawien (SEK(95)1597 - C4-0595/95); -A4-0204/96 von Herrn Giansily im Namen des Haushaltsausschusses über die Mitteilung der Kommission zum finanziellen Beitrag der Europäischen Union zum Wiederaufbau im ehemaligen Jugoslawien (KOM(95)0581 - C4-0608/95); -A4-0178/96 von Herrn Titley im Namen des Ausschusses für Außenwirtschaftsbeziehungen über die Mitteilung der Kommission zum Wiederaufbau im Gebiet des ehemaligen Jugoslawien: Verwaltung der Hilfe der Europäischen Union und Koordinierung der internationalen Hilfe (KOM(95)0582 - C4-0519/95).\\n'}, {'token_index': 17, 'prompt_index': 646, 'prompt': 'Ich stimme der Meinung des Ausschusses für auswärtige Angelegenheiten zu, dass es von größter Bedeutung für das Parlament ist, seine Vorrechte vollständig und rechtzeitig in Anspruch nehmen zu können, und für die Kommission, das Parlament aktiv über alle Maßnahmen im Hinblick auf Entwürfe, abgeänderte Entwürfe und abschließende Entwürfe zu informieren, die sie im Rahmen des Artikels 291 des Vertrages über die Arbeitsweise der Europäischen Union anzunehmen beabsichtigt, welcher vorsieht, dass in Fällen, in denen einheitliche Bedingungen für die Durchführung rechtsverbindlicher Rechtsakte der Union nötig sind und in denen der Kommission Durchführungsbefugnisse übertragen werden, die Kontrolle bezüglich der Anwendung derartiger Durchführungsbefugnisse durch die Kommission einzig und allein den Mitgliedstaaten obliegt.\\n'}])\n",
            "(('ge', 'hung'), [{'token_index': 24, 'prompt_index': 1847, 'prompt': 'Das deutlichste Anzeichen des Erfolgs von New Labour in Großbritannien ist die Umgehung der „old labour“ und ihres Orts der Anspruchsberechtigung sowie des Schutzes; außerdem die neu gestaltete Landschaft mentaler Arbeit als Stätte der Mehrwertgenerierung in einem Umfang, wie es sich die früheren TheoretikerInnen des Arbeitsprozesses niemals erträumt hätten, die mit dem zusätzlichen Vorteil einhergeht, dass dies nun die Aufhebung von Kritik in der Hoffung, ja Erwartung umfasst, dass es eine greifbare Entlohnung in einer solchen gleichermaßen Status wie Sicherheit versprechenden Form geben wird. [9] Was in diesem neuen Diskurs kreativer Selbstrealisierung gleichermaßen umgangen wird, ist die intellektuelle Landschaft der kritischen Ästhetik, die, freilich verbunden mit der marxistischen philosophischen Tradition, den Mythos des Genies anfocht, die Ideologie individueller Kreativität unterminierte und tatsächlich in darauf folgenden Schriften von Bourdieu bis Barthes und von Foucault bis Derrida die Aufmerksamkeit auf den überhöhten Ort der AutorIn oder KünstlerIn als Feld säkulären Glaubens lenkte, was unter anderem eine bestimmte Ethik der Zusammenarbeit wie auch eine Politik der Kritik entwertete.\\n'}])\n",
            "(('bes', 'onde'), [{'token_index': 14, 'prompt_index': 408, 'prompt': 'Unter diesen EU-Vorschriften ist es insbesondere die Richtlinie von 2004, die die soeben von einem Abgeordneten geforderte Erteilung von Aufenthaltstiteln gewährleistet, und Sie wissen, dass die Mitgliedstaaten dieser EU-Richtlinie bis zum 6.\\xa0August dieses Jahres nachkommen müssen: glücklicherweise gibt es einige Mitgliedstaaten, die das bereits getan haben. Um die anderen EU-Staaten, die sie bis zum Frühjahr, d.\\xa0h. lange vor dem Monat August, noch nicht umgesetzt haben, ein wenig anzuspornen, werde ich eine Fachtagung mit den Vertretern aller Mitgliedstaaten einberufen, um nachvollziehen zu können, welche Probleme die Übernahme der Richtlinie in innerstaatliches Recht bisher verhindert haben, und in aller Form vor Ablauf der Frist zu verlangen, dass alle Mitgliedstaaten bis spätestens August den Opfern von sexueller Ausbeutung und Menschenhandel den Vorzugsstatus zuerkennen, der nach europäischem Recht vorgesehen ist.\\n'}, {'token_index': 18, 'prompt_index': 1483, 'prompt': 'Für Siemens ergeben sich solche Ungewissheiten insbesondere aufgrund folgender Faktoren: Änderungen der allgemeinen wirtschaftlichen und geschäftlichen Lage (einschließlich Margenentwicklungen in den wichtigsten Geschäftsbereichen sowie Folgen einer Rezession); der Gefahr, dass es auf Kundenseite zu Verzögerungen oder Stornierungen bei Aufträgen kommt oder dass die Preise durch das anhaltend ungünstige Marktumfeld weiter gedrückt werden, als der Siemens Vorstand derzeit erwartet; der Entwicklung der Finanzmärkte, einschließlich Schwankungen bei Zinssätzen und Währungskursen, der Rohstoffpreise, der Fremd- und Eigenkapitalmargen (credit spreads) sowie der Finanzanlagen im Allgemeinen; der zunehmenden Volatilität und des weiteren Verfalls der Kapitalmärkte; der Verschlechterung der Rahmenbedingungen für das Kreditgeschäft und insbesondere der zunehmenden Unsicherheiten, die aus der Hypotheken-, Finanzmarkt- und Liquiditätskrise entstehen, sowie des zukünftigen wirtschaftlichen Erfolgs der Kerngeschäftsfelder, in denen Siemens tätig ist, zu denen, ohne Einschränkungen, der Industry, Energy und Healthcare Sector gehören; Herausforderungen der Integration wichtiger Akquisitionen und der Implementierung von Joint Ventures und anderer wesentlicher Portfoliomaßnahmen; der Einführung konkurrierender Produkte oder Technologien durch andere Unternehmen; der fehlenden Akzeptanz neuer Produkte und Dienstleistungen seitens der Kundenzielgruppen von Siemens; Änderungen in der Geschäftsstrategie; des Ausgangs von offenen Ermittlungen und anhängigen Rechtsstreitigkeiten, einschließlich der Korruptionsuntersuchungen, denen Siemens derzeit unterliegt, sowie der Maßnahmen, die sich aus den Ergebnissen dieser Ermittlungen ergeben; der potenziellen Auswirkung dieser Untersuchungen und Verfahren auf das laufende Geschäft von Siemens, einschließlich der Beziehungen zu Regierungen und anderen Kunden; der potenziellen Auswirkungen solcher Angelegenheiten auf die Abschlüsse von Siemens sowie \\n'}])\n",
            "((' Lau', 'fb'), [{'token_index': 86, 'prompt_index': 250, 'prompt': 'Änderungsanträge 7, 8, 9 und 48 zur Stärkung der interinstitutionellen Zusammenarbeit; Änderungsantrag 20 zur Meldung von Missständen, Änderungsanträge 12 und 14; Änderungsantrag 13 zur Schaffung von Dienstposten für besondere Aufgaben in der Laufbahn AST 1 bis AST 3 einschließlich der des Amtsboten des Parlaments; die von den Berichterstattern vorgelegten Änderungsanträge 9, 25, 48, 50 und 51 bezüglich des Status der Bediensteten zur Unterstützung der Fraktionen - dies bedeutet natürlich, dass die Kommission Änderungsanträge 32 und 60, die weit über die von den Berichterstattern klug gewählte Position hinausgehen, nicht unterstützen kann; Änderungsantrag 17 zur sexuellen Belästigung können wir akzeptieren; Änderungsantrag 18, Änderungsantrag 19, Änderungsanträge 33, 34 und 35 bezüglich Fernbleiben vom Dienst; Änderungsanträge 42, 43 und 44 zu Disziplinarverfahren; Änderungsantrag 38 zur Dauer der Bestellung der Mitglieder des Paritätischen Beratenden Ausschusses für unzulängliche fachliche Leistungen - das heißt natürlich nicht, dass dieser Ausschuss für unzulängliche fachliche Leistungen eintritt - zutreffender wäre die Bezeichnung Paritätischer Beratender Ausschuss zu unzulänglichen fachlichen Leistungen.\\n'}])\n",
            "((' Sie', ' mich'), [{'token_index': 3, 'prompt_index': 516, 'prompt': 'Lassen Sie mich die wichtigsten Elemente dieser bereits laufenden oder in diesem Haus zurzeit geprüften Maßnahmen ins Gedächtnis rufen. Da ist der Richtlinienentwurf, in dem bis 2020 ein Anteil von 20 % erneuerbarer Energien am Endverbrauch gewährleistet werden soll; da sind die neuen Vorschriften zur Ausweitung und Stärkung des Emissionshandelssystems (ETS) der EU, mit denen gesichert wird, dass wir bis 2020 unser Ziel erreichen, den Ausstoß von Treibhausgasen um 20 % zu reduzieren, und die das ETS als Triebkraft des Wandels verankern; da sind der Vorschlag zur Reduzierung der CO2-Emissionen aus Kraftfahrzeugen und die Richtlinie zur Treibstoffqualität, die die Öllieferanten verpflichtet, ihren Verbrauch an CO2 und Energie bei den von ihnen verkauften Produkten zu verringern; und da ist - ganz wichtig - der Aktionsplan zur Energieeffizienz, der alle Sektoren auf allen Ebenen umfasst, von der Internationalen Partnerschaft für die Zusammenarbeit auf dem Gebiet der Energieeffizienz und dem Klimapakt der Bürgermeister und Bürgermeisterinnen auf lokaler Ebene bis hin zu spezifischen Maßnahmen wie der Etikettierung von Konsumwaren oder den Anforderungen an die Energieeffizienz von Gebäuden.\\n'}, {'token_index': 3, 'prompt_index': 716, 'prompt': 'Lassen Sie mich deshalb einige der Elemente, über die wir uns deutlich einigen konnten, und die, wären sie angenommen worden, zu vielen Verbesserungen der derzeit gültigen Rechtsvorschriften geführt hätten, noch einmal festhalten: ein zentralisiertes Verfahren für die Zulassung von neuartigen Lebensmitteln, mit dem das derzeitige Zulassungsverfahren wirksamer gestaltet und dabei doch auch die Lebensmittelsicherheit gewährleistet bleibt; eine Definition für \"Nanomaterialien\" und die Zulassungspflicht vor dem Inverkehrbringen sowie die Etikettierungspflicht für alle Lebensmittelzutaten, die Nanomaterial enthalten; ein vereinfachtes Verfahren, das für traditionelle Lebensmittel aus Drittländern gilt, um diesen Erzeugnissen den Zugang zum EU-Markt zu erleichtern sowie die Forderung an Lebensmittelunternehmen, wissenschaftliche Daten in Verbindung mit Tierversuchen zu teilen, um Tierversuche auf ein Minimum zu reduzieren.\\n'}, {'token_index': 3, 'prompt_index': 478, 'prompt': 'Lassen Sie mich nur einige Schlüsselbereiche aufzählen: die Lissabon-Strategie zur Förderung von Wachstum und Beschäftigung, die unumstritten ein zentrales Element auf dem Weg zu mehr Wohlstand, Umweltbewusstsein und sozialem Zusammenhalt in der Europäischen Union ist; der Kampf gegen den Klimawandel mit der diesjährigen Schwerpunktsetzung im Bereich Schadensminderung, ergänzt durch einen neuen Ansatz in Richtung Abschwächung des Klimawandels und Anpassung hieran; die Ökologisierung des Verkehrssektors; der so genannte \"Small Business Act\" zur Förderung kleiner und mittlerer Unternehmen, bei dem es sich in Wirklichkeit um ein ganzes Maßnahmenbündel handelt; neue gesetzliche Bestimmungen zur Verbesserung des Verbraucherschutzes in der Frage der vertraglichen Rechte sowie ein neues Verbraucherbarometer; ein vereinfachter Zugang zur Justiz und die Verbesserung des gemeinschaftlichen Regelungsrahmens dank einer strategischen Überprüfung der besseren Rechtsetzung.\\n'}])\n",
            "((' Ans', 'icht'), [{'token_index': 9, 'prompt_index': 711, 'prompt': 'Ich möchte nochmals meine Ansicht wiederholen, dass die Menschenrechte als ein selbstverständlicher Teil fest in die Außenpolitik der EU verankert werden müssen, und ich glaube, dass die neue institutionelle Struktur der EU, besonders im Hinblick auf den EAD und die zu ihm gehörige Abteilung, eine Gelegenheit bietet, den Zusammenhalt und die Effizienz der EU auf diesem Gebiet zu stärken; ich fordere die Vizepräsidentin/Hohe Vertreterin dringend dazu auf, die Initiative zu ergreifen und durch bilaterale Beziehungen zu Drittländern und eine aktive Teilnahme an internationalen Foren dafür zu sorgen, dass sich die Drittländer für den Schutz der Menschenrechte engagieren und sich gegen Verletzungen der Menschenrechte wehren, anstatt vor den nötigen Maßnahmen zurückzuschrecken, wenn sie missachtet werden; angesichts des wachsenden Ausmaßes der schweren Verletzungen der Glaubensfreiheit, rufe ich die Kommission dazu auf, eine gründliche Evaluierung vorzunehmen und die Glaubensfreiheit zu einem selbstverständlichen Bestandteil der Menschenrechtspolitik der EU zu machen.\\n'}])\n",
            "(('ät', 'igen'), [{'token_index': 102, 'prompt_index': 1094, 'prompt': 'Der Rat vertritt in seinem Gemeinsamen Standpunkt die Auffassung, daß diese Wahl dem Aufnahmemitgliedstaat zukommt, wobei die Präferenz des Migranten zu berücksichtigen ist; der Ausschuß für Recht und Bürgerechte gelangte hingegen - wie ich finde zu Recht - zu der Auffassung, daß diese Wahl dem Berufstätigen überlassen werden sollte, und dies aus zwei Gründen: derjenige, der um die Anerkennung seiner Qualifikation ringt, wird mit administrativen Schwierigkeiten konfrontiert, die ihn andernfalls noch mehr belasten würden, und außerdem muß auch in diesem Falle die Kohärenz zwischen dieser Richtlinie und dem allgemeinen System der Anerkennung der Diplome gewährleistet werden, das bereits durch die Richtlinien 89/48/EWG und 92/51/EWG geschaffen wurde, die dem Migranten die Wahl zwischen einem Anpassungskurs und einer Eignungsprüfung lassen.\\n'}])\n",
            "(('d', 'ruck'), [{'token_index': 287, 'prompt_index': 1085, 'prompt': 'In der teilweisen Enttäuschung sowohl über die beschäftigungspolitischen Leitlinien, die auf dem Beschäftigungsgipfel von Luxemburg verabschiedet wurden - auf dem das Thema Frauenbeschäftigung nicht mit in die ersten drei Pfeiler, sondern getrennt nur im vierten Pfeiler aufgenommen wurde -, als auch über die nationalen Aktionspläne, von denen einige völlig unzulänglich sind und keine quantifizierten Referenzziele enthalten, in der teilweisen Enttäuschung über die Ergebnisse der EU-Ministertagung (Frauen)in Belfast, die ohne konkrete Entscheidungen zu Ende ging, fordern wir mit dem vorliegenden Entschließungsantrag - der das Resultat unserer Zusammenarbeit und der von Kolleginnen und Kollegen sämtlicher Fraktionen eingereichten Änderungsanträge ist, die eine wichtige Bereicherung meines ursprünglichen Berichtes bedeuteten - die Kommission, den Rat und die Mitgliedstaaten mit Nachdruck auf, in die nächsten Beschäftigungsleitlinien sowie in die Leitlinien der Strukturfonds, Herr Kommissar Flynn, ehrgeizige Referenzziele mit Quantifizierungen, eindeutigen Zeitplänen und Haushaltsmitteln für deren Durchführung aufzunehmen, und wir fordern, daß bei den quantifizierten Referenzzielen die mittleren Werte der drei Mitgliedstaaten mit den besten Ergebnissen zugrunde gelegt werden.\\n'}, {'token_index': 288, 'prompt_index': 647, 'prompt': \"Die Entschließung des EP, für die mit einer großen Mehrheit gestimmt wurde, besagt, dass das EP der Ansicht ist, dass die einzige Quelle demokratischer Rechtmäßigkeit allgemeine Wahlen sind, deren Ergebnisse von der UN bestätigt wurden, und appelliert daher an Herrn Gbagbo, zurückzutreten und die Macht an Alassane Ouattara zu übergeben. Sie hält alle politischen und militärischen Kräfte in Côte d'Ivoire dazu an, den Willen des Volks zu respektieren, der sich in den Ergebnissen der Wahl am 28. November, wie sie von der CEI verkündet und vom Sonderbeauftragten des Generalsekretärs der Vereinten Nationen bestätigt wurden, widerspiegelte und verurteilt die gewalttätigen Zusammenstöße, die der Verkündung der Ergebnisse der zweiten Runde der Präsidentschaftswahlen in Côte d'Ivoire vorausgingen und bringt ihre tiefste Solidarität mit den Opfern und deren Familien zum Ausdruck, bedauert des Weiteren die politischen Hindernisse und die Versuche, Mitglieder der CEI einzuschüchtern, was letztendlich zur Verzögerung der Bekanntgabe vorläufiger Ergebnisse führte, wodurch der ordnungsgemäße Ablauf des demokratischen Wahlprozesses behindert wurde.\\n\"}])\n",
            "(('id', 'iger'), [{'token_index': 71, 'prompt_index': 269, 'prompt': 'Die kontraproduktiven Resultate dieser essenziellen Schönfärberei einer voll greif- und messbaren Situation sind nun zu Tage getreten, und, mit allem Respekt für den amtierenden Ratspräsidenten, selbst die verträumtesten Verteidiger einer nachsichtigen Behandlung und Befürworter von Annäherungsversuchen mit der Türkei müssen enttäuscht sein, da weder die seit Jahren ausgesendeten Botschaften zu einer entsprechend positiven Reaktion der Türkei geführt haben, noch die europäische Toleranz vom türkischen Establishment geziemend gewürdigt wurde, das diese im Gegenteil - und vielleicht zu Recht - als eine Ermutigung und Akzeptanz seiner Politik angesehen hat, wohingegen, wenn die europäische Position früher mit der gleichen couragierten Ehrlichkeit des Berichts Oostlander zum Ausdruck gebracht worden wäre, die Perspektiven der so genannten europäischen Orientierung der Türkei verheißungsvoller gewesen wären und es weniger begründete Vorbehalte und Zweifel darüber gegeben hätte, inwieweit dieses Land dazu berechtigt ist, möglicherweise ein Kandidat für die Integration in die europäische Familie zu sein.\\n'}])\n",
            "(('ug', 'nis'), [{'token_index': 137, 'prompt_index': 734, 'prompt': 'schriftlich. - Das Europäische Parlament: 1. bedauert, dass die Richtlinie 2006/114/EG(2) über irreführende und vergleichende Werbung, die auf den Geschäftsverkehr zwischen Unternehmen Anwendung findet, entweder bezüglich der Bereitstellung wirksamer Rechtsbehelfe unzureichend zu sein scheint oder aber von den Mitgliedstaaten nicht ordnungsgemäß umgesetzt wird; 2. verweist erneut darauf, dass die Kommission zwar keine Befugnis zur Durchsetzung der Richtlinie unmittelbar gegen Einzelpersonen und Unternehmen hat, dass sie jedoch durchaus verpflichtet ist, für eine ordnungsgemäße Umsetzung der Richtlinie durch die Mitgliedstaaten zu sorgen; 3. fordert die Kommission auf, die Umsetzung, Durchführung und Durchsetzung der Richtlinie 2006/114/EG auf einzelstaatlicher Ebene durch die Mitgliedstaaten proaktiv zu überprüfen und gegebenenfalls Korrekturmaßnahmen zu ergreifen.\\n'}])\n",
            "(('ent', 'lichen'), [{'token_index': 82, 'prompt_index': 270, 'prompt': \"Außerdem erkenne ich zwar an, dass die endgültigen Stellungnahmen äußerst positive Fortschritte gegenüber dem ersten Vorschlag der Kommission und der Hartnäckigkeit des Berichterstatters darstellen - eine Entwicklung, die ich begrüße -, habe aber zu wesentlichen Punkten doch eine andere Meinung: das Versäumnis, ein erweitertes System vorzusehen, das alle rechtmäßig gebildeten politischen Parteien umfasst, da der Vertrag keine Diskriminierung von politischen Parteien 'auf europäischer Ebene' zulässt, auch um anzuerkennen, dass sie alle 'wichtig' sind; die Forderung nach einem Anteil der Eigenfinanzierung, den ich für zu hoch halte und bei dem ich fürchte, dass er auf supranationaler Ebene zu Problemen führen wird; das System der Zurückweisung von Finanzierungen ohne Gerichtsverfahren, da ich nicht glaube, dass die offenkundige Existenz des Widerspruchsrechts ausreicht.\\n\"}])\n",
            "((' bef', 'assen'), [{'token_index': 37, 'prompt_index': 202, 'prompt': 'Logischerweise musste sich der Ausschuss für Recht und Binnenmarkt vornehmlich mit den technischen Aspekte dieser Richtlinie befassen, und er hat versucht, gewisse Verbesserungen einzuarbeiten: Erstens hat er im Gegensatz zum Rat die Richtlinie auf zivilrechtliche Klagen aufgrund von strafbaren Handlungen erweitert, denn unserer Ansicht nach bestand keinerlei Grund, sie auszuschließen; zweitens hat er versucht, genauer zu fassen, was unter Prozesskosten zu verstehen ist, welche Positionen darunter fallen sollen, und er hat die Beibehaltung der Prozesskostenhilfe bei Einlegung von Rechtsmitteln ermöglicht, wobei er auf der Notwendigkeit einer möglichst zeitnahen Antragsprüfung beharrt, und er hat vorgesehen, dass die Mitgliedstaaten dafür die zuständigen Stellen bestimmen; und schließlich hat er die Kostenerstattung vorgesehen, sofern diesbezüglich privatrechtliche Regelungen bestehen.\\n'}])\n",
            "((' christ', 'lichen'), [{'token_index': 115, 'prompt_index': 369, 'prompt': 'Insbesondere begrüßte ich die kategorische Verurteilung des Terrorismus – darunter die Erklärung, dass eine der obersten Pflichten demokratischer Regierungen in der Zerschlagung von Terrornetzwerken besteht –, die Verurteilung der Aufhebung des Waffenembargos gegenüber China durch die Kommission und die Feststellung, dass in vielen Ländern der Welt Bürger aufgrund ihres christlichen Glaubens verfolgt werden. Allerdings hätte ich mir gewünscht, dass die Formulierung des Berichts expliziter ausfällt und bestimmte Punkte gezielter angesprochen werden, vor allem was die gravierende Verletzung der Rechte von Angehörigen protestantischer Minderheitengemeinschaften in Eritrea, Vietnam, Nordkorea, Kolumbien, Birma, Indonesien, Laos, Ägypten, China, Sri Lanka, Pakistan und in anderen Ländern angeht.\\n'}])\n",
            "(('st', 'abe'), [{'token_index': 79, 'prompt_index': 399, 'prompt': 'Im Verlauf des Annahmeverfahrens habe ich bereitwillig alle Änderungsvorschläge befürwortet, die diesen Zielen entsprachen; deshalb war ich dafür, die Regionen, die dem statistischen Effekt unterliegen, unter Artikel\\xa087 Absatz\\xa03 Buchstabe\\xa0a einzustufen, damit entsprechende Beihilfen an alle Regionen vergeben werden können, die aufgrund naturbedingter und anderer Benachteiligungen an der Entwicklung gehindert sind oder die aus verschiedenen Gründen in die Kategorie der armen Gebiete fallen, und habe auch Vorschläge unterstützt, die die destruktive Verlegung staatlich geförderter Unternehmen unterbinden usw. Außerdem habe ich bereitwillig Vorschläge aufgenommen, die Kriterien für den Anspruch einzelner Regionen und Unternehmen auf staatliche Hilfe so präzise wie möglich zu formulieren, und ich erwarte von der Kommission, dass sie die negativen Auswirkungen einer unzulässigen Beihilfevergabe gründlich untersucht und die entsprechenden Schlussfolgerungen zieht.\\n'}, {'token_index': 229, 'prompt_index': 1148, 'prompt': 'Was die Erwägungen betrifft, so lehnt die Kommission die folgenden Änderungsanträge ab: Nummer 3, da er unseres Erachtens geschützte Werke und Informationen im allgemeinen miteinander verwechselt und den Grundsätzen des gemeinschaftlichen Besitzstandes zuwiderläuft; Nummer 13, erster Teil, weil er dem WIPO-Vertrag widerspricht - den zweiten Teil übernehmen wir; Nummer 14, da er unserer Auffassung nach nicht dazu dient, den Öffentlichkeitsbegriff zu definieren, was den Mitgliedstaaten überlassen sein sollte, die eher in der Lage sind, diesen Begriff mit unterschiedlichen Inhalten zu füllen; Nummer 19, da er nicht mit den eingereichten Änderungsanträgen zu Artikel 5 Absatz 2 Buchstabe b) in Einklang steht; Nummer 23, weil er den Ansatz des Richtlinienvorschlags für die Ausnahmen in Frage stellt; die Nummern 27 und 28, die bereits durch Erwägung 3 des Richtlinienvorschlags abgedeckt sind, und die Nummern 15, 25 und 26, da sie sich zu weit vom Anwendungsbereich der Richtlinie entfernen.\\n'}])\n",
            "(('in', 'w'), [{'token_index': 73, 'prompt_index': 760, 'prompt': 'Das Komitee der Außenminister des Europarats hat diese Position zur Kenntnis genommen und eine Befürwortung des Beitrittsantrags Kroatiens aufgeschoben, indem es die Regierung in Zagreb noch deutlicher und unmißverständlicher darauf hinwies, sie müsse erst einer Reihe von Auflagen gerecht werden, die ich hier noch einmal im einzelnen erwähnen möchte: Zusammenarbeit mit dem internationalen Strafgerichtshof in bezug auf die im ehemaligen Jugoslawien begangenen Kriegsverbrechen, insbesondere die sofortige Festnahme und Auslieferung an das Tribunal von mutmaßlichen Kriegsverbrechern bzw. Personen die im Verdacht stehen, gegen internationales Menschenrecht verstoßen zu haben; Aufforderung, als Mitunterzeichner der Abkommen von Paris/Dayton den Bestimmungen zur Schaffung der Föderation Bosnien-Herzegowina umfassend Folge zu leisten; Mitwirkung an der Durchführung freier und gerechter Wahlen, auch in der Stadt Mostar; Aufforderung zur Achtung der Menschen-, Minderheiten- und Flüchtlingsrechte und zum Erlaß eines Amnestiegesetzes; und schließlich Aufforderung, die Presse- und Medienfreiheit zu respektieren, mit dem Europarat bei der Revision der Gesetze über Lokalverwaltungen zusammenzuarbeiten und einen Terminplan zur Durchführung der Kommunalwahlen in Zagreb festzulegen.\\n'}])\n",
            "(('he', 'ben'), [{'token_index': 19, 'prompt_index': 617, 'prompt': 'Ich würde gerne Folgendes als besonders wichtig hervorheben: (1) Der Europäische Fonds für die Anpassung an die Globalisierung (EGF) unterstützt die Wiedereingliederung der Arbeitnehmer, die vom Arbeitsmarkt entlassen wurden, ohne die Unternehmen ihrer Verantwortung zu entheben; (2) im Zusammenhang mit der Inanspruchnahme des EGF hat die Kommission eine alternative Quelle an Zahlungsermächtigungen anstatt nicht gebundener Mittel des Europäischen Sozialfonds (ESF) vorgeschlagen, so wie es das Parlament gefordert hat; (3) die Funktionsweise und der zusätzliche Nutzen des EGF sollten im Kontext der allgemeinen Bewertung der mit der Interinstitutionellen Vereinbarung (IIV) vom 17. Mai 2006 geschaffenen Programme und verschiedenen anderen Instrumente im Rahmen des Prozesses der Halbzeitüberprüfung des mehrjährigen Finanzrahmens für den Zeitraum 2007-2013 bewertet werden; (4) der Kommissionsvorschlag enthält Informationen über den Antrag sowie eine Analyse der Förderkriterien und eine Erläuterung der Gründe für seine Genehmigung, was mit den Forderungen des Parlaments in Einklang steht.\\n'}, {'token_index': 19, 'prompt_index': 616, 'prompt': 'Ich würde gerne Folgendes als besonders wichtig hervorheben: (1) Der Europäische Fonds für die Anpassung an die Globalisierung (EGF) unterstützt die Wiedereingliederung der Arbeitnehmer, die vom Arbeitsmarkt entlassen wurden, ohne die Unternehmen ihrer Verantwortung zu entheben; (2) im Zusammenhang mit der Inanspruchnahme des EGF hat die Kommission eine alternative Quelle an Zahlungsermächtigungen anstatt nicht gebundener Mittel des Europäischen Sozialfonds (ESF) vorgeschlagen, so wie es das Parlament gefordert hat; (3) die Funktionsweise und der zusätzliche Nutzen des EGF sollten im Kontext der allgemeinen Bewertung der mit der Interinstitutionellen Vereinbarung (IIV) vom 17. Mai 2006 geschaffenen Programme und verschiedenen anderen Instrumente im Rahmen des Prozesses der Halbzeitüberprüfung des mehrjährigen Finanzrahmens für den Zeitraum 2007-2013 bewertet werden; (4) der Kommissionsvorschlag enthält Informationen über den Antrag sowie eine Analyse der Förderkriterien und eine Erläuterung der Gründe für seine Genehmigung, was mit den Forderungen des Parlaments in Einklang steht.\\n'}, {'token_index': 18, 'prompt_index': 195, 'prompt': 'Von den Kompromisspunkten möchte ich insbesondere hervorheben die Erhöhung der obligatorischen Mindestzahl der Teilnehmer von zwei auf drei, die Möglichkeit der Bewertung der eingegangenen Vorschläge in zwei Etappen, die Begrenzung der Anonymisierung bei der der Bewertung von Vorschlägen auf bestimmte genau festgelegte Fälle, die Anwendung einer umfassenderen Palette von Kriterien für die Bewertung der Vorschläge, zu denen obligatorische und fakultative gehören, um - wie dies Frau McNally hervorhob - die Rolle der Frauen in der Forschung zu verstärken und Synergien mit dem Bildungswesen auf allen Ebenen zu fördern, weiterhin eine Klarstellung der Art und Weise der Haftung der Teilnehmer, die Festlegung einer Methode zur Berechnung des finanziellen Beitrags der Gemeinschaft für Exzellenznetze - zu dieser Frage hat es zahlreiche Diskussionen gegeben - und die Einführung des Prinzips des Konsortialvertrags als wesentliches Instrument für die Umsetzung von Forschungsprojekten.\\n'}, {'token_index': 17, 'prompt_index': 719, 'prompt': 'Folgende notwendige Maßnahmen möchte ich hervorheben: dass alle im Fischereihaushalt der Union gegebenen Möglichkeiten und finanziellen Spielräume dazu genutzt werden, um Notfallmaßnahmen zur Unterstützung dieses Wirtschaftszweigs zu finanzieren, damit er die durch die gestiegenen Ölpreise bedingten Schwierigkeiten bewältigen kann; dass der Europäische Fischereifonds (EFF) auch weiterhin Beihilfen zur Verbesserung der Selektivität der Fanggeräte und zum Austausch von Motoren aus Gründen der Sicherheit, des Umweltschutzes und/oder der Kraftstoffeinsparung - vor allem für die kleine Küstenfischerei und die handwerkliche Fischerei - gewähren sollte; dass ein mittel- und langfristiger Plan von der Kommission erstellt wird, mit dessen Hilfe die Kraftstoffeffizienz im Fischereisektor (einschließlich der Aquakultur) verbessert werden soll; dass die Kommission dazu aufgefordert wird, einen Aktionsplan für Küstenregionen und Inseln vorzuschlagen, die einen aktiven Fischereisektor aufweisen, um die Kraftstoffeffizienz im Fischerei- und Aquakultursektor zu verbessern.\\n'}, {'token_index': 20, 'prompt_index': 579, 'prompt': 'Angesichts dessen möchte ich die folgenden Erfordernisse hervorheben: a) Unternehmen, die iranische Behörden mit Geräten und Technologie beliefern, die auf Zensur und Überwachung abzielen und für europäische Unternehmen verboten werden müssen, müssen strengstens verurteilt werden; b) die Anerkennung der absoluten Notwendigkeit zur Achtung des Wiener Übereinkommens und der Regeln der Diplomatie muss erbeten, oder besser noch, gefordert werden; c) iranische Organisationen oder Beamte, die im Ausland tätig sind und für die Unterdrückung und Einschränkung der Freiheiten im Iran verantwortlich sind, sowie diejenigen, die mit der Verletzung internationaler Verpflichtungen des Irans im Hinblick auf die Atomfrage in Verbindung stehen, müssen stärker sanktioniert werden; und d) trotz allem muss ein kontinuierlicher und tiefgehender Dialog mit dem Iran, insbesondere mit der Zivilgesellschaft, gefördert werden.\\n'}])\n",
            "(('its', 'bed'), [{'token_index': 201, 'prompt_index': 529, 'prompt': 'Abschließend möchte ich die Aufmerksamkeit der Kommission auf den Vorschlag lenken, bis spätestens Ende dieses Jahres ein Programm zur Stärkung der Zusammenarbeit zwischen den nationalen Logistikplänen der Mitgliedstaaten aufzulegen, das dazu beitragen könnte, effektivere Rezepte für die Überwindung der derzeitigen Ressourcenknappheit zu entwickeln und den Bedürfnissen eines Schlüsselsektors jetzt, in diesem wirtschaftlichen Klima, gerecht zu werden, in dem die Treibstoffpreise, die sich aus der Bekämpfung des Klimawandels ergebenden Anforderungen, die mit der Erweiterung entstandenen Randlagen und die teilweise gefährlichen Arbeitsbedingungen in diesem Sektor die Dringlichkeit der Umsetzung intelligenter, innovativer und attraktiver Lösungen nahelegen, die uns nur ein ehrgeiziger Europäischer Logistikaktionsplan bieten kann.\\n'}])\n",
            "(('ug', 'n'), [{'token_index': 248, 'prompt_index': 861, 'prompt': 'Dieser Plan muß auf drei Pfeilern beruhen: erstens, die Förderung der Regionalisierung als einziger institutioneller Form, die es ermöglicht, die positiven Auswirkungen der Globalisierung auszunutzen und die negativen zu mildern; zweitens, die Förderung eines auf parlamentarischen Spielregeln beruhenden Regionalismus, der das modernste System ist, um zur einer Politik der Wahrung der Menschenrechte und der politischen Rechte in diesen Ländern zu gelangen und den sozialen Dialog einzubeziehen, und in diesem Zusammenhang ist es wirklich bedauerlich, daß im Dokument von Florenz nicht vom PARLACEN die Rede ist; drittens schließlich, zweckgebundene Beihilfen, vorzugsweise für Gemeinden und lokale Behörden, unter einer intelligenten und konsequenten Kontrolle der Kommission und des Parlaments im Rahmen ihrer Befugnisse, um zu verhindern, daß Manipulationen bezüglich der Empfänger zu neuen Spannungen in Ländern führen können, die, wie Guatemala, gerade einen Bürgerkrieg hinter sich haben.\\n'}])\n",
            "(('hn', 'ten'), [{'token_index': 170, 'prompt_index': 164, 'prompt': 'Was schließlich das Kapitel über die soziale, kulturelle und humanitäre Partnerschaft betrifft, so war die Ratspräsidentschaft bemüht, auf die Herausforderungen zu antworten, die aus so relevanten Fragen wie der Einwanderung, dem Dialog zwischen Kulturen und Zivilisationen oder der Beteiligung der verschiedenen Akteure der Zivilgesellschaft am Aufbau der euro-mediterranen Beziehungen ergeben. Dabei hat sie eine Reihe von Maßnahmen in den Aktionsplan eingebunden, von denen ich folgende hervorheben möchte: erstens die Verabschiedung des bereits erwähnten Rahmendokuments über Justiz und Inneres, das zum Beispiel so bedeutsame Themen wie die Drogenbekämpfung, den Kampf gegen das organisierte Verbrechen, den Kampf gegen den Terrorismus, die Behandlung der Migrationsströme und des Personenverkehrs usw. enthält.\\n'}])\n",
            "((' B', 'ür'), [{'token_index': 27, 'prompt_index': 923, 'prompt': 'A4-0090/97 von Herrn Medina Ortega im Namen des Ausschusses für Recht und Bürgerrechte über den Vorschlag für eine Verordnung des Rates (KOM(96)0372 - C4-0651/96-96/0198(CNSS) zur Änderung der Verordnung (EG) Nr. 40/94 des Rates vom 20. Dezember 1993 über die Gemeinschaftsmarke, damit der Beitritt der Europäischen Gemeinschaft zum Protokoll zum Madrider Abkommen über die internationale Registrierung von Marken, unterzeichnet in Madrid am 27. Juni 1989, wirksam wird; -A4-0092/97 von Herrn Medina Ortega im Namen des Ausschusses für Recht und Bürgerrechte über den Vorschlag für eine Entscheidung des Rates (KOM(96)0367 - C4-0554/96-96/0190(CNS)) über die Genehmigung des Beitritts der Europäischen Gemeinschaft zum Protokoll zum Madrider Abkommen über die internationale Registrierung von Marken, unterzeichnet in Madrid am 27. Juni 1989.\\n'}, {'token_index': 26, 'prompt_index': 791, 'prompt': 'A4-0095/96 von Herrn Lehne im Namen des Ausschusses für Recht und Bürgerrechte über den Vorschlag für eine Richtlinie des Europäischen Parlaments und des Rates (KOM(95)0348 - C4-0357/95-95/0202(COD)) zur Änderung der Richtlinie 68/360/EWG zur Aufhebung der Reise- und Aufenthaltsbeschränkungen für Arbeitnehmer der Mitgliedstaaten und ihrer Familienangehörigen innerhalb der Gemeinschaft und der Richtlinie 73/148/EWG zur Aufhebung der Reise- und Aufenthaltsbeschränkungen für Staatsangehörige der Mitgliedstaaten innerhalb der Gemeinschaft auf dem Gebiet der Niederlassung und des Dienstleistungsverkehrs; -A4-0219/96 von Herrn Ford im Namen des Ausschusses für Grundfreiheiten und innere Angelegenheiten über den Vorschlag für eine Richtlinie des Rates (KOM(95)0347 - C4-0468/95-95/0201(CNS)) zur Beseitigung der Personenkontrollen an den Binnengrenzen; -A4-0218/96 von Herrn Linzer im Namen des Ausschusses für Grundfreiheiten und innere Angelegenheiten über den Vorschlag für eine Richtlinie des Rates (KOM(95)0347 - C4-0468/95-95/0201(CNS)) über die Reisefreiheit Staatsangehöriger von Drittländern innerhalb der Gemeinschaft.\\n'}])\n",
            "(('hr', 'te'), [{'token_index': 107, 'prompt_index': 251, 'prompt': 'Änderungsantrag 16, Änderungsanträge 14, 15, 26, 29, 30 und 75 können wir nicht akzeptieren - aus den bereits genannten Gründen, d. h. sie sind aufgrund positiver Entwicklungen im Rat zu diesen Fragen überflüssig; Änderungsanträge 53, 55 und 76 zu den Vertragsbediensteten - weil die Kommission, wie ich bereits ausführte, Änderungsanträge 52 und 54 des Ausschusses für Recht und Binnenmarkt unterstützt; Änderungsantrag 32 zur Anwendung des Artikels 50 auf die Besoldungsgruppe AD 12 - wir halten dies für unpassend; Änderungsantrag 63 zur sexuellen Belästigung, da die Kommission den von den Berichterstattern in Änderungsantrag 17 vorgelegten Text unterstützt, und schließlich Änderungsantrag 64 zur Auslandszulage, weil die Kommission an der Auffassung festhält, dass die Zulage für im Ausland tätige Bedienstete objektiv gerechtfertigt und sogar objektiv notwendig ist.\\n'}, {'token_index': 127, 'prompt_index': 1760, 'prompt': 'Auf Anforderung haben Sie uns und alle Angehörigen des Unternehmens gegen alle wie auch immer verursachten Verluste, Kosten, Auslagen, Ansprüche, Forderungen, Verpflichtungen und Schäden (einschließlich Kosten für die Rechtsverteidigung) schadlos zu halten, die sich aus folgenden Umständen oder in Verbindung mit diesen ergeben können: (i) Der Ihnen im Rahmen dieser Vereinbarung gewährte Zugriff auf unsere Webseite, auf die G2S-Dienste oder alle Ihnen zugänglich gemachten Informationen durch Sie oder andere, darunter auch Karteninhaber; (ii) Verletzung von Bestimmungen dieser Vereinbarung, darunter Erklärungen, Garantien und Zusagen durch Sie oder andere in Ihrem Namen; oder (iii) Ansprüche Dritter, darunter Karteninhaber, erwerbende Banken, Emissionsbanken oder Kreditkartenvereinigungen, die sich aus Ihrer Website, aus von uns wiederverkauften Produkten und Dienstleistungen oder der Verwendung unserer G2S-Dienste oder aus dem Zusammenhang mit diesen ergeben.\\n'}])\n",
            "(('z', 'uden'), [{'token_index': 300, 'prompt_index': 1171, 'prompt': 'Die von uns eingebrachten Änderungsanträge, zu denen wir die Meinung der Kommission erfahren möchten, und die der Rat hoffentlich bei seiner Stellungnahme als entschlossenen Willen des Europäischen Parlaments betrachten wird, zielen insbesondere darauf ab, die Modalitäten und Definitionen vonInformation und Anhörung genauer festzulegen - vor allem was den Zeitpunkt betrifft, zu dem die Informationen übermittelt werden müssen, nämlich in der Planungsphase, damit sich die Arbeitnehmer rechtzeitig auf die künftigen Entwicklungen einstellen können, aber auch was den Inhalt der Information betrifft, der auf andere Bereiche ausgeweitet werden muß, die in direktem Zusammenhang mit den Rechten der Arbeitnehmer und ihrer Zukunft stehen. Ein weiteres Ziel ist, den Anwendungsbereich der Richtlinie auszuweiten; hierzu schlagen wir vor, ihn auf den öffentlichen Dienst auszudehnen und die Mitgliedstaaten zu verpflichten, über Möglichkeiten der Einbeziehung kleiner und mittlerer Unternehmen nachzudenken.\\n'}, {'token_index': 273, 'prompt_index': 771, 'prompt': 'Frau Präsidentin, da die Kommission ihren Vorschlag mit Erwägungen aufrechterhält, die in keinster Weise überzeugend sind, und nachdem ich Berichterstatter für das Thema der Weinbaureform gewesen bin - auf deren Einführung durch den Ministerrat wir nun schon seit langer, seit allzu langer Zeit warten - und in Anbetracht der Tatsache, daß seit März 1995 ein Verhaltenskodex für die Beziehungen zwischen Kommission und Parlament existiert, der für den Fall, daß das Parlament einen Kommissionsvorschlag zurückweist, vorsieht, daß die Kommission die Pflicht hat, diesen zurückzuziehen, und da das im vorliegenden Fall nicht geschehen ist und ich wirklich nicht derart wichtige und außergewöhnliche Erwägungen gehört habe, die eine erneute Vorlage rechtfertigen würden, möchte ich das Parlament bitten, die Abstimmung auf die nächste Tagung zu verschieben, so daß die Kommission Zeit hat, noch einmal nachzudenken und überzeugendere Argumente auszuarbeiten.\\n'}])\n",
            "(('nd', 'lichen'), [{'token_index': 24, 'prompt_index': 106, 'prompt': 'An erster Stelle stehen unseres Erachtens Lösungen wie die Entwicklung des ländlichen Raums, die bei den Maßnahmen und der Zusammenarbeit der Union in den meisten der betroffenen Ländern bereits eine wichtige Rolle spielt und hoffentlich durch die Bündelung der Bemühungen noch verstärkt wird, sei es durch die Unterstützung der Landesregierungen, damit diese ihre Entwicklungspolitik entsprechend ausrichten - und wir haben die Möglichkeit dazu - sei es durch die Unterstützung von Projekten der Nichtregierungsorganisationen oder der örtlichen Gebietskörperschaften, die auf die Diversifizierung der Produktion, die Verteilung der Ernteerträge und die Schaffung von alternativen Einkommensmöglichkeiten für Familien abzielen, sei es durch die Koordinierung mit anderen internationalen Gebern - den Mitgliedstaaten, den Bretton Woods Institutionen - oder durch die Bereitstellung von Programmen zur Bekämpfung der Armut in den betroffenen Ländern.\\n'}])\n",
            "(('ries', 'igen'), [{'token_index': 69, 'prompt_index': 457, 'prompt': 'Wenn ein Mitgliedstaat, der beschließt, eine unmissverständlichere Haltung zu seiner Vergangenheit einzunehmen und dies offen und würdig tut, plötzlich Zielscheibe des Drucks vonseiten seines riesigen Nachbarn wird; wenn seine Botschaft in Moskau eine ganze Woche lang praktisch in Geiselhaft genommen wird; wenn Aufstände zur Destabilisierung von Recht und Ordnung organisiert werden, die von einem anderen Staat ganz klar angeregt und unterstützt wurden; wenn russische Beamte den Rücktritt einer demokratisch gewählten Regierung fordern; wenn eine Wirtschaftsblockade verhängt wird; wenn Webseiten staatlicher estnischer Einrichtungen noch immer durch massive Angriffe blockiert werden - eine innovative Form von Propagandakrieg -, dann muss man sich um die Souveränität des betreffenden Staates wirklich ernsthaft Sorgen machen.\\n'}])\n",
            "(('mt', 'lic'), [{'token_index': 68, 'prompt_index': 294, 'prompt': 'Die vom Konvent für künftige Revisionen des Verfassungsvertrags vorgesehene Lösung beruht auf zwei Grundprinzipien: dem Erfordernis der einstimmigen Annahme und Ratifizierung für die formelle Änderung sämtlicher Verfassungsbestimmungen sowie dem Bestehen allgemeiner und spezifischer Klauseln, die – in einigen genau festgelegten Bereichen – auf einstimmigen Beschluss aller Mitgliedstaaten im Europäischen Rat und nach vorheriger Anhörung des Europäischen Parlaments sowie nach Unterrichtung der nationalen Parlamente eine Änderung der Abstimmungsregeln von der Einstimmigkeit auf die qualifizierte Mehrheit oder des Legislativverfahrens vom dem besonderen auf das ordentliche Verfahren, durch das die absolute Gleichstellung zwischen Rat und Europäischem Parlament sichergestellt wird, ermöglichen.\\n'}, {'token_index': 194, 'prompt_index': 2251, 'prompt': 'Teilnahme an den Handelsgesprächen im Inland und Ausland..WirtschaftsrechtSämtliche Rechtsgutachten und Vertretung der Handelsgesellschaften, Finanz- und Rechtsverhandlungen im Namen des Unternehmens, insbesondere:- Ausfertigung der Verträge und Satzungen der Gesellschaften;- Protokollführung von Vorstands- und Aufsichtsratssitzungen sowie Gesellschafterversammlungen der Handelsgesellschaften- Gründung, Eintragung und Umgestaltung der Handelsgesellschaften laut HGB-Vorschriften- Anmeldung von Änderungen und Bedienung In Registerchen (KRS);- Konkurs- und SanierungsrechtAusfertigung sämtlicher zivilrechtlichen Verträge für die Unternehmen:- Vertrag zur Forderungsübertragung- Darlehensverträge- Leihverträge- Kommissionsverträge- Werkverträge- Speditionsverträge- Beförderungsverträge- Vergleiche- Wechselnserklärungen \\x96 Blanko-WechselArbeitsrechtVertretung In arbeitsrechtlichen Streitsachen , Ausfertigung sämtlicher Arbeitsverträge, Arbeitsordnungen, und Vergütungsordnungen, laufende Beratung In arbeitsrechtlichen Sachen, Unterstützung der Personalabteilung WertpapierenrechtRechtshilfe In sämtlichen Sachen betreffend Wertpapiere: Wertpapiere auf Auftrag, Wechsel, Schecks, Erwerb der Wechsel durch Indossament, gerichtliche Geltendmachung aus Wechsel, Wechselausfüllung und Ausfertigung der Wechselerklärungen.SteuerrechtVertretung vor Finanzämtern, Finanzkammern und im Steuerverfahren.\\n'}, {'token_index': 193, 'prompt_index': 1091, 'prompt': 'In diesem Sinne kann ich mich nur für die Ankündigung des Kommissars im Sommer dieses Jahres bedanken, eine aus drei Dienststellen bestehende Direktion für Tourismus innerhalb der Generaldirektion XXIII zu schaffen, und ich glaube, daß wir uns mehrheitlich oder formell über die Befugnisse oder die Kompetenzen einig sind, die diese Dienststellen haben müßten, nämlich einerseits Gewährleistung der Zusammenarbeit und systematischen Konsultation mit anderen Generaldirektionen, Pflege einer engen und ständigen Verbindung mit der Industrie und mit den nationalen Fremdenverkehrsbüros, ex-ante- und ex-post-Bewertung sämtlicher Gemeinschaftsaktionen zur Förderung des Fremdenverkehrs und zur Erweiterung der den Touristen über alle Aspekte im Zusammenhang mit ihren Rechten und Pflichten als Verbraucher angebotenen Informationen.\\n'}])\n",
            "(('acht', 'et'), [{'token_index': 248, 'prompt_index': 219, 'prompt': \"Ich habe im Namen unserer Fraktion einen letzten Änderungsantrag eingereicht, den ich Ihnen hier vorstellen möchte: 'Das Europäische Parlament geht von den Schlussfolgerungen der von ihm in Auftrag gegebenen Gutachten aus, wonach die Präsidentendekrete aus Sicht des EU-Rechts kein Hindernis für den EU-Beitritt Tschechiens sind, was einschließt, dass nach dem Beitritt des Landes alle EU-Bürger auf dem Gebiet der Tschechischen Republik die gleichen Rechte haben, dass in absentia-Urteile außer Kraft gesetzt werden und dass das Gesetz Nr. 115 vom 8. Mai 1946 vom Standpunkt moderner Rechtsstaatlichkeit keine Existenzberechtigung hat' - lassen Sie mich wiederholen, 'dass das Gesetz Nr. 115 vom 8. Mai 1946 vom Standpunkt moderner Rechtsstaatlichkeit keine Existenzberechtigung hat; erachtet die grundsätzlichen Aussagen der deutsch-tschechischen Erklärung vom 21. Januar 1997 als eine gute Grundlage für die Versöhnung, die die moralische Basis für die europäische Einigung darstellt; hält eine politische Geste der tschechischen Seite in diesem Sinne für wünschenswert.'\\n\"}])\n",
            "(('ts', 'ver'), [{'token_index': 22, 'prompt_index': 1210, 'prompt': 'Ich möchte die Punkte ganz kurz aufzählen: die Reform des Haushaltsverfahrens mit der Aktualisierung desselben; die Ausweitung der Mitentscheidung im Haushaltsverfahren; die Einbeziehung der peripheren Institutionen in das System der Gemeinschaft; die Konsolidierung der Finanziellen Vorausschau im Sinne einer echten mittelfristigen Finanzplanung; die Reform des Systems der Eigenmittel mit dem Ziel der Sicherstellung der Autonomie und der finanziellen Effizienz der Union einerseits sowie der Transparenz des Gemeinschaftshaushalts andererseits, was bedeutet, daß es eine Mitentscheidung in bezug auf die Festsetzung des Gesamtniveaus der Eigenmittel geben muß; die Einführung der Möglichkeit, über fiskalische Instrumente auf europäischer Ebene zu verfügen; die Möglichkeit für die Haushaltsbehörde, die Zusammenstellung der einzelnen Kategorien von Mitteln von einem Jahr zum anderen zu beeinflussen; sowie die Ausweitung der legislativen Mitentscheidung und der Beschlußfassung mit qualifizierter Mehrheit auf die finanziellen Verordnungen bei allen Programmen oder Instrumenten, die zu Gemeinschaftsausgaben führen, die GAP-Verordnungen und alle Rechtsakte, mit denen einer Exekutivagentur errichtet wird.\\n'}])\n",
            "(('sp', 'rin'), [{'token_index': 22, 'prompt_index': 14, 'prompt': 'Meines Erachtens kann die Europäische Union, unter Einhaltung des Subsidiaritätsprinzips, mit folgenden Maßnahmen die Tätigkeit der Mitgliedstaaten ergänzen und zur Stärkung des Tourismuspotentials beitragen: Schaffung einer spezifischen Rechtsgrundlage für die Tourismuspolitik in den Verträgen; Schaffung von Programm- und Projektmechanismen in der Regionalpolitik und den anderen Politiken der Union, um den Tourismus in all seinen Formen - Agro- und Umwelttourismus, Kultur-, Forschungs-, Bildungs- und Kongreßtourismus, Kur-, Senioren- und Sporttourismus - zu fördern; Änderung der Richtlinie 95/57/EG über die Erhebung statistischer Daten im Bereich des Tourismus; Kofinanzierung von Projekten zur Schaffung neuer Dienstleistungen und Infrastrukturen im Verkehrswesen; Kofinanzierung von Pilotaktionen zum Erfahrungsaustausch und benchmarking.\\n'}])\n",
            "(('us', 'chen'), [{'token_index': 317, 'prompt_index': 2064, 'prompt': 'Beachten Sie dies bitte, wenn Sie sensible Daten eingeben (z.B. Ihre Kreditkartennummer, Bankverbindung oder Ihre Sozialversicherungsnummer). Soweit Ihnen auf dieser Website ermöglicht wird, Inhalte oder Dateien einzugeben oder einzusenden (z.B. Foren, Chatrooms, Supportformular, Mailfunktionen), dürfen Sie diese Möglichkeit nicht dazu missbrauchen, Inhalte einzugeben, einzusenden oder sonst wie zu verbreiten, die - anstößig sind oder gegen Gesetze verstoßen, insbesondere andere verletzen, herabsetzen oder zu Hass oder Gewalt aufstacheln oder pornografisch sind, - andere Benutzer dieser Website oder den Betrieb dieser Website beeinträchtigen, - Viren enthalten, - Schadensersatzansprüche auslösen können, - die Rechte anderer (z.B. Urheberrechte, Verwertungsrechte, Rechte zum Schutz geistigen Eigentums, Markenrechte, Persönlichkeitsrechte) verletzen, - gegen die Politik oder die Überzeugungen von Steinberg verstoßen, oder - über ihren Absender oder Ursprung täuschen.\\n'}, {'token_index': 320, 'prompt_index': 409, 'prompt': 'Zählen Sie nicht auf uns, um den deutschen Beschäftigten des öffentlichen Dienstes, die sich gegen die Verlängerung der Arbeitszeit und die Absenkung ihrer Vergütung wehren; um den italienischen Arbeitnehmern, die die Abschaffung des Gesetzes Nr.\\xa030 fordern, jeder Maschine zur Erzeugung von Unsicherheit; um den jungen Franzosen, die gegen das Vorhaben eines auf zwei Jahre befristeten Arbeitsvertrages demonstrieren, das es den Unternehmern ermöglicht, Entlassungen nach ihrem Gutdünken vorzunehmen; um den britischen Arbeitnehmerinnen, die gegen die Anhebung des Renteneintrittsalters von 60 auf 65\\xa0Jahre protestieren; um den Arbeitnehmern in den neuen Mitgliedsländern in Mitteleuropa, die nicht wollen, dass ihre Länder als Niedrigkostenzone gilt, und ihre Rechte auf sozialen Fortschritt einfordern; oder um all jenen, die gegen die Strategie der Kürzung der öffentlichen und sozialen Ausgaben im Rahmen des Stabilitätspakts kämpfen, zu erklären, dass sie sich täuschen, weil die Strategie von Lissabon entgegen allem Anschein nur zu ihrem Glück beitragen wird!\\n'}, {'token_index': 252, 'prompt_index': 2273, 'prompt': 'Die Ankunft des russischen Archimandriten Uspenski in Jerusalem im Jahre 1843 und die Gründung der Orthodoxen Russischen Mission 1848 verstärkten die orthodoxe Präsenz, schufen aber gleichzeitig von Seiten der Russischen Mission ein künstliches Klima der Gegenüberstellung zwischen der griechischsprachigen Bruderschaft vom Heiligen Grab und ihrer arabischsprachigen Gemeinde, so daß die Einmischung russischer Interessen in die kirchlichen Angelegenheiten Jerusalems und „das Anspannen der Gemeinde vor den russischen Karren\" einfach war. Diese Politik, die von Anfang an selbst von Russland kritisiert wurde, erreichte ihren Höhepunkt in den Ereignissen, die zum Ende des Patriarchates des berühmten Jerusalemer Patriarchen Kyrill II führten, der, nachdem er sich von den russischen Diplomaten in Konstantinopel hatte täuschen lassen, die Teilnahme an der 1872 herrschenden synodalen Verurteilung des Bulgarischen Schismas und des dahinter verborgenen Nationalismus und Panslavismus vermied.\\n'}])\n",
            "(('ch', 'ät'), [{'token_index': 148, 'prompt_index': 847, 'prompt': 'Abgesehen von den direkten haushaltspolitischen Auswirkungen, das heißt der Bereitstellung finanzieller Mittel für die Beitrittsländer, sei es im Rahmen der Vorbereitung ihres Beitritts, sei es nach ihrem Beitritt, beispielsweise für ihre Teilnahme an den Unionspolitiken oder für Verwaltungsausgaben zur Entlohnung von Personal und für alle möglichen anderen Einrichtungen, dürfen wir auch die indirekten haushaltspolitischen Konsequenzen nicht unterschätzen, also Ausgaben für die Stärkung des Zusammenhalts und der Konvergenz der derzeitigen Mitgliedstaaten und in der Folge Ausgaben im Zusammenhang mit der eventuellen Anpassung an die Politiken der Union: an die Gemeinsame Agrarpolitik, an die Strukturpolitiken usw. Diese Ausgaben sind unvermeidlich, sie fallen ohnehin an, müssen aber von nun an im Rahmen des möglichen Beitritts neuer Mitgliedstaaten geprüft werden, wenn sie realistisch bewertet und konsequent umgesetzt werden sollen.\\n'}])\n",
            "((' he', 'ute'), [{'token_index': 143, 'prompt_index': 1109, 'prompt': 'Herr Präsident, ich möchte zunächst den Berichterstatter, Herrn van Velzen, beglückwünschen, der es verstanden hat, die grundlegenden Themen dieses wichtigen Aspekts der Wirtschaft, nämlich der Beschäftigung, zu erfassen, und dies in einer Phase der Ungewißheit, denn es steht wohl außer Zweifel, daß wir es im Vergleich zu den Schlußfolgerungen, zu denen die Regierungen der Mitgliedstaaten im November 1997 gelangt waren, heute mit einer völlig veränderten Situation zu tun haben, sei es innerhalb der Gemeinschaft, wo inzwischen die dritte Phase der Wirtschafts- und Währungsunion begonnen hat und es den Stabilitätspakt mit all seinen Konsequenzen gibt, sei es in der übrigen Welt, wo sich unleugbar gerade in letzter Zeit besonders gravierende Veränderungen vollzogen haben: Es ist zweifellos eine Rezession im Gange, von der, wie auch der Berichterstatter hervorgehoben hat, mindestens 40 % der Weltbevölkerung betroffen sind und deren stürmische Ausläufer zwar Europa und Nordamerika bislang verschont haben, wofür es jedoch keinerlei Garantie für die Zukunft gibt.\\n'}])\n",
            "(('for', 'dern'), [{'token_index': 15, 'prompt_index': 579, 'prompt': 'Angesichts dessen möchte ich die folgenden Erfordernisse hervorheben: a) Unternehmen, die iranische Behörden mit Geräten und Technologie beliefern, die auf Zensur und Überwachung abzielen und für europäische Unternehmen verboten werden müssen, müssen strengstens verurteilt werden; b) die Anerkennung der absoluten Notwendigkeit zur Achtung des Wiener Übereinkommens und der Regeln der Diplomatie muss erbeten, oder besser noch, gefordert werden; c) iranische Organisationen oder Beamte, die im Ausland tätig sind und für die Unterdrückung und Einschränkung der Freiheiten im Iran verantwortlich sind, sowie diejenigen, die mit der Verletzung internationaler Verpflichtungen des Irans im Hinblick auf die Atomfrage in Verbindung stehen, müssen stärker sanktioniert werden; und d) trotz allem muss ein kontinuierlicher und tiefgehender Dialog mit dem Iran, insbesondere mit der Zivilgesellschaft, gefördert werden.\\n'}])\n",
            "(('re', 'ib'), [{'token_index': 231, 'prompt_index': 1569, 'prompt': '5.4 Sie verpflichten sich, mit gebotener Sorgfalt dafür zu sorgen, dass die Programme, Broadcasts und/oder die Skype-Software (i) nicht für Angriffe auf Einzelpersonen, Organisationen, Glaubensrichtungen oder Glaubensgemeinschaften verwendet werden; (ii) keine gesetzlich verbotenen Mitteilungen oder Werbeaussagen enthalten; (iii) nicht für falsche oder ungerechtfertigte Aussagen oder Behauptungen bezüglich eines Produkts oder einer Dienstleistung verwendet werden; (iv) keine Inhalte oder Mitteilungen enthalten, die inhaltlich oder in der Darstellung verleumderisch, obszön, schändlich, unanständig, vulgär, abstoßend oder beleidigend sind; (v) keine Empfehlungen enthalten, die nicht belegt werden können; (vi) keine Beschreibungen oder Verweise auf Themen enthalten, die nicht als Diskussionsthemen für Gruppen in sozialen Netzwerken geeignet sind (z. B. vulgäre oder obszöne Inhalte) oder (vii) nicht in Verbindung mit Werbematerial oder Mitteilungen verwendet werden, die nach Einschätzung von Skype schädlich oder nachteilig für die Öffentlichkeit, Skype oder ehrliche Werbeagenturen sowie seriöse Unternehmen im Allgemeinen sind.\\n'}])\n",
            "(('z', 'te'), [{'token_index': 144, 'prompt_index': 641, 'prompt': 'schriftlich. -Das Europäische Parlament hat heute abgestimmt, und es (1) fordert die beteiligten Institutionen auf, die notwendigen Bemühungen zur Beschleunigung der Inanspruchnahme des EGF zu unternehmen; (2) erinnert an die von den Organen eingegangene Verpflichtung, ein reibungsloses und zügiges Verfahren für die Annahme von Beschlüssen über die Inanspruchnahme des Fonds zu gewährleisten und eine einmalige, zeitlich begrenzte und personenbezogene Unterstützung für Arbeitnehmer zu leisten, die infolge der Globalisierung und der Wirtschafts- und Finanzkrise entlassen wurden; hebt hervor, dass der EGF in diesem Zusammenhang eine entscheidende Rolle bei der Wiedereingliederung entlassener Arbeitnehmer in den Arbeitsmarkt übernehmen kann; (3) betont, dass in Übereinstimmung mit Artikel 6 der EGF-Verordnung sichergestellt werden sollte, dass der EGF bei der Wiedereingliederung der einzelnen entlassenen Arbeitnehmer in das Arbeitsleben behilflich ist; weist erneut darauf hin, dass die Unterstützung aus dem EGF kein Ersatz für Maßnahmen, die gemäß nationalem Recht oder den Tarifverträgen den Unternehmen obliegen, oder für Maßnahmen zur Umstrukturierung von Unternehmen oder Sektoren sein darf.\\n'}, {'token_index': 393, 'prompt_index': 618, 'prompt': 'schriftlich. - In der Erwägung, dass die finanzielle Unterstützung der Union für entlassene Arbeitnehmer im Einklang mit der in der Konzertierungssitzung vom 17. Juli 2008 angenommenen Gemeinsamen Erklärung des Europäischen Parlaments, des Rates und der Kommission dynamischen Charakter haben und unter gebührender Beachtung der IIV vom 17. Mai 2006 bei der Annahme von Beschlüssen zur Inanspruchnahme des Fonds so zügig und effizient wie möglich bereitgestellt werden sollte; in der Erwägung, dass die Niederlande Unterstützung in Fällen beantragt haben, die 512 Entlassungen in dem Unternehmen NXL Semiconductors Netherlands betreffen, das im Bereich Elektronik in den NUTS-II-Regionen Gelderland und Eindhoven tätig ist; in der Erwägung, dass der Antrag die in der EGF-Verordnung festgelegten Kriterien für die Förderfähigkeit erfüllt, fordert das Europäische Parlament die beteiligten Organe auf, die erforderlichen Anstrengungen zu unternehmen, um die Inanspruchnahme des EGF zu beschleunigen; es erinnert an die von den Organen eingegangene Verpflichtung, ein reibungsloses und zügiges Verfahren für die Annahme von Beschlüssen über die Inanspruchnahme des Fonds zu gewährleisten und eine einmalige, zeitlich begrenzte und personenbezogene Unterstützung für Arbeitnehmer zu leisten, die infolge der Globalisierung und der Wirtschafts- und Finanzkrise entlassen wurden; und unterstreicht, dass der EGF diesbezüglich eine wichtige Rolle bei der Wiedereingliederung von entlassenen Arbeitnehmern in den Arbeitsmarkt übernehmen kann.\\n'}])\n",
            "((' Um', 'verte'), [{'token_index': 202, 'prompt_index': 684, 'prompt': 'Das Europäische Parlament vertritt außerdem die Auffassung, dass mit dem EU-Haushaltsplan ein entscheidender Beitrag dazu geleistet werden müsse, dass die EU die gegenwärtige Wirtschafts- und Finanzkrise überwindet, weil er die Eigenschaft hat, als Katalysator zu fungieren und die Förderung von Investitionen, Wachstum und Beschäftigung in Europa zu beschleunigen. Es vertritt die Ansicht, dass der EU-Haushaltsplan die Folgen der gegenwärtigen restriktiven innerstaatlichen Haushaltspolitik zumindest abmildern könne; unterstreicht außerdem, dass eine Senkung des Volumens des EU-Haushaltsplans aufgrund seines Umverteilungscharakters der europäischen Solidarität Schaden zufügen und sich nachteilig auf den Rhythmus der wirtschaftlichen Entwicklung in vielen Mitgliedstaaten auswirken kann; ist der Ansicht, dass ein Ansatz, bei dem einzig und allein die Begriffe \"Nettozahler\" und \"Nettoempfänger\" im Mittelpunkt stehen, die Übertragungseffekte zwischen den einzelnen EU-Ländern nicht gebührend berücksichtigt und deshalb die gemeinsamen Ziele der EU-Politik untergräbt.\\n'}])\n",
            "(('ng', 'lichen'), [{'token_index': 94, 'prompt_index': 433, 'prompt': 'Insbesondere wurde das Bewusstsein für die Gemeinschaftsdimension des Euro verbessert, und den Teilnehmern wurde ein besseres Verständnis für die Rechtsvorschriften und die vorhandenen Instrumente vermittelt; es wurde eine Bindung der für den Zeitraum 2002-2006 vorgesehenen Mittel in Höhe von 80\\xa0% des ursprünglichen Richtwerts erreicht; 64\\xa0Projekte wurden unter Beteiligung von nicht weniger als 76\\xa0Ländern realisiert; die effektive Komplementarität der nationalen gemeinschaftlichen Aktionen gewann an Gewicht – 48 der 64\\xa0Initiativen gehen auf die Mitgliedstaaten zurück, während 16 von der Kommission oder von OLAF kamen; das Programm hat eine internationale Dimension angenommen, da nicht nur alle Mitgliedstaaten und die Beitrittskandidaten, sondern auch Drittstaaten einbezogen sind, in denen die Herstellung falscher Geldscheine verbreitet ist, wie z.\\xa0B. Kolumbien; erhebliche strukturelle Verbesserungen wurden mit der Schaffung und Einrichtung von nationalen Zentralstellen für die Bekämpfung der Geldfälschung erzielt; und es fand eine systematische Einbeziehung der Europäischen Zentralbank und anderer Organisationen wie EUROPOL, OLAF und INTERPOL statt.\\n'}, {'token_index': 263, 'prompt_index': 1085, 'prompt': 'In der teilweisen Enttäuschung sowohl über die beschäftigungspolitischen Leitlinien, die auf dem Beschäftigungsgipfel von Luxemburg verabschiedet wurden - auf dem das Thema Frauenbeschäftigung nicht mit in die ersten drei Pfeiler, sondern getrennt nur im vierten Pfeiler aufgenommen wurde -, als auch über die nationalen Aktionspläne, von denen einige völlig unzulänglich sind und keine quantifizierten Referenzziele enthalten, in der teilweisen Enttäuschung über die Ergebnisse der EU-Ministertagung (Frauen)in Belfast, die ohne konkrete Entscheidungen zu Ende ging, fordern wir mit dem vorliegenden Entschließungsantrag - der das Resultat unserer Zusammenarbeit und der von Kolleginnen und Kollegen sämtlicher Fraktionen eingereichten Änderungsanträge ist, die eine wichtige Bereicherung meines ursprünglichen Berichtes bedeuteten - die Kommission, den Rat und die Mitgliedstaaten mit Nachdruck auf, in die nächsten Beschäftigungsleitlinien sowie in die Leitlinien der Strukturfonds, Herr Kommissar Flynn, ehrgeizige Referenzziele mit Quantifizierungen, eindeutigen Zeitplänen und Haushaltsmitteln für deren Durchführung aufzunehmen, und wir fordern, daß bei den quantifizierten Referenzzielen die mittleren Werte der drei Mitgliedstaaten mit den besten Ergebnissen zugrunde gelegt werden.\\n'}])\n",
            "(('feren', ' Ver'), [{'token_index': 19, 'prompt_index': 860, 'prompt': 'Zu diesem Programm sollten Maßnahmen zur Modernisierung und tieferen Verankerung des Rechtsstaates gehören, die zum Beispiel auf die Bekämpfung der Straflosigkeit, die Förderung der Menschenrechte, die Unterstützung für Flüchtlinge und Heimkehrer, die demokratische Kontrolle der Streitkräfte und die Senkung der Militärausgaben sowie auf den Schutz der einheimischen Bevölkerung oder der Frauen abzielen könnten; ferner die Ausdehnung des neuen allgemeinen Präferenzsystems, das schon für die Länder des Andenpaktes gilt, auf die mittelamerikanische Industrie; ein zumindest teilweiser Erlaß der Auslandsschulden für die Länder der Region; Unterstützung der Bekämpfung des Drogenhandels und schließlich alle Maßnahmen, mit denen die Lebensqualität verbessert und mehr Gerechtigkeit erreicht werden kann durch, wie ich schon sagte, den Kampf gegen Armut, Marginalisierung und Ausschluß.\\n'}])\n"
          ]
        }
      ],
      "source": [
        "mlp_pattern = lambda name: name.endswith(\"mlp.hook_post\")\n",
        "top_k_indices, top_k_loss_diffs = get_high_loss_difference_prompts(wmt_german, [(mlp_pattern, deactivate_german_hook)], k=100)\n",
        "\n",
        "# with (open(\"clustered_high_loss_bigrams.txt\", \"w\")) as f:\n",
        "bigrams_dict = defaultdict(list)\n",
        "for prompt_index, token_index in top_k_indices.tolist():\n",
        "    prompt = wmt_german[prompt_index]\n",
        "    tokens = model.to_tokens(prompt)\n",
        "    token = model.to_single_str_token(tokens[0, token_index].item())\n",
        "    next_token = model.to_single_str_token(tokens[0, token_index + 1].item())\n",
        "\n",
        "    bigrams_dict[(token, next_token)].append({\"token_index\": token_index, \"prompt_index\": prompt_index, \"prompt\": prompt})\n",
        "    # f.write(str({\"token\": token, \"next_token\": next_token, \"token_index\": token_index, \"prompt\": prompt, \"prompt_index\": prompt_index}) + '\\n')"
      ]
    },
    {
      "cell_type": "code",
      "execution_count": 89,
      "metadata": {},
      "outputs": [
        {
          "name": "stdout",
          "output_type": "stream",
          "text": [
            "20 ('id', 'ig')\n",
            "7 ('rt', 'ige')\n",
            "5 (' Vert', 'rag')\n",
            "5 ('he', 'ben')\n",
            "4 ('ät', 'ig')\n",
            "4 ('nd', 'liche')\n",
            "3 ('in', 'we')\n",
            "3 (' Sie', ' mich')\n",
            "3 ('mt', 'lic')\n",
            "3 ('us', 'chen')\n",
            "2 ('lt', 'ig')\n",
            "2 ('bes', 'onde')\n",
            "2 ('d', 'ruck')\n",
            "2 ('st', 'abe')\n",
            "2 (' B', 'ür')\n",
            "2 ('hr', 'te')\n",
            "2 ('z', 'uden')\n",
            "2 ('z', 'te')\n",
            "2 ('ng', 'lichen')\n",
            "1 ('ass', 'enden')\n",
            "1 ('ge', 'hung')\n",
            "1 (' Lau', 'fb')\n",
            "1 (' Ans', 'icht')\n",
            "1 ('ät', 'igen')\n",
            "1 ('id', 'iger')\n",
            "1 ('ug', 'nis')\n",
            "1 ('ent', 'lichen')\n",
            "1 (' bef', 'assen')\n",
            "1 (' christ', 'lichen')\n",
            "1 ('in', 'w')\n",
            "1 ('its', 'bed')\n",
            "1 ('ug', 'n')\n",
            "1 ('hn', 'ten')\n",
            "1 ('nd', 'lichen')\n",
            "1 ('ries', 'igen')\n",
            "1 ('acht', 'et')\n",
            "1 ('ts', 'ver')\n",
            "1 ('sp', 'rin')\n",
            "1 ('ch', 'ät')\n",
            "1 (' he', 'ute')\n",
            "1 ('for', 'dern')\n",
            "1 ('re', 'ib')\n",
            "1 (' Um', 'verte')\n",
            "1 ('feren', ' Ver')\n"
          ]
        }
      ],
      "source": [
        "temp = dict(sorted(bigrams_dict.items(), key=lambda item: -len(item[1])))\n",
        "for key, value in temp.items():\n",
        "    print(len(value), key)"
      ]
    }
  ],
  "metadata": {
    "accelerator": "GPU",
    "colab": {
      "gpuType": "T4",
      "provenance": []
    },
    "kernelspec": {
      "display_name": "Python 3",
      "name": "python3"
    },
    "language_info": {
      "codemirror_mode": {
        "name": "ipython",
        "version": 3
      },
      "file_extension": ".py",
      "mimetype": "text/x-python",
      "name": "python",
      "nbconvert_exporter": "python",
      "pygments_lexer": "ipython3",
      "version": "3.10.11"
    },
    "widgets": {
      "application/vnd.jupyter.widget-state+json": {
        "12ad8931e84f4a72a44d37fc33908964": {
          "model_module": "@jupyter-widgets/base",
          "model_module_version": "1.2.0",
          "model_name": "LayoutModel",
          "state": {
            "_model_module": "@jupyter-widgets/base",
            "_model_module_version": "1.2.0",
            "_model_name": "LayoutModel",
            "_view_count": null,
            "_view_module": "@jupyter-widgets/base",
            "_view_module_version": "1.2.0",
            "_view_name": "LayoutView",
            "align_content": null,
            "align_items": null,
            "align_self": null,
            "border": null,
            "bottom": null,
            "display": null,
            "flex": null,
            "flex_flow": null,
            "grid_area": null,
            "grid_auto_columns": null,
            "grid_auto_flow": null,
            "grid_auto_rows": null,
            "grid_column": null,
            "grid_gap": null,
            "grid_row": null,
            "grid_template_areas": null,
            "grid_template_columns": null,
            "grid_template_rows": null,
            "height": null,
            "justify_content": null,
            "justify_items": null,
            "left": null,
            "margin": null,
            "max_height": null,
            "max_width": null,
            "min_height": null,
            "min_width": null,
            "object_fit": null,
            "object_position": null,
            "order": null,
            "overflow": null,
            "overflow_x": null,
            "overflow_y": null,
            "padding": null,
            "right": null,
            "top": null,
            "visibility": null,
            "width": null
          }
        },
        "134b8c6c0518410dace3a62cbbda02b1": {
          "model_module": "@jupyter-widgets/base",
          "model_module_version": "1.2.0",
          "model_name": "LayoutModel",
          "state": {
            "_model_module": "@jupyter-widgets/base",
            "_model_module_version": "1.2.0",
            "_model_name": "LayoutModel",
            "_view_count": null,
            "_view_module": "@jupyter-widgets/base",
            "_view_module_version": "1.2.0",
            "_view_name": "LayoutView",
            "align_content": null,
            "align_items": null,
            "align_self": null,
            "border": null,
            "bottom": null,
            "display": null,
            "flex": null,
            "flex_flow": null,
            "grid_area": null,
            "grid_auto_columns": null,
            "grid_auto_flow": null,
            "grid_auto_rows": null,
            "grid_column": null,
            "grid_gap": null,
            "grid_row": null,
            "grid_template_areas": null,
            "grid_template_columns": null,
            "grid_template_rows": null,
            "height": null,
            "justify_content": null,
            "justify_items": null,
            "left": null,
            "margin": null,
            "max_height": null,
            "max_width": null,
            "min_height": null,
            "min_width": null,
            "object_fit": null,
            "object_position": null,
            "order": null,
            "overflow": null,
            "overflow_x": null,
            "overflow_y": null,
            "padding": null,
            "right": null,
            "top": null,
            "visibility": null,
            "width": null
          }
        },
        "15de438672ee4e6799f3584814896c94": {
          "model_module": "@jupyter-widgets/controls",
          "model_module_version": "1.5.0",
          "model_name": "HTMLModel",
          "state": {
            "_dom_classes": [],
            "_model_module": "@jupyter-widgets/controls",
            "_model_module_version": "1.5.0",
            "_model_name": "HTMLModel",
            "_view_count": null,
            "_view_module": "@jupyter-widgets/controls",
            "_view_module_version": "1.5.0",
            "_view_name": "HTMLView",
            "description": "",
            "description_tooltip": null,
            "layout": "IPY_MODEL_95746cf5fbc5435795b4edce0a680ac7",
            "placeholder": "​",
            "style": "IPY_MODEL_e823f1b13e404b2da50eef8bff1f0787",
            "value": "Downloading (…)okenizer_config.json: 100%"
          }
        },
        "1d2120f18137477dbe37c44d91e22462": {
          "model_module": "@jupyter-widgets/base",
          "model_module_version": "1.2.0",
          "model_name": "LayoutModel",
          "state": {
            "_model_module": "@jupyter-widgets/base",
            "_model_module_version": "1.2.0",
            "_model_name": "LayoutModel",
            "_view_count": null,
            "_view_module": "@jupyter-widgets/base",
            "_view_module_version": "1.2.0",
            "_view_name": "LayoutView",
            "align_content": null,
            "align_items": null,
            "align_self": null,
            "border": null,
            "bottom": null,
            "display": null,
            "flex": null,
            "flex_flow": null,
            "grid_area": null,
            "grid_auto_columns": null,
            "grid_auto_flow": null,
            "grid_auto_rows": null,
            "grid_column": null,
            "grid_gap": null,
            "grid_row": null,
            "grid_template_areas": null,
            "grid_template_columns": null,
            "grid_template_rows": null,
            "height": null,
            "justify_content": null,
            "justify_items": null,
            "left": null,
            "margin": null,
            "max_height": null,
            "max_width": null,
            "min_height": null,
            "min_width": null,
            "object_fit": null,
            "object_position": null,
            "order": null,
            "overflow": null,
            "overflow_x": null,
            "overflow_y": null,
            "padding": null,
            "right": null,
            "top": null,
            "visibility": null,
            "width": null
          }
        },
        "1e1e008f496548e9b79b4bdf868927d8": {
          "model_module": "@jupyter-widgets/controls",
          "model_module_version": "1.5.0",
          "model_name": "HTMLModel",
          "state": {
            "_dom_classes": [],
            "_model_module": "@jupyter-widgets/controls",
            "_model_module_version": "1.5.0",
            "_model_name": "HTMLModel",
            "_view_count": null,
            "_view_module": "@jupyter-widgets/controls",
            "_view_module_version": "1.5.0",
            "_view_name": "HTMLView",
            "description": "",
            "description_tooltip": null,
            "layout": "IPY_MODEL_1d2120f18137477dbe37c44d91e22462",
            "placeholder": "​",
            "style": "IPY_MODEL_7d277bd5adbf40a29a0b6ca1eb32c1d7",
            "value": "Downloading model.safetensors: 100%"
          }
        },
        "235344e7e74c44f39021b544dbf5c03d": {
          "model_module": "@jupyter-widgets/base",
          "model_module_version": "1.2.0",
          "model_name": "LayoutModel",
          "state": {
            "_model_module": "@jupyter-widgets/base",
            "_model_module_version": "1.2.0",
            "_model_name": "LayoutModel",
            "_view_count": null,
            "_view_module": "@jupyter-widgets/base",
            "_view_module_version": "1.2.0",
            "_view_name": "LayoutView",
            "align_content": null,
            "align_items": null,
            "align_self": null,
            "border": null,
            "bottom": null,
            "display": null,
            "flex": null,
            "flex_flow": null,
            "grid_area": null,
            "grid_auto_columns": null,
            "grid_auto_flow": null,
            "grid_auto_rows": null,
            "grid_column": null,
            "grid_gap": null,
            "grid_row": null,
            "grid_template_areas": null,
            "grid_template_columns": null,
            "grid_template_rows": null,
            "height": null,
            "justify_content": null,
            "justify_items": null,
            "left": null,
            "margin": null,
            "max_height": null,
            "max_width": null,
            "min_height": null,
            "min_width": null,
            "object_fit": null,
            "object_position": null,
            "order": null,
            "overflow": null,
            "overflow_x": null,
            "overflow_y": null,
            "padding": null,
            "right": null,
            "top": null,
            "visibility": null,
            "width": null
          }
        },
        "24c561e352e7457eafefc2869316fd1a": {
          "model_module": "@jupyter-widgets/base",
          "model_module_version": "1.2.0",
          "model_name": "LayoutModel",
          "state": {
            "_model_module": "@jupyter-widgets/base",
            "_model_module_version": "1.2.0",
            "_model_name": "LayoutModel",
            "_view_count": null,
            "_view_module": "@jupyter-widgets/base",
            "_view_module_version": "1.2.0",
            "_view_name": "LayoutView",
            "align_content": null,
            "align_items": null,
            "align_self": null,
            "border": null,
            "bottom": null,
            "display": null,
            "flex": null,
            "flex_flow": null,
            "grid_area": null,
            "grid_auto_columns": null,
            "grid_auto_flow": null,
            "grid_auto_rows": null,
            "grid_column": null,
            "grid_gap": null,
            "grid_row": null,
            "grid_template_areas": null,
            "grid_template_columns": null,
            "grid_template_rows": null,
            "height": null,
            "justify_content": null,
            "justify_items": null,
            "left": null,
            "margin": null,
            "max_height": null,
            "max_width": null,
            "min_height": null,
            "min_width": null,
            "object_fit": null,
            "object_position": null,
            "order": null,
            "overflow": null,
            "overflow_x": null,
            "overflow_y": null,
            "padding": null,
            "right": null,
            "top": null,
            "visibility": null,
            "width": null
          }
        },
        "28b474f979a14f18a58f1774b6d36dc5": {
          "model_module": "@jupyter-widgets/base",
          "model_module_version": "1.2.0",
          "model_name": "LayoutModel",
          "state": {
            "_model_module": "@jupyter-widgets/base",
            "_model_module_version": "1.2.0",
            "_model_name": "LayoutModel",
            "_view_count": null,
            "_view_module": "@jupyter-widgets/base",
            "_view_module_version": "1.2.0",
            "_view_name": "LayoutView",
            "align_content": null,
            "align_items": null,
            "align_self": null,
            "border": null,
            "bottom": null,
            "display": null,
            "flex": null,
            "flex_flow": null,
            "grid_area": null,
            "grid_auto_columns": null,
            "grid_auto_flow": null,
            "grid_auto_rows": null,
            "grid_column": null,
            "grid_gap": null,
            "grid_row": null,
            "grid_template_areas": null,
            "grid_template_columns": null,
            "grid_template_rows": null,
            "height": null,
            "justify_content": null,
            "justify_items": null,
            "left": null,
            "margin": null,
            "max_height": null,
            "max_width": null,
            "min_height": null,
            "min_width": null,
            "object_fit": null,
            "object_position": null,
            "order": null,
            "overflow": null,
            "overflow_x": null,
            "overflow_y": null,
            "padding": null,
            "right": null,
            "top": null,
            "visibility": null,
            "width": null
          }
        },
        "3e117101c1ef438aa0e51e985e4b6334": {
          "model_module": "@jupyter-widgets/base",
          "model_module_version": "1.2.0",
          "model_name": "LayoutModel",
          "state": {
            "_model_module": "@jupyter-widgets/base",
            "_model_module_version": "1.2.0",
            "_model_name": "LayoutModel",
            "_view_count": null,
            "_view_module": "@jupyter-widgets/base",
            "_view_module_version": "1.2.0",
            "_view_name": "LayoutView",
            "align_content": null,
            "align_items": null,
            "align_self": null,
            "border": null,
            "bottom": null,
            "display": null,
            "flex": null,
            "flex_flow": null,
            "grid_area": null,
            "grid_auto_columns": null,
            "grid_auto_flow": null,
            "grid_auto_rows": null,
            "grid_column": null,
            "grid_gap": null,
            "grid_row": null,
            "grid_template_areas": null,
            "grid_template_columns": null,
            "grid_template_rows": null,
            "height": null,
            "justify_content": null,
            "justify_items": null,
            "left": null,
            "margin": null,
            "max_height": null,
            "max_width": null,
            "min_height": null,
            "min_width": null,
            "object_fit": null,
            "object_position": null,
            "order": null,
            "overflow": null,
            "overflow_x": null,
            "overflow_y": null,
            "padding": null,
            "right": null,
            "top": null,
            "visibility": null,
            "width": null
          }
        },
        "43ced0e2afe842adb76917e866efad5a": {
          "model_module": "@jupyter-widgets/controls",
          "model_module_version": "1.5.0",
          "model_name": "ProgressStyleModel",
          "state": {
            "_model_module": "@jupyter-widgets/controls",
            "_model_module_version": "1.5.0",
            "_model_name": "ProgressStyleModel",
            "_view_count": null,
            "_view_module": "@jupyter-widgets/base",
            "_view_module_version": "1.2.0",
            "_view_name": "StyleView",
            "bar_color": null,
            "description_width": ""
          }
        },
        "486a05db96d54dce94d9093232b092c2": {
          "model_module": "@jupyter-widgets/controls",
          "model_module_version": "1.5.0",
          "model_name": "HTMLModel",
          "state": {
            "_dom_classes": [],
            "_model_module": "@jupyter-widgets/controls",
            "_model_module_version": "1.5.0",
            "_model_name": "HTMLModel",
            "_view_count": null,
            "_view_module": "@jupyter-widgets/controls",
            "_view_module_version": "1.5.0",
            "_view_name": "HTMLView",
            "description": "",
            "description_tooltip": null,
            "layout": "IPY_MODEL_df5bd50307694607b0985c1aa20fc6aa",
            "placeholder": "​",
            "style": "IPY_MODEL_d2a837ae13ce45ecab40d6f8893323df",
            "value": "Downloading (…)/main/tokenizer.json: 100%"
          }
        },
        "4c7c8602891e4ec0a1bace6af85fcb8d": {
          "model_module": "@jupyter-widgets/controls",
          "model_module_version": "1.5.0",
          "model_name": "DescriptionStyleModel",
          "state": {
            "_model_module": "@jupyter-widgets/controls",
            "_model_module_version": "1.5.0",
            "_model_name": "DescriptionStyleModel",
            "_view_count": null,
            "_view_module": "@jupyter-widgets/base",
            "_view_module_version": "1.2.0",
            "_view_name": "StyleView",
            "description_width": ""
          }
        },
        "5bd9d50732aa4f53b4030678954fc398": {
          "model_module": "@jupyter-widgets/base",
          "model_module_version": "1.2.0",
          "model_name": "LayoutModel",
          "state": {
            "_model_module": "@jupyter-widgets/base",
            "_model_module_version": "1.2.0",
            "_model_name": "LayoutModel",
            "_view_count": null,
            "_view_module": "@jupyter-widgets/base",
            "_view_module_version": "1.2.0",
            "_view_name": "LayoutView",
            "align_content": null,
            "align_items": null,
            "align_self": null,
            "border": null,
            "bottom": null,
            "display": null,
            "flex": null,
            "flex_flow": null,
            "grid_area": null,
            "grid_auto_columns": null,
            "grid_auto_flow": null,
            "grid_auto_rows": null,
            "grid_column": null,
            "grid_gap": null,
            "grid_row": null,
            "grid_template_areas": null,
            "grid_template_columns": null,
            "grid_template_rows": null,
            "height": null,
            "justify_content": null,
            "justify_items": null,
            "left": null,
            "margin": null,
            "max_height": null,
            "max_width": null,
            "min_height": null,
            "min_width": null,
            "object_fit": null,
            "object_position": null,
            "order": null,
            "overflow": null,
            "overflow_x": null,
            "overflow_y": null,
            "padding": null,
            "right": null,
            "top": null,
            "visibility": null,
            "width": null
          }
        },
        "5eae987c2e274d0dad1fef587498bee6": {
          "model_module": "@jupyter-widgets/controls",
          "model_module_version": "1.5.0",
          "model_name": "HTMLModel",
          "state": {
            "_dom_classes": [],
            "_model_module": "@jupyter-widgets/controls",
            "_model_module_version": "1.5.0",
            "_model_name": "HTMLModel",
            "_view_count": null,
            "_view_module": "@jupyter-widgets/controls",
            "_view_module_version": "1.5.0",
            "_view_name": "HTMLView",
            "description": "",
            "description_tooltip": null,
            "layout": "IPY_MODEL_de8d565a0b54464fb91d2f7e821c4389",
            "placeholder": "​",
            "style": "IPY_MODEL_4c7c8602891e4ec0a1bace6af85fcb8d",
            "value": " 2.11M/2.11M [00:00&lt;00:00, 16.7MB/s]"
          }
        },
        "5fc0f4ad749e4aa59d6f7d6b1cc1c084": {
          "model_module": "@jupyter-widgets/controls",
          "model_module_version": "1.5.0",
          "model_name": "HTMLModel",
          "state": {
            "_dom_classes": [],
            "_model_module": "@jupyter-widgets/controls",
            "_model_module_version": "1.5.0",
            "_model_name": "HTMLModel",
            "_view_count": null,
            "_view_module": "@jupyter-widgets/controls",
            "_view_module_version": "1.5.0",
            "_view_name": "HTMLView",
            "description": "",
            "description_tooltip": null,
            "layout": "IPY_MODEL_c78a4107880543b6a9ce617264baa63e",
            "placeholder": "​",
            "style": "IPY_MODEL_ae373bd04ac046208e2dcaec820a0b1f",
            "value": "Downloading (…)cial_tokens_map.json: 100%"
          }
        },
        "657ffa2b97f14cb8a932651b2817bb85": {
          "model_module": "@jupyter-widgets/controls",
          "model_module_version": "1.5.0",
          "model_name": "FloatProgressModel",
          "state": {
            "_dom_classes": [],
            "_model_module": "@jupyter-widgets/controls",
            "_model_module_version": "1.5.0",
            "_model_name": "FloatProgressModel",
            "_view_count": null,
            "_view_module": "@jupyter-widgets/controls",
            "_view_module_version": "1.5.0",
            "_view_name": "ProgressView",
            "bar_style": "success",
            "description": "",
            "description_tooltip": null,
            "layout": "IPY_MODEL_134b8c6c0518410dace3a62cbbda02b1",
            "max": 394,
            "min": 0,
            "orientation": "horizontal",
            "style": "IPY_MODEL_85901db32cbb4d1ab638a8f4957df50d",
            "value": 394
          }
        },
        "69e5c363fe1e43b3ad0d9dbbbc7ea1b2": {
          "model_module": "@jupyter-widgets/base",
          "model_module_version": "1.2.0",
          "model_name": "LayoutModel",
          "state": {
            "_model_module": "@jupyter-widgets/base",
            "_model_module_version": "1.2.0",
            "_model_name": "LayoutModel",
            "_view_count": null,
            "_view_module": "@jupyter-widgets/base",
            "_view_module_version": "1.2.0",
            "_view_name": "LayoutView",
            "align_content": null,
            "align_items": null,
            "align_self": null,
            "border": null,
            "bottom": null,
            "display": null,
            "flex": null,
            "flex_flow": null,
            "grid_area": null,
            "grid_auto_columns": null,
            "grid_auto_flow": null,
            "grid_auto_rows": null,
            "grid_column": null,
            "grid_gap": null,
            "grid_row": null,
            "grid_template_areas": null,
            "grid_template_columns": null,
            "grid_template_rows": null,
            "height": null,
            "justify_content": null,
            "justify_items": null,
            "left": null,
            "margin": null,
            "max_height": null,
            "max_width": null,
            "min_height": null,
            "min_width": null,
            "object_fit": null,
            "object_position": null,
            "order": null,
            "overflow": null,
            "overflow_x": null,
            "overflow_y": null,
            "padding": null,
            "right": null,
            "top": null,
            "visibility": null,
            "width": null
          }
        },
        "6a8510e60f6a42ccb9b28eb3cdb213a3": {
          "model_module": "@jupyter-widgets/controls",
          "model_module_version": "1.5.0",
          "model_name": "HTMLModel",
          "state": {
            "_dom_classes": [],
            "_model_module": "@jupyter-widgets/controls",
            "_model_module_version": "1.5.0",
            "_model_name": "HTMLModel",
            "_view_count": null,
            "_view_module": "@jupyter-widgets/controls",
            "_view_module_version": "1.5.0",
            "_view_name": "HTMLView",
            "description": "",
            "description_tooltip": null,
            "layout": "IPY_MODEL_c4043f0bde0040b69489b2c28d084a19",
            "placeholder": "​",
            "style": "IPY_MODEL_d87d2ba790df4d27bf8a5206650375b7",
            "value": "Downloading (…)lve/main/config.json: 100%"
          }
        },
        "6c9871bb7f174107b71a923d8cbcec62": {
          "model_module": "@jupyter-widgets/controls",
          "model_module_version": "1.5.0",
          "model_name": "HBoxModel",
          "state": {
            "_dom_classes": [],
            "_model_module": "@jupyter-widgets/controls",
            "_model_module_version": "1.5.0",
            "_model_name": "HBoxModel",
            "_view_count": null,
            "_view_module": "@jupyter-widgets/controls",
            "_view_module_version": "1.5.0",
            "_view_name": "HBoxView",
            "box_style": "",
            "children": [
              "IPY_MODEL_5fc0f4ad749e4aa59d6f7d6b1cc1c084",
              "IPY_MODEL_8cd0001481a84f86940302bce343e64f",
              "IPY_MODEL_f54bc35e7464486c9a60d02e628f3fe4"
            ],
            "layout": "IPY_MODEL_5bd9d50732aa4f53b4030678954fc398"
          }
        },
        "75d59b65b29749298ecec1241380a5fa": {
          "model_module": "@jupyter-widgets/base",
          "model_module_version": "1.2.0",
          "model_name": "LayoutModel",
          "state": {
            "_model_module": "@jupyter-widgets/base",
            "_model_module_version": "1.2.0",
            "_model_name": "LayoutModel",
            "_view_count": null,
            "_view_module": "@jupyter-widgets/base",
            "_view_module_version": "1.2.0",
            "_view_name": "LayoutView",
            "align_content": null,
            "align_items": null,
            "align_self": null,
            "border": null,
            "bottom": null,
            "display": null,
            "flex": null,
            "flex_flow": null,
            "grid_area": null,
            "grid_auto_columns": null,
            "grid_auto_flow": null,
            "grid_auto_rows": null,
            "grid_column": null,
            "grid_gap": null,
            "grid_row": null,
            "grid_template_areas": null,
            "grid_template_columns": null,
            "grid_template_rows": null,
            "height": null,
            "justify_content": null,
            "justify_items": null,
            "left": null,
            "margin": null,
            "max_height": null,
            "max_width": null,
            "min_height": null,
            "min_width": null,
            "object_fit": null,
            "object_position": null,
            "order": null,
            "overflow": null,
            "overflow_x": null,
            "overflow_y": null,
            "padding": null,
            "right": null,
            "top": null,
            "visibility": null,
            "width": null
          }
        },
        "76955885ee314bff9dcfd6f4ccac222c": {
          "model_module": "@jupyter-widgets/controls",
          "model_module_version": "1.5.0",
          "model_name": "ProgressStyleModel",
          "state": {
            "_model_module": "@jupyter-widgets/controls",
            "_model_module_version": "1.5.0",
            "_model_name": "ProgressStyleModel",
            "_view_count": null,
            "_view_module": "@jupyter-widgets/base",
            "_view_module_version": "1.2.0",
            "_view_name": "StyleView",
            "bar_color": null,
            "description_width": ""
          }
        },
        "7d277bd5adbf40a29a0b6ca1eb32c1d7": {
          "model_module": "@jupyter-widgets/controls",
          "model_module_version": "1.5.0",
          "model_name": "DescriptionStyleModel",
          "state": {
            "_model_module": "@jupyter-widgets/controls",
            "_model_module_version": "1.5.0",
            "_model_name": "DescriptionStyleModel",
            "_view_count": null,
            "_view_module": "@jupyter-widgets/base",
            "_view_module_version": "1.2.0",
            "_view_name": "StyleView",
            "description_width": ""
          }
        },
        "7eb155a619904aa282444c8142cae0d9": {
          "model_module": "@jupyter-widgets/controls",
          "model_module_version": "1.5.0",
          "model_name": "FloatProgressModel",
          "state": {
            "_dom_classes": [],
            "_model_module": "@jupyter-widgets/controls",
            "_model_module_version": "1.5.0",
            "_model_name": "FloatProgressModel",
            "_view_count": null,
            "_view_module": "@jupyter-widgets/controls",
            "_view_module_version": "1.5.0",
            "_view_name": "ProgressView",
            "bar_style": "success",
            "description": "",
            "description_tooltip": null,
            "layout": "IPY_MODEL_8bd80460fee146eaacc3d74c739e0486",
            "max": 534,
            "min": 0,
            "orientation": "horizontal",
            "style": "IPY_MODEL_a141f757f56440b08fdf63687130e369",
            "value": 534
          }
        },
        "85901db32cbb4d1ab638a8f4957df50d": {
          "model_module": "@jupyter-widgets/controls",
          "model_module_version": "1.5.0",
          "model_name": "ProgressStyleModel",
          "state": {
            "_model_module": "@jupyter-widgets/controls",
            "_model_module_version": "1.5.0",
            "_model_name": "ProgressStyleModel",
            "_view_count": null,
            "_view_module": "@jupyter-widgets/base",
            "_view_module_version": "1.2.0",
            "_view_name": "StyleView",
            "bar_color": null,
            "description_width": ""
          }
        },
        "870108f3dfca43d493e7ca8050dc23e0": {
          "model_module": "@jupyter-widgets/controls",
          "model_module_version": "1.5.0",
          "model_name": "HTMLModel",
          "state": {
            "_dom_classes": [],
            "_model_module": "@jupyter-widgets/controls",
            "_model_module_version": "1.5.0",
            "_model_name": "HTMLModel",
            "_view_count": null,
            "_view_module": "@jupyter-widgets/controls",
            "_view_module_version": "1.5.0",
            "_view_name": "HTMLView",
            "description": "",
            "description_tooltip": null,
            "layout": "IPY_MODEL_3e117101c1ef438aa0e51e985e4b6334",
            "placeholder": "​",
            "style": "IPY_MODEL_b2370feee46e4625888887c4a941346c",
            "value": " 394/394 [00:00&lt;00:00, 28.5kB/s]"
          }
        },
        "899cbb189b3f49f785bc4ea30f9ed728": {
          "model_module": "@jupyter-widgets/controls",
          "model_module_version": "1.5.0",
          "model_name": "ProgressStyleModel",
          "state": {
            "_model_module": "@jupyter-widgets/controls",
            "_model_module_version": "1.5.0",
            "_model_name": "ProgressStyleModel",
            "_view_count": null,
            "_view_module": "@jupyter-widgets/base",
            "_view_module_version": "1.2.0",
            "_view_name": "StyleView",
            "bar_color": null,
            "description_width": ""
          }
        },
        "8b72c7f1b1d54cee855b76dbc9eea2ef": {
          "model_module": "@jupyter-widgets/controls",
          "model_module_version": "1.5.0",
          "model_name": "DescriptionStyleModel",
          "state": {
            "_model_module": "@jupyter-widgets/controls",
            "_model_module_version": "1.5.0",
            "_model_name": "DescriptionStyleModel",
            "_view_count": null,
            "_view_module": "@jupyter-widgets/base",
            "_view_module_version": "1.2.0",
            "_view_name": "StyleView",
            "description_width": ""
          }
        },
        "8bd80460fee146eaacc3d74c739e0486": {
          "model_module": "@jupyter-widgets/base",
          "model_module_version": "1.2.0",
          "model_name": "LayoutModel",
          "state": {
            "_model_module": "@jupyter-widgets/base",
            "_model_module_version": "1.2.0",
            "_model_name": "LayoutModel",
            "_view_count": null,
            "_view_module": "@jupyter-widgets/base",
            "_view_module_version": "1.2.0",
            "_view_name": "LayoutView",
            "align_content": null,
            "align_items": null,
            "align_self": null,
            "border": null,
            "bottom": null,
            "display": null,
            "flex": null,
            "flex_flow": null,
            "grid_area": null,
            "grid_auto_columns": null,
            "grid_auto_flow": null,
            "grid_auto_rows": null,
            "grid_column": null,
            "grid_gap": null,
            "grid_row": null,
            "grid_template_areas": null,
            "grid_template_columns": null,
            "grid_template_rows": null,
            "height": null,
            "justify_content": null,
            "justify_items": null,
            "left": null,
            "margin": null,
            "max_height": null,
            "max_width": null,
            "min_height": null,
            "min_width": null,
            "object_fit": null,
            "object_position": null,
            "order": null,
            "overflow": null,
            "overflow_x": null,
            "overflow_y": null,
            "padding": null,
            "right": null,
            "top": null,
            "visibility": null,
            "width": null
          }
        },
        "8cd0001481a84f86940302bce343e64f": {
          "model_module": "@jupyter-widgets/controls",
          "model_module_version": "1.5.0",
          "model_name": "FloatProgressModel",
          "state": {
            "_dom_classes": [],
            "_model_module": "@jupyter-widgets/controls",
            "_model_module_version": "1.5.0",
            "_model_name": "FloatProgressModel",
            "_view_count": null,
            "_view_module": "@jupyter-widgets/controls",
            "_view_module_version": "1.5.0",
            "_view_name": "ProgressView",
            "bar_style": "success",
            "description": "",
            "description_tooltip": null,
            "layout": "IPY_MODEL_c9a4bcb6ab1a4aafb87674b80d1630da",
            "max": 99,
            "min": 0,
            "orientation": "horizontal",
            "style": "IPY_MODEL_76955885ee314bff9dcfd6f4ccac222c",
            "value": 99
          }
        },
        "8fd1e37efade46b1abc1a8524d3f3493": {
          "model_module": "@jupyter-widgets/base",
          "model_module_version": "1.2.0",
          "model_name": "LayoutModel",
          "state": {
            "_model_module": "@jupyter-widgets/base",
            "_model_module_version": "1.2.0",
            "_model_name": "LayoutModel",
            "_view_count": null,
            "_view_module": "@jupyter-widgets/base",
            "_view_module_version": "1.2.0",
            "_view_name": "LayoutView",
            "align_content": null,
            "align_items": null,
            "align_self": null,
            "border": null,
            "bottom": null,
            "display": null,
            "flex": null,
            "flex_flow": null,
            "grid_area": null,
            "grid_auto_columns": null,
            "grid_auto_flow": null,
            "grid_auto_rows": null,
            "grid_column": null,
            "grid_gap": null,
            "grid_row": null,
            "grid_template_areas": null,
            "grid_template_columns": null,
            "grid_template_rows": null,
            "height": null,
            "justify_content": null,
            "justify_items": null,
            "left": null,
            "margin": null,
            "max_height": null,
            "max_width": null,
            "min_height": null,
            "min_width": null,
            "object_fit": null,
            "object_position": null,
            "order": null,
            "overflow": null,
            "overflow_x": null,
            "overflow_y": null,
            "padding": null,
            "right": null,
            "top": null,
            "visibility": null,
            "width": null
          }
        },
        "90bc7cf5b6434a8e87dd1eb0e5fa9995": {
          "model_module": "@jupyter-widgets/controls",
          "model_module_version": "1.5.0",
          "model_name": "FloatProgressModel",
          "state": {
            "_dom_classes": [],
            "_model_module": "@jupyter-widgets/controls",
            "_model_module_version": "1.5.0",
            "_model_name": "FloatProgressModel",
            "_view_count": null,
            "_view_module": "@jupyter-widgets/controls",
            "_view_module_version": "1.5.0",
            "_view_name": "ProgressView",
            "bar_style": "success",
            "description": "",
            "description_tooltip": null,
            "layout": "IPY_MODEL_12ad8931e84f4a72a44d37fc33908964",
            "max": 2113710,
            "min": 0,
            "orientation": "horizontal",
            "style": "IPY_MODEL_43ced0e2afe842adb76917e866efad5a",
            "value": 2113710
          }
        },
        "91daf31f42124f41b9c9128cd4bd2af3": {
          "model_module": "@jupyter-widgets/base",
          "model_module_version": "1.2.0",
          "model_name": "LayoutModel",
          "state": {
            "_model_module": "@jupyter-widgets/base",
            "_model_module_version": "1.2.0",
            "_model_name": "LayoutModel",
            "_view_count": null,
            "_view_module": "@jupyter-widgets/base",
            "_view_module_version": "1.2.0",
            "_view_name": "LayoutView",
            "align_content": null,
            "align_items": null,
            "align_self": null,
            "border": null,
            "bottom": null,
            "display": null,
            "flex": null,
            "flex_flow": null,
            "grid_area": null,
            "grid_auto_columns": null,
            "grid_auto_flow": null,
            "grid_auto_rows": null,
            "grid_column": null,
            "grid_gap": null,
            "grid_row": null,
            "grid_template_areas": null,
            "grid_template_columns": null,
            "grid_template_rows": null,
            "height": null,
            "justify_content": null,
            "justify_items": null,
            "left": null,
            "margin": null,
            "max_height": null,
            "max_width": null,
            "min_height": null,
            "min_width": null,
            "object_fit": null,
            "object_position": null,
            "order": null,
            "overflow": null,
            "overflow_x": null,
            "overflow_y": null,
            "padding": null,
            "right": null,
            "top": null,
            "visibility": null,
            "width": null
          }
        },
        "95746cf5fbc5435795b4edce0a680ac7": {
          "model_module": "@jupyter-widgets/base",
          "model_module_version": "1.2.0",
          "model_name": "LayoutModel",
          "state": {
            "_model_module": "@jupyter-widgets/base",
            "_model_module_version": "1.2.0",
            "_model_name": "LayoutModel",
            "_view_count": null,
            "_view_module": "@jupyter-widgets/base",
            "_view_module_version": "1.2.0",
            "_view_name": "LayoutView",
            "align_content": null,
            "align_items": null,
            "align_self": null,
            "border": null,
            "bottom": null,
            "display": null,
            "flex": null,
            "flex_flow": null,
            "grid_area": null,
            "grid_auto_columns": null,
            "grid_auto_flow": null,
            "grid_auto_rows": null,
            "grid_column": null,
            "grid_gap": null,
            "grid_row": null,
            "grid_template_areas": null,
            "grid_template_columns": null,
            "grid_template_rows": null,
            "height": null,
            "justify_content": null,
            "justify_items": null,
            "left": null,
            "margin": null,
            "max_height": null,
            "max_width": null,
            "min_height": null,
            "min_width": null,
            "object_fit": null,
            "object_position": null,
            "order": null,
            "overflow": null,
            "overflow_x": null,
            "overflow_y": null,
            "padding": null,
            "right": null,
            "top": null,
            "visibility": null,
            "width": null
          }
        },
        "a141f757f56440b08fdf63687130e369": {
          "model_module": "@jupyter-widgets/controls",
          "model_module_version": "1.5.0",
          "model_name": "ProgressStyleModel",
          "state": {
            "_model_module": "@jupyter-widgets/controls",
            "_model_module_version": "1.5.0",
            "_model_name": "ProgressStyleModel",
            "_view_count": null,
            "_view_module": "@jupyter-widgets/base",
            "_view_module_version": "1.2.0",
            "_view_name": "StyleView",
            "bar_color": null,
            "description_width": ""
          }
        },
        "a3faeef1b00e45658da16c39f8b42019": {
          "model_module": "@jupyter-widgets/controls",
          "model_module_version": "1.5.0",
          "model_name": "HBoxModel",
          "state": {
            "_dom_classes": [],
            "_model_module": "@jupyter-widgets/controls",
            "_model_module_version": "1.5.0",
            "_model_name": "HBoxModel",
            "_view_count": null,
            "_view_module": "@jupyter-widgets/controls",
            "_view_module_version": "1.5.0",
            "_view_name": "HBoxView",
            "box_style": "",
            "children": [
              "IPY_MODEL_486a05db96d54dce94d9093232b092c2",
              "IPY_MODEL_90bc7cf5b6434a8e87dd1eb0e5fa9995",
              "IPY_MODEL_5eae987c2e274d0dad1fef587498bee6"
            ],
            "layout": "IPY_MODEL_69e5c363fe1e43b3ad0d9dbbbc7ea1b2"
          }
        },
        "a788ff351e87412594b50ef13adddc2e": {
          "model_module": "@jupyter-widgets/controls",
          "model_module_version": "1.5.0",
          "model_name": "HBoxModel",
          "state": {
            "_dom_classes": [],
            "_model_module": "@jupyter-widgets/controls",
            "_model_module_version": "1.5.0",
            "_model_name": "HBoxModel",
            "_view_count": null,
            "_view_module": "@jupyter-widgets/controls",
            "_view_module_version": "1.5.0",
            "_view_name": "HBoxView",
            "box_style": "",
            "children": [
              "IPY_MODEL_15de438672ee4e6799f3584814896c94",
              "IPY_MODEL_657ffa2b97f14cb8a932651b2817bb85",
              "IPY_MODEL_870108f3dfca43d493e7ca8050dc23e0"
            ],
            "layout": "IPY_MODEL_28b474f979a14f18a58f1774b6d36dc5"
          }
        },
        "ae373bd04ac046208e2dcaec820a0b1f": {
          "model_module": "@jupyter-widgets/controls",
          "model_module_version": "1.5.0",
          "model_name": "DescriptionStyleModel",
          "state": {
            "_model_module": "@jupyter-widgets/controls",
            "_model_module_version": "1.5.0",
            "_model_name": "DescriptionStyleModel",
            "_view_count": null,
            "_view_module": "@jupyter-widgets/base",
            "_view_module_version": "1.2.0",
            "_view_name": "StyleView",
            "description_width": ""
          }
        },
        "b2370feee46e4625888887c4a941346c": {
          "model_module": "@jupyter-widgets/controls",
          "model_module_version": "1.5.0",
          "model_name": "DescriptionStyleModel",
          "state": {
            "_model_module": "@jupyter-widgets/controls",
            "_model_module_version": "1.5.0",
            "_model_name": "DescriptionStyleModel",
            "_view_count": null,
            "_view_module": "@jupyter-widgets/base",
            "_view_module_version": "1.2.0",
            "_view_name": "StyleView",
            "description_width": ""
          }
        },
        "b5a7daa4c2474186b91f740dc0a49527": {
          "model_module": "@jupyter-widgets/controls",
          "model_module_version": "1.5.0",
          "model_name": "DescriptionStyleModel",
          "state": {
            "_model_module": "@jupyter-widgets/controls",
            "_model_module_version": "1.5.0",
            "_model_name": "DescriptionStyleModel",
            "_view_count": null,
            "_view_module": "@jupyter-widgets/base",
            "_view_module_version": "1.2.0",
            "_view_name": "StyleView",
            "description_width": ""
          }
        },
        "b6c605a6bbe24f018fd4083ef81e1c84": {
          "model_module": "@jupyter-widgets/controls",
          "model_module_version": "1.5.0",
          "model_name": "HBoxModel",
          "state": {
            "_dom_classes": [],
            "_model_module": "@jupyter-widgets/controls",
            "_model_module_version": "1.5.0",
            "_model_name": "HBoxModel",
            "_view_count": null,
            "_view_module": "@jupyter-widgets/controls",
            "_view_module_version": "1.5.0",
            "_view_name": "HBoxView",
            "box_style": "",
            "children": [
              "IPY_MODEL_1e1e008f496548e9b79b4bdf868927d8",
              "IPY_MODEL_c087a8e05c0048c1ba0dd9a9d9958ad4",
              "IPY_MODEL_c407ce69974649578d34d0b63f16aeb2"
            ],
            "layout": "IPY_MODEL_75d59b65b29749298ecec1241380a5fa"
          }
        },
        "c087a8e05c0048c1ba0dd9a9d9958ad4": {
          "model_module": "@jupyter-widgets/controls",
          "model_module_version": "1.5.0",
          "model_name": "FloatProgressModel",
          "state": {
            "_dom_classes": [],
            "_model_module": "@jupyter-widgets/controls",
            "_model_module_version": "1.5.0",
            "_model_name": "FloatProgressModel",
            "_view_count": null,
            "_view_module": "@jupyter-widgets/controls",
            "_view_module_version": "1.5.0",
            "_view_name": "ProgressView",
            "bar_style": "success",
            "description": "",
            "description_tooltip": null,
            "layout": "IPY_MODEL_24c561e352e7457eafefc2869316fd1a",
            "max": 166029846,
            "min": 0,
            "orientation": "horizontal",
            "style": "IPY_MODEL_899cbb189b3f49f785bc4ea30f9ed728",
            "value": 166029846
          }
        },
        "c4043f0bde0040b69489b2c28d084a19": {
          "model_module": "@jupyter-widgets/base",
          "model_module_version": "1.2.0",
          "model_name": "LayoutModel",
          "state": {
            "_model_module": "@jupyter-widgets/base",
            "_model_module_version": "1.2.0",
            "_model_name": "LayoutModel",
            "_view_count": null,
            "_view_module": "@jupyter-widgets/base",
            "_view_module_version": "1.2.0",
            "_view_name": "LayoutView",
            "align_content": null,
            "align_items": null,
            "align_self": null,
            "border": null,
            "bottom": null,
            "display": null,
            "flex": null,
            "flex_flow": null,
            "grid_area": null,
            "grid_auto_columns": null,
            "grid_auto_flow": null,
            "grid_auto_rows": null,
            "grid_column": null,
            "grid_gap": null,
            "grid_row": null,
            "grid_template_areas": null,
            "grid_template_columns": null,
            "grid_template_rows": null,
            "height": null,
            "justify_content": null,
            "justify_items": null,
            "left": null,
            "margin": null,
            "max_height": null,
            "max_width": null,
            "min_height": null,
            "min_width": null,
            "object_fit": null,
            "object_position": null,
            "order": null,
            "overflow": null,
            "overflow_x": null,
            "overflow_y": null,
            "padding": null,
            "right": null,
            "top": null,
            "visibility": null,
            "width": null
          }
        },
        "c407ce69974649578d34d0b63f16aeb2": {
          "model_module": "@jupyter-widgets/controls",
          "model_module_version": "1.5.0",
          "model_name": "HTMLModel",
          "state": {
            "_dom_classes": [],
            "_model_module": "@jupyter-widgets/controls",
            "_model_module_version": "1.5.0",
            "_model_name": "HTMLModel",
            "_view_count": null,
            "_view_module": "@jupyter-widgets/controls",
            "_view_module_version": "1.5.0",
            "_view_name": "HTMLView",
            "description": "",
            "description_tooltip": null,
            "layout": "IPY_MODEL_8fd1e37efade46b1abc1a8524d3f3493",
            "placeholder": "​",
            "style": "IPY_MODEL_8b72c7f1b1d54cee855b76dbc9eea2ef",
            "value": " 166M/166M [00:02&lt;00:00, 88.3MB/s]"
          }
        },
        "c78a4107880543b6a9ce617264baa63e": {
          "model_module": "@jupyter-widgets/base",
          "model_module_version": "1.2.0",
          "model_name": "LayoutModel",
          "state": {
            "_model_module": "@jupyter-widgets/base",
            "_model_module_version": "1.2.0",
            "_model_name": "LayoutModel",
            "_view_count": null,
            "_view_module": "@jupyter-widgets/base",
            "_view_module_version": "1.2.0",
            "_view_name": "LayoutView",
            "align_content": null,
            "align_items": null,
            "align_self": null,
            "border": null,
            "bottom": null,
            "display": null,
            "flex": null,
            "flex_flow": null,
            "grid_area": null,
            "grid_auto_columns": null,
            "grid_auto_flow": null,
            "grid_auto_rows": null,
            "grid_column": null,
            "grid_gap": null,
            "grid_row": null,
            "grid_template_areas": null,
            "grid_template_columns": null,
            "grid_template_rows": null,
            "height": null,
            "justify_content": null,
            "justify_items": null,
            "left": null,
            "margin": null,
            "max_height": null,
            "max_width": null,
            "min_height": null,
            "min_width": null,
            "object_fit": null,
            "object_position": null,
            "order": null,
            "overflow": null,
            "overflow_x": null,
            "overflow_y": null,
            "padding": null,
            "right": null,
            "top": null,
            "visibility": null,
            "width": null
          }
        },
        "c9a4bcb6ab1a4aafb87674b80d1630da": {
          "model_module": "@jupyter-widgets/base",
          "model_module_version": "1.2.0",
          "model_name": "LayoutModel",
          "state": {
            "_model_module": "@jupyter-widgets/base",
            "_model_module_version": "1.2.0",
            "_model_name": "LayoutModel",
            "_view_count": null,
            "_view_module": "@jupyter-widgets/base",
            "_view_module_version": "1.2.0",
            "_view_name": "LayoutView",
            "align_content": null,
            "align_items": null,
            "align_self": null,
            "border": null,
            "bottom": null,
            "display": null,
            "flex": null,
            "flex_flow": null,
            "grid_area": null,
            "grid_auto_columns": null,
            "grid_auto_flow": null,
            "grid_auto_rows": null,
            "grid_column": null,
            "grid_gap": null,
            "grid_row": null,
            "grid_template_areas": null,
            "grid_template_columns": null,
            "grid_template_rows": null,
            "height": null,
            "justify_content": null,
            "justify_items": null,
            "left": null,
            "margin": null,
            "max_height": null,
            "max_width": null,
            "min_height": null,
            "min_width": null,
            "object_fit": null,
            "object_position": null,
            "order": null,
            "overflow": null,
            "overflow_x": null,
            "overflow_y": null,
            "padding": null,
            "right": null,
            "top": null,
            "visibility": null,
            "width": null
          }
        },
        "d2a837ae13ce45ecab40d6f8893323df": {
          "model_module": "@jupyter-widgets/controls",
          "model_module_version": "1.5.0",
          "model_name": "DescriptionStyleModel",
          "state": {
            "_model_module": "@jupyter-widgets/controls",
            "_model_module_version": "1.5.0",
            "_model_name": "DescriptionStyleModel",
            "_view_count": null,
            "_view_module": "@jupyter-widgets/base",
            "_view_module_version": "1.2.0",
            "_view_name": "StyleView",
            "description_width": ""
          }
        },
        "d87d2ba790df4d27bf8a5206650375b7": {
          "model_module": "@jupyter-widgets/controls",
          "model_module_version": "1.5.0",
          "model_name": "DescriptionStyleModel",
          "state": {
            "_model_module": "@jupyter-widgets/controls",
            "_model_module_version": "1.5.0",
            "_model_name": "DescriptionStyleModel",
            "_view_count": null,
            "_view_module": "@jupyter-widgets/base",
            "_view_module_version": "1.2.0",
            "_view_name": "StyleView",
            "description_width": ""
          }
        },
        "de8d565a0b54464fb91d2f7e821c4389": {
          "model_module": "@jupyter-widgets/base",
          "model_module_version": "1.2.0",
          "model_name": "LayoutModel",
          "state": {
            "_model_module": "@jupyter-widgets/base",
            "_model_module_version": "1.2.0",
            "_model_name": "LayoutModel",
            "_view_count": null,
            "_view_module": "@jupyter-widgets/base",
            "_view_module_version": "1.2.0",
            "_view_name": "LayoutView",
            "align_content": null,
            "align_items": null,
            "align_self": null,
            "border": null,
            "bottom": null,
            "display": null,
            "flex": null,
            "flex_flow": null,
            "grid_area": null,
            "grid_auto_columns": null,
            "grid_auto_flow": null,
            "grid_auto_rows": null,
            "grid_column": null,
            "grid_gap": null,
            "grid_row": null,
            "grid_template_areas": null,
            "grid_template_columns": null,
            "grid_template_rows": null,
            "height": null,
            "justify_content": null,
            "justify_items": null,
            "left": null,
            "margin": null,
            "max_height": null,
            "max_width": null,
            "min_height": null,
            "min_width": null,
            "object_fit": null,
            "object_position": null,
            "order": null,
            "overflow": null,
            "overflow_x": null,
            "overflow_y": null,
            "padding": null,
            "right": null,
            "top": null,
            "visibility": null,
            "width": null
          }
        },
        "df5bd50307694607b0985c1aa20fc6aa": {
          "model_module": "@jupyter-widgets/base",
          "model_module_version": "1.2.0",
          "model_name": "LayoutModel",
          "state": {
            "_model_module": "@jupyter-widgets/base",
            "_model_module_version": "1.2.0",
            "_model_name": "LayoutModel",
            "_view_count": null,
            "_view_module": "@jupyter-widgets/base",
            "_view_module_version": "1.2.0",
            "_view_name": "LayoutView",
            "align_content": null,
            "align_items": null,
            "align_self": null,
            "border": null,
            "bottom": null,
            "display": null,
            "flex": null,
            "flex_flow": null,
            "grid_area": null,
            "grid_auto_columns": null,
            "grid_auto_flow": null,
            "grid_auto_rows": null,
            "grid_column": null,
            "grid_gap": null,
            "grid_row": null,
            "grid_template_areas": null,
            "grid_template_columns": null,
            "grid_template_rows": null,
            "height": null,
            "justify_content": null,
            "justify_items": null,
            "left": null,
            "margin": null,
            "max_height": null,
            "max_width": null,
            "min_height": null,
            "min_width": null,
            "object_fit": null,
            "object_position": null,
            "order": null,
            "overflow": null,
            "overflow_x": null,
            "overflow_y": null,
            "padding": null,
            "right": null,
            "top": null,
            "visibility": null,
            "width": null
          }
        },
        "e823f1b13e404b2da50eef8bff1f0787": {
          "model_module": "@jupyter-widgets/controls",
          "model_module_version": "1.5.0",
          "model_name": "DescriptionStyleModel",
          "state": {
            "_model_module": "@jupyter-widgets/controls",
            "_model_module_version": "1.5.0",
            "_model_name": "DescriptionStyleModel",
            "_view_count": null,
            "_view_module": "@jupyter-widgets/base",
            "_view_module_version": "1.2.0",
            "_view_name": "StyleView",
            "description_width": ""
          }
        },
        "f3d1bf5ac3b742baaa2a3db08f3347da": {
          "model_module": "@jupyter-widgets/controls",
          "model_module_version": "1.5.0",
          "model_name": "HTMLModel",
          "state": {
            "_dom_classes": [],
            "_model_module": "@jupyter-widgets/controls",
            "_model_module_version": "1.5.0",
            "_model_name": "HTMLModel",
            "_view_count": null,
            "_view_module": "@jupyter-widgets/controls",
            "_view_module_version": "1.5.0",
            "_view_name": "HTMLView",
            "description": "",
            "description_tooltip": null,
            "layout": "IPY_MODEL_f70ac5d612574d4fa8bdf654cac710e5",
            "placeholder": "​",
            "style": "IPY_MODEL_f74eb74cbdb54073846f1452895f8345",
            "value": " 534/534 [00:00&lt;00:00, 13.5kB/s]"
          }
        },
        "f54bc35e7464486c9a60d02e628f3fe4": {
          "model_module": "@jupyter-widgets/controls",
          "model_module_version": "1.5.0",
          "model_name": "HTMLModel",
          "state": {
            "_dom_classes": [],
            "_model_module": "@jupyter-widgets/controls",
            "_model_module_version": "1.5.0",
            "_model_name": "HTMLModel",
            "_view_count": null,
            "_view_module": "@jupyter-widgets/controls",
            "_view_module_version": "1.5.0",
            "_view_name": "HTMLView",
            "description": "",
            "description_tooltip": null,
            "layout": "IPY_MODEL_91daf31f42124f41b9c9128cd4bd2af3",
            "placeholder": "​",
            "style": "IPY_MODEL_b5a7daa4c2474186b91f740dc0a49527",
            "value": " 99.0/99.0 [00:00&lt;00:00, 2.73kB/s]"
          }
        },
        "f70ac5d612574d4fa8bdf654cac710e5": {
          "model_module": "@jupyter-widgets/base",
          "model_module_version": "1.2.0",
          "model_name": "LayoutModel",
          "state": {
            "_model_module": "@jupyter-widgets/base",
            "_model_module_version": "1.2.0",
            "_model_name": "LayoutModel",
            "_view_count": null,
            "_view_module": "@jupyter-widgets/base",
            "_view_module_version": "1.2.0",
            "_view_name": "LayoutView",
            "align_content": null,
            "align_items": null,
            "align_self": null,
            "border": null,
            "bottom": null,
            "display": null,
            "flex": null,
            "flex_flow": null,
            "grid_area": null,
            "grid_auto_columns": null,
            "grid_auto_flow": null,
            "grid_auto_rows": null,
            "grid_column": null,
            "grid_gap": null,
            "grid_row": null,
            "grid_template_areas": null,
            "grid_template_columns": null,
            "grid_template_rows": null,
            "height": null,
            "justify_content": null,
            "justify_items": null,
            "left": null,
            "margin": null,
            "max_height": null,
            "max_width": null,
            "min_height": null,
            "min_width": null,
            "object_fit": null,
            "object_position": null,
            "order": null,
            "overflow": null,
            "overflow_x": null,
            "overflow_y": null,
            "padding": null,
            "right": null,
            "top": null,
            "visibility": null,
            "width": null
          }
        },
        "f74eb74cbdb54073846f1452895f8345": {
          "model_module": "@jupyter-widgets/controls",
          "model_module_version": "1.5.0",
          "model_name": "DescriptionStyleModel",
          "state": {
            "_model_module": "@jupyter-widgets/controls",
            "_model_module_version": "1.5.0",
            "_model_name": "DescriptionStyleModel",
            "_view_count": null,
            "_view_module": "@jupyter-widgets/base",
            "_view_module_version": "1.2.0",
            "_view_name": "StyleView",
            "description_width": ""
          }
        },
        "f9e16c5ffd9a400a82a500ad75aa10c1": {
          "model_module": "@jupyter-widgets/controls",
          "model_module_version": "1.5.0",
          "model_name": "HBoxModel",
          "state": {
            "_dom_classes": [],
            "_model_module": "@jupyter-widgets/controls",
            "_model_module_version": "1.5.0",
            "_model_name": "HBoxModel",
            "_view_count": null,
            "_view_module": "@jupyter-widgets/controls",
            "_view_module_version": "1.5.0",
            "_view_name": "HBoxView",
            "box_style": "",
            "children": [
              "IPY_MODEL_6a8510e60f6a42ccb9b28eb3cdb213a3",
              "IPY_MODEL_7eb155a619904aa282444c8142cae0d9",
              "IPY_MODEL_f3d1bf5ac3b742baaa2a3db08f3347da"
            ],
            "layout": "IPY_MODEL_235344e7e74c44f39021b544dbf5c03d"
          }
        }
      }
    }
  },
  "nbformat": 4,
  "nbformat_minor": 0
}
