{
  "cells": [
    {
      "attachments": {},
      "cell_type": "markdown",
      "metadata": {
        "id": "Y3kX9bJxK2iv"
      },
      "source": [
        "## Setup"
      ]
    },
    {
      "cell_type": "code",
      "execution_count": 2,
      "metadata": {
        "colab": {
          "base_uri": "https://localhost:8080/",
          "height": 651
        },
        "id": "p4J9csWHKTcM",
        "outputId": "1d63fb26-2856-463a-f53d-a46ac165c9d9"
      },
      "outputs": [],
      "source": [
        "import haystack_utils\n",
        "import math\n",
        "import torch\n",
        "import numpy as np\n",
        "import seaborn as sns\n",
        "from transformer_lens import HookedTransformer\n",
        "from sklearn.model_selection import train_test_split\n",
        "from sklearn.linear_model import LogisticRegression\n",
        "\n",
        "# Plotly needs a different renderer for VSCode/Notebooks vs Colab\n",
        "import plotly.io as pio\n",
        "pio.renderers.default = \"colab\"  # \"notebook_connected\"\n",
        "device = \"cuda\" if torch.cuda.is_available() else \"cpu\""
      ]
    },
    {
      "attachments": {},
      "cell_type": "markdown",
      "metadata": {
        "id": "WlD1pPxwK5D2"
      },
      "source": [
        "## Model and data loading"
      ]
    },
    {
      "cell_type": "code",
      "execution_count": 3,
      "metadata": {
        "colab": {
          "base_uri": "https://localhost:8080/"
        },
        "id": "rgdnHeogXdVO",
        "outputId": "6730013b-e68a-442a-f60d-a3f2467aab24"
      },
      "outputs": [
        {
          "name": "stderr",
          "output_type": "stream",
          "text": [
            "Using pad_token, but it is not set yet.\n"
          ]
        },
        {
          "name": "stdout",
          "output_type": "stream",
          "text": [
            "Loaded pretrained model pythia-70m-v0 into HookedTransformer\n"
          ]
        }
      ],
      "source": [
        "torch.autograd.set_grad_enabled(False)\n",
        "torch.set_grad_enabled(False)\n",
        "model = HookedTransformer.from_pretrained(\"pythia-70m-v0\", fold_ln=True, device=device)"
      ]
    },
    {
      "cell_type": "code",
      "execution_count": 4,
      "metadata": {
        "colab": {
          "base_uri": "https://localhost:8080/",
          "height": 212,
          "referenced_widgets": [
            "f9e16c5ffd9a400a82a500ad75aa10c1",
            "6a8510e60f6a42ccb9b28eb3cdb213a3",
            "7eb155a619904aa282444c8142cae0d9",
            "f3d1bf5ac3b742baaa2a3db08f3347da",
            "235344e7e74c44f39021b544dbf5c03d",
            "c4043f0bde0040b69489b2c28d084a19",
            "d87d2ba790df4d27bf8a5206650375b7",
            "8bd80460fee146eaacc3d74c739e0486",
            "a141f757f56440b08fdf63687130e369",
            "f70ac5d612574d4fa8bdf654cac710e5",
            "f74eb74cbdb54073846f1452895f8345",
            "b6c605a6bbe24f018fd4083ef81e1c84",
            "1e1e008f496548e9b79b4bdf868927d8",
            "c087a8e05c0048c1ba0dd9a9d9958ad4",
            "c407ce69974649578d34d0b63f16aeb2",
            "75d59b65b29749298ecec1241380a5fa",
            "1d2120f18137477dbe37c44d91e22462",
            "7d277bd5adbf40a29a0b6ca1eb32c1d7",
            "24c561e352e7457eafefc2869316fd1a",
            "899cbb189b3f49f785bc4ea30f9ed728",
            "8fd1e37efade46b1abc1a8524d3f3493",
            "8b72c7f1b1d54cee855b76dbc9eea2ef",
            "a788ff351e87412594b50ef13adddc2e",
            "15de438672ee4e6799f3584814896c94",
            "657ffa2b97f14cb8a932651b2817bb85",
            "870108f3dfca43d493e7ca8050dc23e0",
            "28b474f979a14f18a58f1774b6d36dc5",
            "95746cf5fbc5435795b4edce0a680ac7",
            "e823f1b13e404b2da50eef8bff1f0787",
            "134b8c6c0518410dace3a62cbbda02b1",
            "85901db32cbb4d1ab638a8f4957df50d",
            "3e117101c1ef438aa0e51e985e4b6334",
            "b2370feee46e4625888887c4a941346c",
            "a3faeef1b00e45658da16c39f8b42019",
            "486a05db96d54dce94d9093232b092c2",
            "90bc7cf5b6434a8e87dd1eb0e5fa9995",
            "5eae987c2e274d0dad1fef587498bee6",
            "69e5c363fe1e43b3ad0d9dbbbc7ea1b2",
            "df5bd50307694607b0985c1aa20fc6aa",
            "d2a837ae13ce45ecab40d6f8893323df",
            "12ad8931e84f4a72a44d37fc33908964",
            "43ced0e2afe842adb76917e866efad5a",
            "de8d565a0b54464fb91d2f7e821c4389",
            "4c7c8602891e4ec0a1bace6af85fcb8d",
            "6c9871bb7f174107b71a923d8cbcec62",
            "5fc0f4ad749e4aa59d6f7d6b1cc1c084",
            "8cd0001481a84f86940302bce343e64f",
            "f54bc35e7464486c9a60d02e628f3fe4",
            "5bd9d50732aa4f53b4030678954fc398",
            "c78a4107880543b6a9ce617264baa63e",
            "ae373bd04ac046208e2dcaec820a0b1f",
            "c9a4bcb6ab1a4aafb87674b80d1630da",
            "76955885ee314bff9dcfd6f4ccac222c",
            "91daf31f42124f41b9c9128cd4bd2af3",
            "b5a7daa4c2474186b91f740dc0a49527"
          ]
        },
        "id": "0ddTGCOiKpsx",
        "outputId": "34a6f4c5-e185-4ce5-ea36-eb0fd39ae002"
      },
      "outputs": [
        {
          "name": "stdout",
          "output_type": "stream",
          "text": [
            "kde4_french.txt: Loaded 1007 examples with 505 to 5345 characters each.\n",
            "kde4_english.txt: Loaded 1007 examples with 501 to 5295 characters each.\n"
          ]
        }
      ],
      "source": [
        "french = haystack_utils.load_txt_data(\"kde4_french.txt\")\n",
        "non_french = haystack_utils.load_txt_data(\"kde4_english.txt\")"
      ]
    },
    {
      "attachments": {},
      "cell_type": "markdown",
      "metadata": {
        "id": "YhONedZ3UXVn"
      },
      "source": [
        "## Sparse probing to rediscover the french neuron"
      ]
    },
    {
      "cell_type": "code",
      "execution_count": 5,
      "metadata": {
        "colab": {
          "base_uri": "https://localhost:8080/"
        },
        "id": "qx086Wx-XD6m",
        "outputId": "e7f5bd89-a5d1-4f31-fa6f-0fd1a76594ee"
      },
      "outputs": [
        {
          "data": {
            "application/vnd.jupyter.widget-view+json": {
              "model_id": "25bbfff292be4d2eb1261753bb010508",
              "version_major": 2,
              "version_minor": 0
            },
            "text/plain": [
              "  0%|          | 0/1007 [00:00<?, ?it/s]"
            ]
          },
          "metadata": {},
          "output_type": "display_data"
        },
        {
          "data": {
            "application/vnd.jupyter.widget-view+json": {
              "model_id": "48bd6e28995d41d087cb0543e488bb30",
              "version_major": 2,
              "version_minor": 0
            },
            "text/plain": [
              "  0%|          | 0/1007 [00:00<?, ?it/s]"
            ]
          },
          "metadata": {},
          "output_type": "display_data"
        },
        {
          "name": "stdout",
          "output_type": "stream",
          "text": [
            "(2014, 2048) (2014,)\n"
          ]
        }
      ],
      "source": [
        "french_acts = haystack_utils.get_mlp_activations(french, 3, model, -1, context_crop_start=20, context_crop_end=21, mean=False)\n",
        "non_french_acts = haystack_utils.get_mlp_activations(non_french, 3, model, -1, context_crop_start=20, context_crop_end=21, mean=False)\n",
        "\n",
        "# Balanced dataset of activations on french and non-french data\n",
        "smaller_size = min(len(french_acts), len(non_french_acts))\n",
        "A = torch.concat((french_acts[:smaller_size], non_french_acts[:smaller_size]), dim=0).cpu().numpy()\n",
        "y = np.array([1]*smaller_size + [0]*smaller_size)\n",
        "\n",
        "print(A.shape, y.shape)"
      ]
    },
    {
      "cell_type": "code",
      "execution_count": 6,
      "metadata": {
        "id": "IePeWNNvZKqR"
      },
      "outputs": [],
      "source": [
        "def get_important_neurons(A_train: np.ndarray, y_train: np.ndarray, k: int):\n",
        "    # score each activation dimension by the difference between the means of\n",
        "    # the classes 0 and 1\n",
        "    A_train, y_train = torch.Tensor(A_train), torch.Tensor(y_train)\n",
        "    class_0_mean = A_train[y_train == 0].mean(dim=0)\n",
        "    class_1_mean = A_train[y_train == 1].mean(dim=0)\n",
        "    scores = (class_1_mean - class_0_mean).abs()\n",
        "    top_k_scores, top_k_indices = torch.topk(scores, k)\n",
        "    return top_k_indices, top_k_scores"
      ]
    },
    {
      "cell_type": "code",
      "execution_count": 7,
      "metadata": {
        "id": "LX4GuJqoYbfl"
      },
      "outputs": [
        {
          "name": "stdout",
          "output_type": "stream",
          "text": [
            "[609, 705, 902, 1361, 588, 102, 37, 1715, 907, 1847]\n",
            "[609, 705, 902, 1361, 588, 102, 37, 1715, 907, 1847]\n",
            "0.6120309050772627\n"
          ]
        }
      ],
      "source": [
        "# Get top classification neurons in A using class labels y\n",
        "k = 10\n",
        "test_accs = []\n",
        "train_accs = []\n",
        "for i in range(1):\n",
        "    A_train, A_test, y_train, y_test = train_test_split(A, y, test_size=0.1)\n",
        "    top_k_indices, top_k_scores = get_important_neurons(A_train, y_train, k)\n",
        "    lr_model = LogisticRegression()\n",
        "    topk = top_k_indices.cpu().numpy().tolist()\n",
        "    print(topk)\n",
        "    A_train = A_train[:, [730, 1856, 1600]]\n",
        "    A_test = A_test[:, [730, 1856, 1600]]\n",
        "    lr_model.fit(A_train, y_train)\n",
        "    test_acc = lr_model.score(A_test, y_test)\n",
        "    train_acc = lr_model.score(A_train, y_train)\n",
        "    test_accs.append(test_acc)\n",
        "    train_accs.append(train_acc)\n",
        "\n",
        "print(topk)\n",
        "print(np.mean(train_accs))"
      ]
    },
    {
      "cell_type": "code",
      "execution_count": 8,
      "metadata": {
        "id": "UtF0mvoRka3d"
      },
      "outputs": [],
      "source": [
        "def get_top_individual_neuron_accuracy(k=10, n=5):\n",
        "  test_accs = np.zeros((n, k))\n",
        "  train_accs = np.zeros((n, k))\n",
        "  for i in range(n):\n",
        "      A_train, A_test, y_train, y_test = train_test_split(A, y, test_size=0.1)\n",
        "      top_k_indices, top_k_scores = get_important_neurons(A_train, y_train, k)\n",
        "      lr_model = LogisticRegression()\n",
        "      topk = top_k_indices.cpu().numpy().tolist()\n",
        "      for k_index, neuron in enumerate(topk):\n",
        "          A_train_tmp = A_train[:, [neuron]]\n",
        "          A_test_tmp = A_test[:, [neuron]]\n",
        "          lr_model.fit(A_train_tmp, y_train)\n",
        "          test_acc = lr_model.score(A_test_tmp, y_test)\n",
        "          train_acc = lr_model.score(A_train_tmp, y_train)\n",
        "          test_accs[i, k_index] = test_acc\n",
        "          train_accs[i, k_index] = train_acc\n",
        "  return train_accs, test_accs, topk\n",
        "\n",
        "\n",
        "train_accs, test_accs, topk = get_top_individual_neuron_accuracy(n=20, k=50)"
      ]
    },
    {
      "cell_type": "code",
      "execution_count": 9,
      "metadata": {
        "id": "D1wqEl8doDAZ"
      },
      "outputs": [
        {
          "name": "stdout",
          "output_type": "stream",
          "text": [
            "[609, 705, 1361, 902, 102, 588, 37, 1715, 907, 1847]\n",
            "[0.93118102 0.67709713 0.74081126 0.69119757 0.83173289 0.71266556\n",
            " 0.64933775 0.73827263 0.63567881 0.65687086]\n"
          ]
        }
      ],
      "source": [
        "print(topk[:10])\n",
        "print(train_accs.mean(0)[:10])"
      ]
    },
    {
      "cell_type": "code",
      "execution_count": 10,
      "metadata": {
        "id": "fVclELDFaM6Q"
      },
      "outputs": [
        {
          "name": "stderr",
          "output_type": "stream",
          "text": [
            "/tmp/ipykernel_24011/1142124930.py:2: UserWarning:\n",
            "\n",
            "FixedFormatter should only be used together with FixedLocator\n",
            "\n"
          ]
        },
        {
          "data": {
            "text/plain": [
              "Text(0.5, 1.0, 'Individual neuron probe accuracy in MLP layer 3')"
            ]
          },
          "execution_count": 10,
          "metadata": {},
          "output_type": "execute_result"
        },
        {
          "data": {
            "image/png": "[encoded data removed]",
            "text/plain": [
              "<Figure size 640x480 with 1 Axes>"
            ]
          },
          "metadata": {},
          "output_type": "display_data"
        }
      ],
      "source": [
        "g = sns.lineplot(train_accs.mean(0))\n",
        "g.set_xticklabels(topk)\n",
        "g.set_title(\"Individual neuron probe accuracy in MLP layer 3\")"
      ]
    },
    {
      "cell_type": "code",
      "execution_count": 11,
      "metadata": {
        "id": "k6NauTpTaRqN"
      },
      "outputs": [
        {
          "data": {
            "text/plain": [
              "(tensor([ 609,  705,  902, 1361,  588,  102,   37, 1715,  907, 1847]),\n",
              " tensor([2.3877, 0.7304, 0.6300, 0.6245, 0.5876, 0.5873, 0.5533, 0.4904, 0.4751,\n",
              "         0.4650]))"
            ]
          },
          "execution_count": 11,
          "metadata": {},
          "output_type": "execute_result"
        }
      ],
      "source": [
        "top_k_indices, top_k_scores"
      ]
    },
    {
      "attachments": {},
      "cell_type": "markdown",
      "metadata": {
        "id": "tEg3un8DduWU"
      },
      "source": [
        "## Test ablation performance"
      ]
    },
    {
      "cell_type": "code",
      "execution_count": 12,
      "metadata": {
        "id": "bPHumqY3aX1C"
      },
      "outputs": [
        {
          "name": "stdout",
          "output_type": "stream",
          "text": [
            "French activation: 2.3420767784118652\n",
            "Non french activation: -0.06485679000616074\n"
          ]
        }
      ],
      "source": [
        "french_activation_L3N609 = french_acts[:, 609]\n",
        "non_french_activation_L3N609 = non_french_acts[:, 609]\n",
        "mean_french_activation_L3N609 = french_acts[:, 609].mean(0)\n",
        "mean_non_french_activation_L3N609 = non_french_acts[:, 609].mean(0)\n",
        "print(\"French activation:\", mean_french_activation_L3N609.mean(0).item())\n",
        "print(\"Non french activation:\", mean_non_french_activation_L3N609.mean(0).item())"
      ]
    },
    {
      "cell_type": "code",
      "execution_count": 13,
      "metadata": {
        "id": "T8ZpMPYad3qP"
      },
      "outputs": [
        {
          "data": {
            "text/plain": [
              "<Axes: ylabel='Count'>"
            ]
          },
          "execution_count": 13,
          "metadata": {},
          "output_type": "execute_result"
        },
        {
          "data": {
            "image/png": "[encoded data removed]",
            "text/plain": [
              "<Figure size 640x480 with 1 Axes>"
            ]
          },
          "metadata": {},
          "output_type": "display_data"
        }
      ],
      "source": [
        "sns.histplot(french_activation_L3N609.cpu().numpy())\n",
        "sns.histplot(non_french_activation_L3N609.cpu().numpy())"
      ]
    },
    {
      "cell_type": "code",
      "execution_count": 14,
      "metadata": {},
      "outputs": [],
      "source": [
        "act_label_l3 = f'blocks.3.mlp.hook_post'"
      ]
    },
    {
      "cell_type": "code",
      "execution_count": 15,
      "metadata": {
        "id": "T5jpxSYaeRL8"
      },
      "outputs": [
        {
          "name": "stdout",
          "output_type": "stream",
          "text": [
            "torch.Size([32, 521])\n",
            "Full model loss: 6.603084\n",
            "Ablated MLP layer loss: 6.703305\n"
          ]
        }
      ],
      "source": [
        "def ablate_neuron_hook(value, hook):\n",
        "  # Shape [batch pos d_mlp]\n",
        "  #if hook.layer() == 3:\n",
        "  value[:, :, 609] = mean_non_french_activation_L3N609\n",
        "  return value\n",
        "\n",
        "tokens = model.to_tokens(french[500:532])\n",
        "print(tokens.shape)\n",
        "original_loss = model(tokens, return_type=\"loss\")\n",
        "ablated_loss = model.run_with_hooks(tokens, return_type=\"loss\", fwd_hooks=[(act_label_l3, ablate_neuron_hook)])\n",
        "\n",
        "print(f\"Full model loss: {original_loss:.6f}\")\n",
        "print(f\"Ablated MLP layer loss: {ablated_loss:.6f}\")"
      ]
    },
    {
      "cell_type": "code",
      "execution_count": 16,
      "metadata": {},
      "outputs": [
        {
          "name": "stdout",
          "output_type": "stream",
          "text": [
            "Full model loss: 3.583874\n",
            "Ablated MLP layer loss: 3.808673\n",
            "% increase: 6.272504\n",
            "min_original_loss=tensor(0.8048, device='cuda:0')\n",
            "paired_ablated_loss=tensor(0.8037, device='cuda:0')\n"
          ]
        }
      ],
      "source": [
        "# Summary Statistics for KDE dataset on Pythia\n",
        "# average loss around 3\n",
        "# loss increase from ablating french neuron around 6%\n",
        "\n",
        "average_original_loss = 0\n",
        "average_ablated_loss = 0\n",
        "\n",
        "min_original_loss = math.inf\n",
        "paired_ablated_loss = math.inf\n",
        "\n",
        "for sample in french:\n",
        "  tokens = model.to_tokens(sample)\n",
        "  original_loss = model(tokens, return_type=\"loss\")\n",
        "  ablated_loss = model.run_with_hooks(tokens, return_type=\"loss\", fwd_hooks=[(act_label_l3, ablate_neuron_hook)])\n",
        "\n",
        "  if (original_loss < min_original_loss):\n",
        "    min_original_loss = original_loss\n",
        "    paired_ablated_loss = ablated_loss\n",
        "    min_original_loss = original_loss\n",
        "\n",
        "  average_original_loss += original_loss\n",
        "  average_ablated_loss += ablated_loss\n",
        "\n",
        "average_original_loss /= len(french)\n",
        "average_ablated_loss /= len(french)\n",
        "\n",
        "print(f\"Full model loss: {average_original_loss:.6f}\")\n",
        "print(f\"Ablated MLP layer loss: {average_ablated_loss:.6f}\")\n",
        "print(f\"% increase: {((average_ablated_loss - average_original_loss) / average_original_loss).item() * 100:.6f}\")\n",
        "\n",
        "print(f'{min_original_loss=}')\n",
        "print(f'{paired_ablated_loss=}')"
      ]
    },
    {
      "attachments": {},
      "cell_type": "markdown",
      "metadata": {},
      "source": [
        "### Loss from disabling/enabling the neuron on non-French text"
      ]
    },
    {
      "cell_type": "code",
      "execution_count": 17,
      "metadata": {},
      "outputs": [
        {
          "name": "stdout",
          "output_type": "stream",
          "text": [
            "Full model loss: 3.876772\n",
            "Ablated MLP layer loss: 3.876870\n",
            "% increase: 0.002521\n",
            "Full model loss: 3.876772\n",
            "Ablated MLP layer loss: 3.955415\n",
            "% increase: 2.028571\n"
          ]
        }
      ],
      "source": [
        "def enable_neuron_hook(value, hook):\n",
        "  # value shape is [batch pos d_mlp]\n",
        "  value[:, :, 609] = mean_french_activation_L3N609\n",
        "  return value\n",
        "\n",
        "\n",
        "def compare_loss_with_ablated(data, ablate_hook):\n",
        "  average_original_loss = 0\n",
        "  average_ablated_loss = 0\n",
        "\n",
        "  for sample in data:\n",
        "    tokens = model.to_tokens(sample)\n",
        "    average_original_loss += model(tokens, return_type=\"loss\")\n",
        "    average_ablated_loss +=  model.run_with_hooks(tokens, return_type=\"loss\", fwd_hooks=[(act_label_l3, ablate_hook)])\n",
        "\n",
        "  average_original_loss /= len(data)\n",
        "  average_ablated_loss /= len(data)\n",
        "\n",
        "  print(f\"Full model loss: {average_original_loss:.6f}\")\n",
        "  print(f\"Ablated MLP layer loss: {average_ablated_loss:.6f}\")\n",
        "  print(f\"% increase: {((average_ablated_loss - average_original_loss) / average_original_loss).item() * 100:.6f}\")\n",
        "\n",
        "\n",
        "# Loss from disabling French neuron on non-French text - if this is high it disproves that the neuron is only relevant to non-French text (although it could be \n",
        "# due to French loanwords)\n",
        "# It's very low\n",
        "compare_loss_with_ablated(non_french, ablate_neuron_hook)\n",
        "# Loss from enabling French neuron on non-French text - if this is high it shows that the neuron is influential on its own, not just as part of a circuit\n",
        "# which we can discover. E.g., there's an unembedding direction which \"translates\" words and this neuron triggers it.\n",
        "compare_loss_with_ablated(non_french, enable_neuron_hook)"
      ]
    },
    {
      "attachments": {},
      "cell_type": "markdown",
      "metadata": {},
      "source": [
        "### Modify pythia-70M-v1 language neurons in a failed attempt to get the model to predict German text"
      ]
    },
    {
      "cell_type": "code",
      "execution_count": 18,
      "metadata": {},
      "outputs": [
        {
          "data": {
            "application/vnd.jupyter.widget-view+json": {
              "model_id": "39d360b5f8f94bfaa0ea14d74f8c0259",
              "version_major": 2,
              "version_minor": 0
            },
            "text/plain": [
              "Downloading (…)lve/main/config.json:   0%|          | 0.00/567 [00:00<?, ?B/s]"
            ]
          },
          "metadata": {},
          "output_type": "display_data"
        },
        {
          "data": {
            "application/vnd.jupyter.widget-view+json": {
              "model_id": "03ce3d57d16748b3a223163f1cedf19e",
              "version_major": 2,
              "version_minor": 0
            },
            "text/plain": [
              "Downloading pytorch_model.bin:   0%|          | 0.00/166M [00:00<?, ?B/s]"
            ]
          },
          "metadata": {},
          "output_type": "display_data"
        },
        {
          "data": {
            "application/vnd.jupyter.widget-view+json": {
              "model_id": "337c7e5d25e64d7e88a76e6b077c2485",
              "version_major": 2,
              "version_minor": 0
            },
            "text/plain": [
              "Downloading (…)okenizer_config.json:   0%|          | 0.00/396 [00:00<?, ?B/s]"
            ]
          },
          "metadata": {},
          "output_type": "display_data"
        },
        {
          "data": {
            "application/vnd.jupyter.widget-view+json": {
              "model_id": "6d4d50a0a16b4567a587a06889bbfb82",
              "version_major": 2,
              "version_minor": 0
            },
            "text/plain": [
              "Downloading (…)/main/tokenizer.json: 0.00B [00:00, ?B/s]"
            ]
          },
          "metadata": {},
          "output_type": "display_data"
        },
        {
          "data": {
            "application/vnd.jupyter.widget-view+json": {
              "model_id": "045a19c2991c4321bd1b7548b1177b93",
              "version_major": 2,
              "version_minor": 0
            },
            "text/plain": [
              "Downloading (…)cial_tokens_map.json:   0%|          | 0.00/99.0 [00:00<?, ?B/s]"
            ]
          },
          "metadata": {},
          "output_type": "display_data"
        },
        {
          "name": "stderr",
          "output_type": "stream",
          "text": [
            "Using pad_token, but it is not set yet.\n"
          ]
        },
        {
          "name": "stdout",
          "output_type": "stream",
          "text": [
            "Loaded pretrained model EleutherAI/pythia-70m into HookedTransformer\n",
            "german_stories.txt: Loaded 20 examples with 243 to 312 characters each.\n",
            "kde4_english.txt: Loaded 1007 examples with 501 to 5295 characters each.\n"
          ]
        },
        {
          "data": {
            "application/vnd.jupyter.widget-view+json": {
              "model_id": "e296c56cc4d645e4bc712de46823d274",
              "version_major": 2,
              "version_minor": 0
            },
            "text/plain": [
              "  0%|          | 0/20 [00:00<?, ?it/s]"
            ]
          },
          "metadata": {},
          "output_type": "display_data"
        },
        {
          "data": {
            "application/vnd.jupyter.widget-view+json": {
              "model_id": "0b3ad92ab23a49e09c73b835e9896ebd",
              "version_major": 2,
              "version_minor": 0
            },
            "text/plain": [
              "  0%|          | 0/20 [00:00<?, ?it/s]"
            ]
          },
          "metadata": {},
          "output_type": "display_data"
        },
        {
          "data": {
            "application/vnd.jupyter.widget-view+json": {
              "model_id": "10ddeb0b2fc749beb306d4c5f9b98e4e",
              "version_major": 2,
              "version_minor": 0
            },
            "text/plain": [
              "  0%|          | 0/20 [00:00<?, ?it/s]"
            ]
          },
          "metadata": {},
          "output_type": "display_data"
        },
        {
          "data": {
            "application/vnd.jupyter.widget-view+json": {
              "model_id": "852f4bfa2981424eaea17a9a6096e5c3",
              "version_major": 2,
              "version_minor": 0
            },
            "text/plain": [
              "  0%|          | 0/1007 [00:00<?, ?it/s]"
            ]
          },
          "metadata": {},
          "output_type": "display_data"
        },
        {
          "data": {
            "application/vnd.jupyter.widget-view+json": {
              "model_id": "01e68aeab15c4b07accd22a834a1c56f",
              "version_major": 2,
              "version_minor": 0
            },
            "text/plain": [
              "  0%|          | 0/1007 [00:00<?, ?it/s]"
            ]
          },
          "metadata": {},
          "output_type": "display_data"
        },
        {
          "data": {
            "application/vnd.jupyter.widget-view+json": {
              "model_id": "ac00cfb04bda48ac90db578f49a7e067",
              "version_major": 2,
              "version_minor": 0
            },
            "text/plain": [
              "  0%|          | 0/1007 [00:00<?, ?it/s]"
            ]
          },
          "metadata": {},
          "output_type": "display_data"
        },
        {
          "data": {
            "application/vnd.jupyter.widget-view+json": {
              "model_id": "97f77d050aaa46ceb0f4ed2493677d2b",
              "version_major": 2,
              "version_minor": 0
            },
            "text/plain": [
              "  0%|          | 0/1007 [00:00<?, ?it/s]"
            ]
          },
          "metadata": {},
          "output_type": "display_data"
        },
        {
          "data": {
            "application/vnd.jupyter.widget-view+json": {
              "model_id": "d17072bb1a8f405cba3d14d15c582be6",
              "version_major": 2,
              "version_minor": 0
            },
            "text/plain": [
              "  0%|          | 0/1007 [00:00<?, ?it/s]"
            ]
          },
          "metadata": {},
          "output_type": "display_data"
        },
        {
          "data": {
            "application/vnd.jupyter.widget-view+json": {
              "model_id": "212408ae95bc40dfbf9eedc745e19ccb",
              "version_major": 2,
              "version_minor": 0
            },
            "text/plain": [
              "  0%|          | 0/1007 [00:00<?, ?it/s]"
            ]
          },
          "metadata": {},
          "output_type": "display_data"
        },
        {
          "data": {
            "application/vnd.jupyter.widget-view+json": {
              "model_id": "e99c1db0268146a096d3140a0784850e",
              "version_major": 2,
              "version_minor": 0
            },
            "text/plain": [
              "  0%|          | 0/20 [00:00<?, ?it/s]"
            ]
          },
          "metadata": {},
          "output_type": "display_data"
        },
        {
          "data": {
            "application/vnd.jupyter.widget-view+json": {
              "model_id": "86c6ae910c664d338f62b30237dbacc1",
              "version_major": 2,
              "version_minor": 0
            },
            "text/plain": [
              "  0%|          | 0/20 [00:00<?, ?it/s]"
            ]
          },
          "metadata": {},
          "output_type": "display_data"
        },
        {
          "data": {
            "application/vnd.jupyter.widget-view+json": {
              "model_id": "97309899f84349039353baf3d6081536",
              "version_major": 2,
              "version_minor": 0
            },
            "text/plain": [
              "  0%|          | 0/20 [00:00<?, ?it/s]"
            ]
          },
          "metadata": {},
          "output_type": "display_data"
        }
      ],
      "source": [
        "from collections import defaultdict\n",
        "from haystack_utils import load_txt_data, get_mlp_activations\n",
        "\n",
        "model = HookedTransformer.from_pretrained(\"EleutherAI/pythia-70m\", fold_ln=True, device=device)\n",
        "\n",
        "# Interesting neurons in Pythia V1, taken from Wes' CSV\n",
        "english_neurons = [(5, 395), (5, 166), (5, 908), (5, 285), (3, 862), (5, 73), (4, 896), (5, 348), (5, 297), (3, 1204)]\n",
        "german_neurons = [(4, 482), (5, 1039), (5, 407), (5, 1516), (5, 1336), (4, 326), (5, 250), (3, 669)]\n",
        "\n",
        "# Get German data and mean neuron activations\n",
        "german_data = load_txt_data(\"german_stories.txt\")\n",
        "english_data = load_txt_data(\"kde4_english.txt\")\n",
        "\n",
        "german_mean_high_activations = defaultdict(torch.Tensor, {\n",
        "    3: get_mlp_activations(german_data, 3, model, mean=True),  # [2048]\n",
        "    4: get_mlp_activations(german_data, 4, model, mean=True),\n",
        "    5: get_mlp_activations(german_data, 5, model, mean=True)\n",
        "})\n",
        "german_mean_low_activations = defaultdict(torch.Tensor, {\n",
        "    3: get_mlp_activations(english_data, 3, model, mean=True),  # [2048]\n",
        "    4: get_mlp_activations(english_data, 4, model, mean=True),\n",
        "    5: get_mlp_activations(english_data, 5, model, mean=True)\n",
        "})\n",
        "english_mean_high_activations = defaultdict(torch.Tensor, {\n",
        "    3: get_mlp_activations(english_data, 3, model, mean=True),  # [2048]\n",
        "    4: get_mlp_activations(english_data, 4, model, mean=True),\n",
        "    5: get_mlp_activations(english_data, 5, model, mean=True)\n",
        "})\n",
        "english_mean_low_activations = defaultdict(torch.Tensor, {\n",
        "    3: get_mlp_activations(german_data, 3, model, mean=True),  # [2048]\n",
        "    4: get_mlp_activations(german_data, 4, model, mean=True),\n",
        "    5: get_mlp_activations(german_data, 5, model, mean=True)\n",
        "})\n",
        "\n",
        "english_neurons_by_layer = defaultdict(list)\n",
        "for item in english_neurons:\n",
        "    english_neurons_by_layer[item[0]].append(item[1])\n",
        "german_neurons_by_layer = defaultdict(list)\n",
        "for item in english_neurons:\n",
        "    english_neurons_by_layer[item[0]].append(item[1])"
      ]
    },
    {
      "cell_type": "code",
      "execution_count": 25,
      "metadata": {},
      "outputs": [
        {
          "name": "stdout",
          "output_type": "stream",
          "text": [
            "torch.Size([1, 3])\n"
          ]
        },
        {
          "ename": "IndexError",
          "evalue": "index 0 is out of bounds for dimension 0 with size 0",
          "output_type": "error",
          "traceback": [
            "\u001b[0;31m---------------------------------------------------------------------------\u001b[0m",
            "\u001b[0;31mIndexError\u001b[0m                                Traceback (most recent call last)",
            "Cell \u001b[0;32mIn[25], line 33\u001b[0m\n\u001b[1;32m     31\u001b[0m log_probs \u001b[39m=\u001b[39m logits\u001b[39m.\u001b[39mlog_softmax(dim\u001b[39m=\u001b[39m\u001b[39m-\u001b[39m\u001b[39m1\u001b[39m)\n\u001b[1;32m     32\u001b[0m probs \u001b[39m=\u001b[39m logits\u001b[39m.\u001b[39mlog_softmax(dim\u001b[39m=\u001b[39m\u001b[39m-\u001b[39m\u001b[39m1\u001b[39m)\n\u001b[0;32m---> 33\u001b[0m next_token \u001b[39m=\u001b[39m logits[\u001b[39m0\u001b[39;49m, \u001b[39m-\u001b[39;49m\u001b[39m1\u001b[39;49m]\u001b[39m.\u001b[39margmax(dim\u001b[39m=\u001b[39m\u001b[39m-\u001b[39m\u001b[39m1\u001b[39m)\n\u001b[1;32m     34\u001b[0m next_char \u001b[39m=\u001b[39m model\u001b[39m.\u001b[39mto_string(next_token)\n\u001b[1;32m     35\u001b[0m predictions\u001b[39m.\u001b[39mappend(\u001b[39mrepr\u001b[39m(next_char))\n",
            "\u001b[0;31mIndexError\u001b[0m: index 0 is out of bounds for dimension 0 with size 0"
          ]
        }
      ],
      "source": [
        "def activate_german_hook(value, hook):\n",
        "    layer = hook.layer()\n",
        "    german_neurons_for_layer = german_neurons_by_layer[layer]\n",
        "    english_neurons_for_layer = english_neurons_by_layer[layer]\n",
        "\n",
        "    value[:, :, german_neurons_for_layer] = german_mean_high_activations[layer][german_neurons_for_layer].cuda()\n",
        "    value[:, :, english_neurons_for_layer] = english_mean_low_activations[layer][english_neurons_for_layer].cuda()\n",
        "    return value\n",
        "\n",
        "def activate_english_hook(value, hook):\n",
        "    layer = hook.layer()\n",
        "    german_neurons_for_layer = german_neurons_by_layer[layer]\n",
        "    english_neurons_for_layer = english_neurons_by_layer[layer]\n",
        "\n",
        "    value[:, :, german_neurons_for_layer] = german_mean_low_activations[layer][german_neurons_for_layer].cuda()\n",
        "    value[:, :, english_neurons_for_layer] = english_mean_high_activations[layer][english_neurons_for_layer].cuda()\n",
        "    return value\n",
        "\n",
        "# Uses words present in both German and English\n",
        "german_english_prompt = \"Gift. Definition:\"\n",
        "german_english_prompt_2 = \"Bank\"\n",
        "tokens = model.to_tokens(german_english_prompt_2).cuda()\n",
        "\n",
        "name_filter = lambda name: name.endswith(\"mlp.hook_post\")\n",
        "with model.hooks(fwd_hooks=[(name_filter, activate_german_hook)]):\n",
        "    predictions = []\n",
        "    logits, cache = model.run_with_cache(tokens)\n",
        "    log_probs = logits.log_softmax(dim=-1)\n",
        "    probs = logits.log_softmax(dim=-1)\n",
        "    next_token = logits[0, -1].argmax(dim=-1)\n",
        "    next_char = model.to_string(next_token)\n",
        "    predictions.append(repr(next_char))\n",
        "\n",
        "    for i in range(1, 50):\n",
        "        tokens = torch.cat([tokens, next_token[None, None]], dim=-1)\n",
        "        logits = model(tokens)\n",
        "        next_token = logits[0, -1].argmax(dim=-1)\n",
        "        next_char = model.to_string(next_token)\n",
        "        predictions.append(next_char)\n",
        "\n",
        "print(\"\".join(predictions))\n",
        "\n",
        "# original_loss = model(tokens, return_type=\"loss\")\n",
        "# ablated_loss = model.run_with_hooks(tokens, return_type=\"loss\", fwd_hooks=[(f'blocks.{layer}.mlp.hook_post', ablate_neuron_hook)])\n",
        "\n",
        "# with model.hooks(fwd_hooks=[(name_filter, ablate_neuron_hook)]):\n",
        "#     utils.test_prompt(german_english_prompt, \" sdfds\", model)\n",
        "# print(utils.test_prompt(german_english_prompt, \" sdfds\", model))"
      ]
    },
    {
      "cell_type": "code",
      "execution_count": 36,
      "metadata": {},
      "outputs": [
        {
          "name": "stdout",
          "output_type": "stream",
          "text": [
            "torch.Size([1, 7])\n"
          ]
        },
        {
          "name": "stdout",
          "output_type": "stream",
          "text": [
            "'us':\n",
            "\n",
            "I’m not sure if you’re a good friend of mine, but I’m not sure if you’re a good friend of mine, but I’m not sure if you’re a good friend of mine\n"
          ]
        }
      ],
      "source": [
        "def activate_german_hook(value, hook):\n",
        "    layer = hook.layer()\n",
        "    german_neurons_for_layer = german_neurons_by_layer[layer]\n",
        "    english_neurons_for_layer = english_neurons_by_layer[layer]\n",
        "\n",
        "    value[:, :, german_neurons_for_layer] = german_mean_high_activations[layer][german_neurons_for_layer].cuda()\n",
        "    value[:, :, english_neurons_for_layer] = english_mean_low_activations[layer][english_neurons_for_layer].cuda()\n",
        "    return value\n",
        "\n",
        "def activate_english_hook(value, hook):\n",
        "    layer = hook.layer()\n",
        "    german_neurons_for_layer = german_neurons_by_layer[layer]\n",
        "    english_neurons_for_layer = english_neurons_by_layer[layer]\n",
        "\n",
        "    value[:, :, german_neurons_for_layer] = german_mean_low_activations[layer][german_neurons_for_layer].cuda()\n",
        "    value[:, :, english_neurons_for_layer] = english_mean_high_activations[layer][english_neurons_for_layer].cuda()\n",
        "    return value\n",
        "\n",
        "# Uses words present in both German and English\n",
        "german_english_prompt = \"Gift. Definition:\"\n",
        "german_english_prompt_2 = \"Bank\"\n",
        "french_prompt = \"Je suis un chat. Bonjour\"\n",
        "tokens = model.to_tokens(french_prompt).cuda()\n",
        "tokens = tokens[:, :-1]\n",
        "print(tokens.shape)\n",
        "\n",
        "# fwd_hooks=[(act_label_l3, ablate_hook)]\n",
        "name_filter = lambda name: name.endswith(\"mlp.hook_post\")\n",
        "with model.hooks(fwd_hooks=[(name_filter, activate_english_hook)]): # fwd_hooks=[(act_label_l3, enable_neuron_hook)]):\n",
        "    predictions = []\n",
        "    logits, cache = model.run_with_cache(tokens)\n",
        "    log_probs = logits.log_softmax(dim=-1)\n",
        "    probs = logits.log_softmax(dim=-1)\n",
        "    next_token = logits[0, -1].argmax(dim=-1)\n",
        "    next_char = model.to_string(next_token)\n",
        "    predictions.append(repr(next_char))\n",
        "\n",
        "    for i in range(1, 50):\n",
        "        tokens = torch.cat([tokens, next_token[None, None]], dim=-1)\n",
        "        logits = model(tokens)\n",
        "        next_token = logits[0, -1].argmax(dim=-1)\n",
        "        next_char = model.to_string(next_token)\n",
        "        predictions.append(next_char)\n",
        "\n",
        "    print(\"\".join(predictions))\n",
        "\n",
        "# original_loss = model(tokens, return_type=\"loss\")\n",
        "# ablated_loss = model.run_with_hooks(tokens, return_type=\"loss\", fwd_hooks=[(f'blocks.{layer}.mlp.hook_post', ablate_neuron_hook)])\n",
        "\n",
        "# with model.hooks(fwd_hooks=[(name_filter, ablate_neuron_hook)]):\n",
        "#     utils.test_prompt(german_english_prompt, \" sdfds\", model)\n",
        "# print(utils.test_prompt(german_english_prompt, \" sdfds\", model))"
      ]
    },
    {
      "cell_type": "code",
      "execution_count": 37,
      "metadata": {},
      "outputs": [
        {
          "name": "stdout",
          "output_type": "stream",
          "text": [
            "torch.Size([1, 7])\n",
            "'us':\n",
            "\n",
            "I’m not sure if you’re a good friend of mine, but I’m not sure if you’re a good friend of mine, but I’m not sure if you’re a good friend of mine\n"
          ]
        }
      ],
      "source": [
        "def activate_german_hook(value, hook):\n",
        "    layer = hook.layer()\n",
        "    german_neurons_for_layer = german_neurons_by_layer[layer]\n",
        "    english_neurons_for_layer = english_neurons_by_layer[layer]\n",
        "\n",
        "    value[:, :, german_neurons_for_layer] = german_mean_high_activations[layer][german_neurons_for_layer].cuda()\n",
        "    value[:, :, english_neurons_for_layer] = english_mean_low_activations[layer][english_neurons_for_layer].cuda()\n",
        "    return value\n",
        "\n",
        "def activate_english_hook(value, hook):\n",
        "    layer = hook.layer()\n",
        "    german_neurons_for_layer = german_neurons_by_layer[layer]\n",
        "    english_neurons_for_layer = english_neurons_by_layer[layer]\n",
        "\n",
        "    value[:, :, german_neurons_for_layer] = german_mean_low_activations[layer][german_neurons_for_layer].cuda()\n",
        "    value[:, :, english_neurons_for_layer] = english_mean_high_activations[layer][english_neurons_for_layer].cuda()\n",
        "    return value\n",
        "\n",
        "# Uses words present in both German and English\n",
        "german_english_prompt = \"Gift. Definition:\"\n",
        "german_english_prompt_2 = \"Bank\"\n",
        "french_prompt = \"Je suis un chat. Bonjour\"\n",
        "tokens = model.to_tokens(french_prompt).cuda()\n",
        "tokens = tokens[:, :-1]\n",
        "print(tokens.shape)\n",
        "\n",
        "# fwd_hooks=[(act_label_l3, ablate_hook)]\n",
        "name_filter = lambda name: name.endswith(\"mlp.hook_post\")\n",
        "with model.hooks(fwd_hooks=[(name_filter, activate_english_hook)]): # fwd_hooks=[(act_label_l3, enable_neuron_hook)]):\n",
        "    predictions = []\n",
        "    logits, cache = model.run_with_cache(tokens)\n",
        "    log_probs = logits.log_softmax(dim=-1)\n",
        "    probs = logits.log_softmax(dim=-1)\n",
        "    next_token = logits[0, -1].argmax(dim=-1)\n",
        "    next_char = model.to_string(next_token)\n",
        "    predictions.append(repr(next_char))\n",
        "\n",
        "    for i in range(1, 50):\n",
        "        tokens = torch.cat([tokens, next_token[None, None]], dim=-1)\n",
        "        logits = model(tokens)\n",
        "        next_token = logits[0, -1].argmax(dim=-1)\n",
        "        next_char = model.to_string(next_token)\n",
        "        predictions.append(next_char)\n",
        "\n",
        "    print(\"\".join(predictions))\n",
        "\n",
        "# original_loss = model(tokens, return_type=\"loss\")\n",
        "# ablated_loss = model.run_with_hooks(tokens, return_type=\"loss\", fwd_hooks=[(f'blocks.{layer}.mlp.hook_post', ablate_neuron_hook)])\n",
        "\n",
        "# with model.hooks(fwd_hooks=[(name_filter, ablate_neuron_hook)]):\n",
        "#     utils.test_prompt(german_english_prompt, \" sdfds\", model)\n",
        "# print(utils.test_prompt(german_english_prompt, \" sdfds\", model))"
      ]
    }
  ],
  "metadata": {
    "accelerator": "GPU",
    "colab": {
      "gpuType": "T4",
      "provenance": []
    },
    "kernelspec": {
      "display_name": "Python 3",
      "name": "python3"
    },
    "language_info": {
      "codemirror_mode": {
        "name": "ipython",
        "version": 3
      },
      "file_extension": ".py",
      "mimetype": "text/x-python",
      "name": "python",
      "nbconvert_exporter": "python",
      "pygments_lexer": "ipython3",
      "version": "3.10.11"
    },
    "widgets": {
      "application/vnd.jupyter.widget-state+json": {
        "12ad8931e84f4a72a44d37fc33908964": {
          "model_module": "@jupyter-widgets/base",
          "model_module_version": "1.2.0",
          "model_name": "LayoutModel",
          "state": {
            "_model_module": "@jupyter-widgets/base",
            "_model_module_version": "1.2.0",
            "_model_name": "LayoutModel",
            "_view_count": null,
            "_view_module": "@jupyter-widgets/base",
            "_view_module_version": "1.2.0",
            "_view_name": "LayoutView",
            "align_content": null,
            "align_items": null,
            "align_self": null,
            "border": null,
            "bottom": null,
            "display": null,
            "flex": null,
            "flex_flow": null,
            "grid_area": null,
            "grid_auto_columns": null,
            "grid_auto_flow": null,
            "grid_auto_rows": null,
            "grid_column": null,
            "grid_gap": null,
            "grid_row": null,
            "grid_template_areas": null,
            "grid_template_columns": null,
            "grid_template_rows": null,
            "height": null,
            "justify_content": null,
            "justify_items": null,
            "left": null,
            "margin": null,
            "max_height": null,
            "max_width": null,
            "min_height": null,
            "min_width": null,
            "object_fit": null,
            "object_position": null,
            "order": null,
            "overflow": null,
            "overflow_x": null,
            "overflow_y": null,
            "padding": null,
            "right": null,
            "top": null,
            "visibility": null,
            "width": null
          }
        },
        "134b8c6c0518410dace3a62cbbda02b1": {
          "model_module": "@jupyter-widgets/base",
          "model_module_version": "1.2.0",
          "model_name": "LayoutModel",
          "state": {
            "_model_module": "@jupyter-widgets/base",
            "_model_module_version": "1.2.0",
            "_model_name": "LayoutModel",
            "_view_count": null,
            "_view_module": "@jupyter-widgets/base",
            "_view_module_version": "1.2.0",
            "_view_name": "LayoutView",
            "align_content": null,
            "align_items": null,
            "align_self": null,
            "border": null,
            "bottom": null,
            "display": null,
            "flex": null,
            "flex_flow": null,
            "grid_area": null,
            "grid_auto_columns": null,
            "grid_auto_flow": null,
            "grid_auto_rows": null,
            "grid_column": null,
            "grid_gap": null,
            "grid_row": null,
            "grid_template_areas": null,
            "grid_template_columns": null,
            "grid_template_rows": null,
            "height": null,
            "justify_content": null,
            "justify_items": null,
            "left": null,
            "margin": null,
            "max_height": null,
            "max_width": null,
            "min_height": null,
            "min_width": null,
            "object_fit": null,
            "object_position": null,
            "order": null,
            "overflow": null,
            "overflow_x": null,
            "overflow_y": null,
            "padding": null,
            "right": null,
            "top": null,
            "visibility": null,
            "width": null
          }
        },
        "15de438672ee4e6799f3584814896c94": {
          "model_module": "@jupyter-widgets/controls",
          "model_module_version": "1.5.0",
          "model_name": "HTMLModel",
          "state": {
            "_dom_classes": [],
            "_model_module": "@jupyter-widgets/controls",
            "_model_module_version": "1.5.0",
            "_model_name": "HTMLModel",
            "_view_count": null,
            "_view_module": "@jupyter-widgets/controls",
            "_view_module_version": "1.5.0",
            "_view_name": "HTMLView",
            "description": "",
            "description_tooltip": null,
            "layout": "IPY_MODEL_95746cf5fbc5435795b4edce0a680ac7",
            "placeholder": "​",
            "style": "IPY_MODEL_e823f1b13e404b2da50eef8bff1f0787",
            "value": "Downloading (…)okenizer_config.json: 100%"
          }
        },
        "1d2120f18137477dbe37c44d91e22462": {
          "model_module": "@jupyter-widgets/base",
          "model_module_version": "1.2.0",
          "model_name": "LayoutModel",
          "state": {
            "_model_module": "@jupyter-widgets/base",
            "_model_module_version": "1.2.0",
            "_model_name": "LayoutModel",
            "_view_count": null,
            "_view_module": "@jupyter-widgets/base",
            "_view_module_version": "1.2.0",
            "_view_name": "LayoutView",
            "align_content": null,
            "align_items": null,
            "align_self": null,
            "border": null,
            "bottom": null,
            "display": null,
            "flex": null,
            "flex_flow": null,
            "grid_area": null,
            "grid_auto_columns": null,
            "grid_auto_flow": null,
            "grid_auto_rows": null,
            "grid_column": null,
            "grid_gap": null,
            "grid_row": null,
            "grid_template_areas": null,
            "grid_template_columns": null,
            "grid_template_rows": null,
            "height": null,
            "justify_content": null,
            "justify_items": null,
            "left": null,
            "margin": null,
            "max_height": null,
            "max_width": null,
            "min_height": null,
            "min_width": null,
            "object_fit": null,
            "object_position": null,
            "order": null,
            "overflow": null,
            "overflow_x": null,
            "overflow_y": null,
            "padding": null,
            "right": null,
            "top": null,
            "visibility": null,
            "width": null
          }
        },
        "1e1e008f496548e9b79b4bdf868927d8": {
          "model_module": "@jupyter-widgets/controls",
          "model_module_version": "1.5.0",
          "model_name": "HTMLModel",
          "state": {
            "_dom_classes": [],
            "_model_module": "@jupyter-widgets/controls",
            "_model_module_version": "1.5.0",
            "_model_name": "HTMLModel",
            "_view_count": null,
            "_view_module": "@jupyter-widgets/controls",
            "_view_module_version": "1.5.0",
            "_view_name": "HTMLView",
            "description": "",
            "description_tooltip": null,
            "layout": "IPY_MODEL_1d2120f18137477dbe37c44d91e22462",
            "placeholder": "​",
            "style": "IPY_MODEL_7d277bd5adbf40a29a0b6ca1eb32c1d7",
            "value": "Downloading model.safetensors: 100%"
          }
        },
        "235344e7e74c44f39021b544dbf5c03d": {
          "model_module": "@jupyter-widgets/base",
          "model_module_version": "1.2.0",
          "model_name": "LayoutModel",
          "state": {
            "_model_module": "@jupyter-widgets/base",
            "_model_module_version": "1.2.0",
            "_model_name": "LayoutModel",
            "_view_count": null,
            "_view_module": "@jupyter-widgets/base",
            "_view_module_version": "1.2.0",
            "_view_name": "LayoutView",
            "align_content": null,
            "align_items": null,
            "align_self": null,
            "border": null,
            "bottom": null,
            "display": null,
            "flex": null,
            "flex_flow": null,
            "grid_area": null,
            "grid_auto_columns": null,
            "grid_auto_flow": null,
            "grid_auto_rows": null,
            "grid_column": null,
            "grid_gap": null,
            "grid_row": null,
            "grid_template_areas": null,
            "grid_template_columns": null,
            "grid_template_rows": null,
            "height": null,
            "justify_content": null,
            "justify_items": null,
            "left": null,
            "margin": null,
            "max_height": null,
            "max_width": null,
            "min_height": null,
            "min_width": null,
            "object_fit": null,
            "object_position": null,
            "order": null,
            "overflow": null,
            "overflow_x": null,
            "overflow_y": null,
            "padding": null,
            "right": null,
            "top": null,
            "visibility": null,
            "width": null
          }
        },
        "24c561e352e7457eafefc2869316fd1a": {
          "model_module": "@jupyter-widgets/base",
          "model_module_version": "1.2.0",
          "model_name": "LayoutModel",
          "state": {
            "_model_module": "@jupyter-widgets/base",
            "_model_module_version": "1.2.0",
            "_model_name": "LayoutModel",
            "_view_count": null,
            "_view_module": "@jupyter-widgets/base",
            "_view_module_version": "1.2.0",
            "_view_name": "LayoutView",
            "align_content": null,
            "align_items": null,
            "align_self": null,
            "border": null,
            "bottom": null,
            "display": null,
            "flex": null,
            "flex_flow": null,
            "grid_area": null,
            "grid_auto_columns": null,
            "grid_auto_flow": null,
            "grid_auto_rows": null,
            "grid_column": null,
            "grid_gap": null,
            "grid_row": null,
            "grid_template_areas": null,
            "grid_template_columns": null,
            "grid_template_rows": null,
            "height": null,
            "justify_content": null,
            "justify_items": null,
            "left": null,
            "margin": null,
            "max_height": null,
            "max_width": null,
            "min_height": null,
            "min_width": null,
            "object_fit": null,
            "object_position": null,
            "order": null,
            "overflow": null,
            "overflow_x": null,
            "overflow_y": null,
            "padding": null,
            "right": null,
            "top": null,
            "visibility": null,
            "width": null
          }
        },
        "28b474f979a14f18a58f1774b6d36dc5": {
          "model_module": "@jupyter-widgets/base",
          "model_module_version": "1.2.0",
          "model_name": "LayoutModel",
          "state": {
            "_model_module": "@jupyter-widgets/base",
            "_model_module_version": "1.2.0",
            "_model_name": "LayoutModel",
            "_view_count": null,
            "_view_module": "@jupyter-widgets/base",
            "_view_module_version": "1.2.0",
            "_view_name": "LayoutView",
            "align_content": null,
            "align_items": null,
            "align_self": null,
            "border": null,
            "bottom": null,
            "display": null,
            "flex": null,
            "flex_flow": null,
            "grid_area": null,
            "grid_auto_columns": null,
            "grid_auto_flow": null,
            "grid_auto_rows": null,
            "grid_column": null,
            "grid_gap": null,
            "grid_row": null,
            "grid_template_areas": null,
            "grid_template_columns": null,
            "grid_template_rows": null,
            "height": null,
            "justify_content": null,
            "justify_items": null,
            "left": null,
            "margin": null,
            "max_height": null,
            "max_width": null,
            "min_height": null,
            "min_width": null,
            "object_fit": null,
            "object_position": null,
            "order": null,
            "overflow": null,
            "overflow_x": null,
            "overflow_y": null,
            "padding": null,
            "right": null,
            "top": null,
            "visibility": null,
            "width": null
          }
        },
        "3e117101c1ef438aa0e51e985e4b6334": {
          "model_module": "@jupyter-widgets/base",
          "model_module_version": "1.2.0",
          "model_name": "LayoutModel",
          "state": {
            "_model_module": "@jupyter-widgets/base",
            "_model_module_version": "1.2.0",
            "_model_name": "LayoutModel",
            "_view_count": null,
            "_view_module": "@jupyter-widgets/base",
            "_view_module_version": "1.2.0",
            "_view_name": "LayoutView",
            "align_content": null,
            "align_items": null,
            "align_self": null,
            "border": null,
            "bottom": null,
            "display": null,
            "flex": null,
            "flex_flow": null,
            "grid_area": null,
            "grid_auto_columns": null,
            "grid_auto_flow": null,
            "grid_auto_rows": null,
            "grid_column": null,
            "grid_gap": null,
            "grid_row": null,
            "grid_template_areas": null,
            "grid_template_columns": null,
            "grid_template_rows": null,
            "height": null,
            "justify_content": null,
            "justify_items": null,
            "left": null,
            "margin": null,
            "max_height": null,
            "max_width": null,
            "min_height": null,
            "min_width": null,
            "object_fit": null,
            "object_position": null,
            "order": null,
            "overflow": null,
            "overflow_x": null,
            "overflow_y": null,
            "padding": null,
            "right": null,
            "top": null,
            "visibility": null,
            "width": null
          }
        },
        "43ced0e2afe842adb76917e866efad5a": {
          "model_module": "@jupyter-widgets/controls",
          "model_module_version": "1.5.0",
          "model_name": "ProgressStyleModel",
          "state": {
            "_model_module": "@jupyter-widgets/controls",
            "_model_module_version": "1.5.0",
            "_model_name": "ProgressStyleModel",
            "_view_count": null,
            "_view_module": "@jupyter-widgets/base",
            "_view_module_version": "1.2.0",
            "_view_name": "StyleView",
            "bar_color": null,
            "description_width": ""
          }
        },
        "486a05db96d54dce94d9093232b092c2": {
          "model_module": "@jupyter-widgets/controls",
          "model_module_version": "1.5.0",
          "model_name": "HTMLModel",
          "state": {
            "_dom_classes": [],
            "_model_module": "@jupyter-widgets/controls",
            "_model_module_version": "1.5.0",
            "_model_name": "HTMLModel",
            "_view_count": null,
            "_view_module": "@jupyter-widgets/controls",
            "_view_module_version": "1.5.0",
            "_view_name": "HTMLView",
            "description": "",
            "description_tooltip": null,
            "layout": "IPY_MODEL_df5bd50307694607b0985c1aa20fc6aa",
            "placeholder": "​",
            "style": "IPY_MODEL_d2a837ae13ce45ecab40d6f8893323df",
            "value": "Downloading (…)/main/tokenizer.json: 100%"
          }
        },
        "4c7c8602891e4ec0a1bace6af85fcb8d": {
          "model_module": "@jupyter-widgets/controls",
          "model_module_version": "1.5.0",
          "model_name": "DescriptionStyleModel",
          "state": {
            "_model_module": "@jupyter-widgets/controls",
            "_model_module_version": "1.5.0",
            "_model_name": "DescriptionStyleModel",
            "_view_count": null,
            "_view_module": "@jupyter-widgets/base",
            "_view_module_version": "1.2.0",
            "_view_name": "StyleView",
            "description_width": ""
          }
        },
        "5bd9d50732aa4f53b4030678954fc398": {
          "model_module": "@jupyter-widgets/base",
          "model_module_version": "1.2.0",
          "model_name": "LayoutModel",
          "state": {
            "_model_module": "@jupyter-widgets/base",
            "_model_module_version": "1.2.0",
            "_model_name": "LayoutModel",
            "_view_count": null,
            "_view_module": "@jupyter-widgets/base",
            "_view_module_version": "1.2.0",
            "_view_name": "LayoutView",
            "align_content": null,
            "align_items": null,
            "align_self": null,
            "border": null,
            "bottom": null,
            "display": null,
            "flex": null,
            "flex_flow": null,
            "grid_area": null,
            "grid_auto_columns": null,
            "grid_auto_flow": null,
            "grid_auto_rows": null,
            "grid_column": null,
            "grid_gap": null,
            "grid_row": null,
            "grid_template_areas": null,
            "grid_template_columns": null,
            "grid_template_rows": null,
            "height": null,
            "justify_content": null,
            "justify_items": null,
            "left": null,
            "margin": null,
            "max_height": null,
            "max_width": null,
            "min_height": null,
            "min_width": null,
            "object_fit": null,
            "object_position": null,
            "order": null,
            "overflow": null,
            "overflow_x": null,
            "overflow_y": null,
            "padding": null,
            "right": null,
            "top": null,
            "visibility": null,
            "width": null
          }
        },
        "5eae987c2e274d0dad1fef587498bee6": {
          "model_module": "@jupyter-widgets/controls",
          "model_module_version": "1.5.0",
          "model_name": "HTMLModel",
          "state": {
            "_dom_classes": [],
            "_model_module": "@jupyter-widgets/controls",
            "_model_module_version": "1.5.0",
            "_model_name": "HTMLModel",
            "_view_count": null,
            "_view_module": "@jupyter-widgets/controls",
            "_view_module_version": "1.5.0",
            "_view_name": "HTMLView",
            "description": "",
            "description_tooltip": null,
            "layout": "IPY_MODEL_de8d565a0b54464fb91d2f7e821c4389",
            "placeholder": "​",
            "style": "IPY_MODEL_4c7c8602891e4ec0a1bace6af85fcb8d",
            "value": " 2.11M/2.11M [00:00&lt;00:00, 16.7MB/s]"
          }
        },
        "5fc0f4ad749e4aa59d6f7d6b1cc1c084": {
          "model_module": "@jupyter-widgets/controls",
          "model_module_version": "1.5.0",
          "model_name": "HTMLModel",
          "state": {
            "_dom_classes": [],
            "_model_module": "@jupyter-widgets/controls",
            "_model_module_version": "1.5.0",
            "_model_name": "HTMLModel",
            "_view_count": null,
            "_view_module": "@jupyter-widgets/controls",
            "_view_module_version": "1.5.0",
            "_view_name": "HTMLView",
            "description": "",
            "description_tooltip": null,
            "layout": "IPY_MODEL_c78a4107880543b6a9ce617264baa63e",
            "placeholder": "​",
            "style": "IPY_MODEL_ae373bd04ac046208e2dcaec820a0b1f",
            "value": "Downloading (…)cial_tokens_map.json: 100%"
          }
        },
        "657ffa2b97f14cb8a932651b2817bb85": {
          "model_module": "@jupyter-widgets/controls",
          "model_module_version": "1.5.0",
          "model_name": "FloatProgressModel",
          "state": {
            "_dom_classes": [],
            "_model_module": "@jupyter-widgets/controls",
            "_model_module_version": "1.5.0",
            "_model_name": "FloatProgressModel",
            "_view_count": null,
            "_view_module": "@jupyter-widgets/controls",
            "_view_module_version": "1.5.0",
            "_view_name": "ProgressView",
            "bar_style": "success",
            "description": "",
            "description_tooltip": null,
            "layout": "IPY_MODEL_134b8c6c0518410dace3a62cbbda02b1",
            "max": 394,
            "min": 0,
            "orientation": "horizontal",
            "style": "IPY_MODEL_85901db32cbb4d1ab638a8f4957df50d",
            "value": 394
          }
        },
        "69e5c363fe1e43b3ad0d9dbbbc7ea1b2": {
          "model_module": "@jupyter-widgets/base",
          "model_module_version": "1.2.0",
          "model_name": "LayoutModel",
          "state": {
            "_model_module": "@jupyter-widgets/base",
            "_model_module_version": "1.2.0",
            "_model_name": "LayoutModel",
            "_view_count": null,
            "_view_module": "@jupyter-widgets/base",
            "_view_module_version": "1.2.0",
            "_view_name": "LayoutView",
            "align_content": null,
            "align_items": null,
            "align_self": null,
            "border": null,
            "bottom": null,
            "display": null,
            "flex": null,
            "flex_flow": null,
            "grid_area": null,
            "grid_auto_columns": null,
            "grid_auto_flow": null,
            "grid_auto_rows": null,
            "grid_column": null,
            "grid_gap": null,
            "grid_row": null,
            "grid_template_areas": null,
            "grid_template_columns": null,
            "grid_template_rows": null,
            "height": null,
            "justify_content": null,
            "justify_items": null,
            "left": null,
            "margin": null,
            "max_height": null,
            "max_width": null,
            "min_height": null,
            "min_width": null,
            "object_fit": null,
            "object_position": null,
            "order": null,
            "overflow": null,
            "overflow_x": null,
            "overflow_y": null,
            "padding": null,
            "right": null,
            "top": null,
            "visibility": null,
            "width": null
          }
        },
        "6a8510e60f6a42ccb9b28eb3cdb213a3": {
          "model_module": "@jupyter-widgets/controls",
          "model_module_version": "1.5.0",
          "model_name": "HTMLModel",
          "state": {
            "_dom_classes": [],
            "_model_module": "@jupyter-widgets/controls",
            "_model_module_version": "1.5.0",
            "_model_name": "HTMLModel",
            "_view_count": null,
            "_view_module": "@jupyter-widgets/controls",
            "_view_module_version": "1.5.0",
            "_view_name": "HTMLView",
            "description": "",
            "description_tooltip": null,
            "layout": "IPY_MODEL_c4043f0bde0040b69489b2c28d084a19",
            "placeholder": "​",
            "style": "IPY_MODEL_d87d2ba790df4d27bf8a5206650375b7",
            "value": "Downloading (…)lve/main/config.json: 100%"
          }
        },
        "6c9871bb7f174107b71a923d8cbcec62": {
          "model_module": "@jupyter-widgets/controls",
          "model_module_version": "1.5.0",
          "model_name": "HBoxModel",
          "state": {
            "_dom_classes": [],
            "_model_module": "@jupyter-widgets/controls",
            "_model_module_version": "1.5.0",
            "_model_name": "HBoxModel",
            "_view_count": null,
            "_view_module": "@jupyter-widgets/controls",
            "_view_module_version": "1.5.0",
            "_view_name": "HBoxView",
            "box_style": "",
            "children": [
              "IPY_MODEL_5fc0f4ad749e4aa59d6f7d6b1cc1c084",
              "IPY_MODEL_8cd0001481a84f86940302bce343e64f",
              "IPY_MODEL_f54bc35e7464486c9a60d02e628f3fe4"
            ],
            "layout": "IPY_MODEL_5bd9d50732aa4f53b4030678954fc398"
          }
        },
        "75d59b65b29749298ecec1241380a5fa": {
          "model_module": "@jupyter-widgets/base",
          "model_module_version": "1.2.0",
          "model_name": "LayoutModel",
          "state": {
            "_model_module": "@jupyter-widgets/base",
            "_model_module_version": "1.2.0",
            "_model_name": "LayoutModel",
            "_view_count": null,
            "_view_module": "@jupyter-widgets/base",
            "_view_module_version": "1.2.0",
            "_view_name": "LayoutView",
            "align_content": null,
            "align_items": null,
            "align_self": null,
            "border": null,
            "bottom": null,
            "display": null,
            "flex": null,
            "flex_flow": null,
            "grid_area": null,
            "grid_auto_columns": null,
            "grid_auto_flow": null,
            "grid_auto_rows": null,
            "grid_column": null,
            "grid_gap": null,
            "grid_row": null,
            "grid_template_areas": null,
            "grid_template_columns": null,
            "grid_template_rows": null,
            "height": null,
            "justify_content": null,
            "justify_items": null,
            "left": null,
            "margin": null,
            "max_height": null,
            "max_width": null,
            "min_height": null,
            "min_width": null,
            "object_fit": null,
            "object_position": null,
            "order": null,
            "overflow": null,
            "overflow_x": null,
            "overflow_y": null,
            "padding": null,
            "right": null,
            "top": null,
            "visibility": null,
            "width": null
          }
        },
        "76955885ee314bff9dcfd6f4ccac222c": {
          "model_module": "@jupyter-widgets/controls",
          "model_module_version": "1.5.0",
          "model_name": "ProgressStyleModel",
          "state": {
            "_model_module": "@jupyter-widgets/controls",
            "_model_module_version": "1.5.0",
            "_model_name": "ProgressStyleModel",
            "_view_count": null,
            "_view_module": "@jupyter-widgets/base",
            "_view_module_version": "1.2.0",
            "_view_name": "StyleView",
            "bar_color": null,
            "description_width": ""
          }
        },
        "7d277bd5adbf40a29a0b6ca1eb32c1d7": {
          "model_module": "@jupyter-widgets/controls",
          "model_module_version": "1.5.0",
          "model_name": "DescriptionStyleModel",
          "state": {
            "_model_module": "@jupyter-widgets/controls",
            "_model_module_version": "1.5.0",
            "_model_name": "DescriptionStyleModel",
            "_view_count": null,
            "_view_module": "@jupyter-widgets/base",
            "_view_module_version": "1.2.0",
            "_view_name": "StyleView",
            "description_width": ""
          }
        },
        "7eb155a619904aa282444c8142cae0d9": {
          "model_module": "@jupyter-widgets/controls",
          "model_module_version": "1.5.0",
          "model_name": "FloatProgressModel",
          "state": {
            "_dom_classes": [],
            "_model_module": "@jupyter-widgets/controls",
            "_model_module_version": "1.5.0",
            "_model_name": "FloatProgressModel",
            "_view_count": null,
            "_view_module": "@jupyter-widgets/controls",
            "_view_module_version": "1.5.0",
            "_view_name": "ProgressView",
            "bar_style": "success",
            "description": "",
            "description_tooltip": null,
            "layout": "IPY_MODEL_8bd80460fee146eaacc3d74c739e0486",
            "max": 534,
            "min": 0,
            "orientation": "horizontal",
            "style": "IPY_MODEL_a141f757f56440b08fdf63687130e369",
            "value": 534
          }
        },
        "85901db32cbb4d1ab638a8f4957df50d": {
          "model_module": "@jupyter-widgets/controls",
          "model_module_version": "1.5.0",
          "model_name": "ProgressStyleModel",
          "state": {
            "_model_module": "@jupyter-widgets/controls",
            "_model_module_version": "1.5.0",
            "_model_name": "ProgressStyleModel",
            "_view_count": null,
            "_view_module": "@jupyter-widgets/base",
            "_view_module_version": "1.2.0",
            "_view_name": "StyleView",
            "bar_color": null,
            "description_width": ""
          }
        },
        "870108f3dfca43d493e7ca8050dc23e0": {
          "model_module": "@jupyter-widgets/controls",
          "model_module_version": "1.5.0",
          "model_name": "HTMLModel",
          "state": {
            "_dom_classes": [],
            "_model_module": "@jupyter-widgets/controls",
            "_model_module_version": "1.5.0",
            "_model_name": "HTMLModel",
            "_view_count": null,
            "_view_module": "@jupyter-widgets/controls",
            "_view_module_version": "1.5.0",
            "_view_name": "HTMLView",
            "description": "",
            "description_tooltip": null,
            "layout": "IPY_MODEL_3e117101c1ef438aa0e51e985e4b6334",
            "placeholder": "​",
            "style": "IPY_MODEL_b2370feee46e4625888887c4a941346c",
            "value": " 394/394 [00:00&lt;00:00, 28.5kB/s]"
          }
        },
        "899cbb189b3f49f785bc4ea30f9ed728": {
          "model_module": "@jupyter-widgets/controls",
          "model_module_version": "1.5.0",
          "model_name": "ProgressStyleModel",
          "state": {
            "_model_module": "@jupyter-widgets/controls",
            "_model_module_version": "1.5.0",
            "_model_name": "ProgressStyleModel",
            "_view_count": null,
            "_view_module": "@jupyter-widgets/base",
            "_view_module_version": "1.2.0",
            "_view_name": "StyleView",
            "bar_color": null,
            "description_width": ""
          }
        },
        "8b72c7f1b1d54cee855b76dbc9eea2ef": {
          "model_module": "@jupyter-widgets/controls",
          "model_module_version": "1.5.0",
          "model_name": "DescriptionStyleModel",
          "state": {
            "_model_module": "@jupyter-widgets/controls",
            "_model_module_version": "1.5.0",
            "_model_name": "DescriptionStyleModel",
            "_view_count": null,
            "_view_module": "@jupyter-widgets/base",
            "_view_module_version": "1.2.0",
            "_view_name": "StyleView",
            "description_width": ""
          }
        },
        "8bd80460fee146eaacc3d74c739e0486": {
          "model_module": "@jupyter-widgets/base",
          "model_module_version": "1.2.0",
          "model_name": "LayoutModel",
          "state": {
            "_model_module": "@jupyter-widgets/base",
            "_model_module_version": "1.2.0",
            "_model_name": "LayoutModel",
            "_view_count": null,
            "_view_module": "@jupyter-widgets/base",
            "_view_module_version": "1.2.0",
            "_view_name": "LayoutView",
            "align_content": null,
            "align_items": null,
            "align_self": null,
            "border": null,
            "bottom": null,
            "display": null,
            "flex": null,
            "flex_flow": null,
            "grid_area": null,
            "grid_auto_columns": null,
            "grid_auto_flow": null,
            "grid_auto_rows": null,
            "grid_column": null,
            "grid_gap": null,
            "grid_row": null,
            "grid_template_areas": null,
            "grid_template_columns": null,
            "grid_template_rows": null,
            "height": null,
            "justify_content": null,
            "justify_items": null,
            "left": null,
            "margin": null,
            "max_height": null,
            "max_width": null,
            "min_height": null,
            "min_width": null,
            "object_fit": null,
            "object_position": null,
            "order": null,
            "overflow": null,
            "overflow_x": null,
            "overflow_y": null,
            "padding": null,
            "right": null,
            "top": null,
            "visibility": null,
            "width": null
          }
        },
        "8cd0001481a84f86940302bce343e64f": {
          "model_module": "@jupyter-widgets/controls",
          "model_module_version": "1.5.0",
          "model_name": "FloatProgressModel",
          "state": {
            "_dom_classes": [],
            "_model_module": "@jupyter-widgets/controls",
            "_model_module_version": "1.5.0",
            "_model_name": "FloatProgressModel",
            "_view_count": null,
            "_view_module": "@jupyter-widgets/controls",
            "_view_module_version": "1.5.0",
            "_view_name": "ProgressView",
            "bar_style": "success",
            "description": "",
            "description_tooltip": null,
            "layout": "IPY_MODEL_c9a4bcb6ab1a4aafb87674b80d1630da",
            "max": 99,
            "min": 0,
            "orientation": "horizontal",
            "style": "IPY_MODEL_76955885ee314bff9dcfd6f4ccac222c",
            "value": 99
          }
        },
        "8fd1e37efade46b1abc1a8524d3f3493": {
          "model_module": "@jupyter-widgets/base",
          "model_module_version": "1.2.0",
          "model_name": "LayoutModel",
          "state": {
            "_model_module": "@jupyter-widgets/base",
            "_model_module_version": "1.2.0",
            "_model_name": "LayoutModel",
            "_view_count": null,
            "_view_module": "@jupyter-widgets/base",
            "_view_module_version": "1.2.0",
            "_view_name": "LayoutView",
            "align_content": null,
            "align_items": null,
            "align_self": null,
            "border": null,
            "bottom": null,
            "display": null,
            "flex": null,
            "flex_flow": null,
            "grid_area": null,
            "grid_auto_columns": null,
            "grid_auto_flow": null,
            "grid_auto_rows": null,
            "grid_column": null,
            "grid_gap": null,
            "grid_row": null,
            "grid_template_areas": null,
            "grid_template_columns": null,
            "grid_template_rows": null,
            "height": null,
            "justify_content": null,
            "justify_items": null,
            "left": null,
            "margin": null,
            "max_height": null,
            "max_width": null,
            "min_height": null,
            "min_width": null,
            "object_fit": null,
            "object_position": null,
            "order": null,
            "overflow": null,
            "overflow_x": null,
            "overflow_y": null,
            "padding": null,
            "right": null,
            "top": null,
            "visibility": null,
            "width": null
          }
        },
        "90bc7cf5b6434a8e87dd1eb0e5fa9995": {
          "model_module": "@jupyter-widgets/controls",
          "model_module_version": "1.5.0",
          "model_name": "FloatProgressModel",
          "state": {
            "_dom_classes": [],
            "_model_module": "@jupyter-widgets/controls",
            "_model_module_version": "1.5.0",
            "_model_name": "FloatProgressModel",
            "_view_count": null,
            "_view_module": "@jupyter-widgets/controls",
            "_view_module_version": "1.5.0",
            "_view_name": "ProgressView",
            "bar_style": "success",
            "description": "",
            "description_tooltip": null,
            "layout": "IPY_MODEL_12ad8931e84f4a72a44d37fc33908964",
            "max": 2113710,
            "min": 0,
            "orientation": "horizontal",
            "style": "IPY_MODEL_43ced0e2afe842adb76917e866efad5a",
            "value": 2113710
          }
        },
        "91daf31f42124f41b9c9128cd4bd2af3": {
          "model_module": "@jupyter-widgets/base",
          "model_module_version": "1.2.0",
          "model_name": "LayoutModel",
          "state": {
            "_model_module": "@jupyter-widgets/base",
            "_model_module_version": "1.2.0",
            "_model_name": "LayoutModel",
            "_view_count": null,
            "_view_module": "@jupyter-widgets/base",
            "_view_module_version": "1.2.0",
            "_view_name": "LayoutView",
            "align_content": null,
            "align_items": null,
            "align_self": null,
            "border": null,
            "bottom": null,
            "display": null,
            "flex": null,
            "flex_flow": null,
            "grid_area": null,
            "grid_auto_columns": null,
            "grid_auto_flow": null,
            "grid_auto_rows": null,
            "grid_column": null,
            "grid_gap": null,
            "grid_row": null,
            "grid_template_areas": null,
            "grid_template_columns": null,
            "grid_template_rows": null,
            "height": null,
            "justify_content": null,
            "justify_items": null,
            "left": null,
            "margin": null,
            "max_height": null,
            "max_width": null,
            "min_height": null,
            "min_width": null,
            "object_fit": null,
            "object_position": null,
            "order": null,
            "overflow": null,
            "overflow_x": null,
            "overflow_y": null,
            "padding": null,
            "right": null,
            "top": null,
            "visibility": null,
            "width": null
          }
        },
        "95746cf5fbc5435795b4edce0a680ac7": {
          "model_module": "@jupyter-widgets/base",
          "model_module_version": "1.2.0",
          "model_name": "LayoutModel",
          "state": {
            "_model_module": "@jupyter-widgets/base",
            "_model_module_version": "1.2.0",
            "_model_name": "LayoutModel",
            "_view_count": null,
            "_view_module": "@jupyter-widgets/base",
            "_view_module_version": "1.2.0",
            "_view_name": "LayoutView",
            "align_content": null,
            "align_items": null,
            "align_self": null,
            "border": null,
            "bottom": null,
            "display": null,
            "flex": null,
            "flex_flow": null,
            "grid_area": null,
            "grid_auto_columns": null,
            "grid_auto_flow": null,
            "grid_auto_rows": null,
            "grid_column": null,
            "grid_gap": null,
            "grid_row": null,
            "grid_template_areas": null,
            "grid_template_columns": null,
            "grid_template_rows": null,
            "height": null,
            "justify_content": null,
            "justify_items": null,
            "left": null,
            "margin": null,
            "max_height": null,
            "max_width": null,
            "min_height": null,
            "min_width": null,
            "object_fit": null,
            "object_position": null,
            "order": null,
            "overflow": null,
            "overflow_x": null,
            "overflow_y": null,
            "padding": null,
            "right": null,
            "top": null,
            "visibility": null,
            "width": null
          }
        },
        "a141f757f56440b08fdf63687130e369": {
          "model_module": "@jupyter-widgets/controls",
          "model_module_version": "1.5.0",
          "model_name": "ProgressStyleModel",
          "state": {
            "_model_module": "@jupyter-widgets/controls",
            "_model_module_version": "1.5.0",
            "_model_name": "ProgressStyleModel",
            "_view_count": null,
            "_view_module": "@jupyter-widgets/base",
            "_view_module_version": "1.2.0",
            "_view_name": "StyleView",
            "bar_color": null,
            "description_width": ""
          }
        },
        "a3faeef1b00e45658da16c39f8b42019": {
          "model_module": "@jupyter-widgets/controls",
          "model_module_version": "1.5.0",
          "model_name": "HBoxModel",
          "state": {
            "_dom_classes": [],
            "_model_module": "@jupyter-widgets/controls",
            "_model_module_version": "1.5.0",
            "_model_name": "HBoxModel",
            "_view_count": null,
            "_view_module": "@jupyter-widgets/controls",
            "_view_module_version": "1.5.0",
            "_view_name": "HBoxView",
            "box_style": "",
            "children": [
              "IPY_MODEL_486a05db96d54dce94d9093232b092c2",
              "IPY_MODEL_90bc7cf5b6434a8e87dd1eb0e5fa9995",
              "IPY_MODEL_5eae987c2e274d0dad1fef587498bee6"
            ],
            "layout": "IPY_MODEL_69e5c363fe1e43b3ad0d9dbbbc7ea1b2"
          }
        },
        "a788ff351e87412594b50ef13adddc2e": {
          "model_module": "@jupyter-widgets/controls",
          "model_module_version": "1.5.0",
          "model_name": "HBoxModel",
          "state": {
            "_dom_classes": [],
            "_model_module": "@jupyter-widgets/controls",
            "_model_module_version": "1.5.0",
            "_model_name": "HBoxModel",
            "_view_count": null,
            "_view_module": "@jupyter-widgets/controls",
            "_view_module_version": "1.5.0",
            "_view_name": "HBoxView",
            "box_style": "",
            "children": [
              "IPY_MODEL_15de438672ee4e6799f3584814896c94",
              "IPY_MODEL_657ffa2b97f14cb8a932651b2817bb85",
              "IPY_MODEL_870108f3dfca43d493e7ca8050dc23e0"
            ],
            "layout": "IPY_MODEL_28b474f979a14f18a58f1774b6d36dc5"
          }
        },
        "ae373bd04ac046208e2dcaec820a0b1f": {
          "model_module": "@jupyter-widgets/controls",
          "model_module_version": "1.5.0",
          "model_name": "DescriptionStyleModel",
          "state": {
            "_model_module": "@jupyter-widgets/controls",
            "_model_module_version": "1.5.0",
            "_model_name": "DescriptionStyleModel",
            "_view_count": null,
            "_view_module": "@jupyter-widgets/base",
            "_view_module_version": "1.2.0",
            "_view_name": "StyleView",
            "description_width": ""
          }
        },
        "b2370feee46e4625888887c4a941346c": {
          "model_module": "@jupyter-widgets/controls",
          "model_module_version": "1.5.0",
          "model_name": "DescriptionStyleModel",
          "state": {
            "_model_module": "@jupyter-widgets/controls",
            "_model_module_version": "1.5.0",
            "_model_name": "DescriptionStyleModel",
            "_view_count": null,
            "_view_module": "@jupyter-widgets/base",
            "_view_module_version": "1.2.0",
            "_view_name": "StyleView",
            "description_width": ""
          }
        },
        "b5a7daa4c2474186b91f740dc0a49527": {
          "model_module": "@jupyter-widgets/controls",
          "model_module_version": "1.5.0",
          "model_name": "DescriptionStyleModel",
          "state": {
            "_model_module": "@jupyter-widgets/controls",
            "_model_module_version": "1.5.0",
            "_model_name": "DescriptionStyleModel",
            "_view_count": null,
            "_view_module": "@jupyter-widgets/base",
            "_view_module_version": "1.2.0",
            "_view_name": "StyleView",
            "description_width": ""
          }
        },
        "b6c605a6bbe24f018fd4083ef81e1c84": {
          "model_module": "@jupyter-widgets/controls",
          "model_module_version": "1.5.0",
          "model_name": "HBoxModel",
          "state": {
            "_dom_classes": [],
            "_model_module": "@jupyter-widgets/controls",
            "_model_module_version": "1.5.0",
            "_model_name": "HBoxModel",
            "_view_count": null,
            "_view_module": "@jupyter-widgets/controls",
            "_view_module_version": "1.5.0",
            "_view_name": "HBoxView",
            "box_style": "",
            "children": [
              "IPY_MODEL_1e1e008f496548e9b79b4bdf868927d8",
              "IPY_MODEL_c087a8e05c0048c1ba0dd9a9d9958ad4",
              "IPY_MODEL_c407ce69974649578d34d0b63f16aeb2"
            ],
            "layout": "IPY_MODEL_75d59b65b29749298ecec1241380a5fa"
          }
        },
        "c087a8e05c0048c1ba0dd9a9d9958ad4": {
          "model_module": "@jupyter-widgets/controls",
          "model_module_version": "1.5.0",
          "model_name": "FloatProgressModel",
          "state": {
            "_dom_classes": [],
            "_model_module": "@jupyter-widgets/controls",
            "_model_module_version": "1.5.0",
            "_model_name": "FloatProgressModel",
            "_view_count": null,
            "_view_module": "@jupyter-widgets/controls",
            "_view_module_version": "1.5.0",
            "_view_name": "ProgressView",
            "bar_style": "success",
            "description": "",
            "description_tooltip": null,
            "layout": "IPY_MODEL_24c561e352e7457eafefc2869316fd1a",
            "max": 166029846,
            "min": 0,
            "orientation": "horizontal",
            "style": "IPY_MODEL_899cbb189b3f49f785bc4ea30f9ed728",
            "value": 166029846
          }
        },
        "c4043f0bde0040b69489b2c28d084a19": {
          "model_module": "@jupyter-widgets/base",
          "model_module_version": "1.2.0",
          "model_name": "LayoutModel",
          "state": {
            "_model_module": "@jupyter-widgets/base",
            "_model_module_version": "1.2.0",
            "_model_name": "LayoutModel",
            "_view_count": null,
            "_view_module": "@jupyter-widgets/base",
            "_view_module_version": "1.2.0",
            "_view_name": "LayoutView",
            "align_content": null,
            "align_items": null,
            "align_self": null,
            "border": null,
            "bottom": null,
            "display": null,
            "flex": null,
            "flex_flow": null,
            "grid_area": null,
            "grid_auto_columns": null,
            "grid_auto_flow": null,
            "grid_auto_rows": null,
            "grid_column": null,
            "grid_gap": null,
            "grid_row": null,
            "grid_template_areas": null,
            "grid_template_columns": null,
            "grid_template_rows": null,
            "height": null,
            "justify_content": null,
            "justify_items": null,
            "left": null,
            "margin": null,
            "max_height": null,
            "max_width": null,
            "min_height": null,
            "min_width": null,
            "object_fit": null,
            "object_position": null,
            "order": null,
            "overflow": null,
            "overflow_x": null,
            "overflow_y": null,
            "padding": null,
            "right": null,
            "top": null,
            "visibility": null,
            "width": null
          }
        },
        "c407ce69974649578d34d0b63f16aeb2": {
          "model_module": "@jupyter-widgets/controls",
          "model_module_version": "1.5.0",
          "model_name": "HTMLModel",
          "state": {
            "_dom_classes": [],
            "_model_module": "@jupyter-widgets/controls",
            "_model_module_version": "1.5.0",
            "_model_name": "HTMLModel",
            "_view_count": null,
            "_view_module": "@jupyter-widgets/controls",
            "_view_module_version": "1.5.0",
            "_view_name": "HTMLView",
            "description": "",
            "description_tooltip": null,
            "layout": "IPY_MODEL_8fd1e37efade46b1abc1a8524d3f3493",
            "placeholder": "​",
            "style": "IPY_MODEL_8b72c7f1b1d54cee855b76dbc9eea2ef",
            "value": " 166M/166M [00:02&lt;00:00, 88.3MB/s]"
          }
        },
        "c78a4107880543b6a9ce617264baa63e": {
          "model_module": "@jupyter-widgets/base",
          "model_module_version": "1.2.0",
          "model_name": "LayoutModel",
          "state": {
            "_model_module": "@jupyter-widgets/base",
            "_model_module_version": "1.2.0",
            "_model_name": "LayoutModel",
            "_view_count": null,
            "_view_module": "@jupyter-widgets/base",
            "_view_module_version": "1.2.0",
            "_view_name": "LayoutView",
            "align_content": null,
            "align_items": null,
            "align_self": null,
            "border": null,
            "bottom": null,
            "display": null,
            "flex": null,
            "flex_flow": null,
            "grid_area": null,
            "grid_auto_columns": null,
            "grid_auto_flow": null,
            "grid_auto_rows": null,
            "grid_column": null,
            "grid_gap": null,
            "grid_row": null,
            "grid_template_areas": null,
            "grid_template_columns": null,
            "grid_template_rows": null,
            "height": null,
            "justify_content": null,
            "justify_items": null,
            "left": null,
            "margin": null,
            "max_height": null,
            "max_width": null,
            "min_height": null,
            "min_width": null,
            "object_fit": null,
            "object_position": null,
            "order": null,
            "overflow": null,
            "overflow_x": null,
            "overflow_y": null,
            "padding": null,
            "right": null,
            "top": null,
            "visibility": null,
            "width": null
          }
        },
        "c9a4bcb6ab1a4aafb87674b80d1630da": {
          "model_module": "@jupyter-widgets/base",
          "model_module_version": "1.2.0",
          "model_name": "LayoutModel",
          "state": {
            "_model_module": "@jupyter-widgets/base",
            "_model_module_version": "1.2.0",
            "_model_name": "LayoutModel",
            "_view_count": null,
            "_view_module": "@jupyter-widgets/base",
            "_view_module_version": "1.2.0",
            "_view_name": "LayoutView",
            "align_content": null,
            "align_items": null,
            "align_self": null,
            "border": null,
            "bottom": null,
            "display": null,
            "flex": null,
            "flex_flow": null,
            "grid_area": null,
            "grid_auto_columns": null,
            "grid_auto_flow": null,
            "grid_auto_rows": null,
            "grid_column": null,
            "grid_gap": null,
            "grid_row": null,
            "grid_template_areas": null,
            "grid_template_columns": null,
            "grid_template_rows": null,
            "height": null,
            "justify_content": null,
            "justify_items": null,
            "left": null,
            "margin": null,
            "max_height": null,
            "max_width": null,
            "min_height": null,
            "min_width": null,
            "object_fit": null,
            "object_position": null,
            "order": null,
            "overflow": null,
            "overflow_x": null,
            "overflow_y": null,
            "padding": null,
            "right": null,
            "top": null,
            "visibility": null,
            "width": null
          }
        },
        "d2a837ae13ce45ecab40d6f8893323df": {
          "model_module": "@jupyter-widgets/controls",
          "model_module_version": "1.5.0",
          "model_name": "DescriptionStyleModel",
          "state": {
            "_model_module": "@jupyter-widgets/controls",
            "_model_module_version": "1.5.0",
            "_model_name": "DescriptionStyleModel",
            "_view_count": null,
            "_view_module": "@jupyter-widgets/base",
            "_view_module_version": "1.2.0",
            "_view_name": "StyleView",
            "description_width": ""
          }
        },
        "d87d2ba790df4d27bf8a5206650375b7": {
          "model_module": "@jupyter-widgets/controls",
          "model_module_version": "1.5.0",
          "model_name": "DescriptionStyleModel",
          "state": {
            "_model_module": "@jupyter-widgets/controls",
            "_model_module_version": "1.5.0",
            "_model_name": "DescriptionStyleModel",
            "_view_count": null,
            "_view_module": "@jupyter-widgets/base",
            "_view_module_version": "1.2.0",
            "_view_name": "StyleView",
            "description_width": ""
          }
        },
        "de8d565a0b54464fb91d2f7e821c4389": {
          "model_module": "@jupyter-widgets/base",
          "model_module_version": "1.2.0",
          "model_name": "LayoutModel",
          "state": {
            "_model_module": "@jupyter-widgets/base",
            "_model_module_version": "1.2.0",
            "_model_name": "LayoutModel",
            "_view_count": null,
            "_view_module": "@jupyter-widgets/base",
            "_view_module_version": "1.2.0",
            "_view_name": "LayoutView",
            "align_content": null,
            "align_items": null,
            "align_self": null,
            "border": null,
            "bottom": null,
            "display": null,
            "flex": null,
            "flex_flow": null,
            "grid_area": null,
            "grid_auto_columns": null,
            "grid_auto_flow": null,
            "grid_auto_rows": null,
            "grid_column": null,
            "grid_gap": null,
            "grid_row": null,
            "grid_template_areas": null,
            "grid_template_columns": null,
            "grid_template_rows": null,
            "height": null,
            "justify_content": null,
            "justify_items": null,
            "left": null,
            "margin": null,
            "max_height": null,
            "max_width": null,
            "min_height": null,
            "min_width": null,
            "object_fit": null,
            "object_position": null,
            "order": null,
            "overflow": null,
            "overflow_x": null,
            "overflow_y": null,
            "padding": null,
            "right": null,
            "top": null,
            "visibility": null,
            "width": null
          }
        },
        "df5bd50307694607b0985c1aa20fc6aa": {
          "model_module": "@jupyter-widgets/base",
          "model_module_version": "1.2.0",
          "model_name": "LayoutModel",
          "state": {
            "_model_module": "@jupyter-widgets/base",
            "_model_module_version": "1.2.0",
            "_model_name": "LayoutModel",
            "_view_count": null,
            "_view_module": "@jupyter-widgets/base",
            "_view_module_version": "1.2.0",
            "_view_name": "LayoutView",
            "align_content": null,
            "align_items": null,
            "align_self": null,
            "border": null,
            "bottom": null,
            "display": null,
            "flex": null,
            "flex_flow": null,
            "grid_area": null,
            "grid_auto_columns": null,
            "grid_auto_flow": null,
            "grid_auto_rows": null,
            "grid_column": null,
            "grid_gap": null,
            "grid_row": null,
            "grid_template_areas": null,
            "grid_template_columns": null,
            "grid_template_rows": null,
            "height": null,
            "justify_content": null,
            "justify_items": null,
            "left": null,
            "margin": null,
            "max_height": null,
            "max_width": null,
            "min_height": null,
            "min_width": null,
            "object_fit": null,
            "object_position": null,
            "order": null,
            "overflow": null,
            "overflow_x": null,
            "overflow_y": null,
            "padding": null,
            "right": null,
            "top": null,
            "visibility": null,
            "width": null
          }
        },
        "e823f1b13e404b2da50eef8bff1f0787": {
          "model_module": "@jupyter-widgets/controls",
          "model_module_version": "1.5.0",
          "model_name": "DescriptionStyleModel",
          "state": {
            "_model_module": "@jupyter-widgets/controls",
            "_model_module_version": "1.5.0",
            "_model_name": "DescriptionStyleModel",
            "_view_count": null,
            "_view_module": "@jupyter-widgets/base",
            "_view_module_version": "1.2.0",
            "_view_name": "StyleView",
            "description_width": ""
          }
        },
        "f3d1bf5ac3b742baaa2a3db08f3347da": {
          "model_module": "@jupyter-widgets/controls",
          "model_module_version": "1.5.0",
          "model_name": "HTMLModel",
          "state": {
            "_dom_classes": [],
            "_model_module": "@jupyter-widgets/controls",
            "_model_module_version": "1.5.0",
            "_model_name": "HTMLModel",
            "_view_count": null,
            "_view_module": "@jupyter-widgets/controls",
            "_view_module_version": "1.5.0",
            "_view_name": "HTMLView",
            "description": "",
            "description_tooltip": null,
            "layout": "IPY_MODEL_f70ac5d612574d4fa8bdf654cac710e5",
            "placeholder": "​",
            "style": "IPY_MODEL_f74eb74cbdb54073846f1452895f8345",
            "value": " 534/534 [00:00&lt;00:00, 13.5kB/s]"
          }
        },
        "f54bc35e7464486c9a60d02e628f3fe4": {
          "model_module": "@jupyter-widgets/controls",
          "model_module_version": "1.5.0",
          "model_name": "HTMLModel",
          "state": {
            "_dom_classes": [],
            "_model_module": "@jupyter-widgets/controls",
            "_model_module_version": "1.5.0",
            "_model_name": "HTMLModel",
            "_view_count": null,
            "_view_module": "@jupyter-widgets/controls",
            "_view_module_version": "1.5.0",
            "_view_name": "HTMLView",
            "description": "",
            "description_tooltip": null,
            "layout": "IPY_MODEL_91daf31f42124f41b9c9128cd4bd2af3",
            "placeholder": "​",
            "style": "IPY_MODEL_b5a7daa4c2474186b91f740dc0a49527",
            "value": " 99.0/99.0 [00:00&lt;00:00, 2.73kB/s]"
          }
        },
        "f70ac5d612574d4fa8bdf654cac710e5": {
          "model_module": "@jupyter-widgets/base",
          "model_module_version": "1.2.0",
          "model_name": "LayoutModel",
          "state": {
            "_model_module": "@jupyter-widgets/base",
            "_model_module_version": "1.2.0",
            "_model_name": "LayoutModel",
            "_view_count": null,
            "_view_module": "@jupyter-widgets/base",
            "_view_module_version": "1.2.0",
            "_view_name": "LayoutView",
            "align_content": null,
            "align_items": null,
            "align_self": null,
            "border": null,
            "bottom": null,
            "display": null,
            "flex": null,
            "flex_flow": null,
            "grid_area": null,
            "grid_auto_columns": null,
            "grid_auto_flow": null,
            "grid_auto_rows": null,
            "grid_column": null,
            "grid_gap": null,
            "grid_row": null,
            "grid_template_areas": null,
            "grid_template_columns": null,
            "grid_template_rows": null,
            "height": null,
            "justify_content": null,
            "justify_items": null,
            "left": null,
            "margin": null,
            "max_height": null,
            "max_width": null,
            "min_height": null,
            "min_width": null,
            "object_fit": null,
            "object_position": null,
            "order": null,
            "overflow": null,
            "overflow_x": null,
            "overflow_y": null,
            "padding": null,
            "right": null,
            "top": null,
            "visibility": null,
            "width": null
          }
        },
        "f74eb74cbdb54073846f1452895f8345": {
          "model_module": "@jupyter-widgets/controls",
          "model_module_version": "1.5.0",
          "model_name": "DescriptionStyleModel",
          "state": {
            "_model_module": "@jupyter-widgets/controls",
            "_model_module_version": "1.5.0",
            "_model_name": "DescriptionStyleModel",
            "_view_count": null,
            "_view_module": "@jupyter-widgets/base",
            "_view_module_version": "1.2.0",
            "_view_name": "StyleView",
            "description_width": ""
          }
        },
        "f9e16c5ffd9a400a82a500ad75aa10c1": {
          "model_module": "@jupyter-widgets/controls",
          "model_module_version": "1.5.0",
          "model_name": "HBoxModel",
          "state": {
            "_dom_classes": [],
            "_model_module": "@jupyter-widgets/controls",
            "_model_module_version": "1.5.0",
            "_model_name": "HBoxModel",
            "_view_count": null,
            "_view_module": "@jupyter-widgets/controls",
            "_view_module_version": "1.5.0",
            "_view_name": "HBoxView",
            "box_style": "",
            "children": [
              "IPY_MODEL_6a8510e60f6a42ccb9b28eb3cdb213a3",
              "IPY_MODEL_7eb155a619904aa282444c8142cae0d9",
              "IPY_MODEL_f3d1bf5ac3b742baaa2a3db08f3347da"
            ],
            "layout": "IPY_MODEL_235344e7e74c44f39021b544dbf5c03d"
          }
        }
      }
    }
  },
  "nbformat": 4,
  "nbformat_minor": 0
}
