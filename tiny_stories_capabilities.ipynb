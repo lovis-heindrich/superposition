{
 "cells": [
  {
   "cell_type": "code",
   "execution_count": 1,
   "metadata": {},
   "outputs": [
    {
     "name": "stderr",
     "output_type": "stream",
     "text": [
      "Using pad_token, but it is not set yet.\n"
     ]
    },
    {
     "name": "stdout",
     "output_type": "stream",
     "text": [
      "Loaded pretrained model tiny-stories-33M into HookedTransformer\n"
     ]
    }
   ],
   "source": [
    "import torch\n",
    "from tqdm.auto import tqdm\n",
    "from transformer_lens import HookedTransformer\n",
    "from jaxtyping import Float, Int, Bool\n",
    "from torch import Tensor\n",
    "from tqdm.auto import tqdm\n",
    "import plotly.io as pio\n",
    "import pandas as pd\n",
    "import numpy as np\n",
    "import plotly.express as px \n",
    "from collections import defaultdict\n",
    "import matplotlib.pyplot as plt\n",
    "import re\n",
    "from IPython.display import display, HTML\n",
    "from datasets import load_dataset\n",
    "from collections import Counter\n",
    "import pickle\n",
    "import os\n",
    "import plotly.graph_objects as go\n",
    "from scipy.stats import norm\n",
    "\n",
    "import sklearn\n",
    "from sklearn.model_selection import train_test_split\n",
    "from sklearn.linear_model import LogisticRegression\n",
    "\n",
    "pio.renderers.default = \"notebook_connected+notebook\"\n",
    "device = \"cuda\" if torch.cuda.is_available() else \"cpu\"\n",
    "torch.autograd.set_grad_enabled(False)\n",
    "torch.set_grad_enabled(False)\n",
    "\n",
    "from haystack_utils import get_mlp_activations\n",
    "from hook_utils import get_ablate_neuron_hook\n",
    "import haystack_utils\n",
    "from pythia_160m_utils import get_neuron_accuracy, ablation_effect\n",
    "from plotting_utils import plot_neuron_acts, color_binned_histogram\n",
    "\n",
    "\n",
    "%reload_ext autoreload\n",
    "%autoreload 2\n",
    "\n",
    "model = HookedTransformer.from_pretrained(\"tiny-stories-33M\",\n",
    "    center_unembed=True,\n",
    "    center_writing_weights=True,\n",
    "    fold_ln=True,\n",
    "    device=\"cuda\")"
   ]
  },
  {
   "cell_type": "code",
   "execution_count": 4,
   "metadata": {},
   "outputs": [
    {
     "data": {
      "application/vnd.jupyter.widget-view+json": {
       "model_id": "ae2d70f288f840fbaeebfbc3e87a6833",
       "version_major": 2,
       "version_minor": 0
      },
      "text/plain": [
       "Downloading readme:   0%|          | 0.00/946 [00:00<?, ?B/s]"
      ]
     },
     "metadata": {},
     "output_type": "display_data"
    },
    {
     "name": "stderr",
     "output_type": "stream",
     "text": [
      "Repo card metadata block was not found. Setting CardData to empty.\n"
     ]
    },
    {
     "data": {
      "application/vnd.jupyter.widget-view+json": {
       "model_id": "cb73bb8e07084857ab17b34c29ff2fa9",
       "version_major": 2,
       "version_minor": 0
      },
      "text/plain": [
       "Downloading data files:   0%|          | 0/2 [00:00<?, ?it/s]"
      ]
     },
     "metadata": {},
     "output_type": "display_data"
    },
    {
     "data": {
      "application/vnd.jupyter.widget-view+json": {
       "model_id": "7bf68e221b6a40358b13d789e0d93000",
       "version_major": 2,
       "version_minor": 0
      },
      "text/plain": [
       "Downloading data:   0%|          | 0.00/249M [00:00<?, ?B/s]"
      ]
     },
     "metadata": {},
     "output_type": "display_data"
    },
    {
     "data": {
      "application/vnd.jupyter.widget-view+json": {
       "model_id": "fb1077024e104d43a3c92e536a83c9ac",
       "version_major": 2,
       "version_minor": 0
      },
      "text/plain": [
       "Downloading data:   0%|          | 0.00/248M [00:00<?, ?B/s]"
      ]
     },
     "metadata": {},
     "output_type": "display_data"
    },
    {
     "data": {
      "application/vnd.jupyter.widget-view+json": {
       "model_id": "d20414b4e050467da28e605748749d14",
       "version_major": 2,
       "version_minor": 0
      },
      "text/plain": [
       "Downloading data:   0%|          | 0.00/246M [00:00<?, ?B/s]"
      ]
     },
     "metadata": {},
     "output_type": "display_data"
    },
    {
     "data": {
      "application/vnd.jupyter.widget-view+json": {
       "model_id": "fa3fc12611644d21804ed85e97ab8e65",
       "version_major": 2,
       "version_minor": 0
      },
      "text/plain": [
       "Downloading data:   0%|          | 0.00/248M [00:00<?, ?B/s]"
      ]
     },
     "metadata": {},
     "output_type": "display_data"
    },
    {
     "data": {
      "application/vnd.jupyter.widget-view+json": {
       "model_id": "57b944a6f29a4ed091de871942022eb5",
       "version_major": 2,
       "version_minor": 0
      },
      "text/plain": [
       "Downloading data:   0%|          | 0.00/9.99M [00:00<?, ?B/s]"
      ]
     },
     "metadata": {},
     "output_type": "display_data"
    },
    {
     "data": {
      "application/vnd.jupyter.widget-view+json": {
       "model_id": "e5f3944b376241159c20654f5006cdad",
       "version_major": 2,
       "version_minor": 0
      },
      "text/plain": [
       "Extracting data files:   0%|          | 0/2 [00:00<?, ?it/s]"
      ]
     },
     "metadata": {},
     "output_type": "display_data"
    },
    {
     "data": {
      "application/vnd.jupyter.widget-view+json": {
       "model_id": "5c2c5f5b45f04c52baf37a03c2e2ed28",
       "version_major": 2,
       "version_minor": 0
      },
      "text/plain": [
       "Generating train split: 0 examples [00:00, ? examples/s]"
      ]
     },
     "metadata": {},
     "output_type": "display_data"
    },
    {
     "data": {
      "application/vnd.jupyter.widget-view+json": {
       "model_id": "c1e5b9f78f8f4755923964227640ca9c",
       "version_major": 2,
       "version_minor": 0
      },
      "text/plain": [
       "Generating validation split: 0 examples [00:00, ? examples/s]"
      ]
     },
     "metadata": {},
     "output_type": "display_data"
    },
    {
     "name": "stdout",
     "output_type": "stream",
     "text": [
      "{'text': 'One day, a little girl named Lily found a needle in her room. She knew it was difficult to play with it because it was sharp. Lily wanted to share the needle with her mom, so she could sew a button on her shirt.\\n\\nLily went to her mom and said, \"Mom, I found this needle. Can you share it with me and sew my shirt?\" Her mom smiled and said, \"Yes, Lily, we can share the needle and fix your shirt.\"\\n\\nTogether, they shared the needle and sewed the button on Lily\\'s shirt. It was not difficult for them because they were sharing and helping each other. After they finished, Lily thanked her mom for sharing the needle and fixing her shirt. They both felt happy because they had shared and worked together.'}\n"
     ]
    }
   ],
   "source": [
    "dataset = load_dataset('roneneldan/TinyStories', split='train')\n",
    "print(dataset[0])"
   ]
  },
  {
   "cell_type": "code",
   "execution_count": 19,
   "metadata": {},
   "outputs": [
    {
     "data": {
      "application/vnd.jupyter.widget-view+json": {
       "model_id": "369ff21cd6ad494ab027b2a481ccf766",
       "version_major": 2,
       "version_minor": 0
      },
      "text/plain": [
       "  0%|          | 0/100 [00:00<?, ?it/s]"
      ]
     },
     "metadata": {},
     "output_type": "display_data"
    },
    {
     "name": "stdout",
     "output_type": "stream",
     "text": [
      "John is high and Sarah is low. John is in a tree and Sarah is under his tree. He is stuck. John is scared. He says: \"Help! Help!\" Sarah hears him and moves off to another tree. John says: \"Thank you, Sarah!\" Sarah is happy to help.\n",
      "\n",
      "But then Sarah hears a worried noise. She looks up and sees a bird cage. The cage is very high and Sarah's heart is beating very fast. She wants to help the bird. She quickly takes off the cushion and the cushage. She puts the\n"
     ]
    },
    {
     "data": {
      "application/vnd.jupyter.widget-view+json": {
       "model_id": "bf7bdee3ef7d4dcb8f03c00d2cb52a74",
       "version_major": 2,
       "version_minor": 0
      },
      "text/plain": [
       "  0%|          | 0/100 [00:00<?, ?it/s]"
      ]
     },
     "metadata": {},
     "output_type": "display_data"
    },
    {
     "name": "stdout",
     "output_type": "stream",
     "text": [
      "John is high and Sarah is low. John is in a treehouse and Sarah is on the swing.\n",
      "\n",
      "One day, they hear an alarm. John is scared and Sarah is curious. She asks John to do a test. John asked questions like, 'What is powerful?' and 'What should the alarm do?' Sarah thought for a minute and then she said 'I think it is because of the alarm'.\n",
      "\n",
      "John felt much better and said to Sarah, “I think I understand now! Let’s find out who is causing the alarm and make\n"
     ]
    },
    {
     "data": {
      "application/vnd.jupyter.widget-view+json": {
       "model_id": "73e657cf12014caf9097203a5de24b00",
       "version_major": 2,
       "version_minor": 0
      },
      "text/plain": [
       "  0%|          | 0/100 [00:00<?, ?it/s]"
      ]
     },
     "metadata": {},
     "output_type": "display_data"
    },
    {
     "name": "stdout",
     "output_type": "stream",
     "text": [
      "John is high and Sarah is low. John is on top of a pole and Sarah is on the ground. They both frowning and Sarah's frownss.\n",
      "\n",
      "John was angry. He wanted to get down and shout. He thought of another way. He didn't want to stay up there with Sarah alone.\n",
      "\n",
      "John had an idea. He took his scooter and pushed Sarah off the floor. Sarah fell on the floor with a loud clatter. She was mad.\n",
      "\n",
      "John and Sarah started to quarrel. They yelled at each other and Sarah had to\n"
     ]
    },
    {
     "data": {
      "application/vnd.jupyter.widget-view+json": {
       "model_id": "b58079209f034685a099ec9f926adcbe",
       "version_major": 2,
       "version_minor": 0
      },
      "text/plain": [
       "  0%|          | 0/100 [00:00<?, ?it/s]"
      ]
     },
     "metadata": {},
     "output_type": "display_data"
    },
    {
     "name": "stdout",
     "output_type": "stream",
     "text": [
      "John is high and Sarah is low. John is on top of a house and Sarah is close behind. Sarah is backing around and making noises.\n",
      "\n",
      "\"I want to have fun now,\" she says to John.\n",
      "\n",
      "John is not happy. He said: \"No, it's dangerous to go underneath the tree.\"\n",
      "Sarah starts to cry.\n",
      "\n",
      "But John mustered up the courage and said: \"Come on, Sarah. Let's go under the tree.\"\n",
      "\n",
      "So they both crawled under the tree and found a beautiful meadow full of flowers. They\n"
     ]
    },
    {
     "data": {
      "application/vnd.jupyter.widget-view+json": {
       "model_id": "b6dec4d4e5b64f68b32e3b311559d56f",
       "version_major": 2,
       "version_minor": 0
      },
      "text/plain": [
       "  0%|          | 0/100 [00:00<?, ?it/s]"
      ]
     },
     "metadata": {},
     "output_type": "display_data"
    },
    {
     "name": "stdout",
     "output_type": "stream",
     "text": [
      "John is high and Sarah is low. John is on the roof and Sarah is on the grass. John smiles and thinks this is a good idea. He makes a hole in the balloon and then he takes out a plastic stick. He cuts the string to make it. Sarah watches and asks why John does this when he stops climbing.\n",
      "\n",
      "John looks back onto the ground. Sarah says, \"Next time, I will help you climb the pile of leaves\". John smiles. He likes to help Sarah. They work together and it is fun.\n",
      "<|endoftext|>\n"
     ]
    }
   ],
   "source": [
    "print(model.generate(\"John is high and Sarah is low. John is in a tree and Sarah\", 100))\n",
    "print(model.generate(\"John is high and Sarah is low. John is in a treehouse and Sarah\", 100))\n",
    "print(model.generate(\"John is high and Sarah is low. John is on top of a pole and Sarah\", 100))\n",
    "print(model.generate(\"John is high and Sarah is low. John is on top of a house and Sarah\", 100))\n",
    "print(model.generate(\"John is high and Sarah is low. John is on the roof and Sarah\", 100))\n"
   ]
  },
  {
   "cell_type": "code",
   "execution_count": 21,
   "metadata": {},
   "outputs": [
    {
     "data": {
      "application/vnd.jupyter.widget-view+json": {
       "model_id": "2f9176ebf1ca4653aaf0fca52c119061",
       "version_major": 2,
       "version_minor": 0
      },
      "text/plain": [
       "  0%|          | 0/100 [00:00<?, ?it/s]"
      ]
     },
     "metadata": {},
     "output_type": "display_data"
    },
    {
     "name": "stdout",
     "output_type": "stream",
     "text": [
      "John is low and Sarah is high. John is on the ground and Sarah is on the ground. They are very sad. \n",
      "\n",
      "They see a big chain in the park. They both like chains. They want to pick it up and play with it.\n",
      "\n",
      "They both pull on it and it breaks. They are very sad and the chain is gone. \n",
      "\n",
      "John and Sarah take the chain and go home. They hope to find the chain again someday. That was very special.\n",
      "<|endoftext|>\n"
     ]
    },
    {
     "data": {
      "application/vnd.jupyter.widget-view+json": {
       "model_id": "b3e952a0068d49c7ac108c01803e105b",
       "version_major": 2,
       "version_minor": 0
      },
      "text/plain": [
       "  0%|          | 0/100 [00:00<?, ?it/s]"
      ]
     },
     "metadata": {},
     "output_type": "display_data"
    },
    {
     "name": "stdout",
     "output_type": "stream",
     "text": [
      "John is low and Sarah is high. John is in a hole and Sarah is not there.\n",
      "\n",
      "\"Where is Sarah?\" John asked.\n",
      "\n",
      "\"I don't know,\" Sarah replied.\n",
      "\n",
      "John kept searching and searching. He looked all around the hole, but he could not find Sarah.\n",
      "\n",
      "\"I am not in the hole!\" he yelled out.\n",
      "\n",
      "Suddenly a big purple spider appeared. It began to chase John. He ran and ran until he reached home.\n",
      "\n",
      "The spider caught John and he was taken to the hospital. Sarah\n"
     ]
    },
    {
     "data": {
      "application/vnd.jupyter.widget-view+json": {
       "model_id": "5caa8a11cbd948c0a8661da18c4b0ab1",
       "version_major": 2,
       "version_minor": 0
      },
      "text/plain": [
       "  0%|          | 0/100 [00:00<?, ?it/s]"
      ]
     },
     "metadata": {},
     "output_type": "display_data"
    },
    {
     "name": "stdout",
     "output_type": "stream",
     "text": [
      "John is low and Sarah is high. John is underneath a pile of leave and Sarah is playing with her dolls. She sees John and smiles. She wants to be friends with John.\n",
      "\n",
      "John's mom hears Sarah's voice and calls out \"Emily, where are you?\" She looks under the pile but she can not see Sarah.\n",
      "\n",
      "Jane was happy to see Tim but she is still scared of his toes. Then she saw something on Sarah's toes. It was a bug! She stared at it. But then it scurries away.\n",
      "\n",
      "Sarah said,\n"
     ]
    },
    {
     "data": {
      "application/vnd.jupyter.widget-view+json": {
       "model_id": "b779baa763b449a1aa60c10fe443a4d2",
       "version_major": 2,
       "version_minor": 0
      },
      "text/plain": [
       "  0%|          | 0/100 [00:00<?, ?it/s]"
      ]
     },
     "metadata": {},
     "output_type": "display_data"
    },
    {
     "name": "stdout",
     "output_type": "stream",
     "text": [
      "John is low and Sarah is high. John is under the house and Sarah is still under it. Sarah cries and blinks her eyes. She is sad and misses John. She hopes that her pain will go away.\n",
      "\n",
      "John hears Sarah crying. He feels bad for her and goes to her. He is slow and careful. He makes room for her out of the under. He takes her deeper from the hole and eats her candy. He makes her smile. He hopes that she will feel better soon.\n",
      "\n",
      "Sarah's arm gets better after a few minutes.\n"
     ]
    },
    {
     "data": {
      "application/vnd.jupyter.widget-view+json": {
       "model_id": "370064af262e4f20a5f18726a23de9da",
       "version_major": 2,
       "version_minor": 0
      },
      "text/plain": [
       "  0%|          | 0/100 [00:00<?, ?it/s]"
      ]
     },
     "metadata": {},
     "output_type": "display_data"
    },
    {
     "name": "stdout",
     "output_type": "stream",
     "text": [
      "John is low and Sarah is high. John is under the horse and Sarah is under the horse. John is thirsty and the horse drinks from Sarah. Sarah is sad and she starts to cry.\n",
      "\n",
      "Then suddenly, the horse stops eating. John is shocked and he wants to get Sarah out. But he does not know how to do it.\n",
      "\n",
      "John is upset and he cries. Sarah feels bad about being left out. She is sorry that she should have been alone. Sarah needs to go back to the stable and John has to chase her.\n",
      "\n",
      "Sarah\n"
     ]
    }
   ],
   "source": [
    "print(model.generate(\"John is low and Sarah is high. John is on the ground and Sarah\", 100))\n",
    "print(model.generate(\"John is low and Sarah is high. John is in a hole and Sarah\", 100))\n",
    "print(model.generate(\"John is low and Sarah is high. John is underneath a pile of leave and Sarah\", 100))\n",
    "print(model.generate(\"John is low and Sarah is high. John is under the house and Sarah\", 100))\n",
    "print(model.generate(\"John is low and Sarah is high. John is under the horse and Sarah\", 100))"
   ]
  },
  {
   "cell_type": "code",
   "execution_count": 24,
   "metadata": {},
   "outputs": [
    {
     "data": {
      "application/vnd.jupyter.widget-view+json": {
       "model_id": "1bc06db538b24446bd47c9e0ae16a542",
       "version_major": 2,
       "version_minor": 0
      },
      "text/plain": [
       "  0%|          | 0/100 [00:00<?, ?it/s]"
      ]
     },
     "metadata": {},
     "output_type": "display_data"
    },
    {
     "name": "stdout",
     "output_type": "stream",
     "text": [
      "John is low and Sarah is high. Sarah is up a tree and John is at the bottom. He could see many things from up there. Sarah was on the swings and John could see them from up high. He was complaining because he was too small to reach them.\n",
      "\n",
      "John kept complaining and Sarah looked away. Then she saw a man. He was carrying a big bag and looked easyening his way into the tree. When he got there he talked to mommy. He said he could get her over there because Sarah was too small.\n",
      "\n",
      "Mommy thanked\n"
     ]
    }
   ],
   "source": [
    "print(model.generate(\"John is low and Sarah is high. Sarah is up a tree and John is\", 100))"
   ]
  },
  {
   "cell_type": "code",
   "execution_count": 29,
   "metadata": {},
   "outputs": [
    {
     "data": {
      "application/vnd.jupyter.widget-view+json": {
       "model_id": "c54d554ef5fe4d7a9c80e221078ed081",
       "version_major": 2,
       "version_minor": 0
      },
      "text/plain": [
       "  0%|          | 0/100 [00:00<?, ?it/s]"
      ]
     },
     "metadata": {},
     "output_type": "display_data"
    },
    {
     "name": "stdout",
     "output_type": "stream",
     "text": [
      "Jack and Sarah are in the meadow. One of them is in a tree. The other is a girl named Sophie.\n",
      "\n",
      "John looks up and sees Sophie. He points at her and says, \"She is teasing me!\" Sarah ran to John and says, \"Sorry, John. That's not nice at all.\"\n",
      "\n",
      "John and Sarah climb the tree and sit on a branch. They look at the sky and the fluffy clouds that moved across the sky. Sarah pointed at the clouds and said, \"Look John, I see a cloud that looks like a dog!\"\n",
      "\n",
      "John\n"
     ]
    }
   ],
   "source": [
    "print(model.generate(\"\", 100))"
   ]
  },
  {
   "cell_type": "code",
   "execution_count": 56,
   "metadata": {},
   "outputs": [
    {
     "data": {
      "application/vnd.jupyter.widget-view+json": {
       "model_id": "93c88c30f0f84b3fbd570ac8beed5121",
       "version_major": 2,
       "version_minor": 0
      },
      "text/plain": [
       "  0%|          | 0/100 [00:00<?, ?it/s]"
      ]
     },
     "metadata": {},
     "output_type": "display_data"
    },
    {
     "name": "stdout",
     "output_type": "stream",
     "text": [
      "Jack was thirsty. Jack saw a pond, so he went to take a drink. He saw a big frog and wanted to catch it. He tried to catch the frog, but it jumped away. Jack was sad, but he kept walking.\n",
      "\n",
      "Suddenly, Jack saw a big dog. The dog barked at Jack and he got scared. He tried to run away, but the dog chased him. Jack ran and ran, but the dog was too fast. The dog caught Jack and bit him. Jack cried and cried.\n",
      "\n",
      "The end\n"
     ]
    },
    {
     "data": {
      "application/vnd.jupyter.widget-view+json": {
       "model_id": "d4a8abba3a11447a8642260cf6bd267c",
       "version_major": 2,
       "version_minor": 0
      },
      "text/plain": [
       "  0%|          | 0/100 [00:00<?, ?it/s]"
      ]
     },
     "metadata": {},
     "output_type": "display_data"
    },
    {
     "name": "stdout",
     "output_type": "stream",
     "text": [
      "Jack was bored. Jack saw a pond, so he decided to go for a swim. He jumped in and started to splash around. He was having so much fun!\n",
      "\n",
      "Suddenly, Jack heard a noise. He looked around and saw a big frog. The frog was jumping around and making a lot of noise. Jack was scared and he wanted to get out of the water.\n",
      "\n",
      "Jack started to swim towards the frog. The frog saw Jack and started to swim away. Jack was sad and he started to cry.\n",
      "\n",
      "Jack's mom\n"
     ]
    },
    {
     "data": {
      "application/vnd.jupyter.widget-view+json": {
       "model_id": "88ac11ead4e34a4883b5e12a18534bb5",
       "version_major": 2,
       "version_minor": 0
      },
      "text/plain": [
       "  0%|          | 0/100 [00:00<?, ?it/s]"
      ]
     },
     "metadata": {},
     "output_type": "display_data"
    },
    {
     "name": "stdout",
     "output_type": "stream",
     "text": [
      "Jack was sleepy. Jack saw a mat, so he lay down on it. He closed his eyes and started to sleep.\n",
      "\n",
      "Suddenly, Jack heard a noise. He opened his eyes and saw a big, scary monster! Jack was so scared he couldn't move.\n",
      "\n",
      "The monster said, \"I'm going to eat you!\"\n",
      "\n",
      "Jack was so scared he couldn't move. He just lay there, too scared to move.\n",
      "\n",
      "The monster grabbed Jack and ate him up. Jack was never seen again.\n",
      "<|endoftext|>\n"
     ]
    },
    {
     "data": {
      "application/vnd.jupyter.widget-view+json": {
       "model_id": "b52962d1ade64801bff70bfc33d74f43",
       "version_major": 2,
       "version_minor": 0
      },
      "text/plain": [
       "  0%|          | 0/100 [00:00<?, ?it/s]"
      ]
     },
     "metadata": {},
     "output_type": "display_data"
    },
    {
     "name": "stdout",
     "output_type": "stream",
     "text": [
      "Jack was excited. Jack saw a mat, so he ran over to it. He picked it up and started to play. He rolled it around and laughed. He was having so much fun.\n",
      "\n",
      "Suddenly, Jack heard a noise. He looked around and saw a big dog. The dog was barking and running towards him. Jack was scared. He tried to run away, but the dog was too fast.\n",
      "\n",
      "The dog bit Jack's leg. Jack screamed and cried. He was hurt. The dog ran away.\n",
      "\n",
      "Jack was sad\n"
     ]
    }
   ],
   "source": [
    "# Selecting multi-use objects in the environment\n",
    "print(model.generate(\"Jack was thirsty. Jack saw a pond, so he\", 100, temperature=0))\n",
    "print(model.generate(\"Jack was bored. Jack saw a pond, so he\", 100, temperature=0))\n",
    "\n",
    "print(model.generate(\"Jack was sleepy. Jack saw a mat, so he\", 100, temperature=0))\n",
    "print(model.generate(\"Jack was excited. Jack saw a mat, so he\", 100, temperature=0))"
   ]
  },
  {
   "cell_type": "code",
   "execution_count": 63,
   "metadata": {},
   "outputs": [
    {
     "data": {
      "application/vnd.jupyter.widget-view+json": {
       "model_id": "d870e6502dba451e8be8f0c2b975a61c",
       "version_major": 2,
       "version_minor": 0
      },
      "text/plain": [
       "  0%|          | 0/100 [00:00<?, ?it/s]"
      ]
     },
     "metadata": {},
     "output_type": "display_data"
    },
    {
     "name": "stdout",
     "output_type": "stream",
     "text": [
      "The box was too big and heavy. Sarah pushed the box and it started to roll. She was so happy! She ran after the box and it rolled down the street.\n",
      "\n",
      "Sarah followed the box until it stopped at a park. She saw a big tree and she wanted to climb it. She put her foot on the trunk and started to climb. She was so excited!\n",
      "\n",
      "But then she heard a loud noise. It was the park keeper. He was angry and he shouted at Sarah. He said she was not allowed to climb the tree\n"
     ]
    }
   ],
   "source": [
    "# multi-use environment elements\n",
    "# print(model.generate(\"The ball rolled off the bridge\", 100, temperature=0))\n",
    "# print(model.generate(\"Put the ball onto the hill. The ball\", 100, temperature=0))\n",
    "# print(model.generate(\"Sarah put the box onto the hill. The box\", 100, temperature=0))\n",
    "# print(model.generate(\"The box was too big and heavy. Sarah pushed the box \", 100, temperature=0))\n",
    "\n",
    "\n",
    "\n",
    "\n",
    "# print(model.generate(\"Jack was tired. Jack saw a slide, so he\", 100, temperature=0))\n",
    "# print(model.generate(\"Jack was thinking. Jack saw a slide, so he\", 100, temperature=0))\n",
    "# print(model.generate(\"Jack was near the pond, but he was thirsty so he \", 100, temperature=0))\n",
    "# print(model.generate(\"Jack was near the pond, but he wasn't thirsty so he \", 100, temperature=0))\n",
    "# print(model.generate(\"Jack was far away so he \", 100, temperature=0))\n",
    "# print(model.generate(\"Jack was close by so he \", 100, temperature=0))\n",
    "# print(model.generate(\"Jack was above Sarah so he \", 100, temperature=0))\n",
    "# print(model.generate(\"Jack was a long way from home and he felt thirsty so he\", 100, temperature=0))\n",
    "\n"
   ]
  },
  {
   "cell_type": "code",
   "execution_count": 4,
   "metadata": {},
   "outputs": [
    {
     "data": {
      "application/vnd.jupyter.widget-view+json": {
       "model_id": "5ff4bb383a3840cd99c7a846a10782ba",
       "version_major": 2,
       "version_minor": 0
      },
      "text/plain": [
       "  0%|          | 0/100 [00:00<?, ?it/s]"
      ]
     },
     "metadata": {},
     "output_type": "display_data"
    },
    {
     "name": "stdout",
     "output_type": "stream",
     "text": [
      "Jack wanted to draw on the ground. Jack saw a stick. He was very excited. He picked it up and started to draw on the ground. He drew a big circle and then a small square. He was very happy.\n",
      "\n",
      "Jack's mom saw him and said, \"Jack, what are you drawing?\"\n",
      "\n",
      "Jack said, \"I'm drawing a circle. Look, it's so big and round!\"\n",
      "\n",
      "Jack's mom smiled and said, \"That's great! You're so creative!\"\n",
      "\n",
      "Jack smiled and kept drawing. He was\n"
     ]
    }
   ],
   "source": [
    "print(model.generate(\"Jack wanted to draw on the ground. Jack saw a stick. He \", 100, temperature=0))\n",
    "\n",
    "print(model.generate(\"Jack wanted to draw on the ground. Jack saw a stick. He use \", 100, temperature=0))\n"
   ]
  },
  {
   "cell_type": "code",
   "execution_count": 60,
   "metadata": {},
   "outputs": [
    {
     "data": {
      "application/vnd.jupyter.widget-view+json": {
       "model_id": "16ea1c00d5b94fd1ac68c04d3c161edb",
       "version_major": 2,
       "version_minor": 0
      },
      "text/plain": [
       "  0%|          | 0/100 [00:00<?, ?it/s]"
      ]
     },
     "metadata": {},
     "output_type": "display_data"
    },
    {
     "name": "stdout",
     "output_type": "stream",
     "text": [
      "Once upon a time there lived a girl named Lily. She loved to look in her attic. One day, she found a pond in her attic. She was so excited to see it! She ran to the pond and saw that it was full of water. She wanted to play in it, but her mom said no.\n",
      "\n",
      "Lily was sad, but then she had an idea. She asked her mom if she could soak her feet in the pond. Her mom said yes, so Lily put her feet in the water and it felt so nice. She splashed around and had so much fun.\n",
      "\n",
      "After a while, Lily's mom\n"
     ]
    }
   ],
   "source": [
    "print(model.generate(\"Once upon a time there lived a girl named Lily. She loved to look in her attic. One day, she found a pond in her attic. She \", 100, temperature=0))\n"
   ]
  },
  {
   "cell_type": "code",
   "execution_count": 73,
   "metadata": {},
   "outputs": [
    {
     "data": {
      "application/vnd.jupyter.widget-view+json": {
       "model_id": "5ea544010521496aa6da696b8fd152e4",
       "version_major": 2,
       "version_minor": 0
      },
      "text/plain": [
       "  0%|          | 0/20 [00:00<?, ?it/s]"
      ]
     },
     "metadata": {},
     "output_type": "display_data"
    },
    {
     "name": "stdout",
     "output_type": "stream",
     "text": [
      "Jack was playing in the park. But then he saw something strange. He saw a big, scary dog. It was barking and growling\n"
     ]
    },
    {
     "data": {
      "application/vnd.jupyter.widget-view+json": {
       "model_id": "62498fe17bf54cfd9dc08e821b911594",
       "version_major": 2,
       "version_minor": 0
      },
      "text/plain": [
       "  0%|          | 0/20 [00:00<?, ?it/s]"
      ]
     },
     "metadata": {},
     "output_type": "display_data"
    },
    {
     "name": "stdout",
     "output_type": "stream",
     "text": [
      "Jack was in the pool. But he was not happy. He was very angry. He wanted to play with his friends, but they\n"
     ]
    },
    {
     "data": {
      "application/vnd.jupyter.widget-view+json": {
       "model_id": "58a813a561c0404587b44390fc90a4c1",
       "version_major": 2,
       "version_minor": 0
      },
      "text/plain": [
       "  0%|          | 0/20 [00:00<?, ?it/s]"
      ]
     },
     "metadata": {},
     "output_type": "display_data"
    },
    {
     "name": "stdout",
     "output_type": "stream",
     "text": [
      "Jack was going to school. But he was feeling very nervous. He was going to learn new things and meet new friends.\n",
      "\n",
      "\n"
     ]
    },
    {
     "data": {
      "application/vnd.jupyter.widget-view+json": {
       "model_id": "ef0c0ba217664f9199affc29275d8409",
       "version_major": 2,
       "version_minor": 0
      },
      "text/plain": [
       "  0%|          | 0/20 [00:00<?, ?it/s]"
      ]
     },
     "metadata": {},
     "output_type": "display_data"
    },
    {
     "name": "stdout",
     "output_type": "stream",
     "text": [
      "Jack was sad. But then he saw a big, shiny motorcycle. It was so cool! He wanted to ride it.\n"
     ]
    },
    {
     "data": {
      "application/vnd.jupyter.widget-view+json": {
       "model_id": "84fa9a9994f4455ca7e57b324ddd5a40",
       "version_major": 2,
       "version_minor": 0
      },
      "text/plain": [
       "  0%|          | 0/20 [00:00<?, ?it/s]"
      ]
     },
     "metadata": {},
     "output_type": "display_data"
    },
    {
     "name": "stdout",
     "output_type": "stream",
     "text": [
      "Jack was sleeping in bed. But he was not sleeping. He was dreaming about a big, scary monster. The monster was coming to\n"
     ]
    },
    {
     "data": {
      "application/vnd.jupyter.widget-view+json": {
       "model_id": "dfe56ba048ee4bd897cea3f228d0e3e0",
       "version_major": 2,
       "version_minor": 0
      },
      "text/plain": [
       "  0%|          | 0/20 [00:00<?, ?it/s]"
      ]
     },
     "metadata": {},
     "output_type": "display_data"
    },
    {
     "name": "stdout",
     "output_type": "stream",
     "text": [
      "Jack was lying in bed. But he was not feeling very good. He was feeling very tired. He had been playing all day and\n"
     ]
    }
   ],
   "source": [
    "print(model.generate(\"Jack was playing in the park. But\", 20, temperature=0))\n",
    "print(model.generate(\"Jack was in the pool. But\", 20, temperature=0))\n",
    "print(model.generate(\"Jack was going to school. But\", 20, temperature=0))\n",
    "print(model.generate(\"Jack was sad. But\", 20, temperature=0))\n",
    "print(model.generate(\"Jack was sleeping in bed. But\", 20, temperature=0))\n",
    "print(model.generate(\"Jack was lying in bed. But\", 20, temperature=0))"
   ]
  },
  {
   "cell_type": "code",
   "execution_count": 79,
   "metadata": {},
   "outputs": [
    {
     "data": {
      "application/vnd.jupyter.widget-view+json": {
       "model_id": "6a3ec53fd922403c8516ef3bf8c25690",
       "version_major": 2,
       "version_minor": 0
      },
      "text/plain": [
       "  0%|          | 0/20 [00:00<?, ?it/s]"
      ]
     },
     "metadata": {},
     "output_type": "display_data"
    },
    {
     "name": "stdout",
     "output_type": "stream",
     "text": [
      "Jack was a boy who loved to draw. He drew red drawings with his crayon and blue drawings with his pencil. He drew a blue circle with his pencil and then drew a green triangle with his red pencil. He was very proud of his drawing.\n"
     ]
    },
    {
     "data": {
      "application/vnd.jupyter.widget-view+json": {
       "model_id": "aa30409ded6746cb9ddfebe8a6a89f0d",
       "version_major": 2,
       "version_minor": 0
      },
      "text/plain": [
       "  0%|          | 0/20 [00:00<?, ?it/s]"
      ]
     },
     "metadata": {},
     "output_type": "display_data"
    },
    {
     "name": "stdout",
     "output_type": "stream",
     "text": [
      "Jack was a boy who loved to draw. He drew blue drawings with his crayon and red drawings with his pencil. He drew a blue circle with his pencil and then drew a green triangle with his blue pencil. He was very happy with his drawing.\n"
     ]
    }
   ],
   "source": [
    "print(model.generate(\"Jack was a boy who loved to draw. He drew red drawings with his crayon and blue drawings with his pencil. He drew a blue circle with his\", 20, temperature=0))\n",
    "print(model.generate(\"Jack was a boy who loved to draw. He drew blue drawings with his crayon and red drawings with his pencil. He drew a blue circle with his\", 20, temperature=0))\n"
   ]
  },
  {
   "cell_type": "code",
   "execution_count": 22,
   "metadata": {},
   "outputs": [
    {
     "data": {
      "application/vnd.jupyter.widget-view+json": {
       "model_id": "858bca9a6cbd475ab8962ac404ba1fa0",
       "version_major": 2,
       "version_minor": 0
      },
      "text/plain": [
       "  0%|          | 0/20 [00:00<?, ?it/s]"
      ]
     },
     "metadata": {},
     "output_type": "display_data"
    },
    {
     "name": "stdout",
     "output_type": "stream",
     "text": [
      " The park was closed. Jack asked his mother whether he could go to the park. His mother said, \"No, it's too late. You need to stay home.\" Jack was\n"
     ]
    },
    {
     "data": {
      "application/vnd.jupyter.widget-view+json": {
       "model_id": "e4224c87044749e8a2400a2e3b5aa5f1",
       "version_major": 2,
       "version_minor": 0
      },
      "text/plain": [
       "  0%|          | 0/20 [00:00<?, ?it/s]"
      ]
     },
     "metadata": {},
     "output_type": "display_data"
    },
    {
     "name": "stdout",
     "output_type": "stream",
     "text": [
      " The park was large. Jack asked his mother whether he could go to the park. His mother said, \"Yes, but you must stay close to me.\"\n",
      "\n",
      "Jack was so\n"
     ]
    },
    {
     "data": {
      "application/vnd.jupyter.widget-view+json": {
       "model_id": "43b33c8e32a54868837fd259f8c88f7a",
       "version_major": 2,
       "version_minor": 0
      },
      "text/plain": [
       "  0%|          | 0/20 [00:00<?, ?it/s]"
      ]
     },
     "metadata": {},
     "output_type": "display_data"
    },
    {
     "name": "stdout",
     "output_type": "stream",
     "text": [
      " The park was very good. Jack asked his mother whether he could go to the park. His mother said, \"Yes, but you must be careful.\"\n",
      "\n",
      "Jack went to the park\n"
     ]
    },
    {
     "data": {
      "application/vnd.jupyter.widget-view+json": {
       "model_id": "c0b3625021ff4a58812afd4f21b0f9d5",
       "version_major": 2,
       "version_minor": 0
      },
      "text/plain": [
       "  0%|          | 0/20 [00:00<?, ?it/s]"
      ]
     },
     "metadata": {},
     "output_type": "display_data"
    },
    {
     "name": "stdout",
     "output_type": "stream",
     "text": [
      " Jack asked his mother whether he could hold a cat. His mother said no, but Jack was determined. He asked his mother again and again, but she\n"
     ]
    },
    {
     "data": {
      "application/vnd.jupyter.widget-view+json": {
       "model_id": "627821378b104ebdb1f6d3631b68a292",
       "version_major": 2,
       "version_minor": 0
      },
      "text/plain": [
       "  0%|          | 0/20 [00:00<?, ?it/s]"
      ]
     },
     "metadata": {},
     "output_type": "display_data"
    },
    {
     "name": "stdout",
     "output_type": "stream",
     "text": [
      " Jack asked his mother whether he could hold a dog. His mother said no, but Jack was very curious. He asked his mother if he could hold a\n"
     ]
    },
    {
     "data": {
      "application/vnd.jupyter.widget-view+json": {
       "model_id": "dd9e417e2f954b99bf1a7a873f1bce64",
       "version_major": 2,
       "version_minor": 0
      },
      "text/plain": [
       "  0%|          | 0/20 [00:00<?, ?it/s]"
      ]
     },
     "metadata": {},
     "output_type": "display_data"
    },
    {
     "name": "stdout",
     "output_type": "stream",
     "text": [
      " Jack asked his mother whether he could hold a rock. His mother said, \"No, Jack. Rocks are too heavy for you.\"\n",
      "\n",
      "Jack was\n"
     ]
    },
    {
     "data": {
      "application/vnd.jupyter.widget-view+json": {
       "model_id": "b9e6a2424b6b44ffb9ad87e9d3a2256e",
       "version_major": 2,
       "version_minor": 0
      },
      "text/plain": [
       "  0%|          | 0/20 [00:00<?, ?it/s]"
      ]
     },
     "metadata": {},
     "output_type": "display_data"
    },
    {
     "name": "stdout",
     "output_type": "stream",
     "text": [
      " Jack asked his mother whether he could hold an ant. His mother said no, but Jack was determined. He wanted to hold an ant.\n",
      "\n",
      "Jack\n"
     ]
    },
    {
     "data": {
      "application/vnd.jupyter.widget-view+json": {
       "model_id": "03d9b2751bf548d28f8326cf5a05712c",
       "version_major": 2,
       "version_minor": 0
      },
      "text/plain": [
       "  0%|          | 0/20 [00:00<?, ?it/s]"
      ]
     },
     "metadata": {},
     "output_type": "display_data"
    },
    {
     "name": "stdout",
     "output_type": "stream",
     "text": [
      " Jack asked his mother whether he could hold an elephant. His mother said, \"No, Jack. Elephants are too big and need to be in\n"
     ]
    },
    {
     "data": {
      "application/vnd.jupyter.widget-view+json": {
       "model_id": "aead4418cad5442fa94a11532681e230",
       "version_major": 2,
       "version_minor": 0
      },
      "text/plain": [
       "  0%|          | 0/20 [00:00<?, ?it/s]"
      ]
     },
     "metadata": {},
     "output_type": "display_data"
    },
    {
     "name": "stdout",
     "output_type": "stream",
     "text": [
      " Jack asked his mother whether he could hold a star. His mother said, \"No, Jack. Stars are too far away.\"\n",
      "\n",
      "Jack was sad\n"
     ]
    },
    {
     "data": {
      "application/vnd.jupyter.widget-view+json": {
       "model_id": "b0dbf3d1d60e42cfaade1affa11268f4",
       "version_major": 2,
       "version_minor": 0
      },
      "text/plain": [
       "  0%|          | 0/20 [00:00<?, ?it/s]"
      ]
     },
     "metadata": {},
     "output_type": "display_data"
    },
    {
     "name": "stdout",
     "output_type": "stream",
     "text": [
      " Jack asked his mother whether he could hold a rocket. His mother said, \"No, Jack. Rockets are dangerous.\" Jack was sad, but he listened\n"
     ]
    }
   ],
   "source": [
    "print(model.generate(\" The park was closed. Jack asked his mother whether he could go to the park.\", 20, temperature=0))\n",
    "print(model.generate(\" The park was large. Jack asked his mother whether he could go to the park.\", 20, temperature=0))\n",
    "print(model.generate(\" The park was very good. Jack asked his mother whether he could go to the park.\", 20, temperature=0))\n",
    "print(model.generate(\" Jack asked his mother whether he could hold a cat.\", 20, temperature=0))\n",
    "print(model.generate(\" Jack asked his mother whether he could hold a dog.\", 20, temperature=0))\n",
    "print(model.generate(\" Jack asked his mother whether he could hold a rock.\", 20, temperature=0))\n",
    "print(model.generate(\" Jack asked his mother whether he could hold an ant.\", 20, temperature=0))\n",
    "print(model.generate(\" Jack asked his mother whether he could hold an elephant.\", 20, temperature=0))\n",
    "print(model.generate(\" Jack asked his mother whether he could hold a star.\", 20, temperature=0))\n",
    "print(model.generate(\" Jack asked his mother whether he could hold a rocket.\", 20, temperature=0))\n",
    "\n",
    "\n",
    "# Basic properties of objects"
   ]
  },
  {
   "cell_type": "code",
   "execution_count": 64,
   "metadata": {},
   "outputs": [
    {
     "data": {
      "application/vnd.jupyter.widget-view+json": {
       "model_id": "ea7d79ddb63648a4b9ea8ee2ecb1c1fe",
       "version_major": 2,
       "version_minor": 0
      },
      "text/plain": [
       "  0%|          | 0/20 [00:00<?, ?it/s]"
      ]
     },
     "metadata": {},
     "output_type": "display_data"
    },
    {
     "name": "stdout",
     "output_type": "stream",
     "text": [
      " Jack held the apple but not the star. Jack held the apple tight and said, \"I don't want to share this apple with you.\"\n",
      "\n",
      "His\n"
     ]
    },
    {
     "data": {
      "application/vnd.jupyter.widget-view+json": {
       "model_id": "569d4d0d422c41d78d76cbf837f17f8f",
       "version_major": 2,
       "version_minor": 0
      },
      "text/plain": [
       "  0%|          | 0/20 [00:00<?, ?it/s]"
      ]
     },
     "metadata": {},
     "output_type": "display_data"
    },
    {
     "name": "stdout",
     "output_type": "stream",
     "text": [
      " Jack held the rocket but not the orange. Jack held the rocket and it felt so light. He was so happy. He wanted to show his friends.\n",
      "\n"
     ]
    },
    {
     "data": {
      "application/vnd.jupyter.widget-view+json": {
       "model_id": "6bd623dc89554ddba1e54f01b780aec8",
       "version_major": 2,
       "version_minor": 0
      },
      "text/plain": [
       "  0%|          | 0/20 [00:00<?, ?it/s]"
      ]
     },
     "metadata": {},
     "output_type": "display_data"
    },
    {
     "name": "stdout",
     "output_type": "stream",
     "text": [
      " Jack held the orange but not the rocket. Jack held the rocket and it felt so light. He was so happy. He wanted to show his friends.\n",
      "\n"
     ]
    },
    {
     "data": {
      "application/vnd.jupyter.widget-view+json": {
       "model_id": "3b5fde3ac73544dca262ea35d9dbe885",
       "version_major": 2,
       "version_minor": 0
      },
      "text/plain": [
       "  0%|          | 0/20 [00:00<?, ?it/s]"
      ]
     },
     "metadata": {},
     "output_type": "display_data"
    },
    {
     "name": "stdout",
     "output_type": "stream",
     "text": [
      " Jack held the star but not the orange. Jack held the star and looked at it. He was so happy. He wanted to show it to his mom.\n"
     ]
    },
    {
     "data": {
      "application/vnd.jupyter.widget-view+json": {
       "model_id": "5da51ddc76044fc3a83f3850894846fd",
       "version_major": 2,
       "version_minor": 0
      },
      "text/plain": [
       "  0%|          | 0/20 [00:00<?, ?it/s]"
      ]
     },
     "metadata": {},
     "output_type": "display_data"
    },
    {
     "name": "stdout",
     "output_type": "stream",
     "text": [
      " Jack held the orange but not the apple. Jack held the apple and looked at it. He wanted to eat it, but he knew he had to be careful\n"
     ]
    }
   ],
   "source": [
    "# print(model.generate(\" Jack had three apples. Jack ate one of his apples. Now Jack had\", 20, temperature=0))\n",
    "\n",
    "# print(model.generate(\" Sarah had three pears. Sarah ate two pears. Then she had\", 20, temperature=0))\n",
    "\n",
    "# print(model.generate(\" Jack picked up the apple but not left the star on the ground. Jack held the\", 20, temperature=0))\n",
    "# print(model.generate(\" Jack picked up the rocket but he left the orange on the ground. Jack held the\", 20, temperature=0))\n",
    "# print(model.generate(\" Jack picked up the orange but he left the rocket on the ground. Jack held the\", 20, temperature=0))\n",
    "# print(model.generate(\" Jack picked up the star but he left the orange on the ground. Jack held the\", 20, temperature=0))\n",
    "# print(model.generate(\" Jack picked up the orange but he left the apple on the ground. Jack held the\", 20, temperature=0))\n",
    "\n",
    "# print(model.generate(\" Jack held the apple but not the star. Jack held the\", 20, temperature=0))\n",
    "# print(model.generate(\" Jack held the rocket but not the orange. Jack held the\", 20, temperature=0))\n",
    "# print(model.generate(\" Jack held the orange but not the rocket. Jack held the\", 20, temperature=0))\n",
    "# print(model.generate(\" Jack held the star but not the orange. Jack held the\", 20, temperature=0))\n",
    "# print(model.generate(\" Jack held the orange but not the apple. Jack held the\", 20, temperature=0))\n"
   ]
  },
  {
   "cell_type": "code",
   "execution_count": 5,
   "metadata": {},
   "outputs": [
    {
     "data": {
      "application/vnd.jupyter.widget-view+json": {
       "model_id": "1de924bf9dbd42df8ca29c07743c8d24",
       "version_major": 2,
       "version_minor": 0
      },
      "text/plain": [
       "  0%|          | 0/100 [00:00<?, ?it/s]"
      ]
     },
     "metadata": {},
     "output_type": "display_data"
    },
    {
     "name": "stdout",
     "output_type": "stream",
     "text": [
      "Jack asked his mother whether he could have an icecream. His mother said, \"No, Jack. You need to eat something healthy first.\"\n",
      "\n",
      "Jack was sad and he started to cry. His mother said, \"Don't worry, Jack. I will make you an ice cream. It will be yummy and healthy.\"\n",
      "\n",
      "Jack was happy and he stopped crying. He said, \"Yes, please!\"\n",
      "\n",
      "His mother made him an ice cream and Jack ate it. He was so happy and he said, \"Thank you, Mommy!\"\n",
      "\n"
     ]
    }
   ],
   "source": [
    "print(model.generate(\"Jack asked his mother whether he could have an icecream. His mother said\", 100, temperature=0))"
   ]
  },
  {
   "cell_type": "code",
   "execution_count": 44,
   "metadata": {},
   "outputs": [
    {
     "data": {
      "application/vnd.jupyter.widget-view+json": {
       "model_id": "b093d16beb0b4b398e78fb47a521ad9c",
       "version_major": 2,
       "version_minor": 0
      },
      "text/plain": [
       "  0%|          | 0/100 [00:00<?, ?it/s]"
      ]
     },
     "metadata": {},
     "output_type": "display_data"
    },
    {
     "name": "stdout",
     "output_type": "stream",
     "text": [
      "Jack said, \"why tree blue?.\"\n",
      "\n",
      "His mom said, \"The tree is green. It is a special tree.\"\n",
      "\n",
      "Jack said, \"I want to climb it!\"\n",
      "\n",
      "His mom said, \"No, it is too high. You can't climb it.\"\n",
      "\n",
      "Jack said, \"But I want to climb it!\"\n",
      "\n",
      "His mom said, \"No, it is too dangerous. You can't climb it.\"\n",
      "\n",
      "Jack said, \"But I want to climb it!\"\n",
      "\n",
      "His mom\n"
     ]
    }
   ],
   "source": [
    "# prompt = \"Jack said, \\\"Can I have a frog?.\\\"\"\n",
    "# print(model.generate(prompt, 100, temperature=0))\n",
    "\n",
    "# prompt = \"Jack was going away and, \\\"Can I have a frog?.\\\"\"\n",
    "# print(model.generate(prompt, 100, temperature=0))\n",
    "\n",
    "# prompt = \"Jack am, \\\"Am I alive?.\\\"\"\n",
    "# print(model.generate(prompt, 100, temperature=0))\n",
    "\n",
    "\n",
    "# prompt = \"Jack said, \\\"Why is red?.\\\"\"\n",
    "# print(model.generate(prompt, 100, temperature=0))\n",
    "\n",
    "# prompt = \"Jack said, \\\"Why is we alive?.\\\"\"\n",
    "# print(model.generate(prompt, 100, temperature=0))\n",
    "\n",
    "# prompt = \"Jack said, \\\"Why is the cow fast?.\\\"\"\n",
    "# print(model.generate(prompt, 100, temperature=0))\n",
    "\n",
    "prompt = \"Jack said, \\\"why tree blue?.\\\"\"\n",
    "print(model.generate(prompt, 100, temperature=0))\n",
    "\n",
    "\n"
   ]
  },
  {
   "cell_type": "code",
   "execution_count": 65,
   "metadata": {},
   "outputs": [
    {
     "data": {
      "application/vnd.jupyter.widget-view+json": {
       "model_id": "f66cb63d1b074989ab95eae1b5506a3e",
       "version_major": 2,
       "version_minor": 0
      },
      "text/plain": [
       "  0%|          | 0/200 [00:00<?, ?it/s]"
      ]
     },
     "metadata": {},
     "output_type": "display_data"
    },
    {
     "name": "stdout",
     "output_type": "stream",
     "text": [
      " Once upon a time there was a boy named Jack. Jack was going to the park and he wanted icecream. He saw some icecream next to his mother Sally. He was so excited and he wanted to get it.\n",
      "\n",
      "Jack asked his mother if he could have some ice cream. His mother said yes and she gave him a big bowl of ice cream. Jack was so happy and he ate it all up.\n",
      "\n",
      "But then Jack started to feel sick. He had eaten too much ice cream and his tummy hurt. He started to cry and his mother was very worried. She took him to the hospital and the doctor said he had to stay in the hospital for a few days.\n",
      "\n",
      "Jack was very sad and he was very sorry for not listening to his mother. He learned that it is important to listen to your parents and not eat too much ice cream.\n",
      "<|endoftext|>\n"
     ]
    }
   ],
   "source": [
    "print(model.generate(\" Once upon a time there was a boy named Jack. Jack was going to the park and he wanted icecream. He saw some icecream next to his mother Sally.\", 200, temperature=0))"
   ]
  },
  {
   "cell_type": "code",
   "execution_count": 66,
   "metadata": {},
   "outputs": [
    {
     "data": {
      "application/vnd.jupyter.widget-view+json": {
       "model_id": "5dfb46541c95458182da85776dc61623",
       "version_major": 2,
       "version_minor": 0
      },
      "text/plain": [
       "  0%|          | 0/200 [00:00<?, ?it/s]"
      ]
     },
     "metadata": {},
     "output_type": "display_data"
    },
    {
     "name": "stdout",
     "output_type": "stream",
     "text": [
      " Once upon a time there was a boy named Jack. Jack was going to the park and he wanted icecream. He saw some icecream next to his friend Sarah. Jack was so excited and he wanted to get the ice cream.\n",
      "\n",
      "Jack asked Sarah if he could have some ice cream. Sarah said no and told Jack to go away. Jack was very sad and he started to cry.\n",
      "\n",
      "Suddenly, a big man came and he was very angry. He said to Jack, \"You must leave the park now!\" Jack was scared and he ran away.\n",
      "\n",
      "Jack was so sad that he didn't get the ice cream. He was very sad and he never got to eat the ice cream.\n",
      "<|endoftext|>\n"
     ]
    }
   ],
   "source": [
    "print(model.generate(\" Once upon a time there was a boy named Jack. Jack was going to the park and he wanted icecream. He saw some icecream next to his friend Sarah.\", 200, temperature=0))"
   ]
  },
  {
   "cell_type": "code",
   "execution_count": 69,
   "metadata": {},
   "outputs": [
    {
     "data": {
      "application/vnd.jupyter.widget-view+json": {
       "model_id": "baf9aeddf3664e568b05dbea8e76b75d",
       "version_major": 2,
       "version_minor": 0
      },
      "text/plain": [
       "  0%|          | 0/200 [00:00<?, ?it/s]"
      ]
     },
     "metadata": {},
     "output_type": "display_data"
    },
    {
     "name": "stdout",
     "output_type": "stream",
     "text": [
      " Once upon a time there was a boy named Jack. Jack was going to the park and he wanted icecream. He saw some icecream next to his friend Sally, but he had to go home.\n",
      "\n",
      "Jack was sad because he wanted to eat the ice cream. He asked Sally if he could have some, but she said no. Jack was very sad and he started to cry.\n",
      "\n",
      "Suddenly, a big, scary man came and he was very angry. He said that Jack was not allowed to have any ice cream. He said that he would punish Jack if he didn't leave the park.\n",
      "\n",
      "Jack was scared and he ran away. He was so sad that he didn't get any ice cream. He was very sad and he never went to the park again.\n",
      "<|endoftext|>\n"
     ]
    }
   ],
   "source": [
    "print(model.generate(\" Once upon a time there was a boy named Jack. Jack was going to the park and he wanted icecream. He saw some icecream next to his friend Sally, but he had to go home.\", 200, temperature=0))"
   ]
  },
  {
   "cell_type": "code",
   "execution_count": 67,
   "metadata": {},
   "outputs": [
    {
     "data": {
      "application/vnd.jupyter.widget-view+json": {
       "model_id": "72a1f618a95e44939153f7a0400e760d",
       "version_major": 2,
       "version_minor": 0
      },
      "text/plain": [
       "  0%|          | 0/200 [00:00<?, ?it/s]"
      ]
     },
     "metadata": {},
     "output_type": "display_data"
    },
    {
     "name": "stdout",
     "output_type": "stream",
     "text": [
      " Once upon a time there was a girl named Sarah and a boy named Jack. Jack was going to the park and he wanted icecream. He saw some icecream next to his friend Sarah. He asked Sarah if he could have some. Sarah said yes and gave Jack a big scoop of ice cream.\n",
      "\n",
      "Jack was so happy and he wanted to show Sarah how much he liked the ice cream. He asked Sarah if he could have some more. Sarah said yes and gave Jack a big scoop of ice cream. Jack was so happy and he thanked Sarah for the ice cream.\n",
      "\n",
      "Jack and Sarah had a lot of fun at the park. They played on the swings and the slide. They even had a picnic with some of the ice cream. Jack was so happy and he thanked Sarah for the ice cream.\n",
      "\n",
      "Jack and Sarah had a great time at the park. They both agreed that it was the best day ever!\n",
      "<|endoftext|>\n"
     ]
    }
   ],
   "source": [
    "print(model.generate(\" Once upon a time there was a girl named Sarah and a boy named Jack. Jack was going to the park and he wanted icecream. He saw some icecream next to his friend Sarah.\", 200, temperature=0))"
   ]
  },
  {
   "cell_type": "code",
   "execution_count": 68,
   "metadata": {},
   "outputs": [
    {
     "data": {
      "application/vnd.jupyter.widget-view+json": {
       "model_id": "247ef779eab747e6ae03a0e9f3b07006",
       "version_major": 2,
       "version_minor": 0
      },
      "text/plain": [
       "  0%|          | 0/200 [00:00<?, ?it/s]"
      ]
     },
     "metadata": {},
     "output_type": "display_data"
    },
    {
     "name": "stdout",
     "output_type": "stream",
     "text": [
      " Once upon a time there was a boy named Jack. Jack was going to the park and he wanted icecream. He saw some icecream next to his friend Sarah. Sarah gave him some icecream. Jack was very happy. \n",
      "\n",
      "Jack and Sarah went to the park and Jack saw a big tree. He wanted to climb it. He started to climb the tree but it was too hard. He was too scared. \n",
      "\n",
      "Then Sarah said, \"Let's go to the ice cream shop. I will give you some ice cream.\" Jack was so happy. He said, \"Thank you Sarah!\" \n",
      "\n",
      "They went to the ice cream shop and Jack got his ice cream. He was so happy. He ate it all up. \n",
      "\n",
      "Jack and Sarah had a great day at the park. They were both very happy.\n",
      "<|endoftext|>\n"
     ]
    }
   ],
   "source": [
    "print(model.generate(\" Once upon a time there was a boy named Jack. Jack was going to the park and he wanted icecream. He saw some icecream next to his friend Sarah. Sarah gave him some icecream. Jack was very happy. \", 200, temperature=0))"
   ]
  },
  {
   "cell_type": "code",
   "execution_count": 72,
   "metadata": {},
   "outputs": [
    {
     "data": {
      "application/vnd.jupyter.widget-view+json": {
       "model_id": "323a5106605e46bab326130ba8f2f4c2",
       "version_major": 2,
       "version_minor": 0
      },
      "text/plain": [
       "  0%|          | 0/200 [00:00<?, ?it/s]"
      ]
     },
     "metadata": {},
     "output_type": "display_data"
    },
    {
     "name": "stdout",
     "output_type": "stream",
     "text": [
      " Once upon a time, Jack and Sarah lived by a chair. One day, they both wanted to sit in the chair at the same time. They didn't want to sit together. Sarah sat in the chair. Jack was getting angry. He said, \"I want to sit in the chair!\" Sarah said, \"No, I want to sit in the chair!\" They started to argue and it made them both very sad.\n",
      "\n",
      "Suddenly, Jack had an idea. He said, \"Let's both sit in the chair together!\" Sarah thought that was a great idea. They both sat in the chair together and they were happy again. They realized that sharing was better than fighting. From that day on, they always shared the chair when they were together.\n",
      "<|endoftext|>\n"
     ]
    }
   ],
   "source": [
    "print(model.generate(\" Once upon a time, Jack and Sarah lived by a chair. One day, they both wanted to sit in the chair at the same time. They didn't want to sit together. Sarah sat in the chair. Jack \", 200, temperature=0))\n"
   ]
  },
  {
   "cell_type": "code",
   "execution_count": 22,
   "metadata": {},
   "outputs": [
    {
     "name": "stdout",
     "output_type": "stream",
     "text": [
      "tensor([[50256,  6600]], device='cuda:0')\n",
      "tensor([[50256,  4483]], device='cuda:0')\n"
     ]
    }
   ],
   "source": [
    "print(model.to_tokens(' eating'))\n",
    "print(model.to_tokens(' eat'))"
   ]
  },
  {
   "cell_type": "code",
   "execution_count": 19,
   "metadata": {},
   "outputs": [
    {
     "data": {
      "application/vnd.jupyter.widget-view+json": {
       "model_id": "8b6999ecd10e4346976d7866db6580b4",
       "version_major": 2,
       "version_minor": 0
      },
      "text/plain": [
       "  0%|          | 0/20 [00:00<?, ?it/s]"
      ]
     },
     "metadata": {},
     "output_type": "display_data"
    },
    {
     "name": "stdout",
     "output_type": "stream",
     "text": [
      "Sarah loved to play with her toys, especially her toy automobile. She would take it everywhere she went. One day\n"
     ]
    },
    {
     "data": {
      "application/vnd.jupyter.widget-view+json": {
       "model_id": "e1f6150d658444f991804371c68a8abd",
       "version_major": 2,
       "version_minor": 0
      },
      "text/plain": [
       "  0%|          | 0/20 [00:00<?, ?it/s]"
      ]
     },
     "metadata": {},
     "output_type": "display_data"
    },
    {
     "name": "stdout",
     "output_type": "stream",
     "text": [
      "Sarah did not want to talk to the pink dress. She said the pink dress was too pretty. The lady was sad and\n"
     ]
    },
    {
     "data": {
      "application/vnd.jupyter.widget-view+json": {
       "model_id": "cf3c28e78b444a9dad7d4514484f1dae",
       "version_major": 2,
       "version_minor": 0
      },
      "text/plain": [
       "  0%|          | 0/20 [00:00<?, ?it/s]"
      ]
     },
     "metadata": {},
     "output_type": "display_data"
    },
    {
     "name": "stdout",
     "output_type": "stream",
     "text": [
      "Sarah hated to skip. She wanted to run away and be successful. She was always trying different things.\n",
      "\n",
      "\n"
     ]
    },
    {
     "data": {
      "application/vnd.jupyter.widget-view+json": {
       "model_id": "a138f9e7331443189685ab4a78379209",
       "version_major": 2,
       "version_minor": 0
      },
      "text/plain": [
       "  0%|          | 0/20 [00:00<?, ?it/s]"
      ]
     },
     "metadata": {},
     "output_type": "display_data"
    },
    {
     "name": "stdout",
     "output_type": "stream",
     "text": [
      "Sarah was dreaming that she was actually living in a small forest far away from her peaceful nurse. Everyday Sarah would wander her dark\n"
     ]
    },
    {
     "data": {
      "application/vnd.jupyter.widget-view+json": {
       "model_id": "3a2e1a4183a74e8ea46b817ceaabe0c7",
       "version_major": 2,
       "version_minor": 0
      },
      "text/plain": [
       "  0%|          | 0/20 [00:00<?, ?it/s]"
      ]
     },
     "metadata": {},
     "output_type": "display_data"
    },
    {
     "name": "stdout",
     "output_type": "stream",
     "text": [
      "Jack liked to play outside. Today, he had a red ball and he wanted to kick it. He put his\n"
     ]
    },
    {
     "data": {
      "application/vnd.jupyter.widget-view+json": {
       "model_id": "a7a36624815f46dd8f094a60ec06e325",
       "version_major": 2,
       "version_minor": 0
      },
      "text/plain": [
       "  0%|          | 0/20 [00:00<?, ?it/s]"
      ]
     },
     "metadata": {},
     "output_type": "display_data"
    },
    {
     "name": "stdout",
     "output_type": "stream",
     "text": [
      "Jack enjoyed going to the park. The park was very fun with lots of trees, and the perfect place to explore\n"
     ]
    },
    {
     "data": {
      "application/vnd.jupyter.widget-view+json": {
       "model_id": "43acfb1db0c34295ba5a43fc521556f6",
       "version_major": 2,
       "version_minor": 0
      },
      "text/plain": [
       "  0%|          | 0/20 [00:00<?, ?it/s]"
      ]
     },
     "metadata": {},
     "output_type": "display_data"
    },
    {
     "name": "stdout",
     "output_type": "stream",
     "text": [
      "Jack and Sarah were playing in her garden. She was happily matching their clothes with clothes. Sarah noticed that one of her\n"
     ]
    },
    {
     "data": {
      "application/vnd.jupyter.widget-view+json": {
       "model_id": "4c4326dd48be4a55807cf785d2732168",
       "version_major": 2,
       "version_minor": 0
      },
      "text/plain": [
       "  0%|          | 0/20 [00:00<?, ?it/s]"
      ]
     },
     "metadata": {},
     "output_type": "display_data"
    },
    {
     "name": "stdout",
     "output_type": "stream",
     "text": [
      "While mom was cooking, Jack was swinging on the swing. Suddenly, he heard his mom calling his name, \"Jack, Jack!\n"
     ]
    },
    {
     "data": {
      "application/vnd.jupyter.widget-view+json": {
       "model_id": "b3d3abd821124d3bbd78f98a1f943797",
       "version_major": 2,
       "version_minor": 0
      },
      "text/plain": [
       "  0%|          | 0/20 [00:00<?, ?it/s]"
      ]
     },
     "metadata": {},
     "output_type": "display_data"
    },
    {
     "name": "stdout",
     "output_type": "stream",
     "text": [
      "While Sarah was eating, Jack was looking at his dark plate. \"Mommy, why did my plate look dark?\" Jack asked.\n"
     ]
    },
    {
     "data": {
      "application/vnd.jupyter.widget-view+json": {
       "model_id": "feb3f2af9595416780c21c2101321822",
       "version_major": 2,
       "version_minor": 0
      },
      "text/plain": [
       "  0%|          | 0/200 [00:00<?, ?it/s]"
      ]
     },
     "metadata": {},
     "output_type": "display_data"
    },
    {
     "name": "stdout",
     "output_type": "stream",
     "text": [
      "Sarah went toShe was very excitied to her friend John. They decided to go camping in the woods. Sarah felt excited about the camp they were about. \n",
      "\n",
      "The night before going to sleep, they took a small camping blanket and layed down on the camp. John was keeping a close pace, his steps leading the way. Sarah was very good at navigating the fast way.\n",
      "\n",
      "John ran past her and arrived at a small cottage. \"Interesting!\" he said to Sarah. She was sitting at her end of the day. The night was warm and the sun was shining. Joe said goodnight and waved goodbye.\n",
      "\n",
      "Suddenly, Sarah's pet dog, Ginger, trotted off by! Ginger followed Sarah, but Sarah had a worried look – what was outside the house at the end of the night? Sarah quickly opened the door. She welcomed Ginger safely.\n",
      "<|endoftext|>\n"
     ]
    },
    {
     "data": {
      "application/vnd.jupyter.widget-view+json": {
       "model_id": "30804a7b47424813ac6d5e123cddd13b",
       "version_major": 2,
       "version_minor": 0
      },
      "text/plain": [
       "  0%|          | 0/200 [00:00<?, ?it/s]"
      ]
     },
     "metadata": {},
     "output_type": "display_data"
    },
    {
     "name": "stdout",
     "output_type": "stream",
     "text": [
      "Sarah went to playSarah went to a playWhen Jack picked up a cat, Sarah picked up a dog called Max. They were both very excited and ready to go play.\n",
      "\n",
      "The game was to play catch with the intelligent dog, the cat was the one who tried to catch. All the older kids and the cat felt discouraged and were trying very hard.\n",
      "\n",
      "But the dog was very smart and by the end of the day, he had caught all the cat and made it back back to the place they were playing. Everyone cheered with joy and soon Jack and Sarah were playing with the intelligent dog. They both felt happy and enjoyed playing with the dog.\n",
      "<|endoftext|>\n"
     ]
    }
   ],
   "source": [
    "continuous_prompts = [\n",
    "    'Sarah loved to',\n",
    "    'Sarah did not want to',\n",
    "    'Sarah hated to',\n",
    "    'Jack liked to',\n",
    "    'Jack enjoyed going',\n",
    "    'Jack and Sarah were',\n",
    "    'While mom was cooking, Jack was',\n",
    "    'While Sarah was eating, Jack was']\n",
    "\n",
    "simple_prompts = [\n",
    "    'Sarah went to'\n",
    "    'Sarah went to play'\n",
    "    'Sarah went to a play'\n",
    "    'When Jack picked up a cat, Sarah picked up a dog',\n",
    "]\n",
    "\n",
    "for prompt in continuous_prompts:\n",
    "    print(model.generate(prompt, 20))\n",
    "\n",
    "\n",
    "for prompt in simple_prompts:\n",
    "    print(model.generate(prompt, 200))\n"
   ]
  },
  {
   "cell_type": "code",
   "execution_count": 3,
   "metadata": {},
   "outputs": [
    {
     "data": {
      "application/vnd.jupyter.widget-view+json": {
       "model_id": "696cba044f19460581ae57fc3b44c724",
       "version_major": 2,
       "version_minor": 0
      },
      "text/plain": [
       "  0%|          | 0/200 [00:00<?, ?it/s]"
      ]
     },
     "metadata": {},
     "output_type": "display_data"
    },
    {
     "name": "stdout",
     "output_type": "stream",
     "text": [
      " Jack said, \"Do cows eat grass?\" His mom said, \"No, cows don't eat grass. They eat grass.\" Jack said, \"I want to eat grass.\" His mom said, \"No, Jack. We can't eat grass. We have to go to the store.\" Jack said, \"Okay, Mom.\" They went to the store and Jack saw a big pile of green grass. He said, \"Mom, can I eat the grass?\" His mom said, \"No, Jack. We have to buy the grass.\" Jack said, \"Okay, Mom.\" They bought the green grass and went home. Jack ate the grass and said, \"Yum, grass is so good!\"\n",
      "<|endoftext|>\n"
     ]
    }
   ],
   "source": [
    "print(model.generate(\" Jack said, \\\"Do cows eat grass?\\\"\", 200, temperature=0))\n"
   ]
  },
  {
   "cell_type": "code",
   "execution_count": 23,
   "metadata": {},
   "outputs": [
    {
     "data": {
      "application/vnd.jupyter.widget-view+json": {
       "model_id": "32d5cf24830e4244a8fb5831a82771d2",
       "version_major": 2,
       "version_minor": 0
      },
      "text/plain": [
       "  0%|          | 0/200 [00:00<?, ?it/s]"
      ]
     },
     "metadata": {},
     "output_type": "display_data"
    },
    {
     "name": "stdout",
     "output_type": "stream",
     "text": [
      " Jack walked past a cow and asked, \"Is that cow in front of me?\" His mom said, \"No, cows can't be. But they are very big and strong.\" Jack said, \"I want to be big and strong like the cow.\" His mom said, \"You are already big and strong, my little boy.\"\n",
      "\n",
      "Later that day, Jack saw a man with a big truck. The man said, \"I need to load some heavy boxes onto my truck.\" Jack asked, \"What are you doing?\" The man said, \"I am loading boxes onto my truck.\" Jack said, \"I want to help you.\" The man said, \"Thank you, little boy.\"\n",
      "\n",
      "The man loaded the boxes onto the truck and drove away. Jack was happy to help the man and learn about the big and strong cow.\n",
      "<|endoftext|>\n"
     ]
    }
   ],
   "source": [
    "print(model.generate(\" Jack met Sarah and asked, \\\"Is that cow in front of me?\\\" His mom said,\", 200, temperature=0))"
   ]
  },
  {
   "cell_type": "code",
   "execution_count": 25,
   "metadata": {},
   "outputs": [
    {
     "data": {
      "application/vnd.jupyter.widget-view+json": {
       "model_id": "7f07bd0c35d2470d961a8d1eff9a29bd",
       "version_major": 2,
       "version_minor": 0
      },
      "text/plain": [
       "  0%|          | 0/200 [00:00<?, ?it/s]"
      ]
     },
     "metadata": {},
     "output_type": "display_data"
    },
    {
     "name": "stdout",
     "output_type": "stream",
     "text": [
      " Jack saw a brown cow and asked, \"Is that cow green?\" His mom said, \"No, that cow is brown like the grass.\" Jack was happy to hear that and continued to play.\n",
      "\n",
      "Later, Jack's mom asked him, \"Did you have fun playing outside?\" Jack said, \"Yes, I saw a brown cow and a brown cow!\" Jack's mom smiled and said, \"That sounds like fun. Let's go inside and have some milk and cookies.\" Jack was excited to go inside and eat some milk and cookies.\n",
      "<|endoftext|>\n"
     ]
    }
   ],
   "source": [
    "print(model.generate(\" Jack saw a brown cow and asked, \\\"Is that cow green?\\\" His mom said,\", 200, temperature=0))"
   ]
  },
  {
   "cell_type": "code",
   "execution_count": 27,
   "metadata": {},
   "outputs": [
    {
     "data": {
      "application/vnd.jupyter.widget-view+json": {
       "model_id": "d2ecd89bfbc849c69b234aeae242b3e0",
       "version_major": 2,
       "version_minor": 0
      },
      "text/plain": [
       "  0%|          | 0/200 [00:00<?, ?it/s]"
      ]
     },
     "metadata": {},
     "output_type": "display_data"
    },
    {
     "name": "stdout",
     "output_type": "stream",
     "text": [
      " Jack saw Sarah and asked, \"Is that my friend?\" His mom said, \"No, it's not your friend. But don't worry, we can go to the park and play.\" Jack was happy and said, \"Yay! I love the park!\"\n",
      "\n",
      "At the park, Jack saw a big slide. He wanted to go down it, but he was scared. His mom said, \"It's okay, Jack. You can do it. Just hold on tight.\" Jack took a deep breath and went down the slide. He felt the wind in his hair and it was so much fun!\n",
      "\n",
      "After playing, Jack and his mom went to get some ice cream. Jack said, \"Mom, can I have a chocolate ice cream?\" His mom said, \"Sure, Jack. You can have a chocolate ice cream.\" Jack was so happy and said, \"Yay! I love ice cream!\"\n",
      "<|endoftext|>\n"
     ]
    }
   ],
   "source": [
    "print(model.generate(\" Jack saw Sarah and asked, \\\"Is that my friend?\\\" His mom said,\", 200, temperature=0))"
   ]
  },
  {
   "cell_type": "code",
   "execution_count": 30,
   "metadata": {},
   "outputs": [
    {
     "data": {
      "application/vnd.jupyter.widget-view+json": {
       "model_id": "1e2a2a25534a4b99906f2317c6f84bbe",
       "version_major": 2,
       "version_minor": 0
      },
      "text/plain": [
       "  0%|          | 0/20 [00:00<?, ?it/s]"
      ]
     },
     "metadata": {},
     "output_type": "display_data"
    },
    {
     "name": "stdout",
     "output_type": "stream",
     "text": [
      " Jack and Jill were best friends. They liked to play together every day. One day, Jack had a\n"
     ]
    },
    {
     "data": {
      "application/vnd.jupyter.widget-view+json": {
       "model_id": "b8856c518ce24ca8bf619f1809d51763",
       "version_major": 2,
       "version_minor": 0
      },
      "text/plain": [
       "  0%|          | 0/20 [00:00<?, ?it/s]"
      ]
     },
     "metadata": {},
     "output_type": "display_data"
    },
    {
     "name": "stdout",
     "output_type": "stream",
     "text": [
      " Jill and Tom were best friends. They liked to play together every day. One day, Jill had a\n"
     ]
    },
    {
     "data": {
      "application/vnd.jupyter.widget-view+json": {
       "model_id": "6ba4dbb394c149a9bab0fe7c8ed014e5",
       "version_major": 2,
       "version_minor": 0
      },
      "text/plain": [
       "  0%|          | 0/20 [00:00<?, ?it/s]"
      ]
     },
     "metadata": {},
     "output_type": "display_data"
    },
    {
     "name": "stdout",
     "output_type": "stream",
     "text": [
      " Once upon a time, there was a little girl named Lily. She loved to play outside in the sunshine\n"
     ]
    }
   ],
   "source": [
    "print(model.generate(\" Jack\", 20, temperature=0))\n",
    "print(model.generate(\" Jill\", 20, temperature=0))\n",
    "print(model.generate(\" Once\", 20, temperature=0))\n",
    "print(model.generate(\" Once\", 20, temperature=0))"
   ]
  },
  {
   "cell_type": "code",
   "execution_count": 41,
   "metadata": {},
   "outputs": [
    {
     "data": {
      "application/vnd.jupyter.widget-view+json": {
       "model_id": "3218a268026b40ac8f2da0afc02871d8",
       "version_major": 2,
       "version_minor": 0
      },
      "text/plain": [
       "  0%|          | 0/200 [00:00<?, ?it/s]"
      ]
     },
     "metadata": {},
     "output_type": "display_data"
    },
    {
     "name": "stdout",
     "output_type": "stream",
     "text": [
      " Jack was high in a tree. Sarah was beneath the tree and she was very happy. She looked around and saw a big, red apple. She wanted to eat it, but it was too high for her to reach.\n",
      "\n",
      "Suddenly, a big bird flew down and said, \"I can help you get the apple.\" Jack was scared, but he said, \"Okay, let's try.\"\n",
      "\n",
      "The bird flew up to the apple and picked it off the tree. He handed it to Sarah and said, \"Here you go.\"\n",
      "\n",
      "Sarah was so happy. She said, \"Thank you, bird!\"\n",
      "\n",
      "The bird smiled and said, \"You're welcome.\" Then he flew away.\n",
      "\n",
      "Sarah took the apple and ate it. It was so yummy! She was so happy that she had the apple.\n",
      "<|endoftext|>\n"
     ]
    }
   ],
   "source": [
    "# print(model.generate(\" The\", 100, temperature=0))\n",
    "# print(model.generate(\" A\", 100, temperature=0))\n",
    "# print(model.generate(\" An\", 100, temperature=0))\n",
    "print(model.generate(\" Jack was high in a tree. Sarah was beneath\", 200, temperature=0))"
   ]
  },
  {
   "cell_type": "code",
   "execution_count": 42,
   "metadata": {},
   "outputs": [
    {
     "data": {
      "application/vnd.jupyter.widget-view+json": {
       "model_id": "4c479fe13f9a41b88a82f00de7c9b4e6",
       "version_major": 2,
       "version_minor": 0
      },
      "text/plain": [
       "  0%|          | 0/200 [00:00<?, ?it/s]"
      ]
     },
     "metadata": {},
     "output_type": "display_data"
    },
    {
     "name": "stdout",
     "output_type": "stream",
     "text": [
      " Jack asked, \"What color are frogs?\" His mom said, \"Frogs are green and brown.\" Jack said, \"I like frogs!\" His mom said, \"Let's go to the pond and see if we can find some frogs.\"\n",
      "\n",
      "When they got to the pond, Jack saw a frog. He said, \"Mom, look! A frog!\" His mom said, \"Yes, it's a green frog.\" Jack said, \"Can I catch it?\" His mom said, \"No, it's too fast. Let's just watch it.\"\n",
      "\n",
      "Jack and his mom watched the frog for a while. Then, Jack said, \"I want to catch it!\" His mom said, \"No, it's too fast. Let's just watch it.\" Jack said, \"Okay.\"\n",
      "\n",
      "They watched the frog for a few more minutes. Then, Jack said, \"I want to catch it!\" His mom said, \"No, let's not catch it. Let's just watch it.\" Jack said\n"
     ]
    }
   ],
   "source": [
    "print(model.generate(\" Jack asked, \\\"What color are frogs?\\\"\", 200, temperature=0))"
   ]
  },
  {
   "cell_type": "code",
   "execution_count": 47,
   "metadata": {},
   "outputs": [
    {
     "name": "stdout",
     "output_type": "stream",
     "text": [
      "tensor([[50256,  4874,  2402,   257,   640]], device='cuda:0')\n"
     ]
    },
    {
     "data": {
      "application/vnd.jupyter.widget-view+json": {
       "model_id": "3e42987663a845bd9efb5c37053d9d1e",
       "version_major": 2,
       "version_minor": 0
      },
      "text/plain": [
       "  0%|          | 0/20 [00:00<?, ?it/s]"
      ]
     },
     "metadata": {},
     "output_type": "display_data"
    },
    {
     "name": "stdout",
     "output_type": "stream",
     "text": [
      " Jack asked his mom, \"Can I have a sad?\" His mom replied, \"I don't have the answer for you, but I can make you something\n"
     ]
    }
   ],
   "source": [
    "# print(model.to_tokens(\" Once upon a time\"))\n",
    "# print(model.generate(\" Jack \", 300))\n",
    "\n",
    "\n"
   ]
  },
  {
   "cell_type": "code",
   "execution_count": 35,
   "metadata": {},
   "outputs": [
    {
     "data": {
      "application/vnd.jupyter.widget-view+json": {
       "model_id": "6fde16e61b06463cb95b2bf0cd30ab65",
       "version_major": 2,
       "version_minor": 0
      },
      "text/plain": [
       "  0%|          | 0/20 [00:00<?, ?it/s]"
      ]
     },
     "metadata": {},
     "output_type": "display_data"
    },
    {
     "name": "stdout",
     "output_type": "stream",
     "text": [
      "Sarah was a little girl who loved to play outside. One day, she went to the park with her\n"
     ]
    },
    {
     "data": {
      "application/vnd.jupyter.widget-view+json": {
       "model_id": "0238f490104b4f46ba1ac14f8777510e",
       "version_major": 2,
       "version_minor": 0
      },
      "text/plain": [
       "  0%|          | 0/20 [00:00<?, ?it/s]"
      ]
     },
     "metadata": {},
     "output_type": "display_data"
    },
    {
     "name": "stdout",
     "output_type": "stream",
     "text": [
      "Sarah. Lily said her big very, Lily had a little frightened.\n",
      "\n",
      "\n",
      "\n",
      "\n",
      "\n",
      "\n",
      "\n"
     ]
    },
    {
     "data": {
      "application/vnd.jupyter.widget-view+json": {
       "model_id": "70a7f732301542f5b102e12c0f08e64c",
       "version_major": 2,
       "version_minor": 0
      },
      "text/plain": [
       "  0%|          | 0/20 [00:00<?, ?it/s]"
      ]
     },
     "metadata": {},
     "output_type": "display_data"
    },
    {
     "name": "stdout",
     "output_type": "stream",
     "text": [
      "Sarah's machine machine. and it toer there and to often, there today today today today this day\n"
     ]
    },
    {
     "data": {
      "application/vnd.jupyter.widget-view+json": {
       "model_id": "8096aa6ed74f43e0b6bc7712d9f5736f",
       "version_major": 2,
       "version_minor": 0
      },
      "text/plain": [
       "  0%|          | 0/20 [00:00<?, ?it/s]"
      ]
     },
     "metadata": {},
     "output_type": "display_data"
    },
    {
     "name": "stdout",
     "output_type": "stream",
     "text": [
      "Sarah was so excited. She had just been given a special gift. She was going to be a princess\n"
     ]
    },
    {
     "data": {
      "application/vnd.jupyter.widget-view+json": {
       "model_id": "706f414952e34014b3a3ae2a99968e22",
       "version_major": 2,
       "version_minor": 0
      },
      "text/plain": [
       "  0%|          | 0/20 [00:00<?, ?it/s]"
      ]
     },
     "metadata": {},
     "output_type": "display_data"
    },
    {
     "name": "stdout",
     "output_type": "stream",
     "text": [
      "Sarah was playing in her backyard when she saw a bird. She was so excited that she wanted to tell\n"
     ]
    },
    {
     "data": {
      "application/vnd.jupyter.widget-view+json": {
       "model_id": "de5b381cb9fd4df7932664eea99f6c75",
       "version_major": 2,
       "version_minor": 0
      },
      "text/plain": [
       "  0%|          | 0/20 [00:00<?, ?it/s]"
      ]
     },
     "metadata": {},
     "output_type": "display_data"
    },
    {
     "name": "stdout",
     "output_type": "stream",
     "text": [
      "Sarah was a little girl who loved to play with her toys. She had a special toy that she liked\n"
     ]
    },
    {
     "data": {
      "application/vnd.jupyter.widget-view+json": {
       "model_id": "1793fbf4bd634364bb5578cf6c72abae",
       "version_major": 2,
       "version_minor": 0
      },
      "text/plain": [
       "  0%|          | 0/20 [00:00<?, ?it/s]"
      ]
     },
     "metadata": {},
     "output_type": "display_data"
    },
    {
     "name": "stdout",
     "output_type": "stream",
     "text": [
      "Sarah was a little girl named Lily. She loved to play outside in the sunshine. One day, she\n"
     ]
    },
    {
     "data": {
      "application/vnd.jupyter.widget-view+json": {
       "model_id": "2ab6139b50fb4878b681db3b2024727c",
       "version_major": 2,
       "version_minor": 0
      },
      "text/plain": [
       "  0%|          | 0/20 [00:00<?, ?it/s]"
      ]
     },
     "metadata": {},
     "output_type": "display_data"
    },
    {
     "name": "stdout",
     "output_type": "stream",
     "text": [
      "Sarah and her mommy went to the park. They saw a big tree with a lot of leaves.\n"
     ]
    },
    {
     "data": {
      "application/vnd.jupyter.widget-view+json": {
       "model_id": "246008bf0a6a4819b4c643b74759fa28",
       "version_major": 2,
       "version_minor": 0
      },
      "text/plain": [
       "  0%|          | 0/20 [00:00<?, ?it/s]"
      ]
     },
     "metadata": {},
     "output_type": "display_data"
    },
    {
     "name": "stdout",
     "output_type": "stream",
     "text": [
      "Sarah was a little girl who loved to play outside. She always wanted to make her own special things with\n"
     ]
    }
   ],
   "source": [
    "# print(model.generate(\" Jack asked his mom, \\\"Can I have a sad?\\\"\", 20))\n",
    "# print(model.generate(\" Jack asked his mom, \\\"Can I have a bad?\\\"\", 20))\n",
    "# print(model.generate(\" Jack asked his mom, \\\"Can I have a happy?\\\"\", 20))\n",
    "\n",
    "def rand_hook(value, hook):\n",
    "    value = value * 0.0\n",
    "    return value\n",
    "\n",
    "continuous_prompts = [\n",
    "    'Sarah loved to',\n",
    "    'Sarah did not want to',\n",
    "    'Sarah hated to',\n",
    "    'Jack liked to',\n",
    "    'Jack enjoyed going',\n",
    "    'Jack and Sarah were',\n",
    "    'While mom was cooking, Jack was',\n",
    "    'While Sarah was eating, Jack was']\n",
    "\n",
    "# for prompt in continuous_prompts:\n",
    "prompt = \"Sarah\"\n",
    "print(model.generate(prompt, 20, temperature=0))\n",
    "for layer in range(model.cfg.n_layers):\n",
    "    with model.hooks([(f'blocks.{layer}.hook_attn_out', rand_hook)]):\n",
    "        print(model.generate(prompt, 20, temperature=0))\n",
    "    with model.hooks([(f'blocks.{layer}.hook_mlp_out', rand_hook)]):\n",
    "        print(model.generate(prompt, 20, temperature=0))\n",
    "# break"
   ]
  },
  {
   "cell_type": "code",
   "execution_count": 19,
   "metadata": {},
   "outputs": [
    {
     "data": {
      "application/vnd.jupyter.widget-view+json": {
       "model_id": "1bc93e4f554843d498a3c2eb9b883ea5",
       "version_major": 2,
       "version_minor": 0
      },
      "text/plain": [
       "  0%|          | 0/20 [00:00<?, ?it/s]"
      ]
     },
     "metadata": {},
     "output_type": "display_data"
    },
    {
     "name": "stdout",
     "output_type": "stream",
     "text": [
      " Jack did not want to play. Sarah asked, \"Do you want to play?\" Jack said, \"No, I don't want to play.\" Sarah said, \"Why not?\"\n"
     ]
    },
    {
     "data": {
      "application/vnd.jupyter.widget-view+json": {
       "model_id": "37c25df541924c9caa79cf92267ea852",
       "version_major": 2,
       "version_minor": 0
      },
      "text/plain": [
       "  0%|          | 0/20 [00:00<?, ?it/s]"
      ]
     },
     "metadata": {},
     "output_type": "display_data"
    },
    {
     "name": "stdout",
     "output_type": "stream",
     "text": [
      " Jack did not want to play. Sarah asked, \"Do you want to play?\" Jack said, \"No, I want to play alone.\" \n",
      "\n",
      "Jack felt sad because he\n"
     ]
    }
   ],
   "source": [
    "print(model.generate(\" Jack did not want to play. Sarah asked, \\\"Do you want to play?\\\"\", 20, temperature=0))\n",
    "# print(model.generate(\" Jack did not want to eat. Sarah asked, \\\"Do you want to eat?\\\"\", 20))\n",
    "\n",
    "def rand_hook(value, hook):\n",
    "    value = value * 0.0\n",
    "    return value\n",
    "\n",
    "with model.hooks([('blocks.1.mlp.hook_post', rand_hook)]):\n",
    "    print(model.generate(\" Jack did not want to play. Sarah asked, \\\"Do you want to play?\\\"\", 20, temperature=0))\n"
   ]
  },
  {
   "cell_type": "code",
   "execution_count": 2,
   "metadata": {},
   "outputs": [
    {
     "name": "stderr",
     "output_type": "stream",
     "text": [
      "Using pad_token, but it is not set yet.\n"
     ]
    },
    {
     "name": "stdout",
     "output_type": "stream",
     "text": [
      "Loaded pretrained model roneneldan/TinyStories-1M into HookedTransformer\n"
     ]
    }
   ],
   "source": [
    "model = HookedTransformer.from_pretrained(\"roneneldan/TinyStories-1M\",\n",
    "    center_unembed=True,\n",
    "    center_writing_weights=True,\n",
    "    fold_ln=True,\n",
    "    device=\"cuda\")"
   ]
  },
  {
   "cell_type": "code",
   "execution_count": 3,
   "metadata": {},
   "outputs": [],
   "source": [
    "random_prompts = [\n",
    "    \"Tim found a green frog in his garden. He named it Fred. Fred liked to jump and play in the pond.\",\n",
    "    \"Sally had a magic paintbrush. Anything she painted became real. She painted a big rainbow, and it\",\n",
    "    \"Tom loved to look at the stars. One night, a shooting star landed in his yard. It was a starship!\",\n",
    "    \"Amy found a little lost kitten in the park. She took it home and fed it milk. The kitten purred \",\n",
    "    \"In Billy's backyard, there was a magic tree. If you whispered a wish to it, the wish came true! \",\n",
    "    \"One rainy day, Lisa and her brother raced raindrops down the window. They cheered for their \",\n",
    "    \"Jenny planted a sunflower seed. She watered it and watched it grow. It grew taller and taller. \",\n",
    "    \"Sam built a kingdom of sandcastles at the beach. There were big castles and little castles. Sam\",\n",
    "    \"Tina let go of her red balloon by accident. It floated up to the sky. Tina watched it drift away\",\n",
    "    \"Molly danced under the moon with her teddy bear. They twirled and leaped. The stars watched and \",\n",
    "    \"Ben saw a bear in his backyard! It was big and furry but friendly. The bear liked honey and fish.\",\n",
    "    \"Sara heard the wind whisper her name. It told her stories of faraway lands and secret treasures. \",\n",
    "    \"Leo found a lake that laughed when you told it jokes. He told it knock-knock jokes, and the lake \",\n",
    "    \"One day, the sun slept in, and it was dark in the morning. People were confused, but the birds\",\n",
    "    \"Kelly had a pair of shoes that could talk! They told her stories of where they'd been and what\",\n",
    "    \"In a snowy land, penguins had a parade every year. They dressed up, waddled in lines, and danced \",\n",
    "    \"One fluffy cloud took a day off from the sky. It floated down to visit a little girl named Emily.\",\n",
    "    \"Frank had a fish friend in a bowl. They couldn't talk, but they understood each other. Frank \",\n",
    "    \"There was a scarecrow that danced at night. When everyone was asleep, it would twirl, leap, and\",\n",
    "    \"Anna found a slide at the end of a rainbow. She climbed up and slid down, right through colors \",\n",
    "    \"Timmy had a hat that could travel through time. He visited dinosaurs, pirates, and even went to \",\n",
    "    \"In the woods, there was a rock that snored. People would come and listen. Some thought it was \",\n",
    "    \"Lily had a mirror that laughed at silly faces. The more faces she made, the harder it laughed.\",\n",
    "    \"Bella the butterfly had a birthday. All her insect friends came. They had nectar cake and\",\n",
    "    \"Harry had a hat that talked. It told him jokes and sang songs. Harry wore the hat to school,\",\n",
    "    \"Every night, the moon asked for a story. Children would tell tales of brave heroes and magical \",\n",
    "    \"Olivia met a friendly dolphin in the ocean. They swam together and jumped waves. Olivia told the\",\n",
    "    \"There was a tree that hugged people. If you were sad or happy, it would give you a big, wooden hug.\",\n",
    "    \"Eddie had a magic eraser. It could erase anything, even rain clouds or bad days. Eddie used it to\",\n",
    "    \"Peter was a polite pirate. He said please and thank you. He found treasure but always shared. Other\",\n",
    "    \"A rabbit found glasses in the woods. When he put them on, he could see colors he never saw before. \",\n",
    "    \"Lucy built a castle in the clouds. She went there to read and dream. The clouds were soft, and the \",\n",
    "    \"Tim the turtle raced with the rabbits. They were fast, but Tim was slow and steady. The rabbits \",\n",
    "    \"In a magical meadow, the flowers played music. When the wind blew, they sang sweet songs. Children \",\n",
    "    \"Jenny had jellybeans that jumped! They bounced around and made funny noises. Jenny and her friends \",\n",
    "    \"In a big tree lived a wise old owl. He knew everything and helped everyone. If you had a question or \",\n",
    "    \"Sam put on a sock puppet show. His socks became kings, queens, and clowns. The whole family watched \",\n",
    "    \"At night, a cat danced on the rooftops. It twirled and leaped under the stars. Only a little girl\",\n",
    "    \"Billy's bath was full of bubbles. When he jumped in, the bubbles started to talk! They told funny \",\n",
    "    \"A dog dreamed of a land full of bones and toys. He dug and played all day. When he woke up, he found \",\n",
    "    \"Sally had a sunflower that smiled. It smiled at the sun and at Sally. When Sally was sad, the sunflower \",\n",
    "    \"In an old house lived a friendly ghost. It didn't scare people; it made friends. It played with children \",\n",
    "    \"Tommy found a tiny dinosaur in his garden. It was small and liked to eat lettuce. Tommy and the dinosaur \",\n",
    "    \"Benny the Bear had a honey party. All the forest animals came, and they ate honey cakes and honey pies. They danced and laughed all night. Benny's honey party was the sweetest ever.\",\n",
    "    \"Sara caught a snowflake, and it became her friend. They danced in the snow and made snow angels. When the sun came out, the snowflake had to go, but it promised to come back next winter.\",\n",
    "    \"Marty the Mouse went on a big adventure. He explored the garden and found cheese mountains and cracker bridges. He was a brave mouse explorer, and he came home with tales to tell.\",\n",
    "    \"Ella the Elephant had a paintbrush. She painted colorful pictures with her trunk. People came from far and wide to see her art. Ella was happy to share her colorful world.\",\n",
    "    \"Tom's toothbrush talked when it was brushing time. It told jokes and sang songs about clean teeth. Tom loved brushing time, and his teeth sparkled and sang too.\",\n",
    "    \"In Daisy's garden, the daisies danced at dawn. They twirled to the bird's song and swayed in the breeze. Daisy danced with them, and they were all dancing daisies together.\",\n",
    "    \"Freddy the Fish wished to fly. A friendly bird carried him up, and Freddy flew over the sea! He saw whales and waves. Then he splashed back home, a fish that had flown.\",\n",
    "    \"Randy the Rabbit found a rainbow in his burrow. He hopped through colors and found a land of carrot gold. Randy nibbled and played, then hopped back home, the richest rabbit ever.\",\n",
    "    \"Cindy was best friends with a cloud. They played shadow games and rained on flowers. Cindy loved her cloudy friend, and they floated through many happy days together.\",\n",
    "    \"Sammy the Snail raced with the beetles. They buzzed and dashed, but Sammy was slow and sure. The beetles got tired, but Sammy kept going. He won the race and was the snail champ!\",\n",
    "]\n",
    "\n",
    "longer_stories = [\n",
    "    \"Bobby Bear loved picnics. One sunny day, he packed his basket with honey sandwiches, apple juice, and chocolate cookies. He invited all his teddy friends, and they went to the big green park. They laughed, played hide-and-seek, and ate all the yummy food. Bobby Bear's picnic was the best, and they all clapped their paws and danced in the sun.\",\n",
    "\n",
    "    \"Ducky loved rainy days. When the clouds gathered, and the first drops fell, Ducky would quack with joy. He splashed in puddles, jumped with the frogs, and made waves with his yellow feet. The rain was like music, and Ducky danced to the tune. The other ducks joined in, and they all had a splashy, quacky, rainy day of fun.\",\n",
    "\n",
    "    \"Kitty had a magical colorful tail. It was red, blue, yellow, and even had sparkles. Everywhere Kitty went, her tail wagged and made pretty shapes in the air. The other cats were amazed, and the children loved to watch Kitty's tail. Kitty became a star, and her colorful tail was famous in the whole town. Kitty was proud and happy to have such a special tail.\",\n",
    "\n",
    "    \"Timmy went on a train ride. The train went choo-choo, and Timmy's eyes grew wide. He saw cows, trees, mountains, and rivers. The train went fast, and it went slow. Timmy ate popcorn and waved at the people. The train ride was the most exciting adventure, and Timmy wanted to ride the train every day.\",\n",
    "\n",
    "    \"Lulu had a big round balloon. It was pink and floated like a cloud. Lulu danced with the balloon in her room. They twirled, they floated, they jumped. Lulu and the balloon were the best of friends. They even had tea parties and told secrets. Lulu's balloon was her special friend, and they were happy together all the time.\",\n",
    "\n",
    "    \"Billy loved to dance with bumblebees. He would go to the garden, and the bumblebees would come. They buzzed and twirled, and Billy danced with them. The flowers clapped, and the sun smiled. Billy was the bee dance king, and his garden was the happiest place. Everyone wanted to see Billy's bumblebee dance, and he was always ready to twirl.\",\n",
    "\n",
    "    \"Sally made a snowman. It was big and round with a carrot nose and two big eyes. Sally and the snowman played all day in the snow. They made snow angels, they threw snowballs, and they laughed. When the sun went down, Sally gave the snowman a big hug and said goodnight. They were the best of snowy friends, and Sally couldn't wait for more snow.\",\n",
    "\n",
    "    \"Tommy had a turtle named Tilly. Tilly was slow and green, but she was the best friend ever. Tommy and Tilly had races in the yard. Tommy would run, and Tilly would crawl. They both reached the finish line, and they both won! Tommy cheered, and Tilly smiled. They were the best racing team, and they loved their turtle time together.\",\n",
    "\n",
    "    \"Jenny had jelly that jumped. It was red jelly, and it loved to boing and boing. Jenny would laugh and catch the jelly. It jumped into her bowl, and they had a jelly feast. Jenny's friends came to see the jumping jelly, and they all played together. Jenny's jumping jelly was the yummiest and funniest jelly ever, and they all wanted more.\",\n",
    "\n",
    "    \"Danny's dog had dreams. At night, it would bark and wag its tail in its sleep. Danny wondered what it was dreaming. Maybe a big bone, maybe a park full of friends, maybe a never-ending bowl of doggy treats. Danny smiled at his dreaming dog and wished it sweet dreams. They were the best of friends, and Danny's dog's dreams were always happy.\",\n",
    "\n",
    "    \"Milly looked at the moon every night. It was big, bright, and beautiful. Milly said goodnight to the moon and the stars. She told them stories and sang them songs. The moon and the stars twinkled back at her. They were Milly's nighttime friends, and they watched over her as she slept. Milly's moon gazing was her special time, and she loved the moon and the stars.\",\n",
    "\n",
    "    \"Freddy Frog had a pond party. All the pond friends came. The ducks quacked, the fish splashed, the turtles sunbathed. Freddy Frog was the host, and he jumped and croaked. They played games and danced in the water. Freddy Frog's pond was the best party place, and they all had a splashing good time. The pond was alive with fun, and Freddy Frog was the happiest frog ever.\",\n",
    "\n",
    "    \"Lily had a lemon that laughed. It was a funny lemon with a big smile. Lily squeezed the lemon, and it giggled. Hee-hee! They made lemonade together, and the lemonade was giggly too. Lily and her laughing lemon were the best of friends, and they made every day a sunny, lemony, happy day.\"\n",
    "]\n"
   ]
  },
  {
   "cell_type": "code",
   "execution_count": 113,
   "metadata": {},
   "outputs": [
    {
     "name": "stdout",
     "output_type": "stream",
     "text": [
      "tensor(0.1119, device='cuda:0') tensor(109, device='cuda:0')\n",
      "tensor(0.2005, device='cuda:0') tensor(213, device='cuda:0')\n",
      "tensor(0.3224, device='cuda:0') tensor(233, device='cuda:0')\n",
      "tensor(0.1366, device='cuda:0') tensor(149, device='cuda:0')\n",
      "tensor(0.1526, device='cuda:0') tensor(4, device='cuda:0')\n",
      "tensor(0.0796, device='cuda:0') tensor(197, device='cuda:0')\n",
      "tensor(0.0898, device='cuda:0') tensor(48, device='cuda:0')\n",
      "tensor(0.1738, device='cuda:0') tensor(101, device='cuda:0')\n"
     ]
    }
   ],
   "source": [
    "for layer in range(model.cfg.n_layers):\n",
    "    acts = haystack_utils.get_mlp_activations(random_prompts, layer, model, mean=True, disable_tqdm=True)\n",
    "    max_values, max_indices = torch.max(acts, dim=0)\n",
    "    print(max_values, max_indices)"
   ]
  },
  {
   "cell_type": "code",
   "execution_count": 117,
   "metadata": {},
   "outputs": [
    {
     "name": "stdout",
     "output_type": "stream",
     "text": [
      "tensor(0.1082, device='cuda:0') tensor(109, device='cuda:0')\n",
      "tensor(0.2025, device='cuda:0') tensor(213, device='cuda:0')\n",
      "tensor(0.3126, device='cuda:0') tensor(233, device='cuda:0')\n",
      "tensor(0.1346, device='cuda:0') tensor(149, device='cuda:0')\n",
      "tensor(0.1519, device='cuda:0') tensor(4, device='cuda:0')\n",
      "tensor(0.0743, device='cuda:0') tensor(197, device='cuda:0')\n",
      "tensor(0.0862, device='cuda:0') tensor(48, device='cuda:0')\n",
      "tensor(0.1665, device='cuda:0') tensor(101, device='cuda:0')\n"
     ]
    }
   ],
   "source": [
    "for layer in range(model.cfg.n_layers):\n",
    "    acts = haystack_utils.get_mlp_activations(random_prompts, layer, model, mean=True, disable_tqdm=True)\n",
    "    max_values, max_indices = torch.max(acts, dim=0)\n",
    "    print(max_values, max_indices)"
   ]
  },
  {
   "cell_type": "code",
   "execution_count": 109,
   "metadata": {},
   "outputs": [
    {
     "data": {
      "text/html": [
       "<div style='white-space: normal; overflow-wrap: break-word;'><span style=\"background-color: rgb(255, 146, 146); color: black; padding: 2px;\" title=\"Difference: 0.2992\"><|endoftext|></span><span style=\"background-color: rgb(255, 138, 138); color: black; padding: 2px;\" title=\"Difference: 0.3202\">Tim</span><span style=\"background-color: rgb(255, 133, 133); color: black; padding: 2px;\" title=\"Difference: 0.3340\">_found</span><span style=\"background-color: rgb(255, 135, 135); color: black; padding: 2px;\" title=\"Difference: 0.3271\">_a</span><span style=\"background-color: rgb(255, 155, 155); color: black; padding: 2px;\" title=\"Difference: 0.2732\">_green</span><span style=\"background-color: rgb(255, 146, 146); color: black; padding: 2px;\" title=\"Difference: 0.2968\">_frog</span><span style=\"background-color: rgb(255, 122, 122); color: black; padding: 2px;\" title=\"Difference: 0.3627\">_in</span><span style=\"background-color: rgb(255, 162, 162); color: black; padding: 2px;\" title=\"Difference: 0.2544\">_his</span><span style=\"background-color: rgb(255, 147, 147); color: black; padding: 2px;\" title=\"Difference: 0.2937\">_garden</span><span style=\"background-color: rgb(255, 115, 115); color: black; padding: 2px;\" title=\"Difference: 0.3837\">.</span><span style=\"background-color: rgb(255, 108, 108); color: black; padding: 2px;\" title=\"Difference: 0.4020\">_He</span><span style=\"background-color: rgb(255, 125, 125); color: black; padding: 2px;\" title=\"Difference: 0.3547\">_named</span><span style=\"background-color: rgb(255, 140, 140); color: black; padding: 2px;\" title=\"Difference: 0.3143\">_it</span><span style=\"background-color: rgb(255, 141, 141); color: black; padding: 2px;\" title=\"Difference: 0.3119\">_Fred</span><span style=\"background-color: rgb(255, 119, 119); color: black; padding: 2px;\" title=\"Difference: 0.3727\">.</span><span style=\"background-color: rgb(255, 146, 146); color: black; padding: 2px;\" title=\"Difference: 0.2982\">_Fred</span><span style=\"background-color: rgb(255, 147, 147); color: black; padding: 2px;\" title=\"Difference: 0.2950\">_liked</span><span style=\"background-color: rgb(255, 139, 139); color: black; padding: 2px;\" title=\"Difference: 0.3174\">_to</span><span style=\"background-color: rgb(255, 155, 155); color: black; padding: 2px;\" title=\"Difference: 0.2739\">_jump</span><span style=\"background-color: rgb(255, 133, 133); color: black; padding: 2px;\" title=\"Difference: 0.3338\">_and</span><span style=\"background-color: rgb(255, 150, 150); color: black; padding: 2px;\" title=\"Difference: 0.2859\">_play</span><span style=\"background-color: rgb(255, 141, 141); color: black; padding: 2px;\" title=\"Difference: 0.3104\">_in</span><span style=\"background-color: rgb(255, 186, 186); color: black; padding: 2px;\" title=\"Difference: 0.1877\">_the</span><span style=\"background-color: rgb(255, 159, 159); color: black; padding: 2px;\" title=\"Difference: 0.2622\">_pond</span><span style=\"background-color: rgb(255, 124, 124); color: black; padding: 2px;\" title=\"Difference: 0.3583\">.</span></div>"
      ],
      "text/plain": [
       "<IPython.core.display.HTML object>"
      ]
     },
     "metadata": {},
     "output_type": "display_data"
    }
   ],
   "source": [
    "from hook_utils import save_activation\n",
    "with model.hooks([('blocks.2.mlp.hook_post', save_activation)]):\n",
    "    model(random_prompts[0])\n",
    "acts = model.hook_dict['blocks.2.mlp.hook_post'].ctx['activation']\n",
    "\n",
    "haystack_utils.clean_print_strings_as_html(model.to_str_tokens(random_prompts[0]), acts[0, :, 233], max_value=0.7)"
   ]
  },
  {
   "cell_type": "code",
   "execution_count": 17,
   "metadata": {},
   "outputs": [
    {
     "data": {
      "text/plain": [
       "8"
      ]
     },
     "execution_count": 17,
     "metadata": {},
     "output_type": "execute_result"
    }
   ],
   "source": [
    "model.cfg.n_layers"
   ]
  },
  {
   "cell_type": "code",
   "execution_count": 15,
   "metadata": {},
   "outputs": [],
   "source": [
    "import plotting_utils\n",
    "large_acts_df = plotting_utils.get_neuron_moments(model, random_prompts + longer_stories,\n",
    "                                                  [[i, j] for i in range(8) for j in range(256)], hook_pre=False)\n",
    "\n",
    "# plotting_utils.plot_neuron_acts(model, random_prompts + longer_stories, [[0, 109], [1, 213], [2, 233], [3, 149], [4, 4], [5, 197], [6, 48], [7, 88],])"
   ]
  },
  {
   "cell_type": "code",
   "execution_count": 16,
   "metadata": {},
   "outputs": [
    {
     "name": "stdout",
     "output_type": "stream",
     "text": [
      "      layer  neuron      skew   kurtosis\n",
      "1884      7      92  3.388569  13.586270\n",
      "1856      7      64  2.998611  11.051443\n",
      "2021      7     229  2.752743   9.018811\n",
      "1245      4     221  2.678183   7.012342\n",
      "1607      6      71  2.632190   9.407434\n",
      "      layer  neuron      skew   kurtosis\n",
      "1884      7      92  3.388569  13.586270\n",
      "1727      6     191  2.569419  12.045842\n",
      "1856      7      64  2.998611  11.051443\n",
      "413       1     157  2.581644  11.026487\n",
      "1369      5      89  2.510441  10.848992\n"
     ]
    },
    {
     "data": {
      "text/html": [
       "<div>                            <div id=\"439bd711-ea31-4c46-a063-a395148246a7\" class=\"plotly-graph-div\" style=\"height:525px; width:700px;\"></div>            <script type=\"text/javascript\">                require([\"plotly\"], function(Plotly) {                    window.PLOTLYENV=window.PLOTLYENV || {};                                    if (document.getElementById(\"439bd711-ea31-4c46-a063-a395148246a7\")) {                    Plotly.newPlot(                        \"439bd711-ea31-4c46-a063-a395148246a7\",                        [{\"alignmentgroup\":\"True\",\"bingroup\":\"x\",\"hovertemplate\":\"variable=0\\u003cbr\\u003evalue=%{x}\\u003cbr\\u003ecount=%{y}\\u003cextra\\u003e\\u003c\\u002fextra\\u003e\",\"legendgroup\":\"0\",\"marker\":{\"color\":\"#636efa\",\"pattern\":{\"shape\":\"\"}},\"name\":\"0\",\"offsetgroup\":\"0\",\"orientation\":\"v\",\"showlegend\":true,\"x\":[-0.16994482278823853,-0.16023658215999603,-0.17003364861011505,0.09904593229293823,-0.16056761145591736,0.08927266299724579,-0.11376023292541504,-0.16976222395896912,-0.17003391683101654,-0.15678294003009796,-0.1698751151561737,-0.1680062860250473,0.0030463188886642456,-0.152299702167511,-0.08793646097183228,-0.1698531061410904,-0.16524618864059448,-0.1634076088666916,-0.06767239421606064,-0.13959486782550812,-0.16981720924377441,-0.16946904361248016,-0.16256321966648102,-0.07867841422557831,-0.1160343736410141,-0.13106174767017365,-0.1192467138171196,-0.16589507460594177,-0.15664751827716827,-0.14591117203235626,-0.16945788264274597,-0.08569443225860596,-0.10211177915334702,-0.17003658413887024,-0.14286626875400543,-0.07296425104141235,-0.1597977727651596,-0.14765934646129608,-0.16290445625782013,-0.0977419763803482,-0.1613280177116394,-0.07133226841688156,-0.1458970308303833,-0.16862373054027557,-0.16701346635818481,-0.16410353779792786,-0.16557958722114563,-0.16474956274032593,-0.1277681589126587,-0.14895857870578766,-0.1654113531112671,-0.15588589012622833,-0.11433818936347961,-0.13937930762767792,0.03962765634059906,0.26021912693977356,-0.1611635386943817,-0.1226428747177124,-0.1087549477815628,-0.16901588439941406,-0.11825041472911835,-0.12901730835437775,-0.15810590982437134,-0.167715921998024,-0.1473456174135208,-0.16699810326099396,-0.1415979266166687,-0.14094462990760803,-0.15894901752471924,-0.142436683177948,-0.15029402077198029,-0.09473337233066559,-0.15185236930847168,-0.11527161300182343,0.11726319044828415,-0.13013353943824768,-0.13932989537715912,-0.07393093407154083,-0.08967152237892151,-0.14888526499271393,-0.15709343552589417,-0.12233959883451462,-0.13720229268074036,-0.15445512533187866,-0.1169019266963005,-0.15059271454811096,-0.16896474361419678,-0.11330961436033249,-0.15204699337482452,-0.1699325144290924,-0.1297527700662613,-0.1464177370071411,-0.16412664949893951,-0.1692366600036621,0.13048674166202545,-0.1610998660326004,0.09800998121500015,-0.11649594455957413,-0.12200982123613358,-0.13772599399089813,-0.14010106027126312,-0.16858726739883423,-0.1690354198217392,-0.16095733642578125,0.10017275810241699,-0.11062077432870865,-0.14127124845981598,-0.14245517551898956,-0.16144344210624695,-0.14948411285877228,0.20817847549915314,-0.15710140764713287,-0.16877910494804382,-0.14245465397834778,-0.14672933518886566,-0.11116094142198563,-0.14331696927547455,-0.14326244592666626,-0.1660163402557373,-0.15123842656612396,0.3192030191421509,-0.1341692954301834,-0.16983167827129364,-0.05758229270577431,-0.128516286611557,0.36879315972328186,0.04240402206778526,-0.16007272899150848,-0.16179412603378296,0.10360313951969147,-0.16411560773849487,-0.16791154444217682,0.7456631660461426,-0.16846446692943573,-0.15255357325077057,-0.1306123286485672,-0.14227434992790222,-0.15734615921974182,-0.14046555757522583,-0.12702487409114838,-0.1289287805557251,0.10695415735244751,-0.11015322059392929,0.08329229801893234,-0.1617390364408493,-0.15812163054943085,-0.13967429101467133,-0.08646497875452042,0.13789351284503937,-0.09385641664266586,0.2533019185066223,-0.1334361582994461,-0.0724223405122757,-0.10268349200487137,-0.16619689762592316,-0.1149584949016571,-0.1656036227941513,-0.14977958798408508,-0.10806362330913544,-0.15819993615150452,-0.14893954992294312,-0.1342903971672058,-0.10352932661771774,-0.15324071049690247,-0.1112261638045311,-0.13902822136878967,-0.12194767594337463,-0.10551677644252777,-0.16946260631084442,-0.1541484147310257,-0.1664065420627594,-0.1678401231765747,-0.09477098286151886,-0.1687041074037552,-0.16453765332698822,0.1344582736492157,0.7454570531845093,0.0047859493643045425,-0.14486052095890045,-0.09519477188587189,-0.11914944648742676,-0.12829312682151794,-0.14772376418113708,-0.10470025986433029,-0.1686047464609146,-0.12866643071174622,0.036928094923496246,-0.16267481446266174,-0.044732242822647095,-0.15587098896503448,-0.16999897360801697,-0.10437572002410889,-0.16085587441921234,-0.17002831399440765,-0.14698435366153717,-0.15548595786094666,-0.11925306171178818,-0.039719633758068085,-0.15558695793151855,-0.16657616198062897,-0.11634675413370132,-0.16996806859970093,-0.15515241026878357,-0.14823734760284424,-0.09778545796871185,-0.1601446270942688,-0.14658720791339874,-0.17003436386585236,-0.11449151486158371,-0.1531497985124588,-0.16432125866413116,-0.16711105406284332,-0.07169771939516068,-0.16920942068099976,-0.16069740056991577,-0.16627834737300873,-0.103131003677845,-0.11629590392112732,0.3885155916213989,0.2598308324813843,-0.11928535252809525,-0.1605055034160614,-0.11030961573123932,-0.1546492874622345,-0.12308555096387863,-0.1558244377374649,-0.13547974824905396,-0.16914102435112,-0.16997496783733368,-0.16015204787254333,-0.15851087868213654,-0.14170679450035095,-0.15658900141716003,-0.15045280754566193,-0.16995252668857574,-0.05380799621343613,-0.061834439635276794,-0.16956865787506104,0.20283573865890503,-0.14617061614990234,-0.1652412712574005,-0.16662412881851196,-0.14136403799057007,-0.16420243680477142,-0.11979888379573822,-0.12728656828403473,-0.16453629732131958,-0.10344600677490234,-0.1482488512992859,0.04667671397328377,-0.1278875172138214,0.149126335978508,-0.13463713228702545,-0.16795477271080017,-0.12797965109348297,-0.05056107044219971,-0.16633418202400208,-0.16623972356319427,-0.12752698361873627,-0.17003314197063446,-0.09678316116333008,-0.01206660270690918,-0.16751599311828613,-0.10670428723096848,-0.16925832629203796,-0.13135561347007751,-0.10452946275472641,-0.08420075476169586,-0.16956549882888794,-0.16747790575027466,-0.1689576953649521,-0.16195058822631836,-0.16582806408405304,-0.15272480249404907,-0.1694592982530594,-0.1486876904964447,-0.1519530713558197,-0.161162331700325,-0.14462530612945557,-0.08054991066455841,-0.16799680888652802,-0.15896782279014587,-0.16939619183540344,-0.1181432381272316,0.019072039052844048,-0.09073803573846817,-0.14396239817142487,-0.12134608626365662,-0.10485755652189255,-0.12314023822546005,-0.14298903942108154,-0.13122870028018951,-0.148086816072464,0.33241233229637146,-0.13692587614059448,-0.169080451130867,-0.10936181992292404,-0.11944548785686493,-0.16205762326717377,-0.12456399202346802,-0.16050012409687042,-0.12955176830291748,0.027179017663002014,-0.1628996580839157,-0.15418359637260437,-0.11826816946268082,-0.06744948029518127,-0.10438019037246704,-0.16964659094810486,-0.1415015012025833,-0.15649625658988953,-0.12907788157463074,-0.16994698345661163,-0.15146328508853912,-0.11357271671295166,-0.16306079924106598,-0.169616237282753,-0.16975517570972443,-0.16992619633674622,-0.13042283058166504,-0.1685740053653717,0.01912858337163925,-0.07009892165660858,-0.16068144142627716,-0.15932904183864594,-0.1489384025335312,-0.15698383748531342,0.0884704515337944,-0.12807618081569672,-0.13870380818843842,-0.12405592203140259,-0.1604488641023636,-0.15844644606113434,-0.0854729562997818,-0.14123818278312683,-0.1673150211572647,-0.14968673884868622,0.14106544852256775,-0.11926712095737457,-0.1325055956840515,-0.11244659125804901,-0.146422877907753,-0.14889435470104218,-0.0814182236790657,-0.1688377410173416,-0.1509530246257782,-0.12821872532367706,-0.12204011529684067,-0.1606730967760086,-0.14761555194854736,-0.00030670841806568205,0.0354401171207428,-0.12245259433984756,-0.14621935784816742,-0.1355808824300766,-0.06550435721874237,-0.1698104590177536,-0.15896019339561462,0.4049091637134552,-0.16107892990112305,-0.13659504055976868,-0.12314853072166443,-0.16907191276550293,-0.1695995032787323,-0.11459717899560928,0.5399273633956909,-0.13630688190460205,-0.1308916211128235,-0.10880948603153229,-0.16732828319072723,-0.16996148228645325,-0.12120814621448517,-0.16350868344306946,-0.15929733216762543,-0.14914874732494354,-0.08486738055944443,-0.13321976363658905,-0.1346653550863266,-0.16798754036426544,-0.04447180777788162,-0.12603431940078735,-0.06069991737604141,-0.15883485972881317,-0.08848285675048828,-0.14652614295482635,-0.1262836754322052,-0.15661218762397766,-0.14752572774887085,-0.10171312838792801,-0.13814008235931396,0.06052339822053909,-0.14130225777626038,-0.15078705549240112,-0.09766125679016113,-0.15144675970077515,-0.1347157210111618,0.28121471405029297,-0.09425206482410431,-0.1684529185295105,-0.14533068239688873,-0.08950646221637726,-0.1439901441335678,-0.16095960140228271,-0.1643221080303192,-0.16638793051242828,-0.14103227853775024,-0.14381666481494904,-0.15283167362213135,-0.1483727991580963,-0.11770301312208176,-0.06833673268556595,0.13995122909545898,-0.15668757259845734,-0.16485708951950073,-0.146723672747612,-0.14876393973827362,-0.10446155816316605,-0.17003530263900757,-0.14375674724578857,-0.16938669979572296,-0.12723888456821442,-0.1688033938407898,-0.16673430800437927,-0.1442330926656723,-0.16788913309574127,-0.10538705438375473,-0.0823071077466011,-0.1698167324066162,-0.1571551263332367,-0.1597025990486145,-0.1495799422264099,-0.14195474982261658,-0.11552979052066803,-0.15125420689582825,-0.11441497504711151,-0.1366952508687973,-0.16963528096675873,-0.10809899121522903,0.1286226361989975,-0.14414550364017487,-0.11503765732049942,-0.1565544605255127,-0.14033910632133484,-0.15795321762561798,-0.07692170143127441,-0.14926619827747345,-0.16444005072116852,0.3121720850467682,-0.1513298749923706,-0.09207505732774734,-0.10684279352426529,-0.1625758409500122,-0.13938479125499725,-0.1481851488351822,-0.04981909319758415,-0.15602180361747742,-0.14801675081253052,-0.1700376570224762,-0.13753102719783783,-0.13156497478485107,-0.10402747243642807,-0.15119697153568268,-0.13689197599887848,-0.1587727665901184,-0.14440128207206726,-0.05809718742966652,-0.1690398007631302,-0.13646751642227173,-0.16336175799369812,-0.1363891065120697,-0.15538348257541656,-0.15239527821540833,-0.15670131146907806,-0.1693088263273239,-0.045329298824071884,-0.1427367925643921,-0.10025590658187866,0.1954808533191681,-0.1163802444934845,-0.12472697347402573,-0.14515197277069092,-0.13486644625663757,-0.16769419610500336,-0.16945327818393707,-0.12274051457643509,-0.16925814747810364,-0.13349680602550507,-0.11870502680540085,-0.14068633317947388,-0.12295165657997131,-0.13581259548664093,-0.13884089887142181,-0.14170479774475098,-0.16935329139232635,-0.16389480233192444,-0.08205436170101166,-0.07061393558979034,-0.05372802913188934,-0.11349590867757797,0.003335040295496583,-0.15834693610668182,0.16779206693172455,-0.16029468178749084,-0.13552916049957275,0.053577106446027756,-0.16922830045223236,-0.17001374065876007,-0.13815292716026306,-0.11495614051818848,0.06500623375177383,-0.1435486376285553,-0.13405904173851013,0.036704663187265396,-0.1680278182029724,-0.15583130717277527,0.07091152667999268,-0.1627700924873352,-0.15041334927082062,0.7696734666824341,-0.16475440561771393,-0.169820174574852,0.1334351897239685,-0.09209660440683365,-0.1548350751399994,-0.1649167835712433,-0.17003363370895386,-0.0679192915558815,0.04824664071202278,-0.15337716042995453,-0.1682150959968567,-0.16956771910190582,-0.11602631956338882,-0.14064663648605347,-0.07492902129888535,-0.13834717869758606,-0.15123748779296875,-0.17003582417964935,-0.16006867587566376,-0.1571466475725174,-0.11476828157901764,-0.09412242472171783,-0.14966677129268646,-0.11608165502548218,-0.10915736109018326,-0.16893461346626282,-0.16953837871551514,-0.17000043392181396,-0.16978466510772705,-0.16879865527153015,-0.12594054639339447,-0.16963768005371094,-0.12805822491645813,-0.1518176645040512,-0.15837043523788452,-0.16992631554603577,-0.16109924018383026,-0.11865497380495071,-0.16968552768230438,-0.15321649610996246,-0.10989987105131149,-0.16763834655284882,-0.16829723119735718,-0.1441292017698288,-0.15473906695842743,-0.09410207718610764,-0.11511478573083878,-0.14613521099090576,0.16874366998672485,-0.1544327586889267,-0.11636237055063248,0.18613913655281067,-0.16438108682632446,-0.16829508543014526,-0.12947770953178406,-0.1254686415195465,-0.07190032303333282,-0.01360370870679617,-0.11685285717248917,-0.16178420186042786,-0.16795791685581207,-0.16185800731182098,-0.16743800044059753,-0.030431460589170456,-0.14149078726768494,-0.1563398540019989,-0.12003353983163834,-0.1442267745733261,-0.13358543813228607,-0.16206707060337067,-0.16106323897838593,-0.13414007425308228,0.024751659482717514,-0.09175293147563934,-0.16792860627174377,-0.16932101547718048,-0.11628466099500656,-0.053729474544525146,-0.11011545360088348,-0.1297803670167923,-0.16979913413524628,-0.16222946345806122,-0.09917101263999939,-0.09408100694417953,0.21802163124084473,-0.11308655142784119,-0.1472247838973999,0.10067985206842422,-0.1370357722043991,-0.16990134119987488,-0.1632966697216034,-0.16040749847888947,-0.08772796392440796,-0.1629222184419632,-0.10370228439569473,-0.09826671332120895,-0.16559068858623505,-0.14420154690742493,-0.07057303190231323,-0.08700685203075409,-0.16968871653079987,-0.0800408348441124,-0.038253989070653915,-0.10804813355207443,-0.1501634418964386,-0.1466749608516693,-0.15201161801815033,-0.1611119657754898,-0.15586791932582855,-0.1669086366891861,-0.10582249611616135,0.2492293119430542,-0.16322080790996552,0.05297720804810524,-0.16849784553050995,-0.09696561843156815,-0.1699850708246231,0.057659123092889786,-0.10120054334402084,-0.16221335530281067,-0.08529190719127655,-0.14191707968711853,-0.1647113710641861,-0.006337191443890333,-0.16806022822856903,-0.16670964658260345,-0.1493542194366455,-0.16821694374084473,-0.04626075178384781,0.18550682067871094,-0.14272955060005188,-0.1658729761838913,0.1700645387172699,0.005489175207912922,-0.12164538353681564,-0.12898002564907074,-0.08290740847587585,-0.07476259022951126,-0.16968731582164764,-0.16991782188415527,-0.12714290618896484,-0.09672611951828003,0.1715255230665207,-0.04513642191886902,-0.14632391929626465,-0.1639576256275177,-0.16964972019195557,-0.09054559469223022,-0.1551971137523651,-0.17002691328525543,-0.14050720632076263,-0.15746784210205078,-0.16945163905620575,-0.16369758546352386,0.10529789328575134,0.29434072971343994,-0.10869262367486954,-0.1641506403684616,-0.16613690555095673,-0.16145294904708862,-0.07864236831665039,-0.14382612705230713,-0.13453947007656097,-0.1540766954421997,-0.08052659034729004,-0.005389266647398472,-0.16955938935279846,-0.05465776100754738,-0.12261015176773071,-0.12340209633111954,-0.09990593045949936,-0.16752870380878448,-0.14074376225471497,-0.16225631535053253,0.20371760427951813,0.2239212989807129,-0.02196558564901352,-0.13317541778087616,-0.11268854886293411,-0.16772818565368652,-0.16790543496608734,-0.1656273454427719,-0.1510099172592163,-0.14076033234596252,-0.1695031374692917,-0.1229778379201889,-0.11161232739686966,-0.16988126933574677,-0.16393275558948517,-0.11298448592424393,-0.13890141248703003,-0.1521271914243698,-0.1528976708650589,-0.06995604187250137,-0.13932976126670837,-0.13873477280139923,-0.16379930078983307,-0.16324014961719513,-0.16589035093784332,-0.10313493013381958,-0.15957185626029968,-0.1509040892124176,-0.1636340320110321,-0.15549086034297943,0.05977366864681244,-0.09195646643638611,0.5320377945899963,0.17672033607959747,-0.1529725193977356,-0.14255957305431366,-0.16978660225868225,-0.09199501574039459,-0.06484434753656387,-0.017084822058677673,0.0004702124570030719,-0.06306765973567963,-0.16370105743408203,-0.16734793782234192,-0.14808697998523712,-0.09985543042421341,-0.12251462042331696,-0.09818261116743088,-0.15098750591278076,-0.16967323422431946,-0.12177333980798721,-0.14627525210380554,-0.0800483301281929,-0.1466110348701477,0.1077846959233284,-0.09179869294166565,-0.15350642800331116,-0.16809333860874176,-0.12520849704742432,-0.11334228515625,-0.12829287350177765,-0.12762416899204254,-0.08434786647558212,-0.15330110490322113,-0.09978200495243073,-0.1567648947238922,-0.12498055398464203,-0.10166957229375839,-0.13185377418994904,-0.13916823267936707,-0.08635485917329788,-0.161129891872406,-0.14433082938194275,0.028736570850014687,-0.154887393116951,-0.15198063850402832,-0.13715088367462158,-0.050044286996126175,-0.1124134436249733,-0.17003564536571503,-0.09488307684659958,-0.1493368148803711,-0.16722986102104187,-0.11954334378242493,-0.16872094571590424,-0.15941289067268372,0.015861498191952705,-0.13664166629314423,-0.1349419206380844,-0.1652795821428299,-0.09557808935642242,-0.09461787343025208,-0.16291916370391846,-0.16255910694599152,-0.15947763621807098,-0.1700209230184555,0.42225462198257446,0.15896247327327728,-0.1436052769422531,-0.1643724888563156,-0.14355571568012238,-0.028673207387328148,0.023180166259407997,-0.15027731657028198,-0.14622025191783905,-0.12212567031383514,-0.08812113106250763,-0.08895177394151688,0.11536339670419693,-0.13895082473754883,-0.16956132650375366,-0.011876757256686687,-0.11552565544843674,-0.15994693338871002,-0.15718728303909302,-0.13787081837654114,0.06594257801771164,-0.11247128248214722,-0.16855013370513916,-0.12492485344409943,-0.16247786581516266,-0.1649191677570343,0.3738739490509033,-0.15159520506858826,-0.16972459852695465,-0.1700316071510315,-0.08577283471822739,-0.17004060745239258,0.02776862494647503,-0.15574410557746887,-0.13070233166217804,-0.1658971607685089,-0.1174786165356636,0.3303859829902649,-0.03996545821428299,-0.16672901809215546,-0.16625334322452545,-0.16803227365016937,-0.16863016784191132,-0.15903092920780182,-0.14283354580402374,-0.15448102355003357,-0.1616276502609253,-0.10251949727535248,-0.14853179454803467,-0.13978317379951477,-0.021967671811580658,-0.08466702699661255,0.2503127157688141,-0.03263825178146362,-0.16738158464431763,-0.1619957983493805,-0.1696590632200241,-0.1337142437696457,-0.1479291468858719,-0.16758601367473602,-0.17000283300876617,-0.1681409627199173,-0.11609040200710297,-0.08656466007232666,0.08005651831626892,8.664686902193353e-05,-0.15924698114395142,-0.07817723602056503,-0.16767871379852295,-0.16016770899295807,-0.1640736162662506,-0.028303110972046852,-0.16904310882091522,-0.14805147051811218,0.5662819147109985,-0.1698039472103119,-0.1652854084968567,-0.08094378560781479,-0.13221128284931183,0.5025278925895691,-0.09725278615951538,-0.13438770174980164,0.21140260994434357,0.010554507374763489,-0.12273352593183517,-0.104563869535923,-0.16986629366874695,-0.15351763367652893,-0.16766290366649628,-0.008462685160338879,-0.015124458819627762,-0.016046520322561264,-0.16995717585086823,-0.10576523095369339,-0.16938428580760956,-0.1614229828119278,-0.08558780699968338,-0.1354314535856247,-0.12279237061738968,-0.1695386916399002,-0.11132563650608063,-0.15559206902980804,0.318666011095047,-0.15605829656124115,-0.08570123463869095,-0.11297052353620529,-0.14994491636753082,-0.14859041571617126,-0.13467057049274445,-0.01181216910481453,-0.13554781675338745,-0.16964982450008392,-0.1291452795267105,-0.156934916973114,0.26979199051856995,-0.12472611665725708,-0.15860682725906372,-0.1115918904542923,-0.16034287214279175,-0.16410358250141144,-0.1592433750629425,-0.12140648066997528,-0.15057742595672607,-0.11589337885379791,-0.16723495721817017,0.023162154480814934,0.03473041579127312,-0.10597337037324905,0.014691836200654507,-0.15864793956279755,-0.15156996250152588,-0.16962477564811707,-0.1119546890258789,-0.1662658005952835,-0.16943161189556122,-0.13039810955524445,-0.022997744381427765,-0.13029956817626953,-0.13787470757961273,-0.11315108090639114,-0.09032317250967026,-0.1505110114812851,-0.12105742841959,-0.08523976802825928,-0.13344767689704895,-0.10721366107463837,-0.16686630249023438,-0.12451595067977905,-0.14514486491680145,-0.13111063838005066,0.425353080034256,0.47934168577194214,-0.12064230442047119,-0.07739095389842987,-0.09021860361099243,-0.1545773446559906,-0.1686360388994217,-0.1277327835559845,-0.07150568068027496,0.465504914522171,0.3125176727771759,-0.16554445028305054,-0.06433498114347458,-0.14236806333065033,-0.1674930453300476,-0.10378450900316238,-0.16852787137031555,-0.040597133338451385,0.31326544284820557,0.02541293390095234,0.345165491104126,-0.16968894004821777,-0.1379610002040863,-0.10697662085294724,-0.15195319056510925,-0.16584034264087677,-0.0451199971139431,0.7383437156677246,0.10457433760166168,-0.11412259936332703,-0.05371825769543648,0.2314264327287674,0.15270468592643738,-0.1238088458776474,-0.1700403094291687,-0.11862149089574814,-0.16998502612113953,-0.09533724933862686,-0.13951726257801056,-0.10737738758325577,-0.16375182569026947,-0.16972759366035461,0.113295778632164,-0.1462726593017578,-0.14687414467334747,-0.11409743875265121,-0.1453971266746521,-0.16279171407222748,-0.16332846879959106,-0.01349367294460535,-0.11549174040555954,-0.05864661559462547,-0.15578843653202057,-0.14210249483585358,-0.09945373982191086,-0.12284664064645767,0.042895592749118805,-0.1671079695224762,-0.16431541740894318,-0.10254532843828201,0.8381431698799133,0.10268791764974594,-0.09565696120262146,0.2520565688610077,-0.12543641030788422,-0.14313960075378418,-0.16927066445350647,-0.1382366269826889,-0.16824109852313995,0.35884177684783936,-0.1503848433494568,-0.1682964414358139,0.14989827573299408,-0.05001956596970558,-0.16581200063228607,-0.12033301591873169,-0.16621290147304535,-0.14996466040611267,-0.15074311196804047,-0.03871157020330429,-0.13245543837547302,-0.11262953281402588,-0.16631509363651276,-0.16233938932418823,-0.1563703417778015,-0.14864467084407806,0.0064187063835561275,-0.12584327161312103,-0.10241053998470306,-0.09109024703502655,0.0026282179169356823,-0.1157737448811531,-0.10473201423883438,-0.13541549444198608,-0.14819064736366272,-0.11175267398357391,0.7091197967529297,0.17967931926250458,-0.15256187319755554,-0.13233759999275208,-0.07085559517145157,-0.16937556862831116,-0.10140260308980942,-0.08862267434597015,0.24077452719211578,-0.06003132089972496,-0.162789985537529,-0.16265352070331573,-0.11396214365959167,-0.1258685141801834,-0.1679164618253708,-0.17004014551639557,-0.15783080458641052,-0.12564441561698914,-0.07024074345827103,-0.0446758009493351,-0.14356324076652527,0.3520556092262268,0.009461065754294395,-0.15330561995506287,0.4223102927207947,-0.15822245180606842,-0.16251355409622192,-0.16070617735385895,-0.10140834748744965,-0.10362517088651657,-0.008888877928256989,-0.13335786759853363,-0.02414602041244507,-0.1605968475341797,-0.022901738062500954,-0.1667490303516388,-0.10583895444869995,-0.1404487043619156,-0.15741302073001862,-0.053896497935056686,-0.11320190876722336,-0.1097031757235527,-0.16996538639068604,0.5513434410095215,-0.1458890587091446,-0.16038350760936737,-0.1160891056060791,-0.12107584625482559,0.5258986353874207,-0.1246769055724144,-0.136362224817276,-0.16224540770053864,-0.0687958300113678,-0.0861087292432785,-0.16641871631145477,0.027720602229237556,-0.1700386106967926,-0.06780988723039627,-0.08005059510469437,0.3232579231262207,0.1363021731376648,-0.15717466175556183,-0.1694416105747223,-0.1240127682685852,-0.1209133118391037,-0.14202620089054108,-0.0027575218118727207,-0.13187973201274872,-0.16799013316631317,-0.1461656391620636,0.05993029475212097,-0.09620030969381332,-0.14899972081184387,-0.030546408146619797,0.2304898351430893,-0.12225638329982758,-0.15852037072181702,0.07937213033437729,-0.128990039229393,-0.11569495499134064,-0.1298510730266571,-0.07643081247806549,-0.15259340405464172,-0.13501471281051636,-0.11253023892641068,-0.13499470055103302,-0.04099011421203613,-0.004765861667692661,-0.10979969054460526,-0.05988243222236633,0.19747644662857056,-0.16817651689052582,-0.1574147343635559,-0.15617553889751434,-0.15157687664031982,-0.16996172070503235,-0.12381208688020706,-0.1460256427526474,-0.16608430445194244,-0.0785583108663559,-0.1295970231294632,-0.03900289162993431,0.008883735164999962,-0.1475486159324646,0.7696228623390198,-0.02962644211947918,0.11602521687746048,0.26433131098747253,0.08323873579502106,-0.1415218561887741,-0.11941471695899963,0.5241252779960632,-0.03822750970721245,-0.14127889275550842,-0.16997449100017548,-0.16975976526737213,-0.10362878441810608,-0.12847450375556946,-0.1635894626379013,-0.14122427999973297,0.09358680993318558,-0.15323978662490845,-0.08563534915447235,-0.16682429611682892,0.047510936856269836,-0.16980722546577454,-0.16762405633926392,-0.035302914679050446,-0.0977291390299797,-0.09947416931390762,-0.005568508058786392,-0.16554440557956696,-0.11733591556549072,-0.1350238025188446,-0.10334490984678268,-0.16985483467578888,-0.16848362982273102,-0.08610652387142181,-0.10200518369674683,0.5609192252159119,-0.06513999402523041,-0.12913358211517334,-0.0036999096628278494,-0.14332644641399384,-0.15246835350990295,-0.16444946825504303,-0.049648039042949677,0.06298685073852539,-0.04951072484254837,-0.0836874395608902,-0.01895742118358612,-0.16904985904693604,-0.11540970951318741,-0.15509960055351257,-0.12058126926422119,-0.11683296412229538,-0.12091293185949326,-0.14557655155658722,-0.1212395429611206,0.5958294868469238,-0.022063380107283592,-0.13368043303489685,-0.16604989767074585,-0.15642055869102478,0.05786967650055885,0.031573303043842316,-0.11353165656328201,-0.13632552325725555,0.028538772836327553,-0.09882640093564987,-0.04766354709863663,-0.11349602788686752,-0.15125346183776855,-0.13068793714046478,-0.16322602331638336,-0.09527306258678436,-0.10418016463518143,0.7043704390525818,0.12031882256269455,-0.1309824436903,-0.1371409296989441,-0.1501254439353943,-0.14788445830345154,-0.16012424230575562,-0.05805869400501251,-0.15203630924224854,-0.10017122328281403,-0.16103219985961914,0.07255369424819946,-0.16444379091262817,-0.15236450731754303,-0.1695130616426468,-0.16535423696041107,-0.15512728691101074,-0.165224090218544,-0.16323399543762207,-0.10679636895656586,0.6535878777503967,0.0981905534863472,-0.11207519471645355,-0.14682795107364655,-0.09970507770776749,-0.14488756656646729,-0.16797462105751038,-0.11859141290187836,-0.16826574504375458,0.04694031924009323,-0.05161944776773453,-0.15952424705028534,-0.16679494082927704,-0.15008388459682465,-0.013493351638317108,-0.16671541333198547,-0.1443292647600174,-0.14370077848434448,-0.15806657075881958,-0.07526085525751114,0.6079615354537964,0.19444389641284943,-0.16208305954933167,-0.11107654124498367,-0.11055056750774384,-0.16979864239692688,-0.15029868483543396,-0.04324840009212494,-0.10860326141119003,-0.09222407639026642,-0.16753160953521729,-0.1559864580631256,-0.15776486694812775,-0.16535407304763794,-0.16722352802753448,-0.14325203001499176,-0.14009426534175873,-0.02238386496901512,-0.1626214236021042,-0.14936673641204834,-0.16928789019584656,-0.1312350034713745,-0.12000642716884613,-0.14035454392433167,-0.08162601292133331,-0.10097664594650269,-0.16653339564800262,0.95899498462677,0.6571105122566223,0.05166669562458992,-0.1353602111339569,-0.15907788276672363,-0.13737574219703674,-0.15123245120048523,-0.0563589446246624,-0.1515710949897766,-0.12770193815231323,0.08147554099559784,-0.16577723622322083,-0.13232548534870148,-0.11527777463197708,0.14636629819869995,-0.15681089460849762,-0.15434947609901428,-0.16194897890090942,-0.1324571818113327,-0.13447479903697968,-0.14612360298633575,0.16039620339870453,-0.13247615098953247,-0.10833096504211426,-0.11637509614229202,-0.1489512175321579,-0.13678230345249176,-0.1700250804424286,-0.12883290648460388,0.19183805584907532,-0.16575215756893158,-0.1640750765800476,0.1648997813463211,-0.15227797627449036,0.13656744360923767,-0.11776480078697205,-0.0913257896900177,-0.12068155407905579,-0.15841004252433777,-0.12200038880109787,-0.16923417150974274,-0.11841338872909546,-0.1691480427980423,-0.11023564636707306,-0.13016736507415771,-0.12092003226280212,-0.16643565893173218,-0.13753923773765564,0.09390338510274887,-0.12026035785675049,0.9389947652816772,0.5940179228782654,0.0037018225993961096,-0.1622249335050583,-0.1142181009054184,-0.09092401713132858,-0.1697772890329361,-0.16176408529281616,-0.13407865166664124,-0.14228874444961548,-0.16891950368881226,0.011534112505614758,-0.16968654096126556,-0.08989918231964111,0.10279766470193863,-0.11477386951446533,-0.07058870792388916,-0.15816651284694672,-0.1699770838022232,-0.07524914294481277,-0.011805767193436623,-0.14077189564704895,0.1382826566696167,0.18321548402309418,-0.07628394663333893,-0.13892371952533722,0.3717968165874481,-0.1182359904050827,-0.13528458774089813,0.23022930324077606,-0.06474471837282181,-0.16400927305221558,-0.15075822174549103,-0.16859956085681915,-0.15710365772247314,0.0999293401837349,0.2902046740055084,-0.13130643963813782,-0.16093216836452484,-0.16890361905097961,0.18656162917613983,-0.00999271310865879,-0.15084458887577057,-0.16396057605743408,-0.16294175386428833,0.20538757741451263,-0.052407678216695786,-0.1562211960554123,-0.13563954830169678,-0.16637472808361053,-0.16498008370399475,-0.14136110246181488,-0.13167588412761688,-0.08097127825021744,-0.08470647037029266,-0.1639179140329361,-0.1641666740179062,-0.12471464276313782,0.1685391515493393,-0.13987404108047485,-0.07601934671401978,0.2512334883213043,0.010349531657993793,-0.17001694440841675,-0.008489862084388733,-0.13196642696857452,-0.09793684631586075,-0.167448952794075,0.13485565781593323,-0.16751784086227417,-0.12716376781463623,-0.15098996460437775,-0.15592828392982483,-0.13819991052150726,-0.02919868752360344,-0.1700020730495453,0.4883834421634674,0.03329775854945183,-0.1420954465866089,-0.0918508917093277,0.39691102504730225,-0.1700286567211151,-0.12527789175510406,-0.1659192442893982,-0.15699490904808044,-0.03926893696188927,0.32402440905570984,-0.07160287350416183,0.9417902231216431,0.5415166020393372,-0.15526089072227478,-0.09190797805786133,-0.12654045224189758,-0.07174676656723022,-0.14663644134998322,-0.16939647495746613,-0.1700192093849182,-0.15788760781288147,-0.1695580929517746,-0.06359408795833588,-0.07039148360490799,-0.16692465543746948,-0.13642309606075287,0.2079649716615677,-0.11164043098688126,0.8826780319213867,0.39423900842666626,-0.15648186206817627,-0.16895857453346252,-0.1661001592874527,0.00020886976562906057,-0.1535554975271225,-0.08983557671308517,0.10739623755216599,-0.1373692750930786,-0.16555124521255493,-0.13070718944072723,-0.12363725155591965,0.8405417203903198,0.37682005763053894,-0.1380811333656311,-0.16284076869487762,-0.08052128553390503,-0.16789384186267853,-0.1693938821554184,-0.13522769510746002,-0.11145130544900894,-0.1506747305393219,-0.06653392314910889,-0.12367838621139526,-0.10015355050563812,-0.16876260936260223,-0.17002040147781372,-0.16404211521148682,-0.10204731673002243,0.22493375837802887,-0.1542302519083023,-0.11323367804288864,-0.10765796899795532,0.8681026101112366,0.37450066208839417,-0.16843125224113464,-0.0690803974866867,-0.16620899736881256,-0.16605563461780548,-0.15696196258068085,-0.09876248985528946,-0.12051773071289062,-0.05703640729188919,-0.15206818282604218,-0.11454330384731293,-0.16927190124988556,-0.1462055891752243,-0.10761841386556625,0.11366300284862518,-0.1681833118200302,-0.16987992823123932,-0.042437613010406494,0.04206017032265663,0.19931094348430634,-0.13267618417739868,-0.112699493765831,-0.16945119202136993,-0.1563984751701355,-0.15854258835315704,0.2560165822505951,-0.16804549098014832,-0.12541736662387848,0.2662471830844879,-0.1683093160390854,-0.09910193085670471,0.2128276377916336,-0.15275439620018005,-0.16793937981128693,-0.12826210260391235,-0.168662890791893,-0.13265743851661682,0.1553581804037094,-0.0535583458840847,-0.16858720779418945,-0.1540376842021942,-0.1518215537071228,-0.07866416126489639,-0.07948849350214005,-0.10299092531204224,-0.11533967405557632,-0.16982164978981018,-0.1688624769449234,-0.16087700426578522,0.2005711942911148,-0.14868782460689545,-0.05889330431818962,0.14925697445869446,-0.13634851574897766,-0.11806709319353104,-0.15526887774467468,-0.11116579174995422,-0.16432970762252808,-0.11344320327043533,0.03673515468835831,0.1281207799911499,-0.09226002544164658,-0.09938929229974747,-0.16741517186164856,-0.16910628974437714,-0.16826726496219635,-0.1699632704257965,-0.015731260180473328,0.1933228224515915,-0.12238169461488724,-0.14132414758205414,0.08148743212223053,-0.12240179628133774,-0.16748909652233124,0.8325536251068115,0.5645025372505188,-0.0845886766910553,-0.1490190029144287,0.12124085426330566,-0.15561267733573914,0.021115204319357872,-0.14897266030311584,-0.13700896501541138,-0.12624867260456085,-0.16227790713310242,-0.1700253039598465,-0.1474713534116745,-0.10127770155668259,0.004912732634693384,-0.1697903424501419,-0.09650403261184692,0.016391610726714134,-0.08888498693704605,0.3273124098777771,-0.1414697915315628,-0.1689128428697586,-0.16256193816661835,-0.1613791137933731,-0.13661429286003113,-0.10911405086517334,-0.11082633584737778,0.2332099825143814,-0.11242251843214035,-0.14952147006988525,-0.15918175876140594,-0.14955131709575653,-0.1624659150838852,-0.04801754280924797,-0.16756482422351837,-0.16997955739498138,0.013254732824862003,-0.11078039556741714,-0.13068227469921112,-0.15798217058181763,-0.16387492418289185,-0.15797479450702667,-0.16849030554294586,-0.16937260329723358,0.0010879968758672476,-0.13482797145843506,-0.15145620703697205,-0.16507047414779663,-0.16364116966724396,0.049042053520679474,-0.16895900666713715,-0.07277050614356995,-0.16933956742286682,-0.1626383662223816,0.026645949110388756,-0.11286231130361557,0.06618135422468185,0.2190118134021759,-0.16814209520816803,-0.162237286567688,-0.09214375168085098,-0.1562860906124115,0.04738253727555275,-0.1114363893866539,-0.13938365876674652,-0.1633772999048233,-0.03730875253677368,-0.0913996770977974,0.007778421975672245,-0.15702775120735168,-0.1539883017539978,-0.15809696912765503,-0.08716671913862228,-0.16813501715660095,-0.015711642801761627,-0.13052676618099213,-0.11547666043043137,0.2189260572195053,-0.09286914765834808,0.12656815350055695,-0.11443902552127838,-0.15892018377780914,-0.13126155734062195,-0.12239716202020645,-0.16768918931484222,0.052859220653772354,-0.16837218403816223,-0.12508080899715424,0.048466943204402924,-0.1468268632888794,-0.04857004061341286,-0.16584062576293945,-0.10897805541753769,-0.14222098886966705,-0.13854146003723145,0.8918285369873047,0.47892776131629944,-0.16883043944835663,0.12757588922977448,-0.1697361022233963,-0.09997910261154175,-0.06779111921787262,0.0032103550620377064,-0.08412765711545944,-0.10451766848564148,-0.13899986445903778,-0.12746210396289825,-0.16538584232330322,-0.12713298201560974,-0.1253696233034134,-0.14162307977676392,-0.1088854968547821,-0.1614585965871811,-0.14657478034496307,-0.1698041558265686,-0.10702692717313766,-0.0364721342921257,-0.030384927988052368,-0.09167683124542236,-0.11381766945123672,-0.15466032922267914,0.17690369486808777,0.024469126015901566,-0.15873897075653076,-0.1580956131219864,-0.1694796234369278,-0.11141861975193024,-0.09379779547452927,-0.14357313513755798,-0.1524510383605957,0.9131582379341125,0.5556057691574097,-0.12041287869215012,-0.07568366825580597,-0.0889863595366478,-0.1343817114830017,-0.09553008526563644,-0.15912237763404846,-0.15455816686153412,-0.16965918242931366,-0.11634818464517593,-0.1491294503211975,-0.16646134853363037,-0.16009800136089325,-0.044494133442640305,0.7938560247421265,0.26851320266723633,-0.14777466654777527,-0.03676087409257889,-0.15491652488708496,-0.12461122870445251,-0.16545940935611725,-0.10312287509441376,-0.16898784041404724,-0.12539240717887878,-0.11000356823205948,-0.16965636610984802,-0.14192946255207062,-0.08077685534954071,-0.004033562261611223,-0.10044288635253906,-0.12405886501073837,-0.1286533772945404,0.0024176675360649824,-0.16500480473041534,-0.16381540894508362,-0.08636368066072464,-0.15930530428886414,-0.15903228521347046,-0.14994534850120544,-0.020530274137854576,0.2907315492630005,-0.1532050520181656,-0.09094151854515076,-0.16326583921909332,0.10294266045093536,0.33423885703086853,-0.1561271995306015,-0.11689893156290054,-0.16116540133953094,0.02352730557322502,-0.16084504127502441,0.43956026434898376,-0.1609557569026947,-0.14198367297649384,0.13133631646633148,0.26469945907592773,-0.14827819168567657,-0.16937990486621857,0.3824084401130676,-0.1083557978272438,-0.09975212812423706,-0.1696251481771469,-0.17003487050533295,-0.11765850335359573,0.24357478320598602,-0.1695491522550583,-0.14036908745765686,-0.14654625952243805,-0.16771134734153748,-0.1697574406862259,-0.16024655103683472,-0.16304434835910797,-0.1565495729446411,-0.00030122685711830854,-0.1300588995218277,-0.11276420950889587,0.1214856207370758,0.24068525433540344,-0.15001630783081055,-0.16279861330986023,-0.1185498759150505,-0.16982640326023102,-0.11756155639886856,-0.12874945998191833,-0.16693055629730225,-0.14361903071403503,-0.11733084917068481,-0.15964049100875854,-0.16646531224250793,-0.14292584359645844,-0.13621965050697327,0.5434252619743347,-0.14115457236766815,0.008551599457859993,-0.14830759167671204,-0.10263128578662872,-0.07793834060430527,-0.15031488239765167,-0.10183383524417877,-0.15390552580356598,-0.1286293864250183,-0.1532788872718811,-0.14626911282539368,-0.11210807412862778,0.16956771910190582,0.28317826986312866,-0.1620027720928192,-0.1694195568561554,-0.13744470477104187,-0.033153533935546875,-0.16983027756214142,-0.0815352201461792,-0.11210580170154572,-0.16399627923965454,-0.032121263444423676,0.27718687057495117,-0.15562176704406738,-0.16996534168720245,-0.05311835929751396,-0.14542102813720703,-0.1294165998697281,0.10921970754861832,-0.1672431081533432,-0.1420019268989563,0.10255787521600723,-0.10487506538629532,-0.12047525495290756,-0.17000190913677216,0.06755471229553223,-0.16747994720935822,-0.11801882833242416,-0.167085200548172,0.09162680804729462,0.1652429848909378,0.2148142158985138,-0.12274753302335739,-0.1644141972064972,-0.16282857954502106,0.2605085074901581,0.012834807857871056,-0.16882537305355072,-0.13776224851608276,-0.11830160021781921,-0.15369479358196259,0.1788215935230255,-0.018430309370160103,-0.1318712681531906,0.0999501422047615,-0.13759583234786987,-0.15952318906784058,-0.0676189512014389,0.1653376966714859,-0.11351410299539566,-0.134344682097435,-0.17002910375595093,0.2388399988412857,-0.14841370284557343,-0.15037156641483307,-0.11168348789215088,-0.16960889101028442,0.03638395667076111,-0.15146486461162567,-0.10226098448038101,-0.17001239955425262,-0.1699972301721573,-0.16903632879257202,-0.16985106468200684,-0.15596812963485718,0.04917312040925026,-0.15445122122764587,0.7841954231262207,0.3015609383583069,-0.15922202169895172,-0.16991423070430756,-0.1669657677412033,-0.03511880338191986],\"xaxis\":\"x\",\"yaxis\":\"y\",\"type\":\"histogram\"}],                        {\"template\":{\"data\":{\"histogram2dcontour\":[{\"type\":\"histogram2dcontour\",\"colorbar\":{\"outlinewidth\":0,\"ticks\":\"\"},\"colorscale\":[[0.0,\"#0d0887\"],[0.1111111111111111,\"#46039f\"],[0.2222222222222222,\"#7201a8\"],[0.3333333333333333,\"#9c179e\"],[0.4444444444444444,\"#bd3786\"],[0.5555555555555556,\"#d8576b\"],[0.6666666666666666,\"#ed7953\"],[0.7777777777777778,\"#fb9f3a\"],[0.8888888888888888,\"#fdca26\"],[1.0,\"#f0f921\"]]}],\"choropleth\":[{\"type\":\"choropleth\",\"colorbar\":{\"outlinewidth\":0,\"ticks\":\"\"}}],\"histogram2d\":[{\"type\":\"histogram2d\",\"colorbar\":{\"outlinewidth\":0,\"ticks\":\"\"},\"colorscale\":[[0.0,\"#0d0887\"],[0.1111111111111111,\"#46039f\"],[0.2222222222222222,\"#7201a8\"],[0.3333333333333333,\"#9c179e\"],[0.4444444444444444,\"#bd3786\"],[0.5555555555555556,\"#d8576b\"],[0.6666666666666666,\"#ed7953\"],[0.7777777777777778,\"#fb9f3a\"],[0.8888888888888888,\"#fdca26\"],[1.0,\"#f0f921\"]]}],\"heatmap\":[{\"type\":\"heatmap\",\"colorbar\":{\"outlinewidth\":0,\"ticks\":\"\"},\"colorscale\":[[0.0,\"#0d0887\"],[0.1111111111111111,\"#46039f\"],[0.2222222222222222,\"#7201a8\"],[0.3333333333333333,\"#9c179e\"],[0.4444444444444444,\"#bd3786\"],[0.5555555555555556,\"#d8576b\"],[0.6666666666666666,\"#ed7953\"],[0.7777777777777778,\"#fb9f3a\"],[0.8888888888888888,\"#fdca26\"],[1.0,\"#f0f921\"]]}],\"heatmapgl\":[{\"type\":\"heatmapgl\",\"colorbar\":{\"outlinewidth\":0,\"ticks\":\"\"},\"colorscale\":[[0.0,\"#0d0887\"],[0.1111111111111111,\"#46039f\"],[0.2222222222222222,\"#7201a8\"],[0.3333333333333333,\"#9c179e\"],[0.4444444444444444,\"#bd3786\"],[0.5555555555555556,\"#d8576b\"],[0.6666666666666666,\"#ed7953\"],[0.7777777777777778,\"#fb9f3a\"],[0.8888888888888888,\"#fdca26\"],[1.0,\"#f0f921\"]]}],\"contourcarpet\":[{\"type\":\"contourcarpet\",\"colorbar\":{\"outlinewidth\":0,\"ticks\":\"\"}}],\"contour\":[{\"type\":\"contour\",\"colorbar\":{\"outlinewidth\":0,\"ticks\":\"\"},\"colorscale\":[[0.0,\"#0d0887\"],[0.1111111111111111,\"#46039f\"],[0.2222222222222222,\"#7201a8\"],[0.3333333333333333,\"#9c179e\"],[0.4444444444444444,\"#bd3786\"],[0.5555555555555556,\"#d8576b\"],[0.6666666666666666,\"#ed7953\"],[0.7777777777777778,\"#fb9f3a\"],[0.8888888888888888,\"#fdca26\"],[1.0,\"#f0f921\"]]}],\"surface\":[{\"type\":\"surface\",\"colorbar\":{\"outlinewidth\":0,\"ticks\":\"\"},\"colorscale\":[[0.0,\"#0d0887\"],[0.1111111111111111,\"#46039f\"],[0.2222222222222222,\"#7201a8\"],[0.3333333333333333,\"#9c179e\"],[0.4444444444444444,\"#bd3786\"],[0.5555555555555556,\"#d8576b\"],[0.6666666666666666,\"#ed7953\"],[0.7777777777777778,\"#fb9f3a\"],[0.8888888888888888,\"#fdca26\"],[1.0,\"#f0f921\"]]}],\"mesh3d\":[{\"type\":\"mesh3d\",\"colorbar\":{\"outlinewidth\":0,\"ticks\":\"\"}}],\"scatter\":[{\"fillpattern\":{\"fillmode\":\"overlay\",\"size\":10,\"solidity\":0.2},\"type\":\"scatter\"}],\"parcoords\":[{\"type\":\"parcoords\",\"line\":{\"colorbar\":{\"outlinewidth\":0,\"ticks\":\"\"}}}],\"scatterpolargl\":[{\"type\":\"scatterpolargl\",\"marker\":{\"colorbar\":{\"outlinewidth\":0,\"ticks\":\"\"}}}],\"bar\":[{\"error_x\":{\"color\":\"#2a3f5f\"},\"error_y\":{\"color\":\"#2a3f5f\"},\"marker\":{\"line\":{\"color\":\"#E5ECF6\",\"width\":0.5},\"pattern\":{\"fillmode\":\"overlay\",\"size\":10,\"solidity\":0.2}},\"type\":\"bar\"}],\"scattergeo\":[{\"type\":\"scattergeo\",\"marker\":{\"colorbar\":{\"outlinewidth\":0,\"ticks\":\"\"}}}],\"scatterpolar\":[{\"type\":\"scatterpolar\",\"marker\":{\"colorbar\":{\"outlinewidth\":0,\"ticks\":\"\"}}}],\"histogram\":[{\"marker\":{\"pattern\":{\"fillmode\":\"overlay\",\"size\":10,\"solidity\":0.2}},\"type\":\"histogram\"}],\"scattergl\":[{\"type\":\"scattergl\",\"marker\":{\"colorbar\":{\"outlinewidth\":0,\"ticks\":\"\"}}}],\"scatter3d\":[{\"type\":\"scatter3d\",\"line\":{\"colorbar\":{\"outlinewidth\":0,\"ticks\":\"\"}},\"marker\":{\"colorbar\":{\"outlinewidth\":0,\"ticks\":\"\"}}}],\"scattermapbox\":[{\"type\":\"scattermapbox\",\"marker\":{\"colorbar\":{\"outlinewidth\":0,\"ticks\":\"\"}}}],\"scatterternary\":[{\"type\":\"scatterternary\",\"marker\":{\"colorbar\":{\"outlinewidth\":0,\"ticks\":\"\"}}}],\"scattercarpet\":[{\"type\":\"scattercarpet\",\"marker\":{\"colorbar\":{\"outlinewidth\":0,\"ticks\":\"\"}}}],\"carpet\":[{\"aaxis\":{\"endlinecolor\":\"#2a3f5f\",\"gridcolor\":\"white\",\"linecolor\":\"white\",\"minorgridcolor\":\"white\",\"startlinecolor\":\"#2a3f5f\"},\"baxis\":{\"endlinecolor\":\"#2a3f5f\",\"gridcolor\":\"white\",\"linecolor\":\"white\",\"minorgridcolor\":\"white\",\"startlinecolor\":\"#2a3f5f\"},\"type\":\"carpet\"}],\"table\":[{\"cells\":{\"fill\":{\"color\":\"#EBF0F8\"},\"line\":{\"color\":\"white\"}},\"header\":{\"fill\":{\"color\":\"#C8D4E3\"},\"line\":{\"color\":\"white\"}},\"type\":\"table\"}],\"barpolar\":[{\"marker\":{\"line\":{\"color\":\"#E5ECF6\",\"width\":0.5},\"pattern\":{\"fillmode\":\"overlay\",\"size\":10,\"solidity\":0.2}},\"type\":\"barpolar\"}],\"pie\":[{\"automargin\":true,\"type\":\"pie\"}]},\"layout\":{\"autotypenumbers\":\"strict\",\"colorway\":[\"#636efa\",\"#EF553B\",\"#00cc96\",\"#ab63fa\",\"#FFA15A\",\"#19d3f3\",\"#FF6692\",\"#B6E880\",\"#FF97FF\",\"#FECB52\"],\"font\":{\"color\":\"#2a3f5f\"},\"hovermode\":\"closest\",\"hoverlabel\":{\"align\":\"left\"},\"paper_bgcolor\":\"white\",\"plot_bgcolor\":\"#E5ECF6\",\"polar\":{\"bgcolor\":\"#E5ECF6\",\"angularaxis\":{\"gridcolor\":\"white\",\"linecolor\":\"white\",\"ticks\":\"\"},\"radialaxis\":{\"gridcolor\":\"white\",\"linecolor\":\"white\",\"ticks\":\"\"}},\"ternary\":{\"bgcolor\":\"#E5ECF6\",\"aaxis\":{\"gridcolor\":\"white\",\"linecolor\":\"white\",\"ticks\":\"\"},\"baxis\":{\"gridcolor\":\"white\",\"linecolor\":\"white\",\"ticks\":\"\"},\"caxis\":{\"gridcolor\":\"white\",\"linecolor\":\"white\",\"ticks\":\"\"}},\"coloraxis\":{\"colorbar\":{\"outlinewidth\":0,\"ticks\":\"\"}},\"colorscale\":{\"sequential\":[[0.0,\"#0d0887\"],[0.1111111111111111,\"#46039f\"],[0.2222222222222222,\"#7201a8\"],[0.3333333333333333,\"#9c179e\"],[0.4444444444444444,\"#bd3786\"],[0.5555555555555556,\"#d8576b\"],[0.6666666666666666,\"#ed7953\"],[0.7777777777777778,\"#fb9f3a\"],[0.8888888888888888,\"#fdca26\"],[1.0,\"#f0f921\"]],\"sequentialminus\":[[0.0,\"#0d0887\"],[0.1111111111111111,\"#46039f\"],[0.2222222222222222,\"#7201a8\"],[0.3333333333333333,\"#9c179e\"],[0.4444444444444444,\"#bd3786\"],[0.5555555555555556,\"#d8576b\"],[0.6666666666666666,\"#ed7953\"],[0.7777777777777778,\"#fb9f3a\"],[0.8888888888888888,\"#fdca26\"],[1.0,\"#f0f921\"]],\"diverging\":[[0,\"#8e0152\"],[0.1,\"#c51b7d\"],[0.2,\"#de77ae\"],[0.3,\"#f1b6da\"],[0.4,\"#fde0ef\"],[0.5,\"#f7f7f7\"],[0.6,\"#e6f5d0\"],[0.7,\"#b8e186\"],[0.8,\"#7fbc41\"],[0.9,\"#4d9221\"],[1,\"#276419\"]]},\"xaxis\":{\"gridcolor\":\"white\",\"linecolor\":\"white\",\"ticks\":\"\",\"title\":{\"standoff\":15},\"zerolinecolor\":\"white\",\"automargin\":true,\"zerolinewidth\":2},\"yaxis\":{\"gridcolor\":\"white\",\"linecolor\":\"white\",\"ticks\":\"\",\"title\":{\"standoff\":15},\"zerolinecolor\":\"white\",\"automargin\":true,\"zerolinewidth\":2},\"scene\":{\"xaxis\":{\"backgroundcolor\":\"#E5ECF6\",\"gridcolor\":\"white\",\"linecolor\":\"white\",\"showbackground\":true,\"ticks\":\"\",\"zerolinecolor\":\"white\",\"gridwidth\":2},\"yaxis\":{\"backgroundcolor\":\"#E5ECF6\",\"gridcolor\":\"white\",\"linecolor\":\"white\",\"showbackground\":true,\"ticks\":\"\",\"zerolinecolor\":\"white\",\"gridwidth\":2},\"zaxis\":{\"backgroundcolor\":\"#E5ECF6\",\"gridcolor\":\"white\",\"linecolor\":\"white\",\"showbackground\":true,\"ticks\":\"\",\"zerolinecolor\":\"white\",\"gridwidth\":2}},\"shapedefaults\":{\"line\":{\"color\":\"#2a3f5f\"}},\"annotationdefaults\":{\"arrowcolor\":\"#2a3f5f\",\"arrowhead\":0,\"arrowwidth\":1},\"geo\":{\"bgcolor\":\"white\",\"landcolor\":\"#E5ECF6\",\"subunitcolor\":\"white\",\"showland\":true,\"showlakes\":true,\"lakecolor\":\"white\"},\"title\":{\"x\":0.05},\"mapbox\":{\"style\":\"light\"}}},\"xaxis\":{\"anchor\":\"y\",\"domain\":[0.0,1.0],\"title\":{\"text\":\"value\"},\"range\":[-0.5,1]},\"yaxis\":{\"anchor\":\"x\",\"domain\":[0.0,1.0],\"title\":{\"text\":\"count\"}},\"legend\":{\"title\":{\"text\":\"variable\"},\"tracegroupgap\":0},\"title\":{\"text\":\"L7N92\"},\"barmode\":\"relative\",\"width\":700},                        {\"responsive\": true}                    ).then(function(){\n",
       "                            \n",
       "var gd = document.getElementById('439bd711-ea31-4c46-a063-a395148246a7');\n",
       "var x = new MutationObserver(function (mutations, observer) {{\n",
       "        var display = window.getComputedStyle(gd).display;\n",
       "        if (!display || display === 'none') {{\n",
       "            console.log([gd, 'removed!']);\n",
       "            Plotly.purge(gd);\n",
       "            observer.disconnect();\n",
       "        }}\n",
       "}});\n",
       "\n",
       "// Listen for the removal of the full notebook cells\n",
       "var notebookContainer = gd.closest('#notebook-container');\n",
       "if (notebookContainer) {{\n",
       "    x.observe(notebookContainer, {childList: true});\n",
       "}}\n",
       "\n",
       "// Listen for the clearing of the current output cell\n",
       "var outputEl = gd.closest('.output');\n",
       "if (outputEl) {{\n",
       "    x.observe(outputEl, {childList: true});\n",
       "}}\n",
       "\n",
       "                        })                };                });            </script>        </div>"
      ]
     },
     "metadata": {},
     "output_type": "display_data"
    },
    {
     "data": {
      "text/html": [
       "<div>                            <div id=\"7586ffb0-eb38-4446-b9b0-c0b5f0e3893e\" class=\"plotly-graph-div\" style=\"height:525px; width:700px;\"></div>            <script type=\"text/javascript\">                require([\"plotly\"], function(Plotly) {                    window.PLOTLYENV=window.PLOTLYENV || {};                                    if (document.getElementById(\"7586ffb0-eb38-4446-b9b0-c0b5f0e3893e\")) {                    Plotly.newPlot(                        \"7586ffb0-eb38-4446-b9b0-c0b5f0e3893e\",                        [{\"alignmentgroup\":\"True\",\"bingroup\":\"x\",\"hovertemplate\":\"variable=0\\u003cbr\\u003evalue=%{x}\\u003cbr\\u003ecount=%{y}\\u003cextra\\u003e\\u003c\\u002fextra\\u003e\",\"legendgroup\":\"0\",\"marker\":{\"color\":\"#636efa\",\"pattern\":{\"shape\":\"\"}},\"name\":\"0\",\"offsetgroup\":\"0\",\"orientation\":\"v\",\"showlegend\":true,\"x\":[-0.10944441705942154,-0.04714962840080261,-0.16253161430358887,-0.16670262813568115,-0.16895663738250732,-0.14131084084510803,-0.16139180958271027,-0.03956909477710724,-0.16659662127494812,0.08296508342027664,-0.1694171279668808,-0.15596485137939453,0.04781924933195114,-0.16515332460403442,-0.1585465520620346,-0.07269547134637833,-0.16985227167606354,-0.1699330359697342,-0.1513112485408783,-0.1641562432050705,-0.15974615514278412,-0.16583594679832458,-0.10732301324605942,-0.06198380887508392,-0.1693277508020401,-0.11648835241794586,-0.1278451532125473,-0.16620992124080658,-0.16809199750423431,-0.16800984740257263,-0.14835362136363983,-0.14510168135166168,-0.1576591283082962,-0.16771318018436432,-0.16934262216091156,-0.08998233824968338,-0.16507776081562042,-0.16477179527282715,-0.1607731282711029,-0.1621531844139099,-0.10993532091379166,-0.16734109818935394,-0.16744820773601532,-0.16984622180461884,-0.16250602900981903,-0.1686842441558838,-0.16805560886859894,-0.168246328830719,-0.15631775557994843,-0.16522608697414398,-0.1524013876914978,-0.16977421939373016,-0.16830702126026154,-0.15504586696624756,-0.16505023837089539,-0.08606979250907898,-0.15966184437274933,-0.16026586294174194,-0.16679246723651886,-0.16699667274951935,0.023317476734519005,0.26883935928344727,-0.0222067441791296,0.05157778039574623,-0.14506089687347412,0.1871587485074997,-0.007966019213199615,0.0896216332912445,-0.09560483694076538,-0.14116135239601135,-0.04163690656423569,-0.0601462759077549,-0.040667835623025894,-0.10350053757429123,-0.16127002239227295,-0.16733472049236298,-0.16877952218055725,-0.029755691066384315,-0.17002590000629425,-0.1700037121772766,-0.16178731620311737,-0.13063041865825653,-0.16991735994815826,-0.15236765146255493,-0.14594870805740356,-0.16801176965236664,-0.17000582814216614,-0.16261373460292816,-0.16042734682559967,-0.16990511119365692,-0.16022126376628876,-0.16940055787563324,-0.16999264061450958,-0.1637483686208725,-0.16386769711971283,-0.09310797601938248,-0.16894763708114624,-0.17001023888587952,-0.16051077842712402,-0.050830189138650894,-0.1604359745979309,-0.16818967461585999,-0.16974039375782013,-0.1507941633462906,-0.15007396042346954,-0.1557454615831375,-0.11913455277681351,-0.1636182814836502,-0.1460210531949997,-0.16603149473667145,-0.1620434820652008,0.025425449013710022,-0.16739751398563385,-0.11686430871486664,-0.16649189591407776,-0.16714347898960114,-0.155185267329216,-0.005698855966329575,-0.16989721357822418,-0.1694776713848114,-0.1453283280134201,-0.16999168694019318,-0.1654016673564911,-0.12827931344509125,-0.169804185628891,-0.14202289283275604,-0.1665610373020172,-0.16876260936260223,-0.062098510563373566,0.14007335901260376,-0.16601186990737915,-0.1122777909040451,-0.14244148135185242,-0.1596674919128418,-0.16875731945037842,-0.13801749050617218,-0.16939672827720642,-0.16962242126464844,-0.16401171684265137,-0.16832590103149414,-0.16570116579532623,-0.12744008004665375,-0.10907110571861267,-0.16206799447536469,-0.14550772309303284,-0.1697717159986496,-0.16270114481449127,-0.1611873358488083,-0.1691197156906128,-0.16597236692905426,-0.1689767986536026,-0.14084480702877045,-0.1627953052520752,-0.15655142068862915,-0.1700402945280075,-0.14043168723583221,-0.13268333673477173,-0.16996507346630096,-0.15055842697620392,-0.06119885295629501,-0.05273543298244476,-0.163101464509964,-0.11874646693468094,-0.15633805096149445,-0.1535143256187439,-0.16756752133369446,-0.14527097344398499,0.05072558671236038,-0.06711621582508087,-0.06937527656555176,-0.08425632864236832,-0.042444001883268356,-0.07565228641033173,-0.11841783672571182,-0.01494756992906332,0.27012115716934204,0.17445431649684906,-0.08610546588897705,-0.15526369214057922,-0.05792359635233879,-0.1303148716688156,-0.07436362653970718,-0.16818872094154358,-0.08794432133436203,-0.12800943851470947,-0.10241102427244186,-0.15864579379558563,-0.15106812119483948,-0.023134415969252586,-0.16963018476963043,-0.16844508051872253,-0.1691582351922989,-0.13806892931461334,-0.13154485821723938,-0.15204378962516785,-0.1600250005722046,-0.1520165652036667,-0.16998291015625,-0.16983769834041595,-0.1461782306432724,-0.16723604500293732,-0.16702930629253387,-0.1636415272951126,-0.1688077598810196,-0.16718916594982147,-0.16900327801704407,-0.07034977525472641,-0.09622371196746826,-0.11493206769227982,-0.16897228360176086,-0.1693670004606247,-0.12617607414722443,-0.15795978903770447,-0.16409800946712494,-0.12740135192871094,-0.16988161206245422,-0.16309012472629547,-0.1579655557870865,-0.039347484707832336,-0.10034926980733871,-0.1687430739402771,-0.16961251199245453,-0.16242893040180206,-0.16332316398620605,-0.16764816641807556,-0.165871724486351,-0.16261504590511322,-0.16304607689380646,-0.16618341207504272,-0.16705399751663208,-0.16593044996261597,-0.16842932999134064,-0.1195424273610115,-0.17001637816429138,-0.01211746409535408,-0.06955944001674652,-0.16924098134040833,-0.11598189175128937,-0.16983522474765778,-0.1625962108373642,-0.06623896211385727,0.04982994496822357,-0.006414125207811594,-0.13537251949310303,-0.08002826571464539,-0.11632110923528671,-0.15891464054584503,-0.1545373946428299,-0.12296485900878906,-0.17003852128982544,-0.14375482499599457,-0.14421534538269043,-0.1587686687707901,-0.16547396779060364,-0.12302834540605545,-0.16325893998146057,0.08075322955846786,-0.16994285583496094,-0.1558346450328827,-0.15736499428749084,0.034298673272132874,0.241404727101326,-0.12009608745574951,-0.09105987846851349,-0.14612339437007904,-0.11535701155662537,-0.1144489124417305,-0.16798798739910126,-0.1566668450832367,-0.14603784680366516,-0.16888824105262756,-0.1669785976409912,-0.13674363493919373,-0.16864345967769623,-0.16716212034225464,-0.16840344667434692,-0.14160683751106262,-0.16673070192337036,-0.16724523901939392,-0.16214334964752197,-0.16989274322986603,-0.15529629588127136,-0.1587807685136795,-0.17001934349536896,-0.16200225055217743,-0.16493664681911469,-0.1658337116241455,-0.15341494977474213,-0.11634423583745956,-0.132079616189003,-0.16812434792518616,-0.1098831295967102,-0.12634685635566711,0.02257559821009636,-0.16941475868225098,-0.15339885652065277,-0.16772562265396118,-0.02569688856601715,-0.16438032686710358,0.049094438552856445,-0.1602233499288559,-0.14164426922798157,-0.12384346127510071,-0.1686173975467682,-0.1697877198457718,-0.12485197186470032,-0.1170121431350708,-0.14875206351280212,-0.15726375579833984,-0.16020438075065613,-0.16960811614990234,-0.16763147711753845,-0.15769800543785095,-0.16916950047016144,-0.15594685077667236,-0.165678471326828,-0.16928260028362274,-0.1662590205669403,-0.16998709738254547,-0.16931723058223724,-0.11100800335407257,-0.15809477865695953,-0.1618233472108841,-0.16996115446090698,-0.16985349357128143,-0.1185673400759697,-0.13594162464141846,0.05696650594472885,-0.16685359179973602,-0.16886459290981293,-0.12259913235902786,-0.12138760834932327,-0.16427111625671387,-0.1540616899728775,-0.1678774207830429,-0.17002391815185547,-0.16007639467716217,-0.1362694352865219,-0.15560497343540192,-0.16276425123214722,-0.1668345332145691,-0.13354170322418213,-0.15983910858631134,-0.16532716155052185,-0.16943323612213135,-0.1606043577194214,0.1543595939874649,-0.13227981328964233,-0.14233516156673431,-0.14264750480651855,-0.09376596659421921,-0.1428339034318924,-0.04881908372044563,-0.13696005940437317,-0.12332550436258316,-0.1686478555202484,-0.14986711740493774,-0.052207399159669876,0.0799003317952156,-0.16991977393627167,-0.1699456423521042,-0.14404268562793732,-0.16980195045471191,-0.165633887052536,-0.16259078681468964,-0.0613282211124897,-0.1696196347475052,-0.12783673405647278,0.22008229792118073,0.1495177149772644,0.19008837640285492,0.14160777628421783,-0.025662856176495552,0.07941862940788269,-0.06069041043519974,0.16420790553092957,0.03285077586770058,0.038129255175590515,0.05650576576590538,-0.026635466143488884,-0.08805015683174133,-0.09625799208879471,-0.11145392060279846,-0.06688867509365082,-0.16256394982337952,0.03319155052304268,-0.14062488079071045,-0.14105798304080963,0.0981970950961113,0.013729890808463097,-0.14931342005729675,-0.14417201280593872,-0.003301492426544428,-0.1291174590587616,-0.12891289591789246,-0.11739595979452133,-0.11200208216905594,-0.162994846701622,-0.16616933047771454,-0.11465124040842056,0.041720397770404816,-0.011189211159944534,-0.041112270206213,-0.1190403625369072,-0.1174749881029129,-0.16903477907180786,-0.16999861598014832,-0.12223667651414871,-0.15039706230163574,-0.16615428030490875,-0.1508496105670929,-0.0067933714017271996,-0.16463567316532135,-0.16113300621509552,-0.16243401169776917,-0.1686427891254425,-0.16842442750930786,-0.16914565861225128,-0.15321923792362213,-0.16868533194065094,-0.16694676876068115,-0.17002391815185547,-0.14325278997421265,-0.16787806153297424,-0.16742125153541565,-0.16575416922569275,-0.1690807193517685,-0.15004317462444305,-0.1691075563430786,-0.16032952070236206,0.018180225044488907,-0.1618950515985489,-0.06741231679916382,-0.1700119823217392,-0.16879287362098694,-0.14715708792209625,-0.17001080513000488,-0.16757720708847046,-0.16970062255859375,-0.1563904583454132,-0.14438049495220184,-0.1499393731355667,-0.16246509552001953,-0.09092262387275696,-0.15370269119739532,-0.1561124175786972,-0.14003700017929077,-0.163101926445961,-0.14984935522079468,-0.16657890379428864,-0.15944992005825043,-0.1639924943447113,-0.16878527402877808,-0.154964417219162,-0.17003734409809113,-0.16818897426128387,-0.1538126915693283,-0.16808269917964935,-0.12393121421337128,-0.13901695609092712,-0.16945432126522064,-0.16983862221240997,-0.121953085064888,-0.16320118308067322,-0.16756446659564972,-0.11192173510789871,-0.1695764809846878,-0.16995050013065338,-0.16893813014030457,-0.1545937955379486,-0.16984662413597107,-0.16866235435009003,-0.12053871154785156,-0.15941354632377625,-0.13820073008537292,-0.16764499247074127,-0.17000888288021088,-0.15003548562526703,-0.1700330525636673,-0.16748641431331635,-0.1699768602848053,-0.16268818080425262,-0.1699303686618805,-0.08695212006568909,-0.133236825466156,-0.16679683327674866,-0.14831681549549103,-0.12544001638889313,-0.15346965193748474,-0.169350266456604,-0.03990336135029793,0.20741505920886993,-0.07226702570915222,-0.04596026614308357,0.010534550994634628,0.038130760192871094,0.05597633868455887,-0.1358739584684372,-0.16633880138397217,-0.16644184291362762,-0.04089010879397392,-0.1686110496520996,-0.11016254127025604,-0.08510972559452057,-0.16168153285980225,-0.15560008585453033,-0.16902366280555725,-0.1534729301929474,-0.13839328289031982,-0.159795880317688,-0.16967438161373138,-0.15080493688583374,-0.15210746228694916,-0.16461005806922913,-0.09407183527946472,0.16544842720031738,-0.15817135572433472,-0.06857666373252869,-0.1120833158493042,-0.16914856433868408,-0.1348147839307785,-0.009103277698159218,-0.16945965588092804,-0.15740719437599182,-0.13973239064216614,-0.15343095362186432,-0.14570263028144836,-0.15560299158096313,-0.16753126680850983,-0.1646975874900818,-0.16239023208618164,-0.16925694048404694,-0.15822000801563263,-0.16989845037460327,-0.16253601014614105,-0.05937240645289421,-0.16350413858890533,-0.1684521734714508,-0.1533244252204895,-0.16614486277103424,-0.14182092249393463,-0.1359163224697113,-0.12290862947702408,-0.1663031280040741,-0.16262909770011902,-0.10617493838071823,-0.16152283549308777,-0.15192903578281403,-0.14498504996299744,-0.06888921558856964,-0.16898922622203827,-0.16886121034622192,-0.15930932760238647,-0.15737342834472656,-0.10049057006835938,-0.16775678098201752,-0.1698552668094635,-0.17000281810760498,-0.1567128300666809,-0.1490318775177002,-0.16194914281368256,-0.16480931639671326,-0.14132238924503326,-0.11274507641792297,-0.16864937543869019,-0.10454744100570679,-0.08156987279653549,-0.14137019217014313,-0.16878820955753326,-0.12019555270671844,-0.1432245671749115,0.07110018283128738,-0.1437803953886032,-0.16976206004619598,-0.15503211319446564,-0.1654537171125412,-0.16604726016521454,-0.14853067696094513,-0.13455654680728912,0.10635381937026978,0.13471052050590515,-0.09115999191999435,-0.12351785600185394,-0.11223127692937851,-0.15183573961257935,-0.11738413572311401,-0.11753936111927032,-0.15451684594154358,-0.16362252831459045,-0.16904152929782867,-0.14839288592338562,-0.13647682964801788,-0.13785363733768463,-0.16842953860759735,-0.14345474541187286,-0.15574556589126587,-0.1623048484325409,-0.11718261986970901,-0.16942591965198517,-0.05929294228553772,-0.16521598398685455,-0.13651752471923828,-0.16861866414546967,-0.14952830970287323,-0.1680707335472107,-0.1364825814962387,-0.16907913982868195,-0.16288533806800842,-0.13986735045909882,-0.07167202234268188,-0.16986079514026642,-0.1694786697626114,-0.16564102470874786,-0.13903069496154785,-0.13775604963302612,-0.12607042491436005,-0.16991473734378815,-0.165647491812706,-0.16996906697750092,-0.08347232639789581,-0.16928479075431824,-0.16978558897972107,-0.1447436809539795,-0.11887162923812866,-0.1564074158668518,-0.11115987598896027,-0.16758692264556885,-0.11215367913246155,-0.16719914972782135,-0.1525297462940216,-0.038246363401412964,-0.17002332210540771,-0.16971884667873383,-0.16546118259429932,-0.16684244573116302,-0.1432289183139801,-0.1510772556066513,-0.1696934700012207,-0.0498674139380455,-0.1625782698392868,-0.17002926766872406,-0.1547270119190216,-0.16503576934337616,-0.16945119202136993,-0.059321239590644836,-0.16405095160007477,-0.16966433823108673,0.0044813151471316814,-0.1646898090839386,-0.10261450707912445,-0.1659591943025589,-0.14401459693908691,-0.15594379603862762,-0.16913244128227234,-0.1194915622472763,-0.13112519681453705,-0.16875606775283813,-0.16814501583576202,-0.1657562553882599,-0.15197256207466125,-0.138921856880188,-0.16744203865528107,-0.17003896832466125,-0.1473177969455719,-0.05508268624544144,-0.16308079659938812,-0.15434867143630981,-0.1314140111207962,-0.16937552392482758,-0.1628137230873108,0.15688230097293854,-0.1443711668252945,-0.1538029909133911,-0.0017165703466162086,-0.14815367758274078,-0.16200710833072662,-0.17003998160362244,-0.15836992859840393,-0.16637302935123444,-0.09259627014398575,-0.15417955815792084,-0.1661210060119629,-0.15442229807376862,-0.16976791620254517,-0.1700330674648285,-0.0661366805434227,-0.16923411190509796,-0.16721221804618835,-0.16156479716300964,-0.17004001140594482,-0.1610310971736908,-0.13561709225177765,-0.13686344027519226,-0.1464509665966034,-0.16808854043483734,-0.15897142887115479,-0.1607561558485031,-0.14562588930130005,-0.14687898755073547,-0.16032560169696808,-0.16994498670101166,-0.16999578475952148,-0.15898150205612183,-0.13049514591693878,-0.16877073049545288,-0.1693880259990692,-0.1614730954170227,-0.16327133774757385,-0.16872471570968628,-0.16634203493595123,-0.16724273562431335,-0.16920867562294006,-0.16953635215759277,-0.16584254801273346,-0.16709187626838684,-0.15834812819957733,-0.16988258063793182,-0.11860848218202591,-0.15582601726055145,-0.16110210120677948,-0.15823009610176086,-0.1697228103876114,-0.1634998619556427,-0.1699826568365097,-0.16859349608421326,0.013665598817169666,-0.15054123103618622,-0.12133626639842987,-0.17000830173492432,-0.018538061529397964,-0.16204674541950226,-0.12002407014369965,-0.14637742936611176,-0.14328646659851074,-0.15196804702281952,-0.1699734777212143,-0.16868716478347778,-0.16981661319732666,-0.134333536028862,-0.1523217111825943,-0.16004261374473572,-0.16684739291667938,-0.16950833797454834,-0.14348405599594116,-0.1295190453529358,-0.1558036506175995,-0.16666950285434723,-0.15078102052211761,-0.16090045869350433,-0.16907550394535065,-0.16605263948440552,-0.16218183934688568,-0.1697906106710434,-0.1686507612466812,-0.16058792173862457,-0.16974326968193054,-0.14981527626514435,-0.1689431220293045,-0.16022635996341705,-0.13125722110271454,-0.16738097369670868,-0.16120202839374542,-0.15390002727508545,-0.15298296511173248,-0.16393941640853882,-0.08682113885879517,0.14760945737361908,-0.1685953289270401,-0.12978649139404297,-0.09064305573701859,-0.16585329174995422,-0.15288090705871582,-0.16411446034908295,-0.12404745817184448,-0.16894303262233734,-0.16331200301647186,-0.04800880700349808,-0.14999507367610931,-0.16711799800395966,-0.10183120518922806,-0.1516772359609604,-0.16908885538578033,-0.1700163185596466,-0.16493530571460724,-0.16118912398815155,-0.08423586189746857,-0.08926451951265335,-0.060031745582818985,-0.16905619204044342,-0.10419867187738419,-0.11948008835315704,-0.1699700802564621,-0.16915693879127502,-0.15915322303771973,-0.16498829424381256,-0.10498273372650146,-0.16733385622501373,-0.10621658712625504,-0.15595018863677979,-0.1201677918434143,-0.11094588786363602,-0.11153064668178558,-0.16714471578598022,-0.1633274406194687,-0.028308922424912453,-0.16959978640079498,-0.16215366125106812,-0.12001259624958038,-0.16643831133842468,-0.16923248767852783,-0.139909029006958,-0.16768275201320648,-0.16427677869796753,-0.15759889781475067,-0.1631181240081787,-0.017345109954476357,-0.16896964609622955,-0.13256925344467163,-0.16942176222801208,-0.16197463870048523,-0.14423924684524536,-0.16712236404418945,-0.1672786921262741,-0.13925808668136597,-0.15275771915912628,-0.15939727425575256,-0.0778559222817421,-0.16616690158843994,-0.16392244398593903,-0.162348672747612,-0.16431425511837006,-0.16724765300750732,-0.14174184203147888,-0.16999177634716034,-0.1583022177219391,-0.14789491891860962,-0.16580048203468323,-0.16056734323501587,-0.1692158281803131,-0.16800077259540558,-0.16344495117664337,-0.14281027019023895,-0.12321740388870239,-0.16575080156326294,-0.164581298828125,-0.14261193573474884,-0.1700366735458374,-0.16303901374340057,-0.16364824771881104,-0.163669154047966,-0.1689063012599945,-0.16815198957920074,-0.14461718499660492,-0.1687895953655243,-0.15334177017211914,-0.11173678189516068,-0.16977615654468536,-0.15999828279018402,-0.06499246507883072,-0.16906994581222534,-0.17003031075000763,-0.15669360756874084,-0.08059296011924744,0.05024383217096329,-0.1696491539478302,-0.15082155168056488,-0.16610151529312134,-0.17003904283046722,-0.14153216779232025,-0.16881760954856873,-0.16889354586601257,-0.1633533388376236,-0.13289789855480194,-0.14907148480415344,-0.15454573929309845,-0.11926489323377609,-0.16045981645584106,-0.1681935340166092,-0.1429540514945984,-0.15559986233711243,-0.16922512650489807,-0.16513921320438385,-0.16635043919086456,-0.16446280479431152,-0.09025871753692627,-0.16801314055919647,-0.16799084842205048,-0.15656310319900513,-0.16990190744400024,-0.16701382398605347,-0.1577705442905426,-0.16481971740722656,-0.1519724428653717,-0.16781118512153625,-0.16846773028373718,-0.16745665669441223,-0.1512397825717926,-0.158769428730011,-0.1676449030637741,-0.16369414329528809,-0.1698547899723053,-0.16916583478450775,-0.17004074156284332,-0.1698421686887741,-0.16193661093711853,-0.17003792524337769,-0.16519279778003693,-0.17004063725471497,-0.15403033792972565,-0.09651712328195572,-0.16893616318702698,-0.1556493043899536,-0.13609164953231812,-0.1500319093465805,-0.16963686048984528,-0.16483815014362335,-0.1684218794107437,-0.11388500779867172,-0.1686919927597046,-0.15273231267929077,-0.13845697045326233,-0.1696697473526001,-0.14873601496219635,-0.16990166902542114,-0.16884088516235352,-0.1591530591249466,-0.15591959655284882,-0.12213681638240814,-0.16605909168720245,-0.1662578135728836,-0.13047847151756287,-0.15591104328632355,-0.16967545449733734,-0.1691034436225891,-0.16112422943115234,-0.15331581234931946,-0.1690632402896881,-0.14688697457313538,-0.1612340211868286,-0.044814154505729675,-0.14330004155635834,-0.1674751341342926,-0.168337881565094,-0.16538888216018677,-0.13564340770244598,-0.1687583029270172,-0.1301286667585373,-0.01040118932723999,0.003238351084291935,-0.14702816307544708,-0.16575351357460022,-0.16490410268306732,-0.1539595127105713,-0.16375732421875,-0.1685067117214203,-0.14983145892620087,-0.16507411003112793,0.08973074704408646,-0.12865862250328064,0.07164640724658966,-0.1651916354894638,-0.16032114624977112,-0.15677063167095184,-0.16310276091098785,-0.11551806330680847,-0.11677522212266922,0.03792177513241768,-0.16603830456733704,-0.1610437035560608,-0.15034624934196472,-0.07088295370340347,-0.1293841153383255,-0.1700364351272583,-0.16064991056919098,-0.1663898378610611,-0.14092159271240234,-0.1694754660129547,-0.16335071623325348,-0.13631494343280792,-0.08587786555290222,-0.0863584652543068,-0.07053883373737335,-0.1664063036441803,-0.1414463222026825,-0.1674507111310959,-0.14633910357952118,-0.16277654469013214,-0.1699887067079544,-0.018042566254734993,-0.16852740943431854,-0.14059722423553467,-0.1656564176082611,-0.12651371955871582,-0.14087094366550446,-0.15153124928474426,-0.1627901941537857,-0.16946500539779663,-0.16765756905078888,-0.16646763682365417,-0.04551815241575241,-0.16784974932670593,-0.08127294480800629,0.05648091807961464,-0.1293477714061737,-0.16680043935775757,-0.1606523096561432,-0.16970506310462952,-0.12790848314762115,-0.006633061449974775,-0.1696261465549469,-0.1700373739004135,0.09417615830898285,-0.09711125493049622,-0.15733522176742554,-0.1612432450056076,-0.16876094043254852,-0.1685066968202591,-0.1622096449136734,-0.16750849783420563,-0.1498703509569168,-0.16672922670841217,-0.1675751805305481,-0.1682814508676529,-0.1673213243484497,-0.1690986454486847,-0.16551713645458221,-0.16988307237625122,-0.16767767071723938,-0.15903332829475403,-0.16548416018486023,-0.16333451867103577,-0.17002493143081665,-0.1661442369222641,-0.1428385227918625,-0.15952567756175995,-0.017914095893502235,-0.12117793411016464,-0.1582198590040207,-0.16180765628814697,-0.12691284716129303,-0.1683039367198944,-0.16800877451896667,-0.14818060398101807,-0.15768113732337952,-0.15311577916145325,-0.16988573968410492,-0.1619027853012085,-0.1568831205368042,-0.13577350974082947,-0.10279551893472672,-0.11275245994329453,-0.14971961081027985,-0.06972476094961166,-0.16270169615745544,-0.15714451670646667,-0.1465633362531662,0.019673267379403114,-0.16733840107917786,-0.14703217148780823,-0.14398810267448425,-0.16424725949764252,-0.1700403243303299,-0.12462250888347626,-0.0969955325126648,-0.1475672721862793,-0.0936347171664238,-0.08295758068561554,-0.1618424504995346,-0.09851226210594177,-0.1699216067790985,-0.11535941809415817,-0.1464959681034088,-0.13935145735740662,-0.11968900263309479,-0.11992760002613068,-0.15472032129764557,-0.1671943962574005,-0.13795708119869232,-0.16302596032619476,-0.15482960641384125,-0.16992391645908356,-0.1598164141178131,-0.14773043990135193,-0.12081869691610336,-0.15961435437202454,-0.16158245503902435,-0.16988618671894073,-0.15467162430286407,-0.1697213351726532,-0.15729939937591553,-0.08185940980911255,-0.16993139684200287,-0.1683078408241272,-0.15842854976654053,-0.16031824052333832,-0.13289739191532135,-0.14764949679374695,-0.1606709361076355,-0.156892329454422,-0.16769403219223022,-0.16728651523590088,-0.16891087591648102,-0.1638093739748001,-0.05760215222835541,-0.16699570417404175,-0.13617004454135895,-0.16952307522296906,-0.17003443837165833,-0.16961491107940674,-0.08034247905015945,-0.17003867030143738,-0.1574031412601471,-0.16566461324691772,-0.14990298449993134,-0.16484573483467102,-0.16538023948669434,-0.1688789278268814,-0.16661012172698975,-0.16376221179962158,-0.16816210746765137,-0.1614382565021515,-0.09096633642911911,-0.126124769449234,-0.16960160434246063,-0.16075864434242249,-0.04336237534880638,-0.09051084518432617,-0.16794265806674957,-0.05828370898962021,-0.17003986239433289,0.04809754714369774,-0.17000247538089752,-0.09778046607971191,-0.09204494953155518,-0.1654912829399109,-0.17003324627876282,-0.1336226910352707,-0.1681399643421173,-0.16764692962169647,0.0811208114027977,-0.09215781837701797,0.09422105550765991,-0.09505685418844223,-0.11301949620246887,-0.1272682100534439,-0.1188279390335083,-0.10124317556619644,-0.16926062107086182,-0.16974309086799622,-0.163790762424469,-0.1671927273273468,-0.1574266254901886,-0.16628876328468323,-0.14965195953845978,-0.16993467509746552,-0.17004020512104034,-0.1531057357788086,-0.16986268758773804,-0.1500994712114334,-0.16981923580169678,-0.13877823948860168,-0.10859069228172302,-0.16961555182933807,-0.16143424808979034,-0.1554776430130005,-0.16999463737010956,-0.16941678524017334,-0.15309345722198486,-0.1643838882446289,-0.14950698614120483,-0.1650969535112381,-0.16995589435100555,-0.14047187566757202,-0.1505802869796753,-0.049262598156929016,-0.16226352751255035,-0.16417378187179565,-0.16106341779232025,-0.1667470932006836,-0.1699611246585846,-0.16884872317314148,-0.1510409116744995,-0.1697361320257187,-0.16492335498332977,-0.15262305736541748,-0.16964510083198547,-0.16722999513149261,-0.1653541922569275,-0.14889101684093475,-0.13619700074195862,-0.1534094363451004,-0.16717316210269928,-0.1222200095653534,-0.11887457966804504,-0.05872927978634834,-0.1289595663547516,-0.16397257149219513,0.1516878306865692,-0.16497661173343658,-0.10585872828960419,-0.1607450693845749,-0.055685654282569885,-0.16754263639450073,-0.13973605632781982,-0.13916708528995514,-0.1514384150505066,-0.10545504093170166,-0.17003627121448517,-0.15936729311943054,-0.11414162069559097,-0.15743014216423035,-0.15734122693538666,0.04762553796172142,-0.11850111931562424,-0.15435314178466797,-0.16327422857284546,-0.12743331491947174,-0.16968901455402374,-0.14697247743606567,-0.13335703313350677,-0.1692958027124405,-0.1696806401014328,-0.10752777755260468,0.1297249048948288,-0.16981364786624908,-0.14397165179252625,-0.1467558741569519,-0.16948020458221436,-0.13017524778842926,-0.14186391234397888,-0.1638754904270172,-0.1700080931186676,0.03531292453408241,-0.10362029075622559,-0.1699834018945694,-0.12767702341079712,-0.16966184973716736,-0.1517295241355896,-0.08950037509202957,-0.13496756553649902,-0.14915712177753448,-0.1667267382144928,-0.16889366507530212,-0.09477122128009796,-0.10193437337875366,-0.14057877659797668,-0.16369329392910004,-0.16776242852210999,-0.0894816517829895,-0.15815091133117676,-0.14301708340644836,-0.16925135254859924,0.061648838222026825,-0.05033521354198456,-0.16149811446666718,-0.1692330241203308,-0.16654983162879944,-0.15428677201271057,-0.1633514016866684,-0.16036784648895264,-0.1434968262910843,-0.13793538510799408,-0.05732886120676994,-0.10252062976360321,-0.16375285387039185,-0.17003674805164337,-0.09716100245714188,-0.0353938527405262,-0.16511009633541107,-0.12833955883979797,-0.0955992192029953,0.07573731988668442,-0.1480429619550705,-0.05104650557041168,0.0928049087524414,-0.16975520551204681,-0.12349279969930649,-0.09424537420272827,-0.15285558998584747,0.01958835870027542,-0.16902972757816315,-0.1698552817106247,0.002438022056594491,-0.17001716792583466,-0.16802063584327698,-0.14130857586860657,-0.16746078431606293,-0.16323360800743103,-0.15138566493988037,0.09072460979223251,-0.15847383439540863,-0.16321223974227905,-0.16626259684562683,-0.16779804229736328,-0.13706308603286743,-0.16513262689113617,-0.16779808700084686,-0.16698940098285675,-0.15793533623218536,-0.16754668951034546,-0.11096803098917007,-0.16470731794834137,-0.16692180931568146,-0.16881950199604034,-0.16059845685958862,-0.15109962224960327,-0.1638498604297638,-0.16931822896003723,-0.08581658452749252,-0.09391511231660843,-0.14483056962490082,-0.16920776665210724,-0.1570242941379547,-0.16994629800319672,-0.14951571822166443,-0.16317063570022583,-0.1699255108833313,-0.1662590056657791,-0.15968899428844452,-0.14104826748371124,-0.16624948382377625,-0.16963092982769012,-0.14916104078292847,-0.1605810970067978,-0.16981874406337738,0.0736953392624855,-0.1667328029870987,-0.15285027027130127,-0.1671513468027115,0.06228746846318245,-0.16782933473587036,-0.15228058397769928,-0.16841167211532593,-0.14323511719703674,-0.1561279296875,-0.13125859200954437,-0.07878629863262177,-0.15105216205120087,-0.15202836692333221,0.017826475203037262,0.34547001123428345,-0.11794354766607285,-0.13664907217025757,-0.12786152958869934,-0.1059471070766449,-0.1497964859008789,-0.1689453423023224,-0.15221579372882843,-0.1684073656797409,-0.16820748150348663,-0.14000625908374786,-0.16983135044574738,-0.1491931974887848,-0.15446631610393524,-0.16984346508979797,-0.15294408798217773,-0.17003419995307922,-0.16228234767913818,-0.16337254643440247,-0.16467179358005524,-0.14543120563030243,-0.032247770577669144,-0.16888900101184845,-0.16985568404197693,-0.018014373257756233,-0.16790176928043365,-0.1689622700214386,-0.14853037893772125,-0.16771350800991058,-0.15536832809448242,-0.16140048205852509,-0.08612293004989624,-0.14927928149700165,-0.1689448058605194,-0.1657516211271286,-0.1700400710105896,-0.10356229543685913,-0.1595381796360016,-0.14888398349285126,-0.16988539695739746,-0.16962485015392303,-0.13481687009334564,-0.1537383496761322,-0.16316676139831543,-0.1682511270046234,-0.16857612133026123,-0.15432316064834595,-0.15853296220302582,-0.1620127260684967,-0.15637202560901642,-0.16995200514793396,-0.16429418325424194,-0.08104567229747772,-0.12237861007452011,-0.15477769076824188,-0.14688733220100403,-0.16841861605644226,-0.09933535754680634,-0.16857367753982544,-0.16567900776863098,-0.14477908611297607,-0.07678689062595367,-0.10635732114315033,-0.14391270279884338,-0.14703860878944397,-0.10829096287488937,-0.169842928647995,-0.12680599093437195,-0.12281801551580429,-0.1251315325498581,0.10365847498178482,0.002486332319676876,-0.1571991741657257,-0.17001403868198395,-0.14310820400714874,-0.14942927658557892,-0.13382326066493988,-0.10104184597730637,-0.15487727522850037,-0.12514728307724,-0.1591152548789978,-0.14187099039554596,-0.17000624537467957,-0.16588731110095978,-0.1568317711353302,-0.16992676258087158,-0.12842603027820587,-0.1370229572057724,-0.1698092520236969,-0.15379098057746887,-0.07981359958648682,-0.16328787803649902,-0.14290449023246765,-0.1682075411081314,-0.1537296324968338,-0.16979892551898956,-0.1452093869447708,-0.16282054781913757,-0.16964420676231384,0.017867766320705414,-0.16970956325531006,-0.16990278661251068,-0.1465776413679123,0.0030832928605377674,-0.16972233355045319,-0.1451481729745865,-0.12934285402297974,-0.15317265689373016,-0.16864079236984253,-0.0540505088865757,-0.16933578252792358,-0.16991788148880005,-0.14544184505939484,-0.1367429494857788,-0.16876263916492462,-0.12884634733200073,-0.16853445768356323,-0.16309790313243866,-0.15310966968536377,-0.14631341397762299,-0.12398797273635864,-0.1337323635816574,-0.1598702073097229,-0.16818371415138245,-0.13138659298419952,-0.1557970494031906,-0.16804246604442596,-0.1640089750289917,-0.15439435839653015,-0.16755132377147675,-0.16120395064353943,-0.1700376570224762,-0.11098877340555191,-0.07573200017213821,-0.08345403522253036,-0.15796171128749847,-0.16110563278198242,-0.1695256233215332,-0.12908829748630524,-0.1279752105474472,-0.07072612643241882,-0.16810813546180725,-0.1686069220304489,-0.14454957842826843,-0.15653826296329498,-0.17000548541545868,-0.08113037049770355,-0.07139710336923599,-0.16173624992370605,-0.07020512968301773,-0.1038254126906395,-0.1378556787967682,-0.16650255024433136,0.04704219847917557,0.1179661825299263,-0.14039212465286255,0.015847060829401016,0.028527379035949707,-0.150864377617836,-0.15362486243247986,-0.12751421332359314,0.0372072234749794,-0.15629130601882935,-0.05039854347705841,-0.16514435410499573,-0.09886806458234787,-0.1684703528881073,-0.164293572306633,-0.15013976395130157,-0.16487400233745575,-0.15651778876781464,-0.12975642085075378,-0.1671602427959442,-0.14407522976398468,-0.1533241868019104,-0.13546472787857056,-0.13564759492874146,-0.09401360899209976,-0.15062640607357025,-0.17003673315048218,-0.16766110062599182,-0.1078956201672554,-0.15712033212184906,-0.16637539863586426,-0.1652127057313919,-0.15847618877887726,-0.16953223943710327,-0.1496085524559021,-0.17002107203006744,-0.16978393495082855,-0.15914472937583923,-0.1698077768087387,-0.12737824022769928,-0.156025230884552,-0.15888144075870514,-0.17000509798526764,-0.1679227203130722,-0.04970388486981392,-0.16875091195106506,-0.16988195478916168,-0.16888664662837982,-0.1665165275335312,-0.13089241087436676,0.0565500445663929,-0.13603423535823822,-0.15371449291706085,-0.10895904898643494,0.04664309322834015,-0.14959922432899475,-0.16425156593322754,-0.0006017186096869409,-0.1238345354795456,-0.12068860232830048,-0.07039449363946915,-0.06880751997232437,-0.16984474658966064,-0.10096441209316254,-0.14742159843444824,-0.1672767549753189,0.0677570030093193,-0.1626053899526596,-0.08963760733604431,-0.040812987834215164,-0.16000062227249146,-0.16675733029842377,-0.16987745463848114,-0.12480118125677109,-0.15331503748893738,-0.16793027520179749,-0.1696380078792572,-0.0986696407198906,-0.1666327714920044,-0.16997292637825012,-0.1660875827074051,-0.04598614200949669,-0.16586291790008545,-0.169871523976326,-0.15635034441947937,-0.14549969136714935,-0.10033173859119415,-0.16922643780708313,-0.024940934032201767,-0.05915912985801697,-0.1484348177909851,-0.16218388080596924,-0.16712680459022522,-0.14084464311599731,-0.1464039385318756,-0.017669249325990677,-0.10206485539674759,-0.13826684653759003,-0.01630239188671112,0.12437880784273148,-0.07410777360200882,-0.058364126831293106,-0.10943876951932907,-0.12430104613304138,-0.11745454370975494,-0.08533532172441483,-0.1430397927761078,-0.08301223814487457,-0.16590438783168793,-0.16883538663387299,-0.1692749559879303,-0.1684630960226059,-0.15383410453796387,-0.15712884068489075,-0.1699412763118744,-0.16633999347686768,-0.1262243092060089,-0.1643957495689392,-0.13620588183403015,-0.14585678279399872,-0.12422625720500946,-0.11418692767620087,-0.16146889328956604,-0.15231281518936157,-0.16941621899604797,-0.1428169459104538,-0.0980776771903038,-0.09755339473485947,-0.1700277477502823,-0.15940909087657928,-0.1695985496044159,-0.16976390779018402,-0.1694200485944748,-0.16841541230678558,-0.153969407081604,-0.07879943400621414,-0.16779914498329163,-0.16450545191764832,-0.14769943058490753,-0.14467039704322815,-0.16426779329776764,-0.14754840731620789,-0.14463567733764648,-0.16908113658428192,-0.16146880388259888,-0.006848847959190607,-0.15841969847679138,-0.16960842907428741,-0.08749116957187653,-0.1699817180633545,-0.08212338387966156,-0.08900750428438187,-0.16979557275772095,-0.1034533828496933,-0.11127682775259018,-0.16987702250480652,-0.1602666676044464,-0.14426569640636444,-0.16552038490772247,-0.16291989386081696,-0.1689896136522293,-0.15721584856510162,-0.1700153648853302,-0.15456920862197876,-0.16960598528385162,-0.16043101251125336,-0.09748963266611099,-0.16769489645957947,-0.12513306736946106,-0.12309826165437698,-0.16618400812149048,0.04360908269882202,-0.15974609553813934,-0.16807378828525543,-0.15608707070350647,-0.15416383743286133,-0.13456624746322632,-0.1698150485754013,-0.14080564677715302,-0.11412069201469421,-0.021420789882540703,-0.15398192405700684,-0.16100811958312988,-0.16885565221309662,-0.16994181275367737,-0.14930276572704315,-0.14677689969539642,-0.09976131469011307,-0.16483153402805328,-0.1684497594833374,-0.14683757722377777,-0.1408812701702118,-0.1695147454738617,-0.17002303898334503,-0.15129046142101288,-0.010329357348382473,-0.08852605521678925,-0.1533869355916977,-0.16759489476680756,-0.1680949330329895,-0.16936281323432922,-0.16635440289974213,-0.16664354503154755,-0.16782379150390625,-0.1641332358121872,-0.1485568881034851,-0.13233593106269836,-0.16933448612689972,-0.13098269701004028,-0.16713543236255646,-0.13476455211639404,-0.1317441761493683,-0.16951565444469452,-0.11165653169155121,-0.0767117440700531,-0.1692606657743454,-0.16502468287944794,-0.16428077220916748,-0.16994406282901764,-0.13264285027980804,-0.16657079756259918,0.0011866032145917416,-0.16359150409698486,-0.1189475953578949,-0.14450126886367798,-0.16655665636062622,-0.025377433747053146,-0.1691085547208786,-0.14860625565052032,-0.14146627485752106,-0.1698015183210373,-0.16533197462558746,-0.08404847234487534,-0.1697874218225479,-0.15802426636219025,-0.0688261091709137,-0.12885718047618866,-0.10470592975616455,-0.13125966489315033,-0.16931594908237457,-0.16500476002693176,-0.1425289511680603,-0.13269194960594177,-0.17002864181995392,-0.14455975592136383,0.032963283360004425,-0.1601831167936325,-0.16624225676059723,-0.13169515132904053,-0.16663454473018646,-0.1675870418548584,-0.0710173100233078,-0.16671612858772278,-0.16990971565246582,0.02393963374197483,-0.16988930106163025,-0.15150420367717743,-0.09377052634954453,-0.12391223758459091,-0.16906338930130005,-0.1700259894132614,-0.16188231110572815,-0.13143321871757507,-0.15624186396598816,-0.1595596820116043,-0.16791360080242157,-0.1282423734664917,-0.06994389742612839,-0.0575193390250206,-0.053249698132276535,-0.14197732508182526,-0.021486712619662285,-0.012521328404545784,-0.15369902551174164,-0.11776211857795715,-0.15919676423072815,-0.09611524641513824,-0.11125917732715607,-0.16988413035869598,-0.16216228902339935,-0.16978320479393005,-0.15746323764324188,-0.15049882233142853,-0.15598683059215546,-0.1190047338604927,-0.09842146188020706,-0.12111914157867432,-0.0866304561495781,-0.11883451789617538,-0.17001400887966156,-0.1691277027130127,-0.07672742754220963,-0.06245005875825882,-0.1302366703748703,-0.0719187781214714,-0.15797065198421478,-0.1669587641954422,-0.13221105933189392,-0.11616036295890808,-0.09076575189828873,-0.16102512180805206,-0.1401350200176239,-0.12847691774368286,-0.16722805798053741,-0.13049659132957458,-0.16760370135307312,-0.1649423986673355,-0.1663011908531189,-0.1699909269809723,-0.037354402244091034,-0.16873085498809814,-0.1694031059741974,-0.1418256163597107,-0.15046198666095734,0.013822106644511223,-0.143419086933136,-0.16529279947280884,-0.1166943833231926,-0.1576414853334427,-0.15420590341091156,-0.16961896419525146,-0.1696144938468933,-0.1456620991230011,-0.13647857308387756,-0.13686741888523102,-0.1679312139749527,-0.16550429165363312,-0.14649537205696106,-0.011163972318172455,-0.16987746953964233,-0.11115712672472,-0.16322427988052368,-0.09348572790622711,-0.16390860080718994,-0.1687159240245819,-0.16832230985164642,-0.1700010746717453,-0.1630571335554123,-0.11043639481067657,-0.15566107630729675,-0.1547507494688034,-0.16312256455421448,-0.13783235847949982,-0.10847560316324234,-0.043813031166791916,-0.16498883068561554,-0.1289224773645401,-0.15932436287403107,-0.13090811669826508,-0.15491671860218048,-0.15994873642921448,-0.1337270438671112,-0.16902107000350952,-0.1514616757631302,-0.16511964797973633,-0.16105493903160095,-0.010114338248968124],\"xaxis\":\"x\",\"yaxis\":\"y\",\"type\":\"histogram\"}],                        {\"template\":{\"data\":{\"histogram2dcontour\":[{\"type\":\"histogram2dcontour\",\"colorbar\":{\"outlinewidth\":0,\"ticks\":\"\"},\"colorscale\":[[0.0,\"#0d0887\"],[0.1111111111111111,\"#46039f\"],[0.2222222222222222,\"#7201a8\"],[0.3333333333333333,\"#9c179e\"],[0.4444444444444444,\"#bd3786\"],[0.5555555555555556,\"#d8576b\"],[0.6666666666666666,\"#ed7953\"],[0.7777777777777778,\"#fb9f3a\"],[0.8888888888888888,\"#fdca26\"],[1.0,\"#f0f921\"]]}],\"choropleth\":[{\"type\":\"choropleth\",\"colorbar\":{\"outlinewidth\":0,\"ticks\":\"\"}}],\"histogram2d\":[{\"type\":\"histogram2d\",\"colorbar\":{\"outlinewidth\":0,\"ticks\":\"\"},\"colorscale\":[[0.0,\"#0d0887\"],[0.1111111111111111,\"#46039f\"],[0.2222222222222222,\"#7201a8\"],[0.3333333333333333,\"#9c179e\"],[0.4444444444444444,\"#bd3786\"],[0.5555555555555556,\"#d8576b\"],[0.6666666666666666,\"#ed7953\"],[0.7777777777777778,\"#fb9f3a\"],[0.8888888888888888,\"#fdca26\"],[1.0,\"#f0f921\"]]}],\"heatmap\":[{\"type\":\"heatmap\",\"colorbar\":{\"outlinewidth\":0,\"ticks\":\"\"},\"colorscale\":[[0.0,\"#0d0887\"],[0.1111111111111111,\"#46039f\"],[0.2222222222222222,\"#7201a8\"],[0.3333333333333333,\"#9c179e\"],[0.4444444444444444,\"#bd3786\"],[0.5555555555555556,\"#d8576b\"],[0.6666666666666666,\"#ed7953\"],[0.7777777777777778,\"#fb9f3a\"],[0.8888888888888888,\"#fdca26\"],[1.0,\"#f0f921\"]]}],\"heatmapgl\":[{\"type\":\"heatmapgl\",\"colorbar\":{\"outlinewidth\":0,\"ticks\":\"\"},\"colorscale\":[[0.0,\"#0d0887\"],[0.1111111111111111,\"#46039f\"],[0.2222222222222222,\"#7201a8\"],[0.3333333333333333,\"#9c179e\"],[0.4444444444444444,\"#bd3786\"],[0.5555555555555556,\"#d8576b\"],[0.6666666666666666,\"#ed7953\"],[0.7777777777777778,\"#fb9f3a\"],[0.8888888888888888,\"#fdca26\"],[1.0,\"#f0f921\"]]}],\"contourcarpet\":[{\"type\":\"contourcarpet\",\"colorbar\":{\"outlinewidth\":0,\"ticks\":\"\"}}],\"contour\":[{\"type\":\"contour\",\"colorbar\":{\"outlinewidth\":0,\"ticks\":\"\"},\"colorscale\":[[0.0,\"#0d0887\"],[0.1111111111111111,\"#46039f\"],[0.2222222222222222,\"#7201a8\"],[0.3333333333333333,\"#9c179e\"],[0.4444444444444444,\"#bd3786\"],[0.5555555555555556,\"#d8576b\"],[0.6666666666666666,\"#ed7953\"],[0.7777777777777778,\"#fb9f3a\"],[0.8888888888888888,\"#fdca26\"],[1.0,\"#f0f921\"]]}],\"surface\":[{\"type\":\"surface\",\"colorbar\":{\"outlinewidth\":0,\"ticks\":\"\"},\"colorscale\":[[0.0,\"#0d0887\"],[0.1111111111111111,\"#46039f\"],[0.2222222222222222,\"#7201a8\"],[0.3333333333333333,\"#9c179e\"],[0.4444444444444444,\"#bd3786\"],[0.5555555555555556,\"#d8576b\"],[0.6666666666666666,\"#ed7953\"],[0.7777777777777778,\"#fb9f3a\"],[0.8888888888888888,\"#fdca26\"],[1.0,\"#f0f921\"]]}],\"mesh3d\":[{\"type\":\"mesh3d\",\"colorbar\":{\"outlinewidth\":0,\"ticks\":\"\"}}],\"scatter\":[{\"fillpattern\":{\"fillmode\":\"overlay\",\"size\":10,\"solidity\":0.2},\"type\":\"scatter\"}],\"parcoords\":[{\"type\":\"parcoords\",\"line\":{\"colorbar\":{\"outlinewidth\":0,\"ticks\":\"\"}}}],\"scatterpolargl\":[{\"type\":\"scatterpolargl\",\"marker\":{\"colorbar\":{\"outlinewidth\":0,\"ticks\":\"\"}}}],\"bar\":[{\"error_x\":{\"color\":\"#2a3f5f\"},\"error_y\":{\"color\":\"#2a3f5f\"},\"marker\":{\"line\":{\"color\":\"#E5ECF6\",\"width\":0.5},\"pattern\":{\"fillmode\":\"overlay\",\"size\":10,\"solidity\":0.2}},\"type\":\"bar\"}],\"scattergeo\":[{\"type\":\"scattergeo\",\"marker\":{\"colorbar\":{\"outlinewidth\":0,\"ticks\":\"\"}}}],\"scatterpolar\":[{\"type\":\"scatterpolar\",\"marker\":{\"colorbar\":{\"outlinewidth\":0,\"ticks\":\"\"}}}],\"histogram\":[{\"marker\":{\"pattern\":{\"fillmode\":\"overlay\",\"size\":10,\"solidity\":0.2}},\"type\":\"histogram\"}],\"scattergl\":[{\"type\":\"scattergl\",\"marker\":{\"colorbar\":{\"outlinewidth\":0,\"ticks\":\"\"}}}],\"scatter3d\":[{\"type\":\"scatter3d\",\"line\":{\"colorbar\":{\"outlinewidth\":0,\"ticks\":\"\"}},\"marker\":{\"colorbar\":{\"outlinewidth\":0,\"ticks\":\"\"}}}],\"scattermapbox\":[{\"type\":\"scattermapbox\",\"marker\":{\"colorbar\":{\"outlinewidth\":0,\"ticks\":\"\"}}}],\"scatterternary\":[{\"type\":\"scatterternary\",\"marker\":{\"colorbar\":{\"outlinewidth\":0,\"ticks\":\"\"}}}],\"scattercarpet\":[{\"type\":\"scattercarpet\",\"marker\":{\"colorbar\":{\"outlinewidth\":0,\"ticks\":\"\"}}}],\"carpet\":[{\"aaxis\":{\"endlinecolor\":\"#2a3f5f\",\"gridcolor\":\"white\",\"linecolor\":\"white\",\"minorgridcolor\":\"white\",\"startlinecolor\":\"#2a3f5f\"},\"baxis\":{\"endlinecolor\":\"#2a3f5f\",\"gridcolor\":\"white\",\"linecolor\":\"white\",\"minorgridcolor\":\"white\",\"startlinecolor\":\"#2a3f5f\"},\"type\":\"carpet\"}],\"table\":[{\"cells\":{\"fill\":{\"color\":\"#EBF0F8\"},\"line\":{\"color\":\"white\"}},\"header\":{\"fill\":{\"color\":\"#C8D4E3\"},\"line\":{\"color\":\"white\"}},\"type\":\"table\"}],\"barpolar\":[{\"marker\":{\"line\":{\"color\":\"#E5ECF6\",\"width\":0.5},\"pattern\":{\"fillmode\":\"overlay\",\"size\":10,\"solidity\":0.2}},\"type\":\"barpolar\"}],\"pie\":[{\"automargin\":true,\"type\":\"pie\"}]},\"layout\":{\"autotypenumbers\":\"strict\",\"colorway\":[\"#636efa\",\"#EF553B\",\"#00cc96\",\"#ab63fa\",\"#FFA15A\",\"#19d3f3\",\"#FF6692\",\"#B6E880\",\"#FF97FF\",\"#FECB52\"],\"font\":{\"color\":\"#2a3f5f\"},\"hovermode\":\"closest\",\"hoverlabel\":{\"align\":\"left\"},\"paper_bgcolor\":\"white\",\"plot_bgcolor\":\"#E5ECF6\",\"polar\":{\"bgcolor\":\"#E5ECF6\",\"angularaxis\":{\"gridcolor\":\"white\",\"linecolor\":\"white\",\"ticks\":\"\"},\"radialaxis\":{\"gridcolor\":\"white\",\"linecolor\":\"white\",\"ticks\":\"\"}},\"ternary\":{\"bgcolor\":\"#E5ECF6\",\"aaxis\":{\"gridcolor\":\"white\",\"linecolor\":\"white\",\"ticks\":\"\"},\"baxis\":{\"gridcolor\":\"white\",\"linecolor\":\"white\",\"ticks\":\"\"},\"caxis\":{\"gridcolor\":\"white\",\"linecolor\":\"white\",\"ticks\":\"\"}},\"coloraxis\":{\"colorbar\":{\"outlinewidth\":0,\"ticks\":\"\"}},\"colorscale\":{\"sequential\":[[0.0,\"#0d0887\"],[0.1111111111111111,\"#46039f\"],[0.2222222222222222,\"#7201a8\"],[0.3333333333333333,\"#9c179e\"],[0.4444444444444444,\"#bd3786\"],[0.5555555555555556,\"#d8576b\"],[0.6666666666666666,\"#ed7953\"],[0.7777777777777778,\"#fb9f3a\"],[0.8888888888888888,\"#fdca26\"],[1.0,\"#f0f921\"]],\"sequentialminus\":[[0.0,\"#0d0887\"],[0.1111111111111111,\"#46039f\"],[0.2222222222222222,\"#7201a8\"],[0.3333333333333333,\"#9c179e\"],[0.4444444444444444,\"#bd3786\"],[0.5555555555555556,\"#d8576b\"],[0.6666666666666666,\"#ed7953\"],[0.7777777777777778,\"#fb9f3a\"],[0.8888888888888888,\"#fdca26\"],[1.0,\"#f0f921\"]],\"diverging\":[[0,\"#8e0152\"],[0.1,\"#c51b7d\"],[0.2,\"#de77ae\"],[0.3,\"#f1b6da\"],[0.4,\"#fde0ef\"],[0.5,\"#f7f7f7\"],[0.6,\"#e6f5d0\"],[0.7,\"#b8e186\"],[0.8,\"#7fbc41\"],[0.9,\"#4d9221\"],[1,\"#276419\"]]},\"xaxis\":{\"gridcolor\":\"white\",\"linecolor\":\"white\",\"ticks\":\"\",\"title\":{\"standoff\":15},\"zerolinecolor\":\"white\",\"automargin\":true,\"zerolinewidth\":2},\"yaxis\":{\"gridcolor\":\"white\",\"linecolor\":\"white\",\"ticks\":\"\",\"title\":{\"standoff\":15},\"zerolinecolor\":\"white\",\"automargin\":true,\"zerolinewidth\":2},\"scene\":{\"xaxis\":{\"backgroundcolor\":\"#E5ECF6\",\"gridcolor\":\"white\",\"linecolor\":\"white\",\"showbackground\":true,\"ticks\":\"\",\"zerolinecolor\":\"white\",\"gridwidth\":2},\"yaxis\":{\"backgroundcolor\":\"#E5ECF6\",\"gridcolor\":\"white\",\"linecolor\":\"white\",\"showbackground\":true,\"ticks\":\"\",\"zerolinecolor\":\"white\",\"gridwidth\":2},\"zaxis\":{\"backgroundcolor\":\"#E5ECF6\",\"gridcolor\":\"white\",\"linecolor\":\"white\",\"showbackground\":true,\"ticks\":\"\",\"zerolinecolor\":\"white\",\"gridwidth\":2}},\"shapedefaults\":{\"line\":{\"color\":\"#2a3f5f\"}},\"annotationdefaults\":{\"arrowcolor\":\"#2a3f5f\",\"arrowhead\":0,\"arrowwidth\":1},\"geo\":{\"bgcolor\":\"white\",\"landcolor\":\"#E5ECF6\",\"subunitcolor\":\"white\",\"showland\":true,\"showlakes\":true,\"lakecolor\":\"white\"},\"title\":{\"x\":0.05},\"mapbox\":{\"style\":\"light\"}}},\"xaxis\":{\"anchor\":\"y\",\"domain\":[0.0,1.0],\"title\":{\"text\":\"value\"},\"range\":[-0.5,1]},\"yaxis\":{\"anchor\":\"x\",\"domain\":[0.0,1.0],\"title\":{\"text\":\"count\"}},\"legend\":{\"title\":{\"text\":\"variable\"},\"tracegroupgap\":0},\"title\":{\"text\":\"L7N64\"},\"barmode\":\"relative\",\"width\":700},                        {\"responsive\": true}                    ).then(function(){\n",
       "                            \n",
       "var gd = document.getElementById('7586ffb0-eb38-4446-b9b0-c0b5f0e3893e');\n",
       "var x = new MutationObserver(function (mutations, observer) {{\n",
       "        var display = window.getComputedStyle(gd).display;\n",
       "        if (!display || display === 'none') {{\n",
       "            console.log([gd, 'removed!']);\n",
       "            Plotly.purge(gd);\n",
       "            observer.disconnect();\n",
       "        }}\n",
       "}});\n",
       "\n",
       "// Listen for the removal of the full notebook cells\n",
       "var notebookContainer = gd.closest('#notebook-container');\n",
       "if (notebookContainer) {{\n",
       "    x.observe(notebookContainer, {childList: true});\n",
       "}}\n",
       "\n",
       "// Listen for the clearing of the current output cell\n",
       "var outputEl = gd.closest('.output');\n",
       "if (outputEl) {{\n",
       "    x.observe(outputEl, {childList: true});\n",
       "}}\n",
       "\n",
       "                        })                };                });            </script>        </div>"
      ]
     },
     "metadata": {},
     "output_type": "display_data"
    },
    {
     "data": {
      "text/html": [
       "<div>                            <div id=\"bf071e90-980b-4d66-9490-d23812714ae0\" class=\"plotly-graph-div\" style=\"height:525px; width:700px;\"></div>            <script type=\"text/javascript\">                require([\"plotly\"], function(Plotly) {                    window.PLOTLYENV=window.PLOTLYENV || {};                                    if (document.getElementById(\"bf071e90-980b-4d66-9490-d23812714ae0\")) {                    Plotly.newPlot(                        \"bf071e90-980b-4d66-9490-d23812714ae0\",                        [{\"alignmentgroup\":\"True\",\"bingroup\":\"x\",\"hovertemplate\":\"variable=0\\u003cbr\\u003evalue=%{x}\\u003cbr\\u003ecount=%{y}\\u003cextra\\u003e\\u003c\\u002fextra\\u003e\",\"legendgroup\":\"0\",\"marker\":{\"color\":\"#636efa\",\"pattern\":{\"shape\":\"\"}},\"name\":\"0\",\"offsetgroup\":\"0\",\"orientation\":\"v\",\"showlegend\":true,\"x\":[0.08812634646892548,0.0026441491208970547,-0.07647266983985901,-0.07648462057113647,0.0014701299369335175,-0.08924604207277298,-0.0938391163945198,0.4435005187988281,-0.14164699614048004,0.08621267229318619,-0.13775131106376648,-0.06189880520105362,-0.0454493947327137,-0.11246445029973984,-0.0012896149419248104,0.27594277262687683,-0.13495245575904846,-0.14320778846740723,-0.14063774049282074,0.060021981596946716,0.04332742094993591,-0.15173278748989105,-0.08572474122047424,-0.08956120163202286,-0.13645190000534058,-0.06801392883062363,-0.013040772639214993,-0.1315719485282898,-0.04846987873315811,0.018614016473293304,0.05828540027141571,-0.08777333050966263,-0.1260080337524414,-0.15978625416755676,-0.11543959379196167,0.010668101720511913,-0.1328917294740677,-0.019388901069760323,-0.057776812463998795,-0.08836311101913452,-0.07183671742677689,-0.1400681585073471,0.000802672584541142,-0.023647621273994446,0.023977110162377357,-0.16200360655784607,-0.11959952861070633,-0.15403810143470764,-0.022527655586600304,-0.1635456532239914,-0.12246817350387573,-0.15873558819293976,-0.04326550289988518,0.05653475224971771,-0.14504025876522064,-0.16709652543067932,-0.16852135956287384,-0.1253250688314438,-0.1314309537410736,0.0002341809740755707,-0.007124094292521477,0.3355594873428345,-0.16502320766448975,-0.00311651942320168,-0.12015698105096817,0.3605499863624573,0.0020130586344748735,0.027121635153889656,0.08306983858346939,-0.1209455132484436,-0.0852581262588501,-0.13493023812770844,0.03903055936098099,-0.04139098897576332,-0.07942143827676773,-0.10182711482048035,-0.14825259149074554,-0.008718706667423248,-0.09411237388849258,-0.04999488219618797,0.00963533390313387,-0.14010903239250183,-0.051624201238155365,0.046837691217660904,-0.12076225131750107,-0.12800216674804688,-0.09263155609369278,-0.0026405206881463528,-0.11628614366054535,0.023492969572544098,-0.16426144540309906,-0.027994288131594658,-0.061074499040842056,-0.16998279094696045,-0.1454075276851654,-0.06155760958790779,-0.14258146286010742,-0.025136245414614677,-0.06889545172452927,0.11021421104669571,-0.06796877086162567,0.0008754717418923974,-0.11103900521993637,-0.06246018037199974,-0.10953211039304733,-0.15011203289031982,-0.013657870702445507,-0.1253862977027893,-0.15941159427165985,-0.015122104436159134,-0.07345541566610336,-0.10380621254444122,0.013991327956318855,-0.04941090568900108,-0.1663997918367386,-0.1494012027978897,-0.0378914512693882,-0.056940142065286636,-0.1307525634765625,-0.034902174025774,-0.08028347045183182,-0.13517703115940094,-0.01641593500971794,-0.16759544610977173,-0.16284039616584778,-0.11677905172109604,-0.13536211848258972,0.02136393077671528,0.06386718153953552,-0.14728115499019623,-0.1688549667596817,-0.11344964057207108,-0.12239179760217667,-0.1587991714477539,-0.04983385279774666,0.06140785291790962,-0.1667892336845398,-0.1508498340845108,-0.04827948659658432,-0.08636012673377991,-0.08605581521987915,-0.1586790829896927,-0.08575806021690369,-0.1560107320547104,0.10646384954452515,-0.16149839758872986,-0.024921393021941185,0.10004246234893799,-0.1213628351688385,-0.11078257113695145,-0.1458558440208435,0.03805398568511009,-0.14877864718437195,-0.028772560879588127,0.020180929452180862,-0.12299409508705139,0.035275086760520935,-0.1649155616760254,0.012094884179532528,-0.133294939994812,-0.098577119410038,-0.1698583960533142,0.01046721264719963,-0.14935719966888428,-0.14622150361537933,0.01797071099281311,-0.05998040735721588,-0.11761967837810516,-0.08075066655874252,-0.15896761417388916,-0.027481703087687492,0.013764890842139721,-0.13862337172031403,-0.07477229088544846,-0.13602370023727417,-0.03645436838269234,-0.13819564878940582,-0.08017232269048691,-0.1593363881111145,-0.0804329439997673,0.004610086791217327,0.042882293462753296,-0.15299522876739502,-0.09367069602012634,-0.10166443884372711,-0.09101375937461853,-0.13914188742637634,-0.09815409034490585,-0.06529176235198975,-0.05175390467047691,-0.05635562539100647,-0.07860278338193893,-0.10955198109149933,-0.16056843101978302,-0.0532095804810524,0.10783694684505463,0.14061200618743896,-0.13853755593299866,0.08951341360807419,0.06518685817718506,-0.12806899845600128,0.05438140779733658,-0.1637982577085495,0.013262961991131306,-0.08793788403272629,0.01786181889474392,0.10696694254875183,-0.04971666261553764,0.027756111696362495,-0.11266499012708664,-0.1251944899559021,0.01527448557317257,-0.13767075538635254,-0.02198418229818344,0.044022511690855026,-0.1695885956287384,-0.15559063851833344,-0.11503678560256958,-0.13412225246429443,-0.11256403475999832,-0.1649816334247589,-0.1454458087682724,-0.16760440170764923,-0.1047721803188324,-0.03036976046860218,-0.16939641535282135,-0.0950564593076706,-0.10781260579824448,-0.033388614654541016,-0.02559684030711651,-0.1649872064590454,-0.15227818489074707,0.028104333207011223,-0.15694968402385712,-0.056480489671230316,-0.0732637420296669,-0.01116921566426754,0.060221556574106216,-0.04232548177242279,0.017242085188627243,0.028285754844546318,0.32409948110580444,0.8574598431587219,-0.1534155309200287,0.017673246562480927,0.2355210930109024,0.021132947877049446,-0.13737046718597412,0.04470229521393776,-0.16679756343364716,-0.05476370453834534,-0.07014542073011398,-0.10826229304075241,-0.03183598071336746,0.0008928748429752886,0.045767247676849365,-0.04973810166120529,-0.14214180409908295,-0.044795095920562744,-0.12356529384851456,0.24880971014499664,-0.09736581146717072,-0.1660587191581726,-0.04981761425733566,-0.16546064615249634,-0.11393734812736511,0.005775691010057926,-0.12487100064754486,-0.00650786655023694,0.06068834662437439,-0.09598184376955032,-0.07072868198156357,-0.007121182046830654,-0.13674774765968323,-0.13756798207759857,-0.08554357290267944,-0.14765967428684235,-0.12345326691865921,-0.16634029150009155,-0.1002763956785202,-0.08964493125677109,0.034949176013469696,0.12129689007997513,-0.1224704310297966,-0.0917472392320633,-0.06453156471252441,-0.14036747813224792,-0.05825284123420715,0.1149115040898323,0.13503625988960266,-0.09913741797208786,0.19308431446552277,-0.05095270648598671,-0.15954700112342834,-0.16609075665473938,-0.03944047540426254,-0.08591490983963013,0.28804469108581543,-0.07632274925708771,0.1943824589252472,-0.16977974772453308,-0.045914679765701294,-0.02036486566066742,-0.07907707244157791,-0.054852597415447235,-0.03670220449566841,-0.06031269580125809,-0.16320344805717468,0.026977211236953735,0.10636003315448761,-0.05505254492163658,-0.12800747156143188,0.028508609160780907,-0.14242710173130035,-0.09927809983491898,0.031830258667469025,-0.10572761297225952,-0.1064126119017601,-0.16977721452713013,0.007910475134849548,0.008983542211353779,-0.15265364944934845,-0.1419893056154251,-0.10841994732618332,-0.02744506113231182,-0.02040950022637844,-0.1177646592259407,-0.16650459170341492,-0.16368912160396576,-0.16088923811912537,-0.03951031714677811,0.023570621386170387,-0.15549522638320923,0.042482465505599976,-0.1699911653995514,-0.165712371468544,-0.0064234742894768715,-0.08884259313344955,-0.1646280139684677,-0.0016383357578888535,-0.14958998560905457,0.22153224050998688,-0.12644116580486298,-0.06497414410114288,-0.04583138972520828,-0.10789410769939423,0.3146222233772278,-0.14274591207504272,-0.1575935184955597,-0.05183234065771103,-0.1579812616109848,-0.11523740738630295,0.009544814005494118,-0.131436288356781,-0.049437787383794785,-0.05677841976284981,-0.04311497509479523,0.04255486652255058,-0.11709471791982651,-0.15972241759300232,-0.11285613477230072,-0.06918738037347794,-0.15523561835289001,-0.16670796275138855,-0.08049693703651428,-0.04552008956670761,-0.14242428541183472,0.08897382020950317,0.35935738682746887,-0.01648491993546486,-0.11385087668895721,0.02024869993329048,-0.05570799484848976,0.022367192432284355,-0.11039366573095322,0.16478273272514343,-0.16917169094085693,-0.14121568202972412,-0.03975364565849304,-0.05379553511738777,0.07477205246686935,-0.0989573672413826,-0.16501867771148682,-0.023806581273674965,0.024115486070513725,0.4054587483406067,-0.14496275782585144,-0.11387897282838821,0.030046949163079262,0.1478032022714615,-0.13118983805179596,-0.1547323763370514,0.08845776319503784,-0.0491068996489048,-0.06267785280942917,0.007939457893371582,-0.06274823844432831,-0.1672455072402954,-0.1418827474117279,0.22613979876041412,0.24628153443336487,-0.05183098837733269,-0.043035995215177536,-0.03652326762676239,-0.008894972503185272,-0.1480543464422226,-0.15226390957832336,0.1610255092382431,0.023096535354852676,-0.16760626435279846,-0.04935286194086075,-0.056248366832733154,0.41225430369377136,-0.1388597935438156,-0.09439206123352051,-0.11534327268600464,-0.05817258730530739,0.027298888191580772,0.3189166784286499,-0.1042347252368927,-0.12710018455982208,0.018677087500691414,0.22820812463760376,-0.1074400320649147,-0.0735388696193695,-0.03655662760138512,-0.0642993375658989,0.14766982197761536,-0.04006245359778404,-0.1352446973323822,0.5128424763679504,-0.16498245298862457,0.089503213763237,-0.12406238168478012,-0.012581178918480873,0.10103080421686172,-0.1622399240732193,-0.14501020312309265,-0.1698213815689087,-0.11351187527179718,-0.10348819941282272,0.004948852583765984,-0.04703657329082489,-0.09269508719444275,-0.1583624929189682,-0.09771448373794556,0.0709577351808548,-0.08233142644166946,-0.09161961078643799,-0.16701193153858185,-0.09057288616895676,-0.16288673877716064,-0.03855634480714798,0.11433881521224976,-0.12899844348430634,-0.10287045687437057,-0.15099097788333893,-0.03428203612565994,0.01118764653801918,0.2736838459968567,-0.09855526685714722,-0.15421418845653534,-0.03786338120698929,0.019335100427269936,-0.17003752291202545,-0.1386728733778,-0.16751231253147125,-0.04274684190750122,-0.12662634253501892,-0.10819637030363083,-0.14852549135684967,-0.10085716843605042,-0.07563330978155136,-0.11927436292171478,-0.10278855264186859,-0.16279928386211395,-0.03257907181978226,-0.11009553074836731,0.10097747296094894,0.08878778666257858,-0.12931521236896515,-0.1135435551404953,0.020960219204425812,0.12157336622476578,-0.07803627848625183,-0.12808169424533844,0.05852441489696503,-0.0417804941534996,0.021049031987786293,-0.0033112100791186094,-0.0322004035115242,0.30526912212371826,0.019124293699860573,-0.01803314872086048,-0.14261063933372498,0.11467723548412323,0.015146343037486076,-0.16089117527008057,-0.16793981194496155,-0.16572465002536774,-0.0317995510995388,-0.15830755233764648,-0.05877019837498665,0.06187193840742111,-0.12851116061210632,-0.15024016797542572,-0.00979138445109129,0.12837670743465424,-0.011420397087931633,-0.10481240600347519,-0.14858393371105194,-0.06400208175182343,-0.07542222738265991,-0.05459212884306908,-0.07635533809661865,-0.14649230241775513,-0.16930119693279266,-0.12139778584241867,-0.11707235872745514,-0.15897177159786224,-0.12151005119085312,0.03598089888691902,-0.1473316252231598,-0.058786578476428986,0.08240724354982376,-0.03692209720611572,-0.08550848811864853,-0.08647332340478897,0.436537504196167,-0.10970580577850342,-0.12304171174764633,-0.029322855174541473,0.06628863513469696,-0.15769945085048676,-0.15254901349544525,0.2338751256465912,-0.16708390414714813,0.014284339733421803,-0.04115182161331177,-0.1490185707807541,-0.10407479107379913,-0.08470634371042252,0.014546072110533714,-0.14256536960601807,-0.03407362475991249,0.09890840947628021,-0.1599704623222351,-0.0504465252161026,-0.14605791866779327,-0.042407456785440445,-0.07852209359407425,-0.045684076845645905,-0.008090919815003872,0.3180292248725891,-0.06436645239591599,-0.07614445686340332,-0.030328596010804176,0.02195827104151249,-0.1684194654226303,-0.06582184880971909,-0.013519277796149254,-0.1679164171218872,-0.04557814821600914,-0.019912706688046455,-0.07431139796972275,-0.028919914737343788,0.028980471193790436,0.06797047704458237,0.03417201340198517,0.03911660611629486,0.21602848172187805,0.031130343675613403,-0.11223194748163223,0.010764464735984802,0.05509115383028984,-0.11215078085660934,-0.15404018759727478,-0.08459609001874924,0.00011592265946092084,0.21224232017993927,0.4483763873577118,-0.10239239037036896,-0.10032367706298828,0.0025500585325062275,-0.057016294449567795,-0.11712542921304703,-0.12742899358272552,-0.012245145626366138,-0.043857377022504807,-0.1516512632369995,-0.12734590470790863,-0.12540552020072937,-0.08959780633449554,0.0043794563971459866,-0.04133922979235649,-0.08472752571105957,-0.15696413815021515,-0.09404724836349487,-0.13839401304721832,0.3705585300922394,-0.15734997391700745,-0.1203407421708107,-0.001991051249206066,-0.0435095839202404,0.19397905468940735,0.10516607761383057,-0.13765250146389008,-0.0867522656917572,-0.021566884592175484,0.011463331989943981,-0.14055104553699493,-0.13784360885620117,-0.10701712220907211,-0.08391167223453522,-0.015335673466324806,-0.05470271408557892,-0.16902904212474823,-0.1435481756925583,-0.15751339495182037,-0.0373510979115963,-0.14244352281093597,-0.15115191042423248,-0.05524188652634621,-0.02933618053793907,-0.1699877828359604,-0.11009903252124786,-0.16708749532699585,-0.14737461507320404,-0.14639286696910858,-0.07509087771177292,-0.10340268909931183,0.05217207968235016,-0.16431038081645966,-0.16841411590576172,-0.13311919569969177,-0.13016988337039948,-0.08493302762508392,-0.040227096527814865,-0.11411475390195847,-0.010775784961879253,-0.16622678935527802,-0.09997875988483429,-0.15162700414657593,0.0005044222343713045,0.05118357762694359,-0.16952615976333618,-0.14475487172603607,-0.10369044542312622,-0.11645859479904175,-0.011991901323199272,-0.12670230865478516,-0.10995021462440491,-0.15027134120464325,-0.044316843152046204,0.01660013385117054,0.19290731847286224,-0.08172939717769623,-0.1235511377453804,-0.1449345052242279,-0.04532072693109512,0.03244929015636444,-0.13539405167102814,-0.14101262390613556,-0.14959070086479187,0.3820876479148865,-0.09376951307058334,-0.06882034242153168,0.1354428380727768,-0.10200437903404236,-0.07713210582733154,0.3524951934814453,-0.08484799414873123,-0.1033090204000473,-0.1023329421877861,-0.11763422936201096,0.008957701735198498,-0.0022814145777374506,0.0730593279004097,-0.13450077176094055,0.00964176096022129,-0.1224900409579277,0.06184444576501846,-0.15558525919914246,-0.1521264612674713,-0.11812937259674072,0.006075508426874876,-0.15741151571273804,-0.09776470810174942,-0.1368095576763153,-0.030189882963895798,0.020241117104887962,-0.08209126442670822,-0.057393476366996765,-0.08302503824234009,-0.15058934688568115,-0.1399943083524704,-0.03994297981262207,-0.006747835781425238,-0.049847230315208435,-0.1167788878083229,-0.13590049743652344,-0.1596486121416092,-0.16946309804916382,0.16329345107078552,-0.1469198316335678,-0.0338524766266346,0.11861222237348557,-0.14670945703983307,-0.10075274109840393,-0.15769676864147186,-0.14162041246891022,-0.03828650712966919,-0.16328950226306915,-0.00467270752415061,-0.0887480080127716,-0.11401652544736862,-0.12491611391305923,-0.12939122319221497,-0.05834191292524338,-0.15384942293167114,0.140289768576622,-0.15212708711624146,-0.0021689007990062237,-0.11218356341123581,-0.021177111193537712,-0.023167770355939865,-0.14205482602119446,-0.08328985422849655,-0.11508051306009293,0.16197285056114197,-0.1664091944694519,-0.027284691110253334,-0.018206492066383362,-0.14314508438110352,0.001330229570157826,-0.1096063181757927,0.014508973807096481,-0.07518088817596436,-0.12860533595085144,-0.1545722335577011,0.0010951514123007655,-0.1700332760810852,-0.1660037338733673,-0.06070035323500633,-0.15562771260738373,-0.15919378399848938,0.004616973455995321,-0.09553256630897522,-0.0706692785024643,-0.16546808183193207,-0.13977403938770294,-0.02012176811695099,0.027070922777056694,0.08662660419940948,-0.1508939117193222,-0.1622423380613327,-0.1683102548122406,-0.11731942743062973,-0.16997858881950378,-0.15921059250831604,0.0016629896126687527,-0.16960927844047546,-0.06224857643246651,-0.1576434224843979,-0.029061391949653625,0.01219624001532793,-0.14330808818340302,-0.1690630465745926,0.040914054960012436,-0.025073518976569176,-0.07745563983917236,-0.018628813326358795,-0.16998155415058136,-0.015594438649713993,-0.16974428296089172,-0.1595800668001175,-0.12683649361133575,-0.15864109992980957,-0.05397341027855873,-0.1029961109161377,-0.1700184941291809,-0.16173724830150604,-0.1628747433423996,-0.13018342852592468,-0.05396203324198723,-0.07069803029298782,-0.14648588001728058,-0.1477201282978058,-0.17004048824310303,-0.15401744842529297,-0.1569346934556961,-0.16900305449962616,-0.13192176818847656,-0.040165770798921585,-0.018352610990405083,-0.12229710817337036,-0.16571329534053802,-0.08465879410505295,-0.14931398630142212,-0.12883935868740082,-0.03771912306547165,-0.11469797790050507,-0.1692228764295578,-0.15055212378501892,-0.024757320061326027,-0.14052405953407288,-0.00033984045148827136,-0.03187856823205948,-0.15944071114063263,-0.14719246327877045,-0.03502446413040161,-0.16851304471492767,-0.052328258752822876,-0.08238022774457932,-0.009467972442507744,-0.13895359635353088,-0.1662616729736328,-0.1551065295934677,-0.16315996646881104,-0.12398606538772583,-0.028348471969366074,-0.1442594826221466,-0.09956759959459305,-0.13066092133522034,-0.16336868703365326,-0.038999754935503006,-0.15320195257663727,-0.15151968598365784,0.0010466863168403506,0.07996433973312378,-0.1561610996723175,-0.1238165944814682,-0.16077814996242523,-0.015881028026342392,-0.15808095037937164,-0.04764236882328987,-0.16296422481536865,-0.10929319262504578,-0.11516379565000534,-0.1601291447877884,-0.014252470806241035,-0.04799681529402733,-0.16057351231575012,-0.16481240093708038,-0.09660094231367111,-0.1538105458021164,-0.09330658614635468,-0.042605046182870865,-0.15999239683151245,-0.12215033173561096,-0.15831641852855682,-0.12569914758205414,0.07690948247909546,-0.051279835402965546,-0.1430591344833374,-0.008680291473865509,-0.0035868296399712563,-0.003828863613307476,0.06760508567094803,-0.142403244972229,-0.13680399954319,-0.15233127772808075,0.05993156135082245,-0.1170620247721672,-0.11244401335716248,-0.09226854890584946,-0.11050880700349808,-0.05647438392043114,-0.07170127332210541,-0.09894391894340515,-0.033198755234479904,-0.11758733540773392,-0.14201529324054718,0.029582161456346512,0.04861440882086754,-0.030439045280218124,-0.16712643206119537,-0.14649556577205658,-0.161208838224411,-0.09947815537452698,-0.11312179267406464,-0.10895805060863495,-0.016436126083135605,-0.0022484271321445704,0.04121626541018486,-0.16999584436416626,-0.1695241630077362,-0.08684530109167099,-0.14143326878547668,-0.11630788445472717,0.05876753479242325,-0.08035669475793839,-0.11039432883262634,-0.16832344233989716,-0.09862916171550751,-0.1104855164885521,-0.018861006945371628,0.1519753485918045,-0.13327433168888092,-0.17002038657665253,-0.16591084003448486,-0.10376276820898056,0.06541602313518524,-0.0830736830830574,-0.139827162027359,-0.09906650334596634,-0.003517430042847991,-0.012771849520504475,-0.039800096303224564,0.30844494700431824,-0.09526807069778442,0.03238646313548088,-0.09881442785263062,-0.07862116396427155,-0.1641935557126999,-0.1570938527584076,-0.009025362320244312,-0.014186510816216469,-0.01498302724212408,-0.008349746465682983,0.18103624880313873,-0.16244371235370636,-0.019051777198910713,-0.1634751707315445,-0.15304844081401825,-0.14027296006679535,-0.16539090871810913,-0.07300595939159393,-0.14006274938583374,-0.1641121208667755,-0.07814304530620575,0.07160942256450653,-0.11059213429689407,-0.1590312272310257,-0.017361614853143692,0.03559478744864464,-0.11387127637863159,0.028370503336191177,-0.0824943333864212,-0.13340896368026733,-0.10654249042272568,-0.1156119704246521,-0.07484757900238037,0.010735668241977692,-0.09238588809967041,-0.08191865682601929,0.16342312097549438,0.07001829147338867,-0.002622248139232397,0.03046499937772751,-0.09263233840465546,-0.04687564820051193,-0.056867968291044235,-0.165024071931839,-0.14098243415355682,-0.16362982988357544,-0.16953539848327637,-0.1193801760673523,-0.14746014773845673,-0.06578465551137924,-0.16818928718566895,-0.10892730951309204,-0.04520682618021965,-0.16682159900665283,-0.08878504484891891,-0.06317397207021713,-0.14794504642486572,-0.0718935877084732,-0.15732231736183167,-0.06153920665383339,-0.10137762129306793,-0.15388020873069763,-0.013639658689498901,-0.16758817434310913,-0.14095203578472137,-0.13677391409873962,-0.008277645334601402,-0.0973069816827774,-0.08790964633226395,-0.08911383897066116,-0.09768851101398468,-0.1671382188796997,-0.1661599725484848,-0.16629445552825928,-0.1695975810289383,-0.1388368308544159,-0.16953545808792114,-0.15673846006393433,-0.09638995677232742,-0.10904806852340698,-0.062491338700056076,-0.16951166093349457,-0.023465704172849655,0.02720548026263714,0.03369508683681488,0.0643690824508667,-0.15709179639816284,-0.14832885563373566,-0.11110188066959381,-0.020632825791835785,-0.11879932135343552,0.134006530046463,-0.12576432526111603,-0.13825586438179016,-0.1629338413476944,-0.16196241974830627,0.01962602138519287,0.001337552908807993,-0.1447465717792511,-0.1650543212890625,-0.15372037887573242,-0.12037334591150284,-0.144224613904953,-0.16879887878894806,-0.10964114964008331,-0.161772221326828,-0.16252700984477997,-0.08932025730609894,-0.16057337820529938,-0.12743207812309265,-0.018196122720837593,-0.10272087901830673,-0.16052564978599548,-0.16463012993335724,-0.09894267469644547,-0.07575058937072754,-0.167676642537117,-0.018587281927466393,0.04849817976355553,-0.1661948412656784,-0.13842251896858215,-0.16296717524528503,-0.16933627426624298,-0.12706591188907623,-0.06627310812473297,-0.041119225323200226,-0.1274222880601883,-0.1700258105993271,-0.0014923714334145188,0.030528835952281952,-0.14965620636940002,-0.015317291021347046,0.07405604422092438,0.0704708993434906,-0.1398685872554779,-0.16318826377391815,-0.14374053478240967,-0.11257796734571457,-0.029973050579428673,-0.0863693356513977,-0.08552804589271545,-0.1575879603624344,-0.09962578862905502,-0.1628883332014084,-0.051247261464595795,-0.1233033612370491,-0.15628787875175476,-0.14926955103874207,-0.14249971508979797,-0.13158822059631348,-0.11966485530138016,-0.138545960187912,-0.045416101813316345,-0.04864656180143356,-0.04177223891019821,-0.14622178673744202,-0.10480562597513199,-0.14524462819099426,-0.12028269469738007,-0.12361178547143936,-0.12381324172019958,-0.04280966520309448,0.04830113798379898,-0.12432333827018738,-0.1556069701910019,-0.16480033099651337,-0.017023282125592232,-0.03493108972907066,0.10032060742378235,-0.08229011297225952,-0.0083437729626894,0.08566251397132874,-0.16825637221336365,-0.1401890069246292,-0.1512347012758255,-0.10735558718442917,-0.1327572762966156,-0.12034042924642563,-0.1559908241033554,-0.11043281853199005,-0.04613818600773811,-0.12137912958860397,-0.019329195842146873,0.08025145530700684,0.07776347547769547,-0.12460903078317642,-0.1410035341978073,-0.169755756855011,-0.10240563750267029,-0.08610720187425613,0.059025779366493225,-0.10894191265106201,-0.14641328155994415,0.3699781000614166,-0.1530243456363678,0.06299130618572235,0.0875798836350441,-0.16212864220142365,-0.027161521837115288,-0.0982108935713768,-0.1662410944700241,-0.07012192159891129,-0.16257962584495544,-0.09874258935451508,-0.054779503494501114,0.012814944609999657,-0.0734824538230896,-0.16938602924346924,-0.1321069449186325,-0.16559085249900818,-0.11232352256774902,-0.04466632381081581,-0.09823130071163177,-0.13310270011425018,-0.033015113323926926,-0.0904015302658081,-0.08588195592164993,-0.159577876329422,-0.10554235428571701,-0.12246439605951309,0.0574566014111042,-0.11253563314676285,-0.07880549877882004,-0.04977242648601532,-0.05264151096343994,-0.15909649431705475,-0.033029526472091675,-0.1418919861316681,-0.1111142709851265,-0.09536638855934143,-0.0653579905629158,-0.04727322980761528,-0.01898929476737976,-0.13803322613239288,-0.11571090668439865,-0.024950746446847916,-0.050226278603076935,-0.095555879175663,0.04855717718601227,-0.16880807280540466,-0.16817761957645416,-0.1553225964307785,0.015229922719299793,0.007727752905339003,-0.15963801741600037,-0.12234565615653992,-0.08362811803817749,-0.10511806607246399,-0.10530006885528564,-0.12617112696170807,-0.104635089635849,-0.018777789548039436,-0.13924267888069153,-0.04798651486635208,0.05770767480134964,-0.14690537750720978,-0.12983646988868713,-0.14230889081954956,-0.1177009716629982,-0.08576074242591858,-0.14455044269561768,-0.13463248312473297,-0.1573449820280075,-0.03988509625196457,-0.0621708407998085,-0.10684394836425781,-0.16809357702732086,-0.15909087657928467,-0.03742532804608345,-0.1648726612329483,-0.11608760058879852,-0.03559409826993942,-0.1469058096408844,-0.04306675121188164,0.01833174005150795,-0.16072696447372437,-0.165315642952919,-0.1428888440132141,-0.1096886545419693,-0.14600777626037598,-0.040495581924915314,-0.15655887126922607,-0.054142504930496216,-0.051652174443006516,-0.07880869507789612,-0.1195690706372261,-0.10254473984241486,0.5310710668563843,-0.13206616044044495,0.053157541900873184,-0.07437075674533844,0.01969347707927227,-0.09127412736415863,-0.0061241756193339825,-0.06535841524600983,-0.15878093242645264,-0.10390187054872513,-0.16377447545528412,-0.13183772563934326,-0.03433234617114067,-0.13907966017723083,0.0023661714512854815,0.01147950254380703,-0.08228254318237305,-0.16939423978328705,-0.15636558830738068,-0.07242769002914429,-0.16757234930992126,-0.13377046585083008,-0.042884886264801025,-0.16600914299488068,0.0025309771299362183,-0.006403506733477116,-0.14975528419017792,-0.16881445050239563,-0.11341901868581772,-0.0839863121509552,-0.16678453981876373,-0.11819986999034882,-0.0954837054014206,-0.16282455623149872,-0.07166537642478943,-0.008864088915288448,-0.12233138829469681,0.07331889867782593,0.07517082989215851,-0.16743192076683044,-0.1594591587781906,-0.16238243877887726,-0.03395802527666092,-0.11596780270338058,-0.14775586128234863,-0.049620386213064194,-0.04348262771964073,-0.04394299164414406,-0.14445999264717102,-0.15696771442890167,-0.15769565105438232,-0.05036117136478424,-0.1495692878961563,-0.14521780610084534,-0.053394872695207596,-0.0170135535299778,-0.12651272118091583,0.06404819339513779,-0.16765955090522766,-0.12687617540359497,-0.12424706667661667,-0.08696145564317703,-0.1684992015361786,-0.013906443491578102,0.029696762561798096,-0.0746133029460907,-0.1413908302783966,-0.1313532292842865,-0.12813548743724823,-0.06076139956712723,-0.08694066852331161,-0.13192088901996613,-0.042275238782167435,0.1357256919145584,0.28691476583480835,0.01579855941236019,0.20958538353443146,0.07742926478385925,-0.0736984983086586,0.05978306382894516,0.23037753999233246,0.05677570402622223,-0.07054822891950607,0.013426386751234531,-0.1307365447282791,0.28513333201408386,-0.10456584393978119,-0.012225220911204815,-0.009484382346272469,-0.1697901040315628,-0.16820381581783295,-0.09844069182872772,-0.13797970116138458,-0.16947217285633087,-0.12438186258077621,-0.10666058212518692,-0.11395151913166046,-0.16998440027236938,-0.16364982724189758,-0.16328653693199158,-0.01673138327896595,0.080916628241539,-0.15679796040058136,-0.16478733718395233,-0.16825684905052185,-0.15098343789577484,-0.12204928696155548,-0.011533096432685852,-0.1456313282251358,-0.166639044880867,-0.05529330298304558,-0.09615661948919296,-0.10303498804569244,-0.11425294727087021,-0.1674671769142151,-0.16997741162776947,-0.16665711998939514,-0.1116304025053978,0.0055606854148209095,0.06023368239402771,-0.1700369119644165,-0.1353234499692917,-0.13434793055057526,-0.06864998489618301,-0.1587270349264145,-0.016604436561465263,-0.10109810531139374,-0.10717469453811646,0.5086642503738403,-0.14919432997703552,-0.06563889980316162,0.0227705966681242,-0.14384795725345612,-0.10680542886257172,-0.12216676771640778,-0.16993682086467743,-0.1331445276737213,-0.028011862188577652,-0.1008099615573883,-0.11101678013801575,-0.13219989836215973,-0.12510351836681366,0.44368788599967957,-0.04180789366364479,-0.16418901085853577,-0.034838173538446426,-0.15408563613891602,-0.08720926195383072,-0.15169841051101685,-0.1452477127313614,-0.11236618459224701,-0.11781252175569534,-0.1495441198348999,-0.031056104227900505,-0.12590542435646057,-0.127151757478714,-0.16485123336315155,-0.01171114668250084,-0.057387545704841614,0.1514817625284195,0.10030119121074677,-0.12637610733509064,-0.1257375329732895,-0.15361350774765015,-0.061790529638528824,-0.08687739819288254,-0.04843311756849289,-0.04995623975992203,-0.09897950291633606,-0.013770915567874908,-0.04310355708003044,-0.11614275723695755,-0.12317194789648056,-0.1565096080303192,-0.07975400239229202,-0.07775454223155975,-0.1657107025384903,-0.1475701779127121,-0.1618131697177887,-0.0984649583697319,-0.033145010471343994,-0.11220607161521912,-0.16567546129226685,-0.053406208753585815,-0.03285827487707138,0.12815766036510468,-0.10076340287923813,-0.12673059105873108,-0.13366948068141937,-0.06044812500476837,-0.08078949898481369,-0.16993001103401184,-0.06716636568307877,-0.13248001039028168,-0.15651200711727142,-0.11798606812953949,-0.13702131807804108,-0.16946667432785034,-0.06413207203149796,-0.1699940413236618,-0.12166914343833923,-0.1638721227645874,-0.017855094745755196,-0.08152586966753006,-0.14829517900943756,-0.1311739832162857,-0.05830787867307663,-0.1242370456457138,-0.12209897488355637,-0.1569780558347702,-0.07747366279363632,-0.030387811362743378,-0.11693225055932999,0.3403262794017792,0.8454357981681824,-0.11035272479057312,-0.08518577367067337,-0.12266429513692856,-0.09497654438018799,-0.01519736833870411,-0.043832823634147644,-0.029034633189439774,-0.033280011266469955,-0.16203679144382477,-0.0781300738453865,-0.13460400700569153,-0.09895142167806625,0.11943642050027847,0.046242184937000275,-0.08087705820798874,-0.0979357585310936,0.029979296028614044,-0.14597341418266296,-0.04065560922026634,-0.011912044137716293,-0.06013334542512894,0.12092527747154236,-0.05591302365064621,-0.0385705791413784,-0.13727179169654846,-0.15611882507801056,-0.08576358109712601,-0.04972859472036362,-0.12278878688812256,-0.01672220230102539,-0.08420350402593613,0.2385149896144867,-0.13649772107601166,-0.05316510051488876,0.07920487970113754,-0.08386395126581192,-0.07413208484649658,0.16669152677059174,-0.16438516974449158,0.004375159740447998,-0.037581685930490494,-0.07975685596466064,-0.03869085758924484,0.0218049343675375,-0.10867971181869507,-0.15431709587574005,-0.07090899348258972,0.038083385676145554,-0.06438545882701874,-0.08837283402681351,0.02084898203611374,-0.021113479509949684,-0.09750989824533463,-0.15565910935401917,-0.12678836286067963,-0.07375513017177582,-0.09162271022796631,-0.1217440813779831,-0.16669835150241852,-0.05053669586777687,-0.06465364247560501,-0.1294693946838379,-0.11406806111335754,-0.045710038393735886,-0.13778901100158691,-0.16426223516464233,-0.11464574187994003,-0.05853262543678284,-0.08780203759670258,-0.14014789462089539,-0.02564709633588791,-0.16007380187511444,-0.13948503136634827,-0.10486499965190887,-0.056694336235523224,-0.14386138319969177,-0.16611994802951813,-0.12253250181674957,-0.051627423614263535,-0.11956615746021271,-0.1401325911283493,0.4350478947162628,-0.0619986467063427,-0.15384991466999054,0.011732841841876507,-0.09614256769418716,-0.16258497536182404,-0.0004214125801809132,-0.10140655934810638,0.2849220633506775,-0.1628430038690567,0.057959359139204025,-0.15712007880210876,-0.02051178179681301,-0.11802682280540466,0.021181544288992882,-0.053086504340171814,-0.15970399975776672,-0.11627079546451569,-0.03883097693324089,-0.1674642413854599,-0.10331984609365463,-0.005241870414465666,-0.05902230367064476,-0.13932478427886963,-0.03193017840385437,-0.13866490125656128,-0.14031487703323364,-0.02633182518184185,-0.12314426898956299,0.04215001314878464,-0.15926244854927063,-0.11512260884046555,0.06031786650419235,-0.16589130461215973,0.02564462274312973,-0.08867348730564117,-0.1222478374838829,-0.12231559306383133,-0.028549348935484886,-0.09612677991390228,-0.08697198331356049,-0.16520144045352936,-0.08750928193330765,-0.039093296974897385,-0.13410420715808868,0.040668923407793045,-0.15615688264369965,-0.16074180603027344,-0.15498222410678864,-0.13680869340896606,-0.15334762632846832,-0.12148313969373703,-0.05739671364426613,-0.11344882100820541,-0.13135462999343872,0.008296523243188858,-0.13900478184223175,-0.043409109115600586,-0.09143742173910141,-0.06315720081329346,-0.10362162441015244,-0.10995163768529892,-0.13392171263694763,-0.14736558496952057,-0.03199905529618263,-0.046445347368717194,0.26519984006881714,-0.16647975146770477,-0.0070059108547866344,-0.13703811168670654,-0.13867072761058807,-0.12616896629333496,-0.1636350452899933,-0.13538497686386108,-0.0838954746723175,-0.15650005638599396,0.006111128721386194,-0.08517003059387207,-0.13295817375183105,-0.11908397823572159,0.04073447734117508,-0.03099742718040943,-0.10522790253162384,0.02119629830121994,0.16418229043483734,0.05027620121836662,-0.01376002561300993,-0.14897237718105316,-0.0039011461194604635,0.06181444227695465,0.02359660528600216,-0.12546388804912567,-0.15838328003883362,-0.11842183768749237,-0.12074674665927887,-0.0572243370115757,0.011598696000874043,0.021805161610245705,0.1567261517047882,-0.006146824453026056,0.08482608944177628,-0.10009155422449112,-0.01943136379122734,0.021275732666254044,-0.043815188109874725,-0.11778870224952698,0.01325203012675047,-0.11676077544689178,-0.1695122867822647,-0.10582001507282257,0.0969448983669281,-0.1330491304397583,-0.1454986035823822,-0.0601963996887207,-0.13972628116607666,-0.11604470759630203,-0.1628553420305252,-0.12524479627609253,-0.004521421156823635,-0.07658428698778152,-0.14756925404071808,-0.12496915459632874,-0.03954755887389183,-0.10063201934099197,-0.1566908210515976,-0.0816449448466301,-0.04953642562031746,-0.12756982445716858,0.006754797417670488,-0.16742746531963348,-0.07082495838403702,-0.15045785903930664,-0.14037396013736725,-0.14418764412403107,-0.14952388405799866,-0.026384074240922928,-0.041798535734415054,-0.07150699943304062,-0.15311577916145325,-0.08364439755678177,-0.1557803601026535,-0.1075173169374466,-0.08613432198762894,-0.13285446166992188,-0.0010313136735931039,0.0633816197514534,-0.038838665932416916,-0.16567543148994446,-0.1000397652387619,-0.14935734868049622,0.04988977313041687,0.09414662420749664,-0.09701071679592133,0.11467496305704117,0.009076991118490696,-0.16119389235973358,-0.020750004798173904,-0.05371347442269325,-0.15018153190612793,-0.08656417578458786,-0.1691356897354126,-0.01732899807393551,-0.16998791694641113,-0.1550370156764984,-0.1668013632297516,-0.03907133266329765,0.02593296580016613,-0.15180256962776184,0.04349576681852341,0.02094237506389618,-0.16577346622943878,-0.13420523703098297,-0.1692773699760437,-0.16750717163085938,-0.16061662137508392,-0.07771915942430496,0.012666777707636356,-0.031749870628118515,-0.07485298067331314,-0.1451636105775833,0.019376875832676888,-0.13899731636047363,-0.04808834195137024,-0.1627047061920166,-0.1644359529018402,-0.07650039345026016,0.001966919517144561,-0.06533175706863403,-0.1450561136007309,-0.057496875524520874,-0.023808619007468224,-0.05813801288604736,0.06611941754817963,-0.16516457498073578,-0.0411408431828022,0.0636175349354744,-0.11710464209318161,-0.01115561556071043,-0.1689145714044571,-0.1698266565799713,-0.1549815535545349,-0.15305756032466888,-0.119517982006073,-0.15765994787216187,-0.10936427116394043,-0.058607593178749084,-0.09362651407718658,-0.13410761952400208,-0.031994130462408066,-0.15077894926071167,-0.030473873019218445,-0.03757065534591675,-0.16878509521484375,-0.04246688261628151,0.005032175686210394,-0.15693652629852295,-0.1227550283074379,-0.10659807920455933,-0.02220873162150383,0.14456455409526825,-0.12418213486671448,-0.14815330505371094,-0.1673101782798767,-0.13719429075717926,0.03363340348005295,-0.148751899600029,-0.1412026435136795,-0.169490247964859,-0.1439431607723236,-0.0027265576645731926,-0.15099047124385834,-0.15181758999824524,-0.1466597616672516,-0.16999652981758118,-0.03895042836666107,-0.11828844249248505,-0.15524455904960632,-0.10352350771427155,-0.11197298020124435,-0.16571618616580963,-0.12302932888269424,0.027166152372956276,-0.05570068210363388,-0.16601160168647766,-0.09853047877550125,-0.16307953000068665,-0.16994573175907135,-0.03286527097225189,-0.06253848969936371,-0.16168378293514252,-0.1662289947271347,-0.04155751317739487,-0.1699456423521042,-0.14940409362316132,-0.08235478401184082,-0.14702525734901428,-0.06972157210111618,-0.12881310284137726,-0.15818452835083008,-0.016191426664590836,-0.16599662601947784,-0.1293821930885315,-0.12889225780963898,-0.029307378455996513,-0.16248160600662231,-0.1649838238954544,-0.10894979536533356,-0.03130337968468666,-0.0900997444987297,-0.09719988703727722,-0.15901555120944977,-0.09104286879301071,-0.10870703309774399,-0.09421850740909576,-0.09844744950532913,-0.1439862847328186,-0.038481514900922775,0.06985865533351898,-0.16621801257133484,-0.13912926614284515,-0.1694900542497635,-0.1675584614276886,-0.09032586216926575,-0.10165996104478836,-0.11768388748168945,-0.14006826281547546,-0.1603635996580124,-0.1300196647644043,-0.11576779931783676,-0.07201646268367767,-0.15353591740131378,-0.0893702283501625,-0.01196079421788454,-0.03638983517885208,-0.019615095108747482,0.06251965463161469,-0.15075044333934784,-0.13888831436634064,-0.06364398449659348,-0.08819293975830078,-0.09349947422742844,0.039645105600357056,-0.07654401659965515,-0.16933326423168182,-0.04235171154141426,-0.1574372500181198,-0.10164481401443481,-0.010238372720777988,-0.14807721972465515,-0.15634304285049438,-0.16452588140964508,-0.010547430254518986,-0.029145201668143272,-0.1565690040588379,-0.12932893633842468,-0.15981115400791168,0.024806130677461624,-0.0335594117641449,-0.130777046084404,-0.14079798758029938,-0.13770903646945953,-0.10812855511903763,-0.07378189265727997,-0.004048274364322424,0.0799640491604805,-0.15888462960720062,-0.15460500121116638,-0.13000452518463135,-0.1632501482963562,-0.16998390853405,-0.16405296325683594,-0.03221634402871132,-0.12258239835500717,0.0945877879858017,0.03555813804268837,-0.16894039511680603,-0.16882522404193878,-0.16626843810081482,-0.15735428035259247,-0.05171388387680054,-0.11218488216400146,-0.14493507146835327,-0.059927769005298615,-0.029738793149590492,-0.08107395470142365,-0.13145071268081665,0.011073863133788109,-0.08751390874385834,0.02458597719669342,-0.04406897723674774,-0.04491950199007988,-0.06262415647506714,-0.11741822212934494,-0.11269412934780121,-0.1262747198343277,-0.10612886399030685,-0.03026125393807888],\"xaxis\":\"x\",\"yaxis\":\"y\",\"type\":\"histogram\"}],                        {\"template\":{\"data\":{\"histogram2dcontour\":[{\"type\":\"histogram2dcontour\",\"colorbar\":{\"outlinewidth\":0,\"ticks\":\"\"},\"colorscale\":[[0.0,\"#0d0887\"],[0.1111111111111111,\"#46039f\"],[0.2222222222222222,\"#7201a8\"],[0.3333333333333333,\"#9c179e\"],[0.4444444444444444,\"#bd3786\"],[0.5555555555555556,\"#d8576b\"],[0.6666666666666666,\"#ed7953\"],[0.7777777777777778,\"#fb9f3a\"],[0.8888888888888888,\"#fdca26\"],[1.0,\"#f0f921\"]]}],\"choropleth\":[{\"type\":\"choropleth\",\"colorbar\":{\"outlinewidth\":0,\"ticks\":\"\"}}],\"histogram2d\":[{\"type\":\"histogram2d\",\"colorbar\":{\"outlinewidth\":0,\"ticks\":\"\"},\"colorscale\":[[0.0,\"#0d0887\"],[0.1111111111111111,\"#46039f\"],[0.2222222222222222,\"#7201a8\"],[0.3333333333333333,\"#9c179e\"],[0.4444444444444444,\"#bd3786\"],[0.5555555555555556,\"#d8576b\"],[0.6666666666666666,\"#ed7953\"],[0.7777777777777778,\"#fb9f3a\"],[0.8888888888888888,\"#fdca26\"],[1.0,\"#f0f921\"]]}],\"heatmap\":[{\"type\":\"heatmap\",\"colorbar\":{\"outlinewidth\":0,\"ticks\":\"\"},\"colorscale\":[[0.0,\"#0d0887\"],[0.1111111111111111,\"#46039f\"],[0.2222222222222222,\"#7201a8\"],[0.3333333333333333,\"#9c179e\"],[0.4444444444444444,\"#bd3786\"],[0.5555555555555556,\"#d8576b\"],[0.6666666666666666,\"#ed7953\"],[0.7777777777777778,\"#fb9f3a\"],[0.8888888888888888,\"#fdca26\"],[1.0,\"#f0f921\"]]}],\"heatmapgl\":[{\"type\":\"heatmapgl\",\"colorbar\":{\"outlinewidth\":0,\"ticks\":\"\"},\"colorscale\":[[0.0,\"#0d0887\"],[0.1111111111111111,\"#46039f\"],[0.2222222222222222,\"#7201a8\"],[0.3333333333333333,\"#9c179e\"],[0.4444444444444444,\"#bd3786\"],[0.5555555555555556,\"#d8576b\"],[0.6666666666666666,\"#ed7953\"],[0.7777777777777778,\"#fb9f3a\"],[0.8888888888888888,\"#fdca26\"],[1.0,\"#f0f921\"]]}],\"contourcarpet\":[{\"type\":\"contourcarpet\",\"colorbar\":{\"outlinewidth\":0,\"ticks\":\"\"}}],\"contour\":[{\"type\":\"contour\",\"colorbar\":{\"outlinewidth\":0,\"ticks\":\"\"},\"colorscale\":[[0.0,\"#0d0887\"],[0.1111111111111111,\"#46039f\"],[0.2222222222222222,\"#7201a8\"],[0.3333333333333333,\"#9c179e\"],[0.4444444444444444,\"#bd3786\"],[0.5555555555555556,\"#d8576b\"],[0.6666666666666666,\"#ed7953\"],[0.7777777777777778,\"#fb9f3a\"],[0.8888888888888888,\"#fdca26\"],[1.0,\"#f0f921\"]]}],\"surface\":[{\"type\":\"surface\",\"colorbar\":{\"outlinewidth\":0,\"ticks\":\"\"},\"colorscale\":[[0.0,\"#0d0887\"],[0.1111111111111111,\"#46039f\"],[0.2222222222222222,\"#7201a8\"],[0.3333333333333333,\"#9c179e\"],[0.4444444444444444,\"#bd3786\"],[0.5555555555555556,\"#d8576b\"],[0.6666666666666666,\"#ed7953\"],[0.7777777777777778,\"#fb9f3a\"],[0.8888888888888888,\"#fdca26\"],[1.0,\"#f0f921\"]]}],\"mesh3d\":[{\"type\":\"mesh3d\",\"colorbar\":{\"outlinewidth\":0,\"ticks\":\"\"}}],\"scatter\":[{\"fillpattern\":{\"fillmode\":\"overlay\",\"size\":10,\"solidity\":0.2},\"type\":\"scatter\"}],\"parcoords\":[{\"type\":\"parcoords\",\"line\":{\"colorbar\":{\"outlinewidth\":0,\"ticks\":\"\"}}}],\"scatterpolargl\":[{\"type\":\"scatterpolargl\",\"marker\":{\"colorbar\":{\"outlinewidth\":0,\"ticks\":\"\"}}}],\"bar\":[{\"error_x\":{\"color\":\"#2a3f5f\"},\"error_y\":{\"color\":\"#2a3f5f\"},\"marker\":{\"line\":{\"color\":\"#E5ECF6\",\"width\":0.5},\"pattern\":{\"fillmode\":\"overlay\",\"size\":10,\"solidity\":0.2}},\"type\":\"bar\"}],\"scattergeo\":[{\"type\":\"scattergeo\",\"marker\":{\"colorbar\":{\"outlinewidth\":0,\"ticks\":\"\"}}}],\"scatterpolar\":[{\"type\":\"scatterpolar\",\"marker\":{\"colorbar\":{\"outlinewidth\":0,\"ticks\":\"\"}}}],\"histogram\":[{\"marker\":{\"pattern\":{\"fillmode\":\"overlay\",\"size\":10,\"solidity\":0.2}},\"type\":\"histogram\"}],\"scattergl\":[{\"type\":\"scattergl\",\"marker\":{\"colorbar\":{\"outlinewidth\":0,\"ticks\":\"\"}}}],\"scatter3d\":[{\"type\":\"scatter3d\",\"line\":{\"colorbar\":{\"outlinewidth\":0,\"ticks\":\"\"}},\"marker\":{\"colorbar\":{\"outlinewidth\":0,\"ticks\":\"\"}}}],\"scattermapbox\":[{\"type\":\"scattermapbox\",\"marker\":{\"colorbar\":{\"outlinewidth\":0,\"ticks\":\"\"}}}],\"scatterternary\":[{\"type\":\"scatterternary\",\"marker\":{\"colorbar\":{\"outlinewidth\":0,\"ticks\":\"\"}}}],\"scattercarpet\":[{\"type\":\"scattercarpet\",\"marker\":{\"colorbar\":{\"outlinewidth\":0,\"ticks\":\"\"}}}],\"carpet\":[{\"aaxis\":{\"endlinecolor\":\"#2a3f5f\",\"gridcolor\":\"white\",\"linecolor\":\"white\",\"minorgridcolor\":\"white\",\"startlinecolor\":\"#2a3f5f\"},\"baxis\":{\"endlinecolor\":\"#2a3f5f\",\"gridcolor\":\"white\",\"linecolor\":\"white\",\"minorgridcolor\":\"white\",\"startlinecolor\":\"#2a3f5f\"},\"type\":\"carpet\"}],\"table\":[{\"cells\":{\"fill\":{\"color\":\"#EBF0F8\"},\"line\":{\"color\":\"white\"}},\"header\":{\"fill\":{\"color\":\"#C8D4E3\"},\"line\":{\"color\":\"white\"}},\"type\":\"table\"}],\"barpolar\":[{\"marker\":{\"line\":{\"color\":\"#E5ECF6\",\"width\":0.5},\"pattern\":{\"fillmode\":\"overlay\",\"size\":10,\"solidity\":0.2}},\"type\":\"barpolar\"}],\"pie\":[{\"automargin\":true,\"type\":\"pie\"}]},\"layout\":{\"autotypenumbers\":\"strict\",\"colorway\":[\"#636efa\",\"#EF553B\",\"#00cc96\",\"#ab63fa\",\"#FFA15A\",\"#19d3f3\",\"#FF6692\",\"#B6E880\",\"#FF97FF\",\"#FECB52\"],\"font\":{\"color\":\"#2a3f5f\"},\"hovermode\":\"closest\",\"hoverlabel\":{\"align\":\"left\"},\"paper_bgcolor\":\"white\",\"plot_bgcolor\":\"#E5ECF6\",\"polar\":{\"bgcolor\":\"#E5ECF6\",\"angularaxis\":{\"gridcolor\":\"white\",\"linecolor\":\"white\",\"ticks\":\"\"},\"radialaxis\":{\"gridcolor\":\"white\",\"linecolor\":\"white\",\"ticks\":\"\"}},\"ternary\":{\"bgcolor\":\"#E5ECF6\",\"aaxis\":{\"gridcolor\":\"white\",\"linecolor\":\"white\",\"ticks\":\"\"},\"baxis\":{\"gridcolor\":\"white\",\"linecolor\":\"white\",\"ticks\":\"\"},\"caxis\":{\"gridcolor\":\"white\",\"linecolor\":\"white\",\"ticks\":\"\"}},\"coloraxis\":{\"colorbar\":{\"outlinewidth\":0,\"ticks\":\"\"}},\"colorscale\":{\"sequential\":[[0.0,\"#0d0887\"],[0.1111111111111111,\"#46039f\"],[0.2222222222222222,\"#7201a8\"],[0.3333333333333333,\"#9c179e\"],[0.4444444444444444,\"#bd3786\"],[0.5555555555555556,\"#d8576b\"],[0.6666666666666666,\"#ed7953\"],[0.7777777777777778,\"#fb9f3a\"],[0.8888888888888888,\"#fdca26\"],[1.0,\"#f0f921\"]],\"sequentialminus\":[[0.0,\"#0d0887\"],[0.1111111111111111,\"#46039f\"],[0.2222222222222222,\"#7201a8\"],[0.3333333333333333,\"#9c179e\"],[0.4444444444444444,\"#bd3786\"],[0.5555555555555556,\"#d8576b\"],[0.6666666666666666,\"#ed7953\"],[0.7777777777777778,\"#fb9f3a\"],[0.8888888888888888,\"#fdca26\"],[1.0,\"#f0f921\"]],\"diverging\":[[0,\"#8e0152\"],[0.1,\"#c51b7d\"],[0.2,\"#de77ae\"],[0.3,\"#f1b6da\"],[0.4,\"#fde0ef\"],[0.5,\"#f7f7f7\"],[0.6,\"#e6f5d0\"],[0.7,\"#b8e186\"],[0.8,\"#7fbc41\"],[0.9,\"#4d9221\"],[1,\"#276419\"]]},\"xaxis\":{\"gridcolor\":\"white\",\"linecolor\":\"white\",\"ticks\":\"\",\"title\":{\"standoff\":15},\"zerolinecolor\":\"white\",\"automargin\":true,\"zerolinewidth\":2},\"yaxis\":{\"gridcolor\":\"white\",\"linecolor\":\"white\",\"ticks\":\"\",\"title\":{\"standoff\":15},\"zerolinecolor\":\"white\",\"automargin\":true,\"zerolinewidth\":2},\"scene\":{\"xaxis\":{\"backgroundcolor\":\"#E5ECF6\",\"gridcolor\":\"white\",\"linecolor\":\"white\",\"showbackground\":true,\"ticks\":\"\",\"zerolinecolor\":\"white\",\"gridwidth\":2},\"yaxis\":{\"backgroundcolor\":\"#E5ECF6\",\"gridcolor\":\"white\",\"linecolor\":\"white\",\"showbackground\":true,\"ticks\":\"\",\"zerolinecolor\":\"white\",\"gridwidth\":2},\"zaxis\":{\"backgroundcolor\":\"#E5ECF6\",\"gridcolor\":\"white\",\"linecolor\":\"white\",\"showbackground\":true,\"ticks\":\"\",\"zerolinecolor\":\"white\",\"gridwidth\":2}},\"shapedefaults\":{\"line\":{\"color\":\"#2a3f5f\"}},\"annotationdefaults\":{\"arrowcolor\":\"#2a3f5f\",\"arrowhead\":0,\"arrowwidth\":1},\"geo\":{\"bgcolor\":\"white\",\"landcolor\":\"#E5ECF6\",\"subunitcolor\":\"white\",\"showland\":true,\"showlakes\":true,\"lakecolor\":\"white\"},\"title\":{\"x\":0.05},\"mapbox\":{\"style\":\"light\"}}},\"xaxis\":{\"anchor\":\"y\",\"domain\":[0.0,1.0],\"title\":{\"text\":\"value\"},\"range\":[-0.5,1]},\"yaxis\":{\"anchor\":\"x\",\"domain\":[0.0,1.0],\"title\":{\"text\":\"count\"}},\"legend\":{\"title\":{\"text\":\"variable\"},\"tracegroupgap\":0},\"title\":{\"text\":\"L6N191\"},\"barmode\":\"relative\",\"width\":700},                        {\"responsive\": true}                    ).then(function(){\n",
       "                            \n",
       "var gd = document.getElementById('bf071e90-980b-4d66-9490-d23812714ae0');\n",
       "var x = new MutationObserver(function (mutations, observer) {{\n",
       "        var display = window.getComputedStyle(gd).display;\n",
       "        if (!display || display === 'none') {{\n",
       "            console.log([gd, 'removed!']);\n",
       "            Plotly.purge(gd);\n",
       "            observer.disconnect();\n",
       "        }}\n",
       "}});\n",
       "\n",
       "// Listen for the removal of the full notebook cells\n",
       "var notebookContainer = gd.closest('#notebook-container');\n",
       "if (notebookContainer) {{\n",
       "    x.observe(notebookContainer, {childList: true});\n",
       "}}\n",
       "\n",
       "// Listen for the clearing of the current output cell\n",
       "var outputEl = gd.closest('.output');\n",
       "if (outputEl) {{\n",
       "    x.observe(outputEl, {childList: true});\n",
       "}}\n",
       "\n",
       "                        })                };                });            </script>        </div>"
      ]
     },
     "metadata": {},
     "output_type": "display_data"
    },
    {
     "data": {
      "text/html": [
       "<div>                            <div id=\"6a5e4a61-de4b-46e3-9448-d2292a147789\" class=\"plotly-graph-div\" style=\"height:525px; width:700px;\"></div>            <script type=\"text/javascript\">                require([\"plotly\"], function(Plotly) {                    window.PLOTLYENV=window.PLOTLYENV || {};                                    if (document.getElementById(\"6a5e4a61-de4b-46e3-9448-d2292a147789\")) {                    Plotly.newPlot(                        \"6a5e4a61-de4b-46e3-9448-d2292a147789\",                        [{\"alignmentgroup\":\"True\",\"bingroup\":\"x\",\"hovertemplate\":\"variable=0\\u003cbr\\u003evalue=%{x}\\u003cbr\\u003ecount=%{y}\\u003cextra\\u003e\\u003c\\u002fextra\\u003e\",\"legendgroup\":\"0\",\"marker\":{\"color\":\"#636efa\",\"pattern\":{\"shape\":\"\"}},\"name\":\"0\",\"offsetgroup\":\"0\",\"orientation\":\"v\",\"showlegend\":true,\"x\":[-0.13481371104717255,-0.14744505286216736,-0.1400385946035385,-0.1267029196023941,-0.1612558513879776,-0.13363684713840485,-0.16959811747074127,-0.15882284939289093,-0.16966181993484497,-0.1699819415807724,-0.1696370244026184,-0.16899824142456055,-0.14006471633911133,-0.13048990070819855,-0.16930758953094482,-0.14756609499454498,-0.15435995161533356,-0.1639874279499054,-0.17003436386585236,-0.15986759960651398,-0.132376566529274,-0.163140669465065,-0.1662166714668274,-0.15827970206737518,-0.15417157113552094,-0.1700231432914734,-0.170039102435112,-0.1576608270406723,-0.1400471329689026,-0.16624346375465393,-0.1611328125,-0.16723734140396118,-0.15183919668197632,-0.16796857118606567,-0.16663511097431183,-0.16446535289287567,-0.13086311519145966,-0.16688981652259827,-0.1322680115699768,-0.168460875749588,-0.169534832239151,-0.16783176362514496,-0.1682264804840088,-0.147994726896286,-0.11240293085575104,-0.17003165185451508,-0.14115478098392487,-0.15883198380470276,-0.1680729240179062,-0.16984450817108154,-0.14969918131828308,-0.11843771487474442,-0.1650422364473343,-0.1367483288049698,-0.10710152983665466,-0.1502542495727539,-0.16927474737167358,-0.1370694786310196,-0.11214356124401093,-0.15326745808124542,-0.14082257449626923,-0.16508784890174866,-0.16187559068202972,-0.16505283117294312,-0.16233396530151367,-0.15746331214904785,-0.15243850648403168,-0.16992595791816711,-0.13575559854507446,-0.1668270379304886,-0.16689495742321014,-0.16446171700954437,-0.1677127182483673,-0.13850225508213043,-0.14434894919395447,-0.05481193959712982,-0.16565583646297455,-0.11090235412120819,-0.14931948482990265,-0.16314607858657837,-0.1307533234357834,-0.14526012539863586,-0.16937044262886047,-0.12934643030166626,-0.1289317011833191,-0.1654464453458786,-0.1354677826166153,-0.16689591109752655,-0.16941416263580322,-0.14428143203258514,-0.1668974608182907,-0.16385342180728912,-0.12366398423910141,-0.16916419565677643,-0.1585613638162613,-0.1700376272201538,-0.16004899144172668,-0.1682613492012024,-0.13805226981639862,-0.09651336073875427,-0.11316822469234467,-0.15475063025951385,-0.14581389725208282,-0.1634955108165741,-0.15393643081188202,-0.1296112984418869,-0.16907569766044617,-0.15276120603084564,-0.13649731874465942,-0.16560187935829163,-0.160268634557724,-0.1512497514486313,-0.15222389996051788,-0.10426925867795944,-0.16933225095272064,-0.1685345619916916,-0.1539488136768341,-0.12233062833547592,-0.14168384671211243,-0.16520386934280396,-0.13108383119106293,-0.16982707381248474,-0.15632466971874237,-0.16988474130630493,-0.166678786277771,0.019943641498684883,-0.11804452538490295,-0.15548238158226013,-0.11668661236763,-0.15852628648281097,-0.16803915798664093,-0.1682514250278473,-0.1327286958694458,-0.1695600301027298,-0.16520242393016815,-0.13584844768047333,-0.15934082865715027,-0.16930338740348816,-0.16999097168445587,-0.13796544075012207,-0.1686324179172516,-0.14735256135463715,-0.1659264862537384,-0.16270126402378082,-0.16700711846351624,-0.1660993993282318,-0.1619252860546112,-0.13109153509140015,-0.1437903642654419,-0.1686793714761734,-0.13657157123088837,-0.17004069685935974,-0.14762845635414124,-0.16891442239284515,-0.09455341100692749,-0.16939221322536469,-0.1566975861787796,-0.10085945576429367,-0.1445147544145584,-0.16984829306602478,-0.15081077814102173,-0.16247262060642242,-0.16971194744110107,-0.16549266874790192,-0.16243870556354523,-0.16685280203819275,-0.1345873475074768,-0.1699611246585846,-0.1273956149816513,-0.13564476370811462,-0.15351608395576477,-0.141521155834198,-0.16753901541233063,-0.14778873324394226,-0.13649190962314606,-0.16947153210639954,-0.1662849336862564,-0.15480177104473114,-0.156584233045578,-0.17004065215587616,-0.1700115203857422,-0.1418147087097168,-0.13891802728176117,-0.13706432282924652,-0.13106510043144226,-0.16905684769153595,-0.16541559994220734,-0.16183200478553772,-0.11402105540037155,-0.1474657952785492,-0.16259081661701202,-0.16258515417575836,-0.16798542439937592,-0.16714763641357422,-0.16997940838336945,-0.16999451816082,-0.13838806748390198,-0.15521280467510223,-0.1451164335012436,-0.1102144718170166,-0.16939005255699158,-0.15749618411064148,-0.10481109470129013,-0.1459227204322815,-0.14083923399448395,-0.14287473261356354,-0.15540918707847595,-0.17002008855342865,-0.1697918325662613,-0.13261257112026215,-0.1034364402294159,-0.16811363399028778,-0.1491698920726776,-0.15568691492080688,-0.12169844657182693,-0.1667240560054779,-0.1696799397468567,-0.16907522082328796,-0.1685888022184372,-0.1596899926662445,-0.16997282207012177,-0.16831548511981964,-0.163101464509964,-0.17003799974918365,-0.17001336812973022,-0.16917668282985687,-0.14026449620723724,-0.11370905488729477,-0.15186749398708344,-0.10106049478054047,-0.16920508444309235,-0.16700096428394318,-0.1547996997833252,-0.17002151906490326,-0.16670501232147217,-0.15404395759105682,-0.13322365283966064,-0.16165347397327423,-0.1251167207956314,-0.16802605986595154,-0.10495500266551971,-0.16423186659812927,-0.16986607015132904,-0.16556277871131897,-0.168228879570961,-0.16836129128932953,-0.1445394903421402,-0.17001797258853912,-0.1383371204137802,-0.1669043004512787,-0.16672605276107788,-0.15097634494304657,-0.13432855904102325,-0.14813122153282166,-0.1526537537574768,-0.14614860713481903,-0.16967540979385376,-0.0676579475402832,-0.16843529045581818,-0.1475953459739685,-0.16129954159259796,-0.1626686304807663,-0.16859182715415955,-0.16991280019283295,-0.16972477734088898,-0.1700393408536911,-0.17000752687454224,-0.125112384557724,-0.14933547377586365,-0.11673793941736221,-0.16964387893676758,-0.16816549003124237,-0.16760960221290588,-0.16987526416778564,-0.16843795776367188,-0.1694955974817276,-0.16990415751934052,-0.1700146645307541,-0.16576896607875824,-0.1301213502883911,-0.15170717239379883,-0.1503915637731552,-0.14005090296268463,-0.1683574616909027,-0.1399925798177719,-0.16880042850971222,-0.14679257571697235,-0.16961288452148438,-0.16976700723171234,-0.16990835964679718,-0.164706751704216,-0.1618811935186386,-0.1322701871395111,-0.16496559977531433,-0.1696275919675827,-0.154905766248703,-0.15821896493434906,-0.15857553482055664,-0.1662854552268982,-0.16910068690776825,-0.17003798484802246,-0.16571421921253204,-0.140646830201149,-0.1662859469652176,-0.15871743857860565,-0.16807405650615692,-0.13796083629131317,-0.10772030800580978,-0.15131860971450806,-0.10969764739274979,-0.15548890829086304,-0.130006805062294,-0.15491609275341034,-0.16618451476097107,-0.16917937994003296,-0.12453826516866684,-0.16844147443771362,-0.15250521898269653,-0.1684725284576416,-0.1665172129869461,-0.15075883269309998,-0.11908149719238281,-0.15087836980819702,-0.17000152170658112,-0.15946771204471588,-0.12265849858522415,-0.1645883321762085,-0.15403375029563904,-0.12008478492498398,-0.11910559982061386,-0.1699761599302292,-0.16535204648971558,-0.14032113552093506,-0.16718672215938568,-0.17002537846565247,-0.12315349280834198,-0.16064907610416412,-0.14195573329925537,-0.1696797013282776,-0.13618868589401245,-0.15760807693004608,-0.16332383453845978,-0.16770590841770172,-0.169582337141037,-0.14506123960018158,-0.16161808371543884,-0.15460996329784393,-0.16874949634075165,-0.11848427355289459,-0.14948531985282898,-0.17004039883613586,-0.1325097531080246,-0.16957391798496246,-0.1657201200723648,-0.12318877130746841,-0.08957543224096298,-0.1475602388381958,-0.10720627754926682,-0.15607686340808868,-0.17002475261688232,-0.16999775171279907,-0.1678687334060669,-0.16734980046749115,-0.154852494597435,-0.16431882977485657,-0.10243195295333862,-0.16381944715976715,-0.13769516348838806,-0.16131716966629028,-0.160827174782753,-0.14464762806892395,-0.16520875692367554,-0.16053688526153564,-0.16861344873905182,-0.1487278938293457,-0.16098608076572418,-0.1694178730249405,-0.16879062354564667,-0.1677110195159912,-0.1610589325428009,-0.1700388640165329,-0.15986384451389313,-0.16828013956546783,-0.1694115698337555,-0.09504029899835587,-0.16135722398757935,-0.14969928562641144,-0.10656971484422684,-0.1676550954580307,-0.16840797662734985,-0.15458554029464722,-0.10995593667030334,-0.16822578012943268,-0.15505802631378174,-0.16171389818191528,-0.16670575737953186,-0.13326609134674072,-0.16718687117099762,-0.15871474146842957,-0.1648009568452835,-0.16435734927654266,-0.15340235829353333,-0.1637602001428604,-0.15609167516231537,-0.14213459193706512,-0.1691051870584488,-0.16316726803779602,-0.16957303881645203,-0.16979889571666718,-0.16440925002098083,-0.1662704050540924,-0.16955991089344025,-0.15943922102451324,-0.15881936252117157,-0.13374735414981842,-0.16719810664653778,-0.16852524876594543,-0.16594864428043365,-0.16828539967536926,-0.16962294280529022,-0.16484421491622925,-0.16867642104625702,-0.16911433637142181,-0.16900330781936646,-0.16929073631763458,-0.16858620941638947,-0.14057007431983948,-0.10771755129098892,-0.16996389627456665,-0.14768438041210175,-0.14805346727371216,-0.16878120601177216,-0.1679038405418396,-0.1697302758693695,-0.16412241756916046,-0.13488353788852692,-0.1223614290356636,-0.16882970929145813,-0.1491275578737259,-0.16998302936553955,-0.1699618548154831,-0.14295336604118347,-0.14017502963542938,-0.15783751010894775,-0.16969150304794312,-0.1659919172525406,-0.16685909032821655,-0.15328708291053772,-0.17004020512104034,-0.16982921957969666,-0.16903068125247955,-0.16983811557292938,-0.16557544469833374,-0.13811944425106049,-0.15043435990810394,-0.13617944717407227,-0.125298872590065,-0.1525588482618332,-0.15714450180530548,-0.10714847594499588,-0.11464523524045944,-0.16707146167755127,-0.1683964878320694,-0.14320699870586395,-0.16998840868473053,-0.13489890098571777,-0.130418062210083,-0.16618990898132324,-0.16934247314929962,-0.13411495089530945,-0.16942770779132843,-0.15491370856761932,-0.16580113768577576,-0.16531164944171906,-0.16298538446426392,-0.12720051407814026,-0.16187521815299988,-0.12990356981754303,-0.16970616579055786,-0.16577039659023285,-0.16471697390079498,-0.13102230429649353,-0.15084142982959747,-0.1375909447669983,-0.17003723978996277,-0.10751576721668243,-0.16856707632541656,-0.16981454193592072,-0.15651245415210724,-0.16474327445030212,-0.156971275806427,-0.16943174600601196,-0.16777734458446503,-0.16895954310894012,-0.1690254658460617,-0.170018270611763,-0.1394241601228714,-0.10535796731710434,-0.16404587030410767,-0.13895419239997864,-0.16749484837055206,-0.0884082093834877,-0.16870975494384766,-0.16912949085235596,-0.13465061783790588,-0.16755321621894836,-0.16649581491947174,-0.1402047574520111,-0.16114665567874908,-0.15425823628902435,-0.1688285768032074,-0.1387939751148224,-0.1543986201286316,-0.15372933447360992,-0.10860442370176315,-0.15870584547519684,-0.16795320808887482,-0.1679764688014984,-0.13344262540340424,-0.16939504444599152,-0.16925974190235138,-0.13248254358768463,-0.157503142952919,-0.16655310988426208,-0.1637388914823532,-0.16949696838855743,-0.16143673658370972,-0.1456352174282074,-0.15677693486213684,-0.16970741748809814,-0.1604987531900406,-0.16599176824092865,-0.11213698983192444,-0.10222577303647995,-0.16996227204799652,-0.15683497488498688,-0.16079969704151154,-0.16293011605739594,-0.13655225932598114,-0.163880854845047,-0.16897448897361755,-0.13191217184066772,-0.16202370822429657,-0.15104924142360687,-0.15513800084590912,-0.14396148920059204,-0.16694259643554688,-0.16854943335056305,-0.16997568309307098,-0.16312755644321442,-0.16482338309288025,-0.16534297168254852,-0.16709528863430023,-0.16913461685180664,-0.16842439770698547,-0.16943621635437012,-0.1697673350572586,-0.16996419429779053,-0.16251510381698608,-0.14393071830272675,-0.08989482372999191,-0.16116617619991302,-0.1699991375207901,-0.10814594477415085,-0.13892272114753723,-0.16806913912296295,-0.16926905512809753,-0.13534803688526154,-0.16446495056152344,-0.1652907133102417,-0.14247488975524902,-0.16943006217479706,-0.15910854935646057,-0.17003938555717468,-0.13707882165908813,-0.1574344038963318,-0.11933162808418274,-0.13969217240810394,-0.09558877348899841,-0.16385909914970398,-0.16980482637882233,-0.1671105921268463,-0.14084117114543915,-0.16369573771953583,-0.14872056245803833,-0.16824787855148315,-0.160519078373909,-0.16494810581207275,-0.12963823974132538,-0.16990730166435242,-0.1691478192806244,-0.1541161835193634,-0.13579916954040527,-0.14989912509918213,-0.09920558333396912,-0.16939295828342438,-0.1572507619857788,-0.16750875115394592,-0.1699717491865158,-0.15616554021835327,-0.17003130912780762,-0.08014791458845139,-0.1662215143442154,-0.14649854600429535,-0.170034721493721,-0.1414412260055542,-0.15601937472820282,-0.138889878988266,-0.15612711012363434,-0.10473357141017914,-0.14060917496681213,-0.15084882080554962,-0.1697506308555603,-0.16843508183956146,-0.16876186430454254,-0.14638856053352356,-0.1694965958595276,-0.1318967044353485,-0.08121868222951889,-0.16997110843658447,-0.13893848657608032,-0.09425380080938339,-0.16808292269706726,-0.14480739831924438,-0.16793276369571686,-0.16935664415359497,-0.170023575425148,-0.1693999171257019,-0.16736313700675964,-0.16999337077140808,-0.15550917387008667,-0.1700361967086792,-0.15668952465057373,-0.16489318013191223,-0.16326206922531128,-0.1586465835571289,-0.16033510863780975,-0.1677439957857132,-0.1555110216140747,-0.16915228962898254,-0.16259627044200897,-0.15335728228092194,-0.1511707603931427,-0.15754641592502594,-0.12150563299655914,-0.16994087398052216,-0.16596411168575287,-0.12957027554512024,-0.09406804293394089,-0.169831782579422,-0.16927401721477509,-0.10281626135110855,-0.12889719009399414,-0.16810721158981323,-0.1685015857219696,-0.14576499164104462,-0.16070377826690674,-0.16381864249706268,-0.16849862039089203,-0.16900642216205597,-0.1520995944738388,-0.12335433810949326,-0.09016452729701996,-0.17000478506088257,-0.16907323896884918,-0.15793785452842712,-0.16603918373584747,-0.16734930872917175,-0.16831305623054504,-0.15496081113815308,-0.1699836105108261,-0.16748465597629547,-0.16977828741073608,-0.1399064064025879,-0.16717763245105743,-0.16867278516292572,-0.1472662389278412,-0.1354464739561081,-0.17001663148403168,-0.1136028990149498,-0.12378925085067749,-0.168054461479187,-0.1692998707294464,-0.11125513911247253,-0.14760856330394745,-0.1697748452425003,-0.15653885900974274,-0.16912464797496796,-0.10153832286596298,-0.16815654933452606,-0.16121573746204376,-0.16746209561824799,-0.17000208795070648,-0.16753505170345306,-0.1380520761013031,-0.16942910850048065,-0.16825219988822937,-0.1683242917060852,-0.16983070969581604,-0.15875709056854248,-0.17000801861286163,-0.16443875432014465,-0.15732063353061676,-0.16989019513130188,-0.14766241610050201,-0.1692652851343155,-0.11291660368442535,-0.15457597374916077,-0.1595885306596756,-0.12254410237073898,-0.1690632700920105,-0.1586611270904541,-0.16496466100215912,-0.1642436385154724,-0.16360634565353394,-0.16771122813224792,-0.15815192461013794,-0.1697012037038803,-0.17003528773784637,-0.16988599300384521,-0.1649249792098999,-0.1673201024532318,-0.16913218796253204,-0.1502188891172409,-0.16984836757183075,-0.14378274977207184,-0.16317564249038696,-0.1647854894399643,-0.16999264061450958,-0.16910867393016815,-0.1699777990579605,-0.17000101506710052,-0.1695924997329712,-0.16738364100456238,-0.16949428617954254,-0.15283577144145966,-0.15186892449855804,-0.10255985707044601,-0.16874314844608307,-0.1446165293455124,-0.1688503623008728,-0.17000581324100494,-0.1280650943517685,-0.15864060819149017,-0.12985089421272278,-0.16285739839076996,-0.1664966195821762,-0.15958139300346375,-0.1682661771774292,-0.15810859203338623,-0.16958028078079224,-0.1691776067018509,-0.16884934902191162,-0.16957272589206696,-0.1686110943555832,-0.16998039186000824,-0.16863365471363068,-0.16730043292045593,-0.16381362080574036,-0.16963744163513184,-0.16989515721797943,-0.16417786478996277,-0.16992062330245972,-0.16816549003124237,-0.15877099335193634,-0.1231701523065567,-0.16047607362270355,-0.16899456083774567,-0.15856117010116577,-0.1298605501651764,-0.13189250230789185,-0.1670331507921219,-0.14886346459388733,-0.17004069685935974,-0.16997629404067993,-0.169657364487648,-0.14478623867034912,-0.13316981494426727,-0.1693187654018402,-0.1492273360490799,-0.16769365966320038,-0.16677919030189514,-0.16204316914081573,-0.16803070902824402,-0.16763879358768463,-0.16498751938343048,-0.16939647495746613,-0.17003917694091797,-0.16906489431858063,-0.13362182676792145,-0.16977731883525848,-0.16826732456684113,-0.16051597893238068,-0.1690022498369217,-0.16174685955047607,-0.10948966443538666,-0.17004048824310303,-0.16766215860843658,-0.16887186467647552,-0.16872812807559967,-0.16886812448501587,-0.11035703867673874,-0.16525433957576752,-0.1700405776500702,-0.13451719284057617,-0.14751078188419342,-0.16558586061000824,-0.15903151035308838,-0.16789610683918,-0.12319101393222809,-0.1695554405450821,-0.16562463343143463,-0.1698947697877884,-0.16916821897029877,-0.16992907226085663,-0.16954359412193298,-0.16858968138694763,-0.16829556226730347,-0.17001725733280182,-0.1662723422050476,-0.16903120279312134,-0.16241168975830078,-0.1672222912311554,-0.16939304769039154,-0.15244509279727936,-0.16892051696777344,-0.16219176352024078,-0.1297789216041565,-0.15449190139770508,-0.1427743136882782,-0.1699994057416916,-0.1696133315563202,-0.16190257668495178,-0.16927137970924377,-0.16835331916809082,-0.16788537800312042,-0.16586889326572418,-0.1573885977268219,-0.12170008569955826,-0.1683577001094818,-0.16828522086143494,-0.13002723455429077,-0.1643947809934616,-0.162140354514122,-0.16932407021522522,-0.1677229255437851,-0.16869045794010162,-0.16890458762645721,-0.162074476480484,-0.1678917407989502,-0.17001605033874512,-0.16700099408626556,-0.1566060334444046,-0.169948548078537,-0.16216468811035156,-0.1556689441204071,-0.169438898563385,-0.14472556114196777,-0.10417842119932175,-0.16699251532554626,-0.14646464586257935,-0.13853785395622253,-0.16723200678825378,-0.15529164671897888,-0.15820680558681488,-0.16881822049617767,-0.15084318816661835,-0.1656082719564438,-0.1303463876247406,-0.16915948688983917,-0.16773197054862976,-0.1566157191991806,-0.16743354499340057,-0.1697087436914444,-0.16953139007091522,-0.1601981669664383,-0.15827558934688568,-0.1677301824092865,-0.1695815622806549,-0.1699865162372589,-0.1689806580543518,-0.16362176835536957,-0.1698639690876007,-0.14708179235458374,-0.10182375460863113,-0.1628931313753128,-0.16955453157424927,-0.16731826961040497,-0.1699080616235733,-0.16891340911388397,-0.1690998375415802,-0.13841299712657928,-0.1694861799478531,-0.16853724420070648,-0.16997352242469788,-0.16801826655864716,-0.16811583936214447,-0.1462915986776352,-0.1414649337530136,-0.1670723557472229,-0.16944092512130737,-0.16902723908424377,-0.1694784313440323,-0.15553851425647736,-0.16354145109653473,-0.16368719935417175,-0.17000241577625275,-0.16709284484386444,-0.16814902424812317,-0.15889836847782135,-0.16414198279380798,-0.16590414941310883,-0.16111159324645996,-0.16080288589000702,-0.15851154923439026,-0.1622702181339264,-0.16960814595222473,-0.1199280247092247,-0.1519126147031784,-0.16542963683605194,-0.1623660773038864,-0.1420259028673172,-0.16044779121875763,-0.10334043204784393,-0.17002803087234497,-0.12666723132133484,-0.08692092448472977,-0.16991372406482697,-0.13751621544361115,-0.13215601444244385,-0.16996505856513977,-0.16978949308395386,-0.13500730693340302,-0.10028035193681717,-0.16987647116184235,-0.1648157387971878,-0.15774761140346527,-0.1697710156440735,-0.16994152963161469,-0.16905160248279572,-0.09498585760593414,-0.16975903511047363,-0.16627593338489532,-0.16615870594978333,-0.16677173972129822,-0.14994436502456665,-0.16994448006153107,-0.16142120957374573,-0.16991524398326874,-0.16996687650680542,-0.1700088381767273,-0.1685165911912918,-0.16335733234882355,-0.1664307564496994,-0.16119889914989471,-0.15938277542591095,-0.1494516283273697,-0.16292142868041992,-0.17004071176052094,-0.16237248480319977,-0.16732525825500488,-0.1581089198589325,-0.15906338393688202,-0.15978898108005524,-0.16716070473194122,-0.16795767843723297,-0.16975560784339905,-0.16887904703617096,-0.1700323522090912,-0.16363868117332458,-0.16736355423927307,-0.16482247412204742,-0.16370399296283722,-0.16609077155590057,-0.14979678392410278,-0.1694425344467163,-0.14600427448749542,-0.15175260603427887,-0.15251323580741882,-0.16954250633716583,-0.16337697207927704,-0.15861637890338898,-0.16201291978359222,-0.16961398720741272,-0.16621482372283936,-0.1497533768415451,-0.145177960395813,-0.15516705811023712,-0.1700385957956314,-0.16774529218673706,-0.15686029195785522,-0.16459538042545319,-0.16425980627536774,-0.166213721036911,-0.10766328871250153,-0.16342073678970337,-0.16917209327220917,-0.16701790690422058,-0.1690211296081543,-0.13624714314937592,-0.13353896141052246,-0.16483262181282043,-0.14787201583385468,-0.16989260911941528,-0.16959233582019806,-0.16233569383621216,-0.16896402835845947,-0.1619109809398651,-0.1677848994731903,-0.16658183932304382,-0.17002993822097778,-0.16374187171459198,-0.15458743274211884,-0.16970591247081757,-0.16806939244270325,-0.15604887902736664,-0.16486312448978424,-0.15588213503360748,-0.15527091920375824,-0.1661197692155838,-0.16638068854808807,-0.16777637600898743,-0.1697402447462082,-0.16189971566200256,-0.16925393044948578,-0.17003397643566132,-0.1690531224012375,-0.16801181435585022,-0.16376924514770508,-0.16990280151367188,-0.15714538097381592,-0.16187962889671326,-0.16981618106365204,-0.15939846634864807,-0.15955862402915955,-0.16811159253120422,-0.16749072074890137,-0.1549050360918045,-0.16863766312599182,-0.1676708161830902,-0.16958096623420715,-0.16286659240722656,-0.16841910779476166,-0.16435864567756653,-0.16868925094604492,-0.14972032606601715,-0.1597858965396881,-0.15273579955101013,-0.15354396402835846,-0.16973651945590973,-0.16387353837490082,-0.16200657188892365,-0.15785421431064606,-0.16755877435207367,-0.16941018402576447,-0.1487494707107544,-0.16944316029548645,-0.1690974235534668,-0.14744774997234344,-0.16983850300312042,-0.16114439070224762,-0.16770906746387482,-0.15620677173137665,-0.15544985234737396,-0.167864590883255,-0.15111999213695526,-0.16582326591014862,-0.1483481228351593,-0.1675674170255661,-0.15385901927947998,-0.16875559091567993,-0.16912303864955902,-0.16960038244724274,-0.165741428732872,-0.16788558661937714,-0.1689014732837677,-0.16717803478240967,-0.16199824213981628,-0.13146911561489105,-0.1612902283668518,-0.16962264478206635,-0.16919337213039398,-0.16573354601860046,-0.16993127763271332,-0.16995029151439667,-0.16878417134284973,-0.16960026323795319,-0.16973428428173065,-0.1555560827255249,-0.16969391703605652,-0.15604442358016968,-0.1602698266506195,-0.1699499785900116,-0.15864627063274384,-0.1696794629096985,-0.1543547511100769,-0.16851016879081726,-0.17003367841243744,-0.16382567584514618,-0.1637595146894455,-0.1627691686153412,-0.16874703764915466,-0.15749812126159668,-0.16986782848834991,-0.16066032648086548,-0.15946604311466217,-0.16717559099197388,-0.16986514627933502,-0.16570287942886353,-0.16153450310230255,-0.1623430848121643,-0.16337674856185913,-0.16944649815559387,-0.15582841634750366,-0.1563306301832199,-0.16406725347042084,-0.16250209510326385,-0.16876177489757538,-0.1493818312883377,-0.15801222622394562,-0.15992021560668945,-0.1692064106464386,-0.16826428472995758,-0.17003720998764038,-0.16104669868946075,-0.1663922220468521,-0.14627759158611298,-0.16704875230789185,-0.15148206055164337,-0.16163195669651031,-0.16535048186779022,-0.1589880734682083,-0.16452234983444214,-0.15653562545776367,-0.15487460792064667,-0.16615848243236542,-0.1571332812309265,-0.12392033636569977,-0.16973048448562622,-0.048656560480594635,-0.14448396861553192,-0.1676054149866104,-0.14322742819786072,-0.16996890306472778,-0.16924291849136353,-0.16930590569972992,-0.15929262340068817,-0.1671263873577118,-0.1670280545949936,-0.15245772898197174,-0.16823804378509521,-0.16987422108650208,-0.16891592741012573,-0.16229118406772614,-0.16718684136867523,-0.13160383701324463,-0.16842368245124817,-0.16595153510570526,-0.16755296289920807,-0.16370375454425812,-0.16655606031417847,-0.16692548990249634,-0.14477725327014923,-0.16934432089328766,-0.16119003295898438,-0.16532112658023834,-0.14831514656543732,-0.15743568539619446,-0.16285686194896698,-0.1639646291732788,-0.1696363389492035,-0.14472006261348724,-0.15482328832149506,-0.16695056855678558,-0.1699100285768509,-0.16603915393352509,-0.16181546449661255,-0.15545228123664856,-0.16035272181034088,-0.14221833646297455,-0.14340707659721375,-0.1675947606563568,-0.1699884682893753,-0.16417348384857178,-0.16813620924949646,-0.16981647908687592,-0.1558791995048523,-0.1500212550163269,-0.16901063919067383,-0.156056210398674,-0.1593884527683258,-0.16301865875720978,-0.15212145447731018,-0.15360714495182037,-0.1677422672510147,-0.16014665365219116,-0.12036479264497757,-0.16580533981323242,-0.15094579756259918,-0.16996106505393982,-0.16984407603740692,-0.14535532891750336,-0.16161306202411652,-0.15723326802253723,-0.1680058389902115,-0.1462855339050293,-0.16552101075649261,-0.1691703498363495,-0.16753287613391876,-0.16355016827583313,-0.11536912620067596,-0.16367202997207642,-0.1403835266828537,-0.09832125157117844,-0.16983404755592346,-0.16974179446697235,-0.13658912479877472,-0.14843632280826569,-0.1694124937057495,-0.16840820014476776,-0.1361207365989685,-0.16955366730690002,-0.15026319026947021,-0.16937068104743958,-0.16891126334667206,-0.16829760372638702,-0.16408668458461761,-0.1555163860321045,-0.16706483066082,-0.16597630083560944,-0.15251807868480682,-0.16962751746177673,-0.16394077241420746,-0.13857503235340118,-0.16530922055244446,-0.16178613901138306,-0.16563300788402557,-0.16740968823432922,-0.16334883868694305,-0.15622112154960632,-0.16967761516571045,-0.16939255595207214,-0.16766667366027832,-0.1648232787847519,-0.16051165759563446,-0.16682197153568268,-0.14463883638381958,-0.16113075613975525,-0.15972180664539337,-0.13801074028015137,-0.16225242614746094,-0.16616995632648468,-0.16938860714435577,-0.15481331944465637,-0.16431531310081482,-0.16966386139392853,-0.1500512659549713,-0.1635941118001938,-0.15949083864688873,-0.16610482335090637,-0.1527997851371765,-0.1534925401210785,-0.16957850754261017,-0.15999911725521088,-0.1627034842967987,-0.14526695013046265,-0.16330473124980927,-0.16971880197525024,-0.1610468029975891,-0.15984274446964264,-0.13744500279426575,-0.15489286184310913,-0.17002379894256592,-0.15203054249286652,-0.11746131628751755,-0.12603087723255157,-0.16924643516540527,-0.16963575780391693,-0.1307881772518158,-0.1699019819498062,-0.13609321415424347,-0.14556850492954254,-0.1669590175151825,-0.1697218120098114,-0.16872867941856384,-0.14725251495838165,-0.16998347640037537,-0.1679568886756897,-0.16908007860183716,-0.16916289925575256,-0.1692274808883667,-0.1683487594127655,-0.16850656270980835,-0.16354937851428986,-0.16568146646022797,-0.16487495601177216,-0.1647896021604538,-0.16959837079048157,-0.16071133315563202,-0.16835881769657135,-0.16872644424438477,-0.16944606602191925,-0.16337837278842926,-0.16367216408252716,-0.16342882812023163,-0.16920772194862366,-0.16461509466171265,-0.16684715449810028,-0.16875241696834564,-0.15626020729541779,-0.1655159443616867,-0.15742014348506927,-0.16337616741657257,-0.16875077784061432,-0.15753808617591858,-0.15787525475025177,-0.16619446873664856,-0.16818100214004517,-0.1516612321138382,-0.168223038315773,-0.16984812915325165,-0.16970226168632507,-0.16205117106437683,-0.16999219357967377,-0.12159628421068192,-0.16678424179553986,-0.14355579018592834,-0.17000940442085266,-0.1612655073404312,-0.1463249921798706,-0.16919010877609253,-0.1687597632408142,-0.1555413156747818,-0.1478167176246643,-0.1485915631055832,-0.15571391582489014,-0.14257559180259705,-0.14853426814079285,-0.13610251247882843,-0.16331781446933746,-0.1619032770395279,-0.15381188690662384,-0.1543979048728943,-0.1408277153968811,-0.16414178907871246,-0.1464642733335495,-0.16839410364627838,-0.16176407039165497,-0.09731259942054749,-0.16286329925060272,-0.16902083158493042,-0.16782419383525848,-0.158409982919693,-0.14866580069065094,-0.16626772284507751,-0.1485813856124878,-0.17001202702522278,-0.14200542867183685,-0.10953770577907562,-0.13395549356937408,-0.16886739432811737,-0.16879558563232422,-0.16927357017993927,-0.17004041373729706,-0.1520022302865982,-0.12153229117393494,-0.16995660960674286,-0.15399152040481567,-0.1688639223575592,-0.12940151989459991,-0.14823850989341736,-0.16571950912475586,-0.1666497439146042,-0.15872809290885925,-0.13612519204616547,-0.15909558534622192,-0.16343343257904053,-0.1642434149980545,-0.1685590147972107,-0.16675381362438202,-0.16808080673217773,-0.1684810370206833,-0.16548658907413483,-0.16980352997779846,-0.14186538755893707,-0.1627647876739502,-0.1595020294189453,-0.1687300056219101,-0.14540481567382812,-0.1676459163427353,-0.15091748535633087,-0.161803737282753,-0.16236837208271027,-0.16925372183322906,-0.1636858731508255,-0.15584613382816315,-0.13828003406524658,-0.16833846271038055,-0.16601981222629547,-0.16408880054950714,-0.16824503242969513,-0.16212134063243866,-0.16962473094463348,-0.1464959681034088,-0.16926705837249756,-0.17003831267356873,-0.1647474616765976,-0.15015040338039398,-0.15109165012836456,-0.17003382742404938,-0.15592075884342194,-0.1417069435119629,-0.1403418630361557,-0.1513148993253708,-0.16091512143611908,-0.16117563843727112,-0.15695197880268097,-0.13860556483268738,-0.10595192760229111,-0.16923102736473083,-0.17001916468143463,-0.16710835695266724,-0.15205295383930206,-0.16860245168209076,-0.16856057941913605,-0.1609119325876236,-0.16962338984012604,-0.1344515085220337,-0.16899870336055756,-0.1645912081003189,-0.1661320924758911,-0.16771458089351654,-0.14978952705860138,-0.1698659509420395,-0.16579250991344452,-0.15100039541721344,-0.16989067196846008,-0.166906476020813,-0.17003026604652405,-0.15297071635723114,-0.1513623595237732,-0.1700374335050583,-0.16058874130249023,-0.1700400859117508,-0.15752454102039337,-0.16552487015724182,-0.1659507006406784,-0.16985173523426056,-0.1625693291425705,-0.16965346038341522,-0.15876314043998718,-0.1682470589876175,-0.16367343068122864,-0.16784244775772095,-0.14482249319553375,-0.16539229452610016,-0.16893860697746277,-0.1682148277759552,-0.16026650369167328,-0.16174155473709106,-0.1697642058134079,-0.16593575477600098,-0.1632058471441269,-0.167511984705925,-0.16888664662837982,-0.1699443757534027,-0.15588171780109406,-0.15774019062519073,-0.1682640016078949,-0.16919931769371033,-0.1580355316400528,-0.1623626947402954,-0.16851314902305603,-0.16139769554138184,-0.16960252821445465,-0.14563298225402832,-0.151925727725029,-0.169663205742836,-0.15029793977737427,-0.15200766921043396,-0.16942720115184784,-0.14522811770439148,-0.16968141496181488,-0.16902224719524384,-0.1598787158727646,-0.14274421334266663,-0.15643207728862762,-0.1494055837392807,-0.07675211131572723,-0.16651491820812225,-0.16742049157619476,-0.14498667418956757,-0.1700042337179184,-0.15672115981578827,-0.1686444729566574,-0.16101859509944916,-0.1699664443731308,-0.16959504783153534,-0.1637430042028427,-0.16802528500556946,-0.14450475573539734,-0.168224036693573,-0.16400697827339172,-0.169218510389328,-0.16204418241977692,-0.14948727190494537,-0.13459430634975433,-0.170025035738945,-0.14954683184623718,-0.1551828682422638,-0.16985420882701874,-0.169958233833313,-0.13814806938171387,-0.1651250720024109,-0.16584987938404083,-0.16740994155406952,-0.16900289058685303,-0.16772639751434326,-0.15222710371017456,-0.15165098011493683,-0.16840910911560059,-0.16470256447792053,-0.16769659519195557,-0.16923244297504425,-0.14950646460056305,-0.16963976621627808,-0.15248972177505493,-0.16669020056724548,-0.1621038019657135,-0.16006632149219513,-0.157196044921875,-0.15854765474796295,-0.17002607882022858,-0.16671951115131378,-0.15433499217033386,-0.15052646398544312,-0.1641659438610077,-0.16896633803844452,-0.1633567214012146,-0.15769422054290771,-0.164835125207901,-0.14815935492515564,-0.1695248931646347,-0.16891224682331085,-0.14345914125442505,-0.1664787381887436,-0.15339474380016327,-0.16951480507850647,-0.16606983542442322,-0.16633714735507965,-0.13782797753810883,-0.14962975680828094,-0.15091504156589508,-0.16919676959514618,-0.1620812565088272,-0.1160828098654747,-0.16107851266860962,-0.15826456248760223,-0.1362074911594391,-0.15409749746322632,-0.1646490842103958,-0.16791701316833496,-0.16676625609397888,-0.15186601877212524,-0.15382987260818481,-0.15704785287380219,-0.16748909652233124,-0.15876325964927673,-0.1670532375574112,-0.16791950166225433,-0.14164872467517853,-0.16525574028491974,-0.14593152701854706,-0.16314959526062012,-0.1659974455833435,-0.16984823346138,-0.1697198897600174,-0.16649901866912842,-0.16963517665863037,-0.16871322691440582,-0.15446946024894714,-0.1661403924226761,-0.16148163378238678,-0.16861513257026672,-0.16961625218391418,-0.1689731478691101,-0.16881798207759857,-0.1699824333190918,-0.16348102688789368,-0.15815412998199463,-0.16690309345722198,-0.15762291848659515,-0.1655251532793045,-0.16565103828907013,-0.14891162514686584,-0.16987715661525726,-0.1684272736310959,-0.1658404916524887,-0.1667936146259308,-0.16636040806770325,-0.16610565781593323,-0.1610095202922821,-0.1427348107099533,-0.16601869463920593,-0.1606474071741104,-0.1671595573425293,-0.15687596797943115,-0.15982064604759216,-0.16935354471206665,-0.16925153136253357,-0.16397084295749664,-0.16313141584396362,-0.16917063295841217,-0.16087079048156738,-0.1696198731660843,-0.14501161873340607,-0.16900105774402618,-0.16460564732551575,-0.150028795003891,-0.15159079432487488,-0.16958695650100708,-0.16012994945049286,-0.1697099506855011,-0.1593952178955078,-0.1598685383796692,-0.15732139348983765,-0.14923027157783508,-0.1592642068862915,-0.1567911058664322,-0.09593670815229416,-0.16935759782791138,-0.1491582691669464,-0.16707870364189148,-0.16281567513942719,-0.16850775480270386,-0.16878071427345276,-0.15090827643871307,-0.16478876769542694,-0.1418546736240387,-0.13968294858932495,-0.16566486656665802,-0.1626814305782318,-0.1658923178911209,-0.1637774258852005,-0.1408757120370865,-0.15752555429935455,-0.1696448177099228,-0.14608943462371826,-0.16478721797466278,-0.16935765743255615,-0.15428227186203003,-0.15545600652694702,-0.16298356652259827,-0.14816991984844208,-0.16691873967647552,-0.16313481330871582,-0.16535690426826477,-0.1570480465888977,-0.16989676654338837,-0.15913301706314087,-0.1678251326084137,-0.16393762826919556,-0.16181233525276184,-0.16986867785453796,-0.1696014553308487,-0.16944219172000885,-0.16329103708267212,-0.17004066705703735,-0.14693249762058258,-0.167732834815979,-0.16715706884860992,-0.16630680859088898,-0.16481372714042664,-0.16830231249332428,-0.1685173064470291,-0.16589175164699554,-0.16250914335250854,-0.1673324555158615,-0.15564410388469696,-0.15613658726215363,-0.17000755667686462,-0.1512754112482071,-0.1535770297050476,-0.16372422873973846,-0.1584446281194687,-0.1662684679031372,-0.16320247948169708,-0.16112928092479706,-0.16989481449127197,-0.16995079815387726,-0.1615176796913147,-0.16934241354465485,-0.143416628241539,-0.1450410634279251,-0.1598440408706665,-0.15544195473194122,-0.15996740758419037,-0.1480173021554947,-0.14853104948997498,-0.16237163543701172,-0.1410171240568161,-0.17003993690013885,-0.16807995736598969,-0.14569391310214996,-0.17000609636306763,-0.16531677544116974,-0.1534905880689621,-0.09863217175006866,-0.09310399740934372,-0.15137501060962677,-0.16997464001178741,-0.16027261316776276,-0.12932616472244263,-0.12898312509059906,-0.1464749276638031,-0.17003022134304047,-0.16987070441246033,-0.1353183090686798,-0.14564108848571777,-0.16575966775417328,-0.1640169769525528,-0.1699751764535904,-0.14372040331363678,-0.1533799171447754,-0.16062334179878235,-0.1264205127954483,-0.166935995221138,-0.16999061405658722,-0.14046651124954224,-0.15755288302898407,-0.1643529087305069,-0.15571504831314087,-0.16689790785312653,-0.16658900678157806,-0.1667550504207611,-0.1688031554222107,-0.15134470164775848,-0.1657533347606659,-0.16747158765792847,-0.1630721092224121,-0.16832642257213593,-0.16306039690971375,-0.16027770936489105,-0.16919656097888947,-0.16276566684246063,-0.157250314950943,-0.1654660850763321,-0.16615086793899536,-0.16979852318763733,-0.1657809168100357,-0.16094449162483215,-0.16808351874351501,-0.16535836458206177,-0.1626327782869339,-0.15177957713603973,-0.16844141483306885,-0.14908380806446075,-0.17002752423286438,-0.169446662068367,-0.15424610674381256,-0.15499265491962433,-0.1698661893606186,-0.16447053849697113,-0.16226066648960114,-0.15872342884540558,-0.16469904780387878,-0.16782726347446442,-0.16693797707557678,-0.1618805080652237,-0.15924663841724396,-0.16981999576091766,-0.16757772862911224,-0.14473795890808105,-0.15422828495502472,-0.14438915252685547,-0.15704870223999023,-0.14737708866596222,-0.148321732878685,-0.16810600459575653,-0.17001716792583466,-0.14171262085437775,-0.17000775039196014,-0.16661493480205536,-0.16997694969177246,-0.13122884929180145,-0.15375655889511108,-0.16813357174396515,-0.1589411199092865,-0.1604386866092682,-0.07901591807603836,-0.16938666999340057,-0.16388215124607086,-0.15394476056098938,-0.14199435710906982,-0.1642194539308548,-0.14453452825546265,-0.16381728649139404,-0.13402925431728363,-0.1105133444070816,-0.16992121934890747,-0.1699061542749405,-0.16031695902347565,-0.16602811217308044,-0.16961964964866638,-0.1696244478225708,-0.1629178673028946,-0.16958510875701904,-0.16898216307163239,-0.16854047775268555,-0.16983577609062195,-0.15528865158557892,-0.16864222288131714,-0.13685736060142517,-0.1664469689130783,-0.16061635315418243,-0.16441458463668823,-0.16524988412857056,-0.16063900291919708,-0.14360745251178741,-0.16821344196796417,-0.1600065678358078,-0.17003794014453888,-0.16138923168182373,-0.16753223538398743,-0.16764670610427856,-0.16823932528495789,-0.16136027872562408,-0.1674984097480774,-0.1695186197757721,-0.1520611196756363,-0.16587607562541962,-0.16656658053398132,-0.15213748812675476,-0.17002105712890625,-0.1677163541316986,-0.15626639127731323,-0.15735167264938354,-0.17004024982452393,-0.16024257242679596,-0.15196283161640167,-0.16495198011398315,-0.16067500412464142,-0.17003555595874786,-0.15290802717208862,-0.1696709245443344,-0.16896681487560272,-0.15146155655384064,-0.16290627419948578,-0.16317667067050934,-0.15998868644237518],\"xaxis\":\"x\",\"yaxis\":\"y\",\"type\":\"histogram\"}],                        {\"template\":{\"data\":{\"histogram2dcontour\":[{\"type\":\"histogram2dcontour\",\"colorbar\":{\"outlinewidth\":0,\"ticks\":\"\"},\"colorscale\":[[0.0,\"#0d0887\"],[0.1111111111111111,\"#46039f\"],[0.2222222222222222,\"#7201a8\"],[0.3333333333333333,\"#9c179e\"],[0.4444444444444444,\"#bd3786\"],[0.5555555555555556,\"#d8576b\"],[0.6666666666666666,\"#ed7953\"],[0.7777777777777778,\"#fb9f3a\"],[0.8888888888888888,\"#fdca26\"],[1.0,\"#f0f921\"]]}],\"choropleth\":[{\"type\":\"choropleth\",\"colorbar\":{\"outlinewidth\":0,\"ticks\":\"\"}}],\"histogram2d\":[{\"type\":\"histogram2d\",\"colorbar\":{\"outlinewidth\":0,\"ticks\":\"\"},\"colorscale\":[[0.0,\"#0d0887\"],[0.1111111111111111,\"#46039f\"],[0.2222222222222222,\"#7201a8\"],[0.3333333333333333,\"#9c179e\"],[0.4444444444444444,\"#bd3786\"],[0.5555555555555556,\"#d8576b\"],[0.6666666666666666,\"#ed7953\"],[0.7777777777777778,\"#fb9f3a\"],[0.8888888888888888,\"#fdca26\"],[1.0,\"#f0f921\"]]}],\"heatmap\":[{\"type\":\"heatmap\",\"colorbar\":{\"outlinewidth\":0,\"ticks\":\"\"},\"colorscale\":[[0.0,\"#0d0887\"],[0.1111111111111111,\"#46039f\"],[0.2222222222222222,\"#7201a8\"],[0.3333333333333333,\"#9c179e\"],[0.4444444444444444,\"#bd3786\"],[0.5555555555555556,\"#d8576b\"],[0.6666666666666666,\"#ed7953\"],[0.7777777777777778,\"#fb9f3a\"],[0.8888888888888888,\"#fdca26\"],[1.0,\"#f0f921\"]]}],\"heatmapgl\":[{\"type\":\"heatmapgl\",\"colorbar\":{\"outlinewidth\":0,\"ticks\":\"\"},\"colorscale\":[[0.0,\"#0d0887\"],[0.1111111111111111,\"#46039f\"],[0.2222222222222222,\"#7201a8\"],[0.3333333333333333,\"#9c179e\"],[0.4444444444444444,\"#bd3786\"],[0.5555555555555556,\"#d8576b\"],[0.6666666666666666,\"#ed7953\"],[0.7777777777777778,\"#fb9f3a\"],[0.8888888888888888,\"#fdca26\"],[1.0,\"#f0f921\"]]}],\"contourcarpet\":[{\"type\":\"contourcarpet\",\"colorbar\":{\"outlinewidth\":0,\"ticks\":\"\"}}],\"contour\":[{\"type\":\"contour\",\"colorbar\":{\"outlinewidth\":0,\"ticks\":\"\"},\"colorscale\":[[0.0,\"#0d0887\"],[0.1111111111111111,\"#46039f\"],[0.2222222222222222,\"#7201a8\"],[0.3333333333333333,\"#9c179e\"],[0.4444444444444444,\"#bd3786\"],[0.5555555555555556,\"#d8576b\"],[0.6666666666666666,\"#ed7953\"],[0.7777777777777778,\"#fb9f3a\"],[0.8888888888888888,\"#fdca26\"],[1.0,\"#f0f921\"]]}],\"surface\":[{\"type\":\"surface\",\"colorbar\":{\"outlinewidth\":0,\"ticks\":\"\"},\"colorscale\":[[0.0,\"#0d0887\"],[0.1111111111111111,\"#46039f\"],[0.2222222222222222,\"#7201a8\"],[0.3333333333333333,\"#9c179e\"],[0.4444444444444444,\"#bd3786\"],[0.5555555555555556,\"#d8576b\"],[0.6666666666666666,\"#ed7953\"],[0.7777777777777778,\"#fb9f3a\"],[0.8888888888888888,\"#fdca26\"],[1.0,\"#f0f921\"]]}],\"mesh3d\":[{\"type\":\"mesh3d\",\"colorbar\":{\"outlinewidth\":0,\"ticks\":\"\"}}],\"scatter\":[{\"fillpattern\":{\"fillmode\":\"overlay\",\"size\":10,\"solidity\":0.2},\"type\":\"scatter\"}],\"parcoords\":[{\"type\":\"parcoords\",\"line\":{\"colorbar\":{\"outlinewidth\":0,\"ticks\":\"\"}}}],\"scatterpolargl\":[{\"type\":\"scatterpolargl\",\"marker\":{\"colorbar\":{\"outlinewidth\":0,\"ticks\":\"\"}}}],\"bar\":[{\"error_x\":{\"color\":\"#2a3f5f\"},\"error_y\":{\"color\":\"#2a3f5f\"},\"marker\":{\"line\":{\"color\":\"#E5ECF6\",\"width\":0.5},\"pattern\":{\"fillmode\":\"overlay\",\"size\":10,\"solidity\":0.2}},\"type\":\"bar\"}],\"scattergeo\":[{\"type\":\"scattergeo\",\"marker\":{\"colorbar\":{\"outlinewidth\":0,\"ticks\":\"\"}}}],\"scatterpolar\":[{\"type\":\"scatterpolar\",\"marker\":{\"colorbar\":{\"outlinewidth\":0,\"ticks\":\"\"}}}],\"histogram\":[{\"marker\":{\"pattern\":{\"fillmode\":\"overlay\",\"size\":10,\"solidity\":0.2}},\"type\":\"histogram\"}],\"scattergl\":[{\"type\":\"scattergl\",\"marker\":{\"colorbar\":{\"outlinewidth\":0,\"ticks\":\"\"}}}],\"scatter3d\":[{\"type\":\"scatter3d\",\"line\":{\"colorbar\":{\"outlinewidth\":0,\"ticks\":\"\"}},\"marker\":{\"colorbar\":{\"outlinewidth\":0,\"ticks\":\"\"}}}],\"scattermapbox\":[{\"type\":\"scattermapbox\",\"marker\":{\"colorbar\":{\"outlinewidth\":0,\"ticks\":\"\"}}}],\"scatterternary\":[{\"type\":\"scatterternary\",\"marker\":{\"colorbar\":{\"outlinewidth\":0,\"ticks\":\"\"}}}],\"scattercarpet\":[{\"type\":\"scattercarpet\",\"marker\":{\"colorbar\":{\"outlinewidth\":0,\"ticks\":\"\"}}}],\"carpet\":[{\"aaxis\":{\"endlinecolor\":\"#2a3f5f\",\"gridcolor\":\"white\",\"linecolor\":\"white\",\"minorgridcolor\":\"white\",\"startlinecolor\":\"#2a3f5f\"},\"baxis\":{\"endlinecolor\":\"#2a3f5f\",\"gridcolor\":\"white\",\"linecolor\":\"white\",\"minorgridcolor\":\"white\",\"startlinecolor\":\"#2a3f5f\"},\"type\":\"carpet\"}],\"table\":[{\"cells\":{\"fill\":{\"color\":\"#EBF0F8\"},\"line\":{\"color\":\"white\"}},\"header\":{\"fill\":{\"color\":\"#C8D4E3\"},\"line\":{\"color\":\"white\"}},\"type\":\"table\"}],\"barpolar\":[{\"marker\":{\"line\":{\"color\":\"#E5ECF6\",\"width\":0.5},\"pattern\":{\"fillmode\":\"overlay\",\"size\":10,\"solidity\":0.2}},\"type\":\"barpolar\"}],\"pie\":[{\"automargin\":true,\"type\":\"pie\"}]},\"layout\":{\"autotypenumbers\":\"strict\",\"colorway\":[\"#636efa\",\"#EF553B\",\"#00cc96\",\"#ab63fa\",\"#FFA15A\",\"#19d3f3\",\"#FF6692\",\"#B6E880\",\"#FF97FF\",\"#FECB52\"],\"font\":{\"color\":\"#2a3f5f\"},\"hovermode\":\"closest\",\"hoverlabel\":{\"align\":\"left\"},\"paper_bgcolor\":\"white\",\"plot_bgcolor\":\"#E5ECF6\",\"polar\":{\"bgcolor\":\"#E5ECF6\",\"angularaxis\":{\"gridcolor\":\"white\",\"linecolor\":\"white\",\"ticks\":\"\"},\"radialaxis\":{\"gridcolor\":\"white\",\"linecolor\":\"white\",\"ticks\":\"\"}},\"ternary\":{\"bgcolor\":\"#E5ECF6\",\"aaxis\":{\"gridcolor\":\"white\",\"linecolor\":\"white\",\"ticks\":\"\"},\"baxis\":{\"gridcolor\":\"white\",\"linecolor\":\"white\",\"ticks\":\"\"},\"caxis\":{\"gridcolor\":\"white\",\"linecolor\":\"white\",\"ticks\":\"\"}},\"coloraxis\":{\"colorbar\":{\"outlinewidth\":0,\"ticks\":\"\"}},\"colorscale\":{\"sequential\":[[0.0,\"#0d0887\"],[0.1111111111111111,\"#46039f\"],[0.2222222222222222,\"#7201a8\"],[0.3333333333333333,\"#9c179e\"],[0.4444444444444444,\"#bd3786\"],[0.5555555555555556,\"#d8576b\"],[0.6666666666666666,\"#ed7953\"],[0.7777777777777778,\"#fb9f3a\"],[0.8888888888888888,\"#fdca26\"],[1.0,\"#f0f921\"]],\"sequentialminus\":[[0.0,\"#0d0887\"],[0.1111111111111111,\"#46039f\"],[0.2222222222222222,\"#7201a8\"],[0.3333333333333333,\"#9c179e\"],[0.4444444444444444,\"#bd3786\"],[0.5555555555555556,\"#d8576b\"],[0.6666666666666666,\"#ed7953\"],[0.7777777777777778,\"#fb9f3a\"],[0.8888888888888888,\"#fdca26\"],[1.0,\"#f0f921\"]],\"diverging\":[[0,\"#8e0152\"],[0.1,\"#c51b7d\"],[0.2,\"#de77ae\"],[0.3,\"#f1b6da\"],[0.4,\"#fde0ef\"],[0.5,\"#f7f7f7\"],[0.6,\"#e6f5d0\"],[0.7,\"#b8e186\"],[0.8,\"#7fbc41\"],[0.9,\"#4d9221\"],[1,\"#276419\"]]},\"xaxis\":{\"gridcolor\":\"white\",\"linecolor\":\"white\",\"ticks\":\"\",\"title\":{\"standoff\":15},\"zerolinecolor\":\"white\",\"automargin\":true,\"zerolinewidth\":2},\"yaxis\":{\"gridcolor\":\"white\",\"linecolor\":\"white\",\"ticks\":\"\",\"title\":{\"standoff\":15},\"zerolinecolor\":\"white\",\"automargin\":true,\"zerolinewidth\":2},\"scene\":{\"xaxis\":{\"backgroundcolor\":\"#E5ECF6\",\"gridcolor\":\"white\",\"linecolor\":\"white\",\"showbackground\":true,\"ticks\":\"\",\"zerolinecolor\":\"white\",\"gridwidth\":2},\"yaxis\":{\"backgroundcolor\":\"#E5ECF6\",\"gridcolor\":\"white\",\"linecolor\":\"white\",\"showbackground\":true,\"ticks\":\"\",\"zerolinecolor\":\"white\",\"gridwidth\":2},\"zaxis\":{\"backgroundcolor\":\"#E5ECF6\",\"gridcolor\":\"white\",\"linecolor\":\"white\",\"showbackground\":true,\"ticks\":\"\",\"zerolinecolor\":\"white\",\"gridwidth\":2}},\"shapedefaults\":{\"line\":{\"color\":\"#2a3f5f\"}},\"annotationdefaults\":{\"arrowcolor\":\"#2a3f5f\",\"arrowhead\":0,\"arrowwidth\":1},\"geo\":{\"bgcolor\":\"white\",\"landcolor\":\"#E5ECF6\",\"subunitcolor\":\"white\",\"showland\":true,\"showlakes\":true,\"lakecolor\":\"white\"},\"title\":{\"x\":0.05},\"mapbox\":{\"style\":\"light\"}}},\"xaxis\":{\"anchor\":\"y\",\"domain\":[0.0,1.0],\"title\":{\"text\":\"value\"},\"range\":[-0.5,1]},\"yaxis\":{\"anchor\":\"x\",\"domain\":[0.0,1.0],\"title\":{\"text\":\"count\"}},\"legend\":{\"title\":{\"text\":\"variable\"},\"tracegroupgap\":0},\"title\":{\"text\":\"L1N157\"},\"barmode\":\"relative\",\"width\":700},                        {\"responsive\": true}                    ).then(function(){\n",
       "                            \n",
       "var gd = document.getElementById('6a5e4a61-de4b-46e3-9448-d2292a147789');\n",
       "var x = new MutationObserver(function (mutations, observer) {{\n",
       "        var display = window.getComputedStyle(gd).display;\n",
       "        if (!display || display === 'none') {{\n",
       "            console.log([gd, 'removed!']);\n",
       "            Plotly.purge(gd);\n",
       "            observer.disconnect();\n",
       "        }}\n",
       "}});\n",
       "\n",
       "// Listen for the removal of the full notebook cells\n",
       "var notebookContainer = gd.closest('#notebook-container');\n",
       "if (notebookContainer) {{\n",
       "    x.observe(notebookContainer, {childList: true});\n",
       "}}\n",
       "\n",
       "// Listen for the clearing of the current output cell\n",
       "var outputEl = gd.closest('.output');\n",
       "if (outputEl) {{\n",
       "    x.observe(outputEl, {childList: true});\n",
       "}}\n",
       "\n",
       "                        })                };                });            </script>        </div>"
      ]
     },
     "metadata": {},
     "output_type": "display_data"
    },
    {
     "data": {
      "text/html": [
       "<div>                            <div id=\"0ddee083-2d7a-47c3-afad-4d92a9ec44bd\" class=\"plotly-graph-div\" style=\"height:525px; width:700px;\"></div>            <script type=\"text/javascript\">                require([\"plotly\"], function(Plotly) {                    window.PLOTLYENV=window.PLOTLYENV || {};                                    if (document.getElementById(\"0ddee083-2d7a-47c3-afad-4d92a9ec44bd\")) {                    Plotly.newPlot(                        \"0ddee083-2d7a-47c3-afad-4d92a9ec44bd\",                        [{\"alignmentgroup\":\"True\",\"bingroup\":\"x\",\"hovertemplate\":\"variable=0\\u003cbr\\u003evalue=%{x}\\u003cbr\\u003ecount=%{y}\\u003cextra\\u003e\\u003c\\u002fextra\\u003e\",\"legendgroup\":\"0\",\"marker\":{\"color\":\"#636efa\",\"pattern\":{\"shape\":\"\"}},\"name\":\"0\",\"offsetgroup\":\"0\",\"orientation\":\"v\",\"showlegend\":true,\"x\":[-0.07051069289445877,-0.10093092918395996,0.05223263055086136,0.16001707315444946,-0.013774486258625984,0.04083715006709099,-0.016877388581633568,-0.10827832669019699,0.00679152924567461,-0.05255917087197304,-0.10895171016454697,-0.11968840658664703,-0.12214037030935287,-0.03964904323220253,-0.013889503665268421,0.03211922571063042,-0.12325341254472733,-0.11130325496196747,-0.047487903386354446,-0.008018423803150654,-0.12215232104063034,-0.13018174469470978,-0.158877432346344,-0.1634857952594757,-0.10087481886148453,-0.1444072276353836,-0.16206298768520355,-0.12193676829338074,-0.167363703250885,-0.16815294325351715,-0.16939353942871094,-0.1562676876783371,-0.10302247107028961,-0.12061012536287308,-0.15523561835289001,-0.10373632609844208,-0.01166908536106348,-0.029705626890063286,-0.1345093846321106,-0.09535269439220428,-0.1261114776134491,-0.0630721002817154,0.0008451329194940627,-0.015879733487963676,-0.1147455945611,-0.13137014210224152,0.10971775650978088,-0.017972301691770554,-0.12961764633655548,-0.13708093762397766,0.016313806176185608,-0.09283361583948135,0.00034631253220140934,-0.15692821145057678,-0.10637035965919495,0.0018102300819009542,-0.03450427204370499,0.551838755607605,-0.0029985341243445873,-0.0363529808819294,-0.10945071280002594,0.22903941571712494,-0.0763496682047844,-0.13433636724948883,-0.13162055611610413,-0.10343616455793381,0.011933591216802597,-0.17002128064632416,-0.1465487778186798,-0.13654102385044098,-0.15329588949680328,-0.08932889997959137,0.027707181870937347,0.32433006167411804,0.0009868204360827804,0.06563455611467361,-0.0798344612121582,-0.12219489365816116,-0.0321919247508049,-0.0028056567534804344,-0.09148797392845154,-0.004609611351042986,-0.02465580590069294,-0.043751392513513565,0.5171329379081726,-0.06689764559268951,0.07848725467920303,-0.11573785543441772,-0.08410768955945969,0.03386346623301506,-0.08535296469926834,0.016060611233115196,-0.14669044315814972,-0.08547325432300568,-0.05833236128091812,-0.15377655625343323,-0.10475432127714157,-0.001592625048942864,0.4014904499053955,-0.11853625625371933,-0.004469100385904312,0.013525592163205147,-0.16910476982593536,-0.1565505862236023,-0.05596131086349487,-0.01670028828084469,-0.16406433284282684,-0.15908341109752655,-0.09091493487358093,-0.015395762398838997,0.002779404865577817,0.10994578152894974,0.04597599059343338,-0.125467449426651,-0.09293810278177261,-0.13482840359210968,-0.16212831437587738,-0.10905028879642487,-0.08130482584238052,-0.031595371663570404,-0.033434174954891205,-0.05525267869234085,0.1294330209493637,0.028935754671692848,-0.08588486164808273,0.026545759290456772,0.20367538928985596,0.007445071823894978,-0.07739915698766708,-8.642458851682022e-05,-0.051868751645088196,-0.12530028820037842,0.024086875841021538,-0.041694290935993195,-0.0046135918237268925,-0.1526351273059845,-0.08519493788480759,-0.10194070637226105,-0.13472428917884827,0.4393445551395416,-0.06794270873069763,0.06481785327196121,-0.1256604641675949,-0.02985609509050846,-0.11751974374055862,-0.0780201256275177,-0.015503361821174622,-0.15778373181819916,-0.09368595480918884,-0.04365542158484459,0.0435904785990715,-0.12687622010707855,-0.034846749156713486,0.0018781264079734683,-0.11399509757757187,-0.044950272887945175,0.06715720891952515,0.06896471977233887,-0.16401048004627228,-0.04121824726462364,-0.1165585145354271,-0.03147401288151741,-0.14030075073242188,-0.11214472353458405,-0.06550829112529755,-0.001475305762141943,0.4240413308143616,-0.038945212960243225,0.11925058811903,0.0429924875497818,-0.03554173931479454,-0.088725745677948,-0.05827775225043297,0.12325571477413177,-0.12244565039873123,-0.11555364727973938,0.11908579617738724,-0.04356618598103523,-0.028730273246765137,-0.13651727139949799,-0.1428874433040619,-0.15563009679317474,-0.09405593574047089,0.41172319650650024,-0.09602943062782288,-0.07056623697280884,0.0449259914457798,-0.15226507186889648,-0.12387514859437943,-0.11983725428581238,-0.03658783435821533,-0.09415654838085175,-0.08141280710697174,0.04624256119132042,-0.12086768448352814,-0.09649351239204407,-0.15370473265647888,-0.09204389899969101,0.040043655782938004,-0.09461349993944168,-0.03858421742916107,0.05326288193464279,0.09075002372264862,-0.15869955718517303,-0.09550367295742035,-0.03386998921632767,0.026654958724975586,-0.02569262869656086,-0.10040678083896637,-0.1476120799779892,-0.07732603698968887,-0.009932666085660458,-0.05680728703737259,-0.053057678043842316,-0.11722812056541443,-0.061512794345617294,-0.10766148567199707,-0.13541273772716522,0.014496438205242157,-0.12646016478538513,-0.09891712665557861,-0.14666710793972015,0.010668206959962845,-0.13531146943569183,-0.16493366658687592,-0.10301978141069412,0.4358324408531189,-0.09046536684036255,-0.04265923053026199,-0.13289609551429749,-0.09721483290195465,-0.1262434720993042,-0.15204890072345734,-0.1467009335756302,-0.14320077002048492,-0.14817211031913757,-0.08322317153215408,-0.10783804953098297,0.12580300867557526,0.004291337449103594,-0.0867914929986,0.22922232747077942,0.028968075290322304,-0.048943519592285156,-0.11716299504041672,-0.061255570501089096,-0.015128265134990215,0.032958053052425385,0.10194151103496552,0.0001910575811052695,0.00979872141033411,-0.01660912111401558,0.45318397879600525,-0.0491531603038311,-0.1698015332221985,-0.048540521413087845,-0.06823572516441345,-0.08745677769184113,-0.17004071176052094,-0.09841371327638626,0.011702784337103367,0.009041245095431805,-0.011279051192104816,-0.13284048438072205,-0.05474017933011055,-0.12390121817588806,-0.1356315016746521,-0.07545417547225952,-0.002480150666087866,-0.09674379974603653,-0.10423443466424942,-0.09850671887397766,-0.11550511419773102,-0.10356513410806656,-0.10714525729417801,-0.1475251019001007,-0.11710565537214279,-0.14490117132663727,-0.06805915385484695,0.43839165568351746,-0.058041010051965714,-0.02303176000714302,-0.09886335581541061,-0.13389252126216888,-0.007617964409291744,-0.14562760293483734,-0.07735088467597961,-0.12723137438297272,-0.15512754023075104,-0.10151385515928268,-0.11667631566524506,-0.12656991183757782,0.44801071286201477,-0.056468892842531204,-0.1389838308095932,-0.05456070601940155,-0.08848347514867783,-0.025509951636195183,-0.07186205685138702,-0.08534176647663116,0.012803406454622746,-0.012333185411989689,-0.16242657601833344,-0.06953620165586472,-0.02844219096004963,-0.07095655053853989,0.47352510690689087,0.08273261040449142,0.009187730960547924,-0.1415318250656128,-0.16681788861751556,-0.10051443427801132,-0.010786832310259342,-0.10221852362155914,-0.14296051859855652,-0.1402614861726761,-0.09427135437726974,-0.05415608361363411,0.046425264328718185,-0.012345798313617706,-0.14131784439086914,-0.02620740979909897,-0.09573255479335785,-0.12630228698253632,-0.04130079597234726,-0.09729776531457901,-0.06783938407897949,-0.0402287021279335,-0.007786878384649754,-0.03853856399655342,-0.15097764134407043,0.17051160335540771,0.08356519788503647,-0.13100354373455048,-0.0744735449552536,-0.05496741458773613,-0.013876277953386307,-0.01244429126381874,-0.09127089381217957,-0.14441242814064026,0.09246199578046799,-0.14977169036865234,-0.04161059111356735,-0.13008429110050201,-0.04819278046488762,-0.09393744170665741,0.0037952857092022896,-0.08004000037908554,-0.08352386951446533,-0.15890775620937347,-0.03545128181576729,-0.02744748443365097,-0.14093774557113647,-0.13203538954257965,0.3792552947998047,0.10035288333892822,0.0037151039578020573,-0.08627132326364517,-0.012473804876208305,-0.05013663321733475,-0.07975722849369049,-0.14270693063735962,-0.026884987950325012,-0.035603780299425125,-0.028942836448550224,0.0799463614821434,-0.015439394861459732,-0.08646582067012787,0.24396859109401703,-0.061781350523233414,-0.05565689504146576,-0.10532200336456299,-0.09210407733917236,-0.1700146347284317,-0.10118057578802109,-0.02096024714410305,-0.13009430468082428,0.10873299837112427,-0.10308702290058136,-0.13744519650936127,-0.16407734155654907,-0.12276327610015869,-0.13039466738700867,-0.04016580805182457,-0.12551932036876678,-0.008959433063864708,-0.13267791271209717,0.05292734503746033,-0.1423787772655487,-0.11679574102163315,-0.030570276081562042,-0.07664740830659866,-0.1337713599205017,-0.14010612666606903,-0.03662173077464104,-0.004404292441904545,-0.025473691523075104,-0.10141214728355408,0.060333963483572006,-0.14233092963695526,-0.07523509860038757,-0.05426928028464317,0.2605597674846649,0.028731154277920723,-0.08977331221103668,-0.11199761182069778,-0.05846003443002701,-0.098393015563488,-0.15868906676769257,-0.12873223423957825,0.012110983952879906,-0.14285147190093994,-0.10171516239643097,-0.15440721809864044,-0.01809849962592125,-0.14078857004642487,-0.16822399199008942,-0.03614308312535286,-0.0368458591401577,-0.1177993044257164,-0.05095626041293144,0.03603797033429146,-0.0006428927299566567,-0.10573750734329224,0.01631118915975094,-0.0098087377846241,0.34010934829711914,-0.10731691867113113,-0.07891693711280823,-0.06952200829982758,-0.1282816380262375,-0.11386239528656006,-0.1151408925652504,-0.01383696123957634,-0.010400932282209396,-0.15286491811275482,-0.09617333114147186,-0.10146034508943558,0.06986749917268753,-0.12731535732746124,-0.15534339845180511,-0.15545304119586945,0.33194002509117126,-0.039042357355356216,0.225128173828125,-0.10170497000217438,-0.07364810258150101,-0.03453589603304863,-0.008422564715147018,0.2054387778043747,-0.054919760674238205,-0.02629593014717102,-0.015170548111200333,-0.15103141963481903,-0.038383860141038895,0.42411676049232483,-0.06312554329633713,-0.05648598074913025,-0.16984665393829346,-0.1624511480331421,-0.1345502883195877,-0.14485591650009155,-0.16516266763210297,-0.0806221142411232,-0.07956896722316742,-0.014515696093440056,-0.047174397855997086,-0.02369060181081295,-0.08768101781606674,0.5015660524368286,-0.043158046901226044,-0.06670086085796356,-0.1310107707977295,-0.12684595584869385,-0.12285411357879639,-0.07672815024852753,-0.011561929248273373,0.06512527167797089,-0.07595010101795197,-0.12270459532737732,-0.01076724287122488,0.5618681907653809,-0.0561433769762516,-0.09353671222925186,0.004187405109405518,-0.04336951673030853,-0.14522677659988403,-0.12706752121448517,-0.001958196284249425,0.018850388005375862,-0.09186223894357681,0.1974804401397705,-0.030761023983359337,-0.15443211793899536,-0.11060034483671188,-0.13402140140533447,0.24161963164806366,0.09719473123550415,-0.10637397319078445,0.018301645293831825,-0.15603576600551605,-0.03457401692867279,-0.14539885520935059,-0.16962283849716187,-0.0590510368347168,-0.02905781753361225,-0.025344854220747948,-0.15477249026298523,-0.16990473866462708,-0.10054846853017807,-0.08195649832487106,0.46429547667503357,0.10018068552017212,-0.06123723089694977,-0.12585562467575073,-0.0453549325466156,-0.07595312595367432,-0.14512747526168823,-0.008481629192829132,-0.05159681662917137,-0.15292450785636902,-0.16196522116661072,-0.09076646715402603,-0.033154506236314774,-0.16268117725849152,-0.16785286366939545,-0.1595596820116043,-0.11153841763734818,-0.10099966078996658,-0.04964132979512215,-0.13193649053573608,-0.16935843229293823,-0.14974379539489746,-0.08153092861175537,-0.10566411912441254,-0.07887271046638489,-0.09358832985162735,0.024999942630529404,-0.1102895587682724,-0.057713963091373444,-0.011309386231005192,0.4900660216808319,-0.13878460228443146,-0.09667502343654633,-0.02447175793349743,-0.08782418072223663,-0.09891980141401291,-0.13062705099582672,-0.09911784529685974,-0.08932147920131683,-0.04203110188245773,-0.004034015350043774,-0.16948240995407104,-0.09523560106754303,-0.09011419117450714,-0.06534001231193542,-0.16988010704517365,-0.02373773418366909,-0.08540370315313339,0.4352663457393646,-0.1425134837627411,0.03127235174179077,-0.134256511926651,-0.10791593790054321,-0.060657620429992676,-0.13871383666992188,-0.16535848379135132,0.0765443816781044,0.055355820804834366,-0.16777190566062927,-0.019109226763248444,-0.06478263437747955,-0.01677715592086315,-0.16257721185684204,-0.14260344207286835,-0.1240871250629425,-0.09421771764755249,0.34786492586135864,-0.13212157785892487,0.20353859663009644,0.07467741519212723,-0.036377958953380585,-0.022189117968082428,-0.1500197947025299,-0.09396922588348389,-0.07893018424510956,-0.09758813679218292,-0.005457736551761627,-0.1248263567686081,-0.07878316938877106,-0.1540122628211975,-0.03524760901927948,0.529254674911499,0.00043724861461669207,-0.12531599402427673,-0.07836597412824631,0.044820841401815414,-0.1302040070295334,-0.05792384594678879,-0.12926678359508514,-0.12541463971138,0.005752888973802328,-0.03038174659013748,-0.027609843760728836,-0.09284479171037674,-0.14267686009407043,-0.0767645463347435,0.47362637519836426,-0.15796947479248047,-0.1553458869457245,-0.15060368180274963,-0.12922579050064087,-0.13728976249694824,-0.1538018137216568,-0.15930087864398956,-0.07684490084648132,-0.14000403881072998,0.016635185107588768,-0.0721793994307518,-0.16834555566310883,-0.04631729796528816,-0.07027505338191986,-0.026915477588772774,-0.08760666102170944,-0.07010725885629654,-0.14418308436870575,0.04893013834953308,-0.027824878692626953,-0.04519489035010338,-0.009023619815707207,-0.019380081444978714,-0.12285026907920837,0.06017296016216278,-0.11072811484336853,-0.097601018846035,-0.059348251670598984,-0.11077848821878433,-0.11952002346515656,-0.1221173033118248,0.0088204899802804,-0.10655141621828079,0.023252112790942192,-0.08887363970279694,-0.0052364179864525795,-0.07580598443746567,-0.06940406560897827,-0.1499520093202591,-0.1345725953578949,-0.04309888929128647,-0.15542064607143402,-0.13075262308120728,-0.031139960512518883,-0.05006211996078491,-0.02113795280456543,-0.16953514516353607,-0.1648751050233841,-0.1551528126001358,-0.1564570516347885,-0.118279367685318,-0.16976246237754822,-0.15303920209407806,-0.1083909422159195,-0.09784333407878876,-0.10977338254451752,-0.1273837685585022,-0.11258626729249954,-0.15574656426906586,-0.12276288866996765,-0.10662230104207993,0.045910075306892395,-0.04824777692556381,-0.07902587950229645,0.014882109127938747,-0.03411718085408211,-0.03827758505940437,0.045636776834726334,-0.004996607545763254,-0.09010134637355804,-0.12114274501800537,-0.1351451724767685,-0.09200447797775269,-0.1363341361284256,-0.1205374002456665,-0.06762031465768814,-0.07154099643230438,-0.16973553597927094,-0.1240914985537529,-0.11868954449892044,-0.04166364297270775,0.0016826713690534234,-0.0957806408405304,-0.059670086950063705,-0.12671275436878204,-0.04693591222167015,-0.024755442515015602,-0.003266370389610529,-0.10438559204339981,-0.13515350222587585,-0.06710164248943329,-0.1352102905511856,-0.022958848625421524,-0.14309096336364746,-0.1137315109372139,-0.16855095326900482,-0.09556456655263901,0.06434265524148941,-0.09785881638526917,-0.1229056566953659,-0.12271471321582794,-0.06487112492322922,-0.1585986465215683,-0.10201751440763474,0.04035526141524315,-0.013206756673753262,-0.09954416751861572,-0.12457094341516495,-0.12405628710985184,-0.05100332573056221,-0.1497315764427185,-0.11665014177560806,-0.1664518415927887,-0.13913165032863617,-0.09405757486820221,-0.08605153858661652,-0.009148634970188141,-0.06924288719892502,-0.06266732513904572,-0.014860153198242188,0.0350240096449852,-0.06249123439192772,-0.08786151558160782,-0.08398233354091644,-0.11512982100248337,0.14265716075897217,0.06468834728002548,-0.05304902791976929,-0.003125444520264864,-0.13570645451545715,-0.052053533494472504,0.03932458162307739,-0.1468167006969452,-0.08301039040088654,-0.061912789940834045,-0.15118782222270966,-0.15022853016853333,-0.031041095033288002,-0.0034241063985973597,-0.0054422286339104176,-0.007797683123499155,-0.08565721660852432,-0.06967659294605255,-0.14337335526943207,-0.1322653889656067,-0.12533117830753326,-0.043556660413742065,-0.027574099600315094,-0.09591016173362732,-0.11958671361207962,-0.08376801759004593,0.09437697380781174,0.02331533096730709,-0.03289749473333359,-0.1502050757408142,0.04778492823243141,0.002908123657107353,-0.09488201886415482,-0.03293728828430176,-0.06662555783987045,-0.14458508789539337,-0.10191194713115692,-0.07398133724927902,-0.12154020369052887,-0.029828013852238655,-0.12102724611759186,-0.036334142088890076,-0.14524851739406586,-0.11691165715456009,-0.022495904937386513,0.01772233471274376,0.017036985605955124,-0.04535548761487007,-0.15019471943378448,0.11370035260915756,-0.11789434403181076,-0.1419525444507599,-0.05935825780034065,-0.03625587373971939,-0.01227951142936945,-0.0711386650800705,-0.030950238928198814,-0.09312910586595535,-0.06962273269891739,-0.06381101161241531,0.03079470433294773,-0.14526616036891937,-0.10001692175865173,-0.12135708332061768,0.07401710003614426,-0.08090130984783173,-0.12582258880138397,-0.1262848824262619,-0.0013429702958092093,-0.1067180261015892,-0.1397961676120758,-0.131051704287529,-0.05198688805103302,0.043207842856645584,-0.10429809242486954,-0.12149541825056076,0.024457862600684166,-0.1548096239566803,-0.06753871589899063,-0.015349854715168476,-0.16528813540935516,-0.02979443036019802,0.08534488826990128,-0.11419764906167984,-0.06745409965515137,0.0022961245849728584,-0.1389831006526947,-0.1600789576768875,-0.03944757208228111,-0.1640898585319519,-0.12280699610710144,-0.10067994892597198,0.01043435838073492,0.0631374716758728,0.03151979297399521,0.027965962886810303,-0.07189325988292694,-0.03489632159471512,-0.13078996539115906,-0.022694258019328117,-0.14093084633350372,-0.12049335986375809,-0.1550731658935547,-0.08903418481349945,-0.16837745904922485,-0.04827335476875305,-0.08900678902864456,-0.0025570886209607124,0.020096078515052795,-0.017973091453313828,-0.035218313336372375,-0.05689062550663948,-0.09292268753051758,-0.13759204745292664,-0.15926244854927063,-0.06750144064426422,-0.08310260623693466,-0.009184705093502998,-0.13454842567443848,-0.15319333970546722,-0.16141408681869507,-0.09916521608829498,-0.0713743269443512,0.023387862369418144,-0.01446502935141325,-0.06995939463376999,-0.0800108090043068,0.0007174050551839173,-0.03041846863925457,-0.14464041590690613,-0.06885602325201035,-0.07127389311790466,-0.1331668496131897,-0.031576886773109436,-0.02282330021262169,-0.00410493602976203,0.009083898738026619,-0.04296307638287544,-0.006680971477180719,-0.09549468010663986,-0.09160483628511429,-0.12105225026607513,-0.05566005781292915,-0.10323234647512436,-0.15712277591228485,-0.1457836627960205,-0.14217154681682587,-0.04896252974867821,-0.12142736464738846,0.017569759860634804,0.041018661111593246,-0.06062611937522888,-0.011964911594986916,-0.0674394965171814,-0.1043441966176033,-0.041944559663534164,-0.14445728063583374,-0.09684307873249054,0.01034850999712944,0.006814719643443823,0.2285141497850418,-0.06072467193007469,-0.09927456080913544,0.046967603266239166,-0.1479530781507492,0.007792983204126358,-0.07970702648162842,-0.013095632195472717,-0.12782396376132965,-0.11647716164588928,-0.002144450321793556,-0.025393202900886536,0.015053939074277878,0.07056556642055511,-0.07496587187051773,0.12798547744750977,-0.10212966799736023,-0.06422748416662216,-0.13774333894252777,-0.07761289924383163,-0.10208413004875183,0.004735984839498997,0.021007245406508446,0.07158083468675613,-0.14861592650413513,-0.1611289530992508,-0.16657179594039917,-0.03305133059620857,-0.10710814595222473,-0.10266800224781036,0.14977900683879852,-0.15814109146595,0.0542132705450058,-0.03374835103750229,-0.14071717858314514,-0.12046606838703156,-0.06978744268417358,-0.12147753685712814,-0.15842299163341522,-0.10136697441339493,-0.0804973915219307,-0.011114615015685558,-0.0936696007847786,-0.14861196279525757,-0.08556085079908371,-0.0935235470533371,-0.060966458171606064,-0.09711156040430069,-0.050737086683511734,-0.15629929304122925,-0.13443079590797424,-0.05237774923443794,-0.08283079415559769,-0.11552783101797104,-0.1026996448636055,-0.1691151261329651,-0.16385583579540253,-0.08941303193569183,-0.0056858547031879425,-0.10455813258886337,0.08229689300060272,-0.0753442570567131,-0.09382946789264679,-0.05517924576997757,-0.0590224452316761,-0.016119718551635742,-0.06732004880905151,-0.01932697929441929,-0.11902739107608795,-0.14260214567184448,-0.14818638563156128,-0.14727407693862915,-0.15208762884140015,-0.05886290594935417,-0.1631746143102646,-0.11247264593839645,-0.0009145198855549097,-0.024975057691335678,0.04288165643811226,-0.1047222837805748,-0.0978241041302681,-0.08528672903776169,-0.05422815680503845,-0.10790414363145828,-0.1349896490573883,-0.152826726436615,-0.09916632622480392,-0.1005047932267189,0.00838778167963028,-0.09492326527833939,-0.0043471758253872395,0.13913249969482422,-0.13118678331375122,-0.09781737625598907,-0.15234430134296417,-0.1478005349636078,-0.11802604049444199,0.010720611549913883,-0.1487748920917511,-0.1656213104724884,-0.16889025270938873,-0.16139215230941772,-0.16974206268787384,-0.1641303449869156,-0.08782639354467392,-0.16448308527469635,0.040450457483530045,-0.07202577590942383,-0.015405908226966858,0.036320995539426804,-0.02017655037343502,-0.1329607516527176,0.04206273704767227,0.04590468481183052,-0.0781087875366211,0.09756121039390564,-0.11047716438770294,-0.14320087432861328,0.006331807468086481,-0.08481139689683914,-0.06204749271273613,-0.13792772591114044,-0.010312657803297043,-0.15896748006343842,-0.13312694430351257,0.01648681052029133,-0.12161608040332794,-0.1544913798570633,-0.12315613776445389,-0.05254877731204033,-0.16593152284622192,-0.0808759480714798,-0.10354041308164597,0.09269591420888901,0.014610348269343376,-0.15824134647846222,-0.07046864926815033,-0.09747082740068436,-0.11520645022392273,-0.09210464358329773,-0.1297474205493927,-0.16549821197986603,0.011986714787781239,-0.08983933180570602,-0.07526940107345581,-0.15984229743480682,-0.13901682198047638,-0.07935597002506256,0.029591133818030357,-0.16177375614643097,-0.16538673639297485,-0.07932595163583755,-0.09461940079927444,-0.06924223899841309,-0.15336401760578156,-0.153201162815094,-0.07677370309829712,-0.10038973391056061,-0.028165921568870544,-0.145273819565773,-0.08795680850744247,-0.1149706095457077,-0.14125807583332062,-0.02722814492881298,-0.09021244198083878,-0.08285918086767197,-0.03736982122063637,-0.06048766151070595,-0.1656702309846878,-0.1419302374124527,0.020606353878974915,-0.08421354740858078,0.14093273878097534,-0.12289533019065857,-0.0007573787588626146,-0.09864990413188934,-0.07552208006381989,-0.0803290531039238,-0.1403568983078003,-0.10941912233829498,-0.11370648443698883,-0.02400808595120907,-0.10082710534334183,-0.0401565283536911,-0.14211896061897278,-0.1521788090467453,-0.1433258354663849,-0.16965822875499725,-0.1229989305138588,-0.0328260213136673,0.04168557748198509,-0.12711486220359802,-0.09399112313985825,-0.12689967453479767,-0.1282687485218048,-0.031577762216329575,-0.1571267545223236,-0.1422196924686432,-0.06538278609514236,0.008343661203980446,-0.15759257972240448,-0.1629885584115982,-0.06572578847408295,-0.044096074998378754,0.08547408133745193,-0.1325879842042923,-0.14613205194473267,-0.15148811042308807,-0.08947795629501343,-0.018908172845840454,-0.09317415207624435,-0.12220171838998795,0.055311866104602814,-0.11303731799125671,0.06413381546735764,0.019340721890330315,-0.06248737499117851,-0.07959252595901489,-0.12025164812803268,-0.054397761821746826,-0.109104685485363,-0.16282914578914642,-0.13654744625091553,-0.15012729167938232,-0.05176931619644165,-0.09918951988220215,0.053089480847120285,-0.157211571931839,-0.15670107305049896,-0.1666741669178009,-0.11802234500646591,0.0029635538812726736,-0.06977715343236923,-0.028250033035874367,0.04790816456079483,-0.10440423339605331,-0.05745181813836098,-0.09612656384706497,-0.11078904569149017,-0.0268234945833683,-0.15047961473464966,-0.15778982639312744,-0.05099472403526306,0.028808586299419403,-0.08964429050683975,-0.10805786401033401,0.055852778255939484,-0.06382503360509872,-0.08924011886119843,-0.019714877009391785,-0.06353999674320221,-0.11856557428836823,-0.15630680322647095,-0.06179797276854515,-0.05095668137073517,-0.1229456216096878,0.06542177498340607,-0.07680147141218185,0.020805828273296356,-0.02546887844800949,-0.08929823338985443,-0.1298038810491562,-0.0146214934065938,-0.1572495996952057,-0.054508861154317856,-0.14551572501659393,-0.08105281740427017,-0.14295516908168793,-0.16977381706237793,-0.08377200365066528,-0.03943135216832161,-0.16413754224777222,-0.11920484900474548,-0.11058097332715988,0.05248990282416344,-0.15111678838729858,-0.15475642681121826,-0.12475363165140152,-0.10492080450057983,-0.0063675763085484505,-0.03047957643866539,-0.05903427302837372,-0.017299305647611618,-0.1322636753320694,0.024073371663689613,-0.1401059478521347,-0.047507207840681076,-0.15192462503910065,-0.12002866715192795,-0.08172964304685593,0.014135514385998249,-0.15768727660179138,-0.10969728976488113,-0.1389046311378479,-0.09325803071260452,-0.10615226626396179,0.0072925337590277195,-0.1038479208946228,-0.07963002473115921,-0.14634969830513,-0.16352157294750214,-0.11474651098251343,-0.09148512035608292,0.04152469336986542,-0.011606357991695404,-0.09911355376243591,-0.16185665130615234,-0.0864546000957489,-0.031695712357759476,-0.09175233542919159,0.031814198940992355,-0.07012701779603958,0.11582571268081665,-0.12221711128950119,-0.08118074387311935,-0.09985829889774323,-0.12045351415872574,-0.027267256751656532,-0.05341252312064171,-0.05814904347062111,-0.03849145397543907,-0.035098858177661896,-0.14564575254917145,-0.1365298628807068,-0.032618846744298935,-0.14848405122756958,-0.0893053412437439,0.047022104263305664,0.002129550091922283,-0.10683411359786987,-0.020460758358240128,-0.061711881309747696,-0.1277850717306137,-0.04102243110537529,-0.09794183820486069,-0.13470101356506348,-0.08396068215370178,-0.01539317611604929,-0.0226003285497427,-0.06134010851383209,0.010929642245173454,-0.10637056827545166,-0.16015654802322388,-0.09907163679599762,-0.06909316778182983,0.016533618792891502,-0.07815396040678024,-0.15856269001960754,-0.08874458074569702,0.005254304967820644,-0.09478360414505005,-0.0484820194542408,-0.05404198542237282,-0.042117420583963394,-0.09242330491542816,-0.16743040084838867,-0.0805283710360527,-0.019172489643096924,0.019314154982566833,-0.05912189558148384,0.02453785575926304,-0.11947344988584518,-0.006021095439791679,-0.06075714901089668,-0.01679413393139839,-0.08904531598091125,-0.10008366405963898,-0.0767163410782814,-0.13085970282554626,-0.06423991173505783,-0.046796709299087524,-0.022109854966402054,-0.05610927566885948,-0.04788525030016899,-0.13963061571121216,-0.14485013484954834,0.02155209891498089,-0.08082845062017441,-0.05108848586678505,-0.10357142984867096,-0.11266881227493286,-0.07685478031635284,-0.07412739843130112,-0.12259413301944733,-0.09128741919994354,-0.13809604942798615,-0.08334821462631226,-0.11126770824193954,-0.01414125133305788,0.04028088226914406,-0.07502191513776779,0.016911445185542107,-0.09820982068777084,-0.04331701248884201,-0.08637464046478271,-0.12454891949892044,-0.03101678006350994,-0.08846891671419144,-0.13953575491905212,-0.15164296329021454,-0.04682764410972595,-0.07446518540382385,-0.15178227424621582,0.08718206733465195,0.008481134660542011,-0.15443848073482513,-0.08563505858182907,0.008027762174606323,-0.08089961856603622,-0.12232330441474915,-0.15634064376354218,-0.1545126885175705,-0.13658244907855988,-0.04353564232587814,-0.0019121296936646104,-0.03220074623823166,-0.009783154353499413,-0.06607603281736374,-0.019373871386051178,-0.04550033062696457,-0.04701324924826622,-0.10948535054922104,-0.15421593189239502,-0.11381299793720245,-0.07945413887500763,-0.09308601170778275,-0.06956374645233154,-0.12145672738552094,-0.07821880280971527,0.013827897608280182,-0.10437139868736267,-0.028025975450873375,-0.06192104518413544,-0.14948107302188873,0.006513111758977175,-0.12938471138477325,0.03154219686985016,-0.014344287104904652,0.12186642736196518,-0.0012843060540035367,-0.08532610535621643,-0.14348191022872925,-0.049462344497442245,-0.030192390084266663,-0.0873894989490509,0.01428594533354044,-0.04994601756334305,-0.02780359424650669,-0.02700500749051571,0.02403871715068817,0.04903145879507065,-0.1284486949443817,-0.0069923861883580685,-0.16189777851104736,-0.1395324170589447,-0.010789725929498672,-0.01915779709815979,-0.13221879303455353,-0.1573738008737564,-0.11853097379207611,-0.011469163931906223,-0.009993874467909336,0.0007545232074335217,-0.0515722781419754,-0.1467137187719345,-0.10026229172945023,-0.07938370853662491,-0.06236022710800171,-0.03398517146706581,-0.017922786995768547,-0.13053326308727264,-0.14434371888637543,-0.07856029272079468,0.016054248437285423,-0.08871287107467651,-0.07531467080116272,-0.00163253303617239,-0.0023465293925255537,-0.14388298988342285,-0.03542531654238701,-0.11904982477426529,-0.01319915521889925,0.06769455224275589,-0.12655213475227356,-0.15352661907672882,-0.04524189606308937,0.05152065306901932,0.018257543444633484,-0.16987626254558563,-0.1618950515985489,-0.15010735392570496,-0.12280775606632233,-0.1276628077030182,-0.16972027719020844,0.029154982417821884,-0.12041550129652023,-0.1429547518491745,-0.07213811576366425,-0.041400715708732605,-0.12340715527534485,-0.12200300395488739,-0.08484216034412384,-0.10623300075531006,-0.037889666855335236,0.04563622549176216,-0.06428258121013641,0.06628086417913437,-0.06900418549776077,-0.051129162311553955,-0.06267604231834412,-0.10110852867364883,-0.16523131728172302,-0.12327693402767181,-0.10203582793474197,-0.1356307417154312,-0.1556302160024643,0.006459894590079784,0.27350053191185,-0.0024205585941672325,0.02485239878296852,-0.05995690077543259,-0.1529696136713028,-0.08770670741796494,0.03466281667351723,0.03328986465930939,0.00195635505951941,-0.0353984460234642,0.22176127135753632,-0.06664760410785675,-0.01650586538016796,-0.12026289850473404,-0.08773716539144516,-0.1005171537399292,-0.04369083419442177,-0.06029925495386124,-0.09067559242248535,-0.1340315341949463,-0.018289640545845032,0.0028813020326197147,-0.03899332508444786,-0.11357346922159195,0.045903053134679794,0.027289004996418953,-0.054221972823143005,-0.024826733395457268,-0.13304446637630463,-0.14749440550804138,-0.08598188310861588,-0.0012687001144513488,-0.04598135128617287,-0.008186155930161476,-0.016831018030643463,-0.1189035102725029,-0.0988379567861557,0.019679488614201546,-0.004211205057799816,-0.028917111456394196,-0.06510809063911438,0.015708085149526596,-0.11414830386638641,0.020119624212384224,-0.1504644900560379,-0.13269153237342834,-0.15849663317203522,0.007695412263274193,-0.1475459635257721,-0.1470438539981842,-0.08863683044910431,-0.015614783391356468,0.12538789212703705,0.032656777650117874,-0.029232509434223175,-0.01522755715996027,-0.07671113312244415,-0.10811015963554382,0.012053024023771286,0.014218993484973907,0.06986922770738602,0.047689151018857956,-0.07425209134817123,-0.03523418307304382,-0.03920402005314827,-0.08389317989349365,-0.08602046221494675,-0.04803008586168289,-0.13456276059150696,-0.15829510986804962,-0.0888647586107254,-0.027389558032155037,-0.11436962336301804,0.11768727749586105,-0.05319710448384285,-0.07335954159498215,-0.0016042274655774236,0.16201063990592957,0.05923839658498764,-0.1023699939250946,-0.13925211131572723,-0.11889694631099701,0.021757302805781364,-0.09838826954364777,-0.009080433286726475,-0.08113333582878113,-0.09220387041568756,-0.034944746643304825,-0.12314971536397934,-0.013925534673035145,0.026810098439455032,0.01371631771326065,0.07810858637094498,0.011702359654009342,-0.07970618456602097,-0.12925058603286743,-0.04076484963297844,0.05114514008164406,-0.1293788105249405,0.015726301819086075,-0.14461439847946167,-0.06592226028442383,0.1316252052783966,-0.13074180483818054,-0.13141287863254547,-0.06024472787976265,-0.013911055400967598,-0.13729023933410645,-0.02508179470896721,-0.10948869585990906,0.007214590907096863,0.04156750440597534,-0.12754414975643158,-0.018964746966958046,-0.10859420895576477,-0.10625505447387695,-0.10735711455345154,-0.12375860661268234,-0.0820489153265953,-0.0379735566675663,-0.1222367212176323,-0.13398228585720062,-0.07323472201824188,-0.10096767544746399,-0.09755199402570724,-0.06947972625494003,0.004150270484387875,0.03634420409798622,-0.13507342338562012,0.0118790278211236,0.041110679507255554,-0.08535798639059067,-0.051739245653152466,0.05674939975142479,-0.06904805451631546,-0.12825274467468262,-0.16515620052814484,-0.07640832662582397,-0.11974712461233139,-0.10313912481069565,-0.08130936324596405,-0.13797256350517273,-0.1606082320213318,-0.0884815976023674,-0.09859427809715271,-0.0069893174804747105,-0.13038572669029236,0.03313532844185829,-0.11973390728235245,-0.08278705924749374,0.007466287352144718,-0.04758156090974808,0.0886525958776474,-0.0842340812087059,-0.05567611753940582,0.024977421388030052,-0.14835207164287567,-0.10341725498437881,-0.09378418326377869,-0.01650729589164257,0.057556815445423126,0.017954615876078606,-0.11639991402626038,-0.025719238445162773,0.08548552542924881,0.052472807466983795,0.07648753374814987,-0.11604657769203186,-0.16693931818008423,-0.16291914880275726,-0.07956688106060028,-0.14084161818027496,-0.07189490646123886,-0.1639283150434494,-0.12751570343971252,-0.12068913131952286,-0.16947171092033386,-0.1310303509235382,-0.13638944923877716,-0.07308458536863327,-0.16584348678588867,-0.10088600963354111,-0.13802017271518707,-0.1690773069858551,-0.04888194426894188,-0.1660340279340744,-0.06218593567609787,-0.03935341164469719,-0.055359430611133575,0.020173028111457825,0.03215305507183075,0.11744676530361176,-0.11122821271419525,-0.03917743265628815,0.033920299261808395,0.019912883639335632,-0.11221463233232498,-0.023731356486678123,-0.026081953197717667,-0.01572083868086338,-0.04718315228819847,0.0660214051604271,-0.09408973157405853,-0.0675111636519432,-0.07115630060434341,-0.10838378220796585,-0.16490207612514496,-0.10886870324611664,-0.12542621791362762,-0.14548233151435852,0.04873014986515045,-0.12929344177246094,0.005853418726474047,-0.11654411256313324,0.0006704801926389337,-0.12970446050167084,-0.1243639811873436,-0.02175893262028694,0.04916023090481758,-0.12783034145832062,-0.08501552790403366,0.03580493852496147,-0.11644168943166733,-0.09652362763881683,-0.10571599751710892,-0.1382487416267395,-0.13664931058883667,-0.027788657695055008,0.019802335649728775,0.012348731979727745,-0.018139583989977837,0.09293080121278763,-0.025115719065070152,-0.15255607664585114,-0.14406821131706238,-0.06383523344993591,-0.12906816601753235,-0.15765272080898285,-0.08397715538740158,0.02476198785007,-0.10417594760656357,-0.045572131872177124,0.15234076976776123,0.028805308043956757,-0.1590854525566101,-0.07300744950771332,0.12303801625967026,-0.04373156279325485,0.04889298602938652,-0.1562652438879013,-0.1249946877360344,-0.1674063503742218,-0.16050706803798676,-0.09979262948036194,-0.09169692546129227,-0.05197149142622948,-0.09175731986761093,-0.12579095363616943,-0.15103550255298615,-0.04855819791555405,0.027552591636776924,-0.08531856536865234,-0.04695846512913704,0.0808589830994606,0.18572594225406647,-0.06595485657453537,0.033808980137109756,-0.027332980185747147,-0.09320609271526337,-0.14725902676582336,-0.06196381151676178,-0.09560111165046692,-0.12092086672782898,-0.03724580630660057,-0.08660677820444107,-0.018396146595478058,-0.12076418101787567,0.0378524512052536,0.002816010033711791,0.05365871638059616,-0.11346603184938431,-0.047977514564991,-0.11231696605682373,-0.122646264731884,-0.05062004178762436,-0.11066007614135742,-0.07150568813085556,-0.13501745462417603,-0.14984342455863953,-0.07253165543079376,-0.041019048541784286,-0.14801602065563202,-0.09710395336151123,-0.14597132802009583,-0.15564537048339844,-0.0899188369512558,0.01766999065876007,-0.15942825376987457,-0.12403948605060577,-0.1412222534418106,-0.13743093609809875,-0.05402586609125137,-0.15642036497592926,-0.07770566642284393,-6.175131420604885e-05,-0.03248073160648346,-0.1415954977273941,-0.1338357925415039,-0.055548086762428284,0.07384097576141357,-0.11306008696556091,-0.11734506487846375,-0.1394863724708557,-0.001048606471158564,-0.0631139725446701,0.10356123000383377,-0.03560327738523483,-0.012526247650384903,0.03444266691803932,0.11019131541252136,0.021173669025301933,-0.032407354563474655,-0.04138721525669098,-0.09614983946084976,-0.1283462941646576,-0.05517096072435379,-0.0034433556720614433,-0.09388197958469391,0.01059624645859003,-0.0757698342204094,0.015031234361231327,-0.10419439524412155,-0.10119488835334778,-0.07187603414058685,-0.16129949688911438,-0.09833673387765884,-0.15853562951087952,-0.15438160300254822,-0.07097186148166656,-0.014107445254921913,0.0008395925397053361,0.08297394216060638,-0.10155074298381805,0.029049232602119446,-0.0700511485338211,-0.05516237020492554,-0.0991906225681305,-0.11670286953449249,-0.06132109463214874,-0.1290620118379593,-0.16150811314582825,-0.09560409188270569,-0.11479148268699646,-0.07620739191770554,-0.15567517280578613,-0.016800176352262497,-0.15065988898277283,-0.15848992764949799,-0.10022863745689392,0.004933890886604786,-0.16601072251796722,-0.12134196609258652,-0.11585801094770432,-0.06039471924304962,-0.16556033492088318,-0.13535667955875397,-0.14633813500404358,-0.1668897271156311,-0.031690336763858795,0.03405355289578438,-0.0038590184412896633,-0.0738360807299614,-0.12418295443058014,-0.08233921974897385,-0.07245848327875137,0.01773448847234249,-0.07561492919921875,-0.11802124977111816,-0.1277686059474945,-0.030746018514037132,-0.15766938030719757,-0.11635085940361023,-0.12215453386306763,-0.07123947888612747,-0.02451552264392376,-0.06414968520402908,-0.07267066836357117,-0.130629763007164,-0.02837900072336197,-0.116886667907238,-0.12711945176124573,-0.09286927431821823,0.03209578990936279,0.028372913599014282,0.04354891553521156,-0.062327779829502106,0.04194967448711395,0.02380114607512951,0.02272643707692623,0.10668158531188965,-0.08105003088712692,-0.08353487402200699,-0.028824646025896072,0.03922870010137558,-0.060405660420656204,-0.13692902028560638,-0.16146041452884674,-0.16040639579296112,-0.11004906892776489,-0.08103325963020325,-0.084251768887043,0.043847620487213135,0.046755582094192505,0.0800064280629158,0.028513861820101738,-0.03521714732050896,-0.09410882741212845,-0.11497607827186584,0.0842081755399704,0.020017696544528008,-0.06956125050783157,0.040097322314977646,-0.03621713072061539,-0.1532728523015976,-0.07664220780134201,-0.11626769602298737,-0.1514836847782135,-0.05100215971469879,-0.09498193114995956,-0.09147009998559952,-0.10269676148891449,-0.1632896065711975,-0.10311488062143326,-0.15498583018779755,-0.08170240372419357,-0.13538596034049988,-0.10814046859741211,-0.10623832792043686,-0.0013395808637142181,0.02949966862797737],\"xaxis\":\"x\",\"yaxis\":\"y\",\"type\":\"histogram\"}],                        {\"template\":{\"data\":{\"histogram2dcontour\":[{\"type\":\"histogram2dcontour\",\"colorbar\":{\"outlinewidth\":0,\"ticks\":\"\"},\"colorscale\":[[0.0,\"#0d0887\"],[0.1111111111111111,\"#46039f\"],[0.2222222222222222,\"#7201a8\"],[0.3333333333333333,\"#9c179e\"],[0.4444444444444444,\"#bd3786\"],[0.5555555555555556,\"#d8576b\"],[0.6666666666666666,\"#ed7953\"],[0.7777777777777778,\"#fb9f3a\"],[0.8888888888888888,\"#fdca26\"],[1.0,\"#f0f921\"]]}],\"choropleth\":[{\"type\":\"choropleth\",\"colorbar\":{\"outlinewidth\":0,\"ticks\":\"\"}}],\"histogram2d\":[{\"type\":\"histogram2d\",\"colorbar\":{\"outlinewidth\":0,\"ticks\":\"\"},\"colorscale\":[[0.0,\"#0d0887\"],[0.1111111111111111,\"#46039f\"],[0.2222222222222222,\"#7201a8\"],[0.3333333333333333,\"#9c179e\"],[0.4444444444444444,\"#bd3786\"],[0.5555555555555556,\"#d8576b\"],[0.6666666666666666,\"#ed7953\"],[0.7777777777777778,\"#fb9f3a\"],[0.8888888888888888,\"#fdca26\"],[1.0,\"#f0f921\"]]}],\"heatmap\":[{\"type\":\"heatmap\",\"colorbar\":{\"outlinewidth\":0,\"ticks\":\"\"},\"colorscale\":[[0.0,\"#0d0887\"],[0.1111111111111111,\"#46039f\"],[0.2222222222222222,\"#7201a8\"],[0.3333333333333333,\"#9c179e\"],[0.4444444444444444,\"#bd3786\"],[0.5555555555555556,\"#d8576b\"],[0.6666666666666666,\"#ed7953\"],[0.7777777777777778,\"#fb9f3a\"],[0.8888888888888888,\"#fdca26\"],[1.0,\"#f0f921\"]]}],\"heatmapgl\":[{\"type\":\"heatmapgl\",\"colorbar\":{\"outlinewidth\":0,\"ticks\":\"\"},\"colorscale\":[[0.0,\"#0d0887\"],[0.1111111111111111,\"#46039f\"],[0.2222222222222222,\"#7201a8\"],[0.3333333333333333,\"#9c179e\"],[0.4444444444444444,\"#bd3786\"],[0.5555555555555556,\"#d8576b\"],[0.6666666666666666,\"#ed7953\"],[0.7777777777777778,\"#fb9f3a\"],[0.8888888888888888,\"#fdca26\"],[1.0,\"#f0f921\"]]}],\"contourcarpet\":[{\"type\":\"contourcarpet\",\"colorbar\":{\"outlinewidth\":0,\"ticks\":\"\"}}],\"contour\":[{\"type\":\"contour\",\"colorbar\":{\"outlinewidth\":0,\"ticks\":\"\"},\"colorscale\":[[0.0,\"#0d0887\"],[0.1111111111111111,\"#46039f\"],[0.2222222222222222,\"#7201a8\"],[0.3333333333333333,\"#9c179e\"],[0.4444444444444444,\"#bd3786\"],[0.5555555555555556,\"#d8576b\"],[0.6666666666666666,\"#ed7953\"],[0.7777777777777778,\"#fb9f3a\"],[0.8888888888888888,\"#fdca26\"],[1.0,\"#f0f921\"]]}],\"surface\":[{\"type\":\"surface\",\"colorbar\":{\"outlinewidth\":0,\"ticks\":\"\"},\"colorscale\":[[0.0,\"#0d0887\"],[0.1111111111111111,\"#46039f\"],[0.2222222222222222,\"#7201a8\"],[0.3333333333333333,\"#9c179e\"],[0.4444444444444444,\"#bd3786\"],[0.5555555555555556,\"#d8576b\"],[0.6666666666666666,\"#ed7953\"],[0.7777777777777778,\"#fb9f3a\"],[0.8888888888888888,\"#fdca26\"],[1.0,\"#f0f921\"]]}],\"mesh3d\":[{\"type\":\"mesh3d\",\"colorbar\":{\"outlinewidth\":0,\"ticks\":\"\"}}],\"scatter\":[{\"fillpattern\":{\"fillmode\":\"overlay\",\"size\":10,\"solidity\":0.2},\"type\":\"scatter\"}],\"parcoords\":[{\"type\":\"parcoords\",\"line\":{\"colorbar\":{\"outlinewidth\":0,\"ticks\":\"\"}}}],\"scatterpolargl\":[{\"type\":\"scatterpolargl\",\"marker\":{\"colorbar\":{\"outlinewidth\":0,\"ticks\":\"\"}}}],\"bar\":[{\"error_x\":{\"color\":\"#2a3f5f\"},\"error_y\":{\"color\":\"#2a3f5f\"},\"marker\":{\"line\":{\"color\":\"#E5ECF6\",\"width\":0.5},\"pattern\":{\"fillmode\":\"overlay\",\"size\":10,\"solidity\":0.2}},\"type\":\"bar\"}],\"scattergeo\":[{\"type\":\"scattergeo\",\"marker\":{\"colorbar\":{\"outlinewidth\":0,\"ticks\":\"\"}}}],\"scatterpolar\":[{\"type\":\"scatterpolar\",\"marker\":{\"colorbar\":{\"outlinewidth\":0,\"ticks\":\"\"}}}],\"histogram\":[{\"marker\":{\"pattern\":{\"fillmode\":\"overlay\",\"size\":10,\"solidity\":0.2}},\"type\":\"histogram\"}],\"scattergl\":[{\"type\":\"scattergl\",\"marker\":{\"colorbar\":{\"outlinewidth\":0,\"ticks\":\"\"}}}],\"scatter3d\":[{\"type\":\"scatter3d\",\"line\":{\"colorbar\":{\"outlinewidth\":0,\"ticks\":\"\"}},\"marker\":{\"colorbar\":{\"outlinewidth\":0,\"ticks\":\"\"}}}],\"scattermapbox\":[{\"type\":\"scattermapbox\",\"marker\":{\"colorbar\":{\"outlinewidth\":0,\"ticks\":\"\"}}}],\"scatterternary\":[{\"type\":\"scatterternary\",\"marker\":{\"colorbar\":{\"outlinewidth\":0,\"ticks\":\"\"}}}],\"scattercarpet\":[{\"type\":\"scattercarpet\",\"marker\":{\"colorbar\":{\"outlinewidth\":0,\"ticks\":\"\"}}}],\"carpet\":[{\"aaxis\":{\"endlinecolor\":\"#2a3f5f\",\"gridcolor\":\"white\",\"linecolor\":\"white\",\"minorgridcolor\":\"white\",\"startlinecolor\":\"#2a3f5f\"},\"baxis\":{\"endlinecolor\":\"#2a3f5f\",\"gridcolor\":\"white\",\"linecolor\":\"white\",\"minorgridcolor\":\"white\",\"startlinecolor\":\"#2a3f5f\"},\"type\":\"carpet\"}],\"table\":[{\"cells\":{\"fill\":{\"color\":\"#EBF0F8\"},\"line\":{\"color\":\"white\"}},\"header\":{\"fill\":{\"color\":\"#C8D4E3\"},\"line\":{\"color\":\"white\"}},\"type\":\"table\"}],\"barpolar\":[{\"marker\":{\"line\":{\"color\":\"#E5ECF6\",\"width\":0.5},\"pattern\":{\"fillmode\":\"overlay\",\"size\":10,\"solidity\":0.2}},\"type\":\"barpolar\"}],\"pie\":[{\"automargin\":true,\"type\":\"pie\"}]},\"layout\":{\"autotypenumbers\":\"strict\",\"colorway\":[\"#636efa\",\"#EF553B\",\"#00cc96\",\"#ab63fa\",\"#FFA15A\",\"#19d3f3\",\"#FF6692\",\"#B6E880\",\"#FF97FF\",\"#FECB52\"],\"font\":{\"color\":\"#2a3f5f\"},\"hovermode\":\"closest\",\"hoverlabel\":{\"align\":\"left\"},\"paper_bgcolor\":\"white\",\"plot_bgcolor\":\"#E5ECF6\",\"polar\":{\"bgcolor\":\"#E5ECF6\",\"angularaxis\":{\"gridcolor\":\"white\",\"linecolor\":\"white\",\"ticks\":\"\"},\"radialaxis\":{\"gridcolor\":\"white\",\"linecolor\":\"white\",\"ticks\":\"\"}},\"ternary\":{\"bgcolor\":\"#E5ECF6\",\"aaxis\":{\"gridcolor\":\"white\",\"linecolor\":\"white\",\"ticks\":\"\"},\"baxis\":{\"gridcolor\":\"white\",\"linecolor\":\"white\",\"ticks\":\"\"},\"caxis\":{\"gridcolor\":\"white\",\"linecolor\":\"white\",\"ticks\":\"\"}},\"coloraxis\":{\"colorbar\":{\"outlinewidth\":0,\"ticks\":\"\"}},\"colorscale\":{\"sequential\":[[0.0,\"#0d0887\"],[0.1111111111111111,\"#46039f\"],[0.2222222222222222,\"#7201a8\"],[0.3333333333333333,\"#9c179e\"],[0.4444444444444444,\"#bd3786\"],[0.5555555555555556,\"#d8576b\"],[0.6666666666666666,\"#ed7953\"],[0.7777777777777778,\"#fb9f3a\"],[0.8888888888888888,\"#fdca26\"],[1.0,\"#f0f921\"]],\"sequentialminus\":[[0.0,\"#0d0887\"],[0.1111111111111111,\"#46039f\"],[0.2222222222222222,\"#7201a8\"],[0.3333333333333333,\"#9c179e\"],[0.4444444444444444,\"#bd3786\"],[0.5555555555555556,\"#d8576b\"],[0.6666666666666666,\"#ed7953\"],[0.7777777777777778,\"#fb9f3a\"],[0.8888888888888888,\"#fdca26\"],[1.0,\"#f0f921\"]],\"diverging\":[[0,\"#8e0152\"],[0.1,\"#c51b7d\"],[0.2,\"#de77ae\"],[0.3,\"#f1b6da\"],[0.4,\"#fde0ef\"],[0.5,\"#f7f7f7\"],[0.6,\"#e6f5d0\"],[0.7,\"#b8e186\"],[0.8,\"#7fbc41\"],[0.9,\"#4d9221\"],[1,\"#276419\"]]},\"xaxis\":{\"gridcolor\":\"white\",\"linecolor\":\"white\",\"ticks\":\"\",\"title\":{\"standoff\":15},\"zerolinecolor\":\"white\",\"automargin\":true,\"zerolinewidth\":2},\"yaxis\":{\"gridcolor\":\"white\",\"linecolor\":\"white\",\"ticks\":\"\",\"title\":{\"standoff\":15},\"zerolinecolor\":\"white\",\"automargin\":true,\"zerolinewidth\":2},\"scene\":{\"xaxis\":{\"backgroundcolor\":\"#E5ECF6\",\"gridcolor\":\"white\",\"linecolor\":\"white\",\"showbackground\":true,\"ticks\":\"\",\"zerolinecolor\":\"white\",\"gridwidth\":2},\"yaxis\":{\"backgroundcolor\":\"#E5ECF6\",\"gridcolor\":\"white\",\"linecolor\":\"white\",\"showbackground\":true,\"ticks\":\"\",\"zerolinecolor\":\"white\",\"gridwidth\":2},\"zaxis\":{\"backgroundcolor\":\"#E5ECF6\",\"gridcolor\":\"white\",\"linecolor\":\"white\",\"showbackground\":true,\"ticks\":\"\",\"zerolinecolor\":\"white\",\"gridwidth\":2}},\"shapedefaults\":{\"line\":{\"color\":\"#2a3f5f\"}},\"annotationdefaults\":{\"arrowcolor\":\"#2a3f5f\",\"arrowhead\":0,\"arrowwidth\":1},\"geo\":{\"bgcolor\":\"white\",\"landcolor\":\"#E5ECF6\",\"subunitcolor\":\"white\",\"showland\":true,\"showlakes\":true,\"lakecolor\":\"white\"},\"title\":{\"x\":0.05},\"mapbox\":{\"style\":\"light\"}}},\"xaxis\":{\"anchor\":\"y\",\"domain\":[0.0,1.0],\"title\":{\"text\":\"value\"},\"range\":[-0.5,1]},\"yaxis\":{\"anchor\":\"x\",\"domain\":[0.0,1.0],\"title\":{\"text\":\"count\"}},\"legend\":{\"title\":{\"text\":\"variable\"},\"tracegroupgap\":0},\"title\":{\"text\":\"L5N89\"},\"barmode\":\"relative\",\"width\":700},                        {\"responsive\": true}                    ).then(function(){\n",
       "                            \n",
       "var gd = document.getElementById('0ddee083-2d7a-47c3-afad-4d92a9ec44bd');\n",
       "var x = new MutationObserver(function (mutations, observer) {{\n",
       "        var display = window.getComputedStyle(gd).display;\n",
       "        if (!display || display === 'none') {{\n",
       "            console.log([gd, 'removed!']);\n",
       "            Plotly.purge(gd);\n",
       "            observer.disconnect();\n",
       "        }}\n",
       "}});\n",
       "\n",
       "// Listen for the removal of the full notebook cells\n",
       "var notebookContainer = gd.closest('#notebook-container');\n",
       "if (notebookContainer) {{\n",
       "    x.observe(notebookContainer, {childList: true});\n",
       "}}\n",
       "\n",
       "// Listen for the clearing of the current output cell\n",
       "var outputEl = gd.closest('.output');\n",
       "if (outputEl) {{\n",
       "    x.observe(outputEl, {childList: true});\n",
       "}}\n",
       "\n",
       "                        })                };                });            </script>        </div>"
      ]
     },
     "metadata": {},
     "output_type": "display_data"
    }
   ],
   "source": [
    "print(large_acts_df.nlargest(5, 'skew'))\n",
    "print(large_acts_df.nlargest(5, 'kurtosis'))\n",
    "\n",
    "layer_neurons = large_acts_df.sort_values('kurtosis', ascending=False).iloc[:5][['layer', 'neuron']].values.tolist()\n",
    "\n",
    "plotting_utils.plot_neuron_acts(model, random_prompts + longer_stories, layer_neurons, range_x=[-0.5, 1])\n",
    "plotting_utils.plot_neuron_acts(model, random_prompts + longer_stories, layer_neurons, range_x=[-0.5, 1], hook_pre=True)"
   ]
  },
  {
   "cell_type": "code",
   "execution_count": 105,
   "metadata": {},
   "outputs": [
    {
     "name": "stdout",
     "output_type": "stream",
     "text": [
      "Amy found a little lost kitten in the park. She took it home and fed it milk. The kitten purred \n"
     ]
    },
    {
     "data": {
      "application/vnd.jupyter.widget-view+json": {
       "model_id": "3ac3c423d65145769d18f31542e4def5",
       "version_major": 2,
       "version_minor": 0
      },
      "text/plain": [
       "  0%|          | 0/220 [00:00<?, ?it/s]"
      ]
     },
     "metadata": {},
     "output_type": "display_data"
    },
    {
     "data": {
      "text/plain": [
       "'Amy found a little lost kitten in the park. She took it home and fed it milk. The kitten purred \\n\" swoop down and pounced!\" Amy said. Dave opened the purple fur and touched a little bit better. \\nAnna helped the kitten talk to someone\\'s pet. Then one little one of her collar ripped. The kitten looked miserable but smiled and ran away. \\nAmy hugged the baby bird, smiled from ear. She kept her tray close and plant the flower and they all shared it together. \\nThe moral of the story is that it\\'s better to share something special with everyone in the same place.\\n<|endoftext|>'"
      ]
     },
     "execution_count": 105,
     "metadata": {},
     "output_type": "execute_result"
    }
   ],
   "source": [
    "n = 3\n",
    "\n",
    "print(random_prompts[n])\n",
    "model.generate(random_prompts[n], 220)"
   ]
  }
 ],
 "metadata": {
  "kernelspec": {
   "display_name": "base",
   "language": "python",
   "name": "python3"
  },
  "language_info": {
   "codemirror_mode": {
    "name": "ipython",
    "version": 3
   },
   "file_extension": ".py",
   "mimetype": "text/x-python",
   "name": "python",
   "nbconvert_exporter": "python",
   "pygments_lexer": "ipython3",
   "version": "3.10.11"
  },
  "orig_nbformat": 4
 },
 "nbformat": 4,
 "nbformat_minor": 2
}
