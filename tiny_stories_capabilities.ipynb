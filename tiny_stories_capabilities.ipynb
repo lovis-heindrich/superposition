{
 "cells": [
  {
   "cell_type": "code",
   "execution_count": 43,
   "metadata": {},
   "outputs": [
    {
     "name": "stderr",
     "output_type": "stream",
     "text": [
      "Using pad_token, but it is not set yet.\n"
     ]
    },
    {
     "name": "stdout",
     "output_type": "stream",
     "text": [
      "Loaded pretrained model tiny-stories-33M into HookedTransformer\n"
     ]
    }
   ],
   "source": [
    "import torch\n",
    "from tqdm.auto import tqdm\n",
    "from transformer_lens import HookedTransformer\n",
    "from jaxtyping import Float, Int, Bool\n",
    "from torch import Tensor\n",
    "from tqdm.auto import tqdm\n",
    "import plotly.io as pio\n",
    "import pandas as pd\n",
    "import numpy as np\n",
    "import plotly.express as px \n",
    "from collections import defaultdict\n",
    "import matplotlib.pyplot as plt\n",
    "import re\n",
    "from IPython.display import display, HTML\n",
    "from datasets import load_dataset\n",
    "from collections import Counter\n",
    "import pickle\n",
    "import os\n",
    "import plotly.graph_objects as go\n",
    "from scipy.stats import norm\n",
    "\n",
    "import sklearn\n",
    "from sklearn.model_selection import train_test_split\n",
    "from sklearn.linear_model import LogisticRegression\n",
    "\n",
    "pio.renderers.default = \"notebook_connected+notebook\"\n",
    "device = \"cuda\" if torch.cuda.is_available() else \"cpu\"\n",
    "torch.autograd.set_grad_enabled(False)\n",
    "torch.set_grad_enabled(False)\n",
    "\n",
    "from haystack_utils import get_mlp_activations\n",
    "from hook_utils import get_ablate_neuron_hook\n",
    "import haystack_utils\n",
    "from pythia_160m_utils import get_neuron_accuracy, ablation_effect\n",
    "from plotting_utils import plot_neuron_acts, color_binned_histogram\n",
    "\n",
    "\n",
    "%reload_ext autoreload\n",
    "%autoreload 2\n",
    "\n",
    "model = HookedTransformer.from_pretrained(\"tiny-stories-33M\",\n",
    "    center_unembed=True,\n",
    "    center_writing_weights=True,\n",
    "    fold_ln=True,\n",
    "    device=\"cuda\")"
   ]
  },
  {
   "cell_type": "code",
   "execution_count": 15,
   "metadata": {},
   "outputs": [
    {
     "data": {
      "application/vnd.jupyter.widget-view+json": {
       "model_id": "ae62b3cfc935455ca2522814d472cc27",
       "version_major": 2,
       "version_minor": 0
      },
      "text/plain": [
       "  0%|          | 0/200 [00:00<?, ?it/s]"
      ]
     },
     "metadata": {},
     "output_type": "display_data"
    },
    {
     "name": "stdout",
     "output_type": "stream",
     "text": [
      "Xylophone. He was a very special player. He loved to play the drum. He would play it every day.\n",
      "\n",
      "One day, he was playing his drum when he heard a noise. He looked around and saw a little girl. She was crying.\n",
      "\n",
      "The musician asked her why she was crying. She said she was sad because she had lost her toy.\n",
      "\n",
      "The musician said he could help her find it. He asked her to close her eyes and he would look for it.\n",
      "\n",
      "The musician looked everywhere. He looked in the garden, in the park, and even in the river. But he couldn't find the toy.\n",
      "\n",
      "The little girl was very sad. She started to cry again. The musician felt bad and he wanted to make her happy.\n",
      "\n",
      "So he played his drum and sang a song. The little girl stopped crying and smiled. She was so happy that she hugged the musician.\n",
      "\n",
      "The musician was happy too. He was glad that\n"
     ]
    }
   ],
   "source": [
    "# print(model.generate(\"\", 200, temperature=0))\n",
    "# print(model.generate(\"Once\", 200, temperature=0))\n",
    "print(model.generate(\"Xylophone\", 200, temperature=0))\n",
    "# print(model.generate(\"A\", 200, temperature=0))\n",
    "# print(model.generate(\"Sally\", 200, temperature=0))\n",
    "# print(model.generate(\"Lucy\", 200, temperature=0))\n",
    "# print(model.generate(\"Jack\", 200, temperature=0))\n",
    "# print(model.generate(\"Jim\", 200, temperature=0))\n",
    "# print(model.generate(\"Billy\", 200, temperature=0))\n",
    "\n",
    "    "
   ]
  },
  {
   "cell_type": "code",
   "execution_count": 4,
   "metadata": {},
   "outputs": [
    {
     "data": {
      "application/vnd.jupyter.widget-view+json": {
       "model_id": "ae2d70f288f840fbaeebfbc3e87a6833",
       "version_major": 2,
       "version_minor": 0
      },
      "text/plain": [
       "Downloading readme:   0%|          | 0.00/946 [00:00<?, ?B/s]"
      ]
     },
     "metadata": {},
     "output_type": "display_data"
    },
    {
     "name": "stderr",
     "output_type": "stream",
     "text": [
      "Repo card metadata block was not found. Setting CardData to empty.\n"
     ]
    },
    {
     "data": {
      "application/vnd.jupyter.widget-view+json": {
       "model_id": "cb73bb8e07084857ab17b34c29ff2fa9",
       "version_major": 2,
       "version_minor": 0
      },
      "text/plain": [
       "Downloading data files:   0%|          | 0/2 [00:00<?, ?it/s]"
      ]
     },
     "metadata": {},
     "output_type": "display_data"
    },
    {
     "data": {
      "application/vnd.jupyter.widget-view+json": {
       "model_id": "7bf68e221b6a40358b13d789e0d93000",
       "version_major": 2,
       "version_minor": 0
      },
      "text/plain": [
       "Downloading data:   0%|          | 0.00/249M [00:00<?, ?B/s]"
      ]
     },
     "metadata": {},
     "output_type": "display_data"
    },
    {
     "data": {
      "application/vnd.jupyter.widget-view+json": {
       "model_id": "fb1077024e104d43a3c92e536a83c9ac",
       "version_major": 2,
       "version_minor": 0
      },
      "text/plain": [
       "Downloading data:   0%|          | 0.00/248M [00:00<?, ?B/s]"
      ]
     },
     "metadata": {},
     "output_type": "display_data"
    },
    {
     "data": {
      "application/vnd.jupyter.widget-view+json": {
       "model_id": "d20414b4e050467da28e605748749d14",
       "version_major": 2,
       "version_minor": 0
      },
      "text/plain": [
       "Downloading data:   0%|          | 0.00/246M [00:00<?, ?B/s]"
      ]
     },
     "metadata": {},
     "output_type": "display_data"
    },
    {
     "data": {
      "application/vnd.jupyter.widget-view+json": {
       "model_id": "fa3fc12611644d21804ed85e97ab8e65",
       "version_major": 2,
       "version_minor": 0
      },
      "text/plain": [
       "Downloading data:   0%|          | 0.00/248M [00:00<?, ?B/s]"
      ]
     },
     "metadata": {},
     "output_type": "display_data"
    },
    {
     "data": {
      "application/vnd.jupyter.widget-view+json": {
       "model_id": "57b944a6f29a4ed091de871942022eb5",
       "version_major": 2,
       "version_minor": 0
      },
      "text/plain": [
       "Downloading data:   0%|          | 0.00/9.99M [00:00<?, ?B/s]"
      ]
     },
     "metadata": {},
     "output_type": "display_data"
    },
    {
     "data": {
      "application/vnd.jupyter.widget-view+json": {
       "model_id": "e5f3944b376241159c20654f5006cdad",
       "version_major": 2,
       "version_minor": 0
      },
      "text/plain": [
       "Extracting data files:   0%|          | 0/2 [00:00<?, ?it/s]"
      ]
     },
     "metadata": {},
     "output_type": "display_data"
    },
    {
     "data": {
      "application/vnd.jupyter.widget-view+json": {
       "model_id": "5c2c5f5b45f04c52baf37a03c2e2ed28",
       "version_major": 2,
       "version_minor": 0
      },
      "text/plain": [
       "Generating train split: 0 examples [00:00, ? examples/s]"
      ]
     },
     "metadata": {},
     "output_type": "display_data"
    },
    {
     "data": {
      "application/vnd.jupyter.widget-view+json": {
       "model_id": "c1e5b9f78f8f4755923964227640ca9c",
       "version_major": 2,
       "version_minor": 0
      },
      "text/plain": [
       "Generating validation split: 0 examples [00:00, ? examples/s]"
      ]
     },
     "metadata": {},
     "output_type": "display_data"
    },
    {
     "name": "stdout",
     "output_type": "stream",
     "text": [
      "{'text': 'One day, a little girl named Lily found a needle in her room. She knew it was difficult to play with it because it was sharp. Lily wanted to share the needle with her mom, so she could sew a button on her shirt.\\n\\nLily went to her mom and said, \"Mom, I found this needle. Can you share it with me and sew my shirt?\" Her mom smiled and said, \"Yes, Lily, we can share the needle and fix your shirt.\"\\n\\nTogether, they shared the needle and sewed the button on Lily\\'s shirt. It was not difficult for them because they were sharing and helping each other. After they finished, Lily thanked her mom for sharing the needle and fixing her shirt. They both felt happy because they had shared and worked together.'}\n"
     ]
    }
   ],
   "source": [
    "dataset = load_dataset('roneneldan/TinyStories', split='train')\n",
    "print(dataset[0])"
   ]
  },
  {
   "cell_type": "code",
   "execution_count": 19,
   "metadata": {},
   "outputs": [
    {
     "data": {
      "application/vnd.jupyter.widget-view+json": {
       "model_id": "369ff21cd6ad494ab027b2a481ccf766",
       "version_major": 2,
       "version_minor": 0
      },
      "text/plain": [
       "  0%|          | 0/100 [00:00<?, ?it/s]"
      ]
     },
     "metadata": {},
     "output_type": "display_data"
    },
    {
     "name": "stdout",
     "output_type": "stream",
     "text": [
      "John is high and Sarah is low. John is in a tree and Sarah is under his tree. He is stuck. John is scared. He says: \"Help! Help!\" Sarah hears him and moves off to another tree. John says: \"Thank you, Sarah!\" Sarah is happy to help.\n",
      "\n",
      "But then Sarah hears a worried noise. She looks up and sees a bird cage. The cage is very high and Sarah's heart is beating very fast. She wants to help the bird. She quickly takes off the cushion and the cushage. She puts the\n"
     ]
    },
    {
     "data": {
      "application/vnd.jupyter.widget-view+json": {
       "model_id": "bf7bdee3ef7d4dcb8f03c00d2cb52a74",
       "version_major": 2,
       "version_minor": 0
      },
      "text/plain": [
       "  0%|          | 0/100 [00:00<?, ?it/s]"
      ]
     },
     "metadata": {},
     "output_type": "display_data"
    },
    {
     "name": "stdout",
     "output_type": "stream",
     "text": [
      "John is high and Sarah is low. John is in a treehouse and Sarah is on the swing.\n",
      "\n",
      "One day, they hear an alarm. John is scared and Sarah is curious. She asks John to do a test. John asked questions like, 'What is powerful?' and 'What should the alarm do?' Sarah thought for a minute and then she said 'I think it is because of the alarm'.\n",
      "\n",
      "John felt much better and said to Sarah, “I think I understand now! Let’s find out who is causing the alarm and make\n"
     ]
    },
    {
     "data": {
      "application/vnd.jupyter.widget-view+json": {
       "model_id": "73e657cf12014caf9097203a5de24b00",
       "version_major": 2,
       "version_minor": 0
      },
      "text/plain": [
       "  0%|          | 0/100 [00:00<?, ?it/s]"
      ]
     },
     "metadata": {},
     "output_type": "display_data"
    },
    {
     "name": "stdout",
     "output_type": "stream",
     "text": [
      "John is high and Sarah is low. John is on top of a pole and Sarah is on the ground. They both frowning and Sarah's frownss.\n",
      "\n",
      "John was angry. He wanted to get down and shout. He thought of another way. He didn't want to stay up there with Sarah alone.\n",
      "\n",
      "John had an idea. He took his scooter and pushed Sarah off the floor. Sarah fell on the floor with a loud clatter. She was mad.\n",
      "\n",
      "John and Sarah started to quarrel. They yelled at each other and Sarah had to\n"
     ]
    },
    {
     "data": {
      "application/vnd.jupyter.widget-view+json": {
       "model_id": "b58079209f034685a099ec9f926adcbe",
       "version_major": 2,
       "version_minor": 0
      },
      "text/plain": [
       "  0%|          | 0/100 [00:00<?, ?it/s]"
      ]
     },
     "metadata": {},
     "output_type": "display_data"
    },
    {
     "name": "stdout",
     "output_type": "stream",
     "text": [
      "John is high and Sarah is low. John is on top of a house and Sarah is close behind. Sarah is backing around and making noises.\n",
      "\n",
      "\"I want to have fun now,\" she says to John.\n",
      "\n",
      "John is not happy. He said: \"No, it's dangerous to go underneath the tree.\"\n",
      "Sarah starts to cry.\n",
      "\n",
      "But John mustered up the courage and said: \"Come on, Sarah. Let's go under the tree.\"\n",
      "\n",
      "So they both crawled under the tree and found a beautiful meadow full of flowers. They\n"
     ]
    },
    {
     "data": {
      "application/vnd.jupyter.widget-view+json": {
       "model_id": "b6dec4d4e5b64f68b32e3b311559d56f",
       "version_major": 2,
       "version_minor": 0
      },
      "text/plain": [
       "  0%|          | 0/100 [00:00<?, ?it/s]"
      ]
     },
     "metadata": {},
     "output_type": "display_data"
    },
    {
     "name": "stdout",
     "output_type": "stream",
     "text": [
      "John is high and Sarah is low. John is on the roof and Sarah is on the grass. John smiles and thinks this is a good idea. He makes a hole in the balloon and then he takes out a plastic stick. He cuts the string to make it. Sarah watches and asks why John does this when he stops climbing.\n",
      "\n",
      "John looks back onto the ground. Sarah says, \"Next time, I will help you climb the pile of leaves\". John smiles. He likes to help Sarah. They work together and it is fun.\n",
      "<|endoftext|>\n"
     ]
    }
   ],
   "source": [
    "print(model.generate(\"John is high and Sarah is low. John is in a tree and Sarah\", 100))\n",
    "print(model.generate(\"John is high and Sarah is low. John is in a treehouse and Sarah\", 100))\n",
    "print(model.generate(\"John is high and Sarah is low. John is on top of a pole and Sarah\", 100))\n",
    "print(model.generate(\"John is high and Sarah is low. John is on top of a house and Sarah\", 100))\n",
    "print(model.generate(\"John is high and Sarah is low. John is on the roof and Sarah\", 100))\n"
   ]
  },
  {
   "cell_type": "code",
   "execution_count": 21,
   "metadata": {},
   "outputs": [
    {
     "data": {
      "application/vnd.jupyter.widget-view+json": {
       "model_id": "2f9176ebf1ca4653aaf0fca52c119061",
       "version_major": 2,
       "version_minor": 0
      },
      "text/plain": [
       "  0%|          | 0/100 [00:00<?, ?it/s]"
      ]
     },
     "metadata": {},
     "output_type": "display_data"
    },
    {
     "name": "stdout",
     "output_type": "stream",
     "text": [
      "John is low and Sarah is high. John is on the ground and Sarah is on the ground. They are very sad. \n",
      "\n",
      "They see a big chain in the park. They both like chains. They want to pick it up and play with it.\n",
      "\n",
      "They both pull on it and it breaks. They are very sad and the chain is gone. \n",
      "\n",
      "John and Sarah take the chain and go home. They hope to find the chain again someday. That was very special.\n",
      "<|endoftext|>\n"
     ]
    },
    {
     "data": {
      "application/vnd.jupyter.widget-view+json": {
       "model_id": "b3e952a0068d49c7ac108c01803e105b",
       "version_major": 2,
       "version_minor": 0
      },
      "text/plain": [
       "  0%|          | 0/100 [00:00<?, ?it/s]"
      ]
     },
     "metadata": {},
     "output_type": "display_data"
    },
    {
     "name": "stdout",
     "output_type": "stream",
     "text": [
      "John is low and Sarah is high. John is in a hole and Sarah is not there.\n",
      "\n",
      "\"Where is Sarah?\" John asked.\n",
      "\n",
      "\"I don't know,\" Sarah replied.\n",
      "\n",
      "John kept searching and searching. He looked all around the hole, but he could not find Sarah.\n",
      "\n",
      "\"I am not in the hole!\" he yelled out.\n",
      "\n",
      "Suddenly a big purple spider appeared. It began to chase John. He ran and ran until he reached home.\n",
      "\n",
      "The spider caught John and he was taken to the hospital. Sarah\n"
     ]
    },
    {
     "data": {
      "application/vnd.jupyter.widget-view+json": {
       "model_id": "5caa8a11cbd948c0a8661da18c4b0ab1",
       "version_major": 2,
       "version_minor": 0
      },
      "text/plain": [
       "  0%|          | 0/100 [00:00<?, ?it/s]"
      ]
     },
     "metadata": {},
     "output_type": "display_data"
    },
    {
     "name": "stdout",
     "output_type": "stream",
     "text": [
      "John is low and Sarah is high. John is underneath a pile of leave and Sarah is playing with her dolls. She sees John and smiles. She wants to be friends with John.\n",
      "\n",
      "John's mom hears Sarah's voice and calls out \"Emily, where are you?\" She looks under the pile but she can not see Sarah.\n",
      "\n",
      "Jane was happy to see Tim but she is still scared of his toes. Then she saw something on Sarah's toes. It was a bug! She stared at it. But then it scurries away.\n",
      "\n",
      "Sarah said,\n"
     ]
    },
    {
     "data": {
      "application/vnd.jupyter.widget-view+json": {
       "model_id": "b779baa763b449a1aa60c10fe443a4d2",
       "version_major": 2,
       "version_minor": 0
      },
      "text/plain": [
       "  0%|          | 0/100 [00:00<?, ?it/s]"
      ]
     },
     "metadata": {},
     "output_type": "display_data"
    },
    {
     "name": "stdout",
     "output_type": "stream",
     "text": [
      "John is low and Sarah is high. John is under the house and Sarah is still under it. Sarah cries and blinks her eyes. She is sad and misses John. She hopes that her pain will go away.\n",
      "\n",
      "John hears Sarah crying. He feels bad for her and goes to her. He is slow and careful. He makes room for her out of the under. He takes her deeper from the hole and eats her candy. He makes her smile. He hopes that she will feel better soon.\n",
      "\n",
      "Sarah's arm gets better after a few minutes.\n"
     ]
    },
    {
     "data": {
      "application/vnd.jupyter.widget-view+json": {
       "model_id": "370064af262e4f20a5f18726a23de9da",
       "version_major": 2,
       "version_minor": 0
      },
      "text/plain": [
       "  0%|          | 0/100 [00:00<?, ?it/s]"
      ]
     },
     "metadata": {},
     "output_type": "display_data"
    },
    {
     "name": "stdout",
     "output_type": "stream",
     "text": [
      "John is low and Sarah is high. John is under the horse and Sarah is under the horse. John is thirsty and the horse drinks from Sarah. Sarah is sad and she starts to cry.\n",
      "\n",
      "Then suddenly, the horse stops eating. John is shocked and he wants to get Sarah out. But he does not know how to do it.\n",
      "\n",
      "John is upset and he cries. Sarah feels bad about being left out. She is sorry that she should have been alone. Sarah needs to go back to the stable and John has to chase her.\n",
      "\n",
      "Sarah\n"
     ]
    }
   ],
   "source": [
    "print(model.generate(\"John is low and Sarah is high. John is on the ground and Sarah\", 100))\n",
    "print(model.generate(\"John is low and Sarah is high. John is in a hole and Sarah\", 100))\n",
    "print(model.generate(\"John is low and Sarah is high. John is underneath a pile of leave and Sarah\", 100))\n",
    "print(model.generate(\"John is low and Sarah is high. John is under the house and Sarah\", 100))\n",
    "print(model.generate(\"John is low and Sarah is high. John is under the horse and Sarah\", 100))"
   ]
  },
  {
   "cell_type": "code",
   "execution_count": 24,
   "metadata": {},
   "outputs": [
    {
     "data": {
      "application/vnd.jupyter.widget-view+json": {
       "model_id": "1bc06db538b24446bd47c9e0ae16a542",
       "version_major": 2,
       "version_minor": 0
      },
      "text/plain": [
       "  0%|          | 0/100 [00:00<?, ?it/s]"
      ]
     },
     "metadata": {},
     "output_type": "display_data"
    },
    {
     "name": "stdout",
     "output_type": "stream",
     "text": [
      "John is low and Sarah is high. Sarah is up a tree and John is at the bottom. He could see many things from up there. Sarah was on the swings and John could see them from up high. He was complaining because he was too small to reach them.\n",
      "\n",
      "John kept complaining and Sarah looked away. Then she saw a man. He was carrying a big bag and looked easyening his way into the tree. When he got there he talked to mommy. He said he could get her over there because Sarah was too small.\n",
      "\n",
      "Mommy thanked\n"
     ]
    }
   ],
   "source": [
    "print(model.generate(\"John is low and Sarah is high. Sarah is up a tree and John is\", 100))"
   ]
  },
  {
   "cell_type": "code",
   "execution_count": 29,
   "metadata": {},
   "outputs": [
    {
     "data": {
      "application/vnd.jupyter.widget-view+json": {
       "model_id": "c54d554ef5fe4d7a9c80e221078ed081",
       "version_major": 2,
       "version_minor": 0
      },
      "text/plain": [
       "  0%|          | 0/100 [00:00<?, ?it/s]"
      ]
     },
     "metadata": {},
     "output_type": "display_data"
    },
    {
     "name": "stdout",
     "output_type": "stream",
     "text": [
      "Jack and Sarah are in the meadow. One of them is in a tree. The other is a girl named Sophie.\n",
      "\n",
      "John looks up and sees Sophie. He points at her and says, \"She is teasing me!\" Sarah ran to John and says, \"Sorry, John. That's not nice at all.\"\n",
      "\n",
      "John and Sarah climb the tree and sit on a branch. They look at the sky and the fluffy clouds that moved across the sky. Sarah pointed at the clouds and said, \"Look John, I see a cloud that looks like a dog!\"\n",
      "\n",
      "John\n"
     ]
    }
   ],
   "source": [
    "print(model.generate(\"\", 100))"
   ]
  },
  {
   "cell_type": "code",
   "execution_count": 56,
   "metadata": {},
   "outputs": [
    {
     "data": {
      "application/vnd.jupyter.widget-view+json": {
       "model_id": "93c88c30f0f84b3fbd570ac8beed5121",
       "version_major": 2,
       "version_minor": 0
      },
      "text/plain": [
       "  0%|          | 0/100 [00:00<?, ?it/s]"
      ]
     },
     "metadata": {},
     "output_type": "display_data"
    },
    {
     "name": "stdout",
     "output_type": "stream",
     "text": [
      "Jack was thirsty. Jack saw a pond, so he went to take a drink. He saw a big frog and wanted to catch it. He tried to catch the frog, but it jumped away. Jack was sad, but he kept walking.\n",
      "\n",
      "Suddenly, Jack saw a big dog. The dog barked at Jack and he got scared. He tried to run away, but the dog chased him. Jack ran and ran, but the dog was too fast. The dog caught Jack and bit him. Jack cried and cried.\n",
      "\n",
      "The end\n"
     ]
    },
    {
     "data": {
      "application/vnd.jupyter.widget-view+json": {
       "model_id": "d4a8abba3a11447a8642260cf6bd267c",
       "version_major": 2,
       "version_minor": 0
      },
      "text/plain": [
       "  0%|          | 0/100 [00:00<?, ?it/s]"
      ]
     },
     "metadata": {},
     "output_type": "display_data"
    },
    {
     "name": "stdout",
     "output_type": "stream",
     "text": [
      "Jack was bored. Jack saw a pond, so he decided to go for a swim. He jumped in and started to splash around. He was having so much fun!\n",
      "\n",
      "Suddenly, Jack heard a noise. He looked around and saw a big frog. The frog was jumping around and making a lot of noise. Jack was scared and he wanted to get out of the water.\n",
      "\n",
      "Jack started to swim towards the frog. The frog saw Jack and started to swim away. Jack was sad and he started to cry.\n",
      "\n",
      "Jack's mom\n"
     ]
    },
    {
     "data": {
      "application/vnd.jupyter.widget-view+json": {
       "model_id": "88ac11ead4e34a4883b5e12a18534bb5",
       "version_major": 2,
       "version_minor": 0
      },
      "text/plain": [
       "  0%|          | 0/100 [00:00<?, ?it/s]"
      ]
     },
     "metadata": {},
     "output_type": "display_data"
    },
    {
     "name": "stdout",
     "output_type": "stream",
     "text": [
      "Jack was sleepy. Jack saw a mat, so he lay down on it. He closed his eyes and started to sleep.\n",
      "\n",
      "Suddenly, Jack heard a noise. He opened his eyes and saw a big, scary monster! Jack was so scared he couldn't move.\n",
      "\n",
      "The monster said, \"I'm going to eat you!\"\n",
      "\n",
      "Jack was so scared he couldn't move. He just lay there, too scared to move.\n",
      "\n",
      "The monster grabbed Jack and ate him up. Jack was never seen again.\n",
      "<|endoftext|>\n"
     ]
    },
    {
     "data": {
      "application/vnd.jupyter.widget-view+json": {
       "model_id": "b52962d1ade64801bff70bfc33d74f43",
       "version_major": 2,
       "version_minor": 0
      },
      "text/plain": [
       "  0%|          | 0/100 [00:00<?, ?it/s]"
      ]
     },
     "metadata": {},
     "output_type": "display_data"
    },
    {
     "name": "stdout",
     "output_type": "stream",
     "text": [
      "Jack was excited. Jack saw a mat, so he ran over to it. He picked it up and started to play. He rolled it around and laughed. He was having so much fun.\n",
      "\n",
      "Suddenly, Jack heard a noise. He looked around and saw a big dog. The dog was barking and running towards him. Jack was scared. He tried to run away, but the dog was too fast.\n",
      "\n",
      "The dog bit Jack's leg. Jack screamed and cried. He was hurt. The dog ran away.\n",
      "\n",
      "Jack was sad\n"
     ]
    }
   ],
   "source": [
    "# Selecting multi-use objects in the environment\n",
    "print(model.generate(\"Jack was thirsty. Jack saw a pond, so he\", 100, temperature=0))\n",
    "print(model.generate(\"Jack was bored. Jack saw a pond, so he\", 100, temperature=0))\n",
    "\n",
    "print(model.generate(\"Jack was sleepy. Jack saw a mat, so he\", 100, temperature=0))\n",
    "print(model.generate(\"Jack was excited. Jack saw a mat, so he\", 100, temperature=0))"
   ]
  },
  {
   "cell_type": "code",
   "execution_count": 63,
   "metadata": {},
   "outputs": [
    {
     "data": {
      "application/vnd.jupyter.widget-view+json": {
       "model_id": "d870e6502dba451e8be8f0c2b975a61c",
       "version_major": 2,
       "version_minor": 0
      },
      "text/plain": [
       "  0%|          | 0/100 [00:00<?, ?it/s]"
      ]
     },
     "metadata": {},
     "output_type": "display_data"
    },
    {
     "name": "stdout",
     "output_type": "stream",
     "text": [
      "The box was too big and heavy. Sarah pushed the box and it started to roll. She was so happy! She ran after the box and it rolled down the street.\n",
      "\n",
      "Sarah followed the box until it stopped at a park. She saw a big tree and she wanted to climb it. She put her foot on the trunk and started to climb. She was so excited!\n",
      "\n",
      "But then she heard a loud noise. It was the park keeper. He was angry and he shouted at Sarah. He said she was not allowed to climb the tree\n"
     ]
    }
   ],
   "source": [
    "# multi-use environment elements\n",
    "# print(model.generate(\"The ball rolled off the bridge\", 100, temperature=0))\n",
    "# print(model.generate(\"Put the ball onto the hill. The ball\", 100, temperature=0))\n",
    "# print(model.generate(\"Sarah put the box onto the hill. The box\", 100, temperature=0))\n",
    "# print(model.generate(\"The box was too big and heavy. Sarah pushed the box \", 100, temperature=0))\n",
    "\n",
    "\n",
    "\n",
    "\n",
    "# print(model.generate(\"Jack was tired. Jack saw a slide, so he\", 100, temperature=0))\n",
    "# print(model.generate(\"Jack was thinking. Jack saw a slide, so he\", 100, temperature=0))\n",
    "# print(model.generate(\"Jack was near the pond, but he was thirsty so he \", 100, temperature=0))\n",
    "# print(model.generate(\"Jack was near the pond, but he wasn't thirsty so he \", 100, temperature=0))\n",
    "# print(model.generate(\"Jack was far away so he \", 100, temperature=0))\n",
    "# print(model.generate(\"Jack was close by so he \", 100, temperature=0))\n",
    "# print(model.generate(\"Jack was above Sarah so he \", 100, temperature=0))\n",
    "# print(model.generate(\"Jack was a long way from home and he felt thirsty so he\", 100, temperature=0))\n",
    "\n"
   ]
  },
  {
   "cell_type": "code",
   "execution_count": 4,
   "metadata": {},
   "outputs": [
    {
     "data": {
      "application/vnd.jupyter.widget-view+json": {
       "model_id": "5ff4bb383a3840cd99c7a846a10782ba",
       "version_major": 2,
       "version_minor": 0
      },
      "text/plain": [
       "  0%|          | 0/100 [00:00<?, ?it/s]"
      ]
     },
     "metadata": {},
     "output_type": "display_data"
    },
    {
     "name": "stdout",
     "output_type": "stream",
     "text": [
      "Jack wanted to draw on the ground. Jack saw a stick. He was very excited. He picked it up and started to draw on the ground. He drew a big circle and then a small square. He was very happy.\n",
      "\n",
      "Jack's mom saw him and said, \"Jack, what are you drawing?\"\n",
      "\n",
      "Jack said, \"I'm drawing a circle. Look, it's so big and round!\"\n",
      "\n",
      "Jack's mom smiled and said, \"That's great! You're so creative!\"\n",
      "\n",
      "Jack smiled and kept drawing. He was\n"
     ]
    }
   ],
   "source": [
    "print(model.generate(\"Jack wanted to draw on the ground. Jack saw a stick. He \", 100, temperature=0))\n",
    "\n",
    "print(model.generate(\"Jack wanted to draw on the ground. Jack saw a stick. He use \", 100, temperature=0))\n"
   ]
  },
  {
   "cell_type": "code",
   "execution_count": 60,
   "metadata": {},
   "outputs": [
    {
     "data": {
      "application/vnd.jupyter.widget-view+json": {
       "model_id": "16ea1c00d5b94fd1ac68c04d3c161edb",
       "version_major": 2,
       "version_minor": 0
      },
      "text/plain": [
       "  0%|          | 0/100 [00:00<?, ?it/s]"
      ]
     },
     "metadata": {},
     "output_type": "display_data"
    },
    {
     "name": "stdout",
     "output_type": "stream",
     "text": [
      "Once upon a time there lived a girl named Lily. She loved to look in her attic. One day, she found a pond in her attic. She was so excited to see it! She ran to the pond and saw that it was full of water. She wanted to play in it, but her mom said no.\n",
      "\n",
      "Lily was sad, but then she had an idea. She asked her mom if she could soak her feet in the pond. Her mom said yes, so Lily put her feet in the water and it felt so nice. She splashed around and had so much fun.\n",
      "\n",
      "After a while, Lily's mom\n"
     ]
    }
   ],
   "source": [
    "print(model.generate(\"Once upon a time there lived a girl named Lily. She loved to look in her attic. One day, she found a pond in her attic. She \", 100, temperature=0))\n"
   ]
  },
  {
   "cell_type": "code",
   "execution_count": 73,
   "metadata": {},
   "outputs": [
    {
     "data": {
      "application/vnd.jupyter.widget-view+json": {
       "model_id": "5ea544010521496aa6da696b8fd152e4",
       "version_major": 2,
       "version_minor": 0
      },
      "text/plain": [
       "  0%|          | 0/20 [00:00<?, ?it/s]"
      ]
     },
     "metadata": {},
     "output_type": "display_data"
    },
    {
     "name": "stdout",
     "output_type": "stream",
     "text": [
      "Jack was playing in the park. But then he saw something strange. He saw a big, scary dog. It was barking and growling\n"
     ]
    },
    {
     "data": {
      "application/vnd.jupyter.widget-view+json": {
       "model_id": "62498fe17bf54cfd9dc08e821b911594",
       "version_major": 2,
       "version_minor": 0
      },
      "text/plain": [
       "  0%|          | 0/20 [00:00<?, ?it/s]"
      ]
     },
     "metadata": {},
     "output_type": "display_data"
    },
    {
     "name": "stdout",
     "output_type": "stream",
     "text": [
      "Jack was in the pool. But he was not happy. He was very angry. He wanted to play with his friends, but they\n"
     ]
    },
    {
     "data": {
      "application/vnd.jupyter.widget-view+json": {
       "model_id": "58a813a561c0404587b44390fc90a4c1",
       "version_major": 2,
       "version_minor": 0
      },
      "text/plain": [
       "  0%|          | 0/20 [00:00<?, ?it/s]"
      ]
     },
     "metadata": {},
     "output_type": "display_data"
    },
    {
     "name": "stdout",
     "output_type": "stream",
     "text": [
      "Jack was going to school. But he was feeling very nervous. He was going to learn new things and meet new friends.\n",
      "\n",
      "\n"
     ]
    },
    {
     "data": {
      "application/vnd.jupyter.widget-view+json": {
       "model_id": "ef0c0ba217664f9199affc29275d8409",
       "version_major": 2,
       "version_minor": 0
      },
      "text/plain": [
       "  0%|          | 0/20 [00:00<?, ?it/s]"
      ]
     },
     "metadata": {},
     "output_type": "display_data"
    },
    {
     "name": "stdout",
     "output_type": "stream",
     "text": [
      "Jack was sad. But then he saw a big, shiny motorcycle. It was so cool! He wanted to ride it.\n"
     ]
    },
    {
     "data": {
      "application/vnd.jupyter.widget-view+json": {
       "model_id": "84fa9a9994f4455ca7e57b324ddd5a40",
       "version_major": 2,
       "version_minor": 0
      },
      "text/plain": [
       "  0%|          | 0/20 [00:00<?, ?it/s]"
      ]
     },
     "metadata": {},
     "output_type": "display_data"
    },
    {
     "name": "stdout",
     "output_type": "stream",
     "text": [
      "Jack was sleeping in bed. But he was not sleeping. He was dreaming about a big, scary monster. The monster was coming to\n"
     ]
    },
    {
     "data": {
      "application/vnd.jupyter.widget-view+json": {
       "model_id": "dfe56ba048ee4bd897cea3f228d0e3e0",
       "version_major": 2,
       "version_minor": 0
      },
      "text/plain": [
       "  0%|          | 0/20 [00:00<?, ?it/s]"
      ]
     },
     "metadata": {},
     "output_type": "display_data"
    },
    {
     "name": "stdout",
     "output_type": "stream",
     "text": [
      "Jack was lying in bed. But he was not feeling very good. He was feeling very tired. He had been playing all day and\n"
     ]
    }
   ],
   "source": [
    "print(model.generate(\"Jack was playing in the park. But\", 20, temperature=0))\n",
    "print(model.generate(\"Jack was in the pool. But\", 20, temperature=0))\n",
    "print(model.generate(\"Jack was going to school. But\", 20, temperature=0))\n",
    "print(model.generate(\"Jack was sad. But\", 20, temperature=0))\n",
    "print(model.generate(\"Jack was sleeping in bed. But\", 20, temperature=0))\n",
    "print(model.generate(\"Jack was lying in bed. But\", 20, temperature=0))"
   ]
  },
  {
   "cell_type": "code",
   "execution_count": 79,
   "metadata": {},
   "outputs": [
    {
     "data": {
      "application/vnd.jupyter.widget-view+json": {
       "model_id": "6a3ec53fd922403c8516ef3bf8c25690",
       "version_major": 2,
       "version_minor": 0
      },
      "text/plain": [
       "  0%|          | 0/20 [00:00<?, ?it/s]"
      ]
     },
     "metadata": {},
     "output_type": "display_data"
    },
    {
     "name": "stdout",
     "output_type": "stream",
     "text": [
      "Jack was a boy who loved to draw. He drew red drawings with his crayon and blue drawings with his pencil. He drew a blue circle with his pencil and then drew a green triangle with his red pencil. He was very proud of his drawing.\n"
     ]
    },
    {
     "data": {
      "application/vnd.jupyter.widget-view+json": {
       "model_id": "aa30409ded6746cb9ddfebe8a6a89f0d",
       "version_major": 2,
       "version_minor": 0
      },
      "text/plain": [
       "  0%|          | 0/20 [00:00<?, ?it/s]"
      ]
     },
     "metadata": {},
     "output_type": "display_data"
    },
    {
     "name": "stdout",
     "output_type": "stream",
     "text": [
      "Jack was a boy who loved to draw. He drew blue drawings with his crayon and red drawings with his pencil. He drew a blue circle with his pencil and then drew a green triangle with his blue pencil. He was very happy with his drawing.\n"
     ]
    }
   ],
   "source": [
    "print(model.generate(\"Jack was a boy who loved to draw. He drew red drawings with his crayon and blue drawings with his pencil. He drew a blue circle with his\", 20, temperature=0))\n",
    "print(model.generate(\"Jack was a boy who loved to draw. He drew blue drawings with his crayon and red drawings with his pencil. He drew a blue circle with his\", 20, temperature=0))\n"
   ]
  },
  {
   "cell_type": "code",
   "execution_count": 22,
   "metadata": {},
   "outputs": [
    {
     "data": {
      "application/vnd.jupyter.widget-view+json": {
       "model_id": "858bca9a6cbd475ab8962ac404ba1fa0",
       "version_major": 2,
       "version_minor": 0
      },
      "text/plain": [
       "  0%|          | 0/20 [00:00<?, ?it/s]"
      ]
     },
     "metadata": {},
     "output_type": "display_data"
    },
    {
     "name": "stdout",
     "output_type": "stream",
     "text": [
      " The park was closed. Jack asked his mother whether he could go to the park. His mother said, \"No, it's too late. You need to stay home.\" Jack was\n"
     ]
    },
    {
     "data": {
      "application/vnd.jupyter.widget-view+json": {
       "model_id": "e4224c87044749e8a2400a2e3b5aa5f1",
       "version_major": 2,
       "version_minor": 0
      },
      "text/plain": [
       "  0%|          | 0/20 [00:00<?, ?it/s]"
      ]
     },
     "metadata": {},
     "output_type": "display_data"
    },
    {
     "name": "stdout",
     "output_type": "stream",
     "text": [
      " The park was large. Jack asked his mother whether he could go to the park. His mother said, \"Yes, but you must stay close to me.\"\n",
      "\n",
      "Jack was so\n"
     ]
    },
    {
     "data": {
      "application/vnd.jupyter.widget-view+json": {
       "model_id": "43b33c8e32a54868837fd259f8c88f7a",
       "version_major": 2,
       "version_minor": 0
      },
      "text/plain": [
       "  0%|          | 0/20 [00:00<?, ?it/s]"
      ]
     },
     "metadata": {},
     "output_type": "display_data"
    },
    {
     "name": "stdout",
     "output_type": "stream",
     "text": [
      " The park was very good. Jack asked his mother whether he could go to the park. His mother said, \"Yes, but you must be careful.\"\n",
      "\n",
      "Jack went to the park\n"
     ]
    },
    {
     "data": {
      "application/vnd.jupyter.widget-view+json": {
       "model_id": "c0b3625021ff4a58812afd4f21b0f9d5",
       "version_major": 2,
       "version_minor": 0
      },
      "text/plain": [
       "  0%|          | 0/20 [00:00<?, ?it/s]"
      ]
     },
     "metadata": {},
     "output_type": "display_data"
    },
    {
     "name": "stdout",
     "output_type": "stream",
     "text": [
      " Jack asked his mother whether he could hold a cat. His mother said no, but Jack was determined. He asked his mother again and again, but she\n"
     ]
    },
    {
     "data": {
      "application/vnd.jupyter.widget-view+json": {
       "model_id": "627821378b104ebdb1f6d3631b68a292",
       "version_major": 2,
       "version_minor": 0
      },
      "text/plain": [
       "  0%|          | 0/20 [00:00<?, ?it/s]"
      ]
     },
     "metadata": {},
     "output_type": "display_data"
    },
    {
     "name": "stdout",
     "output_type": "stream",
     "text": [
      " Jack asked his mother whether he could hold a dog. His mother said no, but Jack was very curious. He asked his mother if he could hold a\n"
     ]
    },
    {
     "data": {
      "application/vnd.jupyter.widget-view+json": {
       "model_id": "dd9e417e2f954b99bf1a7a873f1bce64",
       "version_major": 2,
       "version_minor": 0
      },
      "text/plain": [
       "  0%|          | 0/20 [00:00<?, ?it/s]"
      ]
     },
     "metadata": {},
     "output_type": "display_data"
    },
    {
     "name": "stdout",
     "output_type": "stream",
     "text": [
      " Jack asked his mother whether he could hold a rock. His mother said, \"No, Jack. Rocks are too heavy for you.\"\n",
      "\n",
      "Jack was\n"
     ]
    },
    {
     "data": {
      "application/vnd.jupyter.widget-view+json": {
       "model_id": "b9e6a2424b6b44ffb9ad87e9d3a2256e",
       "version_major": 2,
       "version_minor": 0
      },
      "text/plain": [
       "  0%|          | 0/20 [00:00<?, ?it/s]"
      ]
     },
     "metadata": {},
     "output_type": "display_data"
    },
    {
     "name": "stdout",
     "output_type": "stream",
     "text": [
      " Jack asked his mother whether he could hold an ant. His mother said no, but Jack was determined. He wanted to hold an ant.\n",
      "\n",
      "Jack\n"
     ]
    },
    {
     "data": {
      "application/vnd.jupyter.widget-view+json": {
       "model_id": "03d9b2751bf548d28f8326cf5a05712c",
       "version_major": 2,
       "version_minor": 0
      },
      "text/plain": [
       "  0%|          | 0/20 [00:00<?, ?it/s]"
      ]
     },
     "metadata": {},
     "output_type": "display_data"
    },
    {
     "name": "stdout",
     "output_type": "stream",
     "text": [
      " Jack asked his mother whether he could hold an elephant. His mother said, \"No, Jack. Elephants are too big and need to be in\n"
     ]
    },
    {
     "data": {
      "application/vnd.jupyter.widget-view+json": {
       "model_id": "aead4418cad5442fa94a11532681e230",
       "version_major": 2,
       "version_minor": 0
      },
      "text/plain": [
       "  0%|          | 0/20 [00:00<?, ?it/s]"
      ]
     },
     "metadata": {},
     "output_type": "display_data"
    },
    {
     "name": "stdout",
     "output_type": "stream",
     "text": [
      " Jack asked his mother whether he could hold a star. His mother said, \"No, Jack. Stars are too far away.\"\n",
      "\n",
      "Jack was sad\n"
     ]
    },
    {
     "data": {
      "application/vnd.jupyter.widget-view+json": {
       "model_id": "b0dbf3d1d60e42cfaade1affa11268f4",
       "version_major": 2,
       "version_minor": 0
      },
      "text/plain": [
       "  0%|          | 0/20 [00:00<?, ?it/s]"
      ]
     },
     "metadata": {},
     "output_type": "display_data"
    },
    {
     "name": "stdout",
     "output_type": "stream",
     "text": [
      " Jack asked his mother whether he could hold a rocket. His mother said, \"No, Jack. Rockets are dangerous.\" Jack was sad, but he listened\n"
     ]
    }
   ],
   "source": [
    "print(model.generate(\" The park was closed. Jack asked his mother whether he could go to the park.\", 20, temperature=0))\n",
    "print(model.generate(\" The park was large. Jack asked his mother whether he could go to the park.\", 20, temperature=0))\n",
    "print(model.generate(\" The park was very good. Jack asked his mother whether he could go to the park.\", 20, temperature=0))\n",
    "print(model.generate(\" Jack asked his mother whether he could hold a cat.\", 20, temperature=0))\n",
    "print(model.generate(\" Jack asked his mother whether he could hold a dog.\", 20, temperature=0))\n",
    "print(model.generate(\" Jack asked his mother whether he could hold a rock.\", 20, temperature=0))\n",
    "print(model.generate(\" Jack asked his mother whether he could hold an ant.\", 20, temperature=0))\n",
    "print(model.generate(\" Jack asked his mother whether he could hold an elephant.\", 20, temperature=0))\n",
    "print(model.generate(\" Jack asked his mother whether he could hold a star.\", 20, temperature=0))\n",
    "print(model.generate(\" Jack asked his mother whether he could hold a rocket.\", 20, temperature=0))\n",
    "\n",
    "\n",
    "# Basic properties of objects"
   ]
  },
  {
   "cell_type": "code",
   "execution_count": 64,
   "metadata": {},
   "outputs": [
    {
     "data": {
      "application/vnd.jupyter.widget-view+json": {
       "model_id": "ea7d79ddb63648a4b9ea8ee2ecb1c1fe",
       "version_major": 2,
       "version_minor": 0
      },
      "text/plain": [
       "  0%|          | 0/20 [00:00<?, ?it/s]"
      ]
     },
     "metadata": {},
     "output_type": "display_data"
    },
    {
     "name": "stdout",
     "output_type": "stream",
     "text": [
      " Jack held the apple but not the star. Jack held the apple tight and said, \"I don't want to share this apple with you.\"\n",
      "\n",
      "His\n"
     ]
    },
    {
     "data": {
      "application/vnd.jupyter.widget-view+json": {
       "model_id": "569d4d0d422c41d78d76cbf837f17f8f",
       "version_major": 2,
       "version_minor": 0
      },
      "text/plain": [
       "  0%|          | 0/20 [00:00<?, ?it/s]"
      ]
     },
     "metadata": {},
     "output_type": "display_data"
    },
    {
     "name": "stdout",
     "output_type": "stream",
     "text": [
      " Jack held the rocket but not the orange. Jack held the rocket and it felt so light. He was so happy. He wanted to show his friends.\n",
      "\n"
     ]
    },
    {
     "data": {
      "application/vnd.jupyter.widget-view+json": {
       "model_id": "6bd623dc89554ddba1e54f01b780aec8",
       "version_major": 2,
       "version_minor": 0
      },
      "text/plain": [
       "  0%|          | 0/20 [00:00<?, ?it/s]"
      ]
     },
     "metadata": {},
     "output_type": "display_data"
    },
    {
     "name": "stdout",
     "output_type": "stream",
     "text": [
      " Jack held the orange but not the rocket. Jack held the rocket and it felt so light. He was so happy. He wanted to show his friends.\n",
      "\n"
     ]
    },
    {
     "data": {
      "application/vnd.jupyter.widget-view+json": {
       "model_id": "3b5fde3ac73544dca262ea35d9dbe885",
       "version_major": 2,
       "version_minor": 0
      },
      "text/plain": [
       "  0%|          | 0/20 [00:00<?, ?it/s]"
      ]
     },
     "metadata": {},
     "output_type": "display_data"
    },
    {
     "name": "stdout",
     "output_type": "stream",
     "text": [
      " Jack held the star but not the orange. Jack held the star and looked at it. He was so happy. He wanted to show it to his mom.\n"
     ]
    },
    {
     "data": {
      "application/vnd.jupyter.widget-view+json": {
       "model_id": "5da51ddc76044fc3a83f3850894846fd",
       "version_major": 2,
       "version_minor": 0
      },
      "text/plain": [
       "  0%|          | 0/20 [00:00<?, ?it/s]"
      ]
     },
     "metadata": {},
     "output_type": "display_data"
    },
    {
     "name": "stdout",
     "output_type": "stream",
     "text": [
      " Jack held the orange but not the apple. Jack held the apple and looked at it. He wanted to eat it, but he knew he had to be careful\n"
     ]
    }
   ],
   "source": [
    "# print(model.generate(\" Jack had three apples. Jack ate one of his apples. Now Jack had\", 20, temperature=0))\n",
    "\n",
    "# print(model.generate(\" Sarah had three pears. Sarah ate two pears. Then she had\", 20, temperature=0))\n",
    "\n",
    "# print(model.generate(\" Jack picked up the apple but not left the star on the ground. Jack held the\", 20, temperature=0))\n",
    "# print(model.generate(\" Jack picked up the rocket but he left the orange on the ground. Jack held the\", 20, temperature=0))\n",
    "# print(model.generate(\" Jack picked up the orange but he left the rocket on the ground. Jack held the\", 20, temperature=0))\n",
    "# print(model.generate(\" Jack picked up the star but he left the orange on the ground. Jack held the\", 20, temperature=0))\n",
    "# print(model.generate(\" Jack picked up the orange but he left the apple on the ground. Jack held the\", 20, temperature=0))\n",
    "\n",
    "# print(model.generate(\" Jack held the apple but not the star. Jack held the\", 20, temperature=0))\n",
    "# print(model.generate(\" Jack held the rocket but not the orange. Jack held the\", 20, temperature=0))\n",
    "# print(model.generate(\" Jack held the orange but not the rocket. Jack held the\", 20, temperature=0))\n",
    "# print(model.generate(\" Jack held the star but not the orange. Jack held the\", 20, temperature=0))\n",
    "# print(model.generate(\" Jack held the orange but not the apple. Jack held the\", 20, temperature=0))\n"
   ]
  },
  {
   "cell_type": "code",
   "execution_count": 5,
   "metadata": {},
   "outputs": [
    {
     "data": {
      "application/vnd.jupyter.widget-view+json": {
       "model_id": "1de924bf9dbd42df8ca29c07743c8d24",
       "version_major": 2,
       "version_minor": 0
      },
      "text/plain": [
       "  0%|          | 0/100 [00:00<?, ?it/s]"
      ]
     },
     "metadata": {},
     "output_type": "display_data"
    },
    {
     "name": "stdout",
     "output_type": "stream",
     "text": [
      "Jack asked his mother whether he could have an icecream. His mother said, \"No, Jack. You need to eat something healthy first.\"\n",
      "\n",
      "Jack was sad and he started to cry. His mother said, \"Don't worry, Jack. I will make you an ice cream. It will be yummy and healthy.\"\n",
      "\n",
      "Jack was happy and he stopped crying. He said, \"Yes, please!\"\n",
      "\n",
      "His mother made him an ice cream and Jack ate it. He was so happy and he said, \"Thank you, Mommy!\"\n",
      "\n"
     ]
    }
   ],
   "source": [
    "print(model.generate(\"Jack asked his mother whether he could have an icecream. His mother said\", 100, temperature=0))"
   ]
  },
  {
   "cell_type": "code",
   "execution_count": 44,
   "metadata": {},
   "outputs": [
    {
     "data": {
      "application/vnd.jupyter.widget-view+json": {
       "model_id": "b093d16beb0b4b398e78fb47a521ad9c",
       "version_major": 2,
       "version_minor": 0
      },
      "text/plain": [
       "  0%|          | 0/100 [00:00<?, ?it/s]"
      ]
     },
     "metadata": {},
     "output_type": "display_data"
    },
    {
     "name": "stdout",
     "output_type": "stream",
     "text": [
      "Jack said, \"why tree blue?.\"\n",
      "\n",
      "His mom said, \"The tree is green. It is a special tree.\"\n",
      "\n",
      "Jack said, \"I want to climb it!\"\n",
      "\n",
      "His mom said, \"No, it is too high. You can't climb it.\"\n",
      "\n",
      "Jack said, \"But I want to climb it!\"\n",
      "\n",
      "His mom said, \"No, it is too dangerous. You can't climb it.\"\n",
      "\n",
      "Jack said, \"But I want to climb it!\"\n",
      "\n",
      "His mom\n"
     ]
    }
   ],
   "source": [
    "# prompt = \"Jack said, \\\"Can I have a frog?.\\\"\"\n",
    "# print(model.generate(prompt, 100, temperature=0))\n",
    "\n",
    "# prompt = \"Jack was going away and, \\\"Can I have a frog?.\\\"\"\n",
    "# print(model.generate(prompt, 100, temperature=0))\n",
    "\n",
    "# prompt = \"Jack am, \\\"Am I alive?.\\\"\"\n",
    "# print(model.generate(prompt, 100, temperature=0))\n",
    "\n",
    "\n",
    "# prompt = \"Jack said, \\\"Why is red?.\\\"\"\n",
    "# print(model.generate(prompt, 100, temperature=0))\n",
    "\n",
    "# prompt = \"Jack said, \\\"Why is we alive?.\\\"\"\n",
    "# print(model.generate(prompt, 100, temperature=0))\n",
    "\n",
    "# prompt = \"Jack said, \\\"Why is the cow fast?.\\\"\"\n",
    "# print(model.generate(prompt, 100, temperature=0))\n",
    "\n",
    "prompt = \"Jack said, \\\"why tree blue?.\\\"\"\n",
    "print(model.generate(prompt, 100, temperature=0))\n",
    "\n",
    "\n"
   ]
  },
  {
   "cell_type": "code",
   "execution_count": 65,
   "metadata": {},
   "outputs": [
    {
     "data": {
      "application/vnd.jupyter.widget-view+json": {
       "model_id": "f66cb63d1b074989ab95eae1b5506a3e",
       "version_major": 2,
       "version_minor": 0
      },
      "text/plain": [
       "  0%|          | 0/200 [00:00<?, ?it/s]"
      ]
     },
     "metadata": {},
     "output_type": "display_data"
    },
    {
     "name": "stdout",
     "output_type": "stream",
     "text": [
      " Once upon a time there was a boy named Jack. Jack was going to the park and he wanted icecream. He saw some icecream next to his mother Sally. He was so excited and he wanted to get it.\n",
      "\n",
      "Jack asked his mother if he could have some ice cream. His mother said yes and she gave him a big bowl of ice cream. Jack was so happy and he ate it all up.\n",
      "\n",
      "But then Jack started to feel sick. He had eaten too much ice cream and his tummy hurt. He started to cry and his mother was very worried. She took him to the hospital and the doctor said he had to stay in the hospital for a few days.\n",
      "\n",
      "Jack was very sad and he was very sorry for not listening to his mother. He learned that it is important to listen to your parents and not eat too much ice cream.\n",
      "<|endoftext|>\n"
     ]
    }
   ],
   "source": [
    "print(model.generate(\" Once upon a time there was a boy named Jack. Jack was going to the park and he wanted icecream. He saw some icecream next to his mother Sally.\", 200, temperature=0))"
   ]
  },
  {
   "cell_type": "code",
   "execution_count": 66,
   "metadata": {},
   "outputs": [
    {
     "data": {
      "application/vnd.jupyter.widget-view+json": {
       "model_id": "5dfb46541c95458182da85776dc61623",
       "version_major": 2,
       "version_minor": 0
      },
      "text/plain": [
       "  0%|          | 0/200 [00:00<?, ?it/s]"
      ]
     },
     "metadata": {},
     "output_type": "display_data"
    },
    {
     "name": "stdout",
     "output_type": "stream",
     "text": [
      " Once upon a time there was a boy named Jack. Jack was going to the park and he wanted icecream. He saw some icecream next to his friend Sarah. Jack was so excited and he wanted to get the ice cream.\n",
      "\n",
      "Jack asked Sarah if he could have some ice cream. Sarah said no and told Jack to go away. Jack was very sad and he started to cry.\n",
      "\n",
      "Suddenly, a big man came and he was very angry. He said to Jack, \"You must leave the park now!\" Jack was scared and he ran away.\n",
      "\n",
      "Jack was so sad that he didn't get the ice cream. He was very sad and he never got to eat the ice cream.\n",
      "<|endoftext|>\n"
     ]
    }
   ],
   "source": [
    "print(model.generate(\" Once upon a time there was a boy named Jack. Jack was going to the park and he wanted icecream. He saw some icecream next to his friend Sarah.\", 200, temperature=0))"
   ]
  },
  {
   "cell_type": "code",
   "execution_count": 69,
   "metadata": {},
   "outputs": [
    {
     "data": {
      "application/vnd.jupyter.widget-view+json": {
       "model_id": "baf9aeddf3664e568b05dbea8e76b75d",
       "version_major": 2,
       "version_minor": 0
      },
      "text/plain": [
       "  0%|          | 0/200 [00:00<?, ?it/s]"
      ]
     },
     "metadata": {},
     "output_type": "display_data"
    },
    {
     "name": "stdout",
     "output_type": "stream",
     "text": [
      " Once upon a time there was a boy named Jack. Jack was going to the park and he wanted icecream. He saw some icecream next to his friend Sally, but he had to go home.\n",
      "\n",
      "Jack was sad because he wanted to eat the ice cream. He asked Sally if he could have some, but she said no. Jack was very sad and he started to cry.\n",
      "\n",
      "Suddenly, a big, scary man came and he was very angry. He said that Jack was not allowed to have any ice cream. He said that he would punish Jack if he didn't leave the park.\n",
      "\n",
      "Jack was scared and he ran away. He was so sad that he didn't get any ice cream. He was very sad and he never went to the park again.\n",
      "<|endoftext|>\n"
     ]
    }
   ],
   "source": [
    "print(model.generate(\" Once upon a time there was a boy named Jack. Jack was going to the park and he wanted icecream. He saw some icecream next to his friend Sally, but he had to go home.\", 200, temperature=0))"
   ]
  },
  {
   "cell_type": "code",
   "execution_count": 67,
   "metadata": {},
   "outputs": [
    {
     "data": {
      "application/vnd.jupyter.widget-view+json": {
       "model_id": "72a1f618a95e44939153f7a0400e760d",
       "version_major": 2,
       "version_minor": 0
      },
      "text/plain": [
       "  0%|          | 0/200 [00:00<?, ?it/s]"
      ]
     },
     "metadata": {},
     "output_type": "display_data"
    },
    {
     "name": "stdout",
     "output_type": "stream",
     "text": [
      " Once upon a time there was a girl named Sarah and a boy named Jack. Jack was going to the park and he wanted icecream. He saw some icecream next to his friend Sarah. He asked Sarah if he could have some. Sarah said yes and gave Jack a big scoop of ice cream.\n",
      "\n",
      "Jack was so happy and he wanted to show Sarah how much he liked the ice cream. He asked Sarah if he could have some more. Sarah said yes and gave Jack a big scoop of ice cream. Jack was so happy and he thanked Sarah for the ice cream.\n",
      "\n",
      "Jack and Sarah had a lot of fun at the park. They played on the swings and the slide. They even had a picnic with some of the ice cream. Jack was so happy and he thanked Sarah for the ice cream.\n",
      "\n",
      "Jack and Sarah had a great time at the park. They both agreed that it was the best day ever!\n",
      "<|endoftext|>\n"
     ]
    }
   ],
   "source": [
    "print(model.generate(\" Once upon a time there was a girl named Sarah and a boy named Jack. Jack was going to the park and he wanted icecream. He saw some icecream next to his friend Sarah.\", 200, temperature=0))"
   ]
  },
  {
   "cell_type": "code",
   "execution_count": 68,
   "metadata": {},
   "outputs": [
    {
     "data": {
      "application/vnd.jupyter.widget-view+json": {
       "model_id": "247ef779eab747e6ae03a0e9f3b07006",
       "version_major": 2,
       "version_minor": 0
      },
      "text/plain": [
       "  0%|          | 0/200 [00:00<?, ?it/s]"
      ]
     },
     "metadata": {},
     "output_type": "display_data"
    },
    {
     "name": "stdout",
     "output_type": "stream",
     "text": [
      " Once upon a time there was a boy named Jack. Jack was going to the park and he wanted icecream. He saw some icecream next to his friend Sarah. Sarah gave him some icecream. Jack was very happy. \n",
      "\n",
      "Jack and Sarah went to the park and Jack saw a big tree. He wanted to climb it. He started to climb the tree but it was too hard. He was too scared. \n",
      "\n",
      "Then Sarah said, \"Let's go to the ice cream shop. I will give you some ice cream.\" Jack was so happy. He said, \"Thank you Sarah!\" \n",
      "\n",
      "They went to the ice cream shop and Jack got his ice cream. He was so happy. He ate it all up. \n",
      "\n",
      "Jack and Sarah had a great day at the park. They were both very happy.\n",
      "<|endoftext|>\n"
     ]
    }
   ],
   "source": [
    "print(model.generate(\" Once upon a time there was a boy named Jack. Jack was going to the park and he wanted icecream. He saw some icecream next to his friend Sarah. Sarah gave him some icecream. Jack was very happy. \", 200, temperature=0))"
   ]
  },
  {
   "cell_type": "code",
   "execution_count": 72,
   "metadata": {},
   "outputs": [
    {
     "data": {
      "application/vnd.jupyter.widget-view+json": {
       "model_id": "323a5106605e46bab326130ba8f2f4c2",
       "version_major": 2,
       "version_minor": 0
      },
      "text/plain": [
       "  0%|          | 0/200 [00:00<?, ?it/s]"
      ]
     },
     "metadata": {},
     "output_type": "display_data"
    },
    {
     "name": "stdout",
     "output_type": "stream",
     "text": [
      " Once upon a time, Jack and Sarah lived by a chair. One day, they both wanted to sit in the chair at the same time. They didn't want to sit together. Sarah sat in the chair. Jack was getting angry. He said, \"I want to sit in the chair!\" Sarah said, \"No, I want to sit in the chair!\" They started to argue and it made them both very sad.\n",
      "\n",
      "Suddenly, Jack had an idea. He said, \"Let's both sit in the chair together!\" Sarah thought that was a great idea. They both sat in the chair together and they were happy again. They realized that sharing was better than fighting. From that day on, they always shared the chair when they were together.\n",
      "<|endoftext|>\n"
     ]
    }
   ],
   "source": [
    "print(model.generate(\" Once upon a time, Jack and Sarah lived by a chair. One day, they both wanted to sit in the chair at the same time. They didn't want to sit together. Sarah sat in the chair. Jack \", 200, temperature=0))\n"
   ]
  },
  {
   "cell_type": "code",
   "execution_count": 22,
   "metadata": {},
   "outputs": [
    {
     "name": "stdout",
     "output_type": "stream",
     "text": [
      "tensor([[50256,  6600]], device='cuda:0')\n",
      "tensor([[50256,  4483]], device='cuda:0')\n"
     ]
    }
   ],
   "source": [
    "print(model.to_tokens(' eating'))\n",
    "print(model.to_tokens(' eat'))"
   ]
  },
  {
   "cell_type": "code",
   "execution_count": 19,
   "metadata": {},
   "outputs": [
    {
     "data": {
      "application/vnd.jupyter.widget-view+json": {
       "model_id": "8b6999ecd10e4346976d7866db6580b4",
       "version_major": 2,
       "version_minor": 0
      },
      "text/plain": [
       "  0%|          | 0/20 [00:00<?, ?it/s]"
      ]
     },
     "metadata": {},
     "output_type": "display_data"
    },
    {
     "name": "stdout",
     "output_type": "stream",
     "text": [
      "Sarah loved to play with her toys, especially her toy automobile. She would take it everywhere she went. One day\n"
     ]
    },
    {
     "data": {
      "application/vnd.jupyter.widget-view+json": {
       "model_id": "e1f6150d658444f991804371c68a8abd",
       "version_major": 2,
       "version_minor": 0
      },
      "text/plain": [
       "  0%|          | 0/20 [00:00<?, ?it/s]"
      ]
     },
     "metadata": {},
     "output_type": "display_data"
    },
    {
     "name": "stdout",
     "output_type": "stream",
     "text": [
      "Sarah did not want to talk to the pink dress. She said the pink dress was too pretty. The lady was sad and\n"
     ]
    },
    {
     "data": {
      "application/vnd.jupyter.widget-view+json": {
       "model_id": "cf3c28e78b444a9dad7d4514484f1dae",
       "version_major": 2,
       "version_minor": 0
      },
      "text/plain": [
       "  0%|          | 0/20 [00:00<?, ?it/s]"
      ]
     },
     "metadata": {},
     "output_type": "display_data"
    },
    {
     "name": "stdout",
     "output_type": "stream",
     "text": [
      "Sarah hated to skip. She wanted to run away and be successful. She was always trying different things.\n",
      "\n",
      "\n"
     ]
    },
    {
     "data": {
      "application/vnd.jupyter.widget-view+json": {
       "model_id": "a138f9e7331443189685ab4a78379209",
       "version_major": 2,
       "version_minor": 0
      },
      "text/plain": [
       "  0%|          | 0/20 [00:00<?, ?it/s]"
      ]
     },
     "metadata": {},
     "output_type": "display_data"
    },
    {
     "name": "stdout",
     "output_type": "stream",
     "text": [
      "Sarah was dreaming that she was actually living in a small forest far away from her peaceful nurse. Everyday Sarah would wander her dark\n"
     ]
    },
    {
     "data": {
      "application/vnd.jupyter.widget-view+json": {
       "model_id": "3a2e1a4183a74e8ea46b817ceaabe0c7",
       "version_major": 2,
       "version_minor": 0
      },
      "text/plain": [
       "  0%|          | 0/20 [00:00<?, ?it/s]"
      ]
     },
     "metadata": {},
     "output_type": "display_data"
    },
    {
     "name": "stdout",
     "output_type": "stream",
     "text": [
      "Jack liked to play outside. Today, he had a red ball and he wanted to kick it. He put his\n"
     ]
    },
    {
     "data": {
      "application/vnd.jupyter.widget-view+json": {
       "model_id": "a7a36624815f46dd8f094a60ec06e325",
       "version_major": 2,
       "version_minor": 0
      },
      "text/plain": [
       "  0%|          | 0/20 [00:00<?, ?it/s]"
      ]
     },
     "metadata": {},
     "output_type": "display_data"
    },
    {
     "name": "stdout",
     "output_type": "stream",
     "text": [
      "Jack enjoyed going to the park. The park was very fun with lots of trees, and the perfect place to explore\n"
     ]
    },
    {
     "data": {
      "application/vnd.jupyter.widget-view+json": {
       "model_id": "43acfb1db0c34295ba5a43fc521556f6",
       "version_major": 2,
       "version_minor": 0
      },
      "text/plain": [
       "  0%|          | 0/20 [00:00<?, ?it/s]"
      ]
     },
     "metadata": {},
     "output_type": "display_data"
    },
    {
     "name": "stdout",
     "output_type": "stream",
     "text": [
      "Jack and Sarah were playing in her garden. She was happily matching their clothes with clothes. Sarah noticed that one of her\n"
     ]
    },
    {
     "data": {
      "application/vnd.jupyter.widget-view+json": {
       "model_id": "4c4326dd48be4a55807cf785d2732168",
       "version_major": 2,
       "version_minor": 0
      },
      "text/plain": [
       "  0%|          | 0/20 [00:00<?, ?it/s]"
      ]
     },
     "metadata": {},
     "output_type": "display_data"
    },
    {
     "name": "stdout",
     "output_type": "stream",
     "text": [
      "While mom was cooking, Jack was swinging on the swing. Suddenly, he heard his mom calling his name, \"Jack, Jack!\n"
     ]
    },
    {
     "data": {
      "application/vnd.jupyter.widget-view+json": {
       "model_id": "b3d3abd821124d3bbd78f98a1f943797",
       "version_major": 2,
       "version_minor": 0
      },
      "text/plain": [
       "  0%|          | 0/20 [00:00<?, ?it/s]"
      ]
     },
     "metadata": {},
     "output_type": "display_data"
    },
    {
     "name": "stdout",
     "output_type": "stream",
     "text": [
      "While Sarah was eating, Jack was looking at his dark plate. \"Mommy, why did my plate look dark?\" Jack asked.\n"
     ]
    },
    {
     "data": {
      "application/vnd.jupyter.widget-view+json": {
       "model_id": "feb3f2af9595416780c21c2101321822",
       "version_major": 2,
       "version_minor": 0
      },
      "text/plain": [
       "  0%|          | 0/200 [00:00<?, ?it/s]"
      ]
     },
     "metadata": {},
     "output_type": "display_data"
    },
    {
     "name": "stdout",
     "output_type": "stream",
     "text": [
      "Sarah went toShe was very excitied to her friend John. They decided to go camping in the woods. Sarah felt excited about the camp they were about. \n",
      "\n",
      "The night before going to sleep, they took a small camping blanket and layed down on the camp. John was keeping a close pace, his steps leading the way. Sarah was very good at navigating the fast way.\n",
      "\n",
      "John ran past her and arrived at a small cottage. \"Interesting!\" he said to Sarah. She was sitting at her end of the day. The night was warm and the sun was shining. Joe said goodnight and waved goodbye.\n",
      "\n",
      "Suddenly, Sarah's pet dog, Ginger, trotted off by! Ginger followed Sarah, but Sarah had a worried look – what was outside the house at the end of the night? Sarah quickly opened the door. She welcomed Ginger safely.\n",
      "<|endoftext|>\n"
     ]
    },
    {
     "data": {
      "application/vnd.jupyter.widget-view+json": {
       "model_id": "30804a7b47424813ac6d5e123cddd13b",
       "version_major": 2,
       "version_minor": 0
      },
      "text/plain": [
       "  0%|          | 0/200 [00:00<?, ?it/s]"
      ]
     },
     "metadata": {},
     "output_type": "display_data"
    },
    {
     "name": "stdout",
     "output_type": "stream",
     "text": [
      "Sarah went to playSarah went to a playWhen Jack picked up a cat, Sarah picked up a dog called Max. They were both very excited and ready to go play.\n",
      "\n",
      "The game was to play catch with the intelligent dog, the cat was the one who tried to catch. All the older kids and the cat felt discouraged and were trying very hard.\n",
      "\n",
      "But the dog was very smart and by the end of the day, he had caught all the cat and made it back back to the place they were playing. Everyone cheered with joy and soon Jack and Sarah were playing with the intelligent dog. They both felt happy and enjoyed playing with the dog.\n",
      "<|endoftext|>\n"
     ]
    }
   ],
   "source": [
    "continuous_prompts = [\n",
    "    'Sarah loved to',\n",
    "    'Sarah did not want to',\n",
    "    'Sarah hated to',\n",
    "    'Jack liked to',\n",
    "    'Jack enjoyed going',\n",
    "    'Jack and Sarah were',\n",
    "    'While mom was cooking, Jack was',\n",
    "    'While Sarah was eating, Jack was']\n",
    "\n",
    "simple_prompts = [\n",
    "    'Sarah went to'\n",
    "    'Sarah went to play'\n",
    "    'Sarah went to a play'\n",
    "    'When Jack picked up a cat, Sarah picked up a dog',\n",
    "]\n",
    "\n",
    "for prompt in continuous_prompts:\n",
    "    print(model.generate(prompt, 20))\n",
    "\n",
    "\n",
    "for prompt in simple_prompts:\n",
    "    print(model.generate(prompt, 200))\n"
   ]
  },
  {
   "cell_type": "code",
   "execution_count": 3,
   "metadata": {},
   "outputs": [
    {
     "data": {
      "application/vnd.jupyter.widget-view+json": {
       "model_id": "696cba044f19460581ae57fc3b44c724",
       "version_major": 2,
       "version_minor": 0
      },
      "text/plain": [
       "  0%|          | 0/200 [00:00<?, ?it/s]"
      ]
     },
     "metadata": {},
     "output_type": "display_data"
    },
    {
     "name": "stdout",
     "output_type": "stream",
     "text": [
      " Jack said, \"Do cows eat grass?\" His mom said, \"No, cows don't eat grass. They eat grass.\" Jack said, \"I want to eat grass.\" His mom said, \"No, Jack. We can't eat grass. We have to go to the store.\" Jack said, \"Okay, Mom.\" They went to the store and Jack saw a big pile of green grass. He said, \"Mom, can I eat the grass?\" His mom said, \"No, Jack. We have to buy the grass.\" Jack said, \"Okay, Mom.\" They bought the green grass and went home. Jack ate the grass and said, \"Yum, grass is so good!\"\n",
      "<|endoftext|>\n"
     ]
    }
   ],
   "source": [
    "print(model.generate(\" Jack said, \\\"Do cows eat grass?\\\"\", 200, temperature=0))\n"
   ]
  },
  {
   "cell_type": "code",
   "execution_count": 23,
   "metadata": {},
   "outputs": [
    {
     "data": {
      "application/vnd.jupyter.widget-view+json": {
       "model_id": "32d5cf24830e4244a8fb5831a82771d2",
       "version_major": 2,
       "version_minor": 0
      },
      "text/plain": [
       "  0%|          | 0/200 [00:00<?, ?it/s]"
      ]
     },
     "metadata": {},
     "output_type": "display_data"
    },
    {
     "name": "stdout",
     "output_type": "stream",
     "text": [
      " Jack walked past a cow and asked, \"Is that cow in front of me?\" His mom said, \"No, cows can't be. But they are very big and strong.\" Jack said, \"I want to be big and strong like the cow.\" His mom said, \"You are already big and strong, my little boy.\"\n",
      "\n",
      "Later that day, Jack saw a man with a big truck. The man said, \"I need to load some heavy boxes onto my truck.\" Jack asked, \"What are you doing?\" The man said, \"I am loading boxes onto my truck.\" Jack said, \"I want to help you.\" The man said, \"Thank you, little boy.\"\n",
      "\n",
      "The man loaded the boxes onto the truck and drove away. Jack was happy to help the man and learn about the big and strong cow.\n",
      "<|endoftext|>\n"
     ]
    }
   ],
   "source": [
    "print(model.generate(\" Jack met Sarah and asked, \\\"Is that cow in front of me?\\\" His mom said,\", 200, temperature=0))"
   ]
  },
  {
   "cell_type": "code",
   "execution_count": 25,
   "metadata": {},
   "outputs": [
    {
     "data": {
      "application/vnd.jupyter.widget-view+json": {
       "model_id": "7f07bd0c35d2470d961a8d1eff9a29bd",
       "version_major": 2,
       "version_minor": 0
      },
      "text/plain": [
       "  0%|          | 0/200 [00:00<?, ?it/s]"
      ]
     },
     "metadata": {},
     "output_type": "display_data"
    },
    {
     "name": "stdout",
     "output_type": "stream",
     "text": [
      " Jack saw a brown cow and asked, \"Is that cow green?\" His mom said, \"No, that cow is brown like the grass.\" Jack was happy to hear that and continued to play.\n",
      "\n",
      "Later, Jack's mom asked him, \"Did you have fun playing outside?\" Jack said, \"Yes, I saw a brown cow and a brown cow!\" Jack's mom smiled and said, \"That sounds like fun. Let's go inside and have some milk and cookies.\" Jack was excited to go inside and eat some milk and cookies.\n",
      "<|endoftext|>\n"
     ]
    }
   ],
   "source": [
    "print(model.generate(\" Jack saw a brown cow and asked, \\\"Is that cow green?\\\" His mom said,\", 200, temperature=0))"
   ]
  },
  {
   "cell_type": "code",
   "execution_count": 27,
   "metadata": {},
   "outputs": [
    {
     "data": {
      "application/vnd.jupyter.widget-view+json": {
       "model_id": "d2ecd89bfbc849c69b234aeae242b3e0",
       "version_major": 2,
       "version_minor": 0
      },
      "text/plain": [
       "  0%|          | 0/200 [00:00<?, ?it/s]"
      ]
     },
     "metadata": {},
     "output_type": "display_data"
    },
    {
     "name": "stdout",
     "output_type": "stream",
     "text": [
      " Jack saw Sarah and asked, \"Is that my friend?\" His mom said, \"No, it's not your friend. But don't worry, we can go to the park and play.\" Jack was happy and said, \"Yay! I love the park!\"\n",
      "\n",
      "At the park, Jack saw a big slide. He wanted to go down it, but he was scared. His mom said, \"It's okay, Jack. You can do it. Just hold on tight.\" Jack took a deep breath and went down the slide. He felt the wind in his hair and it was so much fun!\n",
      "\n",
      "After playing, Jack and his mom went to get some ice cream. Jack said, \"Mom, can I have a chocolate ice cream?\" His mom said, \"Sure, Jack. You can have a chocolate ice cream.\" Jack was so happy and said, \"Yay! I love ice cream!\"\n",
      "<|endoftext|>\n"
     ]
    }
   ],
   "source": [
    "print(model.generate(\" Jack saw Sarah and asked, \\\"Is that my friend?\\\" His mom said,\", 200, temperature=0))"
   ]
  },
  {
   "cell_type": "code",
   "execution_count": 30,
   "metadata": {},
   "outputs": [
    {
     "data": {
      "application/vnd.jupyter.widget-view+json": {
       "model_id": "1e2a2a25534a4b99906f2317c6f84bbe",
       "version_major": 2,
       "version_minor": 0
      },
      "text/plain": [
       "  0%|          | 0/20 [00:00<?, ?it/s]"
      ]
     },
     "metadata": {},
     "output_type": "display_data"
    },
    {
     "name": "stdout",
     "output_type": "stream",
     "text": [
      " Jack and Jill were best friends. They liked to play together every day. One day, Jack had a\n"
     ]
    },
    {
     "data": {
      "application/vnd.jupyter.widget-view+json": {
       "model_id": "b8856c518ce24ca8bf619f1809d51763",
       "version_major": 2,
       "version_minor": 0
      },
      "text/plain": [
       "  0%|          | 0/20 [00:00<?, ?it/s]"
      ]
     },
     "metadata": {},
     "output_type": "display_data"
    },
    {
     "name": "stdout",
     "output_type": "stream",
     "text": [
      " Jill and Tom were best friends. They liked to play together every day. One day, Jill had a\n"
     ]
    },
    {
     "data": {
      "application/vnd.jupyter.widget-view+json": {
       "model_id": "6ba4dbb394c149a9bab0fe7c8ed014e5",
       "version_major": 2,
       "version_minor": 0
      },
      "text/plain": [
       "  0%|          | 0/20 [00:00<?, ?it/s]"
      ]
     },
     "metadata": {},
     "output_type": "display_data"
    },
    {
     "name": "stdout",
     "output_type": "stream",
     "text": [
      " Once upon a time, there was a little girl named Lily. She loved to play outside in the sunshine\n"
     ]
    }
   ],
   "source": [
    "print(model.generate(\" Jack\", 20, temperature=0))\n",
    "print(model.generate(\" Jill\", 20, temperature=0))\n",
    "print(model.generate(\" Once\", 20, temperature=0))\n",
    "print(model.generate(\" Once\", 20, temperature=0))"
   ]
  },
  {
   "cell_type": "code",
   "execution_count": 41,
   "metadata": {},
   "outputs": [
    {
     "data": {
      "application/vnd.jupyter.widget-view+json": {
       "model_id": "3218a268026b40ac8f2da0afc02871d8",
       "version_major": 2,
       "version_minor": 0
      },
      "text/plain": [
       "  0%|          | 0/200 [00:00<?, ?it/s]"
      ]
     },
     "metadata": {},
     "output_type": "display_data"
    },
    {
     "name": "stdout",
     "output_type": "stream",
     "text": [
      " Jack was high in a tree. Sarah was beneath the tree and she was very happy. She looked around and saw a big, red apple. She wanted to eat it, but it was too high for her to reach.\n",
      "\n",
      "Suddenly, a big bird flew down and said, \"I can help you get the apple.\" Jack was scared, but he said, \"Okay, let's try.\"\n",
      "\n",
      "The bird flew up to the apple and picked it off the tree. He handed it to Sarah and said, \"Here you go.\"\n",
      "\n",
      "Sarah was so happy. She said, \"Thank you, bird!\"\n",
      "\n",
      "The bird smiled and said, \"You're welcome.\" Then he flew away.\n",
      "\n",
      "Sarah took the apple and ate it. It was so yummy! She was so happy that she had the apple.\n",
      "<|endoftext|>\n"
     ]
    }
   ],
   "source": [
    "# print(model.generate(\" The\", 100, temperature=0))\n",
    "# print(model.generate(\" A\", 100, temperature=0))\n",
    "# print(model.generate(\" An\", 100, temperature=0))\n",
    "print(model.generate(\" Jack was high in a tree. Sarah was beneath\", 200, temperature=0))"
   ]
  },
  {
   "cell_type": "code",
   "execution_count": 42,
   "metadata": {},
   "outputs": [
    {
     "data": {
      "application/vnd.jupyter.widget-view+json": {
       "model_id": "4c479fe13f9a41b88a82f00de7c9b4e6",
       "version_major": 2,
       "version_minor": 0
      },
      "text/plain": [
       "  0%|          | 0/200 [00:00<?, ?it/s]"
      ]
     },
     "metadata": {},
     "output_type": "display_data"
    },
    {
     "name": "stdout",
     "output_type": "stream",
     "text": [
      " Jack asked, \"What color are frogs?\" His mom said, \"Frogs are green and brown.\" Jack said, \"I like frogs!\" His mom said, \"Let's go to the pond and see if we can find some frogs.\"\n",
      "\n",
      "When they got to the pond, Jack saw a frog. He said, \"Mom, look! A frog!\" His mom said, \"Yes, it's a green frog.\" Jack said, \"Can I catch it?\" His mom said, \"No, it's too fast. Let's just watch it.\"\n",
      "\n",
      "Jack and his mom watched the frog for a while. Then, Jack said, \"I want to catch it!\" His mom said, \"No, it's too fast. Let's just watch it.\" Jack said, \"Okay.\"\n",
      "\n",
      "They watched the frog for a few more minutes. Then, Jack said, \"I want to catch it!\" His mom said, \"No, let's not catch it. Let's just watch it.\" Jack said\n"
     ]
    }
   ],
   "source": [
    "print(model.generate(\" Jack asked, \\\"What color are frogs?\\\"\", 200, temperature=0))"
   ]
  },
  {
   "cell_type": "code",
   "execution_count": 47,
   "metadata": {},
   "outputs": [
    {
     "name": "stdout",
     "output_type": "stream",
     "text": [
      "tensor([[50256,  4874,  2402,   257,   640]], device='cuda:0')\n"
     ]
    },
    {
     "data": {
      "application/vnd.jupyter.widget-view+json": {
       "model_id": "3e42987663a845bd9efb5c37053d9d1e",
       "version_major": 2,
       "version_minor": 0
      },
      "text/plain": [
       "  0%|          | 0/20 [00:00<?, ?it/s]"
      ]
     },
     "metadata": {},
     "output_type": "display_data"
    },
    {
     "name": "stdout",
     "output_type": "stream",
     "text": [
      " Jack asked his mom, \"Can I have a sad?\" His mom replied, \"I don't have the answer for you, but I can make you something\n"
     ]
    }
   ],
   "source": [
    "# print(model.to_tokens(\" Once upon a time\"))\n",
    "# print(model.generate(\" Jack \", 300))\n",
    "\n",
    "\n"
   ]
  },
  {
   "cell_type": "code",
   "execution_count": 35,
   "metadata": {},
   "outputs": [
    {
     "data": {
      "application/vnd.jupyter.widget-view+json": {
       "model_id": "6fde16e61b06463cb95b2bf0cd30ab65",
       "version_major": 2,
       "version_minor": 0
      },
      "text/plain": [
       "  0%|          | 0/20 [00:00<?, ?it/s]"
      ]
     },
     "metadata": {},
     "output_type": "display_data"
    },
    {
     "name": "stdout",
     "output_type": "stream",
     "text": [
      "Sarah was a little girl who loved to play outside. One day, she went to the park with her\n"
     ]
    },
    {
     "data": {
      "application/vnd.jupyter.widget-view+json": {
       "model_id": "0238f490104b4f46ba1ac14f8777510e",
       "version_major": 2,
       "version_minor": 0
      },
      "text/plain": [
       "  0%|          | 0/20 [00:00<?, ?it/s]"
      ]
     },
     "metadata": {},
     "output_type": "display_data"
    },
    {
     "name": "stdout",
     "output_type": "stream",
     "text": [
      "Sarah. Lily said her big very, Lily had a little frightened.\n",
      "\n",
      "\n",
      "\n",
      "\n",
      "\n",
      "\n",
      "\n"
     ]
    },
    {
     "data": {
      "application/vnd.jupyter.widget-view+json": {
       "model_id": "70a7f732301542f5b102e12c0f08e64c",
       "version_major": 2,
       "version_minor": 0
      },
      "text/plain": [
       "  0%|          | 0/20 [00:00<?, ?it/s]"
      ]
     },
     "metadata": {},
     "output_type": "display_data"
    },
    {
     "name": "stdout",
     "output_type": "stream",
     "text": [
      "Sarah's machine machine. and it toer there and to often, there today today today today this day\n"
     ]
    },
    {
     "data": {
      "application/vnd.jupyter.widget-view+json": {
       "model_id": "8096aa6ed74f43e0b6bc7712d9f5736f",
       "version_major": 2,
       "version_minor": 0
      },
      "text/plain": [
       "  0%|          | 0/20 [00:00<?, ?it/s]"
      ]
     },
     "metadata": {},
     "output_type": "display_data"
    },
    {
     "name": "stdout",
     "output_type": "stream",
     "text": [
      "Sarah was so excited. She had just been given a special gift. She was going to be a princess\n"
     ]
    },
    {
     "data": {
      "application/vnd.jupyter.widget-view+json": {
       "model_id": "706f414952e34014b3a3ae2a99968e22",
       "version_major": 2,
       "version_minor": 0
      },
      "text/plain": [
       "  0%|          | 0/20 [00:00<?, ?it/s]"
      ]
     },
     "metadata": {},
     "output_type": "display_data"
    },
    {
     "name": "stdout",
     "output_type": "stream",
     "text": [
      "Sarah was playing in her backyard when she saw a bird. She was so excited that she wanted to tell\n"
     ]
    },
    {
     "data": {
      "application/vnd.jupyter.widget-view+json": {
       "model_id": "de5b381cb9fd4df7932664eea99f6c75",
       "version_major": 2,
       "version_minor": 0
      },
      "text/plain": [
       "  0%|          | 0/20 [00:00<?, ?it/s]"
      ]
     },
     "metadata": {},
     "output_type": "display_data"
    },
    {
     "name": "stdout",
     "output_type": "stream",
     "text": [
      "Sarah was a little girl who loved to play with her toys. She had a special toy that she liked\n"
     ]
    },
    {
     "data": {
      "application/vnd.jupyter.widget-view+json": {
       "model_id": "1793fbf4bd634364bb5578cf6c72abae",
       "version_major": 2,
       "version_minor": 0
      },
      "text/plain": [
       "  0%|          | 0/20 [00:00<?, ?it/s]"
      ]
     },
     "metadata": {},
     "output_type": "display_data"
    },
    {
     "name": "stdout",
     "output_type": "stream",
     "text": [
      "Sarah was a little girl named Lily. She loved to play outside in the sunshine. One day, she\n"
     ]
    },
    {
     "data": {
      "application/vnd.jupyter.widget-view+json": {
       "model_id": "2ab6139b50fb4878b681db3b2024727c",
       "version_major": 2,
       "version_minor": 0
      },
      "text/plain": [
       "  0%|          | 0/20 [00:00<?, ?it/s]"
      ]
     },
     "metadata": {},
     "output_type": "display_data"
    },
    {
     "name": "stdout",
     "output_type": "stream",
     "text": [
      "Sarah and her mommy went to the park. They saw a big tree with a lot of leaves.\n"
     ]
    },
    {
     "data": {
      "application/vnd.jupyter.widget-view+json": {
       "model_id": "246008bf0a6a4819b4c643b74759fa28",
       "version_major": 2,
       "version_minor": 0
      },
      "text/plain": [
       "  0%|          | 0/20 [00:00<?, ?it/s]"
      ]
     },
     "metadata": {},
     "output_type": "display_data"
    },
    {
     "name": "stdout",
     "output_type": "stream",
     "text": [
      "Sarah was a little girl who loved to play outside. She always wanted to make her own special things with\n"
     ]
    }
   ],
   "source": [
    "# print(model.generate(\" Jack asked his mom, \\\"Can I have a sad?\\\"\", 20))\n",
    "# print(model.generate(\" Jack asked his mom, \\\"Can I have a bad?\\\"\", 20))\n",
    "# print(model.generate(\" Jack asked his mom, \\\"Can I have a happy?\\\"\", 20))\n",
    "\n",
    "def rand_hook(value, hook):\n",
    "    value = value * 0.0\n",
    "    return value\n",
    "\n",
    "continuous_prompts = [\n",
    "    'Sarah loved to',\n",
    "    'Sarah did not want to',\n",
    "    'Sarah hated to',\n",
    "    'Jack liked to',\n",
    "    'Jack enjoyed going',\n",
    "    'Jack and Sarah were',\n",
    "    'While mom was cooking, Jack was',\n",
    "    'While Sarah was eating, Jack was']\n",
    "\n",
    "# for prompt in continuous_prompts:\n",
    "prompt = \"Sarah\"\n",
    "print(model.generate(prompt, 20, temperature=0))\n",
    "for layer in range(model.cfg.n_layers):\n",
    "    with model.hooks([(f'blocks.{layer}.hook_attn_out', rand_hook)]):\n",
    "        print(model.generate(prompt, 20, temperature=0))\n",
    "    with model.hooks([(f'blocks.{layer}.hook_mlp_out', rand_hook)]):\n",
    "        print(model.generate(prompt, 20, temperature=0))\n",
    "# break"
   ]
  },
  {
   "cell_type": "code",
   "execution_count": 19,
   "metadata": {},
   "outputs": [
    {
     "data": {
      "application/vnd.jupyter.widget-view+json": {
       "model_id": "1bc93e4f554843d498a3c2eb9b883ea5",
       "version_major": 2,
       "version_minor": 0
      },
      "text/plain": [
       "  0%|          | 0/20 [00:00<?, ?it/s]"
      ]
     },
     "metadata": {},
     "output_type": "display_data"
    },
    {
     "name": "stdout",
     "output_type": "stream",
     "text": [
      " Jack did not want to play. Sarah asked, \"Do you want to play?\" Jack said, \"No, I don't want to play.\" Sarah said, \"Why not?\"\n"
     ]
    },
    {
     "data": {
      "application/vnd.jupyter.widget-view+json": {
       "model_id": "37c25df541924c9caa79cf92267ea852",
       "version_major": 2,
       "version_minor": 0
      },
      "text/plain": [
       "  0%|          | 0/20 [00:00<?, ?it/s]"
      ]
     },
     "metadata": {},
     "output_type": "display_data"
    },
    {
     "name": "stdout",
     "output_type": "stream",
     "text": [
      " Jack did not want to play. Sarah asked, \"Do you want to play?\" Jack said, \"No, I want to play alone.\" \n",
      "\n",
      "Jack felt sad because he\n"
     ]
    }
   ],
   "source": [
    "print(model.generate(\" Jack did not want to play. Sarah asked, \\\"Do you want to play?\\\"\", 20, temperature=0))\n",
    "# print(model.generate(\" Jack did not want to eat. Sarah asked, \\\"Do you want to eat?\\\"\", 20))\n",
    "\n",
    "def rand_hook(value, hook):\n",
    "    value = value * 0.0\n",
    "    return value\n",
    "\n",
    "with model.hooks([('blocks.1.mlp.hook_post', rand_hook)]):\n",
    "    print(model.generate(\" Jack did not want to play. Sarah asked, \\\"Do you want to play?\\\"\", 20, temperature=0))\n"
   ]
  },
  {
   "cell_type": "code",
   "execution_count": 16,
   "metadata": {},
   "outputs": [
    {
     "name": "stderr",
     "output_type": "stream",
     "text": [
      "Using pad_token, but it is not set yet.\n"
     ]
    },
    {
     "name": "stdout",
     "output_type": "stream",
     "text": [
      "Loaded pretrained model roneneldan/TinyStories-1M into HookedTransformer\n"
     ]
    }
   ],
   "source": []
  },
  {
   "cell_type": "code",
   "execution_count": 20,
   "metadata": {},
   "outputs": [
    {
     "data": {
      "application/vnd.jupyter.widget-view+json": {
       "model_id": "8bfa5b2246ad4803b2d6c2942fee018e",
       "version_major": 2,
       "version_minor": 0
      },
      "text/plain": [
       "  0%|          | 0/10 [00:00<?, ?it/s]"
      ]
     },
     "metadata": {},
     "output_type": "display_data"
    },
    {
     "data": {
      "application/vnd.jupyter.widget-view+json": {
       "model_id": "93156b31982c4ae9962ed2932fc26578",
       "version_major": 2,
       "version_minor": 0
      },
      "text/plain": [
       "  0%|          | 0/10 [00:00<?, ?it/s]"
      ]
     },
     "metadata": {},
     "output_type": "display_data"
    },
    {
     "data": {
      "text/plain": [
       "'The cat ran everywhere. He ran in the garden, in the sea, and he saw a big, shiny rock.'"
      ]
     },
     "execution_count": 20,
     "metadata": {},
     "output_type": "execute_result"
    }
   ],
   "source": [
    "model.generate(\"The musician looked everywhere. He looked in the garden, in the park\", temperature=0)\n",
    "model.generate(\"The cat ran everywhere. He ran in the garden, in the sea\", temperature=0)\n",
    "model.generate(\"Sally walked everywhere. She walked in the house, in the attic\", temperature=0)\n"
   ]
  },
  {
   "cell_type": "code",
   "execution_count": 26,
   "metadata": {},
   "outputs": [
    {
     "data": {
      "application/vnd.jupyter.widget-view+json": {
       "model_id": "1c152232d9ab43c0ac2ddd400f3385cb",
       "version_major": 2,
       "version_minor": 0
      },
      "text/plain": [
       "  0%|          | 0/10 [00:00<?, ?it/s]"
      ]
     },
     "metadata": {},
     "output_type": "display_data"
    },
    {
     "data": {
      "text/plain": [
       "'Sally walked through the door, through the hallway, there was a big, red car. Sally was'"
      ]
     },
     "execution_count": 26,
     "metadata": {},
     "output_type": "execute_result"
    }
   ],
   "source": [
    "model.generate(\"Sally walked through the door, through the hallway,\", temperature=0)"
   ]
  },
  {
   "cell_type": "code",
   "execution_count": 25,
   "metadata": {},
   "outputs": [
    {
     "data": {
      "application/vnd.jupyter.widget-view+json": {
       "model_id": "3f65672268404787b9691a2a206486ed",
       "version_major": 2,
       "version_minor": 0
      },
      "text/plain": [
       "  0%|          | 0/10 [00:00<?, ?it/s]"
      ]
     },
     "metadata": {},
     "output_type": "display_data"
    },
    {
     "data": {
      "text/plain": [
       "'Sally walked across the flowers, across the field, and the flowers were so pretty. Sally was so'"
      ]
     },
     "execution_count": 25,
     "metadata": {},
     "output_type": "execute_result"
    }
   ],
   "source": [
    "model.generate(\"Sally walked across the flowers, across the field,\", temperature=0)"
   ]
  },
  {
   "cell_type": "code",
   "execution_count": 30,
   "metadata": {},
   "outputs": [
    {
     "data": {
      "application/vnd.jupyter.widget-view+json": {
       "model_id": "384ceca078e342a1a8d28b7cfe42c108",
       "version_major": 2,
       "version_minor": 0
      },
      "text/plain": [
       "  0%|          | 0/10 [00:00<?, ?it/s]"
      ]
     },
     "metadata": {},
     "output_type": "display_data"
    },
    {
     "data": {
      "text/plain": [
       "\"Sally's mother made her dinner then Sally sat down to eat. She ate eggs, ham, and butter. Sally was very happy.\\n\""
      ]
     },
     "execution_count": 30,
     "metadata": {},
     "output_type": "execute_result"
    }
   ],
   "source": [
    "model.generate(\"Sally's mother made her dinner then Sally sat down to eat. She ate eggs, ham\", temperature=0)"
   ]
  },
  {
   "cell_type": "code",
   "execution_count": 31,
   "metadata": {},
   "outputs": [
    {
     "data": {
      "application/vnd.jupyter.widget-view+json": {
       "model_id": "4a851a02bdd44f9a99f367d3fcba1489",
       "version_major": 2,
       "version_minor": 0
      },
      "text/plain": [
       "  0%|          | 0/10 [00:00<?, ?it/s]"
      ]
     },
     "metadata": {},
     "output_type": "display_data"
    },
    {
     "data": {
      "text/plain": [
       "\"Sally's mother made her dinner then Sally sat down to eat. She ate eggs, fruit, and she was very happy.\\n\\nS\""
      ]
     },
     "execution_count": 31,
     "metadata": {},
     "output_type": "execute_result"
    }
   ],
   "source": [
    "model.generate(\"Sally's mother made her dinner then Sally sat down to eat. She ate eggs, fruit\", temperature=0)"
   ]
  },
  {
   "cell_type": "code",
   "execution_count": 32,
   "metadata": {},
   "outputs": [
    {
     "data": {
      "application/vnd.jupyter.widget-view+json": {
       "model_id": "a5932dda39864fa190ea36491eb657e6",
       "version_major": 2,
       "version_minor": 0
      },
      "text/plain": [
       "  0%|          | 0/10 [00:00<?, ?it/s]"
      ]
     },
     "metadata": {},
     "output_type": "display_data"
    },
    {
     "data": {
      "text/plain": [
       "\"Sally's mother made her dinner then Sally sat down to eat. She ate eggs, cheese, and sugar. Sally was very happy.\\n\""
      ]
     },
     "execution_count": 32,
     "metadata": {},
     "output_type": "execute_result"
    }
   ],
   "source": [
    "model.generate(\"Sally's mother made her dinner then Sally sat down to eat. She ate eggs, cheese\", temperature=0)"
   ]
  },
  {
   "cell_type": "code",
   "execution_count": 33,
   "metadata": {},
   "outputs": [
    {
     "data": {
      "application/vnd.jupyter.widget-view+json": {
       "model_id": "8a880fe281d74f699cea9a215e74bf62",
       "version_major": 2,
       "version_minor": 0
      },
      "text/plain": [
       "  0%|          | 0/10 [00:00<?, ?it/s]"
      ]
     },
     "metadata": {},
     "output_type": "display_data"
    },
    {
     "data": {
      "text/plain": [
       "\"Sally's mother made her dinner then Sally sat down to eat. She ate eggs, butter, and sugar, and sugar. Sally was\""
      ]
     },
     "execution_count": 33,
     "metadata": {},
     "output_type": "execute_result"
    }
   ],
   "source": [
    "model.generate(\"Sally's mother made her dinner then Sally sat down to eat. She ate eggs,\", temperature=0)"
   ]
  },
  {
   "cell_type": "code",
   "execution_count": 34,
   "metadata": {},
   "outputs": [
    {
     "data": {
      "application/vnd.jupyter.widget-view+json": {
       "model_id": "4804c78bc5cd4c9d8a63028b7b2011f5",
       "version_major": 2,
       "version_minor": 0
      },
      "text/plain": [
       "  0%|          | 0/10 [00:00<?, ?it/s]"
      ]
     },
     "metadata": {},
     "output_type": "display_data"
    },
    {
     "data": {
      "text/plain": [
       "'Sally walked across the field. There were flowers, flowers, and a big, green flower. Sally'"
      ]
     },
     "execution_count": 34,
     "metadata": {},
     "output_type": "execute_result"
    }
   ],
   "source": [
    "model.generate(\"Sally walked across the field. There were flowers,\", temperature=0)"
   ]
  },
  {
   "cell_type": "code",
   "execution_count": 45,
   "metadata": {},
   "outputs": [],
   "source": [
    "random_prompts = [\n",
    "    \"Tim found a green frog in his garden. He named it Fred. Fred liked to jump and play in the pond.\",\n",
    "    \"Sally had a magic paintbrush. Anything she painted became real. She painted a big rainbow, and it\",\n",
    "    \"Tom loved to look at the stars. One night, a shooting star landed in his yard. It was a starship!\",\n",
    "    \"Amy found a little lost kitten in the park. She took it home and fed it milk. The kitten purred \",\n",
    "    \"In Billy's backyard, there was a magic tree. If you whispered a wish to it, the wish came true! \",\n",
    "    \"One rainy day, Lisa and her brother raced raindrops down the window. They cheered for their \",\n",
    "    \"Jenny planted a sunflower seed. She watered it and watched it grow. It grew taller and taller. \",\n",
    "    \"Sam built a kingdom of sandcastles at the beach. There were big castles and little castles. Sam\",\n",
    "    \"Tina let go of her red balloon by accident. It floated up to the sky. Tina watched it drift away\",\n",
    "    \"Molly danced under the moon with her teddy bear. They twirled and leaped. The stars watched and \",\n",
    "    \"Ben saw a bear in his backyard! It was big and furry but friendly. The bear liked honey and fish.\",\n",
    "    \"Sara heard the wind whisper her name. It told her stories of faraway lands and secret treasures. \",\n",
    "    \"Leo found a lake that laughed when you told it jokes. He told it knock-knock jokes, and the lake \",\n",
    "    \"One day, the sun slept in, and it was dark in the morning. People were confused, but the birds\",\n",
    "    \"Kelly had a pair of shoes that could talk! They told her stories of where they'd been and what\",\n",
    "    \"In a snowy land, penguins had a parade every year. They dressed up, waddled in lines, and danced \",\n",
    "    \"One fluffy cloud took a day off from the sky. It floated down to visit a little girl named Emily.\",\n",
    "    \"Frank had a fish friend in a bowl. They couldn't talk, but they understood each other. Frank \",\n",
    "    \"There was a scarecrow that danced at night. When everyone was asleep, it would twirl, leap, and\",\n",
    "    \"Anna found a slide at the end of a rainbow. She climbed up and slid down, right through colors \",\n",
    "    \"Timmy had a hat that could travel through time. He visited dinosaurs, pirates, and even went to \",\n",
    "    \"In the woods, there was a rock that snored. People would come and listen. Some thought it was \",\n",
    "    \"Lily had a mirror that laughed at silly faces. The more faces she made, the harder it laughed.\",\n",
    "    \"Bella the butterfly had a birthday. All her insect friends came. They had nectar cake and\",\n",
    "    \"Harry had a hat that talked. It told him jokes and sang songs. Harry wore the hat to school,\",\n",
    "    \"Every night, the moon asked for a story. Children would tell tales of brave heroes and magical \",\n",
    "    \"Olivia met a friendly dolphin in the ocean. They swam together and jumped waves. Olivia told the\",\n",
    "    \"There was a tree that hugged people. If you were sad or happy, it would give you a big, wooden hug.\",\n",
    "    \"Eddie had a magic eraser. It could erase anything, even rain clouds or bad days. Eddie used it to\",\n",
    "    \"Peter was a polite pirate. He said please and thank you. He found treasure but always shared. Other\",\n",
    "    \"A rabbit found glasses in the woods. When he put them on, he could see colors he never saw before. \",\n",
    "    \"Lucy built a castle in the clouds. She went there to read and dream. The clouds were soft, and the \",\n",
    "    \"Tim the turtle raced with the rabbits. They were fast, but Tim was slow and steady. The rabbits \",\n",
    "    \"In a magical meadow, the flowers played music. When the wind blew, they sang sweet songs. Children \",\n",
    "    \"Jenny had jellybeans that jumped! They bounced around and made funny noises. Jenny and her friends \",\n",
    "    \"In a big tree lived a wise old owl. He knew everything and helped everyone. If you had a question or \",\n",
    "    \"Sam put on a sock puppet show. His socks became kings, queens, and clowns. The whole family watched \",\n",
    "    \"At night, a cat danced on the rooftops. It twirled and leaped under the stars. Only a little girl\",\n",
    "    \"Billy's bath was full of bubbles. When he jumped in, the bubbles started to talk! They told funny \",\n",
    "    \"A dog dreamed of a land full of bones and toys. He dug and played all day. When he woke up, he found \",\n",
    "    \"Sally had a sunflower that smiled. It smiled at the sun and at Sally. When Sally was sad, the sunflower \",\n",
    "    \"In an old house lived a friendly ghost. It didn't scare people; it made friends. It played with children \",\n",
    "    \"Tommy found a tiny dinosaur in his garden. It was small and liked to eat lettuce. Tommy and the dinosaur \",\n",
    "    \"Benny the Bear had a honey party. All the forest animals came, and they ate honey cakes and honey pies. They danced and laughed all night. Benny's honey party was the sweetest ever.\",\n",
    "    \"Sara caught a snowflake, and it became her friend. They danced in the snow and made snow angels. When the sun came out, the snowflake had to go, but it promised to come back next winter.\",\n",
    "    \"Marty the Mouse went on a big adventure. He explored the garden and found cheese mountains and cracker bridges. He was a brave mouse explorer, and he came home with tales to tell.\",\n",
    "    \"Ella the Elephant had a paintbrush. She painted colorful pictures with her trunk. People came from far and wide to see her art. Ella was happy to share her colorful world.\",\n",
    "    \"Tom's toothbrush talked when it was brushing time. It told jokes and sang songs about clean teeth. Tom loved brushing time, and his teeth sparkled and sang too.\",\n",
    "    \"In Daisy's garden, the daisies danced at dawn. They twirled to the bird's song and swayed in the breeze. Daisy danced with them, and they were all dancing daisies together.\",\n",
    "    \"Freddy the Fish wished to fly. A friendly bird carried him up, and Freddy flew over the sea! He saw whales and waves. Then he splashed back home, a fish that had flown.\",\n",
    "    \"Randy the Rabbit found a rainbow in his burrow. He hopped through colors and found a land of carrot gold. Randy nibbled and played, then hopped back home, the richest rabbit ever.\",\n",
    "    \"Cindy was best friends with a cloud. They played shadow games and rained on flowers. Cindy loved her cloudy friend, and they floated through many happy days together.\",\n",
    "    \"Sammy the Snail raced with the beetles. They buzzed and dashed, but Sammy was slow and sure. The beetles got tired, but Sammy kept going. He won the race and was the snail champ!\",\n",
    "]\n",
    "\n",
    "longer_stories = [\n",
    "    \"Bobby Bear loved picnics. One sunny day, he packed his basket with honey sandwiches, apple juice, and chocolate cookies. He invited all his teddy friends, and they went to the big green park. They laughed, played hide-and-seek, and ate all the yummy food. Bobby Bear's picnic was the best, and they all clapped their paws and danced in the sun.\",\n",
    "\n",
    "    \"Ducky loved rainy days. When the clouds gathered, and the first drops fell, Ducky would quack with joy. He splashed in puddles, jumped with the frogs, and made waves with his yellow feet. The rain was like music, and Ducky danced to the tune. The other ducks joined in, and they all had a splashy, quacky, rainy day of fun.\",\n",
    "\n",
    "    \"Kitty had a magical colorful tail. It was red, blue, yellow, and even had sparkles. Everywhere Kitty went, her tail wagged and made pretty shapes in the air. The other cats were amazed, and the children loved to watch Kitty's tail. Kitty became a star, and her colorful tail was famous in the whole town. Kitty was proud and happy to have such a special tail.\",\n",
    "\n",
    "    \"Timmy went on a train ride. The train went choo-choo, and Timmy's eyes grew wide. He saw cows, trees, mountains, and rivers. The train went fast, and it went slow. Timmy ate popcorn and waved at the people. The train ride was the most exciting adventure, and Timmy wanted to ride the train every day.\",\n",
    "\n",
    "    \"Lulu had a big round balloon. It was pink and floated like a cloud. Lulu danced with the balloon in her room. They twirled, they floated, they jumped. Lulu and the balloon were the best of friends. They even had tea parties and told secrets. Lulu's balloon was her special friend, and they were happy together all the time.\",\n",
    "\n",
    "    \"Billy loved to dance with bumblebees. He would go to the garden, and the bumblebees would come. They buzzed and twirled, and Billy danced with them. The flowers clapped, and the sun smiled. Billy was the bee dance king, and his garden was the happiest place. Everyone wanted to see Billy's bumblebee dance, and he was always ready to twirl.\",\n",
    "\n",
    "    \"Sally made a snowman. It was big and round with a carrot nose and two big eyes. Sally and the snowman played all day in the snow. They made snow angels, they threw snowballs, and they laughed. When the sun went down, Sally gave the snowman a big hug and said goodnight. They were the best of snowy friends, and Sally couldn't wait for more snow.\",\n",
    "\n",
    "    \"Tommy had a turtle named Tilly. Tilly was slow and green, but she was the best friend ever. Tommy and Tilly had races in the yard. Tommy would run, and Tilly would crawl. They both reached the finish line, and they both won! Tommy cheered, and Tilly smiled. They were the best racing team, and they loved their turtle time together.\",\n",
    "\n",
    "    \"Jenny had jelly that jumped. It was red jelly, and it loved to boing and boing. Jenny would laugh and catch the jelly. It jumped into her bowl, and they had a jelly feast. Jenny's friends came to see the jumping jelly, and they all played together. Jenny's jumping jelly was the yummiest and funniest jelly ever, and they all wanted more.\",\n",
    "\n",
    "    \"Danny's dog had dreams. At night, it would bark and wag its tail in its sleep. Danny wondered what it was dreaming. Maybe a big bone, maybe a park full of friends, maybe a never-ending bowl of doggy treats. Danny smiled at his dreaming dog and wished it sweet dreams. They were the best of friends, and Danny's dog's dreams were always happy.\",\n",
    "\n",
    "    \"Milly looked at the moon every night. It was big, bright, and beautiful. Milly said goodnight to the moon and the stars. She told them stories and sang them songs. The moon and the stars twinkled back at her. They were Milly's nighttime friends, and they watched over her as she slept. Milly's moon gazing was her special time, and she loved the moon and the stars.\",\n",
    "\n",
    "    \"Freddy Frog had a pond party. All the pond friends came. The ducks quacked, the fish splashed, the turtles sunbathed. Freddy Frog was the host, and he jumped and croaked. They played games and danced in the water. Freddy Frog's pond was the best party place, and they all had a splashing good time. The pond was alive with fun, and Freddy Frog was the happiest frog ever.\",\n",
    "\n",
    "    \"Lily had a lemon that laughed. It was a funny lemon with a big smile. Lily squeezed the lemon, and it giggled. Hee-hee! They made lemonade together, and the lemonade was giggly too. Lily and her laughing lemon were the best of friends, and they made every day a sunny, lemony, happy day.\"\n",
    "]\n"
   ]
  },
  {
   "cell_type": "code",
   "execution_count": 113,
   "metadata": {},
   "outputs": [
    {
     "name": "stdout",
     "output_type": "stream",
     "text": [
      "tensor(0.1119, device='cuda:0') tensor(109, device='cuda:0')\n",
      "tensor(0.2005, device='cuda:0') tensor(213, device='cuda:0')\n",
      "tensor(0.3224, device='cuda:0') tensor(233, device='cuda:0')\n",
      "tensor(0.1366, device='cuda:0') tensor(149, device='cuda:0')\n",
      "tensor(0.1526, device='cuda:0') tensor(4, device='cuda:0')\n",
      "tensor(0.0796, device='cuda:0') tensor(197, device='cuda:0')\n",
      "tensor(0.0898, device='cuda:0') tensor(48, device='cuda:0')\n",
      "tensor(0.1738, device='cuda:0') tensor(101, device='cuda:0')\n"
     ]
    }
   ],
   "source": [
    "for layer in range(model.cfg.n_layers):\n",
    "    acts = haystack_utils.get_mlp_activations(random_prompts, layer, model, mean=True, disable_tqdm=True)\n",
    "    max_values, max_indices = torch.max(acts, dim=0)\n",
    "    print(max_values, max_indices)"
   ]
  },
  {
   "cell_type": "code",
   "execution_count": 117,
   "metadata": {},
   "outputs": [
    {
     "name": "stdout",
     "output_type": "stream",
     "text": [
      "tensor(0.1082, device='cuda:0') tensor(109, device='cuda:0')\n",
      "tensor(0.2025, device='cuda:0') tensor(213, device='cuda:0')\n",
      "tensor(0.3126, device='cuda:0') tensor(233, device='cuda:0')\n",
      "tensor(0.1346, device='cuda:0') tensor(149, device='cuda:0')\n",
      "tensor(0.1519, device='cuda:0') tensor(4, device='cuda:0')\n",
      "tensor(0.0743, device='cuda:0') tensor(197, device='cuda:0')\n",
      "tensor(0.0862, device='cuda:0') tensor(48, device='cuda:0')\n",
      "tensor(0.1665, device='cuda:0') tensor(101, device='cuda:0')\n"
     ]
    }
   ],
   "source": [
    "for layer in range(model.cfg.n_layers):\n",
    "    acts = haystack_utils.get_mlp_activations(random_prompts, layer, model, mean=True, disable_tqdm=True)\n",
    "    max_values, max_indices = torch.max(acts, dim=0)\n",
    "    print(max_values, max_indices)"
   ]
  },
  {
   "cell_type": "code",
   "execution_count": 46,
   "metadata": {},
   "outputs": [
    {
     "data": {
      "text/html": [
       "<div style='white-space: normal; overflow-wrap: break-word;'><span style=\"background-color: rgb(206, 206, 255); color: black; padding: 2px;\" title=\"Difference: -0.1344\"><|endoftext|></span><span style=\"background-color: rgb(244, 244, 255); color: black; padding: 2px;\" title=\"Difference: -0.0292\">Tim</span><span style=\"background-color: rgb(217, 217, 255); color: black; padding: 2px;\" title=\"Difference: -0.1032\">_found</span><span style=\"background-color: rgb(195, 195, 255); color: black; padding: 2px;\" title=\"Difference: -0.1635\">_a</span><span style=\"background-color: rgb(194, 194, 255); color: black; padding: 2px;\" title=\"Difference: -0.1664\">_green</span><span style=\"background-color: rgb(223, 223, 255); color: black; padding: 2px;\" title=\"Difference: -0.0857\">_frog</span><span style=\"background-color: rgb(208, 208, 255); color: black; padding: 2px;\" title=\"Difference: -0.1269\">_in</span><span style=\"background-color: rgb(249, 249, 255); color: black; padding: 2px;\" title=\"Difference: -0.0148\">_his</span><span style=\"background-color: rgb(208, 208, 255); color: black; padding: 2px;\" title=\"Difference: -0.1287\">_garden</span><span style=\"background-color: rgb(243, 243, 255); color: black; padding: 2px;\" title=\"Difference: -0.0327\">.</span><span style=\"background-color: rgb(251, 251, 255); color: black; padding: 2px;\" title=\"Difference: -0.0088\">_He</span><span style=\"background-color: rgb(255, 77, 77); color: black; padding: 2px;\" title=\"Difference: 0.4863\">_named</span><span style=\"background-color: rgb(224, 224, 255); color: black; padding: 2px;\" title=\"Difference: -0.0830\">_it</span><span style=\"background-color: rgb(194, 194, 255); color: black; padding: 2px;\" title=\"Difference: -0.1647\">_Fred</span><span style=\"background-color: rgb(215, 215, 255); color: black; padding: 2px;\" title=\"Difference: -0.1081\">.</span><span style=\"background-color: rgb(201, 201, 255); color: black; padding: 2px;\" title=\"Difference: -0.1458\">_Fred</span><span style=\"background-color: rgb(240, 240, 255); color: black; padding: 2px;\" title=\"Difference: -0.0407\">_liked</span><span style=\"background-color: rgb(226, 226, 255); color: black; padding: 2px;\" title=\"Difference: -0.0770\">_to</span><span style=\"background-color: rgb(204, 204, 255); color: black; padding: 2px;\" title=\"Difference: -0.1373\">_jump</span><span style=\"background-color: rgb(228, 228, 255); color: black; padding: 2px;\" title=\"Difference: -0.0714\">_and</span><span style=\"background-color: rgb(207, 207, 255); color: black; padding: 2px;\" title=\"Difference: -0.1310\">_play</span><span style=\"background-color: rgb(201, 201, 255); color: black; padding: 2px;\" title=\"Difference: -0.1481\">_in</span><span style=\"background-color: rgb(243, 243, 255); color: black; padding: 2px;\" title=\"Difference: -0.0303\">_the</span><span style=\"background-color: rgb(213, 213, 255); color: black; padding: 2px;\" title=\"Difference: -0.1142\">_pond</span><span style=\"background-color: rgb(242, 242, 255); color: black; padding: 2px;\" title=\"Difference: -0.0353\">.</span></div>"
      ],
      "text/plain": [
       "<IPython.core.display.HTML object>"
      ]
     },
     "metadata": {},
     "output_type": "display_data"
    }
   ],
   "source": [
    "from hook_utils import save_activation\n",
    "\n",
    "with model.hooks([('blocks.2.mlp.hook_post', save_activation)]):\n",
    "    model(random_prompts[0])\n",
    "acts = model.hook_dict['blocks.2.mlp.hook_post'].ctx['activation']\n",
    "haystack_utils.clean_print_strings_as_html(model.to_str_tokens(random_prompts[0]), acts[0, :, 233], max_value=0.7)"
   ]
  },
  {
   "cell_type": "code",
   "execution_count": 47,
   "metadata": {},
   "outputs": [
    {
     "ename": "KeyError",
     "evalue": "'blocks.4.mlp.hook_pre'",
     "output_type": "error",
     "traceback": [
      "\u001b[0;31m---------------------------------------------------------------------------\u001b[0m",
      "\u001b[0;31mKeyError\u001b[0m                                  Traceback (most recent call last)",
      "Cell \u001b[0;32mIn[47], line 2\u001b[0m\n\u001b[1;32m      1\u001b[0m \u001b[39mimport\u001b[39;00m \u001b[39mplotting_utils\u001b[39;00m\n\u001b[0;32m----> 2\u001b[0m large_acts_df \u001b[39m=\u001b[39m plotting_utils\u001b[39m.\u001b[39;49mget_neuron_moments(model, random_prompts \u001b[39m+\u001b[39;49m longer_stories,\n\u001b[1;32m      3\u001b[0m                                                   [[i, j] \u001b[39mfor\u001b[39;49;00m i \u001b[39min\u001b[39;49;00m \u001b[39mrange\u001b[39;49m(\u001b[39m8\u001b[39;49m) \u001b[39mfor\u001b[39;49;00m j \u001b[39min\u001b[39;49;00m \u001b[39mrange\u001b[39;49m(\u001b[39m256\u001b[39;49m)], hook_pre\u001b[39m=\u001b[39;49m\u001b[39mTrue\u001b[39;49;00m)\n",
      "File \u001b[0;32m~/superposition/plotting_utils.py:142\u001b[0m, in \u001b[0;36mget_neuron_moments\u001b[0;34m(model, data, neurons, disable_tqdm, hook_pre)\u001b[0m\n\u001b[1;32m    140\u001b[0m neuron_moments \u001b[39m=\u001b[39m []\n\u001b[1;32m    141\u001b[0m \u001b[39mfor\u001b[39;00m layer, layer_neurons \u001b[39min\u001b[39;00m neurons_by_layer\u001b[39m.\u001b[39mitems():\n\u001b[0;32m--> 142\u001b[0m     acts \u001b[39m=\u001b[39m get_mlp_activations(data, layer, model, neurons\u001b[39m=\u001b[39;49mtorch\u001b[39m.\u001b[39;49mtensor(layer_neurons), mean\u001b[39m=\u001b[39;49m\u001b[39mFalse\u001b[39;49;00m, \n\u001b[1;32m    143\u001b[0m                                disable_tqdm\u001b[39m=\u001b[39;49mdisable_tqdm, hook_pre\u001b[39m=\u001b[39;49mhook_pre)\u001b[39m.\u001b[39mcpu()\n\u001b[1;32m    144\u001b[0m     \u001b[39mfor\u001b[39;00m i, neuron \u001b[39min\u001b[39;00m \u001b[39menumerate\u001b[39m(layer_neurons):\n\u001b[1;32m    145\u001b[0m         tensor_numpy \u001b[39m=\u001b[39m acts[:, i]\u001b[39m.\u001b[39mnumpy()\n",
      "File \u001b[0;32m~/superposition/haystack_utils.py:82\u001b[0m, in \u001b[0;36mget_mlp_activations\u001b[0;34m(prompts, layer, model, num_prompts, context_crop_start, context_crop_end, mean, hook_pre, pos, neurons, disable_tqdm)\u001b[0m\n\u001b[1;32m     80\u001b[0m \u001b[39mfor\u001b[39;00m i \u001b[39min\u001b[39;00m tqdm(\u001b[39mrange\u001b[39m(num_prompts), disable\u001b[39m=\u001b[39mdisable_tqdm):\n\u001b[1;32m     81\u001b[0m     tokens \u001b[39m=\u001b[39m model\u001b[39m.\u001b[39mto_tokens(prompts[i])\n\u001b[0;32m---> 82\u001b[0m     \u001b[39mwith\u001b[39;00m model\u001b[39m.\u001b[39mhooks([(act_label, save_activation)]):\n\u001b[1;32m     83\u001b[0m         model(tokens)\n\u001b[1;32m     84\u001b[0m         act \u001b[39m=\u001b[39m model\u001b[39m.\u001b[39mhook_dict[act_label]\u001b[39m.\u001b[39mctx[\u001b[39m'\u001b[39m\u001b[39mactivation\u001b[39m\u001b[39m'\u001b[39m][:, context_crop_start:context_crop_end, :]\n",
      "File \u001b[0;32m/opt/conda/lib/python3.10/contextlib.py:135\u001b[0m, in \u001b[0;36m_GeneratorContextManager.__enter__\u001b[0;34m(self)\u001b[0m\n\u001b[1;32m    133\u001b[0m \u001b[39mdel\u001b[39;00m \u001b[39mself\u001b[39m\u001b[39m.\u001b[39margs, \u001b[39mself\u001b[39m\u001b[39m.\u001b[39mkwds, \u001b[39mself\u001b[39m\u001b[39m.\u001b[39mfunc\n\u001b[1;32m    134\u001b[0m \u001b[39mtry\u001b[39;00m:\n\u001b[0;32m--> 135\u001b[0m     \u001b[39mreturn\u001b[39;00m \u001b[39mnext\u001b[39;49m(\u001b[39mself\u001b[39;49m\u001b[39m.\u001b[39;49mgen)\n\u001b[1;32m    136\u001b[0m \u001b[39mexcept\u001b[39;00m \u001b[39mStopIteration\u001b[39;00m:\n\u001b[1;32m    137\u001b[0m     \u001b[39mraise\u001b[39;00m \u001b[39mRuntimeError\u001b[39;00m(\u001b[39m\"\u001b[39m\u001b[39mgenerator didn\u001b[39m\u001b[39m'\u001b[39m\u001b[39mt yield\u001b[39m\u001b[39m\"\u001b[39m) \u001b[39mfrom\u001b[39;00m \u001b[39mNone\u001b[39;00m\n",
      "File \u001b[0;32m/opt/conda/lib/python3.10/site-packages/transformer_lens/hook_points.py:293\u001b[0m, in \u001b[0;36mHookedRootModule.hooks\u001b[0;34m(self, fwd_hooks, bwd_hooks, reset_hooks_end, clear_contexts)\u001b[0m\n\u001b[1;32m    291\u001b[0m \u001b[39mfor\u001b[39;00m name, hook \u001b[39min\u001b[39;00m fwd_hooks:\n\u001b[1;32m    292\u001b[0m     \u001b[39mif\u001b[39;00m \u001b[39mtype\u001b[39m(name) \u001b[39m==\u001b[39m \u001b[39mstr\u001b[39m:\n\u001b[0;32m--> 293\u001b[0m         \u001b[39mself\u001b[39;49m\u001b[39m.\u001b[39;49mmod_dict[name]\u001b[39m.\u001b[39madd_hook(\n\u001b[1;32m    294\u001b[0m             hook, \u001b[39mdir\u001b[39m\u001b[39m=\u001b[39m\u001b[39m\"\u001b[39m\u001b[39mfwd\u001b[39m\u001b[39m\"\u001b[39m, level\u001b[39m=\u001b[39m\u001b[39mself\u001b[39m\u001b[39m.\u001b[39mcontext_level\n\u001b[1;32m    295\u001b[0m         )\n\u001b[1;32m    296\u001b[0m     \u001b[39melse\u001b[39;00m:\n\u001b[1;32m    297\u001b[0m         \u001b[39m# Otherwise, name is a Boolean function on names\u001b[39;00m\n\u001b[1;32m    298\u001b[0m         \u001b[39mfor\u001b[39;00m hook_name, hp \u001b[39min\u001b[39;00m \u001b[39mself\u001b[39m\u001b[39m.\u001b[39mhook_dict\u001b[39m.\u001b[39mitems():\n",
      "\u001b[0;31mKeyError\u001b[0m: 'blocks.4.mlp.hook_pre'"
     ]
    }
   ],
   "source": [
    "model = HookedTransformer.from_pretrained(\"roneneldan/TinyStories-1M\",\n",
    "    center_unembed=True,\n",
    "    center_writing_weights=True,\n",
    "    fold_ln=True,\n",
    "    device=\"cuda\")\n",
    "import plotting_utils\n",
    "large_acts_df = plotting_utils.get_neuron_moments(model, random_prompts + longer_stories,\n",
    "                                                  [[i, j] for i in range(8) for j in range(256)], hook_pre=True)\n",
    "\n",
    "# plotting_utils.plot_neuron_acts(model, random_prompts + longer_stories, [[0, 109], [1, 213], [2, 233], [3, 149], [4, 4], [5, 197], [6, 48], [7, 88],])"
   ]
  },
  {
   "cell_type": "code",
   "execution_count": null,
   "metadata": {},
   "outputs": [],
   "source": [
    "layer_neuron_tuples = large_acts_df.sort_values('kurtosis', ascending=False).iloc[:20][['layer', 'neuron']].values.tolist()\n",
    "plotting_utils.plot_neuron_acts(model, random_prompts + longer_stories, layer_neuron_tuples, range_x=[-1, 2], hook_pre=True)\n"
   ]
  },
  {
   "cell_type": "code",
   "execution_count": 48,
   "metadata": {},
   "outputs": [
    {
     "ename": "NameError",
     "evalue": "name 'layer_neuron_tuples' is not defined",
     "output_type": "error",
     "traceback": [
      "\u001b[0;31m---------------------------------------------------------------------------\u001b[0m",
      "\u001b[0;31mNameError\u001b[0m                                 Traceback (most recent call last)",
      "Cell \u001b[0;32mIn[48], line 1\u001b[0m\n\u001b[0;32m----> 1\u001b[0m layer_neurons_dict \u001b[39m=\u001b[39m haystack_utils\u001b[39m.\u001b[39mget_neurons_by_layer(layer_neuron_tuples)\n\u001b[1;32m      2\u001b[0m \u001b[39mfor\u001b[39;00m layer \u001b[39min\u001b[39;00m layer_neurons_dict\u001b[39m.\u001b[39mkeys():\n\u001b[1;32m      3\u001b[0m     acts \u001b[39m=\u001b[39m haystack_utils\u001b[39m.\u001b[39mget_mlp_activations([longer_stories[\u001b[39m0\u001b[39m]], layer, model, hook_pre\u001b[39m=\u001b[39m\u001b[39mFalse\u001b[39;00m, mean\u001b[39m=\u001b[39m\u001b[39mFalse\u001b[39;00m, context_crop_start\u001b[39m=\u001b[39m\u001b[39m0\u001b[39m, context_crop_end\u001b[39m=\u001b[39m\u001b[39m1000\u001b[39m)\n",
      "\u001b[0;31mNameError\u001b[0m: name 'layer_neuron_tuples' is not defined"
     ]
    }
   ],
   "source": [
    "layer_neurons_dict = haystack_utils.get_neurons_by_layer(layer_neuron_tuples)\n",
    "for layer in layer_neurons_dict.keys():\n",
    "    acts = haystack_utils.get_mlp_activations([longer_stories[0]], layer, model, hook_pre=False, mean=False, context_crop_start=0, context_crop_end=1000)\n",
    "    str_tokens = model.to_str_tokens(longer_stories[0])\n",
    "    for neuron in layer_neurons_dict[layer]:\n",
    "        haystack_utils.clean_print_strings_as_html(str_tokens, acts[:, neuron])"
   ]
  },
  {
   "cell_type": "code",
   "execution_count": null,
   "metadata": {},
   "outputs": [],
   "source": []
  },
  {
   "cell_type": "code",
   "execution_count": 105,
   "metadata": {},
   "outputs": [
    {
     "name": "stdout",
     "output_type": "stream",
     "text": [
      "Amy found a little lost kitten in the park. She took it home and fed it milk. The kitten purred \n"
     ]
    },
    {
     "data": {
      "application/vnd.jupyter.widget-view+json": {
       "model_id": "3ac3c423d65145769d18f31542e4def5",
       "version_major": 2,
       "version_minor": 0
      },
      "text/plain": [
       "  0%|          | 0/220 [00:00<?, ?it/s]"
      ]
     },
     "metadata": {},
     "output_type": "display_data"
    },
    {
     "data": {
      "text/plain": [
       "'Amy found a little lost kitten in the park. She took it home and fed it milk. The kitten purred \\n\" swoop down and pounced!\" Amy said. Dave opened the purple fur and touched a little bit better. \\nAnna helped the kitten talk to someone\\'s pet. Then one little one of her collar ripped. The kitten looked miserable but smiled and ran away. \\nAmy hugged the baby bird, smiled from ear. She kept her tray close and plant the flower and they all shared it together. \\nThe moral of the story is that it\\'s better to share something special with everyone in the same place.\\n<|endoftext|>'"
      ]
     },
     "execution_count": 105,
     "metadata": {},
     "output_type": "execute_result"
    }
   ],
   "source": [
    "n = 3\n",
    "\n",
    "print(random_prompts[n])\n",
    "model.generate(random_prompts[n], 220)"
   ]
  }
 ],
 "metadata": {
  "kernelspec": {
   "display_name": "base",
   "language": "python",
   "name": "python3"
  },
  "language_info": {
   "codemirror_mode": {
    "name": "ipython",
    "version": 3
   },
   "file_extension": ".py",
   "mimetype": "text/x-python",
   "name": "python",
   "nbconvert_exporter": "python",
   "pygments_lexer": "ipython3",
   "version": "3.10.11"
  },
  "orig_nbformat": 4
 },
 "nbformat": 4,
 "nbformat_minor": 2
}
