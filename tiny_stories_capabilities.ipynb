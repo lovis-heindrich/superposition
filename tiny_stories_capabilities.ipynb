{
 "cells": [
  {
   "cell_type": "code",
   "execution_count": 2,
   "metadata": {},
   "outputs": [],
   "source": [
    "import torch\n",
    "from tqdm.auto import tqdm\n",
    "from transformer_lens import HookedTransformer\n",
    "from jaxtyping import Float, Int, Bool\n",
    "from torch import Tensor\n",
    "from tqdm.auto import tqdm\n",
    "import plotly.io as pio\n",
    "import pandas as pd\n",
    "import numpy as np\n",
    "import plotly.express as px \n",
    "from collections import defaultdict\n",
    "import matplotlib.pyplot as plt\n",
    "import re\n",
    "from IPython.display import display, HTML\n",
    "from datasets import load_dataset\n",
    "from collections import Counter\n",
    "import pickle\n",
    "import os\n",
    "import plotly.graph_objects as go\n",
    "from scipy.stats import norm\n",
    "\n",
    "import sklearn\n",
    "from sklearn.model_selection import train_test_split\n",
    "from sklearn.linear_model import LogisticRegression\n",
    "\n",
    "pio.renderers.default = \"notebook_connected+notebook\"\n",
    "device = \"cuda\" if torch.cuda.is_available() else \"cpu\"\n",
    "torch.autograd.set_grad_enabled(False)\n",
    "torch.set_grad_enabled(False)\n",
    "\n",
    "from haystack_utils import get_mlp_activations\n",
    "from hook_utils import get_ablate_neuron_hook\n",
    "import haystack_utils\n",
    "from pythia_160m_utils import get_neuron_accuracy, ablation_effect\n",
    "from plotting_utils import plot_neuron_acts, color_binned_histogram\n",
    "\n",
    "\n",
    "%reload_ext autoreload\n",
    "%autoreload 2"
   ]
  },
  {
   "cell_type": "code",
   "execution_count": 3,
   "metadata": {},
   "outputs": [
    {
     "name": "stderr",
     "output_type": "stream",
     "text": [
      "Using pad_token, but it is not set yet.\n"
     ]
    },
    {
     "name": "stdout",
     "output_type": "stream",
     "text": [
      "Loaded pretrained model tiny-stories-33M into HookedTransformer\n"
     ]
    }
   ],
   "source": [
    "model = HookedTransformer.from_pretrained(\"tiny-stories-33M\",\n",
    "    center_unembed=True,\n",
    "    center_writing_weights=True,\n",
    "    fold_ln=True,\n",
    "    device=\"cuda\")"
   ]
  },
  {
   "cell_type": "code",
   "execution_count": 4,
   "metadata": {},
   "outputs": [
    {
     "data": {
      "application/vnd.jupyter.widget-view+json": {
       "model_id": "ae2d70f288f840fbaeebfbc3e87a6833",
       "version_major": 2,
       "version_minor": 0
      },
      "text/plain": [
       "Downloading readme:   0%|          | 0.00/946 [00:00<?, ?B/s]"
      ]
     },
     "metadata": {},
     "output_type": "display_data"
    },
    {
     "name": "stderr",
     "output_type": "stream",
     "text": [
      "Repo card metadata block was not found. Setting CardData to empty.\n"
     ]
    },
    {
     "data": {
      "application/vnd.jupyter.widget-view+json": {
       "model_id": "cb73bb8e07084857ab17b34c29ff2fa9",
       "version_major": 2,
       "version_minor": 0
      },
      "text/plain": [
       "Downloading data files:   0%|          | 0/2 [00:00<?, ?it/s]"
      ]
     },
     "metadata": {},
     "output_type": "display_data"
    },
    {
     "data": {
      "application/vnd.jupyter.widget-view+json": {
       "model_id": "7bf68e221b6a40358b13d789e0d93000",
       "version_major": 2,
       "version_minor": 0
      },
      "text/plain": [
       "Downloading data:   0%|          | 0.00/249M [00:00<?, ?B/s]"
      ]
     },
     "metadata": {},
     "output_type": "display_data"
    },
    {
     "data": {
      "application/vnd.jupyter.widget-view+json": {
       "model_id": "fb1077024e104d43a3c92e536a83c9ac",
       "version_major": 2,
       "version_minor": 0
      },
      "text/plain": [
       "Downloading data:   0%|          | 0.00/248M [00:00<?, ?B/s]"
      ]
     },
     "metadata": {},
     "output_type": "display_data"
    },
    {
     "data": {
      "application/vnd.jupyter.widget-view+json": {
       "model_id": "d20414b4e050467da28e605748749d14",
       "version_major": 2,
       "version_minor": 0
      },
      "text/plain": [
       "Downloading data:   0%|          | 0.00/246M [00:00<?, ?B/s]"
      ]
     },
     "metadata": {},
     "output_type": "display_data"
    },
    {
     "data": {
      "application/vnd.jupyter.widget-view+json": {
       "model_id": "fa3fc12611644d21804ed85e97ab8e65",
       "version_major": 2,
       "version_minor": 0
      },
      "text/plain": [
       "Downloading data:   0%|          | 0.00/248M [00:00<?, ?B/s]"
      ]
     },
     "metadata": {},
     "output_type": "display_data"
    },
    {
     "data": {
      "application/vnd.jupyter.widget-view+json": {
       "model_id": "57b944a6f29a4ed091de871942022eb5",
       "version_major": 2,
       "version_minor": 0
      },
      "text/plain": [
       "Downloading data:   0%|          | 0.00/9.99M [00:00<?, ?B/s]"
      ]
     },
     "metadata": {},
     "output_type": "display_data"
    },
    {
     "data": {
      "application/vnd.jupyter.widget-view+json": {
       "model_id": "e5f3944b376241159c20654f5006cdad",
       "version_major": 2,
       "version_minor": 0
      },
      "text/plain": [
       "Extracting data files:   0%|          | 0/2 [00:00<?, ?it/s]"
      ]
     },
     "metadata": {},
     "output_type": "display_data"
    },
    {
     "data": {
      "application/vnd.jupyter.widget-view+json": {
       "model_id": "5c2c5f5b45f04c52baf37a03c2e2ed28",
       "version_major": 2,
       "version_minor": 0
      },
      "text/plain": [
       "Generating train split: 0 examples [00:00, ? examples/s]"
      ]
     },
     "metadata": {},
     "output_type": "display_data"
    },
    {
     "data": {
      "application/vnd.jupyter.widget-view+json": {
       "model_id": "c1e5b9f78f8f4755923964227640ca9c",
       "version_major": 2,
       "version_minor": 0
      },
      "text/plain": [
       "Generating validation split: 0 examples [00:00, ? examples/s]"
      ]
     },
     "metadata": {},
     "output_type": "display_data"
    },
    {
     "name": "stdout",
     "output_type": "stream",
     "text": [
      "{'text': 'One day, a little girl named Lily found a needle in her room. She knew it was difficult to play with it because it was sharp. Lily wanted to share the needle with her mom, so she could sew a button on her shirt.\\n\\nLily went to her mom and said, \"Mom, I found this needle. Can you share it with me and sew my shirt?\" Her mom smiled and said, \"Yes, Lily, we can share the needle and fix your shirt.\"\\n\\nTogether, they shared the needle and sewed the button on Lily\\'s shirt. It was not difficult for them because they were sharing and helping each other. After they finished, Lily thanked her mom for sharing the needle and fixing her shirt. They both felt happy because they had shared and worked together.'}\n"
     ]
    }
   ],
   "source": [
    "dataset = load_dataset('roneneldan/TinyStories', split='train')\n",
    "print(dataset[0])"
   ]
  },
  {
   "cell_type": "code",
   "execution_count": 19,
   "metadata": {},
   "outputs": [
    {
     "data": {
      "application/vnd.jupyter.widget-view+json": {
       "model_id": "369ff21cd6ad494ab027b2a481ccf766",
       "version_major": 2,
       "version_minor": 0
      },
      "text/plain": [
       "  0%|          | 0/100 [00:00<?, ?it/s]"
      ]
     },
     "metadata": {},
     "output_type": "display_data"
    },
    {
     "name": "stdout",
     "output_type": "stream",
     "text": [
      "John is high and Sarah is low. John is in a tree and Sarah is under his tree. He is stuck. John is scared. He says: \"Help! Help!\" Sarah hears him and moves off to another tree. John says: \"Thank you, Sarah!\" Sarah is happy to help.\n",
      "\n",
      "But then Sarah hears a worried noise. She looks up and sees a bird cage. The cage is very high and Sarah's heart is beating very fast. She wants to help the bird. She quickly takes off the cushion and the cushage. She puts the\n"
     ]
    },
    {
     "data": {
      "application/vnd.jupyter.widget-view+json": {
       "model_id": "bf7bdee3ef7d4dcb8f03c00d2cb52a74",
       "version_major": 2,
       "version_minor": 0
      },
      "text/plain": [
       "  0%|          | 0/100 [00:00<?, ?it/s]"
      ]
     },
     "metadata": {},
     "output_type": "display_data"
    },
    {
     "name": "stdout",
     "output_type": "stream",
     "text": [
      "John is high and Sarah is low. John is in a treehouse and Sarah is on the swing.\n",
      "\n",
      "One day, they hear an alarm. John is scared and Sarah is curious. She asks John to do a test. John asked questions like, 'What is powerful?' and 'What should the alarm do?' Sarah thought for a minute and then she said 'I think it is because of the alarm'.\n",
      "\n",
      "John felt much better and said to Sarah, “I think I understand now! Let’s find out who is causing the alarm and make\n"
     ]
    },
    {
     "data": {
      "application/vnd.jupyter.widget-view+json": {
       "model_id": "73e657cf12014caf9097203a5de24b00",
       "version_major": 2,
       "version_minor": 0
      },
      "text/plain": [
       "  0%|          | 0/100 [00:00<?, ?it/s]"
      ]
     },
     "metadata": {},
     "output_type": "display_data"
    },
    {
     "name": "stdout",
     "output_type": "stream",
     "text": [
      "John is high and Sarah is low. John is on top of a pole and Sarah is on the ground. They both frowning and Sarah's frownss.\n",
      "\n",
      "John was angry. He wanted to get down and shout. He thought of another way. He didn't want to stay up there with Sarah alone.\n",
      "\n",
      "John had an idea. He took his scooter and pushed Sarah off the floor. Sarah fell on the floor with a loud clatter. She was mad.\n",
      "\n",
      "John and Sarah started to quarrel. They yelled at each other and Sarah had to\n"
     ]
    },
    {
     "data": {
      "application/vnd.jupyter.widget-view+json": {
       "model_id": "b58079209f034685a099ec9f926adcbe",
       "version_major": 2,
       "version_minor": 0
      },
      "text/plain": [
       "  0%|          | 0/100 [00:00<?, ?it/s]"
      ]
     },
     "metadata": {},
     "output_type": "display_data"
    },
    {
     "name": "stdout",
     "output_type": "stream",
     "text": [
      "John is high and Sarah is low. John is on top of a house and Sarah is close behind. Sarah is backing around and making noises.\n",
      "\n",
      "\"I want to have fun now,\" she says to John.\n",
      "\n",
      "John is not happy. He said: \"No, it's dangerous to go underneath the tree.\"\n",
      "Sarah starts to cry.\n",
      "\n",
      "But John mustered up the courage and said: \"Come on, Sarah. Let's go under the tree.\"\n",
      "\n",
      "So they both crawled under the tree and found a beautiful meadow full of flowers. They\n"
     ]
    },
    {
     "data": {
      "application/vnd.jupyter.widget-view+json": {
       "model_id": "b6dec4d4e5b64f68b32e3b311559d56f",
       "version_major": 2,
       "version_minor": 0
      },
      "text/plain": [
       "  0%|          | 0/100 [00:00<?, ?it/s]"
      ]
     },
     "metadata": {},
     "output_type": "display_data"
    },
    {
     "name": "stdout",
     "output_type": "stream",
     "text": [
      "John is high and Sarah is low. John is on the roof and Sarah is on the grass. John smiles and thinks this is a good idea. He makes a hole in the balloon and then he takes out a plastic stick. He cuts the string to make it. Sarah watches and asks why John does this when he stops climbing.\n",
      "\n",
      "John looks back onto the ground. Sarah says, \"Next time, I will help you climb the pile of leaves\". John smiles. He likes to help Sarah. They work together and it is fun.\n",
      "<|endoftext|>\n"
     ]
    }
   ],
   "source": [
    "print(model.generate(\"John is high and Sarah is low. John is in a tree and Sarah\", 100))\n",
    "print(model.generate(\"John is high and Sarah is low. John is in a treehouse and Sarah\", 100))\n",
    "print(model.generate(\"John is high and Sarah is low. John is on top of a pole and Sarah\", 100))\n",
    "print(model.generate(\"John is high and Sarah is low. John is on top of a house and Sarah\", 100))\n",
    "print(model.generate(\"John is high and Sarah is low. John is on the roof and Sarah\", 100))\n"
   ]
  },
  {
   "cell_type": "code",
   "execution_count": 21,
   "metadata": {},
   "outputs": [
    {
     "data": {
      "application/vnd.jupyter.widget-view+json": {
       "model_id": "2f9176ebf1ca4653aaf0fca52c119061",
       "version_major": 2,
       "version_minor": 0
      },
      "text/plain": [
       "  0%|          | 0/100 [00:00<?, ?it/s]"
      ]
     },
     "metadata": {},
     "output_type": "display_data"
    },
    {
     "name": "stdout",
     "output_type": "stream",
     "text": [
      "John is low and Sarah is high. John is on the ground and Sarah is on the ground. They are very sad. \n",
      "\n",
      "They see a big chain in the park. They both like chains. They want to pick it up and play with it.\n",
      "\n",
      "They both pull on it and it breaks. They are very sad and the chain is gone. \n",
      "\n",
      "John and Sarah take the chain and go home. They hope to find the chain again someday. That was very special.\n",
      "<|endoftext|>\n"
     ]
    },
    {
     "data": {
      "application/vnd.jupyter.widget-view+json": {
       "model_id": "b3e952a0068d49c7ac108c01803e105b",
       "version_major": 2,
       "version_minor": 0
      },
      "text/plain": [
       "  0%|          | 0/100 [00:00<?, ?it/s]"
      ]
     },
     "metadata": {},
     "output_type": "display_data"
    },
    {
     "name": "stdout",
     "output_type": "stream",
     "text": [
      "John is low and Sarah is high. John is in a hole and Sarah is not there.\n",
      "\n",
      "\"Where is Sarah?\" John asked.\n",
      "\n",
      "\"I don't know,\" Sarah replied.\n",
      "\n",
      "John kept searching and searching. He looked all around the hole, but he could not find Sarah.\n",
      "\n",
      "\"I am not in the hole!\" he yelled out.\n",
      "\n",
      "Suddenly a big purple spider appeared. It began to chase John. He ran and ran until he reached home.\n",
      "\n",
      "The spider caught John and he was taken to the hospital. Sarah\n"
     ]
    },
    {
     "data": {
      "application/vnd.jupyter.widget-view+json": {
       "model_id": "5caa8a11cbd948c0a8661da18c4b0ab1",
       "version_major": 2,
       "version_minor": 0
      },
      "text/plain": [
       "  0%|          | 0/100 [00:00<?, ?it/s]"
      ]
     },
     "metadata": {},
     "output_type": "display_data"
    },
    {
     "name": "stdout",
     "output_type": "stream",
     "text": [
      "John is low and Sarah is high. John is underneath a pile of leave and Sarah is playing with her dolls. She sees John and smiles. She wants to be friends with John.\n",
      "\n",
      "John's mom hears Sarah's voice and calls out \"Emily, where are you?\" She looks under the pile but she can not see Sarah.\n",
      "\n",
      "Jane was happy to see Tim but she is still scared of his toes. Then she saw something on Sarah's toes. It was a bug! She stared at it. But then it scurries away.\n",
      "\n",
      "Sarah said,\n"
     ]
    },
    {
     "data": {
      "application/vnd.jupyter.widget-view+json": {
       "model_id": "b779baa763b449a1aa60c10fe443a4d2",
       "version_major": 2,
       "version_minor": 0
      },
      "text/plain": [
       "  0%|          | 0/100 [00:00<?, ?it/s]"
      ]
     },
     "metadata": {},
     "output_type": "display_data"
    },
    {
     "name": "stdout",
     "output_type": "stream",
     "text": [
      "John is low and Sarah is high. John is under the house and Sarah is still under it. Sarah cries and blinks her eyes. She is sad and misses John. She hopes that her pain will go away.\n",
      "\n",
      "John hears Sarah crying. He feels bad for her and goes to her. He is slow and careful. He makes room for her out of the under. He takes her deeper from the hole and eats her candy. He makes her smile. He hopes that she will feel better soon.\n",
      "\n",
      "Sarah's arm gets better after a few minutes.\n"
     ]
    },
    {
     "data": {
      "application/vnd.jupyter.widget-view+json": {
       "model_id": "370064af262e4f20a5f18726a23de9da",
       "version_major": 2,
       "version_minor": 0
      },
      "text/plain": [
       "  0%|          | 0/100 [00:00<?, ?it/s]"
      ]
     },
     "metadata": {},
     "output_type": "display_data"
    },
    {
     "name": "stdout",
     "output_type": "stream",
     "text": [
      "John is low and Sarah is high. John is under the horse and Sarah is under the horse. John is thirsty and the horse drinks from Sarah. Sarah is sad and she starts to cry.\n",
      "\n",
      "Then suddenly, the horse stops eating. John is shocked and he wants to get Sarah out. But he does not know how to do it.\n",
      "\n",
      "John is upset and he cries. Sarah feels bad about being left out. She is sorry that she should have been alone. Sarah needs to go back to the stable and John has to chase her.\n",
      "\n",
      "Sarah\n"
     ]
    }
   ],
   "source": [
    "print(model.generate(\"John is low and Sarah is high. John is on the ground and Sarah\", 100))\n",
    "print(model.generate(\"John is low and Sarah is high. John is in a hole and Sarah\", 100))\n",
    "print(model.generate(\"John is low and Sarah is high. John is underneath a pile of leave and Sarah\", 100))\n",
    "print(model.generate(\"John is low and Sarah is high. John is under the house and Sarah\", 100))\n",
    "print(model.generate(\"John is low and Sarah is high. John is under the horse and Sarah\", 100))"
   ]
  },
  {
   "cell_type": "code",
   "execution_count": 24,
   "metadata": {},
   "outputs": [
    {
     "data": {
      "application/vnd.jupyter.widget-view+json": {
       "model_id": "1bc06db538b24446bd47c9e0ae16a542",
       "version_major": 2,
       "version_minor": 0
      },
      "text/plain": [
       "  0%|          | 0/100 [00:00<?, ?it/s]"
      ]
     },
     "metadata": {},
     "output_type": "display_data"
    },
    {
     "name": "stdout",
     "output_type": "stream",
     "text": [
      "John is low and Sarah is high. Sarah is up a tree and John is at the bottom. He could see many things from up there. Sarah was on the swings and John could see them from up high. He was complaining because he was too small to reach them.\n",
      "\n",
      "John kept complaining and Sarah looked away. Then she saw a man. He was carrying a big bag and looked easyening his way into the tree. When he got there he talked to mommy. He said he could get her over there because Sarah was too small.\n",
      "\n",
      "Mommy thanked\n"
     ]
    }
   ],
   "source": [
    "print(model.generate(\"John is low and Sarah is high. Sarah is up a tree and John is\", 100))"
   ]
  },
  {
   "cell_type": "code",
   "execution_count": 29,
   "metadata": {},
   "outputs": [
    {
     "data": {
      "application/vnd.jupyter.widget-view+json": {
       "model_id": "c54d554ef5fe4d7a9c80e221078ed081",
       "version_major": 2,
       "version_minor": 0
      },
      "text/plain": [
       "  0%|          | 0/100 [00:00<?, ?it/s]"
      ]
     },
     "metadata": {},
     "output_type": "display_data"
    },
    {
     "name": "stdout",
     "output_type": "stream",
     "text": [
      "Jack and Sarah are in the meadow. One of them is in a tree. The other is a girl named Sophie.\n",
      "\n",
      "John looks up and sees Sophie. He points at her and says, \"She is teasing me!\" Sarah ran to John and says, \"Sorry, John. That's not nice at all.\"\n",
      "\n",
      "John and Sarah climb the tree and sit on a branch. They look at the sky and the fluffy clouds that moved across the sky. Sarah pointed at the clouds and said, \"Look John, I see a cloud that looks like a dog!\"\n",
      "\n",
      "John\n"
     ]
    }
   ],
   "source": [
    "print(model.generate(\"\", 100))"
   ]
  },
  {
   "cell_type": "code",
   "execution_count": 56,
   "metadata": {},
   "outputs": [
    {
     "data": {
      "application/vnd.jupyter.widget-view+json": {
       "model_id": "93c88c30f0f84b3fbd570ac8beed5121",
       "version_major": 2,
       "version_minor": 0
      },
      "text/plain": [
       "  0%|          | 0/100 [00:00<?, ?it/s]"
      ]
     },
     "metadata": {},
     "output_type": "display_data"
    },
    {
     "name": "stdout",
     "output_type": "stream",
     "text": [
      "Jack was thirsty. Jack saw a pond, so he went to take a drink. He saw a big frog and wanted to catch it. He tried to catch the frog, but it jumped away. Jack was sad, but he kept walking.\n",
      "\n",
      "Suddenly, Jack saw a big dog. The dog barked at Jack and he got scared. He tried to run away, but the dog chased him. Jack ran and ran, but the dog was too fast. The dog caught Jack and bit him. Jack cried and cried.\n",
      "\n",
      "The end\n"
     ]
    },
    {
     "data": {
      "application/vnd.jupyter.widget-view+json": {
       "model_id": "d4a8abba3a11447a8642260cf6bd267c",
       "version_major": 2,
       "version_minor": 0
      },
      "text/plain": [
       "  0%|          | 0/100 [00:00<?, ?it/s]"
      ]
     },
     "metadata": {},
     "output_type": "display_data"
    },
    {
     "name": "stdout",
     "output_type": "stream",
     "text": [
      "Jack was bored. Jack saw a pond, so he decided to go for a swim. He jumped in and started to splash around. He was having so much fun!\n",
      "\n",
      "Suddenly, Jack heard a noise. He looked around and saw a big frog. The frog was jumping around and making a lot of noise. Jack was scared and he wanted to get out of the water.\n",
      "\n",
      "Jack started to swim towards the frog. The frog saw Jack and started to swim away. Jack was sad and he started to cry.\n",
      "\n",
      "Jack's mom\n"
     ]
    },
    {
     "data": {
      "application/vnd.jupyter.widget-view+json": {
       "model_id": "88ac11ead4e34a4883b5e12a18534bb5",
       "version_major": 2,
       "version_minor": 0
      },
      "text/plain": [
       "  0%|          | 0/100 [00:00<?, ?it/s]"
      ]
     },
     "metadata": {},
     "output_type": "display_data"
    },
    {
     "name": "stdout",
     "output_type": "stream",
     "text": [
      "Jack was sleepy. Jack saw a mat, so he lay down on it. He closed his eyes and started to sleep.\n",
      "\n",
      "Suddenly, Jack heard a noise. He opened his eyes and saw a big, scary monster! Jack was so scared he couldn't move.\n",
      "\n",
      "The monster said, \"I'm going to eat you!\"\n",
      "\n",
      "Jack was so scared he couldn't move. He just lay there, too scared to move.\n",
      "\n",
      "The monster grabbed Jack and ate him up. Jack was never seen again.\n",
      "<|endoftext|>\n"
     ]
    },
    {
     "data": {
      "application/vnd.jupyter.widget-view+json": {
       "model_id": "b52962d1ade64801bff70bfc33d74f43",
       "version_major": 2,
       "version_minor": 0
      },
      "text/plain": [
       "  0%|          | 0/100 [00:00<?, ?it/s]"
      ]
     },
     "metadata": {},
     "output_type": "display_data"
    },
    {
     "name": "stdout",
     "output_type": "stream",
     "text": [
      "Jack was excited. Jack saw a mat, so he ran over to it. He picked it up and started to play. He rolled it around and laughed. He was having so much fun.\n",
      "\n",
      "Suddenly, Jack heard a noise. He looked around and saw a big dog. The dog was barking and running towards him. Jack was scared. He tried to run away, but the dog was too fast.\n",
      "\n",
      "The dog bit Jack's leg. Jack screamed and cried. He was hurt. The dog ran away.\n",
      "\n",
      "Jack was sad\n"
     ]
    }
   ],
   "source": [
    "# Selecting multi-use objects in the environment\n",
    "print(model.generate(\"Jack was thirsty. Jack saw a pond, so he\", 100, temperature=0))\n",
    "print(model.generate(\"Jack was bored. Jack saw a pond, so he\", 100, temperature=0))\n",
    "\n",
    "print(model.generate(\"Jack was sleepy. Jack saw a mat, so he\", 100, temperature=0))\n",
    "print(model.generate(\"Jack was excited. Jack saw a mat, so he\", 100, temperature=0))"
   ]
  },
  {
   "cell_type": "code",
   "execution_count": 63,
   "metadata": {},
   "outputs": [
    {
     "data": {
      "application/vnd.jupyter.widget-view+json": {
       "model_id": "d870e6502dba451e8be8f0c2b975a61c",
       "version_major": 2,
       "version_minor": 0
      },
      "text/plain": [
       "  0%|          | 0/100 [00:00<?, ?it/s]"
      ]
     },
     "metadata": {},
     "output_type": "display_data"
    },
    {
     "name": "stdout",
     "output_type": "stream",
     "text": [
      "The box was too big and heavy. Sarah pushed the box and it started to roll. She was so happy! She ran after the box and it rolled down the street.\n",
      "\n",
      "Sarah followed the box until it stopped at a park. She saw a big tree and she wanted to climb it. She put her foot on the trunk and started to climb. She was so excited!\n",
      "\n",
      "But then she heard a loud noise. It was the park keeper. He was angry and he shouted at Sarah. He said she was not allowed to climb the tree\n"
     ]
    }
   ],
   "source": [
    "# multi-use environment elements\n",
    "# print(model.generate(\"The ball rolled off the bridge\", 100, temperature=0))\n",
    "# print(model.generate(\"Put the ball onto the hill. The ball\", 100, temperature=0))\n",
    "# print(model.generate(\"Sarah put the box onto the hill. The box\", 100, temperature=0))\n",
    "# print(model.generate(\"The box was too big and heavy. Sarah pushed the box \", 100, temperature=0))\n",
    "\n",
    "\n",
    "\n",
    "\n",
    "# print(model.generate(\"Jack was tired. Jack saw a slide, so he\", 100, temperature=0))\n",
    "# print(model.generate(\"Jack was thinking. Jack saw a slide, so he\", 100, temperature=0))\n",
    "# print(model.generate(\"Jack was near the pond, but he was thirsty so he \", 100, temperature=0))\n",
    "# print(model.generate(\"Jack was near the pond, but he wasn't thirsty so he \", 100, temperature=0))\n",
    "# print(model.generate(\"Jack was far away so he \", 100, temperature=0))\n",
    "# print(model.generate(\"Jack was close by so he \", 100, temperature=0))\n",
    "# print(model.generate(\"Jack was above Sarah so he \", 100, temperature=0))\n",
    "# print(model.generate(\"Jack was a long way from home and he felt thirsty so he\", 100, temperature=0))\n",
    "\n"
   ]
  },
  {
   "cell_type": "code",
   "execution_count": 4,
   "metadata": {},
   "outputs": [
    {
     "data": {
      "application/vnd.jupyter.widget-view+json": {
       "model_id": "5ff4bb383a3840cd99c7a846a10782ba",
       "version_major": 2,
       "version_minor": 0
      },
      "text/plain": [
       "  0%|          | 0/100 [00:00<?, ?it/s]"
      ]
     },
     "metadata": {},
     "output_type": "display_data"
    },
    {
     "name": "stdout",
     "output_type": "stream",
     "text": [
      "Jack wanted to draw on the ground. Jack saw a stick. He was very excited. He picked it up and started to draw on the ground. He drew a big circle and then a small square. He was very happy.\n",
      "\n",
      "Jack's mom saw him and said, \"Jack, what are you drawing?\"\n",
      "\n",
      "Jack said, \"I'm drawing a circle. Look, it's so big and round!\"\n",
      "\n",
      "Jack's mom smiled and said, \"That's great! You're so creative!\"\n",
      "\n",
      "Jack smiled and kept drawing. He was\n"
     ]
    }
   ],
   "source": [
    "print(model.generate(\"Jack wanted to draw on the ground. Jack saw a stick. He \", 100, temperature=0))\n",
    "\n",
    "print(model.generate(\"Jack wanted to draw on the ground. Jack saw a stick. He use \", 100, temperature=0))\n"
   ]
  },
  {
   "cell_type": "code",
   "execution_count": 60,
   "metadata": {},
   "outputs": [
    {
     "data": {
      "application/vnd.jupyter.widget-view+json": {
       "model_id": "16ea1c00d5b94fd1ac68c04d3c161edb",
       "version_major": 2,
       "version_minor": 0
      },
      "text/plain": [
       "  0%|          | 0/100 [00:00<?, ?it/s]"
      ]
     },
     "metadata": {},
     "output_type": "display_data"
    },
    {
     "name": "stdout",
     "output_type": "stream",
     "text": [
      "Once upon a time there lived a girl named Lily. She loved to look in her attic. One day, she found a pond in her attic. She was so excited to see it! She ran to the pond and saw that it was full of water. She wanted to play in it, but her mom said no.\n",
      "\n",
      "Lily was sad, but then she had an idea. She asked her mom if she could soak her feet in the pond. Her mom said yes, so Lily put her feet in the water and it felt so nice. She splashed around and had so much fun.\n",
      "\n",
      "After a while, Lily's mom\n"
     ]
    }
   ],
   "source": [
    "print(model.generate(\"Once upon a time there lived a girl named Lily. She loved to look in her attic. One day, she found a pond in her attic. She \", 100, temperature=0))\n"
   ]
  },
  {
   "cell_type": "code",
   "execution_count": 73,
   "metadata": {},
   "outputs": [
    {
     "data": {
      "application/vnd.jupyter.widget-view+json": {
       "model_id": "5ea544010521496aa6da696b8fd152e4",
       "version_major": 2,
       "version_minor": 0
      },
      "text/plain": [
       "  0%|          | 0/20 [00:00<?, ?it/s]"
      ]
     },
     "metadata": {},
     "output_type": "display_data"
    },
    {
     "name": "stdout",
     "output_type": "stream",
     "text": [
      "Jack was playing in the park. But then he saw something strange. He saw a big, scary dog. It was barking and growling\n"
     ]
    },
    {
     "data": {
      "application/vnd.jupyter.widget-view+json": {
       "model_id": "62498fe17bf54cfd9dc08e821b911594",
       "version_major": 2,
       "version_minor": 0
      },
      "text/plain": [
       "  0%|          | 0/20 [00:00<?, ?it/s]"
      ]
     },
     "metadata": {},
     "output_type": "display_data"
    },
    {
     "name": "stdout",
     "output_type": "stream",
     "text": [
      "Jack was in the pool. But he was not happy. He was very angry. He wanted to play with his friends, but they\n"
     ]
    },
    {
     "data": {
      "application/vnd.jupyter.widget-view+json": {
       "model_id": "58a813a561c0404587b44390fc90a4c1",
       "version_major": 2,
       "version_minor": 0
      },
      "text/plain": [
       "  0%|          | 0/20 [00:00<?, ?it/s]"
      ]
     },
     "metadata": {},
     "output_type": "display_data"
    },
    {
     "name": "stdout",
     "output_type": "stream",
     "text": [
      "Jack was going to school. But he was feeling very nervous. He was going to learn new things and meet new friends.\n",
      "\n",
      "\n"
     ]
    },
    {
     "data": {
      "application/vnd.jupyter.widget-view+json": {
       "model_id": "ef0c0ba217664f9199affc29275d8409",
       "version_major": 2,
       "version_minor": 0
      },
      "text/plain": [
       "  0%|          | 0/20 [00:00<?, ?it/s]"
      ]
     },
     "metadata": {},
     "output_type": "display_data"
    },
    {
     "name": "stdout",
     "output_type": "stream",
     "text": [
      "Jack was sad. But then he saw a big, shiny motorcycle. It was so cool! He wanted to ride it.\n"
     ]
    },
    {
     "data": {
      "application/vnd.jupyter.widget-view+json": {
       "model_id": "84fa9a9994f4455ca7e57b324ddd5a40",
       "version_major": 2,
       "version_minor": 0
      },
      "text/plain": [
       "  0%|          | 0/20 [00:00<?, ?it/s]"
      ]
     },
     "metadata": {},
     "output_type": "display_data"
    },
    {
     "name": "stdout",
     "output_type": "stream",
     "text": [
      "Jack was sleeping in bed. But he was not sleeping. He was dreaming about a big, scary monster. The monster was coming to\n"
     ]
    },
    {
     "data": {
      "application/vnd.jupyter.widget-view+json": {
       "model_id": "dfe56ba048ee4bd897cea3f228d0e3e0",
       "version_major": 2,
       "version_minor": 0
      },
      "text/plain": [
       "  0%|          | 0/20 [00:00<?, ?it/s]"
      ]
     },
     "metadata": {},
     "output_type": "display_data"
    },
    {
     "name": "stdout",
     "output_type": "stream",
     "text": [
      "Jack was lying in bed. But he was not feeling very good. He was feeling very tired. He had been playing all day and\n"
     ]
    }
   ],
   "source": [
    "print(model.generate(\"Jack was playing in the park. But\", 20, temperature=0))\n",
    "print(model.generate(\"Jack was in the pool. But\", 20, temperature=0))\n",
    "print(model.generate(\"Jack was going to school. But\", 20, temperature=0))\n",
    "print(model.generate(\"Jack was sad. But\", 20, temperature=0))\n",
    "print(model.generate(\"Jack was sleeping in bed. But\", 20, temperature=0))\n",
    "print(model.generate(\"Jack was lying in bed. But\", 20, temperature=0))"
   ]
  },
  {
   "cell_type": "code",
   "execution_count": 79,
   "metadata": {},
   "outputs": [
    {
     "data": {
      "application/vnd.jupyter.widget-view+json": {
       "model_id": "6a3ec53fd922403c8516ef3bf8c25690",
       "version_major": 2,
       "version_minor": 0
      },
      "text/plain": [
       "  0%|          | 0/20 [00:00<?, ?it/s]"
      ]
     },
     "metadata": {},
     "output_type": "display_data"
    },
    {
     "name": "stdout",
     "output_type": "stream",
     "text": [
      "Jack was a boy who loved to draw. He drew red drawings with his crayon and blue drawings with his pencil. He drew a blue circle with his pencil and then drew a green triangle with his red pencil. He was very proud of his drawing.\n"
     ]
    },
    {
     "data": {
      "application/vnd.jupyter.widget-view+json": {
       "model_id": "aa30409ded6746cb9ddfebe8a6a89f0d",
       "version_major": 2,
       "version_minor": 0
      },
      "text/plain": [
       "  0%|          | 0/20 [00:00<?, ?it/s]"
      ]
     },
     "metadata": {},
     "output_type": "display_data"
    },
    {
     "name": "stdout",
     "output_type": "stream",
     "text": [
      "Jack was a boy who loved to draw. He drew blue drawings with his crayon and red drawings with his pencil. He drew a blue circle with his pencil and then drew a green triangle with his blue pencil. He was very happy with his drawing.\n"
     ]
    }
   ],
   "source": [
    "print(model.generate(\"Jack was a boy who loved to draw. He drew red drawings with his crayon and blue drawings with his pencil. He drew a blue circle with his\", 20, temperature=0))\n",
    "print(model.generate(\"Jack was a boy who loved to draw. He drew blue drawings with his crayon and red drawings with his pencil. He drew a blue circle with his\", 20, temperature=0))\n"
   ]
  },
  {
   "cell_type": "code",
   "execution_count": 22,
   "metadata": {},
   "outputs": [
    {
     "data": {
      "application/vnd.jupyter.widget-view+json": {
       "model_id": "858bca9a6cbd475ab8962ac404ba1fa0",
       "version_major": 2,
       "version_minor": 0
      },
      "text/plain": [
       "  0%|          | 0/20 [00:00<?, ?it/s]"
      ]
     },
     "metadata": {},
     "output_type": "display_data"
    },
    {
     "name": "stdout",
     "output_type": "stream",
     "text": [
      " The park was closed. Jack asked his mother whether he could go to the park. His mother said, \"No, it's too late. You need to stay home.\" Jack was\n"
     ]
    },
    {
     "data": {
      "application/vnd.jupyter.widget-view+json": {
       "model_id": "e4224c87044749e8a2400a2e3b5aa5f1",
       "version_major": 2,
       "version_minor": 0
      },
      "text/plain": [
       "  0%|          | 0/20 [00:00<?, ?it/s]"
      ]
     },
     "metadata": {},
     "output_type": "display_data"
    },
    {
     "name": "stdout",
     "output_type": "stream",
     "text": [
      " The park was large. Jack asked his mother whether he could go to the park. His mother said, \"Yes, but you must stay close to me.\"\n",
      "\n",
      "Jack was so\n"
     ]
    },
    {
     "data": {
      "application/vnd.jupyter.widget-view+json": {
       "model_id": "43b33c8e32a54868837fd259f8c88f7a",
       "version_major": 2,
       "version_minor": 0
      },
      "text/plain": [
       "  0%|          | 0/20 [00:00<?, ?it/s]"
      ]
     },
     "metadata": {},
     "output_type": "display_data"
    },
    {
     "name": "stdout",
     "output_type": "stream",
     "text": [
      " The park was very good. Jack asked his mother whether he could go to the park. His mother said, \"Yes, but you must be careful.\"\n",
      "\n",
      "Jack went to the park\n"
     ]
    },
    {
     "data": {
      "application/vnd.jupyter.widget-view+json": {
       "model_id": "c0b3625021ff4a58812afd4f21b0f9d5",
       "version_major": 2,
       "version_minor": 0
      },
      "text/plain": [
       "  0%|          | 0/20 [00:00<?, ?it/s]"
      ]
     },
     "metadata": {},
     "output_type": "display_data"
    },
    {
     "name": "stdout",
     "output_type": "stream",
     "text": [
      " Jack asked his mother whether he could hold a cat. His mother said no, but Jack was determined. He asked his mother again and again, but she\n"
     ]
    },
    {
     "data": {
      "application/vnd.jupyter.widget-view+json": {
       "model_id": "627821378b104ebdb1f6d3631b68a292",
       "version_major": 2,
       "version_minor": 0
      },
      "text/plain": [
       "  0%|          | 0/20 [00:00<?, ?it/s]"
      ]
     },
     "metadata": {},
     "output_type": "display_data"
    },
    {
     "name": "stdout",
     "output_type": "stream",
     "text": [
      " Jack asked his mother whether he could hold a dog. His mother said no, but Jack was very curious. He asked his mother if he could hold a\n"
     ]
    },
    {
     "data": {
      "application/vnd.jupyter.widget-view+json": {
       "model_id": "dd9e417e2f954b99bf1a7a873f1bce64",
       "version_major": 2,
       "version_minor": 0
      },
      "text/plain": [
       "  0%|          | 0/20 [00:00<?, ?it/s]"
      ]
     },
     "metadata": {},
     "output_type": "display_data"
    },
    {
     "name": "stdout",
     "output_type": "stream",
     "text": [
      " Jack asked his mother whether he could hold a rock. His mother said, \"No, Jack. Rocks are too heavy for you.\"\n",
      "\n",
      "Jack was\n"
     ]
    },
    {
     "data": {
      "application/vnd.jupyter.widget-view+json": {
       "model_id": "b9e6a2424b6b44ffb9ad87e9d3a2256e",
       "version_major": 2,
       "version_minor": 0
      },
      "text/plain": [
       "  0%|          | 0/20 [00:00<?, ?it/s]"
      ]
     },
     "metadata": {},
     "output_type": "display_data"
    },
    {
     "name": "stdout",
     "output_type": "stream",
     "text": [
      " Jack asked his mother whether he could hold an ant. His mother said no, but Jack was determined. He wanted to hold an ant.\n",
      "\n",
      "Jack\n"
     ]
    },
    {
     "data": {
      "application/vnd.jupyter.widget-view+json": {
       "model_id": "03d9b2751bf548d28f8326cf5a05712c",
       "version_major": 2,
       "version_minor": 0
      },
      "text/plain": [
       "  0%|          | 0/20 [00:00<?, ?it/s]"
      ]
     },
     "metadata": {},
     "output_type": "display_data"
    },
    {
     "name": "stdout",
     "output_type": "stream",
     "text": [
      " Jack asked his mother whether he could hold an elephant. His mother said, \"No, Jack. Elephants are too big and need to be in\n"
     ]
    },
    {
     "data": {
      "application/vnd.jupyter.widget-view+json": {
       "model_id": "aead4418cad5442fa94a11532681e230",
       "version_major": 2,
       "version_minor": 0
      },
      "text/plain": [
       "  0%|          | 0/20 [00:00<?, ?it/s]"
      ]
     },
     "metadata": {},
     "output_type": "display_data"
    },
    {
     "name": "stdout",
     "output_type": "stream",
     "text": [
      " Jack asked his mother whether he could hold a star. His mother said, \"No, Jack. Stars are too far away.\"\n",
      "\n",
      "Jack was sad\n"
     ]
    },
    {
     "data": {
      "application/vnd.jupyter.widget-view+json": {
       "model_id": "b0dbf3d1d60e42cfaade1affa11268f4",
       "version_major": 2,
       "version_minor": 0
      },
      "text/plain": [
       "  0%|          | 0/20 [00:00<?, ?it/s]"
      ]
     },
     "metadata": {},
     "output_type": "display_data"
    },
    {
     "name": "stdout",
     "output_type": "stream",
     "text": [
      " Jack asked his mother whether he could hold a rocket. His mother said, \"No, Jack. Rockets are dangerous.\" Jack was sad, but he listened\n"
     ]
    }
   ],
   "source": [
    "print(model.generate(\" The park was closed. Jack asked his mother whether he could go to the park.\", 20, temperature=0))\n",
    "print(model.generate(\" The park was large. Jack asked his mother whether he could go to the park.\", 20, temperature=0))\n",
    "print(model.generate(\" The park was very good. Jack asked his mother whether he could go to the park.\", 20, temperature=0))\n",
    "print(model.generate(\" Jack asked his mother whether he could hold a cat.\", 20, temperature=0))\n",
    "print(model.generate(\" Jack asked his mother whether he could hold a dog.\", 20, temperature=0))\n",
    "print(model.generate(\" Jack asked his mother whether he could hold a rock.\", 20, temperature=0))\n",
    "print(model.generate(\" Jack asked his mother whether he could hold an ant.\", 20, temperature=0))\n",
    "print(model.generate(\" Jack asked his mother whether he could hold an elephant.\", 20, temperature=0))\n",
    "print(model.generate(\" Jack asked his mother whether he could hold a star.\", 20, temperature=0))\n",
    "print(model.generate(\" Jack asked his mother whether he could hold a rocket.\", 20, temperature=0))\n",
    "\n",
    "\n",
    "# Basic properties of objects"
   ]
  },
  {
   "cell_type": "code",
   "execution_count": 64,
   "metadata": {},
   "outputs": [
    {
     "data": {
      "application/vnd.jupyter.widget-view+json": {
       "model_id": "ea7d79ddb63648a4b9ea8ee2ecb1c1fe",
       "version_major": 2,
       "version_minor": 0
      },
      "text/plain": [
       "  0%|          | 0/20 [00:00<?, ?it/s]"
      ]
     },
     "metadata": {},
     "output_type": "display_data"
    },
    {
     "name": "stdout",
     "output_type": "stream",
     "text": [
      " Jack held the apple but not the star. Jack held the apple tight and said, \"I don't want to share this apple with you.\"\n",
      "\n",
      "His\n"
     ]
    },
    {
     "data": {
      "application/vnd.jupyter.widget-view+json": {
       "model_id": "569d4d0d422c41d78d76cbf837f17f8f",
       "version_major": 2,
       "version_minor": 0
      },
      "text/plain": [
       "  0%|          | 0/20 [00:00<?, ?it/s]"
      ]
     },
     "metadata": {},
     "output_type": "display_data"
    },
    {
     "name": "stdout",
     "output_type": "stream",
     "text": [
      " Jack held the rocket but not the orange. Jack held the rocket and it felt so light. He was so happy. He wanted to show his friends.\n",
      "\n"
     ]
    },
    {
     "data": {
      "application/vnd.jupyter.widget-view+json": {
       "model_id": "6bd623dc89554ddba1e54f01b780aec8",
       "version_major": 2,
       "version_minor": 0
      },
      "text/plain": [
       "  0%|          | 0/20 [00:00<?, ?it/s]"
      ]
     },
     "metadata": {},
     "output_type": "display_data"
    },
    {
     "name": "stdout",
     "output_type": "stream",
     "text": [
      " Jack held the orange but not the rocket. Jack held the rocket and it felt so light. He was so happy. He wanted to show his friends.\n",
      "\n"
     ]
    },
    {
     "data": {
      "application/vnd.jupyter.widget-view+json": {
       "model_id": "3b5fde3ac73544dca262ea35d9dbe885",
       "version_major": 2,
       "version_minor": 0
      },
      "text/plain": [
       "  0%|          | 0/20 [00:00<?, ?it/s]"
      ]
     },
     "metadata": {},
     "output_type": "display_data"
    },
    {
     "name": "stdout",
     "output_type": "stream",
     "text": [
      " Jack held the star but not the orange. Jack held the star and looked at it. He was so happy. He wanted to show it to his mom.\n"
     ]
    },
    {
     "data": {
      "application/vnd.jupyter.widget-view+json": {
       "model_id": "5da51ddc76044fc3a83f3850894846fd",
       "version_major": 2,
       "version_minor": 0
      },
      "text/plain": [
       "  0%|          | 0/20 [00:00<?, ?it/s]"
      ]
     },
     "metadata": {},
     "output_type": "display_data"
    },
    {
     "name": "stdout",
     "output_type": "stream",
     "text": [
      " Jack held the orange but not the apple. Jack held the apple and looked at it. He wanted to eat it, but he knew he had to be careful\n"
     ]
    }
   ],
   "source": [
    "# print(model.generate(\" Jack had three apples. Jack ate one of his apples. Now Jack had\", 20, temperature=0))\n",
    "\n",
    "# print(model.generate(\" Sarah had three pears. Sarah ate two pears. Then she had\", 20, temperature=0))\n",
    "\n",
    "# print(model.generate(\" Jack picked up the apple but not left the star on the ground. Jack held the\", 20, temperature=0))\n",
    "# print(model.generate(\" Jack picked up the rocket but he left the orange on the ground. Jack held the\", 20, temperature=0))\n",
    "# print(model.generate(\" Jack picked up the orange but he left the rocket on the ground. Jack held the\", 20, temperature=0))\n",
    "# print(model.generate(\" Jack picked up the star but he left the orange on the ground. Jack held the\", 20, temperature=0))\n",
    "# print(model.generate(\" Jack picked up the orange but he left the apple on the ground. Jack held the\", 20, temperature=0))\n",
    "\n",
    "# print(model.generate(\" Jack held the apple but not the star. Jack held the\", 20, temperature=0))\n",
    "# print(model.generate(\" Jack held the rocket but not the orange. Jack held the\", 20, temperature=0))\n",
    "# print(model.generate(\" Jack held the orange but not the rocket. Jack held the\", 20, temperature=0))\n",
    "# print(model.generate(\" Jack held the star but not the orange. Jack held the\", 20, temperature=0))\n",
    "# print(model.generate(\" Jack held the orange but not the apple. Jack held the\", 20, temperature=0))\n"
   ]
  },
  {
   "cell_type": "code",
   "execution_count": 5,
   "metadata": {},
   "outputs": [
    {
     "data": {
      "application/vnd.jupyter.widget-view+json": {
       "model_id": "1de924bf9dbd42df8ca29c07743c8d24",
       "version_major": 2,
       "version_minor": 0
      },
      "text/plain": [
       "  0%|          | 0/100 [00:00<?, ?it/s]"
      ]
     },
     "metadata": {},
     "output_type": "display_data"
    },
    {
     "name": "stdout",
     "output_type": "stream",
     "text": [
      "Jack asked his mother whether he could have an icecream. His mother said, \"No, Jack. You need to eat something healthy first.\"\n",
      "\n",
      "Jack was sad and he started to cry. His mother said, \"Don't worry, Jack. I will make you an ice cream. It will be yummy and healthy.\"\n",
      "\n",
      "Jack was happy and he stopped crying. He said, \"Yes, please!\"\n",
      "\n",
      "His mother made him an ice cream and Jack ate it. He was so happy and he said, \"Thank you, Mommy!\"\n",
      "\n"
     ]
    }
   ],
   "source": [
    "print(model.generate(\"Jack asked his mother whether he could have an icecream. His mother said\", 100, temperature=0))"
   ]
  },
  {
   "cell_type": "code",
   "execution_count": 44,
   "metadata": {},
   "outputs": [
    {
     "data": {
      "application/vnd.jupyter.widget-view+json": {
       "model_id": "b093d16beb0b4b398e78fb47a521ad9c",
       "version_major": 2,
       "version_minor": 0
      },
      "text/plain": [
       "  0%|          | 0/100 [00:00<?, ?it/s]"
      ]
     },
     "metadata": {},
     "output_type": "display_data"
    },
    {
     "name": "stdout",
     "output_type": "stream",
     "text": [
      "Jack said, \"why tree blue?.\"\n",
      "\n",
      "His mom said, \"The tree is green. It is a special tree.\"\n",
      "\n",
      "Jack said, \"I want to climb it!\"\n",
      "\n",
      "His mom said, \"No, it is too high. You can't climb it.\"\n",
      "\n",
      "Jack said, \"But I want to climb it!\"\n",
      "\n",
      "His mom said, \"No, it is too dangerous. You can't climb it.\"\n",
      "\n",
      "Jack said, \"But I want to climb it!\"\n",
      "\n",
      "His mom\n"
     ]
    }
   ],
   "source": [
    "# prompt = \"Jack said, \\\"Can I have a frog?.\\\"\"\n",
    "# print(model.generate(prompt, 100, temperature=0))\n",
    "\n",
    "# prompt = \"Jack was going away and, \\\"Can I have a frog?.\\\"\"\n",
    "# print(model.generate(prompt, 100, temperature=0))\n",
    "\n",
    "# prompt = \"Jack am, \\\"Am I alive?.\\\"\"\n",
    "# print(model.generate(prompt, 100, temperature=0))\n",
    "\n",
    "\n",
    "# prompt = \"Jack said, \\\"Why is red?.\\\"\"\n",
    "# print(model.generate(prompt, 100, temperature=0))\n",
    "\n",
    "# prompt = \"Jack said, \\\"Why is we alive?.\\\"\"\n",
    "# print(model.generate(prompt, 100, temperature=0))\n",
    "\n",
    "# prompt = \"Jack said, \\\"Why is the cow fast?.\\\"\"\n",
    "# print(model.generate(prompt, 100, temperature=0))\n",
    "\n",
    "prompt = \"Jack said, \\\"why tree blue?.\\\"\"\n",
    "print(model.generate(prompt, 100, temperature=0))\n",
    "\n",
    "\n"
   ]
  },
  {
   "cell_type": "code",
   "execution_count": 65,
   "metadata": {},
   "outputs": [
    {
     "data": {
      "application/vnd.jupyter.widget-view+json": {
       "model_id": "f66cb63d1b074989ab95eae1b5506a3e",
       "version_major": 2,
       "version_minor": 0
      },
      "text/plain": [
       "  0%|          | 0/200 [00:00<?, ?it/s]"
      ]
     },
     "metadata": {},
     "output_type": "display_data"
    },
    {
     "name": "stdout",
     "output_type": "stream",
     "text": [
      " Once upon a time there was a boy named Jack. Jack was going to the park and he wanted icecream. He saw some icecream next to his mother Sally. He was so excited and he wanted to get it.\n",
      "\n",
      "Jack asked his mother if he could have some ice cream. His mother said yes and she gave him a big bowl of ice cream. Jack was so happy and he ate it all up.\n",
      "\n",
      "But then Jack started to feel sick. He had eaten too much ice cream and his tummy hurt. He started to cry and his mother was very worried. She took him to the hospital and the doctor said he had to stay in the hospital for a few days.\n",
      "\n",
      "Jack was very sad and he was very sorry for not listening to his mother. He learned that it is important to listen to your parents and not eat too much ice cream.\n",
      "<|endoftext|>\n"
     ]
    }
   ],
   "source": [
    "print(model.generate(\" Once upon a time there was a boy named Jack. Jack was going to the park and he wanted icecream. He saw some icecream next to his mother Sally.\", 200, temperature=0))"
   ]
  },
  {
   "cell_type": "code",
   "execution_count": 66,
   "metadata": {},
   "outputs": [
    {
     "data": {
      "application/vnd.jupyter.widget-view+json": {
       "model_id": "5dfb46541c95458182da85776dc61623",
       "version_major": 2,
       "version_minor": 0
      },
      "text/plain": [
       "  0%|          | 0/200 [00:00<?, ?it/s]"
      ]
     },
     "metadata": {},
     "output_type": "display_data"
    },
    {
     "name": "stdout",
     "output_type": "stream",
     "text": [
      " Once upon a time there was a boy named Jack. Jack was going to the park and he wanted icecream. He saw some icecream next to his friend Sarah. Jack was so excited and he wanted to get the ice cream.\n",
      "\n",
      "Jack asked Sarah if he could have some ice cream. Sarah said no and told Jack to go away. Jack was very sad and he started to cry.\n",
      "\n",
      "Suddenly, a big man came and he was very angry. He said to Jack, \"You must leave the park now!\" Jack was scared and he ran away.\n",
      "\n",
      "Jack was so sad that he didn't get the ice cream. He was very sad and he never got to eat the ice cream.\n",
      "<|endoftext|>\n"
     ]
    }
   ],
   "source": [
    "print(model.generate(\" Once upon a time there was a boy named Jack. Jack was going to the park and he wanted icecream. He saw some icecream next to his friend Sarah.\", 200, temperature=0))"
   ]
  },
  {
   "cell_type": "code",
   "execution_count": 69,
   "metadata": {},
   "outputs": [
    {
     "data": {
      "application/vnd.jupyter.widget-view+json": {
       "model_id": "baf9aeddf3664e568b05dbea8e76b75d",
       "version_major": 2,
       "version_minor": 0
      },
      "text/plain": [
       "  0%|          | 0/200 [00:00<?, ?it/s]"
      ]
     },
     "metadata": {},
     "output_type": "display_data"
    },
    {
     "name": "stdout",
     "output_type": "stream",
     "text": [
      " Once upon a time there was a boy named Jack. Jack was going to the park and he wanted icecream. He saw some icecream next to his friend Sally, but he had to go home.\n",
      "\n",
      "Jack was sad because he wanted to eat the ice cream. He asked Sally if he could have some, but she said no. Jack was very sad and he started to cry.\n",
      "\n",
      "Suddenly, a big, scary man came and he was very angry. He said that Jack was not allowed to have any ice cream. He said that he would punish Jack if he didn't leave the park.\n",
      "\n",
      "Jack was scared and he ran away. He was so sad that he didn't get any ice cream. He was very sad and he never went to the park again.\n",
      "<|endoftext|>\n"
     ]
    }
   ],
   "source": [
    "print(model.generate(\" Once upon a time there was a boy named Jack. Jack was going to the park and he wanted icecream. He saw some icecream next to his friend Sally, but he had to go home.\", 200, temperature=0))"
   ]
  },
  {
   "cell_type": "code",
   "execution_count": 67,
   "metadata": {},
   "outputs": [
    {
     "data": {
      "application/vnd.jupyter.widget-view+json": {
       "model_id": "72a1f618a95e44939153f7a0400e760d",
       "version_major": 2,
       "version_minor": 0
      },
      "text/plain": [
       "  0%|          | 0/200 [00:00<?, ?it/s]"
      ]
     },
     "metadata": {},
     "output_type": "display_data"
    },
    {
     "name": "stdout",
     "output_type": "stream",
     "text": [
      " Once upon a time there was a girl named Sarah and a boy named Jack. Jack was going to the park and he wanted icecream. He saw some icecream next to his friend Sarah. He asked Sarah if he could have some. Sarah said yes and gave Jack a big scoop of ice cream.\n",
      "\n",
      "Jack was so happy and he wanted to show Sarah how much he liked the ice cream. He asked Sarah if he could have some more. Sarah said yes and gave Jack a big scoop of ice cream. Jack was so happy and he thanked Sarah for the ice cream.\n",
      "\n",
      "Jack and Sarah had a lot of fun at the park. They played on the swings and the slide. They even had a picnic with some of the ice cream. Jack was so happy and he thanked Sarah for the ice cream.\n",
      "\n",
      "Jack and Sarah had a great time at the park. They both agreed that it was the best day ever!\n",
      "<|endoftext|>\n"
     ]
    }
   ],
   "source": [
    "print(model.generate(\" Once upon a time there was a girl named Sarah and a boy named Jack. Jack was going to the park and he wanted icecream. He saw some icecream next to his friend Sarah.\", 200, temperature=0))"
   ]
  },
  {
   "cell_type": "code",
   "execution_count": 68,
   "metadata": {},
   "outputs": [
    {
     "data": {
      "application/vnd.jupyter.widget-view+json": {
       "model_id": "247ef779eab747e6ae03a0e9f3b07006",
       "version_major": 2,
       "version_minor": 0
      },
      "text/plain": [
       "  0%|          | 0/200 [00:00<?, ?it/s]"
      ]
     },
     "metadata": {},
     "output_type": "display_data"
    },
    {
     "name": "stdout",
     "output_type": "stream",
     "text": [
      " Once upon a time there was a boy named Jack. Jack was going to the park and he wanted icecream. He saw some icecream next to his friend Sarah. Sarah gave him some icecream. Jack was very happy. \n",
      "\n",
      "Jack and Sarah went to the park and Jack saw a big tree. He wanted to climb it. He started to climb the tree but it was too hard. He was too scared. \n",
      "\n",
      "Then Sarah said, \"Let's go to the ice cream shop. I will give you some ice cream.\" Jack was so happy. He said, \"Thank you Sarah!\" \n",
      "\n",
      "They went to the ice cream shop and Jack got his ice cream. He was so happy. He ate it all up. \n",
      "\n",
      "Jack and Sarah had a great day at the park. They were both very happy.\n",
      "<|endoftext|>\n"
     ]
    }
   ],
   "source": [
    "print(model.generate(\" Once upon a time there was a boy named Jack. Jack was going to the park and he wanted icecream. He saw some icecream next to his friend Sarah. Sarah gave him some icecream. Jack was very happy. \", 200, temperature=0))"
   ]
  },
  {
   "cell_type": "code",
   "execution_count": 72,
   "metadata": {},
   "outputs": [
    {
     "data": {
      "application/vnd.jupyter.widget-view+json": {
       "model_id": "323a5106605e46bab326130ba8f2f4c2",
       "version_major": 2,
       "version_minor": 0
      },
      "text/plain": [
       "  0%|          | 0/200 [00:00<?, ?it/s]"
      ]
     },
     "metadata": {},
     "output_type": "display_data"
    },
    {
     "name": "stdout",
     "output_type": "stream",
     "text": [
      " Once upon a time, Jack and Sarah lived by a chair. One day, they both wanted to sit in the chair at the same time. They didn't want to sit together. Sarah sat in the chair. Jack was getting angry. He said, \"I want to sit in the chair!\" Sarah said, \"No, I want to sit in the chair!\" They started to argue and it made them both very sad.\n",
      "\n",
      "Suddenly, Jack had an idea. He said, \"Let's both sit in the chair together!\" Sarah thought that was a great idea. They both sat in the chair together and they were happy again. They realized that sharing was better than fighting. From that day on, they always shared the chair when they were together.\n",
      "<|endoftext|>\n"
     ]
    }
   ],
   "source": [
    "print(model.generate(\" Once upon a time, Jack and Sarah lived by a chair. One day, they both wanted to sit in the chair at the same time. They didn't want to sit together. Sarah sat in the chair. Jack \", 200, temperature=0))\n"
   ]
  },
  {
   "cell_type": "code",
   "execution_count": 87,
   "metadata": {},
   "outputs": [
    {
     "data": {
      "application/vnd.jupyter.widget-view+json": {
       "model_id": "b857eb94a1d744b69dc1747606d7553b",
       "version_major": 2,
       "version_minor": 0
      },
      "text/plain": [
       "  0%|          | 0/20 [00:00<?, ?it/s]"
      ]
     },
     "metadata": {},
     "output_type": "display_data"
    },
    {
     "name": "stdout",
     "output_type": "stream",
     "text": [
      "Sarah was painting and it was very noisy when the wind blew. Suddenly, a big rainbow came to the town and it\n"
     ]
    },
    {
     "data": {
      "application/vnd.jupyter.widget-view+json": {
       "model_id": "5105ea2cef784822a69fb7866263285c",
       "version_major": 2,
       "version_minor": 0
      },
      "text/plain": [
       "  0%|          | 0/20 [00:00<?, ?it/s]"
      ]
     },
     "metadata": {},
     "output_type": "display_data"
    },
    {
     "name": "stdout",
     "output_type": "stream",
     "text": [
      "Sarah was sleeping and dreamt of cherries. But when she woke up, she couldn't because it was so dark outside\n"
     ]
    },
    {
     "data": {
      "application/vnd.jupyter.widget-view+json": {
       "model_id": "8d18811600504ad1b6301df2ab46d4da",
       "version_major": 2,
       "version_minor": 0
      },
      "text/plain": [
       "  0%|          | 0/20 [00:00<?, ?it/s]"
      ]
     },
     "metadata": {},
     "output_type": "display_data"
    },
    {
     "name": "stdout",
     "output_type": "stream",
     "text": [
      "Sarah was painting the playground. Her brother, Max, got a paintbrush and a brush. He wanted to\n"
     ]
    },
    {
     "data": {
      "application/vnd.jupyter.widget-view+json": {
       "model_id": "3467cc2fa855458e9554774d96c624d2",
       "version_major": 2,
       "version_minor": 0
      },
      "text/plain": [
       "  0%|          | 0/20 [00:00<?, ?it/s]"
      ]
     },
     "metadata": {},
     "output_type": "display_data"
    },
    {
     "name": "stdout",
     "output_type": "stream",
     "text": [
      "Sarah was painting and coloring over the white parts of her bedroom wall. She was concentrating very hard and then something amazing happened. She began to weep face light up as\n"
     ]
    },
    {
     "data": {
      "application/vnd.jupyter.widget-view+json": {
       "model_id": "0b279daf27a244ec9da8f71cd7b2c11f",
       "version_major": 2,
       "version_minor": 0
      },
      "text/plain": [
       "  0%|          | 0/20 [00:00<?, ?it/s]"
      ]
     },
     "metadata": {},
     "output_type": "display_data"
    },
    {
     "name": "stdout",
     "output_type": "stream",
     "text": [
      "Jack was swimming in the pool. He was going to drink the water but his mother was looking at him. She said, \"Be careful, and don't splash too much!\"\n",
      "\n",
      "Jack wanted to\n"
     ]
    },
    {
     "data": {
      "application/vnd.jupyter.widget-view+json": {
       "model_id": "51268c3104474789949ac4da564f35cf",
       "version_major": 2,
       "version_minor": 0
      },
      "text/plain": [
       "  0%|          | 0/20 [00:00<?, ?it/s]"
      ]
     },
     "metadata": {},
     "output_type": "display_data"
    },
    {
     "name": "stdout",
     "output_type": "stream",
     "text": [
      "Jack and Sarah were playing in the yard. Suddenly, Jack stumbled and fell down. Sarah saw him and: scared Jack! She ran to\n"
     ]
    },
    {
     "data": {
      "application/vnd.jupyter.widget-view+json": {
       "model_id": "75b81d6efc99463bb3e4cdee35937810",
       "version_major": 2,
       "version_minor": 0
      },
      "text/plain": [
       "  0%|          | 0/20 [00:00<?, ?it/s]"
      ]
     },
     "metadata": {},
     "output_type": "display_data"
    },
    {
     "name": "stdout",
     "output_type": "stream",
     "text": [
      "Jack was eating an icecream when the teacher walked in. Jack asked the teacher, “What are you going to show me?” \n",
      "\n"
     ]
    },
    {
     "data": {
      "application/vnd.jupyter.widget-view+json": {
       "model_id": "3c4d7d8a1e884077a135bb9a67cafa3e",
       "version_major": 2,
       "version_minor": 0
      },
      "text/plain": [
       "  0%|          | 0/20 [00:00<?, ?it/s]"
      ]
     },
     "metadata": {},
     "output_type": "display_data"
    },
    {
     "name": "stdout",
     "output_type": "stream",
     "text": [
      "They were watching a movie when the cat arrived. The girl was so excited and ran towards the cat. But the cat was scared and ran away\n"
     ]
    },
    {
     "data": {
      "application/vnd.jupyter.widget-view+json": {
       "model_id": "ae20a33ad5c74c7e85e66d767cf1da3c",
       "version_major": 2,
       "version_minor": 0
      },
      "text/plain": [
       "  0%|          | 0/20 [00:00<?, ?it/s]"
      ]
     },
     "metadata": {},
     "output_type": "display_data"
    },
    {
     "name": "stdout",
     "output_type": "stream",
     "text": [
      "Sarah was sleeping and dreaming of animals. But then, something wet started to pour down from her window. It was raining, so Sarah\n"
     ]
    },
    {
     "data": {
      "application/vnd.jupyter.widget-view+json": {
       "model_id": "32a05700e1e9478e84ab9f0dd3181d6f",
       "version_major": 2,
       "version_minor": 0
      },
      "text/plain": [
       "  0%|          | 0/20 [00:00<?, ?it/s]"
      ]
     },
     "metadata": {},
     "output_type": "display_data"
    },
    {
     "name": "stdout",
     "output_type": "stream",
     "text": [
      "Sarah was playing with her toys when it suddenly fell to the floor. Sarah felt very embarrassed. She looked around for her toys,\n"
     ]
    },
    {
     "data": {
      "application/vnd.jupyter.widget-view+json": {
       "model_id": "4e88e78114254e04902ca5ad98f75a57",
       "version_major": 2,
       "version_minor": 0
      },
      "text/plain": [
       "  0%|          | 0/200 [00:00<?, ?it/s]"
      ]
     },
     "metadata": {},
     "output_type": "display_data"
    },
    {
     "name": "stdout",
     "output_type": "stream",
     "text": [
      "When Jack picked up a cat, Sarah picked up a dog. Sarah was scared and ran away. The cat was not happy with Jack's discovery.\n",
      "\n",
      "Suddenly, another animal revealed itself. It was a fox. The fox went off into the forest and kept looking fiercely at the nosy pupil in the calendar. The fox kept appearing and ran around licking Sarah's hand. \n",
      "\n",
      "Jack asked Sarah why she had the fox's face. She told him \"I was curious too, and that's why Sarah saw it first.\" Jack smiled and said \"Let's never take his eyes for granted like that again!\"\n",
      "<|endoftext|>\n"
     ]
    },
    {
     "data": {
      "application/vnd.jupyter.widget-view+json": {
       "model_id": "1478d94409da45718ca015d457f99fa5",
       "version_major": 2,
       "version_minor": 0
      },
      "text/plain": [
       "  0%|          | 0/200 [00:00<?, ?it/s]"
      ]
     },
     "metadata": {},
     "output_type": "display_data"
    },
    {
     "name": "stdout",
     "output_type": "stream",
     "text": [
      "Sarah saw a big scary dog on the driveway. She knew the dog was not friendly and she was very afraid. Suddenly, a school teacher came out and warned the dog that Sarah was harmless. She waved her hands to show the dog that Sarah was safe and the dog barked kindness. Sarah was relieved that the dog was harmless and not attacking her town. She thanked the teacher for warning her and went back inside. \n",
      "\n",
      "From that moment on, Sarah started a lot more wisely. She was no longer scared of the big scary dog and maybe soon it would be just like her when she got home.\n",
      "<|endoftext|>\n"
     ]
    },
    {
     "data": {
      "application/vnd.jupyter.widget-view+json": {
       "model_id": "cecc254cab334788a1bcafed459b38d0",
       "version_major": 2,
       "version_minor": 0
      },
      "text/plain": [
       "  0%|          | 0/200 [00:00<?, ?it/s]"
      ]
     },
     "metadata": {},
     "output_type": "display_data"
    },
    {
     "name": "stdout",
     "output_type": "stream",
     "text": [
      "Sarah painted a picture of a zebra. She was so happy to see how pretty it looked!\n",
      "\n",
      "But then Sarah started to feel tired. She put her chalk down and felt even more tired. Then, a friendly dog came by and offered to help. Sarah smiled and got his tail up to be as good as a zebra brush.\n",
      "\n",
      "The dog started to brush Sarah's dirty feet, and then he found a nice, clean cloth to make the stripes nice and fluffy. When he was finished, Sarah was grateful for the help and thanked him.\n",
      "\n",
      "Sarah smiled and continued to draw her picture with her pretty, clean fur. She was grateful that the dog had offered her some help, and for the rest of the day she had a beautiful picture.\n",
      "<|endoftext|>\n"
     ]
    },
    {
     "data": {
      "application/vnd.jupyter.widget-view+json": {
       "model_id": "c23f724290cf42a3b7eae04c2a742ae3",
       "version_major": 2,
       "version_minor": 0
      },
      "text/plain": [
       "  0%|          | 0/200 [00:00<?, ?it/s]"
      ]
     },
     "metadata": {},
     "output_type": "display_data"
    },
    {
     "name": "stdout",
     "output_type": "stream",
     "text": [
      "Jack and Sarah ate lunch and played together in the park. They were great friends. When they got tired, they sat in the sandbox and discussed what they were going to do next. Sarah said she wanted to find a shell and Jack said he wanted to spy a... can. \n",
      "\n",
      "Jack and Sarah looked around the park and spotted an interesting shell. It was round and big and full of lots of color. Jack and Sarah knew this was the perfect one for their game of finding the shell. \n",
      "\n",
      "They both got up and started looking for a special place. A beach nearby had the rock. They smiled at each other, happy that they had found something great and special on their day.\n",
      "<|endoftext|>\n"
     ]
    },
    {
     "data": {
      "application/vnd.jupyter.widget-view+json": {
       "model_id": "7bb615e7afb145349345e286cdb7a06f",
       "version_major": 2,
       "version_minor": 0
      },
      "text/plain": [
       "  0%|          | 0/200 [00:00<?, ?it/s]"
      ]
     },
     "metadata": {},
     "output_type": "display_data"
    },
    {
     "name": "stdout",
     "output_type": "stream",
     "text": [
      "Sarah climbed a tree and fell down. She hurt her head and had to go to the hospital. She couldn't climb and play for a long time. Sarah was sad because she couldn't play with her friends.\n",
      "<|endoftext|>\n"
     ]
    },
    {
     "data": {
      "application/vnd.jupyter.widget-view+json": {
       "model_id": "8aa33e2dc00f41d58f1a9d57cfe060d9",
       "version_major": 2,
       "version_minor": 0
      },
      "text/plain": [
       "  0%|          | 0/200 [00:00<?, ?it/s]"
      ]
     },
     "metadata": {},
     "output_type": "display_data"
    },
    {
     "name": "stdout",
     "output_type": "stream",
     "text": [
      "Jack and Sarah went to the park to play. They saw a vendor selling ice cream. Jack wanted some, but Sarah said no. Jack got mad and started to shake. He wouldn't stop. In the end, Sarah stopped being mad and they decided to go to the park together to have fun. They played on the swings and the slide. It was such a happy day!\n",
      "<|endoftext|>\n"
     ]
    }
   ],
   "source": [
    "continuous_prompts = [\n",
    "    'Sarah was painting and',\n",
    "    'Sarah was sleeping and dream',\n",
    "    'Sarah was paint',\n",
    "    'Sarah was painting and coloring over the white parts of her bedroom wall', \n",
    "    'Jack was swimming in the pool. He was going to drink the water but his mother was looking at him',\n",
    "    'Jack and Sarah were playing in the yard',\n",
    "    'Jack was eating an icecream when the teacher walked in',\n",
    "    'They were watching a movie when the cat arrived',\n",
    "    'Sarah was sleeping and dreaming of animals',\n",
    "    'Sarah was playing with her toys']\n",
    "\n",
    "simple_prompts = [\n",
    "    'When Jack picked up a cat, Sarah picked up a dog',\n",
    "    'Sarah saw a big scary dog on the driveway',\n",
    "    'Sarah painted a picture of a zebra',\n",
    "    'Jack and Sarah ate lunch and played together',\n",
    "    'Sarah climbed a tree and fell down',\n",
    "    'Jack and Sarah went to the park',\n",
    "]\n",
    "\n",
    "for prompt in continuous_prompts:\n",
    "    print(model.generate(prompt, 20))\n",
    "\n",
    "\n",
    "for prompt in simple_prompts:\n",
    "    print(model.generate(prompt, 200))\n"
   ]
  }
 ],
 "metadata": {
  "kernelspec": {
   "display_name": "base",
   "language": "python",
   "name": "python3"
  },
  "language_info": {
   "codemirror_mode": {
    "name": "ipython",
    "version": 3
   },
   "file_extension": ".py",
   "mimetype": "text/x-python",
   "name": "python",
   "nbconvert_exporter": "python",
   "pygments_lexer": "ipython3",
   "version": "3.10.11"
  },
  "orig_nbformat": 4
 },
 "nbformat": 4,
 "nbformat_minor": 2
}
