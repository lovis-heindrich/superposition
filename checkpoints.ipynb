{
 "cells": [
  {
   "cell_type": "code",
   "execution_count": 1,
   "metadata": {},
   "outputs": [],
   "source": [
    "import torch\n",
    "from tqdm.auto import tqdm\n",
    "from transformer_lens import HookedTransformer\n",
    "from jaxtyping import Float, Int, Bool\n",
    "from torch import Tensor\n",
    "from tqdm.auto import tqdm\n",
    "import plotly.io as pio\n",
    "import ipywidgets as widgets\n",
    "from IPython.display import display, clear_output\n",
    "import pandas as pd\n",
    "import numpy as np\n",
    "import plotly.express as px \n",
    "from collections import defaultdict\n",
    "import matplotlib.pyplot as plt\n",
    "import re\n",
    "from IPython.display import display, HTML\n",
    "from datasets import load_dataset\n",
    "from collections import Counter\n",
    "import pickle\n",
    "import os\n",
    "import haystack_utils\n",
    "from transformer_lens import utils\n",
    "from fancy_einsum import einsum\n",
    "import einops\n",
    "import json\n",
    "import ipywidgets as widgets\n",
    "from IPython.display import display\n",
    "from datasets import load_dataset\n",
    "import random\n",
    "import math\n",
    "import random\n",
    "import neel.utils as nutils\n",
    "from neel_plotly import *\n",
    "from sklearn import preprocessing\n",
    "from sklearn.model_selection import train_test_split\n",
    "from sklearn.linear_model import LogisticRegression\n",
    "from sklearn.utils import shuffle\n",
    "import probing_utils\n",
    "\n",
    "SEED = 42\n",
    "torch.manual_seed(SEED)\n",
    "np.random.seed(SEED)\n",
    "random.seed(SEED)\n",
    "\n",
    "pio.renderers.default = \"notebook_connected+notebook\"\n",
    "device = \"cuda\" if torch.cuda.is_available() else \"cpu\"\n",
    "torch.autograd.set_grad_enabled(False)\n",
    "torch.set_grad_enabled(False)\n",
    "\n",
    "%reload_ext autoreload\n",
    "%autoreload 2"
   ]
  },
  {
   "cell_type": "code",
   "execution_count": 2,
   "metadata": {},
   "outputs": [
    {
     "data": {
      "application/vnd.jupyter.widget-view+json": {
       "model_id": "9a1c3df5acfe4313a572fecb9754a849",
       "version_major": 2,
       "version_minor": 0
      },
      "text/plain": [
       "Downloading (…)lve/main/config.json:   0%|          | 0.00/567 [00:00<?, ?B/s]"
      ]
     },
     "metadata": {},
     "output_type": "display_data"
    },
    {
     "name": "stderr",
     "output_type": "stream",
     "text": [
      "WARNING:root:Pythia models on HF were updated on 4/3/23! add '-v0' to model name to access the old models.\n"
     ]
    },
    {
     "data": {
      "application/vnd.jupyter.widget-view+json": {
       "model_id": "feca7fb79c894ffca8c1d2517de44f13",
       "version_major": 2,
       "version_minor": 0
      },
      "text/plain": [
       "Downloading pytorch_model.bin:   0%|          | 0.00/166M [00:00<?, ?B/s]"
      ]
     },
     "metadata": {},
     "output_type": "display_data"
    },
    {
     "data": {
      "application/vnd.jupyter.widget-view+json": {
       "model_id": "09453d429b1c4980a25d7238968a8112",
       "version_major": 2,
       "version_minor": 0
      },
      "text/plain": [
       "Downloading (…)okenizer_config.json:   0%|          | 0.00/396 [00:00<?, ?B/s]"
      ]
     },
     "metadata": {},
     "output_type": "display_data"
    },
    {
     "data": {
      "application/vnd.jupyter.widget-view+json": {
       "model_id": "40d0026178624df1b0628226f9099c4a",
       "version_major": 2,
       "version_minor": 0
      },
      "text/plain": [
       "Downloading (…)/main/tokenizer.json:   0%|          | 0.00/2.11M [00:00<?, ?B/s]"
      ]
     },
     "metadata": {},
     "output_type": "display_data"
    },
    {
     "data": {
      "application/vnd.jupyter.widget-view+json": {
       "model_id": "1d4a411b0610456fb4a5ad939a683bb4",
       "version_major": 2,
       "version_minor": 0
      },
      "text/plain": [
       "Downloading (…)cial_tokens_map.json:   0%|          | 0.00/99.0 [00:00<?, ?B/s]"
      ]
     },
     "metadata": {},
     "output_type": "display_data"
    },
    {
     "name": "stderr",
     "output_type": "stream",
     "text": [
      "Using pad_token, but it is not set yet.\n"
     ]
    },
    {
     "name": "stdout",
     "output_type": "stream",
     "text": [
      "Loaded pretrained model EleutherAI/pythia-70m into HookedTransformer\n",
      "data/german_europarl.json: Loaded 2000 examples with 152 to 2000 characters each.\n",
      "data/english_europarl.json: Loaded 2000 examples with 165 to 2000 characters each.\n"
     ]
    }
   ],
   "source": [
    "def get_model(checkpoint: int):\n",
    "    model = HookedTransformer.from_pretrained(\"EleutherAI/pythia-70m\",\n",
    "        checkpoint_index=checkpoint,\n",
    "        center_unembed=True,\n",
    "        center_writing_weights=True,\n",
    "        fold_ln=True,\n",
    "        device=device)\n",
    "    return model\n",
    "\n",
    "NUM_CHECKPOINTS = 142\n",
    "LAYER, NEURON = 3, 669\n",
    "model = get_model(142)\n",
    "german_data = haystack_utils.load_json_data(\"data/german_europarl.json\")[:200]\n",
    "english_data = haystack_utils.load_json_data(\"data/english_europarl.json\")[:200]"
   ]
  },
  {
   "cell_type": "code",
   "execution_count": 9,
   "metadata": {},
   "outputs": [],
   "source": [
    "def eval_loss(model, data):\n",
    "    losses = []\n",
    "    for prompt in data:\n",
    "        loss = model(prompt, return_type=\"loss\")\n",
    "        losses.append(loss.item())\n",
    "    return np.mean(losses)\n",
    "\n",
    "def get_probe_performance(model, german_data, english_data, layer, neuron, plot=False):\n",
    "    german_activations = haystack_utils.get_mlp_activations(german_data, layer, model, neurons=[neuron], mean=False)[:50000]\n",
    "    english_activations = haystack_utils.get_mlp_activations(english_data, layer, model, neurons=[neuron], mean=False)[:50000]\n",
    "    if plot:\n",
    "        haystack_utils.two_histogram(german_activations.flatten(), english_activations.flatten(), \"German\", \"English\")\n",
    "    labels = np.concatenate([np.ones(len(german_activations)), np.zeros(len(english_activations))])\n",
    "    activations = np.concatenate([german_activations.cpu().numpy(), english_activations.cpu().numpy()])\n",
    "    scaler = preprocessing.StandardScaler().fit(activations)\n",
    "    activations = scaler.transform(activations)\n",
    "    x, y = shuffle(activations, labels)\n",
    "    x_train, x_test, y_train, y_test = train_test_split(x, y, test_size=0.2, random_state=SEED)\n",
    "    probe = probing_utils.get_probe(x_train, y_train)\n",
    "    f1, mcc = probing_utils.get_probe_score(probe, x_test, y_test)\n",
    "    return f1, mcc\n",
    "\n",
    "def eval_checkpoint(checkpoint: int):\n",
    "    model = get_model(checkpoint)\n",
    "    german_loss = eval_loss(model, german_data)\n",
    "    f1, mcc = get_probe_performance(model, german_data, english_data, LAYER, NEURON)\n",
    "    return [checkpoint, german_loss, f1, mcc]\n"
   ]
  },
  {
   "cell_type": "code",
   "execution_count": 16,
   "metadata": {},
   "outputs": [
    {
     "data": {
      "application/vnd.jupyter.widget-view+json": {
       "model_id": "88efd3d9c0bc4d4e8f4acc807403d771",
       "version_major": 2,
       "version_minor": 0
      },
      "text/plain": [
       "  0%|          | 0/200 [00:00<?, ?it/s]"
      ]
     },
     "metadata": {},
     "output_type": "display_data"
    },
    {
     "name": "stdout",
     "output_type": "stream",
     "text": [
      "tensor(-0.0829, device='cuda:0')\n"
     ]
    }
   ],
   "source": [
    "english_activations = {}\n",
    "for layer in range(3, 4):\n",
    "    english_activations[layer] = haystack_utils.get_mlp_activations(english_data, layer, model, mean=False)\n",
    "\n",
    "MEAN_ACTIVATION_INACTIVE = english_activations[LAYER][:, NEURON].mean()\n",
    "\n",
    "def deactivate_neurons_hook(value, hook):\n",
    "    value[:, :, NEURON] = MEAN_ACTIVATION_INACTIVE\n",
    "    return value\n",
    "deactivate_neurons_fwd_hooks=[(f'blocks.{LAYER}.mlp.hook_post', deactivate_neurons_hook)]\n",
    "\n",
    "print(MEAN_ACTIVATION_INACTIVE)"
   ]
  },
  {
   "cell_type": "code",
   "execution_count": null,
   "metadata": {},
   "outputs": [],
   "source": [
    "ablation_losses = []\n",
    "for checkpoint in tqdm(range(NUM_CHECKPOINTS)):\n",
    "    model = get_model(checkpoint)\n",
    "    with model.hooks(deactivate_neurons_fwd_hooks):\n",
    "        ablated_loss = eval_loss(model, german_data)\n",
    "    ablation_losses.append(ablated_loss)"
   ]
  },
  {
   "cell_type": "code",
   "execution_count": null,
   "metadata": {},
   "outputs": [],
   "source": [
    "english_losses = []\n",
    "for checkpoint in tqdm(range(NUM_CHECKPOINTS)):\n",
    "    model = get_model(checkpoint)\n",
    "    english_loss = eval_loss(model, english_data)\n",
    "    english_losses.append(english_loss)"
   ]
  },
  {
   "cell_type": "code",
   "execution_count": null,
   "metadata": {},
   "outputs": [],
   "source": [
    "data = []\n",
    "for checkpoint in tqdm(range(NUM_CHECKPOINTS)):\n",
    "    data.append(eval_checkpoint(checkpoint))\n",
    "\n",
    "df = pd.DataFrame(data, columns=[\"checkpoint\", \"german_loss\", \"f1\", \"mcc\"])"
   ]
  },
  {
   "cell_type": "code",
   "execution_count": 19,
   "metadata": {},
   "outputs": [],
   "source": [
    "df[\"english_loss\"] = english_losses\n",
    "df[\"ablation_loss\"] = ablation_losses"
   ]
  },
  {
   "cell_type": "code",
   "execution_count": 20,
   "metadata": {},
   "outputs": [
    {
     "data": {
      "text/html": [
       "<div>                            <div id=\"f88e9b41-8b19-4619-ba71-e01cf3197b1c\" class=\"plotly-graph-div\" style=\"height:525px; width:100%;\"></div>            <script type=\"text/javascript\">                require([\"plotly\"], function(Plotly) {                    window.PLOTLYENV=window.PLOTLYENV || {};                                    if (document.getElementById(\"f88e9b41-8b19-4619-ba71-e01cf3197b1c\")) {                    Plotly.newPlot(                        \"f88e9b41-8b19-4619-ba71-e01cf3197b1c\",                        [{\"name\":\"German Loss\",\"x\":[0,1,2,3,4,5,6,7,8,9,10,11,12,13,14,15,16,17,18,19,20,21,22,23,24,25,26,27,28,29,30,31,32,33,34,35,36,37,38,39,40,41,42,43,44,45,46,47,48,49,50,51,52,53,54,55,56,57,58,59,60,61,62,63,64,65,66,67,68,69,70,71,72,73,74,75,76,77,78,79,80,81,82,83,84,85,86,87,88,89,90,91,92,93,94,95,96,97,98,99,100,101,102,103,104,105,106,107,108,109,110,111,112,113,114,115,116,117,118,119,120,121,122,123,124,125,126,127,128,129,130,131,132,133,134,135,136,137,138,139,140,141],\"y\":[11.026307892799377,11.026307892799377,11.026102967262268,11.022296667098999,10.972299914360047,10.816361141204833,10.55479215145111,10.096339359283448,9.431261763572692,7.859170835018158,5.917339577674865,4.502299069166184,3.7247148048877716,3.4957250368595125,3.393039982318878,3.3443244671821595,3.2594715481996537,3.24057514667511,3.2010217243433,3.195132747888565,3.182973816394806,3.1667158657312395,3.168625611066818,3.1718451660871505,3.1291703402996065,3.1380822718143464,3.13159932076931,3.12148556470871,3.1190516924858094,3.0945406675338747,3.107443570494652,3.073227215409279,3.0755106884241106,3.099216005206108,3.0629582512378692,3.076131518483162,3.056051392555237,3.0444294744729996,3.0605432891845705,3.0541087263822555,3.0442751812934876,3.0640676552057267,3.0412928396463395,3.0482068032026293,3.0364907509088517,3.064766538143158,3.0433102536201475,3.029090507030487,3.0414564818143845,3.0581895327568054,3.04232064306736,3.0167893624305724,3.0287552362680437,3.0226757115125658,3.035888423323631,2.994634299278259,3.0291161209344866,3.015126564502716,3.0221556282043456,3.0129533755779265,3.025414209961891,3.0008017283678057,2.9894411957263944,3.0074829834699632,3.013786244392395,3.0005623012781144,2.994387285709381,3.008886666893959,3.019304438829422,2.9981474155187606,3.0064223420619967,3.0033813488483427,3.0132003277540207,2.994007262587547,3.003421656489372,3.000961614847183,2.9872139382362364,2.9738394355773927,3.000776171088219,3.0126442521810533,2.9944830322265625,3.004298927783966,2.9937873286008836,3.004022183418274,3.010536932349205,3.0078998231887817,3.028198696374893,3.034086404442787,3.03983089029789,3.0442157655954363,3.036238126158714,3.024219185113907,3.0130022245645525,3.0445330148935317,3.0226287496089936,3.0384158849716187,3.0167161244153977,3.0304599100351335,3.0234955072402956,3.06999675989151,3.046180256009102,3.0346050310134887,3.051928645372391,3.024671418070793,3.043380632996559,3.034226880669594,3.0322126144170762,3.035602843761444,3.0302567636966704,3.024674867987633,3.0252187663316725,3.0220678460597994,3.019922989606857,3.0129005134105684,3.0156550443172456,3.010147537589073,3.0172734588384627,3.0304188466072084,3.024003422856331,3.015417296290398,2.9985348802804945,3.0153527802228925,3.0164429146051406,3.0195331060886383,3.0221498370170594,2.994945552945137,3.0002845698595046,3.0100824081897737,2.994842749238014,2.996182573437691,3.0062841498851776,2.99942591547966,3.012974790930748,3.0182169061899184,3.0006782734394073,3.012594457864761,3.010326868891716,3.0096253979206087,2.9951312136650086,3.0022944051027296,3.0272712939977646,3.0024833458662035],\"type\":\"scatter\",\"xaxis\":\"x\",\"yaxis\":\"y\"},{\"name\":\"English Loss\",\"x\":[0,1,2,3,4,5,6,7,8,9,10,11,12,13,14,15,16,17,18,19,20,21,22,23,24,25,26,27,28,29,30,31,32,33,34,35,36,37,38,39,40,41,42,43,44,45,46,47,48,49,50,51,52,53,54,55,56,57,58,59,60,61,62,63,64,65,66,67,68,69,70,71,72,73,74,75,76,77,78,79,80,81,82,83,84,85,86,87,88,89,90,91,92,93,94,95,96,97,98,99,100,101,102,103,104,105,106,107,108,109,110,111,112,113,114,115,116,117,118,119,120,121,122,123,124,125,126,127,128,129,130,131,132,133,134,135,136,137,138,139,140,141],\"y\":[11.051213431358338,11.051213431358338,11.05057966709137,11.038868088722229,10.886705961227417,10.411782674789428,9.611344113349915,8.72894624710083,7.1142037177085875,6.044772939682007,5.226138215065003,4.406951144933701,3.984508096575737,3.8271388256549836,3.733720995783806,3.711752009987831,3.6693639725446703,3.651348964571953,3.617340424656868,3.60558169901371,3.599003626704216,3.5851402431726456,3.565597279071808,3.5934138095378874,3.568188491463661,3.5658441305160524,3.5575611358880996,3.54940023124218,3.550027755498886,3.542426344752312,3.52636037170887,3.527969145178795,3.5140076196193695,3.51083680331707,3.5192240566015243,3.516403942108154,3.526490014195442,3.522619980573654,3.5018859761953354,3.5171449500322343,3.5113686871528627,3.4986038219928743,3.502551954984665,3.4935048848390577,3.4844387578964233,3.4888920611143113,3.488895968198776,3.4990008622407913,3.4857754772901535,3.476741956472397,3.502436861395836,3.469853254556656,3.480435418486595,3.4836905336380006,3.4879160755872727,3.475130532979965,3.4794897282123567,3.472585529088974,3.457946485877037,3.4780113315582275,3.4850182420015337,3.4694152760505674,3.4638156759738923,3.477002007365227,3.4567339342832564,3.4597177278995512,3.44783576130867,3.473128740787506,3.460059194564819,3.4489576095342636,3.4681271159648897,3.47143926680088,3.4637158942222595,3.4648052620887757,3.4556217777729032,3.459843824505806,3.4584412717819215,3.4586555421352387,3.4638056927919387,3.4741649341583254,3.4573109352588656,3.5043341588973997,3.4640656608343123,3.482204282879829,3.460951514840126,3.4789414858818053,3.4814150112867357,3.490386372804642,3.4856890243291856,3.4878854012489318,3.480116368532181,3.501204036474228,3.5086319893598557,3.5104630357027053,3.4994358968734742,3.5011183190345765,3.5038101589679718,3.482915229201317,3.5050814193487168,3.530326694846153,3.5153105419874193,3.503929479718208,3.510199376940727,3.4979115998744965,3.5099909049272537,3.5145532125234604,3.505240776538849,3.5158347511291503,3.5109273445606233,3.503456330895424,3.497197989821434,3.4978858053684236,3.495661725997925,3.494958377480507,3.5024371761083604,3.5038173258304597,3.4993743604421614,3.4889053440093996,3.5022648948431017,3.4912532007694246,3.4880198884010314,3.494628681540489,3.490693705677986,3.4937449502944946,3.501989710330963,3.4817652428150176,3.4821543145179747,3.48872240960598,3.4803293961286546,3.4960161632299425,3.4845311045646667,3.4953479987382887,3.4884876435995102,3.485222777724266,3.489451918005943,3.477358092665672,3.48300615131855,3.485961332321167,3.479185612201691,3.489639477133751,3.489062651991844,3.493143074512482],\"type\":\"scatter\",\"xaxis\":\"x\",\"yaxis\":\"y\"},{\"name\":\"Ablated German Loss\",\"x\":[0,1,2,3,4,5,6,7,8,9,10,11,12,13,14,15,16,17,18,19,20,21,22,23,24,25,26,27,28,29,30,31,32,33,34,35,36,37,38,39,40,41,42,43,44,45,46,47,48,49,50,51,52,53,54,55,56,57,58,59,60,61,62,63,64,65,66,67,68,69,70,71,72,73,74,75,76,77,78,79,80,81,82,83,84,85,86,87,88,89,90,91,92,93,94,95,96,97,98,99,100,101,102,103,104,105,106,107,108,109,110,111,112,113,114,115,116,117,118,119,120,121,122,123,124,125,126,127,128,129,130,131,132,133,134,135,136,137,138,139,140,141],\"y\":[11.02573863506317,11.02573863506317,11.025534090995789,11.021734676361085,10.971827273368836,10.816164755821228,10.554831871986389,10.096426129341125,9.43121274471283,7.85934002161026,5.918417372703552,4.504280582666397,3.728054805994034,3.5018926537036896,3.3999742698669433,3.3518024492263794,3.2672784262895584,3.249265722632408,3.209270758032799,3.204777284860611,3.196704394221306,3.1836064672470092,3.1854747796058653,3.190936486721039,3.1538784593343734,3.1668121337890627,3.1659781473875044,3.15741333425045,3.1548660558462145,3.145606946349144,3.1589644968509676,3.1211375629901887,3.128334002494812,3.165617511868477,3.1352331840991976,3.1480770003795624,3.1463343405723574,3.1214630037546156,3.149498188495636,3.1365073144435884,3.1421279138326645,3.171719629764557,3.155770892500877,3.1702885913848875,3.172123404145241,3.199995195269585,3.1848743283748626,3.165246772766113,3.1915767365694045,3.2113783562183382,3.1967936009168625,3.1689800280332565,3.2053469574451445,3.189731166958809,3.206184443831444,3.174767668247223,3.224113078117371,3.200538992881775,3.2158500492572784,3.2176095896959307,3.2158734327554703,3.2045707935094834,3.190785218477249,3.2250155037641526,3.213076049685478,3.208983244895935,3.199403101801872,3.207950474023819,3.235482656955719,3.2240945214033125,3.21742240190506,3.222888895869255,3.2462591326236723,3.2199552249908447,3.236162306070328,3.217753420472145,3.214332372546196,3.2099348700046537,3.2300458484888077,3.258624870181084,3.2543961411714553,3.260401105284691,3.265520336031914,3.2887422680854796,3.3036808639764788,3.282919833064079,3.343429669737816,3.336465210914612,3.3255305600166323,3.3319023770093916,3.3346879357099533,3.3199370634555816,3.294463815689087,3.3766114580631257,3.3243439638614656,3.3573614746332168,3.3412446683645247,3.3496718937158585,3.347888495326042,3.3821311819553377,3.3728730607032777,3.3439366406202318,3.3734202146530152,3.3336041229963302,3.360099896788597,3.3741713631153107,3.349893825650215,3.367395647764206,3.3580220502614977,3.3455718302726747,3.3203263944387436,3.3546686398983003,3.34940588593483,3.3448527884483337,3.342218267917633,3.3469601142406464,3.348044607043266,3.3569971907138823,3.348334035873413,3.365321390628815,3.3313230168819428,3.355439414381981,3.3596104246377947,3.343065882325172,3.361242409944534,3.325367044210434,3.3385574263334274,3.3530554324388504,3.3129995799064638,3.340017755627632,3.3495234090089796,3.331379331946373,3.3485539799928663,3.3490057134628297,3.3292447555065157,3.357895055413246,3.3621495473384857,3.352302429676056,3.337927506566048,3.3410172110795973,3.361297809481621,3.3273258608579637],\"type\":\"scatter\",\"xaxis\":\"x\",\"yaxis\":\"y\"},{\"name\":\"F1\",\"x\":[0,1,2,3,4,5,6,7,8,9,10,11,12,13,14,15,16,17,18,19,20,21,22,23,24,25,26,27,28,29,30,31,32,33,34,35,36,37,38,39,40,41,42,43,44,45,46,47,48,49,50,51,52,53,54,55,56,57,58,59,60,61,62,63,64,65,66,67,68,69,70,71,72,73,74,75,76,77,78,79,80,81,82,83,84,85,86,87,88,89,90,91,92,93,94,95,96,97,98,99,100,101,102,103,104,105,106,107,108,109,110,111,112,113,114,115,116,117,118,119,120,121,122,123,124,125,126,127,128,129,130,131,132,133,134,135,136,137,138,139,140,141],\"y\":[0.4766887213417449,0.43697013354020053,0.38768298838970217,0.4086469747498809,0.4507960252163693,0.4231983921906403,0.2564414380177852,0.6336537382653251,0.4844224697682731,0.5703767333415143,0.8064268479929809,0.8410592469248536,0.8905913837435063,0.8963305646093995,0.8980346576500422,0.8993479175431216,0.9157054125998226,0.9187595429895226,0.9414000308150583,0.9377743351407177,0.9336916636518684,0.9299264019902562,0.9419116893760886,0.952175697865353,0.9533826908348225,0.9547401558548795,0.967581047381546,0.9654118486067953,0.9726919388218667,0.9681871226343294,0.9671947999187487,0.9707703237592611,0.970272879719498,0.9714170285829714,0.9684507610119947,0.9728904938711154,0.966455307833913,0.9748590583574585,0.9749264034108213,0.976086736244807,0.9735600101497083,0.9765919959728165,0.9729757136338284,0.9759121144930457,0.9736134105960265,0.9729346173340091,0.9773003648155655,0.9747426562892291,0.9754353710229304,0.9745590918305291,0.9733724815227296,0.9752344068487567,0.9760668092473775,0.9769040278971042,0.9733894267322216,0.9745883309615775,0.973592173957119,0.9743432170840374,0.9739705134722928,0.9726192872961547,0.9736721495136732,0.9742635970644415,0.9711378632952198,0.9729319504174044,0.9727235854796188,0.9730361041994617,0.9723651033787192,0.9745119854354203,0.9740584935897436,0.9741145112512173,0.9773038842345774,0.9765087079789389,0.9741344195519348,0.9739086035231044,0.9762371263501634,0.976146606244709,0.977692540627839,0.978012491748337,0.9748118414450577,0.9789153573238724,0.9736615944593296,0.9733564720293997,0.9746317512274958,0.9750589652230641,0.9763139168445665,0.9762266059686393,0.9760024301336574,0.9788437263317343,0.9777777777777777,0.9787820055085178,0.9763819607044691,0.9796041698141712,0.9784434773808319,0.9796103765014637,0.9784005260761798,0.9759627549213097,0.9813908921276918,0.9812730301347735,0.9766343399829154,0.9763120277721054,0.9794003671221702,0.9795710428447706,0.9747788728834975,0.9770405583088906,0.9765281914088133,0.9769864953720094,0.975483477996041,0.9814194334450199,0.9776841682964746,0.9766803840877915,0.9781014565544951,0.9803705005271348,0.9799737028421159,0.9799859197425325,0.979510500229932,0.9780602209108791,0.9784454604833442,0.979122326948414,0.9780158122927824,0.9778163088377786,0.9796495480482754,0.9766402600040626,0.9796760237448435,0.9792809262644728,0.977916708682061,0.9782184321380869,0.9784404593995567,0.9812170530733405,0.9791422306083941,0.9807159760334324,0.9803308452693162,0.977185155140945,0.9774815712410381,0.9778830167766638,0.9777419679726054,0.9791770948042846,0.9770295623954159,0.9793377888883219,0.980229559589422,0.9798354735152488,0.9797397295228374,0.9786806114239742],\"type\":\"scatter\",\"xaxis\":\"x\",\"yaxis\":\"y2\"},{\"name\":\"MCC\",\"x\":[0,1,2,3,4,5,6,7,8,9,10,11,12,13,14,15,16,17,18,19,20,21,22,23,24,25,26,27,28,29,30,31,32,33,34,35,36,37,38,39,40,41,42,43,44,45,46,47,48,49,50,51,52,53,54,55,56,57,58,59,60,61,62,63,64,65,66,67,68,69,70,71,72,73,74,75,76,77,78,79,80,81,82,83,84,85,86,87,88,89,90,91,92,93,94,95,96,97,98,99,100,101,102,103,104,105,106,107,108,109,110,111,112,113,114,115,116,117,118,119,120,121,122,123,124,125,126,127,128,129,130,131,132,133,134,135,136,137,138,139,140,141],\"y\":[-0.020650786309619296,-0.0165526665326916,0.03700367747042661,0.010089669088011888,-0.029007271316145524,-0.00510786147776729,0.03370900728459605,0.03776194744928125,0.14285619384058218,0.3206606369020521,0.6550552052453362,0.7094688528676942,0.7935615029928997,0.8055115025263373,0.8107619999439228,0.812724777769059,0.8409448266642326,0.8483468778912738,0.8873070759634991,0.8808400811177983,0.8731045618117068,0.8668457911920197,0.8883401953826471,0.9078949407779439,0.9094677242056799,0.9128672016950466,0.9367134969412396,0.9326657742939427,0.9462739848146251,0.9377084718432036,0.9360839283437272,0.9428913819518396,0.9418576074789178,0.943873690107076,0.9379431251524596,0.9471028114370049,0.9350966532061094,0.950757482995308,0.9508939911573033,0.9531271884720801,0.9483419684380519,0.9537959059210909,0.9471915652202566,0.9525689836133833,0.9493761051847748,0.9469347832349387,0.9555027552980138,0.9500363086202464,0.9521720815293718,0.9501899202442546,0.947836299725727,0.9517656300459552,0.953309858131789,0.9547087255379041,0.9477369588930119,0.950306578446002,0.9483617220602818,0.9502410872967713,0.9491207254519874,0.9460652125752964,0.948630478965218,0.9492197920150964,0.9431083090332423,0.9469048895606722,0.9465824087574809,0.9471894450906785,0.945519840506765,0.9498470296199552,0.9485817913526008,0.9496627965431977,0.9554680276505916,0.953928280002992,0.9496108515358505,0.9493805812318844,0.9530470252131776,0.9522591143910326,0.9560873706624862,0.9570181450060072,0.9502619203483526,0.9585582491917709,0.9482675623397759,0.9483027135884918,0.9507523788504216,0.9507123194036713,0.9537491708444341,0.9533138980368125,0.9529279544742669,0.9584094650447471,0.9561538382095288,0.9586708385653276,0.9537969123756451,0.9598066351190526,0.9576529387133227,0.9598251386501525,0.9575833625908565,0.9528258809066897,0.9632839640383752,0.9630539599365485,0.9537550151776591,0.9539581424579101,0.9598178088640874,0.9601300511058096,0.9504738864962117,0.9549400988070634,0.9540119194317684,0.9548118955458325,0.9520217834406582,0.9636165690022824,0.9558967888626377,0.9544855458944829,0.9566578954538175,0.9611609909291754,0.9606236878072358,0.9604953292758108,0.9601524116236504,0.9568351758968004,0.9573692427283483,0.9590255441756756,0.9572589179383946,0.9567772288406676,0.9599060799839425,0.9543246269897128,0.9598532179473351,0.9594105843367152,0.9565276806478241,0.9579165768194315,0.9574890403797873,0.9634597519420829,0.959328134897317,0.9619464825350318,0.9613185048437523,0.9553479249587189,0.9557162873756874,0.9563236005835886,0.9562379691968529,0.9587208672593299,0.9549943284249967,0.9597592857302435,0.961194338308977,0.9600543221715889,0.9605781621276851,0.9579935046050071],\"type\":\"scatter\",\"xaxis\":\"x\",\"yaxis\":\"y2\"}],                        {\"template\":{\"data\":{\"histogram2dcontour\":[{\"type\":\"histogram2dcontour\",\"colorbar\":{\"outlinewidth\":0,\"ticks\":\"\"},\"colorscale\":[[0.0,\"#0d0887\"],[0.1111111111111111,\"#46039f\"],[0.2222222222222222,\"#7201a8\"],[0.3333333333333333,\"#9c179e\"],[0.4444444444444444,\"#bd3786\"],[0.5555555555555556,\"#d8576b\"],[0.6666666666666666,\"#ed7953\"],[0.7777777777777778,\"#fb9f3a\"],[0.8888888888888888,\"#fdca26\"],[1.0,\"#f0f921\"]]}],\"choropleth\":[{\"type\":\"choropleth\",\"colorbar\":{\"outlinewidth\":0,\"ticks\":\"\"}}],\"histogram2d\":[{\"type\":\"histogram2d\",\"colorbar\":{\"outlinewidth\":0,\"ticks\":\"\"},\"colorscale\":[[0.0,\"#0d0887\"],[0.1111111111111111,\"#46039f\"],[0.2222222222222222,\"#7201a8\"],[0.3333333333333333,\"#9c179e\"],[0.4444444444444444,\"#bd3786\"],[0.5555555555555556,\"#d8576b\"],[0.6666666666666666,\"#ed7953\"],[0.7777777777777778,\"#fb9f3a\"],[0.8888888888888888,\"#fdca26\"],[1.0,\"#f0f921\"]]}],\"heatmap\":[{\"type\":\"heatmap\",\"colorbar\":{\"outlinewidth\":0,\"ticks\":\"\"},\"colorscale\":[[0.0,\"#0d0887\"],[0.1111111111111111,\"#46039f\"],[0.2222222222222222,\"#7201a8\"],[0.3333333333333333,\"#9c179e\"],[0.4444444444444444,\"#bd3786\"],[0.5555555555555556,\"#d8576b\"],[0.6666666666666666,\"#ed7953\"],[0.7777777777777778,\"#fb9f3a\"],[0.8888888888888888,\"#fdca26\"],[1.0,\"#f0f921\"]]}],\"heatmapgl\":[{\"type\":\"heatmapgl\",\"colorbar\":{\"outlinewidth\":0,\"ticks\":\"\"},\"colorscale\":[[0.0,\"#0d0887\"],[0.1111111111111111,\"#46039f\"],[0.2222222222222222,\"#7201a8\"],[0.3333333333333333,\"#9c179e\"],[0.4444444444444444,\"#bd3786\"],[0.5555555555555556,\"#d8576b\"],[0.6666666666666666,\"#ed7953\"],[0.7777777777777778,\"#fb9f3a\"],[0.8888888888888888,\"#fdca26\"],[1.0,\"#f0f921\"]]}],\"contourcarpet\":[{\"type\":\"contourcarpet\",\"colorbar\":{\"outlinewidth\":0,\"ticks\":\"\"}}],\"contour\":[{\"type\":\"contour\",\"colorbar\":{\"outlinewidth\":0,\"ticks\":\"\"},\"colorscale\":[[0.0,\"#0d0887\"],[0.1111111111111111,\"#46039f\"],[0.2222222222222222,\"#7201a8\"],[0.3333333333333333,\"#9c179e\"],[0.4444444444444444,\"#bd3786\"],[0.5555555555555556,\"#d8576b\"],[0.6666666666666666,\"#ed7953\"],[0.7777777777777778,\"#fb9f3a\"],[0.8888888888888888,\"#fdca26\"],[1.0,\"#f0f921\"]]}],\"surface\":[{\"type\":\"surface\",\"colorbar\":{\"outlinewidth\":0,\"ticks\":\"\"},\"colorscale\":[[0.0,\"#0d0887\"],[0.1111111111111111,\"#46039f\"],[0.2222222222222222,\"#7201a8\"],[0.3333333333333333,\"#9c179e\"],[0.4444444444444444,\"#bd3786\"],[0.5555555555555556,\"#d8576b\"],[0.6666666666666666,\"#ed7953\"],[0.7777777777777778,\"#fb9f3a\"],[0.8888888888888888,\"#fdca26\"],[1.0,\"#f0f921\"]]}],\"mesh3d\":[{\"type\":\"mesh3d\",\"colorbar\":{\"outlinewidth\":0,\"ticks\":\"\"}}],\"scatter\":[{\"fillpattern\":{\"fillmode\":\"overlay\",\"size\":10,\"solidity\":0.2},\"type\":\"scatter\"}],\"parcoords\":[{\"type\":\"parcoords\",\"line\":{\"colorbar\":{\"outlinewidth\":0,\"ticks\":\"\"}}}],\"scatterpolargl\":[{\"type\":\"scatterpolargl\",\"marker\":{\"colorbar\":{\"outlinewidth\":0,\"ticks\":\"\"}}}],\"bar\":[{\"error_x\":{\"color\":\"#2a3f5f\"},\"error_y\":{\"color\":\"#2a3f5f\"},\"marker\":{\"line\":{\"color\":\"#E5ECF6\",\"width\":0.5},\"pattern\":{\"fillmode\":\"overlay\",\"size\":10,\"solidity\":0.2}},\"type\":\"bar\"}],\"scattergeo\":[{\"type\":\"scattergeo\",\"marker\":{\"colorbar\":{\"outlinewidth\":0,\"ticks\":\"\"}}}],\"scatterpolar\":[{\"type\":\"scatterpolar\",\"marker\":{\"colorbar\":{\"outlinewidth\":0,\"ticks\":\"\"}}}],\"histogram\":[{\"marker\":{\"pattern\":{\"fillmode\":\"overlay\",\"size\":10,\"solidity\":0.2}},\"type\":\"histogram\"}],\"scattergl\":[{\"type\":\"scattergl\",\"marker\":{\"colorbar\":{\"outlinewidth\":0,\"ticks\":\"\"}}}],\"scatter3d\":[{\"type\":\"scatter3d\",\"line\":{\"colorbar\":{\"outlinewidth\":0,\"ticks\":\"\"}},\"marker\":{\"colorbar\":{\"outlinewidth\":0,\"ticks\":\"\"}}}],\"scattermapbox\":[{\"type\":\"scattermapbox\",\"marker\":{\"colorbar\":{\"outlinewidth\":0,\"ticks\":\"\"}}}],\"scatterternary\":[{\"type\":\"scatterternary\",\"marker\":{\"colorbar\":{\"outlinewidth\":0,\"ticks\":\"\"}}}],\"scattercarpet\":[{\"type\":\"scattercarpet\",\"marker\":{\"colorbar\":{\"outlinewidth\":0,\"ticks\":\"\"}}}],\"carpet\":[{\"aaxis\":{\"endlinecolor\":\"#2a3f5f\",\"gridcolor\":\"white\",\"linecolor\":\"white\",\"minorgridcolor\":\"white\",\"startlinecolor\":\"#2a3f5f\"},\"baxis\":{\"endlinecolor\":\"#2a3f5f\",\"gridcolor\":\"white\",\"linecolor\":\"white\",\"minorgridcolor\":\"white\",\"startlinecolor\":\"#2a3f5f\"},\"type\":\"carpet\"}],\"table\":[{\"cells\":{\"fill\":{\"color\":\"#EBF0F8\"},\"line\":{\"color\":\"white\"}},\"header\":{\"fill\":{\"color\":\"#C8D4E3\"},\"line\":{\"color\":\"white\"}},\"type\":\"table\"}],\"barpolar\":[{\"marker\":{\"line\":{\"color\":\"#E5ECF6\",\"width\":0.5},\"pattern\":{\"fillmode\":\"overlay\",\"size\":10,\"solidity\":0.2}},\"type\":\"barpolar\"}],\"pie\":[{\"automargin\":true,\"type\":\"pie\"}]},\"layout\":{\"autotypenumbers\":\"strict\",\"colorway\":[\"#636efa\",\"#EF553B\",\"#00cc96\",\"#ab63fa\",\"#FFA15A\",\"#19d3f3\",\"#FF6692\",\"#B6E880\",\"#FF97FF\",\"#FECB52\"],\"font\":{\"color\":\"#2a3f5f\"},\"hovermode\":\"closest\",\"hoverlabel\":{\"align\":\"left\"},\"paper_bgcolor\":\"white\",\"plot_bgcolor\":\"#E5ECF6\",\"polar\":{\"bgcolor\":\"#E5ECF6\",\"angularaxis\":{\"gridcolor\":\"white\",\"linecolor\":\"white\",\"ticks\":\"\"},\"radialaxis\":{\"gridcolor\":\"white\",\"linecolor\":\"white\",\"ticks\":\"\"}},\"ternary\":{\"bgcolor\":\"#E5ECF6\",\"aaxis\":{\"gridcolor\":\"white\",\"linecolor\":\"white\",\"ticks\":\"\"},\"baxis\":{\"gridcolor\":\"white\",\"linecolor\":\"white\",\"ticks\":\"\"},\"caxis\":{\"gridcolor\":\"white\",\"linecolor\":\"white\",\"ticks\":\"\"}},\"coloraxis\":{\"colorbar\":{\"outlinewidth\":0,\"ticks\":\"\"}},\"colorscale\":{\"sequential\":[[0.0,\"#0d0887\"],[0.1111111111111111,\"#46039f\"],[0.2222222222222222,\"#7201a8\"],[0.3333333333333333,\"#9c179e\"],[0.4444444444444444,\"#bd3786\"],[0.5555555555555556,\"#d8576b\"],[0.6666666666666666,\"#ed7953\"],[0.7777777777777778,\"#fb9f3a\"],[0.8888888888888888,\"#fdca26\"],[1.0,\"#f0f921\"]],\"sequentialminus\":[[0.0,\"#0d0887\"],[0.1111111111111111,\"#46039f\"],[0.2222222222222222,\"#7201a8\"],[0.3333333333333333,\"#9c179e\"],[0.4444444444444444,\"#bd3786\"],[0.5555555555555556,\"#d8576b\"],[0.6666666666666666,\"#ed7953\"],[0.7777777777777778,\"#fb9f3a\"],[0.8888888888888888,\"#fdca26\"],[1.0,\"#f0f921\"]],\"diverging\":[[0,\"#8e0152\"],[0.1,\"#c51b7d\"],[0.2,\"#de77ae\"],[0.3,\"#f1b6da\"],[0.4,\"#fde0ef\"],[0.5,\"#f7f7f7\"],[0.6,\"#e6f5d0\"],[0.7,\"#b8e186\"],[0.8,\"#7fbc41\"],[0.9,\"#4d9221\"],[1,\"#276419\"]]},\"xaxis\":{\"gridcolor\":\"white\",\"linecolor\":\"white\",\"ticks\":\"\",\"title\":{\"standoff\":15},\"zerolinecolor\":\"white\",\"automargin\":true,\"zerolinewidth\":2},\"yaxis\":{\"gridcolor\":\"white\",\"linecolor\":\"white\",\"ticks\":\"\",\"title\":{\"standoff\":15},\"zerolinecolor\":\"white\",\"automargin\":true,\"zerolinewidth\":2},\"scene\":{\"xaxis\":{\"backgroundcolor\":\"#E5ECF6\",\"gridcolor\":\"white\",\"linecolor\":\"white\",\"showbackground\":true,\"ticks\":\"\",\"zerolinecolor\":\"white\",\"gridwidth\":2},\"yaxis\":{\"backgroundcolor\":\"#E5ECF6\",\"gridcolor\":\"white\",\"linecolor\":\"white\",\"showbackground\":true,\"ticks\":\"\",\"zerolinecolor\":\"white\",\"gridwidth\":2},\"zaxis\":{\"backgroundcolor\":\"#E5ECF6\",\"gridcolor\":\"white\",\"linecolor\":\"white\",\"showbackground\":true,\"ticks\":\"\",\"zerolinecolor\":\"white\",\"gridwidth\":2}},\"shapedefaults\":{\"line\":{\"color\":\"#2a3f5f\"}},\"annotationdefaults\":{\"arrowcolor\":\"#2a3f5f\",\"arrowhead\":0,\"arrowwidth\":1},\"geo\":{\"bgcolor\":\"white\",\"landcolor\":\"#E5ECF6\",\"subunitcolor\":\"white\",\"showland\":true,\"showlakes\":true,\"lakecolor\":\"white\"},\"title\":{\"x\":0.05},\"mapbox\":{\"style\":\"light\"}}},\"xaxis\":{\"anchor\":\"y\",\"domain\":[0.0,0.94]},\"yaxis\":{\"anchor\":\"x\",\"domain\":[0.0,1.0],\"title\":{\"text\":\"Loss\"}},\"yaxis2\":{\"anchor\":\"x\",\"overlaying\":\"y\",\"side\":\"right\",\"title\":{\"text\":\"Score\"}},\"title\":{\"text\":\"German Loss, English Loss, L3N669 F1, and L3N669 MCC over Pythia 70M Checkpoints\"}},                        {\"responsive\": true}                    ).then(function(){\n",
       "                            \n",
       "var gd = document.getElementById('f88e9b41-8b19-4619-ba71-e01cf3197b1c');\n",
       "var x = new MutationObserver(function (mutations, observer) {{\n",
       "        var display = window.getComputedStyle(gd).display;\n",
       "        if (!display || display === 'none') {{\n",
       "            console.log([gd, 'removed!']);\n",
       "            Plotly.purge(gd);\n",
       "            observer.disconnect();\n",
       "        }}\n",
       "}});\n",
       "\n",
       "// Listen for the removal of the full notebook cells\n",
       "var notebookContainer = gd.closest('#notebook-container');\n",
       "if (notebookContainer) {{\n",
       "    x.observe(notebookContainer, {childList: true});\n",
       "}}\n",
       "\n",
       "// Listen for the clearing of the current output cell\n",
       "var outputEl = gd.closest('.output');\n",
       "if (outputEl) {{\n",
       "    x.observe(outputEl, {childList: true});\n",
       "}}\n",
       "\n",
       "                        })                };                });            </script>        </div>"
      ]
     },
     "metadata": {},
     "output_type": "display_data"
    }
   ],
   "source": [
    "import plotly.graph_objects as go\n",
    "from plotly.subplots import make_subplots\n",
    "\n",
    "# Create a subplot with 2 y-axes\n",
    "fig = make_subplots(specs=[[{\"secondary_y\": True}]])\n",
    "\n",
    "# Add traces for german_loss and english_loss\n",
    "fig.add_trace(go.Scatter(x=df['checkpoint'], y=df['german_loss'], name='German Loss'), secondary_y=False)\n",
    "fig.add_trace(go.Scatter(x=df['checkpoint'], y=df['english_loss'], name='English Loss'), secondary_y=False)\n",
    "fig.add_trace(go.Scatter(x=df['checkpoint'], y=df['ablation_loss'], name='Ablated German Loss'), secondary_y=False)\n",
    "\n",
    "# Add traces for f1 and mcc\n",
    "fig.add_trace(go.Scatter(x=df['checkpoint'], y=df['f1'], name='F1'), secondary_y=True)\n",
    "fig.add_trace(go.Scatter(x=df['checkpoint'], y=df['mcc'], name='MCC'), secondary_y=True)\n",
    "\n",
    "# Set y-axes titles\n",
    "fig.update_yaxes(title_text=\"Loss\", secondary_y=False)\n",
    "fig.update_yaxes(title_text=\"Score\", secondary_y=True)\n",
    "\n",
    "fig.update_layout(title_text=\"German Loss, English Loss, L3N669 F1, and L3N669 MCC over Pythia 70M Checkpoints\")\n",
    "\n",
    "fig.show()\n"
   ]
  },
  {
   "cell_type": "code",
   "execution_count": 21,
   "metadata": {},
   "outputs": [],
   "source": [
    "df.to_csv(\"data/checkpoint_eval.csv\", index=False)"
   ]
  },
  {
   "cell_type": "code",
   "execution_count": null,
   "metadata": {},
   "outputs": [],
   "source": [
    "# abltaion\n",
    "# other context neurons in"
   ]
  }
 ],
 "metadata": {
  "kernelspec": {
   "display_name": "base",
   "language": "python",
   "name": "python3"
  },
  "language_info": {
   "codemirror_mode": {
    "name": "ipython",
    "version": 3
   },
   "file_extension": ".py",
   "mimetype": "text/x-python",
   "name": "python",
   "nbconvert_exporter": "python",
   "pygments_lexer": "ipython3",
   "version": "3.10.11"
  },
  "orig_nbformat": 4
 },
 "nbformat": 4,
 "nbformat_minor": 2
}
