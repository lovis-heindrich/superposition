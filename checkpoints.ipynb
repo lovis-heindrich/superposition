{
 "cells": [
  {
   "cell_type": "code",
   "execution_count": 1,
   "metadata": {},
   "outputs": [],
   "source": [
    "import torch\n",
    "from tqdm.auto import tqdm\n",
    "from transformer_lens import HookedTransformer\n",
    "from jaxtyping import Float, Int, Bool\n",
    "from torch import Tensor\n",
    "from tqdm.auto import tqdm\n",
    "import plotly.io as pio\n",
    "import ipywidgets as widgets\n",
    "from IPython.display import display, clear_output\n",
    "import pandas as pd\n",
    "import numpy as np\n",
    "import plotly.express as px \n",
    "from collections import defaultdict\n",
    "import matplotlib.pyplot as plt\n",
    "import re\n",
    "from IPython.display import display, HTML\n",
    "from datasets import load_dataset\n",
    "from collections import Counter\n",
    "import pickle\n",
    "import os\n",
    "import haystack_utils\n",
    "from transformer_lens import utils\n",
    "from fancy_einsum import einsum\n",
    "import einops\n",
    "import json\n",
    "import ipywidgets as widgets\n",
    "from IPython.display import display\n",
    "from datasets import load_dataset\n",
    "import random\n",
    "import math\n",
    "import random\n",
    "import neel.utils as nutils\n",
    "from neel_plotly import *\n",
    "from sklearn import preprocessing\n",
    "from sklearn.model_selection import train_test_split\n",
    "from sklearn.linear_model import LogisticRegression\n",
    "from sklearn.utils import shuffle\n",
    "import probing_utils\n",
    "import pickle\n",
    "\n",
    "SEED = 42\n",
    "torch.manual_seed(SEED)\n",
    "np.random.seed(SEED)\n",
    "random.seed(SEED)\n",
    "\n",
    "pio.renderers.default = \"notebook_connected+notebook\"\n",
    "device = \"cuda\" if torch.cuda.is_available() else \"cpu\"\n",
    "torch.autograd.set_grad_enabled(False)\n",
    "torch.set_grad_enabled(False)\n",
    "\n",
    "%reload_ext autoreload\n",
    "%autoreload 2"
   ]
  },
  {
   "cell_type": "code",
   "execution_count": 24,
   "metadata": {},
   "outputs": [
    {
     "name": "stderr",
     "output_type": "stream",
     "text": [
      "WARNING:root:Pythia models on HF were updated on 4/3/23! add '-v0' to model name to access the old models.\n",
      "Using pad_token, but it is not set yet.\n"
     ]
    },
    {
     "name": "stdout",
     "output_type": "stream",
     "text": [
      "Loaded pretrained model EleutherAI/pythia-70m into HookedTransformer\n",
      "data/german_europarl.json: Loaded 2000 examples with 152 to 2000 characters each.\n",
      "data/english_europarl.json: Loaded 2000 examples with 165 to 2000 characters each.\n"
     ]
    }
   ],
   "source": [
    "def get_model(checkpoint: int):\n",
    "    model = HookedTransformer.from_pretrained(\"EleutherAI/pythia-70m\",\n",
    "        checkpoint_index=checkpoint,\n",
    "        center_unembed=True,\n",
    "        center_writing_weights=True,\n",
    "        fold_ln=True,\n",
    "        device=device)\n",
    "    return model\n",
    "\n",
    "NUM_CHECKPOINTS = 143\n",
    "LAYER, NEURON = 3, 669\n",
    "model = get_model(142)\n",
    "german_data = haystack_utils.load_json_data(\"data/german_europarl.json\")[:200]\n",
    "english_data = haystack_utils.load_json_data(\"data/english_europarl.json\")[:200]"
   ]
  },
  {
   "cell_type": "code",
   "execution_count": null,
   "metadata": {},
   "outputs": [],
   "source": [
    "# Will take about 50GB of disk space for Pythia 70M models\n",
    "def preload_models(NUM_CHECKPOINTS: int):\n",
    "    for i in tqdm(range(NUM_CHECKPOINTS)):\n",
    "        get_model(i)\n",
    "preload_models(NUM_CHECKPOINTS)"
   ]
  },
  {
   "cell_type": "code",
   "execution_count": 43,
   "metadata": {},
   "outputs": [],
   "source": [
    "def eval_loss(model, data):\n",
    "    losses = []\n",
    "    for prompt in data:\n",
    "        loss = model(prompt, return_type=\"loss\")\n",
    "        losses.append(loss.item())\n",
    "    return np.mean(losses)\n",
    "\n",
    "def get_probe_performance(model, german_data, english_data, layer, neuron, plot=False):\n",
    "    german_activations = haystack_utils.get_mlp_activations(german_data, layer, model, neurons=[neuron], mean=False)[:50000]\n",
    "    english_activations = haystack_utils.get_mlp_activations(english_data, layer, model, neurons=[neuron], mean=False)[:50000]\n",
    "    if plot:\n",
    "        haystack_utils.two_histogram(german_activations.flatten(), english_activations.flatten(), \"German\", \"English\")\n",
    "    return train_probe(german_activations, english_activations)\n",
    "\n",
    "def train_probe(german_activations, english_activations):\n",
    "    labels = np.concatenate([np.ones(len(german_activations)), np.zeros(len(english_activations))])\n",
    "    activations = np.concatenate([german_activations.cpu().numpy(), english_activations.cpu().numpy()])\n",
    "    scaler = preprocessing.StandardScaler().fit(activations)\n",
    "    activations = scaler.transform(activations)\n",
    "    x_train, x_test, y_train, y_test = train_test_split(activations, labels, test_size=0.2, random_state=SEED)\n",
    "    probe = probing_utils.get_probe(x_train, y_train, max_iter=2000)\n",
    "    f1, mcc = probing_utils.get_probe_score(probe, x_test, y_test)\n",
    "    return f1, mcc\n",
    "\n",
    "def eval_checkpoint(checkpoint: int):\n",
    "    model = get_model(checkpoint)\n",
    "    german_loss = eval_loss(model, german_data)\n",
    "    f1, mcc = get_probe_performance(model, german_data, english_data, LAYER, NEURON)\n",
    "    return [checkpoint, german_loss, f1, mcc]\n"
   ]
  },
  {
   "cell_type": "code",
   "execution_count": 14,
   "metadata": {},
   "outputs": [
    {
     "name": "stderr",
     "output_type": "stream",
     "text": [
      "WARNING:root:Pythia models on HF were updated on 4/3/23! add '-v0' to model name to access the old models.\n",
      "Using pad_token, but it is not set yet.\n"
     ]
    },
    {
     "name": "stdout",
     "output_type": "stream",
     "text": [
      "Loaded pretrained model EleutherAI/pythia-70m into HookedTransformer\n"
     ]
    },
    {
     "data": {
      "application/vnd.jupyter.widget-view+json": {
       "model_id": "a303fa9085e64660ad6d97fda024b0bd",
       "version_major": 2,
       "version_minor": 0
      },
      "text/plain": [
       "  0%|          | 0/200 [00:00<?, ?it/s]"
      ]
     },
     "metadata": {},
     "output_type": "display_data"
    },
    {
     "name": "stdout",
     "output_type": "stream",
     "text": [
      "tensor(-0.0829, device='cuda:0')\n"
     ]
    }
   ],
   "source": [
    "model = get_model(NUM_CHECKPOINTS-1)\n",
    "english_activations = {}\n",
    "for layer in range(3, 4):\n",
    "    english_activations[layer] = haystack_utils.get_mlp_activations(english_data, layer, model, mean=False)\n",
    "\n",
    "MEAN_ACTIVATION_INACTIVE = english_activations[LAYER][:, NEURON].mean()\n",
    "\n",
    "def deactivate_neurons_hook(value, hook):\n",
    "    value[:, :, NEURON] = MEAN_ACTIVATION_INACTIVE\n",
    "    return value\n",
    "deactivate_neurons_fwd_hooks=[(f'blocks.{LAYER}.mlp.hook_post', deactivate_neurons_hook)]\n",
    "\n",
    "print(MEAN_ACTIVATION_INACTIVE)"
   ]
  },
  {
   "cell_type": "code",
   "execution_count": null,
   "metadata": {},
   "outputs": [],
   "source": [
    "def get_layer_probe_performance(model, checkpoint, layer):\n",
    "    english_activations = haystack_utils.get_mlp_activations(english_data[:31], layer, model, mean=False, disable_tqdm=True)[:10000]\n",
    "    german_activations = haystack_utils.get_mlp_activations(german_data[:30], layer, model, mean=False, disable_tqdm=True)[:10000]\n",
    "    neuron_labels = [f'C{checkpoint}L{layer}N{i}' for i in range(model.cfg.d_mlp)]\n",
    "    mean_english_activations = english_activations.mean(0).cpu().numpy()\n",
    "    mean_german_activations = german_activations.mean(0).cpu().numpy()\n",
    "    f1s = []\n",
    "    mccs= []\n",
    "    for neuron in range(model.cfg.d_mlp):\n",
    "        f1, mcc = train_probe(german_activations[:, neuron].unsqueeze(-1), english_activations[:, neuron].unsqueeze(-1))\n",
    "        f1s.append(f1)\n",
    "        mccs.append(mcc)\n",
    "    df = pd.DataFrame({\"Label\": neuron_labels, \"Neuron\": [i for i in range(model.cfg.d_mlp)], \"F1\": f1s, \"MCC\": mccs, \"MeanGermanActivation\": mean_german_activations, \"MeanEnglishActivation\": mean_english_activations})\n",
    "    df[\"Checkpoint\"] = checkpoint\n",
    "    df[\"Layer\"] = layer\n",
    "    return df\n",
    "\n",
    "dfs = []\n",
    "checkpoints = list(range(40)) + [40,50,60,70,80,90,100, 110, 120, 130, 140]\n",
    "with tqdm(total=len(checkpoints)*model.cfg.n_layers) as pbar:\n",
    "    for checkpoint in checkpoints:\n",
    "        model = get_model(checkpoint)\n",
    "        for layer in range(model.cfg.n_layers):\n",
    "            tmp_df = get_layer_probe_performance(model, checkpoint, layer)\n",
    "            dfs.append(tmp_df)\n",
    "            with open(\"data/layer_probe_performance.pkl\", \"wb\") as f:\n",
    "                pickle.dump(dfs, f)\n",
    "            pbar.update(1)"
   ]
  },
  {
   "cell_type": "code",
   "execution_count": 115,
   "metadata": {},
   "outputs": [
    {
     "data": {
      "text/html": [
       "<div>\n",
       "<style scoped>\n",
       "    .dataframe tbody tr th:only-of-type {\n",
       "        vertical-align: middle;\n",
       "    }\n",
       "\n",
       "    .dataframe tbody tr th {\n",
       "        vertical-align: top;\n",
       "    }\n",
       "\n",
       "    .dataframe thead th {\n",
       "        text-align: right;\n",
       "    }\n",
       "</style>\n",
       "<table border=\"1\" class=\"dataframe\">\n",
       "  <thead>\n",
       "    <tr style=\"text-align: right;\">\n",
       "      <th></th>\n",
       "      <th>Label</th>\n",
       "      <th>Neuron</th>\n",
       "      <th>F1</th>\n",
       "      <th>MCC</th>\n",
       "      <th>MeanGermanActivation</th>\n",
       "      <th>MeanEnglishActivation</th>\n",
       "      <th>Checkpoint</th>\n",
       "      <th>Layer</th>\n",
       "    </tr>\n",
       "  </thead>\n",
       "  <tbody>\n",
       "    <tr>\n",
       "      <th>0</th>\n",
       "      <td>C0L0N0</td>\n",
       "      <td>0</td>\n",
       "      <td>0.414037</td>\n",
       "      <td>0.009989</td>\n",
       "      <td>0.132858</td>\n",
       "      <td>0.117383</td>\n",
       "      <td>0</td>\n",
       "      <td>0</td>\n",
       "    </tr>\n",
       "    <tr>\n",
       "      <th>1</th>\n",
       "      <td>C0L0N1</td>\n",
       "      <td>1</td>\n",
       "      <td>0.437648</td>\n",
       "      <td>0.059326</td>\n",
       "      <td>0.158821</td>\n",
       "      <td>0.107143</td>\n",
       "      <td>0</td>\n",
       "      <td>0</td>\n",
       "    </tr>\n",
       "    <tr>\n",
       "      <th>2</th>\n",
       "      <td>C0L0N2</td>\n",
       "      <td>2</td>\n",
       "      <td>0.505419</td>\n",
       "      <td>-0.004196</td>\n",
       "      <td>0.103538</td>\n",
       "      <td>0.108237</td>\n",
       "      <td>0</td>\n",
       "      <td>0</td>\n",
       "    </tr>\n",
       "    <tr>\n",
       "      <th>3</th>\n",
       "      <td>C0L0N3</td>\n",
       "      <td>3</td>\n",
       "      <td>0.572180</td>\n",
       "      <td>0.021733</td>\n",
       "      <td>0.099450</td>\n",
       "      <td>0.143337</td>\n",
       "      <td>0</td>\n",
       "      <td>0</td>\n",
       "    </tr>\n",
       "    <tr>\n",
       "      <th>4</th>\n",
       "      <td>C0L0N4</td>\n",
       "      <td>4</td>\n",
       "      <td>0.582425</td>\n",
       "      <td>0.060994</td>\n",
       "      <td>0.152917</td>\n",
       "      <td>0.224428</td>\n",
       "      <td>0</td>\n",
       "      <td>0</td>\n",
       "    </tr>\n",
       "  </tbody>\n",
       "</table>\n",
       "</div>"
      ],
      "text/plain": [
       "    Label  Neuron        F1       MCC  MeanGermanActivation  \\\n",
       "0  C0L0N0       0  0.414037  0.009989              0.132858   \n",
       "1  C0L0N1       1  0.437648  0.059326              0.158821   \n",
       "2  C0L0N2       2  0.505419 -0.004196              0.103538   \n",
       "3  C0L0N3       3  0.572180  0.021733              0.099450   \n",
       "4  C0L0N4       4  0.582425  0.060994              0.152917   \n",
       "\n",
       "   MeanEnglishActivation  Checkpoint  Layer  \n",
       "0               0.117383           0      0  \n",
       "1               0.107143           0      0  \n",
       "2               0.108237           0      0  \n",
       "3               0.143337           0      0  \n",
       "4               0.224428           0      0  "
      ]
     },
     "execution_count": 115,
     "metadata": {},
     "output_type": "execute_result"
    }
   ],
   "source": [
    "df = pd.concat(dfs)\n",
    "df[\"NeuronLabel\"] = df.apply(lambda row: f\"L{row['Layer']}N{row['Neuron']}\", axis=1)"
   ]
  },
  {
   "cell_type": "code",
   "execution_count": 117,
   "metadata": {},
   "outputs": [
    {
     "data": {
      "text/html": [
       "<div>                            <div id=\"84063de5-2e01-4fd5-b997-da3a3574a896\" class=\"plotly-graph-div\" style=\"height:525px; width:100%;\"></div>            <script type=\"text/javascript\">                require([\"plotly\"], function(Plotly) {                    window.PLOTLYENV=window.PLOTLYENV || {};                                    if (document.getElementById(\"84063de5-2e01-4fd5-b997-da3a3574a896\")) {                    Plotly.newPlot(                        \"84063de5-2e01-4fd5-b997-da3a3574a896\",                        [{\"hovertemplate\":\"x=%{x}\\u003cbr\\u003ey=%{y}\\u003cextra\\u003e\\u003c\\u002fextra\\u003e\",\"legendgroup\":\"\",\"line\":{\"color\":\"#636efa\",\"dash\":\"solid\"},\"marker\":{\"symbol\":\"circle\"},\"mode\":\"lines\",\"name\":\"\",\"orientation\":\"v\",\"showlegend\":false,\"x\":[0,1,2,3,4,5,6,7,8,9,10,11,12,13,14,15,16,17,18,19,20,21,22,23,24,25,26,27,28,29,30,31,32,33,34,35,36,37,38,39,40,50,60,70,80,90,100,110,120,130,140],\"xaxis\":\"x\",\"y\":[0.26860640509447353,0.26860640509447353,0.2681208423008663,0.26866806870207344,0.2712189561607094,0.26693305482616375,0.2743236521124335,0.5979973390005091,0.7896369008139942,0.9139957003171302,0.9095154561144023,0.8893725608269226,0.915271993883172,0.9191661030523088,0.9426962031159453,0.9623838731536251,0.9599846542035717,0.9584996432590523,0.9565305609716273,0.9595640707040127,0.9571486208385829,0.9600478442633351,0.9634406813520999,0.9743082571801939,0.9673320829459986,0.9771428258532012,0.9698454117259079,0.964440936680892,0.9698718913409777,0.9634119027803799,0.9619550341029967,0.9673071002193121,0.9717278139711754,0.9603059432584303,0.9677273454148508,0.9741781695798046,0.9635011350622072,0.9631963104782901,0.9658710626420025,0.9633572411924799,0.9553556548313092,0.9696507844002721,0.9647063972272429,0.9687068197723471,0.9622823346531502,0.9682832362994257,0.9707070310448992,0.9682169643507996,0.9712172981385951,0.9742176319263907,0.9757075592262795],\"yaxis\":\"y\",\"type\":\"scatter\"}],                        {\"template\":{\"data\":{\"histogram2dcontour\":[{\"type\":\"histogram2dcontour\",\"colorbar\":{\"outlinewidth\":0,\"ticks\":\"\"},\"colorscale\":[[0.0,\"#0d0887\"],[0.1111111111111111,\"#46039f\"],[0.2222222222222222,\"#7201a8\"],[0.3333333333333333,\"#9c179e\"],[0.4444444444444444,\"#bd3786\"],[0.5555555555555556,\"#d8576b\"],[0.6666666666666666,\"#ed7953\"],[0.7777777777777778,\"#fb9f3a\"],[0.8888888888888888,\"#fdca26\"],[1.0,\"#f0f921\"]]}],\"choropleth\":[{\"type\":\"choropleth\",\"colorbar\":{\"outlinewidth\":0,\"ticks\":\"\"}}],\"histogram2d\":[{\"type\":\"histogram2d\",\"colorbar\":{\"outlinewidth\":0,\"ticks\":\"\"},\"colorscale\":[[0.0,\"#0d0887\"],[0.1111111111111111,\"#46039f\"],[0.2222222222222222,\"#7201a8\"],[0.3333333333333333,\"#9c179e\"],[0.4444444444444444,\"#bd3786\"],[0.5555555555555556,\"#d8576b\"],[0.6666666666666666,\"#ed7953\"],[0.7777777777777778,\"#fb9f3a\"],[0.8888888888888888,\"#fdca26\"],[1.0,\"#f0f921\"]]}],\"heatmap\":[{\"type\":\"heatmap\",\"colorbar\":{\"outlinewidth\":0,\"ticks\":\"\"},\"colorscale\":[[0.0,\"#0d0887\"],[0.1111111111111111,\"#46039f\"],[0.2222222222222222,\"#7201a8\"],[0.3333333333333333,\"#9c179e\"],[0.4444444444444444,\"#bd3786\"],[0.5555555555555556,\"#d8576b\"],[0.6666666666666666,\"#ed7953\"],[0.7777777777777778,\"#fb9f3a\"],[0.8888888888888888,\"#fdca26\"],[1.0,\"#f0f921\"]]}],\"heatmapgl\":[{\"type\":\"heatmapgl\",\"colorbar\":{\"outlinewidth\":0,\"ticks\":\"\"},\"colorscale\":[[0.0,\"#0d0887\"],[0.1111111111111111,\"#46039f\"],[0.2222222222222222,\"#7201a8\"],[0.3333333333333333,\"#9c179e\"],[0.4444444444444444,\"#bd3786\"],[0.5555555555555556,\"#d8576b\"],[0.6666666666666666,\"#ed7953\"],[0.7777777777777778,\"#fb9f3a\"],[0.8888888888888888,\"#fdca26\"],[1.0,\"#f0f921\"]]}],\"contourcarpet\":[{\"type\":\"contourcarpet\",\"colorbar\":{\"outlinewidth\":0,\"ticks\":\"\"}}],\"contour\":[{\"type\":\"contour\",\"colorbar\":{\"outlinewidth\":0,\"ticks\":\"\"},\"colorscale\":[[0.0,\"#0d0887\"],[0.1111111111111111,\"#46039f\"],[0.2222222222222222,\"#7201a8\"],[0.3333333333333333,\"#9c179e\"],[0.4444444444444444,\"#bd3786\"],[0.5555555555555556,\"#d8576b\"],[0.6666666666666666,\"#ed7953\"],[0.7777777777777778,\"#fb9f3a\"],[0.8888888888888888,\"#fdca26\"],[1.0,\"#f0f921\"]]}],\"surface\":[{\"type\":\"surface\",\"colorbar\":{\"outlinewidth\":0,\"ticks\":\"\"},\"colorscale\":[[0.0,\"#0d0887\"],[0.1111111111111111,\"#46039f\"],[0.2222222222222222,\"#7201a8\"],[0.3333333333333333,\"#9c179e\"],[0.4444444444444444,\"#bd3786\"],[0.5555555555555556,\"#d8576b\"],[0.6666666666666666,\"#ed7953\"],[0.7777777777777778,\"#fb9f3a\"],[0.8888888888888888,\"#fdca26\"],[1.0,\"#f0f921\"]]}],\"mesh3d\":[{\"type\":\"mesh3d\",\"colorbar\":{\"outlinewidth\":0,\"ticks\":\"\"}}],\"scatter\":[{\"fillpattern\":{\"fillmode\":\"overlay\",\"size\":10,\"solidity\":0.2},\"type\":\"scatter\"}],\"parcoords\":[{\"type\":\"parcoords\",\"line\":{\"colorbar\":{\"outlinewidth\":0,\"ticks\":\"\"}}}],\"scatterpolargl\":[{\"type\":\"scatterpolargl\",\"marker\":{\"colorbar\":{\"outlinewidth\":0,\"ticks\":\"\"}}}],\"bar\":[{\"error_x\":{\"color\":\"#2a3f5f\"},\"error_y\":{\"color\":\"#2a3f5f\"},\"marker\":{\"line\":{\"color\":\"#E5ECF6\",\"width\":0.5},\"pattern\":{\"fillmode\":\"overlay\",\"size\":10,\"solidity\":0.2}},\"type\":\"bar\"}],\"scattergeo\":[{\"type\":\"scattergeo\",\"marker\":{\"colorbar\":{\"outlinewidth\":0,\"ticks\":\"\"}}}],\"scatterpolar\":[{\"type\":\"scatterpolar\",\"marker\":{\"colorbar\":{\"outlinewidth\":0,\"ticks\":\"\"}}}],\"histogram\":[{\"marker\":{\"pattern\":{\"fillmode\":\"overlay\",\"size\":10,\"solidity\":0.2}},\"type\":\"histogram\"}],\"scattergl\":[{\"type\":\"scattergl\",\"marker\":{\"colorbar\":{\"outlinewidth\":0,\"ticks\":\"\"}}}],\"scatter3d\":[{\"type\":\"scatter3d\",\"line\":{\"colorbar\":{\"outlinewidth\":0,\"ticks\":\"\"}},\"marker\":{\"colorbar\":{\"outlinewidth\":0,\"ticks\":\"\"}}}],\"scattermapbox\":[{\"type\":\"scattermapbox\",\"marker\":{\"colorbar\":{\"outlinewidth\":0,\"ticks\":\"\"}}}],\"scatterternary\":[{\"type\":\"scatterternary\",\"marker\":{\"colorbar\":{\"outlinewidth\":0,\"ticks\":\"\"}}}],\"scattercarpet\":[{\"type\":\"scattercarpet\",\"marker\":{\"colorbar\":{\"outlinewidth\":0,\"ticks\":\"\"}}}],\"carpet\":[{\"aaxis\":{\"endlinecolor\":\"#2a3f5f\",\"gridcolor\":\"white\",\"linecolor\":\"white\",\"minorgridcolor\":\"white\",\"startlinecolor\":\"#2a3f5f\"},\"baxis\":{\"endlinecolor\":\"#2a3f5f\",\"gridcolor\":\"white\",\"linecolor\":\"white\",\"minorgridcolor\":\"white\",\"startlinecolor\":\"#2a3f5f\"},\"type\":\"carpet\"}],\"table\":[{\"cells\":{\"fill\":{\"color\":\"#EBF0F8\"},\"line\":{\"color\":\"white\"}},\"header\":{\"fill\":{\"color\":\"#C8D4E3\"},\"line\":{\"color\":\"white\"}},\"type\":\"table\"}],\"barpolar\":[{\"marker\":{\"line\":{\"color\":\"#E5ECF6\",\"width\":0.5},\"pattern\":{\"fillmode\":\"overlay\",\"size\":10,\"solidity\":0.2}},\"type\":\"barpolar\"}],\"pie\":[{\"automargin\":true,\"type\":\"pie\"}]},\"layout\":{\"autotypenumbers\":\"strict\",\"colorway\":[\"#636efa\",\"#EF553B\",\"#00cc96\",\"#ab63fa\",\"#FFA15A\",\"#19d3f3\",\"#FF6692\",\"#B6E880\",\"#FF97FF\",\"#FECB52\"],\"font\":{\"color\":\"#2a3f5f\"},\"hovermode\":\"closest\",\"hoverlabel\":{\"align\":\"left\"},\"paper_bgcolor\":\"white\",\"plot_bgcolor\":\"#E5ECF6\",\"polar\":{\"bgcolor\":\"#E5ECF6\",\"angularaxis\":{\"gridcolor\":\"white\",\"linecolor\":\"white\",\"ticks\":\"\"},\"radialaxis\":{\"gridcolor\":\"white\",\"linecolor\":\"white\",\"ticks\":\"\"}},\"ternary\":{\"bgcolor\":\"#E5ECF6\",\"aaxis\":{\"gridcolor\":\"white\",\"linecolor\":\"white\",\"ticks\":\"\"},\"baxis\":{\"gridcolor\":\"white\",\"linecolor\":\"white\",\"ticks\":\"\"},\"caxis\":{\"gridcolor\":\"white\",\"linecolor\":\"white\",\"ticks\":\"\"}},\"coloraxis\":{\"colorbar\":{\"outlinewidth\":0,\"ticks\":\"\"}},\"colorscale\":{\"sequential\":[[0.0,\"#0d0887\"],[0.1111111111111111,\"#46039f\"],[0.2222222222222222,\"#7201a8\"],[0.3333333333333333,\"#9c179e\"],[0.4444444444444444,\"#bd3786\"],[0.5555555555555556,\"#d8576b\"],[0.6666666666666666,\"#ed7953\"],[0.7777777777777778,\"#fb9f3a\"],[0.8888888888888888,\"#fdca26\"],[1.0,\"#f0f921\"]],\"sequentialminus\":[[0.0,\"#0d0887\"],[0.1111111111111111,\"#46039f\"],[0.2222222222222222,\"#7201a8\"],[0.3333333333333333,\"#9c179e\"],[0.4444444444444444,\"#bd3786\"],[0.5555555555555556,\"#d8576b\"],[0.6666666666666666,\"#ed7953\"],[0.7777777777777778,\"#fb9f3a\"],[0.8888888888888888,\"#fdca26\"],[1.0,\"#f0f921\"]],\"diverging\":[[0,\"#8e0152\"],[0.1,\"#c51b7d\"],[0.2,\"#de77ae\"],[0.3,\"#f1b6da\"],[0.4,\"#fde0ef\"],[0.5,\"#f7f7f7\"],[0.6,\"#e6f5d0\"],[0.7,\"#b8e186\"],[0.8,\"#7fbc41\"],[0.9,\"#4d9221\"],[1,\"#276419\"]]},\"xaxis\":{\"gridcolor\":\"white\",\"linecolor\":\"white\",\"ticks\":\"\",\"title\":{\"standoff\":15},\"zerolinecolor\":\"white\",\"automargin\":true,\"zerolinewidth\":2},\"yaxis\":{\"gridcolor\":\"white\",\"linecolor\":\"white\",\"ticks\":\"\",\"title\":{\"standoff\":15},\"zerolinecolor\":\"white\",\"automargin\":true,\"zerolinewidth\":2},\"scene\":{\"xaxis\":{\"backgroundcolor\":\"#E5ECF6\",\"gridcolor\":\"white\",\"linecolor\":\"white\",\"showbackground\":true,\"ticks\":\"\",\"zerolinecolor\":\"white\",\"gridwidth\":2},\"yaxis\":{\"backgroundcolor\":\"#E5ECF6\",\"gridcolor\":\"white\",\"linecolor\":\"white\",\"showbackground\":true,\"ticks\":\"\",\"zerolinecolor\":\"white\",\"gridwidth\":2},\"zaxis\":{\"backgroundcolor\":\"#E5ECF6\",\"gridcolor\":\"white\",\"linecolor\":\"white\",\"showbackground\":true,\"ticks\":\"\",\"zerolinecolor\":\"white\",\"gridwidth\":2}},\"shapedefaults\":{\"line\":{\"color\":\"#2a3f5f\"}},\"annotationdefaults\":{\"arrowcolor\":\"#2a3f5f\",\"arrowhead\":0,\"arrowwidth\":1},\"geo\":{\"bgcolor\":\"white\",\"landcolor\":\"#E5ECF6\",\"subunitcolor\":\"white\",\"showland\":true,\"showlakes\":true,\"lakecolor\":\"white\"},\"title\":{\"x\":0.05},\"mapbox\":{\"style\":\"light\"}}},\"xaxis\":{\"anchor\":\"y\",\"domain\":[0.0,1.0],\"title\":{\"text\":\"x\"}},\"yaxis\":{\"anchor\":\"x\",\"domain\":[0.0,1.0],\"title\":{\"text\":\"y\"}},\"legend\":{\"tracegroupgap\":0},\"title\":{\"text\":\"Top Probe MCC by Checkpoint\"}},                        {\"responsive\": true}                    ).then(function(){\n",
       "                            \n",
       "var gd = document.getElementById('84063de5-2e01-4fd5-b997-da3a3574a896');\n",
       "var x = new MutationObserver(function (mutations, observer) {{\n",
       "        var display = window.getComputedStyle(gd).display;\n",
       "        if (!display || display === 'none') {{\n",
       "            console.log([gd, 'removed!']);\n",
       "            Plotly.purge(gd);\n",
       "            observer.disconnect();\n",
       "        }}\n",
       "}});\n",
       "\n",
       "// Listen for the removal of the full notebook cells\n",
       "var notebookContainer = gd.closest('#notebook-container');\n",
       "if (notebookContainer) {{\n",
       "    x.observe(notebookContainer, {childList: true});\n",
       "}}\n",
       "\n",
       "// Listen for the clearing of the current output cell\n",
       "var outputEl = gd.closest('.output');\n",
       "if (outputEl) {{\n",
       "    x.observe(outputEl, {childList: true});\n",
       "}}\n",
       "\n",
       "                        })                };                });            </script>        </div>"
      ]
     },
     "metadata": {},
     "output_type": "display_data"
    }
   ],
   "source": [
    "checkpoints = []\n",
    "top_probe = []\n",
    "for checkpoint in df[\"Checkpoint\"].unique():\n",
    "    tmp_df = df[df[\"Checkpoint\"] == checkpoint]\n",
    "    top_probe.append(tmp_df[\"MCC\"].max())\n",
    "    checkpoints.append(checkpoint)\n",
    "px.line(x=checkpoints, y=top_probe, title=\"Top Probe MCC by Checkpoint\")"
   ]
  },
  {
   "cell_type": "code",
   "execution_count": 127,
   "metadata": {},
   "outputs": [
    {
     "name": "stdout",
     "output_type": "stream",
     "text": [
      "431\n"
     ]
    }
   ],
   "source": [
    "neurons = df[df[\"MCC\"] > 0.7][[\"NeuronLabel\", \"MCC\"]].copy()\n",
    "neurons = neurons.sort_values(by=\"MCC\", ascending=False)\n",
    "print(len(neurons[\"NeuronLabel\"].unique()))\n",
    "good_neurons = neurons[\"NeuronLabel\"].unique()[:50]"
   ]
  },
  {
   "cell_type": "code",
   "execution_count": 143,
   "metadata": {},
   "outputs": [
    {
     "data": {
      "text/plain": [
       "-0.08759497106075287"
      ]
     },
     "execution_count": 143,
     "metadata": {},
     "output_type": "execute_result"
    }
   ],
   "source": [
    "def get_mean_english(df, neuron, layer, checkpoint):\n",
    "    label = f\"C{checkpoint}L{layer}N{neuron}\"\n",
    "    df = df[df[\"Label\"]==label][\"MeanEnglishActivation\"].item()\n",
    "    return df\n",
    "\n",
    "get_mean_english(df, 669, 3, 140)"
   ]
  },
  {
   "cell_type": "code",
   "execution_count": 138,
   "metadata": {},
   "outputs": [
    {
     "data": {
      "text/html": [
       "<div>\n",
       "<style scoped>\n",
       "    .dataframe tbody tr th:only-of-type {\n",
       "        vertical-align: middle;\n",
       "    }\n",
       "\n",
       "    .dataframe tbody tr th {\n",
       "        vertical-align: top;\n",
       "    }\n",
       "\n",
       "    .dataframe thead th {\n",
       "        text-align: right;\n",
       "    }\n",
       "</style>\n",
       "<table border=\"1\" class=\"dataframe\">\n",
       "  <thead>\n",
       "    <tr style=\"text-align: right;\">\n",
       "      <th></th>\n",
       "      <th>Label</th>\n",
       "      <th>Neuron</th>\n",
       "      <th>F1</th>\n",
       "      <th>MCC</th>\n",
       "      <th>MeanGermanActivation</th>\n",
       "      <th>MeanEnglishActivation</th>\n",
       "      <th>Checkpoint</th>\n",
       "      <th>Layer</th>\n",
       "      <th>NeuronLabel</th>\n",
       "    </tr>\n",
       "  </thead>\n",
       "  <tbody>\n",
       "    <tr>\n",
       "      <th>0</th>\n",
       "      <td>C0L0N0</td>\n",
       "      <td>0</td>\n",
       "      <td>0.414037</td>\n",
       "      <td>0.009989</td>\n",
       "      <td>0.132858</td>\n",
       "      <td>0.117383</td>\n",
       "      <td>0</td>\n",
       "      <td>0</td>\n",
       "      <td>L0N0</td>\n",
       "    </tr>\n",
       "    <tr>\n",
       "      <th>1</th>\n",
       "      <td>C0L0N1</td>\n",
       "      <td>1</td>\n",
       "      <td>0.437648</td>\n",
       "      <td>0.059326</td>\n",
       "      <td>0.158821</td>\n",
       "      <td>0.107143</td>\n",
       "      <td>0</td>\n",
       "      <td>0</td>\n",
       "      <td>L0N1</td>\n",
       "    </tr>\n",
       "    <tr>\n",
       "      <th>2</th>\n",
       "      <td>C0L0N2</td>\n",
       "      <td>2</td>\n",
       "      <td>0.505419</td>\n",
       "      <td>-0.004196</td>\n",
       "      <td>0.103538</td>\n",
       "      <td>0.108237</td>\n",
       "      <td>0</td>\n",
       "      <td>0</td>\n",
       "      <td>L0N2</td>\n",
       "    </tr>\n",
       "    <tr>\n",
       "      <th>3</th>\n",
       "      <td>C0L0N3</td>\n",
       "      <td>3</td>\n",
       "      <td>0.572180</td>\n",
       "      <td>0.021733</td>\n",
       "      <td>0.099450</td>\n",
       "      <td>0.143337</td>\n",
       "      <td>0</td>\n",
       "      <td>0</td>\n",
       "      <td>L0N3</td>\n",
       "    </tr>\n",
       "    <tr>\n",
       "      <th>4</th>\n",
       "      <td>C0L0N4</td>\n",
       "      <td>4</td>\n",
       "      <td>0.582425</td>\n",
       "      <td>0.060994</td>\n",
       "      <td>0.152917</td>\n",
       "      <td>0.224428</td>\n",
       "      <td>0</td>\n",
       "      <td>0</td>\n",
       "      <td>L0N4</td>\n",
       "    </tr>\n",
       "  </tbody>\n",
       "</table>\n",
       "</div>"
      ],
      "text/plain": [
       "    Label  Neuron        F1       MCC  MeanGermanActivation  \\\n",
       "0  C0L0N0       0  0.414037  0.009989              0.132858   \n",
       "1  C0L0N1       1  0.437648  0.059326              0.158821   \n",
       "2  C0L0N2       2  0.505419 -0.004196              0.103538   \n",
       "3  C0L0N3       3  0.572180  0.021733              0.099450   \n",
       "4  C0L0N4       4  0.582425  0.060994              0.152917   \n",
       "\n",
       "   MeanEnglishActivation  Checkpoint  Layer NeuronLabel  \n",
       "0               0.117383           0      0        L0N0  \n",
       "1               0.107143           0      0        L0N1  \n",
       "2               0.108237           0      0        L0N2  \n",
       "3               0.143337           0      0        L0N3  \n",
       "4               0.224428           0      0        L0N4  "
      ]
     },
     "execution_count": 138,
     "metadata": {},
     "output_type": "execute_result"
    }
   ],
   "source": [
    "df.head()"
   ]
  },
  {
   "cell_type": "code",
   "execution_count": 144,
   "metadata": {},
   "outputs": [
    {
     "name": "stdout",
     "output_type": "stream",
     "text": [
      "[0, 10, 20, 30, 40, 50, 60, 70, 80, 90, 100, 110, 120, 130, 140]\n"
     ]
    },
    {
     "data": {
      "application/vnd.jupyter.widget-view+json": {
       "model_id": "053b27b07c0d49758d9faa0856efbe6a",
       "version_major": 2,
       "version_minor": 0
      },
      "text/plain": [
       "  0%|          | 0/750 [00:00<?, ?it/s]"
      ]
     },
     "metadata": {},
     "output_type": "display_data"
    },
    {
     "name": "stderr",
     "output_type": "stream",
     "text": [
      "WARNING:root:Pythia models on HF were updated on 4/3/23! add '-v0' to model name to access the old models.\n",
      "Using pad_token, but it is not set yet.\n"
     ]
    },
    {
     "name": "stdout",
     "output_type": "stream",
     "text": [
      "Loaded pretrained model EleutherAI/pythia-70m into HookedTransformer\n"
     ]
    },
    {
     "name": "stderr",
     "output_type": "stream",
     "text": [
      "WARNING:root:Pythia models on HF were updated on 4/3/23! add '-v0' to model name to access the old models.\n",
      "Using pad_token, but it is not set yet.\n"
     ]
    },
    {
     "name": "stdout",
     "output_type": "stream",
     "text": [
      "Loaded pretrained model EleutherAI/pythia-70m into HookedTransformer\n"
     ]
    },
    {
     "name": "stderr",
     "output_type": "stream",
     "text": [
      "WARNING:root:Pythia models on HF were updated on 4/3/23! add '-v0' to model name to access the old models.\n",
      "Using pad_token, but it is not set yet.\n"
     ]
    },
    {
     "name": "stdout",
     "output_type": "stream",
     "text": [
      "Loaded pretrained model EleutherAI/pythia-70m into HookedTransformer\n"
     ]
    },
    {
     "name": "stderr",
     "output_type": "stream",
     "text": [
      "WARNING:root:Pythia models on HF were updated on 4/3/23! add '-v0' to model name to access the old models.\n",
      "Using pad_token, but it is not set yet.\n"
     ]
    },
    {
     "name": "stdout",
     "output_type": "stream",
     "text": [
      "Loaded pretrained model EleutherAI/pythia-70m into HookedTransformer\n"
     ]
    },
    {
     "name": "stderr",
     "output_type": "stream",
     "text": [
      "WARNING:root:Pythia models on HF were updated on 4/3/23! add '-v0' to model name to access the old models.\n",
      "Using pad_token, but it is not set yet.\n"
     ]
    },
    {
     "name": "stdout",
     "output_type": "stream",
     "text": [
      "Loaded pretrained model EleutherAI/pythia-70m into HookedTransformer\n"
     ]
    }
   ],
   "source": [
    "ablation_data = []\n",
    "checkpoints = list(range(0, NUM_CHECKPOINTS, 10))\n",
    "print(checkpoints)\n",
    "with tqdm(total=len(checkpoints)*len(good_neurons)) as pbar:\n",
    "    for checkpoint in checkpoints:\n",
    "        model = get_model(checkpoint)\n",
    "        for neuron_name in good_neurons:\n",
    "            layer, neuron = neuron_name[1:].split(\"N\")\n",
    "            layer, neuron = int(layer), int(neuron)\n",
    "            english_activations = get_mean_english(df, neuron, layer, checkpoint)\n",
    "            assert english_activations is not None\n",
    "            def tmp_hook(value, hook):\n",
    "                value[:, :, neuron] = english_activations\n",
    "                return value\n",
    "            tmp_hooks=[(f'blocks.{layer}.mlp.hook_post', tmp_hook)]\n",
    "            original_loss = eval_loss(model, german_data)\n",
    "            with model.hooks(tmp_hooks):\n",
    "                ablated_loss = eval_loss(model, german_data)\n",
    "            ablation_data.append([neuron_name, checkpoint, original_loss, ablated_loss])\n",
    "            pbar.update(1)\n",
    "    "
   ]
  },
  {
   "cell_type": "code",
   "execution_count": null,
   "metadata": {},
   "outputs": [],
   "source": [
    "ablation_df = pd.DataFrame(ablation_data, columns=[\"Label\", \"Checkpoint\", \"OriginalLoss\", \"AblatedLoss\"])\n",
    "ablation_df.to_csv(\"data/checkpoint_ablation_data.csv\")"
   ]
  },
  {
   "cell_type": "code",
   "execution_count": 98,
   "metadata": {},
   "outputs": [
    {
     "name": "stdout",
     "output_type": "stream",
     "text": [
      "70\n",
      "[]\n"
     ]
    }
   ],
   "source": [
    "max_mcc = df.groupby(\"NeuronLabel\")[\"MCC\"].max()\n",
    "print(len(max_mcc[max_mcc < 0.1].index))\n",
    "bad_neurons = []#max_mcc[max_mcc < 0.1].index[:10]\n",
    "print(bad_neurons)"
   ]
  },
  {
   "cell_type": "code",
   "execution_count": 99,
   "metadata": {},
   "outputs": [
    {
     "data": {
      "text/html": [
       "<div>                            <div id=\"6230e520-7f6e-4a5c-aaf7-95cc8e1161e6\" class=\"plotly-graph-div\" style=\"height:525px; width:100%;\"></div>            <script type=\"text/javascript\">                require([\"plotly\"], function(Plotly) {                    window.PLOTLYENV=window.PLOTLYENV || {};                                    if (document.getElementById(\"6230e520-7f6e-4a5c-aaf7-95cc8e1161e6\")) {                    Plotly.newPlot(                        \"6230e520-7f6e-4a5c-aaf7-95cc8e1161e6\",                        [{\"hovertemplate\":\"NeuronLabel=L3N669\\u003cbr\\u003eCheckpoint=%{x}\\u003cbr\\u003eMCC=%{y}\\u003cextra\\u003e\\u003c\\u002fextra\\u003e\",\"legendgroup\":\"L3N669\",\"line\":{\"color\":\"#636efa\",\"dash\":\"solid\"},\"marker\":{\"symbol\":\"circle\"},\"mode\":\"lines\",\"name\":\"L3N669\",\"showlegend\":true,\"x\":[0,1,2,3,4,5,6,7,8,9,10,11,12,13,14,15,16,17,18,19,20,21,22,23,24,25,26,27,28,29,30,31,32,33,34,35,36,37,38,39,40,50,60,70,80,90,100,110,120,130,140],\"xaxis\":\"x\",\"y\":[0.015029316246086437,0.015029316246086437,0.015029316246086437,0.012907767537376972,0.012296811840503618,0.020997078362702423,0.009720122330114562,0.002161676429532376,0.16501972105297497,0.3046001065704784,0.6740830201020969,0.7107491671010728,0.8031713412458441,0.8188262107525188,0.8190742092190748,0.8303745242873833,0.8586382269576235,0.8719348211294297,0.9028828343704579,0.8996865697511205,0.8889180441986976,0.8899985323423647,0.9088891896553591,0.9260055501274848,0.9233985238891191,0.9311730950841173,0.9518681621955896,0.9406953000780107,0.9602820341043916,0.9484083730422472,0.9494086083581228,0.952952642704304,0.9569245776164257,0.9563558531264555,0.9535619982933031,0.9558961828372928,0.9451091354867995,0.9587936320227601,0.9652597676647283,0.9632374695426686,0.9553556548313092,0.9667066084997951,0.9647063972272429,0.9687068197723471,0.9622823346531502,0.9682832362994257,0.9707070310448992,0.9682169643507996,0.9712172981385951,0.9742176319263907,0.9757075592262795],\"yaxis\":\"y\",\"type\":\"scattergl\"},{\"hovertemplate\":\"NeuronLabel=L3N1542\\u003cbr\\u003eCheckpoint=%{x}\\u003cbr\\u003eMCC=%{y}\\u003cextra\\u003e\\u003c\\u002fextra\\u003e\",\"legendgroup\":\"L3N1542\",\"line\":{\"color\":\"#EF553B\",\"dash\":\"solid\"},\"marker\":{\"symbol\":\"circle\"},\"mode\":\"lines\",\"name\":\"L3N1542\",\"showlegend\":true,\"x\":[0,1,2,3,4,5,6,7,8,9,10,11,12,13,14,15,16,17,18,19,20,21,22,23,24,25,26,27,28,29,30,31,32,33,34,35,36,37,38,39,40,50,60,70,80,90,100,110,120,130,140],\"xaxis\":\"x\",\"y\":[0.0666672503362738,0.0666672503362738,0.0666672503362738,0.06771387305045055,0.06514809344907088,0.051311033096301244,-0.012054744006306902,0.15351831639705701,0.22362620809426548,0.5530759110382717,0.8610691998583402,0.7372850921283371,0.5296001860801942,0.44968950215159803,0.3917484674304925,0.2884442082279233,0.2910648125196483,0.2948295896020892,0.27678247466746053,0.2859707970839788,0.2738356791718157,0.2968094932868207,0.24523099430872033,0.27503730615223,0.23596597943508776,0.2738652243315262,0.2886306282379244,0.25528419779935274,0.2901188215551586,0.2659609079721279,0.25185756547788474,0.2833104243805257,0.25775123732961897,0.2294282450782842,0.2784257758213913,0.2885087719248921,0.2745808160456651,0.25923772642197773,0.2773153287804044,0.2511334496063854,0.2665237925714347,0.27904894614471565,0.29035742769451145,0.25562853123637386,0.28833328711410966,0.2833784621448752,0.27096812682627747,0.30945067916431557,0.256315884993595,0.3392909014437683,0.30477474310298236],\"yaxis\":\"y\",\"type\":\"scattergl\"},{\"hovertemplate\":\"NeuronLabel=L4N45\\u003cbr\\u003eCheckpoint=%{x}\\u003cbr\\u003eMCC=%{y}\\u003cextra\\u003e\\u003c\\u002fextra\\u003e\",\"legendgroup\":\"L4N45\",\"line\":{\"color\":\"#00cc96\",\"dash\":\"solid\"},\"marker\":{\"symbol\":\"circle\"},\"mode\":\"lines\",\"name\":\"L4N45\",\"showlegend\":true,\"x\":[0,1,2,3,4,5,6,7,8,9,10,11,12,13,14,15,16,17,18,19,20,21,22,23,24,25,26,27,28,29,30,31,32,33,34,35,36,37,38,39,40,50,60,70,80,90,100,110,120,130,140],\"xaxis\":\"x\",\"y\":[0.02973503319763508,0.02973503319763508,0.02973503319763508,0.030259621283738276,0.02669099257955241,0.024569114194943432,0.06401021455970317,0.07980613690587451,0.45685706114929536,0.7300963328380518,0.8777744347312454,0.8893725608269226,0.8096297372100921,0.810562125005857,0.768227981976475,0.640111854637218,0.6488287818172033,0.6442514072433221,0.6402976200498671,0.6256153745798185,0.6367664063430822,0.6277616879190641,0.6529031025713096,0.6821336965436409,0.5782625082732278,0.630394099651345,0.6263515710572155,0.6191950027846872,0.6407466789918547,0.6325361570235797,0.6473809196316513,0.6550682721769951,0.6711712052267578,0.6082281729456307,0.6476390294119836,0.6169340536391625,0.6932899175710179,0.6676883323443382,0.6556032561451739,0.7057027295882882,0.6985656381265822,0.7289401026861826,0.6393734867051943,0.6984025974093658,0.7244508033747085,0.7625096427711645,0.7901376243832934,0.8108211020822546,0.8243039509725764,0.8255034808345089,0.8539976574762116],\"yaxis\":\"y\",\"type\":\"scattergl\"},{\"hovertemplate\":\"NeuronLabel=L4N482\\u003cbr\\u003eCheckpoint=%{x}\\u003cbr\\u003eMCC=%{y}\\u003cextra\\u003e\\u003c\\u002fextra\\u003e\",\"legendgroup\":\"L4N482\",\"line\":{\"color\":\"#ab63fa\",\"dash\":\"solid\"},\"marker\":{\"symbol\":\"circle\"},\"mode\":\"lines\",\"name\":\"L4N482\",\"showlegend\":true,\"x\":[0,1,2,3,4,5,6,7,8,9,10,11,12,13,14,15,16,17,18,19,20,21,22,23,24,25,26,27,28,29,30,31,32,33,34,35,36,37,38,39,40,50,60,70,80,90,100,110,120,130,140],\"xaxis\":\"x\",\"y\":[-0.04569110604346036,-0.04569110604346036,-0.0451351259116959,-0.04778404407652113,-0.06248153187092354,0.0,-0.01886538732121483,0.16047528555280485,0.30958200555796755,0.5684483599662581,0.5175081419221659,0.5952786837995414,0.5900110310401088,0.6448028141806229,0.7030383864184565,0.7159419485599112,0.7569948186357294,0.7703716614614093,0.7655238454861705,0.7843595498134374,0.7824065359143203,0.7927388371665421,0.791522132346119,0.7712599162456641,0.7661321852591193,0.7860943414039397,0.8112014619886629,0.7932917025496538,0.8154551104389456,0.7923686445681821,0.8030674126700781,0.8317352566623234,0.813116531283129,0.8095564676084914,0.812746098107378,0.8356153526550573,0.8005893156340538,0.8349889517621418,0.8327388064096969,0.8355915591005808,0.8501096786991214,0.8391501101756895,0.8051586060395032,0.8534675369728464,0.8369896406369567,0.8176959532186736,0.8127733089151602,0.8037133862735809,0.79578467554429,0.7958684661527939,0.7994262296452846],\"yaxis\":\"y\",\"type\":\"scattergl\"},{\"hovertemplate\":\"NeuronLabel=L4N1276\\u003cbr\\u003eCheckpoint=%{x}\\u003cbr\\u003eMCC=%{y}\\u003cextra\\u003e\\u003c\\u002fextra\\u003e\",\"legendgroup\":\"L4N1276\",\"line\":{\"color\":\"#FFA15A\",\"dash\":\"solid\"},\"marker\":{\"symbol\":\"circle\"},\"mode\":\"lines\",\"name\":\"L4N1276\",\"showlegend\":true,\"x\":[0,1,2,3,4,5,6,7,8,9,10,11,12,13,14,15,16,17,18,19,20,21,22,23,24,25,26,27,28,29,30,31,32,33,34,35,36,37,38,39,40,50,60,70,80,90,100,110,120,130,140],\"xaxis\":\"x\",\"y\":[-0.019988768542063585,-0.019988768542063585,-0.019988768542063585,-0.020512233838652392,-0.023863007160819807,-0.025777171551710033,0.04706316544204001,0.20004004034707762,0.3384423012041348,0.6391897213215668,0.9095154561144023,0.8781668762162246,0.915271993883172,0.8547759903789302,0.8228263750410827,0.7598116068422364,0.7594864263651325,0.7352524002099654,0.7716903363608223,0.7833833221449784,0.7024428844130794,0.7419733301698911,0.7435506225710177,0.7677090864106842,0.7466336893441146,0.7345293117174433,0.7643742628127738,0.7736199457784897,0.7725740669810583,0.754304606716324,0.718257242308834,0.70522260319905,0.6908920795025355,0.68997271511621,0.6785928180876517,0.6935180654492429,0.659108783176392,0.6794228572611711,0.7036103974135042,0.7383003870364454,0.7557033945916076,0.6920863535519763,0.6423560831357129,0.6617035443964664,0.6653405342878442,0.7583526654106774,0.8118946253150361,0.8041802461226798,0.7833874747534082,0.8095256411699866,0.8033592838628458],\"yaxis\":\"y\",\"type\":\"scattergl\"},{\"hovertemplate\":\"NeuronLabel=L4N1970\\u003cbr\\u003eCheckpoint=%{x}\\u003cbr\\u003eMCC=%{y}\\u003cextra\\u003e\\u003c\\u002fextra\\u003e\",\"legendgroup\":\"L4N1970\",\"line\":{\"color\":\"#19d3f3\",\"dash\":\"solid\"},\"marker\":{\"symbol\":\"circle\"},\"mode\":\"lines\",\"name\":\"L4N1970\",\"showlegend\":true,\"x\":[0,1,2,3,4,5,6,7,8,9,10,11,12,13,14,15,16,17,18,19,20,21,22,23,24,25,26,27,28,29,30,31,32,33,34,35,36,37,38,39,40,50,60,70,80,90,100,110,120,130,140],\"xaxis\":\"x\",\"y\":[0.052681609610309196,0.052681609610309196,0.052681609610309196,0.051672858152624464,0.05826689908088662,0.07090398986486181,0.08448267894479372,0.02775889969321172,0.4306211376168899,0.7916286718113172,0.8526675828842002,0.5597637761764913,0.5184883879184629,0.030560791257296042,-0.19694904868041124,-0.1114122341799877,-0.14030978642881484,-0.2865162732094822,-0.3579079676546944,-0.387553255786812,-0.2912013462530311,-0.3861710184345726,-0.38619577661069265,-0.3401162574764811,-0.4310553419141075,-0.4120565102285352,-0.4335292802050921,-0.4379943562658683,-0.35681909207745527,0.36073010478851775,-0.36704682131346206,-0.4513971037239962,-0.3174430268565129,-0.3966407452285165,-0.34759798291713906,-0.40444913096116464,-0.27825454781763354,-0.23661160119723396,-0.38358996711003324,-0.16930601452076782,-0.3580378915813027,0.28187203370102837,-0.24866659975639574,-0.1625169842173245,0.14595292878052796,0.28489919387121376,0.29980289406034105,0.2352143721073056,-0.23722705223356116,0.17584834180449105,-0.19796177683244828],\"yaxis\":\"y\",\"type\":\"scattergl\"},{\"hovertemplate\":\"NeuronLabel=L5N148\\u003cbr\\u003eCheckpoint=%{x}\\u003cbr\\u003eMCC=%{y}\\u003cextra\\u003e\\u003c\\u002fextra\\u003e\",\"legendgroup\":\"L5N148\",\"line\":{\"color\":\"#FF6692\",\"dash\":\"solid\"},\"marker\":{\"symbol\":\"circle\"},\"mode\":\"lines\",\"name\":\"L5N148\",\"showlegend\":true,\"x\":[0,1,2,3,4,5,6,7,8,9,10,11,12,13,14,15,16,17,18,19,20,21,22,23,24,25,26,27,28,29,30,31,32,33,34,35,36,37,38,39,40,50,60,70,80,90,100,110,120,130,140],\"xaxis\":\"x\",\"y\":[-0.0058083845501371405,-0.0058083845501371405,-0.0058083845501371405,-0.005278437898994933,0.0032047312777635797,0.020371539264810553,0.09063032023808777,0.3069974495327143,0.641074989577625,0.8730440712873145,0.784452424378339,0.06659922623794026,-0.21227136324255064,-0.11724609887741289,-0.06785404021243532,-0.03901403358457202,0.2334735014092679,-0.0468547825824635,-0.10744131117261606,0.009294403467759194,-0.10221105162046333,-0.09183917806726499,-0.025100610507232217,0.028528994993430954,-0.03563019839991977,-0.016820178076572264,0.04446472304937555,-0.036458240698464976,-0.03702718794004318,0.05077425549997258,-0.012587140143583846,-0.016481950621091646,-0.02039990720901868,-0.007228285759329098,-0.011879305352230484,-0.019844234338457525,0.021129234104585868,-0.0005487815824744729,-0.007363205302964344,-0.026939138257525797,0.00044412272264976016,0.0605040981637352,0.015646490131881227,0.0931102643937214,0.0978012725648265,0.060730745852221116,0.05192731840632949,0.08736546617791795,0.12143016890656085,0.14859754806571412,0.1268596697211414],\"yaxis\":\"y\",\"type\":\"scattergl\"},{\"hovertemplate\":\"NeuronLabel=L5N322\\u003cbr\\u003eCheckpoint=%{x}\\u003cbr\\u003eMCC=%{y}\\u003cextra\\u003e\\u003c\\u002fextra\\u003e\",\"legendgroup\":\"L5N322\",\"line\":{\"color\":\"#B6E880\",\"dash\":\"solid\"},\"marker\":{\"symbol\":\"circle\"},\"mode\":\"lines\",\"name\":\"L5N322\",\"showlegend\":true,\"x\":[0,1,2,3,4,5,6,7,8,9,10,11,12,13,14,15,16,17,18,19,20,21,22,23,24,25,26,27,28,29,30,31,32,33,34,35,36,37,38,39,40,50,60,70,80,90,100,110,120,130,140],\"xaxis\":\"x\",\"y\":[0.06895091013310109,0.06895091013310109,0.06840998406829861,0.06949206987965222,0.06631157427970603,0.02313654892845232,0.023654385440990938,0.012247469432073365,0.22989960750944938,0.8537896481753559,0.7461415219336536,0.49350216290471166,0.5722146689103398,0.34017902891216845,0.24579230749334272,0.20581037743596076,0.2101467009382893,0.06566454185691876,0.19287745734191594,0.17862921435524623,0.1376191712486263,0.148552315484422,0.08693278441324742,0.14064031821293072,0.08212301130464543,0.011421589427264687,0.24067206108776587,0.018805999577221785,0.10388883626086252,-0.05730329788271413,-0.041196574084946126,0.018269376964765747,0.02045386610385043,0.07792036286727602,0.06031432182474436,-0.04260944945930948,-0.028243682850435523,-0.06121634047429014,0.018327112408976266,-0.1047428415668326,-0.031138387456345538,-0.11191144949844015,0.044442862739432605,0.07737355487446211,0.07268845471063778,0.11787399195419689,0.14765301412805115,0.12847792903776903,0.07205664174667395,0.05291070468947795,0.06968793255822799],\"yaxis\":\"y\",\"type\":\"scattergl\"},{\"hovertemplate\":\"NeuronLabel=L5N389\\u003cbr\\u003eCheckpoint=%{x}\\u003cbr\\u003eMCC=%{y}\\u003cextra\\u003e\\u003c\\u002fextra\\u003e\",\"legendgroup\":\"L5N389\",\"line\":{\"color\":\"#FF97FF\",\"dash\":\"solid\"},\"marker\":{\"symbol\":\"circle\"},\"mode\":\"lines\",\"name\":\"L5N389\",\"showlegend\":true,\"x\":[0,1,2,3,4,5,6,7,8,9,10,11,12,13,14,15,16,17,18,19,20,21,22,23,24,25,26,27,28,29,30,31,32,33,34,35,36,37,38,39,40,50,60,70,80,90,100,110,120,130,140],\"xaxis\":\"x\",\"y\":[0.05767554449674279,0.05767554449674279,0.05820098572514354,0.0592609135271457,0.05308306968705574,0.06491371460531296,0.045976949559262535,0.18348652293631876,0.2073575141593306,0.410479402048181,0.46561792182837836,0.5839579165611389,0.480586417087892,0.5728319037195431,0.6559677468805393,0.711782689657738,0.8186283826129211,0.8463952601929807,0.8624570941358841,0.8506323859878934,0.883724570614094,0.8604531363555089,0.8431270003463263,0.866379337816822,0.8390631532463827,0.8820093182410392,0.8671665936523059,0.8428625700344934,0.8857343350427168,0.847847551168435,0.8505054539114042,0.835831698383753,0.8823857951897267,0.7996626709072364,0.8594457507380764,0.8467307031726347,0.8329469932268846,0.854331423307398,0.8548525001990596,0.850607334219674,0.8126785000378938,0.8375665267673711,0.8046294081846092,0.8097631080380963,0.7133773501756344,0.7535597511060312,0.698406150545142,0.7154534634801916,0.7283565991088594,0.7128110481290537,0.7654034615313756],\"yaxis\":\"y\",\"type\":\"scattergl\"},{\"hovertemplate\":\"NeuronLabel=L5N395\\u003cbr\\u003eCheckpoint=%{x}\\u003cbr\\u003eMCC=%{y}\\u003cextra\\u003e\\u003c\\u002fextra\\u003e\",\"legendgroup\":\"L5N395\",\"line\":{\"color\":\"#FECB52\",\"dash\":\"solid\"},\"marker\":{\"symbol\":\"circle\"},\"mode\":\"lines\",\"name\":\"L5N395\",\"showlegend\":true,\"x\":[0,1,2,3,4,5,6,7,8,9,10,11,12,13,14,15,16,17,18,19,20,21,22,23,24,25,26,27,28,29,30,31,32,33,34,35,36,37,38,39,40,50,60,70,80,90,100,110,120,130,140],\"xaxis\":\"x\",\"y\":[0.0016538264188981791,0.0016538264188981791,0.0021563567918468675,0.0026385949107099204,-0.002098839922598822,0.014003039001845125,0.055518294660775604,0.17797642870567376,0.07022831390898138,0.7566306364478574,0.6770936832049343,0.7588731223112595,0.8966007447982884,0.9191661030523088,0.9426962031159453,0.9623838731536251,0.9599846542035717,0.9584996432590523,0.9565305609716273,0.9595640707040127,0.9571486208385829,0.9600478442633351,0.9634406813520999,0.9743082571801939,0.9673320829459986,0.9771428258532012,0.9698454117259079,0.964440936680892,0.9698718913409777,0.9634119027803799,0.9619550341029967,0.9673071002193121,0.9717278139711754,0.9603059432584303,0.9677273454148508,0.9741781695798046,0.9635011350622072,0.9631963104782901,0.9658710626420025,0.9633572411924799,0.9531122020050254,0.9696507844002721,0.9433698521450876,0.9594693200011369,0.9467729244326978,0.9476624006760036,0.9598435150668583,0.9637944202833617,0.9534676619392519,0.9628186912929498,0.9716509386623418],\"yaxis\":\"y\",\"type\":\"scattergl\"},{\"hovertemplate\":\"NeuronLabel=L5N444\\u003cbr\\u003eCheckpoint=%{x}\\u003cbr\\u003eMCC=%{y}\\u003cextra\\u003e\\u003c\\u002fextra\\u003e\",\"legendgroup\":\"L5N444\",\"line\":{\"color\":\"#636efa\",\"dash\":\"solid\"},\"marker\":{\"symbol\":\"circle\"},\"mode\":\"lines\",\"name\":\"L5N444\",\"showlegend\":true,\"x\":[0,1,2,3,4,5,6,7,8,9,10,11,12,13,14,15,16,17,18,19,20,21,22,23,24,25,26,27,28,29,30,31,32,33,34,35,36,37,38,39,40,50,60,70,80,90,100,110,120,130,140],\"xaxis\":\"x\",\"y\":[0.07632865569116871,0.07632865569116871,0.07632865569116871,0.07632865569116871,0.082083080882249,0.08466664896232129,0.030496342716163003,0.16581554798135728,0.15273159706126033,0.5936837184749914,0.7125945684970814,0.7553378936679473,0.6996468065233826,0.5997918622800762,0.7206943792907051,0.7437926937251743,0.7757097862551948,0.817084634227695,0.8069866698618339,0.8258484381517394,0.8060876524723413,0.8479716481377079,0.8431145082453924,0.8121816102718962,0.8204691538557948,0.830238956797744,0.8380099061131735,0.8491277775659399,0.8459194653891599,0.8579984332079698,0.8493023698956425,0.84349140401763,0.8652245179250314,0.847287425869776,0.8450410280989943,0.8732906272703463,0.860724542000648,0.8851529757696286,0.8888572381041772,0.882581755944881,0.8898976416483249,0.8829620713049178,0.8805366835715064,0.8848160740826009,0.8735805246219065,0.8778120582130551,0.860411250429516,0.8801853983668783,0.8816686604589408,0.8642703090998004,0.8777376931139013],\"yaxis\":\"y\",\"type\":\"scattergl\"},{\"hovertemplate\":\"NeuronLabel=L5N592\\u003cbr\\u003eCheckpoint=%{x}\\u003cbr\\u003eMCC=%{y}\\u003cextra\\u003e\\u003c\\u002fextra\\u003e\",\"legendgroup\":\"L5N592\",\"line\":{\"color\":\"#EF553B\",\"dash\":\"solid\"},\"marker\":{\"symbol\":\"circle\"},\"mode\":\"lines\",\"name\":\"L5N592\",\"showlegend\":true,\"x\":[0,1,2,3,4,5,6,7,8,9,10,11,12,13,14,15,16,17,18,19,20,21,22,23,24,25,26,27,28,29,30,31,32,33,34,35,36,37,38,39,40,50,60,70,80,90,100,110,120,130,140],\"xaxis\":\"x\",\"y\":[-0.017611077979074973,-0.017611077979074973,-0.01694192814802473,-0.012934597735233935,0.007637507257488196,0.04070447459180403,0.0376003497667454,0.06306341387544324,0.5702871880712436,0.8580539358251665,0.05317743785004943,0.15027321682065634,-0.03714019162063281,0.13399766642730457,0.14148344111640904,0.08524217917513052,0.046274655592475754,0.2661689184694075,0.15347896469643604,0.1284342551704252,0.116549562950773,0.0967046950183221,0.13592284113684364,0.034692955333436394,0.036341430377034176,0.06368308783628018,0.0065095651412476726,-0.001218583131525209,0.004150666946141755,0.005667960895034569,0.0021165949064179453,0.02657028087952336,0.026161592572063855,0.016076884375249713,0.06208409363673987,0.0423183001309737,0.06990968637466864,0.04840586436860842,0.07871277047098049,0.07015749510403356,0.07684798719359634,0.06050928298470358,0.06340997557151062,0.07954098654899151,0.09389989521897052,0.07965795213319525,0.06247055440448773,0.03683561359257841,0.014258010399510478,0.015771380462462962,-0.009078293785891756],\"yaxis\":\"y\",\"type\":\"scattergl\"},{\"hovertemplate\":\"NeuronLabel=L5N725\\u003cbr\\u003eCheckpoint=%{x}\\u003cbr\\u003eMCC=%{y}\\u003cextra\\u003e\\u003c\\u002fextra\\u003e\",\"legendgroup\":\"L5N725\",\"line\":{\"color\":\"#00cc96\",\"dash\":\"solid\"},\"marker\":{\"symbol\":\"circle\"},\"mode\":\"lines\",\"name\":\"L5N725\",\"showlegend\":true,\"x\":[0,1,2,3,4,5,6,7,8,9,10,11,12,13,14,15,16,17,18,19,20,21,22,23,24,25,26,27,28,29,30,31,32,33,34,35,36,37,38,39,40,50,60,70,80,90,100,110,120,130,140],\"xaxis\":\"x\",\"y\":[0.08965823580044838,0.08965823580044838,0.08965823580044838,0.08853193330361153,0.09282825772683428,0.11360153230563334,0.10016397022547671,0.19373567627174595,0.6379586725441864,0.8501335224033693,0.6542360501443361,0.23507254847881673,0.26081926249777776,0.3364510755895403,0.39007366901689083,0.4344201799983431,0.4095899078328112,0.42467492511692084,0.4666500846059358,0.43670364915361415,0.46557127603618725,0.4429380173357158,0.37403436598760553,0.4008718660835839,0.42093404930956035,0.4432140036161141,0.4492789645727012,0.44860574729210856,0.4264704279084371,0.5020822589221164,0.49467933303298883,0.4032751803249199,0.4112135303137328,0.44423192124437283,0.43426968013903094,0.44151992403611834,0.4735745916742332,0.39719389393821797,0.41863616860570835,0.4667370793728205,0.4362673208841527,0.3268791870280956,0.30886571430267823,0.34635961990837916,0.340335710425202,0.22816949109312842,0.24238667918606424,0.22789056634341134,0.20588289973635238,0.21016373563305651,0.172778995690109],\"yaxis\":\"y\",\"type\":\"scattergl\"},{\"hovertemplate\":\"NeuronLabel=L5N750\\u003cbr\\u003eCheckpoint=%{x}\\u003cbr\\u003eMCC=%{y}\\u003cextra\\u003e\\u003c\\u002fextra\\u003e\",\"legendgroup\":\"L5N750\",\"line\":{\"color\":\"#ab63fa\",\"dash\":\"solid\"},\"marker\":{\"symbol\":\"circle\"},\"mode\":\"lines\",\"name\":\"L5N750\",\"showlegend\":true,\"x\":[0,1,2,3,4,5,6,7,8,9,10,11,12,13,14,15,16,17,18,19,20,21,22,23,24,25,26,27,28,29,30,31,32,33,34,35,36,37,38,39,40,50,60,70,80,90,100,110,120,130,140],\"xaxis\":\"x\",\"y\":[0.15129357021802187,0.15129357021802187,0.15179335066502145,0.15178349040534378,0.15622525442704827,0.16327876627766624,0.09017897468990006,0.2408984454251075,0.656185159023019,0.8234272451145792,0.8660811671248716,0.36672044453718156,0.3372675838337386,0.40358326965154767,0.37128010380935395,0.3840093949411374,0.5504967048629241,0.47670857690632545,0.4533262239039978,0.5732084084227383,0.4747413077801539,0.4028498101301661,0.5526314347801458,0.5905851068279218,0.5411745807889011,0.5676542784835736,0.5268998074746136,0.5209083065950169,0.5439169793991604,0.5227915620435846,0.584071671592006,0.5362682736367144,0.5600933078952475,0.5302521402795268,0.5530492833890176,0.549972441239133,0.5342681811971227,0.5445735531681427,0.5545568365466564,0.525293855129656,0.5561766694224477,0.5017448349001199,0.5158466585790487,0.47288078492687374,0.4254719377504481,0.3257066416992806,0.4288305089057622,0.3225937429083467,0.3905462217898469,0.4021791835899677,0.38315929742736937],\"yaxis\":\"y\",\"type\":\"scattergl\"},{\"hovertemplate\":\"NeuronLabel=L5N953\\u003cbr\\u003eCheckpoint=%{x}\\u003cbr\\u003eMCC=%{y}\\u003cextra\\u003e\\u003c\\u002fextra\\u003e\",\"legendgroup\":\"L5N953\",\"line\":{\"color\":\"#FFA15A\",\"dash\":\"solid\"},\"marker\":{\"symbol\":\"circle\"},\"mode\":\"lines\",\"name\":\"L5N953\",\"showlegend\":true,\"x\":[0,1,2,3,4,5,6,7,8,9,10,11,12,13,14,15,16,17,18,19,20,21,22,23,24,25,26,27,28,29,30,31,32,33,34,35,36,37,38,39,40,50,60,70,80,90,100,110,120,130,140],\"xaxis\":\"x\",\"y\":[0.17833333128844678,0.17833333128844678,0.17833333128844678,0.17870461648041377,0.18380023966283157,0.18440891955267363,0.1502542982752303,0.2853817423083105,0.7029359007547015,0.8675351624141624,0.9091352632862032,0.78688449309489,0.6630563019411406,0.7212811744053204,0.6901766641365594,0.7085164456705323,0.7334512546245889,0.7740597214820042,0.7589505655452055,0.728918920000445,0.7334129525351046,0.7419662656603815,0.7556477827185548,0.7707814824584904,0.785648962784695,0.7531390818601352,0.7894677719709029,0.8151387530628874,0.7896316244411579,0.7890242282693988,0.7951773154327365,0.7805846989100872,0.7920990012528054,0.7619177847600382,0.7981583681768138,0.7857886784085995,0.763474247141672,0.760465249262224,0.8038188078059348,0.7857695971702694,0.7624822649764678,0.781234169517856,0.7825367693688271,0.7393730237756684,0.778039479890289,0.7816005945366692,0.8064557200877267,0.8173147385568619,0.8140068837976615,0.8142871424878331,0.8254510295357051],\"yaxis\":\"y\",\"type\":\"scattergl\"},{\"hovertemplate\":\"NeuronLabel=L5N1225\\u003cbr\\u003eCheckpoint=%{x}\\u003cbr\\u003eMCC=%{y}\\u003cextra\\u003e\\u003c\\u002fextra\\u003e\",\"legendgroup\":\"L5N1225\",\"line\":{\"color\":\"#19d3f3\",\"dash\":\"solid\"},\"marker\":{\"symbol\":\"circle\"},\"mode\":\"lines\",\"name\":\"L5N1225\",\"showlegend\":true,\"x\":[0,1,2,3,4,5,6,7,8,9,10,11,12,13,14,15,16,17,18,19,20,21,22,23,24,25,26,27,28,29,30,31,32,33,34,35,36,37,38,39,40,50,60,70,80,90,100,110,120,130,140],\"xaxis\":\"x\",\"y\":[0.10813904742643671,0.10813904742643671,0.10813904742643671,0.10658072853294472,0.10369876264422995,0.11180613630738896,0.18736279176922468,0.2278181450469389,0.5036188131238246,0.8698511738665995,0.8565594247165679,0.8142577321312883,0.6063436359333395,0.5459831778361605,0.48418714437169597,0.5359882977633798,0.516901196400349,0.4813910004067823,0.47026145236076344,0.41634163814726466,0.4663861136774162,0.38820482798536926,0.35885708990834164,0.3974202416780018,0.3675748002636689,0.4264840964627803,0.4279048094827744,0.35922155333725286,0.30647488115734944,0.3791498775307572,0.36252277837289404,0.32510087136672283,0.36430986540979937,0.2697569536120294,0.43353878297054615,0.36775721797817335,0.41392998270244674,0.30492060831637396,0.35777509397508567,0.3158366273419391,0.43809324850504133,0.4208435628441576,0.43450561312123587,0.4089411252871868,0.31600093712214194,0.39880654702097085,0.4496989118972701,0.4873075116324886,0.5080844414000397,0.5502935574804495,0.5666672885614075],\"yaxis\":\"y\",\"type\":\"scattergl\"},{\"hovertemplate\":\"NeuronLabel=L5N1272\\u003cbr\\u003eCheckpoint=%{x}\\u003cbr\\u003eMCC=%{y}\\u003cextra\\u003e\\u003c\\u002fextra\\u003e\",\"legendgroup\":\"L5N1272\",\"line\":{\"color\":\"#FF6692\",\"dash\":\"solid\"},\"marker\":{\"symbol\":\"circle\"},\"mode\":\"lines\",\"name\":\"L5N1272\",\"showlegend\":true,\"x\":[0,1,2,3,4,5,6,7,8,9,10,11,12,13,14,15,16,17,18,19,20,21,22,23,24,25,26,27,28,29,30,31,32,33,34,35,36,37,38,39,40,50,60,70,80,90,100,110,120,130,140],\"xaxis\":\"x\",\"y\":[0.1046371200775503,0.1046371200775503,0.1046371200775503,0.10520887981720141,0.10698987117707727,0.11509127484173594,0.11772318328208445,0.18928151207398514,0.023749815632335407,0.8557554811996638,0.7384087284214546,0.7285603050017146,0.6427246324930049,0.6347380110321894,0.6496253903782359,0.5927094225550563,0.5927531922366216,0.6132232071943283,0.6224796086759301,0.6178468286663766,0.5853104773460134,0.5645572824620261,0.5151926102990751,0.5512878252426292,0.5267250974976013,0.5255803927946153,0.5537971625159435,0.5524763020208907,0.5352209725270389,0.5356322716961449,0.5082415290817065,0.515000221601035,0.49111889890977967,0.4921507383350254,0.5190091032310427,0.4719819418623731,0.46918531714283995,0.49602302047564706,0.5047406376352404,0.4951193968306401,0.5083012594725447,0.44697927861028286,0.3581370520054671,0.39923515056994996,0.32455676233855174,0.37366028402556184,0.3602919342556949,0.3311431395152253,0.3048978161235051,0.3141002913334429,0.3169610521584173],\"yaxis\":\"y\",\"type\":\"scattergl\"},{\"hovertemplate\":\"NeuronLabel=L5N1331\\u003cbr\\u003eCheckpoint=%{x}\\u003cbr\\u003eMCC=%{y}\\u003cextra\\u003e\\u003c\\u002fextra\\u003e\",\"legendgroup\":\"L5N1331\",\"line\":{\"color\":\"#B6E880\",\"dash\":\"solid\"},\"marker\":{\"symbol\":\"circle\"},\"mode\":\"lines\",\"name\":\"L5N1331\",\"showlegend\":true,\"x\":[0,1,2,3,4,5,6,7,8,9,10,11,12,13,14,15,16,17,18,19,20,21,22,23,24,25,26,27,28,29,30,31,32,33,34,35,36,37,38,39,40,50,60,70,80,90,100,110,120,130,140],\"xaxis\":\"x\",\"y\":[0.12272940490901288,0.12272940490901288,0.12228254008906005,0.12283890519765239,0.1249842277162477,0.12763709718363098,0.09232060275233996,0.14274128785503165,0.578105294236839,0.746908480265842,0.8538360018145408,0.724838202196687,0.719434206567578,0.5570312845960661,0.5602307068981834,0.521387991707638,0.5201351499048655,0.5343443198542913,0.5133581013573743,0.44261099117430397,0.4111044601550014,0.4176886960411094,0.44212854720982087,0.38146214202363976,0.3390321079544891,0.37702148498314325,0.3286560854550266,0.3731141797440797,0.30870029251166975,0.29738594401967583,0.3229692684956753,0.24599967712436444,0.2274640593787429,0.1655173132802994,0.197261901975862,0.21509848216844307,0.13788643088421781,0.13416600860492553,0.16741814489568957,0.0929395075216173,0.11529769430893101,0.15427774191939447,0.043896143230084075,0.057464233185016034,-0.004717133893579141,0.03519375962271165,0.02258424682335468,0.0468953679904109,-0.05238078395783024,0.04741638804952695,-0.0045420130563131106],\"yaxis\":\"y\",\"type\":\"scattergl\"},{\"hovertemplate\":\"NeuronLabel=L5N1599\\u003cbr\\u003eCheckpoint=%{x}\\u003cbr\\u003eMCC=%{y}\\u003cextra\\u003e\\u003c\\u002fextra\\u003e\",\"legendgroup\":\"L5N1599\",\"line\":{\"color\":\"#FF97FF\",\"dash\":\"solid\"},\"marker\":{\"symbol\":\"circle\"},\"mode\":\"lines\",\"name\":\"L5N1599\",\"showlegend\":true,\"x\":[0,1,2,3,4,5,6,7,8,9,10,11,12,13,14,15,16,17,18,19,20,21,22,23,24,25,26,27,28,29,30,31,32,33,34,35,36,37,38,39,40,50,60,70,80,90,100,110,120,130,140],\"xaxis\":\"x\",\"y\":[0.10317828837154633,0.10317828837154633,0.10317828837154633,0.10165205921046963,0.08970183149724201,0.055844039308146784,-0.011074719396016446,0.10160916171512051,0.38550960908844756,0.75407189675821,0.8855124178087377,0.6953540878929316,0.3368142268332005,0.2441335720943059,0.33006392157728354,0.30487043793615237,0.28712024520407003,0.3718676669037862,0.4111542646876355,0.34709364820774324,0.36218506311346566,0.31488202996997366,0.28624038065152374,0.33293092312323885,0.2621305016216975,0.29678966807981383,0.3189203994779625,0.29918077724028763,0.30105673008805534,0.3350210084915927,0.2751101952693604,0.2944734639796906,0.3090323845858431,0.32416804291061585,0.3389408735864973,0.3643536705272998,0.3397212276844931,0.3015907753163337,0.36544144408974144,0.35027182192124523,0.2848622965918942,0.42340265346742656,0.408973121875227,0.4113802755763235,0.46784382397448093,0.4971846042215028,0.4812363967143097,0.49589623738575306,0.48610002275593944,0.5323028629530543,0.5551928524594675],\"yaxis\":\"y\",\"type\":\"scattergl\"},{\"hovertemplate\":\"NeuronLabel=L5N1638\\u003cbr\\u003eCheckpoint=%{x}\\u003cbr\\u003eMCC=%{y}\\u003cextra\\u003e\\u003c\\u002fextra\\u003e\",\"legendgroup\":\"L5N1638\",\"line\":{\"color\":\"#FECB52\",\"dash\":\"solid\"},\"marker\":{\"symbol\":\"circle\"},\"mode\":\"lines\",\"name\":\"L5N1638\",\"showlegend\":true,\"x\":[0,1,2,3,4,5,6,7,8,9,10,11,12,13,14,15,16,17,18,19,20,21,22,23,24,25,26,27,28,29,30,31,32,33,34,35,36,37,38,39,40,50,60,70,80,90,100,110,120,130,140],\"xaxis\":\"x\",\"y\":[0.09769200305669361,0.09769200305669361,0.09769200305669361,0.09671671868920673,0.09905261112779744,0.09520077553898311,0.09477895027813046,0.006218908977298261,0.21458840613266025,0.8566041818777458,0.6141630550927103,0.5616369224818675,0.19858023215403217,0.18521619601242945,0.05895784306313482,-0.03791139480755867,0.14795234473076008,-0.08792993222128535,-0.07321570152757123,0.1906516880706019,0.26771263124851824,0.2244342858412216,0.1676383359710257,0.23753986150114847,0.1065739202318655,0.12270433450811007,0.128112593293884,0.19229914753497188,0.1940135293086488,0.21580397818843616,0.12335455065397587,0.21168864932450712,0.13546565837300004,0.050051890568453467,0.15337455349637386,0.07560642411099658,0.05734162778054752,-0.023772141294548202,0.0037476903429581538,0.0881389626493353,0.02998098373124982,-0.00441670006050467,0.1943468055940563,0.06474329097749498,0.05763097045922683,0.011344912594797878,0.047321887351073386,0.09354798266386809,0.11585038186916155,0.129375270725208,0.2053377143932695],\"yaxis\":\"y\",\"type\":\"scattergl\"},{\"hovertemplate\":\"NeuronLabel=L5N1655\\u003cbr\\u003eCheckpoint=%{x}\\u003cbr\\u003eMCC=%{y}\\u003cextra\\u003e\\u003c\\u002fextra\\u003e\",\"legendgroup\":\"L5N1655\",\"line\":{\"color\":\"#636efa\",\"dash\":\"solid\"},\"marker\":{\"symbol\":\"circle\"},\"mode\":\"lines\",\"name\":\"L5N1655\",\"showlegend\":true,\"x\":[0,1,2,3,4,5,6,7,8,9,10,11,12,13,14,15,16,17,18,19,20,21,22,23,24,25,26,27,28,29,30,31,32,33,34,35,36,37,38,39,40,50,60,70,80,90,100,110,120,130,140],\"xaxis\":\"x\",\"y\":[-0.003503592750178345,-0.003503592750178345,-0.003503592750178345,-0.001905643578921797,0.008421370270322196,0.023794332953393987,0.06188903462625995,0.20633861172449364,0.6213210228849607,0.9139957003171302,0.8017688806398688,0.6093221976680683,0.37598601076853516,0.49304024102970695,0.49102122058191494,0.4700677047960967,0.4672715417332215,0.528123566645058,0.4350583791507724,0.42118812803071987,0.5335969115885819,0.521636650918809,0.3910344466305111,0.49993324796169575,0.4141409328031999,0.44135526072786313,0.3454095240336075,0.17861659325607288,-0.03860244934449702,0.17205918597613729,0.05824733101722247,-0.09153936470407661,-0.032894524703522235,-0.01655393957121226,-0.008717404759897036,-0.1239173309028608,-0.03923867919531829,-0.16256255976615294,-0.09095778130067993,-0.10201301937328316,-0.04963605521666023,-0.07331759123139697,0.12047209652311598,0.15579128329432007,0.14123130716440888,0.11148124265341455,-0.0662081187236449,0.051899235907867616,-0.009753940940874822,-0.051224187096469836,-0.07998840827627446],\"yaxis\":\"y\",\"type\":\"scattergl\"},{\"hovertemplate\":\"NeuronLabel=L5N1712\\u003cbr\\u003eCheckpoint=%{x}\\u003cbr\\u003eMCC=%{y}\\u003cextra\\u003e\\u003c\\u002fextra\\u003e\",\"legendgroup\":\"L5N1712\",\"line\":{\"color\":\"#EF553B\",\"dash\":\"solid\"},\"marker\":{\"symbol\":\"circle\"},\"mode\":\"lines\",\"name\":\"L5N1712\",\"showlegend\":true,\"x\":[0,1,2,3,4,5,6,7,8,9,10,11,12,13,14,15,16,17,18,19,20,21,22,23,24,25,26,27,28,29,30,31,32,33,34,35,36,37,38,39,40,50,60,70,80,90,100,110,120,130,140],\"xaxis\":\"x\",\"y\":[0.07194080356307832,0.07194080356307832,0.07194080356307832,0.07243475375538015,0.07244985656824426,0.0954196040148924,0.1358654910195408,0.3634150855928773,0.4950798753624828,0.8796125258643099,0.5739761744870414,0.21008283618144985,0.07732067354444257,0.10829346156190388,0.06929429376463017,0.09578506450584151,0.11791948501010495,0.1596800738522448,0.13414509941670485,0.13743592318916598,0.15491675771603022,0.0,0.11341636380621066,0.08066821288504679,0.12187642969500628,0.07338284599949597,0.07671678618566093,0.10701892158902514,0.044305403988321605,0.06112795165199253,0.07504151680284164,0.054832094094361114,0.0797260020705096,0.07976997103960115,0.07870824716062107,0.061066032508606594,0.06740735476259563,-0.015255216962475976,0.046884729833930786,0.06654088914900637,0.0647866034326379,0.0798589121271057,0.02820216366868412,0.1469766116625979,0.09803961896727735,0.11414957416251315,0.19052728803419927,0.1561553184049628,0.1384145254592202,0.19887887578105315,0.16166562550697489],\"yaxis\":\"y\",\"type\":\"scattergl\"},{\"hovertemplate\":\"NeuronLabel=L5N1848\\u003cbr\\u003eCheckpoint=%{x}\\u003cbr\\u003eMCC=%{y}\\u003cextra\\u003e\\u003c\\u002fextra\\u003e\",\"legendgroup\":\"L5N1848\",\"line\":{\"color\":\"#00cc96\",\"dash\":\"solid\"},\"marker\":{\"symbol\":\"circle\"},\"mode\":\"lines\",\"name\":\"L5N1848\",\"showlegend\":true,\"x\":[0,1,2,3,4,5,6,7,8,9,10,11,12,13,14,15,16,17,18,19,20,21,22,23,24,25,26,27,28,29,30,31,32,33,34,35,36,37,38,39,40,50,60,70,80,90,100,110,120,130,140],\"xaxis\":\"x\",\"y\":[0.07396350312320357,0.07396350312320357,0.07396350312320357,0.0744606872939426,0.08349964273493027,0.08770322792209476,0.12240613905632189,0.20328731838690114,0.6827740264892498,0.872172761296183,0.8265131420546651,0.5174553769397224,0.5724475658357968,0.5531867188609522,0.3616515955273854,0.1680197282909424,0.09297791967103192,0.14675520600196573,0.15198016571352993,0.006114788814415325,0.1524590113228721,0.09367710972362975,-0.024392714792451857,-0.01727621696675801,0.1332979028784667,-0.008956731603203195,0.06387935748156176,0.016530375061745334,0.15546662466369587,0.05319728639555773,0.17075210571744234,0.12940224935556516,0.13556469140891117,0.18150839892393347,0.21558504249471047,0.16564124070199338,0.1827390806925506,0.11849193504098571,0.2382126339750609,0.15811403050764025,0.15367169343607057,0.2763824792604479,0.3530759485353595,0.2619246145811801,0.24554727268644685,0.17642313004445792,0.24863978092977126,0.14590698218394402,0.12388862995692367,0.15406153227665154,0.06113657992370592],\"yaxis\":\"y\",\"type\":\"scattergl\"}],                        {\"template\":{\"data\":{\"histogram2dcontour\":[{\"type\":\"histogram2dcontour\",\"colorbar\":{\"outlinewidth\":0,\"ticks\":\"\"},\"colorscale\":[[0.0,\"#0d0887\"],[0.1111111111111111,\"#46039f\"],[0.2222222222222222,\"#7201a8\"],[0.3333333333333333,\"#9c179e\"],[0.4444444444444444,\"#bd3786\"],[0.5555555555555556,\"#d8576b\"],[0.6666666666666666,\"#ed7953\"],[0.7777777777777778,\"#fb9f3a\"],[0.8888888888888888,\"#fdca26\"],[1.0,\"#f0f921\"]]}],\"choropleth\":[{\"type\":\"choropleth\",\"colorbar\":{\"outlinewidth\":0,\"ticks\":\"\"}}],\"histogram2d\":[{\"type\":\"histogram2d\",\"colorbar\":{\"outlinewidth\":0,\"ticks\":\"\"},\"colorscale\":[[0.0,\"#0d0887\"],[0.1111111111111111,\"#46039f\"],[0.2222222222222222,\"#7201a8\"],[0.3333333333333333,\"#9c179e\"],[0.4444444444444444,\"#bd3786\"],[0.5555555555555556,\"#d8576b\"],[0.6666666666666666,\"#ed7953\"],[0.7777777777777778,\"#fb9f3a\"],[0.8888888888888888,\"#fdca26\"],[1.0,\"#f0f921\"]]}],\"heatmap\":[{\"type\":\"heatmap\",\"colorbar\":{\"outlinewidth\":0,\"ticks\":\"\"},\"colorscale\":[[0.0,\"#0d0887\"],[0.1111111111111111,\"#46039f\"],[0.2222222222222222,\"#7201a8\"],[0.3333333333333333,\"#9c179e\"],[0.4444444444444444,\"#bd3786\"],[0.5555555555555556,\"#d8576b\"],[0.6666666666666666,\"#ed7953\"],[0.7777777777777778,\"#fb9f3a\"],[0.8888888888888888,\"#fdca26\"],[1.0,\"#f0f921\"]]}],\"heatmapgl\":[{\"type\":\"heatmapgl\",\"colorbar\":{\"outlinewidth\":0,\"ticks\":\"\"},\"colorscale\":[[0.0,\"#0d0887\"],[0.1111111111111111,\"#46039f\"],[0.2222222222222222,\"#7201a8\"],[0.3333333333333333,\"#9c179e\"],[0.4444444444444444,\"#bd3786\"],[0.5555555555555556,\"#d8576b\"],[0.6666666666666666,\"#ed7953\"],[0.7777777777777778,\"#fb9f3a\"],[0.8888888888888888,\"#fdca26\"],[1.0,\"#f0f921\"]]}],\"contourcarpet\":[{\"type\":\"contourcarpet\",\"colorbar\":{\"outlinewidth\":0,\"ticks\":\"\"}}],\"contour\":[{\"type\":\"contour\",\"colorbar\":{\"outlinewidth\":0,\"ticks\":\"\"},\"colorscale\":[[0.0,\"#0d0887\"],[0.1111111111111111,\"#46039f\"],[0.2222222222222222,\"#7201a8\"],[0.3333333333333333,\"#9c179e\"],[0.4444444444444444,\"#bd3786\"],[0.5555555555555556,\"#d8576b\"],[0.6666666666666666,\"#ed7953\"],[0.7777777777777778,\"#fb9f3a\"],[0.8888888888888888,\"#fdca26\"],[1.0,\"#f0f921\"]]}],\"surface\":[{\"type\":\"surface\",\"colorbar\":{\"outlinewidth\":0,\"ticks\":\"\"},\"colorscale\":[[0.0,\"#0d0887\"],[0.1111111111111111,\"#46039f\"],[0.2222222222222222,\"#7201a8\"],[0.3333333333333333,\"#9c179e\"],[0.4444444444444444,\"#bd3786\"],[0.5555555555555556,\"#d8576b\"],[0.6666666666666666,\"#ed7953\"],[0.7777777777777778,\"#fb9f3a\"],[0.8888888888888888,\"#fdca26\"],[1.0,\"#f0f921\"]]}],\"mesh3d\":[{\"type\":\"mesh3d\",\"colorbar\":{\"outlinewidth\":0,\"ticks\":\"\"}}],\"scatter\":[{\"fillpattern\":{\"fillmode\":\"overlay\",\"size\":10,\"solidity\":0.2},\"type\":\"scatter\"}],\"parcoords\":[{\"type\":\"parcoords\",\"line\":{\"colorbar\":{\"outlinewidth\":0,\"ticks\":\"\"}}}],\"scatterpolargl\":[{\"type\":\"scatterpolargl\",\"marker\":{\"colorbar\":{\"outlinewidth\":0,\"ticks\":\"\"}}}],\"bar\":[{\"error_x\":{\"color\":\"#2a3f5f\"},\"error_y\":{\"color\":\"#2a3f5f\"},\"marker\":{\"line\":{\"color\":\"#E5ECF6\",\"width\":0.5},\"pattern\":{\"fillmode\":\"overlay\",\"size\":10,\"solidity\":0.2}},\"type\":\"bar\"}],\"scattergeo\":[{\"type\":\"scattergeo\",\"marker\":{\"colorbar\":{\"outlinewidth\":0,\"ticks\":\"\"}}}],\"scatterpolar\":[{\"type\":\"scatterpolar\",\"marker\":{\"colorbar\":{\"outlinewidth\":0,\"ticks\":\"\"}}}],\"histogram\":[{\"marker\":{\"pattern\":{\"fillmode\":\"overlay\",\"size\":10,\"solidity\":0.2}},\"type\":\"histogram\"}],\"scattergl\":[{\"type\":\"scattergl\",\"marker\":{\"colorbar\":{\"outlinewidth\":0,\"ticks\":\"\"}}}],\"scatter3d\":[{\"type\":\"scatter3d\",\"line\":{\"colorbar\":{\"outlinewidth\":0,\"ticks\":\"\"}},\"marker\":{\"colorbar\":{\"outlinewidth\":0,\"ticks\":\"\"}}}],\"scattermapbox\":[{\"type\":\"scattermapbox\",\"marker\":{\"colorbar\":{\"outlinewidth\":0,\"ticks\":\"\"}}}],\"scatterternary\":[{\"type\":\"scatterternary\",\"marker\":{\"colorbar\":{\"outlinewidth\":0,\"ticks\":\"\"}}}],\"scattercarpet\":[{\"type\":\"scattercarpet\",\"marker\":{\"colorbar\":{\"outlinewidth\":0,\"ticks\":\"\"}}}],\"carpet\":[{\"aaxis\":{\"endlinecolor\":\"#2a3f5f\",\"gridcolor\":\"white\",\"linecolor\":\"white\",\"minorgridcolor\":\"white\",\"startlinecolor\":\"#2a3f5f\"},\"baxis\":{\"endlinecolor\":\"#2a3f5f\",\"gridcolor\":\"white\",\"linecolor\":\"white\",\"minorgridcolor\":\"white\",\"startlinecolor\":\"#2a3f5f\"},\"type\":\"carpet\"}],\"table\":[{\"cells\":{\"fill\":{\"color\":\"#EBF0F8\"},\"line\":{\"color\":\"white\"}},\"header\":{\"fill\":{\"color\":\"#C8D4E3\"},\"line\":{\"color\":\"white\"}},\"type\":\"table\"}],\"barpolar\":[{\"marker\":{\"line\":{\"color\":\"#E5ECF6\",\"width\":0.5},\"pattern\":{\"fillmode\":\"overlay\",\"size\":10,\"solidity\":0.2}},\"type\":\"barpolar\"}],\"pie\":[{\"automargin\":true,\"type\":\"pie\"}]},\"layout\":{\"autotypenumbers\":\"strict\",\"colorway\":[\"#636efa\",\"#EF553B\",\"#00cc96\",\"#ab63fa\",\"#FFA15A\",\"#19d3f3\",\"#FF6692\",\"#B6E880\",\"#FF97FF\",\"#FECB52\"],\"font\":{\"color\":\"#2a3f5f\"},\"hovermode\":\"closest\",\"hoverlabel\":{\"align\":\"left\"},\"paper_bgcolor\":\"white\",\"plot_bgcolor\":\"#E5ECF6\",\"polar\":{\"bgcolor\":\"#E5ECF6\",\"angularaxis\":{\"gridcolor\":\"white\",\"linecolor\":\"white\",\"ticks\":\"\"},\"radialaxis\":{\"gridcolor\":\"white\",\"linecolor\":\"white\",\"ticks\":\"\"}},\"ternary\":{\"bgcolor\":\"#E5ECF6\",\"aaxis\":{\"gridcolor\":\"white\",\"linecolor\":\"white\",\"ticks\":\"\"},\"baxis\":{\"gridcolor\":\"white\",\"linecolor\":\"white\",\"ticks\":\"\"},\"caxis\":{\"gridcolor\":\"white\",\"linecolor\":\"white\",\"ticks\":\"\"}},\"coloraxis\":{\"colorbar\":{\"outlinewidth\":0,\"ticks\":\"\"}},\"colorscale\":{\"sequential\":[[0.0,\"#0d0887\"],[0.1111111111111111,\"#46039f\"],[0.2222222222222222,\"#7201a8\"],[0.3333333333333333,\"#9c179e\"],[0.4444444444444444,\"#bd3786\"],[0.5555555555555556,\"#d8576b\"],[0.6666666666666666,\"#ed7953\"],[0.7777777777777778,\"#fb9f3a\"],[0.8888888888888888,\"#fdca26\"],[1.0,\"#f0f921\"]],\"sequentialminus\":[[0.0,\"#0d0887\"],[0.1111111111111111,\"#46039f\"],[0.2222222222222222,\"#7201a8\"],[0.3333333333333333,\"#9c179e\"],[0.4444444444444444,\"#bd3786\"],[0.5555555555555556,\"#d8576b\"],[0.6666666666666666,\"#ed7953\"],[0.7777777777777778,\"#fb9f3a\"],[0.8888888888888888,\"#fdca26\"],[1.0,\"#f0f921\"]],\"diverging\":[[0,\"#8e0152\"],[0.1,\"#c51b7d\"],[0.2,\"#de77ae\"],[0.3,\"#f1b6da\"],[0.4,\"#fde0ef\"],[0.5,\"#f7f7f7\"],[0.6,\"#e6f5d0\"],[0.7,\"#b8e186\"],[0.8,\"#7fbc41\"],[0.9,\"#4d9221\"],[1,\"#276419\"]]},\"xaxis\":{\"gridcolor\":\"white\",\"linecolor\":\"white\",\"ticks\":\"\",\"title\":{\"standoff\":15},\"zerolinecolor\":\"white\",\"automargin\":true,\"zerolinewidth\":2},\"yaxis\":{\"gridcolor\":\"white\",\"linecolor\":\"white\",\"ticks\":\"\",\"title\":{\"standoff\":15},\"zerolinecolor\":\"white\",\"automargin\":true,\"zerolinewidth\":2},\"scene\":{\"xaxis\":{\"backgroundcolor\":\"#E5ECF6\",\"gridcolor\":\"white\",\"linecolor\":\"white\",\"showbackground\":true,\"ticks\":\"\",\"zerolinecolor\":\"white\",\"gridwidth\":2},\"yaxis\":{\"backgroundcolor\":\"#E5ECF6\",\"gridcolor\":\"white\",\"linecolor\":\"white\",\"showbackground\":true,\"ticks\":\"\",\"zerolinecolor\":\"white\",\"gridwidth\":2},\"zaxis\":{\"backgroundcolor\":\"#E5ECF6\",\"gridcolor\":\"white\",\"linecolor\":\"white\",\"showbackground\":true,\"ticks\":\"\",\"zerolinecolor\":\"white\",\"gridwidth\":2}},\"shapedefaults\":{\"line\":{\"color\":\"#2a3f5f\"}},\"annotationdefaults\":{\"arrowcolor\":\"#2a3f5f\",\"arrowhead\":0,\"arrowwidth\":1},\"geo\":{\"bgcolor\":\"white\",\"landcolor\":\"#E5ECF6\",\"subunitcolor\":\"white\",\"showland\":true,\"showlakes\":true,\"lakecolor\":\"white\"},\"title\":{\"x\":0.05},\"mapbox\":{\"style\":\"light\"}}},\"xaxis\":{\"anchor\":\"y\",\"domain\":[0.0,1.0],\"title\":{\"text\":\"Checkpoint\"}},\"yaxis\":{\"anchor\":\"x\",\"domain\":[0.0,1.0],\"title\":{\"text\":\"MCC\"}},\"legend\":{\"title\":{\"text\":\"NeuronLabel\"},\"tracegroupgap\":0},\"title\":{\"text\":\"Neurons with max MCC \\u003e= 0.85\"}},                        {\"responsive\": true}                    ).then(function(){\n",
       "                            \n",
       "var gd = document.getElementById('6230e520-7f6e-4a5c-aaf7-95cc8e1161e6');\n",
       "var x = new MutationObserver(function (mutations, observer) {{\n",
       "        var display = window.getComputedStyle(gd).display;\n",
       "        if (!display || display === 'none') {{\n",
       "            console.log([gd, 'removed!']);\n",
       "            Plotly.purge(gd);\n",
       "            observer.disconnect();\n",
       "        }}\n",
       "}});\n",
       "\n",
       "// Listen for the removal of the full notebook cells\n",
       "var notebookContainer = gd.closest('#notebook-container');\n",
       "if (notebookContainer) {{\n",
       "    x.observe(notebookContainer, {childList: true});\n",
       "}}\n",
       "\n",
       "// Listen for the clearing of the current output cell\n",
       "var outputEl = gd.closest('.output');\n",
       "if (outputEl) {{\n",
       "    x.observe(outputEl, {childList: true});\n",
       "}}\n",
       "\n",
       "                        })                };                });            </script>        </div>"
      ]
     },
     "metadata": {},
     "output_type": "display_data"
    }
   ],
   "source": [
    "px.line(df[df[\"NeuronLabel\"].isin(good_neurons) | df[\"NeuronLabel\"].isin(bad_neurons)], x=\"Checkpoint\", y=\"MCC\", color=\"NeuronLabel\", title=\"Neurons with max MCC >= 0.85\")"
   ]
  },
  {
   "cell_type": "code",
   "execution_count": null,
   "metadata": {},
   "outputs": [],
   "source": [
    "# Filter neurons that are in the top 3 context neurons at any checkpoint\n",
    "# Plot all these neurons as line plot with x being checkpoint and y being F1"
   ]
  },
  {
   "cell_type": "markdown",
   "metadata": {},
   "source": [
    "data = []\n",
    "for checkpoint in tqdm(range(NUM_CHECKPOINTS)):\n",
    "    data.append(eval_checkpoint(checkpoint))\n",
    "\n",
    "df = pd.DataFrame(data, columns=[\"checkpoint\", \"german_loss\", \"f1\", \"mcc\"])"
   ]
  },
  {
   "cell_type": "code",
   "execution_count": null,
   "metadata": {},
   "outputs": [],
   "source": [
    "ablation_losses = []\n",
    "for checkpoint in tqdm(range(NUM_CHECKPOINTS)):\n",
    "    model = get_model(checkpoint)\n",
    "    with model.hooks(deactivate_neurons_fwd_hooks):\n",
    "        ablated_loss = eval_loss(model, german_data)\n",
    "    ablation_losses.append(ablated_loss)"
   ]
  },
  {
   "cell_type": "code",
   "execution_count": null,
   "metadata": {},
   "outputs": [],
   "source": [
    "english_losses = []\n",
    "for checkpoint in tqdm(range(NUM_CHECKPOINTS)):\n",
    "    model = get_model(checkpoint)\n",
    "    english_loss = eval_loss(model, english_data)\n",
    "    english_losses.append(english_loss)"
   ]
  },
  {
   "cell_type": "code",
   "execution_count": null,
   "metadata": {},
   "outputs": [],
   "source": [
    "df[\"english_loss\"] = english_losses\n",
    "df[\"ablation_loss\"] = ablation_losses"
   ]
  },
  {
   "cell_type": "code",
   "execution_count": 103,
   "metadata": {},
   "outputs": [
    {
     "data": {
      "text/html": [
       "<div>\n",
       "<style scoped>\n",
       "    .dataframe tbody tr th:only-of-type {\n",
       "        vertical-align: middle;\n",
       "    }\n",
       "\n",
       "    .dataframe tbody tr th {\n",
       "        vertical-align: top;\n",
       "    }\n",
       "\n",
       "    .dataframe thead th {\n",
       "        text-align: right;\n",
       "    }\n",
       "</style>\n",
       "<table border=\"1\" class=\"dataframe\">\n",
       "  <thead>\n",
       "    <tr style=\"text-align: right;\">\n",
       "      <th></th>\n",
       "      <th>checkpoint</th>\n",
       "      <th>german_loss</th>\n",
       "      <th>f1</th>\n",
       "      <th>mcc</th>\n",
       "      <th>english_loss</th>\n",
       "      <th>ablation_loss</th>\n",
       "    </tr>\n",
       "  </thead>\n",
       "  <tbody>\n",
       "    <tr>\n",
       "      <th>0</th>\n",
       "      <td>0</td>\n",
       "      <td>11.026308</td>\n",
       "      <td>0.476689</td>\n",
       "      <td>-0.020651</td>\n",
       "      <td>11.051213</td>\n",
       "      <td>11.025739</td>\n",
       "    </tr>\n",
       "    <tr>\n",
       "      <th>1</th>\n",
       "      <td>1</td>\n",
       "      <td>11.026308</td>\n",
       "      <td>0.436970</td>\n",
       "      <td>-0.016553</td>\n",
       "      <td>11.051213</td>\n",
       "      <td>11.025739</td>\n",
       "    </tr>\n",
       "    <tr>\n",
       "      <th>2</th>\n",
       "      <td>2</td>\n",
       "      <td>11.026103</td>\n",
       "      <td>0.387683</td>\n",
       "      <td>0.037004</td>\n",
       "      <td>11.050580</td>\n",
       "      <td>11.025534</td>\n",
       "    </tr>\n",
       "    <tr>\n",
       "      <th>3</th>\n",
       "      <td>3</td>\n",
       "      <td>11.022297</td>\n",
       "      <td>0.408647</td>\n",
       "      <td>0.010090</td>\n",
       "      <td>11.038868</td>\n",
       "      <td>11.021735</td>\n",
       "    </tr>\n",
       "    <tr>\n",
       "      <th>4</th>\n",
       "      <td>4</td>\n",
       "      <td>10.972300</td>\n",
       "      <td>0.450796</td>\n",
       "      <td>-0.029007</td>\n",
       "      <td>10.886706</td>\n",
       "      <td>10.971827</td>\n",
       "    </tr>\n",
       "  </tbody>\n",
       "</table>\n",
       "</div>"
      ],
      "text/plain": [
       "   checkpoint  german_loss        f1       mcc  english_loss  ablation_loss\n",
       "0           0    11.026308  0.476689 -0.020651     11.051213      11.025739\n",
       "1           1    11.026308  0.436970 -0.016553     11.051213      11.025739\n",
       "2           2    11.026103  0.387683  0.037004     11.050580      11.025534\n",
       "3           3    11.022297  0.408647  0.010090     11.038868      11.021735\n",
       "4           4    10.972300  0.450796 -0.029007     10.886706      10.971827"
      ]
     },
     "execution_count": 103,
     "metadata": {},
     "output_type": "execute_result"
    }
   ],
   "source": [
    "df = pd.read_csv(\"data/checkpoint_eval.csv\", index_col=0).reset_index()\n",
    "df.head(5)"
   ]
  },
  {
   "cell_type": "code",
   "execution_count": 101,
   "metadata": {},
   "outputs": [
    {
     "data": {
      "application/vnd.jupyter.widget-view+json": {
       "model_id": "0b9df6ed2a8e4d359b282657dd533826",
       "version_major": 2,
       "version_minor": 0
      },
      "text/plain": [
       "  0%|          | 0/200 [00:00<?, ?it/s]"
      ]
     },
     "metadata": {},
     "output_type": "display_data"
    },
    {
     "name": "stdout",
     "output_type": "stream",
     "text": [
      "['h', 'e', ' V', ' Z', 'igen', 'chte', 'n', ' den', ' eine', ' dem', 'ig', ' ist', ' An', ' ein', ' Herr', 'ge', 'igen', ' Ab', ' Ber', ' nicht', ' V', 'orsch', 'lä', 'gen']\n"
     ]
    }
   ],
   "source": [
    "end_prompt = \" Vorschlägen\"\n",
    "all_ignore, _ = haystack_utils.get_weird_tokens(model, plot_norms=False)\n",
    "common_tokens = haystack_utils.get_common_tokens(german_data, model, all_ignore, k=100)\n",
    "prompts = haystack_utils.generate_random_prompts(end_prompt, model, common_tokens, 500, length=20)\n",
    "print(model.to_str_tokens(prompts[0]))\n"
   ]
  },
  {
   "cell_type": "code",
   "execution_count": null,
   "metadata": {},
   "outputs": [],
   "source": []
  },
  {
   "cell_type": "code",
   "execution_count": 113,
   "metadata": {},
   "outputs": [
    {
     "data": {
      "text/html": [
       "<div>                            <div id=\"a08f76bd-2689-4b28-b478-359bf945632f\" class=\"plotly-graph-div\" style=\"height:525px; width:100%;\"></div>            <script type=\"text/javascript\">                require([\"plotly\"], function(Plotly) {                    window.PLOTLYENV=window.PLOTLYENV || {};                                    if (document.getElementById(\"a08f76bd-2689-4b28-b478-359bf945632f\")) {                    Plotly.newPlot(                        \"a08f76bd-2689-4b28-b478-359bf945632f\",                        [{\"name\":\"German Loss\",\"x\":[0,1,2,3,4,5,6,7,8,9,10,11,12,13,14,15,16,17,18,19,20,21,22,23,24,25,26,27,28,29,30,31,32,33,34,35,36,37,38,39,40,41,42,43,44,45,46,47,48,49,50,51,52,53,54,55,56,57,58,59,60,61,62,63,64,65,66,67,68,69,70,71,72,73,74,75,76,77,78,79,80,81,82,83,84,85,86,87,88,89,90,91,92,93,94,95,96,97,98,99,100,101,102,103,104,105,106,107,108,109,110,111,112,113,114,115,116,117,118,119,120,121,122,123,124,125,126,127,128,129,130,131,132,133,134,135,136,137,138,139,140,141],\"y\":[11.026307892799377,11.026307892799377,11.026102967262268,11.022296667099,10.972299914360049,10.816361141204831,10.55479215145111,10.096339359283448,9.431261763572692,7.859170835018158,5.917339577674865,4.502299069166184,3.724714804887772,3.4957250368595125,3.393039982318878,3.3443244671821595,3.2594715481996537,3.24057514667511,3.2010217243433,3.195132747888565,3.182973816394806,3.1667158657312395,3.168625611066818,3.1718451660871505,3.1291703402996065,3.1380822718143464,3.13159932076931,3.12148556470871,3.1190516924858094,3.0945406675338747,3.107443570494652,3.073227215409279,3.0755106884241106,3.099216005206108,3.062958251237869,3.076131518483162,3.056051392555237,3.044429474473,3.0605432891845705,3.0541087263822555,3.044275181293488,3.0640676552057267,3.0412928396463395,3.0482068032026293,3.036490750908852,3.064766538143158,3.0433102536201475,3.029090507030487,3.0414564818143845,3.0581895327568054,3.04232064306736,3.0167893624305724,3.028755236268044,3.0226757115125658,3.035888423323631,2.994634299278259,3.0291161209344866,3.015126564502716,3.0221556282043456,3.0129533755779265,3.025414209961891,3.0008017283678057,2.9894411957263944,3.0074829834699632,3.013786244392395,3.0005623012781144,2.994387285709381,3.008886666893959,3.019304438829422,2.9981474155187606,3.0064223420619967,3.0033813488483427,3.0132003277540207,2.994007262587547,3.003421656489372,3.000961614847183,2.9872139382362364,2.9738394355773927,3.000776171088219,3.0126442521810533,2.9944830322265625,3.004298927783966,2.993787328600884,3.004022183418274,3.010536932349205,3.0078998231887817,3.028198696374893,3.034086404442787,3.03983089029789,3.0442157655954363,3.036238126158714,3.024219185113907,3.0130022245645525,3.044533014893532,3.0226287496089936,3.0384158849716187,3.0167161244153977,3.030459910035133,3.023495507240296,3.06999675989151,3.046180256009102,3.0346050310134887,3.051928645372391,3.024671418070793,3.043380632996559,3.034226880669594,3.032212614417076,3.035602843761444,3.0302567636966704,3.024674867987633,3.0252187663316725,3.0220678460597994,3.019922989606857,3.0129005134105684,3.0156550443172456,3.010147537589073,3.0172734588384627,3.0304188466072084,3.024003422856331,3.015417296290398,2.9985348802804945,3.0153527802228925,3.0164429146051406,3.0195331060886383,3.0221498370170594,2.994945552945137,3.0002845698595046,3.0100824081897737,2.994842749238014,2.996182573437691,3.0062841498851776,2.99942591547966,3.012974790930748,3.0182169061899184,3.0006782734394077,3.012594457864761,3.010326868891716,3.0096253979206087,2.995131213665009,3.0022944051027296,3.0272712939977646,3.0024833458662035],\"type\":\"scatter\",\"xaxis\":\"x\",\"yaxis\":\"y\"},{\"name\":\"English Loss\",\"x\":[0,1,2,3,4,5,6,7,8,9,10,11,12,13,14,15,16,17,18,19,20,21,22,23,24,25,26,27,28,29,30,31,32,33,34,35,36,37,38,39,40,41,42,43,44,45,46,47,48,49,50,51,52,53,54,55,56,57,58,59,60,61,62,63,64,65,66,67,68,69,70,71,72,73,74,75,76,77,78,79,80,81,82,83,84,85,86,87,88,89,90,91,92,93,94,95,96,97,98,99,100,101,102,103,104,105,106,107,108,109,110,111,112,113,114,115,116,117,118,119,120,121,122,123,124,125,126,127,128,129,130,131,132,133,134,135,136,137,138,139,140,141],\"y\":[11.051213431358338,11.051213431358338,11.05057966709137,11.038868088722229,10.886705961227417,10.411782674789428,9.611344113349915,8.72894624710083,7.114203717708588,6.044772939682007,5.226138215065003,4.406951144933701,3.984508096575737,3.827138825654984,3.733720995783806,3.711752009987831,3.6693639725446703,3.651348964571953,3.617340424656868,3.60558169901371,3.599003626704216,3.5851402431726456,3.565597279071808,3.593413809537888,3.568188491463661,3.5658441305160524,3.5575611358881,3.54940023124218,3.550027755498886,3.542426344752312,3.52636037170887,3.527969145178795,3.514007619619369,3.51083680331707,3.5192240566015243,3.516403942108154,3.526490014195442,3.522619980573654,3.501885976195336,3.5171449500322343,3.5113686871528627,3.4986038219928743,3.502551954984665,3.4935048848390577,3.4844387578964238,3.4888920611143117,3.488895968198776,3.4990008622407918,3.485775477290153,3.476741956472397,3.502436861395836,3.469853254556656,3.480435418486595,3.4836905336380006,3.4879160755872727,3.475130532979965,3.4794897282123567,3.472585529088974,3.457946485877037,3.4780113315582275,3.4850182420015337,3.4694152760505674,3.4638156759738923,3.477002007365227,3.4567339342832564,3.4597177278995512,3.44783576130867,3.473128740787506,3.460059194564819,3.448957609534264,3.4681271159648897,3.47143926680088,3.4637158942222595,3.464805262088776,3.4556217777729032,3.459843824505806,3.458441271781921,3.4586555421352387,3.4638056927919387,3.4741649341583254,3.4573109352588656,3.5043341588974,3.4640656608343123,3.482204282879829,3.460951514840126,3.4789414858818053,3.481415011286736,3.490386372804642,3.4856890243291856,3.487885401248932,3.480116368532181,3.501204036474228,3.508631989359856,3.5104630357027053,3.4994358968734742,3.5011183190345765,3.503810158967972,3.482915229201317,3.5050814193487168,3.530326694846153,3.5153105419874198,3.503929479718208,3.510199376940727,3.4979115998744965,3.5099909049272537,3.5145532125234604,3.505240776538849,3.5158347511291503,3.5109273445606237,3.503456330895424,3.497197989821434,3.497885805368424,3.495661725997925,3.494958377480507,3.5024371761083604,3.50381732583046,3.499374360442161,3.4889053440094,3.5022648948431017,3.4912532007694246,3.4880198884010314,3.494628681540489,3.490693705677986,3.4937449502944946,3.501989710330963,3.4817652428150176,3.4821543145179747,3.48872240960598,3.4803293961286546,3.4960161632299425,3.4845311045646667,3.4953479987382887,3.4884876435995102,3.485222777724266,3.489451918005943,3.477358092665672,3.48300615131855,3.485961332321167,3.479185612201691,3.489639477133751,3.489062651991844,3.493143074512482],\"type\":\"scatter\",\"xaxis\":\"x\",\"yaxis\":\"y\"},{\"name\":\"Ablated German Loss\",\"x\":[0,1,2,3,4,5,6,7,8,9,10,11,12,13,14,15,16,17,18,19,20,21,22,23,24,25,26,27,28,29,30,31,32,33,34,35,36,37,38,39,40,41,42,43,44,45,46,47,48,49,50,51,52,53,54,55,56,57,58,59,60,61,62,63,64,65,66,67,68,69,70,71,72,73,74,75,76,77,78,79,80,81,82,83,84,85,86,87,88,89,90,91,92,93,94,95,96,97,98,99,100,101,102,103,104,105,106,107,108,109,110,111,112,113,114,115,116,117,118,119,120,121,122,123,124,125,126,127,128,129,130,131,132,133,134,135,136,137,138,139,140,141],\"y\":[11.02573863506317,11.02573863506317,11.025534090995787,11.021734676361085,10.971827273368836,10.816164755821228,10.554831871986387,10.096426129341124,9.43121274471283,7.85934002161026,5.918417372703552,4.504280582666397,3.728054805994034,3.5018926537036896,3.3999742698669437,3.35180244922638,3.2672784262895584,3.249265722632408,3.209270758032799,3.204777284860611,3.196704394221306,3.183606467247009,3.1854747796058653,3.190936486721039,3.1538784593343734,3.1668121337890627,3.1659781473875044,3.15741333425045,3.1548660558462145,3.145606946349144,3.158964496850968,3.1211375629901887,3.128334002494812,3.165617511868477,3.1352331840991976,3.1480770003795624,3.1463343405723574,3.121463003754616,3.149498188495636,3.1365073144435884,3.1421279138326645,3.171719629764557,3.155770892500877,3.1702885913848875,3.172123404145241,3.199995195269585,3.1848743283748626,3.165246772766113,3.1915767365694045,3.2113783562183382,3.1967936009168625,3.1689800280332565,3.2053469574451445,3.189731166958809,3.206184443831444,3.174767668247223,3.224113078117371,3.200538992881775,3.2158500492572784,3.2176095896959307,3.2158734327554703,3.204570793509484,3.190785218477249,3.2250155037641526,3.213076049685478,3.208983244895935,3.199403101801872,3.207950474023819,3.235482656955719,3.2240945214033125,3.21742240190506,3.222888895869255,3.2462591326236723,3.2199552249908447,3.236162306070328,3.217753420472145,3.214332372546196,3.2099348700046537,3.230045848488808,3.258624870181084,3.2543961411714557,3.260401105284691,3.265520336031914,3.28874226808548,3.3036808639764788,3.282919833064079,3.343429669737816,3.336465210914612,3.3255305600166323,3.331902377009392,3.3346879357099533,3.3199370634555816,3.294463815689087,3.3766114580631257,3.3243439638614656,3.3573614746332168,3.3412446683645247,3.3496718937158585,3.347888495326042,3.3821311819553377,3.3728730607032777,3.343936640620232,3.3734202146530152,3.3336041229963302,3.360099896788597,3.3741713631153107,3.349893825650215,3.367395647764206,3.3580220502614977,3.3455718302726747,3.320326394438744,3.3546686398983003,3.34940588593483,3.3448527884483337,3.342218267917633,3.3469601142406464,3.348044607043266,3.3569971907138823,3.348334035873413,3.365321390628815,3.3313230168819428,3.355439414381981,3.3596104246377947,3.343065882325172,3.361242409944534,3.325367044210434,3.3385574263334274,3.3530554324388504,3.312999579906464,3.340017755627632,3.34952340900898,3.331379331946373,3.3485539799928663,3.3490057134628297,3.329244755506516,3.357895055413246,3.3621495473384857,3.352302429676056,3.337927506566048,3.3410172110795973,3.361297809481621,3.327325860857964],\"type\":\"scatter\",\"xaxis\":\"x\",\"yaxis\":\"y\"},{\"name\":\"F1\",\"x\":[0,1,2,3,4,5,6,7,8,9,10,11,12,13,14,15,16,17,18,19,20,21,22,23,24,25,26,27,28,29,30,31,32,33,34,35,36,37,38,39,40,41,42,43,44,45,46,47,48,49,50,51,52,53,54,55,56,57,58,59,60,61,62,63,64,65,66,67,68,69,70,71,72,73,74,75,76,77,78,79,80,81,82,83,84,85,86,87,88,89,90,91,92,93,94,95,96,97,98,99,100,101,102,103,104,105,106,107,108,109,110,111,112,113,114,115,116,117,118,119,120,121,122,123,124,125,126,127,128,129,130,131,132,133,134,135,136,137,138,139,140,141],\"y\":[0.4766887213417449,0.4369701335402005,0.3876829883897021,0.4086469747498809,0.4507960252163693,0.4231983921906403,0.2564414380177852,0.6336537382653251,0.4844224697682731,0.5703767333415143,0.8064268479929809,0.8410592469248536,0.8905913837435063,0.8963305646093995,0.8980346576500422,0.8993479175431216,0.9157054125998226,0.9187595429895226,0.9414000308150584,0.9377743351407176,0.9336916636518684,0.9299264019902562,0.9419116893760886,0.952175697865353,0.9533826908348224,0.9547401558548796,0.967581047381546,0.9654118486067952,0.9726919388218668,0.9681871226343294,0.9671947999187488,0.9707703237592612,0.970272879719498,0.9714170285829714,0.9684507610119948,0.9728904938711154,0.966455307833913,0.9748590583574585,0.9749264034108212,0.976086736244807,0.9735600101497084,0.9765919959728164,0.9729757136338284,0.9759121144930456,0.9736134105960264,0.9729346173340092,0.9773003648155656,0.9747426562892292,0.9754353710229304,0.9745590918305292,0.9733724815227296,0.9752344068487568,0.9760668092473777,0.9769040278971042,0.9733894267322216,0.9745883309615776,0.973592173957119,0.9743432170840374,0.9739705134722928,0.9726192872961548,0.9736721495136732,0.9742635970644417,0.9711378632952198,0.9729319504174044,0.9727235854796188,0.9730361041994616,0.9723651033787192,0.9745119854354204,0.9740584935897436,0.9741145112512172,0.9773038842345774,0.9765087079789389,0.9741344195519348,0.9739086035231044,0.9762371263501634,0.976146606244709,0.977692540627839,0.978012491748337,0.9748118414450576,0.9789153573238724,0.9736615944593296,0.9733564720293996,0.9746317512274958,0.975058965223064,0.9763139168445664,0.9762266059686392,0.9760024301336574,0.9788437263317344,0.9777777777777776,0.9787820055085178,0.9763819607044693,0.9796041698141712,0.978443477380832,0.9796103765014637,0.9784005260761798,0.9759627549213096,0.9813908921276918,0.9812730301347736,0.9766343399829154,0.9763120277721054,0.9794003671221702,0.9795710428447706,0.9747788728834976,0.9770405583088906,0.9765281914088132,0.9769864953720094,0.975483477996041,0.98141943344502,0.9776841682964746,0.9766803840877916,0.9781014565544952,0.9803705005271348,0.979973702842116,0.9799859197425324,0.979510500229932,0.9780602209108792,0.9784454604833442,0.979122326948414,0.9780158122927824,0.9778163088377786,0.9796495480482754,0.9766402600040626,0.9796760237448436,0.9792809262644728,0.977916708682061,0.9782184321380868,0.9784404593995568,0.9812170530733404,0.979142230608394,0.9807159760334324,0.9803308452693162,0.977185155140945,0.977481571241038,0.9778830167766638,0.9777419679726054,0.9791770948042846,0.977029562395416,0.979337788888322,0.980229559589422,0.9798354735152488,0.9797397295228374,0.9786806114239742],\"type\":\"scatter\",\"xaxis\":\"x\",\"yaxis\":\"y2\"},{\"name\":\"MCC\",\"x\":[0,1,2,3,4,5,6,7,8,9,10,11,12,13,14,15,16,17,18,19,20,21,22,23,24,25,26,27,28,29,30,31,32,33,34,35,36,37,38,39,40,41,42,43,44,45,46,47,48,49,50,51,52,53,54,55,56,57,58,59,60,61,62,63,64,65,66,67,68,69,70,71,72,73,74,75,76,77,78,79,80,81,82,83,84,85,86,87,88,89,90,91,92,93,94,95,96,97,98,99,100,101,102,103,104,105,106,107,108,109,110,111,112,113,114,115,116,117,118,119,120,121,122,123,124,125,126,127,128,129,130,131,132,133,134,135,136,137,138,139,140,141],\"y\":[-0.0206507863096192,-0.0165526665326916,0.0370036774704266,0.0100896690880118,-0.0290072713161455,-0.0051078614777672,0.033709007284596,0.0377619474492812,0.1428561938405821,0.3206606369020521,0.6550552052453362,0.7094688528676942,0.7935615029928997,0.8055115025263373,0.8107619999439228,0.812724777769059,0.8409448266642326,0.8483468778912738,0.8873070759634991,0.8808400811177983,0.8731045618117068,0.8668457911920197,0.8883401953826471,0.907894940777944,0.90946772420568,0.9128672016950466,0.9367134969412396,0.9326657742939428,0.9462739848146252,0.9377084718432036,0.9360839283437272,0.9428913819518396,0.9418576074789178,0.943873690107076,0.9379431251524596,0.9471028114370048,0.9350966532061094,0.950757482995308,0.9508939911573032,0.95312718847208,0.948341968438052,0.9537959059210908,0.9471915652202566,0.9525689836133832,0.9493761051847748,0.9469347832349388,0.9555027552980138,0.9500363086202464,0.9521720815293718,0.9501899202442546,0.947836299725727,0.9517656300459552,0.953309858131789,0.954708725537904,0.947736958893012,0.950306578446002,0.9483617220602818,0.9502410872967711,0.9491207254519874,0.9460652125752964,0.948630478965218,0.9492197920150964,0.9431083090332424,0.9469048895606722,0.9465824087574808,0.9471894450906784,0.945519840506765,0.9498470296199552,0.9485817913526008,0.9496627965431976,0.9554680276505916,0.953928280002992,0.9496108515358505,0.9493805812318844,0.9530470252131776,0.9522591143910326,0.9560873706624862,0.9570181450060072,0.9502619203483526,0.9585582491917708,0.948267562339776,0.9483027135884918,0.9507523788504216,0.9507123194036712,0.953749170844434,0.9533138980368124,0.9529279544742668,0.9584094650447472,0.9561538382095288,0.9586708385653276,0.9537969123756452,0.9598066351190526,0.9576529387133228,0.9598251386501524,0.9575833625908564,0.9528258809066896,0.9632839640383752,0.9630539599365484,0.9537550151776591,0.95395814245791,0.9598178088640874,0.9601300511058096,0.9504738864962116,0.9549400988070634,0.9540119194317684,0.9548118955458323,0.9520217834406582,0.9636165690022824,0.9558967888626376,0.9544855458944828,0.9566578954538176,0.9611609909291754,0.9606236878072358,0.9604953292758108,0.9601524116236504,0.9568351758968004,0.9573692427283484,0.9590255441756756,0.9572589179383946,0.9567772288406676,0.9599060799839424,0.9543246269897128,0.9598532179473352,0.9594105843367152,0.956527680647824,0.9579165768194317,0.9574890403797872,0.9634597519420828,0.959328134897317,0.9619464825350318,0.9613185048437524,0.9553479249587188,0.9557162873756874,0.9563236005835886,0.9562379691968528,0.95872086725933,0.9549943284249968,0.9597592857302436,0.961194338308977,0.9600543221715888,0.9605781621276852,0.9579935046050072],\"type\":\"scatter\",\"xaxis\":\"x\",\"yaxis\":\"y2\"}],                        {\"template\":{\"data\":{\"histogram2dcontour\":[{\"type\":\"histogram2dcontour\",\"colorbar\":{\"outlinewidth\":0,\"ticks\":\"\"},\"colorscale\":[[0.0,\"#0d0887\"],[0.1111111111111111,\"#46039f\"],[0.2222222222222222,\"#7201a8\"],[0.3333333333333333,\"#9c179e\"],[0.4444444444444444,\"#bd3786\"],[0.5555555555555556,\"#d8576b\"],[0.6666666666666666,\"#ed7953\"],[0.7777777777777778,\"#fb9f3a\"],[0.8888888888888888,\"#fdca26\"],[1.0,\"#f0f921\"]]}],\"choropleth\":[{\"type\":\"choropleth\",\"colorbar\":{\"outlinewidth\":0,\"ticks\":\"\"}}],\"histogram2d\":[{\"type\":\"histogram2d\",\"colorbar\":{\"outlinewidth\":0,\"ticks\":\"\"},\"colorscale\":[[0.0,\"#0d0887\"],[0.1111111111111111,\"#46039f\"],[0.2222222222222222,\"#7201a8\"],[0.3333333333333333,\"#9c179e\"],[0.4444444444444444,\"#bd3786\"],[0.5555555555555556,\"#d8576b\"],[0.6666666666666666,\"#ed7953\"],[0.7777777777777778,\"#fb9f3a\"],[0.8888888888888888,\"#fdca26\"],[1.0,\"#f0f921\"]]}],\"heatmap\":[{\"type\":\"heatmap\",\"colorbar\":{\"outlinewidth\":0,\"ticks\":\"\"},\"colorscale\":[[0.0,\"#0d0887\"],[0.1111111111111111,\"#46039f\"],[0.2222222222222222,\"#7201a8\"],[0.3333333333333333,\"#9c179e\"],[0.4444444444444444,\"#bd3786\"],[0.5555555555555556,\"#d8576b\"],[0.6666666666666666,\"#ed7953\"],[0.7777777777777778,\"#fb9f3a\"],[0.8888888888888888,\"#fdca26\"],[1.0,\"#f0f921\"]]}],\"heatmapgl\":[{\"type\":\"heatmapgl\",\"colorbar\":{\"outlinewidth\":0,\"ticks\":\"\"},\"colorscale\":[[0.0,\"#0d0887\"],[0.1111111111111111,\"#46039f\"],[0.2222222222222222,\"#7201a8\"],[0.3333333333333333,\"#9c179e\"],[0.4444444444444444,\"#bd3786\"],[0.5555555555555556,\"#d8576b\"],[0.6666666666666666,\"#ed7953\"],[0.7777777777777778,\"#fb9f3a\"],[0.8888888888888888,\"#fdca26\"],[1.0,\"#f0f921\"]]}],\"contourcarpet\":[{\"type\":\"contourcarpet\",\"colorbar\":{\"outlinewidth\":0,\"ticks\":\"\"}}],\"contour\":[{\"type\":\"contour\",\"colorbar\":{\"outlinewidth\":0,\"ticks\":\"\"},\"colorscale\":[[0.0,\"#0d0887\"],[0.1111111111111111,\"#46039f\"],[0.2222222222222222,\"#7201a8\"],[0.3333333333333333,\"#9c179e\"],[0.4444444444444444,\"#bd3786\"],[0.5555555555555556,\"#d8576b\"],[0.6666666666666666,\"#ed7953\"],[0.7777777777777778,\"#fb9f3a\"],[0.8888888888888888,\"#fdca26\"],[1.0,\"#f0f921\"]]}],\"surface\":[{\"type\":\"surface\",\"colorbar\":{\"outlinewidth\":0,\"ticks\":\"\"},\"colorscale\":[[0.0,\"#0d0887\"],[0.1111111111111111,\"#46039f\"],[0.2222222222222222,\"#7201a8\"],[0.3333333333333333,\"#9c179e\"],[0.4444444444444444,\"#bd3786\"],[0.5555555555555556,\"#d8576b\"],[0.6666666666666666,\"#ed7953\"],[0.7777777777777778,\"#fb9f3a\"],[0.8888888888888888,\"#fdca26\"],[1.0,\"#f0f921\"]]}],\"mesh3d\":[{\"type\":\"mesh3d\",\"colorbar\":{\"outlinewidth\":0,\"ticks\":\"\"}}],\"scatter\":[{\"fillpattern\":{\"fillmode\":\"overlay\",\"size\":10,\"solidity\":0.2},\"type\":\"scatter\"}],\"parcoords\":[{\"type\":\"parcoords\",\"line\":{\"colorbar\":{\"outlinewidth\":0,\"ticks\":\"\"}}}],\"scatterpolargl\":[{\"type\":\"scatterpolargl\",\"marker\":{\"colorbar\":{\"outlinewidth\":0,\"ticks\":\"\"}}}],\"bar\":[{\"error_x\":{\"color\":\"#2a3f5f\"},\"error_y\":{\"color\":\"#2a3f5f\"},\"marker\":{\"line\":{\"color\":\"#E5ECF6\",\"width\":0.5},\"pattern\":{\"fillmode\":\"overlay\",\"size\":10,\"solidity\":0.2}},\"type\":\"bar\"}],\"scattergeo\":[{\"type\":\"scattergeo\",\"marker\":{\"colorbar\":{\"outlinewidth\":0,\"ticks\":\"\"}}}],\"scatterpolar\":[{\"type\":\"scatterpolar\",\"marker\":{\"colorbar\":{\"outlinewidth\":0,\"ticks\":\"\"}}}],\"histogram\":[{\"marker\":{\"pattern\":{\"fillmode\":\"overlay\",\"size\":10,\"solidity\":0.2}},\"type\":\"histogram\"}],\"scattergl\":[{\"type\":\"scattergl\",\"marker\":{\"colorbar\":{\"outlinewidth\":0,\"ticks\":\"\"}}}],\"scatter3d\":[{\"type\":\"scatter3d\",\"line\":{\"colorbar\":{\"outlinewidth\":0,\"ticks\":\"\"}},\"marker\":{\"colorbar\":{\"outlinewidth\":0,\"ticks\":\"\"}}}],\"scattermapbox\":[{\"type\":\"scattermapbox\",\"marker\":{\"colorbar\":{\"outlinewidth\":0,\"ticks\":\"\"}}}],\"scatterternary\":[{\"type\":\"scatterternary\",\"marker\":{\"colorbar\":{\"outlinewidth\":0,\"ticks\":\"\"}}}],\"scattercarpet\":[{\"type\":\"scattercarpet\",\"marker\":{\"colorbar\":{\"outlinewidth\":0,\"ticks\":\"\"}}}],\"carpet\":[{\"aaxis\":{\"endlinecolor\":\"#2a3f5f\",\"gridcolor\":\"white\",\"linecolor\":\"white\",\"minorgridcolor\":\"white\",\"startlinecolor\":\"#2a3f5f\"},\"baxis\":{\"endlinecolor\":\"#2a3f5f\",\"gridcolor\":\"white\",\"linecolor\":\"white\",\"minorgridcolor\":\"white\",\"startlinecolor\":\"#2a3f5f\"},\"type\":\"carpet\"}],\"table\":[{\"cells\":{\"fill\":{\"color\":\"#EBF0F8\"},\"line\":{\"color\":\"white\"}},\"header\":{\"fill\":{\"color\":\"#C8D4E3\"},\"line\":{\"color\":\"white\"}},\"type\":\"table\"}],\"barpolar\":[{\"marker\":{\"line\":{\"color\":\"#E5ECF6\",\"width\":0.5},\"pattern\":{\"fillmode\":\"overlay\",\"size\":10,\"solidity\":0.2}},\"type\":\"barpolar\"}],\"pie\":[{\"automargin\":true,\"type\":\"pie\"}]},\"layout\":{\"autotypenumbers\":\"strict\",\"colorway\":[\"#636efa\",\"#EF553B\",\"#00cc96\",\"#ab63fa\",\"#FFA15A\",\"#19d3f3\",\"#FF6692\",\"#B6E880\",\"#FF97FF\",\"#FECB52\"],\"font\":{\"color\":\"#2a3f5f\"},\"hovermode\":\"closest\",\"hoverlabel\":{\"align\":\"left\"},\"paper_bgcolor\":\"white\",\"plot_bgcolor\":\"#E5ECF6\",\"polar\":{\"bgcolor\":\"#E5ECF6\",\"angularaxis\":{\"gridcolor\":\"white\",\"linecolor\":\"white\",\"ticks\":\"\"},\"radialaxis\":{\"gridcolor\":\"white\",\"linecolor\":\"white\",\"ticks\":\"\"}},\"ternary\":{\"bgcolor\":\"#E5ECF6\",\"aaxis\":{\"gridcolor\":\"white\",\"linecolor\":\"white\",\"ticks\":\"\"},\"baxis\":{\"gridcolor\":\"white\",\"linecolor\":\"white\",\"ticks\":\"\"},\"caxis\":{\"gridcolor\":\"white\",\"linecolor\":\"white\",\"ticks\":\"\"}},\"coloraxis\":{\"colorbar\":{\"outlinewidth\":0,\"ticks\":\"\"}},\"colorscale\":{\"sequential\":[[0.0,\"#0d0887\"],[0.1111111111111111,\"#46039f\"],[0.2222222222222222,\"#7201a8\"],[0.3333333333333333,\"#9c179e\"],[0.4444444444444444,\"#bd3786\"],[0.5555555555555556,\"#d8576b\"],[0.6666666666666666,\"#ed7953\"],[0.7777777777777778,\"#fb9f3a\"],[0.8888888888888888,\"#fdca26\"],[1.0,\"#f0f921\"]],\"sequentialminus\":[[0.0,\"#0d0887\"],[0.1111111111111111,\"#46039f\"],[0.2222222222222222,\"#7201a8\"],[0.3333333333333333,\"#9c179e\"],[0.4444444444444444,\"#bd3786\"],[0.5555555555555556,\"#d8576b\"],[0.6666666666666666,\"#ed7953\"],[0.7777777777777778,\"#fb9f3a\"],[0.8888888888888888,\"#fdca26\"],[1.0,\"#f0f921\"]],\"diverging\":[[0,\"#8e0152\"],[0.1,\"#c51b7d\"],[0.2,\"#de77ae\"],[0.3,\"#f1b6da\"],[0.4,\"#fde0ef\"],[0.5,\"#f7f7f7\"],[0.6,\"#e6f5d0\"],[0.7,\"#b8e186\"],[0.8,\"#7fbc41\"],[0.9,\"#4d9221\"],[1,\"#276419\"]]},\"xaxis\":{\"gridcolor\":\"white\",\"linecolor\":\"white\",\"ticks\":\"\",\"title\":{\"standoff\":15},\"zerolinecolor\":\"white\",\"automargin\":true,\"zerolinewidth\":2},\"yaxis\":{\"gridcolor\":\"white\",\"linecolor\":\"white\",\"ticks\":\"\",\"title\":{\"standoff\":15},\"zerolinecolor\":\"white\",\"automargin\":true,\"zerolinewidth\":2},\"scene\":{\"xaxis\":{\"backgroundcolor\":\"#E5ECF6\",\"gridcolor\":\"white\",\"linecolor\":\"white\",\"showbackground\":true,\"ticks\":\"\",\"zerolinecolor\":\"white\",\"gridwidth\":2},\"yaxis\":{\"backgroundcolor\":\"#E5ECF6\",\"gridcolor\":\"white\",\"linecolor\":\"white\",\"showbackground\":true,\"ticks\":\"\",\"zerolinecolor\":\"white\",\"gridwidth\":2},\"zaxis\":{\"backgroundcolor\":\"#E5ECF6\",\"gridcolor\":\"white\",\"linecolor\":\"white\",\"showbackground\":true,\"ticks\":\"\",\"zerolinecolor\":\"white\",\"gridwidth\":2}},\"shapedefaults\":{\"line\":{\"color\":\"#2a3f5f\"}},\"annotationdefaults\":{\"arrowcolor\":\"#2a3f5f\",\"arrowhead\":0,\"arrowwidth\":1},\"geo\":{\"bgcolor\":\"white\",\"landcolor\":\"#E5ECF6\",\"subunitcolor\":\"white\",\"showland\":true,\"showlakes\":true,\"lakecolor\":\"white\"},\"title\":{\"x\":0.05},\"mapbox\":{\"style\":\"light\"}}},\"xaxis\":{\"anchor\":\"y\",\"domain\":[0.0,0.94]},\"yaxis\":{\"anchor\":\"x\",\"domain\":[0.0,1.0],\"title\":{\"text\":\"Loss\"},\"type\":\"log\"},\"yaxis2\":{\"anchor\":\"x\",\"overlaying\":\"y\",\"side\":\"right\",\"title\":{\"text\":\"Score\"},\"type\":\"linear\"},\"title\":{\"text\":\"German Loss, English Loss, L3N669 F1, and L3N669 MCC over Pythia 70M Checkpoints\"}},                        {\"responsive\": true}                    ).then(function(){\n",
       "                            \n",
       "var gd = document.getElementById('a08f76bd-2689-4b28-b478-359bf945632f');\n",
       "var x = new MutationObserver(function (mutations, observer) {{\n",
       "        var display = window.getComputedStyle(gd).display;\n",
       "        if (!display || display === 'none') {{\n",
       "            console.log([gd, 'removed!']);\n",
       "            Plotly.purge(gd);\n",
       "            observer.disconnect();\n",
       "        }}\n",
       "}});\n",
       "\n",
       "// Listen for the removal of the full notebook cells\n",
       "var notebookContainer = gd.closest('#notebook-container');\n",
       "if (notebookContainer) {{\n",
       "    x.observe(notebookContainer, {childList: true});\n",
       "}}\n",
       "\n",
       "// Listen for the clearing of the current output cell\n",
       "var outputEl = gd.closest('.output');\n",
       "if (outputEl) {{\n",
       "    x.observe(outputEl, {childList: true});\n",
       "}}\n",
       "\n",
       "                        })                };                });            </script>        </div>"
      ]
     },
     "metadata": {},
     "output_type": "display_data"
    }
   ],
   "source": [
    "import plotly.graph_objects as go\n",
    "from plotly.subplots import make_subplots\n",
    "\n",
    "# Create a subplot with 2 y-axes\n",
    "fig = make_subplots(specs=[[{\"secondary_y\": True}]])\n",
    "\n",
    "# Add traces for german_loss and english_loss\n",
    "fig.add_trace(go.Scatter(x=df['checkpoint'], y=df['german_loss'], name='German Loss'), secondary_y=False)\n",
    "fig.add_trace(go.Scatter(x=df['checkpoint'], y=df['english_loss'], name='English Loss'), secondary_y=False)\n",
    "fig.add_trace(go.Scatter(x=df['checkpoint'], y=df['ablation_loss'], name='Ablated German Loss'), secondary_y=False)\n",
    "\n",
    "# Add traces for f1 and mcc\n",
    "fig.add_trace(go.Scatter(x=df['checkpoint'], y=df['f1'], name='F1'), secondary_y=True)\n",
    "fig.add_trace(go.Scatter(x=df['checkpoint'], y=df['mcc'], name='MCC'), secondary_y=True)\n",
    "\n",
    "# Set y-axes titles\n",
    "fig.update_yaxes(title_text=\"Loss\", secondary_y=False)\n",
    "fig.update_yaxes(title_text=\"Score\", secondary_y=True)\n",
    "\n",
    "fig.update_layout(title_text=\"German Loss, English Loss, L3N669 F1, and L3N669 MCC over Pythia 70M Checkpoints\")\n",
    "fig.update_layout(\n",
    "    yaxis=dict(type='log'),\n",
    "    yaxis2=dict(type='linear')\n",
    ")\n",
    "\n",
    "\n",
    "fig.show()\n"
   ]
  },
  {
   "cell_type": "code",
   "execution_count": 21,
   "metadata": {},
   "outputs": [],
   "source": [
    "df.to_csv(\"data/checkpoint_eval.csv\", index=False)"
   ]
  },
  {
   "cell_type": "code",
   "execution_count": null,
   "metadata": {},
   "outputs": [],
   "source": [
    "# abltaion\n",
    "# other context neurons in"
   ]
  }
 ],
 "metadata": {
  "kernelspec": {
   "display_name": "base",
   "language": "python",
   "name": "python3"
  },
  "language_info": {
   "codemirror_mode": {
    "name": "ipython",
    "version": 3
   },
   "file_extension": ".py",
   "mimetype": "text/x-python",
   "name": "python",
   "nbconvert_exporter": "python",
   "pygments_lexer": "ipython3",
   "version": "3.10.11"
  },
  "orig_nbformat": 4
 },
 "nbformat": 4,
 "nbformat_minor": 2
}
