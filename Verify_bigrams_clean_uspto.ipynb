{
 "cells": [
  {
   "cell_type": "markdown",
   "metadata": {},
   "source": [
    "## Setup"
   ]
  },
  {
   "cell_type": "code",
   "execution_count": 2,
   "metadata": {},
   "outputs": [],
   "source": [
    "import torch\n",
    "from tqdm.auto import tqdm\n",
    "from transformer_lens import HookedTransformer, ActivationCache, utils, patching\n",
    "from jaxtyping import Float, Int, Bool\n",
    "from torch import Tensor\n",
    "from tqdm.auto import tqdm\n",
    "import plotly.io as pio\n",
    "import ipywidgets as widgets\n",
    "from IPython.display import display, clear_output\n",
    "from datasets import load_dataset\n",
    "\n",
    "pio.renderers.default = \"notebook_connected\"\n",
    "device = \"cuda\" if torch.cuda.is_available() else \"cpu\"\n",
    "torch.autograd.set_grad_enabled(False)\n",
    "torch.set_grad_enabled(False)\n",
    "\n",
    "from haystack_utils import get_mlp_activations\n",
    "import haystack_utils\n",
    "\n",
    "%reload_ext autoreload\n",
    "%autoreload 2"
   ]
  },
  {
   "cell_type": "code",
   "execution_count": 3,
   "metadata": {},
   "outputs": [
    {
     "name": "stdout",
     "output_type": "stream",
     "text": [
      "data/uspto.txt: Loaded 3509 examples with 0 to 12506 characters each.\n",
      "data/non_uspto.txt: Loaded 85495 examples with 0 to 61007 characters each.\n"
     ]
    }
   ],
   "source": [
    "uspto_data = haystack_utils.load_txt_data('data/uspto.txt')[:500]\n",
    "non_uspto_data = haystack_utils.load_txt_data('data/non_uspto.txt')[:500]\n",
    "\n",
    "LAYER_TO_ABLATE = 4\n",
    "NEURONS_TO_ABLATE = [663]\n",
    "\n",
    "german_data = uspto_data\n",
    "english_data = non_uspto_data\n"
   ]
  },
  {
   "cell_type": "code",
   "execution_count": 4,
   "metadata": {},
   "outputs": [
    {
     "name": "stderr",
     "output_type": "stream",
     "text": [
      "Using pad_token, but it is not set yet.\n"
     ]
    },
    {
     "name": "stdout",
     "output_type": "stream",
     "text": [
      "Loaded pretrained model EleutherAI/pythia-70m into HookedTransformer\n"
     ]
    },
    {
     "data": {
      "application/vnd.jupyter.widget-view+json": {
       "model_id": "7f2b4906891d442d82b817cb6c2c4473",
       "version_major": 2,
       "version_minor": 0
      },
      "text/plain": [
       "  0%|          | 0/200 [00:00<?, ?it/s]"
      ]
     },
     "metadata": {},
     "output_type": "display_data"
    },
    {
     "data": {
      "application/vnd.jupyter.widget-view+json": {
       "model_id": "b9cb01a5f0454f459c6c6c72ef32afc7",
       "version_major": 2,
       "version_minor": 0
      },
      "text/plain": [
       "  0%|          | 0/200 [00:00<?, ?it/s]"
      ]
     },
     "metadata": {},
     "output_type": "display_data"
    }
   ],
   "source": [
    "model = HookedTransformer.from_pretrained(\"EleutherAI/pythia-70m\",\n",
    "    center_unembed=True,\n",
    "    center_writing_weights=True,\n",
    "    fold_ln=True,\n",
    "    device=device)\n",
    "\n",
    "\n",
    "english_activations = {}\n",
    "german_activations = {}\n",
    "for layer in range(4, 5):\n",
    "    english_activations[layer] = get_mlp_activations(english_data[:200], layer, model, mean=False)\n",
    "    german_activations[layer] = get_mlp_activations(german_data[:200], layer, model, mean=False)\n",
    "\n",
    "\n",
    "MEAN_ACTIVATION_ACTIVE = german_activations[LAYER_TO_ABLATE][:, NEURONS_TO_ABLATE].mean()\n",
    "MEAN_ACTIVATION_INACTIVE = english_activations[LAYER_TO_ABLATE][:, NEURONS_TO_ABLATE].mean()\n",
    "\n",
    "def deactivate_neurons_hook(value, hook):\n",
    "    value[:, :, NEURONS_TO_ABLATE] = MEAN_ACTIVATION_INACTIVE\n",
    "    return value\n",
    "deactivate_neurons_fwd_hooks=[(f'blocks.{LAYER_TO_ABLATE}.mlp.hook_post', deactivate_neurons_hook)]\n",
    "\n",
    "def activate_neurons_hook(value, hook):\n",
    "    value[:, :, NEURONS_TO_ABLATE] = MEAN_ACTIVATION_ACTIVE\n",
    "    return value\n",
    "activate_neurons_fwd_hooks=[(f'blocks.{LAYER_TO_ABLATE}.mlp.hook_post', activate_neurons_hook)]\n",
    "\n",
    "all_ignore, not_ignore = haystack_utils.get_weird_tokens(model, plot_norms=False)"
   ]
  },
  {
   "cell_type": "markdown",
   "metadata": {},
   "source": [
    "## Find top common German tokens"
   ]
  },
  {
   "cell_type": "code",
   "execution_count": 5,
   "metadata": {},
   "outputs": [
    {
     "data": {
      "application/vnd.jupyter.widget-view+json": {
       "model_id": "b2256e3f91514486bac130a7b93a1ed5",
       "version_major": 2,
       "version_minor": 0
      },
      "text/plain": [
       "  0%|          | 0/500 [00:00<?, ?it/s]"
      ]
     },
     "metadata": {},
     "output_type": "display_data"
    },
    {
     "name": "stdout",
     "output_type": "stream",
     "text": [
      "[' the', ' a', ' of', ' to', ' and', ' is', ' in', ' for', ' an', ' are', ' as', ' be', ' by', ' or', ' which', ' with', ' that', ' on', ' such', ' The', ' from', ' at', ' can', ' invention', ' data', ' fluid', ' method', ' may', '2', ' it', ' has', 'phase', ' one', ' not', ' In', ' present', ' have', ' example', ' this', ' been', ' when', ' used', ' system', ' device', ' metal', ' motor', ' into', ' light', ' other', ' cell', ' having', ' part', ' chamber', 'ting', ' layer', '.,', ' speed', 'x', ' will', ' use', 'The', ' through', ' high', ' processing', ' 1', ' micro', ' water', ' mobile', ' jet', ' U', ' order', ' gas', ' A', ' there', ' process', '1', ' using', ' material', ' more', ' signal', ' between', ' power', ' current', ' portion', 'In', ' 3', ' projection', ' devices', ' position', ' apparatus', ' also', ' hand', ' body', 'ing', ' each', ' provided', ' electron', ' nozzle', 'A', ' time']\n"
     ]
    }
   ],
   "source": [
    "# Get top common german tokens excluding punctuation\n",
    "token_counts = torch.zeros(model.cfg.d_vocab).cuda()\n",
    "for example in tqdm(german_data):\n",
    "    tokens = model.to_tokens(example)\n",
    "    for token in tokens[0]:\n",
    "        token_counts[token.item()] += 1\n",
    "\n",
    "punctuation = [\"\\n\", \".\", \",\", \"!\", \"?\", \";\", \":\", \"-\", \"(\", \")\", \"[\", \"]\", \"{\", \"}\", \"<\", \">\", \"/\", \"\\\\\", \"\\\"\", \"'\"]\n",
    "leading_space_punctuation = [\" \" + char for char in punctuation]\n",
    "punctuation_tokens = model.to_tokens(punctuation + leading_space_punctuation + [' –', \" \", '  ', \"<|endoftext|>\"])[:, 1].flatten()\n",
    "token_counts[punctuation_tokens] = 0\n",
    "token_counts[all_ignore] = 0\n",
    "\n",
    "top_counts, top_tokens = torch.topk(token_counts, 100)\n",
    "print(model.to_str_tokens(top_tokens[:100]))"
   ]
  },
  {
   "cell_type": "code",
   "execution_count": null,
   "metadata": {},
   "outputs": [],
   "source": [
    "def interest_measure(original_loss, ablated_loss, context_and_activated_loss, only_activated_loss):\n",
    "    loss_diff = (ablated_loss - original_loss) # High ablation loss increase\n",
    "    activated_component_power = (only_activated_loss - original_loss) # Low loss increase from activated component/s\n",
    "    activated_component_power[activated_component_power < 0] = 0\n",
    "    combined = 0.5*loss_diff - activated_component_power\n",
    "    combined[original_loss > 6] = 0\n",
    "    combined[original_loss > ablated_loss] = 0\n",
    "    return combined\n",
    "\n",
    "def print_prompt(prompt: str):\n",
    "    str_token_prompt = model.to_str_tokens(model.to_tokens(prompt))\n",
    "    original_loss, ablated_loss, context_and_activated_loss, only_activated_loss = haystack_utils.get_direct_effect(prompt, model, pos=None, context_ablation_hooks=deactivate_neurons_fwd_hooks, context_activation_hooks=activate_neurons_fwd_hooks,\n",
    "                                                                                                                    activated_components=('blocks.5.hook_mlp_out',), deactivated_components=('blocks.5.hook_attn_out',))\n",
    "    pos_wise_diff = interest_measure(original_loss, ablated_loss).flatten().cpu().tolist()\n",
    "\n",
    "    loss_list = [loss.flatten().cpu().tolist() for loss in [original_loss, ablated_loss, context_and_activated_loss, only_activated_loss]]\n",
    "    loss_names = [\"original_loss\", \"ablated_loss\", \"context_and_activated_loss\", \"only_activated_loss\"]\n",
    "    haystack_utils.clean_print_strings_as_html(str_token_prompt[1:], pos_wise_diff, max_value=5, additional_measures=loss_list, additional_measure_names=loss_names)"
   ]
  },
  {
   "cell_type": "code",
   "execution_count": 7,
   "metadata": {},
   "outputs": [],
   "source": [
    "def get_mlp5_decrease_measure(losses: list[tuple[Float[Tensor, \"pos\"], Float[Tensor, \"pos\"], Float[Tensor, \"pos\"], Float[Tensor, \"pos\"]]]):\n",
    "    measure = []\n",
    "    for original_loss, ablated_loss, context_and_activated_loss, only_activated_loss in losses:\n",
    "        combined = interest_measure(original_loss, ablated_loss, context_and_activated_loss, only_activated_loss)\n",
    "        measure.append(combined.max().item())\n",
    "    return measure\n",
    "\n",
    "german_losses = []\n",
    "for prompt in german_data:\n",
    "    prompt_losses = haystack_utils.get_direct_effect(prompt, model, pos=None, context_ablation_hooks=deactivate_neurons_fwd_hooks, context_activation_hooks=activate_neurons_fwd_hooks,\n",
    "                                                     activated_components=('blocks.5.hook_mlp_out',), deactivated_components=('blocks.5.hook_attn_out',))\n",
    "    german_losses.append(prompt_losses)\n",
    "measure = get_mlp5_decrease_measure(german_losses)\n",
    "index = [i for i in range(len(measure))]\n",
    "\n",
    "sorted_measure = list(zip(index, measure))\n",
    "sorted_measure.sort(key=lambda x: x[1], reverse=True)"
   ]
  },
  {
   "cell_type": "code",
   "execution_count": 8,
   "metadata": {},
   "outputs": [
    {
     "data": {
      "text/html": [
       "<div><span style=\"background-color: rgb(253, 253, 255); color: black; padding: 2px;\" title=\"Difference: -0.0261, original_loss: 5.5628, ablated_loss: 5.5367, context_and_activated_loss: 5.5668, only_activated_loss: 5.5689\">As</span><span style=\"background-color: rgb(255, 241, 241); color: black; padding: 2px;\" title=\"Difference: 0.2623, original_loss: 6.0304, ablated_loss: 6.2927, context_and_activated_loss: 6.0765, only_activated_loss: 6.1788\">_shown</span><span style=\"background-color: rgb(255, 253, 253); color: black; padding: 2px;\" title=\"Difference: 0.0222, original_loss: 0.4819, ablated_loss: 0.5040, context_and_activated_loss: 0.4826, only_activated_loss: 0.4176\">_in</span><span style=\"background-color: rgb(255, 137, 137); color: black; padding: 2px;\" title=\"Difference: 2.2959, original_loss: 1.3681, ablated_loss: 3.6640, context_and_activated_loss: 2.2101, only_activated_loss: 3.1170\">_FIG</span><span style=\"background-color: rgb(255, 254, 254); color: black; padding: 2px;\" title=\"Difference: 0.0004, original_loss: 0.0040, ablated_loss: 0.0045, context_and_activated_loss: 0.0045, only_activated_loss: 0.0040\">.</span><span style=\"background-color: rgb(250, 250, 255); color: black; padding: 2px;\" title=\"Difference: -0.0911, original_loss: 2.2771, ablated_loss: 2.1860, context_and_activated_loss: 2.2888, only_activated_loss: 2.3262\">_2</span><span style=\"background-color: rgb(254, 254, 255); color: black; padding: 2px;\" title=\"Difference: -0.0028, original_loss: 0.0994, ablated_loss: 0.0966, context_and_activated_loss: 0.1124, only_activated_loss: 0.1167\">,</span><span style=\"background-color: rgb(245, 245, 255); color: black; padding: 2px;\" title=\"Difference: -0.1916, original_loss: 1.4872, ablated_loss: 1.2956, context_and_activated_loss: 1.5015, only_activated_loss: 1.4481\">_the</span><span style=\"background-color: rgb(255, 240, 240); color: black; padding: 2px;\" title=\"Difference: 0.2911, original_loss: 8.9909, ablated_loss: 9.2820, context_and_activated_loss: 9.0206, only_activated_loss: 9.2185\">_nozzle</span><span style=\"background-color: rgb(253, 253, 255); color: black; padding: 2px;\" title=\"Difference: -0.0219, original_loss: 3.8468, ablated_loss: 3.8250, context_and_activated_loss: 3.9479, only_activated_loss: 3.7053\">_plate</span><span style=\"background-color: rgb(255, 244, 244); color: black; padding: 2px;\" title=\"Difference: 0.2083, original_loss: 5.7696, ablated_loss: 5.9779, context_and_activated_loss: 5.7883, only_activated_loss: 5.7434\">_34</span><span style=\"background-color: rgb(254, 254, 255); color: black; padding: 2px;\" title=\"Difference: -0.0131, original_loss: 0.8888, ablated_loss: 0.8757, context_and_activated_loss: 0.8389, only_activated_loss: 0.8993\">_is</span><span style=\"background-color: rgb(240, 240, 255); color: black; padding: 2px;\" title=\"Difference: -0.2821, original_loss: 8.5593, ablated_loss: 8.2772, context_and_activated_loss: 8.4835, only_activated_loss: 8.2896\">_transferred</span><span style=\"background-color: rgb(255, 248, 248); color: black; padding: 2px;\" title=\"Difference: 0.1240, original_loss: 1.2847, ablated_loss: 1.4087, context_and_activated_loss: 1.3107, only_activated_loss: 1.3203\">_from</span><span style=\"background-color: rgb(255, 246, 246); color: black; padding: 2px;\" title=\"Difference: 0.1611, original_loss: 1.2431, ablated_loss: 1.4041, context_and_activated_loss: 1.2538, only_activated_loss: 1.3549\">_a</span><span style=\"background-color: rgb(255, 246, 246); color: black; padding: 2px;\" title=\"Difference: 0.1758, original_loss: 7.0705, ablated_loss: 7.2462, context_and_activated_loss: 7.1018, only_activated_loss: 7.1771\">_feeding</span><span style=\"background-color: rgb(255, 238, 238); color: black; padding: 2px;\" title=\"Difference: 0.3274, original_loss: 7.4109, ablated_loss: 7.7383, context_and_activated_loss: 7.4907, only_activated_loss: 7.8471\">_reel</span><span style=\"background-color: rgb(255, 243, 243); color: black; padding: 2px;\" title=\"Difference: 0.2243, original_loss: 5.1564, ablated_loss: 5.3808, context_and_activated_loss: 5.1366, only_activated_loss: 5.2858\">_51</span><span style=\"background-color: rgb(252, 252, 255); color: black; padding: 2px;\" title=\"Difference: -0.0476, original_loss: 0.7374, ablated_loss: 0.6898, context_and_activated_loss: 0.7568, only_activated_loss: 0.7179\">_to</span><span style=\"background-color: rgb(255, 253, 253); color: black; padding: 2px;\" title=\"Difference: 0.0354, original_loss: 0.2881, ablated_loss: 0.3234, context_and_activated_loss: 0.2943, only_activated_loss: 0.3245\">_a</span><span style=\"background-color: rgb(251, 251, 255); color: black; padding: 2px;\" title=\"Difference: -0.0602, original_loss: 10.3766, ablated_loss: 10.3164, context_and_activated_loss: 10.3586, only_activated_loss: 10.3837\">_take</span><span style=\"background-color: rgb(255, 253, 253); color: black; padding: 2px;\" title=\"Difference: 0.0278, original_loss: 0.5951, ablated_loss: 0.6229, context_and_activated_loss: 0.5897, only_activated_loss: 0.5850\">-</span><span style=\"background-color: rgb(255, 254, 254); color: black; padding: 2px;\" title=\"Difference: 0.0146, original_loss: 2.6898, ablated_loss: 2.7044, context_and_activated_loss: 2.5388, only_activated_loss: 2.7905\">up</span><span style=\"background-color: rgb(255, 248, 248); color: black; padding: 2px;\" title=\"Difference: 0.1325, original_loss: 1.3116, ablated_loss: 1.4441, context_and_activated_loss: 1.3573, only_activated_loss: 1.5358\">_reel</span><span style=\"background-color: rgb(255, 254, 254); color: black; padding: 2px;\" title=\"Difference: 0.0131, original_loss: 1.5943, ablated_loss: 1.6074, context_and_activated_loss: 1.5899, only_activated_loss: 1.6325\">_52</span><span style=\"background-color: rgb(250, 250, 255); color: black; padding: 2px;\" title=\"Difference: -0.0822, original_loss: 1.7378, ablated_loss: 1.6557, context_and_activated_loss: 1.7251, only_activated_loss: 1.6544\">.</span><span style=\"background-color: rgb(255, 247, 247); color: black; padding: 2px;\" title=\"Difference: 0.1471, original_loss: 2.4301, ablated_loss: 2.5772, context_and_activated_loss: 2.4465, only_activated_loss: 2.4666\">_In</span><span style=\"background-color: rgb(255, 251, 251); color: black; padding: 2px;\" title=\"Difference: 0.0659, original_loss: 1.1752, ablated_loss: 1.2412, context_and_activated_loss: 1.1712, only_activated_loss: 1.1352\">_the</span><span style=\"background-color: rgb(246, 246, 255); color: black; padding: 2px;\" title=\"Difference: -0.1707, original_loss: 3.8726, ablated_loss: 3.7019, context_and_activated_loss: 3.8786, only_activated_loss: 3.8746\">_process</span><span style=\"background-color: rgb(255, 252, 252); color: black; padding: 2px;\" title=\"Difference: 0.0450, original_loss: 0.7075, ablated_loss: 0.7524, context_and_activated_loss: 0.7124, only_activated_loss: 0.6890\">_of</span><span style=\"background-color: rgb(251, 251, 255); color: black; padding: 2px;\" title=\"Difference: -0.0610, original_loss: 4.4976, ablated_loss: 4.4366, context_and_activated_loss: 4.6113, only_activated_loss: 4.4578\">_transferring</span><span style=\"background-color: rgb(254, 254, 255); color: black; padding: 2px;\" title=\"Difference: -0.0182, original_loss: 0.5925, ablated_loss: 0.5744, context_and_activated_loss: 0.5926, only_activated_loss: 0.5560\">_the</span><span style=\"background-color: rgb(248, 248, 255); color: black; padding: 2px;\" title=\"Difference: -0.1305, original_loss: 1.3824, ablated_loss: 1.2520, context_and_activated_loss: 1.4194, only_activated_loss: 1.5389\">_nozzle</span><span style=\"background-color: rgb(254, 254, 255); color: black; padding: 2px;\" title=\"Difference: -0.0051, original_loss: 0.0297, ablated_loss: 0.0246, context_and_activated_loss: 0.0302, only_activated_loss: 0.0249\">_plate</span><span style=\"background-color: rgb(255, 254, 254); color: black; padding: 2px;\" title=\"Difference: 0.0052, original_loss: 0.1448, ablated_loss: 0.1500, context_and_activated_loss: 0.1589, only_activated_loss: 0.1519\">_34</span><span style=\"background-color: rgb(255, 254, 254); color: black; padding: 2px;\" title=\"Difference: 0.0075, original_loss: 1.2050, ablated_loss: 1.2125, context_and_activated_loss: 1.2410, only_activated_loss: 1.2076\">_from</span><span style=\"background-color: rgb(252, 252, 255); color: black; padding: 2px;\" title=\"Difference: -0.0410, original_loss: 0.6700, ablated_loss: 0.6290, context_and_activated_loss: 0.6659, only_activated_loss: 0.6022\">_the</span><span style=\"background-color: rgb(255, 254, 254); color: black; padding: 2px;\" title=\"Difference: 0.0077, original_loss: 1.8897, ablated_loss: 1.8974, context_and_activated_loss: 1.9339, only_activated_loss: 1.8238\">_feeding</span><span style=\"background-color: rgb(255, 254, 254); color: black; padding: 2px;\" title=\"Difference: 0.0190, original_loss: 0.0782, ablated_loss: 0.0972, context_and_activated_loss: 0.0900, only_activated_loss: 0.1143\">_reel</span><span style=\"background-color: rgb(255, 254, 254); color: black; padding: 2px;\" title=\"Difference: 0.0050, original_loss: 0.3190, ablated_loss: 0.3240, context_and_activated_loss: 0.3295, only_activated_loss: 0.3482\">_51</span><span style=\"background-color: rgb(254, 254, 255); color: black; padding: 2px;\" title=\"Difference: -0.0155, original_loss: 0.3455, ablated_loss: 0.3299, context_and_activated_loss: 0.3621, only_activated_loss: 0.3228\">_to</span><span style=\"background-color: rgb(253, 253, 255); color: black; padding: 2px;\" title=\"Difference: -0.0337, original_loss: 0.3396, ablated_loss: 0.3059, context_and_activated_loss: 0.3349, only_activated_loss: 0.2948\">_the</span><span style=\"background-color: rgb(255, 254, 254); color: black; padding: 2px;\" title=\"Difference: 0.0109, original_loss: 0.2617, ablated_loss: 0.2727, context_and_activated_loss: 0.2920, only_activated_loss: 0.3096\">_take</span><span style=\"background-color: rgb(255, 254, 254); color: black; padding: 2px;\" title=\"Difference: 0.0029, original_loss: 0.0085, ablated_loss: 0.0114, context_and_activated_loss: 0.0090, only_activated_loss: 0.0096\">-</span><span style=\"background-color: rgb(254, 254, 255); color: black; padding: 2px;\" title=\"Difference: -0.0009, original_loss: 0.0032, ablated_loss: 0.0023, context_and_activated_loss: 0.0026, only_activated_loss: 0.0027\">up</span><span style=\"background-color: rgb(255, 254, 254); color: black; padding: 2px;\" title=\"Difference: 0.0016, original_loss: 0.0053, ablated_loss: 0.0068, context_and_activated_loss: 0.0075, only_activated_loss: 0.0096\">_reel</span><span style=\"background-color: rgb(254, 254, 255); color: black; padding: 2px;\" title=\"Difference: -0.0174, original_loss: 0.0651, ablated_loss: 0.0477, context_and_activated_loss: 0.0636, only_activated_loss: 0.0659\">_52</span><span style=\"background-color: rgb(254, 254, 255); color: black; padding: 2px;\" title=\"Difference: -0.0091, original_loss: 0.1255, ablated_loss: 0.1163, context_and_activated_loss: 0.1419, only_activated_loss: 0.1463\">,</span><span style=\"background-color: rgb(255, 245, 245); color: black; padding: 2px;\" title=\"Difference: 0.1904, original_loss: 2.0275, ablated_loss: 2.2179, context_and_activated_loss: 2.0485, only_activated_loss: 2.2007\">_a</span><span style=\"background-color: rgb(255, 247, 247); color: black; padding: 2px;\" title=\"Difference: 0.1476, original_loss: 3.4904, ablated_loss: 3.6380, context_and_activated_loss: 3.5636, only_activated_loss: 3.7417\">_nozzle</span><span style=\"background-color: rgb(244, 244, 255); color: black; padding: 2px;\" title=\"Difference: -0.2071, original_loss: 4.5321, ablated_loss: 4.3249, context_and_activated_loss: 4.5135, only_activated_loss: 4.8235\">_is</span><span style=\"background-color: rgb(255, 235, 235); color: black; padding: 2px;\" title=\"Difference: 0.3746, original_loss: 3.1720, ablated_loss: 3.5465, context_and_activated_loss: 3.2794, only_activated_loss: 3.6208\">_formed</span><span style=\"background-color: rgb(255, 252, 252); color: black; padding: 2px;\" title=\"Difference: 0.0424, original_loss: 1.6236, ablated_loss: 1.6659, context_and_activated_loss: 1.6290, only_activated_loss: 1.5258\">_in</span><span style=\"background-color: rgb(251, 251, 255); color: black; padding: 2px;\" title=\"Difference: -0.0664, original_loss: 0.8104, ablated_loss: 0.7441, context_and_activated_loss: 0.7971, only_activated_loss: 0.7324\">_the</span><span style=\"background-color: rgb(250, 250, 255); color: black; padding: 2px;\" title=\"Difference: -0.0830, original_loss: 3.8973, ablated_loss: 3.8144, context_and_activated_loss: 3.8868, only_activated_loss: 4.0563\">_nozzle</span><span style=\"background-color: rgb(251, 251, 255); color: black; padding: 2px;\" title=\"Difference: -0.0604, original_loss: 0.4540, ablated_loss: 0.3936, context_and_activated_loss: 0.4278, only_activated_loss: 0.3569\">_plate</span><span style=\"background-color: rgb(255, 254, 254); color: black; padding: 2px;\" title=\"Difference: 0.0061, original_loss: 0.3623, ablated_loss: 0.3685, context_and_activated_loss: 0.3855, only_activated_loss: 0.3717\">_34</span><span style=\"background-color: rgb(248, 248, 255); color: black; padding: 2px;\" title=\"Difference: -0.1264, original_loss: 1.5719, ablated_loss: 1.4455, context_and_activated_loss: 1.5212, only_activated_loss: 1.5864\">_by</span><span style=\"background-color: rgb(248, 248, 255); color: black; padding: 2px;\" title=\"Difference: -0.1333, original_loss: 8.2507, ablated_loss: 8.1175, context_and_activated_loss: 8.1893, only_activated_loss: 8.0304\">_laser</span><span style=\"background-color: rgb(255, 243, 243); color: black; padding: 2px;\" title=\"Difference: 0.2312, original_loss: 6.9884, ablated_loss: 7.2196, context_and_activated_loss: 6.9650, only_activated_loss: 7.5425\">_processing</span><span style=\"background-color: rgb(255, 234, 234); color: black; padding: 2px;\" title=\"Difference: 0.4107, original_loss: 5.0833, ablated_loss: 5.4940, context_and_activated_loss: 5.1894, only_activated_loss: 5.2122\">_equipment</span><span style=\"background-color: rgb(255, 247, 247); color: black; padding: 2px;\" title=\"Difference: 0.1387, original_loss: 4.6476, ablated_loss: 4.7864, context_and_activated_loss: 4.6187, only_activated_loss: 4.5880\">_53</span><span style=\"background-color: rgb(250, 250, 255); color: black; padding: 2px;\" title=\"Difference: -0.0798, original_loss: 1.5036, ablated_loss: 1.4238, context_and_activated_loss: 1.4612, only_activated_loss: 1.4099\">.</span><span style=\"background-color: rgb(247, 247, 255); color: black; padding: 2px;\" title=\"Difference: -0.1517, original_loss: 4.7523, ablated_loss: 4.6006, context_and_activated_loss: 4.6396, only_activated_loss: 4.5751\">_After</span><span style=\"background-color: rgb(253, 253, 255); color: black; padding: 2px;\" title=\"Difference: -0.0295, original_loss: 0.7585, ablated_loss: 0.7290, context_and_activated_loss: 0.7439, only_activated_loss: 0.7220\">_the</span><span style=\"background-color: rgb(255, 252, 252); color: black; padding: 2px;\" title=\"Difference: 0.0440, original_loss: 1.2160, ablated_loss: 1.2599, context_and_activated_loss: 1.2502, only_activated_loss: 1.4156\">_nozzle</span><span style=\"background-color: rgb(255, 254, 254); color: black; padding: 2px;\" title=\"Difference: 0.0034, original_loss: 1.4846, ablated_loss: 1.4880, context_and_activated_loss: 1.4631, only_activated_loss: 1.6926\">_is</span><span style=\"background-color: rgb(255, 235, 235); color: black; padding: 2px;\" title=\"Difference: 0.3829, original_loss: 2.2119, ablated_loss: 2.5949, context_and_activated_loss: 2.3262, only_activated_loss: 2.7215\">_formed</span><span style=\"background-color: rgb(249, 249, 255); color: black; padding: 2px;\" title=\"Difference: -0.1075, original_loss: 1.2938, ablated_loss: 1.1863, context_and_activated_loss: 1.3599, only_activated_loss: 1.4783\">,</span><span style=\"background-color: rgb(247, 247, 255); color: black; padding: 2px;\" title=\"Difference: -0.1373, original_loss: 7.0587, ablated_loss: 6.9214, context_and_activated_loss: 7.0371, only_activated_loss: 6.7897\">_air</span><span style=\"background-color: rgb(253, 253, 255); color: black; padding: 2px;\" title=\"Difference: -0.0350, original_loss: 1.0714, ablated_loss: 1.0364, context_and_activated_loss: 1.0436, only_activated_loss: 1.1454\">_is</span><span style=\"background-color: rgb(252, 252, 255); color: black; padding: 2px;\" title=\"Difference: -0.0587, original_loss: 9.0306, ablated_loss: 8.9719, context_and_activated_loss: 8.9411, only_activated_loss: 8.8873\">_j</span><span style=\"background-color: rgb(255, 252, 252); color: black; padding: 2px;\" title=\"Difference: 0.0427, original_loss: 0.4273, ablated_loss: 0.4700, context_and_activated_loss: 0.4412, only_activated_loss: 0.3385\">etted</span><span style=\"background-color: rgb(255, 243, 243); color: black; padding: 2px;\" title=\"Difference: 0.2223, original_loss: 1.4911, ablated_loss: 1.7134, context_and_activated_loss: 1.5331, only_activated_loss: 1.5315\">_from</span><span style=\"background-color: rgb(255, 249, 249); color: black; padding: 2px;\" title=\"Difference: 0.1028, original_loss: 3.7617, ablated_loss: 3.8645, context_and_activated_loss: 3.7918, only_activated_loss: 3.9245\">_an</span><span style=\"background-color: rgb(249, 249, 255); color: black; padding: 2px;\" title=\"Difference: -0.1053, original_loss: 1.2148, ablated_loss: 1.1095, context_and_activated_loss: 1.1781, only_activated_loss: 0.9701\">_air</span><span style=\"background-color: rgb(255, 252, 252); color: black; padding: 2px;\" title=\"Difference: 0.0544, original_loss: 7.6385, ablated_loss: 7.6929, context_and_activated_loss: 7.5856, only_activated_loss: 7.3627\">_blow</span><span style=\"background-color: rgb(255, 252, 252); color: black; padding: 2px;\" title=\"Difference: 0.0554, original_loss: 0.4888, ablated_loss: 0.5442, context_and_activated_loss: 0.5071, only_activated_loss: 0.4448\">er</span><span style=\"background-color: rgb(253, 253, 255); color: black; padding: 2px;\" title=\"Difference: -0.0218, original_loss: 1.6546, ablated_loss: 1.6328, context_and_activated_loss: 1.6808, only_activated_loss: 1.7752\">_54</span><span style=\"background-color: rgb(255, 238, 238); color: black; padding: 2px;\" title=\"Difference: 0.3180, original_loss: 4.7674, ablated_loss: 5.0854, context_and_activated_loss: 4.7835, only_activated_loss: 4.7529\">_so</span><span style=\"background-color: rgb(255, 252, 252); color: black; padding: 2px;\" title=\"Difference: 0.0467, original_loss: 0.6070, ablated_loss: 0.6537, context_and_activated_loss: 0.6125, only_activated_loss: 0.6352\">_as</span><span style=\"background-color: rgb(254, 254, 255); color: black; padding: 2px;\" title=\"Difference: -0.0023, original_loss: 0.0068, ablated_loss: 0.0045, context_and_activated_loss: 0.0070, only_activated_loss: 0.0065\">_to</span><span style=\"background-color: rgb(245, 245, 255); color: black; padding: 2px;\" title=\"Difference: -0.1885, original_loss: 6.0487, ablated_loss: 5.8602, context_and_activated_loss: 6.0277, only_activated_loss: 5.9725\">_eliminate</span><span style=\"background-color: rgb(248, 248, 255); color: black; padding: 2px;\" title=\"Difference: -0.1292, original_loss: 8.6276, ablated_loss: 8.4984, context_and_activated_loss: 8.6390, only_activated_loss: 8.6923\">_extr</span><span style=\"background-color: rgb(254, 254, 255); color: black; padding: 2px;\" title=\"Difference: -0.0036, original_loss: 0.0413, ablated_loss: 0.0377, context_and_activated_loss: 0.0431, only_activated_loss: 0.0338\">aneous</span><span style=\"background-color: rgb(247, 247, 255); color: black; padding: 2px;\" title=\"Difference: -0.1417, original_loss: 6.2293, ablated_loss: 6.0876, context_and_activated_loss: 6.2603, only_activated_loss: 6.3460\">_substances</span><span style=\"background-color: rgb(240, 240, 255); color: black; padding: 2px;\" title=\"Difference: -0.2806, original_loss: 7.7640, ablated_loss: 7.4834, context_and_activated_loss: 7.7651, only_activated_loss: 7.6625\">_attached</span><span style=\"background-color: rgb(238, 238, 255); color: black; padding: 2px;\" title=\"Difference: -0.3327, original_loss: 0.8211, ablated_loss: 0.4884, context_and_activated_loss: 0.7782, only_activated_loss: 0.5465\">_to</span><span style=\"background-color: rgb(255, 254, 254); color: black; padding: 2px;\" title=\"Difference: 0.0111, original_loss: 0.1758, ablated_loss: 0.1868, context_and_activated_loss: 0.1768, only_activated_loss: 0.1709\">_the</span><span style=\"background-color: rgb(254, 254, 255); color: black; padding: 2px;\" title=\"Difference: -0.0132, original_loss: 0.4876, ablated_loss: 0.4744, context_and_activated_loss: 0.5334, only_activated_loss: 0.6340\">_nozzle</span><span style=\"background-color: rgb(252, 252, 255); color: black; padding: 2px;\" title=\"Difference: -0.0440, original_loss: 0.5084, ablated_loss: 0.4644, context_and_activated_loss: 0.4744, only_activated_loss: 0.4077\">_plate</span><span style=\"background-color: rgb(253, 253, 255); color: black; padding: 2px;\" title=\"Difference: -0.0230, original_loss: 0.1806, ablated_loss: 0.1576, context_and_activated_loss: 0.1926, only_activated_loss: 0.1886\">_34</span><span style=\"background-color: rgb(251, 251, 255); color: black; padding: 2px;\" title=\"Difference: -0.0745, original_loss: 0.6826, ablated_loss: 0.6081, context_and_activated_loss: 0.6703, only_activated_loss: 0.6257\">.</span><span style=\"background-color: rgb(255, 252, 252); color: black; padding: 2px;\" title=\"Difference: 0.0560, original_loss: 5.6331, ablated_loss: 5.6892, context_and_activated_loss: 5.5894, only_activated_loss: 5.6526\">_Next</span><span style=\"background-color: rgb(254, 254, 255); color: black; padding: 2px;\" title=\"Difference: -0.0009, original_loss: 0.0504, ablated_loss: 0.0495, context_and_activated_loss: 0.0578, only_activated_loss: 0.0630\">,</span><span style=\"background-color: rgb(255, 245, 245); color: black; padding: 2px;\" title=\"Difference: 0.1907, original_loss: 3.1229, ablated_loss: 3.3136, context_and_activated_loss: 3.1564, only_activated_loss: 3.2853\">_an</span><span style=\"background-color: rgb(251, 251, 255); color: black; padding: 2px;\" title=\"Difference: -0.0631, original_loss: 4.9337, ablated_loss: 4.8706, context_and_activated_loss: 4.9508, only_activated_loss: 5.2359\">_actuator</span><span style=\"background-color: rgb(242, 242, 255); color: black; padding: 2px;\" title=\"Difference: -0.2478, original_loss: 12.6321, ablated_loss: 12.3843, context_and_activated_loss: 12.5752, only_activated_loss: 12.6616\">_chip</span><span style=\"background-color: rgb(252, 252, 255); color: black; padding: 2px;\" title=\"Difference: -0.0450, original_loss: 3.1908, ablated_loss: 3.1459, context_and_activated_loss: 3.1077, only_activated_loss: 3.0754\">_40</span><span style=\"background-color: rgb(255, 253, 253); color: black; padding: 2px;\" title=\"Difference: 0.0322, original_loss: 2.9971, ablated_loss: 3.0293, context_and_activated_loss: 3.1133, only_activated_loss: 3.0693\">,</span><span style=\"background-color: rgb(250, 250, 255); color: black; padding: 2px;\" title=\"Difference: -0.0956, original_loss: 0.9891, ablated_loss: 0.8934, context_and_activated_loss: 1.0448, only_activated_loss: 1.1025\">_which</span><span style=\"background-color: rgb(255, 251, 251); color: black; padding: 2px;\" title=\"Difference: 0.0629, original_loss: 0.8720, ablated_loss: 0.9349, context_and_activated_loss: 0.8464, only_activated_loss: 0.8980\">_is</span><span style=\"background-color: rgb(255, 241, 241); color: black; padding: 2px;\" title=\"Difference: 0.2578, original_loss: 9.0590, ablated_loss: 9.3168, context_and_activated_loss: 8.9918, only_activated_loss: 9.0062\">_lam</span><span style=\"background-color: rgb(255, 254, 254); color: black; padding: 2px;\" title=\"Difference: 0.0046, original_loss: 0.0152, ablated_loss: 0.0199, context_and_activated_loss: 0.0171, only_activated_loss: 0.0261\">inated</span><span style=\"background-color: rgb(247, 247, 255); color: black; padding: 2px;\" title=\"Difference: -0.1387, original_loss: 1.5270, ablated_loss: 1.3883, context_and_activated_loss: 1.5019, only_activated_loss: 1.4282\">_on</span><span style=\"background-color: rgb(255, 244, 244); color: black; padding: 2px;\" title=\"Difference: 0.1977, original_loss: 1.8090, ablated_loss: 2.0067, context_and_activated_loss: 1.8191, only_activated_loss: 1.9565\">_a</span><span style=\"background-color: rgb(255, 236, 236); color: black; padding: 2px;\" title=\"Difference: 0.3685, original_loss: 3.8399, ablated_loss: 4.2083, context_and_activated_loss: 3.9700, only_activated_loss: 4.2920\">_substrate</span><span style=\"background-color: rgb(250, 250, 255); color: black; padding: 2px;\" title=\"Difference: -0.0900, original_loss: 4.0347, ablated_loss: 3.9447, context_and_activated_loss: 4.0827, only_activated_loss: 4.0381\">_to</span><span style=\"background-color: rgb(252, 252, 255); color: black; padding: 2px;\" title=\"Difference: -0.0432, original_loss: 2.6128, ablated_loss: 2.5696, context_and_activated_loss: 2.5567, only_activated_loss: 2.5320\">_the</span><span style=\"background-color: rgb(255, 253, 253); color: black; padding: 2px;\" title=\"Difference: 0.0250, original_loss: 6.3387, ablated_loss: 6.3637, context_and_activated_loss: 6.2761, only_activated_loss: 6.2531\">_jet</span><span style=\"background-color: rgb(255, 249, 249); color: black; padding: 2px;\" title=\"Difference: 0.1041, original_loss: 2.3449, ablated_loss: 2.4490, context_and_activated_loss: 2.4018, only_activated_loss: 2.5350\">ting</span><span style=\"background-color: rgb(249, 249, 255); color: black; padding: 2px;\" title=\"Difference: -0.0993, original_loss: 6.6126, ablated_loss: 6.5132, context_and_activated_loss: 6.3798, only_activated_loss: 6.5987\">_fluid</span><span style=\"background-color: rgb(245, 245, 255); color: black; padding: 2px;\" title=\"Difference: -0.1771, original_loss: 7.9599, ablated_loss: 7.7828, context_and_activated_loss: 7.8163, only_activated_loss: 7.6246\">_barrier</span><span style=\"background-color: rgb(245, 245, 255); color: black; padding: 2px;\" title=\"Difference: -0.1807, original_loss: 4.2534, ablated_loss: 4.0727, context_and_activated_loss: 4.2345, only_activated_loss: 4.2993\">,</span><span style=\"background-color: rgb(253, 253, 255); color: black; padding: 2px;\" title=\"Difference: -0.0256, original_loss: 0.5523, ablated_loss: 0.5267, context_and_activated_loss: 0.5265, only_activated_loss: 0.5895\">_is</span><span style=\"background-color: rgb(255, 244, 244); color: black; padding: 2px;\" title=\"Difference: 0.2007, original_loss: 6.1422, ablated_loss: 6.3430, context_and_activated_loss: 6.2040, only_activated_loss: 6.5025\">_bonded</span><span style=\"background-color: rgb(255, 252, 252); color: black; padding: 2px;\" title=\"Difference: 0.0549, original_loss: 2.1500, ablated_loss: 2.2049, context_and_activated_loss: 2.1148, only_activated_loss: 2.1708\">_with</span><span style=\"background-color: rgb(251, 251, 255); color: black; padding: 2px;\" title=\"Difference: -0.0748, original_loss: 0.6631, ablated_loss: 0.5884, context_and_activated_loss: 0.6567, only_activated_loss: 0.5972\">_the</span><span style=\"background-color: rgb(253, 253, 255); color: black; padding: 2px;\" title=\"Difference: -0.0241, original_loss: 1.1454, ablated_loss: 1.1213, context_and_activated_loss: 1.1798, only_activated_loss: 1.3161\">_nozzle</span><span style=\"background-color: rgb(254, 254, 255); color: black; padding: 2px;\" title=\"Difference: -0.0006, original_loss: 0.0374, ablated_loss: 0.0368, context_and_activated_loss: 0.0351, only_activated_loss: 0.0290\">_plate</span><span style=\"background-color: rgb(254, 254, 255); color: black; padding: 2px;\" title=\"Difference: -0.0149, original_loss: 0.1114, ablated_loss: 0.0965, context_and_activated_loss: 0.1203, only_activated_loss: 0.1159\">_34</span><span style=\"background-color: rgb(255, 251, 251); color: black; padding: 2px;\" title=\"Difference: 0.0664, original_loss: 3.2037, ablated_loss: 3.2702, context_and_activated_loss: 3.1897, only_activated_loss: 3.2824\">_by</span><span style=\"background-color: rgb(255, 252, 252); color: black; padding: 2px;\" title=\"Difference: 0.0534, original_loss: 1.7958, ablated_loss: 1.8492, context_and_activated_loss: 1.7684, only_activated_loss: 1.8663\">_a</span><span style=\"background-color: rgb(254, 254, 255); color: black; padding: 2px;\" title=\"Difference: -0.0088, original_loss: 8.9778, ablated_loss: 8.9690, context_and_activated_loss: 8.9376, only_activated_loss: 8.9294\">_tab</span><span style=\"background-color: rgb(255, 231, 231); color: black; padding: 2px;\" title=\"Difference: 0.4681, original_loss: 9.7287, ablated_loss: 10.1968, context_and_activated_loss: 9.6548, only_activated_loss: 9.4907\">_b</span><span style=\"background-color: rgb(220, 220, 255); color: black; padding: 2px;\" title=\"Difference: -0.6837, original_loss: 8.8668, ablated_loss: 8.1832, context_and_activated_loss: 8.7358, only_activated_loss: 8.5212\">onder</span><span style=\"background-color: rgb(255, 247, 247); color: black; padding: 2px;\" title=\"Difference: 0.1490, original_loss: 5.0336, ablated_loss: 5.1827, context_and_activated_loss: 5.0328, only_activated_loss: 4.9734\">_55</span><span style=\"background-color: rgb(255, 252, 252); color: black; padding: 2px;\" title=\"Difference: 0.0572, original_loss: 1.8687, ablated_loss: 1.9259, context_and_activated_loss: 1.9577, only_activated_loss: 2.0461\">,</span><span style=\"background-color: rgb(255, 251, 251); color: black; padding: 2px;\" title=\"Difference: 0.0771, original_loss: 1.7808, ablated_loss: 1.8579, context_and_activated_loss: 1.7813, only_activated_loss: 1.7257\">_and</span><span style=\"background-color: rgb(255, 231, 231); color: black; padding: 2px;\" title=\"Difference: 0.4664, original_loss: 7.9760, ablated_loss: 8.4424, context_and_activated_loss: 7.9867, only_activated_loss: 8.3055\">_accordingly</span><span style=\"background-color: rgb(255, 253, 253); color: black; padding: 2px;\" title=\"Difference: 0.0342, original_loss: 0.2782, ablated_loss: 0.3124, context_and_activated_loss: 0.3066, only_activated_loss: 0.3195\">,</span><span style=\"background-color: rgb(250, 250, 255); color: black; padding: 2px;\" title=\"Difference: -0.0937, original_loss: 0.7418, ablated_loss: 0.6481, context_and_activated_loss: 0.7279, only_activated_loss: 0.6891\">_the</span><span style=\"background-color: rgb(255, 235, 235); color: black; padding: 2px;\" title=\"Difference: 0.3911, original_loss: 6.4091, ablated_loss: 6.8002, context_and_activated_loss: 6.4260, only_activated_loss: 6.6044\">_fluid</span><span style=\"background-color: rgb(255, 222, 222); color: black; padding: 2px;\" title=\"Difference: 0.6394, original_loss: 6.0547, ablated_loss: 6.6941, context_and_activated_loss: 6.4651, only_activated_loss: 6.5798\">_jet</span><span style=\"background-color: rgb(254, 254, 255); color: black; padding: 2px;\" title=\"Difference: -0.0028, original_loss: 0.0788, ablated_loss: 0.0760, context_and_activated_loss: 0.0796, only_activated_loss: 0.0844\">ting</span><span style=\"background-color: rgb(255, 239, 239); color: black; padding: 2px;\" title=\"Difference: 0.3033, original_loss: 6.6464, ablated_loss: 6.9497, context_and_activated_loss: 6.6435, only_activated_loss: 6.9892\">_apparatus</span><span style=\"background-color: rgb(245, 245, 255); color: black; padding: 2px;\" title=\"Difference: -0.1794, original_loss: 2.6195, ablated_loss: 2.4401, context_and_activated_loss: 2.5195, only_activated_loss: 2.7063\">_is</span><span style=\"background-color: rgb(254, 254, 255); color: black; padding: 2px;\" title=\"Difference: -0.0001, original_loss: 5.6340, ablated_loss: 5.6339, context_and_activated_loss: 5.7208, only_activated_loss: 5.8090\">_completed</span><span style=\"background-color: rgb(252, 252, 255); color: black; padding: 2px;\" title=\"Difference: -0.0455, original_loss: 0.6701, ablated_loss: 0.6246, context_and_activated_loss: 0.6711, only_activated_loss: 0.6401\">.</span><span style=\"background-color: rgb(251, 251, 255); color: black; padding: 2px;\" title=\"Difference: -0.0689, original_loss: 1.7354, ablated_loss: 1.6666, context_and_activated_loss: 1.7166, only_activated_loss: 1.6257\">_The</span><span style=\"background-color: rgb(255, 248, 248); color: black; padding: 2px;\" title=\"Difference: 0.1207, original_loss: 9.4921, ablated_loss: 9.6127, context_and_activated_loss: 9.4967, only_activated_loss: 9.5467\">_completed</span><span style=\"background-color: rgb(255, 240, 240); color: black; padding: 2px;\" title=\"Difference: 0.2818, original_loss: 3.8385, ablated_loss: 4.1203, context_and_activated_loss: 3.8366, only_activated_loss: 3.9532\">_fluid</span><span style=\"background-color: rgb(255, 253, 253); color: black; padding: 2px;\" title=\"Difference: 0.0206, original_loss: 0.1005, ablated_loss: 0.1211, context_and_activated_loss: 0.1221, only_activated_loss: 0.1166\">_jet</span><span style=\"background-color: rgb(255, 254, 254); color: black; padding: 2px;\" title=\"Difference: 0.0019, original_loss: 0.0857, ablated_loss: 0.0876, context_and_activated_loss: 0.1001, only_activated_loss: 0.1039\">ting</span><span style=\"background-color: rgb(255, 243, 243); color: black; padding: 2px;\" title=\"Difference: 0.2223, original_loss: 7.4229, ablated_loss: 7.6452, context_and_activated_loss: 7.4083, only_activated_loss: 7.7120\">_apparatuses</span><span style=\"background-color: rgb(254, 254, 255); color: black; padding: 2px;\" title=\"Difference: -0.0072, original_loss: 0.9312, ablated_loss: 0.9240, context_and_activated_loss: 0.9216, only_activated_loss: 0.9170\">_are</span><span style=\"background-color: rgb(255, 222, 222); color: black; padding: 2px;\" title=\"Difference: 0.6389, original_loss: 7.1793, ablated_loss: 7.8182, context_and_activated_loss: 7.1884, only_activated_loss: 7.1008\">_wound</span><span style=\"background-color: rgb(255, 254, 254); color: black; padding: 2px;\" title=\"Difference: 0.0150, original_loss: 2.2924, ablated_loss: 2.3074, context_and_activated_loss: 2.3512, only_activated_loss: 2.2760\">_around</span><span style=\"background-color: rgb(252, 252, 255); color: black; padding: 2px;\" title=\"Difference: -0.0544, original_loss: 0.5120, ablated_loss: 0.4576, context_and_activated_loss: 0.5071, only_activated_loss: 0.4539\">_the</span><span style=\"background-color: rgb(255, 251, 251); color: black; padding: 2px;\" title=\"Difference: 0.0697, original_loss: 5.6358, ablated_loss: 5.7054, context_and_activated_loss: 5.6369, only_activated_loss: 5.5454\">_take</span><span style=\"background-color: rgb(255, 254, 254); color: black; padding: 2px;\" title=\"Difference: 0.0016, original_loss: 0.0067, ablated_loss: 0.0083, context_and_activated_loss: 0.0068, only_activated_loss: 0.0075\">-</span><span style=\"background-color: rgb(254, 254, 255); color: black; padding: 2px;\" title=\"Difference: -0.0002, original_loss: 0.0019, ablated_loss: 0.0017, context_and_activated_loss: 0.0018, only_activated_loss: 0.0020\">up</span><span style=\"background-color: rgb(255, 254, 254); color: black; padding: 2px;\" title=\"Difference: 0.0101, original_loss: 0.0428, ablated_loss: 0.0529, context_and_activated_loss: 0.0555, only_activated_loss: 0.0686\">_reel</span><span style=\"background-color: rgb(252, 252, 255); color: black; padding: 2px;\" title=\"Difference: -0.0491, original_loss: 0.3160, ablated_loss: 0.2669, context_and_activated_loss: 0.3304, only_activated_loss: 0.3431\">_52</span><span style=\"background-color: rgb(255, 251, 251); color: black; padding: 2px;\" title=\"Difference: 0.0672, original_loss: 2.4913, ablated_loss: 2.5585, context_and_activated_loss: 2.5055, only_activated_loss: 2.4768\">_to</span><span style=\"background-color: rgb(253, 253, 255); color: black; padding: 2px;\" title=\"Difference: -0.0245, original_loss: 3.0113, ablated_loss: 2.9868, context_and_activated_loss: 3.0264, only_activated_loss: 3.0866\">_be</span><span style=\"background-color: rgb(237, 237, 255); color: black; padding: 2px;\" title=\"Difference: -0.3496, original_loss: 10.3384, ablated_loss: 9.9889, context_and_activated_loss: 10.2510, only_activated_loss: 10.0576\">_preserved</span><span style=\"background-color: rgb(255, 252, 252); color: black; padding: 2px;\" title=\"Difference: 0.0491, original_loss: 2.5449, ablated_loss: 2.5940, context_and_activated_loss: 2.6373, only_activated_loss: 2.7456\">,</span><span style=\"background-color: rgb(255, 254, 254); color: black; padding: 2px;\" title=\"Difference: 0.0086, original_loss: 0.7274, ablated_loss: 0.7360, context_and_activated_loss: 0.7381, only_activated_loss: 0.7130\">_and</span><span style=\"background-color: rgb(237, 237, 255); color: black; padding: 2px;\" title=\"Difference: -0.3409, original_loss: 2.7063, ablated_loss: 2.3654, context_and_activated_loss: 2.7000, only_activated_loss: 2.5972\">_then</span><span style=\"background-color: rgb(236, 236, 255); color: black; padding: 2px;\" title=\"Difference: -0.3551, original_loss: 10.4222, ablated_loss: 10.0671, context_and_activated_loss: 10.4296, only_activated_loss: 10.5913\">_section</span><span style=\"background-color: rgb(255, 252, 252); color: black; padding: 2px;\" title=\"Difference: 0.0504, original_loss: 0.5059, ablated_loss: 0.5563, context_and_activated_loss: 0.5036, only_activated_loss: 0.5197\">ed</span><span style=\"background-color: rgb(255, 246, 246); color: black; padding: 2px;\" title=\"Difference: 0.1696, original_loss: 2.6311, ablated_loss: 2.8007, context_and_activated_loss: 2.6436, only_activated_loss: 2.5137\">_in</span><span style=\"background-color: rgb(250, 250, 255); color: black; padding: 2px;\" title=\"Difference: -0.0823, original_loss: 7.9369, ablated_loss: 7.8546, context_and_activated_loss: 7.9166, only_activated_loss: 7.6432\">_pieces</span><span style=\"background-color: rgb(255, 251, 251); color: black; padding: 2px;\" title=\"Difference: 0.0631, original_loss: 3.4476, ablated_loss: 3.5107, context_and_activated_loss: 3.4161, only_activated_loss: 3.2695\">_in</span><span style=\"background-color: rgb(252, 252, 255); color: black; padding: 2px;\" title=\"Difference: -0.0555, original_loss: 1.1891, ablated_loss: 1.1336, context_and_activated_loss: 1.1776, only_activated_loss: 1.1187\">_the</span><span style=\"background-color: rgb(255, 243, 243); color: black; padding: 2px;\" title=\"Difference: 0.2173, original_loss: 7.1015, ablated_loss: 7.3189, context_and_activated_loss: 7.1825, only_activated_loss: 7.2827\">_manufacturing</span><span style=\"background-color: rgb(249, 249, 255); color: black; padding: 2px;\" title=\"Difference: -0.1090, original_loss: 0.3243, ablated_loss: 0.2154, context_and_activated_loss: 0.3400, only_activated_loss: 0.3334\">_process</span><span style=\"background-color: rgb(250, 250, 255); color: black; padding: 2px;\" title=\"Difference: -0.0814, original_loss: 3.7739, ablated_loss: 3.6925, context_and_activated_loss: 3.7340, only_activated_loss: 3.5877\">_for</span><span style=\"background-color: rgb(255, 253, 253); color: black; padding: 2px;\" title=\"Difference: 0.0311, original_loss: 0.8475, ablated_loss: 0.8787, context_and_activated_loss: 0.8034, only_activated_loss: 0.7564\">_the</span><span style=\"background-color: rgb(255, 240, 240); color: black; padding: 2px;\" title=\"Difference: 0.2767, original_loss: 5.1918, ablated_loss: 5.4686, context_and_activated_loss: 5.1160, only_activated_loss: 5.3008\">_print</span><span style=\"background-color: rgb(255, 222, 222); color: black; padding: 2px;\" title=\"Difference: 0.6448, original_loss: 3.5128, ablated_loss: 4.1576, context_and_activated_loss: 3.5476, only_activated_loss: 3.4009\">_head</span><span style=\"background-color: rgb(251, 251, 255); color: black; padding: 2px;\" title=\"Difference: -0.0674, original_loss: 0.8814, ablated_loss: 0.8139, context_and_activated_loss: 0.9034, only_activated_loss: 0.8340\">.</span><span style=\"background-color: rgb(255, 227, 227); color: black; padding: 2px;\" title=\"Difference: 0.5354, original_loss: 5.7763, ablated_loss: 6.3117, context_and_activated_loss: 5.8897, only_activated_loss: 6.4456\">_Accordingly</span><span style=\"background-color: rgb(255, 254, 254); color: black; padding: 2px;\" title=\"Difference: 0.0006, original_loss: 0.0110, ablated_loss: 0.0115, context_and_activated_loss: 0.0127, only_activated_loss: 0.0136\">,</span><span style=\"background-color: rgb(255, 253, 253); color: black; padding: 2px;\" title=\"Difference: 0.0353, original_loss: 5.0697, ablated_loss: 5.1050, context_and_activated_loss: 5.0918, only_activated_loss: 5.3064\">_each</span><span style=\"background-color: rgb(235, 235, 255); color: black; padding: 2px;\" title=\"Difference: -0.3893, original_loss: 3.3750, ablated_loss: 2.9857, context_and_activated_loss: 3.2744, only_activated_loss: 3.0637\">_piece</span><span style=\"background-color: rgb(255, 254, 254); color: black; padding: 2px;\" title=\"Difference: 0.0045, original_loss: 0.1365, ablated_loss: 0.1411, context_and_activated_loss: 0.1477, only_activated_loss: 0.1451\">_of</span><span style=\"background-color: rgb(255, 253, 253); color: black; padding: 2px;\" title=\"Difference: 0.0331, original_loss: 0.8797, ablated_loss: 0.9128, context_and_activated_loss: 0.8481, only_activated_loss: 0.8042\">_the</span><span style=\"background-color: rgb(255, 241, 241); color: black; padding: 2px;\" title=\"Difference: 0.2632, original_loss: 3.0611, ablated_loss: 3.3243, context_and_activated_loss: 3.1520, only_activated_loss: 3.2751\">_fluid</span><span style=\"background-color: rgb(255, 253, 253); color: black; padding: 2px;\" title=\"Difference: 0.0298, original_loss: 0.0770, ablated_loss: 0.1069, context_and_activated_loss: 0.1018, only_activated_loss: 0.0969\">_jet</span><span style=\"background-color: rgb(254, 254, 255); color: black; padding: 2px;\" title=\"Difference: -0.0027, original_loss: 0.0252, ablated_loss: 0.0224, context_and_activated_loss: 0.0258, only_activated_loss: 0.0251\">ting</span><span style=\"background-color: rgb(255, 250, 250); color: black; padding: 2px;\" title=\"Difference: 0.0956, original_loss: 4.8505, ablated_loss: 4.9461, context_and_activated_loss: 4.8142, only_activated_loss: 4.9467\">_apparatuses</span><span style=\"background-color: rgb(255, 254, 254); color: black; padding: 2px;\" title=\"Difference: 0.0042, original_loss: 1.0476, ablated_loss: 1.0517, context_and_activated_loss: 1.0130, only_activated_loss: 1.0643\">_is</span><span style=\"background-color: rgb(255, 249, 249); color: black; padding: 2px;\" title=\"Difference: 0.1155, original_loss: 5.9402, ablated_loss: 6.0557, context_and_activated_loss: 5.9197, only_activated_loss: 5.8133\">_supplied</span><span style=\"background-color: rgb(242, 242, 255); color: black; padding: 2px;\" title=\"Difference: -0.2371, original_loss: 4.8166, ablated_loss: 4.5795, context_and_activated_loss: 4.6618, only_activated_loss: 4.7603\">_into</span><span style=\"background-color: rgb(251, 251, 255); color: black; padding: 2px;\" title=\"Difference: -0.0775, original_loss: 0.9742, ablated_loss: 0.8967, context_and_activated_loss: 0.9617, only_activated_loss: 0.8803\">_the</span><span style=\"background-color: rgb(255, 249, 249); color: black; padding: 2px;\" title=\"Difference: 0.0988, original_loss: 4.9623, ablated_loss: 5.0611, context_and_activated_loss: 5.0027, only_activated_loss: 5.0730\">_manufacturing</span><span style=\"background-color: rgb(255, 242, 242); color: black; padding: 2px;\" title=\"Difference: 0.2377, original_loss: 6.3952, ablated_loss: 6.6329, context_and_activated_loss: 6.2380, only_activated_loss: 6.0714\">_line</span><span style=\"background-color: rgb(255, 242, 242); color: black; padding: 2px;\" title=\"Difference: 0.2354, original_loss: 2.6604, ablated_loss: 2.8958, context_and_activated_loss: 2.7113, only_activated_loss: 2.7358\">_of</span><span style=\"background-color: rgb(255, 250, 250); color: black; padding: 2px;\" title=\"Difference: 0.0807, original_loss: 3.2261, ablated_loss: 3.3068, context_and_activated_loss: 3.2390, only_activated_loss: 3.4208\">_a</span><span style=\"background-color: rgb(245, 245, 255); color: black; padding: 2px;\" title=\"Difference: -0.1950, original_loss: 3.4373, ablated_loss: 3.2423, context_and_activated_loss: 3.3724, only_activated_loss: 3.3877\">_printer</span><span style=\"background-color: rgb(249, 249, 255); color: black; padding: 2px;\" title=\"Difference: -0.1126, original_loss: 1.9617, ablated_loss: 1.8491, context_and_activated_loss: 1.9244, only_activated_loss: 1.8362\">.</span></div>"
      ],
      "text/plain": [
       "<IPython.core.display.HTML object>"
      ]
     },
     "metadata": {},
     "output_type": "display_data"
    },
    {
     "data": {
      "text/html": [
       "<div><span style=\"background-color: rgb(251, 251, 255); color: black; padding: 2px;\" title=\"Difference: -0.0781, original_loss: 3.1090, ablated_loss: 3.0308, context_and_activated_loss: 3.1055, only_activated_loss: 3.0129\">The</span><span style=\"background-color: rgb(251, 251, 255); color: black; padding: 2px;\" title=\"Difference: -0.0679, original_loss: 7.4024, ablated_loss: 7.3346, context_and_activated_loss: 7.3948, only_activated_loss: 7.3628\">_information</span><span style=\"background-color: rgb(255, 170, 170); color: black; padding: 2px;\" title=\"Difference: 1.6568, original_loss: 4.9746, ablated_loss: 6.6315, context_and_activated_loss: 5.1209, only_activated_loss: 6.3390\">_disclosed</span><span style=\"background-color: rgb(190, 190, 255); color: black; padding: 2px;\" title=\"Difference: -1.2569, original_loss: 3.2842, ablated_loss: 2.0274, context_and_activated_loss: 2.9260, only_activated_loss: 0.7874\">_in</span><span style=\"background-color: rgb(254, 254, 255); color: black; padding: 2px;\" title=\"Difference: -0.0000, original_loss: 0.0000, ablated_loss: 0.0000, context_and_activated_loss: 0.0000, only_activated_loss: 0.0000\">_this</span><span style=\"background-color: rgb(255, 149, 149); color: black; padding: 2px;\" title=\"Difference: 2.0637, original_loss: 3.3698, ablated_loss: 5.4335, context_and_activated_loss: 3.0407, only_activated_loss: 4.1987\">_Background</span><span style=\"background-color: rgb(253, 253, 255); color: black; padding: 2px;\" title=\"Difference: -0.0290, original_loss: 7.5093, ablated_loss: 7.4803, context_and_activated_loss: 7.9141, only_activated_loss: 7.5308\">_of</span><span style=\"background-color: rgb(255, 250, 250); color: black; padding: 2px;\" title=\"Difference: 0.0914, original_loss: 0.1081, ablated_loss: 0.1995, context_and_activated_loss: 0.1240, only_activated_loss: 0.1183\">_the</span><span style=\"background-color: rgb(255, 254, 254); color: black; padding: 2px;\" title=\"Difference: 0.0030, original_loss: 0.0054, ablated_loss: 0.0083, context_and_activated_loss: 0.0039, only_activated_loss: 0.0146\">_Invention</span><span style=\"background-color: rgb(236, 236, 255); color: black; padding: 2px;\" title=\"Difference: -0.3654, original_loss: 4.4492, ablated_loss: 4.0838, context_and_activated_loss: 4.6276, only_activated_loss: 4.2335\">_section</span><span style=\"background-color: rgb(253, 253, 255); color: black; padding: 2px;\" title=\"Difference: -0.0231, original_loss: 0.0351, ablated_loss: 0.0119, context_and_activated_loss: 0.0281, only_activated_loss: 0.0239\">_is</span><span style=\"background-color: rgb(168, 168, 255); color: black; padding: 2px;\" title=\"Difference: -1.6982, original_loss: 3.3235, ablated_loss: 1.6253, context_and_activated_loss: 2.8525, only_activated_loss: 3.2316\">_only</span><span style=\"background-color: rgb(255, 254, 254); color: black; padding: 2px;\" title=\"Difference: 0.0075, original_loss: 0.0035, ablated_loss: 0.0110, context_and_activated_loss: 0.0037, only_activated_loss: 0.0024\">_for</span><span style=\"background-color: rgb(199, 199, 255); color: black; padding: 2px;\" title=\"Difference: -1.0961, original_loss: 2.1985, ablated_loss: 1.1024, context_and_activated_loss: 2.2821, only_activated_loss: 1.5381\">_enhancement</span><span style=\"background-color: rgb(254, 254, 255); color: black; padding: 2px;\" title=\"Difference: -0.0058, original_loss: 0.0239, ablated_loss: 0.0181, context_and_activated_loss: 0.0268, only_activated_loss: 0.0206\">_of</span><span style=\"background-color: rgb(255, 254, 254); color: black; padding: 2px;\" title=\"Difference: 0.0032, original_loss: 0.0082, ablated_loss: 0.0114, context_and_activated_loss: 0.0051, only_activated_loss: 0.0068\">_understanding</span><span style=\"background-color: rgb(254, 254, 255); color: black; padding: 2px;\" title=\"Difference: -0.0119, original_loss: 0.0278, ablated_loss: 0.0159, context_and_activated_loss: 0.0379, only_activated_loss: 0.0440\">_of</span><span style=\"background-color: rgb(254, 254, 255); color: black; padding: 2px;\" title=\"Difference: -0.0015, original_loss: 0.0037, ablated_loss: 0.0022, context_and_activated_loss: 0.0039, only_activated_loss: 0.0023\">_the</span><span style=\"background-color: rgb(255, 238, 238); color: black; padding: 2px;\" title=\"Difference: 0.3248, original_loss: 3.1708, ablated_loss: 3.4956, context_and_activated_loss: 2.8915, only_activated_loss: 2.3700\">_general</span><span style=\"background-color: rgb(255, 190, 190); color: black; padding: 2px;\" title=\"Difference: 1.2645, original_loss: 0.0906, ablated_loss: 1.3551, context_and_activated_loss: 0.2242, only_activated_loss: 0.3087\">_background</span><span style=\"background-color: rgb(255, 250, 250); color: black; padding: 2px;\" title=\"Difference: 0.0978, original_loss: 0.1880, ablated_loss: 0.2858, context_and_activated_loss: 0.1970, only_activated_loss: 0.1876\">_of</span><span style=\"background-color: rgb(255, 251, 251); color: black; padding: 2px;\" title=\"Difference: 0.0643, original_loss: 0.0362, ablated_loss: 0.1005, context_and_activated_loss: 0.0339, only_activated_loss: 0.0234\">_the</span><span style=\"background-color: rgb(255, 252, 252); color: black; padding: 2px;\" title=\"Difference: 0.0499, original_loss: 0.0428, ablated_loss: 0.0927, context_and_activated_loss: 0.0378, only_activated_loss: 0.1883\">_invention</span><span style=\"background-color: rgb(255, 250, 250); color: black; padding: 2px;\" title=\"Difference: 0.0968, original_loss: 0.5025, ablated_loss: 0.5993, context_and_activated_loss: 0.4565, only_activated_loss: 0.4035\">_and</span><span style=\"background-color: rgb(255, 230, 230); color: black; padding: 2px;\" title=\"Difference: 0.4795, original_loss: 1.9490, ablated_loss: 2.4285, context_and_activated_loss: 1.2040, only_activated_loss: 0.5025\">_should</span><span style=\"background-color: rgb(255, 251, 251); color: black; padding: 2px;\" title=\"Difference: 0.0637, original_loss: 0.2010, ablated_loss: 0.2647, context_and_activated_loss: 0.2194, only_activated_loss: 0.1254\">_not</span><span style=\"background-color: rgb(254, 254, 255); color: black; padding: 2px;\" title=\"Difference: -0.0001, original_loss: 0.0002, ablated_loss: 0.0002, context_and_activated_loss: 0.0002, only_activated_loss: 0.0001\">_be</span><span style=\"background-color: rgb(255, 227, 227); color: black; padding: 2px;\" title=\"Difference: 0.5321, original_loss: 3.5079, ablated_loss: 4.0401, context_and_activated_loss: 4.2460, only_activated_loss: 4.1795\">_taken</span><span style=\"background-color: rgb(253, 253, 255); color: black; padding: 2px;\" title=\"Difference: -0.0210, original_loss: 0.0570, ablated_loss: 0.0361, context_and_activated_loss: 0.0798, only_activated_loss: 0.2318\">_as</span><span style=\"background-color: rgb(247, 247, 255); color: black; padding: 2px;\" title=\"Difference: -0.1566, original_loss: 1.8881, ablated_loss: 1.7315, context_and_activated_loss: 2.0567, only_activated_loss: 3.0059\">_an</span><span style=\"background-color: rgb(253, 253, 255); color: black; padding: 2px;\" title=\"Difference: -0.0287, original_loss: 0.5874, ablated_loss: 0.5587, context_and_activated_loss: 0.4221, only_activated_loss: 0.3746\">_acknowled</span><span style=\"background-color: rgb(255, 254, 254); color: black; padding: 2px;\" title=\"Difference: 0.0000, original_loss: 0.0000, ablated_loss: 0.0000, context_and_activated_loss: 0.0000, only_activated_loss: 0.0000\">gement</span><span style=\"background-color: rgb(232, 232, 255); color: black; padding: 2px;\" title=\"Difference: -0.4437, original_loss: 1.1198, ablated_loss: 0.6762, context_and_activated_loss: 1.1259, only_activated_loss: 1.3196\">_or</span><span style=\"background-color: rgb(231, 231, 255); color: black; padding: 2px;\" title=\"Difference: -0.4533, original_loss: 3.0554, ablated_loss: 2.6021, context_and_activated_loss: 3.0952, only_activated_loss: 3.6884\">_any</span><span style=\"background-color: rgb(226, 226, 255); color: black; padding: 2px;\" title=\"Difference: -0.5495, original_loss: 0.7904, ablated_loss: 0.2409, context_and_activated_loss: 0.5564, only_activated_loss: 0.4542\">_form</span><span style=\"background-color: rgb(254, 254, 255); color: black; padding: 2px;\" title=\"Difference: -0.0039, original_loss: 0.0091, ablated_loss: 0.0051, context_and_activated_loss: 0.0100, only_activated_loss: 0.0076\">_of</span><span style=\"background-color: rgb(249, 249, 255); color: black; padding: 2px;\" title=\"Difference: -0.1150, original_loss: 0.4759, ablated_loss: 0.3608, context_and_activated_loss: 0.2297, only_activated_loss: 0.0751\">_suggestion</span><span style=\"background-color: rgb(252, 252, 255); color: black; padding: 2px;\" title=\"Difference: -0.0399, original_loss: 0.0778, ablated_loss: 0.0379, context_and_activated_loss: 0.0794, only_activated_loss: 0.0391\">_that</span><span style=\"background-color: rgb(252, 252, 255); color: black; padding: 2px;\" title=\"Difference: -0.0396, original_loss: 0.0438, ablated_loss: 0.0042, context_and_activated_loss: 0.0371, only_activated_loss: 0.0270\">_this</span><span style=\"background-color: rgb(201, 201, 255); color: black; padding: 2px;\" title=\"Difference: -1.0467, original_loss: 1.4698, ablated_loss: 0.4231, context_and_activated_loss: 1.8627, only_activated_loss: 0.7910\">_information</span><span style=\"background-color: rgb(195, 195, 255); color: black; padding: 2px;\" title=\"Difference: -1.1610, original_loss: 2.5078, ablated_loss: 1.3468, context_and_activated_loss: 3.0640, only_activated_loss: 1.4725\">_forms</span><span style=\"background-color: rgb(247, 247, 255); color: black; padding: 2px;\" title=\"Difference: -0.1455, original_loss: 0.3003, ablated_loss: 0.1548, context_and_activated_loss: 0.2788, only_activated_loss: 0.1591\">_the</span><span style=\"background-color: rgb(255, 253, 253); color: black; padding: 2px;\" title=\"Difference: 0.0321, original_loss: 0.0053, ablated_loss: 0.0374, context_and_activated_loss: 0.0128, only_activated_loss: 0.2340\">_prior</span><span style=\"background-color: rgb(255, 253, 253); color: black; padding: 2px;\" title=\"Difference: 0.0250, original_loss: 0.0013, ablated_loss: 0.0263, context_and_activated_loss: 0.0018, only_activated_loss: 0.0033\">_art</span><span style=\"background-color: rgb(255, 215, 215); color: black; padding: 2px;\" title=\"Difference: 0.7808, original_loss: 3.5270, ablated_loss: 4.3078, context_and_activated_loss: 4.4266, only_activated_loss: 3.8670\">_already</span><span style=\"background-color: rgb(254, 254, 255); color: black; padding: 2px;\" title=\"Difference: -0.0054, original_loss: 0.0110, ablated_loss: 0.0057, context_and_activated_loss: 0.0215, only_activated_loss: 0.0893\">_known</span><span style=\"background-color: rgb(254, 254, 255); color: black; padding: 2px;\" title=\"Difference: -0.0001, original_loss: 0.0020, ablated_loss: 0.0019, context_and_activated_loss: 0.0020, only_activated_loss: 0.0019\">_to</span><span style=\"background-color: rgb(255, 233, 233); color: black; padding: 2px;\" title=\"Difference: 0.4207, original_loss: 3.1704, ablated_loss: 3.5911, context_and_activated_loss: 3.1526, only_activated_loss: 3.6666\">_a</span><span style=\"background-color: rgb(255, 254, 254); color: black; padding: 2px;\" title=\"Difference: 0.0118, original_loss: 0.0114, ablated_loss: 0.0232, context_and_activated_loss: 0.0099, only_activated_loss: 0.0151\">_person</span><span style=\"background-color: rgb(255, 249, 249); color: black; padding: 2px;\" title=\"Difference: 0.1075, original_loss: 0.0022, ablated_loss: 0.1097, context_and_activated_loss: 0.0026, only_activated_loss: 0.0115\">_skilled</span><span style=\"background-color: rgb(254, 254, 255); color: black; padding: 2px;\" title=\"Difference: -0.0000, original_loss: 0.0001, ablated_loss: 0.0001, context_and_activated_loss: 0.0001, only_activated_loss: 0.0001\">_in</span><span style=\"background-color: rgb(255, 254, 254); color: black; padding: 2px;\" title=\"Difference: 0.0142, original_loss: 0.0133, ablated_loss: 0.0275, context_and_activated_loss: 0.0143, only_activated_loss: 0.0150\">_the</span><span style=\"background-color: rgb(255, 250, 250); color: black; padding: 2px;\" title=\"Difference: 0.0885, original_loss: 0.0079, ablated_loss: 0.0964, context_and_activated_loss: 0.0127, only_activated_loss: 0.0503\">_art</span><span style=\"background-color: rgb(255, 248, 248); color: black; padding: 2px;\" title=\"Difference: 0.1305, original_loss: 0.9377, ablated_loss: 1.0682, context_and_activated_loss: 1.0622, only_activated_loss: 0.8688\">.</span><span style=\"background-color: rgb(229, 229, 255); color: black; padding: 2px;\" title=\"Difference: -0.5086, original_loss: 10.2518, ablated_loss: 9.7432, context_and_activated_loss: 9.9440, only_activated_loss: 9.4452\">The</span><span style=\"background-color: rgb(255, 211, 211); color: black; padding: 2px;\" title=\"Difference: 0.8445, original_loss: 3.3709, ablated_loss: 4.2155, context_and_activated_loss: 3.4091, only_activated_loss: 3.7761\">_present</span><span style=\"background-color: rgb(255, 203, 203); color: black; padding: 2px;\" title=\"Difference: 1.0044, original_loss: 2.4011, ablated_loss: 3.4056, context_and_activated_loss: 2.5910, only_activated_loss: 2.6961\">_disclosure</span><span style=\"background-color: rgb(248, 248, 255); color: black; padding: 2px;\" title=\"Difference: -0.1183, original_loss: 0.6255, ablated_loss: 0.5071, context_and_activated_loss: 0.5158, only_activated_loss: 0.4816\">_is</span><span style=\"background-color: rgb(255, 217, 217); color: black; padding: 2px;\" title=\"Difference: 0.7326, original_loss: 4.1982, ablated_loss: 4.9308, context_and_activated_loss: 4.1699, only_activated_loss: 4.1771\">_related</span><span style=\"background-color: rgb(254, 254, 255); color: black; padding: 2px;\" title=\"Difference: -0.0041, original_loss: 0.0096, ablated_loss: 0.0055, context_and_activated_loss: 0.0088, only_activated_loss: 0.0086\">_to</span><span style=\"background-color: rgb(239, 239, 255); color: black; padding: 2px;\" title=\"Difference: -0.3048, original_loss: 10.9859, ablated_loss: 10.6812, context_and_activated_loss: 10.9912, only_activated_loss: 10.7331\">_battery</span><span style=\"background-color: rgb(255, 242, 242); color: black; padding: 2px;\" title=\"Difference: 0.2372, original_loss: 3.3706, ablated_loss: 3.6078, context_and_activated_loss: 3.3112, only_activated_loss: 3.6575\">_systems</span><span style=\"background-color: rgb(250, 250, 255); color: black; padding: 2px;\" title=\"Difference: -0.0869, original_loss: 3.2066, ablated_loss: 3.1197, context_and_activated_loss: 3.0866, only_activated_loss: 2.9976\">.</span></div>"
      ],
      "text/plain": [
       "<IPython.core.display.HTML object>"
      ]
     },
     "metadata": {},
     "output_type": "display_data"
    },
    {
     "data": {
      "text/html": [
       "<div><span style=\"background-color: rgb(255, 245, 245); color: black; padding: 2px;\" title=\"Difference: 0.1810, original_loss: 9.2216, ablated_loss: 9.4026, context_and_activated_loss: 9.2264, only_activated_loss: 9.4015\">Still</span><span style=\"background-color: rgb(255, 236, 236); color: black; padding: 2px;\" title=\"Difference: 0.3568, original_loss: 6.2811, ablated_loss: 6.6379, context_and_activated_loss: 6.2768, only_activated_loss: 6.4935\">_another</span><span style=\"background-color: rgb(255, 230, 230); color: black; padding: 2px;\" title=\"Difference: 0.4900, original_loss: 7.6792, ablated_loss: 8.1692, context_and_activated_loss: 7.6647, only_activated_loss: 7.8873\">_approach</span><span style=\"background-color: rgb(255, 234, 234); color: black; padding: 2px;\" title=\"Difference: 0.4104, original_loss: 8.2401, ablated_loss: 8.6506, context_and_activated_loss: 8.1889, only_activated_loss: 8.4605\">_involves</span><span style=\"background-color: rgb(255, 253, 253); color: black; padding: 2px;\" title=\"Difference: 0.0386, original_loss: 6.9267, ablated_loss: 6.9654, context_and_activated_loss: 7.0042, only_activated_loss: 7.0927\">_establishing</span><span style=\"background-color: rgb(255, 250, 250); color: black; padding: 2px;\" title=\"Difference: 0.0842, original_loss: 8.5256, ablated_loss: 8.6097, context_and_activated_loss: 8.5875, only_activated_loss: 8.5345\">_primary</span><span style=\"background-color: rgb(255, 254, 254); color: black; padding: 2px;\" title=\"Difference: 0.0106, original_loss: 5.7702, ablated_loss: 5.7808, context_and_activated_loss: 5.8464, only_activated_loss: 6.0188\">,</span><span style=\"background-color: rgb(254, 254, 255); color: black; padding: 2px;\" title=\"Difference: -0.0124, original_loss: 9.7411, ablated_loss: 9.7287, context_and_activated_loss: 9.6787, only_activated_loss: 9.5140\">_dipl</span><span style=\"background-color: rgb(255, 251, 251); color: black; padding: 2px;\" title=\"Difference: 0.0750, original_loss: 0.4145, ablated_loss: 0.4895, context_and_activated_loss: 0.4350, only_activated_loss: 0.3971\">oid</span><span style=\"background-color: rgb(255, 254, 254); color: black; padding: 2px;\" title=\"Difference: 0.0010, original_loss: 5.5266, ablated_loss: 5.5276, context_and_activated_loss: 5.5440, only_activated_loss: 5.5024\">_human</span><span style=\"background-color: rgb(255, 244, 244); color: black; padding: 2px;\" title=\"Difference: 0.2145, original_loss: 5.1444, ablated_loss: 5.3589, context_and_activated_loss: 5.1594, only_activated_loss: 5.1744\">_cells</span><span style=\"background-color: rgb(255, 242, 242); color: black; padding: 2px;\" title=\"Difference: 0.2488, original_loss: 4.5810, ablated_loss: 4.8298, context_and_activated_loss: 4.5958, only_activated_loss: 4.7626\">_or</span><span style=\"background-color: rgb(251, 251, 255); color: black; padding: 2px;\" title=\"Difference: -0.0607, original_loss: 4.4060, ablated_loss: 4.3453, context_and_activated_loss: 4.3471, only_activated_loss: 4.2970\">_their</span><span style=\"background-color: rgb(255, 238, 238); color: black; padding: 2px;\" title=\"Difference: 0.3287, original_loss: 4.3041, ablated_loss: 4.6328, context_and_activated_loss: 4.4120, only_activated_loss: 4.8077\">_derivatives</span><span style=\"background-color: rgb(250, 250, 255); color: black; padding: 2px;\" title=\"Difference: -0.0953, original_loss: 3.5262, ablated_loss: 3.4309, context_and_activated_loss: 3.4635, only_activated_loss: 3.5471\">_with</span><span style=\"background-color: rgb(245, 245, 255); color: black; padding: 2px;\" title=\"Difference: -0.1955, original_loss: 10.3642, ablated_loss: 10.1686, context_and_activated_loss: 10.3315, only_activated_loss: 10.0608\">_unlimited</span><span style=\"background-color: rgb(255, 250, 250); color: black; padding: 2px;\" title=\"Difference: 0.0973, original_loss: 5.4208, ablated_loss: 5.5181, context_and_activated_loss: 5.4712, only_activated_loss: 5.3273\">_proliferation</span><span style=\"background-color: rgb(248, 248, 255); color: black; padding: 2px;\" title=\"Difference: -0.1336, original_loss: 9.7738, ablated_loss: 9.6402, context_and_activated_loss: 9.5523, only_activated_loss: 9.5199\">_following</span><span style=\"background-color: rgb(255, 254, 254); color: black; padding: 2px;\" title=\"Difference: 0.0006, original_loss: 6.6316, ablated_loss: 6.6322, context_and_activated_loss: 6.6642, only_activated_loss: 6.5964\">_transfection</span><span style=\"background-color: rgb(253, 253, 255); color: black; padding: 2px;\" title=\"Difference: -0.0390, original_loss: 1.2816, ablated_loss: 1.2426, context_and_activated_loss: 1.2468, only_activated_loss: 1.2659\">_with</span><span style=\"background-color: rgb(254, 254, 255); color: black; padding: 2px;\" title=\"Difference: -0.0029, original_loss: 2.4660, ablated_loss: 2.4630, context_and_activated_loss: 2.4276, only_activated_loss: 2.4152\">_the</span><span style=\"background-color: rgb(241, 241, 255); color: black; padding: 2px;\" title=\"Difference: -0.2723, original_loss: 5.5161, ablated_loss: 5.2438, context_and_activated_loss: 5.5593, only_activated_loss: 5.3564\">_aden</span><span style=\"background-color: rgb(255, 250, 250); color: black; padding: 2px;\" title=\"Difference: 0.0823, original_loss: 0.4173, ablated_loss: 0.4996, context_and_activated_loss: 0.4323, only_activated_loss: 0.3476\">ovirus</span><span style=\"background-color: rgb(252, 252, 255); color: black; padding: 2px;\" title=\"Difference: -0.0433, original_loss: 5.0105, ablated_loss: 4.9672, context_and_activated_loss: 4.9964, only_activated_loss: 5.1715\">_E</span><span style=\"background-color: rgb(255, 242, 242); color: black; padding: 2px;\" title=\"Difference: 0.2443, original_loss: 0.8948, ablated_loss: 1.1391, context_and_activated_loss: 0.9030, only_activated_loss: 0.9863\">1</span><span style=\"background-color: rgb(254, 254, 255); color: black; padding: 2px;\" title=\"Difference: -0.0068, original_loss: 8.2599, ablated_loss: 8.2531, context_and_activated_loss: 8.1679, only_activated_loss: 8.0108\">_genes</span><span style=\"background-color: rgb(252, 252, 255); color: black; padding: 2px;\" title=\"Difference: -0.0537, original_loss: 0.6483, ablated_loss: 0.5946, context_and_activated_loss: 0.6415, only_activated_loss: 0.6055\">.</span><span style=\"background-color: rgb(250, 250, 255); color: black; padding: 2px;\" title=\"Difference: -0.0922, original_loss: 3.1525, ablated_loss: 3.0603, context_and_activated_loss: 3.1465, only_activated_loss: 2.9405\">_The</span><span style=\"background-color: rgb(232, 232, 255); color: black; padding: 2px;\" title=\"Difference: -0.4364, original_loss: 6.9004, ablated_loss: 6.4640, context_and_activated_loss: 6.7221, only_activated_loss: 6.5068\">_new</span><span style=\"background-color: rgb(255, 243, 243); color: black; padding: 2px;\" title=\"Difference: 0.2320, original_loss: 3.9529, ablated_loss: 4.1848, context_and_activated_loss: 3.9159, only_activated_loss: 3.7334\">_cell</span><span style=\"background-color: rgb(244, 244, 255); color: black; padding: 2px;\" title=\"Difference: -0.2072, original_loss: 1.6218, ablated_loss: 1.4146, context_and_activated_loss: 1.6666, only_activated_loss: 1.7875\">_lines</span><span style=\"background-color: rgb(255, 247, 247); color: black; padding: 2px;\" title=\"Difference: 0.1437, original_loss: 1.9614, ablated_loss: 2.1051, context_and_activated_loss: 2.0135, only_activated_loss: 2.0662\">,</span><span style=\"background-color: rgb(255, 249, 249); color: black; padding: 2px;\" title=\"Difference: 0.0993, original_loss: 7.1016, ablated_loss: 7.2009, context_and_activated_loss: 7.0402, only_activated_loss: 7.1255\">_one</span><span style=\"background-color: rgb(250, 250, 255); color: black; padding: 2px;\" title=\"Difference: -0.0951, original_loss: 0.6411, ablated_loss: 0.5460, context_and_activated_loss: 0.6795, only_activated_loss: 0.7126\">_of</span><span style=\"background-color: rgb(255, 241, 241); color: black; padding: 2px;\" title=\"Difference: 0.2665, original_loss: 0.3622, ablated_loss: 0.6287, context_and_activated_loss: 0.4146, only_activated_loss: 0.4924\">_which</span><span style=\"background-color: rgb(255, 248, 248); color: black; padding: 2px;\" title=\"Difference: 0.1247, original_loss: 1.0792, ablated_loss: 1.2039, context_and_activated_loss: 1.0685, only_activated_loss: 1.1434\">_is</span><span style=\"background-color: rgb(241, 241, 255); color: black; padding: 2px;\" title=\"Difference: -0.2656, original_loss: 12.0527, ablated_loss: 11.7872, context_and_activated_loss: 12.0015, only_activated_loss: 11.9080\">_PER</span><span style=\"background-color: rgb(252, 252, 255); color: black; padding: 2px;\" title=\"Difference: -0.0540, original_loss: 6.8347, ablated_loss: 6.7807, context_and_activated_loss: 6.8806, only_activated_loss: 6.7987\">.</span><span style=\"background-color: rgb(250, 250, 255); color: black; padding: 2px;\" title=\"Difference: -0.0887, original_loss: 4.9712, ablated_loss: 4.8825, context_and_activated_loss: 4.9547, only_activated_loss: 4.7842\">C</span><span style=\"background-color: rgb(239, 239, 255); color: black; padding: 2px;\" title=\"Difference: -0.3137, original_loss: 7.8761, ablated_loss: 7.5624, context_and_activated_loss: 7.8151, only_activated_loss: 7.7571\">6</span><span style=\"background-color: rgb(245, 245, 255); color: black; padding: 2px;\" title=\"Difference: -0.1916, original_loss: 3.4269, ablated_loss: 3.2352, context_and_activated_loss: 3.3542, only_activated_loss: 3.3492\">_(</span><span style=\"background-color: rgb(255, 252, 252); color: black; padding: 2px;\" title=\"Difference: 0.0447, original_loss: 7.7979, ablated_loss: 7.8427, context_and_activated_loss: 7.7009, only_activated_loss: 7.7421\">EC</span><span style=\"background-color: rgb(217, 217, 255); color: black; padding: 2px;\" title=\"Difference: -0.7325, original_loss: 9.4154, ablated_loss: 8.6829, context_and_activated_loss: 9.1387, only_activated_loss: 8.9835\">ACC</span><span style=\"background-color: rgb(255, 238, 238); color: black; padding: 2px;\" title=\"Difference: 0.3268, original_loss: 14.2983, ablated_loss: 14.6251, context_and_activated_loss: 14.3396, only_activated_loss: 14.4367\">_deposit</span><span style=\"background-color: rgb(242, 242, 255); color: black; padding: 2px;\" title=\"Difference: -0.2361, original_loss: 5.6488, ablated_loss: 5.4127, context_and_activated_loss: 5.6936, only_activated_loss: 5.5661\">_number</span><span style=\"background-color: rgb(251, 251, 255); color: black; padding: 2px;\" title=\"Difference: -0.0614, original_loss: 4.5240, ablated_loss: 4.4626, context_and_activated_loss: 4.5444, only_activated_loss: 4.4263\">_9</span><span style=\"background-color: rgb(255, 251, 251); color: black; padding: 2px;\" title=\"Difference: 0.0694, original_loss: 5.1998, ablated_loss: 5.2692, context_and_activated_loss: 5.1824, only_activated_loss: 5.2526\">60</span><span style=\"background-color: rgb(255, 251, 251); color: black; padding: 2px;\" title=\"Difference: 0.0748, original_loss: 7.6931, ablated_loss: 7.7680, context_and_activated_loss: 7.6488, only_activated_loss: 7.6751\">229</span><span style=\"background-color: rgb(255, 243, 243); color: black; padding: 2px;\" title=\"Difference: 0.2184, original_loss: 6.4444, ablated_loss: 6.6628, context_and_activated_loss: 6.4886, only_activated_loss: 6.4779\">40</span><span style=\"background-color: rgb(251, 251, 255); color: black; padding: 2px;\" title=\"Difference: -0.0754, original_loss: 0.8166, ablated_loss: 0.7412, context_and_activated_loss: 0.8382, only_activated_loss: 0.8243\">),</span><span style=\"background-color: rgb(255, 239, 239); color: black; padding: 2px;\" title=\"Difference: 0.3042, original_loss: 4.4161, ablated_loss: 4.7204, context_and_activated_loss: 4.4965, only_activated_loss: 4.6048\">_which</span><span style=\"background-color: rgb(239, 239, 255); color: black; padding: 2px;\" title=\"Difference: -0.3091, original_loss: 6.7238, ablated_loss: 6.4146, context_and_activated_loss: 6.7407, only_activated_loss: 6.6584\">_expresses</span><span style=\"background-color: rgb(252, 252, 255); color: black; padding: 2px;\" title=\"Difference: -0.0428, original_loss: 8.2668, ablated_loss: 8.2240, context_and_activated_loss: 8.2732, only_activated_loss: 8.2472\">_functional</span><span style=\"background-color: rgb(242, 242, 255); color: black; padding: 2px;\" title=\"Difference: -0.2546, original_loss: 7.6223, ablated_loss: 7.3677, context_and_activated_loss: 7.6527, only_activated_loss: 7.8867\">_Ad</span><span style=\"background-color: rgb(252, 252, 255); color: black; padding: 2px;\" title=\"Difference: -0.0523, original_loss: 3.4991, ablated_loss: 3.4468, context_and_activated_loss: 3.5204, only_activated_loss: 3.3226\">5</span><span style=\"background-color: rgb(255, 253, 253); color: black; padding: 2px;\" title=\"Difference: 0.0226, original_loss: 7.4531, ablated_loss: 7.4757, context_and_activated_loss: 7.4478, only_activated_loss: 7.5848\">_E</span><span style=\"background-color: rgb(255, 253, 253); color: black; padding: 2px;\" title=\"Difference: 0.0338, original_loss: 0.2061, ablated_loss: 0.2399, context_and_activated_loss: 0.2132, only_activated_loss: 0.2247\">1</span><span style=\"background-color: rgb(244, 244, 255); color: black; padding: 2px;\" title=\"Difference: -0.2074, original_loss: 6.9747, ablated_loss: 6.7673, context_and_activated_loss: 6.9377, only_activated_loss: 7.0530\">A</span><span style=\"background-color: rgb(255, 252, 252); color: black; padding: 2px;\" title=\"Difference: 0.0427, original_loss: 2.4787, ablated_loss: 2.5214, context_and_activated_loss: 2.5281, only_activated_loss: 2.5903\">_and</span><span style=\"background-color: rgb(254, 254, 255); color: black; padding: 2px;\" title=\"Difference: -0.0070, original_loss: 3.9754, ablated_loss: 3.9685, context_and_activated_loss: 3.9266, only_activated_loss: 3.9907\">_E</span><span style=\"background-color: rgb(254, 254, 255); color: black; padding: 2px;\" title=\"Difference: -0.0013, original_loss: 1.3294, ablated_loss: 1.3281, context_and_activated_loss: 1.3529, only_activated_loss: 1.4359\">1</span><span style=\"background-color: rgb(253, 253, 255); color: black; padding: 2px;\" title=\"Difference: -0.0197, original_loss: 0.4701, ablated_loss: 0.4505, context_and_activated_loss: 0.4627, only_activated_loss: 0.4668\">B</span><span style=\"background-color: rgb(255, 243, 243); color: black; padding: 2px;\" title=\"Difference: 0.2283, original_loss: 2.4930, ablated_loss: 2.7213, context_and_activated_loss: 2.4984, only_activated_loss: 2.3554\">_gene</span><span style=\"background-color: rgb(225, 225, 255); color: black; padding: 2px;\" title=\"Difference: -0.5696, original_loss: 3.3532, ablated_loss: 2.7836, context_and_activated_loss: 3.3737, only_activated_loss: 3.2824\">_products</span><span style=\"background-color: rgb(255, 253, 253); color: black; padding: 2px;\" title=\"Difference: 0.0248, original_loss: 0.4745, ablated_loss: 0.4994, context_and_activated_loss: 0.5252, only_activated_loss: 0.5654\">,</span><span style=\"background-color: rgb(255, 253, 253); color: black; padding: 2px;\" title=\"Difference: 0.0211, original_loss: 4.2866, ablated_loss: 4.3076, context_and_activated_loss: 4.1641, only_activated_loss: 4.1530\">_can</span><span style=\"background-color: rgb(245, 245, 255); color: black; padding: 2px;\" title=\"Difference: -0.1896, original_loss: 4.5305, ablated_loss: 4.3409, context_and_activated_loss: 4.5983, only_activated_loss: 4.3752\">_produce</span><span style=\"background-color: rgb(255, 242, 242); color: black; padding: 2px;\" title=\"Difference: 0.2547, original_loss: 4.8685, ablated_loss: 5.1231, context_and_activated_loss: 4.8542, only_activated_loss: 4.9626\">_recombinant</span><span style=\"background-color: rgb(245, 245, 255); color: black; padding: 2px;\" title=\"Difference: -0.1897, original_loss: 3.1073, ablated_loss: 2.9176, context_and_activated_loss: 3.1584, only_activated_loss: 3.0304\">_aden</span><span style=\"background-color: rgb(255, 245, 245); color: black; padding: 2px;\" title=\"Difference: 0.1960, original_loss: 2.0207, ablated_loss: 2.2167, context_and_activated_loss: 1.9983, only_activated_loss: 2.4566\">ovir</span><span style=\"background-color: rgb(255, 254, 254); color: black; padding: 2px;\" title=\"Difference: 0.0057, original_loss: 0.0041, ablated_loss: 0.0098, context_and_activated_loss: 0.0048, only_activated_loss: 0.0123\">uses</span><span style=\"background-color: rgb(255, 249, 249); color: black; padding: 2px;\" title=\"Difference: 0.1033, original_loss: 2.3231, ablated_loss: 2.4265, context_and_activated_loss: 2.3726, only_activated_loss: 2.4455\">,</span><span style=\"background-color: rgb(248, 248, 255); color: black; padding: 2px;\" title=\"Difference: -0.1325, original_loss: 3.9138, ablated_loss: 3.7814, context_and_activated_loss: 3.9319, only_activated_loss: 3.8542\">_as</span><span style=\"background-color: rgb(255, 254, 254); color: black; padding: 2px;\" title=\"Difference: 0.0062, original_loss: 0.4299, ablated_loss: 0.4360, context_and_activated_loss: 0.4271, only_activated_loss: 0.4289\">_well</span><span style=\"background-color: rgb(254, 254, 255); color: black; padding: 2px;\" title=\"Difference: -0.0006, original_loss: 0.0046, ablated_loss: 0.0040, context_and_activated_loss: 0.0047, only_activated_loss: 0.0043\">_as</span><span style=\"background-color: rgb(255, 254, 254); color: black; padding: 2px;\" title=\"Difference: 0.0024, original_loss: 3.5986, ablated_loss: 3.6010, context_and_activated_loss: 3.5917, only_activated_loss: 3.8134\">_other</span><span style=\"background-color: rgb(248, 248, 255); color: black; padding: 2px;\" title=\"Difference: -0.1212, original_loss: 3.3584, ablated_loss: 3.2371, context_and_activated_loss: 3.4112, only_activated_loss: 3.3989\">_viruses</span><span style=\"background-color: rgb(241, 241, 255); color: black; padding: 2px;\" title=\"Difference: -0.2555, original_loss: 3.6965, ablated_loss: 3.4410, context_and_activated_loss: 3.5994, only_activated_loss: 3.6086\">_(</span><span style=\"background-color: rgb(255, 239, 239); color: black; padding: 2px;\" title=\"Difference: 0.3006, original_loss: 1.8835, ablated_loss: 2.1841, context_and_activated_loss: 1.9162, only_activated_loss: 1.9830\">e</span><span style=\"background-color: rgb(255, 254, 254); color: black; padding: 2px;\" title=\"Difference: 0.0027, original_loss: 0.0056, ablated_loss: 0.0083, context_and_activated_loss: 0.0062, only_activated_loss: 0.0059\">.</span><span style=\"background-color: rgb(255, 254, 254); color: black; padding: 2px;\" title=\"Difference: 0.0007, original_loss: 0.0024, ablated_loss: 0.0031, context_and_activated_loss: 0.0023, only_activated_loss: 0.0017\">g</span><span style=\"background-color: rgb(255, 246, 246); color: black; padding: 2px;\" title=\"Difference: 0.1593, original_loss: 0.5209, ablated_loss: 0.6801, context_and_activated_loss: 0.5363, only_activated_loss: 0.5369\">.,</span><span style=\"background-color: rgb(255, 249, 249); color: black; padding: 2px;\" title=\"Difference: 0.1052, original_loss: 3.8502, ablated_loss: 3.9554, context_and_activated_loss: 3.9205, only_activated_loss: 3.7640\">_influenza</span><span style=\"background-color: rgb(240, 240, 255); color: black; padding: 2px;\" title=\"Difference: -0.2803, original_loss: 1.7222, ablated_loss: 1.4419, context_and_activated_loss: 1.6577, only_activated_loss: 1.8183\">,</span><span style=\"background-color: rgb(255, 239, 239); color: black; padding: 2px;\" title=\"Difference: 0.2975, original_loss: 4.9011, ablated_loss: 5.1985, context_and_activated_loss: 5.0743, only_activated_loss: 5.2885\">_herpes</span><span style=\"background-color: rgb(255, 246, 246); color: black; padding: 2px;\" title=\"Difference: 0.1599, original_loss: 2.5143, ablated_loss: 2.6742, context_and_activated_loss: 2.5318, only_activated_loss: 2.6772\">_simplex</span><span style=\"background-color: rgb(254, 254, 255); color: black; padding: 2px;\" title=\"Difference: -0.0134, original_loss: 1.7966, ablated_loss: 1.7832, context_and_activated_loss: 1.8360, only_activated_loss: 2.1902\">,</span><span style=\"background-color: rgb(255, 240, 240); color: black; padding: 2px;\" title=\"Difference: 0.2764, original_loss: 6.3070, ablated_loss: 6.5834, context_and_activated_loss: 6.4823, only_activated_loss: 6.6482\">_rot</span><span style=\"background-color: rgb(252, 252, 255); color: black; padding: 2px;\" title=\"Difference: -0.0409, original_loss: 0.0949, ablated_loss: 0.0540, context_and_activated_loss: 0.0927, only_activated_loss: 0.0712\">avirus</span><span style=\"background-color: rgb(255, 249, 249); color: black; padding: 2px;\" title=\"Difference: 0.1073, original_loss: 0.4287, ablated_loss: 0.5360, context_and_activated_loss: 0.4829, only_activated_loss: 0.5282\">,</span><span style=\"background-color: rgb(252, 252, 255); color: black; padding: 2px;\" title=\"Difference: -0.0587, original_loss: 4.9435, ablated_loss: 4.8848, context_and_activated_loss: 4.9676, only_activated_loss: 4.6931\">_measles</span><span style=\"background-color: rgb(248, 248, 255); color: black; padding: 2px;\" title=\"Difference: -0.1315, original_loss: 3.2507, ablated_loss: 3.1193, context_and_activated_loss: 3.1959, only_activated_loss: 3.2612\">)</span><span style=\"background-color: rgb(242, 242, 255); color: black; padding: 2px;\" title=\"Difference: -0.2477, original_loss: 8.2820, ablated_loss: 8.0343, context_and_activated_loss: 8.1419, only_activated_loss: 8.1847\">_designed</span><span style=\"background-color: rgb(252, 252, 255); color: black; padding: 2px;\" title=\"Difference: -0.0439, original_loss: 1.5147, ablated_loss: 1.4708, context_and_activated_loss: 1.4972, only_activated_loss: 1.4061\">_for</span><span style=\"background-color: rgb(247, 247, 255); color: black; padding: 2px;\" title=\"Difference: -0.1446, original_loss: 4.9113, ablated_loss: 4.7668, context_and_activated_loss: 4.8686, only_activated_loss: 4.6206\">_gene</span><span style=\"background-color: rgb(253, 253, 255); color: black; padding: 2px;\" title=\"Difference: -0.0270, original_loss: 1.3771, ablated_loss: 1.3501, context_and_activated_loss: 1.3810, only_activated_loss: 1.6029\">_therapy</span><span style=\"background-color: rgb(255, 252, 252); color: black; padding: 2px;\" title=\"Difference: 0.0404, original_loss: 2.7079, ablated_loss: 2.7484, context_and_activated_loss: 2.7396, only_activated_loss: 2.7773\">_and</span><span style=\"background-color: rgb(252, 252, 255); color: black; padding: 2px;\" title=\"Difference: -0.0496, original_loss: 4.1638, ablated_loss: 4.1142, context_and_activated_loss: 4.1876, only_activated_loss: 4.2097\">_vaccines</span><span style=\"background-color: rgb(255, 246, 246); color: black; padding: 2px;\" title=\"Difference: 0.1758, original_loss: 2.2094, ablated_loss: 2.3852, context_and_activated_loss: 2.3067, only_activated_loss: 2.4293\">,</span><span style=\"background-color: rgb(246, 246, 255); color: black; padding: 2px;\" title=\"Difference: -0.1704, original_loss: 2.8433, ablated_loss: 2.6729, context_and_activated_loss: 2.8226, only_activated_loss: 2.7160\">_as</span><span style=\"background-color: rgb(255, 253, 253); color: black; padding: 2px;\" title=\"Difference: 0.0259, original_loss: 0.2919, ablated_loss: 0.3177, context_and_activated_loss: 0.2915, only_activated_loss: 0.2936\">_well</span><span style=\"background-color: rgb(254, 254, 255); color: black; padding: 2px;\" title=\"Difference: -0.0007, original_loss: 0.0055, ablated_loss: 0.0048, context_and_activated_loss: 0.0054, only_activated_loss: 0.0050\">_as</span><span style=\"background-color: rgb(255, 254, 254); color: black; padding: 2px;\" title=\"Difference: 0.0112, original_loss: 1.7784, ablated_loss: 1.7896, context_and_activated_loss: 1.7666, only_activated_loss: 1.7023\">_for</span><span style=\"background-color: rgb(250, 250, 255); color: black; padding: 2px;\" title=\"Difference: -0.0860, original_loss: 2.1667, ablated_loss: 2.0807, context_and_activated_loss: 2.1372, only_activated_loss: 2.1549\">_the</span><span style=\"background-color: rgb(255, 243, 243); color: black; padding: 2px;\" title=\"Difference: 0.2308, original_loss: 3.0526, ablated_loss: 3.2834, context_and_activated_loss: 3.0610, only_activated_loss: 3.3059\">_production</span><span style=\"background-color: rgb(254, 254, 255); color: black; padding: 2px;\" title=\"Difference: -0.0140, original_loss: 0.0656, ablated_loss: 0.0516, context_and_activated_loss: 0.0678, only_activated_loss: 0.0681\">_of</span><span style=\"background-color: rgb(255, 247, 247); color: black; padding: 2px;\" title=\"Difference: 0.1564, original_loss: 1.6818, ablated_loss: 1.8382, context_and_activated_loss: 1.7066, only_activated_loss: 1.7968\">_recombinant</span><span style=\"background-color: rgb(255, 219, 219); color: black; padding: 2px;\" title=\"Difference: 0.7021, original_loss: 8.2274, ablated_loss: 8.9295, context_and_activated_loss: 8.2227, only_activated_loss: 8.6338\">_therapeutic</span><span style=\"background-color: rgb(255, 251, 251); color: black; padding: 2px;\" title=\"Difference: 0.0666, original_loss: 2.2234, ablated_loss: 2.2900, context_and_activated_loss: 2.3073, only_activated_loss: 2.2391\">_proteins</span><span style=\"background-color: rgb(255, 250, 250); color: black; padding: 2px;\" title=\"Difference: 0.0869, original_loss: 1.9687, ablated_loss: 2.0555, context_and_activated_loss: 2.0341, only_activated_loss: 2.1168\">,</span><span style=\"background-color: rgb(255, 235, 235); color: black; padding: 2px;\" title=\"Difference: 0.3869, original_loss: 1.6560, ablated_loss: 2.0430, context_and_activated_loss: 1.7628, only_activated_loss: 1.8834\">_such</span><span style=\"background-color: rgb(254, 254, 255); color: black; padding: 2px;\" title=\"Difference: -0.0009, original_loss: 0.0092, ablated_loss: 0.0083, context_and_activated_loss: 0.0095, only_activated_loss: 0.0090\">_as</span><span style=\"background-color: rgb(252, 252, 255); color: black; padding: 2px;\" title=\"Difference: -0.0486, original_loss: 4.0031, ablated_loss: 3.9545, context_and_activated_loss: 4.0339, only_activated_loss: 3.9970\">_human</span><span style=\"background-color: rgb(255, 248, 248); color: black; padding: 2px;\" title=\"Difference: 0.1354, original_loss: 3.4455, ablated_loss: 3.5809, context_and_activated_loss: 3.5117, only_activated_loss: 3.4275\">_growth</span><span style=\"background-color: rgb(255, 254, 254); color: black; padding: 2px;\" title=\"Difference: 0.0087, original_loss: 2.1765, ablated_loss: 2.1851, context_and_activated_loss: 2.1711, only_activated_loss: 2.2312\">_factors</span><span style=\"background-color: rgb(255, 254, 254); color: black; padding: 2px;\" title=\"Difference: 0.0168, original_loss: 1.3680, ablated_loss: 1.3848, context_and_activated_loss: 1.3699, only_activated_loss: 1.3455\">_and</span><span style=\"background-color: rgb(248, 248, 255); color: black; padding: 2px;\" title=\"Difference: -0.1363, original_loss: 4.7290, ablated_loss: 4.5927, context_and_activated_loss: 4.7231, only_activated_loss: 4.7543\">_human</span><span style=\"background-color: rgb(255, 252, 252); color: black; padding: 2px;\" title=\"Difference: 0.0567, original_loss: 5.9120, ablated_loss: 5.9687, context_and_activated_loss: 5.9278, only_activated_loss: 6.0772\">_antibodies</span><span style=\"background-color: rgb(244, 244, 255); color: black; padding: 2px;\" title=\"Difference: -0.1966, original_loss: 2.9657, ablated_loss: 2.7691, context_and_activated_loss: 2.9016, only_activated_loss: 2.9414\">_(</span><span style=\"background-color: rgb(240, 240, 255); color: black; padding: 2px;\" title=\"Difference: -0.2822, original_loss: 5.8760, ablated_loss: 5.5938, context_and_activated_loss: 5.9043, only_activated_loss: 5.7945\">V</span><span style=\"background-color: rgb(209, 209, 255); color: black; padding: 2px;\" title=\"Difference: -0.8925, original_loss: 7.8096, ablated_loss: 6.9170, context_and_activated_loss: 7.8057, only_activated_loss: 7.3550\">og</span><span style=\"background-color: rgb(255, 234, 234); color: black; padding: 2px;\" title=\"Difference: 0.3995, original_loss: 2.1077, ablated_loss: 2.5072, context_and_activated_loss: 2.1477, only_activated_loss: 2.3592\">els</span><span style=\"background-color: rgb(255, 185, 185); color: black; padding: 2px;\" title=\"Difference: 1.3530, original_loss: 3.3068, ablated_loss: 4.6598, context_and_activated_loss: 3.3806, only_activated_loss: 4.0038\">_et</span><span style=\"background-color: rgb(255, 254, 254); color: black; padding: 2px;\" title=\"Difference: 0.0013, original_loss: 0.0102, ablated_loss: 0.0115, context_and_activated_loss: 0.0115, only_activated_loss: 0.0149\">_al</span><span style=\"background-color: rgb(255, 249, 249); color: black; padding: 2px;\" title=\"Difference: 0.1117, original_loss: 0.5135, ablated_loss: 0.6253, context_and_activated_loss: 0.5209, only_activated_loss: 0.4978\">.,</span><span style=\"background-color: rgb(255, 151, 151); color: black; padding: 2px;\" title=\"Difference: 2.0351, original_loss: 6.2231, ablated_loss: 8.2581, context_and_activated_loss: 6.3478, only_activated_loss: 7.3450\">_WO</span><span style=\"background-color: rgb(255, 246, 246); color: black; padding: 2px;\" title=\"Difference: 0.1760, original_loss: 4.0748, ablated_loss: 4.2508, context_and_activated_loss: 4.0521, only_activated_loss: 3.9347\">_02</span><span style=\"background-color: rgb(255, 252, 252); color: black; padding: 2px;\" title=\"Difference: 0.0583, original_loss: 0.0465, ablated_loss: 0.1048, context_and_activated_loss: 0.0514, only_activated_loss: 0.0607\">/</span><span style=\"background-color: rgb(246, 246, 255); color: black; padding: 2px;\" title=\"Difference: -0.1660, original_loss: 10.3113, ablated_loss: 10.1453, context_and_activated_loss: 10.3800, only_activated_loss: 10.4369\">406</span><span style=\"background-color: rgb(252, 252, 255); color: black; padding: 2px;\" title=\"Difference: -0.0500, original_loss: 4.8424, ablated_loss: 4.7924, context_and_activated_loss: 4.8239, only_activated_loss: 4.9313\">65</span><span style=\"background-color: rgb(255, 214, 214); color: black; padding: 2px;\" title=\"Difference: 0.7935, original_loss: 3.9232, ablated_loss: 4.7167, context_and_activated_loss: 3.9300, only_activated_loss: 3.9430\">_A</span><span style=\"background-color: rgb(252, 252, 255); color: black; padding: 2px;\" title=\"Difference: -0.0466, original_loss: 3.1668, ablated_loss: 3.1202, context_and_activated_loss: 3.1380, only_activated_loss: 3.2207\">2</span><span style=\"background-color: rgb(249, 249, 255); color: black; padding: 2px;\" title=\"Difference: -0.0995, original_loss: 0.4303, ablated_loss: 0.3308, context_and_activated_loss: 0.3872, only_activated_loss: 0.3056\">).</span></div>"
      ],
      "text/plain": [
       "<IPython.core.display.HTML object>"
      ]
     },
     "metadata": {},
     "output_type": "display_data"
    }
   ],
   "source": [
    "for index, _ in sorted_measure[:3]:\n",
    "    print_prompt(german_data[index]) "
   ]
  },
  {
   "cell_type": "code",
   "execution_count": 9,
   "metadata": {},
   "outputs": [
    {
     "data": {
      "text/html": [
       "        <script type=\"text/javascript\">\n",
       "        window.PlotlyConfig = {MathJaxConfig: 'local'};\n",
       "        if (window.MathJax && window.MathJax.Hub && window.MathJax.Hub.Config) {window.MathJax.Hub.Config({SVG: {font: \"STIX-Web\"}});}\n",
       "        if (typeof require !== 'undefined') {\n",
       "        require.undef(\"plotly\");\n",
       "        requirejs.config({\n",
       "            paths: {\n",
       "                'plotly': ['https://cdn.plot.ly/plotly-2.24.1.min']\n",
       "            }\n",
       "        });\n",
       "        require(['plotly'], function(Plotly) {\n",
       "            window._Plotly = Plotly;\n",
       "        });\n",
       "        }\n",
       "        </script>\n",
       "        "
      ]
     },
     "metadata": {},
     "output_type": "display_data"
    },
    {
     "data": {
      "text/html": [
       "<div>                            <div id=\"80356fb1-ba44-4cfe-9ac4-78c4e133c8b1\" class=\"plotly-graph-div\" style=\"height:525px; width:1000px;\"></div>            <script type=\"text/javascript\">                require([\"plotly\"], function(Plotly) {                    window.PLOTLYENV=window.PLOTLYENV || {};                                    if (document.getElementById(\"80356fb1-ba44-4cfe-9ac4-78c4e133c8b1\")) {                    Plotly.newPlot(                        \"80356fb1-ba44-4cfe-9ac4-78c4e133c8b1\",                        [{\"error_y\":{\"array\":[0.0],\"type\":\"data\",\"visible\":true},\"name\":\"Original\",\"x\":[\"Original\"],\"y\":[0.9319088459014893],\"type\":\"bar\"},{\"error_y\":{\"array\":[0.0],\"type\":\"data\",\"visible\":true},\"name\":\"Ablated\",\"x\":[\"Ablated\"],\"y\":[2.617288112640381],\"type\":\"bar\"},{\"error_y\":{\"array\":[0.0],\"type\":\"data\",\"visible\":true},\"name\":\"Context + MLP4 active\",\"x\":[\"Context + MLP4 active\"],\"y\":[1.2806476354599],\"type\":\"bar\"},{\"error_y\":{\"array\":[0.0],\"type\":\"data\",\"visible\":true},\"name\":\"MLP4 active\",\"x\":[\"MLP4 active\"],\"y\":[2.089118003845215],\"type\":\"bar\"}],                        {\"template\":{\"data\":{\"histogram2dcontour\":[{\"type\":\"histogram2dcontour\",\"colorbar\":{\"outlinewidth\":0,\"ticks\":\"\"},\"colorscale\":[[0.0,\"#0d0887\"],[0.1111111111111111,\"#46039f\"],[0.2222222222222222,\"#7201a8\"],[0.3333333333333333,\"#9c179e\"],[0.4444444444444444,\"#bd3786\"],[0.5555555555555556,\"#d8576b\"],[0.6666666666666666,\"#ed7953\"],[0.7777777777777778,\"#fb9f3a\"],[0.8888888888888888,\"#fdca26\"],[1.0,\"#f0f921\"]]}],\"choropleth\":[{\"type\":\"choropleth\",\"colorbar\":{\"outlinewidth\":0,\"ticks\":\"\"}}],\"histogram2d\":[{\"type\":\"histogram2d\",\"colorbar\":{\"outlinewidth\":0,\"ticks\":\"\"},\"colorscale\":[[0.0,\"#0d0887\"],[0.1111111111111111,\"#46039f\"],[0.2222222222222222,\"#7201a8\"],[0.3333333333333333,\"#9c179e\"],[0.4444444444444444,\"#bd3786\"],[0.5555555555555556,\"#d8576b\"],[0.6666666666666666,\"#ed7953\"],[0.7777777777777778,\"#fb9f3a\"],[0.8888888888888888,\"#fdca26\"],[1.0,\"#f0f921\"]]}],\"heatmap\":[{\"type\":\"heatmap\",\"colorbar\":{\"outlinewidth\":0,\"ticks\":\"\"},\"colorscale\":[[0.0,\"#0d0887\"],[0.1111111111111111,\"#46039f\"],[0.2222222222222222,\"#7201a8\"],[0.3333333333333333,\"#9c179e\"],[0.4444444444444444,\"#bd3786\"],[0.5555555555555556,\"#d8576b\"],[0.6666666666666666,\"#ed7953\"],[0.7777777777777778,\"#fb9f3a\"],[0.8888888888888888,\"#fdca26\"],[1.0,\"#f0f921\"]]}],\"heatmapgl\":[{\"type\":\"heatmapgl\",\"colorbar\":{\"outlinewidth\":0,\"ticks\":\"\"},\"colorscale\":[[0.0,\"#0d0887\"],[0.1111111111111111,\"#46039f\"],[0.2222222222222222,\"#7201a8\"],[0.3333333333333333,\"#9c179e\"],[0.4444444444444444,\"#bd3786\"],[0.5555555555555556,\"#d8576b\"],[0.6666666666666666,\"#ed7953\"],[0.7777777777777778,\"#fb9f3a\"],[0.8888888888888888,\"#fdca26\"],[1.0,\"#f0f921\"]]}],\"contourcarpet\":[{\"type\":\"contourcarpet\",\"colorbar\":{\"outlinewidth\":0,\"ticks\":\"\"}}],\"contour\":[{\"type\":\"contour\",\"colorbar\":{\"outlinewidth\":0,\"ticks\":\"\"},\"colorscale\":[[0.0,\"#0d0887\"],[0.1111111111111111,\"#46039f\"],[0.2222222222222222,\"#7201a8\"],[0.3333333333333333,\"#9c179e\"],[0.4444444444444444,\"#bd3786\"],[0.5555555555555556,\"#d8576b\"],[0.6666666666666666,\"#ed7953\"],[0.7777777777777778,\"#fb9f3a\"],[0.8888888888888888,\"#fdca26\"],[1.0,\"#f0f921\"]]}],\"surface\":[{\"type\":\"surface\",\"colorbar\":{\"outlinewidth\":0,\"ticks\":\"\"},\"colorscale\":[[0.0,\"#0d0887\"],[0.1111111111111111,\"#46039f\"],[0.2222222222222222,\"#7201a8\"],[0.3333333333333333,\"#9c179e\"],[0.4444444444444444,\"#bd3786\"],[0.5555555555555556,\"#d8576b\"],[0.6666666666666666,\"#ed7953\"],[0.7777777777777778,\"#fb9f3a\"],[0.8888888888888888,\"#fdca26\"],[1.0,\"#f0f921\"]]}],\"mesh3d\":[{\"type\":\"mesh3d\",\"colorbar\":{\"outlinewidth\":0,\"ticks\":\"\"}}],\"scatter\":[{\"fillpattern\":{\"fillmode\":\"overlay\",\"size\":10,\"solidity\":0.2},\"type\":\"scatter\"}],\"parcoords\":[{\"type\":\"parcoords\",\"line\":{\"colorbar\":{\"outlinewidth\":0,\"ticks\":\"\"}}}],\"scatterpolargl\":[{\"type\":\"scatterpolargl\",\"marker\":{\"colorbar\":{\"outlinewidth\":0,\"ticks\":\"\"}}}],\"bar\":[{\"error_x\":{\"color\":\"#2a3f5f\"},\"error_y\":{\"color\":\"#2a3f5f\"},\"marker\":{\"line\":{\"color\":\"#E5ECF6\",\"width\":0.5},\"pattern\":{\"fillmode\":\"overlay\",\"size\":10,\"solidity\":0.2}},\"type\":\"bar\"}],\"scattergeo\":[{\"type\":\"scattergeo\",\"marker\":{\"colorbar\":{\"outlinewidth\":0,\"ticks\":\"\"}}}],\"scatterpolar\":[{\"type\":\"scatterpolar\",\"marker\":{\"colorbar\":{\"outlinewidth\":0,\"ticks\":\"\"}}}],\"histogram\":[{\"marker\":{\"pattern\":{\"fillmode\":\"overlay\",\"size\":10,\"solidity\":0.2}},\"type\":\"histogram\"}],\"scattergl\":[{\"type\":\"scattergl\",\"marker\":{\"colorbar\":{\"outlinewidth\":0,\"ticks\":\"\"}}}],\"scatter3d\":[{\"type\":\"scatter3d\",\"line\":{\"colorbar\":{\"outlinewidth\":0,\"ticks\":\"\"}},\"marker\":{\"colorbar\":{\"outlinewidth\":0,\"ticks\":\"\"}}}],\"scattermapbox\":[{\"type\":\"scattermapbox\",\"marker\":{\"colorbar\":{\"outlinewidth\":0,\"ticks\":\"\"}}}],\"scatterternary\":[{\"type\":\"scatterternary\",\"marker\":{\"colorbar\":{\"outlinewidth\":0,\"ticks\":\"\"}}}],\"scattercarpet\":[{\"type\":\"scattercarpet\",\"marker\":{\"colorbar\":{\"outlinewidth\":0,\"ticks\":\"\"}}}],\"carpet\":[{\"aaxis\":{\"endlinecolor\":\"#2a3f5f\",\"gridcolor\":\"white\",\"linecolor\":\"white\",\"minorgridcolor\":\"white\",\"startlinecolor\":\"#2a3f5f\"},\"baxis\":{\"endlinecolor\":\"#2a3f5f\",\"gridcolor\":\"white\",\"linecolor\":\"white\",\"minorgridcolor\":\"white\",\"startlinecolor\":\"#2a3f5f\"},\"type\":\"carpet\"}],\"table\":[{\"cells\":{\"fill\":{\"color\":\"#EBF0F8\"},\"line\":{\"color\":\"white\"}},\"header\":{\"fill\":{\"color\":\"#C8D4E3\"},\"line\":{\"color\":\"white\"}},\"type\":\"table\"}],\"barpolar\":[{\"marker\":{\"line\":{\"color\":\"#E5ECF6\",\"width\":0.5},\"pattern\":{\"fillmode\":\"overlay\",\"size\":10,\"solidity\":0.2}},\"type\":\"barpolar\"}],\"pie\":[{\"automargin\":true,\"type\":\"pie\"}]},\"layout\":{\"autotypenumbers\":\"strict\",\"colorway\":[\"#636efa\",\"#EF553B\",\"#00cc96\",\"#ab63fa\",\"#FFA15A\",\"#19d3f3\",\"#FF6692\",\"#B6E880\",\"#FF97FF\",\"#FECB52\"],\"font\":{\"color\":\"#2a3f5f\"},\"hovermode\":\"closest\",\"hoverlabel\":{\"align\":\"left\"},\"paper_bgcolor\":\"white\",\"plot_bgcolor\":\"#E5ECF6\",\"polar\":{\"bgcolor\":\"#E5ECF6\",\"angularaxis\":{\"gridcolor\":\"white\",\"linecolor\":\"white\",\"ticks\":\"\"},\"radialaxis\":{\"gridcolor\":\"white\",\"linecolor\":\"white\",\"ticks\":\"\"}},\"ternary\":{\"bgcolor\":\"#E5ECF6\",\"aaxis\":{\"gridcolor\":\"white\",\"linecolor\":\"white\",\"ticks\":\"\"},\"baxis\":{\"gridcolor\":\"white\",\"linecolor\":\"white\",\"ticks\":\"\"},\"caxis\":{\"gridcolor\":\"white\",\"linecolor\":\"white\",\"ticks\":\"\"}},\"coloraxis\":{\"colorbar\":{\"outlinewidth\":0,\"ticks\":\"\"}},\"colorscale\":{\"sequential\":[[0.0,\"#0d0887\"],[0.1111111111111111,\"#46039f\"],[0.2222222222222222,\"#7201a8\"],[0.3333333333333333,\"#9c179e\"],[0.4444444444444444,\"#bd3786\"],[0.5555555555555556,\"#d8576b\"],[0.6666666666666666,\"#ed7953\"],[0.7777777777777778,\"#fb9f3a\"],[0.8888888888888888,\"#fdca26\"],[1.0,\"#f0f921\"]],\"sequentialminus\":[[0.0,\"#0d0887\"],[0.1111111111111111,\"#46039f\"],[0.2222222222222222,\"#7201a8\"],[0.3333333333333333,\"#9c179e\"],[0.4444444444444444,\"#bd3786\"],[0.5555555555555556,\"#d8576b\"],[0.6666666666666666,\"#ed7953\"],[0.7777777777777778,\"#fb9f3a\"],[0.8888888888888888,\"#fdca26\"],[1.0,\"#f0f921\"]],\"diverging\":[[0,\"#8e0152\"],[0.1,\"#c51b7d\"],[0.2,\"#de77ae\"],[0.3,\"#f1b6da\"],[0.4,\"#fde0ef\"],[0.5,\"#f7f7f7\"],[0.6,\"#e6f5d0\"],[0.7,\"#b8e186\"],[0.8,\"#7fbc41\"],[0.9,\"#4d9221\"],[1,\"#276419\"]]},\"xaxis\":{\"gridcolor\":\"white\",\"linecolor\":\"white\",\"ticks\":\"\",\"title\":{\"standoff\":15},\"zerolinecolor\":\"white\",\"automargin\":true,\"zerolinewidth\":2},\"yaxis\":{\"gridcolor\":\"white\",\"linecolor\":\"white\",\"ticks\":\"\",\"title\":{\"standoff\":15},\"zerolinecolor\":\"white\",\"automargin\":true,\"zerolinewidth\":2},\"scene\":{\"xaxis\":{\"backgroundcolor\":\"#E5ECF6\",\"gridcolor\":\"white\",\"linecolor\":\"white\",\"showbackground\":true,\"ticks\":\"\",\"zerolinecolor\":\"white\",\"gridwidth\":2},\"yaxis\":{\"backgroundcolor\":\"#E5ECF6\",\"gridcolor\":\"white\",\"linecolor\":\"white\",\"showbackground\":true,\"ticks\":\"\",\"zerolinecolor\":\"white\",\"gridwidth\":2},\"zaxis\":{\"backgroundcolor\":\"#E5ECF6\",\"gridcolor\":\"white\",\"linecolor\":\"white\",\"showbackground\":true,\"ticks\":\"\",\"zerolinecolor\":\"white\",\"gridwidth\":2}},\"shapedefaults\":{\"line\":{\"color\":\"#2a3f5f\"}},\"annotationdefaults\":{\"arrowcolor\":\"#2a3f5f\",\"arrowhead\":0,\"arrowwidth\":1},\"geo\":{\"bgcolor\":\"white\",\"landcolor\":\"#E5ECF6\",\"subunitcolor\":\"white\",\"showland\":true,\"showlakes\":true,\"lakecolor\":\"white\"},\"title\":{\"x\":0.05},\"mapbox\":{\"style\":\"light\"}}},\"title\":{\"text\":\"Average loss 'FIG'\"},\"xaxis\":{\"title\":{\"text\":\"\"}},\"yaxis\":{\"title\":{\"text\":\"Loss\"}},\"barmode\":\"group\",\"width\":1000},                        {\"responsive\": true}                    ).then(function(){\n",
       "                            \n",
       "var gd = document.getElementById('80356fb1-ba44-4cfe-9ac4-78c4e133c8b1');\n",
       "var x = new MutationObserver(function (mutations, observer) {{\n",
       "        var display = window.getComputedStyle(gd).display;\n",
       "        if (!display || display === 'none') {{\n",
       "            console.log([gd, 'removed!']);\n",
       "            Plotly.purge(gd);\n",
       "            observer.disconnect();\n",
       "        }}\n",
       "}});\n",
       "\n",
       "// Listen for the removal of the full notebook cells\n",
       "var notebookContainer = gd.closest('#notebook-container');\n",
       "if (notebookContainer) {{\n",
       "    x.observe(notebookContainer, {childList: true});\n",
       "}}\n",
       "\n",
       "// Listen for the clearing of the current output cell\n",
       "var outputEl = gd.closest('.output');\n",
       "if (outputEl) {{\n",
       "    x.observe(outputEl, {childList: true});\n",
       "}}\n",
       "\n",
       "                        })                };                });            </script>        </div>"
      ]
     },
     "metadata": {},
     "output_type": "display_data"
    }
   ],
   "source": [
    "average_loss_plot = haystack_utils.get_average_loss_plot_method(activate_neurons_fwd_hooks, deactivate_neurons_fwd_hooks, \"MLP4\",\n",
    "                                                                activated_components = (\"blocks.5.hook_mlp_out\",),\n",
    "                                                                deactivated_components = (\"blocks.5.hook_attn_out\",))\n",
    "\n",
    "prompt = \"As shown in FIG\"\n",
    "average_loss_plot([prompt], model, token=\"FIG\")"
   ]
  },
  {
   "cell_type": "code",
   "execution_count": null,
   "metadata": {},
   "outputs": [],
   "source": [
    "prompt = \"As shown in FIG\"\n",
    "average_loss_plot([prompt], model, token=\"FIG\")"
   ]
  },
  {
   "cell_type": "markdown",
   "metadata": {},
   "source": [
    "## Analysis of ngrams preceded by random prompts"
   ]
  },
  {
   "cell_type": "code",
   "execution_count": 10,
   "metadata": {},
   "outputs": [],
   "source": [
    "def get_random_selection(tensor, n=12):\n",
    "    # Hacky replacement for np.random.choice\n",
    "    return tensor[torch.randperm(len(tensor))[:n]]\n",
    "\n",
    "def generate_random_prompts(end_string, n=50, length=12):\n",
    "    # Generate a batch of random prompts ending with a specific ngram\n",
    "    end_tokens = model.to_tokens(end_string).flatten()[1:]\n",
    "    prompts = []\n",
    "    for i in range(n):\n",
    "        prompt = get_random_selection(top_tokens[:max(50, length)], n=length).cuda()\n",
    "        prompt = torch.cat([prompt, end_tokens])\n",
    "        prompts.append(prompt)\n",
    "    prompts = torch.stack(prompts)\n",
    "    return prompts\n",
    "\n",
    "def replace_column(prompts: Int[Tensor, \"n_prompts n_tokens\"], token_index: int):\n",
    "    # Replaces a specific token position in a batch of prompts with random common German tokens\n",
    "    new_prompts = prompts.clone()\n",
    "    random_tokens = get_random_selection(top_tokens[:max(50, prompts.shape[0])], n=prompts.shape[0]).cuda()\n",
    "    new_prompts[:, token_index] = random_tokens\n",
    "    return new_prompts \n",
    "\n",
    "def loss_analysis(prompts: Tensor, title=\"\"):\n",
    "    # Loss plot for a batch of prompts\n",
    "    names = [\"Original\", \"Ablated\", \"MLP5 path patched\"]\n",
    "    original_loss, ablated_loss, _, only_activated_loss = \\\n",
    "        haystack_utils.get_direct_effect(prompts, model, pos=-1,\n",
    "                                        context_ablation_hooks=deactivate_neurons_fwd_hooks, \n",
    "                                        context_activation_hooks=activate_neurons_fwd_hooks, \n",
    "                                        )\n",
    "    haystack_utils.plot_barplot([original_loss.tolist(), ablated_loss.tolist(), only_activated_loss.tolist()], names, ylabel=\"Loss\", title=title)"
   ]
  },
  {
   "cell_type": "code",
   "execution_count": 11,
   "metadata": {},
   "outputs": [],
   "source": [
    "def loss_analysis_random_prompts(end_string, n=50, length=12, replace_columns: list[int] | None = None):\n",
    "    # Loss plot for a batch of random prompts ending with a specific ngram and optionally replacing specific tokens\n",
    "    prompts = generate_random_prompts(end_string, n=n, length=length)\n",
    "    title=f\"Average last token loss on {length} random tokens ending in '{end_string}'\"\n",
    "    if replace_columns is not None:\n",
    "        replaced_tokens = model.to_str_tokens(prompts[0, replace_columns])\n",
    "        title += f\" replacing {replaced_tokens}\"\n",
    "        for column in replace_columns:\n",
    "            prompts = replace_column(prompts, column)\n",
    "    \n",
    "    loss_analysis(prompts, title=title)"
   ]
  },
  {
   "cell_type": "code",
   "execution_count": 12,
   "metadata": {},
   "outputs": [],
   "source": [
    "# Example usage\n",
    "# loss_analysis_random_prompts(\" Vorschlägen\", n=100, length=20)\n",
    "# loss_analysis_random_prompts(\" Vorschlägen\", n=100, length=20, replace_columns=[-2])"
   ]
  },
  {
   "cell_type": "markdown",
   "metadata": {},
   "source": [
    "## Widget"
   ]
  },
  {
   "cell_type": "code",
   "execution_count": 13,
   "metadata": {},
   "outputs": [
    {
     "data": {
      "application/vnd.jupyter.widget-view+json": {
       "model_id": "a90bf13155694649a4ffe5134c9317c5",
       "version_major": 2,
       "version_minor": 0
      },
      "text/plain": [
       "Dropdown(description='Ngram: ', options=(' Vorschlägen', ' Vorschläge', ' häufig', ' schließt', ' beweglich'),…"
      ]
     },
     "metadata": {},
     "output_type": "display_data"
    },
    {
     "data": {
      "application/vnd.jupyter.widget-view+json": {
       "model_id": "7587881e40a6497d86606c18ee8c0668",
       "version_major": 2,
       "version_minor": 0
      },
      "text/plain": [
       "SelectMultiple(description='Replace Columns:', index=(3,), options=('-2', '-3', '-4', 'None'), value=('None',)…"
      ]
     },
     "metadata": {},
     "output_type": "display_data"
    },
    {
     "data": {
      "application/vnd.jupyter.widget-view+json": {
       "model_id": "e06fc39e733849a1b0c295961bcafa7d",
       "version_major": 2,
       "version_minor": 0
      },
      "text/plain": [
       "Output()"
      ]
     },
     "metadata": {},
     "output_type": "display_data"
    }
   ],
   "source": [
    "# Create a dropdown menu widget\n",
    "dropdown = widgets.Dropdown(\n",
    "    options = [\" Vorschlägen\", \" Vorschläge\", \" häufig\", \" schließt\", \" beweglich\"], \n",
    "    value = \" Vorschlägen\",\n",
    "    description = 'Ngram: ',\n",
    ")\n",
    "\n",
    "replace_columns_dropdown = widgets.SelectMultiple(\n",
    "    options = ['-2', '-3', '-4', 'None'],\n",
    "    value = ['None'],  # default selected value\n",
    "    description = 'Replace Columns:',\n",
    ")\n",
    "\n",
    "# Create an output widget to hold the plot\n",
    "output = widgets.Output()\n",
    "\n",
    "# Define a function to call when the widget's value changes\n",
    "def update_plot(*args):\n",
    "    # Clear the old plot from the output\n",
    "    with output:\n",
    "        clear_output(wait=True)\n",
    "\n",
    "        if 'None' in replace_columns_dropdown.value:\n",
    "            replace_columns = None\n",
    "        else:\n",
    "            # If 'None' not selected, convert the selected values to integers\n",
    "            replace_columns = [int(val) for val in replace_columns_dropdown.value]\n",
    "        \n",
    "        # Call your function with the values from the widgets\n",
    "        loss_analysis_random_prompts(dropdown.value, n=100, length=20, replace_columns=replace_columns)\n",
    "\n",
    "# Set the function to be called when the widget's value changes\n",
    "dropdown.observe(update_plot, 'value')\n",
    "replace_columns_dropdown.observe(update_plot, 'value')\n",
    "\n",
    "# Display the widget and the output\n",
    "display(dropdown, replace_columns_dropdown, output)\n",
    "\n",
    "# Run once at startup\n",
    "update_plot()\n"
   ]
  },
  {
   "cell_type": "markdown",
   "metadata": {},
   "source": [
    "## Identify relevant neurons"
   ]
  },
  {
   "cell_type": "code",
   "execution_count": 14,
   "metadata": {},
   "outputs": [
    {
     "name": "stdout",
     "output_type": "stream",
     "text": [
      "torch.Size([100, 24])\n"
     ]
    }
   ],
   "source": [
    "prompts = generate_random_prompts(\" Vorschlägen\", n=100, length=20)\n",
    "print(prompts.shape)"
   ]
  },
  {
   "cell_type": "code",
   "execution_count": 15,
   "metadata": {},
   "outputs": [
    {
     "data": {
      "application/vnd.jupyter.widget-view+json": {
       "model_id": "81904efd6b314ff8ab4ced006e859cc5",
       "version_major": 2,
       "version_minor": 0
      },
      "text/plain": [
       "  0%|          | 0/2048 [00:00<?, ?it/s]"
      ]
     },
     "metadata": {},
     "output_type": "display_data"
    }
   ],
   "source": [
    "# Calculate neuron-wise loss change\n",
    "with model.hooks(deactivate_neurons_fwd_hooks):\n",
    "    _, ablated_cache = model.run_with_cache(prompts)\n",
    "\n",
    "def get_ablate_neurons_hook(neuron: int | list[int], ablated_cache):\n",
    "    def ablate_neurons_hook(value, hook):\n",
    "        value[:, :, neuron] = ablated_cache['blocks.5.mlp.hook_post'][:, :, neuron]\n",
    "        return value\n",
    "    return [('blocks.5.mlp.hook_post', ablate_neurons_hook)]\n",
    "\n",
    "diffs = torch.zeros(2048, prompts.shape[0])\n",
    "# Loss with path patched MLP5 neurons\n",
    "_, _, _, baseline_loss = haystack_utils.get_direct_effect(prompts, model, pos=-1, context_ablation_hooks=deactivate_neurons_fwd_hooks, context_activation_hooks=activate_neurons_fwd_hooks)\n",
    "for neuron in tqdm(range(2048)):\n",
    "    ablate_single_neuron_hook = get_ablate_neurons_hook(neuron, ablated_cache)\n",
    "    # Loss with path patched MLP5 neurons but a single neuron changed back to original ablated value\n",
    "    _, _, _, only_activated_loss = haystack_utils.get_direct_effect(prompts, model, pos=-1, context_ablation_hooks=deactivate_neurons_fwd_hooks, context_activation_hooks=activate_neurons_fwd_hooks+ablate_single_neuron_hook)\n",
    "    diffs[neuron] = only_activated_loss - baseline_loss\n",
    "\n",
    "print(diffs.mean())"
   ]
  },
  {
   "cell_type": "code",
   "execution_count": null,
   "metadata": {},
   "outputs": [
    {
     "data": {
      "text/html": [
       "<div>                            <div id=\"12348e39-8d21-4241-9702-93e11b0fb7f3\" class=\"plotly-graph-div\" style=\"height:525px; width:800px;\"></div>            <script type=\"text/javascript\">                require([\"plotly\"], function(Plotly) {                    window.PLOTLYENV=window.PLOTLYENV || {};                                    if (document.getElementById(\"12348e39-8d21-4241-9702-93e11b0fb7f3\")) {                    Plotly.newPlot(                        \"12348e39-8d21-4241-9702-93e11b0fb7f3\",                        [{\"hovertemplate\":\"variable=0\\u003cbr\\u003eindex=%{x}\\u003cbr\\u003evalue=%{y}\\u003cextra\\u003e\\u003c\\u002fextra\\u003e\",\"legendgroup\":\"0\",\"line\":{\"color\":\"#636efa\",\"dash\":\"solid\"},\"marker\":{\"symbol\":\"circle\"},\"mode\":\"lines\",\"name\":\"0\",\"showlegend\":true,\"x\":[0,1,2,3,4,5,6,7,8,9,10,11,12,13,14,15,16,17,18,19,20,21,22,23,24,25,26,27,28,29,30,31,32,33,34,35,36,37,38,39,40,41,42,43,44,45,46,47,48,49,50,51,52,53,54,55,56,57,58,59,60,61,62,63,64,65,66,67,68,69,70,71,72,73,74,75,76,77,78,79,80,81,82,83,84,85,86,87,88,89,90,91,92,93,94,95,96,97,98,99,100,101,102,103,104,105,106,107,108,109,110,111,112,113,114,115,116,117,118,119,120,121,122,123,124,125,126,127,128,129,130,131,132,133,134,135,136,137,138,139,140,141,142,143,144,145,146,147,148,149,150,151,152,153,154,155,156,157,158,159,160,161,162,163,164,165,166,167,168,169,170,171,172,173,174,175,176,177,178,179,180,181,182,183,184,185,186,187,188,189,190,191,192,193,194,195,196,197,198,199,200,201,202,203,204,205,206,207,208,209,210,211,212,213,214,215,216,217,218,219,220,221,222,223,224,225,226,227,228,229,230,231,232,233,234,235,236,237,238,239,240,241,242,243,244,245,246,247,248,249,250,251,252,253,254,255,256,257,258,259,260,261,262,263,264,265,266,267,268,269,270,271,272,273,274,275,276,277,278,279,280,281,282,283,284,285,286,287,288,289,290,291,292,293,294,295,296,297,298,299,300,301,302,303,304,305,306,307,308,309,310,311,312,313,314,315,316,317,318,319,320,321,322,323,324,325,326,327,328,329,330,331,332,333,334,335,336,337,338,339,340,341,342,343,344,345,346,347,348,349,350,351,352,353,354,355,356,357,358,359,360,361,362,363,364,365,366,367,368,369,370,371,372,373,374,375,376,377,378,379,380,381,382,383,384,385,386,387,388,389,390,391,392,393,394,395,396,397,398,399,400,401,402,403,404,405,406,407,408,409,410,411,412,413,414,415,416,417,418,419,420,421,422,423,424,425,426,427,428,429,430,431,432,433,434,435,436,437,438,439,440,441,442,443,444,445,446,447,448,449,450,451,452,453,454,455,456,457,458,459,460,461,462,463,464,465,466,467,468,469,470,471,472,473,474,475,476,477,478,479,480,481,482,483,484,485,486,487,488,489,490,491,492,493,494,495,496,497,498,499,500,501,502,503,504,505,506,507,508,509,510,511,512,513,514,515,516,517,518,519,520,521,522,523,524,525,526,527,528,529,530,531,532,533,534,535,536,537,538,539,540,541,542,543,544,545,546,547,548,549,550,551,552,553,554,555,556,557,558,559,560,561,562,563,564,565,566,567,568,569,570,571,572,573,574,575,576,577,578,579,580,581,582,583,584,585,586,587,588,589,590,591,592,593,594,595,596,597,598,599,600,601,602,603,604,605,606,607,608,609,610,611,612,613,614,615,616,617,618,619,620,621,622,623,624,625,626,627,628,629,630,631,632,633,634,635,636,637,638,639,640,641,642,643,644,645,646,647,648,649,650,651,652,653,654,655,656,657,658,659,660,661,662,663,664,665,666,667,668,669,670,671,672,673,674,675,676,677,678,679,680,681,682,683,684,685,686,687,688,689,690,691,692,693,694,695,696,697,698,699,700,701,702,703,704,705,706,707,708,709,710,711,712,713,714,715,716,717,718,719,720,721,722,723,724,725,726,727,728,729,730,731,732,733,734,735,736,737,738,739,740,741,742,743,744,745,746,747,748,749,750,751,752,753,754,755,756,757,758,759,760,761,762,763,764,765,766,767,768,769,770,771,772,773,774,775,776,777,778,779,780,781,782,783,784,785,786,787,788,789,790,791,792,793,794,795,796,797,798,799,800,801,802,803,804,805,806,807,808,809,810,811,812,813,814,815,816,817,818,819,820,821,822,823,824,825,826,827,828,829,830,831,832,833,834,835,836,837,838,839,840,841,842,843,844,845,846,847,848,849,850,851,852,853,854,855,856,857,858,859,860,861,862,863,864,865,866,867,868,869,870,871,872,873,874,875,876,877,878,879,880,881,882,883,884,885,886,887,888,889,890,891,892,893,894,895,896,897,898,899,900,901,902,903,904,905,906,907,908,909,910,911,912,913,914,915,916,917,918,919,920,921,922,923,924,925,926,927,928,929,930,931,932,933,934,935,936,937,938,939,940,941,942,943,944,945,946,947,948,949,950,951,952,953,954,955,956,957,958,959,960,961,962,963,964,965,966,967,968,969,970,971,972,973,974,975,976,977,978,979,980,981,982,983,984,985,986,987,988,989,990,991,992,993,994,995,996,997,998,999,1000,1001,1002,1003,1004,1005,1006,1007,1008,1009,1010,1011,1012,1013,1014,1015,1016,1017,1018,1019,1020,1021,1022,1023,1024,1025,1026,1027,1028,1029,1030,1031,1032,1033,1034,1035,1036,1037,1038,1039,1040,1041,1042,1043,1044,1045,1046,1047,1048,1049,1050,1051,1052,1053,1054,1055,1056,1057,1058,1059,1060,1061,1062,1063,1064,1065,1066,1067,1068,1069,1070,1071,1072,1073,1074,1075,1076,1077,1078,1079,1080,1081,1082,1083,1084,1085,1086,1087,1088,1089,1090,1091,1092,1093,1094,1095,1096,1097,1098,1099,1100,1101,1102,1103,1104,1105,1106,1107,1108,1109,1110,1111,1112,1113,1114,1115,1116,1117,1118,1119,1120,1121,1122,1123,1124,1125,1126,1127,1128,1129,1130,1131,1132,1133,1134,1135,1136,1137,1138,1139,1140,1141,1142,1143,1144,1145,1146,1147,1148,1149,1150,1151,1152,1153,1154,1155,1156,1157,1158,1159,1160,1161,1162,1163,1164,1165,1166,1167,1168,1169,1170,1171,1172,1173,1174,1175,1176,1177,1178,1179,1180,1181,1182,1183,1184,1185,1186,1187,1188,1189,1190,1191,1192,1193,1194,1195,1196,1197,1198,1199,1200,1201,1202,1203,1204,1205,1206,1207,1208,1209,1210,1211,1212,1213,1214,1215,1216,1217,1218,1219,1220,1221,1222,1223,1224,1225,1226,1227,1228,1229,1230,1231,1232,1233,1234,1235,1236,1237,1238,1239,1240,1241,1242,1243,1244,1245,1246,1247,1248,1249,1250,1251,1252,1253,1254,1255,1256,1257,1258,1259,1260,1261,1262,1263,1264,1265,1266,1267,1268,1269,1270,1271,1272,1273,1274,1275,1276,1277,1278,1279,1280,1281,1282,1283,1284,1285,1286,1287,1288,1289,1290,1291,1292,1293,1294,1295,1296,1297,1298,1299,1300,1301,1302,1303,1304,1305,1306,1307,1308,1309,1310,1311,1312,1313,1314,1315,1316,1317,1318,1319,1320,1321,1322,1323,1324,1325,1326,1327,1328,1329,1330,1331,1332,1333,1334,1335,1336,1337,1338,1339,1340,1341,1342,1343,1344,1345,1346,1347,1348,1349,1350,1351,1352,1353,1354,1355,1356,1357,1358,1359,1360,1361,1362,1363,1364,1365,1366,1367,1368,1369,1370,1371,1372,1373,1374,1375,1376,1377,1378,1379,1380,1381,1382,1383,1384,1385,1386,1387,1388,1389,1390,1391,1392,1393,1394,1395,1396,1397,1398,1399,1400,1401,1402,1403,1404,1405,1406,1407,1408,1409,1410,1411,1412,1413,1414,1415,1416,1417,1418,1419,1420,1421,1422,1423,1424,1425,1426,1427,1428,1429,1430,1431,1432,1433,1434,1435,1436,1437,1438,1439,1440,1441,1442,1443,1444,1445,1446,1447,1448,1449,1450,1451,1452,1453,1454,1455,1456,1457,1458,1459,1460,1461,1462,1463,1464,1465,1466,1467,1468,1469,1470,1471,1472,1473,1474,1475,1476,1477,1478,1479,1480,1481,1482,1483,1484,1485,1486,1487,1488,1489,1490,1491,1492,1493,1494,1495,1496,1497,1498,1499,1500,1501,1502,1503,1504,1505,1506,1507,1508,1509,1510,1511,1512,1513,1514,1515,1516,1517,1518,1519,1520,1521,1522,1523,1524,1525,1526,1527,1528,1529,1530,1531,1532,1533,1534,1535,1536,1537,1538,1539,1540,1541,1542,1543,1544,1545,1546,1547,1548,1549,1550,1551,1552,1553,1554,1555,1556,1557,1558,1559,1560,1561,1562,1563,1564,1565,1566,1567,1568,1569,1570,1571,1572,1573,1574,1575,1576,1577,1578,1579,1580,1581,1582,1583,1584,1585,1586,1587,1588,1589,1590,1591,1592,1593,1594,1595,1596,1597,1598,1599,1600,1601,1602,1603,1604,1605,1606,1607,1608,1609,1610,1611,1612,1613,1614,1615,1616,1617,1618,1619,1620,1621,1622,1623,1624,1625,1626,1627,1628,1629,1630,1631,1632,1633,1634,1635,1636,1637,1638,1639,1640,1641,1642,1643,1644,1645,1646,1647,1648,1649,1650,1651,1652,1653,1654,1655,1656,1657,1658,1659,1660,1661,1662,1663,1664,1665,1666,1667,1668,1669,1670,1671,1672,1673,1674,1675,1676,1677,1678,1679,1680,1681,1682,1683,1684,1685,1686,1687,1688,1689,1690,1691,1692,1693,1694,1695,1696,1697,1698,1699,1700,1701,1702,1703,1704,1705,1706,1707,1708,1709,1710,1711,1712,1713,1714,1715,1716,1717,1718,1719,1720,1721,1722,1723,1724,1725,1726,1727,1728,1729,1730,1731,1732,1733,1734,1735,1736,1737,1738,1739,1740,1741,1742,1743,1744,1745,1746,1747,1748,1749,1750,1751,1752,1753,1754,1755,1756,1757,1758,1759,1760,1761,1762,1763,1764,1765,1766,1767,1768,1769,1770,1771,1772,1773,1774,1775,1776,1777,1778,1779,1780,1781,1782,1783,1784,1785,1786,1787,1788,1789,1790,1791,1792,1793,1794,1795,1796,1797,1798,1799,1800,1801,1802,1803,1804,1805,1806,1807,1808,1809,1810,1811,1812,1813,1814,1815,1816,1817,1818,1819,1820,1821,1822,1823,1824,1825,1826,1827,1828,1829,1830,1831,1832,1833,1834,1835,1836,1837,1838,1839,1840,1841,1842,1843,1844,1845,1846,1847,1848,1849,1850,1851,1852,1853,1854,1855,1856,1857,1858,1859,1860,1861,1862,1863,1864,1865,1866,1867,1868,1869,1870,1871,1872,1873,1874,1875,1876,1877,1878,1879,1880,1881,1882,1883,1884,1885,1886,1887,1888,1889,1890,1891,1892,1893,1894,1895,1896,1897,1898,1899,1900,1901,1902,1903,1904,1905,1906,1907,1908,1909,1910,1911,1912,1913,1914,1915,1916,1917,1918,1919,1920,1921,1922,1923,1924,1925,1926,1927,1928,1929,1930,1931,1932,1933,1934,1935,1936,1937,1938,1939,1940,1941,1942,1943,1944,1945,1946,1947,1948,1949,1950,1951,1952,1953,1954,1955,1956,1957,1958,1959,1960,1961,1962,1963,1964,1965,1966,1967,1968,1969,1970,1971,1972,1973,1974,1975,1976,1977,1978,1979,1980,1981,1982,1983,1984,1985,1986,1987,1988,1989,1990,1991,1992,1993,1994,1995,1996,1997,1998,1999,2000,2001,2002,2003,2004,2005,2006,2007,2008,2009,2010,2011,2012,2013,2014,2015,2016,2017,2018,2019,2020,2021,2022,2023,2024,2025,2026,2027,2028,2029,2030,2031,2032,2033,2034,2035,2036,2037,2038,2039,2040,2041,2042,2043,2044,2045,2046,2047],\"xaxis\":\"x\",\"y\":[-0.6539350152015686,-0.3543744385242462,-0.2314191609621048,-0.17952698469161987,-0.17632204294204712,-0.16674627363681793,-0.15891052782535553,-0.15072181820869446,-0.1309216022491455,-0.1281154751777649,-0.12551948428153992,-0.12048539519309998,-0.11143653839826584,-0.10960903018712997,-0.10607753694057465,-0.10379321128129959,-0.09119608253240585,-0.09021080285310745,-0.08770956099033356,-0.0867757499217987,-0.08600003272294998,-0.08545845001935959,-0.08515728265047073,-0.08096082508563995,-0.07564204931259155,-0.0752260684967041,-0.07514768838882446,-0.07509804517030716,-0.07465057075023651,-0.07421860843896866,-0.0718652531504631,-0.06933104991912842,-0.06835188716650009,-0.06792469322681427,-0.06712140142917633,-0.06673862040042877,-0.06537710130214691,-0.06426837295293808,-0.0637359619140625,-0.06287028640508652,-0.06205863878130913,-0.06200248748064041,-0.06120838597416878,-0.05938689783215523,-0.05875515937805176,-0.05775173753499985,-0.05677080154418945,-0.05629415810108185,-0.05627356097102165,-0.05608855187892914,-0.05299486219882965,-0.05059785768389702,-0.05037212744355202,-0.05029015615582466,-0.049658939242362976,-0.0478629395365715,-0.04751034080982208,-0.04524337872862816,-0.044290922582149506,-0.04403308779001236,-0.042517565190792084,-0.04230981320142746,-0.042285021394491196,-0.042255010455846786,-0.042250972241163254,-0.041957125067710876,-0.0409683883190155,-0.04006177559494972,-0.039490506052970886,-0.03931272402405739,-0.039250947535037994,-0.038281939923763275,-0.03806371986865997,-0.037901245057582855,-0.03712073341012001,-0.03683264181017876,-0.03680376708507538,-0.03557950630784035,-0.0354701466858387,-0.035324402153491974,-0.03518475219607353,-0.03487665206193924,-0.0328550711274147,-0.032804034650325775,-0.03262355923652649,-0.03251247480511665,-0.03244110941886902,-0.03221164643764496,-0.03218257427215576,-0.032135650515556335,-0.031942762434482574,-0.031861960887908936,-0.03181735426187515,-0.03179148584604263,-0.0317566804587841,-0.031643759459257126,-0.03153834491968155,-0.030962370336055756,-0.030795445665717125,-0.030397629365324974,-0.030190469697117805,-0.029780514538288116,-0.029778437688946724,-0.0295366570353508,-0.029182005673646927,-0.02912072464823723,-0.029081879183650017,-0.02885606698691845,-0.028121327981352806,-0.027157874777913094,-0.026817943900823593,-0.02675587125122547,-0.026155853644013405,-0.02605007216334343,-0.025926118716597557,-0.02584182284772396,-0.025714581832289696,-0.025513717904686928,-0.024849262088537216,-0.024495242163538933,-0.024379106238484383,-0.02408522367477417,-0.023846836760640144,-0.02319861389696598,-0.023080144077539444,-0.023046962916851044,-0.022847067564725876,-0.022837743163108826,-0.02278311736881733,-0.02261672541499138,-0.022441184148192406,-0.02241511084139347,-0.021933598443865776,-0.02166704833507538,-0.02125266008079052,-0.021059880033135414,-0.020930597558617592,-0.02077087201178074,-0.020550576969981194,-0.02045002207159996,-0.020442085340619087,-0.02039998769760132,-0.020383663475513458,-0.020239055156707764,-0.019886579364538193,-0.01961406320333481,-0.019580624997615814,-0.01945967599749565,-0.019346613436937332,-0.019277360290288925,-0.01909014582633972,-0.01892358623445034,-0.018874546512961388,-0.01887202262878418,-0.01856088452041149,-0.01854543387889862,-0.018325461074709892,-0.018283940851688385,-0.01785839907824993,-0.017828863114118576,-0.017708027735352516,-0.017621701583266258,-0.017484653741121292,-0.017027070745825768,-0.01694098487496376,-0.016807321459054947,-0.016719436272978783,-0.016483576968312263,-0.016477560624480247,-0.016438432037830353,-0.016343094408512115,-0.01618766598403454,-0.01615176349878311,-0.015899039804935455,-0.015898818150162697,-0.015591590665280819,-0.015325820073485374,-0.015266627073287964,-0.015093943104147911,-0.015003936365246773,-0.014897862449288368,-0.014753133058547974,-0.014693430624902248,-0.014650258235633373,-0.014489460736513138,-0.014203255996108055,-0.014042798429727554,-0.013800951652228832,-0.013692893087863922,-0.013614706695079803,-0.013566591776907444,-0.01356418151408434,-0.013419103808701038,-0.013408119790256023,-0.013369012624025345,-0.013298673555254936,-0.013191765174269676,-0.01319071650505066,-0.01302417553961277,-0.012983568012714386,-0.01274346373975277,-0.012609923258423805,-0.012564395554363728,-0.012485198676586151,-0.012423958629369736,-0.012325248681008816,-0.012227061204612255,-0.012215091846883297,-0.012166318483650684,-0.012028967961668968,-0.011929926462471485,-0.011905393563210964,-0.011658484116196632,-0.011483930051326752,-0.011442543007433414,-0.011386117897927761,-0.011300371028482914,-0.011250248178839684,-0.011150269769132137,-0.011126924306154251,-0.01095552183687687,-0.010919176042079926,-0.010902250185608864,-0.010821450501680374,-0.010785401798784733,-0.010740548372268677,-0.010611791163682938,-0.01056700013577938,-0.010547683574259281,-0.010468450374901295,-0.010448826476931572,-0.010428857989609241,-0.010393419302999973,-0.010294711217284203,-0.010052037425339222,-0.010029962286353111,-0.009998657740652561,-0.009972505271434784,-0.009963074699044228,-0.009705104865133762,-0.009498711675405502,-0.009426715783774853,-0.009382106363773346,-0.009273821488022804,-0.009273353964090347,-0.009259841404855251,-0.009245913475751877,-0.009229671210050583,-0.009072243236005306,-0.00901196151971817,-0.008866754360496998,-0.008835659362375736,-0.00876290537416935,-0.00872738379985094,-0.008725594729185104,-0.008671894669532776,-0.008627462200820446,-0.008607271127402782,-0.008484807796776295,-0.008470365777611732,-0.008409343659877777,-0.008353142999112606,-0.008307541720569134,-0.008264344185590744,-0.008196452632546425,-0.008120698854327202,-0.008098957128822803,-0.008073639124631882,-0.008028474636375904,-0.008010827004909515,-0.007983825169503689,-0.007978981360793114,-0.00793213490396738,-0.007887201383709908,-0.00783813651651144,-0.007752054836601019,-0.007742119021713734,-0.007718699984252453,-0.007678026333451271,-0.007664041593670845,-0.007628375198692083,-0.0076142181642353535,-0.007601786870509386,-0.007556385826319456,-0.007549829315394163,-0.007524506654590368,-0.007472722325474024,-0.007389843463897705,-0.0073700156062841415,-0.007368404883891344,-0.007306358776986599,-0.007215410470962524,-0.0072111040353775024,-0.00712329987436533,-0.0070416731759905815,-0.007039778400212526,-0.007012543268501759,-0.006994768511503935,-0.006969138979911804,-0.006963163148611784,-0.00695775868371129,-0.006875496357679367,-0.006873655132949352,-0.0068440367467701435,-0.006834480911493301,-0.006785545498132706,-0.006772646680474281,-0.006733692716807127,-0.0067070890218019485,-0.006637693848460913,-0.006605671718716621,-0.006580932065844536,-0.006559864152222872,-0.00655053835362196,-0.006543335970491171,-0.0065411971881985664,-0.006535123568028212,-0.006463400088250637,-0.006450958084315062,-0.006426549982279539,-0.006415426265448332,-0.006387491710484028,-0.006361054256558418,-0.006334926001727581,-0.006331280339509249,-0.006328319199383259,-0.006224506068974733,-0.006182608660310507,-0.006168876774609089,-0.0061547099612653255,-0.006137330550700426,-0.0061108507215976715,-0.006107517518103123,-0.006097597070038319,-0.006081906612962484,-0.006080506835132837,-0.006074386183172464,-0.006055296864360571,-0.006022422108799219,-0.006019637454301119,-0.0060068583115935326,-0.006003742106258869,-0.005930064711719751,-0.005853558890521526,-0.005838718265295029,-0.005813990719616413,-0.005789539776742458,-0.005733771715313196,-0.005719861947000027,-0.005671246442943811,-0.005660551600158215,-0.005634631961584091,-0.005632870830595493,-0.00562228262424469,-0.0055532390251755714,-0.005526082590222359,-0.005489932373166084,-0.00547066330909729,-0.005461214575916529,-0.005436556413769722,-0.005423464812338352,-0.005393190309405327,-0.005341827403753996,-0.005294855684041977,-0.005252376664429903,-0.005235601682215929,-0.005210427101701498,-0.005190702620893717,-0.005128409713506699,-0.005115908570587635,-0.005097911227494478,-0.0050878701731562614,-0.005070498213171959,-0.005067968275398016,-0.0050478363409638405,-0.004997823387384415,-0.004966814070940018,-0.004938410595059395,-0.004927851725369692,-0.0049135880544781685,-0.0049129375256598,-0.0048904079012572765,-0.00484982505440712,-0.004808912985026836,-0.004762845113873482,-0.004723432473838329,-0.004718542564660311,-0.0047144233249127865,-0.0047124032862484455,-0.0046999226324260235,-0.004697420634329319,-0.0046768574975430965,-0.0046363938599824905,-0.004626648500561714,-0.004565788432955742,-0.00456284498795867,-0.0045103831216692924,-0.004472249653190374,-0.004460514057427645,-0.004449369851499796,-0.004444694612175226,-0.004301391541957855,-0.004261167254298925,-0.004244443029165268,-0.0042372639290988445,-0.004236989188939333,-0.004230826627463102,-0.004218392539769411,-0.004136246629059315,-0.004134512040764093,-0.004116605967283249,-0.004015323240309954,-0.004014804493635893,-0.004012789577245712,-0.003981831017881632,-0.003980608657002449,-0.003965688869357109,-0.0039565120823681355,-0.003943825606256723,-0.003916435409337282,-0.003867562161758542,-0.003859078511595726,-0.0038412788417190313,-0.003839078824967146,-0.003817519638687372,-0.00381491775624454,-0.003807713743299246,-0.003772691125050187,-0.0037611634470522404,-0.003754307981580496,-0.0037523892242461443,-0.0037505454383790493,-0.0037224278785288334,-0.0037181235384196043,-0.0037135756574571133,-0.0037093618884682655,-0.0036998020950704813,-0.003681059693917632,-0.0036551461089402437,-0.003619411261752248,-0.003613110398873687,-0.0036068076733499765,-0.0035626711323857307,-0.0035433494485914707,-0.003534839488565922,-0.003459010738879442,-0.003454738762229681,-0.003454071469604969,-0.0034236516803503036,-0.003414842765778303,-0.0033997418358922005,-0.0033844816498458385,-0.003380222013220191,-0.003344131400808692,-0.0032923645339906216,-0.0032843819353729486,-0.003281103912740946,-0.0032690814696252346,-0.0032625366002321243,-0.0032600141130387783,-0.0032501358073204756,-0.0032303801272064447,-0.0031945807859301567,-0.003189884126186371,-0.003186881309375167,-0.0031784167513251305,-0.003148843301460147,-0.003147408366203308,-0.003144297981634736,-0.0031341027934104204,-0.003108130069449544,-0.0031014634296298027,-0.003095676191151142,-0.0030873343348503113,-0.0030816637445241213,-0.0030753801111131907,-0.0030172932893037796,-0.003012938192114234,-0.0029960977844893932,-0.002978160046041012,-0.002973427064716816,-0.002967918524518609,-0.00296765542589128,-0.0029597794637084007,-0.0029556674417108297,-0.0029336235020309687,-0.0029205933678895235,-0.002892882563173771,-0.0028905493672937155,-0.002882251050323248,-0.002881463151425123,-0.0028541283681988716,-0.0028429804369807243,-0.002838768996298313,-0.0028175171464681625,-0.0028067815583199263,-0.0027838475070893764,-0.002769152168184519,-0.00276457192376256,-0.002758554182946682,-0.0027241427451372147,-0.002722783014178276,-0.002714150818064809,-0.0027097619604319334,-0.002681516343727708,-0.002664358587935567,-0.002661727136000991,-0.002618629951030016,-0.0025839421432465315,-0.0025701841805130243,-0.0025694251526147127,-0.002542125293985009,-0.0025400370359420776,-0.0025346099864691496,-0.002533895894885063,-0.0025161246303468943,-0.002487601712346077,-0.0024854172952473164,-0.0024533956311643124,-0.002448886865749955,-0.0024441450368613005,-0.002419722033664584,-0.0024088695645332336,-0.0024021759163588285,-0.002379297511652112,-0.0023707584477961063,-0.002358692232519388,-0.0023514158092439175,-0.0023501263931393623,-0.0023369749542325735,-0.002334826858714223,-0.002331197028979659,-0.002318896120414138,-0.002314517740160227,-0.0023071165196597576,-0.0023042752873152494,-0.002298548584803939,-0.0022720324341207743,-0.002269512275233865,-0.0022694009821861982,-0.0022657904773950577,-0.002258162247017026,-0.002246147720143199,-0.00224549463018775,-0.0022239694371819496,-0.0022189905866980553,-0.0022050656843930483,-0.0021974591072648764,-0.002193900989368558,-0.002193487947806716,-0.0021858075633645058,-0.00218056607991457,-0.0021520452573895454,-0.002134249545633793,-0.0021237353794276714,-0.0020985519513487816,-0.002095004078000784,-0.0020945679862052202,-0.00209078099578619,-0.00208780518732965,-0.002083799336105585,-0.002062878105789423,-0.0020582168363034725,-0.0020439880900084972,-0.0020418602507561445,-0.0020266666542738676,-0.0020258610602468252,-0.0020156982354819775,-0.0019729677587747574,-0.0019677123054862022,-0.0019624826963990927,-0.001958535285666585,-0.0019457838498055935,-0.0019451400730758905,-0.00193630694411695,-0.0019318520789965987,-0.0019308519549667835,-0.0019267448224127293,-0.001925522112287581,-0.001903019961901009,-0.001890781568363309,-0.0018816306255757809,-0.001865782425738871,-0.0018411405617371202,-0.0018278154311701655,-0.0018275172915309668,-0.0017899855738505721,-0.0017868608701974154,-0.0017824345268309116,-0.0017714346759021282,-0.0017661993624642491,-0.0017640370642766356,-0.0017564138397574425,-0.0017479982925578952,-0.0017479604575783014,-0.0017428440041840076,-0.001740920590236783,-0.001734685618430376,-0.001728295348584652,-0.0017079630633816123,-0.0017079469980672002,-0.0017049598973244429,-0.001694782404229045,-0.0016940197674557567,-0.0016864812932908535,-0.0016709580086171627,-0.0016530491411685944,-0.0016353398095816374,-0.0016323563177138567,-0.0016275165835395455,-0.0016155897174030542,-0.001612963853403926,-0.0016052875434979796,-0.001595730776898563,-0.0015870375791564584,-0.0015865631867200136,-0.0015841034473851323,-0.001576351118274033,-0.0015739804366603494,-0.0015639009652659297,-0.0015372303314507008,-0.001536780851893127,-0.0015241492073982954,-0.0015148116508498788,-0.0015009265625849366,-0.0014909084420651197,-0.0014889297308400273,-0.0014782032230868936,-0.0014718511374667287,-0.0014342475915327668,-0.0014335139421746135,-0.0014330126577988267,-0.001432012883014977,-0.0014315503649413586,-0.0014191869413480163,-0.0014163244049996138,-0.0014151084469631314,-0.0013939276104792953,-0.0013926110696047544,-0.0013862198684364557,-0.0013770529767498374,-0.0013631220208480954,-0.0013504596427083015,-0.0013433098793029785,-0.0013398579321801662,-0.0013364112237468362,-0.0013337910640984774,-0.0013252634089440107,-0.0013212767662480474,-0.0013207471929490566,-0.0013138032518327236,-0.0013028214452788234,-0.0012945845955982804,-0.001294002286158502,-0.0012937162537127733,-0.0012934437254443765,-0.0012868180638179183,-0.0012859804555773735,-0.001274425652809441,-0.0012595867738127708,-0.0012417602119967341,-0.0012397191021591425,-0.0012245698599144816,-0.0012217869516462088,-0.001218546531163156,-0.0012122406624257565,-0.0012108070077374578,-0.001210771151818335,-0.001208602567203343,-0.0011969748884439468,-0.0011913332855328918,-0.0011881230166181922,-0.0011744180228561163,-0.001171186100691557,-0.00116565206553787,-0.0011478185188025236,-0.0011472365586087108,-0.001145324669778347,-0.0011431558523327112,-0.0011409381404519081,-0.0011273656273260713,-0.0011146359611302614,-0.0011020450619980693,-0.0011007690336555243,-0.0010952068259939551,-0.0010876222513616085,-0.0010865693911910057,-0.0010847669327631593,-0.0010680826380848885,-0.0010580099187791348,-0.0010453234426677227,-0.0010433568386361003,-0.0010429673129692674,-0.0010423135245218873,-0.0010328200878575444,-0.0010172799229621887,-0.001016463851556182,-0.0010142334504052997,-0.0010128107387572527,-0.0010066104587167501,-0.0009957035072147846,-0.0009851200738921762,-0.0009794000070542097,-0.0009718992514535785,-0.0009678596979938447,-0.0009587809909135103,-0.0009583923383615911,-0.0009554261923767626,-0.0009482982568442822,-0.0009361966513097286,-0.0009331080364063382,-0.0009320676908828318,-0.0009317068033851683,-0.0009278383222408593,-0.0009234206518158317,-0.0009154286235570908,-0.0009153821156360209,-0.0009148317039944232,-0.0009081496391445398,-0.000893779331818223,-0.0008780184434726834,-0.000877488637343049,-0.0008762572542764246,-0.0008746287203393877,-0.0008722448837943375,-0.0008706615190021694,-0.0008705842774361372,-0.000864393194206059,-0.0008477842202410102,-0.0008436632924713194,-0.0008414727635681629,-0.0008324176887981594,-0.0008294518920592964,-0.0008281171903945506,-0.0008236431167460978,-0.0008218863513320684,-0.0008205475751310587,-0.0008189372601918876,-0.0008086649468168616,-0.0008023682166822255,-0.0007975404732860625,-0.0007931056898087263,-0.0007855463773012161,-0.0007844691863283515,-0.0007760479347780347,-0.0007746231276541948,-0.0007732051890343428,-0.0007645189762115479,-0.0007515603792853653,-0.0007493586163036525,-0.0007453834405168891,-0.0007429734687320888,-0.0007421803311444819,-0.0007293136441148818,-0.0007158427615649998,-0.0007119313813745975,-0.0007105767144821584,-0.0007035594899207354,-0.0006748747546225786,-0.000670095207169652,-0.0006610964192077518,-0.0006569910328835249,-0.0006459277356043458,-0.0006397626711986959,-0.0006327105802483857,-0.0006305932183749974,-0.0006199917406775057,-0.0006121925543993711,-0.0006094117998145521,-0.0006059652077965438,-0.0006019470165483654,-0.0005932360654696822,-0.0005914507200941443,-0.0005911631160415709,-0.000590745301451534,-0.000588532246183604,-0.000588226190302521,-0.0005767902475781739,-0.0005755950696766376,-0.0005650977836921811,-0.000563696725293994,-0.0005596055998466909,-0.0005461639957502484,-0.0005310446140356362,-0.000521504960488528,-0.0005209048977121711,-0.00051771046128124,-0.0005091250059194863,-0.0005074231303296983,-0.0005017077783122659,-0.00049059116281569,-0.00048707411042414606,-0.0004861523339059204,-0.0004835058643948287,-0.00048329494893550873,-0.0004827681987080723,-0.0004818736051674932,-0.000481347378809005,-0.00047696830006316304,-0.0004757495189551264,-0.00047461665235459805,-0.0004728956555482,-0.0004702642618212849,-0.00046612106962129474,-0.00046345056034624577,-0.0004521945957094431,-0.0004503773816395551,-0.0004463212098926306,-0.0004330440715420991,-0.00043271578033454716,-0.00042978563578799367,-0.00042342962115071714,-0.0004225184675306082,-0.0004182577249594033,-0.0004177708178758621,-0.00041436380706727505,-0.00041393638821318746,-0.0004126221756450832,-0.00040584139060229063,-0.00040513978456147015,-0.0003966657677665353,-0.00039575545815750957,-0.0003950761165469885,-0.0003928729274775833,-0.0003890792140737176,-0.00038420147029682994,-0.00036731845466420054,-0.00036297188489697874,-0.00036147466744296253,-0.0003609546402003616,-0.0003584109363146126,-0.0003568948886822909,-0.000354632647940889,-0.0003540690231602639,-0.00035390385892242193,-0.00035188026959076524,-0.0003497826401144266,-0.00034712531487457454,-0.00034434080589562654,-0.0003432899829931557,-0.00033579044975340366,-0.00033078566775657237,-0.00032926068524830043,-0.00032515748171135783,-0.00031950019183568656,-0.00031905173091217875,-0.0003181463398505002,-0.0003163843648508191,-0.00031553610460832715,-0.00031306876917369664,-0.00030728004639968276,-0.0003027913044206798,-0.0002991976507473737,-0.0002957330725621432,-0.0002919981488958001,-0.00028895854484289885,-0.0002832187747117132,-0.00028305037994869053,-0.00028249630122445524,-0.0002804475952871144,-0.00027832225896418095,-0.0002752950822468847,-0.00027068809140473604,-0.00026684245676733553,-0.000263604597421363,-0.00026079840608872473,-0.0002607670321594924,-0.00024344392295461148,-0.0002430859167361632,-0.00023108437017071992,-0.00022674001229461282,-0.0002230603276984766,-0.00022240064572542906,-0.00022153228928800672,-0.00021924659085925668,-0.0002171134256059304,-0.00021697074407711625,-0.0002149131178157404,-0.0002148388302884996,-0.00019953667651861906,-0.00019935153250116855,-0.00019533783779479563,-0.0001936435728566721,-0.00019107125990558416,-0.00018973357509821653,-0.0001892079453682527,-0.00018656998872756958,-0.00018595509754959494,-0.00018538064614403993,-0.00018238350457977504,-0.00018178403843194246,-0.0001814828865462914,-0.00018038757843896747,-0.0001781667087925598,-0.00017684392514638603,-0.00017515913350507617,-0.00017172127263620496,-0.00017140455020125955,-0.0001709534990368411,-0.00016846858488861471,-0.00015550135867670178,-0.00015348389570135623,-0.0001532888418296352,-0.00015147560043260455,-0.00015093259571585804,-0.0001506431435700506,-0.0001494288444519043,-0.00014736295270267874,-0.0001473087031627074,-0.0001455084275221452,-0.0001446465466869995,-0.00014306203229352832,-0.00014183245366439223,-0.00013546877016779035,-0.0001330300437984988,-0.00013130017032381147,-0.00012857354886364192,-0.00012852862710133195,-0.00012233688903506845,-0.000119352487672586,-0.00011932328197872266,-0.00011355362948961556,-0.00011286810331512243,-0.00011252499825786799,-0.00011202826863154769,-0.00011141061986563727,-0.00010914981248788536,-0.00010862834460567683,-0.0001086179181584157,-0.00010740637662820518,-0.0001066879922291264,-0.00010165192361455411,-9.86172235570848e-05,-9.633161243982613e-05,-9.356394730275497e-05,-9.122900519287214e-05,-9.09346344997175e-05,-9.077161666937172e-05,-8.67388371261768e-05,-8.369937859242782e-05,-8.324310329044238e-05,-7.858649041736498e-05,-7.436275336658582e-05,-7.385775097645819e-05,-7.252507202792913e-05,-7.075280154822394e-05,-7.052048749756068e-05,-6.869711069157347e-05,-6.699808000121266e-05,-6.626926187891513e-05,-6.145812221802771e-05,-6.138436583569273e-05,-5.625374615192413e-05,-5.5098236771300435e-05,-5.390554724726826e-05,-4.8789381253300235e-05,-4.582226392813027e-05,-4.538155917543918e-05,-3.952719271183014e-05,-3.948777884943411e-05,-3.7338657421059906e-05,-3.7253947084536776e-05,-3.703333277371712e-05,-3.4445674828020856e-05,-3.3036023523891345e-05,-3.2101048418553546e-05,-3.185503010172397e-05,-3.159180414513685e-05,-2.8451531761675142e-05,-2.659007986949291e-05,-2.5209188606822863e-05,-2.3852884623920545e-05,-2.3686290660407394e-05,-2.2224039639695548e-05,-2.165801743103657e-05,-2.0436047634575516e-05,-1.9265115042799152e-05,-1.8920227375929244e-05,-1.5873461961746216e-05,-1.577921284479089e-05,-1.5412048014695756e-05,-1.4503374586638529e-05,-1.440495270799147e-05,-1.2114048331568483e-05,-1.1022612852684688e-05,-1.0634288628352806e-05,-1.045301542035304e-05,-9.073391993297264e-06,-5.122274160385132e-06,-3.7407874060590984e-06,-3.696307430800516e-06,-3.217756784579251e-06,-3.0466169391729636e-06,-2.94536357614561e-06,-1.74239278294408e-06,-8.607655672676628e-07,-7.441639695571212e-07,-5.885958742624098e-08,3.814697180359872e-08,2.7507544473337475e-06,3.0019134555914206e-06,4.462748620426282e-06,5.807503839605488e-06,6.25498614681419e-06,7.127076514734654e-06,1.0176449904975016e-05,1.03386491900892e-05,1.0546371413511224e-05,1.057162899087416e-05,1.1960491974605247e-05,1.2118890481360722e-05,1.3160482012608554e-05,1.3668015526491217e-05,1.5034526768431533e-05,1.6037598470575176e-05,1.7985999875236303e-05,1.875586895039305e-05,1.9764825992751867e-05,1.9929631889681332e-05,2.031259282375686e-05,2.2190437448443845e-05,2.303682231286075e-05,2.386078267591074e-05,2.4471431970596313e-05,2.4700910216779448e-05,2.532161852286663e-05,2.78623410849832e-05,3.0985622288426384e-05,3.1811818189453334e-05,3.297872899565846e-05,3.376081440364942e-05,3.479271981632337e-05,3.619156632339582e-05,3.8758069422328845e-05,4.2796953493962064e-05,4.2912961362162605e-05,4.3045507482020184e-05,4.355311466497369e-05,4.4216438254807144e-05,4.453532528714277e-05,4.612647171597928e-05,4.91388127557002e-05,4.916116449749097e-05,4.9724578275345266e-05,5.023188714403659e-05,5.0494447350502014e-05,5.526348832063377e-05,5.725085793528706e-05,5.898363815504126e-05,6.265908450586721e-05,6.416469841497019e-05,6.574541475856677e-05,6.930820381967351e-05,6.931096140760928e-05,6.971984839765355e-05,7.081307558109984e-05,7.150262536015362e-05,7.170572644099593e-05,7.314368849620223e-05,7.341705349972472e-05,7.364176417468116e-05,7.479495980078354e-05,7.567324064439163e-05,7.746301707811654e-05,7.78845715103671e-05,8.017875370569527e-05,8.033595804590732e-05,8.121006248984486e-05,8.148685446940362e-05,8.223525946959853e-05,8.314602018799633e-05,8.383080421481282e-05,8.410870941588655e-05,8.625946793472394e-05,8.803210948826745e-05,8.955903467722237e-05,9.14840420591645e-05,9.163715003523976e-05,9.320616663899273e-05,0.00010128549911314622,0.0001039222624967806,0.00010582574032014236,0.00010593116167001426,0.00010846286750165746,0.00011317797179799527,0.00011943727440666407,0.00012021601287415251,0.00012230873107910156,0.00012426331522874534,0.0001311033993260935,0.0001352190156467259,0.00013531959848478436,0.0001361431204713881,0.00014141089923214167,0.00014170094800647348,0.00014731072587892413,0.0001505649124737829,0.00015545017959084362,0.00015592366980854422,0.00015799805987626314,0.00016152851458173245,0.00016159750521183014,0.0001645125448703766,0.0001651077764108777,0.00016537703049834818,0.0001665847812546417,0.00016797632270026952,0.00016817338473629206,0.00017160148127004504,0.00017242274770978838,0.00017424508405383676,0.00017441272211726755,0.00017693795962259173,0.00017736494191922247,0.00018097192514687777,0.0001826433144742623,0.00018306382116861641,0.00018308452854398638,0.00018372938211541623,0.00018715464102569968,0.00018996454309672117,0.00019799292203970253,0.00020068504090886563,0.0002011204487644136,0.0002036997611867264,0.00020400136418174952,0.00020695835701189935,0.00021164066856727004,0.00021307535644154996,0.00021333344921004027,0.00021678827761206776,0.00021683976228814572,0.00022170878946781158,0.0002232332481071353,0.00022477470338344574,0.00023128249449655414,0.00023395918833557516,0.00023401655198540539,0.0002350608992855996,0.00023641518782824278,0.00023786790552549064,0.00023902900284156203,0.00024094275431707501,0.00024315215705428272,0.0002487522433511913,0.00025082693900913,0.0002561400178819895,0.00025742858997546136,0.00026406519464217126,0.0002671119582373649,0.00026906401035375893,0.0002708696702029556,0.0002729867410380393,0.000275175494607538,0.0002786011900752783,0.00028432896942831576,0.00028644612757489085,0.00029171386267989874,0.00029299475136213005,0.0002960311539936811,0.0003050034574698657,0.0003100842295680195,0.0003109835088253021,0.0003113257116638124,0.0003121218760497868,0.0003168975526932627,0.0003172470605932176,0.0003191252762917429,0.0003221438964828849,0.000329540460370481,0.0003304199199192226,0.000335146498400718,0.0003353214997332543,0.000347264256561175,0.00034918173332698643,0.00035056076012551785,0.00035150363692082465,0.00035724593908526003,0.00036008693859912455,0.0003626295074354857,0.0003627321857493371,0.00037186354165896773,0.0003808230103459209,0.000380916811991483,0.0003863060555886477,0.00039995566476136446,0.00040331832133233547,0.0004036295285914093,0.00040745563455857337,0.0004145504499319941,0.0004198963870294392,0.0004217772220727056,0.0004230199847370386,0.00042643508641049266,0.0004314285470172763,0.000432541681220755,0.00043336584349162877,0.00043700067908503115,0.0004381606122478843,0.0004405918007250875,0.00046354703954420984,0.0004648334579542279,0.00046718507655896246,0.0004696735122706741,0.0004764370678458363,0.0004889978445135057,0.0004935599863529205,0.0004947158158756793,0.0004956459742970765,0.0004976359778083861,0.0004998134099878371,0.0005005808197893202,0.0005033075576648116,0.0005045101861469448,0.0005119738052599132,0.0005143915768712759,0.000516561500262469,0.000520876666996628,0.0005226325010880828,0.0005250106914900243,0.0005334785673767328,0.0005343205411918461,0.0005352920270524919,0.0005434505874291062,0.0005544025334529579,0.0005547644686885178,0.000576197577174753,0.0005766947288066149,0.0005828594439662993,0.000587444519624114,0.0005983628798276186,0.0006006112671457231,0.0006161464843899012,0.0006169097614474595,0.0006175515009090304,0.0006205556564964354,0.0006357732927426696,0.0006487026694230735,0.0006578849861398339,0.0006592958234250546,0.000659770448692143,0.0006667862180620432,0.0006750046741217375,0.0006868093623779714,0.000687318155542016,0.0006912630633451045,0.0006982332561165094,0.0006983898347243667,0.0006995249423198402,0.000702384568285197,0.0007130332523956895,0.0007133177132345736,0.0007153959013521671,0.0007200383115559816,0.000728024635463953,0.0007403825293295085,0.000745337747503072,0.0007469542906619608,0.0007622520788572729,0.0007643712451681495,0.000766856363043189,0.000778030080255121,0.000792425824329257,0.0007949508726596832,0.0007992875762283802,0.0008085872395895422,0.0008190104854293168,0.0008242350886575878,0.0008344230591319501,0.0008432753384113312,0.0008619914879091084,0.0008740528719499707,0.0008741712663322687,0.0008911755867302418,0.0008914055651985109,0.0008974327938631177,0.0009072432876564562,0.0009091150132007897,0.0009111615363508463,0.000916292134206742,0.000918800535146147,0.0009281948441639543,0.0009300541714765131,0.0009391290950588882,0.0009395944071002305,0.0009468254284001887,0.0009487715433351696,0.0009563227067701519,0.0009654491441324353,0.0009659843053668737,0.0009725631680339575,0.0009757102816365659,0.0009850235655903816,0.0009885020554065704,0.0009930519154295325,0.0010007015662267804,0.0010186628205701709,0.001026170328259468,0.0010334529215469956,0.001048498204909265,0.0010545002296566963,0.0010599562665447593,0.0010605615098029375,0.0010624085552990437,0.0010665536392480135,0.0010690983617678285,0.0010724789462983608,0.0010749748907983303,0.0010783191537484527,0.0010834680870175362,0.0010863810312002897,0.0010867009405046701,0.001086941920220852,0.0010941679356619716,0.0011017145588994026,0.001105066854506731,0.001107713091187179,0.0011095618829131126,0.0011115948436781764,0.00111206469591707,0.0011141315335407853,0.0011208322830498219,0.0011286631925031543,0.001130116288550198,0.0011344157392159104,0.0011356004979461432,0.0011501505505293608,0.0011543069267645478,0.0011599139543250203,0.0011606537736952305,0.0011725500226020813,0.0011909460881724954,0.0012050285004079342,0.0012064616894349456,0.001209235517308116,0.001213572802953422,0.001216780161485076,0.0012248960556462407,0.001225936459377408,0.001234694616869092,0.0012426559114828706,0.0012674900935962796,0.0012728701112791896,0.001279032789170742,0.0012812971835955977,0.0012841139687225223,0.0012909723445773125,0.0013034460134804249,0.0013081011129543185,0.0013115789042785764,0.0013147484278306365,0.0013185606803745031,0.0013278907863423228,0.0013319947756826878,0.001336765242740512,0.0013414823915809393,0.0013511255383491516,0.0013542115921154618,0.0013604852138087153,0.0013683197321370244,0.0013749744975939393,0.0013774362159892917,0.0013795766280964017,0.0013808069052174687,0.0013927093241363764,0.0013950372813269496,0.0014084556605666876,0.0014173516537994146,0.0014178240671753883,0.001444788882508874,0.0014486100990325212,0.0014581324066966772,0.0014664236223325133,0.001504801562987268,0.0015054690884426236,0.0015166363446041942,0.0015181575436145067,0.0015228480333462358,0.0015262216329574585,0.0015278405044227839,0.0015297338832169771,0.0015458229463547468,0.0015527685172855854,0.0015728219877928495,0.0015845203306525946,0.0015900232829153538,0.0015958684962242842,0.0016104108653962612,0.0016510487766936421,0.0016609900631010532,0.0016619181260466576,0.0016701491549611092,0.0016792231472209096,0.0016995291225612164,0.0017018786165863276,0.001714164623990655,0.0017250843811780214,0.0017361368518322706,0.0017375909956172109,0.001748570241034031,0.001763947308063507,0.001781034516170621,0.001789378235116601,0.0018119008745998144,0.0018237652257084846,0.0018303857650607824,0.001836735405959189,0.0018389278557151556,0.001841184450313449,0.0018485230393707752,0.0018528628861531615,0.0018545883940532804,0.001869669882580638,0.0018700027139857411,0.001873082248494029,0.0018753733020275831,0.0018845760496333241,0.0018980533350259066,0.001898578368127346,0.0019015503348782659,0.0019026580266654491,0.0019284849986433983,0.0019522138172760606,0.0019852416589856148,0.0019889476243406534,0.002003501635044813,0.0020042089745402336,0.002008571522310376,0.002009224845096469,0.0020109922625124454,0.0020369330886751413,0.0020469236187636852,0.0020539455581456423,0.002062808256596327,0.0020765585359185934,0.0020782114006578922,0.0020957665983587503,0.0020999026019126177,0.00210564024746418,0.0021058828569948673,0.00212138332426548,0.002155555412173271,0.0021562930196523666,0.0021663689985871315,0.0021729159634560347,0.002185859251767397,0.002193060703575611,0.0021931419614702463,0.0021936146076768637,0.0021960511803627014,0.0021998616866767406,0.002206035889685154,0.0022158476058393717,0.0022274672519415617,0.0022277350071817636,0.0022451127879321575,0.0022471698466688395,0.0022563927341252565,0.002260750625282526,0.0022735826205462217,0.002275019185617566,0.0022768962662667036,0.0022786611225456,0.0022862236946821213,0.0022901028860360384,0.0022907524835318327,0.002299295971170068,0.002301656873896718,0.002305004047229886,0.002312085125595331,0.0023217687848955393,0.0023363016080111265,0.0023368936963379383,0.002337545854970813,0.002360437996685505,0.002376931719481945,0.0023808765690773726,0.0023945760913193226,0.0023986748419702053,0.002401920035481453,0.0024196624290198088,0.0024222664069384336,0.002459137700498104,0.0024669794365763664,0.0024802053812891245,0.0024818971287459135,0.0024925607722252607,0.002507642609998584,0.0025132501032203436,0.002517156070098281,0.002521352143958211,0.0025859461165964603,0.002604125766083598,0.0026104373391717672,0.0026174888480454683,0.0026177740655839443,0.0026331329718232155,0.002642696490511298,0.002652666764333844,0.0026723952032625675,0.002685012761503458,0.002686202758923173,0.002690415596589446,0.0026983441784977913,0.002707911655306816,0.0027419349644333124,0.0027501177974045277,0.0027558133006095886,0.0027642392087727785,0.0027647626120597124,0.0027649379335343838,0.0027728891000151634,0.002775439526885748,0.0027922303415834904,0.0027925469912588596,0.002818998647853732,0.0028229046147316694,0.00282369670458138,0.0028288939502090216,0.0028570699505507946,0.00286133517511189,0.0028633743058890104,0.0028722805436700583,0.002895509824156761,0.002904873574152589,0.0029049161821603775,0.002910538809373975,0.0029234844259917736,0.002928711473941803,0.002932078205049038,0.0029451155569404364,0.0029797384049743414,0.0029934013728052378,0.0030028747860342264,0.0030190041288733482,0.003021414391696453,0.003055632347241044,0.003072791500017047,0.0030775838531553745,0.0030825927387923002,0.0031020937021821737,0.0031379302963614464,0.003150178585201502,0.003151937387883663,0.00318206287920475,0.0032200259156525135,0.003239014185965061,0.0032534857746213675,0.0032642800360918045,0.003269343636929989,0.003280877135694027,0.00329374591819942,0.0033086154144257307,0.003323093056678772,0.0033345012925565243,0.0033542378805577755,0.003388813929632306,0.0033922407310456038,0.003396671963855624,0.003404773771762848,0.0034138893242925406,0.003448034171015024,0.003466167487204075,0.0035012387670576572,0.00352053577080369,0.0035312282852828503,0.0035558694507926702,0.0035641854628920555,0.0035720081068575382,0.003601569216698408,0.003606946673244238,0.0036075266543775797,0.0036155045963823795,0.003620627336204052,0.0036689424887299538,0.0036834662314504385,0.00373916351236403,0.0037555808667093515,0.0037878318689763546,0.0038021879736334085,0.0038373100105673075,0.003866498824208975,0.003941537346690893,0.004001600202172995,0.004007826559245586,0.004008271731436253,0.004039689898490906,0.004063681233674288,0.004064283799380064,0.0041398778557777405,0.004144953563809395,0.0041645001620054245,0.004167668055742979,0.004190422128885984,0.004237821325659752,0.004284556023776531,0.004291391000151634,0.004316690377891064,0.0043325601145625114,0.004334914498031139,0.004350027069449425,0.0043565365485847,0.00446875998750329,0.004486549645662308,0.004499382339417934,0.0045677125453948975,0.004581103101372719,0.004585455637425184,0.0046153892762959,0.004663701169192791,0.004663853906095028,0.004690812900662422,0.004804527387022972,0.00480677979066968,0.004840843379497528,0.00485489796847105,0.004859779961407185,0.004865311551839113,0.004876533057540655,0.004924537148326635,0.004933502525091171,0.004972698166966438,0.004985591862350702,0.00503080477938056,0.0050550829619169235,0.0051044500432908535,0.005154874175786972,0.005169708747416735,0.005191005300730467,0.005209596361964941,0.005210583098232746,0.00521516939625144,0.005242651794105768,0.005340542644262314,0.005377535708248615,0.005382909905165434,0.00540867680683732,0.005475854966789484,0.00553462840616703,0.005535615608096123,0.005562463775277138,0.005589259788393974,0.005599258933216333,0.005602740682661533,0.005607464350759983,0.00565306656062603,0.005693412851542234,0.005702717695385218,0.005732182413339615,0.005766835063695908,0.005808230489492416,0.005861314479261637,0.005906289909034967,0.005926250014454126,0.0059374053962528706,0.0059675779193639755,0.006046016234904528,0.006066895555704832,0.00608390336856246,0.006085618864744902,0.006095420103520155,0.006132614798843861,0.006191471125930548,0.006205467041581869,0.006238745525479317,0.006242035422474146,0.006253465544432402,0.006259737070649862,0.006262379698455334,0.00639787083491683,0.006422657985240221,0.0064279246143996716,0.006489661987870932,0.006504368968307972,0.00653497688472271,0.006540181580930948,0.0065648662857711315,0.006630260962992907,0.006649692077189684,0.006665579043328762,0.006694464478641748,0.006719410419464111,0.006742394063621759,0.006746941711753607,0.00675645237788558,0.006780130788683891,0.006917958147823811,0.006962790619581938,0.006969969719648361,0.006982982158660889,0.006997203920036554,0.0070058368146419525,0.007090715225785971,0.007095974870026112,0.007113021798431873,0.007141923997551203,0.007170623634010553,0.007210907991975546,0.007212933152914047,0.0072412570007145405,0.007252125535160303,0.0072877719067037106,0.007324105594307184,0.007353870663791895,0.007373771630227566,0.007386248093098402,0.0074141789227724075,0.0074647702276706696,0.007499236613512039,0.007514780852943659,0.007531628478318453,0.007533376105129719,0.007535065524280071,0.007562611252069473,0.007572092581540346,0.007593106012791395,0.007608077488839626,0.007623530458658934,0.007712261751294136,0.007746564224362373,0.00780781963840127,0.0078892782330513,0.007893727160990238,0.007907685823738575,0.007947558537125587,0.008023453876376152,0.008047036826610565,0.008092655800282955,0.008110690861940384,0.008166303858160973,0.008364708162844181,0.00837411917746067,0.008412828668951988,0.008429071865975857,0.00844823569059372,0.008450988680124283,0.008515405468642712,0.008540280163288116,0.008544018492102623,0.008657876402139664,0.008661535568535328,0.008693276904523373,0.008775150403380394,0.008824826218187809,0.008830104023218155,0.008922194130718708,0.008942613378167152,0.00898005161434412,0.009085777215659618,0.009226086549460888,0.00923545565456152,0.009241808205842972,0.009251950308680534,0.009272448718547821,0.009324201382696629,0.009415808133780956,0.009423145093023777,0.009464162401854992,0.009480693377554417,0.009524966590106487,0.009538162499666214,0.009591523557901382,0.009602528996765614,0.009835752658545971,0.009920144453644753,0.009946215897798538,0.00996535737067461,0.009998309426009655,0.010134202428162098,0.010174722410738468,0.010276932269334793,0.010325911454856396,0.010345998220145702,0.010461907833814621,0.01046545896679163,0.010522771626710892,0.010567029938101768,0.010670286603271961,0.010736119002103806,0.010772260837256908,0.010817527770996094,0.010836533270776272,0.010988780297338963,0.01103739533573389,0.011051054112613201,0.011133968830108643,0.01118612289428711,0.011198512278497219,0.011227170005440712,0.011228244751691818,0.011390946805477142,0.011463501490652561,0.011541006155312061,0.011545831337571144,0.011563580483198166,0.011573833413422108,0.011627685278654099,0.011721648275852203,0.011737070977687836,0.011765509843826294,0.011829899623990059,0.011915512382984161,0.011954136192798615,0.012015242129564285,0.012054852209985256,0.012307727709412575,0.012422317638993263,0.01245900895446539,0.012587501667439938,0.012690730392932892,0.012719482183456421,0.012772145681083202,0.012823177501559258,0.01284726057201624,0.012885412201285362,0.0129016088321805,0.012924584560096264,0.012927494011819363,0.012949342839419842,0.013047394342720509,0.013146634213626385,0.013290529139339924,0.01340300403535366,0.013408617116510868,0.013533580116927624,0.01357296947389841,0.01375442836433649,0.013862180523574352,0.01390041783452034,0.01391851156949997,0.01393975131213665,0.014018671587109566,0.014053326100111008,0.014159005135297775,0.014245547354221344,0.014277969487011433,0.014453322626650333,0.014482331462204456,0.014500778168439865,0.014619272202253342,0.014687159098684788,0.014810430817306042,0.014887822791934013,0.014893455430865288,0.014907930977642536,0.014930511824786663,0.015149977058172226,0.015218621119856834,0.015316060744225979,0.015444290824234486,0.016030507162213326,0.01608564704656601,0.0160896684974432,0.016155632212758064,0.016155725345015526,0.01653829962015152,0.01656767725944519,0.016634391620755196,0.016651760786771774,0.01721029542386532,0.017274463549256325,0.017310243099927902,0.017339972779154778,0.017477143555879593,0.017539003863930702,0.01772676594555378,0.017731936648488045,0.017779003828763962,0.017793359234929085,0.018154967576265335,0.018292931839823723,0.018380947411060333,0.018542999401688576,0.018839292228221893,0.018886759877204895,0.018909690901637077,0.018919140100479126,0.018930381163954735,0.01907753385603428,0.019229356199502945,0.01941889338195324,0.019729163497686386,0.019754305481910706,0.019767262041568756,0.01979905553162098,0.019827593117952347,0.019881047308444977,0.020055703818798065,0.02021675556898117,0.020705904811620712,0.020752232521772385,0.020796440541744232,0.020825112238526344,0.021515559405088425,0.02153874933719635,0.02207169681787491,0.022117216140031815,0.022304188460111618,0.022482940927147865,0.022902721539139748,0.022918011993169785,0.023026371374726295,0.023193612694740295,0.023329146206378937,0.023482605814933777,0.02410813793540001,0.024725522845983505,0.024762308225035667,0.02492719702422619,0.024953363463282585,0.024987196549773216,0.025016743689775467,0.02512751892209053,0.02556971088051796,0.02559955045580864,0.025874564424157143,0.025945689529180527,0.026213472709059715,0.026309389621019363,0.026623930782079697,0.026675043627619743,0.026942050084471703,0.027237670496106148,0.028339652344584465,0.028378374874591827,0.028623776510357857,0.028641916811466217,0.029061121866106987,0.0293866153806448,0.029714329168200493,0.029966926202178,0.030116552487015724,0.03045160509645939,0.03084055334329605,0.030847392976284027,0.03105711191892624,0.03119000419974327,0.03166934847831726,0.03194044902920723,0.03206510469317436,0.0321778804063797,0.03243444114923477,0.03256246820092201,0.03281993046402931,0.03351413831114769,0.03406208008527756,0.03424430266022682,0.034614093601703644,0.034836601465940475,0.03504406288266182,0.035557325929403305,0.035717763006687164,0.03609907254576683,0.03624485060572624,0.03634762391448021,0.03646174073219299,0.03703499585390091,0.03732650354504585,0.03772251307964325,0.037809763103723526,0.038173750042915344,0.03862181305885315,0.04025895521044731,0.04143960401415825,0.042187247425317764,0.04236656799912453,0.043667856603860855,0.043730564415454865,0.044659532606601715,0.04584020748734474,0.04618007689714432,0.04621764272451401,0.04643995314836502,0.046635951846838,0.046756476163864136,0.0477721206843853,0.04841814935207367,0.048423729836940765,0.04860014095902443,0.04872611165046692,0.0493193045258522,0.04942335933446884,0.04949629679322243,0.04980887845158577,0.050345662981271744,0.05052376165986061,0.05070766806602478,0.05197547748684883,0.05244745314121246,0.05395907908678055,0.05450025200843811,0.05463077500462532,0.05648873373866081,0.05725912004709244,0.06058768928050995,0.06085363030433655,0.06174857169389725,0.06176993250846863,0.062081228941679,0.06264707446098328,0.06543517857789993,0.06799781322479248,0.06815708428621292,0.06861189752817154,0.07027718424797058,0.07236133515834808,0.07289934903383255,0.07383900880813599,0.07420968264341354,0.07576810568571091,0.076195627450943,0.07731550931930542,0.07776018977165222,0.07846890389919281,0.08631160855293274,0.08674154430627823,0.08696078509092331,0.08868872374296188,0.09067078679800034,0.09308041632175446,0.09434479475021362,0.09470374882221222,0.0965798944234848,0.09669327735900879,0.09823684394359589,0.0988156870007515,0.10104623436927795,0.1014406755566597,0.10165048390626907,0.10747648030519485,0.11107995361089706,0.11680219322443008,0.12015450745820999,0.12620887160301208,0.127020463347435,0.12865205109119415,0.13769522309303284,0.13952746987342834,0.15441656112670898,0.15609359741210938,0.15675488114356995,0.17809337377548218,0.18159142136573792,0.18899475038051605,0.19082292914390564,0.2085496187210083,0.2323579043149948,0.25509461760520935],\"yaxis\":\"y\",\"type\":\"scattergl\"}],                        {\"template\":{\"data\":{\"histogram2dcontour\":[{\"type\":\"histogram2dcontour\",\"colorbar\":{\"outlinewidth\":0,\"ticks\":\"\"},\"colorscale\":[[0.0,\"#0d0887\"],[0.1111111111111111,\"#46039f\"],[0.2222222222222222,\"#7201a8\"],[0.3333333333333333,\"#9c179e\"],[0.4444444444444444,\"#bd3786\"],[0.5555555555555556,\"#d8576b\"],[0.6666666666666666,\"#ed7953\"],[0.7777777777777778,\"#fb9f3a\"],[0.8888888888888888,\"#fdca26\"],[1.0,\"#f0f921\"]]}],\"choropleth\":[{\"type\":\"choropleth\",\"colorbar\":{\"outlinewidth\":0,\"ticks\":\"\"}}],\"histogram2d\":[{\"type\":\"histogram2d\",\"colorbar\":{\"outlinewidth\":0,\"ticks\":\"\"},\"colorscale\":[[0.0,\"#0d0887\"],[0.1111111111111111,\"#46039f\"],[0.2222222222222222,\"#7201a8\"],[0.3333333333333333,\"#9c179e\"],[0.4444444444444444,\"#bd3786\"],[0.5555555555555556,\"#d8576b\"],[0.6666666666666666,\"#ed7953\"],[0.7777777777777778,\"#fb9f3a\"],[0.8888888888888888,\"#fdca26\"],[1.0,\"#f0f921\"]]}],\"heatmap\":[{\"type\":\"heatmap\",\"colorbar\":{\"outlinewidth\":0,\"ticks\":\"\"},\"colorscale\":[[0.0,\"#0d0887\"],[0.1111111111111111,\"#46039f\"],[0.2222222222222222,\"#7201a8\"],[0.3333333333333333,\"#9c179e\"],[0.4444444444444444,\"#bd3786\"],[0.5555555555555556,\"#d8576b\"],[0.6666666666666666,\"#ed7953\"],[0.7777777777777778,\"#fb9f3a\"],[0.8888888888888888,\"#fdca26\"],[1.0,\"#f0f921\"]]}],\"heatmapgl\":[{\"type\":\"heatmapgl\",\"colorbar\":{\"outlinewidth\":0,\"ticks\":\"\"},\"colorscale\":[[0.0,\"#0d0887\"],[0.1111111111111111,\"#46039f\"],[0.2222222222222222,\"#7201a8\"],[0.3333333333333333,\"#9c179e\"],[0.4444444444444444,\"#bd3786\"],[0.5555555555555556,\"#d8576b\"],[0.6666666666666666,\"#ed7953\"],[0.7777777777777778,\"#fb9f3a\"],[0.8888888888888888,\"#fdca26\"],[1.0,\"#f0f921\"]]}],\"contourcarpet\":[{\"type\":\"contourcarpet\",\"colorbar\":{\"outlinewidth\":0,\"ticks\":\"\"}}],\"contour\":[{\"type\":\"contour\",\"colorbar\":{\"outlinewidth\":0,\"ticks\":\"\"},\"colorscale\":[[0.0,\"#0d0887\"],[0.1111111111111111,\"#46039f\"],[0.2222222222222222,\"#7201a8\"],[0.3333333333333333,\"#9c179e\"],[0.4444444444444444,\"#bd3786\"],[0.5555555555555556,\"#d8576b\"],[0.6666666666666666,\"#ed7953\"],[0.7777777777777778,\"#fb9f3a\"],[0.8888888888888888,\"#fdca26\"],[1.0,\"#f0f921\"]]}],\"surface\":[{\"type\":\"surface\",\"colorbar\":{\"outlinewidth\":0,\"ticks\":\"\"},\"colorscale\":[[0.0,\"#0d0887\"],[0.1111111111111111,\"#46039f\"],[0.2222222222222222,\"#7201a8\"],[0.3333333333333333,\"#9c179e\"],[0.4444444444444444,\"#bd3786\"],[0.5555555555555556,\"#d8576b\"],[0.6666666666666666,\"#ed7953\"],[0.7777777777777778,\"#fb9f3a\"],[0.8888888888888888,\"#fdca26\"],[1.0,\"#f0f921\"]]}],\"mesh3d\":[{\"type\":\"mesh3d\",\"colorbar\":{\"outlinewidth\":0,\"ticks\":\"\"}}],\"scatter\":[{\"fillpattern\":{\"fillmode\":\"overlay\",\"size\":10,\"solidity\":0.2},\"type\":\"scatter\"}],\"parcoords\":[{\"type\":\"parcoords\",\"line\":{\"colorbar\":{\"outlinewidth\":0,\"ticks\":\"\"}}}],\"scatterpolargl\":[{\"type\":\"scatterpolargl\",\"marker\":{\"colorbar\":{\"outlinewidth\":0,\"ticks\":\"\"}}}],\"bar\":[{\"error_x\":{\"color\":\"#2a3f5f\"},\"error_y\":{\"color\":\"#2a3f5f\"},\"marker\":{\"line\":{\"color\":\"#E5ECF6\",\"width\":0.5},\"pattern\":{\"fillmode\":\"overlay\",\"size\":10,\"solidity\":0.2}},\"type\":\"bar\"}],\"scattergeo\":[{\"type\":\"scattergeo\",\"marker\":{\"colorbar\":{\"outlinewidth\":0,\"ticks\":\"\"}}}],\"scatterpolar\":[{\"type\":\"scatterpolar\",\"marker\":{\"colorbar\":{\"outlinewidth\":0,\"ticks\":\"\"}}}],\"histogram\":[{\"marker\":{\"pattern\":{\"fillmode\":\"overlay\",\"size\":10,\"solidity\":0.2}},\"type\":\"histogram\"}],\"scattergl\":[{\"type\":\"scattergl\",\"marker\":{\"colorbar\":{\"outlinewidth\":0,\"ticks\":\"\"}}}],\"scatter3d\":[{\"type\":\"scatter3d\",\"line\":{\"colorbar\":{\"outlinewidth\":0,\"ticks\":\"\"}},\"marker\":{\"colorbar\":{\"outlinewidth\":0,\"ticks\":\"\"}}}],\"scattermapbox\":[{\"type\":\"scattermapbox\",\"marker\":{\"colorbar\":{\"outlinewidth\":0,\"ticks\":\"\"}}}],\"scatterternary\":[{\"type\":\"scatterternary\",\"marker\":{\"colorbar\":{\"outlinewidth\":0,\"ticks\":\"\"}}}],\"scattercarpet\":[{\"type\":\"scattercarpet\",\"marker\":{\"colorbar\":{\"outlinewidth\":0,\"ticks\":\"\"}}}],\"carpet\":[{\"aaxis\":{\"endlinecolor\":\"#2a3f5f\",\"gridcolor\":\"white\",\"linecolor\":\"white\",\"minorgridcolor\":\"white\",\"startlinecolor\":\"#2a3f5f\"},\"baxis\":{\"endlinecolor\":\"#2a3f5f\",\"gridcolor\":\"white\",\"linecolor\":\"white\",\"minorgridcolor\":\"white\",\"startlinecolor\":\"#2a3f5f\"},\"type\":\"carpet\"}],\"table\":[{\"cells\":{\"fill\":{\"color\":\"#EBF0F8\"},\"line\":{\"color\":\"white\"}},\"header\":{\"fill\":{\"color\":\"#C8D4E3\"},\"line\":{\"color\":\"white\"}},\"type\":\"table\"}],\"barpolar\":[{\"marker\":{\"line\":{\"color\":\"#E5ECF6\",\"width\":0.5},\"pattern\":{\"fillmode\":\"overlay\",\"size\":10,\"solidity\":0.2}},\"type\":\"barpolar\"}],\"pie\":[{\"automargin\":true,\"type\":\"pie\"}]},\"layout\":{\"autotypenumbers\":\"strict\",\"colorway\":[\"#636efa\",\"#EF553B\",\"#00cc96\",\"#ab63fa\",\"#FFA15A\",\"#19d3f3\",\"#FF6692\",\"#B6E880\",\"#FF97FF\",\"#FECB52\"],\"font\":{\"color\":\"#2a3f5f\"},\"hovermode\":\"closest\",\"hoverlabel\":{\"align\":\"left\"},\"paper_bgcolor\":\"white\",\"plot_bgcolor\":\"#E5ECF6\",\"polar\":{\"bgcolor\":\"#E5ECF6\",\"angularaxis\":{\"gridcolor\":\"white\",\"linecolor\":\"white\",\"ticks\":\"\"},\"radialaxis\":{\"gridcolor\":\"white\",\"linecolor\":\"white\",\"ticks\":\"\"}},\"ternary\":{\"bgcolor\":\"#E5ECF6\",\"aaxis\":{\"gridcolor\":\"white\",\"linecolor\":\"white\",\"ticks\":\"\"},\"baxis\":{\"gridcolor\":\"white\",\"linecolor\":\"white\",\"ticks\":\"\"},\"caxis\":{\"gridcolor\":\"white\",\"linecolor\":\"white\",\"ticks\":\"\"}},\"coloraxis\":{\"colorbar\":{\"outlinewidth\":0,\"ticks\":\"\"}},\"colorscale\":{\"sequential\":[[0.0,\"#0d0887\"],[0.1111111111111111,\"#46039f\"],[0.2222222222222222,\"#7201a8\"],[0.3333333333333333,\"#9c179e\"],[0.4444444444444444,\"#bd3786\"],[0.5555555555555556,\"#d8576b\"],[0.6666666666666666,\"#ed7953\"],[0.7777777777777778,\"#fb9f3a\"],[0.8888888888888888,\"#fdca26\"],[1.0,\"#f0f921\"]],\"sequentialminus\":[[0.0,\"#0d0887\"],[0.1111111111111111,\"#46039f\"],[0.2222222222222222,\"#7201a8\"],[0.3333333333333333,\"#9c179e\"],[0.4444444444444444,\"#bd3786\"],[0.5555555555555556,\"#d8576b\"],[0.6666666666666666,\"#ed7953\"],[0.7777777777777778,\"#fb9f3a\"],[0.8888888888888888,\"#fdca26\"],[1.0,\"#f0f921\"]],\"diverging\":[[0,\"#8e0152\"],[0.1,\"#c51b7d\"],[0.2,\"#de77ae\"],[0.3,\"#f1b6da\"],[0.4,\"#fde0ef\"],[0.5,\"#f7f7f7\"],[0.6,\"#e6f5d0\"],[0.7,\"#b8e186\"],[0.8,\"#7fbc41\"],[0.9,\"#4d9221\"],[1,\"#276419\"]]},\"xaxis\":{\"gridcolor\":\"white\",\"linecolor\":\"white\",\"ticks\":\"\",\"title\":{\"standoff\":15},\"zerolinecolor\":\"white\",\"automargin\":true,\"zerolinewidth\":2},\"yaxis\":{\"gridcolor\":\"white\",\"linecolor\":\"white\",\"ticks\":\"\",\"title\":{\"standoff\":15},\"zerolinecolor\":\"white\",\"automargin\":true,\"zerolinewidth\":2},\"scene\":{\"xaxis\":{\"backgroundcolor\":\"#E5ECF6\",\"gridcolor\":\"white\",\"linecolor\":\"white\",\"showbackground\":true,\"ticks\":\"\",\"zerolinecolor\":\"white\",\"gridwidth\":2},\"yaxis\":{\"backgroundcolor\":\"#E5ECF6\",\"gridcolor\":\"white\",\"linecolor\":\"white\",\"showbackground\":true,\"ticks\":\"\",\"zerolinecolor\":\"white\",\"gridwidth\":2},\"zaxis\":{\"backgroundcolor\":\"#E5ECF6\",\"gridcolor\":\"white\",\"linecolor\":\"white\",\"showbackground\":true,\"ticks\":\"\",\"zerolinecolor\":\"white\",\"gridwidth\":2}},\"shapedefaults\":{\"line\":{\"color\":\"#2a3f5f\"}},\"annotationdefaults\":{\"arrowcolor\":\"#2a3f5f\",\"arrowhead\":0,\"arrowwidth\":1},\"geo\":{\"bgcolor\":\"white\",\"landcolor\":\"#E5ECF6\",\"subunitcolor\":\"white\",\"showland\":true,\"showlakes\":true,\"lakecolor\":\"white\"},\"title\":{\"x\":0.05},\"mapbox\":{\"style\":\"light\"}}},\"xaxis\":{\"anchor\":\"y\",\"domain\":[0.0,1.0],\"title\":{\"text\":\"Sorted neurons\"}},\"yaxis\":{\"anchor\":\"x\",\"domain\":[0.0,1.0],\"title\":{\"text\":\"Loss change\"}},\"legend\":{\"title\":{\"text\":\"variable\"},\"tracegroupgap\":0},\"title\":{\"text\":\"Loss change from ablating MLP5 neuron\"},\"width\":800},                        {\"responsive\": true}                    ).then(function(){\n",
       "                            \n",
       "var gd = document.getElementById('12348e39-8d21-4241-9702-93e11b0fb7f3');\n",
       "var x = new MutationObserver(function (mutations, observer) {{\n",
       "        var display = window.getComputedStyle(gd).display;\n",
       "        if (!display || display === 'none') {{\n",
       "            console.log([gd, 'removed!']);\n",
       "            Plotly.purge(gd);\n",
       "            observer.disconnect();\n",
       "        }}\n",
       "}});\n",
       "\n",
       "// Listen for the removal of the full notebook cells\n",
       "var notebookContainer = gd.closest('#notebook-container');\n",
       "if (notebookContainer) {{\n",
       "    x.observe(notebookContainer, {childList: true});\n",
       "}}\n",
       "\n",
       "// Listen for the clearing of the current output cell\n",
       "var outputEl = gd.closest('.output');\n",
       "if (outputEl) {{\n",
       "    x.observe(outputEl, {childList: true});\n",
       "}}\n",
       "\n",
       "                        })                };                });            </script>        </div>"
      ]
     },
     "metadata": {},
     "output_type": "display_data"
    }
   ],
   "source": [
    "sorted_means, indices = torch.sort(diffs.mean(1))\n",
    "sorted_means = sorted_means.tolist()\n",
    "haystack_utils.line(sorted_means, xlabel=\"Sorted neurons\", ylabel=\"Loss change\", title=\"Loss change from ablating MLP5 neuron\") # xticks=indices"
   ]
  },
  {
   "cell_type": "code",
   "execution_count": null,
   "metadata": {},
   "outputs": [
    {
     "data": {
      "text/html": [
       "<div>                            <div id=\"24abb435-b970-444f-9089-45b2281497f7\" class=\"plotly-graph-div\" style=\"height:525px; width:1000px;\"></div>            <script type=\"text/javascript\">                require([\"plotly\"], function(Plotly) {                    window.PLOTLYENV=window.PLOTLYENV || {};                                    if (document.getElementById(\"24abb435-b970-444f-9089-45b2281497f7\")) {                    Plotly.newPlot(                        \"24abb435-b970-444f-9089-45b2281497f7\",                        [{\"error_y\":{\"array\":[1.5796411407387099],\"type\":\"data\",\"visible\":true},\"name\":\"Original\",\"x\":[\"Original\"],\"y\":[1.8671178275253624],\"type\":\"bar\"},{\"error_y\":{\"array\":[1.9305874319806635],\"type\":\"data\",\"visible\":true},\"name\":\"Ablated\",\"x\":[\"Ablated\"],\"y\":[4.065556567311287],\"type\":\"bar\"},{\"error_y\":{\"array\":[1.4247506321808328],\"type\":\"data\",\"visible\":true},\"name\":\"MLP5 path patched\",\"x\":[\"MLP5 path patched\"],\"y\":[2.4114769201725723],\"type\":\"bar\"},{\"error_y\":{\"array\":[1.885417585226035],\"type\":\"data\",\"visible\":true},\"name\":\"MLP5 path patched + Top 10 MLP5 neurons ablated\",\"x\":[\"Top MLP5 removed\"],\"y\":[4.5407815468311306],\"type\":\"bar\"},{\"error_y\":{\"array\":[0.6745553662406804],\"type\":\"data\",\"visible\":true},\"name\":\"MLP5 path patched + Bottom 10 MLP5 neurons ablated\",\"x\":[\"Bottom MLP5 removed\"],\"y\":[0.6260913782194257],\"type\":\"bar\"}],                        {\"template\":{\"data\":{\"histogram2dcontour\":[{\"type\":\"histogram2dcontour\",\"colorbar\":{\"outlinewidth\":0,\"ticks\":\"\"},\"colorscale\":[[0.0,\"#0d0887\"],[0.1111111111111111,\"#46039f\"],[0.2222222222222222,\"#7201a8\"],[0.3333333333333333,\"#9c179e\"],[0.4444444444444444,\"#bd3786\"],[0.5555555555555556,\"#d8576b\"],[0.6666666666666666,\"#ed7953\"],[0.7777777777777778,\"#fb9f3a\"],[0.8888888888888888,\"#fdca26\"],[1.0,\"#f0f921\"]]}],\"choropleth\":[{\"type\":\"choropleth\",\"colorbar\":{\"outlinewidth\":0,\"ticks\":\"\"}}],\"histogram2d\":[{\"type\":\"histogram2d\",\"colorbar\":{\"outlinewidth\":0,\"ticks\":\"\"},\"colorscale\":[[0.0,\"#0d0887\"],[0.1111111111111111,\"#46039f\"],[0.2222222222222222,\"#7201a8\"],[0.3333333333333333,\"#9c179e\"],[0.4444444444444444,\"#bd3786\"],[0.5555555555555556,\"#d8576b\"],[0.6666666666666666,\"#ed7953\"],[0.7777777777777778,\"#fb9f3a\"],[0.8888888888888888,\"#fdca26\"],[1.0,\"#f0f921\"]]}],\"heatmap\":[{\"type\":\"heatmap\",\"colorbar\":{\"outlinewidth\":0,\"ticks\":\"\"},\"colorscale\":[[0.0,\"#0d0887\"],[0.1111111111111111,\"#46039f\"],[0.2222222222222222,\"#7201a8\"],[0.3333333333333333,\"#9c179e\"],[0.4444444444444444,\"#bd3786\"],[0.5555555555555556,\"#d8576b\"],[0.6666666666666666,\"#ed7953\"],[0.7777777777777778,\"#fb9f3a\"],[0.8888888888888888,\"#fdca26\"],[1.0,\"#f0f921\"]]}],\"heatmapgl\":[{\"type\":\"heatmapgl\",\"colorbar\":{\"outlinewidth\":0,\"ticks\":\"\"},\"colorscale\":[[0.0,\"#0d0887\"],[0.1111111111111111,\"#46039f\"],[0.2222222222222222,\"#7201a8\"],[0.3333333333333333,\"#9c179e\"],[0.4444444444444444,\"#bd3786\"],[0.5555555555555556,\"#d8576b\"],[0.6666666666666666,\"#ed7953\"],[0.7777777777777778,\"#fb9f3a\"],[0.8888888888888888,\"#fdca26\"],[1.0,\"#f0f921\"]]}],\"contourcarpet\":[{\"type\":\"contourcarpet\",\"colorbar\":{\"outlinewidth\":0,\"ticks\":\"\"}}],\"contour\":[{\"type\":\"contour\",\"colorbar\":{\"outlinewidth\":0,\"ticks\":\"\"},\"colorscale\":[[0.0,\"#0d0887\"],[0.1111111111111111,\"#46039f\"],[0.2222222222222222,\"#7201a8\"],[0.3333333333333333,\"#9c179e\"],[0.4444444444444444,\"#bd3786\"],[0.5555555555555556,\"#d8576b\"],[0.6666666666666666,\"#ed7953\"],[0.7777777777777778,\"#fb9f3a\"],[0.8888888888888888,\"#fdca26\"],[1.0,\"#f0f921\"]]}],\"surface\":[{\"type\":\"surface\",\"colorbar\":{\"outlinewidth\":0,\"ticks\":\"\"},\"colorscale\":[[0.0,\"#0d0887\"],[0.1111111111111111,\"#46039f\"],[0.2222222222222222,\"#7201a8\"],[0.3333333333333333,\"#9c179e\"],[0.4444444444444444,\"#bd3786\"],[0.5555555555555556,\"#d8576b\"],[0.6666666666666666,\"#ed7953\"],[0.7777777777777778,\"#fb9f3a\"],[0.8888888888888888,\"#fdca26\"],[1.0,\"#f0f921\"]]}],\"mesh3d\":[{\"type\":\"mesh3d\",\"colorbar\":{\"outlinewidth\":0,\"ticks\":\"\"}}],\"scatter\":[{\"fillpattern\":{\"fillmode\":\"overlay\",\"size\":10,\"solidity\":0.2},\"type\":\"scatter\"}],\"parcoords\":[{\"type\":\"parcoords\",\"line\":{\"colorbar\":{\"outlinewidth\":0,\"ticks\":\"\"}}}],\"scatterpolargl\":[{\"type\":\"scatterpolargl\",\"marker\":{\"colorbar\":{\"outlinewidth\":0,\"ticks\":\"\"}}}],\"bar\":[{\"error_x\":{\"color\":\"#2a3f5f\"},\"error_y\":{\"color\":\"#2a3f5f\"},\"marker\":{\"line\":{\"color\":\"#E5ECF6\",\"width\":0.5},\"pattern\":{\"fillmode\":\"overlay\",\"size\":10,\"solidity\":0.2}},\"type\":\"bar\"}],\"scattergeo\":[{\"type\":\"scattergeo\",\"marker\":{\"colorbar\":{\"outlinewidth\":0,\"ticks\":\"\"}}}],\"scatterpolar\":[{\"type\":\"scatterpolar\",\"marker\":{\"colorbar\":{\"outlinewidth\":0,\"ticks\":\"\"}}}],\"histogram\":[{\"marker\":{\"pattern\":{\"fillmode\":\"overlay\",\"size\":10,\"solidity\":0.2}},\"type\":\"histogram\"}],\"scattergl\":[{\"type\":\"scattergl\",\"marker\":{\"colorbar\":{\"outlinewidth\":0,\"ticks\":\"\"}}}],\"scatter3d\":[{\"type\":\"scatter3d\",\"line\":{\"colorbar\":{\"outlinewidth\":0,\"ticks\":\"\"}},\"marker\":{\"colorbar\":{\"outlinewidth\":0,\"ticks\":\"\"}}}],\"scattermapbox\":[{\"type\":\"scattermapbox\",\"marker\":{\"colorbar\":{\"outlinewidth\":0,\"ticks\":\"\"}}}],\"scatterternary\":[{\"type\":\"scatterternary\",\"marker\":{\"colorbar\":{\"outlinewidth\":0,\"ticks\":\"\"}}}],\"scattercarpet\":[{\"type\":\"scattercarpet\",\"marker\":{\"colorbar\":{\"outlinewidth\":0,\"ticks\":\"\"}}}],\"carpet\":[{\"aaxis\":{\"endlinecolor\":\"#2a3f5f\",\"gridcolor\":\"white\",\"linecolor\":\"white\",\"minorgridcolor\":\"white\",\"startlinecolor\":\"#2a3f5f\"},\"baxis\":{\"endlinecolor\":\"#2a3f5f\",\"gridcolor\":\"white\",\"linecolor\":\"white\",\"minorgridcolor\":\"white\",\"startlinecolor\":\"#2a3f5f\"},\"type\":\"carpet\"}],\"table\":[{\"cells\":{\"fill\":{\"color\":\"#EBF0F8\"},\"line\":{\"color\":\"white\"}},\"header\":{\"fill\":{\"color\":\"#C8D4E3\"},\"line\":{\"color\":\"white\"}},\"type\":\"table\"}],\"barpolar\":[{\"marker\":{\"line\":{\"color\":\"#E5ECF6\",\"width\":0.5},\"pattern\":{\"fillmode\":\"overlay\",\"size\":10,\"solidity\":0.2}},\"type\":\"barpolar\"}],\"pie\":[{\"automargin\":true,\"type\":\"pie\"}]},\"layout\":{\"autotypenumbers\":\"strict\",\"colorway\":[\"#636efa\",\"#EF553B\",\"#00cc96\",\"#ab63fa\",\"#FFA15A\",\"#19d3f3\",\"#FF6692\",\"#B6E880\",\"#FF97FF\",\"#FECB52\"],\"font\":{\"color\":\"#2a3f5f\"},\"hovermode\":\"closest\",\"hoverlabel\":{\"align\":\"left\"},\"paper_bgcolor\":\"white\",\"plot_bgcolor\":\"#E5ECF6\",\"polar\":{\"bgcolor\":\"#E5ECF6\",\"angularaxis\":{\"gridcolor\":\"white\",\"linecolor\":\"white\",\"ticks\":\"\"},\"radialaxis\":{\"gridcolor\":\"white\",\"linecolor\":\"white\",\"ticks\":\"\"}},\"ternary\":{\"bgcolor\":\"#E5ECF6\",\"aaxis\":{\"gridcolor\":\"white\",\"linecolor\":\"white\",\"ticks\":\"\"},\"baxis\":{\"gridcolor\":\"white\",\"linecolor\":\"white\",\"ticks\":\"\"},\"caxis\":{\"gridcolor\":\"white\",\"linecolor\":\"white\",\"ticks\":\"\"}},\"coloraxis\":{\"colorbar\":{\"outlinewidth\":0,\"ticks\":\"\"}},\"colorscale\":{\"sequential\":[[0.0,\"#0d0887\"],[0.1111111111111111,\"#46039f\"],[0.2222222222222222,\"#7201a8\"],[0.3333333333333333,\"#9c179e\"],[0.4444444444444444,\"#bd3786\"],[0.5555555555555556,\"#d8576b\"],[0.6666666666666666,\"#ed7953\"],[0.7777777777777778,\"#fb9f3a\"],[0.8888888888888888,\"#fdca26\"],[1.0,\"#f0f921\"]],\"sequentialminus\":[[0.0,\"#0d0887\"],[0.1111111111111111,\"#46039f\"],[0.2222222222222222,\"#7201a8\"],[0.3333333333333333,\"#9c179e\"],[0.4444444444444444,\"#bd3786\"],[0.5555555555555556,\"#d8576b\"],[0.6666666666666666,\"#ed7953\"],[0.7777777777777778,\"#fb9f3a\"],[0.8888888888888888,\"#fdca26\"],[1.0,\"#f0f921\"]],\"diverging\":[[0,\"#8e0152\"],[0.1,\"#c51b7d\"],[0.2,\"#de77ae\"],[0.3,\"#f1b6da\"],[0.4,\"#fde0ef\"],[0.5,\"#f7f7f7\"],[0.6,\"#e6f5d0\"],[0.7,\"#b8e186\"],[0.8,\"#7fbc41\"],[0.9,\"#4d9221\"],[1,\"#276419\"]]},\"xaxis\":{\"gridcolor\":\"white\",\"linecolor\":\"white\",\"ticks\":\"\",\"title\":{\"standoff\":15},\"zerolinecolor\":\"white\",\"automargin\":true,\"zerolinewidth\":2},\"yaxis\":{\"gridcolor\":\"white\",\"linecolor\":\"white\",\"ticks\":\"\",\"title\":{\"standoff\":15},\"zerolinecolor\":\"white\",\"automargin\":true,\"zerolinewidth\":2},\"scene\":{\"xaxis\":{\"backgroundcolor\":\"#E5ECF6\",\"gridcolor\":\"white\",\"linecolor\":\"white\",\"showbackground\":true,\"ticks\":\"\",\"zerolinecolor\":\"white\",\"gridwidth\":2},\"yaxis\":{\"backgroundcolor\":\"#E5ECF6\",\"gridcolor\":\"white\",\"linecolor\":\"white\",\"showbackground\":true,\"ticks\":\"\",\"zerolinecolor\":\"white\",\"gridwidth\":2},\"zaxis\":{\"backgroundcolor\":\"#E5ECF6\",\"gridcolor\":\"white\",\"linecolor\":\"white\",\"showbackground\":true,\"ticks\":\"\",\"zerolinecolor\":\"white\",\"gridwidth\":2}},\"shapedefaults\":{\"line\":{\"color\":\"#2a3f5f\"}},\"annotationdefaults\":{\"arrowcolor\":\"#2a3f5f\",\"arrowhead\":0,\"arrowwidth\":1},\"geo\":{\"bgcolor\":\"white\",\"landcolor\":\"#E5ECF6\",\"subunitcolor\":\"white\",\"showland\":true,\"showlakes\":true,\"lakecolor\":\"white\"},\"title\":{\"x\":0.05},\"mapbox\":{\"style\":\"light\"}}},\"title\":{\"text\":\"Average last token loss when removing top \\u002f bottom neurons from path patching\"},\"xaxis\":{\"title\":{\"text\":\"\"}},\"yaxis\":{\"title\":{\"text\":\"Loss\"}},\"barmode\":\"group\",\"width\":1000},                        {\"responsive\": true}                    ).then(function(){\n",
       "                            \n",
       "var gd = document.getElementById('24abb435-b970-444f-9089-45b2281497f7');\n",
       "var x = new MutationObserver(function (mutations, observer) {{\n",
       "        var display = window.getComputedStyle(gd).display;\n",
       "        if (!display || display === 'none') {{\n",
       "            console.log([gd, 'removed!']);\n",
       "            Plotly.purge(gd);\n",
       "            observer.disconnect();\n",
       "        }}\n",
       "}});\n",
       "\n",
       "// Listen for the removal of the full notebook cells\n",
       "var notebookContainer = gd.closest('#notebook-container');\n",
       "if (notebookContainer) {{\n",
       "    x.observe(notebookContainer, {childList: true});\n",
       "}}\n",
       "\n",
       "// Listen for the clearing of the current output cell\n",
       "var outputEl = gd.closest('.output');\n",
       "if (outputEl) {{\n",
       "    x.observe(outputEl, {childList: true});\n",
       "}}\n",
       "\n",
       "                        })                };                });            </script>        </div>"
      ]
     },
     "metadata": {},
     "output_type": "display_data"
    }
   ],
   "source": [
    "# Check loss change when ablating top / bottom neurons\n",
    "\n",
    "top_neurons_count = 10\n",
    "top_neurons = indices[-top_neurons_count:]\n",
    "bottom_neurons = indices[:top_neurons_count]\n",
    "\n",
    "with model.hooks(deactivate_neurons_fwd_hooks):\n",
    "    ablated_loss, ablated_cache = model.run_with_cache(prompts, return_type=\"loss\")\n",
    "\n",
    "ablate_top_neurons_hook = get_ablate_neurons_hook(top_neurons, ablated_cache)\n",
    "ablate_bottom_neurons_hook = get_ablate_neurons_hook(bottom_neurons, ablated_cache)\n",
    "\n",
    "original_loss, ablated_loss, _, all_MLP5_loss = haystack_utils.get_direct_effect(prompts, model, pos=-1, context_ablation_hooks=deactivate_neurons_fwd_hooks, context_activation_hooks=activate_neurons_fwd_hooks)\n",
    "_, _, _, top_MLP5_ablated_loss = haystack_utils.get_direct_effect(prompts, model, pos=-1, context_ablation_hooks=deactivate_neurons_fwd_hooks, context_activation_hooks=activate_neurons_fwd_hooks+ablate_top_neurons_hook)\n",
    "_, _, _, bottom_MLP5_ablated_loss = haystack_utils.get_direct_effect(prompts, model, pos=-1, context_ablation_hooks=deactivate_neurons_fwd_hooks, context_activation_hooks=activate_neurons_fwd_hooks+ablate_bottom_neurons_hook)\n",
    "\n",
    "names = [\"Original\", \"Ablated\", \"MLP5 path patched\", f\"MLP5 path patched + Top {top_neurons_count} MLP5 neurons ablated\", f\"MLP5 path patched + Bottom {top_neurons_count} MLP5 neurons ablated\"]\n",
    "short_names = [\"Original\", \"Ablated\", \"MLP5 path patched\", f\"Top MLP5 removed\", f\"Bottom MLP5 removed\"]\n",
    "\n",
    "values = [original_loss.tolist(), ablated_loss.tolist(), all_MLP5_loss.tolist(), top_MLP5_ablated_loss.tolist(), bottom_MLP5_ablated_loss.tolist()]\n",
    "haystack_utils.plot_barplot(values, names, short_names=short_names, ylabel=\"Loss\", title=f\"Average last token loss when removing top / bottom neurons from path patching\")"
   ]
  },
  {
   "cell_type": "markdown",
   "metadata": {},
   "source": [
    "## Investigate top / bottom neuron boosts"
   ]
  },
  {
   "cell_type": "code",
   "execution_count": null,
   "metadata": {},
   "outputs": [],
   "source": [
    "# Patch in MLP5 neurons, ablated bottom neurons, compare with patched MLP5 neurons without ablating bottom neurons\n",
    "\n",
    "with model.hooks(deactivate_neurons_fwd_hooks):\n",
    "    ablated_logits, ablated_cache = model.run_with_cache(prompts)\n",
    "\n",
    "ablate_top_neurons_hook = get_ablate_neurons_hook(top_neurons, ablated_cache)\n",
    "ablate_bottom_neurons_hook = get_ablate_neurons_hook(bottom_neurons, ablated_cache)\n",
    "\n",
    "original_logits, ablated_logprobs, _, all_MLP5_logprobs = haystack_utils.get_direct_effect(prompts, model, pos=-2, context_ablation_hooks=deactivate_neurons_fwd_hooks, context_activation_hooks=activate_neurons_fwd_hooks, return_type='logprobs')\n",
    "_, _, _, top_MLP5_ablated_logprobs = haystack_utils.get_direct_effect(prompts, model, pos=-2, context_ablation_hooks=deactivate_neurons_fwd_hooks, context_activation_hooks=activate_neurons_fwd_hooks+ablate_top_neurons_hook, return_type='logprobs')\n",
    "_, _, _, bottom_MLP5_ablated_logprobs = haystack_utils.get_direct_effect(prompts, model, pos=-2, context_ablation_hooks=deactivate_neurons_fwd_hooks, context_activation_hooks=activate_neurons_fwd_hooks+ablate_bottom_neurons_hook, return_type='logprobs')"
   ]
  },
  {
   "cell_type": "code",
   "execution_count": null,
   "metadata": {},
   "outputs": [],
   "source": [
    "def get_top_difference_neurons(baseline_logprobs, ablated_logprops, positive=True, logprob_threshold=-7, k=50):\n",
    "    neuron_logprob_difference = (baseline_logprobs - ablated_logprops).mean(0)\n",
    "    neuron_logprob_difference[baseline_logprobs.mean(0) < logprob_threshold] = 0\n",
    "    if positive:\n",
    "        non_zero_count = (neuron_logprob_difference > 0).sum()\n",
    "    else:\n",
    "        non_zero_count = (neuron_logprob_difference < 0).sum()\n",
    "    top_logprob_difference, top_neurons = haystack_utils.top_k_with_exclude(neuron_logprob_difference, min(non_zero_count, k), all_ignore, largest=positive)\n",
    "    return top_logprob_difference, top_neurons"
   ]
  },
  {
   "cell_type": "code",
   "execution_count": null,
   "metadata": {},
   "outputs": [],
   "source": [
    "# Boosted tokens\n",
    "bottom_neuron_pos_difference_logprobs, bottom_pos_indices = get_top_difference_neurons(all_MLP5_logprobs, bottom_MLP5_ablated_logprobs, positive=True)\n",
    "top_neuron_pos_difference_logprobs, top_pos_indices = get_top_difference_neurons(all_MLP5_logprobs, top_MLP5_ablated_logprobs, positive=True)\n",
    "# Deboosted tokens\n",
    "bottom_neuron_neg_difference_logprobs, bottom_neg_indices = get_top_difference_neurons(all_MLP5_logprobs, bottom_MLP5_ablated_logprobs, positive=False)\n",
    "top_neuron_neg_difference_logprobs, top_neg_indices = get_top_difference_neurons(all_MLP5_logprobs, top_MLP5_ablated_logprobs, positive=False)"
   ]
  },
  {
   "cell_type": "code",
   "execution_count": null,
   "metadata": {},
   "outputs": [
    {
     "data": {
      "application/vnd.jupyter.widget-view+json": {
       "model_id": "fdfb5fba991e4556b8371d33fe86bef7",
       "version_major": 2,
       "version_minor": 0
      },
      "text/plain": [
       "interactive(children=(Dropdown(description='Tokens:', options=('Boosted', 'Deboosted'), value='Boosted'), Drop…"
      ]
     },
     "execution_count": 15,
     "metadata": {},
     "output_type": "execute_result"
    }
   ],
   "source": [
    "def plot_data(boosted_deboosted, top_bottom):\n",
    "    if boosted_deboosted == 'Boosted' and top_bottom == 'Top':\n",
    "        logprobs = top_neuron_pos_difference_logprobs\n",
    "        indices = top_pos_indices\n",
    "        title_change = 'increase'\n",
    "    elif boosted_deboosted == 'Boosted' and top_bottom == 'Bottom':\n",
    "        logprobs = bottom_neuron_pos_difference_logprobs\n",
    "        indices = bottom_pos_indices\n",
    "        title_change = 'increase'\n",
    "    elif boosted_deboosted == 'Deboosted' and top_bottom == 'Top':\n",
    "        logprobs = top_neuron_neg_difference_logprobs\n",
    "        indices = top_neg_indices\n",
    "        title_change = 'decrease'\n",
    "    else:  # 'Deboosted' and 'Bottom'\n",
    "        logprobs = bottom_neuron_neg_difference_logprobs\n",
    "        indices = bottom_neg_indices\n",
    "        title_change = 'decrease'\n",
    "\n",
    "    xlabel = boosted_deboosted + \" tokens\"\n",
    "    ylabel = \"full_logprob - ablated_logprop\"\n",
    "    title = 'Logprob ' + title_change + ' from ' + top_bottom.lower() + ' neurons'\n",
    "    xticks = [model.to_str_tokens([i])[0] for i in indices]\n",
    "\n",
    "    haystack_utils.line(logprobs.cpu().numpy(), xlabel=xlabel, ylabel=ylabel, title=title, xticks=xticks, show_legend=False)\n",
    "\n",
    "\n",
    "boosted_deboosted = widgets.Dropdown(options=['Boosted', 'Deboosted'], value='Boosted', description='Tokens:')\n",
    "top_bottom = widgets.Dropdown(options=['Top', 'Bottom'], value='Top', description='Neurons:')\n",
    "widgets.interactive(plot_data, boosted_deboosted=boosted_deboosted, top_bottom=top_bottom)\n"
   ]
  },
  {
   "cell_type": "markdown",
   "metadata": {},
   "source": [
    "## Decompose neuron effects"
   ]
  },
  {
   "cell_type": "code",
   "execution_count": null,
   "metadata": {},
   "outputs": [],
   "source": [
    "# Get logprob change for individual neuron\n",
    "\n",
    "def get_individual_neuron_logprob_effect(sorted_indices, neuron_pos=0, top=True, positive=True, plot=True):\n",
    "    if top:\n",
    "        neurons = sorted_indices[-(neuron_pos+1)]\n",
    "    else:\n",
    "        neurons = sorted_indices[neuron_pos]\n",
    "    neurons_hook = get_ablate_neurons_hook([neurons], ablated_cache)\n",
    "\n",
    "    original_logits, ablated_logprobs, _, all_MLP5_logprobs = haystack_utils.get_direct_effect(prompts, model, pos=-2, context_ablation_hooks=deactivate_neurons_fwd_hooks, context_activation_hooks=activate_neurons_fwd_hooks, return_type='logprobs')\n",
    "    _, _, _, neuron_ablated_logprobs = haystack_utils.get_direct_effect(prompts, model, pos=-2, context_ablation_hooks=deactivate_neurons_fwd_hooks, context_activation_hooks=activate_neurons_fwd_hooks+neurons_hook, return_type='logprobs')\n",
    "    neuron_difference_logprobs, difference_indices = \\\n",
    "        get_top_difference_neurons(all_MLP5_logprobs, neuron_ablated_logprobs, positive=positive)\n",
    "    \n",
    "    if not plot:\n",
    "        return neuron_difference_logprobs, difference_indices\n",
    "    \n",
    "    if positive:\n",
    "        xlabel = 'Boosted tokens'\n",
    "        title = 'Logprob increase from neuron ' + str(neurons.item())\n",
    "    else: \n",
    "        xlabel = 'Deboosted tokens'\n",
    "        title = 'Logprob decrease from neuron ' + str(neurons.item())\n",
    "    if top:\n",
    "        title += f' (top {neuron_pos+1} neuron)'\n",
    "    else:\n",
    "        title += f' (bottom {neuron_pos+1} neuron)'\n",
    "\n",
    "    xticks = [model.to_str_tokens([i])[0] for i in difference_indices]\n",
    "    haystack_utils.line(neuron_difference_logprobs.cpu().numpy(), xlabel=xlabel, ylabel=\"full_logprob - ablated_logprop\", title=title, xticks=xticks, show_legend=False)"
   ]
  },
  {
   "cell_type": "code",
   "execution_count": null,
   "metadata": {},
   "outputs": [
    {
     "data": {
      "application/vnd.jupyter.widget-view+json": {
       "model_id": "2b5975daae984b81aa589a447a9e4dc5",
       "version_major": 2,
       "version_minor": 0
      },
      "text/plain": [
       "interactive(children=(IntSlider(value=0, description='Neuron Pos:', max=20), Dropdown(description='Neurons:', …"
      ]
     },
     "execution_count": 17,
     "metadata": {},
     "output_type": "execute_result"
    }
   ],
   "source": [
    "# Define a function to call your function with widget inputs\n",
    "def plot_individual_neuron(neuron_pos, top_bottom, pos_neg):\n",
    "    top_bool = True if top_bottom == 'Top' else False\n",
    "    positive_bool = True if pos_neg == 'Positive' else False\n",
    "    get_individual_neuron_logprob_effect(indices, neuron_pos=neuron_pos, top=top_bool, positive=positive_bool)\n",
    "\n",
    "# Define widgets\n",
    "neuron_pos_slider = widgets.IntSlider(min=0, max=20, step=1, value=0, description='Neuron Pos:')\n",
    "top_bottom_dropdown = widgets.Dropdown(options=['Top', 'Bottom'], value='Top', description='Neurons:')\n",
    "pos_neg_dropdown = widgets.Dropdown(options=['Positive', 'Negative'], value='Positive', description='Pos/Neg:')\n",
    "\n",
    "# Use interactive function to bind the widgets to the plotting function\n",
    "widgets.interactive(plot_individual_neuron, neuron_pos=neuron_pos_slider, top_bottom=top_bottom_dropdown, pos_neg=pos_neg_dropdown)\n"
   ]
  },
  {
   "cell_type": "code",
   "execution_count": null,
   "metadata": {},
   "outputs": [],
   "source": [
    "# Sum individual weighted positive / negative effects\n",
    "def summed_neuron_differences(num_neurons=10, top=True, positive=True, k=50):\n",
    "    summed_neuron_diffs = torch.zeros(model.cfg.d_vocab).cuda()\n",
    "    for neuron_pos in range(num_neurons):\n",
    "        # It would probably be more principle to do our filtering on the summed diffs instead of per neuron\n",
    "        neuron_diff, token_indices = get_individual_neuron_logprob_effect(indices, neuron_pos=neuron_pos, top=top, positive=positive, plot=False)\n",
    "        summed_neuron_diffs[token_indices] += neuron_diff\n",
    "    if positive:\n",
    "        non_zero_count = (summed_neuron_diffs > 0).sum()\n",
    "    else:\n",
    "        non_zero_count = (summed_neuron_diffs < 0).sum()\n",
    "    top_logprob_difference, top_tokens = haystack_utils.top_k_with_exclude(summed_neuron_diffs, min(non_zero_count, k), all_ignore, largest=positive)\n",
    "    return top_logprob_difference, top_tokens\n",
    "\n",
    "def plot_summed_neuron_differences(num_neurons=10, top=True, positive=True):\n",
    "    top_logprob_difference, top_logprob_tokens = summed_neuron_differences(top=top, positive=positive)\n",
    "    xticks = [model.to_str_tokens([i])[0] for i in top_logprob_tokens]\n",
    "    \n",
    "    if positive:\n",
    "        title = \"Summed individual boosts by\"\n",
    "        xlabel = \"Boosted tokens\"\n",
    "    else:\n",
    "        title = \"Summed individual deboosts by\"\n",
    "        xlabel = \"Deboosted tokens\"\n",
    "    if top:\n",
    "        title += f\" top {num_neurons} neurons\"\n",
    "    else:\n",
    "        title += f\" bottom {num_neurons} neurons\"\n",
    "    haystack_utils.line(top_logprob_difference.cpu().numpy(), xlabel=xlabel, ylabel=\"full_logprob - ablated_logprop\", title=title, xticks=xticks, show_legend=False)"
   ]
  },
  {
   "cell_type": "code",
   "execution_count": null,
   "metadata": {},
   "outputs": [
    {
     "data": {
      "application/vnd.jupyter.widget-view+json": {
       "model_id": "b8460fea847e40e0927afc1288ebfaeb",
       "version_major": 2,
       "version_minor": 0
      },
      "text/plain": [
       "interactive(children=(IntSlider(value=10, description='Num Neurons:', max=20, min=1), Dropdown(description='Ne…"
      ]
     },
     "execution_count": 42,
     "metadata": {},
     "output_type": "execute_result"
    }
   ],
   "source": [
    "# Define a function to call your function with widget inputs\n",
    "def plot_summed_neurons_widget(num_neurons, top_bottom, pos_neg):\n",
    "    top_bool = True if top_bottom == 'Top' else False\n",
    "    positive_bool = True if pos_neg == 'Positive' else False\n",
    "    plot_summed_neuron_differences(num_neurons=num_neurons, top=top_bool, positive=positive_bool)\n",
    "\n",
    "# Define widgets\n",
    "num_neuron_slider = widgets.IntSlider(min=1, max=20, step=1, value=10, description='Num Neurons:')\n",
    "top_bottom_dropdown = widgets.Dropdown(options=['Top', 'Bottom'], value='Top', description='Neurons:')\n",
    "pos_neg_dropdown = widgets.Dropdown(options=['Positive', 'Negative'], value='Positive', description='Pos/Neg:')\n",
    "\n",
    "# Use interactive function to bind the widgets to the plotting function\n",
    "widgets.interactive(plot_summed_neurons_widget, num_neurons=num_neuron_slider, top_bottom=top_bottom_dropdown, pos_neg=pos_neg_dropdown)"
   ]
  },
  {
   "cell_type": "markdown",
   "metadata": {},
   "source": [
    "## Brainstorm notes"
   ]
  },
  {
   "cell_type": "markdown",
   "metadata": {},
   "source": [
    "I want to decompose an MLP5 neuron's effect into its boost to the correct logit and its deboost of other logits. I want to discover how these two effects change the log prob.\n",
    "\n",
    "metric like loss reduction vs. token boost\n",
    "\n",
    "~~run direct effect, patch each neuron in top 10 individually, get overall loss reduction from neuron controlled by context neuron (equivalent to logprob increase for correct token)~~\n",
    "decompose loss reduction into two parts:\n",
    "run direct effect, patch the correct token logit boost from the neuron (removing the neuron's other effects), get overall loss reduction from neuron (equivalent to logprob increase for correct token)\n",
    "destructive interference loss reduction = overall loss reduction - loss reduction from correct token logit boost (component of the logprob increase for correct token due to it deboosting incorrect token)\n",
    "\n",
    "Patch the correct token logit boost from the neuron (removing the neuron's other effects).\n",
    "1. Get baseline logprobs for a prompt\n",
    "2. Get difference in logits from activating the neuron under test. Can use get_direct_effects with return_type='logits'.\n",
    "3. Run the model with return_type='logits' and the neuron under test zero ablated. \n",
    "4. Add the correct token logit from step 1 to a copy of the output logits. Convert to logprobs\n",
    "5. Add the incorrect token logits from step 1 to a copy of the output logits. Convert to logprobs\n",
    "6. Compare A. lobprobs with correct answer token logit increase, B. logprobs with incorrect answer token logit increases, and C. baseline logprobs\n",
    "\n",
    "~~If the context neuron gives each neuron a flat boost then if we decompose the resulting flat boost to one MLP5 neuron into a boost to one logit vs. boosts to all other logits it will change the logprobs (first will increase answer probability and second will reduce answer probability). \n",
    "\n",
    "the two resulting log probs at the correct answer token won't add up to the original log probs (?). \n",
    "\n",
    "If the boost is flat the correct percentage decomposition is 1/50000 and 49999/50000? In practice/all other factors being equal\n",
    "\n",
    "New plan:\n",
    "\n",
    "Difference between baseline log prob and neuron log prob?\n",
    "Classify individual neurons by percentage constructive vs destructive by looking at their log probs and summing the incorrect token log probs\n",
    "\n",
    "Correct log prob difference\n",
    "Incorrect log prob difference (summed over every plausible token?)\n",
    "\n",
    "Largest boost"
   ]
  },
  {
   "cell_type": "code",
   "execution_count": null,
   "metadata": {},
   "outputs": [],
   "source": [
    "# If the log prob for an incorrect token is significantly lower then that's where the extra probability density on the correct answer is coming from \n",
    "# Constructive interference increases correct token log prob and uniformly decreases other log probs\n",
    "# Destructive interference decreases specific other log probs and uniformly increases other log probs\n",
    " \n",
    "# Most neurons are a mixture of the above\n",
    "# Decompose neurons into what % of their effect is each"
   ]
  },
  {
   "cell_type": "code",
   "execution_count": null,
   "metadata": {},
   "outputs": [],
   "source": [
    "# original_logits, ablated_logprobs, _, all_MLP5_logprobs = haystack_utils.get_direct_effect(prompts, model, pos=-2, context_ablation_hooks=deactivate_neurons_fwd_hooks, context_activation_hooks=activate_neurons_fwd_hooks, return_type='logprobs')\n",
    "# _, _, _, top_MLP5_ablated_logprobs = haystack_utils.get_direct_effect(prompts, model, pos=-2, context_ablation_hooks=deactivate_neurons_fwd_hooks, context_activation_hooks=activate_neurons_fwd_hooks+ablate_top_neurons_hook, return_type='logprobs')\n",
    "# _, _, _, bottom_MLP5_ablated_logprobs = haystack_utils.get_direct_effect(prompts, model, pos=-2, context_ablation_hooks=deactivate_neurons_fwd_hooks, context_activation_hooks=activate_neurons_fwd_hooks+ablate_bottom_neurons_hook, return_type='logprobs')\n",
    "\n",
    "# bottom_neuron_high_difference_logprobs = (all_MLP5_logprobs - bottom_MLP5_ablated_logprobs)\n",
    "# bottom_neuron_high_difference_logprobs[bottom_neuron_high_difference_logprobs < 0] = 0\n",
    "# bottom_neuron_high_difference_logprobs = bottom_neuron_high_difference_logprobs.mean(0)\n",
    "# bottom_neuron_high_difference_logprobs[all_MLP5_logprobs.mean(0) < -7] = 0\n",
    "\n",
    "# bottom_non_zero_count = (bottom_neuron_high_difference_logprobs > 0).sum()\n",
    "# bottom_neuron_high_difference_logprobs, bottom_indices = haystack_utils.top_k_with_exclude(bottom_neuron_high_difference_logprobs, min(bottom_non_zero_count, 50), all_ignore)\n",
    "# haystack_utils.line(bottom_neuron_high_difference_logprobs.cpu().numpy(), title='Largest positive difference in log probs for tokens when bottom neurons are not ablated', xticks=[model.to_str_tokens([i])[0] for i in bottom_indices])\n",
    "\n",
    "\n",
    "# top_neuron_high_difference_logprobs = (all_MLP5_logprobs - top_MLP5_ablated_logprobs)\n",
    "# top_neuron_high_difference_logprobs[top_neuron_high_difference_logprobs < 0] = 0\n",
    "# top_neuron_high_difference_logprobs = top_neuron_high_difference_logprobs.mean(0)\n",
    "# top_neuron_high_difference_logprobs[all_MLP5_logprobs.mean(0) < -7] = 0\n",
    "\n",
    "# top_non_zero_count = (top_neuron_high_difference_logprobs > 0).sum()\n",
    "# top_neuron_high_difference_logprobs, top_indices = haystack_utils.top_k_with_exclude(top_neuron_high_difference_logprobs, min(top_non_zero_count, 50), all_ignore)\n",
    "# haystack_utils.line(top_neuron_high_difference_logprobs.cpu().numpy(), title='Largest positive difference in log probs for tokens when bottom neurons are not ablated', xticks=[model.to_str_tokens([i])[0] for i in top_indices])\n"
   ]
  },
  {
   "cell_type": "code",
   "execution_count": null,
   "metadata": {},
   "outputs": [],
   "source": []
  }
 ],
 "metadata": {
  "kernelspec": {
   "display_name": "base",
   "language": "python",
   "name": "python3"
  },
  "language_info": {
   "codemirror_mode": {
    "name": "ipython",
    "version": 3
   },
   "file_extension": ".py",
   "mimetype": "text/x-python",
   "name": "python",
   "nbconvert_exporter": "python",
   "pygments_lexer": "ipython3",
   "version": "3.10.12"
  },
  "orig_nbformat": 4
 },
 "nbformat": 4,
 "nbformat_minor": 2
}
