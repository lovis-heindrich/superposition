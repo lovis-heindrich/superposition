{
 "cells": [
  {
   "cell_type": "markdown",
   "metadata": {},
   "source": [
    "### Setup"
   ]
  },
  {
   "cell_type": "code",
   "execution_count": 1,
   "metadata": {},
   "outputs": [],
   "source": [
    "import torch\n",
    "from tqdm.auto import tqdm, trange\n",
    "from transformer_lens import HookedTransformer\n",
    "from jaxtyping import Float, Int, Bool\n",
    "from torch import Tensor\n",
    "from tqdm.auto import tqdm\n",
    "import plotly.io as pio\n",
    "import ipywidgets as widgets\n",
    "from IPython.display import display, clear_output\n",
    "import pandas as pd\n",
    "import numpy as np\n",
    "import plotly.express as px \n",
    "from collections import defaultdict\n",
    "import matplotlib.pyplot as plt\n",
    "import re\n",
    "from IPython.display import display, HTML\n",
    "from datasets import load_dataset\n",
    "from collections import Counter\n",
    "import pickle\n",
    "import os\n",
    "import haystack_utils\n",
    "from transformer_lens import utils\n",
    "from fancy_einsum import einsum\n",
    "import einops\n",
    "import json\n",
    "import ipywidgets as widgets\n",
    "from IPython.display import display\n",
    "from datasets import load_dataset\n",
    "import random\n",
    "import math\n",
    "import random\n",
    "import neel.utils as nutils\n",
    "from neel_plotly import *\n",
    "import circuitsvis as cv\n",
    "\n",
    "import hook_utils\n",
    "import haystack_utils\n",
    "\n",
    "SEED = 42\n",
    "torch.manual_seed(SEED)\n",
    "np.random.seed(SEED)\n",
    "random.seed(SEED)\n",
    "\n",
    "pio.renderers.default = \"notebook_connected+notebook\"\n",
    "device = \"cuda\" if torch.cuda.is_available() else \"cpu\"\n",
    "torch.autograd.set_grad_enabled(False)\n",
    "torch.set_grad_enabled(False)\n",
    "\n",
    "%reload_ext autoreload\n",
    "%autoreload 2"
   ]
  },
  {
   "cell_type": "code",
   "execution_count": 2,
   "metadata": {},
   "outputs": [
    {
     "name": "stderr",
     "output_type": "stream",
     "text": [
      "Using pad_token, but it is not set yet.\n"
     ]
    },
    {
     "name": "stdout",
     "output_type": "stream",
     "text": [
      "Loaded pretrained model gpt2-large into HookedTransformer\n"
     ]
    },
    {
     "name": "stderr",
     "output_type": "stream",
     "text": [
      "Repo card metadata block was not found. Setting CardData to empty.\n"
     ]
    },
    {
     "data": {
      "text/plain": [
       "7083"
      ]
     },
     "execution_count": 2,
     "metadata": {},
     "output_type": "execute_result"
    }
   ],
   "source": [
    "model: HookedTransformer = HookedTransformer.from_pretrained(\"gpt2-large\")\n",
    "\n",
    "data = load_dataset(\"stas/openwebtext-10k\", split=\"train\")\n",
    "strings = [i for i in data[\"text\"] if len(i)>2000]\n",
    "len(strings)"
   ]
  },
  {
   "cell_type": "markdown",
   "metadata": {},
   "source": [
    "### Methods"
   ]
  },
  {
   "cell_type": "code",
   "execution_count": 3,
   "metadata": {},
   "outputs": [],
   "source": [
    "batched_dot_product = torch.vmap(torch.dot, (0, None))\n",
    "batched_projection = torch.vmap(haystack_utils.get_collinear_component, (0, None))\n",
    "\n",
    "def neuron_to_context_neuron_DLA(\n",
    "        model: HookedTransformer, \n",
    "        prompt: str | list[str], \n",
    "        pos=np.s_[-1:], \n",
    "        context_neuron=tuple[int, int]\n",
    ") -> tuple[Float[Tensor, \"component\"], list[str]]:\n",
    "    '''Gets full resid decomposition including all neurons. Unbatched.'''\n",
    "    _, cache = model.run_with_cache(prompt)\n",
    "    layer, neuron = context_neuron\n",
    "    neuron_attrs, neuron_labels = cache.stack_neuron_results(layer, apply_ln=True, return_labels=True, pos_slice=pos)\n",
    "    neuron_attrs = neuron_attrs.squeeze(1)\n",
    "    answer_residual_direction = model.W_in[layer, :, neuron]\n",
    "\n",
    "    results = []\n",
    "    for i in range(neuron_attrs.shape[1]):\n",
    "        results.append(batched_projection(neuron_attrs[:, i], answer_residual_direction).norm(dim=-1))\n",
    "    return torch.stack(results), neuron_labels\n",
    "\n",
    "def components_to_context_neuron_DLA(\n",
    "        model: HookedTransformer, \n",
    "        prompt: str | list[str], \n",
    "        pos=np.s_[-1:], \n",
    "        context_neuron=tuple[int, int]\n",
    ") -> tuple[Float[Tensor, \"component\"], list[str]]:\n",
    "    '''Gets full resid decomposition including all neurons. Unbatched.'''\n",
    "    _, cache = model.run_with_cache(prompt)\n",
    "    layer, neuron = context_neuron\n",
    "    attrs, labels = cache.get_full_resid_decomposition(layer, apply_ln=True, return_labels=True, pos_slice=pos, expand_neurons=False)\n",
    "    attrs = attrs.squeeze(1)\n",
    "    answer_residual_direction = model.W_in[layer, :, neuron]\n",
    "\n",
    "    results = []\n",
    "    for i in range(attrs.shape[1]):\n",
    "        results.append(batched_projection(attrs[:, i], answer_residual_direction).norm(dim=-1))\n",
    "    return torch.stack(results), labels\n",
    "\n",
    "def resid_to_context_neuron_DLA(\n",
    "        model: HookedTransformer, \n",
    "        prompt: str | list[str], \n",
    "        pos=np.s_[-1:], \n",
    "        context_neuron:tuple[int, int]=(0,0)\n",
    ") -> tuple[Float[Tensor, \"component\"], list[str]]:\n",
    "    '''Gets full resid decomposition including all neurons. Unbatched.'''\n",
    "    _, cache = model.run_with_cache(prompt)\n",
    "    layer, neuron = context_neuron\n",
    "    all_attrs, labels = cache.get_full_resid_decomposition(layer+1, apply_ln=True, return_labels=True, pos_slice=pos)\n",
    "    all_attrs = all_attrs.squeeze(1)\n",
    "    \n",
    "    answer_residual_direction = model.W_in[layer, :, neuron]\n",
    "\n",
    "    results = []\n",
    "    for i in range(all_attrs.shape[1]):\n",
    "        results.append(batched_projection(all_attrs[:, i], answer_residual_direction).norm(dim=-1))\n",
    "    return torch.stack(results), labels\n",
    "\n",
    "def get_neuron_mean_acts(model: HookedTransformer, data: list[str], layer_neuron_dict: dict[int, list[int]]) -> tuple[torch.Tensor, torch.Tensor]:\n",
    "    sorted_layer_neuron_tuples = []\n",
    "    sorted_acts = []\n",
    "\n",
    "    for layer, neurons in layer_neuron_dict.items():\n",
    "        mean_acts = haystack_utils.get_mlp_activations(data, layer, model, context_crop_start=0, hook_pre=False, neurons=neurons, disable_tqdm=True)\n",
    "        sorted_layer_neuron_tuples.extend([(layer, neuron) for neuron in neurons])\n",
    "        sorted_acts.extend(mean_acts)\n",
    "        assert len(sorted_layer_neuron_tuples) == len(sorted_acts)\n",
    "\n",
    "    return sorted_layer_neuron_tuples, sorted_acts\n",
    "\n",
    "def get_unspecified_neurons(model: HookedTransformer, layer_neuron_dict: dict[int, list[int]]):\n",
    "    unspecified = []\n",
    "    for layer in range(model.cfg.n_layers):\n",
    "        for neuron in range(model.cfg.d_mlp):\n",
    "            if not neuron in layer_neuron_dict[layer]:\n",
    "                unspecified.append((layer, neuron))\n",
    "    return unspecified\n",
    "\n",
    "def get_neuron_loss_increases(model: HookedTransformer, data: list[str], prompt: str, positionwise: bool=False) -> torch.Tensor:\n",
    "    n_tokens = model.to_tokens(prompt).shape[1] - 1\n",
    "    original_loss = model([prompt], return_type='loss', loss_per_token=positionwise)\n",
    "    \n",
    "    losses = []\n",
    "    for layer in trange(model.cfg.n_layers):\n",
    "        mean_acts = haystack_utils.get_mlp_activations(data[:200], layer, model, disable_tqdm=True, context_crop_start=0)\n",
    "        for neuron in range(model.cfg.d_mlp):\n",
    "            hook = hook_utils.get_ablate_neuron_hook(layer, neuron, mean_acts[neuron])\n",
    "            with model.hooks([hook]):\n",
    "                ablated_loss = model([prompt], return_type='loss', loss_per_token=positionwise)\n",
    "                losses.append((ablated_loss - original_loss)[0])\n",
    "    return torch.stack(losses).reshape(n_tokens, model.cfg.n_layers * model.cfg.d_mlp)\n",
    "\n",
    "def compare_dla_and_ablation(model: HookedTransformer, dla_attrs_by_neuron: torch.Tensor, ablation_losses_by_neuron: torch.Tensor, num_neurons=20):\n",
    "    print(\"DLA:\")\n",
    "    values, indices = torch.topk(dla_attrs_by_neuron, num_neurons, dim=-1)\n",
    "    layer_indices, neuron_indices = np.unravel_index(indices.cpu().numpy(), (model.cfg.n_layers, model.cfg.d_mlp))\n",
    "    print(list(zip(layer_indices.tolist(), neuron_indices.tolist())))\n",
    "    print(dla_attrs_by_neuron[indices.tolist()])\n",
    "\n",
    "    print(\"Ablation:\")\n",
    "    loss_increases_by_neuron = ablation_losses_by_neuron\n",
    "    values, indices = torch.topk(loss_increases_by_neuron, num_neurons)\n",
    "    layer_indices, neuron_indices = np.unravel_index(indices.cpu().numpy()[:num_neurons], (model.cfg.n_layers, model.cfg.d_mlp))\n",
    "    print(list(zip(layer_indices.tolist(), neuron_indices.tolist())))\n",
    "    print(dla_attrs_by_neuron[indices.tolist()])\n",
    "\n",
    "def get_hook_inputs_for_token_index(model: HookedTransformer, data: list[str], loss_increases_by_neuron: torch.Tensor, k=40):\n",
    "    values, indices = torch.topk(loss_increases_by_neuron, k)\n",
    "\n",
    "    layer_indices, neuron_indices = np.unravel_index(indices.cpu().numpy(), (model.cfg.n_layers, model.cfg.d_mlp))\n",
    "    layer_neuron_dict = defaultdict(list)\n",
    "    for layer, neuron in zip(layer_indices, neuron_indices):\n",
    "        layer_neuron_dict[layer].append(neuron)\n",
    "\n",
    "    sorted_dla_layer_neuron_tuples = []\n",
    "    sorted_acts = []\n",
    "    for layer, neurons in layer_neuron_dict.items():\n",
    "        mean_acts = haystack_utils.get_mlp_activations(data, layer, model, context_crop_start=0, neurons=neurons, disable_tqdm=True)\n",
    "        sorted_dla_layer_neuron_tuples.extend([(layer, neuron) for neuron in neurons])\n",
    "        sorted_acts.extend(mean_acts)\n",
    "        assert len(sorted_dla_layer_neuron_tuples) == len(sorted_acts)\n",
    "\n",
    "    return sorted_dla_layer_neuron_tuples, sorted_acts\n",
    "\n",
    "def unravel_top_k(neuron_attrs: torch.Tensor, k: int=10):\n",
    "    values, indices = torch.topk(neuron_attrs, k)\n",
    "    layer_indices, neuron_indices = np.unravel_index(indices.cpu().numpy(), (model.cfg.n_layers, model.cfg.d_mlp))\n",
    "    return list(zip(layer_indices.tolist(), neuron_indices.tolist()))\n",
    "\n",
    "def resid_to_head_DLA(\n",
    "        model: HookedTransformer, \n",
    "        prompt: str | list[str], \n",
    "        head: tuple[int, int],\n",
    "        pos=np.s_[-1:], \n",
    "        \n",
    ") -> tuple[Float[Tensor, \"component\"], list[str]]:\n",
    "    '''Gets full resid decomposition and return the composition of each element of the given K matrix. Unbatched.'''\n",
    "    tokens = model.to_tokens(prompt)\n",
    "    _, cache = model.run_with_cache(prompt)\n",
    "    layer, head_index = head\n",
    "    all_attrs, labels = cache.get_full_resid_decomposition(layer, apply_ln=True, return_labels=True, pos_slice=pos)\n",
    "    all_attrs = all_attrs.squeeze(1)\n",
    "    answer_residual_direction = model.W_K[layer, head_index, :]\n",
    "    results = torch.zeros(all_attrs.shape[1], all_attrs.shape[0], answer_residual_direction.shape[1])\n",
    "    for i in range(all_attrs.shape[1]): # for each token\n",
    "        for j in range(answer_residual_direction.shape[1]): # for each direction in head input\n",
    "            token_attrs = all_attrs[:, i]\n",
    "            answer = answer_residual_direction[:, j]\n",
    "            results[i, :, j] = batched_projection(token_attrs, answer).norm(dim=-1)\n",
    "    return results, labels\n",
    "\n",
    "\n",
    "def mask_scores(attn_scores: Float[Tensor, \"query_nctx key_nctx\"]):\n",
    "    '''Mask the attention scores so that tokens don't attend to previous tokens.'''\n",
    "    # assert attn_scores.shape == (model.cfg.n_ctx, model.cfg.n_ctx)\n",
    "    mask = torch.tril(torch.ones_like(attn_scores)).bool()\n",
    "    neg_inf = torch.tensor(-1.0e6).to(attn_scores.device)\n",
    "    masked_attn_scores = torch.where(mask, attn_scores, neg_inf)\n",
    "    return masked_attn_scores\n",
    "    \n",
    "def resid_to_head_DLA_custom(\n",
    "        model: HookedTransformer, \n",
    "        prompt: str | list[str], \n",
    "        head: tuple[int, int]\n",
    "        \n",
    ") -> tuple[Float[Tensor, \"component\"], list[str]]:\n",
    "    '''For last two tokens, figure out which components contribute the most to them paying attention to each other.'''\n",
    "    _, cache = model.run_with_cache(prompt)\n",
    "    layer, head_index = head\n",
    "\n",
    "    all_attrs, labels = cache.get_full_resid_decomposition(layer, apply_ln=True, return_labels=True, pos_slice=np.s_[-2:], expand_neurons=False)\n",
    "    all_attrs = all_attrs.squeeze(1).permute(1, 0, 2)\n",
    "\n",
    "    W_QK = model.W_Q[layer, head_index] @ model.W_K[layer, head_index].T\n",
    "\n",
    "    pos_by_pos_scores = all_attrs[0] @ W_QK @ all_attrs[1].T\n",
    "    # masked_scaled = mask_scores(pos_by_pos_scores / model.cfg.d_head ** 0.5)\n",
    "    # pos_by_pos_pattern = torch.softmax(masked_scaled, dim=-1)\n",
    "    return pos_by_pos_scores, labels"
   ]
  },
  {
   "cell_type": "markdown",
   "metadata": {},
   "source": [
    "### Act"
   ]
  },
  {
   "cell_type": "code",
   "execution_count": 7,
   "metadata": {},
   "outputs": [
    {
     "name": "stdout",
     "output_type": "stream",
     "text": [
      "Tried to stack head results when they weren't cached. Computing head results now\n"
     ]
    }
   ],
   "source": [
    "# # Redo the upstream neurons method to include full MLP components in addition to the individual neuron break down\n",
    "# # L0N1595\n",
    "\n",
    "# attrs, labels = components_to_context_neuron_DLA(model, \" An eye for an\", pos=np.s_[-1:], context_neuron=(0, 1595))"
   ]
  },
  {
   "cell_type": "code",
   "execution_count": 5,
   "metadata": {},
   "outputs": [],
   "source": [
    "common_objects = [\n",
    "    \"pen\", \"hat\", \"cup\", \"bag\", \"box\", \"car\", \"dog\", \"cat\", \"key\", \"bed\",\n",
    "    \"pot\", \"pan\", \"jar\", \"jug\", \"rug\", \"bat\", \"ball\", \"shoe\", \"ship\", \"bike\",\n",
    "    \"desk\", \"door\", \"bell\", \"book\", \"bowl\", \"coin\", \"comb\", \"cord\", \"disk\", \"doll\",\n",
    "    \"drum\", \"flag\", \"fork\", \"lamp\", \"lock\", \"mug\", \"nail\", \"pipe\", \"ring\", \"rope\",\n",
    "    \"seed\", \"skirt\", \"spoon\", \"stamp\", \"star\", \"stick\", \"tent\", \"tie\", \"tooth\", \"toy\",\n",
    "    \"tree\", \"watch\", \"whip\", \"bird\", \"boat\", \"boot\", \"cane\", \"card\", \"chain\", \"chair\",\n",
    "    \"chalk\", \"clock\", \"cloth\", \"cloud\", \"coat\", \"crab\", \"disk\", \"dress\", \"drop\", \"drum\",\n",
    "    \"duck\", \"dust\", \"fence\", \"flag\", \"floor\", \"flower\", \"fly\", \"fog\", \"fork\", \"fruit\",\n",
    "    \"glass\", \"glove\", \"grass\", \"hair\", \"hand\", \"harp\", \"hat\", \"hill\", \"horn\", \"horse\",\n",
    "    \"house\", \"island\", \"jewel\", \"jug\", \"kettle\", \"key\", \"kite\", \"knife\", \"leaf\", \"leg\",\n",
    "    \"library\", \"light\", \"line\", \"loaf\", \"lock\", \"machine\", \"man\", \"map\", \"moon\", \"net\",\n",
    "    \"nose\", \"nut\", \"office\", \"orange\", \"oven\", \"parcel\", \"pen\", \"pencil\", \"picture\", \"pig\",\n",
    "    \"pin\", \"pipe\", \"plane\", \"plate\", \"plough\", \"pocket\", \"pot\", \"potato\", \"prison\", \"pump\",\n",
    "    \"rail\", \"rat\", \"receipt\", \"ring\", \"rod\", \"roof\", \"root\", \"sail\", \"school\", \"scissors\",\n",
    "    \"screw\", \"seed\", \"sheep\", \"shelf\", \"ship\", \"shirt\", \"shoe\", \"skin\", \"skirt\", \"snake\",\n",
    "    \"sock\", \"spade\", \"sponge\", \"spoon\", \"spring\", \"square\", \"stamp\", \"star\", \"station\", \"stem\",\n",
    "    \"stick\", \"stocking\", \"stomach\", \"store\", \"street\", \"sun\", \"table\", \"tail\", \"thread\", \"throat\",\n",
    "    \"thumb\", \"ticket\", \"toe\", \"tongue\", \"tooth\", \"town\", \"train\", \"tray\", \"tree\", \"trousers\",\n",
    "    \"umbrella\", \"wall\", \"watch\", \"wheel\", \"whistle\", \"window\", \"wire\", \"wing\", \"worm\", \"yarn\"\n",
    "]\n",
    "vowel_objects = [\n",
    "    \"apple\", \"apron\", \"arm\", \"ankle\", \"arrow\", \"atom\", \"ant\", \"anchor\", \"album\", \"axe\",\n",
    "    \"ear\", \"egg\", \"elbow\", \"engine\", \"eagle\", \"earring\", \"envelope\", \"eye\", \"eel\", \"earth\",\n",
    "    \"ice\", \"iron\", \"ink\", \"island\", \"ivy\", \"igloo\", \"insect\", \"instrument\", \"image\", \"indicator\",\n",
    "    \"oak\", \"oar\", \"ocean\", \"octopus\", \"onion\", \"orange\", \"organ\", \"oven\", \"owl\", \"ox\",\n",
    "    \"umbrella\", \"urn\", \"utensil\", \"uniform\", \"ukelele\", \"unit\", \"unicorn\", \"upstairs\", \"underwear\", \"urchin\",\n",
    "    \"emerald\", \"end\", \"elephant\", \"elm\", \"easel\", \"eraser\", \"eskimo\", \"entrance\", \"estate\", \"echo\",\n",
    "    \"ash\", \"art\", \"armchair\", \"air\", \"arch\", \"anvil\", \"alloy\", \"alley\", \"atom\", \"amulet\",\n",
    "    \"olive\", \"opera\", \"opal\", \"ottoman\", \"orchid\", \"orbit\", \"ostrich\", \"oxen\", \"oil\", \"ounce\",\n",
    "    \"iceberg\", \"iris\", \"idea\", \"iguanodon\", \"inlet\", \"icon\", \"input\", \"isle\", \"itch\", \"issue\",\n",
    "    \"udder\", \"uplift\", \"update\", \"upgrade\", \"undo\", \"uptake\", \"upbeat\", \"upturn\", \"upload\", \"upstream\",\n",
    "    \"antenna\", \"almond\", \"arena\", \"aorta\", \"ape\", \"asteroid\", \"aster\", \"auction\", \"audio\", \"avocado\",\n",
    "    \"edge\", \"eel\", \"eel\", \"equipment\", \"escalator\", \"essence\", \"emblem\", \"echo\", \"engineer\", \"equator\",\n",
    "    \"opal\", \"orchard\", \"oboe\", \"oval\", \"oven\", \"overcoat\", \"oyster\", \"ounce\", \"outlet\", \"outline\",\n",
    "    \"aerial\", \"airplane\", \"awning\", \"award\", \"agent\", \"agate\", \"arc\", \"arena\", \"armadillo\", \"apricot\"\n",
    "]\n",
    "word_list = common_objects[:50] + vowel_objects[:50]\n",
    "token_lengths = [len(model.to_tokens(\" \"+word, prepend_bos=False).squeeze(0)) for word in word_list]\n",
    "word_list = [word_list[i] for i in range(len(word_list)) if token_lengths[i]==1]\n",
    "len(word_list)\n",
    "# word_list\n",
    "# %%\n",
    "prompt_template = \"I climbed up the pear tree and picked a pear. I climbed up the {} tree and picked\"\n",
    "prompt_list = [prompt_template.format(word) for word in word_list]\n",
    "tree_tokens = model.to_tokens(prompt_list)"
   ]
  },
  {
   "cell_type": "code",
   "execution_count": 9,
   "metadata": {},
   "outputs": [],
   "source": [
    "\n",
    "prompt_template = \"I climbed up the pear tree and picked a pear. I climbed up the {} tree and picked an\"\n",
    "vowel_prompt_list = [prompt_template.format(word) for word in vowel_objects]\n",
    "\n",
    "prompt_template = \"I climbed up the pear tree and picked a pear. I climbed up the {} tree and picked a\"\n",
    "common_objects_prompt_list = [prompt_template.format(word) for word in common_objects]\n",
    "\n"
   ]
  },
  {
   "cell_type": "code",
   "execution_count": 7,
   "metadata": {},
   "outputs": [
    {
     "name": "stdout",
     "output_type": "stream",
     "text": [
      "96 186\n",
      "44 4\n"
     ]
    }
   ],
   "source": [
    "common_objects_prompts = []\n",
    "vowel_prompts = []\n",
    "\n",
    "multi_token_vowel_prompts = []\n",
    "multi_token_common_objects_prompts = []\n",
    "\n",
    "for item in common_objects_prompt_list:\n",
    "    if model.to_tokens(item).shape == (1, 21):\n",
    "        common_objects_prompts.append(item)\n",
    "    else:\n",
    "        multi_token_common_objects_prompts.append(item)\n",
    "\n",
    "for item in vowel_prompt_list:\n",
    "    if model.to_tokens(item).shape == (1, 21):\n",
    "        vowel_prompts.append(item)\n",
    "    else:\n",
    "        multi_token_vowel_prompts.append(item)\n",
    "\n",
    "print(len(vowel_prompts), len(common_objects_prompts))\n",
    "print(len(multi_token_vowel_prompts), len(multi_token_common_objects_prompts))\n",
    "consonant_prompts = common_objects_prompts\n"
   ]
  },
  {
   "cell_type": "code",
   "execution_count": 8,
   "metadata": {},
   "outputs": [
    {
     "name": "stdout",
     "output_type": "stream",
     "text": [
      "0.12205264687538148 0.0005269411206245422 0.04601924934170463\n",
      "1.435411212119189 1.4191379714012147\n"
     ]
    }
   ],
   "source": [
    "# Neuron seems to work consistently across fruits\n",
    "\n",
    "\n",
    "LAYER, NEURON = 0, 1595\n",
    "\n",
    "def hook(value, hook):\n",
    "    value[0, -5, NEURON] = 0\n",
    "hook_name = f'blocks.{LAYER}.mlp.hook_post'\n",
    "hooks = [(hook_name, hook)]\n",
    "\n",
    "vowel_loss_diffs = []\n",
    "vowel_original_losses = []\n",
    "for prompt in vowel_prompts[:50]:\n",
    "    loss, cache = model.run_with_cache(prompt, return_type='loss', loss_per_token=True, names_filter=[hook_name])\n",
    "    with model.hooks(hooks):\n",
    "        ablated_loss, ablated_cache = model.run_with_cache(prompt, return_type='loss', loss_per_token=True)\n",
    "    vowel_loss_diffs.append((ablated_loss[0, -1] - loss[0, -1]).item())\n",
    "    vowel_original_losses.append(loss[0, -1].item())\n",
    "\n",
    "def multi_token_hook(value, hook):\n",
    "    value[0, -6:-4, NEURON] = 0\n",
    "hook_name = f'blocks.{LAYER}.mlp.hook_post'\n",
    "multi_token_hooks = [(hook_name, multi_token_hook)]\n",
    "\n",
    "multi_token_vowel_loss_diffs = []\n",
    "multi_token_original_losses = []\n",
    "for prompt in multi_token_vowel_prompts[:50]:\n",
    "    loss, cache = model.run_with_cache(prompt, return_type='loss', loss_per_token=True, names_filter=[hook_name])\n",
    "    with model.hooks(multi_token_hooks):\n",
    "        ablated_loss, ablated_cache = model.run_with_cache(prompt, return_type='loss', loss_per_token=True)\n",
    "    multi_token_vowel_loss_diffs.append((ablated_loss[0, -1] - loss[0, -1]).item())\n",
    "    multi_token_original_losses.append(loss[0, -1].item())\n",
    "\n",
    "\n",
    "consonant_losses = []\n",
    "for prompt in common_objects_prompts[:50]:\n",
    "    loss, cache = model.run_with_cache(prompt, return_type='loss', loss_per_token=True, names_filter=[hook_name])\n",
    "    with model.hooks(hooks):\n",
    "        ablated_loss, ablated_cache = model.run_with_cache(prompt, return_type='loss', loss_per_token=True)\n",
    "    consonant_losses.append((ablated_loss[0, -1] - loss[0, -1]).item())\n",
    "\n",
    "    # haystack_utils.line(cache[hook_name][0, :, NEURON].cpu().tolist())\n",
    "\n",
    "print(np.mean(vowel_loss_diffs), np.mean(consonant_losses), np.mean(multi_token_vowel_loss_diffs))\n",
    "print(np.mean(multi_token_original_losses), np.mean(vowel_original_losses))"
   ]
  },
  {
   "cell_type": "code",
   "execution_count": null,
   "metadata": {},
   "outputs": [],
   "source": [
    "from torch import einsum\n",
    "model.set_use_attn_result(True)\n",
    "values = []\n",
    "pos = np.s_[-5:-4]\n",
    "results = []\n",
    "\n",
    "# Set last token to incorrect an completion and get DLA \n",
    "an_token = model.to_tokens(\" an\", prepend_bos=False)\n",
    "for prompt in consonant_prompts[:50]:\n",
    "    tokens = model.to_tokens(prompt)[0]\n",
    "    tokens[-1] = an_token\n",
    "\n",
    "    _, cache = model.run_with_cache(prompt)\n",
    "    attrs, labels = cache.get_full_resid_decomposition(LAYER  + 1, apply_ln=True, return_labels=True, pos_slice=pos, expand_neurons=False)\n",
    "    attrs = attrs.squeeze(1)\n",
    "    answer_residual_direction = model.W_in[LAYER, :, NEURON]\n",
    "\n",
    "    results.append(einsum(\"c b d, d -> c\", attrs, answer_residual_direction))\n",
    "\n",
    "results = torch.stack(results)\n",
    "\n",
    "values = results.mean(dim=0).cpu().tolist()\n",
    "values.pop(-4)\n",
    "labels.pop(-4)\n",
    "\n",
    "haystack_utils.line(values, xticks=labels, title=f\"DLA for L{LAYER}N{NEURON} averaged over nouns that start with vowels\")"
   ]
  },
  {
   "cell_type": "code",
   "execution_count": 10,
   "metadata": {},
   "outputs": [],
   "source": [
    "from torch import einsum\n",
    "model.set_use_attn_result(True)\n",
    "values = []\n",
    "pos = np.s_[-5:-4]\n",
    "results = []\n",
    "\n",
    "for prompt in vowel_prompts[:50]:\n",
    "    _, cache = model.run_with_cache(prompt)\n",
    "    attrs, labels = cache.get_full_resid_decomposition(LAYER  + 1, apply_ln=True, return_labels=True, pos_slice=pos, expand_neurons=False)\n",
    "    attrs = attrs.squeeze(1)\n",
    "    answer_residual_direction = model.W_in[LAYER, :, NEURON]\n",
    "\n",
    "    results.append(einsum(\"c b d, d -> c\", attrs, answer_residual_direction))\n",
    "\n",
    "results = torch.stack(results)"
   ]
  },
  {
   "cell_type": "code",
   "execution_count": 105,
   "metadata": {},
   "outputs": [
    {
     "data": {
      "text/html": [
       "<div>                            <div id=\"ec8e8b28-1f84-41db-98bc-09edc5dc89c6\" class=\"plotly-graph-div\" style=\"height:800px; width:800px;\"></div>            <script type=\"text/javascript\">                require([\"plotly\"], function(Plotly) {                    window.PLOTLYENV=window.PLOTLYENV || {};                                    if (document.getElementById(\"ec8e8b28-1f84-41db-98bc-09edc5dc89c6\")) {                    Plotly.newPlot(                        \"ec8e8b28-1f84-41db-98bc-09edc5dc89c6\",                        [{\"hovertemplate\":\"variable=0\\u003cbr\\u003eindex=%{x}\\u003cbr\\u003evalue=%{y}\\u003cextra\\u003e\\u003c\\u002fextra\\u003e\",\"legendgroup\":\"0\",\"line\":{\"color\":\"#636efa\",\"dash\":\"solid\"},\"marker\":{\"symbol\":\"circle\"},\"mode\":\"lines\",\"name\":\"0\",\"orientation\":\"v\",\"showlegend\":true,\"x\":[0,1,2,3,4,5,6,7,8,9,10,11,12,13,14,15,16,17,18,19,20,21,22],\"xaxis\":\"x\",\"y\":[0.040671151131391525,-0.01259049866348505,0.007654690649360418,0.032865751534700394,0.007859882898628712,-0.011628632433712482,0.006630097981542349,0.019597496837377548,0.010880084708333015,0.011834328062832355,-0.036307644098997116,-0.04142070561647415,-0.012896185740828514,-0.0063349115662276745,-0.034339528530836105,-0.005328323692083359,0.006687656044960022,0.00047807683586142957,-0.024602364748716354,-0.0009503517067059875,-0.05250273272395134,-0.0005757914041168988,-0.1089375838637352],\"yaxis\":\"y\",\"type\":\"scatter\"}],                        {\"template\":{\"data\":{\"histogram2dcontour\":[{\"type\":\"histogram2dcontour\",\"colorbar\":{\"outlinewidth\":0,\"ticks\":\"\"},\"colorscale\":[[0.0,\"#0d0887\"],[0.1111111111111111,\"#46039f\"],[0.2222222222222222,\"#7201a8\"],[0.3333333333333333,\"#9c179e\"],[0.4444444444444444,\"#bd3786\"],[0.5555555555555556,\"#d8576b\"],[0.6666666666666666,\"#ed7953\"],[0.7777777777777778,\"#fb9f3a\"],[0.8888888888888888,\"#fdca26\"],[1.0,\"#f0f921\"]]}],\"choropleth\":[{\"type\":\"choropleth\",\"colorbar\":{\"outlinewidth\":0,\"ticks\":\"\"}}],\"histogram2d\":[{\"type\":\"histogram2d\",\"colorbar\":{\"outlinewidth\":0,\"ticks\":\"\"},\"colorscale\":[[0.0,\"#0d0887\"],[0.1111111111111111,\"#46039f\"],[0.2222222222222222,\"#7201a8\"],[0.3333333333333333,\"#9c179e\"],[0.4444444444444444,\"#bd3786\"],[0.5555555555555556,\"#d8576b\"],[0.6666666666666666,\"#ed7953\"],[0.7777777777777778,\"#fb9f3a\"],[0.8888888888888888,\"#fdca26\"],[1.0,\"#f0f921\"]]}],\"heatmap\":[{\"type\":\"heatmap\",\"colorbar\":{\"outlinewidth\":0,\"ticks\":\"\"},\"colorscale\":[[0.0,\"#0d0887\"],[0.1111111111111111,\"#46039f\"],[0.2222222222222222,\"#7201a8\"],[0.3333333333333333,\"#9c179e\"],[0.4444444444444444,\"#bd3786\"],[0.5555555555555556,\"#d8576b\"],[0.6666666666666666,\"#ed7953\"],[0.7777777777777778,\"#fb9f3a\"],[0.8888888888888888,\"#fdca26\"],[1.0,\"#f0f921\"]]}],\"heatmapgl\":[{\"type\":\"heatmapgl\",\"colorbar\":{\"outlinewidth\":0,\"ticks\":\"\"},\"colorscale\":[[0.0,\"#0d0887\"],[0.1111111111111111,\"#46039f\"],[0.2222222222222222,\"#7201a8\"],[0.3333333333333333,\"#9c179e\"],[0.4444444444444444,\"#bd3786\"],[0.5555555555555556,\"#d8576b\"],[0.6666666666666666,\"#ed7953\"],[0.7777777777777778,\"#fb9f3a\"],[0.8888888888888888,\"#fdca26\"],[1.0,\"#f0f921\"]]}],\"contourcarpet\":[{\"type\":\"contourcarpet\",\"colorbar\":{\"outlinewidth\":0,\"ticks\":\"\"}}],\"contour\":[{\"type\":\"contour\",\"colorbar\":{\"outlinewidth\":0,\"ticks\":\"\"},\"colorscale\":[[0.0,\"#0d0887\"],[0.1111111111111111,\"#46039f\"],[0.2222222222222222,\"#7201a8\"],[0.3333333333333333,\"#9c179e\"],[0.4444444444444444,\"#bd3786\"],[0.5555555555555556,\"#d8576b\"],[0.6666666666666666,\"#ed7953\"],[0.7777777777777778,\"#fb9f3a\"],[0.8888888888888888,\"#fdca26\"],[1.0,\"#f0f921\"]]}],\"surface\":[{\"type\":\"surface\",\"colorbar\":{\"outlinewidth\":0,\"ticks\":\"\"},\"colorscale\":[[0.0,\"#0d0887\"],[0.1111111111111111,\"#46039f\"],[0.2222222222222222,\"#7201a8\"],[0.3333333333333333,\"#9c179e\"],[0.4444444444444444,\"#bd3786\"],[0.5555555555555556,\"#d8576b\"],[0.6666666666666666,\"#ed7953\"],[0.7777777777777778,\"#fb9f3a\"],[0.8888888888888888,\"#fdca26\"],[1.0,\"#f0f921\"]]}],\"mesh3d\":[{\"type\":\"mesh3d\",\"colorbar\":{\"outlinewidth\":0,\"ticks\":\"\"}}],\"scatter\":[{\"fillpattern\":{\"fillmode\":\"overlay\",\"size\":10,\"solidity\":0.2},\"type\":\"scatter\"}],\"parcoords\":[{\"type\":\"parcoords\",\"line\":{\"colorbar\":{\"outlinewidth\":0,\"ticks\":\"\"}}}],\"scatterpolargl\":[{\"type\":\"scatterpolargl\",\"marker\":{\"colorbar\":{\"outlinewidth\":0,\"ticks\":\"\"}}}],\"bar\":[{\"error_x\":{\"color\":\"#2a3f5f\"},\"error_y\":{\"color\":\"#2a3f5f\"},\"marker\":{\"line\":{\"color\":\"#E5ECF6\",\"width\":0.5},\"pattern\":{\"fillmode\":\"overlay\",\"size\":10,\"solidity\":0.2}},\"type\":\"bar\"}],\"scattergeo\":[{\"type\":\"scattergeo\",\"marker\":{\"colorbar\":{\"outlinewidth\":0,\"ticks\":\"\"}}}],\"scatterpolar\":[{\"type\":\"scatterpolar\",\"marker\":{\"colorbar\":{\"outlinewidth\":0,\"ticks\":\"\"}}}],\"histogram\":[{\"marker\":{\"pattern\":{\"fillmode\":\"overlay\",\"size\":10,\"solidity\":0.2}},\"type\":\"histogram\"}],\"scattergl\":[{\"type\":\"scattergl\",\"marker\":{\"colorbar\":{\"outlinewidth\":0,\"ticks\":\"\"}}}],\"scatter3d\":[{\"type\":\"scatter3d\",\"line\":{\"colorbar\":{\"outlinewidth\":0,\"ticks\":\"\"}},\"marker\":{\"colorbar\":{\"outlinewidth\":0,\"ticks\":\"\"}}}],\"scattermapbox\":[{\"type\":\"scattermapbox\",\"marker\":{\"colorbar\":{\"outlinewidth\":0,\"ticks\":\"\"}}}],\"scatterternary\":[{\"type\":\"scatterternary\",\"marker\":{\"colorbar\":{\"outlinewidth\":0,\"ticks\":\"\"}}}],\"scattercarpet\":[{\"type\":\"scattercarpet\",\"marker\":{\"colorbar\":{\"outlinewidth\":0,\"ticks\":\"\"}}}],\"carpet\":[{\"aaxis\":{\"endlinecolor\":\"#2a3f5f\",\"gridcolor\":\"white\",\"linecolor\":\"white\",\"minorgridcolor\":\"white\",\"startlinecolor\":\"#2a3f5f\"},\"baxis\":{\"endlinecolor\":\"#2a3f5f\",\"gridcolor\":\"white\",\"linecolor\":\"white\",\"minorgridcolor\":\"white\",\"startlinecolor\":\"#2a3f5f\"},\"type\":\"carpet\"}],\"table\":[{\"cells\":{\"fill\":{\"color\":\"#EBF0F8\"},\"line\":{\"color\":\"white\"}},\"header\":{\"fill\":{\"color\":\"#C8D4E3\"},\"line\":{\"color\":\"white\"}},\"type\":\"table\"}],\"barpolar\":[{\"marker\":{\"line\":{\"color\":\"#E5ECF6\",\"width\":0.5},\"pattern\":{\"fillmode\":\"overlay\",\"size\":10,\"solidity\":0.2}},\"type\":\"barpolar\"}],\"pie\":[{\"automargin\":true,\"type\":\"pie\"}]},\"layout\":{\"autotypenumbers\":\"strict\",\"colorway\":[\"#636efa\",\"#EF553B\",\"#00cc96\",\"#ab63fa\",\"#FFA15A\",\"#19d3f3\",\"#FF6692\",\"#B6E880\",\"#FF97FF\",\"#FECB52\"],\"font\":{\"color\":\"#2a3f5f\"},\"hovermode\":\"closest\",\"hoverlabel\":{\"align\":\"left\"},\"paper_bgcolor\":\"white\",\"plot_bgcolor\":\"#E5ECF6\",\"polar\":{\"bgcolor\":\"#E5ECF6\",\"angularaxis\":{\"gridcolor\":\"white\",\"linecolor\":\"white\",\"ticks\":\"\"},\"radialaxis\":{\"gridcolor\":\"white\",\"linecolor\":\"white\",\"ticks\":\"\"}},\"ternary\":{\"bgcolor\":\"#E5ECF6\",\"aaxis\":{\"gridcolor\":\"white\",\"linecolor\":\"white\",\"ticks\":\"\"},\"baxis\":{\"gridcolor\":\"white\",\"linecolor\":\"white\",\"ticks\":\"\"},\"caxis\":{\"gridcolor\":\"white\",\"linecolor\":\"white\",\"ticks\":\"\"}},\"coloraxis\":{\"colorbar\":{\"outlinewidth\":0,\"ticks\":\"\"}},\"colorscale\":{\"sequential\":[[0.0,\"#0d0887\"],[0.1111111111111111,\"#46039f\"],[0.2222222222222222,\"#7201a8\"],[0.3333333333333333,\"#9c179e\"],[0.4444444444444444,\"#bd3786\"],[0.5555555555555556,\"#d8576b\"],[0.6666666666666666,\"#ed7953\"],[0.7777777777777778,\"#fb9f3a\"],[0.8888888888888888,\"#fdca26\"],[1.0,\"#f0f921\"]],\"sequentialminus\":[[0.0,\"#0d0887\"],[0.1111111111111111,\"#46039f\"],[0.2222222222222222,\"#7201a8\"],[0.3333333333333333,\"#9c179e\"],[0.4444444444444444,\"#bd3786\"],[0.5555555555555556,\"#d8576b\"],[0.6666666666666666,\"#ed7953\"],[0.7777777777777778,\"#fb9f3a\"],[0.8888888888888888,\"#fdca26\"],[1.0,\"#f0f921\"]],\"diverging\":[[0,\"#8e0152\"],[0.1,\"#c51b7d\"],[0.2,\"#de77ae\"],[0.3,\"#f1b6da\"],[0.4,\"#fde0ef\"],[0.5,\"#f7f7f7\"],[0.6,\"#e6f5d0\"],[0.7,\"#b8e186\"],[0.8,\"#7fbc41\"],[0.9,\"#4d9221\"],[1,\"#276419\"]]},\"xaxis\":{\"gridcolor\":\"white\",\"linecolor\":\"white\",\"ticks\":\"\",\"title\":{\"standoff\":15},\"zerolinecolor\":\"white\",\"automargin\":true,\"zerolinewidth\":2},\"yaxis\":{\"gridcolor\":\"white\",\"linecolor\":\"white\",\"ticks\":\"\",\"title\":{\"standoff\":15},\"zerolinecolor\":\"white\",\"automargin\":true,\"zerolinewidth\":2},\"scene\":{\"xaxis\":{\"backgroundcolor\":\"#E5ECF6\",\"gridcolor\":\"white\",\"linecolor\":\"white\",\"showbackground\":true,\"ticks\":\"\",\"zerolinecolor\":\"white\",\"gridwidth\":2},\"yaxis\":{\"backgroundcolor\":\"#E5ECF6\",\"gridcolor\":\"white\",\"linecolor\":\"white\",\"showbackground\":true,\"ticks\":\"\",\"zerolinecolor\":\"white\",\"gridwidth\":2},\"zaxis\":{\"backgroundcolor\":\"#E5ECF6\",\"gridcolor\":\"white\",\"linecolor\":\"white\",\"showbackground\":true,\"ticks\":\"\",\"zerolinecolor\":\"white\",\"gridwidth\":2}},\"shapedefaults\":{\"line\":{\"color\":\"#2a3f5f\"}},\"annotationdefaults\":{\"arrowcolor\":\"#2a3f5f\",\"arrowhead\":0,\"arrowwidth\":1},\"geo\":{\"bgcolor\":\"white\",\"landcolor\":\"#E5ECF6\",\"subunitcolor\":\"white\",\"showland\":true,\"showlakes\":true,\"lakecolor\":\"white\"},\"title\":{\"x\":0.05},\"mapbox\":{\"style\":\"light\"}}},\"xaxis\":{\"anchor\":\"y\",\"domain\":[0.0,1.0],\"title\":{\"text\":\"\"},\"tickmode\":\"array\",\"tickvals\":[0,1,2,3,4,5,6,7,8,9,10,11,12,13,14,15,16,17,18,19,20,21,22],\"ticktext\":[\"L0H0\",\"L0H1\",\"L0H2\",\"L0H3\",\"L0H4\",\"L0H5\",\"L0H6\",\"L0H7\",\"L0H8\",\"L0H9\",\"L0H10\",\"L0H11\",\"L0H12\",\"L0H13\",\"L0H14\",\"L0H15\",\"L0H16\",\"L0H17\",\"L0H18\",\"L0H19\",\"embed\",\"pos_embed\",\"bias\"],\"range\":[-0.2,22.2]},\"yaxis\":{\"anchor\":\"x\",\"domain\":[0.0,1.0],\"title\":{\"text\":\"\"}},\"legend\":{\"title\":{\"text\":\"variable\"},\"tracegroupgap\":0},\"title\":{\"text\":\"DLA for L0N1595 averaged over nouns that start with vowels\"},\"width\":800,\"showlegend\":true,\"height\":800},                        {\"responsive\": true}                    ).then(function(){\n",
       "                            \n",
       "var gd = document.getElementById('ec8e8b28-1f84-41db-98bc-09edc5dc89c6');\n",
       "var x = new MutationObserver(function (mutations, observer) {{\n",
       "        var display = window.getComputedStyle(gd).display;\n",
       "        if (!display || display === 'none') {{\n",
       "            console.log([gd, 'removed!']);\n",
       "            Plotly.purge(gd);\n",
       "            observer.disconnect();\n",
       "        }}\n",
       "}});\n",
       "\n",
       "// Listen for the removal of the full notebook cells\n",
       "var notebookContainer = gd.closest('#notebook-container');\n",
       "if (notebookContainer) {{\n",
       "    x.observe(notebookContainer, {childList: true});\n",
       "}}\n",
       "\n",
       "// Listen for the clearing of the current output cell\n",
       "var outputEl = gd.closest('.output');\n",
       "if (outputEl) {{\n",
       "    x.observe(outputEl, {childList: true});\n",
       "}}\n",
       "\n",
       "                        })                };                });            </script>        </div>"
      ]
     },
     "metadata": {},
     "output_type": "display_data"
    }
   ],
   "source": [
    "values = results.mean(dim=0).cpu().tolist()\n",
    "values.pop(-4)\n",
    "labels.pop(-4)\n",
    "\n",
    "haystack_utils.line(values, xticks=labels, title=f\"DLA for L{LAYER}N{NEURON} averaged over nouns that start with vowels\")"
   ]
  },
  {
   "cell_type": "code",
   "execution_count": 103,
   "metadata": {},
   "outputs": [
    {
     "data": {
      "text/html": [
       "<div>                            <div id=\"45a356f2-a3df-4c8e-98c6-d8e33cf10359\" class=\"plotly-graph-div\" style=\"height:800px; width:800px;\"></div>            <script type=\"text/javascript\">                require([\"plotly\"], function(Plotly) {                    window.PLOTLYENV=window.PLOTLYENV || {};                                    if (document.getElementById(\"45a356f2-a3df-4c8e-98c6-d8e33cf10359\")) {                    Plotly.newPlot(                        \"45a356f2-a3df-4c8e-98c6-d8e33cf10359\",                        [{\"hovertemplate\":\"variable=0\\u003cbr\\u003eindex=%{x}\\u003cbr\\u003evalue=%{y}\\u003cextra\\u003e\\u003c\\u002fextra\\u003e\",\"legendgroup\":\"0\",\"line\":{\"color\":\"#636efa\",\"dash\":\"solid\"},\"marker\":{\"symbol\":\"circle\"},\"mode\":\"lines\",\"name\":\"0\",\"orientation\":\"v\",\"showlegend\":true,\"x\":[0,1,2,3,4,5,6,7,8,9,10,11,12,13,14,15,16,17,18,19,20,21,22],\"xaxis\":\"x\",\"y\":[0.14524678885936737,-0.0050049833953380585,0.07049393653869629,0.2655397057533264,0.035599786788225174,0.002865297021344304,0.01265615876764059,0.013102383352816105,0.057764533907175064,0.008675203658640385,0.09100174903869629,-0.026114236563444138,-0.013397185131907463,-0.001294427434913814,0.1630738377571106,-0.005034209229052067,0.005161303095519543,-0.0014565313467755914,-0.021006755530834198,-0.0009425383759662509,0.2671651542186737,-0.0005315595772117376,-0.10056909918785095],\"yaxis\":\"y\",\"type\":\"scatter\"}],                        {\"template\":{\"data\":{\"histogram2dcontour\":[{\"type\":\"histogram2dcontour\",\"colorbar\":{\"outlinewidth\":0,\"ticks\":\"\"},\"colorscale\":[[0.0,\"#0d0887\"],[0.1111111111111111,\"#46039f\"],[0.2222222222222222,\"#7201a8\"],[0.3333333333333333,\"#9c179e\"],[0.4444444444444444,\"#bd3786\"],[0.5555555555555556,\"#d8576b\"],[0.6666666666666666,\"#ed7953\"],[0.7777777777777778,\"#fb9f3a\"],[0.8888888888888888,\"#fdca26\"],[1.0,\"#f0f921\"]]}],\"choropleth\":[{\"type\":\"choropleth\",\"colorbar\":{\"outlinewidth\":0,\"ticks\":\"\"}}],\"histogram2d\":[{\"type\":\"histogram2d\",\"colorbar\":{\"outlinewidth\":0,\"ticks\":\"\"},\"colorscale\":[[0.0,\"#0d0887\"],[0.1111111111111111,\"#46039f\"],[0.2222222222222222,\"#7201a8\"],[0.3333333333333333,\"#9c179e\"],[0.4444444444444444,\"#bd3786\"],[0.5555555555555556,\"#d8576b\"],[0.6666666666666666,\"#ed7953\"],[0.7777777777777778,\"#fb9f3a\"],[0.8888888888888888,\"#fdca26\"],[1.0,\"#f0f921\"]]}],\"heatmap\":[{\"type\":\"heatmap\",\"colorbar\":{\"outlinewidth\":0,\"ticks\":\"\"},\"colorscale\":[[0.0,\"#0d0887\"],[0.1111111111111111,\"#46039f\"],[0.2222222222222222,\"#7201a8\"],[0.3333333333333333,\"#9c179e\"],[0.4444444444444444,\"#bd3786\"],[0.5555555555555556,\"#d8576b\"],[0.6666666666666666,\"#ed7953\"],[0.7777777777777778,\"#fb9f3a\"],[0.8888888888888888,\"#fdca26\"],[1.0,\"#f0f921\"]]}],\"heatmapgl\":[{\"type\":\"heatmapgl\",\"colorbar\":{\"outlinewidth\":0,\"ticks\":\"\"},\"colorscale\":[[0.0,\"#0d0887\"],[0.1111111111111111,\"#46039f\"],[0.2222222222222222,\"#7201a8\"],[0.3333333333333333,\"#9c179e\"],[0.4444444444444444,\"#bd3786\"],[0.5555555555555556,\"#d8576b\"],[0.6666666666666666,\"#ed7953\"],[0.7777777777777778,\"#fb9f3a\"],[0.8888888888888888,\"#fdca26\"],[1.0,\"#f0f921\"]]}],\"contourcarpet\":[{\"type\":\"contourcarpet\",\"colorbar\":{\"outlinewidth\":0,\"ticks\":\"\"}}],\"contour\":[{\"type\":\"contour\",\"colorbar\":{\"outlinewidth\":0,\"ticks\":\"\"},\"colorscale\":[[0.0,\"#0d0887\"],[0.1111111111111111,\"#46039f\"],[0.2222222222222222,\"#7201a8\"],[0.3333333333333333,\"#9c179e\"],[0.4444444444444444,\"#bd3786\"],[0.5555555555555556,\"#d8576b\"],[0.6666666666666666,\"#ed7953\"],[0.7777777777777778,\"#fb9f3a\"],[0.8888888888888888,\"#fdca26\"],[1.0,\"#f0f921\"]]}],\"surface\":[{\"type\":\"surface\",\"colorbar\":{\"outlinewidth\":0,\"ticks\":\"\"},\"colorscale\":[[0.0,\"#0d0887\"],[0.1111111111111111,\"#46039f\"],[0.2222222222222222,\"#7201a8\"],[0.3333333333333333,\"#9c179e\"],[0.4444444444444444,\"#bd3786\"],[0.5555555555555556,\"#d8576b\"],[0.6666666666666666,\"#ed7953\"],[0.7777777777777778,\"#fb9f3a\"],[0.8888888888888888,\"#fdca26\"],[1.0,\"#f0f921\"]]}],\"mesh3d\":[{\"type\":\"mesh3d\",\"colorbar\":{\"outlinewidth\":0,\"ticks\":\"\"}}],\"scatter\":[{\"fillpattern\":{\"fillmode\":\"overlay\",\"size\":10,\"solidity\":0.2},\"type\":\"scatter\"}],\"parcoords\":[{\"type\":\"parcoords\",\"line\":{\"colorbar\":{\"outlinewidth\":0,\"ticks\":\"\"}}}],\"scatterpolargl\":[{\"type\":\"scatterpolargl\",\"marker\":{\"colorbar\":{\"outlinewidth\":0,\"ticks\":\"\"}}}],\"bar\":[{\"error_x\":{\"color\":\"#2a3f5f\"},\"error_y\":{\"color\":\"#2a3f5f\"},\"marker\":{\"line\":{\"color\":\"#E5ECF6\",\"width\":0.5},\"pattern\":{\"fillmode\":\"overlay\",\"size\":10,\"solidity\":0.2}},\"type\":\"bar\"}],\"scattergeo\":[{\"type\":\"scattergeo\",\"marker\":{\"colorbar\":{\"outlinewidth\":0,\"ticks\":\"\"}}}],\"scatterpolar\":[{\"type\":\"scatterpolar\",\"marker\":{\"colorbar\":{\"outlinewidth\":0,\"ticks\":\"\"}}}],\"histogram\":[{\"marker\":{\"pattern\":{\"fillmode\":\"overlay\",\"size\":10,\"solidity\":0.2}},\"type\":\"histogram\"}],\"scattergl\":[{\"type\":\"scattergl\",\"marker\":{\"colorbar\":{\"outlinewidth\":0,\"ticks\":\"\"}}}],\"scatter3d\":[{\"type\":\"scatter3d\",\"line\":{\"colorbar\":{\"outlinewidth\":0,\"ticks\":\"\"}},\"marker\":{\"colorbar\":{\"outlinewidth\":0,\"ticks\":\"\"}}}],\"scattermapbox\":[{\"type\":\"scattermapbox\",\"marker\":{\"colorbar\":{\"outlinewidth\":0,\"ticks\":\"\"}}}],\"scatterternary\":[{\"type\":\"scatterternary\",\"marker\":{\"colorbar\":{\"outlinewidth\":0,\"ticks\":\"\"}}}],\"scattercarpet\":[{\"type\":\"scattercarpet\",\"marker\":{\"colorbar\":{\"outlinewidth\":0,\"ticks\":\"\"}}}],\"carpet\":[{\"aaxis\":{\"endlinecolor\":\"#2a3f5f\",\"gridcolor\":\"white\",\"linecolor\":\"white\",\"minorgridcolor\":\"white\",\"startlinecolor\":\"#2a3f5f\"},\"baxis\":{\"endlinecolor\":\"#2a3f5f\",\"gridcolor\":\"white\",\"linecolor\":\"white\",\"minorgridcolor\":\"white\",\"startlinecolor\":\"#2a3f5f\"},\"type\":\"carpet\"}],\"table\":[{\"cells\":{\"fill\":{\"color\":\"#EBF0F8\"},\"line\":{\"color\":\"white\"}},\"header\":{\"fill\":{\"color\":\"#C8D4E3\"},\"line\":{\"color\":\"white\"}},\"type\":\"table\"}],\"barpolar\":[{\"marker\":{\"line\":{\"color\":\"#E5ECF6\",\"width\":0.5},\"pattern\":{\"fillmode\":\"overlay\",\"size\":10,\"solidity\":0.2}},\"type\":\"barpolar\"}],\"pie\":[{\"automargin\":true,\"type\":\"pie\"}]},\"layout\":{\"autotypenumbers\":\"strict\",\"colorway\":[\"#636efa\",\"#EF553B\",\"#00cc96\",\"#ab63fa\",\"#FFA15A\",\"#19d3f3\",\"#FF6692\",\"#B6E880\",\"#FF97FF\",\"#FECB52\"],\"font\":{\"color\":\"#2a3f5f\"},\"hovermode\":\"closest\",\"hoverlabel\":{\"align\":\"left\"},\"paper_bgcolor\":\"white\",\"plot_bgcolor\":\"#E5ECF6\",\"polar\":{\"bgcolor\":\"#E5ECF6\",\"angularaxis\":{\"gridcolor\":\"white\",\"linecolor\":\"white\",\"ticks\":\"\"},\"radialaxis\":{\"gridcolor\":\"white\",\"linecolor\":\"white\",\"ticks\":\"\"}},\"ternary\":{\"bgcolor\":\"#E5ECF6\",\"aaxis\":{\"gridcolor\":\"white\",\"linecolor\":\"white\",\"ticks\":\"\"},\"baxis\":{\"gridcolor\":\"white\",\"linecolor\":\"white\",\"ticks\":\"\"},\"caxis\":{\"gridcolor\":\"white\",\"linecolor\":\"white\",\"ticks\":\"\"}},\"coloraxis\":{\"colorbar\":{\"outlinewidth\":0,\"ticks\":\"\"}},\"colorscale\":{\"sequential\":[[0.0,\"#0d0887\"],[0.1111111111111111,\"#46039f\"],[0.2222222222222222,\"#7201a8\"],[0.3333333333333333,\"#9c179e\"],[0.4444444444444444,\"#bd3786\"],[0.5555555555555556,\"#d8576b\"],[0.6666666666666666,\"#ed7953\"],[0.7777777777777778,\"#fb9f3a\"],[0.8888888888888888,\"#fdca26\"],[1.0,\"#f0f921\"]],\"sequentialminus\":[[0.0,\"#0d0887\"],[0.1111111111111111,\"#46039f\"],[0.2222222222222222,\"#7201a8\"],[0.3333333333333333,\"#9c179e\"],[0.4444444444444444,\"#bd3786\"],[0.5555555555555556,\"#d8576b\"],[0.6666666666666666,\"#ed7953\"],[0.7777777777777778,\"#fb9f3a\"],[0.8888888888888888,\"#fdca26\"],[1.0,\"#f0f921\"]],\"diverging\":[[0,\"#8e0152\"],[0.1,\"#c51b7d\"],[0.2,\"#de77ae\"],[0.3,\"#f1b6da\"],[0.4,\"#fde0ef\"],[0.5,\"#f7f7f7\"],[0.6,\"#e6f5d0\"],[0.7,\"#b8e186\"],[0.8,\"#7fbc41\"],[0.9,\"#4d9221\"],[1,\"#276419\"]]},\"xaxis\":{\"gridcolor\":\"white\",\"linecolor\":\"white\",\"ticks\":\"\",\"title\":{\"standoff\":15},\"zerolinecolor\":\"white\",\"automargin\":true,\"zerolinewidth\":2},\"yaxis\":{\"gridcolor\":\"white\",\"linecolor\":\"white\",\"ticks\":\"\",\"title\":{\"standoff\":15},\"zerolinecolor\":\"white\",\"automargin\":true,\"zerolinewidth\":2},\"scene\":{\"xaxis\":{\"backgroundcolor\":\"#E5ECF6\",\"gridcolor\":\"white\",\"linecolor\":\"white\",\"showbackground\":true,\"ticks\":\"\",\"zerolinecolor\":\"white\",\"gridwidth\":2},\"yaxis\":{\"backgroundcolor\":\"#E5ECF6\",\"gridcolor\":\"white\",\"linecolor\":\"white\",\"showbackground\":true,\"ticks\":\"\",\"zerolinecolor\":\"white\",\"gridwidth\":2},\"zaxis\":{\"backgroundcolor\":\"#E5ECF6\",\"gridcolor\":\"white\",\"linecolor\":\"white\",\"showbackground\":true,\"ticks\":\"\",\"zerolinecolor\":\"white\",\"gridwidth\":2}},\"shapedefaults\":{\"line\":{\"color\":\"#2a3f5f\"}},\"annotationdefaults\":{\"arrowcolor\":\"#2a3f5f\",\"arrowhead\":0,\"arrowwidth\":1},\"geo\":{\"bgcolor\":\"white\",\"landcolor\":\"#E5ECF6\",\"subunitcolor\":\"white\",\"showland\":true,\"showlakes\":true,\"lakecolor\":\"white\"},\"title\":{\"x\":0.05},\"mapbox\":{\"style\":\"light\"}}},\"xaxis\":{\"anchor\":\"y\",\"domain\":[0.0,1.0],\"title\":{\"text\":\"\"},\"tickmode\":\"array\",\"tickvals\":[0,1,2,3,4,5,6,7,8,9,10,11,12,13,14,15,16,17,18,19,20,21,22],\"ticktext\":[\"L0H0\",\"L0H1\",\"L0H2\",\"L0H3\",\"L0H4\",\"L0H5\",\"L0H6\",\"L0H7\",\"L0H8\",\"L0H9\",\"L0H10\",\"L0H11\",\"L0H12\",\"L0H13\",\"L0H14\",\"L0H15\",\"L0H16\",\"L0H17\",\"L0H18\",\"L0H19\",\"embed\",\"pos_embed\",\"bias\"],\"range\":[-0.2,22.2]},\"yaxis\":{\"anchor\":\"x\",\"domain\":[0.0,1.0],\"title\":{\"text\":\"\"}},\"legend\":{\"title\":{\"text\":\"variable\"},\"tracegroupgap\":0},\"title\":{\"text\":\"DLA for L0N1595 averaged over nouns that start with vowels\"},\"width\":800,\"showlegend\":true,\"height\":800},                        {\"responsive\": true}                    ).then(function(){\n",
       "                            \n",
       "var gd = document.getElementById('45a356f2-a3df-4c8e-98c6-d8e33cf10359');\n",
       "var x = new MutationObserver(function (mutations, observer) {{\n",
       "        var display = window.getComputedStyle(gd).display;\n",
       "        if (!display || display === 'none') {{\n",
       "            console.log([gd, 'removed!']);\n",
       "            Plotly.purge(gd);\n",
       "            observer.disconnect();\n",
       "        }}\n",
       "}});\n",
       "\n",
       "// Listen for the removal of the full notebook cells\n",
       "var notebookContainer = gd.closest('#notebook-container');\n",
       "if (notebookContainer) {{\n",
       "    x.observe(notebookContainer, {childList: true});\n",
       "}}\n",
       "\n",
       "// Listen for the clearing of the current output cell\n",
       "var outputEl = gd.closest('.output');\n",
       "if (outputEl) {{\n",
       "    x.observe(outputEl, {childList: true});\n",
       "}}\n",
       "\n",
       "                        })                };                });            </script>        </div>"
      ]
     },
     "metadata": {},
     "output_type": "display_data"
    }
   ],
   "source": [
    "values = results.mean(dim=0).cpu().tolist()\n",
    "values.pop(-4)\n",
    "labels.pop(-4)\n",
    "\n",
    "haystack_utils.line(values, xticks=labels, title=f\"DLA for L{LAYER}N{NEURON} averaged over nouns that start with vowels\")\n",
    "\n",
    "# Ideas\n",
    "# Replace head with self attention and see if loss decreases\n",
    "# Compare head on vowel with consonant and see if there's a difference\n",
    "# Compare cosine sim of embedding of apple and pear, then cosine sim of result head computes for both. "
   ]
  },
  {
   "cell_type": "code",
   "execution_count": 11,
   "metadata": {},
   "outputs": [],
   "source": [
    "# H3 and unembed most important\n",
    "interesting_l0_heads = [0, 3, 10, 14]"
   ]
  },
  {
   "cell_type": "markdown",
   "metadata": {},
   "source": [
    "### Look at heads writing to L0"
   ]
  },
  {
   "cell_type": "code",
   "execution_count": null,
   "metadata": {},
   "outputs": [],
   "source": [
    "from neel_plotly import line\n",
    "values = []\n",
    "pos = np.s_[-5:-4]\n",
    "results = []\n",
    "\n",
    "for prompt in vowel_prompts[:50]:\n",
    "    _, cache = model.run_with_cache(prompt)\n",
    "    attrs, labels = cache.get_full_resid_decomposition(LAYER  + 1, apply_ln=True, return_labels=True, pos_slice=pos, expand_neurons=False)\n",
    "    attrs = attrs.squeeze(1)\n",
    "    answer_residual_direction = model.W_in[LAYER, :, NEURON]\n",
    "\n",
    "    results.append(einsum(\"c b d, d -> c\", attrs, answer_residual_direction))\n",
    "\n",
    "results = torch.stack(results)\n",
    "print(results.shape)\n"
   ]
  },
  {
   "cell_type": "code",
   "execution_count": 113,
   "metadata": {},
   "outputs": [
    {
     "data": {
      "text/html": [
       "<div>                            <div id=\"c17f6bdd-cda1-4479-8dde-e9e488ee601e\" class=\"plotly-graph-div\" style=\"height:525px; width:100%;\"></div>            <script type=\"text/javascript\">                require([\"plotly\"], function(Plotly) {                    window.PLOTLYENV=window.PLOTLYENV || {};                                    if (document.getElementById(\"c17f6bdd-cda1-4479-8dde-e9e488ee601e\")) {                    Plotly.newPlot(                        \"c17f6bdd-cda1-4479-8dde-e9e488ee601e\",                        [{\"hovertemplate\":\"Color=0\\u003cbr\\u003ex=%{x}\\u003cbr\\u003ey=%{y}\\u003cextra\\u003e\\u003c\\u002fextra\\u003e\",\"legendgroup\":\"0\",\"line\":{\"color\":\"#636efa\",\"dash\":\"solid\"},\"marker\":{\"symbol\":\"circle\"},\"mode\":\"lines\",\"name\":\"0\",\"showlegend\":true,\"x\":[0,1,2,3,4,5,6,7,8,9,10,11,12,13,14,15,16,17,18,19,20,21,22,23],\"xaxis\":\"x\",\"y\":[0.1940571516752243,-0.02008725516498089,0.11035503447055817,0.46099305152893066,0.008804334327578545,-0.0007312856614589691,0.002735213376581669,0.014513901434838772,0.095070019364357,0.0032276390120387077,0.1858118176460266,-0.029527435079216957,-0.002738294191658497,-0.00033674202859401703,0.07408853620290756,-0.008635860867798328,0.0072982460260391235,0.0016394490376114845,-0.011831918731331825,-0.0018458496779203415,0.0,0.3460850417613983,-0.0005003167316317558,-0.09465818107128143],\"yaxis\":\"y\",\"type\":\"scattergl\"},{\"hovertemplate\":\"Color=1\\u003cbr\\u003ex=%{x}\\u003cbr\\u003ey=%{y}\\u003cextra\\u003e\\u003c\\u002fextra\\u003e\",\"legendgroup\":\"1\",\"line\":{\"color\":\"#EF553B\",\"dash\":\"solid\"},\"marker\":{\"symbol\":\"circle\"},\"mode\":\"lines\",\"name\":\"1\",\"showlegend\":true,\"x\":[0,1,2,3,4,5,6,7,8,9,10,11,12,13,14,15,16,17,18,19,20,21,22,23],\"xaxis\":\"x\",\"y\":[0.11066374182701111,0.004692126531153917,0.07750019431114197,0.33846473693847656,0.037287622690200806,-0.002412712899968028,0.05060483515262604,0.02287304401397705,0.027625633403658867,0.0019231801852583885,0.14873938262462616,-0.05470291152596474,-0.002099269535392523,-0.007011685986071825,0.11034555733203888,0.002726874779909849,-0.008153319358825684,-0.003589459927752614,-0.023207535967230797,-0.002636214019730687,0.0,0.3131362497806549,-0.0006431834772229195,-0.1216876283288002],\"yaxis\":\"y\",\"type\":\"scattergl\"},{\"hovertemplate\":\"Color=2\\u003cbr\\u003ex=%{x}\\u003cbr\\u003ey=%{y}\\u003cextra\\u003e\\u003c\\u002fextra\\u003e\",\"legendgroup\":\"2\",\"line\":{\"color\":\"#00cc96\",\"dash\":\"solid\"},\"marker\":{\"symbol\":\"circle\"},\"mode\":\"lines\",\"name\":\"2\",\"showlegend\":true,\"x\":[0,1,2,3,4,5,6,7,8,9,10,11,12,13,14,15,16,17,18,19,20,21,22,23],\"xaxis\":\"x\",\"y\":[0.12863126397132874,0.0016347914934158325,0.035711437463760376,0.2648240923881531,0.01906939409673214,0.0066574374213814735,0.0032793753780424595,0.016776256263256073,0.09489808976650238,0.010152900591492653,0.15890131890773773,-0.005993525963276625,-0.018443923443555832,0.007581985555589199,0.17793652415275574,-0.004043865948915482,0.029774723574519157,0.0013762633316218853,-0.022442352026700974,0.003998300991952419,0.0,0.2407170832157135,-0.00041717570275068283,-0.07892823219299316],\"yaxis\":\"y\",\"type\":\"scattergl\"},{\"hovertemplate\":\"Color=3\\u003cbr\\u003ex=%{x}\\u003cbr\\u003ey=%{y}\\u003cextra\\u003e\\u003c\\u002fextra\\u003e\",\"legendgroup\":\"3\",\"line\":{\"color\":\"#ab63fa\",\"dash\":\"solid\"},\"marker\":{\"symbol\":\"circle\"},\"mode\":\"lines\",\"name\":\"3\",\"showlegend\":true,\"x\":[0,1,2,3,4,5,6,7,8,9,10,11,12,13,14,15,16,17,18,19,20,21,22,23],\"xaxis\":\"x\",\"y\":[0.21887707710266113,-0.005451824516057968,0.04595620557665825,0.3946528136730194,0.06418244540691376,-0.004155736416578293,0.009869554080069065,0.021776683628559113,0.056522998958826065,0.013852853327989578,0.18191829323768616,-0.04723320156335831,-0.007756659761071205,0.00048377271741628647,0.14711540937423706,-0.0018558260053396225,0.00017103739082813263,-0.014658374711871147,-0.020312048494815826,-0.011110549792647362,0.0,0.3233035206794739,-0.0005442886613309383,-0.10297732055187225],\"yaxis\":\"y\",\"type\":\"scattergl\"},{\"hovertemplate\":\"Color=4\\u003cbr\\u003ex=%{x}\\u003cbr\\u003ey=%{y}\\u003cextra\\u003e\\u003c\\u002fextra\\u003e\",\"legendgroup\":\"4\",\"line\":{\"color\":\"#FFA15A\",\"dash\":\"solid\"},\"marker\":{\"symbol\":\"circle\"},\"mode\":\"lines\",\"name\":\"4\",\"showlegend\":true,\"x\":[0,1,2,3,4,5,6,7,8,9,10,11,12,13,14,15,16,17,18,19,20,21,22,23],\"xaxis\":\"x\",\"y\":[0.17175491154193878,-0.004916030913591385,0.07685859501361847,0.2281041294336319,0.006794525310397148,0.0011568842455744743,0.01840277947485447,-0.003016507253050804,0.11389973759651184,0.012506847269833088,0.10505316406488419,0.0036881808191537857,0.0013542678207159042,-0.0021650432609021664,0.175482839345932,-0.00022958731278777122,-0.005880085751414299,-0.0003164149820804596,-0.026367411017417908,-0.0038829450495541096,0.0,0.2983417809009552,-0.0005294359289109707,-0.10016702860593796],\"yaxis\":\"y\",\"type\":\"scattergl\"},{\"hovertemplate\":\"Color=5\\u003cbr\\u003ex=%{x}\\u003cbr\\u003ey=%{y}\\u003cextra\\u003e\\u003c\\u002fextra\\u003e\",\"legendgroup\":\"5\",\"line\":{\"color\":\"#19d3f3\",\"dash\":\"solid\"},\"marker\":{\"symbol\":\"circle\"},\"mode\":\"lines\",\"name\":\"5\",\"showlegend\":true,\"x\":[0,1,2,3,4,5,6,7,8,9,10,11,12,13,14,15,16,17,18,19,20,21,22,23],\"xaxis\":\"x\",\"y\":[0.18532371520996094,-0.02137729898095131,0.044557858258485794,0.2315596491098404,-0.01194712147116661,0.004932143725454807,-0.0005409227451309562,0.004366328474134207,0.020822517573833466,0.02792353183031082,0.17683696746826172,-0.05968296900391579,-0.013115274719893932,-0.009716921485960484,0.3376207947731018,0.0031785573810338974,0.021801622584462166,-0.00483540678396821,-0.028385378420352936,0.0006628867704421282,0.0,0.33768245577812195,-0.0005634319968521595,-0.10659937560558319],\"yaxis\":\"y\",\"type\":\"scattergl\"},{\"hovertemplate\":\"Color=6\\u003cbr\\u003ex=%{x}\\u003cbr\\u003ey=%{y}\\u003cextra\\u003e\\u003c\\u002fextra\\u003e\",\"legendgroup\":\"6\",\"line\":{\"color\":\"#FF6692\",\"dash\":\"solid\"},\"marker\":{\"symbol\":\"circle\"},\"mode\":\"lines\",\"name\":\"6\",\"showlegend\":true,\"x\":[0,1,2,3,4,5,6,7,8,9,10,11,12,13,14,15,16,17,18,19,20,21,22,23],\"xaxis\":\"x\",\"y\":[0.15741503238677979,-0.0039047417230904102,0.01902715303003788,0.3562873601913452,0.01903965137898922,-0.0019442243501543999,0.01682848110795021,0.018964987248182297,0.041220273822546005,0.008311169221997261,0.08653777092695236,-0.05019978806376457,-0.011109976097941399,-0.004949107300490141,0.08715575933456421,-0.007145433221012354,0.009439338929951191,-0.01625097543001175,-0.026566890999674797,0.016586139798164368,0.0,0.1912895143032074,-0.0005109775811433792,-0.09667494893074036],\"yaxis\":\"y\",\"type\":\"scattergl\"},{\"hovertemplate\":\"Color=7\\u003cbr\\u003ex=%{x}\\u003cbr\\u003ey=%{y}\\u003cextra\\u003e\\u003c\\u002fextra\\u003e\",\"legendgroup\":\"7\",\"line\":{\"color\":\"#B6E880\",\"dash\":\"solid\"},\"marker\":{\"symbol\":\"circle\"},\"mode\":\"lines\",\"name\":\"7\",\"showlegend\":true,\"x\":[0,1,2,3,4,5,6,7,8,9,10,11,12,13,14,15,16,17,18,19,20,21,22,23],\"xaxis\":\"x\",\"y\":[0.13106533885002136,-0.007160559296607971,0.08194305002689362,0.33756664395332336,0.02043875679373741,-0.008035069331526756,0.004176264628767967,0.02399861067533493,0.03510056436061859,0.006674754433333874,0.06940726190805435,-0.029734157025814056,-0.007852359674870968,-0.0010095974430441856,0.20329846441745758,-0.0037983497604727745,0.026190152391791344,-0.0024091133382171392,-0.02162204124033451,-0.009769227355718613,0.0,0.2432383894920349,-0.0005950150080025196,-0.11257453262805939],\"yaxis\":\"y\",\"type\":\"scattergl\"},{\"hovertemplate\":\"Color=8\\u003cbr\\u003ex=%{x}\\u003cbr\\u003ey=%{y}\\u003cextra\\u003e\\u003c\\u002fextra\\u003e\",\"legendgroup\":\"8\",\"line\":{\"color\":\"#FF97FF\",\"dash\":\"solid\"},\"marker\":{\"symbol\":\"circle\"},\"mode\":\"lines\",\"name\":\"8\",\"showlegend\":true,\"x\":[0,1,2,3,4,5,6,7,8,9,10,11,12,13,14,15,16,17,18,19,20,21,22,23],\"xaxis\":\"x\",\"y\":[0.21433067321777344,-0.0030262265354394913,0.09927728772163391,0.18377722799777985,0.11629508435726166,0.01167529821395874,0.04078175127506256,0.0011793836019933224,0.07420453429222107,0.004258142784237862,0.16082361340522766,-0.037561606615781784,-0.02041727676987648,0.006123160477727652,0.23812651634216309,-0.005663169547915459,0.003699451219290495,0.004405240528285503,-0.01904778555035591,-0.020217299461364746,0.0,0.2842023968696594,-0.000479748472571373,-0.090767040848732],\"yaxis\":\"y\",\"type\":\"scattergl\"},{\"hovertemplate\":\"Color=9\\u003cbr\\u003ex=%{x}\\u003cbr\\u003ey=%{y}\\u003cextra\\u003e\\u003c\\u002fextra\\u003e\",\"legendgroup\":\"9\",\"line\":{\"color\":\"#FECB52\",\"dash\":\"solid\"},\"marker\":{\"symbol\":\"circle\"},\"mode\":\"lines\",\"name\":\"9\",\"showlegend\":true,\"x\":[0,1,2,3,4,5,6,7,8,9,10,11,12,13,14,15,16,17,18,19,20,21,22,23],\"xaxis\":\"x\",\"y\":[0.09555016458034515,-0.018063172698020935,0.07725560665130615,0.3803754150867462,0.0346333384513855,0.014217941090464592,0.034072134643793106,0.026751210913062096,0.010118240490555763,0.0042612506076693535,0.12226671725511551,-0.039000023156404495,-0.021838676184415817,-0.007008693180978298,0.0704299658536911,-0.003871045308187604,0.001056539360433817,-0.009429613128304482,-0.020256059244275093,0.002512336242944002,0.0,0.2610779106616974,-0.0005403528921306133,-0.1022324338555336],\"yaxis\":\"y\",\"type\":\"scattergl\"},{\"hovertemplate\":\"Color=10\\u003cbr\\u003ex=%{x}\\u003cbr\\u003ey=%{y}\\u003cextra\\u003e\\u003c\\u002fextra\\u003e\",\"legendgroup\":\"10\",\"line\":{\"color\":\"#636efa\",\"dash\":\"solid\"},\"marker\":{\"symbol\":\"circle\"},\"mode\":\"lines\",\"name\":\"10\",\"showlegend\":true,\"x\":[0,1,2,3,4,5,6,7,8,9,10,11,12,13,14,15,16,17,18,19,20,21,22,23],\"xaxis\":\"x\",\"y\":[0.3042139410972595,-0.018863100558519363,0.10711518675088882,0.3676008880138397,0.03297613188624382,-0.023815831169486046,0.04122328385710716,0.014938972890377045,0.04372371733188629,0.008365740068256855,0.09595140069723129,-0.030180323868989944,-0.010594435036182404,-0.015856169164180756,0.2714531123638153,-0.011383664794266224,0.04229043051600456,0.004855353385210037,-0.020423468202352524,-0.008352902717888355,0.0,0.4137391746044159,-0.0006111268885433674,-0.11562289297580719],\"yaxis\":\"y\",\"type\":\"scattergl\"},{\"hovertemplate\":\"Color=11\\u003cbr\\u003ex=%{x}\\u003cbr\\u003ey=%{y}\\u003cextra\\u003e\\u003c\\u002fextra\\u003e\",\"legendgroup\":\"11\",\"line\":{\"color\":\"#EF553B\",\"dash\":\"solid\"},\"marker\":{\"symbol\":\"circle\"},\"mode\":\"lines\",\"name\":\"11\",\"showlegend\":true,\"x\":[0,1,2,3,4,5,6,7,8,9,10,11,12,13,14,15,16,17,18,19,20,21,22,23],\"xaxis\":\"x\",\"y\":[0.18789422512054443,-0.0127185620367527,0.01634765975177288,0.3782363831996918,0.03836311399936676,-0.0008370140567421913,0.010059920139610767,0.004294445738196373,0.054647114127874374,0.0021749790757894516,0.2468973994255066,-0.022801265120506287,-0.01879359781742096,0.006205905694514513,0.12487351149320602,-0.003824549959972501,0.010452484712004662,0.0025428803637623787,-0.016766708344221115,-0.004288464318960905,0.0,0.297895610332489,-0.0004465067759156227,-0.08447737246751785],\"yaxis\":\"y\",\"type\":\"scattergl\"},{\"hovertemplate\":\"Color=12\\u003cbr\\u003ex=%{x}\\u003cbr\\u003ey=%{y}\\u003cextra\\u003e\\u003c\\u002fextra\\u003e\",\"legendgroup\":\"12\",\"line\":{\"color\":\"#00cc96\",\"dash\":\"solid\"},\"marker\":{\"symbol\":\"circle\"},\"mode\":\"lines\",\"name\":\"12\",\"showlegend\":true,\"x\":[0,1,2,3,4,5,6,7,8,9,10,11,12,13,14,15,16,17,18,19,20,21,22,23],\"xaxis\":\"x\",\"y\":[0.2686658799648285,-0.008808176033198833,0.09309276938438416,0.24759654700756073,0.054696470499038696,-0.018662944436073303,0.017963821068406105,0.03097839653491974,0.06735743582248688,0.01243640761822462,0.022568369284272194,-0.02570503205060959,-0.027338465675711632,0.003032384440302849,0.07460403442382812,-0.011451633647084236,-0.030990082770586014,-0.0001317099668085575,-0.037456169724464417,-0.0030896449461579323,0.0,0.35498225688934326,-0.0006335070356726646,-0.11985734850168228],\"yaxis\":\"y\",\"type\":\"scattergl\"},{\"hovertemplate\":\"Color=13\\u003cbr\\u003ex=%{x}\\u003cbr\\u003ey=%{y}\\u003cextra\\u003e\\u003c\\u002fextra\\u003e\",\"legendgroup\":\"13\",\"line\":{\"color\":\"#ab63fa\",\"dash\":\"solid\"},\"marker\":{\"symbol\":\"circle\"},\"mode\":\"lines\",\"name\":\"13\",\"showlegend\":true,\"x\":[0,1,2,3,4,5,6,7,8,9,10,11,12,13,14,15,16,17,18,19,20,21,22,23],\"xaxis\":\"x\",\"y\":[0.015627644956111908,-0.0063959346152842045,0.09577403962612152,0.25501948595046997,0.016819210723042488,-0.002549481112509966,0.018154960125684738,0.023696718737483025,0.0837436392903328,0.006345232017338276,0.1238248273730278,-0.023677267134189606,-0.01165446825325489,0.0004565007984638214,0.31257736682891846,-0.008795727975666523,0.0016614887863397598,0.0025478345341980457,-0.01915695331990719,0.0057621486485004425,0.0,0.30223190784454346,-0.00042395852506160736,-0.08021149039268494],\"yaxis\":\"y\",\"type\":\"scattergl\"},{\"hovertemplate\":\"Color=14\\u003cbr\\u003ex=%{x}\\u003cbr\\u003ey=%{y}\\u003cextra\\u003e\\u003c\\u002fextra\\u003e\",\"legendgroup\":\"14\",\"line\":{\"color\":\"#FFA15A\",\"dash\":\"solid\"},\"marker\":{\"symbol\":\"circle\"},\"mode\":\"lines\",\"name\":\"14\",\"showlegend\":true,\"x\":[0,1,2,3,4,5,6,7,8,9,10,11,12,13,14,15,16,17,18,19,20,21,22,23],\"xaxis\":\"x\",\"y\":[0.15153764188289642,0.022699199616909027,0.17776310443878174,0.3084661364555359,0.06961143761873245,-0.01902960240840912,0.004220244474709034,0.008757315576076508,0.04399877041578293,0.010937366634607315,-0.03432932868599892,-0.00905577838420868,-0.014988912269473076,0.004145265556871891,0.17153987288475037,-0.009980864822864532,-0.001713351346552372,0.006731370463967323,-0.020430147647857666,-0.004914280027151108,0.0,0.30154478549957275,-0.000466751866042614,-0.0883079543709755],\"yaxis\":\"y\",\"type\":\"scattergl\"},{\"hovertemplate\":\"Color=15\\u003cbr\\u003ex=%{x}\\u003cbr\\u003ey=%{y}\\u003cextra\\u003e\\u003c\\u002fextra\\u003e\",\"legendgroup\":\"15\",\"line\":{\"color\":\"#19d3f3\",\"dash\":\"solid\"},\"marker\":{\"symbol\":\"circle\"},\"mode\":\"lines\",\"name\":\"15\",\"showlegend\":true,\"x\":[0,1,2,3,4,5,6,7,8,9,10,11,12,13,14,15,16,17,18,19,20,21,22,23],\"xaxis\":\"x\",\"y\":[0.10421350598335266,-0.014725403860211372,0.0020260605961084366,0.3099825084209442,-0.018289463594555855,-0.004830315709114075,0.02113443613052368,0.020632367581129074,0.032740116119384766,0.006130879744887352,0.15385481715202332,-0.035590093582868576,-0.005534742958843708,-0.010258770547807217,0.13450667262077332,-0.0017685224302113056,0.0018534483388066292,-0.005022822879254818,-0.0040129185654222965,3.354484215378761e-05,0.0,0.27036216855049133,-0.0006252871826291084,-0.11830200254917145],\"yaxis\":\"y\",\"type\":\"scattergl\"},{\"hovertemplate\":\"Color=16\\u003cbr\\u003ex=%{x}\\u003cbr\\u003ey=%{y}\\u003cextra\\u003e\\u003c\\u002fextra\\u003e\",\"legendgroup\":\"16\",\"line\":{\"color\":\"#FF6692\",\"dash\":\"solid\"},\"marker\":{\"symbol\":\"circle\"},\"mode\":\"lines\",\"name\":\"16\",\"showlegend\":true,\"x\":[0,1,2,3,4,5,6,7,8,9,10,11,12,13,14,15,16,17,18,19,20,21,22,23],\"xaxis\":\"x\",\"y\":[0.06519161909818649,-0.008228251710534096,0.01624787040054798,0.35540083050727844,0.044958826154470444,0.0049722883850336075,0.03342093899846077,0.003192450385540724,0.08071282505989075,0.023140698671340942,0.036308955401182175,-0.02701956033706665,-0.02064179629087448,0.003156173974275589,0.10342831909656525,-0.01212993636727333,-0.007437024265527725,0.006502280943095684,-0.0060628680512309074,-0.005716501735150814,0.0,0.32879459857940674,-0.0006431820802390575,-0.12168731540441513],\"yaxis\":\"y\",\"type\":\"scattergl\"},{\"hovertemplate\":\"Color=17\\u003cbr\\u003ex=%{x}\\u003cbr\\u003ey=%{y}\\u003cextra\\u003e\\u003c\\u002fextra\\u003e\",\"legendgroup\":\"17\",\"line\":{\"color\":\"#B6E880\",\"dash\":\"solid\"},\"marker\":{\"symbol\":\"circle\"},\"mode\":\"lines\",\"name\":\"17\",\"showlegend\":true,\"x\":[0,1,2,3,4,5,6,7,8,9,10,11,12,13,14,15,16,17,18,19,20,21,22,23],\"xaxis\":\"x\",\"y\":[0.14784575998783112,0.020264361053705215,0.006813829764723778,0.3517814874649048,0.015077224001288414,0.0013542650267481804,0.00251196650788188,0.02895653247833252,0.08239154517650604,0.009525373578071594,-0.018005069345235825,-0.018393341451883316,-0.018490951508283615,0.005666529759764671,0.1782572865486145,-0.005144261289387941,0.037181902676820755,0.0014187011402100325,-0.025191323831677437,0.011028965003788471,0.0,0.2689473330974579,-0.0006093503907322884,-0.11528728902339935],\"yaxis\":\"y\",\"type\":\"scattergl\"},{\"hovertemplate\":\"Color=18\\u003cbr\\u003ex=%{x}\\u003cbr\\u003ey=%{y}\\u003cextra\\u003e\\u003c\\u002fextra\\u003e\",\"legendgroup\":\"18\",\"line\":{\"color\":\"#FF97FF\",\"dash\":\"solid\"},\"marker\":{\"symbol\":\"circle\"},\"mode\":\"lines\",\"name\":\"18\",\"showlegend\":true,\"x\":[0,1,2,3,4,5,6,7,8,9,10,11,12,13,14,15,16,17,18,19,20,21,22,23],\"xaxis\":\"x\",\"y\":[0.27946236729621887,-0.014174133539199829,0.010192763060331345,0.2662521302700043,0.04877752438187599,0.008533335290849209,0.056268833577632904,0.020235754549503326,0.021720048040151596,0.006268721539527178,0.2959240972995758,-0.04857621341943741,-0.003176859114319086,-0.004826715681701899,0.08353161811828613,-0.008809952065348625,-0.005914002191275358,0.007179385982453823,-0.027130665257573128,-0.002862493507564068,0.0,0.3272550702095032,-0.0006042756140232086,-0.11432664096355438],\"yaxis\":\"y\",\"type\":\"scattergl\"},{\"hovertemplate\":\"Color=19\\u003cbr\\u003ex=%{x}\\u003cbr\\u003ey=%{y}\\u003cextra\\u003e\\u003c\\u002fextra\\u003e\",\"legendgroup\":\"19\",\"line\":{\"color\":\"#FECB52\",\"dash\":\"solid\"},\"marker\":{\"symbol\":\"circle\"},\"mode\":\"lines\",\"name\":\"19\",\"showlegend\":true,\"x\":[0,1,2,3,4,5,6,7,8,9,10,11,12,13,14,15,16,17,18,19,20,21,22,23],\"xaxis\":\"x\",\"y\":[0.0894770473241806,-0.031612053513526917,0.06805108487606049,0.3112605810165405,0.0035072583705186844,0.006207686383277178,0.012378640472888947,0.016227416694164276,0.049008745700120926,0.008530222810804844,0.19604924321174622,-0.030813068151474,-0.017451629042625427,0.002664973959326744,0.1524289846420288,0.002875083591789007,0.02921108901500702,-0.007348442450165749,-0.013571325689554214,0.0021470338106155396,0.0,0.18495498597621918,-0.0005223006010055542,-0.09881728887557983],\"yaxis\":\"y\",\"type\":\"scattergl\"},{\"hovertemplate\":\"Color=20\\u003cbr\\u003ex=%{x}\\u003cbr\\u003ey=%{y}\\u003cextra\\u003e\\u003c\\u002fextra\\u003e\",\"legendgroup\":\"20\",\"line\":{\"color\":\"#636efa\",\"dash\":\"solid\"},\"marker\":{\"symbol\":\"circle\"},\"mode\":\"lines\",\"name\":\"20\",\"showlegend\":true,\"x\":[0,1,2,3,4,5,6,7,8,9,10,11,12,13,14,15,16,17,18,19,20,21,22,23],\"xaxis\":\"x\",\"y\":[0.125258207321167,-0.020543444901704788,0.0854162946343422,0.32164257764816284,0.020055752247571945,-0.014319855719804764,0.0004577683284878731,0.03639313951134682,0.045702267438173294,0.01172191184014082,0.05674838274717331,-0.03396802395582199,-0.017464570701122284,-0.0031893467530608177,0.22177065908908844,-0.015615861862897873,-0.02332332171499729,0.0021902541629970074,-0.018941828981041908,-0.002005727030336857,0.0,0.24808207154273987,-0.0005873767659068108,-0.11112947016954422],\"yaxis\":\"y\",\"type\":\"scattergl\"},{\"hovertemplate\":\"Color=21\\u003cbr\\u003ex=%{x}\\u003cbr\\u003ey=%{y}\\u003cextra\\u003e\\u003c\\u002fextra\\u003e\",\"legendgroup\":\"21\",\"line\":{\"color\":\"#EF553B\",\"dash\":\"solid\"},\"marker\":{\"symbol\":\"circle\"},\"mode\":\"lines\",\"name\":\"21\",\"showlegend\":true,\"x\":[0,1,2,3,4,5,6,7,8,9,10,11,12,13,14,15,16,17,18,19,20,21,22,23],\"xaxis\":\"x\",\"y\":[0.09806612133979797,-0.00429143663495779,0.003446178510785103,0.3329118490219116,0.04359767585992813,0.02237372286617756,-0.005577783100306988,0.0031616343185305595,0.041953474283218384,0.01248237770050764,0.10761737078428268,-0.01478947326540947,-0.016063304618000984,-0.004200098104774952,0.18225982785224915,-0.006493073422461748,0.020899910479784012,0.0013903281651437283,-0.023344242945313454,0.0017428454011678696,0.0,0.25908949971199036,-0.00045309215784072876,-0.08572349697351456],\"yaxis\":\"y\",\"type\":\"scattergl\"},{\"hovertemplate\":\"Color=22\\u003cbr\\u003ex=%{x}\\u003cbr\\u003ey=%{y}\\u003cextra\\u003e\\u003c\\u002fextra\\u003e\",\"legendgroup\":\"22\",\"line\":{\"color\":\"#00cc96\",\"dash\":\"solid\"},\"marker\":{\"symbol\":\"circle\"},\"mode\":\"lines\",\"name\":\"22\",\"showlegend\":true,\"x\":[0,1,2,3,4,5,6,7,8,9,10,11,12,13,14,15,16,17,18,19,20,21,22,23],\"xaxis\":\"x\",\"y\":[0.25030815601348877,0.03288177773356438,0.057235248386859894,0.2965790629386902,0.05016914755105972,0.03288384899497032,0.019340625032782555,-0.006921358872205019,0.08121902495622635,0.009943404234945774,-0.09681917726993561,-0.013806818053126335,-0.024941403418779373,0.008744132705032825,0.23257490992546082,-0.0028235623612999916,-0.0020651575177907944,-0.004245537333190441,-0.03953031077980995,-0.005514070857316256,0.0,0.29334601759910583,-0.0005990355275571346,-0.11333489418029785],\"yaxis\":\"y\",\"type\":\"scattergl\"},{\"hovertemplate\":\"Color=23\\u003cbr\\u003ex=%{x}\\u003cbr\\u003ey=%{y}\\u003cextra\\u003e\\u003c\\u002fextra\\u003e\",\"legendgroup\":\"23\",\"line\":{\"color\":\"#ab63fa\",\"dash\":\"solid\"},\"marker\":{\"symbol\":\"circle\"},\"mode\":\"lines\",\"name\":\"23\",\"showlegend\":true,\"x\":[0,1,2,3,4,5,6,7,8,9,10,11,12,13,14,15,16,17,18,19,20,21,22,23],\"xaxis\":\"x\",\"y\":[0.20542383193969727,0.007582277059555054,0.03709516301751137,0.29494133591651917,0.03558674082159996,-0.019304480403661728,0.006954587064683437,0.03074219822883606,0.07140235602855682,-0.008549230173230171,-0.0023506823927164078,-0.0392715260386467,-0.012039328925311565,-0.006103288382291794,0.15318113565444946,0.0007453048601746559,-0.010064192116260529,-0.008891934528946877,-0.0299078319221735,-0.008298518136143684,0.0,0.3582741618156433,-0.0007159491069614887,-0.13545507192611694],\"yaxis\":\"y\",\"type\":\"scattergl\"},{\"hovertemplate\":\"Color=24\\u003cbr\\u003ex=%{x}\\u003cbr\\u003ey=%{y}\\u003cextra\\u003e\\u003c\\u002fextra\\u003e\",\"legendgroup\":\"24\",\"line\":{\"color\":\"#FFA15A\",\"dash\":\"solid\"},\"marker\":{\"symbol\":\"circle\"},\"mode\":\"lines\",\"name\":\"24\",\"showlegend\":true,\"x\":[0,1,2,3,4,5,6,7,8,9,10,11,12,13,14,15,16,17,18,19,20,21,22,23],\"xaxis\":\"x\",\"y\":[0.21164992451667786,0.014628224074840546,0.0735812708735466,0.08602023124694824,0.06696800142526627,0.05214415490627289,0.015922799706459045,0.0024261432699859142,0.04554314911365509,-0.00553539302200079,0.02870904840528965,-0.015244415029883385,-0.010900153778493404,0.0005396287888288498,0.25822725892066956,0.0009033381938934326,-0.003148856572806835,0.006112171337008476,-0.02348455972969532,-0.007574315182864666,0.0,0.28114742040634155,-0.00047782110050320625,-0.09040207415819168],\"yaxis\":\"y\",\"type\":\"scattergl\"},{\"hovertemplate\":\"Color=25\\u003cbr\\u003ex=%{x}\\u003cbr\\u003ey=%{y}\\u003cextra\\u003e\\u003c\\u002fextra\\u003e\",\"legendgroup\":\"25\",\"line\":{\"color\":\"#19d3f3\",\"dash\":\"solid\"},\"marker\":{\"symbol\":\"circle\"},\"mode\":\"lines\",\"name\":\"25\",\"showlegend\":true,\"x\":[0,1,2,3,4,5,6,7,8,9,10,11,12,13,14,15,16,17,18,19,20,21,22,23],\"xaxis\":\"x\",\"y\":[0.2097231149673462,0.0018850904889404774,0.0823390856385231,0.274191290140152,0.06302623450756073,0.006045181769877672,0.01875404268503189,0.006697847507894039,0.10519257932901382,0.00971456989645958,0.22715409100055695,-0.021524254232645035,-0.022584520280361176,-0.003128090873360634,0.06080460548400879,-0.010344534181058407,0.021789131686091423,-0.004456826951354742,-0.021221019327640533,-0.002156527480110526,0.0,0.2334173023700714,-0.0004525226540863514,-0.08561551570892334],\"yaxis\":\"y\",\"type\":\"scattergl\"},{\"hovertemplate\":\"Color=26\\u003cbr\\u003ex=%{x}\\u003cbr\\u003ey=%{y}\\u003cextra\\u003e\\u003c\\u002fextra\\u003e\",\"legendgroup\":\"26\",\"line\":{\"color\":\"#FF6692\",\"dash\":\"solid\"},\"marker\":{\"symbol\":\"circle\"},\"mode\":\"lines\",\"name\":\"26\",\"showlegend\":true,\"x\":[0,1,2,3,4,5,6,7,8,9,10,11,12,13,14,15,16,17,18,19,20,21,22,23],\"xaxis\":\"x\",\"y\":[0.18805840611457825,-0.004290679469704628,0.04473306983709335,0.3556980490684509,0.020138781517744064,0.008128311485052109,0.003996082115918398,0.01429329439997673,0.06788390129804611,0.010896798223257065,0.009383337572216988,-0.021291378885507584,-0.017529375851154327,-0.01668553240597248,0.1972859650850296,-0.006496659480035305,0.006472696550190449,0.0020654930267482996,-0.014285106211900711,0.005077521316707134,0.0,0.2805960774421692,-0.0005255839787423611,-0.09943857789039612],\"yaxis\":\"y\",\"type\":\"scattergl\"},{\"hovertemplate\":\"Color=27\\u003cbr\\u003ex=%{x}\\u003cbr\\u003ey=%{y}\\u003cextra\\u003e\\u003c\\u002fextra\\u003e\",\"legendgroup\":\"27\",\"line\":{\"color\":\"#B6E880\",\"dash\":\"solid\"},\"marker\":{\"symbol\":\"circle\"},\"mode\":\"lines\",\"name\":\"27\",\"showlegend\":true,\"x\":[0,1,2,3,4,5,6,7,8,9,10,11,12,13,14,15,16,17,18,19,20,21,22,23],\"xaxis\":\"x\",\"y\":[0.22167903184890747,-0.007369364611804485,0.09455807507038116,0.32831206917762756,0.013494488783180714,0.012408090755343437,-0.011058943346142769,0.02268224209547043,0.06845006346702576,0.00461397971957922,0.24481022357940674,-0.025339828804135323,-0.009075405076146126,0.004419471137225628,0.028261326253414154,-0.0014179788995534182,-0.0034609162248671055,-0.0037098368629813194,-0.012810885906219482,0.005516335368156433,0.0,0.27579379081726074,-0.0004496537148952484,-0.08507294952869415],\"yaxis\":\"y\",\"type\":\"scattergl\"},{\"hovertemplate\":\"Color=28\\u003cbr\\u003ex=%{x}\\u003cbr\\u003ey=%{y}\\u003cextra\\u003e\\u003c\\u002fextra\\u003e\",\"legendgroup\":\"28\",\"line\":{\"color\":\"#FF97FF\",\"dash\":\"solid\"},\"marker\":{\"symbol\":\"circle\"},\"mode\":\"lines\",\"name\":\"28\",\"showlegend\":true,\"x\":[0,1,2,3,4,5,6,7,8,9,10,11,12,13,14,15,16,17,18,19,20,21,22,23],\"xaxis\":\"x\",\"y\":[0.000638030469417572,-0.015871189534664154,0.17580637335777283,0.3974895179271698,0.05354056507349014,0.01574745401740074,-0.002087084110826254,0.028939276933670044,0.07699893414974213,0.01005505956709385,0.19933250546455383,-0.03982093930244446,-0.006112926639616489,0.0019181948155164719,0.1428956389427185,-0.004696028307080269,0.007195679470896721,-0.0002742386423051357,-0.017204031348228455,-0.0052575599402189255,0.0,0.2810770869255066,-0.0005330126732587814,-0.1008438766002655],\"yaxis\":\"y\",\"type\":\"scattergl\"},{\"hovertemplate\":\"Color=29\\u003cbr\\u003ex=%{x}\\u003cbr\\u003ey=%{y}\\u003cextra\\u003e\\u003c\\u002fextra\\u003e\",\"legendgroup\":\"29\",\"line\":{\"color\":\"#FECB52\",\"dash\":\"solid\"},\"marker\":{\"symbol\":\"circle\"},\"mode\":\"lines\",\"name\":\"29\",\"showlegend\":true,\"x\":[0,1,2,3,4,5,6,7,8,9,10,11,12,13,14,15,16,17,18,19,20,21,22,23],\"xaxis\":\"x\",\"y\":[0.1004546582698822,-0.02618030086159706,0.07940621674060822,0.2797514796257019,0.019711310043931007,0.004875228740274906,-0.019277719780802727,0.025855451822280884,0.04484645277261734,0.017726261168718338,0.1592063456773758,-0.026624128222465515,-0.015605888329446316,-0.0009783459827303886,0.09280604124069214,-0.0011537589598447084,-0.015492306090891361,0.004290732555091381,-0.022476892918348312,0.02068038284778595,0.0,0.2870209813117981,-0.0005687698721885681,-0.10760898143053055],\"yaxis\":\"y\",\"type\":\"scattergl\"},{\"hovertemplate\":\"Color=30\\u003cbr\\u003ex=%{x}\\u003cbr\\u003ey=%{y}\\u003cextra\\u003e\\u003c\\u002fextra\\u003e\",\"legendgroup\":\"30\",\"line\":{\"color\":\"#636efa\",\"dash\":\"solid\"},\"marker\":{\"symbol\":\"circle\"},\"mode\":\"lines\",\"name\":\"30\",\"showlegend\":true,\"x\":[0,1,2,3,4,5,6,7,8,9,10,11,12,13,14,15,16,17,18,19,20,21,22,23],\"xaxis\":\"x\",\"y\":[0.2797357141971588,0.00635553989559412,0.19079020619392395,0.17641669511795044,0.06875629723072052,-0.002121724421158433,0.010733549483120441,0.009030341170728207,0.10340932011604309,-0.0024398984387516975,0.03696812689304352,-0.01452974509447813,-0.018016422167420387,-0.008016496896743774,0.07669694721698761,0.0003782501444220543,-0.0002771266736090183,-0.003559056669473648,-0.013795547187328339,-0.006002925336360931,0.0,0.28541165590286255,-0.0004808260127902031,-0.09097030013799667],\"yaxis\":\"y\",\"type\":\"scattergl\"},{\"hovertemplate\":\"Color=31\\u003cbr\\u003ex=%{x}\\u003cbr\\u003ey=%{y}\\u003cextra\\u003e\\u003c\\u002fextra\\u003e\",\"legendgroup\":\"31\",\"line\":{\"color\":\"#EF553B\",\"dash\":\"solid\"},\"marker\":{\"symbol\":\"circle\"},\"mode\":\"lines\",\"name\":\"31\",\"showlegend\":true,\"x\":[0,1,2,3,4,5,6,7,8,9,10,11,12,13,14,15,16,17,18,19,20,21,22,23],\"xaxis\":\"x\",\"y\":[0.10017222166061401,-0.0070656221359968185,0.03839030861854553,0.22044125199317932,0.07817357778549194,-0.0007495877798646688,0.004927462432533503,-0.005974380299448967,0.08011515438556671,0.0038542523980140686,0.1313454955816269,-0.012990221381187439,-0.013713067397475243,-0.0008402024395763874,0.2696287930011749,-0.005812540650367737,0.030464688315987587,0.0008121905848383904,-0.014591066166758537,0.0017653638496994972,0.0,0.2992511987686157,-0.000412715133279562,-0.07808440178632736],\"yaxis\":\"y\",\"type\":\"scattergl\"},{\"hovertemplate\":\"Color=32\\u003cbr\\u003ex=%{x}\\u003cbr\\u003ey=%{y}\\u003cextra\\u003e\\u003c\\u002fextra\\u003e\",\"legendgroup\":\"32\",\"line\":{\"color\":\"#00cc96\",\"dash\":\"solid\"},\"marker\":{\"symbol\":\"circle\"},\"mode\":\"lines\",\"name\":\"32\",\"showlegend\":true,\"x\":[0,1,2,3,4,5,6,7,8,9,10,11,12,13,14,15,16,17,18,19,20,21,22,23],\"xaxis\":\"x\",\"y\":[0.07687534391880035,-0.008114786818623543,0.08627565205097198,0.23565807938575745,-0.007509676739573479,-0.003466269001364708,0.012024213559925556,0.005992220249027014,0.036647334694862366,0.0134589783847332,0.1837983876466751,-0.017393972724676132,-0.010514875873923302,0.0018513945396989584,0.12097017467021942,-0.005370048340409994,-0.004233120009303093,-0.0019802614115178585,-0.003123657777905464,-0.0029654207173734903,0.0,0.22688797116279602,-0.0004474809393286705,-0.08466164022684097],\"yaxis\":\"y\",\"type\":\"scattergl\"},{\"hovertemplate\":\"Color=33\\u003cbr\\u003ex=%{x}\\u003cbr\\u003ey=%{y}\\u003cextra\\u003e\\u003c\\u002fextra\\u003e\",\"legendgroup\":\"33\",\"line\":{\"color\":\"#ab63fa\",\"dash\":\"solid\"},\"marker\":{\"symbol\":\"circle\"},\"mode\":\"lines\",\"name\":\"33\",\"showlegend\":true,\"x\":[0,1,2,3,4,5,6,7,8,9,10,11,12,13,14,15,16,17,18,19,20,21,22,23],\"xaxis\":\"x\",\"y\":[0.052991319447755814,0.026318654417991638,0.11131329834461212,0.26441851258277893,0.05404588580131531,0.009473559446632862,-3.4589553251862526e-05,0.012400350533425808,0.06912095844745636,0.0035775317810475826,0.051056038588285446,-0.03849583491683006,-0.020079076290130615,0.0002269567921757698,0.14023637771606445,-0.0052032554522156715,-0.00019591255113482475,0.001486307242885232,-0.015360012650489807,0.0034157121554017067,0.0,0.2869186997413635,-0.0003965508658438921,-0.07502584159374237],\"yaxis\":\"y\",\"type\":\"scattergl\"},{\"hovertemplate\":\"Color=34\\u003cbr\\u003ex=%{x}\\u003cbr\\u003ey=%{y}\\u003cextra\\u003e\\u003c\\u002fextra\\u003e\",\"legendgroup\":\"34\",\"line\":{\"color\":\"#FFA15A\",\"dash\":\"solid\"},\"marker\":{\"symbol\":\"circle\"},\"mode\":\"lines\",\"name\":\"34\",\"showlegend\":true,\"x\":[0,1,2,3,4,5,6,7,8,9,10,11,12,13,14,15,16,17,18,19,20,21,22,23],\"xaxis\":\"x\",\"y\":[-0.1260831356048584,0.005052549764513969,0.07030147314071655,-0.023438163101673126,0.021551422774791718,-0.008102023974061012,0.0371275320649147,-0.011013741604983807,0.033030927181243896,0.010871680453419685,0.09100078046321869,-0.008884869515895844,-0.0045557511039078236,-0.016718724742531776,0.20185858011245728,0.00028297724202275276,0.011983714997768402,0.00737127335742116,-0.027905726805329323,0.0020294501446187496,0.0,0.013278590515255928,-0.0005530770868062973,-0.10464012622833252],\"yaxis\":\"y\",\"type\":\"scattergl\"},{\"hovertemplate\":\"Color=35\\u003cbr\\u003ex=%{x}\\u003cbr\\u003ey=%{y}\\u003cextra\\u003e\\u003c\\u002fextra\\u003e\",\"legendgroup\":\"35\",\"line\":{\"color\":\"#19d3f3\",\"dash\":\"solid\"},\"marker\":{\"symbol\":\"circle\"},\"mode\":\"lines\",\"name\":\"35\",\"showlegend\":true,\"x\":[0,1,2,3,4,5,6,7,8,9,10,11,12,13,14,15,16,17,18,19,20,21,22,23],\"xaxis\":\"x\",\"y\":[0.05559951066970825,-0.004056636709719896,0.10044345259666443,0.043448396027088165,0.0024718735367059708,-0.04403385519981384,0.01135919988155365,0.014542141929268837,0.025196349248290062,-0.014271666295826435,-0.05890224128961563,-0.025597084313631058,-0.004150264896452427,0.001967531628906727,-0.07650808244943619,-0.00292395893484354,-0.004365796223282814,-0.002792965155094862,-0.03745732083916664,-0.01615901105105877,0.0,0.02269742265343666,-0.0007266458123922348,-0.13747882843017578],\"yaxis\":\"y\",\"type\":\"scattergl\"},{\"hovertemplate\":\"Color=36\\u003cbr\\u003ex=%{x}\\u003cbr\\u003ey=%{y}\\u003cextra\\u003e\\u003c\\u002fextra\\u003e\",\"legendgroup\":\"36\",\"line\":{\"color\":\"#FF6692\",\"dash\":\"solid\"},\"marker\":{\"symbol\":\"circle\"},\"mode\":\"lines\",\"name\":\"36\",\"showlegend\":true,\"x\":[0,1,2,3,4,5,6,7,8,9,10,11,12,13,14,15,16,17,18,19,20,21,22,23],\"xaxis\":\"x\",\"y\":[-0.01836041361093521,-0.003261287696659565,0.05034569650888443,0.15321099758148193,0.06930352747440338,-0.01096865814179182,0.006827551871538162,0.003039119765162468,0.013264869339764118,0.011184696108102798,-0.05759265273809433,-0.054270267486572266,-0.002775719854980707,0.0011562013532966375,0.09844420105218887,-0.0026534185744822025,-0.00041596218943595886,-0.001997376326471567,-0.017187679186463356,-0.0033601890318095684,0.0,-0.018087007105350494,-0.00041533494368195534,-0.0785796195268631],\"yaxis\":\"y\",\"type\":\"scattergl\"},{\"hovertemplate\":\"Color=37\\u003cbr\\u003ex=%{x}\\u003cbr\\u003ey=%{y}\\u003cextra\\u003e\\u003c\\u002fextra\\u003e\",\"legendgroup\":\"37\",\"line\":{\"color\":\"#B6E880\",\"dash\":\"solid\"},\"marker\":{\"symbol\":\"circle\"},\"mode\":\"lines\",\"name\":\"37\",\"showlegend\":true,\"x\":[0,1,2,3,4,5,6,7,8,9,10,11,12,13,14,15,16,17,18,19,20,21,22,23],\"xaxis\":\"x\",\"y\":[0.12677407264709473,0.0015156730078160763,0.08528921008110046,0.173783078789711,0.05611516535282135,-0.006015323102474213,0.019934142008423805,-0.0011399583891034126,0.030988173559308052,-0.0037684012204408646,0.015679622069001198,-0.014914648607373238,-0.0035622194409370422,0.00417312141507864,0.15730415284633636,-0.007733513601124287,0.002219520043581724,0.00440179044380784,-0.014768704771995544,0.0028475578874349594,0.0,0.18833434581756592,-0.00039583281613886356,-0.07489000260829926],\"yaxis\":\"y\",\"type\":\"scattergl\"},{\"hovertemplate\":\"Color=38\\u003cbr\\u003ex=%{x}\\u003cbr\\u003ey=%{y}\\u003cextra\\u003e\\u003c\\u002fextra\\u003e\",\"legendgroup\":\"38\",\"line\":{\"color\":\"#FF97FF\",\"dash\":\"solid\"},\"marker\":{\"symbol\":\"circle\"},\"mode\":\"lines\",\"name\":\"38\",\"showlegend\":true,\"x\":[0,1,2,3,4,5,6,7,8,9,10,11,12,13,14,15,16,17,18,19,20,21,22,23],\"xaxis\":\"x\",\"y\":[0.203628271818161,-0.0027496193069964647,0.15574263036251068,0.14637643098831177,0.07335148751735687,0.039861585944890976,-0.00760070513933897,0.007416591048240662,0.11587203294038773,0.01704576425254345,-0.03137979656457901,-0.01600947417318821,-0.0110310735180974,0.006631180644035339,0.1667751669883728,-0.005544007755815983,-0.001167799811810255,0.004099233541637659,-0.025347545742988586,0.00911994930356741,0.0,0.1827234923839569,-0.0003957326989620924,-0.07487095147371292],\"yaxis\":\"y\",\"type\":\"scattergl\"},{\"hovertemplate\":\"Color=39\\u003cbr\\u003ex=%{x}\\u003cbr\\u003ey=%{y}\\u003cextra\\u003e\\u003c\\u002fextra\\u003e\",\"legendgroup\":\"39\",\"line\":{\"color\":\"#FECB52\",\"dash\":\"solid\"},\"marker\":{\"symbol\":\"circle\"},\"mode\":\"lines\",\"name\":\"39\",\"showlegend\":true,\"x\":[0,1,2,3,4,5,6,7,8,9,10,11,12,13,14,15,16,17,18,19,20,21,22,23],\"xaxis\":\"x\",\"y\":[0.12160800397396088,-0.01593010500073433,0.025858378037810326,0.047623179852962494,0.009369311854243279,-0.013570057228207588,-0.007460921537131071,0.012345450930297375,0.07872617989778519,0.0032675592228770256,0.03455862030386925,-0.03253201022744179,-0.03302071988582611,-0.010261996649205685,0.07776451110839844,0.0007829973474144936,-0.01016153022646904,-0.0012636473402380943,-0.0197724848985672,0.000340532511472702,0.0,0.2725752890110016,-0.0006852056831121445,-0.1296384632587433],\"yaxis\":\"y\",\"type\":\"scattergl\"},{\"hovertemplate\":\"Color=40\\u003cbr\\u003ex=%{x}\\u003cbr\\u003ey=%{y}\\u003cextra\\u003e\\u003c\\u002fextra\\u003e\",\"legendgroup\":\"40\",\"line\":{\"color\":\"#636efa\",\"dash\":\"solid\"},\"marker\":{\"symbol\":\"circle\"},\"mode\":\"lines\",\"name\":\"40\",\"showlegend\":true,\"x\":[0,1,2,3,4,5,6,7,8,9,10,11,12,13,14,15,16,17,18,19,20,21,22,23],\"xaxis\":\"x\",\"y\":[0.16896618902683258,0.010283341631293297,0.04986148327589035,0.3923351764678955,0.023250136524438858,0.0017510498873889446,0.01821301318705082,0.02786717191338539,0.021542631089687347,0.01883680745959282,0.09990548342466354,-0.007351629436016083,-0.012799312360584736,0.0027388285379856825,0.27610859274864197,-0.008581088855862617,0.011941229924559593,0.004228116944432259,-0.023500924929976463,-0.0015469545032829046,0.0,0.32739484310150146,-0.0004589436575770378,-0.08683067560195923],\"yaxis\":\"y\",\"type\":\"scattergl\"},{\"hovertemplate\":\"Color=41\\u003cbr\\u003ex=%{x}\\u003cbr\\u003ey=%{y}\\u003cextra\\u003e\\u003c\\u002fextra\\u003e\",\"legendgroup\":\"41\",\"line\":{\"color\":\"#EF553B\",\"dash\":\"solid\"},\"marker\":{\"symbol\":\"circle\"},\"mode\":\"lines\",\"name\":\"41\",\"showlegend\":true,\"x\":[0,1,2,3,4,5,6,7,8,9,10,11,12,13,14,15,16,17,18,19,20,21,22,23],\"xaxis\":\"x\",\"y\":[0.08604273200035095,-0.0312727615237236,-0.0281418114900589,0.39220812916755676,0.08855487406253815,0.02817394770681858,0.012010983191430569,0.0016893271822482347,0.02621372602880001,0.013864288106560707,0.011120263487100601,-0.029442403465509415,-0.01490336935967207,-0.007826991379261017,0.1525467336177826,-0.002390823559835553,-0.00238143396563828,-0.013295486569404602,-0.024165267124772072,0.005181501619517803,0.0,0.22259412705898285,-0.0005538864061236382,-0.10479326546192169],\"yaxis\":\"y\",\"type\":\"scattergl\"},{\"hovertemplate\":\"Color=42\\u003cbr\\u003ex=%{x}\\u003cbr\\u003ey=%{y}\\u003cextra\\u003e\\u003c\\u002fextra\\u003e\",\"legendgroup\":\"42\",\"line\":{\"color\":\"#00cc96\",\"dash\":\"solid\"},\"marker\":{\"symbol\":\"circle\"},\"mode\":\"lines\",\"name\":\"42\",\"showlegend\":true,\"x\":[0,1,2,3,4,5,6,7,8,9,10,11,12,13,14,15,16,17,18,19,20,21,22,23],\"xaxis\":\"x\",\"y\":[0.09293348342180252,-0.00525444932281971,0.0595267191529274,0.3602510690689087,0.06819432973861694,-0.014426947571337223,-0.002675682306289673,0.0018621583003550768,0.016599513590335846,0.015368964523077011,0.03699037432670593,-0.016183700412511826,-0.007552475668489933,-0.0019440916366875172,0.20184387266635895,-0.019676925614476204,-0.004881211556494236,-0.006974430289119482,-0.02651403099298477,-0.0030290065333247185,0.0,0.37630611658096313,-0.0006040474399924278,-0.11428330093622208],\"yaxis\":\"y\",\"type\":\"scattergl\"},{\"hovertemplate\":\"Color=43\\u003cbr\\u003ex=%{x}\\u003cbr\\u003ey=%{y}\\u003cextra\\u003e\\u003c\\u002fextra\\u003e\",\"legendgroup\":\"43\",\"line\":{\"color\":\"#ab63fa\",\"dash\":\"solid\"},\"marker\":{\"symbol\":\"circle\"},\"mode\":\"lines\",\"name\":\"43\",\"showlegend\":true,\"x\":[0,1,2,3,4,5,6,7,8,9,10,11,12,13,14,15,16,17,18,19,20,21,22,23],\"xaxis\":\"x\",\"y\":[0.20427019894123077,-0.0008898451924324036,0.047325290739536285,0.15714898705482483,0.05314387381076813,0.0222968477755785,0.04149317741394043,0.006544520612806082,0.05846501141786575,0.002309023402631283,0.006077229976654053,-0.02175748348236084,-0.008552854880690575,-0.007736995350569487,0.2699286937713623,-0.013796050101518631,0.01726420596241951,-0.015764454379677773,-0.021708104759454727,-0.010642173700034618,0.0,0.20308464765548706,-0.0005572708323597908,-0.1054336428642273],\"yaxis\":\"y\",\"type\":\"scattergl\"},{\"hovertemplate\":\"Color=44\\u003cbr\\u003ex=%{x}\\u003cbr\\u003ey=%{y}\\u003cextra\\u003e\\u003c\\u002fextra\\u003e\",\"legendgroup\":\"44\",\"line\":{\"color\":\"#FFA15A\",\"dash\":\"solid\"},\"marker\":{\"symbol\":\"circle\"},\"mode\":\"lines\",\"name\":\"44\",\"showlegend\":true,\"x\":[0,1,2,3,4,5,6,7,8,9,10,11,12,13,14,15,16,17,18,19,20,21,22,23],\"xaxis\":\"x\",\"y\":[0.2606671154499054,-0.015584645792841911,0.0805235356092453,0.10710972547531128,0.02174096181988716,0.06971696019172668,-0.008445024490356445,0.024236997589468956,0.12459977716207504,0.013227758929133415,0.18510597944259644,-0.0037507093511521816,-0.023609818890690804,0.005200999788939953,0.17872214317321777,-0.004495121072977781,0.0386066734790802,0.006624195259064436,-0.02165314555168152,-0.0023922743275761604,0.0,0.344748318195343,-0.0005054110661149025,-0.09562196582555771],\"yaxis\":\"y\",\"type\":\"scattergl\"},{\"hovertemplate\":\"Color=45\\u003cbr\\u003ex=%{x}\\u003cbr\\u003ey=%{y}\\u003cextra\\u003e\\u003c\\u002fextra\\u003e\",\"legendgroup\":\"45\",\"line\":{\"color\":\"#19d3f3\",\"dash\":\"solid\"},\"marker\":{\"symbol\":\"circle\"},\"mode\":\"lines\",\"name\":\"45\",\"showlegend\":true,\"x\":[0,1,2,3,4,5,6,7,8,9,10,11,12,13,14,15,16,17,18,19,20,21,22,23],\"xaxis\":\"x\",\"y\":[0.07574331015348434,-0.018771572038531303,0.030970077961683273,0.3047220706939697,0.01658347249031067,-0.015180432237684727,0.006987262051552534,0.02520039491355419,0.0337621346116066,0.021296504884958267,0.03189065307378769,-0.02363380789756775,-0.016887567937374115,-0.0033547054044902325,0.22734160721302032,-0.003939441870898008,0.003223305568099022,-0.009225948713719845,-0.024023307487368584,-0.00041010044515132904,0.0,0.3420778512954712,-0.0006494130939245224,-0.1228664219379425],\"yaxis\":\"y\",\"type\":\"scattergl\"},{\"hovertemplate\":\"Color=46\\u003cbr\\u003ex=%{x}\\u003cbr\\u003ey=%{y}\\u003cextra\\u003e\\u003c\\u002fextra\\u003e\",\"legendgroup\":\"46\",\"line\":{\"color\":\"#FF6692\",\"dash\":\"solid\"},\"marker\":{\"symbol\":\"circle\"},\"mode\":\"lines\",\"name\":\"46\",\"showlegend\":true,\"x\":[0,1,2,3,4,5,6,7,8,9,10,11,12,13,14,15,16,17,18,19,20,21,22,23],\"xaxis\":\"x\",\"y\":[0.08935464173555374,0.002945709740743041,0.0017395953182131052,0.24243009090423584,0.04316600412130356,-0.011374219320714474,0.018531544134020805,0.02330687828361988,0.08084594458341599,0.01922345533967018,-0.0008868938311934471,-0.023201866075396538,-0.024140704423189163,-0.009038601070642471,0.17079278826713562,0.0052655646577477455,-0.021219030022621155,-0.010122395120561123,-0.018869899213314056,0.01029924489557743,0.0,0.315799742937088,-0.0006820177659392357,-0.12903578579425812],\"yaxis\":\"y\",\"type\":\"scattergl\"},{\"hovertemplate\":\"Color=47\\u003cbr\\u003ex=%{x}\\u003cbr\\u003ey=%{y}\\u003cextra\\u003e\\u003c\\u002fextra\\u003e\",\"legendgroup\":\"47\",\"line\":{\"color\":\"#B6E880\",\"dash\":\"solid\"},\"marker\":{\"symbol\":\"circle\"},\"mode\":\"lines\",\"name\":\"47\",\"showlegend\":true,\"x\":[0,1,2,3,4,5,6,7,8,9,10,11,12,13,14,15,16,17,18,19,20,21,22,23],\"xaxis\":\"x\",\"y\":[0.1431335210800171,-0.011972623877227306,0.18458861112594604,0.249692901968956,-0.023703059181571007,-0.003151809796690941,0.025088412687182426,0.01999845542013645,0.05226357653737068,0.015662431716918945,0.0576992891728878,-0.03316526859998703,-0.007378814741969109,0.006889686454087496,0.3404199481010437,-0.014390019699931145,0.005839413031935692,-0.01221005991101265,-0.025004558265209198,0.003229633206501603,0.0,0.31809473037719727,-0.0005854014307260513,-0.1107555478811264],\"yaxis\":\"y\",\"type\":\"scattergl\"},{\"hovertemplate\":\"Color=48\\u003cbr\\u003ex=%{x}\\u003cbr\\u003ey=%{y}\\u003cextra\\u003e\\u003c\\u002fextra\\u003e\",\"legendgroup\":\"48\",\"line\":{\"color\":\"#FF97FF\",\"dash\":\"solid\"},\"marker\":{\"symbol\":\"circle\"},\"mode\":\"lines\",\"name\":\"48\",\"showlegend\":true,\"x\":[0,1,2,3,4,5,6,7,8,9,10,11,12,13,14,15,16,17,18,19,20,21,22,23],\"xaxis\":\"x\",\"y\":[0.2290128916501999,0.008929298259317875,0.08099356293678284,0.13340146839618683,0.052946582436561584,-0.00043875619303435087,0.00914061814546585,0.008187806233763695,0.05024721100926399,0.002961188554763794,0.1478554755449295,-0.010853463783860207,-0.0070525286719202995,0.005258338991552591,0.15149009227752686,-0.001843106932938099,-0.0023202719166874886,0.006121892482042313,-0.02180187962949276,-0.0011393558233976364,0.0,0.17789432406425476,-0.0003814080264419317,-0.0721612423658371],\"yaxis\":\"y\",\"type\":\"scattergl\"},{\"hovertemplate\":\"Color=49\\u003cbr\\u003ex=%{x}\\u003cbr\\u003ey=%{y}\\u003cextra\\u003e\\u003c\\u002fextra\\u003e\",\"legendgroup\":\"49\",\"line\":{\"color\":\"#FECB52\",\"dash\":\"solid\"},\"marker\":{\"symbol\":\"circle\"},\"mode\":\"lines\",\"name\":\"49\",\"showlegend\":true,\"x\":[0,1,2,3,4,5,6,7,8,9,10,11,12,13,14,15,16,17,18,19,20,21,22,23],\"xaxis\":\"x\",\"y\":[0.20621658861637115,-0.014934707432985306,0.10707556456327438,0.2040073126554489,0.0030989497900009155,0.011905854567885399,-0.0003446604823693633,-0.014776790514588356,0.058597251772880554,0.00821166206151247,0.12866458296775818,-0.02731321007013321,-0.020562507212162018,0.0072092581540346146,0.15245825052261353,-0.006922382861375809,0.027344847097992897,0.0015374731738120317,-0.02033829316496849,-0.003963807597756386,0.0,0.2826455235481262,-0.0004177871160209179,-0.07904396951198578],\"yaxis\":\"y\",\"type\":\"scattergl\"}],                        {\"template\":{\"data\":{\"histogram2dcontour\":[{\"type\":\"histogram2dcontour\",\"colorbar\":{\"outlinewidth\":0,\"ticks\":\"\"},\"colorscale\":[[0.0,\"#0d0887\"],[0.1111111111111111,\"#46039f\"],[0.2222222222222222,\"#7201a8\"],[0.3333333333333333,\"#9c179e\"],[0.4444444444444444,\"#bd3786\"],[0.5555555555555556,\"#d8576b\"],[0.6666666666666666,\"#ed7953\"],[0.7777777777777778,\"#fb9f3a\"],[0.8888888888888888,\"#fdca26\"],[1.0,\"#f0f921\"]]}],\"choropleth\":[{\"type\":\"choropleth\",\"colorbar\":{\"outlinewidth\":0,\"ticks\":\"\"}}],\"histogram2d\":[{\"type\":\"histogram2d\",\"colorbar\":{\"outlinewidth\":0,\"ticks\":\"\"},\"colorscale\":[[0.0,\"#0d0887\"],[0.1111111111111111,\"#46039f\"],[0.2222222222222222,\"#7201a8\"],[0.3333333333333333,\"#9c179e\"],[0.4444444444444444,\"#bd3786\"],[0.5555555555555556,\"#d8576b\"],[0.6666666666666666,\"#ed7953\"],[0.7777777777777778,\"#fb9f3a\"],[0.8888888888888888,\"#fdca26\"],[1.0,\"#f0f921\"]]}],\"heatmap\":[{\"type\":\"heatmap\",\"colorbar\":{\"outlinewidth\":0,\"ticks\":\"\"},\"colorscale\":[[0.0,\"#0d0887\"],[0.1111111111111111,\"#46039f\"],[0.2222222222222222,\"#7201a8\"],[0.3333333333333333,\"#9c179e\"],[0.4444444444444444,\"#bd3786\"],[0.5555555555555556,\"#d8576b\"],[0.6666666666666666,\"#ed7953\"],[0.7777777777777778,\"#fb9f3a\"],[0.8888888888888888,\"#fdca26\"],[1.0,\"#f0f921\"]]}],\"heatmapgl\":[{\"type\":\"heatmapgl\",\"colorbar\":{\"outlinewidth\":0,\"ticks\":\"\"},\"colorscale\":[[0.0,\"#0d0887\"],[0.1111111111111111,\"#46039f\"],[0.2222222222222222,\"#7201a8\"],[0.3333333333333333,\"#9c179e\"],[0.4444444444444444,\"#bd3786\"],[0.5555555555555556,\"#d8576b\"],[0.6666666666666666,\"#ed7953\"],[0.7777777777777778,\"#fb9f3a\"],[0.8888888888888888,\"#fdca26\"],[1.0,\"#f0f921\"]]}],\"contourcarpet\":[{\"type\":\"contourcarpet\",\"colorbar\":{\"outlinewidth\":0,\"ticks\":\"\"}}],\"contour\":[{\"type\":\"contour\",\"colorbar\":{\"outlinewidth\":0,\"ticks\":\"\"},\"colorscale\":[[0.0,\"#0d0887\"],[0.1111111111111111,\"#46039f\"],[0.2222222222222222,\"#7201a8\"],[0.3333333333333333,\"#9c179e\"],[0.4444444444444444,\"#bd3786\"],[0.5555555555555556,\"#d8576b\"],[0.6666666666666666,\"#ed7953\"],[0.7777777777777778,\"#fb9f3a\"],[0.8888888888888888,\"#fdca26\"],[1.0,\"#f0f921\"]]}],\"surface\":[{\"type\":\"surface\",\"colorbar\":{\"outlinewidth\":0,\"ticks\":\"\"},\"colorscale\":[[0.0,\"#0d0887\"],[0.1111111111111111,\"#46039f\"],[0.2222222222222222,\"#7201a8\"],[0.3333333333333333,\"#9c179e\"],[0.4444444444444444,\"#bd3786\"],[0.5555555555555556,\"#d8576b\"],[0.6666666666666666,\"#ed7953\"],[0.7777777777777778,\"#fb9f3a\"],[0.8888888888888888,\"#fdca26\"],[1.0,\"#f0f921\"]]}],\"mesh3d\":[{\"type\":\"mesh3d\",\"colorbar\":{\"outlinewidth\":0,\"ticks\":\"\"}}],\"scatter\":[{\"fillpattern\":{\"fillmode\":\"overlay\",\"size\":10,\"solidity\":0.2},\"type\":\"scatter\"}],\"parcoords\":[{\"type\":\"parcoords\",\"line\":{\"colorbar\":{\"outlinewidth\":0,\"ticks\":\"\"}}}],\"scatterpolargl\":[{\"type\":\"scatterpolargl\",\"marker\":{\"colorbar\":{\"outlinewidth\":0,\"ticks\":\"\"}}}],\"bar\":[{\"error_x\":{\"color\":\"#2a3f5f\"},\"error_y\":{\"color\":\"#2a3f5f\"},\"marker\":{\"line\":{\"color\":\"#E5ECF6\",\"width\":0.5},\"pattern\":{\"fillmode\":\"overlay\",\"size\":10,\"solidity\":0.2}},\"type\":\"bar\"}],\"scattergeo\":[{\"type\":\"scattergeo\",\"marker\":{\"colorbar\":{\"outlinewidth\":0,\"ticks\":\"\"}}}],\"scatterpolar\":[{\"type\":\"scatterpolar\",\"marker\":{\"colorbar\":{\"outlinewidth\":0,\"ticks\":\"\"}}}],\"histogram\":[{\"marker\":{\"pattern\":{\"fillmode\":\"overlay\",\"size\":10,\"solidity\":0.2}},\"type\":\"histogram\"}],\"scattergl\":[{\"type\":\"scattergl\",\"marker\":{\"colorbar\":{\"outlinewidth\":0,\"ticks\":\"\"}}}],\"scatter3d\":[{\"type\":\"scatter3d\",\"line\":{\"colorbar\":{\"outlinewidth\":0,\"ticks\":\"\"}},\"marker\":{\"colorbar\":{\"outlinewidth\":0,\"ticks\":\"\"}}}],\"scattermapbox\":[{\"type\":\"scattermapbox\",\"marker\":{\"colorbar\":{\"outlinewidth\":0,\"ticks\":\"\"}}}],\"scatterternary\":[{\"type\":\"scatterternary\",\"marker\":{\"colorbar\":{\"outlinewidth\":0,\"ticks\":\"\"}}}],\"scattercarpet\":[{\"type\":\"scattercarpet\",\"marker\":{\"colorbar\":{\"outlinewidth\":0,\"ticks\":\"\"}}}],\"carpet\":[{\"aaxis\":{\"endlinecolor\":\"#2a3f5f\",\"gridcolor\":\"white\",\"linecolor\":\"white\",\"minorgridcolor\":\"white\",\"startlinecolor\":\"#2a3f5f\"},\"baxis\":{\"endlinecolor\":\"#2a3f5f\",\"gridcolor\":\"white\",\"linecolor\":\"white\",\"minorgridcolor\":\"white\",\"startlinecolor\":\"#2a3f5f\"},\"type\":\"carpet\"}],\"table\":[{\"cells\":{\"fill\":{\"color\":\"#EBF0F8\"},\"line\":{\"color\":\"white\"}},\"header\":{\"fill\":{\"color\":\"#C8D4E3\"},\"line\":{\"color\":\"white\"}},\"type\":\"table\"}],\"barpolar\":[{\"marker\":{\"line\":{\"color\":\"#E5ECF6\",\"width\":0.5},\"pattern\":{\"fillmode\":\"overlay\",\"size\":10,\"solidity\":0.2}},\"type\":\"barpolar\"}],\"pie\":[{\"automargin\":true,\"type\":\"pie\"}]},\"layout\":{\"autotypenumbers\":\"strict\",\"colorway\":[\"#636efa\",\"#EF553B\",\"#00cc96\",\"#ab63fa\",\"#FFA15A\",\"#19d3f3\",\"#FF6692\",\"#B6E880\",\"#FF97FF\",\"#FECB52\"],\"font\":{\"color\":\"#2a3f5f\"},\"hovermode\":\"closest\",\"hoverlabel\":{\"align\":\"left\"},\"paper_bgcolor\":\"white\",\"plot_bgcolor\":\"#E5ECF6\",\"polar\":{\"bgcolor\":\"#E5ECF6\",\"angularaxis\":{\"gridcolor\":\"white\",\"linecolor\":\"white\",\"ticks\":\"\"},\"radialaxis\":{\"gridcolor\":\"white\",\"linecolor\":\"white\",\"ticks\":\"\"}},\"ternary\":{\"bgcolor\":\"#E5ECF6\",\"aaxis\":{\"gridcolor\":\"white\",\"linecolor\":\"white\",\"ticks\":\"\"},\"baxis\":{\"gridcolor\":\"white\",\"linecolor\":\"white\",\"ticks\":\"\"},\"caxis\":{\"gridcolor\":\"white\",\"linecolor\":\"white\",\"ticks\":\"\"}},\"coloraxis\":{\"colorbar\":{\"outlinewidth\":0,\"ticks\":\"\"}},\"colorscale\":{\"sequential\":[[0.0,\"#0d0887\"],[0.1111111111111111,\"#46039f\"],[0.2222222222222222,\"#7201a8\"],[0.3333333333333333,\"#9c179e\"],[0.4444444444444444,\"#bd3786\"],[0.5555555555555556,\"#d8576b\"],[0.6666666666666666,\"#ed7953\"],[0.7777777777777778,\"#fb9f3a\"],[0.8888888888888888,\"#fdca26\"],[1.0,\"#f0f921\"]],\"sequentialminus\":[[0.0,\"#0d0887\"],[0.1111111111111111,\"#46039f\"],[0.2222222222222222,\"#7201a8\"],[0.3333333333333333,\"#9c179e\"],[0.4444444444444444,\"#bd3786\"],[0.5555555555555556,\"#d8576b\"],[0.6666666666666666,\"#ed7953\"],[0.7777777777777778,\"#fb9f3a\"],[0.8888888888888888,\"#fdca26\"],[1.0,\"#f0f921\"]],\"diverging\":[[0,\"#8e0152\"],[0.1,\"#c51b7d\"],[0.2,\"#de77ae\"],[0.3,\"#f1b6da\"],[0.4,\"#fde0ef\"],[0.5,\"#f7f7f7\"],[0.6,\"#e6f5d0\"],[0.7,\"#b8e186\"],[0.8,\"#7fbc41\"],[0.9,\"#4d9221\"],[1,\"#276419\"]]},\"xaxis\":{\"gridcolor\":\"white\",\"linecolor\":\"white\",\"ticks\":\"\",\"title\":{\"standoff\":15},\"zerolinecolor\":\"white\",\"automargin\":true,\"zerolinewidth\":2},\"yaxis\":{\"gridcolor\":\"white\",\"linecolor\":\"white\",\"ticks\":\"\",\"title\":{\"standoff\":15},\"zerolinecolor\":\"white\",\"automargin\":true,\"zerolinewidth\":2},\"scene\":{\"xaxis\":{\"backgroundcolor\":\"#E5ECF6\",\"gridcolor\":\"white\",\"linecolor\":\"white\",\"showbackground\":true,\"ticks\":\"\",\"zerolinecolor\":\"white\",\"gridwidth\":2},\"yaxis\":{\"backgroundcolor\":\"#E5ECF6\",\"gridcolor\":\"white\",\"linecolor\":\"white\",\"showbackground\":true,\"ticks\":\"\",\"zerolinecolor\":\"white\",\"gridwidth\":2},\"zaxis\":{\"backgroundcolor\":\"#E5ECF6\",\"gridcolor\":\"white\",\"linecolor\":\"white\",\"showbackground\":true,\"ticks\":\"\",\"zerolinecolor\":\"white\",\"gridwidth\":2}},\"shapedefaults\":{\"line\":{\"color\":\"#2a3f5f\"}},\"annotationdefaults\":{\"arrowcolor\":\"#2a3f5f\",\"arrowhead\":0,\"arrowwidth\":1},\"geo\":{\"bgcolor\":\"white\",\"landcolor\":\"#E5ECF6\",\"subunitcolor\":\"white\",\"showland\":true,\"showlakes\":true,\"lakecolor\":\"white\"},\"title\":{\"x\":0.05},\"mapbox\":{\"style\":\"light\"}}},\"xaxis\":{\"anchor\":\"y\",\"domain\":[0.0,1.0],\"title\":{\"text\":\"x\"}},\"yaxis\":{\"anchor\":\"x\",\"domain\":[0.0,1.0],\"title\":{\"text\":\"y\"}},\"legend\":{\"title\":{\"text\":\"Color\"},\"tracegroupgap\":0},\"margin\":{\"t\":60}},                        {\"responsive\": true}                    ).then(function(){\n",
       "                            \n",
       "var gd = document.getElementById('c17f6bdd-cda1-4479-8dde-e9e488ee601e');\n",
       "var x = new MutationObserver(function (mutations, observer) {{\n",
       "        var display = window.getComputedStyle(gd).display;\n",
       "        if (!display || display === 'none') {{\n",
       "            console.log([gd, 'removed!']);\n",
       "            Plotly.purge(gd);\n",
       "            observer.disconnect();\n",
       "        }}\n",
       "}});\n",
       "\n",
       "// Listen for the removal of the full notebook cells\n",
       "var notebookContainer = gd.closest('#notebook-container');\n",
       "if (notebookContainer) {{\n",
       "    x.observe(notebookContainer, {childList: true});\n",
       "}}\n",
       "\n",
       "// Listen for the clearing of the current output cell\n",
       "var outputEl = gd.closest('.output');\n",
       "if (outputEl) {{\n",
       "    x.observe(outputEl, {childList: true});\n",
       "}}\n",
       "\n",
       "                        })                };                });            </script>        </div>"
      ]
     },
     "metadata": {},
     "output_type": "display_data"
    }
   ],
   "source": [
    "results[:, -4] = 0\n",
    "line(results)"
   ]
  },
  {
   "cell_type": "code",
   "execution_count": 18,
   "metadata": {},
   "outputs": [
    {
     "name": "stdout",
     "output_type": "stream",
     "text": [
      "torch.Size([4, 21, 21])\n",
      "tensor([[2.8982e-02, 1.2314e-02, 1.2327e-02, 1.1118e-02, 7.7338e-03, 7.1749e-03,\n",
      "         7.3304e-03, 7.8311e-03, 5.2152e-03, 6.4957e-03, 7.3898e-03, 1.0119e-02,\n",
      "         5.7969e-03, 8.4970e-03, 7.8284e-03, 6.2038e-03, 8.4764e-01, 0.0000e+00,\n",
      "         0.0000e+00, 0.0000e+00, 0.0000e+00],\n",
      "        [2.6478e-03, 2.2380e-03, 3.3099e-03, 3.1421e-03, 2.2544e-03, 4.4713e-03,\n",
      "         2.1342e-03, 2.0999e-03, 3.1096e-03, 2.5257e-03, 5.1517e-03, 2.6744e-03,\n",
      "         2.3253e-03, 3.5737e-03, 3.7921e-03, 2.8157e-03, 9.5173e-01, 0.0000e+00,\n",
      "         0.0000e+00, 0.0000e+00, 0.0000e+00],\n",
      "        [3.4065e-02, 1.0177e-02, 1.5624e-02, 9.4734e-03, 7.0433e-03, 7.8854e-03,\n",
      "         1.0175e-02, 5.8521e-03, 8.2743e-03, 6.0669e-03, 7.6608e-03, 6.2943e-03,\n",
      "         4.9506e-03, 1.1578e-02, 6.8083e-03, 5.3060e-03, 8.4277e-01, 0.0000e+00,\n",
      "         0.0000e+00, 0.0000e+00, 0.0000e+00],\n",
      "        [8.8632e-04, 6.9063e-04, 4.5310e-04, 6.0980e-04, 1.4833e-04, 4.3611e-04,\n",
      "         6.2172e-04, 1.0281e-04, 2.8917e-04, 1.1798e-04, 3.9322e-04, 6.5095e-05,\n",
      "         1.6833e-04, 2.2417e-04, 3.3094e-04, 8.4195e-05, 9.9438e-01, 0.0000e+00,\n",
      "         0.0000e+00, 0.0000e+00, 0.0000e+00]])\n"
     ]
    }
   ],
   "source": [
    "values = []\n",
    "pos = np.s_[-5:-4]\n",
    "results = []\n",
    "\n",
    "# def synthetic_head_hook(value, hook):\n",
    "\n",
    "\n",
    "for prompt in vowel_prompts[:50]:\n",
    "    str_tokens =  model.to_str_tokens(prompt)[0]\n",
    "    _, cache = model.run_with_cache(prompt)\n",
    "    # attrs, labels = cache.get_full_resid_decomposition(LAYER  + 1, apply_ln=True, return_labels=True, pos_slice=pos, expand_neurons=False)\n",
    "    # attrs = attrs.squeeze(1)\n",
    "    # answer_residual_direction = model.W_in[LAYER, :, NEURON]\n",
    "\n",
    "    pattern = cache['pattern', LAYER]\n",
    "    # print(pattern.shape)\n",
    "    \n",
    "\n",
    "\n",
    "    results.append(pattern[0, interesting_l0_heads].cpu())\n",
    "\n",
    "results = torch.stack(results).mean(dim=0)\n",
    "\n",
    "print(results.shape)\n",
    "\n",
    "mean_scores = results[:, -5]\n",
    "print(mean_scores)"
   ]
  },
  {
   "cell_type": "code",
   "execution_count": 16,
   "metadata": {},
   "outputs": [
    {
     "data": {
      "text/html": [
       "<div id=\"circuits-vis-65024b1d-e7a8\" style=\"margin: 15px 0;\"/>\n",
       "    <script crossorigin type=\"module\">\n",
       "    import { render, AttentionPatterns } from \"https://unpkg.com/circuitsvis@1.41.0/dist/cdn/esm.js\";\n",
       "    render(\n",
       "      \"circuits-vis-65024b1d-e7a8\",\n",
       "      AttentionPatterns,\n",
       "      {\"tokens\": [\"<|endoftext|>\", \"I\", \" climbed\", \" up\", \" the\", \" pear\", \" tree\", \" and\", \" picked\", \" a\", \" pear\", \".\", \" I\", \" climbed\", \" up\", \" the\", \" alley\", \" tree\", \" and\", \" picked\", \" an\"], \"attention\": [[[1.0, 0.0, 0.0, 0.0, 0.0, 0.0, 0.0, 0.0, 0.0, 0.0, 0.0, 0.0, 0.0, 0.0, 0.0, 0.0, 0.0, 0.0, 0.0, 0.0, 0.0], [0.32186251878738403, 0.6781374216079712, 0.0, 0.0, 0.0, 0.0, 0.0, 0.0, 0.0, 0.0, 0.0, 0.0, 0.0, 0.0, 0.0, 0.0, 0.0, 0.0, 0.0, 0.0, 0.0], [0.06394292414188385, 0.06290804594755173, 0.873149037361145, 0.0, 0.0, 0.0, 0.0, 0.0, 0.0, 0.0, 0.0, 0.0, 0.0, 0.0, 0.0, 0.0, 0.0, 0.0, 0.0, 0.0, 0.0], [0.15387724339962006, 0.17753776907920837, 0.16014739871025085, 0.5084375143051147, 0.0, 0.0, 0.0, 0.0, 0.0, 0.0, 0.0, 0.0, 0.0, 0.0, 0.0, 0.0, 0.0, 0.0, 0.0, 0.0, 0.0], [0.4075573682785034, 0.13484789431095123, 0.24041444063186646, 0.1331404149532318, 0.08403993397951126, 0.0, 0.0, 0.0, 0.0, 0.0, 0.0, 0.0, 0.0, 0.0, 0.0, 0.0, 0.0, 0.0, 0.0, 0.0, 0.0], [0.005788249894976616, 0.002040878403931856, 0.0022183009423315525, 0.0016580410301685333, 0.0027011684142053127, 0.9855935573577881, 0.0, 0.0, 0.0, 0.0, 0.0, 0.0, 0.0, 0.0, 0.0, 0.0, 0.0, 0.0, 0.0, 0.0, 0.0], [0.04668041318655014, 0.02385672554373741, 0.021641459316015244, 0.0191920418292284, 0.013833851553499699, 0.025075890123844147, 0.849719762802124, 0.0, 0.0, 0.0, 0.0, 0.0, 0.0, 0.0, 0.0, 0.0, 0.0, 0.0, 0.0, 0.0, 0.0], [0.20970991253852844, 0.10025295615196228, 0.17535994946956635, 0.08919595927000046, 0.0670241191983223, 0.12426866590976715, 0.11775518208742142, 0.11643324792385101, 0.0, 0.0, 0.0, 0.0, 0.0, 0.0, 0.0, 0.0, 0.0, 0.0, 0.0, 0.0, 0.0], [0.010090162977576256, 0.009076802060008049, 0.012591373175382614, 0.01459419634193182, 0.010607259348034859, 0.004936931189149618, 0.01984368823468685, 0.010394765064120293, 0.9078647494316101, 0.0, 0.0, 0.0, 0.0, 0.0, 0.0, 0.0, 0.0, 0.0, 0.0, 0.0, 0.0], [0.237943634390831, 0.08299250900745392, 0.17731714248657227, 0.058933064341545105, 0.03247767314314842, 0.08052965253591537, 0.1223822683095932, 0.10017892718315125, 0.07273341715335846, 0.03451170772314072, 0.0, 0.0, 0.0, 0.0, 0.0, 0.0, 0.0, 0.0, 0.0, 0.0, 0.0], [0.002549832221120596, 0.0007332515087909997, 0.0008738192263990641, 0.0005336878821253777, 0.0008108115871436894, 0.4029861092567444, 0.0010902166832238436, 0.00031932402634993196, 0.0007912407163530588, 0.0009374769870191813, 0.588374137878418, 0.0, 0.0, 0.0, 0.0, 0.0, 0.0, 0.0, 0.0, 0.0, 0.0], [0.0909830629825592, 0.07479251176118851, 0.06587802618741989, 0.06654702872037888, 0.1001681387424469, 0.04343772307038307, 0.0790170356631279, 0.09488813579082489, 0.08113835006952286, 0.1589348316192627, 0.04532420262694359, 0.0988910123705864, 0.0, 0.0, 0.0, 0.0, 0.0, 0.0, 0.0, 0.0, 0.0], [0.18143776059150696, 0.0949171930551529, 0.04516381397843361, 0.06882242858409882, 0.06125789135694504, 0.04026750475168228, 0.05115122348070145, 0.14516662061214447, 0.04371916875243187, 0.06197412312030792, 0.039229873567819595, 0.043110184371471405, 0.12378226220607758, 0.0, 0.0, 0.0, 0.0, 0.0, 0.0, 0.0, 0.0], [0.01948629692196846, 0.008977697230875492, 0.29509156942367554, 0.008525045588612556, 0.00473804073408246, 0.0020304913632571697, 0.008330406621098518, 0.0035422113724052906, 0.016402289271354675, 0.005894358269870281, 0.0019360299920663238, 0.004100036807358265, 0.0018077562563121319, 0.6191378235816956, 0.0, 0.0, 0.0, 0.0, 0.0, 0.0, 0.0], [0.07601319253444672, 0.06040944159030914, 0.06442077457904816, 0.1342405080795288, 0.07324453443288803, 0.010710631497204304, 0.022817526012659073, 0.04137415438890457, 0.08750853687524796, 0.1078033372759819, 0.010378306731581688, 0.028674490749835968, 0.022240426391363144, 0.07897816598415375, 0.18118605017662048, 0.0, 0.0, 0.0, 0.0, 0.0, 0.0], [0.23058754205703735, 0.05094926804304123, 0.13890527188777924, 0.036488741636276245, 0.018412325531244278, 0.059884559363126755, 0.08837594091892242, 0.0696510523557663, 0.03866047039628029, 0.015785012394189835, 0.056460365653038025, 0.023652764037251472, 0.012819589115679264, 0.12092897295951843, 0.024998178705573082, 0.013439966365695, 0.0, 0.0, 0.0, 0.0, 0.0], [0.028982119634747505, 0.012314272113144398, 0.012326679192483425, 0.011118318885564804, 0.007733760867267847, 0.007174941711127758, 0.007330369204282761, 0.007831093855202198, 0.005215231329202652, 0.006495731417089701, 0.007389838807284832, 0.010119340382516384, 0.0057968939654529095, 0.008497013710439205, 0.007828428409993649, 0.006203808356076479, 0.847642183303833, 0.0, 0.0, 0.0, 0.0], [0.017043637111783028, 0.008396689780056477, 0.0076349955052137375, 0.005831656977534294, 0.0036924404557794333, 0.006840533576905727, 0.39175742864608765, 0.005948750302195549, 0.006523029413074255, 0.004856642335653305, 0.006181755103170872, 0.017511088401079178, 0.003212815150618553, 0.004176361486315727, 0.002874070079997182, 0.002406950807198882, 0.007051648106426001, 0.4980594217777252, 0.0, 0.0, 0.0], [0.12956559658050537, 0.04956004023551941, 0.10180458426475525, 0.0416044220328331, 0.02565152570605278, 0.05630839243531227, 0.0645810067653656, 0.05719764530658722, 0.056618232280015945, 0.01823294907808304, 0.05057698115706444, 0.015694083645939827, 0.01292177103459835, 0.07785685360431671, 0.02626202255487442, 0.017656393349170685, 0.0599447637796402, 0.07051586359739304, 0.06744687259197235, 0.0, 0.0], [0.003469930961728096, 0.003344121854752302, 0.00480995699763298, 0.005525241605937481, 0.0036566201597452164, 0.0014752395218238235, 0.0072951288893818855, 0.0033398971427232027, 0.3648177981376648, 0.008627532050013542, 0.001527349348179996, 0.003981948364526033, 0.0024632990825921297, 0.009686172008514404, 0.006627944763749838, 0.004478491842746735, 0.002981307450681925, 0.008035596460103989, 0.00418992480263114, 0.5496664643287659, 0.0], [0.290596604347229, 0.038961756974458694, 0.06920252740383148, 0.025257939472794533, 0.012634623795747757, 0.0352170467376709, 0.05384012311697006, 0.053415026515722275, 0.027853872627019882, 0.011263808235526085, 0.034281764179468155, 0.01810949295759201, 0.009968160651624203, 0.06101597845554352, 0.016918988898396492, 0.008563526906073093, 0.05311039090156555, 0.060845717787742615, 0.06909634917974472, 0.03208787366747856, 0.017758402973413467]], [[1.0, 0.0, 0.0, 0.0, 0.0, 0.0, 0.0, 0.0, 0.0, 0.0, 0.0, 0.0, 0.0, 0.0, 0.0, 0.0, 0.0, 0.0, 0.0, 0.0, 0.0], [0.33124011754989624, 0.6687600016593933, 0.0, 0.0, 0.0, 0.0, 0.0, 0.0, 0.0, 0.0, 0.0, 0.0, 0.0, 0.0, 0.0, 0.0, 0.0, 0.0, 0.0, 0.0, 0.0], [0.01776599884033203, 0.017294060438871384, 0.9649399518966675, 0.0, 0.0, 0.0, 0.0, 0.0, 0.0, 0.0, 0.0, 0.0, 0.0, 0.0, 0.0, 0.0, 0.0, 0.0, 0.0, 0.0, 0.0], [0.1439322531223297, 0.15163478255271912, 0.14847025275230408, 0.5559626817703247, 0.0, 0.0, 0.0, 0.0, 0.0, 0.0, 0.0, 0.0, 0.0, 0.0, 0.0, 0.0, 0.0, 0.0, 0.0, 0.0, 0.0], [0.23849746584892273, 0.20378445088863373, 0.19542770087718964, 0.20568779110908508, 0.15660259127616882, 0.0, 0.0, 0.0, 0.0, 0.0, 0.0, 0.0, 0.0, 0.0, 0.0, 0.0, 0.0, 0.0, 0.0, 0.0, 0.0], [0.0008976320968940854, 0.0005331308930180967, 0.001634018262848258, 0.0008028756128624082, 0.0003900084411725402, 0.9957425594329834, 0.0, 0.0, 0.0, 0.0, 0.0, 0.0, 0.0, 0.0, 0.0, 0.0, 0.0, 0.0, 0.0, 0.0, 0.0], [0.007468008436262608, 0.004994929302483797, 0.013650535605847836, 0.005631038453429937, 0.005150520242750645, 0.15901890397071838, 0.8040859699249268, 0.0, 0.0, 0.0, 0.0, 0.0, 0.0, 0.0, 0.0, 0.0, 0.0, 0.0, 0.0, 0.0, 0.0], [0.19363757967948914, 0.1545710414648056, 0.12991288304328918, 0.12056993693113327, 0.13285478949546814, 0.10889182984828949, 0.0769224762916565, 0.08263945579528809, 0.0, 0.0, 0.0, 0.0, 0.0, 0.0, 0.0, 0.0, 0.0, 0.0, 0.0, 0.0, 0.0], [0.010145141743123531, 0.011611415073275566, 0.04815753549337387, 0.02945408970117569, 0.019526522606611252, 0.02118568681180477, 0.012766782194375992, 0.02984326332807541, 0.8173094987869263, 0.0, 0.0, 0.0, 0.0, 0.0, 0.0, 0.0, 0.0, 0.0, 0.0, 0.0, 0.0], [0.1670568883419037, 0.12220153957605362, 0.11004210263490677, 0.09672761708498001, 0.063174769282341, 0.1291033923625946, 0.091155506670475, 0.07341377437114716, 0.07314211130142212, 0.07398231327533722, 0.0, 0.0, 0.0, 0.0, 0.0, 0.0, 0.0, 0.0, 0.0, 0.0, 0.0], [0.00022228994930628687, 0.00012300812522880733, 0.00037823166348971426, 0.0001548210420878604, 7.936354086268693e-05, 0.34420761466026306, 0.0020560012198984623, 0.00015606670058332384, 0.0007503150263801217, 0.00014188277418725193, 0.651730477809906, 0.0, 0.0, 0.0, 0.0, 0.0, 0.0, 0.0, 0.0, 0.0, 0.0], [0.1865132749080658, 0.1161520779132843, 0.032288677990436554, 0.08099815994501114, 0.08661620318889618, 0.02655932679772377, 0.03052779659628868, 0.13608470559120178, 0.043962426483631134, 0.13330164551734924, 0.031093833968043327, 0.09590189158916473, 0.0, 0.0, 0.0, 0.0, 0.0, 0.0, 0.0, 0.0, 0.0], [0.15357962250709534, 0.14630600810050964, 0.031523533165454865, 0.08668433129787445, 0.07544247061014175, 0.014088911935687065, 0.01716535910964012, 0.0865228921175003, 0.04436687380075455, 0.08923410624265671, 0.01383268740028143, 0.13782140612602234, 0.10343185067176819, 0.0, 0.0, 0.0, 0.0, 0.0, 0.0, 0.0, 0.0], [0.0015618002507835627, 0.0008330951677635312, 0.1632387936115265, 0.0015206795651465654, 0.0006853211089037359, 0.0010117196943610907, 0.0028002061881124973, 0.000742910138797015, 0.005904471967369318, 0.0008633323013782501, 0.0010239731054753065, 0.0008558511035516858, 0.0005388311110436916, 0.8184188008308411, 0.0, 0.0, 0.0, 0.0, 0.0, 0.0, 0.0], [0.07827015221118927, 0.05974684655666351, 0.060807690024375916, 0.13656988739967346, 0.03965098410844803, 0.013108182698488235, 0.025240931659936905, 0.07978658378124237, 0.08272020518779755, 0.04828954115509987, 0.012572943232953548, 0.06769109517335892, 0.05721425637602806, 0.05699789151549339, 0.1813327968120575, 0.0, 0.0, 0.0, 0.0, 0.0, 0.0], [0.11256957054138184, 0.08699039369821548, 0.08471719920635223, 0.0526014044880867, 0.04667258262634277, 0.06670944392681122, 0.056609272956848145, 0.035751935094594955, 0.04937692731618881, 0.049912042915821075, 0.06980951130390167, 0.061977043747901917, 0.03971707820892334, 0.07732291519641876, 0.05393240973353386, 0.055330272763967514, 0.0, 0.0, 0.0, 0.0, 0.0], [0.0026477959472686052, 0.002237998880445957, 0.003309875028207898, 0.003142101690173149, 0.0022544478997588158, 0.004471311811357737, 0.002134207170456648, 0.00209986069239676, 0.0031096073798835278, 0.00252565392293036, 0.005151671357452869, 0.0026744408532977104, 0.002325323410332203, 0.003573681926354766, 0.0037921168841421604, 0.002815703395754099, 0.9517342448234558, 0.0, 0.0, 0.0, 0.0], [0.001778988866135478, 0.001131735392846167, 0.0032995587680488825, 0.0010251920903101563, 0.0009680597577244043, 0.03744591772556305, 0.2520168125629425, 0.0010136697674170136, 0.001555530121549964, 0.0014137285761535168, 0.05251277983188629, 0.0009277891949750483, 0.0007715140818618238, 0.006275339052081108, 0.0013624471612274647, 0.0014359094202518463, 0.007566698826849461, 0.6274983882904053, 0.0, 0.0, 0.0], [0.10464338213205338, 0.08527121692895889, 0.07270272076129913, 0.05534038692712784, 0.06429969519376755, 0.03778320178389549, 0.03538189083337784, 0.023941650986671448, 0.038603488355875015, 0.06793497502803802, 0.0368402935564518, 0.045370470732450485, 0.03312772139906883, 0.05082256346940994, 0.04741330072283745, 0.07886946946382523, 0.04509051889181137, 0.04509287327528, 0.03147018700838089, 0.0, 0.0], [0.0034734890796244144, 0.004113414790481329, 0.020866792649030685, 0.010149815119802952, 0.006526128854602575, 0.006334939040243626, 0.004187045618891716, 0.007991180755198002, 0.32160675525665283, 0.009332641027867794, 0.006333416793495417, 0.008917068131268024, 0.0064406124874949455, 0.03397439420223236, 0.01289923582226038, 0.008625464513897896, 0.004980573896318674, 0.004780460149049759, 0.010845210403203964, 0.5076213479042053, 0.0], [0.09790297597646713, 0.06961701065301895, 0.0653553381562233, 0.05105151981115341, 0.037254054099321365, 0.046541012823581696, 0.042435579001903534, 0.030177226290106773, 0.038284286856651306, 0.03525443747639656, 0.045320454984903336, 0.05251741036772728, 0.026046251878142357, 0.04614357650279999, 0.041099876165390015, 0.03561548516154289, 0.04979948699474335, 0.05046281963586807, 0.03582515940070152, 0.04890389367938042, 0.05439213663339615]], [[1.0, 0.0, 0.0, 0.0, 0.0, 0.0, 0.0, 0.0, 0.0, 0.0, 0.0, 0.0, 0.0, 0.0, 0.0, 0.0, 0.0, 0.0, 0.0, 0.0, 0.0], [0.2432561069726944, 0.7567437887191772, 0.0, 0.0, 0.0, 0.0, 0.0, 0.0, 0.0, 0.0, 0.0, 0.0, 0.0, 0.0, 0.0, 0.0, 0.0, 0.0, 0.0, 0.0, 0.0], [0.13302923738956451, 0.10253892838954926, 0.7644318342208862, 0.0, 0.0, 0.0, 0.0, 0.0, 0.0, 0.0, 0.0, 0.0, 0.0, 0.0, 0.0, 0.0, 0.0, 0.0, 0.0, 0.0, 0.0], [0.2962172031402588, 0.1780153065919876, 0.17924991250038147, 0.34651756286621094, 0.0, 0.0, 0.0, 0.0, 0.0, 0.0, 0.0, 0.0, 0.0, 0.0, 0.0, 0.0, 0.0, 0.0, 0.0, 0.0, 0.0], [0.2758180499076843, 0.14185477793216705, 0.3726620078086853, 0.12398958951234818, 0.08567551523447037, 0.0, 0.0, 0.0, 0.0, 0.0, 0.0, 0.0, 0.0, 0.0, 0.0, 0.0, 0.0, 0.0, 0.0, 0.0, 0.0], [0.005527213215827942, 0.0035822796635329723, 0.005505321081727743, 0.004847572185099125, 0.003919661045074463, 0.9766178727149963, 0.0, 0.0, 0.0, 0.0, 0.0, 0.0, 0.0, 0.0, 0.0, 0.0, 0.0, 0.0, 0.0, 0.0, 0.0], [0.04071240872144699, 0.009806351736187935, 0.03411998599767685, 0.01799364760518074, 0.007523627951741219, 0.024620849639177322, 0.8652231693267822, 0.0, 0.0, 0.0, 0.0, 0.0, 0.0, 0.0, 0.0, 0.0, 0.0, 0.0, 0.0, 0.0, 0.0], [0.1835947185754776, 0.1022195890545845, 0.32122135162353516, 0.070884570479393, 0.05669082701206207, 0.08138120919466019, 0.1329880654811859, 0.05101967230439186, 0.0, 0.0, 0.0, 0.0, 0.0, 0.0, 0.0, 0.0, 0.0, 0.0, 0.0, 0.0, 0.0], [0.10549259185791016, 0.053226061165332794, 0.06796468049287796, 0.0715487003326416, 0.03035012260079384, 0.04134853929281235, 0.04847031086683273, 0.048009827733039856, 0.533589243888855, 0.0, 0.0, 0.0, 0.0, 0.0, 0.0, 0.0, 0.0, 0.0, 0.0, 0.0, 0.0], [0.17289407551288605, 0.07649906724691391, 0.23360708355903625, 0.05219544470310211, 0.032245807349681854, 0.09279140830039978, 0.1636650264263153, 0.03193783387541771, 0.11482323706150055, 0.02934109978377819, 0.0, 0.0, 0.0, 0.0, 0.0, 0.0, 0.0, 0.0, 0.0, 0.0, 0.0], [0.0020189867354929447, 0.0012307141441851854, 0.002195057924836874, 0.00156825827434659, 0.0012412916403263807, 0.4465116858482361, 0.0021049021743237972, 0.0018038152484223247, 0.0020540296100080013, 0.0012397060636430979, 0.5380316376686096, 0.0, 0.0, 0.0, 0.0, 0.0, 0.0, 0.0, 0.0, 0.0, 0.0], [0.09622780978679657, 0.09062548726797104, 0.1905212253332138, 0.07547648996114731, 0.0722884088754654, 0.03647812455892563, 0.07820141315460205, 0.04327467828989029, 0.12840965390205383, 0.09281634539365768, 0.036817215383052826, 0.05886314809322357, 0.0, 0.0, 0.0, 0.0, 0.0, 0.0, 0.0, 0.0, 0.0], [0.09436825662851334, 0.12662222981452942, 0.13435721397399902, 0.07879944145679474, 0.06026523560285568, 0.05073995888233185, 0.049545761197805405, 0.04362345114350319, 0.1205977350473404, 0.05131816491484642, 0.047454360872507095, 0.06591273844242096, 0.07639545202255249, 0.0, 0.0, 0.0, 0.0, 0.0, 0.0, 0.0, 0.0], [0.04199177771806717, 0.01735735312104225, 0.28093382716178894, 0.01506630890071392, 0.008079765364527702, 0.004381737671792507, 0.017865687608718872, 0.013676435686647892, 0.025486283004283905, 0.0062113250605762005, 0.003763392334803939, 0.008623466826975346, 0.006261842325329781, 0.5503007173538208, 0.0, 0.0, 0.0, 0.0, 0.0, 0.0, 0.0], [0.1308058202266693, 0.06089960038661957, 0.06116767227649689, 0.09961298853158951, 0.03340581804513931, 0.015114051289856434, 0.03986523300409317, 0.06127820909023285, 0.10417236387729645, 0.053998060524463654, 0.015315351076424122, 0.07086427509784698, 0.04274363070726395, 0.0733596459031105, 0.13739725947380066, 0.0, 0.0, 0.0, 0.0, 0.0, 0.0], [0.11329672485589981, 0.05479603633284569, 0.17768381536006927, 0.03666263446211815, 0.022256722673773766, 0.07943380624055862, 0.11877748370170593, 0.019971637055277824, 0.07343752682209015, 0.018067706376314163, 0.07428943365812302, 0.013203101232647896, 0.015219777822494507, 0.14592179656028748, 0.022990431636571884, 0.013991414569318295, 0.0, 0.0, 0.0, 0.0, 0.0], [0.03406466171145439, 0.010177490301430225, 0.015623821876943111, 0.009473356418311596, 0.007043282967060804, 0.007885427214205265, 0.010175291448831558, 0.005852126516401768, 0.008274288848042488, 0.006066941190510988, 0.007660757750272751, 0.006294274237006903, 0.0049505517818033695, 0.011577866040170193, 0.006808344274759293, 0.00530596636235714, 0.8427655100822449, 0.0, 0.0, 0.0, 0.0], [0.011369763873517513, 0.0025136119220405817, 0.010292875580489635, 0.004556714091449976, 0.0018613230204209685, 0.007419987116008997, 0.36508071422576904, 0.00514949718490243, 0.00807028915733099, 0.0018008372280746698, 0.008042084984481335, 0.0021674735471606255, 0.0016396193532273173, 0.011882614344358444, 0.0037078887689858675, 0.0012460385914891958, 0.007866264320909977, 0.5453324317932129, 0.0, 0.0, 0.0], [0.0819835439324379, 0.04132559895515442, 0.16359654068946838, 0.026243703439831734, 0.02061377838253975, 0.037736669182777405, 0.06519532948732376, 0.019649652764201164, 0.0737173855304718, 0.020145026966929436, 0.037172332406044006, 0.01056049857288599, 0.010781150311231613, 0.16808448731899261, 0.017560480162501335, 0.015375424176454544, 0.09175276011228561, 0.07879326492547989, 0.0197124183177948, 0.0, 0.0], [0.04596918076276779, 0.022856907919049263, 0.02862335741519928, 0.03150952234864235, 0.012409326620399952, 0.018222175538539886, 0.020885780453681946, 0.02080369181931019, 0.2728331387042999, 0.015281927771866322, 0.017175808548927307, 0.026596786454319954, 0.013623720034956932, 0.028133152052760124, 0.030339231714606285, 0.009737340733408928, 0.012067146599292755, 0.020699596032500267, 0.02094612829387188, 0.33128607273101807, 0.0], [0.09785457700490952, 0.04489000141620636, 0.1534486711025238, 0.02794761210680008, 0.021218694746494293, 0.03386630862951279, 0.054580435156822205, 0.014753513038158417, 0.05470660328865051, 0.018179241567850113, 0.03127192705869675, 0.008651375770568848, 0.01152810174971819, 0.12382107973098755, 0.016760380938649178, 0.014114140532910824, 0.10306403785943985, 0.05784383416175842, 0.013059834018349648, 0.06306545436382294, 0.035374220460653305]], [[1.0, 0.0, 0.0, 0.0, 0.0, 0.0, 0.0, 0.0, 0.0, 0.0, 0.0, 0.0, 0.0, 0.0, 0.0, 0.0, 0.0, 0.0, 0.0, 0.0, 0.0], [0.028901763260364532, 0.9710981249809265, 0.0, 0.0, 0.0, 0.0, 0.0, 0.0, 0.0, 0.0, 0.0, 0.0, 0.0, 0.0, 0.0, 0.0, 0.0, 0.0, 0.0, 0.0, 0.0], [0.007814927957952023, 0.0017400106880813837, 0.9904450178146362, 0.0, 0.0, 0.0, 0.0, 0.0, 0.0, 0.0, 0.0, 0.0, 0.0, 0.0, 0.0, 0.0, 0.0, 0.0, 0.0, 0.0, 0.0], [0.043289341032505035, 0.033554431051015854, 0.03576833754777908, 0.8873879909515381, 0.0, 0.0, 0.0, 0.0, 0.0, 0.0, 0.0, 0.0, 0.0, 0.0, 0.0, 0.0, 0.0, 0.0, 0.0, 0.0, 0.0], [0.27551722526550293, 0.18848367035388947, 0.08788440376520157, 0.2704114615917206, 0.17770330607891083, 0.0, 0.0, 0.0, 0.0, 0.0, 0.0, 0.0, 0.0, 0.0, 0.0, 0.0, 0.0, 0.0, 0.0, 0.0, 0.0], [0.00017138522525783628, 0.00013415460125543177, 6.359209510264918e-05, 0.00019070104463025928, 0.00016614628839306533, 0.9992741346359253, 0.0, 0.0, 0.0, 0.0, 0.0, 0.0, 0.0, 0.0, 0.0, 0.0, 0.0, 0.0, 0.0, 0.0, 0.0], [0.0013214291539043188, 0.00036812815233133733, 0.0007543637766502798, 0.0004071882285643369, 0.0004098793724551797, 0.00149336620233953, 0.9952457547187805, 0.0, 0.0, 0.0, 0.0, 0.0, 0.0, 0.0, 0.0, 0.0, 0.0, 0.0, 0.0, 0.0, 0.0], [0.2438952624797821, 0.1534864753484726, 0.07848621904850006, 0.15926781296730042, 0.08966891467571259, 0.034482069313526154, 0.09175817668437958, 0.14895512163639069, 0.0, 0.0, 0.0, 0.0, 0.0, 0.0, 0.0, 0.0, 0.0, 0.0, 0.0, 0.0, 0.0], [0.0025377809070050716, 0.0018082860624417663, 0.014442193321883678, 0.0032882201485335827, 0.0006433735834434628, 0.0008134925155900419, 0.0006172548164613545, 0.0007976230699568987, 0.9750518202781677, 0.0, 0.0, 0.0, 0.0, 0.0, 0.0, 0.0, 0.0, 0.0, 0.0, 0.0, 0.0], [0.2048642784357071, 0.15973831713199615, 0.09210549294948578, 0.12620651721954346, 0.05616510286927223, 0.024652816355228424, 0.09166066348552704, 0.09267882257699966, 0.08130805194377899, 0.07061992585659027, 0.0, 0.0, 0.0, 0.0, 0.0, 0.0, 0.0, 0.0, 0.0, 0.0, 0.0], [6.612054130528122e-05, 4.1511339077260345e-05, 2.3570166376885027e-05, 5.138216511113569e-05, 3.9566402847412974e-05, 0.40505316853523254, 0.0001031205611070618, 2.3981099730008282e-05, 5.488465103553608e-05, 2.6083258489961736e-05, 0.5945164561271667, 0.0, 0.0, 0.0, 0.0, 0.0, 0.0, 0.0, 0.0, 0.0, 0.0], [0.2778785824775696, 0.1304115355014801, 0.09332315623760223, 0.10135045647621155, 0.04572046175599098, 0.02327714115381241, 0.0476963073015213, 0.056075140833854675, 0.05355846509337425, 0.052373871207237244, 0.022485334426164627, 0.09584958851337433, 0.0, 0.0, 0.0, 0.0, 0.0, 0.0, 0.0, 0.0, 0.0], [0.07047267258167267, 0.19596366584300995, 0.021830609068274498, 0.04959871247410774, 0.029437126591801643, 0.016173671931028366, 0.022254373878240585, 0.01817476935684681, 0.015672922134399414, 0.03565927594900131, 0.01600566692650318, 0.010024729184806347, 0.49873173236846924, 0.0, 0.0, 0.0, 0.0, 0.0, 0.0, 0.0, 0.0], [0.0014662375906482339, 0.00017550712800584733, 0.21840761601924896, 0.0008810173021629453, 0.0001032425498124212, 4.261277717887424e-05, 0.0002906983136199415, 0.00010600349196465686, 0.0028996465262025595, 8.462206460535526e-05, 3.724576527019963e-05, 0.00010801526514114812, 4.958461067872122e-05, 0.7753480672836304, 0.0, 0.0, 0.0, 0.0, 0.0, 0.0, 0.0], [0.033461250364780426, 0.017644256353378296, 0.027641989290714264, 0.3403014838695526, 0.012706737965345383, 0.0034569876734167337, 0.0024179029278457165, 0.007809862028807402, 0.021131692454218864, 0.015348377637565136, 0.003195784753188491, 0.004355691373348236, 0.009988396428525448, 0.023100679740309715, 0.47743889689445496, 0.0, 0.0, 0.0, 0.0, 0.0, 0.0], [0.1984821856021881, 0.11249199509620667, 0.07004673779010773, 0.07696700841188431, 0.03689318522810936, 0.023667428642511368, 0.06516923010349274, 0.0479910746216774, 0.07401783764362335, 0.0353805348277092, 0.022129926830530167, 0.0396474190056324, 0.06987573206424713, 0.04324694722890854, 0.05558205023407936, 0.028410637751221657, 0.0, 0.0, 0.0, 0.0, 0.0], [0.0008863242692314088, 0.0006906308699399233, 0.00045310240238904953, 0.0006098003941588104, 0.00014832700253464282, 0.0004361115861684084, 0.0006217219051904976, 0.00010280591232003644, 0.0002891724288929254, 0.00011798292689491063, 0.0003932175459340215, 6.509491504402831e-05, 0.00016832785331644118, 0.00022416662250179797, 0.00033094463287852705, 8.419467485509813e-05, 0.9943781495094299, 0.0, 0.0, 0.0, 0.0], [0.0002532964281272143, 6.567374657606706e-05, 0.00018213869770988822, 5.149407297722064e-05, 4.64931181340944e-05, 0.00024178509193006903, 0.34115612506866455, 2.457758819218725e-05, 5.019320087740198e-05, 3.1156218028627336e-05, 0.00023664602485951036, 1.987076575460378e-05, 2.9389279006863944e-05, 9.545857756165788e-05, 1.792990769899916e-05, 2.2509850168717094e-05, 0.0005058084498159587, 0.656969428062439, 0.0, 0.0, 0.0], [0.19949878752231598, 0.0960545465350151, 0.06491406261920929, 0.08210387825965881, 0.03410565108060837, 0.015974482521414757, 0.05222444608807564, 0.041549064218997955, 0.05755075812339783, 0.028820954263210297, 0.01473271008580923, 0.025929220020771027, 0.057190705090761185, 0.034742265939712524, 0.053551092743873596, 0.022998351603746414, 0.03066622093319893, 0.047301530838012695, 0.04009129852056503, 0.0, 0.0], [0.000810213154181838, 0.0005203894688747823, 0.006165637169033289, 0.0008101594285108149, 0.0001258889096789062, 0.0002155657421099022, 0.00015656091272830963, 0.00012624850205611438, 0.37872520089149475, 9.477289131609723e-05, 0.0001998022780753672, 6.0344176745275036e-05, 9.598802716936916e-05, 0.004278075881302357, 0.0004354728735052049, 6.994115392444655e-05, 0.00022374164836946875, 0.0001258532574865967, 9.567919914843515e-05, 0.6066644787788391, 0.0], [0.20248964428901672, 0.09816776216030121, 0.04473079368472099, 0.09055118262767792, 0.032293371856212616, 0.025914566591382027, 0.03936381638050079, 0.03326461836695671, 0.03447313606739044, 0.029366686940193176, 0.023834705352783203, 0.01954394392669201, 0.031014161184430122, 0.027473967522382736, 0.05306524783372879, 0.018495148047804832, 0.03303772956132889, 0.03242271766066551, 0.03022541105747223, 0.030416278168559074, 0.06985510140657425]]], \"headLabels\": [\"L2H5\"]}\n",
       "    )\n",
       "    </script>"
      ],
      "text/plain": [
       "<circuitsvis.utils.render.RenderedHTML at 0x7ff5f47c36d0>"
      ]
     },
     "metadata": {},
     "output_type": "display_data"
    }
   ],
   "source": [
    "display(cv.attention.attention_patterns(\n",
    "    attention = results.cpu(),\n",
    "    tokens = model.to_str_tokens(prompt),\n",
    "    attention_head_names = [\"L2H5\"],\n",
    "))"
   ]
  }
 ],
 "metadata": {
  "kernelspec": {
   "display_name": "base",
   "language": "python",
   "name": "python3"
  },
  "language_info": {
   "codemirror_mode": {
    "name": "ipython",
    "version": 3
   },
   "file_extension": ".py",
   "mimetype": "text/x-python",
   "name": "python",
   "nbconvert_exporter": "python",
   "pygments_lexer": "ipython3",
   "version": "3.10.11"
  },
  "orig_nbformat": 4
 },
 "nbformat": 4,
 "nbformat_minor": 2
}
