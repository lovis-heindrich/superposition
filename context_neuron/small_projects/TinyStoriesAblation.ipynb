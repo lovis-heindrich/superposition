{
 "cells": [
  {
   "cell_type": "code",
   "execution_count": 1,
   "metadata": {},
   "outputs": [],
   "source": [
    "import torch\n",
    "import numpy as np\n",
    "from torch import einsum\n",
    "from tqdm.notebook import tqdm\n",
    "import seaborn as sns\n",
    "from transformer_lens import HookedTransformer\n",
    "from datasets import load_dataset\n",
    "from einops import einsum\n",
    "import pandas as pd"
   ]
  },
  {
   "cell_type": "code",
   "execution_count": 2,
   "metadata": {},
   "outputs": [
    {
     "name": "stderr",
     "output_type": "stream",
     "text": [
      "Using pad_token, but it is not set yet.\n"
     ]
    },
    {
     "name": "stdout",
     "output_type": "stream",
     "text": [
      "Loaded pretrained model tiny-stories-1M into HookedTransformer\n"
     ]
    },
    {
     "data": {
      "application/vnd.jupyter.widget-view+json": {
       "model_id": "f9af45a823da4476ac4d852048deb7c9",
       "version_major": 2,
       "version_minor": 0
      },
      "text/plain": [
       "0it [00:00, ?it/s]"
      ]
     },
     "metadata": {},
     "output_type": "display_data"
    },
    {
     "name": "stdout",
     "output_type": "stream",
     "text": [
      "Original model loss: 5.843791\n",
      "Ablated MLP layer 0 loss: 5.737778\n"
     ]
    }
   ],
   "source": [
    "def ablate_mlp_hook(value, hook):\n",
    "    return torch.zeros_like(value)\n",
    "\n",
    "model = HookedTransformer.from_pretrained(\"tiny-stories-1M\", device=\"cuda\")\n",
    "valid_dataset = load_dataset('roneneldan/TinyStories', split='validation', streaming=True)\n",
    "valid_dataloader = torch.utils.data.DataLoader(valid_dataset, batch_size=32)\n",
    "\n",
    "layer_to_ablate = 0\n",
    "original_losses = []\n",
    "ablation_losses = []\n",
    "\n",
    "with torch.no_grad():\n",
    "    for i, batch in tqdm(enumerate(valid_dataloader)):\n",
    "        tokens = model.to_tokens(batch[\"text\"])\n",
    "        \n",
    "        original_loss = model(tokens, return_type=\"loss\")\n",
    "        original_losses.append(original_loss.item())\n",
    "\n",
    "        ablated_loss = model.run_with_hooks(\n",
    "                tokens, \n",
    "                return_type=\"loss\", \n",
    "                fwd_hooks=[(\n",
    "                    f\"blocks.{layer_to_ablate}.mlp.hook_post\", \n",
    "                    ablate_mlp_hook\n",
    "                    )]\n",
    "                )\n",
    "        ablation_losses.append(ablated_loss.item())\n",
    "\n",
    "print(f\"Original model loss: {np.mean(original_losses):.6f}\")\n",
    "print(f\"Ablated MLP layer {layer_to_ablate} loss: {np.mean(ablation_losses):.6f}\")"
   ]
  },
  {
   "cell_type": "code",
   "execution_count": 2,
   "metadata": {},
   "outputs": [
    {
     "name": "stderr",
     "output_type": "stream",
     "text": [
      "Using pad_token, but it is not set yet.\n"
     ]
    },
    {
     "name": "stdout",
     "output_type": "stream",
     "text": [
      "Loaded pretrained model tiny-stories-1M into HookedTransformer\n"
     ]
    },
    {
     "data": {
      "application/vnd.jupyter.widget-view+json": {
       "model_id": "2005f624df4748e19971d3a8bd64a9bb",
       "version_major": 2,
       "version_minor": 0
      },
      "text/plain": [
       "0it [00:00, ?it/s]"
      ]
     },
     "metadata": {},
     "output_type": "display_data"
    },
    {
     "name": "stdout",
     "output_type": "stream",
     "text": [
      "Embedding only loss: 5.990667\n",
      "Full model loss: 5.843791\n",
      "Ablated MLP layer 0 loss: 5.737778\n"
     ]
    }
   ],
   "source": [
    "def ablate_mlp_hook(value, hook):\n",
    "    return torch.zeros_like(value)\n",
    "\n",
    "def get_log_probs(logits, tokens):\n",
    "    log_probs = logits.log_softmax(dim=-1)\n",
    "    log_probs_for_tokens = log_probs[:, :-1].gather(dim=-1, index=tokens[:, 1:].unsqueeze(-1)).squeeze(-1)\n",
    "    return log_probs_for_tokens\n",
    "\n",
    "valid_dataset = load_dataset('roneneldan/TinyStories', split='validation', streaming=True)\n",
    "valid_dataloader = torch.utils.data.DataLoader(valid_dataset, batch_size=32)\n",
    "\n",
    "model = HookedTransformer.from_pretrained(\"tiny-stories-1M\", device=\"cuda\")\n",
    "\n",
    "layer_to_ablate = 0\n",
    "ablation_losses = []\n",
    "original_losses = []\n",
    "embedding_losses = []\n",
    "\n",
    "with torch.no_grad():\n",
    "    for i, batch in tqdm(enumerate(valid_dataloader)):\n",
    "        data = batch[\"text\"]\n",
    "        tokens = model.to_tokens(data)\n",
    "\n",
    "        # Embedding layer only\n",
    "        embedded = model.embed.W_E[tokens, :]\n",
    "        unembed = einsum(embedded, model.unembed.W_U, 'batch pos d_model, d_model d_vocab -> \\\n",
    "            batch pos d_vocab') + model.unembed.b_U\n",
    "        embedding_losses.append(-get_log_probs(unembed, tokens).mean().item())\n",
    "        \n",
    "        # Full model\n",
    "        loss = model(tokens, return_type=\"loss\").item()\n",
    "        original_losses.append(loss)\n",
    "\n",
    "        # Ablated MLP layer\n",
    "        ablated_loss = model.run_with_hooks(\n",
    "                tokens, \n",
    "                return_type=\"loss\", \n",
    "                fwd_hooks=[(\n",
    "                    f\"blocks.{layer_to_ablate}.mlp.hook_post\", \n",
    "                    ablate_mlp_hook\n",
    "                    )]\n",
    "                )\n",
    "        ablation_losses.append(ablated_loss.item())\n",
    "        \n",
    "print(f\"Embedding only loss: {np.mean(embedding_losses):.6f}\")\n",
    "print(f\"Full model loss: {np.mean(original_losses):.6f}\")\n",
    "print(f\"Ablated MLP layer {layer_to_ablate} loss: {np.mean(ablation_losses):.6f}\")"
   ]
  },
  {
   "cell_type": "code",
   "execution_count": 10,
   "metadata": {},
   "outputs": [
    {
     "data": {
      "text/html": [
       "<div>\n",
       "<style scoped>\n",
       "    .dataframe tbody tr th:only-of-type {\n",
       "        vertical-align: middle;\n",
       "    }\n",
       "\n",
       "    .dataframe tbody tr th {\n",
       "        vertical-align: top;\n",
       "    }\n",
       "\n",
       "    .dataframe thead tr th {\n",
       "        text-align: left;\n",
       "    }\n",
       "\n",
       "    .dataframe thead tr:last-of-type th {\n",
       "        text-align: right;\n",
       "    }\n",
       "</style>\n",
       "<table border=\"1\" class=\"dataframe\">\n",
       "  <thead>\n",
       "    <tr>\n",
       "      <th></th>\n",
       "      <th colspan=\"2\" halign=\"left\">loss</th>\n",
       "    </tr>\n",
       "    <tr>\n",
       "      <th></th>\n",
       "      <th>mean</th>\n",
       "      <th>std</th>\n",
       "    </tr>\n",
       "    <tr>\n",
       "      <th>name</th>\n",
       "      <th></th>\n",
       "      <th></th>\n",
       "    </tr>\n",
       "  </thead>\n",
       "  <tbody>\n",
       "    <tr>\n",
       "      <th>Ablated</th>\n",
       "      <td>5.737778</td>\n",
       "      <td>1.032263</td>\n",
       "    </tr>\n",
       "    <tr>\n",
       "      <th>EmbeddingOnly</th>\n",
       "      <td>5.990667</td>\n",
       "      <td>0.170675</td>\n",
       "    </tr>\n",
       "    <tr>\n",
       "      <th>FullModel</th>\n",
       "      <td>5.843791</td>\n",
       "      <td>0.456182</td>\n",
       "    </tr>\n",
       "  </tbody>\n",
       "</table>\n",
       "</div>"
      ],
      "text/plain": [
       "                   loss          \n",
       "                   mean       std\n",
       "name                             \n",
       "Ablated        5.737778  1.032263\n",
       "EmbeddingOnly  5.990667  0.170675\n",
       "FullModel      5.843791  0.456182"
      ]
     },
     "execution_count": 10,
     "metadata": {},
     "output_type": "execute_result"
    }
   ],
   "source": [
    "dfs = [pd.DataFrame({\"loss\": ablation_losses, \"name\": \"Ablated\"}), \n",
    "        pd.DataFrame({\"loss\": original_losses, \"name\": \"FullModel\"}),\n",
    "        pd.DataFrame({\"loss\": embedding_losses, \"name\": \"EmbeddingOnly\"})]\n",
    "df = pd.concat(dfs)\n",
    "df.groupby(\"name\").agg([\"mean\", \"std\"])"
   ]
  },
  {
   "cell_type": "code",
   "execution_count": 11,
   "metadata": {},
   "outputs": [
    {
     "data": {
      "text/plain": [
       "<Axes: xlabel='loss', ylabel='Probability'>"
      ]
     },
     "execution_count": 11,
     "metadata": {},
     "output_type": "execute_result"
    },
    {
     "data": {
      "image/png": "[encoded data removed]",
      "text/plain": [
       "<Figure size 640x480 with 1 Axes>"
      ]
     },
     "metadata": {},
     "output_type": "display_data"
    }
   ],
   "source": [
    "sns.histplot(df, x=\"loss\", hue=\"name\", stat=\"probability\")"
   ]
  },
  {
   "cell_type": "code",
   "execution_count": null,
   "metadata": {},
   "outputs": [],
   "source": []
  }
 ],
 "metadata": {
  "kernelspec": {
   "display_name": "Python 3",
   "language": "python",
   "name": "python3"
  },
  "language_info": {
   "codemirror_mode": {
    "name": "ipython",
    "version": 3
   },
   "file_extension": ".py",
   "mimetype": "text/x-python",
   "name": "python",
   "nbconvert_exporter": "python",
   "pygments_lexer": "ipython3",
   "version": "3.10.6"
  },
  "orig_nbformat": 4
 },
 "nbformat": 4,
 "nbformat_minor": 2
}
