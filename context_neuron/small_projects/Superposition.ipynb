{
  "cells": [
    {
      "cell_type": "code",
      "execution_count": null,
      "metadata": {
        "colab": {
          "base_uri": "https://localhost:8080/"
        },
        "id": "LaUSdiwOmwUd",
        "outputId": "f928dfc2-219c-465e-a81a-e704a57871f3"
      },
      "outputs": [
        {
          "name": "stdout",
          "output_type": "stream",
          "text": [
            "Looking in indexes: https://pypi.org/simple, https://us-python.pkg.dev/colab-wheels/public/simple/\n",
            "Collecting einops\n",
            "  Downloading einops-0.6.1-py3-none-any.whl (42 kB)\n",
            "\u001b[2K     \u001b[90m━━━━━━━━━━━━━━━━━━━━━━━━━━━━━━━━━━━━━━━━\u001b[0m \u001b[32m42.2/42.2 kB\u001b[0m \u001b[31m2.6 MB/s\u001b[0m eta \u001b[36m0:00:00\u001b[0m\n",
            "\u001b[?25hInstalling collected packages: einops\n",
            "Successfully installed einops-0.6.1\n"
          ]
        }
      ],
      "source": [
        "import torch\n",
        "import numpy as np\n",
        "import torch.nn.functional as F\n",
        "from torch import einsum\n",
        "import einops\n",
        "from tqdm.notebook import tqdm\n",
        "import seaborn as sns"
      ]
    },
    {
      "cell_type": "code",
      "execution_count": null,
      "metadata": {
        "id": "kd-XDd8YU4ZH"
      },
      "outputs": [],
      "source": [
        "def generate_sphere_data(n_points, d_sphere):\n",
        "  \"\"\"\n",
        "  Generate a tensor of shape [n_points, d_sphere] where each row is a uniformly \n",
        "  random point on an n-sphere where n = d_sphere. \n",
        "  \n",
        "  Each point on an n-sphere can be represented as an n-tuple (x1, x2 ... xn) \n",
        "  such that x1^2 + x2^2 + ... + xn^2 = r^2, where r is the sphere radius. In our\n",
        "  case we're generating points on a unit sphere so r = 1.\n",
        "  \"\"\"\n",
        "  feature_weights = torch.randn((d_sphere, n_points))\n",
        "  # divide each point by its l2 norm so the point sits on a unit sphere\n",
        "  l2_norm = torch.sum(feature_weights**2, axis=0)**(0.5)  # [n_points]\n",
        "  x = feature_weights / l2_norm\n",
        "  return x"
      ]
    },
    {
      "cell_type": "code",
      "execution_count": null,
      "metadata": {
        "id": "xz0r_Boxvq-x"
      },
      "outputs": [],
      "source": [
        "h = 64\n",
        "G = 512\n",
        "\n",
        "class Autoencoder(torch.nn.Module):\n",
        "  def __init__(self):\n",
        "    super().__init__()\n",
        "    self.encoder = torch.nn.Linear(h, G)\n",
        "    self.decoder = torch.nn.Linear(G, h, bias=False)\n",
        "\n",
        "    torch.nn.init.orthogonal_(self.decoder.weight)\n",
        "\n",
        "\n",
        "  def forward(self, x):\n",
        "    hidden = F.relu(self.encoder(x))\n",
        "    \n",
        "    # each h dimension should sum to 1, we use an L2 norm to achieve this\n",
        "    # print(self.decoder.weight.shape) # [h, G]\n",
        "    l2_norm = torch.sum(self.decoder.weight**2, axis=0)**(0.5)  # [n_points]\n",
        "    normalized_decoder_weights = self.decoder.weight / l2_norm\n",
        "    x = hidden @ normalized_decoder_weights.T\n",
        "    return (x, hidden)"
      ]
    },
    {
      "cell_type": "code",
      "execution_count": null,
      "metadata": {
        "colab": {
          "base_uri": "https://localhost:8080/",
          "height": 1000,
          "referenced_widgets": [
            "65ee327adc0b40eca97a79d23c7cd8c8",
            "107431b0140f467385ac06d45c482060",
            "8660add813ec43ba9f2093302100d098",
            "69a2f856ddbc4b5fa6669545b2b9cfcd",
            "16822afa08024858b7da63ae446348d0",
            "112a99d28aaf4986bdeaa944df41d601",
            "9f08aa85734a4fbe81e0403d600ef2c9",
            "91658e14d40a436eba707b7f35346d9c",
            "8e22b58c9a8e4e5cba5f40720adb173c",
            "4214a63d149e4aa5981407283963ae34",
            "55b55c2a71004353856432ee7b5db48d"
          ]
        },
        "id": "hbFlM4Wbww0J",
        "outputId": "fb982547-1d7a-4858-a4d3-a54a1cb94141"
      },
      "outputs": [
        {
          "data": {
            "application/vnd.jupyter.widget-view+json": {
              "model_id": "65ee327adc0b40eca97a79d23c7cd8c8",
              "version_major": 2,
              "version_minor": 0
            },
            "text/plain": [
              "  0%|          | 0/30000 [00:00<?, ?it/s]"
            ]
          },
          "metadata": {},
          "output_type": "display_data"
        },
        {
          "name": "stdout",
          "output_type": "stream",
          "text": [
            "Batch 500, criterion_loss=0.0014, l1_loss=0.0033\n",
            "151.35546875\n",
            "Batch 1000, criterion_loss=0.0008, l1_loss=0.003\n",
            "156.92578125\n",
            "Batch 1500, criterion_loss=0.0006, l1_loss=0.0032\n",
            "159.23046875\n",
            "Batch 2000, criterion_loss=0.0004, l1_loss=0.0031\n",
            "155.08984375\n",
            "Batch 2500, criterion_loss=0.0004, l1_loss=0.0029\n",
            "147.3984375\n",
            "Batch 3000, criterion_loss=0.0004, l1_loss=0.0029\n",
            "147.546875\n",
            "Batch 3500, criterion_loss=0.0004, l1_loss=0.003\n",
            "149.6015625\n",
            "Batch 4000, criterion_loss=0.0004, l1_loss=0.003\n",
            "147.640625\n",
            "Batch 4500, criterion_loss=0.0004, l1_loss=0.0031\n",
            "149.58984375\n",
            "Batch 5000, criterion_loss=0.0004, l1_loss=0.0029\n",
            "144.6015625\n",
            "Batch 5500, criterion_loss=0.0004, l1_loss=0.003\n",
            "146.73828125\n",
            "Batch 6000, criterion_loss=0.0004, l1_loss=0.0028\n",
            "142.30859375\n",
            "Batch 6500, criterion_loss=0.0004, l1_loss=0.0029\n",
            "145.71875\n",
            "Batch 7000, criterion_loss=0.0004, l1_loss=0.0029\n",
            "144.22265625\n",
            "Batch 7500, criterion_loss=0.0004, l1_loss=0.0029\n",
            "144.95703125\n",
            "Batch 8000, criterion_loss=0.0004, l1_loss=0.0028\n",
            "145.171875\n",
            "Batch 8500, criterion_loss=0.0004, l1_loss=0.0029\n",
            "145.1328125\n",
            "Batch 9000, criterion_loss=0.0004, l1_loss=0.0028\n",
            "144.69140625\n",
            "Batch 9500, criterion_loss=0.0004, l1_loss=0.0028\n",
            "143.16015625\n",
            "Batch 10000, criterion_loss=0.0004, l1_loss=0.0029\n",
            "147.3828125\n",
            "Batch 10500, criterion_loss=0.0004, l1_loss=0.003\n",
            "146.953125\n",
            "Batch 11000, criterion_loss=0.0004, l1_loss=0.0028\n",
            "144.41796875\n",
            "Batch 11500, criterion_loss=0.0004, l1_loss=0.0029\n",
            "147.39453125\n",
            "Batch 12000, criterion_loss=0.0004, l1_loss=0.003\n",
            "148.90625\n",
            "Batch 12500, criterion_loss=0.0004, l1_loss=0.0027\n",
            "138.62109375\n",
            "Batch 13000, criterion_loss=0.0004, l1_loss=0.0029\n",
            "146.31640625\n",
            "Batch 13500, criterion_loss=0.0004, l1_loss=0.003\n",
            "147.81640625\n",
            "Batch 14000, criterion_loss=0.0004, l1_loss=0.003\n",
            "148.98828125\n",
            "Batch 14500, criterion_loss=0.0004, l1_loss=0.0028\n",
            "143.8515625\n",
            "Batch 15000, criterion_loss=0.0004, l1_loss=0.0027\n",
            "142.95703125\n",
            "Batch 15500, criterion_loss=0.0004, l1_loss=0.0028\n",
            "144.51171875\n",
            "Batch 16000, criterion_loss=0.0004, l1_loss=0.0029\n",
            "145.55078125\n",
            "Batch 16500, criterion_loss=0.0004, l1_loss=0.0028\n",
            "143.8046875\n",
            "Batch 17000, criterion_loss=0.0004, l1_loss=0.0029\n",
            "146.53515625\n",
            "Batch 17500, criterion_loss=0.0004, l1_loss=0.0029\n",
            "146.86328125\n",
            "Batch 18000, criterion_loss=0.0004, l1_loss=0.0027\n",
            "145.08203125\n",
            "Batch 18500, criterion_loss=0.0004, l1_loss=0.0028\n",
            "146.97265625\n",
            "Batch 19000, criterion_loss=0.0004, l1_loss=0.0028\n",
            "144.375\n",
            "Batch 19500, criterion_loss=0.0004, l1_loss=0.0028\n",
            "145.53125\n",
            "Batch 20000, criterion_loss=0.0004, l1_loss=0.0028\n",
            "145.4140625\n",
            "Batch 20500, criterion_loss=0.0004, l1_loss=0.0029\n",
            "148.2890625\n",
            "Batch 21000, criterion_loss=0.0004, l1_loss=0.0027\n",
            "144.2734375\n",
            "Batch 21500, criterion_loss=0.0004, l1_loss=0.0028\n",
            "146.87109375\n",
            "Batch 22000, criterion_loss=0.0004, l1_loss=0.0029\n",
            "147.3046875\n",
            "Batch 22500, criterion_loss=0.0004, l1_loss=0.003\n",
            "149.71875\n",
            "Batch 23000, criterion_loss=0.0004, l1_loss=0.0028\n",
            "145.24609375\n",
            "Batch 23500, criterion_loss=0.0004, l1_loss=0.0027\n",
            "145.05078125\n",
            "Batch 24000, criterion_loss=0.0004, l1_loss=0.0028\n",
            "145.87890625\n",
            "Batch 24500, criterion_loss=0.0004, l1_loss=0.0029\n",
            "146.2578125\n",
            "Batch 25000, criterion_loss=0.0004, l1_loss=0.0028\n",
            "146.390625\n",
            "Batch 25500, criterion_loss=0.0004, l1_loss=0.0029\n",
            "147.453125\n",
            "Batch 26000, criterion_loss=0.0004, l1_loss=0.0028\n",
            "146.3125\n",
            "Batch 26500, criterion_loss=0.0004, l1_loss=0.0028\n",
            "144.6796875\n",
            "Batch 27000, criterion_loss=0.0004, l1_loss=0.003\n",
            "148.0546875\n",
            "Batch 27500, criterion_loss=0.0004, l1_loss=0.0027\n",
            "143.2578125\n",
            "Batch 28000, criterion_loss=0.0004, l1_loss=0.0029\n",
            "147.234375\n",
            "Batch 28500, criterion_loss=0.0004, l1_loss=0.003\n",
            "150.78515625\n",
            "Batch 29000, criterion_loss=0.0004, l1_loss=0.0029\n",
            "146.45703125\n",
            "Batch 29500, criterion_loss=0.0004, l1_loss=0.0028\n",
            "146.09765625\n",
            "Batch 30000, criterion_loss=0.0004, l1_loss=0.0029\n",
            "147.578125\n"
          ]
        }
      ],
      "source": [
        "from torch.optim import lr_scheduler\n",
        "model = Autoencoder()\n",
        "model.to(\"cuda\")\n",
        "\n",
        "optim = torch.optim.Adam(model.parameters(), lr=0.001)\n",
        "\n",
        "criterion = torch.nn.MSELoss()\n",
        "# l1 = torch.nn.L1Loss()\n",
        "alpha = 0.001\n",
        "\n",
        "batch_size = 256\n",
        "phi = 5\n",
        "\n",
        "# Step 1: generate ground truth features\n",
        "features = generate_sphere_data(G, h).to(\"cuda\")\n",
        "\n",
        "for i in tqdm(range(30000)):\n",
        "  sparse_coefficients = torch.rand(batch_size, G) < (phi / G)\n",
        "  sparse_coefficients = sparse_coefficients.to(torch.int)\n",
        "\n",
        "  activations = torch.rand(batch_size, G)\n",
        "  activated_coefficients = sparse_coefficients * activations\n",
        "  activated_coefficients = activated_coefficients.to(\"cuda\")\n",
        "\n",
        "  superimposed_features = einsum(\"h g, b g -> b h\", features, activated_coefficients)\n",
        "  superimposed_features = superimposed_features.to(device=\"cuda\")\n",
        "\n",
        "  # Step 2: train\n",
        "  optim.zero_grad()\n",
        "  x, hidden = model(superimposed_features)\n",
        "\n",
        "  #l1_loss = sum(1 / G * alpha * torch.linalg.vector_norm(hidden, dim=1, ord=1))\n",
        "  l1_loss = (1/G)*alpha*torch.sum(torch.abs(hidden))\n",
        "  crit_loss = criterion(x, superimposed_features)\n",
        "\n",
        "  loss = crit_loss + l1_loss\n",
        "  loss.backward()\n",
        "  optim.step()\n",
        "\n",
        "  if (i+1)%500 == 0:\n",
        "    print(f\"Batch {i+1}, criterion_loss={np.round(crit_loss.item(), 4)}, l1_loss={np.round(l1_loss.item(), 4)}\")\n",
        "    print((torch.sum(hidden > 0) / batch_size).item())"
      ]
    },
    {
      "cell_type": "code",
      "execution_count": null,
      "metadata": {
        "colab": {
          "base_uri": "https://localhost:8080/"
        },
        "id": "8g7gdQPU_MDw",
        "outputId": "327cf206-8aad-403e-d163-7cfaf89cdd16"
      },
      "outputs": [
        {
          "name": "stdout",
          "output_type": "stream",
          "text": [
            "tensor(0.6078, grad_fn=<MeanBackward0>)\n"
          ]
        }
      ],
      "source": [
        "# Compute cosine similarity\n",
        "dictionary = model.decoder.weight # .to(\"cpu\") # [h, G]\n",
        "cosine_sims = torch.zeros(G, G)\n",
        "\n",
        "for i, feature in enumerate(features.T):\n",
        "  for j, learned in enumerate(dictionary.T):\n",
        "    cosine_sims[i][j] = F.cosine_similarity(feature, learned, dim=0)\n",
        "\n",
        "max_cosine_sims = torch.max(cosine_sims, dim=1).values\n",
        "\n",
        "mean_max_cosine_sim = torch.mean(max_cosine_sims)\n",
        "\n",
        "print(mean_max_cosine_sim)"
      ]
    },
    {
      "cell_type": "code",
      "execution_count": null,
      "metadata": {
        "colab": {
          "base_uri": "https://localhost:8080/",
          "height": 554
        },
        "id": "abjPwnjGXvMr",
        "outputId": "b0ca93ae-e1f1-466b-ad0a-2216b1ffdeef"
      },
      "outputs": [
        {
          "name": "stdout",
          "output_type": "stream",
          "text": [
            "tensor([[0.0000, 0.0000, 0.0000,  ..., 0.0594, 0.0000, 0.0095],\n",
            "        [0.0000, 0.0000, 0.0000,  ..., 0.0538, 0.0000, 0.0000],\n",
            "        [0.0000, 0.0000, 0.0000,  ..., 0.0035, 0.0000, 0.0000],\n",
            "        [0.0000, 0.0000, 0.0000,  ..., 0.0000, 0.0000, 0.0000],\n",
            "        [0.0000, 0.0000, 0.0000,  ..., 0.0251, 0.0000, 0.0000]],\n",
            "       device='cuda:0', grad_fn=<SliceBackward0>)\n"
          ]
        },
        {
          "data": {
            "text/plain": [
              "<Axes: ylabel='Count'>"
            ]
          },
          "execution_count": 113,
          "metadata": {},
          "output_type": "execute_result"
        },
        {
          "data": {
            "image/png": "[encoded data removed]",
            "text/plain": [
              "<Figure size 640x480 with 1 Axes>"
            ]
          },
          "metadata": {},
          "output_type": "display_data"
        }
      ],
      "source": [
        "# Check how model activations look like on a small batch\n",
        "sparse_coefficients = torch.rand(5, G) < (phi / G)\n",
        "sparse_coefficients = sparse_coefficients.to(torch.int).to(\"cuda\")\n",
        "\n",
        "activations = torch.rand(5, G).to(\"cuda\")\n",
        "activated_coefficients = sparse_coefficients * activations\n",
        "\n",
        "# print(\"Nonzero active coefficients: \", activated_coefficients[activated_coefficients>0])\n",
        "\n",
        "superimposed_features = einsum(\"h g, b g -> b h\", features, activated_coefficients)\n",
        "superimposed_features = superimposed_features.to(device=\"cuda\")\n",
        "\n",
        "x, hidden = model(superimposed_features)\n",
        "print(hidden[:5])\n",
        "\n",
        "hidden = hidden.flatten().cpu().detach().numpy()\n",
        "sns.histplot(hidden[hidden > 0])\n",
        "\n",
        "# print(x.shape, hidden.shape)\n",
        "# print(hidden[hidden>0])\n",
        "\n",
        "# print(torch.argwhere(hidden), torch.argwhere(activated_coefficients))"
      ]
    },
    {
      "attachments": {},
      "cell_type": "markdown",
      "metadata": {
        "id": "v_Ppo3vQddgT"
      },
      "source": [
        "## Test cosine sim code"
      ]
    },
    {
      "cell_type": "code",
      "execution_count": null,
      "metadata": {
        "colab": {
          "base_uri": "https://localhost:8080/"
        },
        "id": "Lh44dxUvdfvF",
        "outputId": "d0e36fc0-94b9-4f59-a5a7-bc9ae10af90b"
      },
      "outputs": [
        {
          "name": "stdout",
          "output_type": "stream",
          "text": [
            "[0.181926429271698, 0.2295827716588974, 0.2077474147081375, 0.19578766822814941, 0.15555953979492188]\n",
            "0.1893892841762863\n"
          ]
        }
      ],
      "source": [
        "# Easy to read alternative\n",
        "dictionary = model.decoder.weight.to(\"cpu\").detach()\n",
        "\n",
        "max_cosine_sims = []\n",
        "for feature_index in range(G):\n",
        "  feature = features[:, feature_index]\n",
        "  feature_cosine_sims = []\n",
        "  for dict_index in range(G):\n",
        "    learned_feature = dictionary[:, dict_index]\n",
        "    cosine_sim = F.cosine_similarity(feature, learned_feature, dim=0)\n",
        "    feature_cosine_sims.append(cosine_sim.item())\n",
        "  max_cosine_sims.append(max(feature_cosine_sims))\n",
        "\n",
        "print(max_cosine_sims[:5])\n",
        "print(np.mean(max_cosine_sims))"
      ]
    },
    {
      "attachments": {},
      "cell_type": "markdown",
      "metadata": {
        "id": "HlgIv3MHcOTA"
      },
      "source": [
        "## Test data generation"
      ]
    },
    {
      "cell_type": "code",
      "execution_count": null,
      "metadata": {
        "colab": {
          "base_uri": "https://localhost:8080/",
          "height": 448
        },
        "id": "7AvdV9IUYYTk",
        "outputId": "59d59f56-dc0d-4346-f12f-af67bb339cd5"
      },
      "outputs": [
        {
          "data": {
            "text/plain": [
              "<Axes: >"
            ]
          },
          "execution_count": 42,
          "metadata": {},
          "output_type": "execute_result"
        },
        {
          "data": {
            "image/png": "[encoded data removed]",
            "text/plain": [
              "<Figure size 640x480 with 1 Axes>"
            ]
          },
          "metadata": {},
          "output_type": "display_data"
        }
      ],
      "source": [
        "# Plot new method\n",
        "test_data = generate_sphere_data(100, 2)\n",
        "sns.scatterplot(x=test_data[0, :], y=test_data[1, :])"
      ]
    },
    {
      "cell_type": "code",
      "execution_count": null,
      "metadata": {
        "colab": {
          "base_uri": "https://localhost:8080/",
          "height": 448
        },
        "id": "XpoMSUbpcRWf",
        "outputId": "09c41e45-970b-4878-da3b-fc60174e003e"
      },
      "outputs": [
        {
          "data": {
            "text/plain": [
              "<Axes: >"
            ]
          },
          "execution_count": 25,
          "metadata": {},
          "output_type": "execute_result"
        },
        {
          "data": {
            "image/png": "[encoded data removed]",
            "text/plain": [
              "<Figure size 640x480 with 1 Axes>"
            ]
          },
          "metadata": {},
          "output_type": "display_data"
        }
      ],
      "source": [
        "# Plot old method\n",
        "test_data = torch.rand(2, 100)\n",
        "test_data = F.normalize(test_data, p=1, dim=0)\n",
        "sns.scatterplot(x=test_data[0, :], y=test_data[1, :])"
      ]
    },
    {
      "cell_type": "code",
      "execution_count": null,
      "metadata": {
        "id": "nUZPN1g_cS2x"
      },
      "outputs": [],
      "source": []
    }
  ],
  "metadata": {
    "accelerator": "GPU",
    "colab": {
      "gpuType": "T4",
      "provenance": []
    },
    "kernelspec": {
      "display_name": "Python 3",
      "name": "python3"
    },
    "language_info": {
      "name": "python",
      "version": "3.9.16"
    },
    "widgets": {
      "application/vnd.jupyter.widget-state+json": {
        "107431b0140f467385ac06d45c482060": {
          "model_module": "@jupyter-widgets/controls",
          "model_module_version": "1.5.0",
          "model_name": "HTMLModel",
          "state": {
            "_dom_classes": [],
            "_model_module": "@jupyter-widgets/controls",
            "_model_module_version": "1.5.0",
            "_model_name": "HTMLModel",
            "_view_count": null,
            "_view_module": "@jupyter-widgets/controls",
            "_view_module_version": "1.5.0",
            "_view_name": "HTMLView",
            "description": "",
            "description_tooltip": null,
            "layout": "IPY_MODEL_112a99d28aaf4986bdeaa944df41d601",
            "placeholder": "​",
            "style": "IPY_MODEL_9f08aa85734a4fbe81e0403d600ef2c9",
            "value": "100%"
          }
        },
        "112a99d28aaf4986bdeaa944df41d601": {
          "model_module": "@jupyter-widgets/base",
          "model_module_version": "1.2.0",
          "model_name": "LayoutModel",
          "state": {
            "_model_module": "@jupyter-widgets/base",
            "_model_module_version": "1.2.0",
            "_model_name": "LayoutModel",
            "_view_count": null,
            "_view_module": "@jupyter-widgets/base",
            "_view_module_version": "1.2.0",
            "_view_name": "LayoutView",
            "align_content": null,
            "align_items": null,
            "align_self": null,
            "border": null,
            "bottom": null,
            "display": null,
            "flex": null,
            "flex_flow": null,
            "grid_area": null,
            "grid_auto_columns": null,
            "grid_auto_flow": null,
            "grid_auto_rows": null,
            "grid_column": null,
            "grid_gap": null,
            "grid_row": null,
            "grid_template_areas": null,
            "grid_template_columns": null,
            "grid_template_rows": null,
            "height": null,
            "justify_content": null,
            "justify_items": null,
            "left": null,
            "margin": null,
            "max_height": null,
            "max_width": null,
            "min_height": null,
            "min_width": null,
            "object_fit": null,
            "object_position": null,
            "order": null,
            "overflow": null,
            "overflow_x": null,
            "overflow_y": null,
            "padding": null,
            "right": null,
            "top": null,
            "visibility": null,
            "width": null
          }
        },
        "16822afa08024858b7da63ae446348d0": {
          "model_module": "@jupyter-widgets/base",
          "model_module_version": "1.2.0",
          "model_name": "LayoutModel",
          "state": {
            "_model_module": "@jupyter-widgets/base",
            "_model_module_version": "1.2.0",
            "_model_name": "LayoutModel",
            "_view_count": null,
            "_view_module": "@jupyter-widgets/base",
            "_view_module_version": "1.2.0",
            "_view_name": "LayoutView",
            "align_content": null,
            "align_items": null,
            "align_self": null,
            "border": null,
            "bottom": null,
            "display": null,
            "flex": null,
            "flex_flow": null,
            "grid_area": null,
            "grid_auto_columns": null,
            "grid_auto_flow": null,
            "grid_auto_rows": null,
            "grid_column": null,
            "grid_gap": null,
            "grid_row": null,
            "grid_template_areas": null,
            "grid_template_columns": null,
            "grid_template_rows": null,
            "height": null,
            "justify_content": null,
            "justify_items": null,
            "left": null,
            "margin": null,
            "max_height": null,
            "max_width": null,
            "min_height": null,
            "min_width": null,
            "object_fit": null,
            "object_position": null,
            "order": null,
            "overflow": null,
            "overflow_x": null,
            "overflow_y": null,
            "padding": null,
            "right": null,
            "top": null,
            "visibility": null,
            "width": null
          }
        },
        "4214a63d149e4aa5981407283963ae34": {
          "model_module": "@jupyter-widgets/base",
          "model_module_version": "1.2.0",
          "model_name": "LayoutModel",
          "state": {
            "_model_module": "@jupyter-widgets/base",
            "_model_module_version": "1.2.0",
            "_model_name": "LayoutModel",
            "_view_count": null,
            "_view_module": "@jupyter-widgets/base",
            "_view_module_version": "1.2.0",
            "_view_name": "LayoutView",
            "align_content": null,
            "align_items": null,
            "align_self": null,
            "border": null,
            "bottom": null,
            "display": null,
            "flex": null,
            "flex_flow": null,
            "grid_area": null,
            "grid_auto_columns": null,
            "grid_auto_flow": null,
            "grid_auto_rows": null,
            "grid_column": null,
            "grid_gap": null,
            "grid_row": null,
            "grid_template_areas": null,
            "grid_template_columns": null,
            "grid_template_rows": null,
            "height": null,
            "justify_content": null,
            "justify_items": null,
            "left": null,
            "margin": null,
            "max_height": null,
            "max_width": null,
            "min_height": null,
            "min_width": null,
            "object_fit": null,
            "object_position": null,
            "order": null,
            "overflow": null,
            "overflow_x": null,
            "overflow_y": null,
            "padding": null,
            "right": null,
            "top": null,
            "visibility": null,
            "width": null
          }
        },
        "55b55c2a71004353856432ee7b5db48d": {
          "model_module": "@jupyter-widgets/controls",
          "model_module_version": "1.5.0",
          "model_name": "DescriptionStyleModel",
          "state": {
            "_model_module": "@jupyter-widgets/controls",
            "_model_module_version": "1.5.0",
            "_model_name": "DescriptionStyleModel",
            "_view_count": null,
            "_view_module": "@jupyter-widgets/base",
            "_view_module_version": "1.2.0",
            "_view_name": "StyleView",
            "description_width": ""
          }
        },
        "65ee327adc0b40eca97a79d23c7cd8c8": {
          "model_module": "@jupyter-widgets/controls",
          "model_module_version": "1.5.0",
          "model_name": "HBoxModel",
          "state": {
            "_dom_classes": [],
            "_model_module": "@jupyter-widgets/controls",
            "_model_module_version": "1.5.0",
            "_model_name": "HBoxModel",
            "_view_count": null,
            "_view_module": "@jupyter-widgets/controls",
            "_view_module_version": "1.5.0",
            "_view_name": "HBoxView",
            "box_style": "",
            "children": [
              "IPY_MODEL_107431b0140f467385ac06d45c482060",
              "IPY_MODEL_8660add813ec43ba9f2093302100d098",
              "IPY_MODEL_69a2f856ddbc4b5fa6669545b2b9cfcd"
            ],
            "layout": "IPY_MODEL_16822afa08024858b7da63ae446348d0"
          }
        },
        "69a2f856ddbc4b5fa6669545b2b9cfcd": {
          "model_module": "@jupyter-widgets/controls",
          "model_module_version": "1.5.0",
          "model_name": "HTMLModel",
          "state": {
            "_dom_classes": [],
            "_model_module": "@jupyter-widgets/controls",
            "_model_module_version": "1.5.0",
            "_model_name": "HTMLModel",
            "_view_count": null,
            "_view_module": "@jupyter-widgets/controls",
            "_view_module_version": "1.5.0",
            "_view_name": "HTMLView",
            "description": "",
            "description_tooltip": null,
            "layout": "IPY_MODEL_4214a63d149e4aa5981407283963ae34",
            "placeholder": "​",
            "style": "IPY_MODEL_55b55c2a71004353856432ee7b5db48d",
            "value": " 30000/30000 [02:09&lt;00:00, 253.30it/s]"
          }
        },
        "8660add813ec43ba9f2093302100d098": {
          "model_module": "@jupyter-widgets/controls",
          "model_module_version": "1.5.0",
          "model_name": "FloatProgressModel",
          "state": {
            "_dom_classes": [],
            "_model_module": "@jupyter-widgets/controls",
            "_model_module_version": "1.5.0",
            "_model_name": "FloatProgressModel",
            "_view_count": null,
            "_view_module": "@jupyter-widgets/controls",
            "_view_module_version": "1.5.0",
            "_view_name": "ProgressView",
            "bar_style": "success",
            "description": "",
            "description_tooltip": null,
            "layout": "IPY_MODEL_91658e14d40a436eba707b7f35346d9c",
            "max": 30000,
            "min": 0,
            "orientation": "horizontal",
            "style": "IPY_MODEL_8e22b58c9a8e4e5cba5f40720adb173c",
            "value": 30000
          }
        },
        "8e22b58c9a8e4e5cba5f40720adb173c": {
          "model_module": "@jupyter-widgets/controls",
          "model_module_version": "1.5.0",
          "model_name": "ProgressStyleModel",
          "state": {
            "_model_module": "@jupyter-widgets/controls",
            "_model_module_version": "1.5.0",
            "_model_name": "ProgressStyleModel",
            "_view_count": null,
            "_view_module": "@jupyter-widgets/base",
            "_view_module_version": "1.2.0",
            "_view_name": "StyleView",
            "bar_color": null,
            "description_width": ""
          }
        },
        "91658e14d40a436eba707b7f35346d9c": {
          "model_module": "@jupyter-widgets/base",
          "model_module_version": "1.2.0",
          "model_name": "LayoutModel",
          "state": {
            "_model_module": "@jupyter-widgets/base",
            "_model_module_version": "1.2.0",
            "_model_name": "LayoutModel",
            "_view_count": null,
            "_view_module": "@jupyter-widgets/base",
            "_view_module_version": "1.2.0",
            "_view_name": "LayoutView",
            "align_content": null,
            "align_items": null,
            "align_self": null,
            "border": null,
            "bottom": null,
            "display": null,
            "flex": null,
            "flex_flow": null,
            "grid_area": null,
            "grid_auto_columns": null,
            "grid_auto_flow": null,
            "grid_auto_rows": null,
            "grid_column": null,
            "grid_gap": null,
            "grid_row": null,
            "grid_template_areas": null,
            "grid_template_columns": null,
            "grid_template_rows": null,
            "height": null,
            "justify_content": null,
            "justify_items": null,
            "left": null,
            "margin": null,
            "max_height": null,
            "max_width": null,
            "min_height": null,
            "min_width": null,
            "object_fit": null,
            "object_position": null,
            "order": null,
            "overflow": null,
            "overflow_x": null,
            "overflow_y": null,
            "padding": null,
            "right": null,
            "top": null,
            "visibility": null,
            "width": null
          }
        },
        "9f08aa85734a4fbe81e0403d600ef2c9": {
          "model_module": "@jupyter-widgets/controls",
          "model_module_version": "1.5.0",
          "model_name": "DescriptionStyleModel",
          "state": {
            "_model_module": "@jupyter-widgets/controls",
            "_model_module_version": "1.5.0",
            "_model_name": "DescriptionStyleModel",
            "_view_count": null,
            "_view_module": "@jupyter-widgets/base",
            "_view_module_version": "1.2.0",
            "_view_name": "StyleView",
            "description_width": ""
          }
        }
      }
    }
  },
  "nbformat": 4,
  "nbformat_minor": 0
}
