{
 "cells": [
  {
   "cell_type": "code",
   "execution_count": 1,
   "metadata": {},
   "outputs": [],
   "source": [
    "import torch\n",
    "import json\n",
    "from tqdm.auto import tqdm\n",
    "from transformer_lens import HookedTransformer\n",
    "from jaxtyping import Float, Int, Bool\n",
    "from torch import Tensor\n",
    "from tqdm.auto import tqdm\n",
    "import plotly.io as pio\n",
    "import pandas as pd\n",
    "import numpy as np\n",
    "import plotly.express as px \n",
    "from collections import defaultdict\n",
    "import matplotlib.pyplot as plt\n",
    "import re\n",
    "from IPython.display import display, HTML\n",
    "from datasets import load_dataset\n",
    "from collections import Counter\n",
    "import pickle\n",
    "import os\n",
    "import plotly.graph_objects as go\n",
    "from scipy.stats import norm\n",
    "from einops import einsum\n",
    "\n",
    "import sklearn\n",
    "from sklearn.model_selection import train_test_split\n",
    "from sklearn.linear_model import LogisticRegression\n",
    "\n",
    "pio.renderers.default = \"notebook_connected+notebook\"\n",
    "device = \"cuda\" if torch.cuda.is_available() else \"cpu\"\n",
    "torch.autograd.set_grad_enabled(False)\n",
    "torch.set_grad_enabled(False)\n",
    "\n",
    "import haystack_utils\n",
    "from haystack_utils import get_mlp_activations\n",
    "from hook_utils import get_ablate_neuron_hook, save_activation\n",
    "from pythia_160m_utils import get_neuron_accuracy, ablation_effect\n",
    "import plotting_utils\n",
    "from plotting_utils import plot_neuron_acts, color_binned_histogram\n",
    "import hook_utils\n",
    "\n",
    "%reload_ext autoreload\n",
    "%autoreload 2"
   ]
  },
  {
   "cell_type": "code",
   "execution_count": 7,
   "metadata": {},
   "outputs": [],
   "source": [
    "with open('data/tiny_stories_chatgpt.json', 'r') as f:\n",
    "    prompts = json.load(f)\n",
    "\n",
    "filtered_prompts = [prompt for prompt in prompts if not prompt.startswith(\"Once\")]"
   ]
  },
  {
   "cell_type": "code",
   "execution_count": 2,
   "metadata": {},
   "outputs": [
    {
     "name": "stderr",
     "output_type": "stream",
     "text": [
      "Using pad_token, but it is not set yet.\n"
     ]
    },
    {
     "name": "stdout",
     "output_type": "stream",
     "text": [
      "Loaded pretrained model roneneldan/TinyStories-1M into HookedTransformer\n"
     ]
    }
   ],
   "source": [
    "model = HookedTransformer.from_pretrained(\"roneneldan/TinyStories-1M\",\n",
    "    center_unembed=True,\n",
    "    center_writing_weights=True,\n",
    "    fold_ln=True,\n",
    "    device=\"cuda\")"
   ]
  },
  {
   "cell_type": "markdown",
   "metadata": {},
   "source": [
    "### Unigrams"
   ]
  },
  {
   "cell_type": "code",
   "execution_count": 39,
   "metadata": {},
   "outputs": [
    {
     "name": "stdout",
     "output_type": "stream",
     "text": [
      "['Once', 'One', 'Yesterday', 'At', 'There', 'Today', 'On', 'Em', 'When', 'In']\n",
      "[' upon', 'bie', 'ancer', 'itting', 'll', 'aj', 'packs', 'upon', 'uttering', ' haven']\n",
      "[' a', ' an', ' the', ' some', ' two', ' something', ' another', ' one', ' very', ' many']\n",
      "[' time', ' day', ' week', ' evening', ' morning', ' afternoon', ' night', ' Sunday', ' way', ' year']\n"
     ]
    }
   ],
   "source": [
    "# Similar words stored near in the embed\n",
    "tokens = model.to_tokens(\"Once upon a time\", prepend_bos=False)\n",
    "logits = model.W_E[tokens].squeeze(0) @ model.W_U\n",
    "\n",
    "for i in range(4):\n",
    "    values, indices = torch.topk(logits[i], 10)\n",
    "    print(model.to_str_tokens(indices))"
   ]
  },
  {
   "cell_type": "code",
   "execution_count": 17,
   "metadata": {},
   "outputs": [
    {
     "name": "stdout",
     "output_type": "stream",
     "text": [
      "tensor(0.1094, device='cuda:0') tensor(0.2133, device='cuda:0')\n",
      "['cow', 'ns', 'ridge', 'wo', ' seventeen', 'eight', 'umbers', 'please', 'ucks', 'icians', 'oxy', 'bread', 'Seven', 'uns', 'bang', 'uggets', 'oster', 'wy', 'Ta', 'arella', 'irteen', ' reins', 'vals', ' fries', 'heddar', 'nine', 'aff', 'zee', 'rots', 'six', 'ban', 'bet', 'Six', 'Four', 'umbs', 'arians', 'Twenty', 'gary', 'cards', 'urger', 'workers', 'Sal', 'apple', 'rito', 'ulent', 'haw', 'cream', 'ction', 'leaf', 'load', 'agna', 'shirts', 'ksh', 'icy', 'keys', 'Apple', 'ants', 'trained', 'orted', 'ender', 'gob', 'chini', 'ocol', ' ounces', 'talk', 'rob', 'Dragon', 'chip', 'amer', 'plets', 'fed', 'iri', 'pill', 'mons', 'int', ' cents', 'reath', 'cker', 'pper', 'war', 'rol', 'Ah', 'osaurus', 'Ten', 'dollar', 'girls', 'seven', 'mur', 'affles', 'Offic', 'ws', 'ounced', 'ucker', 'iw', 'eating', 'ates', 'Ar', 'Chuck', 'Eight', 'mus']\n"
     ]
    }
   ],
   "source": [
    "# Associations\n",
    "tokens = model.to_tokens(\"cow\", prepend_bos=False)\n",
    "logits = (model.W_E[tokens].squeeze(0) @ model.W_U).squeeze(0)\n",
    "mean_logit = logits.median() # mean is lower\n",
    "\n",
    "associated_tokens = []\n",
    "for string in \"grass brown field moo meat milk udders animal\".split(' '):\n",
    "    token = model.to_tokens(string, prepend_bos=False)\n",
    "    associated_tokens.append(token[0, 0])\n",
    "associated_tokens = torch.stack(associated_tokens)\n",
    "mean_associated_logit = logits[associated_tokens].median() # mean is similar\n",
    "\n",
    "print(mean_logit, mean_associated_logit)\n",
    "\n",
    "values, indices = torch.topk(logits, 100)\n",
    "print(model.to_str_tokens(indices))"
   ]
  },
  {
   "cell_type": "code",
   "execution_count": 24,
   "metadata": {},
   "outputs": [
    {
     "name": "stdout",
     "output_type": "stream",
     "text": [
      "tensor(-0.0134, device='cuda:0')\n",
      "tensor([ 0.8695, -0.3610,  1.9775], device='cuda:0')\n",
      "[' a', ' an', ' the', ' some', ' two', ' something', ' another', ' one', ' very', ' many', ' big', ' her', ' so', ' his', ' all', ' in', ' lots', ' to', ' more', ' three', ' four', ' it', ' their', ' on', ' out', ' there', ' small', ' too', ' that', ' and', ' not', '.', ' no', ' good', ' with', ' right', ' really', ' both', ' nice', ' different', ' only', ' five', ',', '\\n', ' like', ' hard', ' A', ' bright', ' just', ' when', ' much', ' little', ' long', ' cool', ' brave', ' someone', ' fast', ' strong', ' Lily', ' funny', ' this', ' look', ' warm', ' made', ' fun', ' wide', ' new', ' as', ' silly', ' red', ' hot', ' each', ' close', ' open', ' pretty', ' Mom', ' what', ' Tom', ' other', ' its', ' even', ' far', ' tall', ' The', ' shiny', ' dark', ' loud', ' white', ' deep', ' soft', ' fair', ' black', ' j', ' outside', ' kind', ' your', 'A', ' for', ' help', ' happy']\n"
     ]
    }
   ],
   "source": [
    "\n",
    "tokens = model.to_tokens(\"Once upon a time\", prepend_bos=False).squeeze(0)\n",
    "logits = (model.W_E[tokens] @ model.W_U)\n",
    "median_logit = logits.median()\n",
    "print(median_logit)\n",
    "\n",
    "next_logits = []\n",
    "for i in range(tokens.shape[0] - 1):\n",
    "    next_logits.append(logits[i, tokens[i + 1]])\n",
    "next_logits = torch.stack(next_logits)\n",
    "print(next_logits)\n",
    "\n",
    "# 'a' token seems to boost some sensible completions\n",
    "values, indices = torch.topk(logits[-2], 100)\n",
    "print(model.to_str_tokens(indices))"
   ]
  },
  {
   "cell_type": "code",
   "execution_count": 4,
   "metadata": {},
   "outputs": [
    {
     "data": {
      "application/vnd.jupyter.widget-view+json": {
       "model_id": "d7d18ae589e549ba94ccfe738cb0de51",
       "version_major": 2,
       "version_minor": 0
      },
      "text/plain": [
       "  0%|          | 0/20 [00:00<?, ?it/s]"
      ]
     },
     "metadata": {},
     "output_type": "display_data"
    },
    {
     "name": "stdout",
     "output_type": "stream",
     "text": [
      "Once upon a time, there was a little girl named Lily. She loved to play outside in the park\n"
     ]
    },
    {
     "data": {
      "application/vnd.jupyter.widget-view+json": {
       "model_id": "429269a99d0243f3a97762fedcac7665",
       "version_major": 2,
       "version_minor": 0
      },
      "text/plain": [
       "  0%|          | 0/20 [00:00<?, ?it/s]"
      ]
     },
     "metadata": {},
     "output_type": "display_data"
    },
    {
     "name": "stdout",
     "output_type": "stream",
     "text": [
      "Attn 0 Once upon a time, there was a little girl named Lily. She loved to play with her toys and\n"
     ]
    },
    {
     "data": {
      "application/vnd.jupyter.widget-view+json": {
       "model_id": "89abe66fedf048a89e11a33545794d2b",
       "version_major": 2,
       "version_minor": 0
      },
      "text/plain": [
       "  0%|          | 0/20 [00:00<?, ?it/s]"
      ]
     },
     "metadata": {},
     "output_type": "display_data"
    },
    {
     "name": "stdout",
     "output_type": "stream",
     "text": [
      "MLP 0 Once time time time time time time time time time time time time time time time time time time time time\n"
     ]
    },
    {
     "data": {
      "application/vnd.jupyter.widget-view+json": {
       "model_id": "1bb3f181c64a4935afb950136fcc37da",
       "version_major": 2,
       "version_minor": 0
      },
      "text/plain": [
       "  0%|          | 0/20 [00:00<?, ?it/s]"
      ]
     },
     "metadata": {},
     "output_type": "display_data"
    },
    {
     "name": "stdout",
     "output_type": "stream",
     "text": [
      "Attn 1 Once upon a time, there was a little girl named Lily and she went on a big day playing outside\n"
     ]
    },
    {
     "data": {
      "application/vnd.jupyter.widget-view+json": {
       "model_id": "2bf34bd5299747c49c47ead476cfe53e",
       "version_major": 2,
       "version_minor": 0
      },
      "text/plain": [
       "  0%|          | 0/20 [00:00<?, ?it/s]"
      ]
     },
     "metadata": {},
     "output_type": "display_data"
    },
    {
     "name": "stdout",
     "output_type": "stream",
     "text": [
      "MLP 1 Once,,,,,,,,,,,,,,,,,,,,\n"
     ]
    },
    {
     "data": {
      "application/vnd.jupyter.widget-view+json": {
       "model_id": "0683bb0e9f3e4cd2b8522b1346d665f1",
       "version_major": 2,
       "version_minor": 0
      },
      "text/plain": [
       "  0%|          | 0/20 [00:00<?, ?it/s]"
      ]
     },
     "metadata": {},
     "output_type": "display_data"
    },
    {
     "name": "stdout",
     "output_type": "stream",
     "text": [
      "Attn 2 Once upon a time, there was a big little little little little little little little little little little little little\n"
     ]
    },
    {
     "data": {
      "application/vnd.jupyter.widget-view+json": {
       "model_id": "6be3ebbcb5e74a22b079099cdbd210e3",
       "version_major": 2,
       "version_minor": 0
      },
      "text/plain": [
       "  0%|          | 0/20 [00:00<?, ?it/s]"
      ]
     },
     "metadata": {},
     "output_type": "display_data"
    },
    {
     "name": "stdout",
     "output_type": "stream",
     "text": [
      "MLP 2 Once, to a pretty pretty pretty pretty pretty pretty pretty pretty pretty. to look to the blue blue blue\n"
     ]
    },
    {
     "data": {
      "application/vnd.jupyter.widget-view+json": {
       "model_id": "9669d3c8904d404e8fd63d95c0562861",
       "version_major": 2,
       "version_minor": 0
      },
      "text/plain": [
       "  0%|          | 0/20 [00:00<?, ?it/s]"
      ]
     },
     "metadata": {},
     "output_type": "display_data"
    },
    {
     "name": "stdout",
     "output_type": "stream",
     "text": [
      "Attn 3 Once upon a time, in a big, big, big, big, big, big, big,\n"
     ]
    },
    {
     "data": {
      "application/vnd.jupyter.widget-view+json": {
       "model_id": "4593140b7bcc490ba794d4b9bc12b2d9",
       "version_major": 2,
       "version_minor": 0
      },
      "text/plain": [
       "  0%|          | 0/20 [00:00<?, ?it/s]"
      ]
     },
     "metadata": {},
     "output_type": "display_data"
    },
    {
     "name": "stdout",
     "output_type": "stream",
     "text": [
      "MLP 3 Once,, little little little little little little little little little little little little little little little little little little\n"
     ]
    },
    {
     "data": {
      "application/vnd.jupyter.widget-view+json": {
       "model_id": "ced4136fd3d64940b2c95690e811cc88",
       "version_major": 2,
       "version_minor": 0
      },
      "text/plain": [
       "  0%|          | 0/20 [00:00<?, ?it/s]"
      ]
     },
     "metadata": {},
     "output_type": "display_data"
    },
    {
     "name": "stdout",
     "output_type": "stream",
     "text": [
      "Attn 4 Once upon a time, there was a little girl named Lilymymymymymymymymymy\n"
     ]
    },
    {
     "data": {
      "application/vnd.jupyter.widget-view+json": {
       "model_id": "0e74fa20805d4d08997b58b5f76d979e",
       "version_major": 2,
       "version_minor": 0
      },
      "text/plain": [
       "  0%|          | 0/20 [00:00<?, ?it/s]"
      ]
     },
     "metadata": {},
     "output_type": "display_data"
    },
    {
     "name": "stdout",
     "output_type": "stream",
     "text": [
      "MLP 4 Once were her mommy asked to pack inside,\"Mommy\" oh oh oh oh oh oh oh\n"
     ]
    },
    {
     "data": {
      "application/vnd.jupyter.widget-view+json": {
       "model_id": "549a42c07e1b4f89b0bec1292c657c25",
       "version_major": 2,
       "version_minor": 0
      },
      "text/plain": [
       "  0%|          | 0/20 [00:00<?, ?it/s]"
      ]
     },
     "metadata": {},
     "output_type": "display_data"
    },
    {
     "name": "stdout",
     "output_type": "stream",
     "text": [
      "Attn 5 Once upon a time, a little girl named Lily. She loved to play outside in the forest. One\n"
     ]
    },
    {
     "data": {
      "application/vnd.jupyter.widget-view+json": {
       "model_id": "daa2a6b3616948d79e5d77b4e6b16826",
       "version_major": 2,
       "version_minor": 0
      },
      "text/plain": [
       "  0%|          | 0/20 [00:00<?, ?it/s]"
      ]
     },
     "metadata": {},
     "output_type": "display_data"
    },
    {
     "name": "stdout",
     "output_type": "stream",
     "text": [
      "MLP 5 Once mom,,,,, but then,,, but then,,,, but then,\n"
     ]
    },
    {
     "data": {
      "application/vnd.jupyter.widget-view+json": {
       "model_id": "bca0765de66149c5957ce7b2531835cf",
       "version_major": 2,
       "version_minor": 0
      },
      "text/plain": [
       "  0%|          | 0/20 [00:00<?, ?it/s]"
      ]
     },
     "metadata": {},
     "output_type": "display_data"
    },
    {
     "name": "stdout",
     "output_type": "stream",
     "text": [
      "Attn 6 Once upon a time, there was a little girl named Lily. She was very sad and her favorite toy\n"
     ]
    },
    {
     "data": {
      "application/vnd.jupyter.widget-view+json": {
       "model_id": "8259fe7ac328431eae3de23d77724445",
       "version_major": 2,
       "version_minor": 0
      },
      "text/plain": [
       "  0%|          | 0/20 [00:00<?, ?it/s]"
      ]
     },
     "metadata": {},
     "output_type": "display_data"
    },
    {
     "name": "stdout",
     "output_type": "stream",
     "text": [
      "MLP 6 Once upon a time, upon a a a a a a a a a and princess. She and princess\n"
     ]
    },
    {
     "data": {
      "application/vnd.jupyter.widget-view+json": {
       "model_id": "42f512e6d2364608af4363047e68e96c",
       "version_major": 2,
       "version_minor": 0
      },
      "text/plain": [
       "  0%|          | 0/20 [00:00<?, ?it/s]"
      ]
     },
     "metadata": {},
     "output_type": "display_data"
    },
    {
     "name": "stdout",
     "output_type": "stream",
     "text": [
      "Attn 7 Once upon a time, there was a little girl named Timmy. Timmy was very sad because he\n"
     ]
    },
    {
     "data": {
      "application/vnd.jupyter.widget-view+json": {
       "model_id": "e86a49d31ccf48849952b5929d1b9d7d",
       "version_major": 2,
       "version_minor": 0
      },
      "text/plain": [
       "  0%|          | 0/20 [00:00<?, ?it/s]"
      ]
     },
     "metadata": {},
     "output_type": "display_data"
    },
    {
     "name": "stdout",
     "output_type": "stream",
     "text": [
      "MLP 7 Once?\n",
      "\n",
      "\n",
      "\n",
      "\n",
      "\n",
      "\n",
      "\n",
      "\n",
      "\n",
      "\n",
      "\n",
      "\n",
      "\n",
      "\n",
      "\n",
      "\n",
      "\n",
      "\n",
      "\n"
     ]
    }
   ],
   "source": [
    "# Generate heaps of token sequences and average their cache, then find the difference with the OUAT neurons\n",
    "# Ablate components until OUAT fails\n",
    "# n-l AND?\n",
    "\n",
    "_, cache = model.run_with_cache(model.to_tokens(prompts)[:, :40])\n",
    "\n",
    "def rand_hook(value, hook):\n",
    "    cache_val = cache[hook.name][:value.size(0), :value.size(1), :value.size(2)]\n",
    "    mean_val = cache_val.mean(dim=0)\n",
    "    broadcasted_val = mean_val.unsqueeze(0).expand_as(value)\n",
    "    value = broadcasted_val\n",
    "    return value\n",
    "\n",
    "prompt = \"Once\"\n",
    "print(model.generate(prompt, 20, temperature=0))\n",
    "for layer in range(model.cfg.n_layers):\n",
    "    with model.hooks([(f'blocks.{layer}.hook_attn_out', rand_hook)]):\n",
    "        print(f\"Attn {layer}\", model.generate(prompt, 20, temperature=0))\n",
    "    with model.hooks([(f'blocks.{layer}.hook_mlp_out', rand_hook)]):\n",
    "        print(f\"MLP {layer}\", model.generate(prompt, 20, temperature=0))\n",
    "\n",
    "# Necessary components:\n",
    "# MLP0, MLP1, MLP2, MLP3, MLP4, MLP5, MLP7 (every MLP but 6)"
   ]
  },
  {
   "cell_type": "markdown",
   "metadata": {},
   "source": [
    "### Ablate by cosine sim - degrades around 80"
   ]
  },
  {
   "cell_type": "code",
   "execution_count": 30,
   "metadata": {},
   "outputs": [],
   "source": [
    "# Figure out which neurons directly write to each vocab\n",
    "# And see if we can ablate everything else\n",
    "\n",
    "tokens = model.to_tokens(\"Once upon a time\", prepend_bos=False)  # [1, 4]\n",
    "token_dirs = model.tokens_to_residual_directions(tokens)[0]  # [4, 64]\n",
    "token_dirs_reshaped = token_dirs.unsqueeze(1).unsqueeze(1)  # [4, 1, 1, 64]\n",
    "W_out_reshaped = model.W_out.unsqueeze(0)  # [1, 8, 256, 64]\n",
    "\n",
    "cosine_sim = torch.nn.CosineSimilarity(dim=-1, eps=1e-6)\n",
    "result = cosine_sim(token_dirs_reshaped, W_out_reshaped)  # [4, 8, 256]\n",
    "\n",
    "_, cache = model.run_with_cache(tokens)\n",
    "acts = [cache[f'blocks.{layer}.mlp.hook_post'][0] for layer in range(model.cfg.n_layers)] # [[batch pos]]*n_layers\n",
    "acts = torch.stack(acts, dim=1) # \n",
    "\n",
    "\n",
    "layer_neuron_tuples = []\n",
    "for token_index in range(result.size(0)):\n",
    "    values, indices = torch.topk(result[token_index].view(-1), 20, dim=-1)\n",
    "    layer_indices, neuron_indices = np.unravel_index(indices.cpu().numpy(), (8, 256))\n",
    "    layer_neuron_tuples.extend(zip(layer_indices.tolist(), neuron_indices.tolist()))\n"
   ]
  },
  {
   "cell_type": "code",
   "execution_count": 31,
   "metadata": {},
   "outputs": [
    {
     "data": {
      "application/vnd.jupyter.widget-view+json": {
       "model_id": "e6df5f72e6c14347b2c3e120afac58fb",
       "version_major": 2,
       "version_minor": 0
      },
      "text/plain": [
       "  0%|          | 0/10 [00:00<?, ?it/s]"
      ]
     },
     "metadata": {},
     "output_type": "display_data"
    },
    {
     "name": "stdout",
     "output_type": "stream",
     "text": [
      "Once in a time, a little girl named Amy was\n"
     ]
    }
   ],
   "source": [
    "layer_neuron_dict = haystack_utils.get_neurons_by_layer(layer_neuron_tuples)\n",
    "\n",
    "sorted_dla_layer_neuron_tuples = []\n",
    "sorted_acts = []\n",
    "\n",
    "for layer in layer_neuron_dict.keys():\n",
    "    neurons = layer_neuron_dict[layer]\n",
    "    mean_acts = haystack_utils.get_mlp_activations(filtered_prompts, layer, model, context_crop_start=2, hook_pre=False, neurons=neurons, disable_tqdm=True)\n",
    "    sorted_dla_layer_neuron_tuples.extend([(layer, neuron) for neuron in neurons])\n",
    "    sorted_acts.extend(mean_acts)\n",
    "    assert len(sorted_dla_layer_neuron_tuples) == len(sorted_acts)\n",
    "\n",
    "hooks = hook_utils.get_ablate_context_neurons_hooks(sorted_dla_layer_neuron_tuples, sorted_acts)\n",
    "with model.hooks(hooks):\n",
    "    print(model.generate(\"Once\", 10, temperature=0))"
   ]
  },
  {
   "cell_type": "markdown",
   "metadata": {},
   "source": [
    "### Ablate by DLA"
   ]
  },
  {
   "cell_type": "code",
   "execution_count": 3,
   "metadata": {},
   "outputs": [
    {
     "name": "stdout",
     "output_type": "stream",
     "text": [
      "Tried to stack head results when they weren't cached. Computing head results now\n"
     ]
    }
   ],
   "source": [
    "def batched_dot_product(x, y):\n",
    "    return torch.vmap(torch.dot)(x, y)\n",
    "    \n",
    "\n",
    "def neuron_DLA(prompt: str, model: HookedTransformer, pos=np.s_[-1:]) -> tuple[Float[Tensor, \"component\"], list[str]]:\n",
    "    '''Gets full resid decomposition including all neurons'''\n",
    "    tokens = model.to_tokens(prompt)\n",
    "    tokens = tokens[:, :-1]\n",
    "    answers = tokens[:, 1:]\n",
    "    _, cache = model.run_with_cache(tokens)\n",
    "    attrs, labels = cache.get_full_resid_decomposition(-1, expand_neurons=True, apply_ln=True, return_labels=True, pos_slice=pos)\n",
    "    answer_residual_directions = model.tokens_to_residual_directions(answers)\n",
    "    if answer_residual_directions.ndim == 1:\n",
    "        answer_residual_directions = answer_residual_directions.unsqueeze(0)  # [1 d_model]\n",
    "    elif answer_residual_directions.ndim == 3:\n",
    "        answer_residual_directions = answer_residual_directions[0]  # [pos d_model]\n",
    "    answer_residual_directions = answer_residual_directions[pos]  # [pos d_model]\n",
    "\n",
    "    neuron_indices = [i for i in range(len(labels)) if 'N' in labels[i]]\n",
    "    neuron_labels = [labels[i] for i in neuron_indices]\n",
    "    neuron_attrs = attrs[neuron_indices, :].squeeze(1)\n",
    "    results = []\n",
    "    for i in range(neuron_attrs.shape[1]):\n",
    "        results.append(batched_dot_product(neuron_attrs[:, i], answer_residual_directions[[i]].repeat(neuron_attrs.shape[0], 1)))\n",
    "    return torch.stack(results), neuron_labels\n",
    "\n",
    "\n",
    "def get_unspecified_neurons(model: HookedTransformer, neurons: list[tuple[int, int]]):\n",
    "    layer_dict = haystack_utils.get_neurons_by_layer(neurons)\n",
    "    unspecified = []\n",
    "    for layer in range(model.cfg.n_layers):\n",
    "        for neuron in range(model.cfg.d_mlp):\n",
    "            if not neuron in layer_dict[layer]:\n",
    "                unspecified.append((layer, neuron))\n",
    "    return unspecified"
   ]
  },
  {
   "cell_type": "code",
   "execution_count": null,
   "metadata": {},
   "outputs": [],
   "source": [
    "# x, y = haystack_utils.DLA([\"Once upon\"], model)\n",
    "# haystack_utils.line(x.cpu().squeeze(0))"
   ]
  },
  {
   "cell_type": "code",
   "execution_count": 64,
   "metadata": {},
   "outputs": [
    {
     "name": "stdout",
     "output_type": "stream",
     "text": [
      "Tried to stack head results when they weren't cached. Computing head results now\n"
     ]
    },
    {
     "data": {
      "text/html": [
       "<div>                            <div id=\"aee730c6-231d-4a11-9962-fce4f43db8bc\" class=\"plotly-graph-div\" style=\"height:525px; width:800px;\"></div>            <script type=\"text/javascript\">                require([\"plotly\"], function(Plotly) {                    window.PLOTLYENV=window.PLOTLYENV || {};                                    if (document.getElementById(\"aee730c6-231d-4a11-9962-fce4f43db8bc\")) {                    Plotly.newPlot(                        \"aee730c6-231d-4a11-9962-fce4f43db8bc\",                        [{\"hovertemplate\":\"variable=0\\u003cbr\\u003eindex=%{x}\\u003cbr\\u003evalue=%{y}\\u003cextra\\u003e\\u003c\\u002fextra\\u003e\",\"legendgroup\":\"0\",\"line\":{\"color\":\"#636efa\",\"dash\":\"solid\"},\"marker\":{\"symbol\":\"circle\"},\"mode\":\"lines\",\"name\":\"0\",\"showlegend\":true,\"x\":[0,1,2,3,4,5,6,7,8,9,10,11,12,13,14,15,16,17,18,19,20,21,22,23,24,25,26,27,28,29,30,31,32,33,34,35,36,37,38,39,40,41,42,43,44,45,46,47,48,49,50,51,52,53,54,55,56,57,58,59,60,61,62,63,64,65,66,67,68,69,70,71,72,73,74,75,76,77,78,79,80,81,82,83,84,85,86,87,88,89,90,91,92,93,94,95,96,97,98,99,100,101,102,103,104,105,106,107,108,109,110,111,112,113,114,115,116,117,118,119,120,121,122,123,124,125,126,127,128,129,130,131,132,133,134,135,136,137,138,139,140,141,142,143,144,145,146,147,148,149,150,151,152,153,154,155,156,157,158,159,160,161,162,163,164,165,166,167,168,169,170,171,172,173,174,175,176,177,178,179,180,181,182,183,184,185,186,187,188,189,190,191,192,193,194,195,196,197,198,199,200,201,202,203,204,205,206,207,208,209,210,211,212,213,214,215,216,217,218,219,220,221,222,223,224,225,226,227,228,229,230,231,232,233,234,235,236,237,238,239,240,241,242,243,244,245,246,247,248,249,250,251,252,253,254,255,256,257,258,259,260,261,262,263,264,265,266,267,268,269,270,271,272,273,274,275,276,277,278,279,280,281,282,283,284,285,286,287,288,289,290,291,292,293,294,295,296,297,298,299,300,301,302,303,304,305,306,307,308,309,310,311,312,313,314,315,316,317,318,319,320,321,322,323,324,325,326,327,328,329,330,331,332,333,334,335,336,337,338,339,340,341,342,343,344,345,346,347,348,349,350,351,352,353,354,355,356,357,358,359,360,361,362,363,364,365,366,367,368,369,370,371,372,373,374,375,376,377,378,379,380,381,382,383,384,385,386,387,388,389,390,391,392,393,394,395,396,397,398,399,400,401,402,403,404,405,406,407,408,409,410,411,412,413,414,415,416,417,418,419,420,421,422,423,424,425,426,427,428,429,430,431,432,433,434,435,436,437,438,439,440,441,442,443,444,445,446,447,448,449,450,451,452,453,454,455,456,457,458,459,460,461,462,463,464,465,466,467,468,469,470,471,472,473,474,475,476,477,478,479,480,481,482,483,484,485,486,487,488,489,490,491,492,493,494,495,496,497,498,499,500,501,502,503,504,505,506,507,508,509,510,511,512,513,514,515,516,517,518,519,520,521,522,523,524,525,526,527,528,529,530,531,532,533,534,535,536,537,538,539,540,541,542,543,544,545,546,547,548,549,550,551,552,553,554,555,556,557,558,559,560,561,562,563,564,565,566,567,568,569,570,571,572,573,574,575,576,577,578,579,580,581,582,583,584,585,586,587,588,589,590,591,592,593,594,595,596,597,598,599,600,601,602,603,604,605,606,607,608,609,610,611,612,613,614,615,616,617,618,619,620,621,622,623,624,625,626,627,628,629,630,631,632,633,634,635,636,637,638,639,640,641,642,643,644,645,646,647,648,649,650,651,652,653,654,655,656,657,658,659,660,661,662,663,664,665,666,667,668,669,670,671,672,673,674,675,676,677,678,679,680,681,682,683,684,685,686,687,688,689,690,691,692,693,694,695,696,697,698,699,700,701,702,703,704,705,706,707,708,709,710,711,712,713,714,715,716,717,718,719,720,721,722,723,724,725,726,727,728,729,730,731,732,733,734,735,736,737,738,739,740,741,742,743,744,745,746,747,748,749,750,751,752,753,754,755,756,757,758,759,760,761,762,763,764,765,766,767,768,769,770,771,772,773,774,775,776,777,778,779,780,781,782,783,784,785,786,787,788,789,790,791,792,793,794,795,796,797,798,799,800,801,802,803,804,805,806,807,808,809,810,811,812,813,814,815,816,817,818,819,820,821,822,823,824,825,826,827,828,829,830,831,832,833,834,835,836,837,838,839,840,841,842,843,844,845,846,847,848,849,850,851,852,853,854,855,856,857,858,859,860,861,862,863,864,865,866,867,868,869,870,871,872,873,874,875,876,877,878,879,880,881,882,883,884,885,886,887,888,889,890,891,892,893,894,895,896,897,898,899,900,901,902,903,904,905,906,907,908,909,910,911,912,913,914,915,916,917,918,919,920,921,922,923,924,925,926,927,928,929,930,931,932,933,934,935,936,937,938,939,940,941,942,943,944,945,946,947,948,949,950,951,952,953,954,955,956,957,958,959,960,961,962,963,964,965,966,967,968,969,970,971,972,973,974,975,976,977,978,979,980,981,982,983,984,985,986,987,988,989,990,991,992,993,994,995,996,997,998,999,1000,1001,1002,1003,1004,1005,1006,1007,1008,1009,1010,1011,1012,1013,1014,1015,1016,1017,1018,1019,1020,1021,1022,1023,1024,1025,1026,1027,1028,1029,1030,1031,1032,1033,1034,1035,1036,1037,1038,1039,1040,1041,1042,1043,1044,1045,1046,1047,1048,1049,1050,1051,1052,1053,1054,1055,1056,1057,1058,1059,1060,1061,1062,1063,1064,1065,1066,1067,1068,1069,1070,1071,1072,1073,1074,1075,1076,1077,1078,1079,1080,1081,1082,1083,1084,1085,1086,1087,1088,1089,1090,1091,1092,1093,1094,1095,1096,1097,1098,1099,1100,1101,1102,1103,1104,1105,1106,1107,1108,1109,1110,1111,1112,1113,1114,1115,1116,1117,1118,1119,1120,1121,1122,1123,1124,1125,1126,1127,1128,1129,1130,1131,1132,1133,1134,1135,1136,1137,1138,1139,1140,1141,1142,1143,1144,1145,1146,1147,1148,1149,1150,1151,1152,1153,1154,1155,1156,1157,1158,1159,1160,1161,1162,1163,1164,1165,1166,1167,1168,1169,1170,1171,1172,1173,1174,1175,1176,1177,1178,1179,1180,1181,1182,1183,1184,1185,1186,1187,1188,1189,1190,1191,1192,1193,1194,1195,1196,1197,1198,1199,1200,1201,1202,1203,1204,1205,1206,1207,1208,1209,1210,1211,1212,1213,1214,1215,1216,1217,1218,1219,1220,1221,1222,1223,1224,1225,1226,1227,1228,1229,1230,1231,1232,1233,1234,1235,1236,1237,1238,1239,1240,1241,1242,1243,1244,1245,1246,1247,1248,1249,1250,1251,1252,1253,1254,1255,1256,1257,1258,1259,1260,1261,1262,1263,1264,1265,1266,1267,1268,1269,1270,1271,1272,1273,1274,1275,1276,1277,1278,1279,1280,1281,1282,1283,1284,1285,1286,1287,1288,1289,1290,1291,1292,1293,1294,1295,1296,1297,1298,1299,1300,1301,1302,1303,1304,1305,1306,1307,1308,1309,1310,1311,1312,1313,1314,1315,1316,1317,1318,1319,1320,1321,1322,1323,1324,1325,1326,1327,1328,1329,1330,1331,1332,1333,1334,1335,1336,1337,1338,1339,1340,1341,1342,1343,1344,1345,1346,1347,1348,1349,1350,1351,1352,1353,1354,1355,1356,1357,1358,1359,1360,1361,1362,1363,1364,1365,1366,1367,1368,1369,1370,1371,1372,1373,1374,1375,1376,1377,1378,1379,1380,1381,1382,1383,1384,1385,1386,1387,1388,1389,1390,1391,1392,1393,1394,1395,1396,1397,1398,1399,1400,1401,1402,1403,1404,1405,1406,1407,1408,1409,1410,1411,1412,1413,1414,1415,1416,1417,1418,1419,1420,1421,1422,1423,1424,1425,1426,1427,1428,1429,1430,1431,1432,1433,1434,1435,1436,1437,1438,1439,1440,1441,1442,1443,1444,1445,1446,1447,1448,1449,1450,1451,1452,1453,1454,1455,1456,1457,1458,1459,1460,1461,1462,1463,1464,1465,1466,1467,1468,1469,1470,1471,1472,1473,1474,1475,1476,1477,1478,1479,1480,1481,1482,1483,1484,1485,1486,1487,1488,1489,1490,1491,1492,1493,1494,1495,1496,1497,1498,1499,1500,1501,1502,1503,1504,1505,1506,1507,1508,1509,1510,1511,1512,1513,1514,1515,1516,1517,1518,1519,1520,1521,1522,1523,1524,1525,1526,1527,1528,1529,1530,1531,1532,1533,1534,1535,1536,1537,1538,1539,1540,1541,1542,1543,1544,1545,1546,1547,1548,1549,1550,1551,1552,1553,1554,1555,1556,1557,1558,1559,1560,1561,1562,1563,1564,1565,1566,1567,1568,1569,1570,1571,1572,1573,1574,1575,1576,1577,1578,1579,1580,1581,1582,1583,1584,1585,1586,1587,1588,1589,1590,1591,1592,1593,1594,1595,1596,1597,1598,1599,1600,1601,1602,1603,1604,1605,1606,1607,1608,1609,1610,1611,1612,1613,1614,1615,1616,1617,1618,1619,1620,1621,1622,1623,1624,1625,1626,1627,1628,1629,1630,1631,1632,1633,1634,1635,1636,1637,1638,1639,1640,1641,1642,1643,1644,1645,1646,1647,1648,1649,1650,1651,1652,1653,1654,1655,1656,1657,1658,1659,1660,1661,1662,1663,1664,1665,1666,1667,1668,1669,1670,1671,1672,1673,1674,1675,1676,1677,1678,1679,1680,1681,1682,1683,1684,1685,1686,1687,1688,1689,1690,1691,1692,1693,1694,1695,1696,1697,1698,1699,1700,1701,1702,1703,1704,1705,1706,1707,1708,1709,1710,1711,1712,1713,1714,1715,1716,1717,1718,1719,1720,1721,1722,1723,1724,1725,1726,1727,1728,1729,1730,1731,1732,1733,1734,1735,1736,1737,1738,1739,1740,1741,1742,1743,1744,1745,1746,1747,1748,1749,1750,1751,1752,1753,1754,1755,1756,1757,1758,1759,1760,1761,1762,1763,1764,1765,1766,1767,1768,1769,1770,1771,1772,1773,1774,1775,1776,1777,1778,1779,1780,1781,1782,1783,1784,1785,1786,1787,1788,1789,1790,1791,1792,1793,1794,1795,1796,1797,1798,1799,1800,1801,1802,1803,1804,1805,1806,1807,1808,1809,1810,1811,1812,1813,1814,1815,1816,1817,1818,1819,1820,1821,1822,1823,1824,1825,1826,1827,1828,1829,1830,1831,1832,1833,1834,1835,1836,1837,1838,1839,1840,1841,1842,1843,1844,1845,1846,1847,1848,1849,1850,1851,1852,1853,1854,1855,1856,1857,1858,1859,1860,1861,1862,1863,1864,1865,1866,1867,1868,1869,1870,1871,1872,1873,1874,1875,1876,1877,1878,1879,1880,1881,1882,1883,1884,1885,1886,1887,1888,1889,1890,1891,1892,1893,1894,1895,1896,1897,1898,1899,1900,1901,1902,1903,1904,1905,1906,1907,1908,1909,1910,1911,1912,1913,1914,1915,1916,1917,1918,1919,1920,1921,1922,1923,1924,1925,1926,1927,1928,1929,1930,1931,1932,1933,1934,1935,1936,1937,1938,1939,1940,1941,1942,1943,1944,1945,1946,1947,1948,1949,1950,1951,1952,1953,1954,1955,1956,1957,1958,1959,1960,1961,1962,1963,1964,1965,1966,1967,1968,1969,1970,1971,1972,1973,1974,1975,1976,1977,1978,1979,1980,1981,1982,1983,1984,1985,1986,1987,1988,1989,1990,1991,1992,1993,1994,1995,1996,1997,1998,1999,2000,2001,2002,2003,2004,2005,2006,2007,2008,2009,2010,2011,2012,2013,2014,2015,2016,2017,2018,2019,2020,2021,2022,2023,2024,2025,2026,2027,2028,2029,2030,2031,2032,2033,2034,2035,2036,2037,2038,2039,2040,2041,2042,2043,2044,2045,2046,2047],\"xaxis\":\"x\",\"y\":[-0.2965429425239563,-0.19175218045711517,-0.27156877517700195,-0.041133131831884384,0.01549080666154623,0.48299694061279297,-0.18621131777763367,-0.00967490579932928,0.4767785966396332,0.08089615404605865,0.23623093962669373,-0.02448144182562828,0.10905209928750992,0.2588837146759033,-0.24327123165130615,0.037000399082899094,0.15590816736221313,-0.05683310329914093,-0.12134138494729996,-0.43435728549957275,-0.08167099952697754,-0.8874452710151672,-1.4670095443725586,-0.06016026437282562,-0.1223410964012146,-0.4648733139038086,0.018169669434428215,-0.18629521131515503,-0.8085488080978394,-0.10440980643033981,-0.006546776741743088,-0.3692903518676758,-0.818789005279541,-1.7939159870147705,0.1515490710735321,-0.5278661847114563,-0.15071740746498108,-0.02429402433335781,0.030264288187026978,0.17575854063034058,0.2532234191894531,-1.1074910163879395,-0.05732548236846924,-1.0708796977996826,-0.07984006404876709,-0.468291699886322,-0.07833768427371979,0.0023021004162728786,0.3166344165802002,-0.33376768231391907,-0.29539695382118225,0.20040348172187805,-0.07090283930301666,-0.2903565466403961,-0.0033950821962207556,-0.022612523287534714,-0.2669163942337036,-0.12542396783828735,-0.015709135681390762,0.0041056969203054905,-0.016401560977101326,-0.08628544211387634,0.005713032558560371,-0.26321059465408325,-0.018464911729097366,-0.60600346326828,0.018765896558761597,-0.028565749526023865,0.21613594889640808,-0.048839375376701355,0.13093657791614532,-0.8834511637687683,-0.2245280146598816,-0.1534072458744049,0.03758165240287781,-0.3318071961402893,-0.48214420676231384,-0.09860962629318237,-1.7820074558258057,0.2017100602388382,-0.0022117209155112505,0.03812360763549805,-0.08420144021511078,-0.4238852858543396,0.013861037790775299,-0.9774437546730042,0.28117334842681885,-2.197134017944336,0.027959750965237617,-0.12665364146232605,-0.6511033773422241,0.22627532482147217,-0.020378850400447845,-0.2663230895996094,-0.09167127311229706,-0.38792315125465393,0.001975283958017826,-0.615697979927063,-1.7527823448181152,0.027461469173431396,-0.6032471060752869,-0.3461224436759949,-0.5477100610733032,-0.6044896841049194,-0.06421658396720886,0.29119300842285156,-0.09762053191661835,-0.7705510854721069,0.013991892337799072,-1.3137400150299072,-0.261586993932724,-0.008399095386266708,0.04969411343336105,-0.5885635614395142,0.029848404228687286,0.15571993589401245,-0.6225887537002563,-0.685886800289154,-0.47294116020202637,-0.04454006627202034,-0.02021978795528412,0.04250699281692505,-0.01405873242765665,0.0031379659194499254,-0.43771815299987793,-0.10723936557769775,0.04012081027030945,-0.02772965095937252,0.12505511939525604,-0.20542392134666443,-0.41991502046585083,-0.16310809552669525,-0.8067272901535034,-0.023281045258045197,-0.27699536085128784,-0.1237131804227829,-0.033967409282922745,-0.22367796301841736,-0.21040460467338562,-0.030323902145028114,0.6844619512557983,-0.005995549261569977,-0.3023205101490021,-0.1742209792137146,-0.06439511477947235,-0.49964773654937744,-0.61822110414505,0.053245291113853455,-0.287212610244751,-0.0004894719459116459,-0.31934571266174316,-0.36329859495162964,0.0797390416264534,0.6924569606781006,-0.17875637114048004,-0.2593781650066376,-0.09033020585775375,-0.3687315583229065,0.013719836249947548,-0.3517850935459137,0.014087758958339691,-1.3927373886108398,-0.017171800136566162,-0.008126571774482727,-0.002202983945608139,-0.05366837978363037,0.06935331225395203,0.15952153503894806,-0.07405615597963333,0.26239344477653503,0.5019918084144592,-0.35412782430648804,0.0006790012121200562,-0.5238716006278992,0.06684195250272751,0.714530348777771,-0.9833093881607056,-0.1591428518295288,-0.91217041015625,-0.01681169867515564,0.016365118324756622,0.031241241842508316,-0.0487016923725605,-0.3113692104816437,-0.6184664368629456,0.004544074181467295,-0.9797318577766418,0.013448699377477169,-0.050503503531217575,-2.8373970985412598,-0.10612087696790695,-0.8366477489471436,0.02908250316977501,-0.09035768359899521,-0.03214928135275841,-0.5383650660514832,-0.0004677865654230118,-0.024795828387141228,-0.14697331190109253,0.2449806034564972,0.5707004070281982,-0.12612400949001312,-0.5241751670837402,-0.7788980007171631,-0.0008251371327787638,0.02061384916305542,-0.5937666296958923,0.1744154989719391,0.007924952544271946,-0.3377162218093872,-0.015391111373901367,-0.3425047993659973,-0.0556047223508358,0.015252333134412766,-1.122286081314087,-0.07765476405620575,-0.0651663988828659,-0.4481692910194397,-0.035202883183956146,-0.01871567964553833,-0.10605847090482712,-0.02920643240213394,0.007891915738582611,0.05301356315612793,-0.57180255651474,-0.011396619491279125,0.16425132751464844,0.04621410369873047,-1.1288634538650513,-0.4660753011703491,-0.009765051305294037,0.11173461377620697,0.17795729637145996,-0.0014667101204395294,0.13547338545322418,-0.09646301716566086,-0.31583303213119507,-0.6463191509246826,0.010584324598312378,-0.6970856189727783,-0.043688610196113586,-0.8466326594352722,-0.3402491807937622,0.063264861702919,0.6094962358474731,0.025162294507026672,-0.8451058268547058,0.03454923629760742,0.6001729965209961,-0.07701955735683441,-0.06415107846260071,-0.036457255482673645,-0.6712633371353149,0.7343137860298157,0.20124632120132446,-0.010172076523303986,-4.171814918518066,0.45179283618927,-0.07273808121681213,-0.873015284538269,-0.07496839761734009,0.014317192137241364,-0.5942820906639099,0.17452621459960938,-1.1595535278320312,0.00804080069065094,0.10022473335266113,-0.5908926725387573,0.07070848345756531,-0.41401779651641846,-0.05299799516797066,-0.015712575986981392,-0.19864259660243988,-0.14117123186588287,0.0017843544483184814,0.06222609058022499,0.05626804381608963,-0.8404204845428467,0.3520278334617615,0.09794890880584717,-0.027224533259868622,-0.030037986114621162,-0.162241131067276,-0.0028259772807359695,-0.06356926262378693,-0.057913102209568024,-0.06952968239784241,-2.0500051975250244,-0.006860031746327877,-0.6293730735778809,0.22754999995231628,-0.014394089579582214,0.0787515938282013,-0.007413752377033234,-0.06825349479913712,-0.11857768893241882,0.2800018787384033,-0.048742108047008514,-0.005153236445039511,-0.000921679544262588,-0.11601895838975906,0.06729349493980408,-0.16050057113170624,-0.020847782492637634,-0.6857675313949585,-0.3971661329269409,0.028672948479652405,0.007336766459047794,0.17727483808994293,-0.1515422761440277,0.024446802213788033,-0.012385301291942596,0.1061733067035675,0.020513866096735,-0.11532221734523773,-0.40964388847351074,-1.0643641948699951,0.2632283568382263,0.10230862349271774,-0.021558694541454315,-0.0716409981250763,0.020341182127594948,-1.2327980995178223,0.0023993737995624542,0.15530279278755188,-0.26518556475639343,-0.20306901633739471,0.1773245632648468,-0.4970957636833191,-0.05293985828757286,0.026261987164616585,0.018568161875009537,-0.29379287362098694,-0.012727170251309872,0.3840672969818115,0.02081168442964554,-0.0246906578540802,-0.00468075554817915,-0.010244308039546013,-0.412558376789093,0.02848930098116398,-0.249230295419693,0.01771453022956848,-0.021045200526714325,-0.06006650626659393,0.39688754081726074,-0.0017755141016095877,0.021967172622680664,0.21159504354000092,-0.06920591741800308,-0.027799099683761597,-0.3253507614135742,-0.13208486139774323,0.16083243489265442,-0.06107005476951599,-0.1237565279006958,6.544808275066316e-05,-0.001769624650478363,0.13604295253753662,-0.6209721565246582,0.047247909009456635,-0.23726509511470795,-1.3152097463607788,0.08519214391708374,-0.12485429644584656,-0.27999067306518555,0.17492103576660156,-0.16412506997585297,-0.0010421518236398697,-0.06465019285678864,0.053244225680828094,-0.055542949587106705,0.019618332386016846,0.10752780735492706,-0.0443839356303215,-1.260174036026001,-0.15710195899009705,-0.06994019448757172,-0.14439764618873596,-0.014968864619731903,-0.4768853783607483,0.12290683388710022,0.1356043517589569,-0.47013741731643677,-0.22240974009037018,-0.38453420996665955,0.08500513434410095,0.23127585649490356,-0.043868012726306915,0.0012850952334702015,-0.41753658652305603,0.07088951766490936,-0.1822235882282257,-0.4850124418735504,-0.0675489753484726,-0.13949379324913025,-0.02416788414120674,-0.9062685966491699,-0.0923294946551323,0.053741954267024994,-0.4976753294467926,-0.1998828649520874,0.05773025006055832,0.000683989841490984,-0.018592476844787598,0.1905820071697235,-0.04244370758533478,-0.07531676441431046,0.04726047441363335,0.016656816005706787,0.0973854511976242,-0.4825851619243622,-0.03345364332199097,-0.011032690294086933,-0.07616248726844788,-0.33976784348487854,-0.0988273099064827,-0.010874038562178612,-0.23705808818340302,-0.012672031298279762,-0.4694267511367798,0.021568190306425095,-0.026533260941505432,-0.21267345547676086,-0.41398805379867554,0.11482406407594681,0.02864673361182213,0.011909120716154575,-0.3475370705127716,-0.14738793671131134,-0.35538235306739807,5.841717938892543e-05,-0.05617855489253998,0.001053067622706294,-0.3095662593841553,0.023187972605228424,-0.9816757440567017,-1.9523725509643555,-0.0016554519534111023,0.015530538745224476,0.041673243045806885,0.009813636541366577,-0.26862138509750366,-0.06247204169631004,-0.0592573806643486,-0.09861630201339722,-0.2419082522392273,-0.2523729205131531,0.1325562298297882,-0.31288382411003113,0.6876020431518555,-0.0727226734161377,0.034889306873083115,-1.7209770679473877,-0.16465047001838684,-0.12140914797782898,-0.18746662139892578,-0.005280081182718277,-0.0150289386510849,0.09532196819782257,0.1503799855709076,-1.2523690462112427,0.24670708179473877,0.1119077280163765,0.01865033432841301,0.211854487657547,0.13976436853408813,-0.43062931299209595,0.24265605211257935,-0.0016307719051837921,-0.2921138405799866,0.1115163192152977,-0.0542733259499073,0.058741502463817596,-0.1949227750301361,-0.02881237119436264,-0.06261488795280457,-0.07749105989933014,-0.0330318957567215,0.08541208505630493,-0.2035214602947235,-0.1572144627571106,-0.3147469460964203,-0.5551968812942505,0.05638149380683899,-0.25295090675354004,-0.16382409632205963,-0.059434011578559875,0.018005628138780594,0.003590135835111141,0.03448094055056572,0.005785755813121796,-0.29560983180999756,0.02171570062637329,-0.6961320638656616,0.2762692868709564,-1.287351131439209,0.022360924631357193,-0.09182125329971313,0.01631990075111389,0.005347840022295713,-0.14556372165679932,-0.01543763279914856,0.4371778666973114,-0.0027671759016811848,-0.471915602684021,0.06710278242826462,-0.02947981283068657,-0.14018137753009796,0.05895320326089859,0.062242936342954636,0.2857641577720642,-0.10051190853118896,0.08105877041816711,0.03779863566160202,0.0007765931077301502,0.07594121992588043,0.5029298067092896,0.04200674593448639,-0.1921267956495285,-0.04206947982311249,0.6481919884681702,-0.3082257807254791,0.10330943763256073,-0.18848247826099396,-0.1448197066783905,-0.1750456541776657,0.0344243124127388,-0.0564032644033432,-0.022558536380529404,-0.01410964410752058,-0.022768698632717133,0.1830190271139145,-0.1649317890405655,-0.09893123805522919,0.260877788066864,0.06488364934921265,0.02962443232536316,0.1903623789548874,-0.03584887459874153,-0.11511203646659851,0.0557926744222641,0.1426657736301422,-0.7498213052749634,-0.03541361913084984,0.054228443652391434,0.04091877117753029,-0.5411783456802368,-0.11253976076841354,0.025175519287586212,-0.05811236426234245,-0.10184930264949799,-0.08129701763391495,-0.07353685796260834,-0.018181215971708298,-0.0030281785875558853,0.13866131007671356,-0.24985834956169128,-0.44237861037254333,-0.2285369485616684,0.11326789855957031,-0.032736875116825104,-0.19381719827651978,-0.02743002586066723,0.7649663686752319,-0.05794484168291092,-0.06887973845005035,0.3599393963813782,-0.5228133201599121,0.04121018946170807,0.08151210844516754,0.3337845206260681,0.05173756927251816,-0.1705029457807541,0.04811658337712288,0.4524378478527069,-0.08158627152442932,0.05960030108690262,-0.055611442774534225,-0.0025060800835490227,-0.0059244330041110516,-0.09557826817035675,-0.1385640799999237,-0.05989735201001167,-0.45893681049346924,0.13617222011089325,0.01005595177412033,0.07071107625961304,0.014242204837501049,-0.09667757153511047,-0.20810674130916595,-0.10020831972360611,-0.2871060371398926,-0.046509042382240295,-1.0565873384475708,-0.17274856567382812,-0.17979881167411804,-0.08693180978298187,-0.2870577871799469,-0.081016905605793,-0.2777276933193207,-0.05971565097570419,-0.37296098470687866,-0.024887792766094208,0.005596247501671314,-0.040202800184488297,-1.821824312210083,0.02071494050323963,0.03234798461198807,-0.351509153842926,0.07791566848754883,0.22134271264076233,0.22097009420394897,0.007910975255072117,-0.1602260023355484,0.38582319021224976,0.40529096126556396,0.020659612491726875,0.16002118587493896,-0.6876928806304932,0.1748443990945816,-0.06561855971813202,0.17056940495967865,-0.1923334151506424,0.03349694982171059,0.19205528497695923,0.14372646808624268,-0.6170020699501038,0.08810742199420929,-0.255859911441803,-0.005681654438376427,-0.3424086272716522,0.48870426416397095,0.3265777826309204,0.03709608316421509,-0.05272510275244713,0.02219254896044731,0.926313042640686,0.026178427040576935,-0.1189315915107727,-0.06389258801937103,-0.2094285488128662,-0.0001886873651528731,0.028880860656499863,-0.028666086494922638,-0.2522350549697876,-0.1334751695394516,0.24342107772827148,-0.4979400932788849,0.34935641288757324,-0.020647767931222916,0.0531303770840168,0.7618475556373596,-0.18242749571800232,0.0421607606112957,-0.003750897478312254,0.009226217865943909,0.35949695110321045,-0.1537313163280487,0.08161338418722153,-0.18139393627643585,0.27509981393814087,-0.0951695442199707,0.44067591428756714,0.03110690787434578,-0.05763588473200798,0.05639839172363281,-0.9227598905563354,-0.13659639656543732,-0.3218716084957123,0.5414180755615234,0.033312615007162094,-0.0010216422379016876,0.18605837225914001,0.21083396673202515,0.0796470046043396,-0.07077011466026306,0.3892512321472168,-0.6183453798294067,0.9107794761657715,-0.09776118397712708,0.030383486300706863,0.07309997826814651,0.15863949060440063,-0.9370754957199097,-0.0741356685757637,0.026565108448266983,-0.026992283761501312,0.028376150876283646,0.02577354945242405,0.017608296126127243,-0.21343286335468292,1.256272315979004,-0.05618170648813248,0.032842546701431274,0.08975573629140854,0.06013639271259308,-0.057073794305324554,0.519870936870575,0.16180850565433502,0.13738158345222473,-0.004745967220515013,0.020310726016759872,0.2572135627269745,0.30245867371559143,0.15035492181777954,-0.1151384562253952,0.3196275532245636,-0.042472757399082184,0.07545957714319229,0.031494494527578354,0.049612775444984436,-0.12133058905601501,0.30286651849746704,0.007306428626179695,-0.18339478969573975,-0.06090684235095978,0.3589816987514496,0.08249443769454956,-0.03259564936161041,-0.302725613117218,-0.04340732842683792,0.035545505583286285,0.017565201967954636,0.27190908789634705,-0.09286795556545258,-0.3547748923301697,-0.05075990781188011,-0.0392339788377285,-0.008857477456331253,-0.15503951907157898,0.17637351155281067,0.3131093978881836,-0.27970778942108154,0.021222202107310295,-0.14866963028907776,0.1376267373561859,-0.2226998209953308,0.43856918811798096,-0.28195837140083313,0.010530125349760056,-0.022843360900878906,-0.41502612829208374,-0.25240278244018555,0.039111461490392685,0.09287132322788239,0.18272966146469116,-0.28651848435401917,-0.7919803261756897,-0.022911667823791504,-0.0010038897162303329,0.0527493841946125,0.3094879388809204,0.036551333963871,-0.03726263716816902,0.045129355043172836,-0.6442026495933533,-0.03945454955101013,0.17487028241157532,0.07316406071186066,0.17452046275138855,0.017085563391447067,0.018357964232563972,-0.21245011687278748,-0.05359290912747383,0.002753717824816704,0.08170758187770844,0.06859248876571655,0.14573347568511963,-0.13971248269081116,-0.38572046160697937,-0.22314947843551636,0.08941353857517242,0.16137121617794037,0.07818526029586792,-0.010629884898662567,-0.30930519104003906,0.02336825430393219,0.11166362464427948,0.15567275881767273,-0.08393767476081848,-0.0010859293397516012,0.027927028015255928,-0.15555444359779358,-0.057101503014564514,0.026441844180226326,0.025151526555418968,-0.0027837136294692755,0.09974111616611481,-0.012229567393660545,0.22917011380195618,0.13214385509490967,-0.009954378008842468,0.058179501444101334,0.13912232220172882,0.344401478767395,-0.029124533757567406,-0.032045066356658936,-0.03833235800266266,-0.14318415522575378,0.18831413984298706,-0.012236061505973339,0.011389810591936111,-0.16598013043403625,-0.06617699563503265,-0.022667957469820976,0.2001180350780487,-0.006659163162112236,-0.07161398977041245,0.08352111279964447,-0.1521012932062149,-0.2309516966342926,1.5923147201538086,-0.0027537355199456215,-0.2014920860528946,-0.14567649364471436,0.1981235146522522,0.025020286440849304,0.21301788091659546,-0.23423874378204346,-0.38100603222846985,0.029256775975227356,-0.03870430588722229,-0.008764341473579407,0.013804793357849121,0.19731014966964722,0.01695220172405243,0.5216358304023743,0.1172868013381958,0.03156508505344391,0.015358161181211472,-0.027839448302984238,0.1431952863931656,0.3418828547000885,-0.013278849422931671,-0.23625224828720093,1.5582125186920166,-0.006892438977956772,-0.1369086503982544,-0.16982531547546387,0.45495542883872986,0.3924524784088135,-0.1971379518508911,1.0942250490188599,-0.1413058340549469,0.10186457633972168,-0.32100188732147217,-0.0010115490294992924,0.019809158518910408,-0.027163144201040268,0.19071879982948303,-0.07122518122196198,0.1749202460050583,-0.0032227039337158203,0.07253247499465942,-0.5022377967834473,0.08521094918251038,0.18414996564388275,1.325470209121704,0.0014026116114109755,-0.010610796511173248,-0.05935255438089371,0.4663105010986328,-0.12113289535045624,-0.09089745581150055,-0.07009930908679962,-0.08097024261951447,-0.05912367254495621,0.2485714852809906,-0.09901325404644012,-0.04035918414592743,0.009609438478946686,0.3708651661872864,0.225775346159935,-1.0088881254196167,-0.35563886165618896,0.0009661205112934113,-0.0776258260011673,0.22421786189079285,0.07150346040725708,-0.19446425139904022,0.2834550738334656,-0.102338507771492,0.15928290784358978,0.04704086855053902,-0.02506016194820404,-0.5637913346290588,0.06980036199092865,-0.30902498960494995,0.08454984426498413,-0.1281510889530182,-0.012479830533266068,0.19393590092658997,0.06621798872947693,-0.0012995824217796326,0.08617358654737473,0.3071838319301605,-0.16765426099300385,-0.07289570569992065,-0.2146632969379425,0.06394264101982117,-0.06260427087545395,0.19689925014972687,-0.6879675388336182,-0.10234172642230988,0.0917399451136589,-0.05830933526158333,0.10503995418548584,0.20772920548915863,-0.09307834506034851,-0.0031659002415835857,0.18384574353694916,0.03166675567626953,-0.36930403113365173,0.021683726459741592,0.5178075432777405,-0.5538245439529419,0.21403738856315613,0.06907673925161362,-0.2022334337234497,0.5145596861839294,0.08998483419418335,0.08596835285425186,-0.05384231358766556,-0.0055852364748716354,0.509210467338562,-0.22078457474708557,-0.21465101838111877,-0.12467017769813538,-0.0632680207490921,-0.0005831630551256239,-0.10704844444990158,-0.46616899967193604,0.06210963428020477,0.03405722230672836,0.474712073802948,-0.0030604302883148193,-0.22590944170951843,0.1612893044948578,0.17136788368225098,0.4736224114894867,0.270602285861969,0.25356897711753845,0.017818845808506012,-0.1471697837114334,-0.18432840704917908,0.20201560854911804,-0.20093899965286255,0.00523519329726696,-0.060715608298778534,0.03394780680537224,-0.11445480585098267,0.20915426313877106,-0.09107726812362671,-0.5646978616714478,-0.08223997056484222,-0.0023837124463170767,0.6929677724838257,0.25386661291122437,0.27325573563575745,-0.0021136822178959846,-0.5559858679771423,0.00019155742484144866,-0.2878023386001587,-0.28057217597961426,-0.23048336803913116,0.011076286435127258,0.4538644552230835,0.05279220640659332,-0.021266333758831024,0.10715657472610474,0.010029617697000504,-0.13261352479457855,-0.5176447629928589,0.003557252697646618,0.4437762498855591,-0.10250434279441833,0.0011838078498840332,-0.22459213435649872,-1.5605303049087524,-0.3860135078430176,-0.005476613063365221,-0.0899605080485344,-0.20708709955215454,-0.3370078206062317,-0.05346781015396118,-0.12621363997459412,0.15548905730247498,0.07243801653385162,0.6149294972419739,0.07463878393173218,0.009985418058931828,0.11655684560537338,-0.08270430564880371,0.39581042528152466,0.01679232344031334,0.23480933904647827,-0.020453235134482384,-0.16565199196338654,-0.03095301240682602,0.01735067553818226,-0.052883654832839966,-0.011911395937204361,-0.04464273899793625,0.39633631706237793,-0.03580977022647858,-0.12640047073364258,0.04769868776202202,-0.09456560015678406,-0.15331077575683594,-0.0029568327590823174,0.40129658579826355,-0.10004377365112305,-0.14558888971805573,0.09067152440547943,-0.09638598561286926,0.07759729027748108,-0.12366329878568649,0.18832653760910034,0.23317687213420868,0.202539324760437,-0.022672533988952637,0.9020013809204102,0.07380517572164536,-0.021374017000198364,-0.020456135272979736,0.14654284715652466,0.2450556755065918,0.7158761024475098,0.262523353099823,-0.16200606524944305,-0.4089578688144684,-0.08678221702575684,-0.007304041180759668,0.12267258018255234,0.08612173795700073,-0.20047415792942047,0.07609817385673523,0.2671694755554199,-0.20236963033676147,0.053260814398527145,0.031653404235839844,-0.0645834356546402,-0.04116295278072357,-0.6256765127182007,0.118440181016922,0.01617993228137493,0.0495634600520134,0.2482721507549286,0.10506296157836914,0.03563438728451729,-0.008122705854475498,0.107550248503685,0.07016885280609131,0.17978283762931824,0.11087311804294586,0.024269189685583115,0.6949006915092468,-0.20353306829929352,0.17619730532169342,0.033076368272304535,-0.487878680229187,-0.02877097576856613,-0.13581116497516632,-0.012330934405326843,-0.12335831671953201,-0.001622913870960474,0.15889324247837067,-0.33698636293411255,-0.08012814819812775,0.07205551117658615,-0.6205404996871948,-0.059018731117248535,-0.12801365554332733,-0.12163835018873215,-0.038782037794589996,1.8946144580841064,-0.1103745698928833,-0.12046507745981216,0.36961692571640015,0.3625333905220032,0.23540371656417847,0.8120968341827393,-0.2898091673851013,-0.1313905417919159,-0.2373908907175064,-0.024649299681186676,-0.08704918622970581,-0.13410165905952454,0.4122382402420044,0.031938303261995316,0.07297859340906143,-0.3845563530921936,-0.07489695399999619,-0.01552526280283928,-0.34146714210510254,-0.1384735405445099,-0.1957697570323944,0.03500819206237793,-0.15003691613674164,0.027987971901893616,-0.09125348925590515,-0.07720731943845749,0.21980707347393036,-0.20316869020462036,-0.22382423281669617,-0.41339802742004395,0.14160510897636414,0.32731717824935913,0.058920104056596756,-0.7075439691543579,-0.028110841289162636,0.22807973623275757,-0.0015394389629364014,0.10304861515760422,-0.09924593567848206,0.21560971438884735,0.0003884807229042053,0.09880620986223221,0.3203519582748413,-0.24344322085380554,0.020825117826461792,2.209153413772583,-0.023033764213323593,0.3725626468658447,0.08905420452356339,-0.19360710680484772,-0.37098228931427,-0.19473931193351746,0.025367941707372665,-0.012956585735082626,0.004845805466175079,0.04142671450972557,-0.05625460669398308,0.15332993865013123,0.013406865298748016,-0.000538364052772522,0.25601112842559814,-0.00041771092219278216,-0.09301654994487762,0.13781721889972687,-0.138614684343338,-0.0025789409410208464,0.4742835462093353,0.06571752578020096,0.04813050478696823,-0.33859124779701233,0.2769671082496643,-0.23153969645500183,0.11547084897756577,-0.18023431301116943,0.4073163568973541,0.02866489067673683,0.9762989282608032,-0.07105737924575806,0.0053129494190216064,0.14421026408672333,-0.0053109461441636086,0.01281328871846199,0.0183805413544178,-0.01512022502720356,-0.4710380733013153,-0.6179368495941162,0.004474439192563295,-0.6697767972946167,-0.14434626698493958,-0.34109801054000854,0.20392507314682007,-0.35541200637817383,0.004150704946368933,-0.10481113940477371,-0.010280471295118332,0.046026308089494705,0.09179423749446869,-1.0047109127044678,0.05115358531475067,-0.6533486247062683,0.03082931600511074,0.12428033351898193,-0.008505510166287422,0.1365746110677719,0.18004393577575684,0.22973938286304474,0.08013380318880081,-0.23535139858722687,-0.5921694040298462,-0.3816143870353699,-3.522720726323314e-05,-0.10969388484954834,-0.1129847913980484,0.1453513354063034,-0.13035370409488678,-0.3640425205230713,-0.07835626602172852,0.045407913625240326,-0.7568119168281555,0.8582607507705688,-0.22179564833641052,-0.0718737468123436,1.7058920860290527,-0.026609081774950027,0.0731707364320755,0.169766366481781,-0.0013559816870838404,-0.18010203540325165,0.07780635356903076,-0.009063910692930222,0.13579483330249786,-0.045264653861522675,-0.3585275411605835,0.17785941064357758,-0.02048986405134201,-0.024498097598552704,-0.09375002235174179,0.02383136935532093,-0.02441173791885376,-0.03929254040122032,-0.07714104652404785,0.09747353196144104,-0.005300577729940414,-0.0429820716381073,0.046086885035037994,-0.1997312307357788,-0.07985860109329224,0.021130463108420372,0.41791796684265137,0.04985149949789047,-0.12159115821123123,-0.38037094473838806,-0.010370148345828056,-0.010132444091141224,0.1844785213470459,0.16528838872909546,-0.014260325580835342,-0.09451018273830414,0.06193586066365242,-0.04650560021400452,-0.47046512365341187,0.14601242542266846,-0.7449705600738525,0.11408865451812744,-0.04613818973302841,-0.05755127593874931,-0.3849167227745056,-0.03443795070052147,0.04615435004234314,0.6256269216537476,0.1191699355840683,0.003790377639234066,0.4373427927494049,0.03564609959721565,0.2540636360645294,-0.020816460251808167,0.32662415504455566,-0.21543078124523163,-0.36211884021759033,-0.08853527903556824,-0.008619094267487526,0.1776711493730545,0.21364954113960266,-0.1433580368757248,-0.19779044389724731,-0.001306343823671341,-0.1287267506122589,0.06993062794208527,-0.024393081665039062,-0.02313559129834175,0.029146775603294373,0.1619342565536499,0.215554341673851,0.013892874121665955,-0.07646282017230988,0.3441830277442932,-0.0024279505014419556,-0.031499847769737244,-0.0008703311905264854,-0.7067244648933411,0.24717968702316284,-0.07058686763048172,-0.03927839547395706,-0.0407540462911129,0.1452331244945526,-0.2284315973520279,-0.23330695927143097,0.0838986188173294,-0.1808886080980301,-0.12824517488479614,-0.11674708127975464,-0.05310181900858879,0.3491670787334442,0.096723273396492,0.14939720928668976,0.08604539185762405,-0.14144229888916016,0.02986694499850273,0.016239840537309647,0.17677249014377594,0.03615846484899521,0.061148107051849365,-0.20956607162952423,-0.2745593786239624,0.03658803552389145,-0.25002965331077576,0.06136300787329674,-0.1359337568283081,0.0913771316409111,-0.10069583356380463,0.24684259295463562,-0.11629616469144821,-0.062450312077999115,0.17339597642421722,0.10011675953865051,-0.013456441462039948,-0.09050696343183517,-0.010475385002791882,0.017583971843123436,0.1987788826227188,-0.38194721937179565,-0.004706593230366707,-0.20285871624946594,0.009294289164245129,-0.18396413326263428,-0.013481964357197285,-0.10364003479480743,-0.078243687748909,-0.04694338142871857,-0.04947445169091225,0.281437486410141,0.005949368700385094,0.00703682005405426,-0.6495339274406433,-0.007964556105434895,-0.4258917570114136,0.17525042593479156,-0.022719833999872208,0.2629747986793518,0.008431404829025269,-0.2493317723274231,-0.017166610807180405,0.03990964591503143,0.04521317780017853,-0.11833775043487549,-0.09008005261421204,-0.06417747586965561,-0.007947559468448162,-0.06807422637939453,-0.12913784384727478,-0.17010647058486938,-0.10932856798171997,-0.13892234861850739,-0.02687578834593296,-0.003707969794049859,-0.05130915716290474,-0.10097315907478333,0.1240672916173935,0.003195408033207059,0.04369049146771431,-0.2528545558452606,0.08277338743209839,-0.20064601302146912,0.4783342182636261,-0.09597069025039673,-0.014818856492638588,-0.011551751755177975,0.6383634805679321,0.2653265595436096,0.06501702964305878,-0.2297406792640686,-0.013765912503004074,0.008062582463026047,-0.11226515471935272,0.06915853917598724,0.03813192620873451,0.10886672139167786,-0.009845536202192307,-0.19071170687675476,0.28385522961616516,0.37113475799560547,0.12463054060935974,0.2824629843235016,0.15807904303073883,-0.09941092133522034,-0.18035781383514404,0.06809612363576889,-0.037010472267866135,-0.18773256242275238,0.1789340078830719,0.023556560277938843,-0.029781058430671692,-0.6183397173881531,0.3147962689399719,-0.04605966806411743,0.004859977401793003,-0.06051713228225708,0.03527121990919113,0.01972070522606373,-0.31604042649269104,-0.32642829418182373,0.013083303347229958,-0.06843442469835281,0.2674366235733032,0.0014674551784992218,0.41383862495422363,-0.039292141795158386,0.17873360216617584,-0.2241182029247284,-0.20907413959503174,-0.06480100005865097,-0.11340045928955078,-0.06661241501569748,-1.1626207828521729,0.20992952585220337,-0.005989279597997665,0.04590332508087158,0.3331315815448761,0.054817259311676025,0.0826072096824646,-0.008085028268396854,-0.1363847404718399,-0.012243542820215225,0.1742236316204071,0.0004136543720960617,-0.27124300599098206,0.02616720087826252,0.09664618968963623,0.11453603953123093,-0.44665849208831787,-0.024007203057408333,0.4426751732826233,0.007329693995416164,0.030327841639518738,0.015605144202709198,-0.2574317455291748,0.007353786379098892,-0.32341375946998596,-0.10112373530864716,-0.14953526854515076,-0.0025939643383026123,-0.38502949476242065,-0.0057025328278541565,-0.601036548614502,0.07332566380500793,1.0791680812835693,-0.1970171183347702,-0.5055237412452698,-0.042152129113674164,-0.07351437211036682,-0.0410541333258152,0.0720524936914444,-0.02983204275369644,-0.06704113632440567,-0.015278233215212822,-0.13219141960144043,-0.06483031809329987,0.06968733668327332,0.1366107016801834,-0.2639443874359131,-0.004445748403668404,0.02234666794538498,0.07014067471027374,-0.047313809394836426,0.5052280426025391,0.1713358759880066,-0.3641049861907959,0.02692417800426483,0.1682828664779663,0.05645923316478729,-0.170758917927742,-0.017000027000904083,-0.018076227977871895,0.22525912523269653,0.002617873251438141,0.20661523938179016,0.06855621933937073,-0.5397700667381287,-0.04504197835922241,-0.24495559930801392,-0.029661577194929123,-0.905892550945282,-0.021323522552847862,0.045939505100250244,0.07752164453268051,-0.037171103060245514,0.9037871956825256,-0.26671814918518066,-0.10154630243778229,0.21700036525726318,-0.23441892862319946,-0.09647774696350098,-0.6877436637878418,-0.03856436908245087,0.009419792331755161,-0.008610288612544537,-0.127289816737175,-0.001545778475701809,-0.028796765953302383,-0.0016103875823318958,-0.0009218677878379822,-0.19128215312957764,-0.005000951699912548,0.16726483404636383,0.12330420315265656,0.06976470351219177,0.04992423951625824,-0.15897302329540253,-0.02775632031261921,-0.3361206352710724,0.10069189220666885,0.3149215579032898,0.0012356271035969257,0.05671975016593933,-0.12151975184679031,-0.25530895590782166,-0.14401164650917053,0.040919676423072815,-0.010859856382012367,-0.32648152112960815,-0.09680156409740448,0.0025323957670480013,-0.046012163162231445,0.12918713688850403,-0.00035703834146261215,0.23560896515846252,-0.1213839054107666,0.01182550098747015,-0.36174535751342773,-0.4033331871032715,0.5893346667289734,0.05745581537485123,0.20189133286476135,2.419104566797614e-05,-0.001181232975795865,0.020851485431194305,-0.04987156763672829,0.01689082384109497,0.020441507920622826,-0.11723917722702026,0.0085831917822361,0.07923749834299088,0.0041706860065460205,-0.31772857904434204,0.08695413172245026,-0.17313817143440247,0.012393156066536903,0.013782478868961334,-0.18777334690093994,-0.001479265745729208,0.1714930385351181,0.004032043740153313,-0.1939399540424347,-0.003993436694145203,0.014928147196769714,-0.06976231932640076,-0.02580031380057335,-0.0020730383694171906,-0.20269916951656342,0.04883287101984024,-0.0016693174839019775,-0.1276906132698059,-0.07084446400403976,-0.015827197581529617,-0.37628355622291565,0.03738623484969139,-0.055404774844646454,0.21761715412139893,0.01870981976389885,0.037008024752140045,-0.46094101667404175,-0.010318279266357422,-0.008220115676522255,-0.17295940220355988,0.0985536277294159,-0.08861328661441803,0.006248708348721266,-2.64983868598938,-0.018514811992645264,0.00628423597663641,0.0314059853553772,0.4091600179672241,0.13299429416656494,1.3582208156585693,-0.02802307903766632,0.06268949806690216,-0.007006000727415085,-0.003038983792066574,-0.47999781370162964,-0.34818780422210693,0.09451638162136078,0.15815109014511108,0.03854712098836899,-0.1643119752407074,-0.1681022346019745,-0.08355504274368286,-0.0036016921512782574,-0.08146937191486359,-0.07386352121829987,-0.008168363012373447,-0.12168429046869278,0.18792155385017395,0.34890368580818176,-0.1459602415561676,-0.21923929452896118,-0.31936007738113403,0.015500585548579693,0.08724024146795273,0.30804574489593506,-0.07917582243680954,0.12590694427490234,0.3395654559135437,-0.1663902848958969,0.01174210011959076,-0.0047629945911467075,-0.22949513792991638,-0.06129422038793564,-0.06199733912944794,0.052764348685741425,-0.01259494200348854,-0.38276010751724243,0.07186581194400787,0.06720466166734695,0.027540849521756172,0.2814514636993408,-0.32052168250083923,0.26644366979599,-0.4670005440711975,-0.13323712348937988,-1.420825719833374e-05,-0.010009784251451492,0.8070530891418457,0.03192153200507164,0.027267368510365486,0.15854568779468536,-0.12487626820802689,0.08752131462097168,-0.2817220389842987,-0.012959248386323452,0.23381318151950836,-0.19618511199951172,0.22217972576618195,-0.05595394968986511,0.07538261264562607,-0.046501729637384415,0.6256828904151917,-0.06318509578704834,-0.05148383229970932,-0.658950686454773,0.09076068550348282,0.12241004407405853,-0.057307906448841095,0.09068187326192856,0.0017215851694345474,-0.062179937958717346,0.2639891803264618,-0.5809502005577087,0.2168205827474594,-0.07390198856592178,0.29435300827026367,0.15895776450634003,-0.0038116448558866978,-0.061821624636650085,-0.041709914803504944,-0.18245001137256622,1.0086244344711304,-0.06543582677841187,-0.061608508229255676,0.11358059197664261,-0.16328883171081543,-0.22071333229541779,0.029811762273311615,-0.39987942576408386,-0.014645182527601719,0.5054409503936768,0.7757132053375244,0.0475166030228138,-0.23716169595718384,0.20202097296714783,-0.01544970739632845,-0.15643274784088135,-0.05846423655748367,0.05745779722929001,0.3289451599121094,0.2908642888069153,0.15173795819282532,-0.1426355093717575,0.008280431851744652,-0.11852100491523743,-0.07290293276309967,-0.05796284228563309,-0.001743475440889597,-0.07041127979755402,0.06308260560035706,0.15732437372207642,0.13770410418510437,0.018636580556631088,0.00855439156293869,-0.02853313460946083,0.039875417947769165,0.03677985072135925,-0.27263376116752625,0.030891789123415947,0.0031709326431155205,0.17961469292640686,0.470974862575531,-0.22254228591918945,-0.26192212104797363,-0.18244904279708862,4.132743924856186e-05,0.1985619068145752,0.1651524156332016,0.045054931193590164,-0.035479139536619186,0.44376999139785767,-0.0014471847098320723,0.017749983817338943,-0.07980882376432419,-0.36485183238983154,0.004291359335184097,0.12608934938907623,0.30881184339523315,-0.17816197872161865,-0.3106085956096649,-0.01013651117682457,-0.10189293324947357,-0.0180976465344429,0.02826307900249958,0.44006189703941345,-0.06257980316877365,-0.002568664029240608,0.03860984370112419,-0.06899234652519226,0.039393067359924316,0.0038101188838481903,-0.1270671784877777,0.42862021923065186,0.025257021188735962,-0.0004950569709762931,-0.01031501404941082,-0.13231387734413147,8.528408943675458e-05,0.12551242113113403,0.12788116931915283,-0.0019227173179388046,0.1845473349094391,-0.06941133737564087,0.03580835461616516,0.31950366497039795,0.007731719873845577,-0.03917389363050461,-0.11035411059856415,-0.09820178151130676,-0.13364946842193604,-0.09237915277481079,-0.09223173558712006,0.03891265392303467,-0.1252397894859314,-0.025675741955637932,-0.4934452772140503,-0.24885515868663788,0.07858967781066895,0.9677506685256958,-0.11853537708520889,0.1304035484790802,-0.0763726606965065,-0.07717304676771164,0.11270458996295929,0.0749523788690567,-0.018665429204702377,-0.14620904624462128,-0.0411747470498085,0.3322139084339142,-0.3612504005432129,-0.29840415716171265,0.4337039291858673,-0.19202005863189697,-0.35487914085388184,0.29666760563850403,-0.19828683137893677,0.1663902848958969,0.35979729890823364,0.045741379261016846,-0.22589662671089172,0.05258521810173988,0.222394198179245,-0.003375489264726639,0.12265877425670624,0.028204509988427162,0.10111638903617859,0.03305112570524216,-0.12249081581830978,-0.38453254103660583,-0.3504188656806946,0.09411420673131943,0.32221856713294983,-0.4838426113128662,0.06341955065727234,-0.11307936906814575,0.5123293399810791,-0.12286289036273956,0.13147678971290588,0.09699591249227524,0.04144531488418579,-0.08596808463335037,0.25640833377838135,-0.5810048580169678,0.10015846788883209,-0.21485237777233124,-0.2246902883052826,-0.021029971539974213,-0.3149869740009308,0.011086415499448776,-0.01789821684360504,0.26196780800819397,0.01881226897239685,0.16160848736763,0.11417301744222641,0.07960999757051468,-0.510847806930542,0.4456285834312439,0.6446549892425537,-0.19516412913799286,-0.0743895024061203,1.1653817892074585,0.1433781236410141,-0.0004960186779499054,0.7596661448478699,0.1572628915309906,-0.40403831005096436,0.11589488387107849,-0.0006440715515054762,0.09711289405822754,-0.1708887368440628,0.9371185898780823,0.24739237129688263,-0.20873504877090454,0.13105733692646027,0.28266623616218567,-0.20819170773029327,-0.056250642985105515,-0.0521431565284729,-0.5246391296386719,0.0793660506606102,-0.368244469165802,-0.37717247009277344,0.003047242760658264,0.2945728898048401,-0.28238970041275024,-0.18283593654632568,0.44510918855667114,0.24391543865203857,-0.5286767482757568,0.17236529290676117,-0.014524715021252632,0.46217575669288635,-0.10662541538476944,0.02261211723089218,0.049710169434547424,0.10177260637283325,-0.009676028043031693,-0.3118627965450287,0.032280098646879196,0.15080127120018005,-0.28805017471313477,0.08269326388835907,-0.04659837484359741,-0.10682954639196396,-0.01869487389922142,0.12121687084436417,-0.6669290065765381,-0.021390175446867943,0.5857508778572083,0.007967185229063034,0.11023950576782227,0.23566962778568268,-0.3939691185951233,-0.04320797696709633,-0.9191038608551025,-0.32859814167022705,0.08754827082157135,1.4629461765289307,-0.5787472724914551,-0.07381689548492432,0.04546917974948883,1.0701768398284912,0.04901877045631409,0.21531711518764496,-0.11373352259397507,0.33195286989212036,0.9368550777435303,0.012888584285974503,-0.030740465968847275,-0.65445876121521,0.20709440112113953,-0.19432073831558228,-0.35815635323524475,-0.35615402460098267,-0.5885235667228699,0.4421168863773346,-0.5465801358222961,0.28809425234794617,-0.017498262226581573,0.23239704966545105,-0.09733930975198746,0.022461771965026855,0.044380657374858856,0.15215261280536652,0.09833459556102753,-0.2113044261932373,0.1506654918193817,-0.6971889734268188,0.13023698329925537,0.08428115397691727,-0.015233775600790977,-0.006713390350341797,0.2987188696861267,-0.008299123495817184,0.07802686095237732,-0.574451208114624,-0.0695296972990036,0.03382610157132149,1.0963003635406494,0.12342579662799835,-0.1066017895936966,0.10899791866540909,0.2948572337627411,1.0936193466186523,-0.06998071819543839,-0.057649459689855576,0.02277764305472374,0.1132640391588211,0.010493852198123932,0.37108659744262695,0.25704437494277954,-0.005110912024974823,0.03817088156938553,0.27067363262176514,1.2525291442871094,-0.2020135372877121,-0.05632243677973747,-0.20625171065330505,0.33657798171043396,-0.12115933746099472,-0.37351471185684204,-0.43267473578453064,-0.19442227482795715,0.6223757266998291,-0.015602685511112213,-0.15284237265586853,0.3519946336746216,-0.5179397463798523,-0.0022507887333631516,0.13995178043842316,-0.8694337606430054,0.025237560272216797,-0.013980845920741558,-0.060220055282115936,-0.22202655673027039,-0.23262262344360352,-0.565684974193573,0.025158658623695374,0.15434685349464417,0.13490910828113556,-0.13130997121334076,-0.219190314412117,0.25233644247055054,-0.005349224898964167,-0.6208959221839905,-0.42794543504714966,-0.47391778230667114,-0.15646526217460632,-0.08614043891429901,0.1446588635444641,-0.06676934659481049,-0.7729647159576416,-0.04553970694541931,-0.09278111904859543,0.16380992531776428,0.1880192756652832,-0.16159644722938538,-0.4681119918823242,0.22228188812732697,0.0010447017848491669,0.042268380522727966,0.14747083187103271,-0.0277310349047184,-0.07791314274072647,0.24916474521160126,-0.1950366348028183,-0.3012990951538086,-0.2572667896747589,-0.03347652405500412,-0.14199203252792358,-0.12700815498828888,0.24835193157196045,0.15454858541488647,0.0869976207613945,-0.42426666617393494,0.002753904089331627,0.0022830162197351456,-0.35212868452072144,0.3056015372276306,-0.18073885142803192,-0.7290422916412354,0.02850263938307762,-0.08305398374795914,0.005994134582579136,0.3709471821784973,-0.21324004232883453,0.31607258319854736,0.021969884634017944,-0.056888431310653687,0.0006229215068742633,0.8032214045524597,-0.3200092017650604,-0.15065258741378784,-0.15414920449256897,-0.2506502866744995,-0.003060396760702133,-0.0024963784962892532,-0.1236129105091095,0.09328847378492355,0.21923890709877014,-0.010574020445346832,-0.2687436640262604,0.05743753910064697,0.16367477178573608,0.37807369232177734,0.020734958350658417,-0.15817776322364807,-0.13267898559570312,0.13597004115581512,-0.0473506823182106,0.43633753061294556,0.011195549741387367,-0.0385037399828434,0.5571871995925903,0.21160811185836792,0.22675557434558868,-0.7532797455787659,-0.01104012131690979,0.28188326954841614,-0.06129063665866852,0.1550694704055786,-0.026590030640363693,0.318807989358902,-0.251656711101532,0.2336266189813614,0.0679381787776947,0.44512444734573364],\"yaxis\":\"y\",\"type\":\"scattergl\"}],                        {\"template\":{\"data\":{\"histogram2dcontour\":[{\"type\":\"histogram2dcontour\",\"colorbar\":{\"outlinewidth\":0,\"ticks\":\"\"},\"colorscale\":[[0.0,\"#0d0887\"],[0.1111111111111111,\"#46039f\"],[0.2222222222222222,\"#7201a8\"],[0.3333333333333333,\"#9c179e\"],[0.4444444444444444,\"#bd3786\"],[0.5555555555555556,\"#d8576b\"],[0.6666666666666666,\"#ed7953\"],[0.7777777777777778,\"#fb9f3a\"],[0.8888888888888888,\"#fdca26\"],[1.0,\"#f0f921\"]]}],\"choropleth\":[{\"type\":\"choropleth\",\"colorbar\":{\"outlinewidth\":0,\"ticks\":\"\"}}],\"histogram2d\":[{\"type\":\"histogram2d\",\"colorbar\":{\"outlinewidth\":0,\"ticks\":\"\"},\"colorscale\":[[0.0,\"#0d0887\"],[0.1111111111111111,\"#46039f\"],[0.2222222222222222,\"#7201a8\"],[0.3333333333333333,\"#9c179e\"],[0.4444444444444444,\"#bd3786\"],[0.5555555555555556,\"#d8576b\"],[0.6666666666666666,\"#ed7953\"],[0.7777777777777778,\"#fb9f3a\"],[0.8888888888888888,\"#fdca26\"],[1.0,\"#f0f921\"]]}],\"heatmap\":[{\"type\":\"heatmap\",\"colorbar\":{\"outlinewidth\":0,\"ticks\":\"\"},\"colorscale\":[[0.0,\"#0d0887\"],[0.1111111111111111,\"#46039f\"],[0.2222222222222222,\"#7201a8\"],[0.3333333333333333,\"#9c179e\"],[0.4444444444444444,\"#bd3786\"],[0.5555555555555556,\"#d8576b\"],[0.6666666666666666,\"#ed7953\"],[0.7777777777777778,\"#fb9f3a\"],[0.8888888888888888,\"#fdca26\"],[1.0,\"#f0f921\"]]}],\"heatmapgl\":[{\"type\":\"heatmapgl\",\"colorbar\":{\"outlinewidth\":0,\"ticks\":\"\"},\"colorscale\":[[0.0,\"#0d0887\"],[0.1111111111111111,\"#46039f\"],[0.2222222222222222,\"#7201a8\"],[0.3333333333333333,\"#9c179e\"],[0.4444444444444444,\"#bd3786\"],[0.5555555555555556,\"#d8576b\"],[0.6666666666666666,\"#ed7953\"],[0.7777777777777778,\"#fb9f3a\"],[0.8888888888888888,\"#fdca26\"],[1.0,\"#f0f921\"]]}],\"contourcarpet\":[{\"type\":\"contourcarpet\",\"colorbar\":{\"outlinewidth\":0,\"ticks\":\"\"}}],\"contour\":[{\"type\":\"contour\",\"colorbar\":{\"outlinewidth\":0,\"ticks\":\"\"},\"colorscale\":[[0.0,\"#0d0887\"],[0.1111111111111111,\"#46039f\"],[0.2222222222222222,\"#7201a8\"],[0.3333333333333333,\"#9c179e\"],[0.4444444444444444,\"#bd3786\"],[0.5555555555555556,\"#d8576b\"],[0.6666666666666666,\"#ed7953\"],[0.7777777777777778,\"#fb9f3a\"],[0.8888888888888888,\"#fdca26\"],[1.0,\"#f0f921\"]]}],\"surface\":[{\"type\":\"surface\",\"colorbar\":{\"outlinewidth\":0,\"ticks\":\"\"},\"colorscale\":[[0.0,\"#0d0887\"],[0.1111111111111111,\"#46039f\"],[0.2222222222222222,\"#7201a8\"],[0.3333333333333333,\"#9c179e\"],[0.4444444444444444,\"#bd3786\"],[0.5555555555555556,\"#d8576b\"],[0.6666666666666666,\"#ed7953\"],[0.7777777777777778,\"#fb9f3a\"],[0.8888888888888888,\"#fdca26\"],[1.0,\"#f0f921\"]]}],\"mesh3d\":[{\"type\":\"mesh3d\",\"colorbar\":{\"outlinewidth\":0,\"ticks\":\"\"}}],\"scatter\":[{\"fillpattern\":{\"fillmode\":\"overlay\",\"size\":10,\"solidity\":0.2},\"type\":\"scatter\"}],\"parcoords\":[{\"type\":\"parcoords\",\"line\":{\"colorbar\":{\"outlinewidth\":0,\"ticks\":\"\"}}}],\"scatterpolargl\":[{\"type\":\"scatterpolargl\",\"marker\":{\"colorbar\":{\"outlinewidth\":0,\"ticks\":\"\"}}}],\"bar\":[{\"error_x\":{\"color\":\"#2a3f5f\"},\"error_y\":{\"color\":\"#2a3f5f\"},\"marker\":{\"line\":{\"color\":\"#E5ECF6\",\"width\":0.5},\"pattern\":{\"fillmode\":\"overlay\",\"size\":10,\"solidity\":0.2}},\"type\":\"bar\"}],\"scattergeo\":[{\"type\":\"scattergeo\",\"marker\":{\"colorbar\":{\"outlinewidth\":0,\"ticks\":\"\"}}}],\"scatterpolar\":[{\"type\":\"scatterpolar\",\"marker\":{\"colorbar\":{\"outlinewidth\":0,\"ticks\":\"\"}}}],\"histogram\":[{\"marker\":{\"pattern\":{\"fillmode\":\"overlay\",\"size\":10,\"solidity\":0.2}},\"type\":\"histogram\"}],\"scattergl\":[{\"type\":\"scattergl\",\"marker\":{\"colorbar\":{\"outlinewidth\":0,\"ticks\":\"\"}}}],\"scatter3d\":[{\"type\":\"scatter3d\",\"line\":{\"colorbar\":{\"outlinewidth\":0,\"ticks\":\"\"}},\"marker\":{\"colorbar\":{\"outlinewidth\":0,\"ticks\":\"\"}}}],\"scattermapbox\":[{\"type\":\"scattermapbox\",\"marker\":{\"colorbar\":{\"outlinewidth\":0,\"ticks\":\"\"}}}],\"scatterternary\":[{\"type\":\"scatterternary\",\"marker\":{\"colorbar\":{\"outlinewidth\":0,\"ticks\":\"\"}}}],\"scattercarpet\":[{\"type\":\"scattercarpet\",\"marker\":{\"colorbar\":{\"outlinewidth\":0,\"ticks\":\"\"}}}],\"carpet\":[{\"aaxis\":{\"endlinecolor\":\"#2a3f5f\",\"gridcolor\":\"white\",\"linecolor\":\"white\",\"minorgridcolor\":\"white\",\"startlinecolor\":\"#2a3f5f\"},\"baxis\":{\"endlinecolor\":\"#2a3f5f\",\"gridcolor\":\"white\",\"linecolor\":\"white\",\"minorgridcolor\":\"white\",\"startlinecolor\":\"#2a3f5f\"},\"type\":\"carpet\"}],\"table\":[{\"cells\":{\"fill\":{\"color\":\"#EBF0F8\"},\"line\":{\"color\":\"white\"}},\"header\":{\"fill\":{\"color\":\"#C8D4E3\"},\"line\":{\"color\":\"white\"}},\"type\":\"table\"}],\"barpolar\":[{\"marker\":{\"line\":{\"color\":\"#E5ECF6\",\"width\":0.5},\"pattern\":{\"fillmode\":\"overlay\",\"size\":10,\"solidity\":0.2}},\"type\":\"barpolar\"}],\"pie\":[{\"automargin\":true,\"type\":\"pie\"}]},\"layout\":{\"autotypenumbers\":\"strict\",\"colorway\":[\"#636efa\",\"#EF553B\",\"#00cc96\",\"#ab63fa\",\"#FFA15A\",\"#19d3f3\",\"#FF6692\",\"#B6E880\",\"#FF97FF\",\"#FECB52\"],\"font\":{\"color\":\"#2a3f5f\"},\"hovermode\":\"closest\",\"hoverlabel\":{\"align\":\"left\"},\"paper_bgcolor\":\"white\",\"plot_bgcolor\":\"#E5ECF6\",\"polar\":{\"bgcolor\":\"#E5ECF6\",\"angularaxis\":{\"gridcolor\":\"white\",\"linecolor\":\"white\",\"ticks\":\"\"},\"radialaxis\":{\"gridcolor\":\"white\",\"linecolor\":\"white\",\"ticks\":\"\"}},\"ternary\":{\"bgcolor\":\"#E5ECF6\",\"aaxis\":{\"gridcolor\":\"white\",\"linecolor\":\"white\",\"ticks\":\"\"},\"baxis\":{\"gridcolor\":\"white\",\"linecolor\":\"white\",\"ticks\":\"\"},\"caxis\":{\"gridcolor\":\"white\",\"linecolor\":\"white\",\"ticks\":\"\"}},\"coloraxis\":{\"colorbar\":{\"outlinewidth\":0,\"ticks\":\"\"}},\"colorscale\":{\"sequential\":[[0.0,\"#0d0887\"],[0.1111111111111111,\"#46039f\"],[0.2222222222222222,\"#7201a8\"],[0.3333333333333333,\"#9c179e\"],[0.4444444444444444,\"#bd3786\"],[0.5555555555555556,\"#d8576b\"],[0.6666666666666666,\"#ed7953\"],[0.7777777777777778,\"#fb9f3a\"],[0.8888888888888888,\"#fdca26\"],[1.0,\"#f0f921\"]],\"sequentialminus\":[[0.0,\"#0d0887\"],[0.1111111111111111,\"#46039f\"],[0.2222222222222222,\"#7201a8\"],[0.3333333333333333,\"#9c179e\"],[0.4444444444444444,\"#bd3786\"],[0.5555555555555556,\"#d8576b\"],[0.6666666666666666,\"#ed7953\"],[0.7777777777777778,\"#fb9f3a\"],[0.8888888888888888,\"#fdca26\"],[1.0,\"#f0f921\"]],\"diverging\":[[0,\"#8e0152\"],[0.1,\"#c51b7d\"],[0.2,\"#de77ae\"],[0.3,\"#f1b6da\"],[0.4,\"#fde0ef\"],[0.5,\"#f7f7f7\"],[0.6,\"#e6f5d0\"],[0.7,\"#b8e186\"],[0.8,\"#7fbc41\"],[0.9,\"#4d9221\"],[1,\"#276419\"]]},\"xaxis\":{\"gridcolor\":\"white\",\"linecolor\":\"white\",\"ticks\":\"\",\"title\":{\"standoff\":15},\"zerolinecolor\":\"white\",\"automargin\":true,\"zerolinewidth\":2},\"yaxis\":{\"gridcolor\":\"white\",\"linecolor\":\"white\",\"ticks\":\"\",\"title\":{\"standoff\":15},\"zerolinecolor\":\"white\",\"automargin\":true,\"zerolinewidth\":2},\"scene\":{\"xaxis\":{\"backgroundcolor\":\"#E5ECF6\",\"gridcolor\":\"white\",\"linecolor\":\"white\",\"showbackground\":true,\"ticks\":\"\",\"zerolinecolor\":\"white\",\"gridwidth\":2},\"yaxis\":{\"backgroundcolor\":\"#E5ECF6\",\"gridcolor\":\"white\",\"linecolor\":\"white\",\"showbackground\":true,\"ticks\":\"\",\"zerolinecolor\":\"white\",\"gridwidth\":2},\"zaxis\":{\"backgroundcolor\":\"#E5ECF6\",\"gridcolor\":\"white\",\"linecolor\":\"white\",\"showbackground\":true,\"ticks\":\"\",\"zerolinecolor\":\"white\",\"gridwidth\":2}},\"shapedefaults\":{\"line\":{\"color\":\"#2a3f5f\"}},\"annotationdefaults\":{\"arrowcolor\":\"#2a3f5f\",\"arrowhead\":0,\"arrowwidth\":1},\"geo\":{\"bgcolor\":\"white\",\"landcolor\":\"#E5ECF6\",\"subunitcolor\":\"white\",\"showland\":true,\"showlakes\":true,\"lakecolor\":\"white\"},\"title\":{\"x\":0.05},\"mapbox\":{\"style\":\"light\"}}},\"xaxis\":{\"anchor\":\"y\",\"domain\":[0.0,1.0],\"title\":{\"text\":\"Correct logit\"}},\"yaxis\":{\"anchor\":\"x\",\"domain\":[0.0,1.0],\"title\":{\"text\":\"\"}},\"legend\":{\"title\":{\"text\":\"variable\"},\"tracegroupgap\":0},\"title\":{\"text\":\"DLA per neuron in layer\"},\"width\":800,\"showlegend\":true},                        {\"responsive\": true}                    ).then(function(){\n",
       "                            \n",
       "var gd = document.getElementById('aee730c6-231d-4a11-9962-fce4f43db8bc');\n",
       "var x = new MutationObserver(function (mutations, observer) {{\n",
       "        var display = window.getComputedStyle(gd).display;\n",
       "        if (!display || display === 'none') {{\n",
       "            console.log([gd, 'removed!']);\n",
       "            Plotly.purge(gd);\n",
       "            observer.disconnect();\n",
       "        }}\n",
       "}});\n",
       "\n",
       "// Listen for the removal of the full notebook cells\n",
       "var notebookContainer = gd.closest('#notebook-container');\n",
       "if (notebookContainer) {{\n",
       "    x.observe(notebookContainer, {childList: true});\n",
       "}}\n",
       "\n",
       "// Listen for the clearing of the current output cell\n",
       "var outputEl = gd.closest('.output');\n",
       "if (outputEl) {{\n",
       "    x.observe(outputEl, {childList: true});\n",
       "}}\n",
       "\n",
       "                        })                };                });            </script>        </div>"
      ]
     },
     "metadata": {},
     "output_type": "display_data"
    }
   ],
   "source": [
    "attrs, labels = neuron_DLA(\"Once upon a time\", model, pos=np.s_[-3:])\n",
    "haystack_utils.line(attrs[0].cpu().numpy(), xlabel=\"Correct logit\", ylabel=\"\", title=\"DLA per neuron in layer\")"
   ]
  },
  {
   "cell_type": "code",
   "execution_count": 4,
   "metadata": {},
   "outputs": [],
   "source": [
    "# animal = 'cows'\n",
    "# attrs, labels = neuron_DLA(f'Once upon a time there was a boy named Bob. Bob loves to learn about different animals. \"What do {animal} eat?\", his mother asked. \"They eat', \n",
    "#                                  model)\n",
    "# haystack_utils.line(attrs.cpu().numpy(), xlabel=\"Correct logit\", ylabel=\"\", title=\"DLA per neuron in layer\")"
   ]
  },
  {
   "cell_type": "code",
   "execution_count": 14,
   "metadata": {},
   "outputs": [
    {
     "name": "stdout",
     "output_type": "stream",
     "text": [
      "tensor(31.1651, device='cuda:0')\n"
     ]
    },
    {
     "data": {
      "text/html": [
       "<div>                            <div id=\"a6b64d71-b717-4197-bc77-28f5bc7cc11d\" class=\"plotly-graph-div\" style=\"height:525px; width:100%;\"></div>            <script type=\"text/javascript\">                require([\"plotly\"], function(Plotly) {                    window.PLOTLYENV=window.PLOTLYENV || {};                                    if (document.getElementById(\"a6b64d71-b717-4197-bc77-28f5bc7cc11d\")) {                    Plotly.newPlot(                        \"a6b64d71-b717-4197-bc77-28f5bc7cc11d\",                        [{\"alignmentgroup\":\"True\",\"bingroup\":\"x\",\"hovertemplate\":\"variable=0\\u003cbr\\u003evalue=%{x}\\u003cbr\\u003ecount=%{y}\\u003cextra\\u003e\\u003c\\u002fextra\\u003e\",\"legendgroup\":\"0\",\"marker\":{\"color\":\"#636efa\",\"pattern\":{\"shape\":\"\"}},\"name\":\"0\",\"offsetgroup\":\"0\",\"orientation\":\"v\",\"showlegend\":true,\"x\":[-0.1877330243587494,-0.0010969892609864473,3.889277458190918,0.3974723219871521,-0.16205757856369019,1.3000760078430176,0.12009002268314362,0.009509619325399399,-0.0036201428156346083,-0.12319512665271759,-1.2227826118469238,-0.39080899953842163,0.04974508285522461,0.05787539482116699,-0.010789379477500916,0.18408840894699097,0.5900861024856567,0.23931625485420227,0.041725847870111465,-0.13800165057182312,0.3210274875164032,0.13304747641086578,0.017328407615423203,0.9491956233978271,-0.07830995321273804,0.757495641708374,0.9297112822532654,-0.055870622396469116,0.024293173104524612,-0.0431201197206974,-0.2604072093963623,-0.010157112032175064,0.2329343557357788,-0.13982556760311127,0.7609658241271973,0.11755520105361938,-0.48117515444755554,-0.03718091920018196,0.31618794798851013,0.33170223236083984,0.3541576564311981,0.10809960961341858,0.3826431334018707,-0.6579480767250061,0.07977572083473206,-0.13383761048316956,-0.5432752370834351,-0.1513039469718933,0.16168546676635742,-0.23906278610229492,0.0434311218559742,0.0918826162815094,-0.07979139685630798,-0.7535800337791443,-0.27285051345825195,-0.19679614901542664,0.007239387370646,1.2694847583770752,0.29051685333251953,0.03361104801297188,-0.13451984524726868,0.012524032965302467,0.09943858534097672,0.031094422563910484,0.024397028610110283,0.35390976071357727,0.6774179339408875,0.42729121446609497,-0.018304292112588882,-0.16263724863529205,0.12044306099414825,-0.0038457103073596954,-0.05333271622657776,0.28665047883987427,0.016163095831871033,0.28327542543411255,-0.02623884379863739,0.007252998650074005,0.01581624150276184,0.10188227891921997,-0.23220863938331604,0.2524401545524597,-0.018025076016783714,-0.02817906066775322,0.7939881086349487,-0.03199578449130058,0.5320497155189514,0.7952585220336914,0.20975041389465332,-0.35278645157814026,0.004950514994561672,0.6758595108985901,0.05688195675611496,0.19942325353622437,0.2367224395275116,2.0226221084594727,0.0631961077451706,-0.14042797684669495,1.5835901498794556,-0.040977247059345245,-0.13672997057437897,0.05269418656826019,-0.30533304810523987,0.3910600244998932,-0.38029414415359497,-0.030771266669034958,-0.02808576263487339,-0.12523286044597626,-0.008938906714320183,0.06625831872224808,-0.01162730436772108,-0.21796759963035583,0.059509530663490295,0.05323714762926102,-0.15785548090934753,-1.833331823348999,0.12116619944572449,0.04377978295087814,-0.27635470032691956,0.5502159595489502,0.0020919721573591232,-0.5036214590072632,0.29123347997665405,0.005429580807685852,-0.25521841645240784,-0.07841237634420395,-0.30637550354003906,-0.4179362654685974,-0.010591968894004822,0.6696072816848755,0.9552227854728699,0.3719349503517151,-0.6407265663146973,0.4752453565597534,-0.2555464208126068,0.4724777936935425,0.09845326095819473,-0.0925087109208107,-0.3481922149658203,1.286163568496704,0.7297784686088562,-0.3044086694717407,0.5158432722091675,0.29070165753364563,-0.12069058418273926,0.05811695754528046,-0.2968534827232361,4.5496368408203125,-0.03361588716506958,-0.03149145841598511,0.06330592930316925,0.02547582797706127,1.7964763641357422,5.622768402099609,-0.17932169139385223,-0.09614108502864838,0.09643585979938507,0.025766024366021156,-0.05227429419755936,0.12461835891008377,0.3525450527667999,0.3397586941719055,0.7341493964195251,-0.579072117805481,0.054141901433467865,0.03352325037121773,-0.5172388553619385,-0.0027201995253562927,-0.09556752443313599,0.0383964478969574,0.1258048713207245,0.2634088397026062,0.14908549189567566,0.003459649160504341,0.5939562320709229,0.09303897619247437,-0.019776828587055206,-0.23575744032859802,-0.24382956326007843,-0.022485466673970222,-0.12406407296657562,-0.13915826380252838,0.19742798805236816,0.8131619095802307,-0.5808315277099609,0.8001465201377869,0.07261832803487778,-0.026933589950203896,0.04237116128206253,0.004811441525816917,-0.010222618468105793,0.4432804584503174,-0.009634088724851608,-0.2651655077934265,0.17056362330913544,-0.1573910415172577,0.7480312585830688,-0.07962122559547424,-0.14697876572608948,-0.5049918293952942,-0.5317872166633606,-0.0024479073472321033,0.008560300804674625,-0.42949527502059937,0.040692754089832306,-0.10258573293685913,-0.3516591191291809,-0.18222332000732422,0.3717670440673828,0.10369502753019333,-0.12065698206424713,-0.0369613841176033,0.3640543520450592,0.03936956077814102,0.699280858039856,0.30977946519851685,-0.5683185458183289,-0.5202277898788452,-0.010157249867916107,-0.36119842529296875,0.43501338362693787,0.47436821460723877,0.0775802880525589,0.09507834166288376,-0.001210408634506166,0.013719930313527584,-0.10293979197740555,0.012115679681301117,0.02006359212100506,-0.08299093693494797,0.4238957166671753,-2.1090292930603027,0.003603136632591486,0.616395890712738,-0.010610593482851982,0.06169624999165535,0.09915311634540558,-0.0029564928263425827,0.02232738584280014,-0.10238026082515717,-0.18926404416561127,0.028574109077453613,0.6211018562316895,-0.39332935214042664,-0.37600964307785034,0.06640342622995377,0.1026269868016243,0.012053478509187698,-0.06943649053573608,0.05658482015132904,0.1774578094482422,0.019780054688453674,0.35175997018814087,-0.2388402819633484,-0.26191121339797974,0.008259056136012077,0.8313641548156738,0.023885374888777733,-0.12622909247875214,0.5735678672790527,0.03835349529981613,0.00923837162554264,0.11658278107643127,-0.0064414069056510925,0.053864024579524994,-0.27262118458747864,-0.04489579796791077,-0.4025164246559143,-0.0969352200627327,-0.37535542249679565,-0.5398693680763245,0.7090674638748169,0.10386335104703903,1.5837191343307495,0.24193300306797028,0.32834601402282715,-0.0269466619938612,-0.021744506433606148,-0.41516226530075073,0.0005950890481472015,-0.3935281038284302,-0.01002192497253418,-0.18509487807750702,0.4486350119113922,-0.0007806010544300079,0.07973885536193848,-0.606183648109436,-0.01267002522945404,0.6790077686309814,-0.05333312973380089,-0.09410803020000458,-0.10470230877399445,-0.0073090773075819016,-0.027010472491383553,-0.03410744294524193,0.00018339569214731455,0.016156116500496864,0.06277909129858017,0.11159998923540115,0.19244316220283508,-0.1493677794933319,-0.027607813477516174,0.24769611656665802,-0.1894504725933075,0.3842768371105194,-1.9191149473190308,0.017288748174905777,0.3009216785430908,0.1170036792755127,0.07769472897052765,-0.0371599942445755,0.20791739225387573,0.053075261414051056,0.13743913173675537,0.011052081361413002,-0.40093690156936646,0.5202072858810425,0.0779627189040184,-0.014377312734723091,-0.01402023434638977,0.012763038277626038,-0.07746836543083191,-0.18322943150997162,-0.020320897921919823,0.01756713166832924,0.21800336241722107,0.28938204050064087,0.2711896598339081,0.05144042521715164,-0.0033862704876810312,0.1869582086801529,-0.012373602017760277,-1.5020806789398193,-0.008710622787475586,-0.08001136779785156,-0.017564257606863976,-0.15056408941745758,-0.088040292263031,0.4647018611431122,-0.009482862427830696,0.0014426443958655,0.09194958209991455,-0.3067872226238251,-0.2553814649581909,0.13803991675376892,-0.34325677156448364,0.11855451762676239,-0.19081833958625793,0.11353988945484161,-0.0073080528527498245,-0.014803518541157246,0.010466400533914566,-0.0044010961428284645,-0.24365755915641785,-0.16009822487831116,-0.020462559536099434,0.07294796407222748,-0.051550284028053284,-0.33608514070510864,0.012126408517360687,0.15320441126823425,0.0052164290100336075,-0.12068279087543488,-0.020500242710113525,0.6129913926124573,-0.6825635433197021,0.2798837721347809,0.6655224561691284,0.12270783632993698,-0.13523848354816437,-0.04469223693013191,0.15661725401878357,0.006023614201694727,-0.05846206843852997,-0.005745305214077234,-0.3234807252883911,-0.05720728635787964,0.1401803195476532,-0.16964860260486603,-0.03846939280629158,0.1089426577091217,-0.048864394426345825,-0.06370250880718231,0.13915956020355225,-0.2804022431373596,-0.006446502171456814,0.2078198790550232,-0.31530970335006714,0.06870381534099579,-0.5587440729141235,-0.0003815826494246721,0.2918451428413391,0.0048700422048568726,-0.012862145900726318,-0.5482956767082214,0.021168041974306107,0.02332354709506035,0.21023523807525635,0.04019278287887573,0.0026771053671836853,0.006144166924059391,0.14230003952980042,0.035772744566202164,-0.13714554905891418,0.17531639337539673,-0.4207783341407776,0.022620713338255882,-0.09334084391593933,0.34840789437294006,-0.06229761987924576,0.21541661024093628,-0.003029339015483856,-0.1553005576133728,0.19436997175216675,-0.028116144239902496,0.2329704761505127,0.5351954698562622,-0.03558535501360893,-0.00458725867792964,0.16861194372177124,-0.1862804889678955,0.037328265607357025,0.342915803194046,-0.0031608492136001587,0.057294994592666626,-0.05582849308848381,-0.07003391534090042,-0.20967622101306915,0.19738136231899261,0.14917926490306854,0.1538548320531845,0.11217547953128815,-0.006759673357009888,0.022435886785387993,0.5138224363327026,-0.07846762239933014,-0.022819556295871735,0.03393572196364403,-0.2809559106826782,-0.0031533846631646156,0.004745215177536011,0.007332887500524521,0.15019643306732178,-0.12270461767911911,0.034972649067640305,-0.24512143433094025,-0.0680340826511383,0.05565008148550987,0.10373469442129135,-0.015817560255527496,0.02317650616168976,-0.004239588975906372,0.003614914370700717,-0.1911430060863495,0.40904414653778076,-0.16203230619430542,0.09143880009651184,-0.01080580148845911,-0.2307886928319931,0.08552729338407516,0.4180828630924225,-1.1730421781539917,-0.016389407217502594,-0.3127218782901764,-0.1095963567495346,0.19480694830417633,0.017216630280017853,-0.0467299185693264,-0.05740980803966522,0.8026703000068665,0.027550939470529556,1.0257058143615723,-0.03596147894859314,-0.05370211601257324,0.021405618637800217,-0.031984228640794754,-0.051456138491630554,0.04039167985320091,-0.003967856988310814,0.1290939301252365,-0.20459292829036713,-0.22774657607078552,0.00974559597671032,-0.01056152768433094,-0.0006778289098292589,0.010179795324802399,0.02642842009663582,-0.009206540882587433,0.011287452653050423,-0.09494438767433167,0.2258186787366867,0.020625721663236618,-0.12855127453804016,-0.00587970856577158,-0.07887022942304611,-0.020825669169425964,0.22625690698623657,-0.005860505159944296,0.01056543830782175,0.13207903504371643,-0.08128492534160614,0.08159413188695908,0.06650953739881516,-0.059781525284051895,0.058104999363422394,0.3858155310153961,0.1474549025297165,0.026561085134744644,-0.699448823928833,-0.06782210618257523,-0.22392839193344116,0.186467707157135,0.11672727763652802,-0.04192247614264488,-0.034843914210796356,-0.22051063179969788,-0.004185386002063751,0.0025386903434991837,-0.18017637729644775,0.05653781071305275,0.006102449260652065,0.20355308055877686,0.4148593842983246,-0.10071667283773422,-0.12469993531703949,0.003736072452738881,-0.3022688627243042,0.21129953861236572,-0.057149291038513184,-0.2830473780632019,-0.03406339883804321,0.2089391052722931,0.040106400847435,0.9359056353569031,-3.75453382730484e-05,-0.040188439190387726,0.07481326162815094,0.20022740960121155,-0.02332061529159546,0.17457664012908936,-0.0021311785094439983,-0.04948590695858002,0.05193652957677841,-0.003121420741081238,0.0886807069182396,-0.12999789416790009,-0.2580769956111908,-0.34830766916275024,-0.014162814244627953,0.04597701132297516,-0.014831630513072014,0.1360471248626709,-0.011638501659035683,-0.1491527259349823,-0.12723612785339355,0.3250044286251068,-0.29798874258995056,-0.036177948117256165,-0.3454936444759369,-0.03405487537384033,0.4438219666481018,0.15269166231155396,0.20692181587219238,-0.40976566076278687,-0.461670458316803,-0.04944945499300957,-0.16217532753944397,0.06338297575712204,0.01600930653512478,-0.08756793290376663,-0.09444785118103027,0.05321545898914337,-0.003588724182918668,-0.04409389942884445,-0.2791287899017334,-0.28522396087646484,0.04728280007839203,0.18383675813674927,-0.17588675022125244,0.042018912732601166,-0.03543156385421753,0.3259391188621521,-0.30753082036972046,0.10352180898189545,0.05971214920282364,-0.2746257483959198,-0.06656590849161148,0.4215008616447449,0.0329752154648304,0.05125739052891731,-0.024860404431819916,-0.05366359278559685,-0.13866160809993744,-7.758289575576782e-05,0.2488739788532257,-0.029675506055355072,-0.10626310110092163,0.11360467970371246,-1.3244596719741821,0.017381079494953156,-0.09620963037014008,0.07580181956291199,0.11852647364139557,0.011217687278985977,-0.015641966834664345,-0.21927200257778168,-0.1384863555431366,-0.08665125072002411,0.1828480064868927,0.5053833723068237,-0.21260441839694977,0.41425010561943054,-0.3098258376121521,-0.03963763639330864,-0.04434724152088165,0.18684756755828857,0.0688481330871582,-0.1977221667766571,0.07280804216861725,0.03459716588258743,0.21945565938949585,-0.19907011091709137,-0.014817904680967331,0.04524775594472885,0.0017359830671921372,-0.037704091519117355,0.007543981075286865,-0.004134339280426502,0.007913641631603241,-0.004747502040117979,0.02019759640097618,-0.39145299792289734,0.016695495694875717,-0.07949091494083405,-0.13023419678211212,-0.24285128712654114,-0.38082748651504517,0.024685455486178398,0.16584937274456024,0.1918884515762329,-0.003586134873330593,0.10148170590400696,-0.1495949625968933,0.03137868642807007,-0.02693045325577259,-0.0036704465746879578,0.06593544781208038,0.3264107406139374,-0.01265011914074421,0.47280651330947876,-0.056651219725608826,-0.0033989660441875458,0.7316529154777527,0.05508105829358101,0.052133407443761826,-0.11541333794593811,0.027925094589591026,0.009122135117650032,-0.103705033659935,-0.4006653130054474,0.024520888924598694,0.013995970599353313,-0.16526596248149872,0.2551284432411194,-0.30371254682540894,0.06345857679843903,-0.017765430733561516,0.034910283982753754,0.019306305795907974,0.24771103262901306,-0.07005076110363007,0.027225734665989876,-0.010620495304465294,0.019946737214922905,0.5578354001045227,-0.04172806441783905,-0.12103921920061111,0.14395001530647278,0.04637768119573593,-0.0680670291185379,-0.08934950828552246,-0.3365882635116577,0.009350398555397987,-0.13942012190818787,0.14703772962093353,0.016459781676530838,-0.19380348920822144,-0.07871253043413162,0.02097437158226967,0.29869332909584045,-0.18884071707725525,-0.007396478205919266,-0.4452724754810333,0.04807569831609726,-0.010372400283813477,-0.014494984410703182,0.24598443508148193,-0.13716289401054382,-0.033624038100242615,0.003028077306225896,0.0431986078619957,0.15755169093608856,-0.18043288588523865,0.006165040656924248,-0.0831562802195549,-0.11800837516784668,-0.1307336986064911,-0.02003290131688118,-0.1572224199771881,0.03480973094701767,-0.18929830193519592,0.0006421434227377176,-0.25543412566185,-0.22061482071876526,-0.07250363379716873,-0.00041537208016961813,-0.12196483463048935,-0.00753544457256794,-0.14875729382038116,0.06316609680652618,-0.025626767426729202,-0.017562072724103928,0.004828222095966339,0.0002679786703083664,0.19594193994998932,0.02268882654607296,0.019171861931681633,-0.025075960904359818,-0.02512970007956028,-0.06441666185855865,-0.050943322479724884,0.07060982286930084,-0.04383958876132965,-0.09992226213216782,-0.43433311581611633,-0.1190236434340477,0.11644517630338669,0.19198262691497803,-0.0010351046221330762,0.21046359837055206,-0.014914002269506454,-0.016249727457761765,-0.07765727490186691,0.07971404492855072,-0.007699545007199049,-1.214691162109375,0.18366016447544098,0.04752710461616516,-0.1145152673125267,0.005078377667814493,-0.00124348234385252,0.035541389137506485,-0.15806354582309723,-0.06307028979063034,0.012707646936178207,-0.31544458866119385,0.038776665925979614,-0.04688006639480591,0.2925395667552948,0.2344481348991394,0.030208617448806763,-0.0028325561434030533,0.017689429223537445,-0.12917715311050415,0.1677972674369812,-0.07443816214799881,0.24714572727680206,0.32507747411727905,0.23848022520542145,0.3714003264904022,0.5417562127113342,1.079699158668518,-0.30509835481643677,-0.05853588134050369,0.050722867250442505,-0.026010192930698395,-0.06376571953296661,0.1640072762966156,0.09650017321109772,-0.2721948027610779,0.18192531168460846,0.005123265087604523,-0.14488118886947632,0.0822763741016388,-0.003138716798275709,0.1789582520723343,-0.05995743349194527,-0.10762739181518555,-0.010919198393821716,0.23602642118930817,-0.043139319866895676,0.002870555967092514,0.038634635508060455,0.10427114367485046,-0.009977798908948898,-0.11212541162967682,0.14253783226013184,-0.19376011192798615,0.018637891858816147,0.09704819321632385,-0.1665317714214325,0.10118290781974792,-0.07336748391389847,0.12575222551822662,0.015080247074365616,0.08011116087436676,0.001943334937095642,0.012238427996635437,0.2974507510662079,0.42268869280815125,0.40334975719451904,-0.018500374630093575,0.03132142499089241,0.028585657477378845,-1.0400011539459229,0.13900534808635712,-0.053035542368888855,0.017738493159413338,-0.12158918380737305,0.0852159634232521,0.7433187961578369,-0.1485016644001007,0.0027056527324020863,-0.18818935751914978,0.0823233351111412,0.027975857257843018,0.3623221516609192,-0.038114529103040695,0.2596280574798584,-0.1849190890789032,0.04895663261413574,0.049085330218076706,-0.0020660385489463806,0.20312586426734924,1.3601484298706055,-0.20789889991283417,0.1904432326555252,0.0713336169719696,0.05326592177152634,-0.045607566833496094,-0.015343321487307549,-0.0030975849367678165,-0.4235111474990845,0.01330478023737669,-0.010654895566403866,0.03524082899093628,-0.0429728738963604,0.3902286887168884,0.5339924097061157,-0.2302919179201126,-0.24906720221042633,-0.07381321489810944,-0.06333054602146149,-0.06665641069412231,-0.03579124063253403,0.2676076889038086,0.028382591903209686,-0.2567245066165924,-0.011267796158790588,0.005936881527304649,-0.0339704304933548,-0.07500386238098145,-0.2804467976093292,0.2628711462020874,-0.2789543867111206,0.07579460740089417,0.11864867806434631,0.009157221764326096,-0.10966002941131592,-0.26202473044395447,0.2687529921531677,-0.017729297280311584,0.1346263438463211,0.321713387966156,-0.25934934616088867,-0.0437818206846714,0.08268194645643234,-0.004900280386209488,0.02164877951145172,0.03354703262448311,0.003570874221622944,0.06554728001356125,-0.38446176052093506,-0.11457573622465134,0.016953015699982643,0.040630538016557693,-0.06754980981349945,0.004665479063987732,-0.07033328711986542,0.022922813892364502,0.1797632873058319,0.07747494429349899,0.056665606796741486,-0.15678048133850098,0.11088871955871582,-0.0646042451262474,-0.10015878081321716,0.18292459845542908,-0.23815463483333588,-0.19648584723472595,-0.3951951265335083,-0.38386860489845276,-0.0210246741771698,0.16782985627651215,0.01641281694173813,-0.09213855862617493,0.5493018627166748,-0.08426351845264435,0.32407116889953613,0.00807725265622139,0.12888352572917938,-0.23981855809688568,0.34097522497177124,0.3332309424877167,0.26172006130218506,0.05293906107544899,0.13825464248657227,-0.03674311935901642,0.006164701655507088,-0.13756373524665833,-0.126165971159935,-0.001242743106558919,-0.02609904855489731,-0.0007171295583248138,-0.029155977070331573,-0.04570808261632919,-0.12200908362865448,0.021898794919252396,0.09695946425199509,-0.5479739904403687,-0.4185561537742615,0.0692206546664238,-0.05979370325803757,0.024863019585609436,0.004394873045384884,-0.5644100904464722,-0.37439286708831787,-0.3935030996799469,-0.002725487109273672,0.13325220346450806,-0.018472352996468544,-0.5774548649787903,-0.07223185151815414,0.1731111705303192,-0.007333867251873016,-0.0012868097983300686,-0.21807226538658142,-0.18477866053581238,0.0070681446231901646,-0.122072733938694,-0.31622314453125,0.09027939289808273,0.03177545219659805,-0.12467304617166519,-0.0030295217875391245,-0.260768324136734,-0.05866355076432228,0.022884823381900787,0.00033389264717698097,-0.015111390501260757,-0.01808147318661213,0.4061800241470337,0.0300674457103014,0.005928098224103451,0.06373648345470428,0.07219472527503967,-0.23309001326560974,0.2816726863384247,0.41645944118499756,-0.22953231632709503,-0.050623901188373566,-0.021406006067991257,-0.04605068638920784,0.008091282099485397,0.47125545144081116,0.011514991521835327,0.017505435273051262,0.13745848834514618,-0.27297013998031616,0.06034941226243973,0.06180566921830177,-0.10683342814445496,0.040751684457063675,0.02481181174516678,-0.22553011775016785,-0.0016554477624595165,-0.10575391352176666,-0.37470099329948425,-0.03909621387720108,0.1779121458530426,-0.0015491575468331575,-0.24111111462116241,0.04888256639242172,-0.3319458067417145,-0.08434449881315231,0.004597786348313093,-0.25400614738464355,-0.30149173736572266,-0.016972526907920837,-0.36137717962265015,-0.042848989367485046,0.012077677994966507,0.13293004035949707,-0.009161388501524925,-0.0028423042967915535,-0.2915160655975342,-0.02973736822605133,0.016618000343441963,0.2682839035987854,-0.6302764415740967,-0.00044250907376408577,0.035165317356586456,-0.2697504460811615,0.0545923113822937,0.14912880957126617,0.2525705397129059,-0.007877911441028118,0.08456381410360336,-0.042439453303813934,0.3937392830848694,-0.4910733103752136,0.03268546238541603,0.047472041100263596,-0.13652336597442627,0.4242795407772064,0.005398578941822052,0.36261868476867676,-0.06588909029960632,-0.09994694590568542,-0.04553841054439545,0.0355503112077713,0.1821529120206833,-0.060290414839982986,0.5093828439712524,0.057622820138931274,-0.07717709243297577,-0.0017846040427684784,-0.006874630227684975,-0.03510229289531708,-0.10927419364452362,-0.10273326933383942,-0.027850434184074402,0.18179050087928772,-0.007486894726753235,0.3218555152416229,0.2927520275115967,0.613212525844574,-0.18519246578216553,-0.010544970631599426,0.01800713688135147,0.3082757592201233,-0.0519300252199173,-0.21727235615253448,0.04156401753425598,-0.21257781982421875,0.11503159999847412,0.018594274297356606,0.0033658118918538094,0.01278817467391491,0.0729740709066391,-0.4843549132347107,0.35974007844924927,0.2639354467391968,0.036621205508708954,-0.01425868459045887,-0.01738107204437256,-0.44781556725502014,0.013508114963769913,0.004530796781182289,0.051071956753730774,0.19396112859249115,-0.026298493146896362,0.02101093903183937,0.038539983332157135,0.038980633020401,0.008677300997078419,-0.17596328258514404,0.19026613235473633,0.15274454653263092,-0.9555586576461792,0.006414331495761871,0.08597807586193085,0.024876341223716736,-0.23163357377052307,0.07032657414674759,-0.021697998046875,-0.007324346341192722,0.055732402950525284,-0.003920527640730143,0.03176838904619217,0.005132849793881178,0.025479737669229507,0.18148590624332428,-0.16687825322151184,-0.3441842198371887,0.23450106382369995,0.3997367024421692,-0.004172906279563904,-0.01812254637479782,-0.1604965329170227,-0.06931070983409882,0.0074999406933784485,0.03719392791390419,0.0173480324447155,0.03427831083536148,-0.29398781061172485,0.22949975728988647,-0.3532598614692688,0.08372025191783905,-0.042775291949510574,0.07643982768058777,0.2324656844139099,-0.16170893609523773,-0.11772733926773071,-0.001204073429107666,0.29553908109664917,-0.0690840482711792,0.014716889709234238,0.05093826353549957,-0.3450269103050232,-0.07011072337627411,0.22630280256271362,0.04096662253141403,-0.11623112857341766,-0.38287681341171265,0.16216838359832764,0.010934378951787949,0.0013553991448134184,-0.7836613655090332,0.024767234921455383,-0.14319752156734467,0.015829306095838547,-0.030304834246635437,-0.021492328494787216,-0.011659756302833557,0.11236359179019928,0.14502370357513428,0.0008431652095168829,0.05901988595724106,-0.4120350480079651,-0.0011707358062267303,-0.3953869342803955,-0.028165346011519432,0.057437099516391754,0.0002494771033525467,-0.42525869607925415,0.2752496004104614,-0.49034950137138367,-0.012959948740899563,-0.24384331703186035,-0.0772898942232132,0.1502149999141693,-0.24949923157691956,0.07504966109991074,0.10036498308181763,-0.4321885108947754,0.4646139144897461,-0.07656683772802353,0.04517744109034538,-0.07617729157209396,-0.13129626214504242,0.008222740143537521,-0.013436117209494114,-0.10385583341121674,0.1853577345609665,0.12806877493858337,0.0464487299323082,-0.23590800166130066,0.0031942538917064667,0.11629674583673477,-0.06797588616609573,0.01488578412681818,0.10292252153158188,0.024552129209041595,-0.006959768012166023,-0.06031440198421478,-0.25104162096977234,-0.020503345876932144,-0.1698722243309021,-0.005193458870053291,-0.002814573934301734,0.2368682324886322,0.06453374028205872,-0.027057774364948273,0.12406392395496368,0.031705789268016815,0.0689651295542717,-0.09410572797060013,0.1972905695438385,0.2124340534210205,-0.1305018961429596,-0.09011659026145935,0.30508601665496826,0.08800647407770157,0.08776199072599411,-0.011301727034151554,0.023082423955202103,0.04567626863718033,-0.018081285059452057,0.16268682479858398,-0.009453283622860909,-0.017486779019236565,0.22925391793251038,-0.13573303818702698,-0.009582042694091797,0.0007393644191324711,0.17496097087860107,-0.016334116458892822,-0.026706933975219727,-0.060467611998319626,0.03356292098760605,0.11047656834125519,0.18186359107494354,0.16764086484909058,0.5389047861099243,0.10353127121925354,0.06557761132717133,-0.039315205067396164,-0.06425417959690094,0.09529674053192139,0.37386569380760193,0.10862340033054352,-0.04585963487625122,-0.059663161635398865,-0.022164074704051018,-0.523669421672821,-0.04141812026500702,0.12503904104232788,-0.24896171689033508,-0.0634760782122612,0.11957842111587524,0.16222050786018372,-0.27366262674331665,-0.18028157949447632,0.06624679267406464,-0.0355750247836113,0.10834828019142151,-0.21596208214759827,0.008588775061070919,-0.023630786687135696,0.007300373632460833,0.15761138498783112,-0.6709553003311157,-0.10530117154121399,-0.08678540587425232,0.2964566648006439,0.10028375685214996,-0.009330019354820251,-0.28033262491226196,0.05956919863820076,-0.2536693215370178,0.08509531617164612,-0.15483078360557556,-0.006883266381919384,0.04137207567691803,-0.009520521387457848,0.019502166658639908,0.023125093430280685,0.03459277004003525,0.3318830132484436,-0.04866167902946472,0.0036560148000717163,0.0818861797451973,0.372873455286026,-0.09016498923301697,0.11247790604829788,0.20025140047073364,-0.01823585294187069,-0.4130001664161682,-0.0001995675265789032,0.02765597030520439,-0.3564774692058563,-0.0047195833176374435,0.12765763700008392,0.045049212872982025,0.05418374389410019,-0.06732701510190964,0.019662387669086456,0.03788895905017853,-0.04244518652558327,-0.10647689551115036,0.04529357701539993,-0.035933222621679306,0.2950887680053711,0.14135269820690155,-0.11506136506795883,-0.04409865289926529,0.02348039299249649,-0.17090341448783875,-0.07949309051036835,-0.004166377708315849,0.02713632583618164,-0.0002492479979991913,-0.00764641584828496,0.01785966008901596,0.013560842722654343,-0.03490998595952988,-0.055703312158584595,-0.07339192926883698,0.12097100168466568,-0.06517636775970459,0.27666836977005005,-0.4404557943344116,0.13269859552383423,-0.055568501353263855,0.03457466512918472,0.0043852850794792175,0.3876342177391052,0.02078978717327118,-0.056780822575092316,0.13770286738872528,-0.2142232358455658,-0.12325111031532288,-0.032437149435281754,-0.3796344995498657,0.014105470851063728,-0.2987082004547119,-0.09485387057065964,-0.002338513731956482,0.03759964555501938,-0.4632079005241394,0.26098477840423584,0.013724766671657562,0.0705123096704483,-0.045255355536937714,0.1744130253791809,-0.09896503388881683,-0.555888831615448,-0.09744413197040558,0.06493052840232849,0.07950620353221893,-0.002677259501069784,-0.20420517027378082,-0.04917219653725624,0.23302969336509705,0.04043382778763771,0.0660490170121193,0.1724381297826767,-0.05489194393157959,-0.0259009450674057,0.05795300751924515,-0.0349276065826416,-0.08620849996805191,-0.021578863263130188,0.005856113508343697,-0.02688281610608101,-0.3744884729385376,0.013531728647649288,-0.21223102509975433,-0.15480664372444153,0.043509043753147125,0.2848944664001465,0.1206260621547699,-0.03493718057870865,-0.06470250338315964,-0.03233754634857178,0.27558434009552,-0.09965761005878448,-0.027086958289146423,-0.15864837169647217,-0.0029022395610809326,0.3967164158821106,-0.1013934463262558,-0.3013930916786194,0.029018305242061615,0.002079188823699951,0.07383926212787628,-0.03878264129161835,0.03516381233930588,0.04225032031536102,-0.0236409530043602,0.016601357609033585,-0.10555242747068405,-0.002313971519470215,0.0711984932422638,0.0891350507736206,0.042412858456373215,0.030007388442754745,0.07531733810901642,-0.0364418625831604,0.013513974845409393,-0.09028380364179611,0.135166198015213,-0.41392990946769714,0.06838976591825485,-0.041712235659360886,0.13087934255599976,-0.0027326149865984917,0.05808787792921066,0.32027292251586914,0.01368640922009945,0.014437392354011536,-0.01613806001842022,-0.09731708467006683,-0.09199009835720062,-0.03419523686170578,0.07990438491106033,0.04781259596347809,0.03978338837623596,0.015321426093578339,0.1293879598379135,0.14139620959758759,-0.11512245237827301,0.014713525772094727,0.23406849801540375,-0.07422227412462234,0.014627158641815186,-0.02316495031118393,0.24871501326560974,0.010560003109276295,-0.01689477078616619,0.006556658074259758,0.11711473017930984,-0.045860663056373596,-0.19848769903182983,0.0540301650762558,0.2333575338125229,-0.007258894387632608,0.3672730326652527,-0.021534502506256104,-0.02645896002650261,0.19612644612789154,0.2286926507949829,0.007194270845502615,0.13229744136333466,0.032757822424173355,0.0036912355571985245,0.02517644688487053,0.0831156000494957,-0.11827710270881653,-0.017509033903479576,0.07786112278699875,-0.06803335249423981,-0.04123888909816742,-0.14144335687160492,0.19523277878761292,0.17253859341144562,0.005468208808451891,-0.1748148500919342,-0.03897128999233246,0.6815463304519653,-0.035517118871212006,-0.24634838104248047,0.021115140989422798,-0.04736518859863281,-0.29417115449905396,0.31682831048965454,-0.00256966520100832,-0.009741868823766708,-0.20415480434894562,-0.022091558203101158,0.04979000985622406,0.03967918083071709,-0.1788444221019745,-0.39757198095321655,-0.06932379305362701,0.1403445303440094,-0.035015277564525604,0.02304219827055931,-0.09548763930797577,-0.12489055097103119,-0.019030649214982986,0.1971675306558609,-0.3578304052352905,0.05698449909687042,-0.13855472207069397,0.02511906437575817,0.30124107003211975,0.0016271844506263733,-0.10403698682785034,0.006710837595164776,-0.19486799836158752,-0.09740819782018661,-0.02634267508983612,-0.09997245669364929,-0.010954577475786209,0.023520398885011673,0.1594599485397339,0.04932551831007004,0.0007851775735616684,0.0577656552195549,-0.0018515426199883223,0.09043247997760773,0.006723120808601379,0.09202803671360016,0.051392558962106705,-0.39050960540771484,-0.30399763584136963,-0.014521641656756401,-0.06098751351237297,-0.1141689121723175,0.026664413511753082,-0.03321937844157219,0.06732310354709625,-0.11774865537881851,-0.4314079284667969,-0.24502688646316528,-0.0871267318725586,0.026226814836263657,0.019252583384513855,-0.17942915856838226,-0.02822350338101387,0.223129540681839,0.04842022433876991,0.16593621671199799,0.18876022100448608,0.23766261339187622,-0.038644857704639435,-0.056691814213991165,0.021125800907611847,-0.08012129366397858,0.02996501512825489,-0.0006657838821411133,-0.07360798120498657,0.1928378939628601,-0.00223621167242527,0.7929332256317139,-0.044862471520900726,0.13238292932510376,-0.08770211786031723,-0.05830037593841553,0.27162081003189087,0.0017405077815055847,0.062074288725852966,-0.21793881058692932,-0.1727580428123474,-0.41126734018325806,0.11332244426012039,0.00044669024646282196,0.4400723874568939,0.039250731468200684,-0.1524026095867157,0.12094235420227051,0.15177571773529053,-0.012254014611244202,-0.006556090898811817,-1.066480278968811,-0.2503901422023773,-0.004155239090323448,0.14405976235866547,0.22224584221839905,0.5017938017845154,-0.09046302735805511,-0.06731200963258743,0.01648440584540367,0.3032323718070984,0.1894759237766266,0.04034045338630676,0.08917009830474854,-0.004207625985145569,-0.26836493611335754,0.2926493287086487,0.13074754178524017,0.08631124347448349,-0.060507241636514664,-0.06705307215452194,0.03542110323905945,0.019397497177124023,-0.1397392302751541,-0.0044592805206775665,0.003197988960891962,0.04430082067847252,0.03051990643143654,0.010799678042531013,-0.3570122718811035,-0.0036343499086797237,-0.058602817356586456,0.06205713376402855,0.34836795926094055,-0.02838164195418358,0.21018381416797638,-0.04134950414299965,-0.01966734603047371,0.414045512676239,-0.011707669124007225,0.3168787360191345,0.19170236587524414,-0.035696737468242645,-0.04761346057057381,-0.0217269454151392,0.1197015717625618,-0.14018233120441437,-0.12188370525836945,-0.10965262353420258,0.05431513115763664,-0.011345639824867249,-0.056799303740262985,0.024393171072006226,0.11146032065153122,0.07459281384944916,0.26340606808662415,-0.017659790813922882,-0.04345965385437012,-0.6836772561073303,0.43367037177085876,0.012090596370398998,0.07056166231632233,-0.05266568437218666,0.14938029646873474,0.06288383156061172,-0.24418455362319946,-0.1576770693063736,0.13536876440048218,-0.5071729421615601,-0.04998166114091873,-0.044818244874477386,-0.16370677947998047,0.23218022286891937,0.0015753319021314383,0.018102480098605156,-0.07688401639461517,0.07576767355203629,-0.32404232025146484,0.07453852891921997,-0.1464223861694336,-0.0008242287440225482,-0.04623839259147644,0.09930761158466339,0.034042537212371826,0.7567728757858276,-0.1979445517063141,0.021669631823897362,-0.08348490297794342,-0.047761596739292145,0.3673209249973297,0.15239301323890686,-0.0793704241514206,0.08251269906759262,0.017896156758069992,0.07453809678554535,-0.5502802133560181,-0.053703054785728455,0.010074857622385025,0.08954362571239471,0.47599875926971436,-0.06411155313253403,-0.035000063478946686,-0.23713019490242004,-0.022004058584570885,0.03233744204044342,0.313911110162735,0.27415502071380615,0.05018738657236099,0.5095513463020325,0.08564454317092896,-0.0391552709043026,-0.0062653678469359875,-0.018317269161343575,0.054569270461797714,-0.6411926746368408,-0.024723194539546967,0.2628190517425537,-0.2096904069185257,-0.035431157797575,-0.28724709153175354,-0.12521842122077942,-0.02613876946270466,0.06105406582355499,0.09291089326143265,-0.2953649163246155,0.4884882867336273,0.02110626921057701,0.058221910148859024,-0.16850674152374268,0.037563346326351166,0.1722809225320816,0.4749765992164612,0.3329983949661255,0.06779765337705612,0.16389010846614838,-0.24133947491645813,-0.04588399827480316,-0.10199302434921265,0.06859651952981949,0.02302613854408264,-0.006362752988934517,-0.04219146817922592,-0.6063889861106873,-0.10161247849464417,-0.15083731710910797,0.086363285779953,0.09493687003850937,-0.004165413789451122,-0.48177003860473633,0.015296116471290588,0.16024963557720184,0.06323343515396118,0.07963772118091583,0.15498793125152588,0.1326465904712677,0.05997496098279953,0.04804861545562744,-0.04471689090132713,0.1316271424293518,0.038326527923345566,0.03919064626097679,-0.1028624027967453,-0.2281806766986847,0.5481102466583252,-0.05308881774544716,0.11094099283218384,-0.03786558285355568,0.05828145146369934,0.5208431482315063,-0.06648658961057663,-0.06176836043596268,0.006536347791552544,0.1679781675338745,0.09529826045036316,-0.007511656265705824,-0.12681478261947632,0.021885599941015244,-0.09224829077720642,-0.18596506118774414,0.07792630046606064,0.15672078728675842,-0.27767008543014526,0.21893535554409027,0.03709704428911209,0.842626690864563,0.011379001662135124,0.05346115678548813,-0.7136720418930054,-0.23870927095413208,-0.34825676679611206,0.07749269157648087,-0.08894434571266174,-0.18343877792358398,-0.005279368720948696,-0.007014215923845768,0.11577069014310837,-0.04943598806858063,0.02347082644701004,0.03545302525162697,-0.5908905267715454,-0.1794300675392151,-0.4609789550304413,0.1977696716785431,0.13158906996250153,0.03202076256275177,-0.001355871558189392,0.033037420362234116,-0.1499590128660202,-0.03489946946501732,0.03864226117730141,-0.7606525421142578,0.007192142307758331,0.19152480363845825,0.2778017520904541,-0.18664954602718353,-0.1925419121980667,-0.4302505552768707,-0.040328916162252426,-0.03784482926130295,0.06535966694355011,-0.1904258131980896,0.1482982337474823,-0.10234524309635162,-0.4097003638744354,-0.02773534692823887,-0.005549930036067963,0.2496546506881714,0.04907345026731491,-0.07487134635448456,0.1621631383895874,0.0063559673726558685,-0.025649409741163254,-0.7490997314453125,0.09975742548704147,0.11451776325702667,0.5399600267410278,0.003938112407922745,-0.0646710991859436,-0.2896854281425476,-0.040282487869262695,0.25856778025627136,0.1426900327205658,-0.029377220198512077,-0.12166715413331985,0.0011631548404693604,0.027387451380491257,0.0008603364694863558,0.04817032068967819,0.01300670113414526,0.9176400899887085,0.17285434901714325,-0.15526586771011353,-0.040411725640296936,0.29576852917671204,-0.05868467688560486,-0.3615911602973938,0.055062033236026764,0.35606884956359863,0.0030265003442764282,-0.10324180126190186,-0.0549890398979187,-0.19414649903774261,-0.014094779267907143,-0.04773314669728279,-0.49243292212486267,-0.09211321175098419,0.18257910013198853,-0.1615779846906662,-0.7297214269638062,0.0024246945977211,0.7672128081321716,-0.34777456521987915,-0.10890275239944458,0.02525031566619873,-0.27323174476623535,0.11304814368486404,0.10748973488807678,-0.07116478681564331,-0.009186068549752235,-0.25559163093566895,0.014158044010400772,0.09137354791164398,0.025951169431209564,0.04941001161932945,-0.7049251794815063,-0.20525303483009338,-0.012954935431480408,0.2299785315990448,-0.05432307720184326,-0.08050965517759323,-0.038172271102666855,0.08687788993120193,0.2618563175201416,-0.7386559247970581,-0.11550188064575195,-0.10511370748281479,0.11420697718858719,-0.056759774684906006,0.2230793833732605,-0.26315250992774963,0.13877499103546143,0.007908394560217857,-0.07523875683546066,0.12125872075557709,0.22753718495368958,-0.09076724946498871,0.11469960957765579,0.6122559309005737,-0.25297197699546814,1.7923280000686646,0.14045044779777527,0.2605363130569458,0.2154228389263153,0.01174020767211914,0.6281537413597107,-0.09767589718103409,0.01765097863972187,0.34121671319007874,-0.3435179889202118,-0.019356848672032356,-0.7073671817779541,-1.0195927619934082,0.0204235278069973,-0.09276239573955536,0.06138506531715393,1.3647047281265259,0.051315102726221085,-0.06800593435764313,-0.29916608333587646,0.15647631883621216,0.1438932567834854,-0.20175907015800476,0.004793927073478699,-0.04607608914375305,0.009443516843020916,-0.22777822613716125,-0.5394399762153625,-0.0711408331990242,0.1861405372619629,-0.49301213026046753,0.026462381705641747,-0.007927324622869492,0.02203400619328022,-0.24516209959983826,0.4009886384010315,-0.0829804539680481,0.19636356830596924,-0.04447563737630844,0.001446915091946721,-0.03778189793229103,0.3728986978530884,-0.37286072969436646,-0.0040766894817352295,0.32301971316337585,0.2103082537651062,0.4435505270957947,0.27263832092285156,-0.038095686584711075,-0.34733229875564575,0.3517015278339386,0.11054080724716187,-0.3187500536441803,-0.009924892336130142,0.004450640641152859,-0.00017778706387616694,-2.487092971801758,0.024368979036808014,0.08013010025024414,-0.3599790632724762,-0.5961368083953857,-0.07567130774259567,0.18049922585487366,-0.36162686347961426,0.07750155031681061,-0.005664592143148184,-0.1317782998085022,-0.13045161962509155,0.10270068049430847,-1.6081774234771729,0.529386043548584,-0.5521142482757568,-0.2911299169063568,0.17397817969322205,0.003173086792230606,0.34104472398757935,-0.7804727554321289,-0.02767317369580269,0.2419179081916809,-0.1129501685500145,-0.0009795830119401217,0.059586185961961746,0.6951087117195129,0.2329309731721878,0.006502591073513031,-0.18648752570152283,-0.02558707445859909,-0.14406703412532806,-0.3819091022014618,-0.001515612006187439,0.05779255926609039,0.11723420023918152,-0.021518640220165253,0.1434336006641388,0.4546453654766083,-0.06636354327201843,0.043772220611572266,-0.002295087557286024,0.2843862771987915,0.15613624453544617,0.006263724062591791,0.24882394075393677,-0.0007592630572617054,0.01902708411216736,0.09125567972660065,-0.057529110461473465,-0.016606492921710014,0.5702786445617676,-0.13073419034481049,0.25031545758247375,-0.06721088290214539,-0.012485906481742859,0.27204999327659607,0.12921930849552155,0.5639893412590027,0.034964725375175476,-0.07105091959238052,-0.20138627290725708,-0.02405650168657303,0.025493495166301727,0.2661285996437073,0.023319892585277557,-0.1956281065940857,0.32293403148651123,-0.10645903646945953,-0.17136457562446594,0.04287084564566612,-0.02966044656932354,0.19728626310825348,0.03516610711812973,-0.091997891664505,-0.1221180111169815,-0.037716083228588104,0.17379748821258545,-0.16576141119003296,0.5208814144134521,0.005943648517131805,-0.10589724779129028,0.01494000107049942,-0.017348140478134155,-0.3031415641307831,0.14622777700424194,0.3298147916793823,0.11801303923130035,-0.257787823677063,0.264268696308136,-0.09458757191896439,-0.23634877800941467,0.08417605608701706,-0.0022000111639499664,0.0002580564469099045,-0.06237038969993591,0.06705270707607269,0.13040634989738464,0.657099723815918,0.12498068064451218,-0.06861555576324463,0.10876208543777466,0.08748288452625275,0.3383004069328308,0.06288257241249084,-0.11386267840862274,-0.09565889835357666,0.36111223697662354,0.12781380116939545,0.04033823311328888,0.490756630897522,0.16144190728664398,-0.014227405190467834,0.04927215352654457,-0.32108622789382935,0.029458753764629364,0.00045102648437023163,0.02911624312400818,0.3537880778312683,-0.1362847238779068,0.041609879583120346,0.26006826758384705,0.35655638575553894,0.03140512853860855,0.026253901422023773,-0.13831035792827606,-0.5079618096351624,-0.06434613466262817,0.3102051913738251,0.12285720556974411,0.14765721559524536,1.0473405122756958,0.01660500466823578,-0.04163810983300209,0.07143627107143402,0.1416705846786499,-0.04563036188483238,-0.03173622861504555,-0.3359536826610565,-0.42476922273635864,0.24125167727470398,0.05719631910324097,0.004242613911628723,-0.02108168601989746,0.09494715929031372,-0.012764227576553822,0.34245163202285767,0.20213082432746887],\"xaxis\":\"x\",\"yaxis\":\"y\",\"type\":\"histogram\"}],                        {\"template\":{\"data\":{\"histogram2dcontour\":[{\"type\":\"histogram2dcontour\",\"colorbar\":{\"outlinewidth\":0,\"ticks\":\"\"},\"colorscale\":[[0.0,\"#0d0887\"],[0.1111111111111111,\"#46039f\"],[0.2222222222222222,\"#7201a8\"],[0.3333333333333333,\"#9c179e\"],[0.4444444444444444,\"#bd3786\"],[0.5555555555555556,\"#d8576b\"],[0.6666666666666666,\"#ed7953\"],[0.7777777777777778,\"#fb9f3a\"],[0.8888888888888888,\"#fdca26\"],[1.0,\"#f0f921\"]]}],\"choropleth\":[{\"type\":\"choropleth\",\"colorbar\":{\"outlinewidth\":0,\"ticks\":\"\"}}],\"histogram2d\":[{\"type\":\"histogram2d\",\"colorbar\":{\"outlinewidth\":0,\"ticks\":\"\"},\"colorscale\":[[0.0,\"#0d0887\"],[0.1111111111111111,\"#46039f\"],[0.2222222222222222,\"#7201a8\"],[0.3333333333333333,\"#9c179e\"],[0.4444444444444444,\"#bd3786\"],[0.5555555555555556,\"#d8576b\"],[0.6666666666666666,\"#ed7953\"],[0.7777777777777778,\"#fb9f3a\"],[0.8888888888888888,\"#fdca26\"],[1.0,\"#f0f921\"]]}],\"heatmap\":[{\"type\":\"heatmap\",\"colorbar\":{\"outlinewidth\":0,\"ticks\":\"\"},\"colorscale\":[[0.0,\"#0d0887\"],[0.1111111111111111,\"#46039f\"],[0.2222222222222222,\"#7201a8\"],[0.3333333333333333,\"#9c179e\"],[0.4444444444444444,\"#bd3786\"],[0.5555555555555556,\"#d8576b\"],[0.6666666666666666,\"#ed7953\"],[0.7777777777777778,\"#fb9f3a\"],[0.8888888888888888,\"#fdca26\"],[1.0,\"#f0f921\"]]}],\"heatmapgl\":[{\"type\":\"heatmapgl\",\"colorbar\":{\"outlinewidth\":0,\"ticks\":\"\"},\"colorscale\":[[0.0,\"#0d0887\"],[0.1111111111111111,\"#46039f\"],[0.2222222222222222,\"#7201a8\"],[0.3333333333333333,\"#9c179e\"],[0.4444444444444444,\"#bd3786\"],[0.5555555555555556,\"#d8576b\"],[0.6666666666666666,\"#ed7953\"],[0.7777777777777778,\"#fb9f3a\"],[0.8888888888888888,\"#fdca26\"],[1.0,\"#f0f921\"]]}],\"contourcarpet\":[{\"type\":\"contourcarpet\",\"colorbar\":{\"outlinewidth\":0,\"ticks\":\"\"}}],\"contour\":[{\"type\":\"contour\",\"colorbar\":{\"outlinewidth\":0,\"ticks\":\"\"},\"colorscale\":[[0.0,\"#0d0887\"],[0.1111111111111111,\"#46039f\"],[0.2222222222222222,\"#7201a8\"],[0.3333333333333333,\"#9c179e\"],[0.4444444444444444,\"#bd3786\"],[0.5555555555555556,\"#d8576b\"],[0.6666666666666666,\"#ed7953\"],[0.7777777777777778,\"#fb9f3a\"],[0.8888888888888888,\"#fdca26\"],[1.0,\"#f0f921\"]]}],\"surface\":[{\"type\":\"surface\",\"colorbar\":{\"outlinewidth\":0,\"ticks\":\"\"},\"colorscale\":[[0.0,\"#0d0887\"],[0.1111111111111111,\"#46039f\"],[0.2222222222222222,\"#7201a8\"],[0.3333333333333333,\"#9c179e\"],[0.4444444444444444,\"#bd3786\"],[0.5555555555555556,\"#d8576b\"],[0.6666666666666666,\"#ed7953\"],[0.7777777777777778,\"#fb9f3a\"],[0.8888888888888888,\"#fdca26\"],[1.0,\"#f0f921\"]]}],\"mesh3d\":[{\"type\":\"mesh3d\",\"colorbar\":{\"outlinewidth\":0,\"ticks\":\"\"}}],\"scatter\":[{\"fillpattern\":{\"fillmode\":\"overlay\",\"size\":10,\"solidity\":0.2},\"type\":\"scatter\"}],\"parcoords\":[{\"type\":\"parcoords\",\"line\":{\"colorbar\":{\"outlinewidth\":0,\"ticks\":\"\"}}}],\"scatterpolargl\":[{\"type\":\"scatterpolargl\",\"marker\":{\"colorbar\":{\"outlinewidth\":0,\"ticks\":\"\"}}}],\"bar\":[{\"error_x\":{\"color\":\"#2a3f5f\"},\"error_y\":{\"color\":\"#2a3f5f\"},\"marker\":{\"line\":{\"color\":\"#E5ECF6\",\"width\":0.5},\"pattern\":{\"fillmode\":\"overlay\",\"size\":10,\"solidity\":0.2}},\"type\":\"bar\"}],\"scattergeo\":[{\"type\":\"scattergeo\",\"marker\":{\"colorbar\":{\"outlinewidth\":0,\"ticks\":\"\"}}}],\"scatterpolar\":[{\"type\":\"scatterpolar\",\"marker\":{\"colorbar\":{\"outlinewidth\":0,\"ticks\":\"\"}}}],\"histogram\":[{\"marker\":{\"pattern\":{\"fillmode\":\"overlay\",\"size\":10,\"solidity\":0.2}},\"type\":\"histogram\"}],\"scattergl\":[{\"type\":\"scattergl\",\"marker\":{\"colorbar\":{\"outlinewidth\":0,\"ticks\":\"\"}}}],\"scatter3d\":[{\"type\":\"scatter3d\",\"line\":{\"colorbar\":{\"outlinewidth\":0,\"ticks\":\"\"}},\"marker\":{\"colorbar\":{\"outlinewidth\":0,\"ticks\":\"\"}}}],\"scattermapbox\":[{\"type\":\"scattermapbox\",\"marker\":{\"colorbar\":{\"outlinewidth\":0,\"ticks\":\"\"}}}],\"scatterternary\":[{\"type\":\"scatterternary\",\"marker\":{\"colorbar\":{\"outlinewidth\":0,\"ticks\":\"\"}}}],\"scattercarpet\":[{\"type\":\"scattercarpet\",\"marker\":{\"colorbar\":{\"outlinewidth\":0,\"ticks\":\"\"}}}],\"carpet\":[{\"aaxis\":{\"endlinecolor\":\"#2a3f5f\",\"gridcolor\":\"white\",\"linecolor\":\"white\",\"minorgridcolor\":\"white\",\"startlinecolor\":\"#2a3f5f\"},\"baxis\":{\"endlinecolor\":\"#2a3f5f\",\"gridcolor\":\"white\",\"linecolor\":\"white\",\"minorgridcolor\":\"white\",\"startlinecolor\":\"#2a3f5f\"},\"type\":\"carpet\"}],\"table\":[{\"cells\":{\"fill\":{\"color\":\"#EBF0F8\"},\"line\":{\"color\":\"white\"}},\"header\":{\"fill\":{\"color\":\"#C8D4E3\"},\"line\":{\"color\":\"white\"}},\"type\":\"table\"}],\"barpolar\":[{\"marker\":{\"line\":{\"color\":\"#E5ECF6\",\"width\":0.5},\"pattern\":{\"fillmode\":\"overlay\",\"size\":10,\"solidity\":0.2}},\"type\":\"barpolar\"}],\"pie\":[{\"automargin\":true,\"type\":\"pie\"}]},\"layout\":{\"autotypenumbers\":\"strict\",\"colorway\":[\"#636efa\",\"#EF553B\",\"#00cc96\",\"#ab63fa\",\"#FFA15A\",\"#19d3f3\",\"#FF6692\",\"#B6E880\",\"#FF97FF\",\"#FECB52\"],\"font\":{\"color\":\"#2a3f5f\"},\"hovermode\":\"closest\",\"hoverlabel\":{\"align\":\"left\"},\"paper_bgcolor\":\"white\",\"plot_bgcolor\":\"#E5ECF6\",\"polar\":{\"bgcolor\":\"#E5ECF6\",\"angularaxis\":{\"gridcolor\":\"white\",\"linecolor\":\"white\",\"ticks\":\"\"},\"radialaxis\":{\"gridcolor\":\"white\",\"linecolor\":\"white\",\"ticks\":\"\"}},\"ternary\":{\"bgcolor\":\"#E5ECF6\",\"aaxis\":{\"gridcolor\":\"white\",\"linecolor\":\"white\",\"ticks\":\"\"},\"baxis\":{\"gridcolor\":\"white\",\"linecolor\":\"white\",\"ticks\":\"\"},\"caxis\":{\"gridcolor\":\"white\",\"linecolor\":\"white\",\"ticks\":\"\"}},\"coloraxis\":{\"colorbar\":{\"outlinewidth\":0,\"ticks\":\"\"}},\"colorscale\":{\"sequential\":[[0.0,\"#0d0887\"],[0.1111111111111111,\"#46039f\"],[0.2222222222222222,\"#7201a8\"],[0.3333333333333333,\"#9c179e\"],[0.4444444444444444,\"#bd3786\"],[0.5555555555555556,\"#d8576b\"],[0.6666666666666666,\"#ed7953\"],[0.7777777777777778,\"#fb9f3a\"],[0.8888888888888888,\"#fdca26\"],[1.0,\"#f0f921\"]],\"sequentialminus\":[[0.0,\"#0d0887\"],[0.1111111111111111,\"#46039f\"],[0.2222222222222222,\"#7201a8\"],[0.3333333333333333,\"#9c179e\"],[0.4444444444444444,\"#bd3786\"],[0.5555555555555556,\"#d8576b\"],[0.6666666666666666,\"#ed7953\"],[0.7777777777777778,\"#fb9f3a\"],[0.8888888888888888,\"#fdca26\"],[1.0,\"#f0f921\"]],\"diverging\":[[0,\"#8e0152\"],[0.1,\"#c51b7d\"],[0.2,\"#de77ae\"],[0.3,\"#f1b6da\"],[0.4,\"#fde0ef\"],[0.5,\"#f7f7f7\"],[0.6,\"#e6f5d0\"],[0.7,\"#b8e186\"],[0.8,\"#7fbc41\"],[0.9,\"#4d9221\"],[1,\"#276419\"]]},\"xaxis\":{\"gridcolor\":\"white\",\"linecolor\":\"white\",\"ticks\":\"\",\"title\":{\"standoff\":15},\"zerolinecolor\":\"white\",\"automargin\":true,\"zerolinewidth\":2},\"yaxis\":{\"gridcolor\":\"white\",\"linecolor\":\"white\",\"ticks\":\"\",\"title\":{\"standoff\":15},\"zerolinecolor\":\"white\",\"automargin\":true,\"zerolinewidth\":2},\"scene\":{\"xaxis\":{\"backgroundcolor\":\"#E5ECF6\",\"gridcolor\":\"white\",\"linecolor\":\"white\",\"showbackground\":true,\"ticks\":\"\",\"zerolinecolor\":\"white\",\"gridwidth\":2},\"yaxis\":{\"backgroundcolor\":\"#E5ECF6\",\"gridcolor\":\"white\",\"linecolor\":\"white\",\"showbackground\":true,\"ticks\":\"\",\"zerolinecolor\":\"white\",\"gridwidth\":2},\"zaxis\":{\"backgroundcolor\":\"#E5ECF6\",\"gridcolor\":\"white\",\"linecolor\":\"white\",\"showbackground\":true,\"ticks\":\"\",\"zerolinecolor\":\"white\",\"gridwidth\":2}},\"shapedefaults\":{\"line\":{\"color\":\"#2a3f5f\"}},\"annotationdefaults\":{\"arrowcolor\":\"#2a3f5f\",\"arrowhead\":0,\"arrowwidth\":1},\"geo\":{\"bgcolor\":\"white\",\"landcolor\":\"#E5ECF6\",\"subunitcolor\":\"white\",\"showland\":true,\"showlakes\":true,\"lakecolor\":\"white\"},\"title\":{\"x\":0.05},\"mapbox\":{\"style\":\"light\"}}},\"xaxis\":{\"anchor\":\"y\",\"domain\":[0.0,1.0],\"title\":{\"text\":\"value\"}},\"yaxis\":{\"anchor\":\"x\",\"domain\":[0.0,1.0],\"title\":{\"text\":\"count\"}},\"legend\":{\"title\":{\"text\":\"variable\"},\"tracegroupgap\":0},\"margin\":{\"t\":60},\"barmode\":\"relative\"},                        {\"responsive\": true}                    ).then(function(){\n",
       "                            \n",
       "var gd = document.getElementById('a6b64d71-b717-4197-bc77-28f5bc7cc11d');\n",
       "var x = new MutationObserver(function (mutations, observer) {{\n",
       "        var display = window.getComputedStyle(gd).display;\n",
       "        if (!display || display === 'none') {{\n",
       "            console.log([gd, 'removed!']);\n",
       "            Plotly.purge(gd);\n",
       "            observer.disconnect();\n",
       "        }}\n",
       "}});\n",
       "\n",
       "// Listen for the removal of the full notebook cells\n",
       "var notebookContainer = gd.closest('#notebook-container');\n",
       "if (notebookContainer) {{\n",
       "    x.observe(notebookContainer, {childList: true});\n",
       "}}\n",
       "\n",
       "// Listen for the clearing of the current output cell\n",
       "var outputEl = gd.closest('.output');\n",
       "if (outputEl) {{\n",
       "    x.observe(outputEl, {childList: true});\n",
       "}}\n",
       "\n",
       "                        })                };                });            </script>        </div>"
      ]
     },
     "metadata": {},
     "output_type": "display_data"
    }
   ],
   "source": [
    "print(attrs.sum())\n",
    "px.histogram(attrs.flatten().cpu().numpy())"
   ]
  },
  {
   "cell_type": "code",
   "execution_count": 15,
   "metadata": {},
   "outputs": [
    {
     "name": "stdout",
     "output_type": "stream",
     "text": [
      "[(4, 98), (4, 52), (4, 175), (7, 150), (6, 136), (7, 53), (2, 158), (7, 59), (5, 244)]\n"
     ]
    }
   ],
   "source": [
    "# Compare top neurons found with DLA vs. those found with cosine sim\n",
    "dla_layer_neuron_tuples = []\n",
    "for token_index in range(3):\n",
    "    values, indices = torch.topk(attrs[token_index], 3, dim=-1)\n",
    "    layer_indices, neuron_indices = np.unravel_index(indices.cpu().numpy(), (model.cfg.n_layers, model.cfg.d_mlp))\n",
    "    dla_layer_neuron_tuples.extend(zip(layer_indices.tolist(), neuron_indices.tolist()))\n",
    "\n",
    "print(dla_layer_neuron_tuples)\n",
    "# print(layer_neuron_tuples[:5])"
   ]
  },
  {
   "cell_type": "code",
   "execution_count": 14,
   "metadata": {},
   "outputs": [
    {
     "name": "stdout",
     "output_type": "stream",
     "text": [
      "[(4, 98), (4, 52), (7, 150), (7, 59), (6, 136), (2, 158)]\n"
     ]
    },
    {
     "data": {
      "application/vnd.jupyter.widget-view+json": {
       "model_id": "fbf7b78ff1c44e6998421b5a0fb8f124",
       "version_major": 2,
       "version_minor": 0
      },
      "text/plain": [
       "  0%|          | 0/10 [00:00<?, ?it/s]"
      ]
     },
     "metadata": {},
     "output_type": "display_data"
    },
    {
     "name": "stdout",
     "output_type": "stream",
     "text": [
      "Once upon a little birdie never when he was sad\n"
     ]
    }
   ],
   "source": [
    "# Ablate the neurons found above and check that it messes things up\n",
    "layer_neuron_dict = haystack_utils.get_neurons_by_layer(dla_layer_neuron_tuples)\n",
    "\n",
    "sorted_dla_layer_neuron_tuples = []\n",
    "sorted_acts = []\n",
    "\n",
    "for layer in layer_neuron_dict.keys():\n",
    "    neurons = layer_neuron_dict[layer]\n",
    "    mean_acts = haystack_utils.get_mlp_activations(filtered_prompts, layer, model, context_crop_start=2, hook_pre=False, neurons=neurons, disable_tqdm=True)\n",
    "    sorted_dla_layer_neuron_tuples.extend([(layer, neuron) for neuron in neurons])\n",
    "    sorted_acts.extend(mean_acts)\n",
    "    assert len(sorted_dla_layer_neuron_tuples) == len(sorted_acts)\n",
    "\n",
    "print(sorted_dla_layer_neuron_tuples)\n",
    "hooks = hook_utils.get_ablate_context_neurons_hooks(sorted_dla_layer_neuron_tuples, sorted_acts)\n",
    "with model.hooks(hooks):\n",
    "    print(model.generate(\"Once\", 10, temperature=0))"
   ]
  },
  {
   "cell_type": "code",
   "execution_count": 22,
   "metadata": {},
   "outputs": [
    {
     "data": {
      "application/vnd.jupyter.widget-view+json": {
       "model_id": "fe91d3ae8ad9465dbbc80ceacd1ed92f",
       "version_major": 2,
       "version_minor": 0
      },
      "text/plain": [
       "  0%|          | 0/10 [00:00<?, ?it/s]"
      ]
     },
     "metadata": {},
     "output_type": "display_data"
    },
    {
     "name": "stdout",
     "output_type": "stream",
     "text": [
      "OnceOnceOnceOnceOnceOnceOnceOnceOnceOnceOnce\n"
     ]
    },
    {
     "data": {
      "application/vnd.jupyter.widget-view+json": {
       "model_id": "8046037023d047508e9eb8093e3561a5",
       "version_major": 2,
       "version_minor": 0
      },
      "text/plain": [
       "  0%|          | 0/10 [00:00<?, ?it/s]"
      ]
     },
     "metadata": {},
     "output_type": "display_data"
    },
    {
     "name": "stdout",
     "output_type": "stream",
     "text": [
      "OnceOnceOnceOnceOnceOnceOnceOnceOnceOnceOnce\n"
     ]
    }
   ],
   "source": [
    "# Try ablating the disjoint set\n",
    "unspecified_neuron_tuples = get_unspecified_neurons(model, dla_layer_neuron_tuples)\n",
    "layer_neuron_dict = haystack_utils.get_neurons_by_layer(unspecified_neuron_tuples)\n",
    "\n",
    "sorted_dla_layer_neuron_tuples = []\n",
    "sorted_acts = []\n",
    "\n",
    "for layer in layer_neuron_dict.keys():\n",
    "    neurons = layer_neuron_dict[layer]\n",
    "    mean_acts = haystack_utils.get_mlp_activations(filtered_prompts, layer, model, context_crop_start=2, hook_pre=False, neurons=neurons, disable_tqdm=True)\n",
    "    sorted_dla_layer_neuron_tuples.extend([(layer, neuron) for neuron in neurons])\n",
    "    sorted_acts.extend(mean_acts)\n",
    "    assert len(sorted_dla_layer_neuron_tuples) == len(sorted_acts)\n",
    "\n",
    "hooks = hook_utils.get_ablate_context_neurons_hooks(sorted_dla_layer_neuron_tuples, sorted_acts)\n",
    "with model.hooks(hooks):\n",
    "    print(model.generate(\"Once\", 10, temperature=0))"
   ]
  },
  {
   "cell_type": "code",
   "execution_count": 45,
   "metadata": {},
   "outputs": [
    {
     "data": {
      "application/vnd.jupyter.widget-view+json": {
       "model_id": "1d8620d32e294e72a32c5072c1c1d5fb",
       "version_major": 2,
       "version_minor": 0
      },
      "text/plain": [
       "  0%|          | 0/3 [00:00<?, ?it/s]"
      ]
     },
     "metadata": {},
     "output_type": "display_data"
    },
    {
     "name": "stdout",
     "output_type": "stream",
     "text": [
      "Once upon a time\n"
     ]
    }
   ],
   "source": [
    "def get_resample_neurons_hooks(neurons: list[tuple[int, int]], resampled_cache):\n",
    "    layer_neurons = haystack_utils.get_neurons_by_layer(neurons)\n",
    "    hooks = []\n",
    "    for layer, neurons in layer_neurons.items():\n",
    "        def resample_neurons_hook(value, hook):\n",
    "            resample_cache_slice = np.s_[:value.shape[0], :value.shape[1], neurons]\n",
    "            value[:, :, neurons] = resampled_cache[hook.name][resample_cache_slice]\n",
    "            return value\n",
    "        hooks.append((f'blocks.{layer}.mlp.hook_post', resample_neurons_hook))\n",
    "    return hooks\n",
    "\n",
    "# Try again with resampled activations\n",
    "_, resample_cache = model.run_with_cache([\"Once upon a time\"])\n",
    "hooks = get_resample_neurons_hooks(sorted_dla_layer_neuron_tuples, resample_cache)\n",
    "with model.hooks(hooks):\n",
    "    print(model.generate(\"Once\", 3, temperature=0, use_past_kv_cache=False))"
   ]
  }
 ],
 "metadata": {
  "kernelspec": {
   "display_name": "base",
   "language": "python",
   "name": "python3"
  },
  "language_info": {
   "codemirror_mode": {
    "name": "ipython",
    "version": 3
   },
   "file_extension": ".py",
   "mimetype": "text/x-python",
   "name": "python",
   "nbconvert_exporter": "python",
   "pygments_lexer": "ipython3",
   "version": "3.10.11"
  },
  "orig_nbformat": 4
 },
 "nbformat": 4,
 "nbformat_minor": 2
}
