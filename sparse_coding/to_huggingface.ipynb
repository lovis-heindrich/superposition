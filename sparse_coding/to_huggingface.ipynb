{
 "cells": [
  {
   "cell_type": "code",
   "execution_count": 2,
   "metadata": {},
   "outputs": [],
   "source": [
    "from transformer_lens import HookedTransformer\n",
    "import torch\n",
    "import torch.nn as nn\n",
    "import torch.nn.functional as F\n",
    "import json\n",
    "from huggingface_hub import PyTorchModelHubMixin\n",
    "from transformers import PretrainedConfig, PreTrainedModel\n",
    "\n",
    "device = \"cuda\" if torch.cuda.is_available() else \"cpu\""
   ]
  },
  {
   "cell_type": "code",
   "execution_count": 3,
   "metadata": {},
   "outputs": [
    {
     "name": "stdout",
     "output_type": "stream",
     "text": [
      "Loaded pretrained model tiny-stories-2L-33M into HookedTransformer\n"
     ]
    }
   ],
   "source": [
    "model = HookedTransformer.from_pretrained(\"tiny-stories-2L-33M\", device=device)"
   ]
  },
  {
   "cell_type": "code",
   "execution_count": 20,
   "metadata": {},
   "outputs": [],
   "source": [
    "class SparseAutoEncoder(nn.Module, PyTorchModelHubMixin):\n",
    "    config_class = SparseAutoEncoderConfig\n",
    "\n",
    "    def __init__(\n",
    "        self, config\n",
    "    ):\n",
    "        super().__init__()\n",
    "        torch.manual_seed(config[\"seed\"])\n",
    "        d_in = config[\"d_in\"]\n",
    "        d_hidden = config[\"d_hidden\"]\n",
    "        dtype = getattr(torch, config[\"dtype\"])\n",
    "        self.W_enc = nn.Parameter(\n",
    "            torch.nn.init.kaiming_uniform_(torch.empty(d_in, d_hidden, dtype=dtype))\n",
    "        )\n",
    "        self.W_dec = nn.Parameter(\n",
    "            torch.nn.init.kaiming_uniform_(torch.empty(d_hidden, d_in, dtype=dtype))\n",
    "        )\n",
    "        self.b_enc = nn.Parameter(torch.zeros(d_hidden, dtype=dtype))\n",
    "        self.b_dec = nn.Parameter(torch.zeros(d_in, dtype=dtype))\n",
    "\n",
    "        self.W_dec.data[:] = self.W_dec / self.W_dec.norm(dim=-1, keepdim=True)\n",
    "        self.d_hidden = d_hidden\n",
    "        \n",
    "\n",
    "    def forward(self, x: torch.Tensor):\n",
    "        x_cent = x - self.b_dec\n",
    "        acts = F.relu(x_cent @ self.W_enc + self.b_enc)\n",
    "        x_reconstruct = acts @ self.W_dec + self.b_dec\n",
    "        return x_reconstruct, acts"
   ]
  },
  {
   "cell_type": "code",
   "execution_count": 21,
   "metadata": {},
   "outputs": [
    {
     "data": {
      "text/plain": [
       "SparseAutoEncoder()"
      ]
     },
     "execution_count": 21,
     "metadata": {},
     "output_type": "execute_result"
    }
   ],
   "source": [
    "save_path = \"/workspace/tiny-stories-2L-33M\"\n",
    "run_name = \"229_comfy_haze\"\n",
    "\n",
    "with open(f\"{save_path}/{run_name}.json\", \"r\") as f:\n",
    "    cfg = json.load(f)\n",
    "\n",
    "d_in = cfg[\"d_in\"]\n",
    "d_hidden = cfg[\"d_in\"] * cfg[\"expansion_factor\"]\n",
    "hook_name = f\"blocks.{cfg['layer']}.{cfg['act']}\"\n",
    "\n",
    "sae_config = {\"d_in\": d_in, \"d_hidden\": d_hidden, \"dtype\":\"float32\", \"seed\":47}\n",
    "encoder = SparseAutoEncoder(sae_config)\n",
    "encoder.load_state_dict(torch.load(f\"{save_path}/{run_name}.pt\"))\n",
    "encoder.to(device)"
   ]
  },
  {
   "cell_type": "code",
   "execution_count": 23,
   "metadata": {},
   "outputs": [
    {
     "data": {
      "application/vnd.jupyter.widget-view+json": {
       "model_id": "0923cc8de38c4092a1aa12eb665874af",
       "version_major": 2,
       "version_minor": 0
      },
      "text/plain": [
       "pytorch_model.bin:   0%|          | 0.00/537M [00:00<?, ?B/s]"
      ]
     },
     "metadata": {},
     "output_type": "display_data"
    },
    {
     "data": {
      "text/plain": [
       "CommitInfo(commit_url='https://huggingface.co/lovish/SAE-TinyStories-2L-L1-0/commit/bd67426f1896f7ae2441976fa521dd3c356980ec', commit_message='Push model using huggingface_hub.', commit_description='', oid='bd67426f1896f7ae2441976fa521dd3c356980ec', pr_url=None, pr_revision=None, pr_num=None)"
      ]
     },
     "execution_count": 23,
     "metadata": {},
     "output_type": "execute_result"
    }
   ],
   "source": [
    "name = \"SAE-TinyStories-2L-L1-0\"\n",
    "encoder.save_pretrained(name, config=sae_config)\n",
    "encoder.push_to_hub(name, config=sae_config)"
   ]
  },
  {
   "cell_type": "code",
   "execution_count": 25,
   "metadata": {},
   "outputs": [
    {
     "data": {
      "application/vnd.jupyter.widget-view+json": {
       "model_id": "af228b1dc8784dbf82f252ee039f9c84",
       "version_major": 2,
       "version_minor": 0
      },
      "text/plain": [
       "config.json:   0%|          | 0.00/65.0 [00:00<?, ?B/s]"
      ]
     },
     "metadata": {},
     "output_type": "display_data"
    }
   ],
   "source": [
    "encoder = SparseAutoEncoder.from_pretrained(\"lovish/\"+name)"
   ]
  },
  {
   "cell_type": "code",
   "execution_count": null,
   "metadata": {},
   "outputs": [],
   "source": []
  }
 ],
 "metadata": {
  "kernelspec": {
   "display_name": "Python 3",
   "language": "python",
   "name": "python3"
  },
  "language_info": {
   "codemirror_mode": {
    "name": "ipython",
    "version": 3
   },
   "file_extension": ".py",
   "mimetype": "text/x-python",
   "name": "python",
   "nbconvert_exporter": "python",
   "pygments_lexer": "ipython3",
   "version": "3.10.12"
  }
 },
 "nbformat": 4,
 "nbformat_minor": 2
}
