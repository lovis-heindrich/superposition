{
 "cells": [
  {
   "cell_type": "code",
   "execution_count": 1,
   "metadata": {},
   "outputs": [],
   "source": [
    "import re\n",
    "import json\n",
    "import pickle\n",
    "import os\n",
    "import sys\n",
    "import requests\n",
    "import logging\n",
    "import torch\n",
    "from tqdm.auto import tqdm\n",
    "from transformer_lens import HookedTransformer\n",
    "from tqdm.auto import tqdm\n",
    "import plotly.io as pio\n",
    "import numpy as np\n",
    "import random\n",
    "import torch.nn as nn\n",
    "import torch.nn.functional as F\n",
    "import wandb\n",
    "import plotly.express as px\n",
    "import pandas as pd\n",
    "import torch.nn.init as init\n",
    "from pathlib import Path\n",
    "from jaxtyping import Int, Float\n",
    "from torch import Tensor\n",
    "import einops\n",
    "from collections import Counter\n",
    "from datasets import load_dataset\n",
    "import pandas as pd\n",
    "from ipywidgets import interact, IntSlider\n",
    "from process_tiny_stories_data import load_tinystories_validation_prompts, load_tinystories_tokens\n",
    "from typing import Literal\n",
    "\n",
    "\n",
    "pio.renderers.default = \"notebook_connected\"\n",
    "device = \"cuda\" if torch.cuda.is_available() else \"mps\" if torch.backends.mps.is_available() else \"cpu\"\n",
    "torch.autograd.set_grad_enabled(False)\n",
    "torch.set_grad_enabled(False)\n",
    "\n",
    "logging.basicConfig(format='(%(levelname)s) %(asctime)s: %(message)s', level=logging.INFO, datefmt='%I:%M:%S')\n",
    "sys.path.append('../')  # Add the parent directory to the system path\n",
    "\n",
    "import utils.haystack_utils as haystack_utils\n",
    "from sparse_coding.train_autoencoder import AutoEncoder\n",
    "from utils.autoencoder_utils import custom_forward, AutoEncoderConfig, evaluate_autoencoder_reconstruction, get_encoder_feature_frequencies, load_encoder\n",
    "import utils.haystack_utils as haystack_utils\n",
    "from utils.plotting_utils import line\n",
    "from sparse_coding.spacy_tag import make_spacy_feature_df\n",
    "\n",
    "\n",
    "%reload_ext autoreload\n",
    "%autoreload 2"
   ]
  },
  {
   "cell_type": "code",
   "execution_count": 2,
   "metadata": {},
   "outputs": [
    {
     "name": "stdout",
     "output_type": "stream",
     "text": [
      "Collecting en-core-web-trf==3.7.3\n",
      "  Downloading https://github.com/explosion/spacy-models/releases/download/en_core_web_trf-3.7.3/en_core_web_trf-3.7.3-py3-none-any.whl (457.4 MB)\n",
      "\u001b[2K     \u001b[90m━━━━━━━━━━━━━━━━━━━━━━━━━━━━━━━━━━━━━━━\u001b[0m \u001b[32m457.4/457.4 MB\u001b[0m \u001b[31m2.2 MB/s\u001b[0m eta \u001b[36m0:00:00\u001b[0m00:01\u001b[0m00:01\u001b[0m\n",
      "\u001b[?25hRequirement already satisfied: spacy<3.8.0,>=3.7.2 in /Users/luciaquirke/anaconda3/envs/venv/lib/python3.10/site-packages (from en-core-web-trf==3.7.3) (3.7.2)\n",
      "Requirement already satisfied: spacy-curated-transformers<0.3.0,>=0.2.0 in /Users/luciaquirke/anaconda3/envs/venv/lib/python3.10/site-packages (from en-core-web-trf==3.7.3) (0.2.1)\n",
      "Requirement already satisfied: spacy-legacy<3.1.0,>=3.0.11 in /Users/luciaquirke/anaconda3/envs/venv/lib/python3.10/site-packages (from spacy<3.8.0,>=3.7.2->en-core-web-trf==3.7.3) (3.0.12)\n",
      "Requirement already satisfied: spacy-loggers<2.0.0,>=1.0.0 in /Users/luciaquirke/anaconda3/envs/venv/lib/python3.10/site-packages (from spacy<3.8.0,>=3.7.2->en-core-web-trf==3.7.3) (1.0.5)\n",
      "Requirement already satisfied: murmurhash<1.1.0,>=0.28.0 in /Users/luciaquirke/anaconda3/envs/venv/lib/python3.10/site-packages (from spacy<3.8.0,>=3.7.2->en-core-web-trf==3.7.3) (1.0.10)\n",
      "Requirement already satisfied: cymem<2.1.0,>=2.0.2 in /Users/luciaquirke/anaconda3/envs/venv/lib/python3.10/site-packages (from spacy<3.8.0,>=3.7.2->en-core-web-trf==3.7.3) (2.0.8)\n",
      "Requirement already satisfied: preshed<3.1.0,>=3.0.2 in /Users/luciaquirke/anaconda3/envs/venv/lib/python3.10/site-packages (from spacy<3.8.0,>=3.7.2->en-core-web-trf==3.7.3) (3.0.9)\n",
      "Requirement already satisfied: thinc<8.3.0,>=8.1.8 in /Users/luciaquirke/anaconda3/envs/venv/lib/python3.10/site-packages (from spacy<3.8.0,>=3.7.2->en-core-web-trf==3.7.3) (8.2.1)\n",
      "Requirement already satisfied: wasabi<1.2.0,>=0.9.1 in /Users/luciaquirke/anaconda3/envs/venv/lib/python3.10/site-packages (from spacy<3.8.0,>=3.7.2->en-core-web-trf==3.7.3) (1.1.2)\n",
      "Requirement already satisfied: srsly<3.0.0,>=2.4.3 in /Users/luciaquirke/anaconda3/envs/venv/lib/python3.10/site-packages (from spacy<3.8.0,>=3.7.2->en-core-web-trf==3.7.3) (2.4.8)\n",
      "Requirement already satisfied: catalogue<2.1.0,>=2.0.6 in /Users/luciaquirke/anaconda3/envs/venv/lib/python3.10/site-packages (from spacy<3.8.0,>=3.7.2->en-core-web-trf==3.7.3) (2.0.10)\n",
      "Requirement already satisfied: weasel<0.4.0,>=0.1.0 in /Users/luciaquirke/anaconda3/envs/venv/lib/python3.10/site-packages (from spacy<3.8.0,>=3.7.2->en-core-web-trf==3.7.3) (0.3.4)\n",
      "Requirement already satisfied: typer<0.10.0,>=0.3.0 in /Users/luciaquirke/anaconda3/envs/venv/lib/python3.10/site-packages (from spacy<3.8.0,>=3.7.2->en-core-web-trf==3.7.3) (0.9.0)\n",
      "Requirement already satisfied: smart-open<7.0.0,>=5.2.1 in /Users/luciaquirke/anaconda3/envs/venv/lib/python3.10/site-packages (from spacy<3.8.0,>=3.7.2->en-core-web-trf==3.7.3) (5.2.1)\n",
      "Requirement already satisfied: tqdm<5.0.0,>=4.38.0 in /Users/luciaquirke/anaconda3/envs/venv/lib/python3.10/site-packages (from spacy<3.8.0,>=3.7.2->en-core-web-trf==3.7.3) (4.65.0)\n",
      "Requirement already satisfied: requests<3.0.0,>=2.13.0 in /Users/luciaquirke/anaconda3/envs/venv/lib/python3.10/site-packages (from spacy<3.8.0,>=3.7.2->en-core-web-trf==3.7.3) (2.31.0)\n",
      "Requirement already satisfied: pydantic!=1.8,!=1.8.1,<3.0.0,>=1.7.4 in /Users/luciaquirke/anaconda3/envs/venv/lib/python3.10/site-packages (from spacy<3.8.0,>=3.7.2->en-core-web-trf==3.7.3) (2.5.2)\n",
      "Requirement already satisfied: jinja2 in /Users/luciaquirke/anaconda3/envs/venv/lib/python3.10/site-packages (from spacy<3.8.0,>=3.7.2->en-core-web-trf==3.7.3) (3.1.2)\n",
      "Requirement already satisfied: setuptools in /Users/luciaquirke/anaconda3/envs/venv/lib/python3.10/site-packages (from spacy<3.8.0,>=3.7.2->en-core-web-trf==3.7.3) (68.0.0)\n",
      "Requirement already satisfied: packaging>=20.0 in /Users/luciaquirke/anaconda3/envs/venv/lib/python3.10/site-packages (from spacy<3.8.0,>=3.7.2->en-core-web-trf==3.7.3) (23.1)\n",
      "Requirement already satisfied: langcodes<4.0.0,>=3.2.0 in /Users/luciaquirke/anaconda3/envs/venv/lib/python3.10/site-packages (from spacy<3.8.0,>=3.7.2->en-core-web-trf==3.7.3) (3.3.0)\n",
      "Requirement already satisfied: numpy>=1.19.0 in /Users/luciaquirke/anaconda3/envs/venv/lib/python3.10/site-packages (from spacy<3.8.0,>=3.7.2->en-core-web-trf==3.7.3) (1.24.3)\n",
      "Requirement already satisfied: curated-transformers<0.2.0,>=0.1.0 in /Users/luciaquirke/anaconda3/envs/venv/lib/python3.10/site-packages (from spacy-curated-transformers<0.3.0,>=0.2.0->en-core-web-trf==3.7.3) (0.1.1)\n",
      "Requirement already satisfied: curated-tokenizers<0.1.0,>=0.0.7 in /Users/luciaquirke/anaconda3/envs/venv/lib/python3.10/site-packages (from spacy-curated-transformers<0.3.0,>=0.2.0->en-core-web-trf==3.7.3) (0.0.8)\n",
      "Requirement already satisfied: torch>=1.12.0 in /Users/luciaquirke/anaconda3/envs/venv/lib/python3.10/site-packages (from spacy-curated-transformers<0.3.0,>=0.2.0->en-core-web-trf==3.7.3) (2.1.0)\n",
      "Requirement already satisfied: regex>=2022 in /Users/luciaquirke/anaconda3/envs/venv/lib/python3.10/site-packages (from curated-tokenizers<0.1.0,>=0.0.7->spacy-curated-transformers<0.3.0,>=0.2.0->en-core-web-trf==3.7.3) (2022.7.9)\n",
      "Requirement already satisfied: annotated-types>=0.4.0 in /Users/luciaquirke/anaconda3/envs/venv/lib/python3.10/site-packages (from pydantic!=1.8,!=1.8.1,<3.0.0,>=1.7.4->spacy<3.8.0,>=3.7.2->en-core-web-trf==3.7.3) (0.6.0)\n",
      "Requirement already satisfied: pydantic-core==2.14.5 in /Users/luciaquirke/anaconda3/envs/venv/lib/python3.10/site-packages (from pydantic!=1.8,!=1.8.1,<3.0.0,>=1.7.4->spacy<3.8.0,>=3.7.2->en-core-web-trf==3.7.3) (2.14.5)\n",
      "Requirement already satisfied: typing-extensions>=4.6.1 in /Users/luciaquirke/anaconda3/envs/venv/lib/python3.10/site-packages (from pydantic!=1.8,!=1.8.1,<3.0.0,>=1.7.4->spacy<3.8.0,>=3.7.2->en-core-web-trf==3.7.3) (4.8.0)\n",
      "Requirement already satisfied: charset-normalizer<4,>=2 in /Users/luciaquirke/anaconda3/envs/venv/lib/python3.10/site-packages (from requests<3.0.0,>=2.13.0->spacy<3.8.0,>=3.7.2->en-core-web-trf==3.7.3) (2.0.4)\n",
      "Requirement already satisfied: idna<4,>=2.5 in /Users/luciaquirke/anaconda3/envs/venv/lib/python3.10/site-packages (from requests<3.0.0,>=2.13.0->spacy<3.8.0,>=3.7.2->en-core-web-trf==3.7.3) (3.4)\n",
      "Requirement already satisfied: urllib3<3,>=1.21.1 in /Users/luciaquirke/anaconda3/envs/venv/lib/python3.10/site-packages (from requests<3.0.0,>=2.13.0->spacy<3.8.0,>=3.7.2->en-core-web-trf==3.7.3) (1.26.16)\n",
      "Requirement already satisfied: certifi>=2017.4.17 in /Users/luciaquirke/anaconda3/envs/venv/lib/python3.10/site-packages (from requests<3.0.0,>=2.13.0->spacy<3.8.0,>=3.7.2->en-core-web-trf==3.7.3) (2023.7.22)\n",
      "Requirement already satisfied: blis<0.8.0,>=0.7.8 in /Users/luciaquirke/anaconda3/envs/venv/lib/python3.10/site-packages (from thinc<8.3.0,>=8.1.8->spacy<3.8.0,>=3.7.2->en-core-web-trf==3.7.3) (0.7.11)\n",
      "Requirement already satisfied: confection<1.0.0,>=0.0.1 in /Users/luciaquirke/anaconda3/envs/venv/lib/python3.10/site-packages (from thinc<8.3.0,>=8.1.8->spacy<3.8.0,>=3.7.2->en-core-web-trf==3.7.3) (0.1.4)\n",
      "Requirement already satisfied: filelock in /Users/luciaquirke/anaconda3/envs/venv/lib/python3.10/site-packages (from torch>=1.12.0->spacy-curated-transformers<0.3.0,>=0.2.0->en-core-web-trf==3.7.3) (3.9.0)\n",
      "Requirement already satisfied: sympy in /Users/luciaquirke/anaconda3/envs/venv/lib/python3.10/site-packages (from torch>=1.12.0->spacy-curated-transformers<0.3.0,>=0.2.0->en-core-web-trf==3.7.3) (1.11.1)\n",
      "Requirement already satisfied: networkx in /Users/luciaquirke/anaconda3/envs/venv/lib/python3.10/site-packages (from torch>=1.12.0->spacy-curated-transformers<0.3.0,>=0.2.0->en-core-web-trf==3.7.3) (3.1)\n",
      "Requirement already satisfied: fsspec in /Users/luciaquirke/anaconda3/envs/venv/lib/python3.10/site-packages (from torch>=1.12.0->spacy-curated-transformers<0.3.0,>=0.2.0->en-core-web-trf==3.7.3) (2023.4.0)\n",
      "Requirement already satisfied: click<9.0.0,>=7.1.1 in /Users/luciaquirke/anaconda3/envs/venv/lib/python3.10/site-packages (from typer<0.10.0,>=0.3.0->spacy<3.8.0,>=3.7.2->en-core-web-trf==3.7.3) (8.1.7)\n",
      "Requirement already satisfied: cloudpathlib<0.17.0,>=0.7.0 in /Users/luciaquirke/anaconda3/envs/venv/lib/python3.10/site-packages (from weasel<0.4.0,>=0.1.0->spacy<3.8.0,>=3.7.2->en-core-web-trf==3.7.3) (0.16.0)\n",
      "Requirement already satisfied: MarkupSafe>=2.0 in /Users/luciaquirke/anaconda3/envs/venv/lib/python3.10/site-packages (from jinja2->spacy<3.8.0,>=3.7.2->en-core-web-trf==3.7.3) (2.1.1)\n",
      "Requirement already satisfied: mpmath>=0.19 in /Users/luciaquirke/anaconda3/envs/venv/lib/python3.10/site-packages (from sympy->torch>=1.12.0->spacy-curated-transformers<0.3.0,>=0.2.0->en-core-web-trf==3.7.3) (1.3.0)\n",
      "\u001b[38;5;2m✔ Download and installation successful\u001b[0m\n",
      "You can now load the package via spacy.load('en_core_web_trf')\n"
     ]
    },
    {
     "data": {
      "text/plain": [
       "CompletedProcess(args=['python', '-m', 'spacy', 'download', 'en_core_web_trf'], returncode=0)"
      ]
     },
     "execution_count": 2,
     "metadata": {},
     "output_type": "execute_result"
    }
   ],
   "source": [
    "import subprocess\n",
    "subprocess.run(['python', '-m', 'spacy', 'download', 'en_core_web_trf'])"
   ]
  },
  {
   "cell_type": "code",
   "execution_count": 8,
   "metadata": {},
   "outputs": [
    {
     "name": "stderr",
     "output_type": "stream",
     "text": [
      "Using pad_token, but it is not set yet.\n"
     ]
    },
    {
     "name": "stdout",
     "output_type": "stream",
     "text": [
      "Loaded pretrained model tiny-stories-2L-33M into HookedTransformer\n",
      "Starting spacy processing of dataset...\n"
     ]
    },
    {
     "name": "stderr",
     "output_type": "stream",
     "text": [
      "2023-11-29 22:42:05.631 python[13133:4270147] Error creating directory \n",
      " The volume ‚ÄúMacintosh HD‚Äù is out of space. You can‚Äôt save the file ‚Äúmpsgraph-13133-2023-11-29_22_42_05-4154865459‚Äù because the volume ‚ÄúMacintosh HD‚Äù is out of space.\n",
      "2023-11-29 22:42:05.820 python[13133:4270147] Error creating directory \n",
      " The volume ‚ÄúMacintosh HD‚Äù is out of space. You can‚Äôt save the file ‚Äúmpsgraph-13133-2023-11-29_22_42_05-2951695199‚Äù because the volume ‚ÄúMacintosh HD‚Äù is out of space.\n",
      "2023-11-29 22:42:05.987 python[13133:4270147] Error creating directory \n",
      " The volume ‚ÄúMacintosh HD‚Äù is out of space. You can‚Äôt save the file ‚Äúmpsgraph-13133-2023-11-29_22_42_05-1323548995‚Äù because the volume ‚ÄúMacintosh HD‚Äù is out of space.\n",
      "2023-11-29 22:42:06.092 python[13133:4270147] Error creating directory \n",
      " The volume ‚ÄúMacintosh HD‚Äù is out of space. You can‚Äôt save the file ‚Äúmpsgraph-13133-2023-11-29_22_42_06-3381723523‚Äù because the volume ‚ÄúMacintosh HD‚Äù is out of space.\n",
      "2023-11-29 22:42:06.199 python[13133:4270147] Error creating directory \n",
      " The volume ‚ÄúMacintosh HD‚Äù is out of space. You can‚Äôt save the file ‚Äúmpsgraph-13133-2023-11-29_22_42_06-1436202315‚Äù because the volume ‚ÄúMacintosh HD‚Äù is out of space.\n",
      "2023-11-29 22:42:06.298 python[13133:4270147] Error creating directory \n",
      " The volume ‚ÄúMacintosh HD‚Äù is out of space. You can‚Äôt save the file ‚Äúmpsgraph-13133-2023-11-29_22_42_06-2452809565‚Äù because the volume ‚ÄúMacintosh HD‚Äù is out of space.\n",
      "2023-11-29 22:42:06.350 python[13133:4270147] Error creating directory \n",
      " The volume ‚ÄúMacintosh HD‚Äù is out of space. You can‚Äôt save the file ‚Äúmpsgraph-13133-2023-11-29_22_42_06-3922606415‚Äù because the volume ‚ÄúMacintosh HD‚Äù is out of space.\n",
      "2023-11-29 22:42:06.481 python[13133:4270147] Error creating directory \n",
      " The volume ‚ÄúMacintosh HD‚Äù is out of space. You can‚Äôt save the file ‚Äúmpsgraph-13133-2023-11-29_22_42_06-1545378912‚Äù because the volume ‚ÄúMacintosh HD‚Äù is out of space.\n",
      "2023-11-29 22:42:06.638 python[13133:4270147] Error creating directory \n",
      " The volume ‚ÄúMacintosh HD‚Äù is out of space. You can‚Äôt save the file ‚Äúmpsgraph-13133-2023-11-29_22_42_06-4086270276‚Äù because the volume ‚ÄúMacintosh HD‚Äù is out of space.\n",
      "2023-11-29 22:42:06.717 python[13133:4270147] Error creating directory \n",
      " The volume ‚ÄúMacintosh HD‚Äù is out of space. You can‚Äôt save the file ‚Äúmpsgraph-13133-2023-11-29_22_42_06-1252850372‚Äù because the volume ‚ÄúMacintosh HD‚Äù is out of space.\n",
      "2023-11-29 22:42:06.814 python[13133:4270147] Error creating directory \n",
      " The volume ‚ÄúMacintosh HD‚Äù is out of space. You can‚Äôt save the file ‚Äúmpsgraph-13133-2023-11-29_22_42_06-823805015‚Äù because the volume ‚ÄúMacintosh HD‚Äù is out of space.\n",
      "2023-11-29 22:42:06.958 python[13133:4270147] Error creating directory \n",
      " The volume ‚ÄúMacintosh HD‚Äù is out of space. You can‚Äôt save the file ‚Äúmpsgraph-13133-2023-11-29_22_42_06-2873140983‚Äù because the volume ‚ÄúMacintosh HD‚Äù is out of space.\n",
      "2023-11-29 22:42:07.550 python[13133:4270147] Error creating directory \n",
      " The volume ‚ÄúMacintosh HD‚Äù is out of space. You can‚Äôt save the file ‚Äúmpsgraph-13133-2023-11-29_22_42_07-1067806745‚Äù because the volume ‚ÄúMacintosh HD‚Äù is out of space.\n",
      "2023-11-29 22:42:07.698 python[13133:4270147] Error creating directory \n",
      " The volume ‚ÄúMacintosh HD‚Äù is out of space. You can‚Äôt save the file ‚Äúmpsgraph-13133-2023-11-29_22_42_07-3044893320‚Äù because the volume ‚ÄúMacintosh HD‚Äù is out of space.\n",
      "2023-11-29 22:42:07.869 python[13133:4270147] Error creating directory \n",
      " The volume ‚ÄúMacintosh HD‚Äù is out of space. You can‚Äôt save the file ‚Äúmpsgraph-13133-2023-11-29_22_42_07-947520502‚Äù because the volume ‚ÄúMacintosh HD‚Äù is out of space.\n",
      "2023-11-29 22:42:07.987 python[13133:4270147] Error creating directory \n",
      " The volume ‚ÄúMacintosh HD‚Äù is out of space. You can‚Äôt save the file ‚Äúmpsgraph-13133-2023-11-29_22_42_07-584062588‚Äù because the volume ‚ÄúMacintosh HD‚Äù is out of space.\n",
      "2023-11-29 22:42:08.125 python[13133:4270147] Error creating directory \n",
      " The volume ‚ÄúMacintosh HD‚Äù is out of space. You can‚Äôt save the file ‚Äúmpsgraph-13133-2023-11-29_22_42_08-200161443‚Äù because the volume ‚ÄúMacintosh HD‚Äù is out of space.\n",
      "2023-11-29 22:42:08.269 python[13133:4270147] Error creating directory \n",
      " The volume ‚ÄúMacintosh HD‚Äù is out of space. You can‚Äôt save the file ‚Äúmpsgraph-13133-2023-11-29_22_42_08-729672687‚Äù because the volume ‚ÄúMacintosh HD‚Äù is out of space.\n",
      "2023-11-29 22:42:08.409 python[13133:4270147] Error creating directory \n",
      " The volume ‚ÄúMacintosh HD‚Äù is out of space. You can‚Äôt save the file ‚Äúmpsgraph-13133-2023-11-29_22_42_08-592158003‚Äù because the volume ‚ÄúMacintosh HD‚Äù is out of space.\n",
      "2023-11-29 22:42:08.639 python[13133:4270147] Error creating directory \n",
      " The volume ‚ÄúMacintosh HD‚Äù is out of space. You can‚Äôt save the file ‚Äúmpsgraph-13133-2023-11-29_22_42_08-1641024760‚Äù because the volume ‚ÄúMacintosh HD‚Äù is out of space.\n"
     ]
    },
    {
     "name": "stdout",
     "output_type": "stream",
     "text": [
      "Finished spacy processing of dataset.\n",
      "1701258138.568937 0\n"
     ]
    }
   ],
   "source": [
    "haystack_utils.clean_cache()\n",
    "os.environ[\"PYTORCH_MPS_HIGH_WATERMARK_RATIO\"] = \"0.2\"\n",
    "\n",
    "model_name = \"tiny-stories-2L-33M\"\n",
    "print_name = \"TinyStories 2L 33M\"\n",
    "\n",
    "model = HookedTransformer.from_pretrained(\n",
    "    model_name,\n",
    "    center_unembed=True,\n",
    "    center_writing_weights=True,\n",
    "    fold_ln=True,\n",
    "    device=device,\n",
    ")\n",
    "\n",
    "prompts = load_tinystories_validation_prompts(data_path='data/tinystories')[:40]\n",
    "tokens = model.to_tokens(prompts)\n",
    "df = make_spacy_feature_df(model, tokens)"
   ]
  },
  {
   "cell_type": "code",
   "execution_count": 9,
   "metadata": {},
   "outputs": [
    {
     "ename": "FileNotFoundError",
     "evalue": "[Errno 2] No such file or directory: '/workspace/tiny-stories-2L-33M/18_morning_sun.json'",
     "output_type": "error",
     "traceback": [
      "\u001b[0;31m---------------------------------------------------------------------------\u001b[0m",
      "\u001b[0;31mFileNotFoundError\u001b[0m                         Traceback (most recent call last)",
      "\u001b[1;32m/Users/luciaquirke/code/superposition/sparse_coding/spacy_investigate.ipynb Cell 4\u001b[0m line \u001b[0;36m3\n\u001b[1;32m      <a href='vscode-notebook-cell:/Users/luciaquirke/code/superposition/sparse_coding/spacy_investigate.ipynb#W2sZmlsZQ%3D%3D?line=0'>1</a>\u001b[0m \u001b[39m# look for encoder features that go on particular spacy attributes\u001b[39;00m\n\u001b[1;32m      <a href='vscode-notebook-cell:/Users/luciaquirke/code/superposition/sparse_coding/spacy_investigate.ipynb#W2sZmlsZQ%3D%3D?line=1'>2</a>\u001b[0m save_name \u001b[39m=\u001b[39m \u001b[39m'\u001b[39m\u001b[39m18_morning_sun\u001b[39m\u001b[39m'\u001b[39m\n\u001b[0;32m----> <a href='vscode-notebook-cell:/Users/luciaquirke/code/superposition/sparse_coding/spacy_investigate.ipynb#W2sZmlsZQ%3D%3D?line=2'>3</a>\u001b[0m encoder, cfg \u001b[39m=\u001b[39m load_encoder(save_name, model_name, model, save_path\u001b[39m=\u001b[39;49m\u001b[39m'\u001b[39;49m\u001b[39m/workspace\u001b[39;49m\u001b[39m'\u001b[39;49m)\n\u001b[1;32m      <a href='vscode-notebook-cell:/Users/luciaquirke/code/superposition/sparse_coding/spacy_investigate.ipynb#W2sZmlsZQ%3D%3D?line=3'>4</a>\u001b[0m acts \u001b[39m=\u001b[39m get_activations(encoder, cfg, save_name, prompts, model)\n\u001b[1;32m      <a href='vscode-notebook-cell:/Users/luciaquirke/code/superposition/sparse_coding/spacy_investigate.ipynb#W2sZmlsZQ%3D%3D?line=6'>7</a>\u001b[0m \u001b[39mfrom\u001b[39;00m \u001b[39msklearn\u001b[39;00m\u001b[39m.\u001b[39;00m\u001b[39mmetrics\u001b[39;00m \u001b[39mimport\u001b[39;00m f1_score\n",
      "File \u001b[0;32m~/code/superposition/sparse_coding/../utils/autoencoder_utils.py:204\u001b[0m, in \u001b[0;36mload_encoder\u001b[0;34m(save_name, model_name, model, save_path)\u001b[0m\n\u001b[1;32m    202\u001b[0m \u001b[39mdef\u001b[39;00m \u001b[39mload_encoder\u001b[39m(save_name, model_name, model: HookedTransformer, save_path\u001b[39m=\u001b[39m\u001b[39m\"\u001b[39m\u001b[39m.\u001b[39m\u001b[39m\"\u001b[39m):\n\u001b[1;32m    203\u001b[0m     path \u001b[39m=\u001b[39m \u001b[39mf\u001b[39m\u001b[39m\"\u001b[39m\u001b[39m{\u001b[39;00msave_path\u001b[39m}\u001b[39;00m\u001b[39m/\u001b[39m\u001b[39m{\u001b[39;00mmodel_name\u001b[39m}\u001b[39;00m\u001b[39m/\u001b[39m\u001b[39m{\u001b[39;00msave_name\u001b[39m}\u001b[39;00m\u001b[39m\"\u001b[39m\n\u001b[0;32m--> 204\u001b[0m     \u001b[39mwith\u001b[39;00m \u001b[39mopen\u001b[39;49m(\u001b[39mf\u001b[39;49m\u001b[39m\"\u001b[39;49m\u001b[39m{\u001b[39;49;00mpath\u001b[39m}\u001b[39;49;00m\u001b[39m.json\u001b[39;49m\u001b[39m\"\u001b[39;49m, \u001b[39m\"\u001b[39;49m\u001b[39mr\u001b[39;49m\u001b[39m\"\u001b[39;49m) \u001b[39mas\u001b[39;00m f:\n\u001b[1;32m    205\u001b[0m         cfg \u001b[39m=\u001b[39m json\u001b[39m.\u001b[39mload(f)\n\u001b[1;32m    207\u001b[0m     \u001b[39mif\u001b[39;00m \u001b[39m\"\u001b[39m\u001b[39md_in\u001b[39m\u001b[39m\"\u001b[39m \u001b[39min\u001b[39;00m cfg:\n",
      "\u001b[0;31mFileNotFoundError\u001b[0m: [Errno 2] No such file or directory: '/workspace/tiny-stories-2L-33M/18_morning_sun.json'"
     ]
    }
   ],
   "source": [
    "# look for encoder features that go on particular spacy attributes\n",
    "save_name = '18_morning_sun'\n",
    "encoder, cfg = load_encoder(save_name, model_name, model, save_path='/workspace')\n",
    "acts = get_activations(encoder, cfg, save_name, prompts, model)\n",
    "\n",
    "\n",
    "from sklearn.metrics import f1_score\n",
    "\n",
    "threshold = 0.3\n",
    "f1_scores = {}\n",
    "\n",
    "spacy_columns = [\"attr1\"]\n",
    "for column in spacy_columns:\n",
    "    # Binarize neuron activations\n",
    "    neuron_binarized = df[acts] > threshold\n",
    "    score = f1_score(df[column], neuron_binarized)\n",
    "    f1_scores[column] = score\n",
    "    print(score)\n"
   ]
  }
 ],
 "metadata": {
  "kernelspec": {
   "display_name": "Python 3",
   "language": "python",
   "name": "python3"
  },
  "language_info": {
   "codemirror_mode": {
    "name": "ipython",
    "version": 3
   },
   "file_extension": ".py",
   "mimetype": "text/x-python",
   "name": "python",
   "nbconvert_exporter": "python",
   "pygments_lexer": "ipython3",
   "version": "3.10.13"
  }
 },
 "nbformat": 4,
 "nbformat_minor": 2
}
